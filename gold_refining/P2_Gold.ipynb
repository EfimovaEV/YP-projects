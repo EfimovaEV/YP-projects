{
 "cells": [
  {
   "cell_type": "markdown",
   "metadata": {},
   "source": [
    "# Исследование технологического процесса очистки золота"
   ]
  },
  {
   "cell_type": "markdown",
   "metadata": {},
   "source": [
    "Модель должна предсказать коэффициент восстановления золота из золотосодержащей руды на основе данных с параметрами добычи и очистки. \n",
    "\n",
    "Модель поможет оптимизировать производство, чтобы не запускать предприятие с убыточными характеристиками.\n",
    "\n",
    "Необходимо:\n",
    "\n",
    "1. Подготовить данные;\n",
    "2. Провести исследовательский анализ данных;\n",
    "3. Построить и обучить модель."
   ]
  },
  {
   "cell_type": "markdown",
   "metadata": {
    "toc": true
   },
   "source": [
    "<h1>Содержание<span class=\"tocSkip\"></span></h1>\n",
    "<div class=\"toc\"><ul class=\"toc-item\"><li><span><a href=\"#Подготовка-данных\" data-toc-modified-id=\"Подготовка-данных-1\"><span class=\"toc-item-num\">1&nbsp;&nbsp;</span>Подготовка данных</a></span><ul class=\"toc-item\"><li><span><a href=\"#Общая-информация\" data-toc-modified-id=\"Общая-информация-1.1\"><span class=\"toc-item-num\">1.1&nbsp;&nbsp;</span>Общая информация</a></span></li><li><span><a href=\"#Проверка-расчета-параметра-Recovery\" data-toc-modified-id=\"Проверка-расчета-параметра-Recovery-1.2\"><span class=\"toc-item-num\">1.2&nbsp;&nbsp;</span>Проверка расчета параметра Recovery</a></span></li><li><span><a href=\"#Анализ-признаков\" data-toc-modified-id=\"Анализ-признаков-1.3\"><span class=\"toc-item-num\">1.3&nbsp;&nbsp;</span>Анализ признаков</a></span></li><li><span><a href=\"#Предобработка-данных\" data-toc-modified-id=\"Предобработка-данных-1.4\"><span class=\"toc-item-num\">1.4&nbsp;&nbsp;</span>Предобработка данных</a></span></li><li><span><a href=\"#Вывод\" data-toc-modified-id=\"Вывод-1.5\"><span class=\"toc-item-num\">1.5&nbsp;&nbsp;</span>Вывод</a></span></li></ul></li><li><span><a href=\"#Анализ-данных\" data-toc-modified-id=\"Анализ-данных-2\"><span class=\"toc-item-num\">2&nbsp;&nbsp;</span>Анализ данных</a></span><ul class=\"toc-item\"><li><span><a href=\"#Исследование-концентраций-металлов\" data-toc-modified-id=\"Исследование-концентраций-металлов-2.1\"><span class=\"toc-item-num\">2.1&nbsp;&nbsp;</span>Исследование концентраций металлов</a></span></li><li><span><a href=\"#Исследование-гранул-сырья\" data-toc-modified-id=\"Исследование-гранул-сырья-2.2\"><span class=\"toc-item-num\">2.2&nbsp;&nbsp;</span>Исследование гранул сырья</a></span></li><li><span><a href=\"#Исследование-суммарной-концентрации-металлов\" data-toc-modified-id=\"Исследование-суммарной-концентрации-металлов-2.3\"><span class=\"toc-item-num\">2.3&nbsp;&nbsp;</span>Исследование суммарной концентрации металлов</a></span></li></ul></li><li><span><a href=\"#Модель\" data-toc-modified-id=\"Модель-3\"><span class=\"toc-item-num\">3&nbsp;&nbsp;</span>Модель</a></span><ul class=\"toc-item\"><li><span><a href=\"#Напишите-функцию-для-вычисления-итоговой-sMAPE.\" data-toc-modified-id=\"Напишите-функцию-для-вычисления-итоговой-sMAPE.-3.1\"><span class=\"toc-item-num\">3.1&nbsp;&nbsp;</span>Напишите функцию для вычисления итоговой sMAPE.</a></span></li><li><span><a href=\"#Подготовка-признаков\" data-toc-modified-id=\"Подготовка-признаков-3.2\"><span class=\"toc-item-num\">3.2&nbsp;&nbsp;</span>Подготовка признаков</a></span></li><li><span><a href=\"#Обучение-моделей\" data-toc-modified-id=\"Обучение-моделей-3.3\"><span class=\"toc-item-num\">3.3&nbsp;&nbsp;</span>Обучение моделей</a></span><ul class=\"toc-item\"><li><span><a href=\"#Определение-Recovery-для-чернового-концентрата\" data-toc-modified-id=\"Определение-Recovery-для-чернового-концентрата-3.3.1\"><span class=\"toc-item-num\">3.3.1&nbsp;&nbsp;</span>Определение Recovery для чернового концентрата</a></span></li><li><span><a href=\"#Определение-Recovery-для-финального-концентрата\" data-toc-modified-id=\"Определение-Recovery-для-финального-концентрата-3.3.2\"><span class=\"toc-item-num\">3.3.2&nbsp;&nbsp;</span>Определение Recovery для финального концентрата</a></span></li></ul></li><li><span><a href=\"#Тестирование-моделей\" data-toc-modified-id=\"Тестирование-моделей-3.4\"><span class=\"toc-item-num\">3.4&nbsp;&nbsp;</span>Тестирование моделей</a></span></li><li><span><a href=\"#Проверка-на-адекватность\" data-toc-modified-id=\"Проверка-на-адекватность-3.5\"><span class=\"toc-item-num\">3.5&nbsp;&nbsp;</span>Проверка на адекватность</a></span></li></ul></li><li><span><a href=\"#Выводы\" data-toc-modified-id=\"Выводы-4\"><span class=\"toc-item-num\">4&nbsp;&nbsp;</span>Выводы</a></span></li></ul></div>"
   ]
  },
  {
   "cell_type": "markdown",
   "metadata": {},
   "source": [
    "## Подготовка данных"
   ]
  },
  {
   "cell_type": "code",
   "execution_count": 1,
   "metadata": {},
   "outputs": [],
   "source": [
    "#импорт необходимых библиотек\n",
    "import pandas as pd\n",
    "import matplotlib.pyplot as plt\n",
    "import random\n",
    "import numpy as np\n",
    "import seaborn as sns\n",
    "\n",
    "\n",
    "from sklearn.model_selection import cross_val_score \n",
    "from sklearn.utils import shuffle\n",
    "\n",
    "from sklearn.tree import DecisionTreeRegressor\n",
    "from sklearn.ensemble import RandomForestRegressor\n",
    "from sklearn.linear_model import LinearRegression\n",
    "\n",
    "from sklearn.model_selection import GridSearchCV\n",
    "from sklearn.model_selection import RandomizedSearchCV\n",
    "\n",
    "from sklearn.metrics import mean_absolute_error, mean_absolute_percentage_error, make_scorer\n",
    "\n",
    "# output formatting\n",
    "pd.set_option('display.max_rows', 100)"
   ]
  },
  {
   "cell_type": "markdown",
   "metadata": {},
   "source": [
    "### Общая информация"
   ]
  },
  {
   "cell_type": "code",
   "execution_count": 2,
   "metadata": {},
   "outputs": [],
   "source": [
    "data_train = pd.read_csv('datasets/gold_recovery_train_new.csv')\n",
    "data_test = pd.read_csv('datasets/gold_recovery_test_new.csv')\n",
    "data_full = pd.read_csv('datasets/gold_recovery_full_new.csv')"
   ]
  },
  {
   "cell_type": "code",
   "execution_count": 3,
   "metadata": {
    "scrolled": true
   },
   "outputs": [
    {
     "name": "stdout",
     "output_type": "stream",
     "text": [
      "<class 'pandas.core.frame.DataFrame'>\n",
      "RangeIndex: 5290 entries, 0 to 5289\n",
      "Data columns (total 53 columns):\n",
      " #   Column                                      Non-Null Count  Dtype  \n",
      "---  ------                                      --------------  -----  \n",
      " 0   date                                        5290 non-null   object \n",
      " 1   primary_cleaner.input.sulfate               5286 non-null   float64\n",
      " 2   primary_cleaner.input.depressant            5285 non-null   float64\n",
      " 3   primary_cleaner.input.feed_size             5290 non-null   float64\n",
      " 4   primary_cleaner.input.xanthate              5286 non-null   float64\n",
      " 5   primary_cleaner.state.floatbank8_a_air      5290 non-null   float64\n",
      " 6   primary_cleaner.state.floatbank8_a_level    5290 non-null   float64\n",
      " 7   primary_cleaner.state.floatbank8_b_air      5290 non-null   float64\n",
      " 8   primary_cleaner.state.floatbank8_b_level    5290 non-null   float64\n",
      " 9   primary_cleaner.state.floatbank8_c_air      5290 non-null   float64\n",
      " 10  primary_cleaner.state.floatbank8_c_level    5290 non-null   float64\n",
      " 11  primary_cleaner.state.floatbank8_d_air      5290 non-null   float64\n",
      " 12  primary_cleaner.state.floatbank8_d_level    5290 non-null   float64\n",
      " 13  rougher.input.feed_ag                       5290 non-null   float64\n",
      " 14  rougher.input.feed_pb                       5290 non-null   float64\n",
      " 15  rougher.input.feed_rate                     5287 non-null   float64\n",
      " 16  rougher.input.feed_size                     5289 non-null   float64\n",
      " 17  rougher.input.feed_sol                      5269 non-null   float64\n",
      " 18  rougher.input.feed_au                       5290 non-null   float64\n",
      " 19  rougher.input.floatbank10_sulfate           5285 non-null   float64\n",
      " 20  rougher.input.floatbank10_xanthate          5290 non-null   float64\n",
      " 21  rougher.input.floatbank11_sulfate           5282 non-null   float64\n",
      " 22  rougher.input.floatbank11_xanthate          5265 non-null   float64\n",
      " 23  rougher.state.floatbank10_a_air             5290 non-null   float64\n",
      " 24  rougher.state.floatbank10_a_level           5290 non-null   float64\n",
      " 25  rougher.state.floatbank10_b_air             5290 non-null   float64\n",
      " 26  rougher.state.floatbank10_b_level           5290 non-null   float64\n",
      " 27  rougher.state.floatbank10_c_air             5290 non-null   float64\n",
      " 28  rougher.state.floatbank10_c_level           5290 non-null   float64\n",
      " 29  rougher.state.floatbank10_d_air             5290 non-null   float64\n",
      " 30  rougher.state.floatbank10_d_level           5290 non-null   float64\n",
      " 31  rougher.state.floatbank10_e_air             5290 non-null   float64\n",
      " 32  rougher.state.floatbank10_e_level           5290 non-null   float64\n",
      " 33  rougher.state.floatbank10_f_air             5290 non-null   float64\n",
      " 34  rougher.state.floatbank10_f_level           5290 non-null   float64\n",
      " 35  secondary_cleaner.state.floatbank2_a_air    5287 non-null   float64\n",
      " 36  secondary_cleaner.state.floatbank2_a_level  5290 non-null   float64\n",
      " 37  secondary_cleaner.state.floatbank2_b_air    5288 non-null   float64\n",
      " 38  secondary_cleaner.state.floatbank2_b_level  5290 non-null   float64\n",
      " 39  secondary_cleaner.state.floatbank3_a_air    5281 non-null   float64\n",
      " 40  secondary_cleaner.state.floatbank3_a_level  5290 non-null   float64\n",
      " 41  secondary_cleaner.state.floatbank3_b_air    5290 non-null   float64\n",
      " 42  secondary_cleaner.state.floatbank3_b_level  5290 non-null   float64\n",
      " 43  secondary_cleaner.state.floatbank4_a_air    5290 non-null   float64\n",
      " 44  secondary_cleaner.state.floatbank4_a_level  5290 non-null   float64\n",
      " 45  secondary_cleaner.state.floatbank4_b_air    5290 non-null   float64\n",
      " 46  secondary_cleaner.state.floatbank4_b_level  5290 non-null   float64\n",
      " 47  secondary_cleaner.state.floatbank5_a_air    5290 non-null   float64\n",
      " 48  secondary_cleaner.state.floatbank5_a_level  5290 non-null   float64\n",
      " 49  secondary_cleaner.state.floatbank5_b_air    5290 non-null   float64\n",
      " 50  secondary_cleaner.state.floatbank5_b_level  5290 non-null   float64\n",
      " 51  secondary_cleaner.state.floatbank6_a_air    5290 non-null   float64\n",
      " 52  secondary_cleaner.state.floatbank6_a_level  5290 non-null   float64\n",
      "dtypes: float64(52), object(1)\n",
      "memory usage: 2.1+ MB\n"
     ]
    }
   ],
   "source": [
    "data_test.info()"
   ]
  },
  {
   "cell_type": "code",
   "execution_count": 4,
   "metadata": {
    "scrolled": true
   },
   "outputs": [
    {
     "name": "stdout",
     "output_type": "stream",
     "text": [
      "<class 'pandas.core.frame.DataFrame'>\n",
      "RangeIndex: 14149 entries, 0 to 14148\n",
      "Data columns (total 87 columns):\n",
      " #   Column                                              Non-Null Count  Dtype  \n",
      "---  ------                                              --------------  -----  \n",
      " 0   date                                                14149 non-null  object \n",
      " 1   final.output.concentrate_ag                         14148 non-null  float64\n",
      " 2   final.output.concentrate_pb                         14148 non-null  float64\n",
      " 3   final.output.concentrate_sol                        13938 non-null  float64\n",
      " 4   final.output.concentrate_au                         14149 non-null  float64\n",
      " 5   final.output.recovery                               14149 non-null  float64\n",
      " 6   final.output.tail_ag                                14149 non-null  float64\n",
      " 7   final.output.tail_pb                                14049 non-null  float64\n",
      " 8   final.output.tail_sol                               14144 non-null  float64\n",
      " 9   final.output.tail_au                                14149 non-null  float64\n",
      " 10  primary_cleaner.input.sulfate                       14129 non-null  float64\n",
      " 11  primary_cleaner.input.depressant                    14117 non-null  float64\n",
      " 12  primary_cleaner.input.feed_size                     14149 non-null  float64\n",
      " 13  primary_cleaner.input.xanthate                      14049 non-null  float64\n",
      " 14  primary_cleaner.output.concentrate_ag               14149 non-null  float64\n",
      " 15  primary_cleaner.output.concentrate_pb               14063 non-null  float64\n",
      " 16  primary_cleaner.output.concentrate_sol              13863 non-null  float64\n",
      " 17  primary_cleaner.output.concentrate_au               14149 non-null  float64\n",
      " 18  primary_cleaner.output.tail_ag                      14148 non-null  float64\n",
      " 19  primary_cleaner.output.tail_pb                      14134 non-null  float64\n",
      " 20  primary_cleaner.output.tail_sol                     14103 non-null  float64\n",
      " 21  primary_cleaner.output.tail_au                      14149 non-null  float64\n",
      " 22  primary_cleaner.state.floatbank8_a_air              14145 non-null  float64\n",
      " 23  primary_cleaner.state.floatbank8_a_level            14148 non-null  float64\n",
      " 24  primary_cleaner.state.floatbank8_b_air              14145 non-null  float64\n",
      " 25  primary_cleaner.state.floatbank8_b_level            14148 non-null  float64\n",
      " 26  primary_cleaner.state.floatbank8_c_air              14147 non-null  float64\n",
      " 27  primary_cleaner.state.floatbank8_c_level            14148 non-null  float64\n",
      " 28  primary_cleaner.state.floatbank8_d_air              14146 non-null  float64\n",
      " 29  primary_cleaner.state.floatbank8_d_level            14148 non-null  float64\n",
      " 30  rougher.calculation.sulfate_to_au_concentrate       14148 non-null  float64\n",
      " 31  rougher.calculation.floatbank10_sulfate_to_au_feed  14148 non-null  float64\n",
      " 32  rougher.calculation.floatbank11_sulfate_to_au_feed  14148 non-null  float64\n",
      " 33  rougher.calculation.au_pb_ratio                     14149 non-null  float64\n",
      " 34  rougher.input.feed_ag                               14149 non-null  float64\n",
      " 35  rougher.input.feed_pb                               14049 non-null  float64\n",
      " 36  rougher.input.feed_rate                             14141 non-null  float64\n",
      " 37  rougher.input.feed_size                             14005 non-null  float64\n",
      " 38  rougher.input.feed_sol                              14071 non-null  float64\n",
      " 39  rougher.input.feed_au                               14149 non-null  float64\n",
      " 40  rougher.input.floatbank10_sulfate                   14120 non-null  float64\n",
      " 41  rougher.input.floatbank10_xanthate                  14141 non-null  float64\n",
      " 42  rougher.input.floatbank11_sulfate                   14113 non-null  float64\n",
      " 43  rougher.input.floatbank11_xanthate                  13721 non-null  float64\n",
      " 44  rougher.output.concentrate_ag                       14149 non-null  float64\n",
      " 45  rougher.output.concentrate_pb                       14149 non-null  float64\n",
      " 46  rougher.output.concentrate_sol                      14127 non-null  float64\n",
      " 47  rougher.output.concentrate_au                       14149 non-null  float64\n",
      " 48  rougher.output.recovery                             14149 non-null  float64\n",
      " 49  rougher.output.tail_ag                              14148 non-null  float64\n",
      " 50  rougher.output.tail_pb                              14149 non-null  float64\n",
      " 51  rougher.output.tail_sol                             14149 non-null  float64\n",
      " 52  rougher.output.tail_au                              14149 non-null  float64\n",
      " 53  rougher.state.floatbank10_a_air                     14148 non-null  float64\n",
      " 54  rougher.state.floatbank10_a_level                   14148 non-null  float64\n",
      " 55  rougher.state.floatbank10_b_air                     14148 non-null  float64\n",
      " 56  rougher.state.floatbank10_b_level                   14148 non-null  float64\n",
      " 57  rougher.state.floatbank10_c_air                     14148 non-null  float64\n",
      " 58  rougher.state.floatbank10_c_level                   14148 non-null  float64\n",
      " 59  rougher.state.floatbank10_d_air                     14149 non-null  float64\n",
      " 60  rougher.state.floatbank10_d_level                   14149 non-null  float64\n",
      " 61  rougher.state.floatbank10_e_air                     13713 non-null  float64\n",
      " 62  rougher.state.floatbank10_e_level                   14149 non-null  float64\n",
      " 63  rougher.state.floatbank10_f_air                     14149 non-null  float64\n",
      " 64  rougher.state.floatbank10_f_level                   14149 non-null  float64\n",
      " 65  secondary_cleaner.output.tail_ag                    14147 non-null  float64\n",
      " 66  secondary_cleaner.output.tail_pb                    14139 non-null  float64\n",
      " 67  secondary_cleaner.output.tail_sol                   12544 non-null  float64\n",
      " 68  secondary_cleaner.output.tail_au                    14149 non-null  float64\n",
      " 69  secondary_cleaner.state.floatbank2_a_air            13932 non-null  float64\n",
      " 70  secondary_cleaner.state.floatbank2_a_level          14148 non-null  float64\n",
      " 71  secondary_cleaner.state.floatbank2_b_air            14128 non-null  float64\n",
      " 72  secondary_cleaner.state.floatbank2_b_level          14148 non-null  float64\n",
      " 73  secondary_cleaner.state.floatbank3_a_air            14145 non-null  float64\n",
      " 74  secondary_cleaner.state.floatbank3_a_level          14148 non-null  float64\n",
      " 75  secondary_cleaner.state.floatbank3_b_air            14148 non-null  float64\n",
      " 76  secondary_cleaner.state.floatbank3_b_level          14148 non-null  float64\n",
      " 77  secondary_cleaner.state.floatbank4_a_air            14143 non-null  float64\n",
      " 78  secondary_cleaner.state.floatbank4_a_level          14148 non-null  float64\n",
      " 79  secondary_cleaner.state.floatbank4_b_air            14148 non-null  float64\n",
      " 80  secondary_cleaner.state.floatbank4_b_level          14148 non-null  float64\n",
      " 81  secondary_cleaner.state.floatbank5_a_air            14148 non-null  float64\n",
      " 82  secondary_cleaner.state.floatbank5_a_level          14148 non-null  float64\n",
      " 83  secondary_cleaner.state.floatbank5_b_air            14148 non-null  float64\n",
      " 84  secondary_cleaner.state.floatbank5_b_level          14148 non-null  float64\n",
      " 85  secondary_cleaner.state.floatbank6_a_air            14147 non-null  float64\n",
      " 86  secondary_cleaner.state.floatbank6_a_level          14148 non-null  float64\n",
      "dtypes: float64(86), object(1)\n",
      "memory usage: 9.4+ MB\n"
     ]
    }
   ],
   "source": [
    "data_train.info()"
   ]
  },
  {
   "cell_type": "markdown",
   "metadata": {},
   "source": [
    "Убедимся, что все данные были взяты из исходного датасета без потерь. Во-первых, проверим, что при объединении выборок получится столько ж строк, сколько в исходном датасете:"
   ]
  },
  {
   "cell_type": "code",
   "execution_count": 5,
   "metadata": {},
   "outputs": [
    {
     "name": "stdout",
     "output_type": "stream",
     "text": [
      "Строк в обучающей выборке: 14149\n",
      "Строк в тестовой выборке 5290\n",
      "Строк в исходных данных: 19439\n",
      "Количество строк совпадает.\n"
     ]
    }
   ],
   "source": [
    "print('Строк в обучающей выборке:', len(data_train))\n",
    "print('Строк в тестовой выборке', len(data_test))\n",
    "print('Строк в исходных данных:', len(data_full))\n",
    "if len(data_train) + len(data_test) == len(data_full):\n",
    "    print('Количество строк совпадает.')\n",
    "else:\n",
    "    print('Количество строк не совпадает.')"
   ]
  },
  {
   "cell_type": "markdown",
   "metadata": {},
   "source": [
    "Чтобы проверить данные на совпадение, выделим из исходных данных строки из выборок по дате, затем посчитаем разность для всех значений и найдем наибольшее из полученных значений. Если результат близок к 0, то можно считать, что данные совпадают."
   ]
  },
  {
   "cell_type": "code",
   "execution_count": 6,
   "metadata": {},
   "outputs": [
    {
     "data": {
      "text/plain": [
       "0.0"
      ]
     },
     "execution_count": 6,
     "metadata": {},
     "output_type": "execute_result"
    }
   ],
   "source": [
    "sliced = data_full.loc[data_full['date'].isin(data_train['date']), data_train.columns].reset_index(drop=True)\n",
    "\n",
    "round(max([(sliced[col]- data_train[col]).max() for col in data_train.columns[1:]]), 4)"
   ]
  },
  {
   "cell_type": "code",
   "execution_count": 7,
   "metadata": {
    "scrolled": true
   },
   "outputs": [
    {
     "data": {
      "text/plain": [
       "0.0"
      ]
     },
     "execution_count": 7,
     "metadata": {},
     "output_type": "execute_result"
    }
   ],
   "source": [
    "sliced = data_full.loc[data_full['date'].isin(data_test['date']), data_test.columns].reset_index(drop=True)\n",
    "\n",
    "max([(sliced[col]- data_test[col]).max() for col in data_test.columns[1:]])"
   ]
  },
  {
   "cell_type": "markdown",
   "metadata": {},
   "source": [
    "Пропуски в данных игнорируются при расчетах. Проверим, что они совпадают:"
   ]
  },
  {
   "cell_type": "code",
   "execution_count": 8,
   "metadata": {},
   "outputs": [
    {
     "data": {
      "text/plain": [
       "'Совпадают'"
      ]
     },
     "execution_count": 8,
     "metadata": {},
     "output_type": "execute_result"
    }
   ],
   "source": [
    "def merge_check(data, data_full):\n",
    "\n",
    "    for col in data.columns:\n",
    "    \n",
    "        if data[col].isna().sum() > 0:                  \n",
    "            index = list(data.loc[data[col].isna(), 'date'])\n",
    "            index_full = list(data_full.loc[data_full[col].isna(), 'date'])\n",
    "            if set(index).issubset(index_full) == False:\n",
    "                return 'Не совпадают'\n",
    "    \n",
    "    return 'Совпадают'\n",
    "\n",
    "merge_check(data_train, data_full)"
   ]
  },
  {
   "cell_type": "code",
   "execution_count": 9,
   "metadata": {
    "scrolled": false
   },
   "outputs": [
    {
     "data": {
      "text/plain": [
       "'Совпадают'"
      ]
     },
     "execution_count": 9,
     "metadata": {},
     "output_type": "execute_result"
    }
   ],
   "source": [
    "merge_check(data_test, data_full)"
   ]
  },
  {
   "cell_type": "markdown",
   "metadata": {},
   "source": [
    "Вывод: данные совпадают.\n",
    "\n",
    "Замечание: метод equals не подходит, так как присутствует разница из-за погрешностей округления, которую метод воспринимает как разные значения."
   ]
  },
  {
   "cell_type": "markdown",
   "metadata": {},
   "source": [
    "### Проверка расчета параметра Recovery"
   ]
  },
  {
   "cell_type": "markdown",
   "metadata": {},
   "source": [
    "Проверим, что эффективность обогащения рассчитана правильно. Вычислим её на обучающей выборке для признака rougher.output.recovery."
   ]
  },
  {
   "cell_type": "markdown",
   "metadata": {},
   "source": [
    "$$Recovery = \\dfrac{C \\times \\left(F - T\\right)}{F \\times \\left(C - T\\right)} \\times 100\\%$$\n",
    "\n",
    "где\n",
    "\n",
    "$C$ — доля золота в концентрате после флотации/очистки,\n",
    "\n",
    "$F$ — доля золота в сырье/концентрате до флотации/очистки,\n",
    "\n",
    "$T$ — доля золота в отвальных хвостах после флотации/очистки."
   ]
  },
  {
   "cell_type": "markdown",
   "metadata": {},
   "source": [
    "Для прогноза коэффициента нужно найти долю золота в концентратах и хвостах. Причём важен не только финальный продукт, но и черновой концентрат."
   ]
  },
  {
   "cell_type": "markdown",
   "metadata": {},
   "source": [
    "Этап флотации:\n",
    "\n",
    "    C - 'rougher.input.feed_au'\n",
    "    F - 'rougher.output.concentrate_au'\n",
    "    T - 'rougher.output.tail_au'\n",
    "\n",
    "    Recovery - 'rougher.output.recovery'"
   ]
  },
  {
   "cell_type": "code",
   "execution_count": 10,
   "metadata": {},
   "outputs": [
    {
     "data": {
      "text/plain": [
       "0.0"
      ]
     },
     "execution_count": 10,
     "metadata": {},
     "output_type": "execute_result"
    }
   ],
   "source": [
    "recovery_rougher = data_train['rougher.output.recovery']\n",
    "\n",
    "C = data_train['rougher.output.concentrate_au']\n",
    "F = data_train['rougher.input.feed_au']\n",
    "T = data_train['rougher.output.tail_au']\n",
    "\n",
    "recovery_rougher_calc = C * (F - T) / (F * (C - T)) * 100\n",
    "\n",
    "mean_absolute_error(recovery_rougher, recovery_rougher_calc).round(2)"
   ]
  },
  {
   "cell_type": "markdown",
   "metadata": {},
   "source": [
    "Этап очистки:\n",
    "\n",
    "    C - 'final.output.concentrate_au'\n",
    "    F - 'rougher.input.feed_au'\n",
    "    T - 'final.output.tail_au'\n",
    "\n",
    "    Recovery - 'final.output.recovery'"
   ]
  },
  {
   "cell_type": "code",
   "execution_count": 11,
   "metadata": {},
   "outputs": [
    {
     "data": {
      "text/plain": [
       "0.0"
      ]
     },
     "execution_count": 11,
     "metadata": {},
     "output_type": "execute_result"
    }
   ],
   "source": [
    "recovery_final = data_train['final.output.recovery']\n",
    "\n",
    "C = data_train['final.output.concentrate_au']\n",
    "F = data_train['rougher.input.feed_au']\n",
    "T = data_train['final.output.tail_au']\n",
    "\n",
    "recovery_final_calc = C * (F - T) / (F * (C - T)) * 100\n",
    "\n",
    "mean_absolute_error(recovery_final[recovery_final_calc>0], recovery_final_calc[recovery_final_calc>0]).round(2)"
   ]
  },
  {
   "cell_type": "markdown",
   "metadata": {},
   "source": [
    "**Вывод**\n",
    "\n",
    "Все посчитано верно."
   ]
  },
  {
   "cell_type": "markdown",
   "metadata": {},
   "source": [
    "### Анализ признаков\n",
    "Проанализируем признаки, недоступные в тестовой выборке."
   ]
  },
  {
   "cell_type": "code",
   "execution_count": 12,
   "metadata": {},
   "outputs": [
    {
     "data": {
      "text/plain": [
       "{'final.output.concentrate_ag',\n",
       " 'final.output.concentrate_au',\n",
       " 'final.output.concentrate_pb',\n",
       " 'final.output.concentrate_sol',\n",
       " 'final.output.recovery',\n",
       " 'final.output.tail_ag',\n",
       " 'final.output.tail_au',\n",
       " 'final.output.tail_pb',\n",
       " 'final.output.tail_sol',\n",
       " 'primary_cleaner.output.concentrate_ag',\n",
       " 'primary_cleaner.output.concentrate_au',\n",
       " 'primary_cleaner.output.concentrate_pb',\n",
       " 'primary_cleaner.output.concentrate_sol',\n",
       " 'primary_cleaner.output.tail_ag',\n",
       " 'primary_cleaner.output.tail_au',\n",
       " 'primary_cleaner.output.tail_pb',\n",
       " 'primary_cleaner.output.tail_sol',\n",
       " 'rougher.calculation.au_pb_ratio',\n",
       " 'rougher.calculation.floatbank10_sulfate_to_au_feed',\n",
       " 'rougher.calculation.floatbank11_sulfate_to_au_feed',\n",
       " 'rougher.calculation.sulfate_to_au_concentrate',\n",
       " 'rougher.output.concentrate_ag',\n",
       " 'rougher.output.concentrate_au',\n",
       " 'rougher.output.concentrate_pb',\n",
       " 'rougher.output.concentrate_sol',\n",
       " 'rougher.output.recovery',\n",
       " 'rougher.output.tail_ag',\n",
       " 'rougher.output.tail_au',\n",
       " 'rougher.output.tail_pb',\n",
       " 'rougher.output.tail_sol',\n",
       " 'secondary_cleaner.output.tail_ag',\n",
       " 'secondary_cleaner.output.tail_au',\n",
       " 'secondary_cleaner.output.tail_pb',\n",
       " 'secondary_cleaner.output.tail_sol'}"
      ]
     },
     "execution_count": 12,
     "metadata": {},
     "output_type": "execute_result"
    }
   ],
   "source": [
    "diff_names = set(data_train.columns) - set(data_test.columns)\n",
    "    \n",
    "diff_names"
   ]
  },
  {
   "cell_type": "markdown",
   "metadata": {},
   "source": [
    "В тестовой выборке отсутствуют данные 2 типов: \n",
    "\n",
    "- `[этап].output.[название_параметра]` — параметры продукта: концентрата и отвального хвоста после каждого этапа очистки\n",
    "- `[этап].calculation.[название_параметра]` — расчётные характеристики, получаемые после каждого этапа очистки\n",
    "\n",
    "Эти данные недоступны на момент моделирования процесса, поэтому они не могут быть использованы для предсказания долей золота в концентратах и хвостах."
   ]
  },
  {
   "cell_type": "markdown",
   "metadata": {},
   "source": [
    "### Предобработка данных"
   ]
  },
  {
   "cell_type": "markdown",
   "metadata": {},
   "source": [
    "Не все столбцы, присутсвующие в обучающих данных, могут быть использованы при обучении. В качестве признаков будут использованы только те столбцы, которые присутствуют в тестовых данных: "
   ]
  },
  {
   "cell_type": "markdown",
   "metadata": {},
   "source": [
    "**Флотация**\n",
    "\n",
    "- *Параметры сырья*\n",
    "    - `rougher.input.feed_ag`\n",
    "    - `rougher.input.feed_pb`\n",
    "    - `rougher.input.feed_rate`\n",
    "    - `rougher.input.feed_size`\n",
    "    - `rougher.input.feed_sol`\n",
    "    - `rougher.input.feed_au`\n",
    "\n",
    "\n",
    "- *Параметры флотационной установки*\n",
    "    - `rougher.input.floatbank10_sulfate`\n",
    "    - `rougher.input.floatbank10_xanthate`\n",
    "    - `rougher.input.floatbank11_sulfate`\n",
    "    - `rougher.input.floatbank11_xanthate`\n",
    "    - `rougher.state.floatbank10_a_air`\n",
    "    - `rougher.state.floatbank10_a_level`\n",
    "    - `rougher.state.floatbank10_b_air`\n",
    "    - `rougher.state.floatbank10_b_level`\n",
    "    - `rougher.state.floatbank10_c_air`\n",
    "    - `rougher.state.floatbank10_c_level`\n",
    "    - `rougher.state.floatbank10_d_air`\n",
    "    - `rougher.state.floatbank10_d_level`\n",
    "    - `rougher.state.floatbank10_e_air`\n",
    "    - `rougher.state.floatbank10_e_level`\n",
    "    - `rougher.state.floatbank10_f_air`\n",
    "    - `rougher.state.floatbank10_f_level`\n",
    "\n",
    "\n",
    "**Первый этап очистки**\n",
    "- *Параметры входного концентрата*\n",
    "    - `primary_cleaner.input.sulfate`\n",
    "    - `primary_cleaner.input.depressant`\n",
    "    - `primary_cleaner.input.feed_size`\n",
    "    - `primary_cleaner.input.xanthate`\n",
    "- *Параметры установки*\n",
    "    - `primary_cleaner.state.floatbank8_a_air`\n",
    "    - `primary_cleaner.state.floatbank8_a_level`\n",
    "    - `primary_cleaner.state.floatbank8_b_air`\n",
    "    - `primary_cleaner.state.floatbank8_b_level`\n",
    "    - `primary_cleaner.state.floatbank8_c_air`\n",
    "    - `primary_cleaner.state.floatbank8_c_level`\n",
    "    - `primary_cleaner.state.floatbank8_d_air`\n",
    "    - `primary_cleaner.state.floatbank8_d_level`\n",
    "\n",
    "\n",
    "**Второй этап очистки**\n",
    "- *Параметры установки*\n",
    "    - `secondary_cleaner.state.floatbank2_a_air`\n",
    "    - `secondary_cleaner.state.floatbank2_a_level`\n",
    "    - `secondary_cleaner.state.floatbank2_b_air`\n",
    "    - `secondary_cleaner.state.floatbank2_b_level`\n",
    "    - `secondary_cleaner.state.floatbank3_a_air`\n",
    "    - `secondary_cleaner.state.floatbank3_a_level`\n",
    "    - `secondary_cleaner.state.floatbank3_b_air`\n",
    "    - `secondary_cleaner.state.floatbank3_b_level`\n",
    "    - `secondary_cleaner.state.floatbank4_a_air`\n",
    "    - `secondary_cleaner.state.floatbank4_a_level`\n",
    "    - `secondary_cleaner.state.floatbank4_b_air`\n",
    "    - `secondary_cleaner.state.floatbank4_b_level`\n",
    "    - `secondary_cleaner.state.floatbank5_a_air`\n",
    "    - `secondary_cleaner.state.floatbank5_a_level`\n",
    "    - `secondary_cleaner.state.floatbank5_b_air`\n",
    "    - `secondary_cleaner.state.floatbank5_b_level`\n",
    "    - `secondary_cleaner.state.floatbank6_a_air`\n",
    "    - `secondary_cleaner.state.floatbank6_a_level`"
   ]
  },
  {
   "cell_type": "markdown",
   "metadata": {},
   "source": [
    "Нужно спрогнозировать сразу две величины:\n",
    "- `rougher.output.recovery` - эффективность обогащения чернового концентрата\n",
    "- `final.output.recovery` - эффективность обогащения финального концентрата\n",
    "\n",
    "Это целевые признаки.\n",
    "\n",
    "Все остальные данные не могут быть использованы при обучении, поэтому нет необходимости проводить для них предобработку."
   ]
  },
  {
   "cell_type": "code",
   "execution_count": 13,
   "metadata": {},
   "outputs": [],
   "source": [
    "diff_names.remove('rougher.output.recovery')\n",
    "diff_names.remove('final.output.recovery')\n",
    "data_train = data_train.drop(diff_names, axis=1)"
   ]
  },
  {
   "cell_type": "code",
   "execution_count": 14,
   "metadata": {},
   "outputs": [],
   "source": [
    "# функция для получения основной информации о данных\n",
    "def get_info(data):\n",
    "    display(data.head(2))\n",
    "    print(\"Shape:\", data.shape, '\\n')\n",
    "    print(\"Количество пропусков в данных:\\n\", data.isna().sum(), '\\n', sep='')\n",
    "    print(\"Количество дубликатов:\", data.duplicated().sum(), '\\n')    "
   ]
  },
  {
   "cell_type": "code",
   "execution_count": 15,
   "metadata": {
    "scrolled": true
   },
   "outputs": [
    {
     "data": {
      "text/html": [
       "<div>\n",
       "<style scoped>\n",
       "    .dataframe tbody tr th:only-of-type {\n",
       "        vertical-align: middle;\n",
       "    }\n",
       "\n",
       "    .dataframe tbody tr th {\n",
       "        vertical-align: top;\n",
       "    }\n",
       "\n",
       "    .dataframe thead th {\n",
       "        text-align: right;\n",
       "    }\n",
       "</style>\n",
       "<table border=\"1\" class=\"dataframe\">\n",
       "  <thead>\n",
       "    <tr style=\"text-align: right;\">\n",
       "      <th></th>\n",
       "      <th>date</th>\n",
       "      <th>primary_cleaner.input.sulfate</th>\n",
       "      <th>primary_cleaner.input.depressant</th>\n",
       "      <th>primary_cleaner.input.feed_size</th>\n",
       "      <th>primary_cleaner.input.xanthate</th>\n",
       "      <th>primary_cleaner.state.floatbank8_a_air</th>\n",
       "      <th>primary_cleaner.state.floatbank8_a_level</th>\n",
       "      <th>primary_cleaner.state.floatbank8_b_air</th>\n",
       "      <th>primary_cleaner.state.floatbank8_b_level</th>\n",
       "      <th>primary_cleaner.state.floatbank8_c_air</th>\n",
       "      <th>...</th>\n",
       "      <th>secondary_cleaner.state.floatbank4_a_air</th>\n",
       "      <th>secondary_cleaner.state.floatbank4_a_level</th>\n",
       "      <th>secondary_cleaner.state.floatbank4_b_air</th>\n",
       "      <th>secondary_cleaner.state.floatbank4_b_level</th>\n",
       "      <th>secondary_cleaner.state.floatbank5_a_air</th>\n",
       "      <th>secondary_cleaner.state.floatbank5_a_level</th>\n",
       "      <th>secondary_cleaner.state.floatbank5_b_air</th>\n",
       "      <th>secondary_cleaner.state.floatbank5_b_level</th>\n",
       "      <th>secondary_cleaner.state.floatbank6_a_air</th>\n",
       "      <th>secondary_cleaner.state.floatbank6_a_level</th>\n",
       "    </tr>\n",
       "  </thead>\n",
       "  <tbody>\n",
       "    <tr>\n",
       "      <th>0</th>\n",
       "      <td>2016-09-01 00:59:59</td>\n",
       "      <td>210.800909</td>\n",
       "      <td>14.993118</td>\n",
       "      <td>8.08</td>\n",
       "      <td>1.005021</td>\n",
       "      <td>1398.981301</td>\n",
       "      <td>-500.225577</td>\n",
       "      <td>1399.144926</td>\n",
       "      <td>-499.919735</td>\n",
       "      <td>1400.102998</td>\n",
       "      <td>...</td>\n",
       "      <td>12.023554</td>\n",
       "      <td>-497.795834</td>\n",
       "      <td>8.016656</td>\n",
       "      <td>-501.289139</td>\n",
       "      <td>7.946562</td>\n",
       "      <td>-432.317850</td>\n",
       "      <td>4.872511</td>\n",
       "      <td>-500.037437</td>\n",
       "      <td>26.705889</td>\n",
       "      <td>-499.709414</td>\n",
       "    </tr>\n",
       "    <tr>\n",
       "      <th>1</th>\n",
       "      <td>2016-09-01 01:59:59</td>\n",
       "      <td>215.392455</td>\n",
       "      <td>14.987471</td>\n",
       "      <td>8.08</td>\n",
       "      <td>0.990469</td>\n",
       "      <td>1398.777912</td>\n",
       "      <td>-500.057435</td>\n",
       "      <td>1398.055362</td>\n",
       "      <td>-499.778182</td>\n",
       "      <td>1396.151033</td>\n",
       "      <td>...</td>\n",
       "      <td>12.058140</td>\n",
       "      <td>-498.695773</td>\n",
       "      <td>8.130979</td>\n",
       "      <td>-499.634209</td>\n",
       "      <td>7.958270</td>\n",
       "      <td>-525.839648</td>\n",
       "      <td>4.878850</td>\n",
       "      <td>-500.162375</td>\n",
       "      <td>25.019940</td>\n",
       "      <td>-499.819438</td>\n",
       "    </tr>\n",
       "  </tbody>\n",
       "</table>\n",
       "<p>2 rows × 53 columns</p>\n",
       "</div>"
      ],
      "text/plain": [
       "                  date  primary_cleaner.input.sulfate  \\\n",
       "0  2016-09-01 00:59:59                     210.800909   \n",
       "1  2016-09-01 01:59:59                     215.392455   \n",
       "\n",
       "   primary_cleaner.input.depressant  primary_cleaner.input.feed_size  \\\n",
       "0                         14.993118                             8.08   \n",
       "1                         14.987471                             8.08   \n",
       "\n",
       "   primary_cleaner.input.xanthate  primary_cleaner.state.floatbank8_a_air  \\\n",
       "0                        1.005021                             1398.981301   \n",
       "1                        0.990469                             1398.777912   \n",
       "\n",
       "   primary_cleaner.state.floatbank8_a_level  \\\n",
       "0                               -500.225577   \n",
       "1                               -500.057435   \n",
       "\n",
       "   primary_cleaner.state.floatbank8_b_air  \\\n",
       "0                             1399.144926   \n",
       "1                             1398.055362   \n",
       "\n",
       "   primary_cleaner.state.floatbank8_b_level  \\\n",
       "0                               -499.919735   \n",
       "1                               -499.778182   \n",
       "\n",
       "   primary_cleaner.state.floatbank8_c_air  ...  \\\n",
       "0                             1400.102998  ...   \n",
       "1                             1396.151033  ...   \n",
       "\n",
       "   secondary_cleaner.state.floatbank4_a_air  \\\n",
       "0                                 12.023554   \n",
       "1                                 12.058140   \n",
       "\n",
       "   secondary_cleaner.state.floatbank4_a_level  \\\n",
       "0                                 -497.795834   \n",
       "1                                 -498.695773   \n",
       "\n",
       "   secondary_cleaner.state.floatbank4_b_air  \\\n",
       "0                                  8.016656   \n",
       "1                                  8.130979   \n",
       "\n",
       "   secondary_cleaner.state.floatbank4_b_level  \\\n",
       "0                                 -501.289139   \n",
       "1                                 -499.634209   \n",
       "\n",
       "   secondary_cleaner.state.floatbank5_a_air  \\\n",
       "0                                  7.946562   \n",
       "1                                  7.958270   \n",
       "\n",
       "   secondary_cleaner.state.floatbank5_a_level  \\\n",
       "0                                 -432.317850   \n",
       "1                                 -525.839648   \n",
       "\n",
       "   secondary_cleaner.state.floatbank5_b_air  \\\n",
       "0                                  4.872511   \n",
       "1                                  4.878850   \n",
       "\n",
       "   secondary_cleaner.state.floatbank5_b_level  \\\n",
       "0                                 -500.037437   \n",
       "1                                 -500.162375   \n",
       "\n",
       "   secondary_cleaner.state.floatbank6_a_air  \\\n",
       "0                                 26.705889   \n",
       "1                                 25.019940   \n",
       "\n",
       "   secondary_cleaner.state.floatbank6_a_level  \n",
       "0                                 -499.709414  \n",
       "1                                 -499.819438  \n",
       "\n",
       "[2 rows x 53 columns]"
      ]
     },
     "metadata": {},
     "output_type": "display_data"
    },
    {
     "name": "stdout",
     "output_type": "stream",
     "text": [
      "Shape: (5290, 53) \n",
      "\n",
      "Количество пропусков в данных:\n",
      "date                                           0\n",
      "primary_cleaner.input.sulfate                  4\n",
      "primary_cleaner.input.depressant               5\n",
      "primary_cleaner.input.feed_size                0\n",
      "primary_cleaner.input.xanthate                 4\n",
      "primary_cleaner.state.floatbank8_a_air         0\n",
      "primary_cleaner.state.floatbank8_a_level       0\n",
      "primary_cleaner.state.floatbank8_b_air         0\n",
      "primary_cleaner.state.floatbank8_b_level       0\n",
      "primary_cleaner.state.floatbank8_c_air         0\n",
      "primary_cleaner.state.floatbank8_c_level       0\n",
      "primary_cleaner.state.floatbank8_d_air         0\n",
      "primary_cleaner.state.floatbank8_d_level       0\n",
      "rougher.input.feed_ag                          0\n",
      "rougher.input.feed_pb                          0\n",
      "rougher.input.feed_rate                        3\n",
      "rougher.input.feed_size                        1\n",
      "rougher.input.feed_sol                        21\n",
      "rougher.input.feed_au                          0\n",
      "rougher.input.floatbank10_sulfate              5\n",
      "rougher.input.floatbank10_xanthate             0\n",
      "rougher.input.floatbank11_sulfate              8\n",
      "rougher.input.floatbank11_xanthate            25\n",
      "rougher.state.floatbank10_a_air                0\n",
      "rougher.state.floatbank10_a_level              0\n",
      "rougher.state.floatbank10_b_air                0\n",
      "rougher.state.floatbank10_b_level              0\n",
      "rougher.state.floatbank10_c_air                0\n",
      "rougher.state.floatbank10_c_level              0\n",
      "rougher.state.floatbank10_d_air                0\n",
      "rougher.state.floatbank10_d_level              0\n",
      "rougher.state.floatbank10_e_air                0\n",
      "rougher.state.floatbank10_e_level              0\n",
      "rougher.state.floatbank10_f_air                0\n",
      "rougher.state.floatbank10_f_level              0\n",
      "secondary_cleaner.state.floatbank2_a_air       3\n",
      "secondary_cleaner.state.floatbank2_a_level     0\n",
      "secondary_cleaner.state.floatbank2_b_air       2\n",
      "secondary_cleaner.state.floatbank2_b_level     0\n",
      "secondary_cleaner.state.floatbank3_a_air       9\n",
      "secondary_cleaner.state.floatbank3_a_level     0\n",
      "secondary_cleaner.state.floatbank3_b_air       0\n",
      "secondary_cleaner.state.floatbank3_b_level     0\n",
      "secondary_cleaner.state.floatbank4_a_air       0\n",
      "secondary_cleaner.state.floatbank4_a_level     0\n",
      "secondary_cleaner.state.floatbank4_b_air       0\n",
      "secondary_cleaner.state.floatbank4_b_level     0\n",
      "secondary_cleaner.state.floatbank5_a_air       0\n",
      "secondary_cleaner.state.floatbank5_a_level     0\n",
      "secondary_cleaner.state.floatbank5_b_air       0\n",
      "secondary_cleaner.state.floatbank5_b_level     0\n",
      "secondary_cleaner.state.floatbank6_a_air       0\n",
      "secondary_cleaner.state.floatbank6_a_level     0\n",
      "dtype: int64\n",
      "\n",
      "Количество дубликатов: 0 \n",
      "\n"
     ]
    }
   ],
   "source": [
    "get_info(data_test)"
   ]
  },
  {
   "cell_type": "code",
   "execution_count": 16,
   "metadata": {
    "scrolled": true
   },
   "outputs": [
    {
     "data": {
      "text/html": [
       "<div>\n",
       "<style scoped>\n",
       "    .dataframe tbody tr th:only-of-type {\n",
       "        vertical-align: middle;\n",
       "    }\n",
       "\n",
       "    .dataframe tbody tr th {\n",
       "        vertical-align: top;\n",
       "    }\n",
       "\n",
       "    .dataframe thead th {\n",
       "        text-align: right;\n",
       "    }\n",
       "</style>\n",
       "<table border=\"1\" class=\"dataframe\">\n",
       "  <thead>\n",
       "    <tr style=\"text-align: right;\">\n",
       "      <th></th>\n",
       "      <th>date</th>\n",
       "      <th>final.output.recovery</th>\n",
       "      <th>primary_cleaner.input.sulfate</th>\n",
       "      <th>primary_cleaner.input.depressant</th>\n",
       "      <th>primary_cleaner.input.feed_size</th>\n",
       "      <th>primary_cleaner.input.xanthate</th>\n",
       "      <th>primary_cleaner.state.floatbank8_a_air</th>\n",
       "      <th>primary_cleaner.state.floatbank8_a_level</th>\n",
       "      <th>primary_cleaner.state.floatbank8_b_air</th>\n",
       "      <th>primary_cleaner.state.floatbank8_b_level</th>\n",
       "      <th>...</th>\n",
       "      <th>secondary_cleaner.state.floatbank4_a_air</th>\n",
       "      <th>secondary_cleaner.state.floatbank4_a_level</th>\n",
       "      <th>secondary_cleaner.state.floatbank4_b_air</th>\n",
       "      <th>secondary_cleaner.state.floatbank4_b_level</th>\n",
       "      <th>secondary_cleaner.state.floatbank5_a_air</th>\n",
       "      <th>secondary_cleaner.state.floatbank5_a_level</th>\n",
       "      <th>secondary_cleaner.state.floatbank5_b_air</th>\n",
       "      <th>secondary_cleaner.state.floatbank5_b_level</th>\n",
       "      <th>secondary_cleaner.state.floatbank6_a_air</th>\n",
       "      <th>secondary_cleaner.state.floatbank6_a_level</th>\n",
       "    </tr>\n",
       "  </thead>\n",
       "  <tbody>\n",
       "    <tr>\n",
       "      <th>0</th>\n",
       "      <td>2016-01-15 00:00:00</td>\n",
       "      <td>70.541216</td>\n",
       "      <td>127.092003</td>\n",
       "      <td>10.128295</td>\n",
       "      <td>7.25</td>\n",
       "      <td>0.988759</td>\n",
       "      <td>1549.775757</td>\n",
       "      <td>-498.912140</td>\n",
       "      <td>1551.434204</td>\n",
       "      <td>-516.403442</td>\n",
       "      <td>...</td>\n",
       "      <td>14.016835</td>\n",
       "      <td>-502.488007</td>\n",
       "      <td>12.099931</td>\n",
       "      <td>-504.715942</td>\n",
       "      <td>9.925633</td>\n",
       "      <td>-498.310211</td>\n",
       "      <td>8.079666</td>\n",
       "      <td>-500.470978</td>\n",
       "      <td>14.151341</td>\n",
       "      <td>-605.841980</td>\n",
       "    </tr>\n",
       "    <tr>\n",
       "      <th>1</th>\n",
       "      <td>2016-01-15 01:00:00</td>\n",
       "      <td>69.266198</td>\n",
       "      <td>125.629232</td>\n",
       "      <td>10.296251</td>\n",
       "      <td>7.25</td>\n",
       "      <td>1.002663</td>\n",
       "      <td>1576.166671</td>\n",
       "      <td>-500.904965</td>\n",
       "      <td>1575.950626</td>\n",
       "      <td>-499.865889</td>\n",
       "      <td>...</td>\n",
       "      <td>13.992281</td>\n",
       "      <td>-505.503262</td>\n",
       "      <td>11.950531</td>\n",
       "      <td>-501.331529</td>\n",
       "      <td>10.039245</td>\n",
       "      <td>-500.169983</td>\n",
       "      <td>7.984757</td>\n",
       "      <td>-500.582168</td>\n",
       "      <td>13.998353</td>\n",
       "      <td>-599.787184</td>\n",
       "    </tr>\n",
       "  </tbody>\n",
       "</table>\n",
       "<p>2 rows × 55 columns</p>\n",
       "</div>"
      ],
      "text/plain": [
       "                  date  final.output.recovery  primary_cleaner.input.sulfate  \\\n",
       "0  2016-01-15 00:00:00              70.541216                     127.092003   \n",
       "1  2016-01-15 01:00:00              69.266198                     125.629232   \n",
       "\n",
       "   primary_cleaner.input.depressant  primary_cleaner.input.feed_size  \\\n",
       "0                         10.128295                             7.25   \n",
       "1                         10.296251                             7.25   \n",
       "\n",
       "   primary_cleaner.input.xanthate  primary_cleaner.state.floatbank8_a_air  \\\n",
       "0                        0.988759                             1549.775757   \n",
       "1                        1.002663                             1576.166671   \n",
       "\n",
       "   primary_cleaner.state.floatbank8_a_level  \\\n",
       "0                               -498.912140   \n",
       "1                               -500.904965   \n",
       "\n",
       "   primary_cleaner.state.floatbank8_b_air  \\\n",
       "0                             1551.434204   \n",
       "1                             1575.950626   \n",
       "\n",
       "   primary_cleaner.state.floatbank8_b_level  ...  \\\n",
       "0                               -516.403442  ...   \n",
       "1                               -499.865889  ...   \n",
       "\n",
       "   secondary_cleaner.state.floatbank4_a_air  \\\n",
       "0                                 14.016835   \n",
       "1                                 13.992281   \n",
       "\n",
       "   secondary_cleaner.state.floatbank4_a_level  \\\n",
       "0                                 -502.488007   \n",
       "1                                 -505.503262   \n",
       "\n",
       "   secondary_cleaner.state.floatbank4_b_air  \\\n",
       "0                                 12.099931   \n",
       "1                                 11.950531   \n",
       "\n",
       "   secondary_cleaner.state.floatbank4_b_level  \\\n",
       "0                                 -504.715942   \n",
       "1                                 -501.331529   \n",
       "\n",
       "   secondary_cleaner.state.floatbank5_a_air  \\\n",
       "0                                  9.925633   \n",
       "1                                 10.039245   \n",
       "\n",
       "   secondary_cleaner.state.floatbank5_a_level  \\\n",
       "0                                 -498.310211   \n",
       "1                                 -500.169983   \n",
       "\n",
       "   secondary_cleaner.state.floatbank5_b_air  \\\n",
       "0                                  8.079666   \n",
       "1                                  7.984757   \n",
       "\n",
       "   secondary_cleaner.state.floatbank5_b_level  \\\n",
       "0                                 -500.470978   \n",
       "1                                 -500.582168   \n",
       "\n",
       "   secondary_cleaner.state.floatbank6_a_air  \\\n",
       "0                                 14.151341   \n",
       "1                                 13.998353   \n",
       "\n",
       "   secondary_cleaner.state.floatbank6_a_level  \n",
       "0                                 -605.841980  \n",
       "1                                 -599.787184  \n",
       "\n",
       "[2 rows x 55 columns]"
      ]
     },
     "metadata": {},
     "output_type": "display_data"
    },
    {
     "name": "stdout",
     "output_type": "stream",
     "text": [
      "Shape: (14149, 55) \n",
      "\n",
      "Количество пропусков в данных:\n",
      "date                                            0\n",
      "final.output.recovery                           0\n",
      "primary_cleaner.input.sulfate                  20\n",
      "primary_cleaner.input.depressant               32\n",
      "primary_cleaner.input.feed_size                 0\n",
      "primary_cleaner.input.xanthate                100\n",
      "primary_cleaner.state.floatbank8_a_air          4\n",
      "primary_cleaner.state.floatbank8_a_level        1\n",
      "primary_cleaner.state.floatbank8_b_air          4\n",
      "primary_cleaner.state.floatbank8_b_level        1\n",
      "primary_cleaner.state.floatbank8_c_air          2\n",
      "primary_cleaner.state.floatbank8_c_level        1\n",
      "primary_cleaner.state.floatbank8_d_air          3\n",
      "primary_cleaner.state.floatbank8_d_level        1\n",
      "rougher.input.feed_ag                           0\n",
      "rougher.input.feed_pb                         100\n",
      "rougher.input.feed_rate                         8\n",
      "rougher.input.feed_size                       144\n",
      "rougher.input.feed_sol                         78\n",
      "rougher.input.feed_au                           0\n",
      "rougher.input.floatbank10_sulfate              29\n",
      "rougher.input.floatbank10_xanthate              8\n",
      "rougher.input.floatbank11_sulfate              36\n",
      "rougher.input.floatbank11_xanthate            428\n",
      "rougher.output.recovery                         0\n",
      "rougher.state.floatbank10_a_air                 1\n",
      "rougher.state.floatbank10_a_level               1\n",
      "rougher.state.floatbank10_b_air                 1\n",
      "rougher.state.floatbank10_b_level               1\n",
      "rougher.state.floatbank10_c_air                 1\n",
      "rougher.state.floatbank10_c_level               1\n",
      "rougher.state.floatbank10_d_air                 0\n",
      "rougher.state.floatbank10_d_level               0\n",
      "rougher.state.floatbank10_e_air               436\n",
      "rougher.state.floatbank10_e_level               0\n",
      "rougher.state.floatbank10_f_air                 0\n",
      "rougher.state.floatbank10_f_level               0\n",
      "secondary_cleaner.state.floatbank2_a_air      217\n",
      "secondary_cleaner.state.floatbank2_a_level      1\n",
      "secondary_cleaner.state.floatbank2_b_air       21\n",
      "secondary_cleaner.state.floatbank2_b_level      1\n",
      "secondary_cleaner.state.floatbank3_a_air        4\n",
      "secondary_cleaner.state.floatbank3_a_level      1\n",
      "secondary_cleaner.state.floatbank3_b_air        1\n",
      "secondary_cleaner.state.floatbank3_b_level      1\n",
      "secondary_cleaner.state.floatbank4_a_air        6\n",
      "secondary_cleaner.state.floatbank4_a_level      1\n",
      "secondary_cleaner.state.floatbank4_b_air        1\n",
      "secondary_cleaner.state.floatbank4_b_level      1\n",
      "secondary_cleaner.state.floatbank5_a_air        1\n",
      "secondary_cleaner.state.floatbank5_a_level      1\n",
      "secondary_cleaner.state.floatbank5_b_air        1\n",
      "secondary_cleaner.state.floatbank5_b_level      1\n",
      "secondary_cleaner.state.floatbank6_a_air        2\n",
      "secondary_cleaner.state.floatbank6_a_level      1\n",
      "dtype: int64\n",
      "\n",
      "Количество дубликатов: 0 \n",
      "\n"
     ]
    }
   ],
   "source": [
    "get_info(data_train)"
   ]
  },
  {
   "cell_type": "markdown",
   "metadata": {},
   "source": [
    "В данных присутствуют пропуски. Так как выборки взяты из исходных данных, для удобства мы можем исследовать полные данные на закономерности, а затем использовать их для заполнения."
   ]
  },
  {
   "cell_type": "markdown",
   "metadata": {},
   "source": [
    "Соседние по времени параметры часто похожи. Проверим корреляцию между соседними значениями для разных параметров:"
   ]
  },
  {
   "cell_type": "code",
   "execution_count": 17,
   "metadata": {},
   "outputs": [
    {
     "name": "stdout",
     "output_type": "stream",
     "text": [
      "primary_cleaner.input.sulfate 0.95\n",
      "primary_cleaner.input.depressant 0.97\n",
      "primary_cleaner.input.xanthate 0.98\n",
      "primary_cleaner.state.floatbank8_a_air 0.96\n",
      "primary_cleaner.state.floatbank8_a_level 0.95\n",
      "primary_cleaner.state.floatbank8_b_air 0.97\n",
      "primary_cleaner.state.floatbank8_b_level 0.92\n",
      "primary_cleaner.state.floatbank8_c_air 0.96\n",
      "primary_cleaner.state.floatbank8_c_level 0.89\n",
      "primary_cleaner.state.floatbank8_d_air 0.99\n",
      "primary_cleaner.state.floatbank8_d_level 0.84\n",
      "rougher.input.feed_pb 0.94\n",
      "rougher.input.feed_rate 0.86\n",
      "rougher.input.feed_size 0.87\n",
      "rougher.input.feed_sol 0.8\n",
      "rougher.input.floatbank10_sulfate 0.95\n",
      "rougher.input.floatbank10_xanthate 0.9\n",
      "rougher.input.floatbank11_sulfate 0.96\n",
      "rougher.input.floatbank11_xanthate 0.91\n",
      "rougher.state.floatbank10_a_air 0.98\n",
      "rougher.state.floatbank10_a_level 0.99\n",
      "rougher.state.floatbank10_b_air 0.98\n",
      "rougher.state.floatbank10_b_level 0.99\n",
      "rougher.state.floatbank10_c_air 0.99\n",
      "rougher.state.floatbank10_c_level 0.99\n",
      "rougher.state.floatbank10_e_air 0.99\n",
      "secondary_cleaner.state.floatbank2_a_air 0.98\n",
      "secondary_cleaner.state.floatbank2_a_level 0.95\n",
      "secondary_cleaner.state.floatbank2_b_air 0.99\n",
      "secondary_cleaner.state.floatbank2_b_level 0.95\n",
      "secondary_cleaner.state.floatbank3_a_air 0.99\n",
      "secondary_cleaner.state.floatbank3_a_level 0.97\n",
      "secondary_cleaner.state.floatbank3_b_air 0.99\n",
      "secondary_cleaner.state.floatbank3_b_level 0.94\n",
      "secondary_cleaner.state.floatbank4_a_air 1.0\n",
      "secondary_cleaner.state.floatbank4_a_level 0.96\n",
      "secondary_cleaner.state.floatbank4_b_air 1.0\n",
      "secondary_cleaner.state.floatbank4_b_level 0.95\n",
      "secondary_cleaner.state.floatbank5_a_air 0.99\n",
      "secondary_cleaner.state.floatbank5_a_level 0.93\n",
      "secondary_cleaner.state.floatbank5_b_air 1.0\n",
      "secondary_cleaner.state.floatbank5_b_level 0.85\n",
      "secondary_cleaner.state.floatbank6_a_air 0.99\n",
      "secondary_cleaner.state.floatbank6_a_level 0.89\n"
     ]
    }
   ],
   "source": [
    "for col in data_test.columns[1:]:\n",
    "    if data_full[col].isna().sum() > 0:\n",
    "        print(col, round(data_full[col].corr(data_full[col].shift(-1)), 2))"
   ]
  },
  {
   "cell_type": "markdown",
   "metadata": {},
   "source": [
    "Наименьшая корреляция равна 0.8, а большая часть значений близка к 1. Используем для заполнения пропусков предыдущее значение."
   ]
  },
  {
   "cell_type": "code",
   "execution_count": 18,
   "metadata": {},
   "outputs": [],
   "source": [
    "for col in data_test.columns[1:]:\n",
    "    if data_full[col].isna().sum() > 0:\n",
    "        data_full[col] = data_full[col].fillna(method='ffill')"
   ]
  },
  {
   "cell_type": "markdown",
   "metadata": {},
   "source": [
    "Проверим, остались ли пропуски в столбцах:"
   ]
  },
  {
   "cell_type": "code",
   "execution_count": 19,
   "metadata": {
    "scrolled": true
   },
   "outputs": [],
   "source": [
    "for col in data_train.columns[1:]:\n",
    "    if data_full[col].isna().sum() > 0:\n",
    "        print(col, data_full[col].isna().sum())"
   ]
  },
  {
   "cell_type": "markdown",
   "metadata": {},
   "source": [
    "Пропусков в исходных данных больше нет. Заполним теперь пропуски в выборках:"
   ]
  },
  {
   "cell_type": "code",
   "execution_count": 20,
   "metadata": {},
   "outputs": [],
   "source": [
    "filler = data_full[data_full['date'].isin(data_train['date'])].reset_index(drop=True)\n",
    "data_train = data_train.fillna(filler)\n",
    "\n",
    "filler =  data_full[data_full['date'].isin(data_test['date'])].reset_index(drop=True)\n",
    "data_test = data_test.fillna(data_full)\n",
    "\n",
    "del filler"
   ]
  },
  {
   "cell_type": "markdown",
   "metadata": {},
   "source": [
    "Для тестовой выборки необходимо восстановить целевой признак для будущей проверки модели:"
   ]
  },
  {
   "cell_type": "code",
   "execution_count": 21,
   "metadata": {},
   "outputs": [],
   "source": [
    "data_test = data_test.merge(data_full[['date', 'rougher.output.recovery', 'final.output.recovery']], on='date')"
   ]
  },
  {
   "cell_type": "markdown",
   "metadata": {},
   "source": [
    "После обработки датасеты выглядят следующим образом:"
   ]
  },
  {
   "cell_type": "code",
   "execution_count": 22,
   "metadata": {
    "scrolled": true
   },
   "outputs": [
    {
     "data": {
      "text/html": [
       "<div>\n",
       "<style scoped>\n",
       "    .dataframe tbody tr th:only-of-type {\n",
       "        vertical-align: middle;\n",
       "    }\n",
       "\n",
       "    .dataframe tbody tr th {\n",
       "        vertical-align: top;\n",
       "    }\n",
       "\n",
       "    .dataframe thead th {\n",
       "        text-align: right;\n",
       "    }\n",
       "</style>\n",
       "<table border=\"1\" class=\"dataframe\">\n",
       "  <thead>\n",
       "    <tr style=\"text-align: right;\">\n",
       "      <th></th>\n",
       "      <th>date</th>\n",
       "      <th>final.output.recovery</th>\n",
       "      <th>primary_cleaner.input.sulfate</th>\n",
       "      <th>primary_cleaner.input.depressant</th>\n",
       "      <th>primary_cleaner.input.feed_size</th>\n",
       "      <th>primary_cleaner.input.xanthate</th>\n",
       "      <th>primary_cleaner.state.floatbank8_a_air</th>\n",
       "      <th>primary_cleaner.state.floatbank8_a_level</th>\n",
       "      <th>primary_cleaner.state.floatbank8_b_air</th>\n",
       "      <th>primary_cleaner.state.floatbank8_b_level</th>\n",
       "      <th>...</th>\n",
       "      <th>secondary_cleaner.state.floatbank4_a_air</th>\n",
       "      <th>secondary_cleaner.state.floatbank4_a_level</th>\n",
       "      <th>secondary_cleaner.state.floatbank4_b_air</th>\n",
       "      <th>secondary_cleaner.state.floatbank4_b_level</th>\n",
       "      <th>secondary_cleaner.state.floatbank5_a_air</th>\n",
       "      <th>secondary_cleaner.state.floatbank5_a_level</th>\n",
       "      <th>secondary_cleaner.state.floatbank5_b_air</th>\n",
       "      <th>secondary_cleaner.state.floatbank5_b_level</th>\n",
       "      <th>secondary_cleaner.state.floatbank6_a_air</th>\n",
       "      <th>secondary_cleaner.state.floatbank6_a_level</th>\n",
       "    </tr>\n",
       "  </thead>\n",
       "  <tbody>\n",
       "    <tr>\n",
       "      <th>0</th>\n",
       "      <td>2016-01-15 00:00:00</td>\n",
       "      <td>70.541216</td>\n",
       "      <td>127.092003</td>\n",
       "      <td>10.128295</td>\n",
       "      <td>7.25</td>\n",
       "      <td>0.988759</td>\n",
       "      <td>1549.775757</td>\n",
       "      <td>-498.912140</td>\n",
       "      <td>1551.434204</td>\n",
       "      <td>-516.403442</td>\n",
       "      <td>...</td>\n",
       "      <td>14.016835</td>\n",
       "      <td>-502.488007</td>\n",
       "      <td>12.099931</td>\n",
       "      <td>-504.715942</td>\n",
       "      <td>9.925633</td>\n",
       "      <td>-498.310211</td>\n",
       "      <td>8.079666</td>\n",
       "      <td>-500.470978</td>\n",
       "      <td>14.151341</td>\n",
       "      <td>-605.841980</td>\n",
       "    </tr>\n",
       "    <tr>\n",
       "      <th>1</th>\n",
       "      <td>2016-01-15 01:00:00</td>\n",
       "      <td>69.266198</td>\n",
       "      <td>125.629232</td>\n",
       "      <td>10.296251</td>\n",
       "      <td>7.25</td>\n",
       "      <td>1.002663</td>\n",
       "      <td>1576.166671</td>\n",
       "      <td>-500.904965</td>\n",
       "      <td>1575.950626</td>\n",
       "      <td>-499.865889</td>\n",
       "      <td>...</td>\n",
       "      <td>13.992281</td>\n",
       "      <td>-505.503262</td>\n",
       "      <td>11.950531</td>\n",
       "      <td>-501.331529</td>\n",
       "      <td>10.039245</td>\n",
       "      <td>-500.169983</td>\n",
       "      <td>7.984757</td>\n",
       "      <td>-500.582168</td>\n",
       "      <td>13.998353</td>\n",
       "      <td>-599.787184</td>\n",
       "    </tr>\n",
       "  </tbody>\n",
       "</table>\n",
       "<p>2 rows × 55 columns</p>\n",
       "</div>"
      ],
      "text/plain": [
       "                  date  final.output.recovery  primary_cleaner.input.sulfate  \\\n",
       "0  2016-01-15 00:00:00              70.541216                     127.092003   \n",
       "1  2016-01-15 01:00:00              69.266198                     125.629232   \n",
       "\n",
       "   primary_cleaner.input.depressant  primary_cleaner.input.feed_size  \\\n",
       "0                         10.128295                             7.25   \n",
       "1                         10.296251                             7.25   \n",
       "\n",
       "   primary_cleaner.input.xanthate  primary_cleaner.state.floatbank8_a_air  \\\n",
       "0                        0.988759                             1549.775757   \n",
       "1                        1.002663                             1576.166671   \n",
       "\n",
       "   primary_cleaner.state.floatbank8_a_level  \\\n",
       "0                               -498.912140   \n",
       "1                               -500.904965   \n",
       "\n",
       "   primary_cleaner.state.floatbank8_b_air  \\\n",
       "0                             1551.434204   \n",
       "1                             1575.950626   \n",
       "\n",
       "   primary_cleaner.state.floatbank8_b_level  ...  \\\n",
       "0                               -516.403442  ...   \n",
       "1                               -499.865889  ...   \n",
       "\n",
       "   secondary_cleaner.state.floatbank4_a_air  \\\n",
       "0                                 14.016835   \n",
       "1                                 13.992281   \n",
       "\n",
       "   secondary_cleaner.state.floatbank4_a_level  \\\n",
       "0                                 -502.488007   \n",
       "1                                 -505.503262   \n",
       "\n",
       "   secondary_cleaner.state.floatbank4_b_air  \\\n",
       "0                                 12.099931   \n",
       "1                                 11.950531   \n",
       "\n",
       "   secondary_cleaner.state.floatbank4_b_level  \\\n",
       "0                                 -504.715942   \n",
       "1                                 -501.331529   \n",
       "\n",
       "   secondary_cleaner.state.floatbank5_a_air  \\\n",
       "0                                  9.925633   \n",
       "1                                 10.039245   \n",
       "\n",
       "   secondary_cleaner.state.floatbank5_a_level  \\\n",
       "0                                 -498.310211   \n",
       "1                                 -500.169983   \n",
       "\n",
       "   secondary_cleaner.state.floatbank5_b_air  \\\n",
       "0                                  8.079666   \n",
       "1                                  7.984757   \n",
       "\n",
       "   secondary_cleaner.state.floatbank5_b_level  \\\n",
       "0                                 -500.470978   \n",
       "1                                 -500.582168   \n",
       "\n",
       "   secondary_cleaner.state.floatbank6_a_air  \\\n",
       "0                                 14.151341   \n",
       "1                                 13.998353   \n",
       "\n",
       "   secondary_cleaner.state.floatbank6_a_level  \n",
       "0                                 -605.841980  \n",
       "1                                 -599.787184  \n",
       "\n",
       "[2 rows x 55 columns]"
      ]
     },
     "metadata": {},
     "output_type": "display_data"
    },
    {
     "name": "stdout",
     "output_type": "stream",
     "text": [
      "Shape: (14149, 55) \n",
      "\n",
      "Количество пропусков в данных:\n",
      "date                                          0\n",
      "final.output.recovery                         0\n",
      "primary_cleaner.input.sulfate                 0\n",
      "primary_cleaner.input.depressant              0\n",
      "primary_cleaner.input.feed_size               0\n",
      "primary_cleaner.input.xanthate                0\n",
      "primary_cleaner.state.floatbank8_a_air        0\n",
      "primary_cleaner.state.floatbank8_a_level      0\n",
      "primary_cleaner.state.floatbank8_b_air        0\n",
      "primary_cleaner.state.floatbank8_b_level      0\n",
      "primary_cleaner.state.floatbank8_c_air        0\n",
      "primary_cleaner.state.floatbank8_c_level      0\n",
      "primary_cleaner.state.floatbank8_d_air        0\n",
      "primary_cleaner.state.floatbank8_d_level      0\n",
      "rougher.input.feed_ag                         0\n",
      "rougher.input.feed_pb                         0\n",
      "rougher.input.feed_rate                       0\n",
      "rougher.input.feed_size                       0\n",
      "rougher.input.feed_sol                        0\n",
      "rougher.input.feed_au                         0\n",
      "rougher.input.floatbank10_sulfate             0\n",
      "rougher.input.floatbank10_xanthate            0\n",
      "rougher.input.floatbank11_sulfate             0\n",
      "rougher.input.floatbank11_xanthate            0\n",
      "rougher.output.recovery                       0\n",
      "rougher.state.floatbank10_a_air               0\n",
      "rougher.state.floatbank10_a_level             0\n",
      "rougher.state.floatbank10_b_air               0\n",
      "rougher.state.floatbank10_b_level             0\n",
      "rougher.state.floatbank10_c_air               0\n",
      "rougher.state.floatbank10_c_level             0\n",
      "rougher.state.floatbank10_d_air               0\n",
      "rougher.state.floatbank10_d_level             0\n",
      "rougher.state.floatbank10_e_air               0\n",
      "rougher.state.floatbank10_e_level             0\n",
      "rougher.state.floatbank10_f_air               0\n",
      "rougher.state.floatbank10_f_level             0\n",
      "secondary_cleaner.state.floatbank2_a_air      0\n",
      "secondary_cleaner.state.floatbank2_a_level    0\n",
      "secondary_cleaner.state.floatbank2_b_air      0\n",
      "secondary_cleaner.state.floatbank2_b_level    0\n",
      "secondary_cleaner.state.floatbank3_a_air      0\n",
      "secondary_cleaner.state.floatbank3_a_level    0\n",
      "secondary_cleaner.state.floatbank3_b_air      0\n",
      "secondary_cleaner.state.floatbank3_b_level    0\n",
      "secondary_cleaner.state.floatbank4_a_air      0\n",
      "secondary_cleaner.state.floatbank4_a_level    0\n",
      "secondary_cleaner.state.floatbank4_b_air      0\n",
      "secondary_cleaner.state.floatbank4_b_level    0\n",
      "secondary_cleaner.state.floatbank5_a_air      0\n",
      "secondary_cleaner.state.floatbank5_a_level    0\n",
      "secondary_cleaner.state.floatbank5_b_air      0\n",
      "secondary_cleaner.state.floatbank5_b_level    0\n",
      "secondary_cleaner.state.floatbank6_a_air      0\n",
      "secondary_cleaner.state.floatbank6_a_level    0\n",
      "dtype: int64\n",
      "\n",
      "Количество дубликатов: 0 \n",
      "\n"
     ]
    }
   ],
   "source": [
    "get_info(data_train)"
   ]
  },
  {
   "cell_type": "code",
   "execution_count": 23,
   "metadata": {
    "scrolled": true
   },
   "outputs": [
    {
     "data": {
      "text/html": [
       "<div>\n",
       "<style scoped>\n",
       "    .dataframe tbody tr th:only-of-type {\n",
       "        vertical-align: middle;\n",
       "    }\n",
       "\n",
       "    .dataframe tbody tr th {\n",
       "        vertical-align: top;\n",
       "    }\n",
       "\n",
       "    .dataframe thead th {\n",
       "        text-align: right;\n",
       "    }\n",
       "</style>\n",
       "<table border=\"1\" class=\"dataframe\">\n",
       "  <thead>\n",
       "    <tr style=\"text-align: right;\">\n",
       "      <th></th>\n",
       "      <th>date</th>\n",
       "      <th>primary_cleaner.input.sulfate</th>\n",
       "      <th>primary_cleaner.input.depressant</th>\n",
       "      <th>primary_cleaner.input.feed_size</th>\n",
       "      <th>primary_cleaner.input.xanthate</th>\n",
       "      <th>primary_cleaner.state.floatbank8_a_air</th>\n",
       "      <th>primary_cleaner.state.floatbank8_a_level</th>\n",
       "      <th>primary_cleaner.state.floatbank8_b_air</th>\n",
       "      <th>primary_cleaner.state.floatbank8_b_level</th>\n",
       "      <th>primary_cleaner.state.floatbank8_c_air</th>\n",
       "      <th>...</th>\n",
       "      <th>secondary_cleaner.state.floatbank4_b_air</th>\n",
       "      <th>secondary_cleaner.state.floatbank4_b_level</th>\n",
       "      <th>secondary_cleaner.state.floatbank5_a_air</th>\n",
       "      <th>secondary_cleaner.state.floatbank5_a_level</th>\n",
       "      <th>secondary_cleaner.state.floatbank5_b_air</th>\n",
       "      <th>secondary_cleaner.state.floatbank5_b_level</th>\n",
       "      <th>secondary_cleaner.state.floatbank6_a_air</th>\n",
       "      <th>secondary_cleaner.state.floatbank6_a_level</th>\n",
       "      <th>rougher.output.recovery</th>\n",
       "      <th>final.output.recovery</th>\n",
       "    </tr>\n",
       "  </thead>\n",
       "  <tbody>\n",
       "    <tr>\n",
       "      <th>0</th>\n",
       "      <td>2016-09-01 00:59:59</td>\n",
       "      <td>210.800909</td>\n",
       "      <td>14.993118</td>\n",
       "      <td>8.08</td>\n",
       "      <td>1.005021</td>\n",
       "      <td>1398.981301</td>\n",
       "      <td>-500.225577</td>\n",
       "      <td>1399.144926</td>\n",
       "      <td>-499.919735</td>\n",
       "      <td>1400.102998</td>\n",
       "      <td>...</td>\n",
       "      <td>8.016656</td>\n",
       "      <td>-501.289139</td>\n",
       "      <td>7.946562</td>\n",
       "      <td>-432.317850</td>\n",
       "      <td>4.872511</td>\n",
       "      <td>-500.037437</td>\n",
       "      <td>26.705889</td>\n",
       "      <td>-499.709414</td>\n",
       "      <td>89.993421</td>\n",
       "      <td>70.273583</td>\n",
       "    </tr>\n",
       "    <tr>\n",
       "      <th>1</th>\n",
       "      <td>2016-09-01 01:59:59</td>\n",
       "      <td>215.392455</td>\n",
       "      <td>14.987471</td>\n",
       "      <td>8.08</td>\n",
       "      <td>0.990469</td>\n",
       "      <td>1398.777912</td>\n",
       "      <td>-500.057435</td>\n",
       "      <td>1398.055362</td>\n",
       "      <td>-499.778182</td>\n",
       "      <td>1396.151033</td>\n",
       "      <td>...</td>\n",
       "      <td>8.130979</td>\n",
       "      <td>-499.634209</td>\n",
       "      <td>7.958270</td>\n",
       "      <td>-525.839648</td>\n",
       "      <td>4.878850</td>\n",
       "      <td>-500.162375</td>\n",
       "      <td>25.019940</td>\n",
       "      <td>-499.819438</td>\n",
       "      <td>88.089657</td>\n",
       "      <td>68.910432</td>\n",
       "    </tr>\n",
       "  </tbody>\n",
       "</table>\n",
       "<p>2 rows × 55 columns</p>\n",
       "</div>"
      ],
      "text/plain": [
       "                  date  primary_cleaner.input.sulfate  \\\n",
       "0  2016-09-01 00:59:59                     210.800909   \n",
       "1  2016-09-01 01:59:59                     215.392455   \n",
       "\n",
       "   primary_cleaner.input.depressant  primary_cleaner.input.feed_size  \\\n",
       "0                         14.993118                             8.08   \n",
       "1                         14.987471                             8.08   \n",
       "\n",
       "   primary_cleaner.input.xanthate  primary_cleaner.state.floatbank8_a_air  \\\n",
       "0                        1.005021                             1398.981301   \n",
       "1                        0.990469                             1398.777912   \n",
       "\n",
       "   primary_cleaner.state.floatbank8_a_level  \\\n",
       "0                               -500.225577   \n",
       "1                               -500.057435   \n",
       "\n",
       "   primary_cleaner.state.floatbank8_b_air  \\\n",
       "0                             1399.144926   \n",
       "1                             1398.055362   \n",
       "\n",
       "   primary_cleaner.state.floatbank8_b_level  \\\n",
       "0                               -499.919735   \n",
       "1                               -499.778182   \n",
       "\n",
       "   primary_cleaner.state.floatbank8_c_air  ...  \\\n",
       "0                             1400.102998  ...   \n",
       "1                             1396.151033  ...   \n",
       "\n",
       "   secondary_cleaner.state.floatbank4_b_air  \\\n",
       "0                                  8.016656   \n",
       "1                                  8.130979   \n",
       "\n",
       "   secondary_cleaner.state.floatbank4_b_level  \\\n",
       "0                                 -501.289139   \n",
       "1                                 -499.634209   \n",
       "\n",
       "   secondary_cleaner.state.floatbank5_a_air  \\\n",
       "0                                  7.946562   \n",
       "1                                  7.958270   \n",
       "\n",
       "   secondary_cleaner.state.floatbank5_a_level  \\\n",
       "0                                 -432.317850   \n",
       "1                                 -525.839648   \n",
       "\n",
       "   secondary_cleaner.state.floatbank5_b_air  \\\n",
       "0                                  4.872511   \n",
       "1                                  4.878850   \n",
       "\n",
       "   secondary_cleaner.state.floatbank5_b_level  \\\n",
       "0                                 -500.037437   \n",
       "1                                 -500.162375   \n",
       "\n",
       "   secondary_cleaner.state.floatbank6_a_air  \\\n",
       "0                                 26.705889   \n",
       "1                                 25.019940   \n",
       "\n",
       "   secondary_cleaner.state.floatbank6_a_level  rougher.output.recovery  \\\n",
       "0                                 -499.709414                89.993421   \n",
       "1                                 -499.819438                88.089657   \n",
       "\n",
       "   final.output.recovery  \n",
       "0              70.273583  \n",
       "1              68.910432  \n",
       "\n",
       "[2 rows x 55 columns]"
      ]
     },
     "metadata": {},
     "output_type": "display_data"
    },
    {
     "name": "stdout",
     "output_type": "stream",
     "text": [
      "Shape: (5290, 55) \n",
      "\n",
      "Количество пропусков в данных:\n",
      "date                                          0\n",
      "primary_cleaner.input.sulfate                 0\n",
      "primary_cleaner.input.depressant              0\n",
      "primary_cleaner.input.feed_size               0\n",
      "primary_cleaner.input.xanthate                0\n",
      "primary_cleaner.state.floatbank8_a_air        0\n",
      "primary_cleaner.state.floatbank8_a_level      0\n",
      "primary_cleaner.state.floatbank8_b_air        0\n",
      "primary_cleaner.state.floatbank8_b_level      0\n",
      "primary_cleaner.state.floatbank8_c_air        0\n",
      "primary_cleaner.state.floatbank8_c_level      0\n",
      "primary_cleaner.state.floatbank8_d_air        0\n",
      "primary_cleaner.state.floatbank8_d_level      0\n",
      "rougher.input.feed_ag                         0\n",
      "rougher.input.feed_pb                         0\n",
      "rougher.input.feed_rate                       0\n",
      "rougher.input.feed_size                       0\n",
      "rougher.input.feed_sol                        0\n",
      "rougher.input.feed_au                         0\n",
      "rougher.input.floatbank10_sulfate             0\n",
      "rougher.input.floatbank10_xanthate            0\n",
      "rougher.input.floatbank11_sulfate             0\n",
      "rougher.input.floatbank11_xanthate            0\n",
      "rougher.state.floatbank10_a_air               0\n",
      "rougher.state.floatbank10_a_level             0\n",
      "rougher.state.floatbank10_b_air               0\n",
      "rougher.state.floatbank10_b_level             0\n",
      "rougher.state.floatbank10_c_air               0\n",
      "rougher.state.floatbank10_c_level             0\n",
      "rougher.state.floatbank10_d_air               0\n",
      "rougher.state.floatbank10_d_level             0\n",
      "rougher.state.floatbank10_e_air               0\n",
      "rougher.state.floatbank10_e_level             0\n",
      "rougher.state.floatbank10_f_air               0\n",
      "rougher.state.floatbank10_f_level             0\n",
      "secondary_cleaner.state.floatbank2_a_air      0\n",
      "secondary_cleaner.state.floatbank2_a_level    0\n",
      "secondary_cleaner.state.floatbank2_b_air      0\n",
      "secondary_cleaner.state.floatbank2_b_level    0\n",
      "secondary_cleaner.state.floatbank3_a_air      0\n",
      "secondary_cleaner.state.floatbank3_a_level    0\n",
      "secondary_cleaner.state.floatbank3_b_air      0\n",
      "secondary_cleaner.state.floatbank3_b_level    0\n",
      "secondary_cleaner.state.floatbank4_a_air      0\n",
      "secondary_cleaner.state.floatbank4_a_level    0\n",
      "secondary_cleaner.state.floatbank4_b_air      0\n",
      "secondary_cleaner.state.floatbank4_b_level    0\n",
      "secondary_cleaner.state.floatbank5_a_air      0\n",
      "secondary_cleaner.state.floatbank5_a_level    0\n",
      "secondary_cleaner.state.floatbank5_b_air      0\n",
      "secondary_cleaner.state.floatbank5_b_level    0\n",
      "secondary_cleaner.state.floatbank6_a_air      0\n",
      "secondary_cleaner.state.floatbank6_a_level    0\n",
      "rougher.output.recovery                       0\n",
      "final.output.recovery                         0\n",
      "dtype: int64\n",
      "\n",
      "Количество дубликатов: 0 \n",
      "\n"
     ]
    }
   ],
   "source": [
    "get_info(data_test)"
   ]
  },
  {
   "cell_type": "markdown",
   "metadata": {},
   "source": [
    "### Вывод"
   ]
  },
  {
   "cell_type": "markdown",
   "metadata": {},
   "source": [
    "На данном этапе были выполнены следующие шаги:\n",
    "- Проверено, что эффективность обогащения рассчитана правильно.\n",
    "- Проанализированы признаки, недоступные в тестовой выборке. \n",
    "- Проведена предобработка данных."
   ]
  },
  {
   "cell_type": "markdown",
   "metadata": {},
   "source": [
    "## Анализ данных"
   ]
  },
  {
   "cell_type": "markdown",
   "metadata": {},
   "source": [
    "### Исследование концентраций металлов"
   ]
  },
  {
   "cell_type": "code",
   "execution_count": 24,
   "metadata": {
    "scrolled": false
   },
   "outputs": [
    {
     "data": {
      "image/png": "[encoded data removed]",
      "text/plain": [
       "<Figure size 1080x154.8 with 4 Axes>"
      ]
     },
     "metadata": {
      "needs_background": "light"
     },
     "output_type": "display_data"
    },
    {
     "data": {
      "image/png": "[encoded data removed]",
      "text/plain": [
       "<Figure size 1080x154.8 with 4 Axes>"
      ]
     },
     "metadata": {
      "needs_background": "light"
     },
     "output_type": "display_data"
    },
    {
     "data": {
      "image/png": "[encoded data removed]",
      "text/plain": [
       "<Figure size 1080x154.8 with 4 Axes>"
      ]
     },
     "metadata": {
      "needs_background": "light"
     },
     "output_type": "display_data"
    },
    {
     "data": {
      "image/png": "[encoded data removed]",
      "text/plain": [
       "<Figure size 1080x154.8 with 4 Axes>"
      ]
     },
     "metadata": {
      "needs_background": "light"
     },
     "output_type": "display_data"
    }
   ],
   "source": [
    "def plot_concentrate_hist(data, mask, name, colors):\n",
    "    \n",
    "    fig, axes = plt.subplot_mosaic([['Average Values', 'au', 'ag', 'pb']])\n",
    "    fig.set_figheight(2.15)\n",
    "    fig.set_figwidth(15)\n",
    "    \n",
    "    \n",
    "    avg = {}\n",
    "    avg['au'] = round(data[mask+'au'].mean(), 2)\n",
    "    avg['ag'] = round(data[mask+'ag'].mean(), 2)\n",
    "    avg['pb'] = round(data[mask+'pb'].mean(), 2)\n",
    "    \n",
    "    s = f'{name}'\n",
    "    axes['Average Values'].text(0, 1.05, s, fontsize=12, weight='bold')\n",
    "    s = f'Средние значения:\\n\\n  Au: {avg[\"au\"]}\\n\\n  Ag: {avg[\"ag\"]}\\n\\n  Pb: {avg[\"pb\"]}'\n",
    "    axes['Average Values'].text(0.1, 0.05, s, fontsize=12)\n",
    "    \n",
    "    axes['Average Values'].axis('off')\n",
    "\n",
    "    for key in ['au', 'ag', 'pb']:\n",
    "        data[mask+key].hist(bins=50, ax=axes[key], color=colors[key], grid=True)\n",
    "        axes[key].set_title(key.capitalize())\n",
    "        axes[key].set_xlim(0, 60)\n",
    "        axes[key].axvline(x=avg[key], color='#373737', ls='--')\n",
    "        \n",
    "\n",
    "        \n",
    "columns = ['rougher.input.feed_',\n",
    "       'rougher.output.concentrate_',\n",
    "       'primary_cleaner.output.concentrate_',\n",
    "       'final.output.concentrate_']\n",
    "\n",
    "\n",
    "colors = {'au':'#FFD24C', 'ag':'#adafb0', 'pb': '#97707A'}\n",
    "\n",
    "titles = ['Смесь руды', 'Черновой концентрат', 'I этап', 'Финальный концентрат']\n",
    "\n",
    "\n",
    "for i in range(len(columns)):\n",
    "    plot_concentrate_hist(data_full, columns[i], titles[i], colors)"
   ]
  },
  {
   "cell_type": "markdown",
   "metadata": {},
   "source": [
    "**Вывод:**\n",
    "- Концентрация золота увеличивается на каждом этапе очистки. Средняя итоговая концентрация равна 44.8.\n",
    "- Концентрация серебра незначительно меняется по мере прохождения этапов очистки. Наибольшая средняя концентрация в черновом концентрате - 11.99.  \n",
    "- Концентрация свинца сильно возрастает на этапе флотации и продолжает возрастать далее, до 9.98."
   ]
  },
  {
   "cell_type": "markdown",
   "metadata": {},
   "source": [
    "### Исследование гранул сырья"
   ]
  },
  {
   "cell_type": "markdown",
   "metadata": {},
   "source": [
    "Сравните распределения размеров гранул сырья на обучающей и тестовой выборках. Если распределения сильно отличаются друг от друга, оценка модели будет неправильной."
   ]
  },
  {
   "cell_type": "code",
   "execution_count": 25,
   "metadata": {
    "scrolled": false
   },
   "outputs": [
    {
     "data": {
      "image/png": "[encoded data removed]",
      "text/plain": [
       "<Figure size 1080x432 with 3 Axes>"
      ]
     },
     "metadata": {
      "needs_background": "light"
     },
     "output_type": "display_data"
    }
   ],
   "source": [
    "fig, ax = plt.subplots(1, 3, gridspec_kw={'width_ratios': [1, 2, 2]})\n",
    "fig.set_figheight(6)\n",
    "fig.set_figwidth(15)\n",
    "\n",
    "#summary table\n",
    "summary = pd.DataFrame(data=[data_train['rougher.input.feed_size'].describe(), data_test['rougher.input.feed_size'].describe()],\n",
    "             index = ['train', 'test']\n",
    "            ).transpose()\n",
    "\n",
    "bbox = [0, 0, 1, 1]\n",
    "ax[0].axis('off')\n",
    "ax[0].table(cellText=summary.values.round(2), rowLabels=summary.index, bbox=bbox, colLabels=summary.columns)\n",
    "\n",
    "# Гистограмма\n",
    "sns.kdeplot(data_train['rougher.input.feed_size'], \n",
    "             color='#949398FF', \n",
    "             label='train',\n",
    "             ax=ax[1]\n",
    "            )\n",
    "sns.kdeplot(data_test['rougher.input.feed_size'],\n",
    "             color='#F4DF4EFF', \n",
    "             label='test',\n",
    "             ax=ax[1]\n",
    "            )\n",
    "#data_train['rougher.input.feed_size'].hist(bins=50, color='#949398FF', label='train', ax=ax[1])\n",
    "#data_test['rougher.input.feed_size'].hist(bins=50, color='#F4DF4EFF', label='test', ax=ax[1])\n",
    "ax[1].legend()\n",
    "ax[1].set_title('Распределение размера')\n",
    "\n",
    "# Диаграмма размаха\n",
    "df_tr = pd.DataFrame()\n",
    "df_tr['feed_size'] = data_train['rougher.input.feed_size']\n",
    "df_tr['set'] = 'train'\n",
    "\n",
    "df_tst = pd.DataFrame()\n",
    "df_tst['feed_size']= data_test['rougher.input.feed_size']\n",
    "df_tst['set'] = 'test'\n",
    "\n",
    "df = pd.concat([df_tr, df_tst])\n",
    "\n",
    "sns.boxplot(data=df,\n",
    "            x='set',\n",
    "            y='feed_size',            \n",
    "            palette=['#949398FF', '#FFE743'],\n",
    "            width=0.3,\n",
    "            fliersize=0.4,\n",
    "            ax=ax[2]\n",
    "           )\n",
    "\n",
    "ax[2].set_ylim(0, 150)\n",
    "ax[2].set_title('Диаграмма размаха')\n",
    "\n",
    "None"
   ]
  },
  {
   "cell_type": "markdown",
   "metadata": {},
   "source": [
    "Размеры гранул сырья на обучающей и тестовой выборках сопоставимы."
   ]
  },
  {
   "cell_type": "code",
   "execution_count": 26,
   "metadata": {
    "scrolled": false
   },
   "outputs": [
    {
     "data": {
      "image/png": "[encoded data removed]",
      "text/plain": [
       "<Figure size 1080x432 with 3 Axes>"
      ]
     },
     "metadata": {
      "needs_background": "light"
     },
     "output_type": "display_data"
    }
   ],
   "source": [
    "fig, ax = plt.subplots(1, 3, gridspec_kw={'width_ratios': [1, 2, 2]})\n",
    "fig.set_figheight(6)\n",
    "fig.set_figwidth(15)\n",
    "\n",
    "#summary table\n",
    "summary = pd.DataFrame(data=[data_train['primary_cleaner.input.feed_size'].describe(), data_test['primary_cleaner.input.feed_size'].describe()],\n",
    "             index = ['train', 'test']\n",
    "            ).transpose()\n",
    "\n",
    "bbox = [0, 0, 1, 1]\n",
    "ax[0].axis('off')\n",
    "ax[0].table(cellText=summary.values.round(2), rowLabels=summary.index, bbox=bbox, colLabels=summary.columns)\n",
    "\n",
    "# Гистограмма\n",
    "sns.kdeplot(data_train['primary_cleaner.input.feed_size'], \n",
    "             color='#949398FF', \n",
    "             label='train',\n",
    "             ax=ax[1]\n",
    "            )\n",
    "sns.kdeplot(data_test['primary_cleaner.input.feed_size'],\n",
    "             color='#F4DF4EFF', \n",
    "             label='test',\n",
    "             ax=ax[1]\n",
    "            )\n",
    "\n",
    "ax[1].legend()\n",
    "ax[1].set_title('Распределение размера')\n",
    "\n",
    "# Диаграмма размаха\n",
    "df_tr = pd.DataFrame()\n",
    "df_tr['feed_size'] = data_train['primary_cleaner.input.feed_size']\n",
    "df_tr['set'] = 'train'\n",
    "\n",
    "df_tst = pd.DataFrame()\n",
    "df_tst['feed_size']= data_test['primary_cleaner.input.feed_size']\n",
    "df_tst['set'] = 'test'\n",
    "\n",
    "df = pd.concat([df_tr, df_tst])\n",
    "\n",
    "sns.boxplot(data=df,\n",
    "            x='set',\n",
    "            y='feed_size',            \n",
    "            palette=['#949398FF', '#FFE743'],\n",
    "            width=0.3,\n",
    "            fliersize=0.4,\n",
    "            ax=ax[2]\n",
    "           )\n",
    "\n",
    "ax[2].set_title('Диаграмма размаха')\n",
    "\n",
    "None"
   ]
  },
  {
   "cell_type": "markdown",
   "metadata": {},
   "source": [
    "Размеры гранул чернового концентрата на обучающей и тестовой выборках сопоставимы."
   ]
  },
  {
   "cell_type": "markdown",
   "metadata": {},
   "source": [
    "###  Исследование суммарной концентрации металлов"
   ]
  },
  {
   "cell_type": "markdown",
   "metadata": {},
   "source": [
    "Исследуйте суммарную концентрацию всех веществ на разных стадиях: в сырье, в черновом и финальном концентратах."
   ]
  },
  {
   "cell_type": "code",
   "execution_count": 27,
   "metadata": {
    "scrolled": false
   },
   "outputs": [
    {
     "data": {
      "image/png": "[encoded data removed]",
      "text/plain": [
       "<Figure size 432x720 with 4 Axes>"
      ]
     },
     "metadata": {
      "needs_background": "light"
     },
     "output_type": "display_data"
    }
   ],
   "source": [
    "concentrate = pd.DataFrame()\n",
    "concentrate['feed'] = data_full[['rougher.input.feed_ag', 'rougher.input.feed_pb', 'rougher.input.feed_au']].sum(axis=1)\n",
    "\n",
    "for stage in ['rougher', 'primary_cleaner', 'final']:    \n",
    "    concentrate[stage] = 0\n",
    "    for param in ['.output.concentrate_', '.output.tail_']:\n",
    "        for stuff in ['ag', 'pb', 'au']:\n",
    "            concentrate[stage] += data_full[stage + param + stuff]\n",
    "\n",
    "\n",
    "fig, ax = plt.subplots(4, 1, figsize=(6, 10))\n",
    "i = 0\n",
    "for col in concentrate.columns:\n",
    "    concentrate[col].hist(bins=80, alpha=0.6, range=(0,160), ax=ax[i], color='#949398FF')\n",
    "    ax[i].axvline(x=concentrate[col].mean(), color='#FFE743', ls='--')\n",
    "    ax[i].set_title(col)\n",
    "    i += 1\n",
    "fig.tight_layout()    \n",
    "None"
   ]
  },
  {
   "cell_type": "code",
   "execution_count": 28,
   "metadata": {
    "scrolled": true
   },
   "outputs": [
    {
     "data": {
      "text/plain": [
       "feed               20.646120\n",
       "rougher            47.423871\n",
       "primary_cleaner    73.904607\n",
       "final              74.681839\n",
       "dtype: float64"
      ]
     },
     "execution_count": 28,
     "metadata": {},
     "output_type": "execute_result"
    }
   ],
   "source": [
    "concentrate.mean()"
   ]
  },
  {
   "cell_type": "markdown",
   "metadata": {},
   "source": [
    "Общая концентрация веществ растет по мере прохождения этапов очистки. На основе предыдущих шагов можно сделать вывод, что это происходит исключительно из-за увеличения концентрации золота."
   ]
  },
  {
   "cell_type": "markdown",
   "metadata": {},
   "source": [
    "## Модель"
   ]
  },
  {
   "cell_type": "markdown",
   "metadata": {},
   "source": [
    "### Напишите функцию для вычисления итоговой sMAPE."
   ]
  },
  {
   "cell_type": "markdown",
   "metadata": {},
   "source": [
    "Для решения задачи используется метрику sMAPE:"
   ]
  },
  {
   "cell_type": "markdown",
   "metadata": {},
   "source": [
    "$$sMAPE = \\dfrac{1}{N}\\sum_{i=1}^{N} \\dfrac{|y_i - \\hat y_i|}{\\left( |y_i| + |\\hat y_i|\\right) / 2} \\times 100\\%$$\n",
    "\n",
    "где\n",
    "\n",
    "$y_i$ - значение целевого признака для объекта с порядковым номером i,\n",
    "\n",
    "$\\hat{y_i}$ - значение предсказания для объекта с порядковым номером i,\n",
    "    \n",
    "$N$ - количество объектов в выборке."
   ]
  },
  {
   "cell_type": "code",
   "execution_count": 29,
   "metadata": {},
   "outputs": [],
   "source": [
    "def smape(t, p):\n",
    "    metric_i = abs(t - p) / (abs(t) + abs(p)) * 2\n",
    "    return 1/len(t) * metric_i.sum() * 100"
   ]
  },
  {
   "cell_type": "markdown",
   "metadata": {},
   "source": [
    "Нужно спрогнозировать сразу две величины:\n",
    "- эффективность обогащения чернового концентрата `rougher.output.recovery`\n",
    "- эффективность обогащения финального концентрата `final.output.recovery`\n",
    "\n",
    "Итоговая метрика складывается из двух величин:\n",
    "\n",
    "$$Итоговое\\ sMAPE = 25\\% \\times sMAPE\\left(rougher\\right) + 75\\% \\times sMAPE\\left(final\\right)$$"
   ]
  },
  {
   "cell_type": "code",
   "execution_count": 30,
   "metadata": {},
   "outputs": [],
   "source": [
    "def final_smape(smape_r, smape_f):\n",
    "    return 0.25 * smape_r + 0.75 * smape_f"
   ]
  },
  {
   "cell_type": "markdown",
   "metadata": {},
   "source": [
    "### Подготовка признаков"
   ]
  },
  {
   "cell_type": "markdown",
   "metadata": {},
   "source": [
    "При обучении необходимо определить эфективность обогащения дважды: после флотации и в результате всего процесса. Концентрация золота после флотации определяется исходным сырьем и параметрами этого этапа, поэтому необходимо использовать только признаки `rougher.[тип_параметра].[название_параметра]`. На значение итоговой концентрации влияет состояние на каждом этапе, поэтому должны быть использованы все доступные признаки.\n",
    "\n",
    "Близкие по времени значения схожи, поэтому для улучшения обучения данные должны быть перемешаны."
   ]
  },
  {
   "cell_type": "code",
   "execution_count": 31,
   "metadata": {},
   "outputs": [],
   "source": [
    "#rougher train\n",
    "drop_names = [name for name in data_train.columns if name.find('rougher')] + ['rougher.output.recovery']\n",
    "feat_tr_r = data_train.drop(drop_names, axis=1)\n",
    "trgt_tr_r = data_train['rougher.output.recovery']\n",
    "feat_tr_r, trgt_tr_r = shuffle(\n",
    "        feat_tr_r, trgt_tr_r, random_state=12345)\n",
    "\n",
    "\n",
    "#rougher test\n",
    "drop_names = [name for name in data_test.columns if name.find('rougher')] + ['rougher.output.recovery']\n",
    "feat_tst_r = data_test.drop(drop_names, axis=1)\n",
    "trgt_tst_r = data_test['rougher.output.recovery']\n",
    "\n",
    "\n",
    "#final train\n",
    "feat_tr_f = data_train.drop(['rougher.output.recovery','final.output.recovery', 'date'], axis=1)\n",
    "trgt_tr_f = data_train['final.output.recovery']\n",
    "feat_tr_f, trgt_tr_f = shuffle(\n",
    "        feat_tr_f, trgt_tr_f, random_state=12345)\n",
    "\n",
    "#final test\n",
    "feat_tst_f = data_test.drop(['rougher.output.recovery','final.output.recovery', 'date'], axis=1)\n",
    "trgt_tst_f = data_test['final.output.recovery']\n",
    "None"
   ]
  },
  {
   "cell_type": "markdown",
   "metadata": {},
   "source": [
    "### Обучение моделей"
   ]
  },
  {
   "cell_type": "markdown",
   "metadata": {},
   "source": [
    "В качестве моделей рассматриваются \n",
    "- Дерево решений\n",
    "- Случайный лес\n",
    "- Линейная регрессия\n",
    "\n",
    "Предсказываются два параметра, для каждого должна быть определена наиболее эффективная модель на основе метрики sMAPE."
   ]
  },
  {
   "cell_type": "code",
   "execution_count": 32,
   "metadata": {},
   "outputs": [],
   "source": [
    "# <обучение модели>\n",
    "def train_model(model, parameters, features, target):\n",
    "    \n",
    "    model_search = RandomizedSearchCV(model, parameters, cv=4, \n",
    "                                      scoring=make_scorer(smape, greater_is_better=False), \n",
    "                                      random_state=12345\n",
    "                                     )\n",
    "    model_search.fit(features, target)\n",
    "    \n",
    "    return model_search, model_search.best_params_, abs(model_search.best_score_)\n",
    "    \n",
    "    \n",
    "# <красивая печать>\n",
    "def printer(params, sMAPE):\n",
    "    \n",
    "    print('Параметры модели:')\n",
    "    for key, value in params.items():\n",
    "        print(f'  {key}: {value}')\n",
    "    print('\\nsMAPE =', sMAPE.round(2))\n",
    "    \n",
    "\n",
    "# <красивый график targets vs predictions>\n",
    "def plot_target_vs_predict(target, predictions):\n",
    "\n",
    "    plt.scatter(target, target, label='target',  marker=\".\", lw=0.7, s=1, c='r')\n",
    "    plt.scatter(target, predictions, label='predict', marker=\",\", lw=0, s=1, alpha=0.2)\n",
    "    plt.xlabel('target')\n",
    "    plt.legend()\n",
    "    None"
   ]
  },
  {
   "cell_type": "markdown",
   "metadata": {},
   "source": [
    "#### Определение Recovery для чернового концентрата"
   ]
  },
  {
   "cell_type": "markdown",
   "metadata": {},
   "source": [
    "**Модель дерева решений**"
   ]
  },
  {
   "cell_type": "code",
   "execution_count": 33,
   "metadata": {},
   "outputs": [],
   "source": [
    "tree_model = DecisionTreeRegressor(random_state=12345)    \n",
    "parameters = {'max_depth': list(range(2, 20))}\n",
    "\n",
    "tree_model, tree_params, tree_score = train_model(tree_model, parameters, feat_tr_r, trgt_tr_r)"
   ]
  },
  {
   "cell_type": "code",
   "execution_count": 34,
   "metadata": {},
   "outputs": [
    {
     "name": "stdout",
     "output_type": "stream",
     "text": [
      "Параметры модели:\n",
      "  max_depth: 16\n",
      "\n",
      "sMAPE = 8.6\n"
     ]
    }
   ],
   "source": [
    "printer(tree_params, tree_score)"
   ]
  },
  {
   "cell_type": "markdown",
   "metadata": {},
   "source": [
    "**Модель случайного леса**"
   ]
  },
  {
   "cell_type": "code",
   "execution_count": 35,
   "metadata": {},
   "outputs": [],
   "source": [
    "forest_model = RandomForestRegressor(random_state=12345)    \n",
    "parameters = {'max_depth': list(range(2, 50)),\n",
    "              'n_estimators': list(range(1, 50))\n",
    "             }\n",
    "\n",
    "forest_model, forest_params, forest_score = train_model(forest_model, parameters, feat_tr_r, trgt_tr_r)"
   ]
  },
  {
   "cell_type": "code",
   "execution_count": 36,
   "metadata": {},
   "outputs": [
    {
     "name": "stdout",
     "output_type": "stream",
     "text": [
      "Параметры модели:\n",
      "  n_estimators: 47\n",
      "  max_depth: 45\n",
      "\n",
      "sMAPE = 8.23\n"
     ]
    }
   ],
   "source": [
    "printer(forest_params, forest_score)"
   ]
  },
  {
   "cell_type": "markdown",
   "metadata": {},
   "source": [
    "**Модель линейной регрессии**"
   ]
  },
  {
   "cell_type": "code",
   "execution_count": 37,
   "metadata": {},
   "outputs": [
    {
     "name": "stdout",
     "output_type": "stream",
     "text": [
      "sMAPE = 10.13\n"
     ]
    }
   ],
   "source": [
    "lr_model = LinearRegression()\n",
    "lr_score = abs(cross_val_score(lr_model, feat_tr_f, trgt_tr_r, scoring=make_scorer(smape, greater_is_better=False)).mean())\n",
    "print('sMAPE =', lr_score.round(2))"
   ]
  },
  {
   "cell_type": "code",
   "execution_count": 38,
   "metadata": {
    "scrolled": true
   },
   "outputs": [],
   "source": [
    "lr_model = LinearRegression()\n",
    "lr_model.fit(feat_tr_f, trgt_tr_r)\n",
    "None"
   ]
  },
  {
   "cell_type": "markdown",
   "metadata": {},
   "source": [
    "**Итоговая модель**"
   ]
  },
  {
   "cell_type": "markdown",
   "metadata": {},
   "source": [
    "Сравним метрики всех трех моделей:"
   ]
  },
  {
   "cell_type": "code",
   "execution_count": 39,
   "metadata": {},
   "outputs": [
    {
     "name": "stdout",
     "output_type": "stream",
     "text": [
      "Дерево решений: sMAPE = 8.6\n",
      "Случайный лес: sMAPE = 8.23\n",
      "Линейная регрессия: sMAPE = 10.13\n"
     ]
    }
   ],
   "source": [
    "print('Дерево решений: sMAPE =', tree_score.round(2))\n",
    "print('Случайный лес: sMAPE =', forest_score.round(2))\n",
    "print('Линейная регрессия: sMAPE =', lr_score.round(2))"
   ]
  },
  {
   "cell_type": "markdown",
   "metadata": {},
   "source": [
    "Лучшее значение sMAPE у модели случайного леса, поэтому она будет проверена на тестовой выборке."
   ]
  },
  {
   "cell_type": "code",
   "execution_count": 40,
   "metadata": {},
   "outputs": [],
   "source": [
    "rougher_model = forest_model\n",
    "rougher_model.fit(feat_tr_r, trgt_tr_r)\n",
    "None"
   ]
  },
  {
   "cell_type": "markdown",
   "metadata": {},
   "source": [
    "Визуально оценим качество модели. Построим график, отображающий предсказаное значение относительно действительного на обучающей выборке."
   ]
  },
  {
   "cell_type": "code",
   "execution_count": 41,
   "metadata": {},
   "outputs": [
    {
     "data": {
      "image/png": "[encoded data removed]",
      "text/plain": [
       "<Figure size 432x288 with 1 Axes>"
      ]
     },
     "metadata": {
      "needs_background": "light"
     },
     "output_type": "display_data"
    }
   ],
   "source": [
    "plot_target_vs_predict(trgt_tr_r, rougher_model.predict(feat_tr_r))"
   ]
  },
  {
   "cell_type": "markdown",
   "metadata": {},
   "source": [
    "Модель неплохо справляется с данными, для которых Recovery находится в пределах ~70-100. Данных с более низкими порогами меньше, и они предсказываются хуже."
   ]
  },
  {
   "cell_type": "markdown",
   "metadata": {},
   "source": [
    "#### Определение Recovery для финального концентрата"
   ]
  },
  {
   "cell_type": "markdown",
   "metadata": {},
   "source": [
    "**Модель дерева решений**"
   ]
  },
  {
   "cell_type": "code",
   "execution_count": 42,
   "metadata": {},
   "outputs": [],
   "source": [
    "tree_model = DecisionTreeRegressor(random_state=12345)    \n",
    "parameters = {'max_depth': list(range(2, 20))}\n",
    "\n",
    "tree_model, tree_params, tree_score = train_model(tree_model, parameters, feat_tr_f, trgt_tr_f)"
   ]
  },
  {
   "cell_type": "code",
   "execution_count": 43,
   "metadata": {
    "scrolled": true
   },
   "outputs": [
    {
     "name": "stdout",
     "output_type": "stream",
     "text": [
      "Параметры модели:\n",
      "  max_depth: 10\n",
      "\n",
      "sMAPE = 8.73\n"
     ]
    }
   ],
   "source": [
    "printer(tree_params, tree_score)"
   ]
  },
  {
   "cell_type": "markdown",
   "metadata": {},
   "source": [
    "**Модель случайного леса**"
   ]
  },
  {
   "cell_type": "code",
   "execution_count": 44,
   "metadata": {},
   "outputs": [],
   "source": [
    "forest_model = RandomForestRegressor(random_state=12345)    \n",
    "parameters = {'max_depth': list(range(2, 20)),\n",
    "              'n_estimators': list(range(2, 30))\n",
    "             }\n",
    "\n",
    "forest_model, forest_params, forest_score = train_model(forest_model, parameters, feat_tr_f, trgt_tr_f)"
   ]
  },
  {
   "cell_type": "code",
   "execution_count": 45,
   "metadata": {},
   "outputs": [
    {
     "name": "stdout",
     "output_type": "stream",
     "text": [
      "Параметры модели:\n",
      "  n_estimators: 29\n",
      "  max_depth: 19\n",
      "\n",
      "sMAPE = 6.98\n"
     ]
    }
   ],
   "source": [
    "printer(forest_params, forest_score)"
   ]
  },
  {
   "cell_type": "markdown",
   "metadata": {},
   "source": [
    "**Модель линейной регрессии**"
   ]
  },
  {
   "cell_type": "code",
   "execution_count": 46,
   "metadata": {},
   "outputs": [
    {
     "name": "stdout",
     "output_type": "stream",
     "text": [
      "sMAPE = 10.13 😎\n"
     ]
    }
   ],
   "source": [
    "lr_model = LinearRegression()\n",
    "lr_score = abs(cross_val_score(lr_model, feat_tr_f, trgt_tr_r, scoring=make_scorer(smape, greater_is_better=False)).mean())\n",
    "print('sMAPE =', lr_score.round(2)')"
   ]
  },
  {
   "cell_type": "markdown",
   "metadata": {},
   "source": [
    "**Итоговая модель**"
   ]
  },
  {
   "cell_type": "markdown",
   "metadata": {},
   "source": [
    "Сравним метрики всех трех моделей:"
   ]
  },
  {
   "cell_type": "code",
   "execution_count": 47,
   "metadata": {},
   "outputs": [
    {
     "name": "stdout",
     "output_type": "stream",
     "text": [
      "Дерево решений: sMAPE = 8.73\n",
      "Случайный лес: sMAPE = 6.98\n",
      "Линейная регрессия: sMAPE = 10.13\n"
     ]
    }
   ],
   "source": [
    "print('Дерево решений: sMAPE =', tree_score.round(2))\n",
    "print('Случайный лес: sMAPE =', forest_score.round(2))\n",
    "print('Линейная регрессия: sMAPE =', lr_score.round(2))"
   ]
  },
  {
   "cell_type": "markdown",
   "metadata": {},
   "source": [
    "Лучшее значение sMAPE у модели случайного леса, поэтому она будет проверена на тестовой выборке."
   ]
  },
  {
   "cell_type": "code",
   "execution_count": 58,
   "metadata": {},
   "outputs": [],
   "source": [
    "final_model = forest_model\n",
    "final_model.fit(feat_tr_f, trgt_tr_f)\n",
    "None"
   ]
  },
  {
   "cell_type": "markdown",
   "metadata": {},
   "source": [
    "Визуально оценим качество модели. Построим график, отображающий предсказаное значение относительно действительного на обучающей выборке."
   ]
  },
  {
   "cell_type": "code",
   "execution_count": 59,
   "metadata": {},
   "outputs": [
    {
     "data": {
      "image/png": "[encoded data removed]",
      "text/plain": [
       "<Figure size 432x288 with 1 Axes>"
      ]
     },
     "metadata": {
      "needs_background": "light"
     },
     "output_type": "display_data"
    }
   ],
   "source": [
    "plot_target_vs_predict(trgt_tr_f, final_model.predict(feat_tr_f))"
   ]
  },
  {
   "cell_type": "markdown",
   "metadata": {},
   "source": [
    "Модель неплохо справляется с данными, для которых Recovery находится в пределах ~60-80. Значения вне этих пределов хуже."
   ]
  },
  {
   "cell_type": "markdown",
   "metadata": {},
   "source": [
    "### Тестирование моделей"
   ]
  },
  {
   "cell_type": "markdown",
   "metadata": {},
   "source": [
    "Проведем тестирование моделей."
   ]
  },
  {
   "cell_type": "code",
   "execution_count": 60,
   "metadata": {
    "scrolled": true
   },
   "outputs": [
    {
     "name": "stdout",
     "output_type": "stream",
     "text": [
      "13.88\n"
     ]
    }
   ],
   "source": [
    "pred_r = rougher_model.predict(feat_tst_r)\n",
    "smape_r = smape(trgt_tst_r, pred_r)\n",
    "print(smape_r.round(2))"
   ]
  },
  {
   "cell_type": "code",
   "execution_count": 61,
   "metadata": {},
   "outputs": [
    {
     "data": {
      "image/png": "[encoded data removed]",
      "text/plain": [
       "<Figure size 432x288 with 1 Axes>"
      ]
     },
     "metadata": {
      "needs_background": "light"
     },
     "output_type": "display_data"
    }
   ],
   "source": [
    "plot_target_vs_predict(trgt_tst_r, rougher_model.predict(feat_tst_r))"
   ]
  },
  {
   "cell_type": "markdown",
   "metadata": {},
   "source": [
    "График для тестовых данных похож на график для обучающих, но sMAPE выше, что говорит в пользу малой переобученности модели."
   ]
  },
  {
   "cell_type": "code",
   "execution_count": 62,
   "metadata": {},
   "outputs": [
    {
     "name": "stdout",
     "output_type": "stream",
     "text": [
      "10.67\n"
     ]
    }
   ],
   "source": [
    "pred_f = final_model.predict(feat_tst_f)\n",
    "smape_f = smape(trgt_tst_f, pred_f)\n",
    "print(smape_f.round(2))"
   ]
  },
  {
   "cell_type": "code",
   "execution_count": 63,
   "metadata": {
    "scrolled": true
   },
   "outputs": [
    {
     "data": {
      "image/png": "[encoded data removed]",
      "text/plain": [
       "<Figure size 432x288 with 1 Axes>"
      ]
     },
     "metadata": {
      "needs_background": "light"
     },
     "output_type": "display_data"
    }
   ],
   "source": [
    "plot_target_vs_predict(trgt_tst_f, final_model.predict(feat_tst_f))"
   ]
  },
  {
   "cell_type": "markdown",
   "metadata": {},
   "source": [
    "График для тестовых данных похож на график для обучающих, но sMAPE выше, что говорит в пользу малой переобученности модели."
   ]
  },
  {
   "cell_type": "markdown",
   "metadata": {},
   "source": [
    "**ИТОГОВЫЙ sMAPE**"
   ]
  },
  {
   "cell_type": "code",
   "execution_count": 64,
   "metadata": {},
   "outputs": [
    {
     "data": {
      "text/plain": [
       "11.47"
      ]
     },
     "execution_count": 64,
     "metadata": {},
     "output_type": "execute_result"
    }
   ],
   "source": [
    "final_smape(smape_r, smape_f).round(2)"
   ]
  },
  {
   "cell_type": "markdown",
   "metadata": {},
   "source": [
    "### Проверка на адекватность"
   ]
  },
  {
   "cell_type": "markdown",
   "metadata": {},
   "source": [
    "Сравним выбранные модели с константной. В качестве значения предсказания воспользуемся средним значением:"
   ]
  },
  {
   "cell_type": "code",
   "execution_count": 55,
   "metadata": {},
   "outputs": [
    {
     "name": "stdout",
     "output_type": "stream",
     "text": [
      "10.38\n"
     ]
    }
   ],
   "source": [
    "smape_r_const = smape(trgt_tst_r, trgt_tr_r.mean())\n",
    "print(smape_r_const.round(2))"
   ]
  },
  {
   "cell_type": "code",
   "execution_count": 56,
   "metadata": {},
   "outputs": [
    {
     "name": "stdout",
     "output_type": "stream",
     "text": [
      "10.26\n"
     ]
    }
   ],
   "source": [
    "smape_f_const = smape(trgt_tst_f, trgt_tr_f.mean())\n",
    "print(smape_f_const.round(2))"
   ]
  },
  {
   "cell_type": "code",
   "execution_count": 57,
   "metadata": {},
   "outputs": [
    {
     "data": {
      "text/plain": [
       "10.0"
      ]
     },
     "execution_count": 57,
     "metadata": {},
     "output_type": "execute_result"
    }
   ],
   "source": [
    "final_smape(smape_r_const, smape_f_const).round()"
   ]
  },
  {
   "cell_type": "markdown",
   "metadata": {},
   "source": [
    "Рабочие модели показывают значения sMAPE выше, чем простая константная модель. Необходима дальнейшая доработка."
   ]
  },
  {
   "cell_type": "markdown",
   "metadata": {},
   "source": [
    "## Выводы"
   ]
  },
  {
   "cell_type": "markdown",
   "metadata": {},
   "source": [
    "В рамках проекта была выполнена предобработка данных: \n",
    "- Проверено, что эффективность обогащения рассчитана правильно\n",
    "- Проанализированы признаки, недоступные в тестовой выборке\n",
    "- Заполнены пропуски и убраны излишние данные.\n",
    "\n",
    "В качестве потенциальных моделей рассмотрены модели решающего дерева, случайного леса и логистической регрессии. Для каждой из них были подобраны гиперпараметры для улучшения качества при помощи кросс-валидации. \n",
    "\n",
    "В результате были подобраны 2 модели для предсказывания 2 целевых признаков. Модели были проверены на тестовой выборке. Итоговое значение sMAPE составляет 10."
   ]
  }
 ],
 "metadata": {
  "ExecuteTimeLog": [
   {
    "duration": 1578,
    "start_time": "2022-10-04T17:45:23.266Z"
   },
   {
    "duration": 1877,
    "start_time": "2022-10-04T17:45:55.008Z"
   },
   {
    "duration": 35,
    "start_time": "2022-10-04T17:46:13.333Z"
   },
   {
    "duration": 23,
    "start_time": "2022-10-04T17:46:43.344Z"
   },
   {
    "duration": 18,
    "start_time": "2022-10-04T17:47:04.914Z"
   },
   {
    "duration": 3,
    "start_time": "2022-10-04T17:48:57.248Z"
   },
   {
    "duration": 115,
    "start_time": "2022-10-04T17:49:10.659Z"
   },
   {
    "duration": 149,
    "start_time": "2022-10-04T17:49:14.821Z"
   },
   {
    "duration": 146,
    "start_time": "2022-10-04T17:49:40.909Z"
   },
   {
    "duration": 934,
    "start_time": "2022-10-04T17:50:01.534Z"
   },
   {
    "duration": 149,
    "start_time": "2022-10-04T17:50:07.620Z"
   },
   {
    "duration": 128,
    "start_time": "2022-10-04T17:50:09.871Z"
   },
   {
    "duration": 46,
    "start_time": "2022-10-04T17:51:18.596Z"
   },
   {
    "duration": 4,
    "start_time": "2022-10-04T17:51:57.833Z"
   },
   {
    "duration": 130,
    "start_time": "2022-10-04T17:51:58.334Z"
   },
   {
    "duration": 4,
    "start_time": "2022-10-04T17:52:49.109Z"
   },
   {
    "duration": 135,
    "start_time": "2022-10-04T17:52:50.359Z"
   },
   {
    "duration": 10,
    "start_time": "2022-10-04T18:07:08.816Z"
   },
   {
    "duration": 104,
    "start_time": "2022-10-04T18:07:14.538Z"
   },
   {
    "duration": 28,
    "start_time": "2022-10-04T18:08:58.538Z"
   },
   {
    "duration": 5,
    "start_time": "2022-10-06T08:04:25.533Z"
   },
   {
    "duration": 7,
    "start_time": "2022-10-06T08:08:41.254Z"
   },
   {
    "duration": 1508,
    "start_time": "2022-10-06T08:08:49.322Z"
   },
   {
    "duration": 750,
    "start_time": "2022-10-06T08:08:50.832Z"
   },
   {
    "duration": 4,
    "start_time": "2022-10-06T08:08:51.590Z"
   },
   {
    "duration": 147,
    "start_time": "2022-10-06T08:08:51.597Z"
   },
   {
    "duration": 43,
    "start_time": "2022-10-06T08:08:51.746Z"
   },
   {
    "duration": 7,
    "start_time": "2022-10-06T08:08:51.796Z"
   },
   {
    "duration": 3,
    "start_time": "2022-10-06T08:10:09.832Z"
   },
   {
    "duration": 8,
    "start_time": "2022-10-06T08:10:59.537Z"
   },
   {
    "duration": 95,
    "start_time": "2022-10-06T08:11:17.351Z"
   },
   {
    "duration": 8,
    "start_time": "2022-10-06T08:11:20.587Z"
   },
   {
    "duration": 6,
    "start_time": "2022-10-06T08:11:43.386Z"
   },
   {
    "duration": 5,
    "start_time": "2022-10-06T08:11:53.111Z"
   },
   {
    "duration": 6,
    "start_time": "2022-10-06T08:12:46.663Z"
   },
   {
    "duration": 5,
    "start_time": "2022-10-06T08:14:33.752Z"
   },
   {
    "duration": 147,
    "start_time": "2022-10-06T08:15:31.476Z"
   },
   {
    "duration": 5,
    "start_time": "2022-10-06T08:19:02.351Z"
   },
   {
    "duration": 5,
    "start_time": "2022-10-06T08:34:22.330Z"
   },
   {
    "duration": 9,
    "start_time": "2022-10-06T09:04:15.032Z"
   },
   {
    "duration": 9,
    "start_time": "2022-10-06T09:04:25.693Z"
   },
   {
    "duration": 6,
    "start_time": "2022-10-06T09:04:29.120Z"
   },
   {
    "duration": 6,
    "start_time": "2022-10-06T09:04:41.671Z"
   },
   {
    "duration": 22,
    "start_time": "2022-10-06T09:08:03.982Z"
   },
   {
    "duration": 9,
    "start_time": "2022-10-06T09:08:54.888Z"
   },
   {
    "duration": 8,
    "start_time": "2022-10-06T09:09:04.843Z"
   },
   {
    "duration": 7,
    "start_time": "2022-10-06T09:18:10.769Z"
   },
   {
    "duration": 19,
    "start_time": "2022-10-06T09:19:13.121Z"
   },
   {
    "duration": 8,
    "start_time": "2022-10-06T09:19:43.221Z"
   },
   {
    "duration": 7,
    "start_time": "2022-10-06T09:19:46.226Z"
   },
   {
    "duration": 9,
    "start_time": "2022-10-06T09:20:32.901Z"
   },
   {
    "duration": 9,
    "start_time": "2022-10-06T09:21:27.556Z"
   },
   {
    "duration": 5,
    "start_time": "2022-10-06T09:21:46.419Z"
   },
   {
    "duration": 13,
    "start_time": "2022-10-06T09:22:33.896Z"
   },
   {
    "duration": 19,
    "start_time": "2022-10-06T09:22:43.882Z"
   },
   {
    "duration": 8,
    "start_time": "2022-10-06T09:22:57.745Z"
   },
   {
    "duration": 7,
    "start_time": "2022-10-06T09:24:46.521Z"
   },
   {
    "duration": 6,
    "start_time": "2022-10-06T09:24:53.207Z"
   },
   {
    "duration": 6,
    "start_time": "2022-10-06T09:25:05.632Z"
   },
   {
    "duration": 5,
    "start_time": "2022-10-06T09:25:23.421Z"
   },
   {
    "duration": 5,
    "start_time": "2022-10-06T09:25:23.982Z"
   },
   {
    "duration": 9,
    "start_time": "2022-10-06T09:25:35.894Z"
   },
   {
    "duration": 9,
    "start_time": "2022-10-06T09:34:57.458Z"
   },
   {
    "duration": 9,
    "start_time": "2022-10-06T09:35:09.111Z"
   },
   {
    "duration": 98,
    "start_time": "2022-10-06T09:53:03.112Z"
   },
   {
    "duration": 13,
    "start_time": "2022-10-06T09:55:13.150Z"
   },
   {
    "duration": 13,
    "start_time": "2022-10-06T09:55:25.837Z"
   },
   {
    "duration": 10,
    "start_time": "2022-10-06T09:55:58.240Z"
   },
   {
    "duration": 275,
    "start_time": "2022-10-06T10:01:35.335Z"
   },
   {
    "duration": 1572,
    "start_time": "2022-10-06T10:01:55.882Z"
   },
   {
    "duration": 729,
    "start_time": "2022-10-06T10:01:57.457Z"
   },
   {
    "duration": 24,
    "start_time": "2022-10-06T10:01:58.188Z"
   },
   {
    "duration": 28,
    "start_time": "2022-10-06T10:01:58.215Z"
   },
   {
    "duration": 13,
    "start_time": "2022-10-06T10:01:58.246Z"
   },
   {
    "duration": 28,
    "start_time": "2022-10-06T10:01:58.262Z"
   },
   {
    "duration": 13,
    "start_time": "2022-10-06T10:01:58.293Z"
   },
   {
    "duration": 12,
    "start_time": "2022-10-06T10:01:58.309Z"
   },
   {
    "duration": 11,
    "start_time": "2022-10-06T10:01:58.324Z"
   },
   {
    "duration": 111,
    "start_time": "2022-10-06T10:01:58.339Z"
   },
   {
    "duration": 290,
    "start_time": "2022-10-06T10:01:58.452Z"
   },
   {
    "duration": 1448,
    "start_time": "2022-10-06T10:02:41.214Z"
   },
   {
    "duration": 711,
    "start_time": "2022-10-06T10:02:42.664Z"
   },
   {
    "duration": 26,
    "start_time": "2022-10-06T10:02:43.377Z"
   },
   {
    "duration": 18,
    "start_time": "2022-10-06T10:02:43.406Z"
   },
   {
    "duration": 10,
    "start_time": "2022-10-06T10:02:43.427Z"
   },
   {
    "duration": 9,
    "start_time": "2022-10-06T10:02:43.439Z"
   },
   {
    "duration": 7,
    "start_time": "2022-10-06T10:02:43.450Z"
   },
   {
    "duration": 37,
    "start_time": "2022-10-06T10:02:43.458Z"
   },
   {
    "duration": 5,
    "start_time": "2022-10-06T10:02:43.497Z"
   },
   {
    "duration": 103,
    "start_time": "2022-10-06T10:02:43.504Z"
   },
   {
    "duration": 260,
    "start_time": "2022-10-06T10:02:43.609Z"
   },
   {
    "duration": 243,
    "start_time": "2022-10-06T10:03:12.689Z"
   },
   {
    "duration": 118,
    "start_time": "2022-10-06T10:07:16.514Z"
   },
   {
    "duration": 13,
    "start_time": "2022-10-06T10:07:26.476Z"
   },
   {
    "duration": 21,
    "start_time": "2022-10-06T10:07:41.789Z"
   },
   {
    "duration": 67,
    "start_time": "2022-10-06T10:08:29.209Z"
   },
   {
    "duration": 16,
    "start_time": "2022-10-06T10:08:50.639Z"
   },
   {
    "duration": 16,
    "start_time": "2022-10-06T10:08:58.989Z"
   },
   {
    "duration": 10,
    "start_time": "2022-10-06T10:09:42.303Z"
   },
   {
    "duration": 13,
    "start_time": "2022-10-06T10:09:49.652Z"
   },
   {
    "duration": 93,
    "start_time": "2022-10-06T10:10:22.702Z"
   },
   {
    "duration": 104,
    "start_time": "2022-10-06T10:10:41.447Z"
   },
   {
    "duration": 34,
    "start_time": "2022-10-06T10:11:18.564Z"
   },
   {
    "duration": 6,
    "start_time": "2022-10-06T10:11:28.747Z"
   },
   {
    "duration": 5,
    "start_time": "2022-10-06T10:11:43.106Z"
   },
   {
    "duration": 25,
    "start_time": "2022-10-06T10:16:38.384Z"
   },
   {
    "duration": 16,
    "start_time": "2022-10-06T10:17:10.328Z"
   },
   {
    "duration": 85,
    "start_time": "2022-10-06T10:17:47.009Z"
   },
   {
    "duration": 103,
    "start_time": "2022-10-06T10:18:08.315Z"
   },
   {
    "duration": 11,
    "start_time": "2022-10-06T10:18:28.041Z"
   },
   {
    "duration": 79,
    "start_time": "2022-10-06T10:18:44.916Z"
   },
   {
    "duration": 110,
    "start_time": "2022-10-06T10:19:02.465Z"
   },
   {
    "duration": 1461,
    "start_time": "2022-10-06T10:19:16.177Z"
   },
   {
    "duration": 10,
    "start_time": "2022-10-06T10:19:35.066Z"
   },
   {
    "duration": 76,
    "start_time": "2022-10-06T10:19:53.580Z"
   },
   {
    "duration": 93,
    "start_time": "2022-10-06T10:20:08.128Z"
   },
   {
    "duration": 14,
    "start_time": "2022-10-06T10:21:12.566Z"
   },
   {
    "duration": 10,
    "start_time": "2022-10-06T10:21:47.640Z"
   },
   {
    "duration": 34,
    "start_time": "2022-10-06T10:22:51.496Z"
   },
   {
    "duration": 47,
    "start_time": "2022-10-06T10:23:37.569Z"
   },
   {
    "duration": 43,
    "start_time": "2022-10-06T10:23:45.028Z"
   },
   {
    "duration": 43,
    "start_time": "2022-10-06T10:23:49.511Z"
   },
   {
    "duration": 71,
    "start_time": "2022-10-06T10:24:01.841Z"
   },
   {
    "duration": 46,
    "start_time": "2022-10-06T10:24:05.503Z"
   },
   {
    "duration": 11,
    "start_time": "2022-10-06T10:26:06.679Z"
   },
   {
    "duration": 46,
    "start_time": "2022-10-06T10:26:16.711Z"
   },
   {
    "duration": 30,
    "start_time": "2022-10-06T10:26:27.384Z"
   },
   {
    "duration": 50,
    "start_time": "2022-10-06T10:32:36.905Z"
   },
   {
    "duration": 28,
    "start_time": "2022-10-06T10:32:38.279Z"
   },
   {
    "duration": 15,
    "start_time": "2022-10-06T10:36:38.230Z"
   },
   {
    "duration": 24,
    "start_time": "2022-10-06T10:36:53.579Z"
   },
   {
    "duration": 6,
    "start_time": "2022-10-06T10:41:51.355Z"
   },
   {
    "duration": 5,
    "start_time": "2022-10-06T10:42:01.918Z"
   },
   {
    "duration": 6,
    "start_time": "2022-10-06T10:42:13.505Z"
   },
   {
    "duration": 5,
    "start_time": "2022-10-06T10:42:33.718Z"
   },
   {
    "duration": 6,
    "start_time": "2022-10-06T10:42:42.943Z"
   },
   {
    "duration": 7,
    "start_time": "2022-10-06T10:42:50.805Z"
   },
   {
    "duration": 4,
    "start_time": "2022-10-06T10:43:24.369Z"
   },
   {
    "duration": 7,
    "start_time": "2022-10-06T10:43:26.818Z"
   },
   {
    "duration": 9,
    "start_time": "2022-10-06T10:44:06.532Z"
   },
   {
    "duration": 17,
    "start_time": "2022-10-06T10:44:21.618Z"
   },
   {
    "duration": 13,
    "start_time": "2022-10-06T10:45:45.858Z"
   },
   {
    "duration": 1630,
    "start_time": "2022-10-06T10:45:51.819Z"
   },
   {
    "duration": 684,
    "start_time": "2022-10-06T10:45:55.500Z"
   },
   {
    "duration": 8,
    "start_time": "2022-10-06T10:46:10.931Z"
   },
   {
    "duration": 10,
    "start_time": "2022-10-06T10:47:00.841Z"
   },
   {
    "duration": 6,
    "start_time": "2022-10-06T10:47:09.544Z"
   },
   {
    "duration": 7,
    "start_time": "2022-10-06T10:47:28.363Z"
   },
   {
    "duration": 6,
    "start_time": "2022-10-06T10:47:34.681Z"
   },
   {
    "duration": 6,
    "start_time": "2022-10-06T10:48:00.720Z"
   },
   {
    "duration": 7,
    "start_time": "2022-10-06T10:48:41.118Z"
   },
   {
    "duration": 5,
    "start_time": "2022-10-06T10:49:31.719Z"
   },
   {
    "duration": 8,
    "start_time": "2022-10-06T10:49:49.726Z"
   },
   {
    "duration": 6,
    "start_time": "2022-10-06T10:50:53.157Z"
   },
   {
    "duration": 7,
    "start_time": "2022-10-06T10:51:01.756Z"
   },
   {
    "duration": 7,
    "start_time": "2022-10-06T10:51:14.331Z"
   },
   {
    "duration": 6,
    "start_time": "2022-10-06T10:51:51.170Z"
   },
   {
    "duration": 6,
    "start_time": "2022-10-06T10:51:54.632Z"
   },
   {
    "duration": 6,
    "start_time": "2022-10-06T10:51:58.019Z"
   },
   {
    "duration": 6,
    "start_time": "2022-10-06T10:52:00.905Z"
   },
   {
    "duration": 5,
    "start_time": "2022-10-06T10:52:03.869Z"
   },
   {
    "duration": 6,
    "start_time": "2022-10-06T10:52:29.069Z"
   },
   {
    "duration": 8,
    "start_time": "2022-10-06T10:52:51.869Z"
   },
   {
    "duration": 1234,
    "start_time": "2022-10-06T10:54:39.983Z"
   },
   {
    "duration": 8,
    "start_time": "2022-10-06T10:54:44.034Z"
   },
   {
    "duration": 7,
    "start_time": "2022-10-06T10:55:16.384Z"
   },
   {
    "duration": 9,
    "start_time": "2022-10-06T10:55:20.145Z"
   },
   {
    "duration": 443,
    "start_time": "2022-10-06T10:55:38.134Z"
   },
   {
    "duration": 29,
    "start_time": "2022-10-06T10:56:11.070Z"
   },
   {
    "duration": 68,
    "start_time": "2022-10-06T10:56:33.053Z"
   },
   {
    "duration": 13,
    "start_time": "2022-10-06T11:02:00.486Z"
   },
   {
    "duration": 18,
    "start_time": "2022-10-06T11:02:30.348Z"
   },
   {
    "duration": 14,
    "start_time": "2022-10-06T11:03:24.046Z"
   },
   {
    "duration": 12,
    "start_time": "2022-10-06T11:04:05.835Z"
   },
   {
    "duration": 7,
    "start_time": "2022-10-06T11:05:50.460Z"
   },
   {
    "duration": 12,
    "start_time": "2022-10-06T11:06:19.610Z"
   },
   {
    "duration": 18,
    "start_time": "2022-10-06T11:07:13.335Z"
   },
   {
    "duration": 20,
    "start_time": "2022-10-06T11:07:30.186Z"
   },
   {
    "duration": 14,
    "start_time": "2022-10-06T11:08:06.410Z"
   },
   {
    "duration": 15,
    "start_time": "2022-10-06T11:08:11.109Z"
   },
   {
    "duration": 4,
    "start_time": "2022-10-06T11:08:27.385Z"
   },
   {
    "duration": 25,
    "start_time": "2022-10-06T11:08:38.687Z"
   },
   {
    "duration": 18,
    "start_time": "2022-10-06T11:08:48.805Z"
   },
   {
    "duration": 5,
    "start_time": "2022-10-06T11:09:01.773Z"
   },
   {
    "duration": 14,
    "start_time": "2022-10-06T11:09:06.923Z"
   },
   {
    "duration": 7,
    "start_time": "2022-10-06T11:09:47.085Z"
   },
   {
    "duration": 7,
    "start_time": "2022-10-06T11:10:11.835Z"
   },
   {
    "duration": 5,
    "start_time": "2022-10-06T11:10:17.135Z"
   },
   {
    "duration": 8,
    "start_time": "2022-10-06T11:10:21.010Z"
   },
   {
    "duration": 491,
    "start_time": "2022-10-06T11:54:03.850Z"
   },
   {
    "duration": 385,
    "start_time": "2022-10-06T11:54:32.951Z"
   },
   {
    "duration": 1579,
    "start_time": "2022-10-06T11:56:27.189Z"
   },
   {
    "duration": 724,
    "start_time": "2022-10-06T11:56:28.770Z"
   },
   {
    "duration": 20,
    "start_time": "2022-10-06T11:56:29.496Z"
   },
   {
    "duration": 15,
    "start_time": "2022-10-06T11:56:29.518Z"
   },
   {
    "duration": 379,
    "start_time": "2022-10-06T11:57:27.612Z"
   },
   {
    "duration": 417,
    "start_time": "2022-10-06T11:57:39.195Z"
   },
   {
    "duration": 394,
    "start_time": "2022-10-06T11:59:21.925Z"
   },
   {
    "duration": 1497,
    "start_time": "2022-10-06T11:59:35.485Z"
   },
   {
    "duration": 742,
    "start_time": "2022-10-06T11:59:36.985Z"
   },
   {
    "duration": 21,
    "start_time": "2022-10-06T11:59:37.732Z"
   },
   {
    "duration": 34,
    "start_time": "2022-10-06T11:59:37.756Z"
   },
   {
    "duration": 13,
    "start_time": "2022-10-06T11:59:37.792Z"
   },
   {
    "duration": 9,
    "start_time": "2022-10-06T11:59:37.806Z"
   },
   {
    "duration": 5,
    "start_time": "2022-10-06T11:59:37.816Z"
   },
   {
    "duration": 10,
    "start_time": "2022-10-06T11:59:37.824Z"
   },
   {
    "duration": 5,
    "start_time": "2022-10-06T11:59:37.836Z"
   },
   {
    "duration": 132,
    "start_time": "2022-10-06T11:59:37.843Z"
   },
   {
    "duration": 70,
    "start_time": "2022-10-06T11:59:37.977Z"
   },
   {
    "duration": 21,
    "start_time": "2022-10-06T11:59:38.049Z"
   },
   {
    "duration": 5,
    "start_time": "2022-10-06T11:59:38.088Z"
   },
   {
    "duration": 9,
    "start_time": "2022-10-06T11:59:38.095Z"
   },
   {
    "duration": 6,
    "start_time": "2022-10-06T11:59:38.105Z"
   },
   {
    "duration": 9,
    "start_time": "2022-10-06T11:59:38.113Z"
   },
   {
    "duration": 10,
    "start_time": "2022-10-06T11:59:38.124Z"
   },
   {
    "duration": 14,
    "start_time": "2022-10-06T11:59:38.135Z"
   },
   {
    "duration": 394,
    "start_time": "2022-10-06T12:00:57.260Z"
   },
   {
    "duration": 4,
    "start_time": "2022-10-06T12:01:07.070Z"
   },
   {
    "duration": 375,
    "start_time": "2022-10-06T12:01:17.010Z"
   },
   {
    "duration": 32,
    "start_time": "2022-10-06T12:01:24.471Z"
   },
   {
    "duration": 496,
    "start_time": "2022-10-06T12:02:59.704Z"
   },
   {
    "duration": 391,
    "start_time": "2022-10-06T12:03:04.484Z"
   },
   {
    "duration": 14,
    "start_time": "2022-10-06T12:04:38.484Z"
   },
   {
    "duration": 14,
    "start_time": "2022-10-06T12:04:41.734Z"
   },
   {
    "duration": 29,
    "start_time": "2022-10-06T12:04:53.848Z"
   },
   {
    "duration": 18,
    "start_time": "2022-10-06T12:06:28.113Z"
   },
   {
    "duration": 21,
    "start_time": "2022-10-06T12:06:59.484Z"
   },
   {
    "duration": 33,
    "start_time": "2022-10-06T12:07:17.037Z"
   },
   {
    "duration": 23,
    "start_time": "2022-10-06T12:07:29.960Z"
   },
   {
    "duration": 29,
    "start_time": "2022-10-06T12:08:05.002Z"
   },
   {
    "duration": 41,
    "start_time": "2022-10-06T12:08:15.059Z"
   },
   {
    "duration": 45,
    "start_time": "2022-10-06T12:09:04.999Z"
   },
   {
    "duration": 27,
    "start_time": "2022-10-06T12:10:07.174Z"
   },
   {
    "duration": 32,
    "start_time": "2022-10-06T12:11:03.160Z"
   },
   {
    "duration": 31,
    "start_time": "2022-10-06T12:11:12.917Z"
   },
   {
    "duration": 18,
    "start_time": "2022-10-06T12:11:28.610Z"
   },
   {
    "duration": 27,
    "start_time": "2022-10-06T12:12:35.524Z"
   },
   {
    "duration": 26,
    "start_time": "2022-10-06T12:12:47.361Z"
   },
   {
    "duration": 15,
    "start_time": "2022-10-06T12:12:53.413Z"
   },
   {
    "duration": 37,
    "start_time": "2022-10-06T12:14:33.964Z"
   },
   {
    "duration": 39,
    "start_time": "2022-10-06T12:14:52.062Z"
   },
   {
    "duration": 59,
    "start_time": "2022-10-06T12:15:16.674Z"
   },
   {
    "duration": 19,
    "start_time": "2022-10-06T12:15:39.462Z"
   },
   {
    "duration": 35,
    "start_time": "2022-10-06T12:16:26.224Z"
   },
   {
    "duration": 1664,
    "start_time": "2022-10-06T12:18:05.663Z"
   },
   {
    "duration": 83,
    "start_time": "2022-10-06T12:18:19.339Z"
   },
   {
    "duration": 102,
    "start_time": "2022-10-06T12:22:13.262Z"
   },
   {
    "duration": 5,
    "start_time": "2022-10-06T12:22:56.563Z"
   },
   {
    "duration": 6,
    "start_time": "2022-10-06T12:23:20.551Z"
   },
   {
    "duration": 64,
    "start_time": "2022-10-06T12:26:03.426Z"
   },
   {
    "duration": 37,
    "start_time": "2022-10-06T12:26:08.726Z"
   },
   {
    "duration": 34,
    "start_time": "2022-10-06T12:33:54.530Z"
   },
   {
    "duration": 22,
    "start_time": "2022-10-06T12:34:35.373Z"
   },
   {
    "duration": 13,
    "start_time": "2022-10-06T12:34:52.366Z"
   },
   {
    "duration": 4,
    "start_time": "2022-10-06T12:43:30.147Z"
   },
   {
    "duration": 7,
    "start_time": "2022-10-06T12:43:33.977Z"
   },
   {
    "duration": 23,
    "start_time": "2022-10-06T12:43:52.522Z"
   },
   {
    "duration": 7,
    "start_time": "2022-10-06T12:44:07.533Z"
   },
   {
    "duration": 42,
    "start_time": "2022-10-06T12:44:38.272Z"
   },
   {
    "duration": 53,
    "start_time": "2022-10-06T12:45:11.254Z"
   },
   {
    "duration": 90,
    "start_time": "2022-10-06T12:46:25.829Z"
   },
   {
    "duration": 101,
    "start_time": "2022-10-06T12:46:34.659Z"
   },
   {
    "duration": 9,
    "start_time": "2022-10-06T12:47:27.610Z"
   },
   {
    "duration": 4,
    "start_time": "2022-10-06T12:47:33.123Z"
   },
   {
    "duration": 5,
    "start_time": "2022-10-06T12:47:38.660Z"
   },
   {
    "duration": 23,
    "start_time": "2022-10-06T12:50:45.207Z"
   },
   {
    "duration": 125,
    "start_time": "2022-10-06T12:51:05.487Z"
   },
   {
    "duration": 4,
    "start_time": "2022-10-06T12:51:30.824Z"
   },
   {
    "duration": 125,
    "start_time": "2022-10-06T12:51:39.302Z"
   },
   {
    "duration": 14,
    "start_time": "2022-10-06T12:52:30.205Z"
   },
   {
    "duration": 116,
    "start_time": "2022-10-06T12:52:35.888Z"
   },
   {
    "duration": 153,
    "start_time": "2022-10-06T12:54:07.862Z"
   },
   {
    "duration": 25,
    "start_time": "2022-10-06T12:58:19.818Z"
   },
   {
    "duration": 41,
    "start_time": "2022-10-06T12:59:31.230Z"
   },
   {
    "duration": 18,
    "start_time": "2022-10-06T12:59:43.651Z"
   },
   {
    "duration": 279,
    "start_time": "2022-10-06T13:00:03.352Z"
   },
   {
    "duration": 326,
    "start_time": "2022-10-06T13:00:14.189Z"
   },
   {
    "duration": 28,
    "start_time": "2022-10-06T13:00:42.026Z"
   },
   {
    "duration": 326,
    "start_time": "2022-10-06T13:00:49.118Z"
   },
   {
    "duration": 4,
    "start_time": "2022-10-06T13:01:50.352Z"
   },
   {
    "duration": 343,
    "start_time": "2022-10-06T13:01:58.797Z"
   },
   {
    "duration": 11,
    "start_time": "2022-10-06T13:03:18.017Z"
   },
   {
    "duration": 302,
    "start_time": "2022-10-06T13:03:31.229Z"
   },
   {
    "duration": 275,
    "start_time": "2022-10-06T13:04:03.080Z"
   },
   {
    "duration": 104,
    "start_time": "2022-10-06T13:06:59.032Z"
   },
   {
    "duration": 8,
    "start_time": "2022-10-06T13:10:32.185Z"
   },
   {
    "duration": 1551,
    "start_time": "2022-10-06T13:10:42.991Z"
   },
   {
    "duration": 812,
    "start_time": "2022-10-06T13:10:44.544Z"
   },
   {
    "duration": 18,
    "start_time": "2022-10-06T13:10:45.358Z"
   },
   {
    "duration": 70,
    "start_time": "2022-10-06T13:10:45.378Z"
   },
   {
    "duration": 29,
    "start_time": "2022-10-06T13:10:45.450Z"
   },
   {
    "duration": 107,
    "start_time": "2022-10-06T13:10:45.481Z"
   },
   {
    "duration": 33,
    "start_time": "2022-10-06T13:10:45.591Z"
   },
   {
    "duration": 83,
    "start_time": "2022-10-06T13:10:45.626Z"
   },
   {
    "duration": 29,
    "start_time": "2022-10-06T13:10:45.710Z"
   },
   {
    "duration": 10,
    "start_time": "2022-10-06T13:10:45.742Z"
   },
   {
    "duration": 11,
    "start_time": "2022-10-06T13:10:45.753Z"
   },
   {
    "duration": 33,
    "start_time": "2022-10-06T13:10:45.766Z"
   },
   {
    "duration": 29,
    "start_time": "2022-10-06T13:10:45.801Z"
   },
   {
    "duration": 20,
    "start_time": "2022-10-06T13:10:45.832Z"
   },
   {
    "duration": 107,
    "start_time": "2022-10-06T13:10:45.853Z"
   },
   {
    "duration": 177,
    "start_time": "2022-10-06T13:10:45.962Z"
   },
   {
    "duration": 299,
    "start_time": "2022-10-06T13:10:46.141Z"
   },
   {
    "duration": 12,
    "start_time": "2022-10-06T13:10:46.441Z"
   },
   {
    "duration": 29,
    "start_time": "2022-10-06T13:10:46.455Z"
   },
   {
    "duration": 64,
    "start_time": "2022-10-06T13:10:46.485Z"
   },
   {
    "duration": 25,
    "start_time": "2022-10-06T13:10:46.550Z"
   },
   {
    "duration": 54,
    "start_time": "2022-10-06T13:10:46.577Z"
   },
   {
    "duration": 78,
    "start_time": "2022-10-06T13:11:41.309Z"
   },
   {
    "duration": 64,
    "start_time": "2022-10-06T13:11:58.519Z"
   },
   {
    "duration": 79,
    "start_time": "2022-10-06T13:12:23.352Z"
   },
   {
    "duration": 18,
    "start_time": "2022-10-06T13:13:23.820Z"
   },
   {
    "duration": 21,
    "start_time": "2022-10-06T13:13:35.022Z"
   },
   {
    "duration": 67,
    "start_time": "2022-10-06T13:14:44.154Z"
   },
   {
    "duration": 151,
    "start_time": "2022-10-06T13:15:05.522Z"
   },
   {
    "duration": 21,
    "start_time": "2022-10-06T13:15:23.756Z"
   },
   {
    "duration": 59,
    "start_time": "2022-10-06T13:16:04.022Z"
   },
   {
    "duration": 22,
    "start_time": "2022-10-06T13:18:57.382Z"
   },
   {
    "duration": 60,
    "start_time": "2022-10-06T13:19:27.917Z"
   },
   {
    "duration": 71,
    "start_time": "2022-10-06T13:20:08.587Z"
   },
   {
    "duration": 61,
    "start_time": "2022-10-06T13:20:31.421Z"
   },
   {
    "duration": 68,
    "start_time": "2022-10-06T13:20:44.982Z"
   },
   {
    "duration": 7,
    "start_time": "2022-10-06T13:23:16.997Z"
   },
   {
    "duration": 1659,
    "start_time": "2022-10-06T13:23:37.748Z"
   },
   {
    "duration": 8,
    "start_time": "2022-10-06T13:23:50.413Z"
   },
   {
    "duration": 74,
    "start_time": "2022-10-06T13:25:19.049Z"
   },
   {
    "duration": 23,
    "start_time": "2022-10-06T13:25:37.924Z"
   },
   {
    "duration": 56,
    "start_time": "2022-10-06T13:25:41.424Z"
   },
   {
    "duration": 64,
    "start_time": "2022-10-06T13:27:01.349Z"
   },
   {
    "duration": 61,
    "start_time": "2022-10-06T13:27:11.706Z"
   },
   {
    "duration": 24,
    "start_time": "2022-10-06T13:27:16.116Z"
   },
   {
    "duration": 61,
    "start_time": "2022-10-06T13:27:29.340Z"
   },
   {
    "duration": 27,
    "start_time": "2022-10-06T13:27:32.649Z"
   },
   {
    "duration": 58,
    "start_time": "2022-10-06T13:27:42.750Z"
   },
   {
    "duration": 24,
    "start_time": "2022-10-06T13:27:46.712Z"
   },
   {
    "duration": 81,
    "start_time": "2022-10-06T13:28:20.263Z"
   },
   {
    "duration": 40,
    "start_time": "2022-10-06T13:28:23.275Z"
   },
   {
    "duration": 73,
    "start_time": "2022-10-06T13:28:28.905Z"
   },
   {
    "duration": 26,
    "start_time": "2022-10-06T13:29:16.618Z"
   },
   {
    "duration": 81,
    "start_time": "2022-10-06T13:29:31.575Z"
   },
   {
    "duration": 40,
    "start_time": "2022-10-06T13:29:49.004Z"
   },
   {
    "duration": 6,
    "start_time": "2022-10-06T13:31:53.179Z"
   },
   {
    "duration": 6,
    "start_time": "2022-10-06T13:32:06.445Z"
   },
   {
    "duration": 28,
    "start_time": "2022-10-06T13:32:22.407Z"
   },
   {
    "duration": 7,
    "start_time": "2022-10-06T13:32:50.872Z"
   },
   {
    "duration": 16,
    "start_time": "2022-10-06T13:33:03.945Z"
   },
   {
    "duration": 12,
    "start_time": "2022-10-06T13:33:50.065Z"
   },
   {
    "duration": 23,
    "start_time": "2022-10-06T13:34:29.866Z"
   },
   {
    "duration": 56,
    "start_time": "2022-10-06T13:34:33.723Z"
   },
   {
    "duration": 66,
    "start_time": "2022-10-06T13:34:43.965Z"
   },
   {
    "duration": 56,
    "start_time": "2022-10-06T13:34:51.022Z"
   },
   {
    "duration": 1513,
    "start_time": "2022-10-06T13:37:45.343Z"
   },
   {
    "duration": 63,
    "start_time": "2022-10-06T13:37:54.480Z"
   },
   {
    "duration": 37,
    "start_time": "2022-10-06T13:37:58.280Z"
   },
   {
    "duration": 25,
    "start_time": "2022-10-06T13:38:42.622Z"
   },
   {
    "duration": 1567,
    "start_time": "2022-10-06T13:40:35.721Z"
   },
   {
    "duration": 761,
    "start_time": "2022-10-06T13:40:37.292Z"
   },
   {
    "duration": 16,
    "start_time": "2022-10-06T13:40:38.055Z"
   },
   {
    "duration": 33,
    "start_time": "2022-10-06T13:40:38.073Z"
   },
   {
    "duration": 5,
    "start_time": "2022-10-06T13:40:38.109Z"
   },
   {
    "duration": 86,
    "start_time": "2022-10-06T13:40:38.117Z"
   },
   {
    "duration": 36,
    "start_time": "2022-10-06T13:40:38.206Z"
   },
   {
    "duration": 102,
    "start_time": "2022-10-06T13:40:38.245Z"
   },
   {
    "duration": 22,
    "start_time": "2022-10-06T13:40:38.349Z"
   },
   {
    "duration": 22,
    "start_time": "2022-10-06T13:40:38.373Z"
   },
   {
    "duration": 12,
    "start_time": "2022-10-06T13:40:38.397Z"
   },
   {
    "duration": 28,
    "start_time": "2022-10-06T13:40:38.412Z"
   },
   {
    "duration": 8,
    "start_time": "2022-10-06T13:40:38.442Z"
   },
   {
    "duration": 9,
    "start_time": "2022-10-06T13:40:38.454Z"
   },
   {
    "duration": 58,
    "start_time": "2022-10-06T13:40:38.465Z"
   },
   {
    "duration": 102,
    "start_time": "2022-10-06T13:40:38.525Z"
   },
   {
    "duration": 37,
    "start_time": "2022-10-06T13:40:38.629Z"
   },
   {
    "duration": 356,
    "start_time": "2022-10-06T13:40:38.668Z"
   },
   {
    "duration": 30,
    "start_time": "2022-10-06T13:40:39.026Z"
   },
   {
    "duration": 6,
    "start_time": "2022-10-06T13:40:39.058Z"
   },
   {
    "duration": 31,
    "start_time": "2022-10-06T13:40:39.066Z"
   },
   {
    "duration": 130,
    "start_time": "2022-10-06T13:45:44.809Z"
   },
   {
    "duration": 110,
    "start_time": "2022-10-06T13:45:51.409Z"
   },
   {
    "duration": 719,
    "start_time": "2022-10-06T13:45:55.989Z"
   },
   {
    "duration": 13,
    "start_time": "2022-10-06T13:46:02.259Z"
   },
   {
    "duration": 13,
    "start_time": "2022-10-06T13:46:08.371Z"
   },
   {
    "duration": 1481,
    "start_time": "2022-10-06T13:48:16.460Z"
   },
   {
    "duration": 769,
    "start_time": "2022-10-06T13:48:17.943Z"
   },
   {
    "duration": 19,
    "start_time": "2022-10-06T13:48:18.714Z"
   },
   {
    "duration": 18,
    "start_time": "2022-10-06T13:48:18.735Z"
   },
   {
    "duration": 6,
    "start_time": "2022-10-06T13:48:18.755Z"
   },
   {
    "duration": 88,
    "start_time": "2022-10-06T13:48:18.762Z"
   },
   {
    "duration": 45,
    "start_time": "2022-10-06T13:48:18.852Z"
   },
   {
    "duration": 65,
    "start_time": "2022-10-06T13:48:18.900Z"
   },
   {
    "duration": 37,
    "start_time": "2022-10-06T13:48:18.968Z"
   },
   {
    "duration": 8,
    "start_time": "2022-10-06T13:48:19.008Z"
   },
   {
    "duration": 10,
    "start_time": "2022-10-06T13:48:19.018Z"
   },
   {
    "duration": 5,
    "start_time": "2022-10-06T13:48:19.030Z"
   },
   {
    "duration": 10,
    "start_time": "2022-10-06T13:48:19.037Z"
   },
   {
    "duration": 40,
    "start_time": "2022-10-06T13:48:19.049Z"
   },
   {
    "duration": 33,
    "start_time": "2022-10-06T13:48:19.091Z"
   },
   {
    "duration": 106,
    "start_time": "2022-10-06T13:48:19.126Z"
   },
   {
    "duration": 196,
    "start_time": "2022-10-06T13:48:19.234Z"
   },
   {
    "duration": 23,
    "start_time": "2022-10-06T13:48:19.433Z"
   },
   {
    "duration": 71,
    "start_time": "2022-10-06T13:48:19.458Z"
   },
   {
    "duration": 13,
    "start_time": "2022-10-06T13:48:19.531Z"
   },
   {
    "duration": 44,
    "start_time": "2022-10-06T13:48:19.546Z"
   },
   {
    "duration": 7,
    "start_time": "2022-10-06T13:48:19.591Z"
   },
   {
    "duration": 7,
    "start_time": "2022-10-06T13:48:19.600Z"
   },
   {
    "duration": 6,
    "start_time": "2022-10-06T13:57:05.851Z"
   },
   {
    "duration": 8,
    "start_time": "2022-10-06T13:57:11.863Z"
   },
   {
    "duration": 7,
    "start_time": "2022-10-06T13:57:19.488Z"
   },
   {
    "duration": 5,
    "start_time": "2022-10-06T13:57:40.588Z"
   },
   {
    "duration": 6,
    "start_time": "2022-10-06T13:58:02.577Z"
   },
   {
    "duration": 101,
    "start_time": "2022-10-06T13:58:59.164Z"
   },
   {
    "duration": 6,
    "start_time": "2022-10-06T13:59:04.926Z"
   },
   {
    "duration": 5,
    "start_time": "2022-10-06T13:59:36.223Z"
   },
   {
    "duration": 6,
    "start_time": "2022-10-06T13:59:37.024Z"
   },
   {
    "duration": 7,
    "start_time": "2022-10-06T13:59:58.142Z"
   },
   {
    "duration": 4,
    "start_time": "2022-10-06T14:00:37.328Z"
   },
   {
    "duration": 71,
    "start_time": "2022-10-06T14:02:47.367Z"
   },
   {
    "duration": 54,
    "start_time": "2022-10-06T14:02:51.703Z"
   },
   {
    "duration": 120,
    "start_time": "2022-10-06T14:21:38.701Z"
   },
   {
    "duration": 13,
    "start_time": "2022-10-06T14:23:23.475Z"
   },
   {
    "duration": 7,
    "start_time": "2022-10-06T14:23:32.064Z"
   },
   {
    "duration": 1463,
    "start_time": "2022-10-06T14:24:07.114Z"
   },
   {
    "duration": 764,
    "start_time": "2022-10-06T14:24:08.579Z"
   },
   {
    "duration": 20,
    "start_time": "2022-10-06T14:24:09.345Z"
   },
   {
    "duration": 34,
    "start_time": "2022-10-06T14:24:09.367Z"
   },
   {
    "duration": 6,
    "start_time": "2022-10-06T14:24:09.404Z"
   },
   {
    "duration": 90,
    "start_time": "2022-10-06T14:24:09.412Z"
   },
   {
    "duration": 36,
    "start_time": "2022-10-06T14:24:09.504Z"
   },
   {
    "duration": 91,
    "start_time": "2022-10-06T14:24:09.542Z"
   },
   {
    "duration": 23,
    "start_time": "2022-10-06T14:24:09.635Z"
   },
   {
    "duration": 30,
    "start_time": "2022-10-06T14:24:09.661Z"
   },
   {
    "duration": 10,
    "start_time": "2022-10-06T14:24:09.693Z"
   },
   {
    "duration": 7,
    "start_time": "2022-10-06T14:24:09.705Z"
   },
   {
    "duration": 17,
    "start_time": "2022-10-06T14:24:09.714Z"
   },
   {
    "duration": 8,
    "start_time": "2022-10-06T14:24:09.734Z"
   },
   {
    "duration": 52,
    "start_time": "2022-10-06T14:24:09.744Z"
   },
   {
    "duration": 110,
    "start_time": "2022-10-06T14:24:09.799Z"
   },
   {
    "duration": 202,
    "start_time": "2022-10-06T14:24:09.912Z"
   },
   {
    "duration": 22,
    "start_time": "2022-10-06T14:24:10.117Z"
   },
   {
    "duration": 78,
    "start_time": "2022-10-06T14:24:10.141Z"
   },
   {
    "duration": 18,
    "start_time": "2022-10-06T14:24:10.221Z"
   },
   {
    "duration": 10,
    "start_time": "2022-10-06T14:24:10.241Z"
   },
   {
    "duration": 38,
    "start_time": "2022-10-06T14:24:10.253Z"
   },
   {
    "duration": 8,
    "start_time": "2022-10-06T14:24:10.293Z"
   },
   {
    "duration": 8,
    "start_time": "2022-10-06T14:24:10.303Z"
   },
   {
    "duration": 45,
    "start_time": "2022-10-06T14:24:10.313Z"
   },
   {
    "duration": 37,
    "start_time": "2022-10-06T14:24:10.360Z"
   },
   {
    "duration": 21,
    "start_time": "2022-10-06T14:24:10.398Z"
   },
   {
    "duration": 7,
    "start_time": "2022-10-06T14:24:39.224Z"
   },
   {
    "duration": 7,
    "start_time": "2022-10-06T14:24:47.724Z"
   },
   {
    "duration": 13,
    "start_time": "2022-10-06T14:25:13.411Z"
   },
   {
    "duration": 6,
    "start_time": "2022-10-06T14:25:13.986Z"
   },
   {
    "duration": 1425,
    "start_time": "2022-10-06T14:25:28.816Z"
   },
   {
    "duration": 782,
    "start_time": "2022-10-06T14:25:30.243Z"
   },
   {
    "duration": 16,
    "start_time": "2022-10-06T14:25:31.027Z"
   },
   {
    "duration": 19,
    "start_time": "2022-10-06T14:25:31.045Z"
   },
   {
    "duration": 24,
    "start_time": "2022-10-06T14:25:31.066Z"
   },
   {
    "duration": 75,
    "start_time": "2022-10-06T14:25:31.092Z"
   },
   {
    "duration": 38,
    "start_time": "2022-10-06T14:25:31.169Z"
   },
   {
    "duration": 63,
    "start_time": "2022-10-06T14:25:31.209Z"
   },
   {
    "duration": 35,
    "start_time": "2022-10-06T14:25:31.274Z"
   },
   {
    "duration": 10,
    "start_time": "2022-10-06T14:25:31.311Z"
   },
   {
    "duration": 24,
    "start_time": "2022-10-06T14:25:31.323Z"
   },
   {
    "duration": 28,
    "start_time": "2022-10-06T14:25:31.349Z"
   },
   {
    "duration": 15,
    "start_time": "2022-10-06T14:25:31.379Z"
   },
   {
    "duration": 12,
    "start_time": "2022-10-06T14:25:31.398Z"
   },
   {
    "duration": 41,
    "start_time": "2022-10-06T14:25:31.413Z"
   },
   {
    "duration": 119,
    "start_time": "2022-10-06T14:25:31.456Z"
   },
   {
    "duration": 184,
    "start_time": "2022-10-06T14:25:31.577Z"
   },
   {
    "duration": 34,
    "start_time": "2022-10-06T14:25:31.762Z"
   },
   {
    "duration": 77,
    "start_time": "2022-10-06T14:25:31.798Z"
   },
   {
    "duration": 16,
    "start_time": "2022-10-06T14:25:31.890Z"
   },
   {
    "duration": 11,
    "start_time": "2022-10-06T14:25:31.908Z"
   },
   {
    "duration": 22,
    "start_time": "2022-10-06T14:25:31.922Z"
   },
   {
    "duration": 22,
    "start_time": "2022-10-06T14:25:31.946Z"
   },
   {
    "duration": 24,
    "start_time": "2022-10-06T14:25:31.970Z"
   },
   {
    "duration": 72,
    "start_time": "2022-10-06T14:25:31.997Z"
   },
   {
    "duration": 7,
    "start_time": "2022-10-06T14:25:32.072Z"
   },
   {
    "duration": 42,
    "start_time": "2022-10-06T14:25:32.081Z"
   },
   {
    "duration": 7,
    "start_time": "2022-10-06T14:26:04.640Z"
   },
   {
    "duration": 8,
    "start_time": "2022-10-06T14:26:09.353Z"
   },
   {
    "duration": 6,
    "start_time": "2022-10-06T14:26:16.477Z"
   },
   {
    "duration": 6,
    "start_time": "2022-10-06T14:26:22.327Z"
   },
   {
    "duration": 9,
    "start_time": "2022-10-06T14:27:32.790Z"
   },
   {
    "duration": 6,
    "start_time": "2022-10-06T14:27:33.664Z"
   },
   {
    "duration": 9,
    "start_time": "2022-10-06T14:27:42.033Z"
   },
   {
    "duration": 5,
    "start_time": "2022-10-06T14:27:47.114Z"
   },
   {
    "duration": 1433,
    "start_time": "2022-10-06T14:27:52.706Z"
   },
   {
    "duration": 721,
    "start_time": "2022-10-06T14:27:54.140Z"
   },
   {
    "duration": 17,
    "start_time": "2022-10-06T14:27:54.862Z"
   },
   {
    "duration": 18,
    "start_time": "2022-10-06T14:27:54.888Z"
   },
   {
    "duration": 6,
    "start_time": "2022-10-06T14:27:54.908Z"
   },
   {
    "duration": 114,
    "start_time": "2022-10-06T14:27:54.917Z"
   },
   {
    "duration": 30,
    "start_time": "2022-10-06T14:27:55.033Z"
   },
   {
    "duration": 75,
    "start_time": "2022-10-06T14:27:55.065Z"
   },
   {
    "duration": 21,
    "start_time": "2022-10-06T14:27:55.142Z"
   },
   {
    "duration": 29,
    "start_time": "2022-10-06T14:27:55.166Z"
   },
   {
    "duration": 14,
    "start_time": "2022-10-06T14:27:55.196Z"
   },
   {
    "duration": 4,
    "start_time": "2022-10-06T14:27:55.212Z"
   },
   {
    "duration": 8,
    "start_time": "2022-10-06T14:27:55.218Z"
   },
   {
    "duration": 14,
    "start_time": "2022-10-06T14:27:55.228Z"
   },
   {
    "duration": 60,
    "start_time": "2022-10-06T14:27:55.244Z"
   },
   {
    "duration": 107,
    "start_time": "2022-10-06T14:27:55.307Z"
   },
   {
    "duration": 182,
    "start_time": "2022-10-06T14:27:55.416Z"
   },
   {
    "duration": 23,
    "start_time": "2022-10-06T14:27:55.600Z"
   },
   {
    "duration": 84,
    "start_time": "2022-10-06T14:27:55.624Z"
   },
   {
    "duration": 14,
    "start_time": "2022-10-06T14:27:55.710Z"
   },
   {
    "duration": 6,
    "start_time": "2022-10-06T14:27:55.726Z"
   },
   {
    "duration": 11,
    "start_time": "2022-10-06T14:27:55.734Z"
   },
   {
    "duration": 16,
    "start_time": "2022-10-06T14:27:55.747Z"
   },
   {
    "duration": 31,
    "start_time": "2022-10-06T14:27:55.765Z"
   },
   {
    "duration": 12,
    "start_time": "2022-10-06T14:27:55.799Z"
   },
   {
    "duration": 42,
    "start_time": "2022-10-06T14:27:55.813Z"
   },
   {
    "duration": 6,
    "start_time": "2022-10-06T14:27:55.857Z"
   },
   {
    "duration": 30,
    "start_time": "2022-10-06T14:27:55.866Z"
   },
   {
    "duration": 15,
    "start_time": "2022-10-06T14:29:47.239Z"
   },
   {
    "duration": 130,
    "start_time": "2022-10-07T13:13:00.352Z"
   },
   {
    "duration": 17,
    "start_time": "2022-10-07T13:13:23.278Z"
   },
   {
    "duration": 515,
    "start_time": "2022-10-07T13:13:50.751Z"
   },
   {
    "duration": 17,
    "start_time": "2022-10-07T13:14:08.446Z"
   },
   {
    "duration": 539,
    "start_time": "2022-10-07T13:14:12.118Z"
   },
   {
    "duration": 430,
    "start_time": "2022-10-07T13:14:52.917Z"
   },
   {
    "duration": 23,
    "start_time": "2022-10-07T13:29:04.478Z"
   },
   {
    "duration": 300,
    "start_time": "2022-10-07T13:29:32.431Z"
   },
   {
    "duration": 26,
    "start_time": "2022-10-07T13:30:30.457Z"
   },
   {
    "duration": 33,
    "start_time": "2022-10-07T13:32:07.858Z"
   },
   {
    "duration": 81,
    "start_time": "2022-10-07T13:33:31.976Z"
   },
   {
    "duration": 12,
    "start_time": "2022-10-07T14:49:59.045Z"
   },
   {
    "duration": 14,
    "start_time": "2022-10-07T14:50:12.670Z"
   },
   {
    "duration": 17,
    "start_time": "2022-10-07T14:50:50.646Z"
   },
   {
    "duration": 4466,
    "start_time": "2022-10-07T14:55:59.319Z"
   },
   {
    "duration": 2226,
    "start_time": "2022-10-07T14:56:28.013Z"
   },
   {
    "duration": 2597,
    "start_time": "2022-10-07T14:57:10.322Z"
   },
   {
    "duration": 2333,
    "start_time": "2022-10-07T14:57:47.524Z"
   },
   {
    "duration": 2675,
    "start_time": "2022-10-07T14:57:49.869Z"
   },
   {
    "duration": 35,
    "start_time": "2022-10-07T14:57:52.546Z"
   },
   {
    "duration": 203,
    "start_time": "2022-10-07T14:57:52.589Z"
   },
   {
    "duration": 134,
    "start_time": "2022-10-07T14:57:52.801Z"
   },
   {
    "duration": 432,
    "start_time": "2022-10-07T14:57:52.952Z"
   },
   {
    "duration": 56,
    "start_time": "2022-10-07T14:57:53.386Z"
   },
   {
    "duration": 215,
    "start_time": "2022-10-07T14:57:53.449Z"
   },
   {
    "duration": 40,
    "start_time": "2022-10-07T14:57:53.675Z"
   },
   {
    "duration": 161,
    "start_time": "2022-10-07T14:57:53.722Z"
   },
   {
    "duration": 99,
    "start_time": "2022-10-07T14:57:53.887Z"
   },
   {
    "duration": 84,
    "start_time": "2022-10-07T14:57:53.988Z"
   },
   {
    "duration": 109,
    "start_time": "2022-10-07T14:57:54.077Z"
   },
   {
    "duration": 83,
    "start_time": "2022-10-07T14:57:54.191Z"
   },
   {
    "duration": 149,
    "start_time": "2022-10-07T14:57:54.276Z"
   },
   {
    "duration": 208,
    "start_time": "2022-10-07T14:57:54.427Z"
   },
   {
    "duration": 270,
    "start_time": "2022-10-07T14:57:54.655Z"
   },
   {
    "duration": 35,
    "start_time": "2022-10-07T14:57:54.933Z"
   },
   {
    "duration": 6244,
    "start_time": "2022-10-07T14:57:54.975Z"
   },
   {
    "duration": 1641,
    "start_time": "2022-10-07T14:58:58.454Z"
   },
   {
    "duration": 861,
    "start_time": "2022-10-07T14:59:00.097Z"
   },
   {
    "duration": 18,
    "start_time": "2022-10-07T14:59:00.960Z"
   },
   {
    "duration": 63,
    "start_time": "2022-10-07T14:59:00.980Z"
   },
   {
    "duration": 7,
    "start_time": "2022-10-07T14:59:01.046Z"
   },
   {
    "duration": 103,
    "start_time": "2022-10-07T14:59:01.054Z"
   },
   {
    "duration": 62,
    "start_time": "2022-10-07T14:59:01.159Z"
   },
   {
    "duration": 104,
    "start_time": "2022-10-07T14:59:01.227Z"
   },
   {
    "duration": 34,
    "start_time": "2022-10-07T14:59:01.336Z"
   },
   {
    "duration": 10,
    "start_time": "2022-10-07T14:59:01.373Z"
   },
   {
    "duration": 93,
    "start_time": "2022-10-07T14:59:01.386Z"
   },
   {
    "duration": 18,
    "start_time": "2022-10-07T14:59:01.482Z"
   },
   {
    "duration": 42,
    "start_time": "2022-10-07T14:59:01.513Z"
   },
   {
    "duration": 9,
    "start_time": "2022-10-07T14:59:01.559Z"
   },
   {
    "duration": 61,
    "start_time": "2022-10-07T14:59:01.570Z"
   },
   {
    "duration": 130,
    "start_time": "2022-10-07T14:59:01.633Z"
   },
   {
    "duration": 63,
    "start_time": "2022-10-07T14:59:01.765Z"
   },
   {
    "duration": 4758,
    "start_time": "2022-10-07T14:59:01.833Z"
   },
   {
    "duration": 262,
    "start_time": "2022-10-07T15:04:16.972Z"
   },
   {
    "duration": 220,
    "start_time": "2022-10-07T15:04:34.916Z"
   },
   {
    "duration": 215,
    "start_time": "2022-10-07T15:07:34.932Z"
   },
   {
    "duration": 163,
    "start_time": "2022-10-07T15:08:04.220Z"
   },
   {
    "duration": 142,
    "start_time": "2022-10-07T15:08:25.647Z"
   },
   {
    "duration": 151,
    "start_time": "2022-10-07T15:08:42.556Z"
   },
   {
    "duration": 167,
    "start_time": "2022-10-07T15:09:16.385Z"
   },
   {
    "duration": 38,
    "start_time": "2022-10-07T15:09:44.347Z"
   },
   {
    "duration": 39,
    "start_time": "2022-10-07T15:09:57.756Z"
   },
   {
    "duration": 67,
    "start_time": "2022-10-07T15:11:10.616Z"
   },
   {
    "duration": 5,
    "start_time": "2022-10-07T15:35:47.249Z"
   },
   {
    "duration": 35,
    "start_time": "2022-10-07T15:36:00.471Z"
   },
   {
    "duration": 2211,
    "start_time": "2022-10-07T15:36:13.483Z"
   },
   {
    "duration": 1055,
    "start_time": "2022-10-07T15:36:15.699Z"
   },
   {
    "duration": 19,
    "start_time": "2022-10-07T15:36:16.758Z"
   },
   {
    "duration": 30,
    "start_time": "2022-10-07T15:36:16.780Z"
   },
   {
    "duration": 40,
    "start_time": "2022-10-07T15:36:16.812Z"
   },
   {
    "duration": 83,
    "start_time": "2022-10-07T15:36:16.854Z"
   },
   {
    "duration": 38,
    "start_time": "2022-10-07T15:36:16.939Z"
   },
   {
    "duration": 86,
    "start_time": "2022-10-07T15:36:16.979Z"
   },
   {
    "duration": 47,
    "start_time": "2022-10-07T15:36:17.068Z"
   },
   {
    "duration": 13,
    "start_time": "2022-10-07T15:36:17.119Z"
   },
   {
    "duration": 35,
    "start_time": "2022-10-07T15:36:17.141Z"
   },
   {
    "duration": 7,
    "start_time": "2022-10-07T15:36:17.179Z"
   },
   {
    "duration": 70,
    "start_time": "2022-10-07T15:36:17.189Z"
   },
   {
    "duration": 9,
    "start_time": "2022-10-07T15:36:17.261Z"
   },
   {
    "duration": 43,
    "start_time": "2022-10-07T15:36:17.273Z"
   },
   {
    "duration": 167,
    "start_time": "2022-10-07T15:36:17.318Z"
   },
   {
    "duration": 63,
    "start_time": "2022-10-07T15:36:17.487Z"
   },
   {
    "duration": 5563,
    "start_time": "2022-10-07T15:36:17.552Z"
   },
   {
    "duration": 34,
    "start_time": "2022-10-07T15:36:23.117Z"
   },
   {
    "duration": 145,
    "start_time": "2022-10-07T15:36:23.153Z"
   },
   {
    "duration": 18,
    "start_time": "2022-10-07T15:45:24.452Z"
   },
   {
    "duration": 17,
    "start_time": "2022-10-07T15:45:45.241Z"
   },
   {
    "duration": 114,
    "start_time": "2022-10-07T15:46:01.166Z"
   },
   {
    "duration": 42,
    "start_time": "2022-10-07T15:46:13.808Z"
   },
   {
    "duration": 4,
    "start_time": "2022-10-07T15:50:08.844Z"
   },
   {
    "duration": 34,
    "start_time": "2022-10-07T15:50:11.018Z"
   },
   {
    "duration": 4,
    "start_time": "2022-10-07T15:50:21.556Z"
   },
   {
    "duration": 68,
    "start_time": "2022-10-07T15:50:21.838Z"
   },
   {
    "duration": 134,
    "start_time": "2022-10-07T15:51:37.368Z"
   },
   {
    "duration": 64,
    "start_time": "2022-10-07T15:51:39.766Z"
   },
   {
    "duration": 7,
    "start_time": "2022-10-07T17:00:48.566Z"
   },
   {
    "duration": 132,
    "start_time": "2022-10-07T17:06:21.477Z"
   },
   {
    "duration": 18,
    "start_time": "2022-10-07T17:06:40.340Z"
   },
   {
    "duration": 1923,
    "start_time": "2022-10-07T17:06:47.164Z"
   },
   {
    "duration": 14,
    "start_time": "2022-10-07T17:07:34.134Z"
   },
   {
    "duration": 10,
    "start_time": "2022-10-07T17:07:43.835Z"
   },
   {
    "duration": 11,
    "start_time": "2022-10-07T17:21:44.209Z"
   },
   {
    "duration": 7,
    "start_time": "2022-10-07T17:21:46.043Z"
   },
   {
    "duration": 718,
    "start_time": "2022-10-07T17:21:46.610Z"
   },
   {
    "duration": 5,
    "start_time": "2022-10-07T17:22:14.060Z"
   },
   {
    "duration": 768,
    "start_time": "2022-10-07T17:22:14.347Z"
   },
   {
    "duration": 6,
    "start_time": "2022-10-07T17:22:28.748Z"
   },
   {
    "duration": 666,
    "start_time": "2022-10-07T17:22:31.096Z"
   },
   {
    "duration": 5,
    "start_time": "2022-10-07T17:22:45.512Z"
   },
   {
    "duration": 881,
    "start_time": "2022-10-07T17:22:45.947Z"
   },
   {
    "duration": 6,
    "start_time": "2022-10-07T17:23:15.211Z"
   },
   {
    "duration": 786,
    "start_time": "2022-10-07T17:23:16.713Z"
   },
   {
    "duration": 7,
    "start_time": "2022-10-07T17:23:38.252Z"
   },
   {
    "duration": 959,
    "start_time": "2022-10-07T17:23:40.023Z"
   },
   {
    "duration": 13,
    "start_time": "2022-10-07T17:24:30.786Z"
   },
   {
    "duration": 910,
    "start_time": "2022-10-07T17:24:31.243Z"
   },
   {
    "duration": 844,
    "start_time": "2022-10-07T17:25:04.238Z"
   },
   {
    "duration": 6,
    "start_time": "2022-10-07T17:25:14.473Z"
   },
   {
    "duration": 795,
    "start_time": "2022-10-07T17:25:16.473Z"
   },
   {
    "duration": 904,
    "start_time": "2022-10-07T17:25:46.439Z"
   },
   {
    "duration": 874,
    "start_time": "2022-10-07T17:26:11.785Z"
   },
   {
    "duration": 6,
    "start_time": "2022-10-07T17:26:28.061Z"
   },
   {
    "duration": 855,
    "start_time": "2022-10-07T17:26:29.415Z"
   },
   {
    "duration": 894,
    "start_time": "2022-10-07T17:26:32.272Z"
   },
   {
    "duration": 807,
    "start_time": "2022-10-07T17:26:34.785Z"
   },
   {
    "duration": 889,
    "start_time": "2022-10-07T17:26:36.711Z"
   },
   {
    "duration": 6,
    "start_time": "2022-10-07T17:26:46.713Z"
   },
   {
    "duration": 816,
    "start_time": "2022-10-07T17:26:47.061Z"
   },
   {
    "duration": 890,
    "start_time": "2022-10-07T17:26:47.880Z"
   },
   {
    "duration": 756,
    "start_time": "2022-10-07T17:26:48.772Z"
   },
   {
    "duration": 1029,
    "start_time": "2022-10-07T17:26:51.110Z"
   },
   {
    "duration": 8,
    "start_time": "2022-10-07T17:28:00.002Z"
   },
   {
    "duration": 814,
    "start_time": "2022-10-07T17:28:01.049Z"
   },
   {
    "duration": 871,
    "start_time": "2022-10-07T17:28:04.173Z"
   },
   {
    "duration": 852,
    "start_time": "2022-10-07T17:28:05.345Z"
   },
   {
    "duration": 836,
    "start_time": "2022-10-07T17:28:06.678Z"
   },
   {
    "duration": 2483,
    "start_time": "2022-10-07T17:29:51.925Z"
   },
   {
    "duration": 2536,
    "start_time": "2022-10-07T17:30:28.508Z"
   },
   {
    "duration": 1013,
    "start_time": "2022-10-07T17:35:06.710Z"
   },
   {
    "duration": 0,
    "start_time": "2022-10-07T17:35:07.725Z"
   },
   {
    "duration": 5354,
    "start_time": "2022-10-07T17:35:18.252Z"
   },
   {
    "duration": 2675,
    "start_time": "2022-10-07T17:36:05.277Z"
   },
   {
    "duration": 2512,
    "start_time": "2022-10-07T17:36:30.066Z"
   },
   {
    "duration": 2868,
    "start_time": "2022-10-07T17:37:15.865Z"
   },
   {
    "duration": 2917,
    "start_time": "2022-10-07T17:37:36.928Z"
   },
   {
    "duration": 2729,
    "start_time": "2022-10-07T17:38:57.453Z"
   },
   {
    "duration": 3269,
    "start_time": "2022-10-07T17:41:24.155Z"
   },
   {
    "duration": 11,
    "start_time": "2022-10-07T17:41:27.426Z"
   },
   {
    "duration": 2901,
    "start_time": "2022-10-07T17:42:24.441Z"
   },
   {
    "duration": 3116,
    "start_time": "2022-10-07T17:43:40.216Z"
   },
   {
    "duration": 2887,
    "start_time": "2022-10-07T17:44:04.554Z"
   },
   {
    "duration": 3168,
    "start_time": "2022-10-07T17:44:16.285Z"
   },
   {
    "duration": 3070,
    "start_time": "2022-10-07T17:44:29.578Z"
   },
   {
    "duration": 3400,
    "start_time": "2022-10-07T17:45:39.666Z"
   },
   {
    "duration": 2926,
    "start_time": "2022-10-07T17:46:22.853Z"
   },
   {
    "duration": 20,
    "start_time": "2022-10-07T17:46:25.782Z"
   },
   {
    "duration": 2671,
    "start_time": "2022-10-07T17:47:22.308Z"
   },
   {
    "duration": 2899,
    "start_time": "2022-10-07T17:48:25.365Z"
   },
   {
    "duration": 2798,
    "start_time": "2022-10-07T17:48:51.270Z"
   },
   {
    "duration": 2436,
    "start_time": "2022-10-07T17:49:09.015Z"
   },
   {
    "duration": 2870,
    "start_time": "2022-10-07T17:49:14.765Z"
   },
   {
    "duration": 5187,
    "start_time": "2022-10-07T17:49:50.365Z"
   },
   {
    "duration": 1898,
    "start_time": "2022-10-07T17:50:03.865Z"
   },
   {
    "duration": 1887,
    "start_time": "2022-10-07T17:51:38.912Z"
   },
   {
    "duration": 644,
    "start_time": "2022-10-07T17:51:57.516Z"
   },
   {
    "duration": 602,
    "start_time": "2022-10-07T17:52:18.137Z"
   },
   {
    "duration": 641,
    "start_time": "2022-10-07T17:52:48.764Z"
   },
   {
    "duration": 1925,
    "start_time": "2022-10-07T17:53:11.877Z"
   },
   {
    "duration": 1803,
    "start_time": "2022-10-07T17:53:27.013Z"
   },
   {
    "duration": 2673,
    "start_time": "2022-10-07T17:54:58.470Z"
   },
   {
    "duration": 2040,
    "start_time": "2022-10-07T17:55:20.435Z"
   },
   {
    "duration": 3136,
    "start_time": "2022-10-07T17:56:21.715Z"
   },
   {
    "duration": 2999,
    "start_time": "2022-10-07T17:56:36.789Z"
   },
   {
    "duration": 2778,
    "start_time": "2022-10-07T17:56:50.408Z"
   },
   {
    "duration": 3692,
    "start_time": "2022-10-07T18:05:36.167Z"
   },
   {
    "duration": 124,
    "start_time": "2022-10-07T18:08:30.714Z"
   },
   {
    "duration": 3970,
    "start_time": "2022-10-07T18:08:38.055Z"
   },
   {
    "duration": 3454,
    "start_time": "2022-10-07T18:09:04.514Z"
   },
   {
    "duration": 3481,
    "start_time": "2022-10-07T18:09:46.069Z"
   },
   {
    "duration": 3586,
    "start_time": "2022-10-07T18:09:59.046Z"
   },
   {
    "duration": 2699,
    "start_time": "2022-10-07T18:10:26.954Z"
   },
   {
    "duration": 2232,
    "start_time": "2022-10-07T18:10:37.692Z"
   },
   {
    "duration": 17,
    "start_time": "2022-10-07T18:12:04.643Z"
   },
   {
    "duration": 2229,
    "start_time": "2022-10-07T18:12:23.403Z"
   },
   {
    "duration": 88,
    "start_time": "2022-10-07T18:14:08.997Z"
   },
   {
    "duration": 2283,
    "start_time": "2022-10-07T18:14:16.531Z"
   },
   {
    "duration": 600,
    "start_time": "2022-10-07T18:14:27.008Z"
   },
   {
    "duration": 412,
    "start_time": "2022-10-07T18:14:47.096Z"
   },
   {
    "duration": 404,
    "start_time": "2022-10-07T18:14:54.792Z"
   },
   {
    "duration": 2281,
    "start_time": "2022-10-07T18:17:28.944Z"
   },
   {
    "duration": 299,
    "start_time": "2022-10-07T18:17:54.549Z"
   },
   {
    "duration": 129,
    "start_time": "2022-10-07T18:18:06.542Z"
   },
   {
    "duration": 275,
    "start_time": "2022-10-07T18:18:11.149Z"
   },
   {
    "duration": 2359,
    "start_time": "2022-10-07T18:30:37.412Z"
   },
   {
    "duration": 126,
    "start_time": "2022-10-09T17:02:55.334Z"
   },
   {
    "duration": 2767,
    "start_time": "2022-10-09T17:04:16.261Z"
   },
   {
    "duration": 2640,
    "start_time": "2022-10-09T17:06:11.237Z"
   },
   {
    "duration": 2708,
    "start_time": "2022-10-09T17:06:50.972Z"
   },
   {
    "duration": 2732,
    "start_time": "2022-10-09T17:07:09.723Z"
   },
   {
    "duration": 541,
    "start_time": "2022-10-09T17:07:22.387Z"
   },
   {
    "duration": 2516,
    "start_time": "2022-10-09T17:08:28.051Z"
   },
   {
    "duration": 2628,
    "start_time": "2022-10-09T17:08:46.875Z"
   },
   {
    "duration": 2849,
    "start_time": "2022-10-09T17:09:07.024Z"
   },
   {
    "duration": 375,
    "start_time": "2022-10-09T17:09:17.263Z"
   },
   {
    "duration": 2650,
    "start_time": "2022-10-09T17:09:22.286Z"
   },
   {
    "duration": 2692,
    "start_time": "2022-10-09T17:09:34.309Z"
   },
   {
    "duration": 2682,
    "start_time": "2022-10-09T17:10:22.536Z"
   },
   {
    "duration": 2954,
    "start_time": "2022-10-09T17:10:35.974Z"
   },
   {
    "duration": 2820,
    "start_time": "2022-10-09T17:11:08.349Z"
   },
   {
    "duration": 2741,
    "start_time": "2022-10-09T17:11:23.337Z"
   },
   {
    "duration": 2736,
    "start_time": "2022-10-09T17:11:34.234Z"
   },
   {
    "duration": 362,
    "start_time": "2022-10-09T17:12:10.812Z"
   },
   {
    "duration": 2687,
    "start_time": "2022-10-09T17:12:22.175Z"
   },
   {
    "duration": 2818,
    "start_time": "2022-10-09T17:12:32.137Z"
   },
   {
    "duration": 3319,
    "start_time": "2022-10-09T17:12:52.362Z"
   },
   {
    "duration": 382,
    "start_time": "2022-10-09T17:13:20.350Z"
   },
   {
    "duration": 2908,
    "start_time": "2022-10-09T17:13:30.708Z"
   },
   {
    "duration": 2668,
    "start_time": "2022-10-09T17:13:44.649Z"
   },
   {
    "duration": 2612,
    "start_time": "2022-10-09T17:13:56.674Z"
   },
   {
    "duration": 2547,
    "start_time": "2022-10-09T17:14:04.816Z"
   },
   {
    "duration": 2804,
    "start_time": "2022-10-09T17:14:21.143Z"
   },
   {
    "duration": 2649,
    "start_time": "2022-10-09T17:15:07.081Z"
   },
   {
    "duration": 2804,
    "start_time": "2022-10-09T17:15:15.541Z"
   },
   {
    "duration": 2601,
    "start_time": "2022-10-09T17:16:30.713Z"
   },
   {
    "duration": 370,
    "start_time": "2022-10-09T17:17:10.945Z"
   },
   {
    "duration": 99,
    "start_time": "2022-10-09T17:17:15.941Z"
   },
   {
    "duration": 2414,
    "start_time": "2022-10-09T17:17:21.940Z"
   },
   {
    "duration": 2535,
    "start_time": "2022-10-09T17:17:41.288Z"
   },
   {
    "duration": 2446,
    "start_time": "2022-10-09T17:17:50.429Z"
   },
   {
    "duration": 2401,
    "start_time": "2022-10-09T17:18:31.827Z"
   },
   {
    "duration": 2337,
    "start_time": "2022-10-09T17:18:43.426Z"
   },
   {
    "duration": 2398,
    "start_time": "2022-10-09T17:18:49.989Z"
   },
   {
    "duration": 2575,
    "start_time": "2022-10-09T17:19:02.337Z"
   },
   {
    "duration": 2417,
    "start_time": "2022-10-09T17:20:20.005Z"
   },
   {
    "duration": 3316,
    "start_time": "2022-10-09T17:21:04.114Z"
   },
   {
    "duration": 405,
    "start_time": "2022-10-09T17:21:13.114Z"
   },
   {
    "duration": 3363,
    "start_time": "2022-10-09T17:21:18.464Z"
   },
   {
    "duration": 3545,
    "start_time": "2022-10-09T17:22:12.214Z"
   },
   {
    "duration": 3694,
    "start_time": "2022-10-10T08:32:17.939Z"
   },
   {
    "duration": 3377,
    "start_time": "2022-10-10T08:32:29.362Z"
   },
   {
    "duration": 3674,
    "start_time": "2022-10-10T08:33:02.301Z"
   },
   {
    "duration": 3442,
    "start_time": "2022-10-10T08:33:29.122Z"
   },
   {
    "duration": 3242,
    "start_time": "2022-10-10T08:34:06.087Z"
   },
   {
    "duration": 3485,
    "start_time": "2022-10-10T08:36:11.940Z"
   },
   {
    "duration": 3579,
    "start_time": "2022-10-10T08:38:04.790Z"
   },
   {
    "duration": 3360,
    "start_time": "2022-10-10T08:38:34.906Z"
   },
   {
    "duration": 3280,
    "start_time": "2022-10-10T08:38:53.218Z"
   },
   {
    "duration": 3404,
    "start_time": "2022-10-10T08:39:03.428Z"
   },
   {
    "duration": 3330,
    "start_time": "2022-10-10T08:40:04.116Z"
   },
   {
    "duration": 3676,
    "start_time": "2022-10-10T08:40:25.566Z"
   },
   {
    "duration": 3458,
    "start_time": "2022-10-10T08:40:38.216Z"
   },
   {
    "duration": 3257,
    "start_time": "2022-10-10T08:40:52.681Z"
   },
   {
    "duration": 2244,
    "start_time": "2022-10-10T08:41:09.366Z"
   },
   {
    "duration": 3286,
    "start_time": "2022-10-10T08:41:35.818Z"
   },
   {
    "duration": 3138,
    "start_time": "2022-10-10T08:42:08.859Z"
   },
   {
    "duration": 2920,
    "start_time": "2022-10-10T08:43:36.204Z"
   },
   {
    "duration": 3101,
    "start_time": "2022-10-10T08:44:43.617Z"
   },
   {
    "duration": 3093,
    "start_time": "2022-10-10T08:45:21.155Z"
   },
   {
    "duration": 3234,
    "start_time": "2022-10-10T08:45:33.204Z"
   },
   {
    "duration": 3148,
    "start_time": "2022-10-10T08:46:39.729Z"
   },
   {
    "duration": 750,
    "start_time": "2022-10-10T08:47:53.743Z"
   },
   {
    "duration": 339,
    "start_time": "2022-10-10T08:48:00.292Z"
   },
   {
    "duration": 3389,
    "start_time": "2022-10-10T08:48:10.217Z"
   },
   {
    "duration": 3029,
    "start_time": "2022-10-10T08:48:53.355Z"
   },
   {
    "duration": 3208,
    "start_time": "2022-10-10T08:49:09.755Z"
   },
   {
    "duration": 3082,
    "start_time": "2022-10-10T08:49:25.221Z"
   },
   {
    "duration": 3301,
    "start_time": "2022-10-10T08:50:10.994Z"
   },
   {
    "duration": 3305,
    "start_time": "2022-10-10T08:51:10.183Z"
   },
   {
    "duration": 680,
    "start_time": "2022-10-10T08:51:30.304Z"
   },
   {
    "duration": 3077,
    "start_time": "2022-10-10T08:51:32.468Z"
   },
   {
    "duration": 3251,
    "start_time": "2022-10-10T08:52:03.968Z"
   },
   {
    "duration": 3041,
    "start_time": "2022-10-10T08:52:24.195Z"
   },
   {
    "duration": 3514,
    "start_time": "2022-10-10T08:52:39.381Z"
   },
   {
    "duration": 3173,
    "start_time": "2022-10-10T08:53:00.982Z"
   },
   {
    "duration": 3213,
    "start_time": "2022-10-10T08:53:28.344Z"
   },
   {
    "duration": 3527,
    "start_time": "2022-10-10T08:53:54.172Z"
   },
   {
    "duration": 3545,
    "start_time": "2022-10-10T08:54:37.706Z"
   },
   {
    "duration": 3646,
    "start_time": "2022-10-10T08:55:45.857Z"
   },
   {
    "duration": 3769,
    "start_time": "2022-10-10T08:56:38.508Z"
   },
   {
    "duration": 3456,
    "start_time": "2022-10-10T08:56:51.094Z"
   },
   {
    "duration": 388,
    "start_time": "2022-10-10T08:58:19.922Z"
   },
   {
    "duration": 3832,
    "start_time": "2022-10-10T08:59:10.386Z"
   },
   {
    "duration": 3684,
    "start_time": "2022-10-10T09:00:30.846Z"
   },
   {
    "duration": 3796,
    "start_time": "2022-10-10T09:00:59.372Z"
   },
   {
    "duration": 3700,
    "start_time": "2022-10-10T09:01:10.507Z"
   },
   {
    "duration": 3775,
    "start_time": "2022-10-10T09:01:23.109Z"
   },
   {
    "duration": 3631,
    "start_time": "2022-10-10T09:02:01.836Z"
   },
   {
    "duration": 337,
    "start_time": "2022-10-10T09:02:32.347Z"
   },
   {
    "duration": 377,
    "start_time": "2022-10-10T09:04:37.168Z"
   },
   {
    "duration": 3807,
    "start_time": "2022-10-10T09:04:44.772Z"
   },
   {
    "duration": 3599,
    "start_time": "2022-10-10T09:04:59.884Z"
   },
   {
    "duration": 3758,
    "start_time": "2022-10-10T09:06:59.540Z"
   },
   {
    "duration": 3635,
    "start_time": "2022-10-10T09:07:27.604Z"
   },
   {
    "duration": 3469,
    "start_time": "2022-10-10T09:08:23.512Z"
   },
   {
    "duration": 3614,
    "start_time": "2022-10-10T09:08:37.507Z"
   },
   {
    "duration": 3735,
    "start_time": "2022-10-10T09:09:10.139Z"
   },
   {
    "duration": 3390,
    "start_time": "2022-10-10T09:09:23.073Z"
   },
   {
    "duration": 3405,
    "start_time": "2022-10-10T09:09:53.010Z"
   },
   {
    "duration": 3802,
    "start_time": "2022-10-10T09:10:32.712Z"
   },
   {
    "duration": 3608,
    "start_time": "2022-10-10T09:10:45.773Z"
   },
   {
    "duration": 3618,
    "start_time": "2022-10-10T09:11:15.249Z"
   },
   {
    "duration": 3743,
    "start_time": "2022-10-10T09:11:37.464Z"
   },
   {
    "duration": 3577,
    "start_time": "2022-10-10T09:11:46.186Z"
   },
   {
    "duration": 3697,
    "start_time": "2022-10-10T09:12:37.475Z"
   },
   {
    "duration": 3630,
    "start_time": "2022-10-10T09:12:50.462Z"
   },
   {
    "duration": 3854,
    "start_time": "2022-10-10T09:13:35.000Z"
   },
   {
    "duration": 13,
    "start_time": "2022-10-10T09:17:15.662Z"
   },
   {
    "duration": 126,
    "start_time": "2022-10-10T09:26:16.927Z"
   },
   {
    "duration": 115,
    "start_time": "2022-10-10T09:26:24.840Z"
   },
   {
    "duration": 172,
    "start_time": "2022-10-10T09:26:30.544Z"
   },
   {
    "duration": 256,
    "start_time": "2022-10-10T09:26:58.290Z"
   },
   {
    "duration": 239,
    "start_time": "2022-10-10T09:27:27.090Z"
   },
   {
    "duration": 306,
    "start_time": "2022-10-10T09:28:23.891Z"
   },
   {
    "duration": 117,
    "start_time": "2022-10-10T09:29:03.866Z"
   },
   {
    "duration": 498,
    "start_time": "2022-10-10T09:29:06.377Z"
   },
   {
    "duration": 313,
    "start_time": "2022-10-10T09:29:16.866Z"
   },
   {
    "duration": 302,
    "start_time": "2022-10-10T09:29:29.929Z"
   },
   {
    "duration": 6,
    "start_time": "2022-10-10T09:29:51.892Z"
   },
   {
    "duration": 6,
    "start_time": "2022-10-10T09:30:02.791Z"
   },
   {
    "duration": 320,
    "start_time": "2022-10-10T09:30:30.666Z"
   },
   {
    "duration": 449,
    "start_time": "2022-10-10T09:30:44.404Z"
   },
   {
    "duration": 583,
    "start_time": "2022-10-10T09:31:03.016Z"
   },
   {
    "duration": 318,
    "start_time": "2022-10-10T09:31:32.597Z"
   },
   {
    "duration": 5,
    "start_time": "2022-10-10T09:32:14.379Z"
   },
   {
    "duration": 9,
    "start_time": "2022-10-10T09:32:32.793Z"
   },
   {
    "duration": 10,
    "start_time": "2022-10-10T09:32:47.644Z"
   },
   {
    "duration": 9,
    "start_time": "2022-10-10T09:32:53.256Z"
   },
   {
    "duration": 13,
    "start_time": "2022-10-10T09:35:31.444Z"
   },
   {
    "duration": 110,
    "start_time": "2022-10-10T09:36:00.920Z"
   },
   {
    "duration": 147,
    "start_time": "2022-10-10T09:36:18.044Z"
   },
   {
    "duration": 12,
    "start_time": "2022-10-10T09:37:26.682Z"
   },
   {
    "duration": 14,
    "start_time": "2022-10-10T09:37:43.969Z"
   },
   {
    "duration": 110,
    "start_time": "2022-10-10T09:38:12.756Z"
   },
   {
    "duration": 10,
    "start_time": "2022-10-10T09:40:13.234Z"
   },
   {
    "duration": 91325,
    "start_time": "2022-10-10T09:43:20.736Z"
   },
   {
    "duration": 66,
    "start_time": "2022-10-10T09:47:48.211Z"
   },
   {
    "duration": 81,
    "start_time": "2022-10-10T09:47:52.956Z"
   },
   {
    "duration": 21,
    "start_time": "2022-10-10T09:48:15.910Z"
   },
   {
    "duration": 27,
    "start_time": "2022-10-10T09:48:24.642Z"
   },
   {
    "duration": 27,
    "start_time": "2022-10-10T09:48:35.436Z"
   },
   {
    "duration": 29,
    "start_time": "2022-10-10T09:48:46.961Z"
   },
   {
    "duration": 34,
    "start_time": "2022-10-10T09:49:01.848Z"
   },
   {
    "duration": 14,
    "start_time": "2022-10-10T09:49:19.524Z"
   },
   {
    "duration": 13,
    "start_time": "2022-10-10T09:49:24.918Z"
   },
   {
    "duration": 12,
    "start_time": "2022-10-10T09:49:29.634Z"
   },
   {
    "duration": 13,
    "start_time": "2022-10-10T09:49:53.635Z"
   },
   {
    "duration": 12,
    "start_time": "2022-10-10T09:50:00.161Z"
   },
   {
    "duration": 111,
    "start_time": "2022-10-10T09:51:36.504Z"
   },
   {
    "duration": 129,
    "start_time": "2022-10-10T09:53:23.962Z"
   },
   {
    "duration": 114,
    "start_time": "2022-10-10T09:53:53.738Z"
   },
   {
    "duration": 145,
    "start_time": "2022-10-10T09:54:06.213Z"
   },
   {
    "duration": 127,
    "start_time": "2022-10-10T09:54:24.475Z"
   },
   {
    "duration": 150,
    "start_time": "2022-10-10T09:55:41.550Z"
   },
   {
    "duration": 130,
    "start_time": "2022-10-10T09:56:09.263Z"
   },
   {
    "duration": 134,
    "start_time": "2022-10-10T09:56:18.213Z"
   },
   {
    "duration": 104,
    "start_time": "2022-10-10T09:56:22.575Z"
   },
   {
    "duration": 111,
    "start_time": "2022-10-10T09:56:33.206Z"
   },
   {
    "duration": 151,
    "start_time": "2022-10-10T09:56:36.288Z"
   },
   {
    "duration": 137,
    "start_time": "2022-10-10T09:56:41.200Z"
   },
   {
    "duration": 114,
    "start_time": "2022-10-10T09:57:21.564Z"
   },
   {
    "duration": 128,
    "start_time": "2022-10-10T09:57:24.901Z"
   },
   {
    "duration": 107,
    "start_time": "2022-10-10T09:57:43.350Z"
   },
   {
    "duration": 122,
    "start_time": "2022-10-10T09:58:37.393Z"
   },
   {
    "duration": 120,
    "start_time": "2022-10-10T10:00:20.163Z"
   },
   {
    "duration": 139,
    "start_time": "2022-10-10T10:00:51.964Z"
   },
   {
    "duration": 126,
    "start_time": "2022-10-10T10:01:18.878Z"
   },
   {
    "duration": 141,
    "start_time": "2022-10-10T10:01:51.141Z"
   },
   {
    "duration": 137,
    "start_time": "2022-10-10T10:02:27.240Z"
   },
   {
    "duration": 132,
    "start_time": "2022-10-10T10:02:46.327Z"
   },
   {
    "duration": 116,
    "start_time": "2022-10-10T10:03:36.714Z"
   },
   {
    "duration": 115,
    "start_time": "2022-10-10T10:04:16.653Z"
   },
   {
    "duration": 116,
    "start_time": "2022-10-10T10:05:35.091Z"
   },
   {
    "duration": 119,
    "start_time": "2022-10-10T10:06:03.603Z"
   },
   {
    "duration": 151,
    "start_time": "2022-10-10T10:06:51.003Z"
   },
   {
    "duration": 123,
    "start_time": "2022-10-10T10:07:34.040Z"
   },
   {
    "duration": 125,
    "start_time": "2022-10-10T10:07:38.339Z"
   },
   {
    "duration": 140,
    "start_time": "2022-10-10T10:07:57.640Z"
   },
   {
    "duration": 148,
    "start_time": "2022-10-10T10:08:01.014Z"
   },
   {
    "duration": 126,
    "start_time": "2022-10-10T10:08:26.927Z"
   },
   {
    "duration": 166,
    "start_time": "2022-10-10T10:12:37.715Z"
   },
   {
    "duration": 165,
    "start_time": "2022-10-10T10:12:49.977Z"
   },
   {
    "duration": 132,
    "start_time": "2022-10-10T10:13:25.597Z"
   },
   {
    "duration": 135,
    "start_time": "2022-10-10T10:17:08.553Z"
   },
   {
    "duration": 138,
    "start_time": "2022-10-10T10:17:15.478Z"
   },
   {
    "duration": 121,
    "start_time": "2022-10-10T10:17:24.706Z"
   },
   {
    "duration": 119,
    "start_time": "2022-10-10T10:17:37.919Z"
   },
   {
    "duration": 154,
    "start_time": "2022-10-10T10:17:54.477Z"
   },
   {
    "duration": 27,
    "start_time": "2022-10-10T10:38:16.770Z"
   },
   {
    "duration": 26,
    "start_time": "2022-10-10T10:38:48.684Z"
   },
   {
    "duration": 25,
    "start_time": "2022-10-10T10:39:02.311Z"
   },
   {
    "duration": 21,
    "start_time": "2022-10-10T10:40:05.083Z"
   },
   {
    "duration": 12,
    "start_time": "2022-10-10T10:45:08.435Z"
   },
   {
    "duration": 275,
    "start_time": "2022-10-10T10:45:44.221Z"
   },
   {
    "duration": 137,
    "start_time": "2022-10-10T10:46:27.685Z"
   },
   {
    "duration": 153,
    "start_time": "2022-10-10T10:47:13.605Z"
   },
   {
    "duration": 151,
    "start_time": "2022-10-10T10:48:28.798Z"
   },
   {
    "duration": 135,
    "start_time": "2022-10-10T10:49:41.160Z"
   },
   {
    "duration": 75,
    "start_time": "2022-10-10T10:50:19.123Z"
   },
   {
    "duration": 153,
    "start_time": "2022-10-10T10:50:22.885Z"
   },
   {
    "duration": 150,
    "start_time": "2022-10-10T10:50:32.522Z"
   },
   {
    "duration": 81,
    "start_time": "2022-10-10T10:51:05.286Z"
   },
   {
    "duration": 152,
    "start_time": "2022-10-10T10:51:08.036Z"
   },
   {
    "duration": 233,
    "start_time": "2022-10-10T10:51:11.922Z"
   },
   {
    "duration": 84,
    "start_time": "2022-10-10T10:52:43.224Z"
   },
   {
    "duration": 154,
    "start_time": "2022-10-10T10:52:45.223Z"
   },
   {
    "duration": 145,
    "start_time": "2022-10-10T10:52:58.648Z"
   },
   {
    "duration": 176,
    "start_time": "2022-10-10T10:53:16.061Z"
   },
   {
    "duration": 212,
    "start_time": "2022-10-10T10:54:11.926Z"
   },
   {
    "duration": 155,
    "start_time": "2022-10-10T10:55:58.940Z"
   },
   {
    "duration": 164,
    "start_time": "2022-10-10T10:56:56.876Z"
   },
   {
    "duration": 149,
    "start_time": "2022-10-10T10:57:03.124Z"
   },
   {
    "duration": 303,
    "start_time": "2022-10-10T11:00:20.450Z"
   },
   {
    "duration": 163,
    "start_time": "2022-10-10T11:00:39.363Z"
   },
   {
    "duration": 2622,
    "start_time": "2022-10-10T11:00:44.580Z"
   },
   {
    "duration": 148,
    "start_time": "2022-10-10T11:00:58.325Z"
   },
   {
    "duration": 160,
    "start_time": "2022-10-10T11:01:06.074Z"
   },
   {
    "duration": 154,
    "start_time": "2022-10-10T11:01:21.438Z"
   },
   {
    "duration": 153,
    "start_time": "2022-10-10T11:01:24.624Z"
   },
   {
    "duration": 438,
    "start_time": "2022-10-10T11:02:02.800Z"
   },
   {
    "duration": 448,
    "start_time": "2022-10-10T11:02:10.300Z"
   },
   {
    "duration": 474,
    "start_time": "2022-10-10T11:02:30.828Z"
   },
   {
    "duration": 504,
    "start_time": "2022-10-10T11:02:58.728Z"
   },
   {
    "duration": 470,
    "start_time": "2022-10-10T11:03:14.802Z"
   },
   {
    "duration": 478,
    "start_time": "2022-10-10T11:04:35.143Z"
   },
   {
    "duration": 466,
    "start_time": "2022-10-10T11:04:49.918Z"
   },
   {
    "duration": 164,
    "start_time": "2022-10-10T11:09:29.203Z"
   },
   {
    "duration": 481,
    "start_time": "2022-10-10T11:09:34.190Z"
   },
   {
    "duration": 474,
    "start_time": "2022-10-10T11:10:07.152Z"
   },
   {
    "duration": 473,
    "start_time": "2022-10-10T11:10:20.765Z"
   },
   {
    "duration": 76,
    "start_time": "2022-10-10T11:13:36.069Z"
   },
   {
    "duration": 9,
    "start_time": "2022-10-10T11:13:38.316Z"
   },
   {
    "duration": 20,
    "start_time": "2022-10-10T11:14:27.504Z"
   },
   {
    "duration": 19,
    "start_time": "2022-10-10T11:14:58.073Z"
   },
   {
    "duration": 18,
    "start_time": "2022-10-10T11:15:04.790Z"
   },
   {
    "duration": 17,
    "start_time": "2022-10-10T11:15:24.156Z"
   },
   {
    "duration": 13,
    "start_time": "2022-10-10T11:16:13.154Z"
   },
   {
    "duration": 527,
    "start_time": "2022-10-10T11:16:30.381Z"
   },
   {
    "duration": 518,
    "start_time": "2022-10-10T11:17:42.407Z"
   },
   {
    "duration": 503,
    "start_time": "2022-10-10T11:17:47.579Z"
   },
   {
    "duration": 564,
    "start_time": "2022-10-10T11:27:24.343Z"
   },
   {
    "duration": 1065,
    "start_time": "2022-10-10T11:27:41.909Z"
   },
   {
    "duration": 984,
    "start_time": "2022-10-10T11:27:53.808Z"
   },
   {
    "duration": 938,
    "start_time": "2022-10-10T11:27:58.859Z"
   },
   {
    "duration": 934,
    "start_time": "2022-10-10T11:28:02.581Z"
   },
   {
    "duration": 961,
    "start_time": "2022-10-10T11:29:28.082Z"
   },
   {
    "duration": 685,
    "start_time": "2022-10-10T11:32:05.359Z"
   },
   {
    "duration": 2939,
    "start_time": "2022-10-10T11:32:07.558Z"
   },
   {
    "duration": 3012,
    "start_time": "2022-10-10T11:32:28.272Z"
   },
   {
    "duration": 3126,
    "start_time": "2022-10-10T11:32:39.532Z"
   },
   {
    "duration": 3101,
    "start_time": "2022-10-10T11:33:06.560Z"
   },
   {
    "duration": 3160,
    "start_time": "2022-10-10T11:33:41.808Z"
   },
   {
    "duration": 3369,
    "start_time": "2022-10-10T11:34:05.909Z"
   },
   {
    "duration": 2962,
    "start_time": "2022-10-10T11:34:26.321Z"
   },
   {
    "duration": 2992,
    "start_time": "2022-10-10T11:35:08.284Z"
   },
   {
    "duration": 3143,
    "start_time": "2022-10-10T11:35:39.834Z"
   },
   {
    "duration": 3079,
    "start_time": "2022-10-10T11:35:58.996Z"
   },
   {
    "duration": 9,
    "start_time": "2022-10-10T11:36:50.819Z"
   },
   {
    "duration": 16,
    "start_time": "2022-10-10T11:37:11.874Z"
   },
   {
    "duration": 10,
    "start_time": "2022-10-10T11:37:16.221Z"
   },
   {
    "duration": 13,
    "start_time": "2022-10-10T11:37:23.334Z"
   },
   {
    "duration": 9,
    "start_time": "2022-10-10T11:37:23.796Z"
   },
   {
    "duration": 13,
    "start_time": "2022-10-10T11:37:39.059Z"
   },
   {
    "duration": 9,
    "start_time": "2022-10-10T11:37:41.171Z"
   },
   {
    "duration": 6,
    "start_time": "2022-10-10T11:43:24.336Z"
   },
   {
    "duration": 928,
    "start_time": "2022-10-10T11:44:21.686Z"
   },
   {
    "duration": 646,
    "start_time": "2022-10-10T11:45:02.661Z"
   },
   {
    "duration": 798,
    "start_time": "2022-10-10T11:47:19.130Z"
   },
   {
    "duration": 797,
    "start_time": "2022-10-10T11:47:35.062Z"
   },
   {
    "duration": 778,
    "start_time": "2022-10-10T11:47:38.773Z"
   },
   {
    "duration": 806,
    "start_time": "2022-10-10T11:47:53.787Z"
   },
   {
    "duration": 844,
    "start_time": "2022-10-10T11:48:09.999Z"
   },
   {
    "duration": 4,
    "start_time": "2022-10-10T11:51:23.489Z"
   },
   {
    "duration": 790,
    "start_time": "2022-10-10T11:53:33.413Z"
   },
   {
    "duration": 920,
    "start_time": "2022-10-10T11:54:01.389Z"
   },
   {
    "duration": 838,
    "start_time": "2022-10-10T11:54:12.888Z"
   },
   {
    "duration": 815,
    "start_time": "2022-10-10T11:54:32.628Z"
   },
   {
    "duration": 830,
    "start_time": "2022-10-10T11:54:38.877Z"
   },
   {
    "duration": 791,
    "start_time": "2022-10-10T11:54:47.312Z"
   },
   {
    "duration": 7,
    "start_time": "2022-10-10T11:55:28.682Z"
   },
   {
    "duration": 1463,
    "start_time": "2022-10-10T12:00:52.513Z"
   },
   {
    "duration": 1963,
    "start_time": "2022-10-10T12:00:53.978Z"
   },
   {
    "duration": 16,
    "start_time": "2022-10-10T12:00:55.943Z"
   },
   {
    "duration": 17,
    "start_time": "2022-10-10T12:00:55.961Z"
   },
   {
    "duration": 8,
    "start_time": "2022-10-10T12:00:55.981Z"
   },
   {
    "duration": 69,
    "start_time": "2022-10-10T12:00:55.991Z"
   },
   {
    "duration": 45,
    "start_time": "2022-10-10T12:00:56.061Z"
   },
   {
    "duration": 66,
    "start_time": "2022-10-10T12:00:56.108Z"
   },
   {
    "duration": 24,
    "start_time": "2022-10-10T12:00:56.189Z"
   },
   {
    "duration": 14,
    "start_time": "2022-10-10T12:00:56.214Z"
   },
   {
    "duration": 17,
    "start_time": "2022-10-10T12:00:56.230Z"
   },
   {
    "duration": 4,
    "start_time": "2022-10-10T12:00:56.249Z"
   },
   {
    "duration": 11,
    "start_time": "2022-10-10T12:00:56.255Z"
   },
   {
    "duration": 22,
    "start_time": "2022-10-10T12:00:56.269Z"
   },
   {
    "duration": 62,
    "start_time": "2022-10-10T12:00:56.292Z"
   },
   {
    "duration": 119,
    "start_time": "2022-10-10T12:00:56.355Z"
   },
   {
    "duration": 3641,
    "start_time": "2022-10-10T12:00:56.476Z"
   },
   {
    "duration": 21,
    "start_time": "2022-10-10T12:01:00.119Z"
   },
   {
    "duration": 68,
    "start_time": "2022-10-10T12:01:00.142Z"
   },
   {
    "duration": 81,
    "start_time": "2022-10-10T12:01:26.265Z"
   },
   {
    "duration": 13,
    "start_time": "2022-10-10T12:01:45.440Z"
   },
   {
    "duration": 1493,
    "start_time": "2022-10-10T12:02:06.431Z"
   },
   {
    "duration": 817,
    "start_time": "2022-10-10T12:02:07.927Z"
   },
   {
    "duration": 17,
    "start_time": "2022-10-10T12:02:08.746Z"
   },
   {
    "duration": 36,
    "start_time": "2022-10-10T12:02:08.767Z"
   },
   {
    "duration": 15,
    "start_time": "2022-10-10T12:02:08.805Z"
   },
   {
    "duration": 78,
    "start_time": "2022-10-10T12:02:08.822Z"
   },
   {
    "duration": 31,
    "start_time": "2022-10-10T12:02:08.901Z"
   },
   {
    "duration": 85,
    "start_time": "2022-10-10T12:02:08.934Z"
   },
   {
    "duration": 22,
    "start_time": "2022-10-10T12:02:09.020Z"
   },
   {
    "duration": 11,
    "start_time": "2022-10-10T12:02:09.045Z"
   },
   {
    "duration": 33,
    "start_time": "2022-10-10T12:02:09.059Z"
   },
   {
    "duration": 6,
    "start_time": "2022-10-10T12:02:09.095Z"
   },
   {
    "duration": 11,
    "start_time": "2022-10-10T12:02:09.103Z"
   },
   {
    "duration": 8,
    "start_time": "2022-10-10T12:02:09.116Z"
   },
   {
    "duration": 79,
    "start_time": "2022-10-10T12:02:09.126Z"
   },
   {
    "duration": 119,
    "start_time": "2022-10-10T12:02:09.207Z"
   },
   {
    "duration": 3683,
    "start_time": "2022-10-10T12:02:09.328Z"
   },
   {
    "duration": 16,
    "start_time": "2022-10-10T12:02:13.013Z"
   },
   {
    "duration": 61,
    "start_time": "2022-10-10T12:02:13.031Z"
   },
   {
    "duration": 10,
    "start_time": "2022-10-10T12:02:15.028Z"
   },
   {
    "duration": 11,
    "start_time": "2022-10-10T12:02:26.540Z"
   },
   {
    "duration": 20,
    "start_time": "2022-10-10T12:03:45.528Z"
   },
   {
    "duration": 1584,
    "start_time": "2022-10-10T12:03:50.651Z"
   },
   {
    "duration": 744,
    "start_time": "2022-10-10T12:03:52.237Z"
   },
   {
    "duration": 18,
    "start_time": "2022-10-10T12:03:52.983Z"
   },
   {
    "duration": 26,
    "start_time": "2022-10-10T12:03:53.003Z"
   },
   {
    "duration": 5,
    "start_time": "2022-10-10T12:03:53.031Z"
   },
   {
    "duration": 85,
    "start_time": "2022-10-10T12:03:53.038Z"
   },
   {
    "duration": 32,
    "start_time": "2022-10-10T12:03:53.125Z"
   },
   {
    "duration": 82,
    "start_time": "2022-10-10T12:03:53.159Z"
   },
   {
    "duration": 21,
    "start_time": "2022-10-10T12:03:53.242Z"
   },
   {
    "duration": 26,
    "start_time": "2022-10-10T12:03:53.264Z"
   },
   {
    "duration": 8,
    "start_time": "2022-10-10T12:03:53.292Z"
   },
   {
    "duration": 12,
    "start_time": "2022-10-10T12:03:53.302Z"
   },
   {
    "duration": 12,
    "start_time": "2022-10-10T12:03:53.316Z"
   },
   {
    "duration": 5,
    "start_time": "2022-10-10T12:03:53.331Z"
   },
   {
    "duration": 63,
    "start_time": "2022-10-10T12:03:53.338Z"
   },
   {
    "duration": 138,
    "start_time": "2022-10-10T12:03:53.403Z"
   },
   {
    "duration": 3445,
    "start_time": "2022-10-10T12:03:53.544Z"
   },
   {
    "duration": 16,
    "start_time": "2022-10-10T12:03:56.991Z"
   },
   {
    "duration": 50,
    "start_time": "2022-10-10T12:03:57.009Z"
   },
   {
    "duration": 31,
    "start_time": "2022-10-10T12:03:57.061Z"
   },
   {
    "duration": 129,
    "start_time": "2022-10-10T12:03:57.094Z"
   },
   {
    "duration": 43,
    "start_time": "2022-10-10T12:03:57.225Z"
   },
   {
    "duration": 3122,
    "start_time": "2022-10-10T12:03:57.270Z"
   },
   {
    "duration": 1069,
    "start_time": "2022-10-10T12:04:00.393Z"
   },
   {
    "duration": 952,
    "start_time": "2022-10-10T12:04:01.464Z"
   },
   {
    "duration": 8,
    "start_time": "2022-10-10T12:04:02.418Z"
   },
   {
    "duration": 5,
    "start_time": "2022-10-10T12:04:50.575Z"
   },
   {
    "duration": 6,
    "start_time": "2022-10-10T12:05:09.799Z"
   },
   {
    "duration": 1559,
    "start_time": "2022-10-10T12:06:21.437Z"
   },
   {
    "duration": 811,
    "start_time": "2022-10-10T12:06:22.998Z"
   },
   {
    "duration": 18,
    "start_time": "2022-10-10T12:06:23.811Z"
   },
   {
    "duration": 19,
    "start_time": "2022-10-10T12:06:23.830Z"
   },
   {
    "duration": 6,
    "start_time": "2022-10-10T12:06:23.851Z"
   },
   {
    "duration": 96,
    "start_time": "2022-10-10T12:06:23.858Z"
   },
   {
    "duration": 53,
    "start_time": "2022-10-10T12:06:23.956Z"
   },
   {
    "duration": 88,
    "start_time": "2022-10-10T12:06:24.011Z"
   },
   {
    "duration": 21,
    "start_time": "2022-10-10T12:06:24.101Z"
   },
   {
    "duration": 10,
    "start_time": "2022-10-10T12:06:24.124Z"
   },
   {
    "duration": 22,
    "start_time": "2022-10-10T12:06:24.136Z"
   },
   {
    "duration": 10,
    "start_time": "2022-10-10T12:06:24.160Z"
   },
   {
    "duration": 7,
    "start_time": "2022-10-10T12:06:24.190Z"
   },
   {
    "duration": 6,
    "start_time": "2022-10-10T12:06:24.201Z"
   },
   {
    "duration": 54,
    "start_time": "2022-10-10T12:06:24.209Z"
   },
   {
    "duration": 141,
    "start_time": "2022-10-10T12:06:24.265Z"
   },
   {
    "duration": 3708,
    "start_time": "2022-10-10T12:06:24.408Z"
   },
   {
    "duration": 15,
    "start_time": "2022-10-10T12:06:28.118Z"
   },
   {
    "duration": 67,
    "start_time": "2022-10-10T12:06:28.135Z"
   },
   {
    "duration": 24,
    "start_time": "2022-10-10T12:06:28.205Z"
   },
   {
    "duration": 156,
    "start_time": "2022-10-10T12:06:28.231Z"
   },
   {
    "duration": 60,
    "start_time": "2022-10-10T12:06:28.389Z"
   },
   {
    "duration": 3374,
    "start_time": "2022-10-10T12:06:28.451Z"
   },
   {
    "duration": 1152,
    "start_time": "2022-10-10T12:06:31.828Z"
   },
   {
    "duration": 880,
    "start_time": "2022-10-10T12:06:32.982Z"
   },
   {
    "duration": 7,
    "start_time": "2022-10-10T12:06:33.864Z"
   },
   {
    "duration": 33,
    "start_time": "2022-10-10T12:06:33.873Z"
   },
   {
    "duration": 7,
    "start_time": "2022-10-10T12:07:32.738Z"
   },
   {
    "duration": 884,
    "start_time": "2022-10-10T12:08:27.540Z"
   },
   {
    "duration": 16,
    "start_time": "2022-10-10T12:09:18.402Z"
   },
   {
    "duration": 10,
    "start_time": "2022-10-10T12:09:35.145Z"
   },
   {
    "duration": 14,
    "start_time": "2022-10-10T12:09:57.050Z"
   },
   {
    "duration": 1503,
    "start_time": "2022-10-10T12:10:39.101Z"
   },
   {
    "duration": 771,
    "start_time": "2022-10-10T12:10:40.607Z"
   },
   {
    "duration": 18,
    "start_time": "2022-10-10T12:10:41.380Z"
   },
   {
    "duration": 22,
    "start_time": "2022-10-10T12:10:41.400Z"
   },
   {
    "duration": 6,
    "start_time": "2022-10-10T12:10:41.425Z"
   },
   {
    "duration": 94,
    "start_time": "2022-10-10T12:10:41.433Z"
   },
   {
    "duration": 38,
    "start_time": "2022-10-10T12:10:41.529Z"
   },
   {
    "duration": 86,
    "start_time": "2022-10-10T12:10:41.569Z"
   },
   {
    "duration": 42,
    "start_time": "2022-10-10T12:10:41.657Z"
   },
   {
    "duration": 9,
    "start_time": "2022-10-10T12:10:41.701Z"
   },
   {
    "duration": 25,
    "start_time": "2022-10-10T12:10:41.712Z"
   },
   {
    "duration": 8,
    "start_time": "2022-10-10T12:10:41.740Z"
   },
   {
    "duration": 13,
    "start_time": "2022-10-10T12:10:41.750Z"
   },
   {
    "duration": 10,
    "start_time": "2022-10-10T12:10:41.766Z"
   },
   {
    "duration": 72,
    "start_time": "2022-10-10T12:10:41.778Z"
   },
   {
    "duration": 140,
    "start_time": "2022-10-10T12:10:41.852Z"
   },
   {
    "duration": 3553,
    "start_time": "2022-10-10T12:10:41.994Z"
   },
   {
    "duration": 17,
    "start_time": "2022-10-10T12:10:45.549Z"
   },
   {
    "duration": 66,
    "start_time": "2022-10-10T12:10:45.568Z"
   },
   {
    "duration": 126,
    "start_time": "2022-10-10T12:10:45.636Z"
   },
   {
    "duration": 55,
    "start_time": "2022-10-10T12:10:45.764Z"
   },
   {
    "duration": 3240,
    "start_time": "2022-10-10T12:10:45.821Z"
   },
   {
    "duration": 1092,
    "start_time": "2022-10-10T12:10:49.063Z"
   },
   {
    "duration": 787,
    "start_time": "2022-10-10T12:10:50.157Z"
   },
   {
    "duration": 8,
    "start_time": "2022-10-10T12:10:50.945Z"
   },
   {
    "duration": 45,
    "start_time": "2022-10-10T12:10:50.954Z"
   },
   {
    "duration": 1794,
    "start_time": "2022-10-10T12:19:44.129Z"
   },
   {
    "duration": 2629,
    "start_time": "2022-10-10T12:20:26.506Z"
   },
   {
    "duration": 4,
    "start_time": "2022-10-10T12:21:27.086Z"
   },
   {
    "duration": 409,
    "start_time": "2022-10-10T12:21:42.292Z"
   },
   {
    "duration": 907,
    "start_time": "2022-10-10T12:22:15.542Z"
   },
   {
    "duration": 816,
    "start_time": "2022-10-10T12:22:26.354Z"
   },
   {
    "duration": 882,
    "start_time": "2022-10-10T12:22:44.455Z"
   },
   {
    "duration": 940,
    "start_time": "2022-10-10T12:22:50.705Z"
   },
   {
    "duration": 1102,
    "start_time": "2022-10-10T12:23:11.332Z"
   },
   {
    "duration": 960,
    "start_time": "2022-10-10T15:18:01.078Z"
   },
   {
    "duration": 840,
    "start_time": "2022-10-10T15:18:56.167Z"
   },
   {
    "duration": 985,
    "start_time": "2022-10-10T15:19:14.192Z"
   },
   {
    "duration": 809,
    "start_time": "2022-10-10T15:19:32.891Z"
   },
   {
    "duration": 1001,
    "start_time": "2022-10-10T15:19:37.691Z"
   },
   {
    "duration": 813,
    "start_time": "2022-10-10T15:19:43.442Z"
   },
   {
    "duration": 975,
    "start_time": "2022-10-10T15:21:12.067Z"
   },
   {
    "duration": 791,
    "start_time": "2022-10-10T15:21:32.491Z"
   },
   {
    "duration": 941,
    "start_time": "2022-10-10T15:21:36.929Z"
   },
   {
    "duration": 1107,
    "start_time": "2022-10-10T15:21:51.580Z"
   },
   {
    "duration": 885,
    "start_time": "2022-10-10T15:22:00.242Z"
   },
   {
    "duration": 1001,
    "start_time": "2022-10-10T15:22:18.491Z"
   },
   {
    "duration": 417,
    "start_time": "2022-10-10T15:22:41.505Z"
   },
   {
    "duration": 825,
    "start_time": "2022-10-10T15:22:44.517Z"
   },
   {
    "duration": 953,
    "start_time": "2022-10-10T15:23:12.700Z"
   },
   {
    "duration": 510,
    "start_time": "2022-10-10T15:23:46.805Z"
   },
   {
    "duration": 517,
    "start_time": "2022-10-10T15:23:56.286Z"
   },
   {
    "duration": 1355,
    "start_time": "2022-10-10T15:24:02.543Z"
   },
   {
    "duration": 1297,
    "start_time": "2022-10-10T15:24:56.043Z"
   },
   {
    "duration": 1385,
    "start_time": "2022-10-10T15:25:32.143Z"
   },
   {
    "duration": 1445,
    "start_time": "2022-10-10T15:27:53.758Z"
   },
   {
    "duration": 1331,
    "start_time": "2022-10-10T15:28:09.181Z"
   },
   {
    "duration": 1542,
    "start_time": "2022-10-10T15:28:55.969Z"
   },
   {
    "duration": 9,
    "start_time": "2022-10-10T15:31:06.720Z"
   },
   {
    "duration": 1394,
    "start_time": "2022-10-10T15:32:19.446Z"
   },
   {
    "duration": 7,
    "start_time": "2022-10-10T15:32:23.538Z"
   },
   {
    "duration": 232,
    "start_time": "2022-10-10T15:35:29.258Z"
   },
   {
    "duration": 8,
    "start_time": "2022-10-10T15:35:32.734Z"
   },
   {
    "duration": 8,
    "start_time": "2022-10-10T15:35:44.946Z"
   },
   {
    "duration": 4,
    "start_time": "2022-10-10T15:50:15.293Z"
   },
   {
    "duration": 3,
    "start_time": "2022-10-10T16:15:03.055Z"
   },
   {
    "duration": 5,
    "start_time": "2022-10-10T16:25:58.859Z"
   },
   {
    "duration": 33,
    "start_time": "2022-10-10T16:27:53.509Z"
   },
   {
    "duration": 3,
    "start_time": "2022-10-10T16:28:08.893Z"
   },
   {
    "duration": 5,
    "start_time": "2022-10-10T16:39:32.354Z"
   },
   {
    "duration": 16,
    "start_time": "2022-10-10T16:39:42.077Z"
   },
   {
    "duration": 14,
    "start_time": "2022-10-10T16:39:57.012Z"
   },
   {
    "duration": 4,
    "start_time": "2022-10-10T16:39:59.425Z"
   },
   {
    "duration": 14,
    "start_time": "2022-10-10T17:28:08.764Z"
   },
   {
    "duration": 4,
    "start_time": "2022-10-10T17:28:43.901Z"
   },
   {
    "duration": 4,
    "start_time": "2022-10-10T17:29:08.837Z"
   },
   {
    "duration": 22,
    "start_time": "2022-10-10T17:29:53.500Z"
   },
   {
    "duration": 6,
    "start_time": "2022-10-10T17:31:11.719Z"
   },
   {
    "duration": 6,
    "start_time": "2022-10-10T17:31:18.413Z"
   },
   {
    "duration": 21,
    "start_time": "2022-10-10T17:34:19.445Z"
   },
   {
    "duration": 6,
    "start_time": "2022-10-10T17:37:20.621Z"
   },
   {
    "duration": 17,
    "start_time": "2022-10-10T17:37:28.952Z"
   },
   {
    "duration": 8,
    "start_time": "2022-10-10T17:37:54.602Z"
   },
   {
    "duration": 7,
    "start_time": "2022-10-10T17:38:29.457Z"
   },
   {
    "duration": 5,
    "start_time": "2022-10-10T17:38:44.651Z"
   },
   {
    "duration": 10,
    "start_time": "2022-10-10T17:40:36.716Z"
   },
   {
    "duration": 83,
    "start_time": "2022-10-10T17:43:20.042Z"
   },
   {
    "duration": 12853,
    "start_time": "2022-10-10T17:43:26.951Z"
   },
   {
    "duration": 4,
    "start_time": "2022-10-10T17:44:15.009Z"
   },
   {
    "duration": 14468,
    "start_time": "2022-10-10T17:44:17.466Z"
   },
   {
    "duration": 552,
    "start_time": "2022-10-10T17:48:45.193Z"
   },
   {
    "duration": 20,
    "start_time": "2022-10-10T17:49:07.068Z"
   },
   {
    "duration": 6,
    "start_time": "2022-10-10T17:49:28.986Z"
   },
   {
    "duration": 21,
    "start_time": "2022-10-10T17:49:36.443Z"
   },
   {
    "duration": 10,
    "start_time": "2022-10-10T17:49:49.944Z"
   },
   {
    "duration": 22,
    "start_time": "2022-10-10T17:49:51.068Z"
   },
   {
    "duration": 5,
    "start_time": "2022-10-10T17:49:58.180Z"
   },
   {
    "duration": 24,
    "start_time": "2022-10-10T17:50:03.567Z"
   },
   {
    "duration": 11,
    "start_time": "2022-10-10T17:50:19.292Z"
   },
   {
    "duration": 20,
    "start_time": "2022-10-10T17:50:19.835Z"
   },
   {
    "duration": 532,
    "start_time": "2022-10-10T17:50:25.129Z"
   },
   {
    "duration": 14178,
    "start_time": "2022-10-10T17:50:30.131Z"
   },
   {
    "duration": 319,
    "start_time": "2022-10-10T17:51:29.494Z"
   },
   {
    "duration": 14233,
    "start_time": "2022-10-10T17:51:53.344Z"
   },
   {
    "duration": 414,
    "start_time": "2022-10-10T17:52:13.830Z"
   },
   {
    "duration": 14116,
    "start_time": "2022-10-10T17:52:25.593Z"
   },
   {
    "duration": 13129,
    "start_time": "2022-10-10T17:56:02.531Z"
   },
   {
    "duration": 12802,
    "start_time": "2022-10-10T17:56:26.193Z"
   },
   {
    "duration": 322,
    "start_time": "2022-10-10T17:56:38.997Z"
   },
   {
    "duration": 107,
    "start_time": "2022-10-10T17:56:48.366Z"
   },
   {
    "duration": 168388,
    "start_time": "2022-10-10T17:59:16.757Z"
   },
   {
    "duration": 2802,
    "start_time": "2022-10-10T18:02:32.745Z"
   },
   {
    "duration": 11,
    "start_time": "2022-10-10T18:06:23.582Z"
   },
   {
    "duration": 3,
    "start_time": "2022-10-10T18:06:31.107Z"
   },
   {
    "duration": 6,
    "start_time": "2022-10-10T18:06:38.093Z"
   },
   {
    "duration": 5,
    "start_time": "2022-10-10T18:06:46.632Z"
   },
   {
    "duration": 198914,
    "start_time": "2022-10-10T18:09:24.023Z"
   },
   {
    "duration": 195521,
    "start_time": "2022-10-10T18:14:10.921Z"
   },
   {
    "duration": 1482,
    "start_time": "2022-10-11T08:16:44.797Z"
   },
   {
    "duration": 3062,
    "start_time": "2022-10-11T08:16:46.282Z"
   },
   {
    "duration": 13,
    "start_time": "2022-10-11T08:16:49.346Z"
   },
   {
    "duration": 15,
    "start_time": "2022-10-11T08:16:49.361Z"
   },
   {
    "duration": 5,
    "start_time": "2022-10-11T08:16:49.378Z"
   },
   {
    "duration": 76,
    "start_time": "2022-10-11T08:16:49.384Z"
   },
   {
    "duration": 27,
    "start_time": "2022-10-11T08:16:49.462Z"
   },
   {
    "duration": 70,
    "start_time": "2022-10-11T08:16:49.490Z"
   },
   {
    "duration": 18,
    "start_time": "2022-10-11T08:16:49.562Z"
   },
   {
    "duration": 7,
    "start_time": "2022-10-11T08:16:49.582Z"
   },
   {
    "duration": 9,
    "start_time": "2022-10-11T08:16:49.590Z"
   },
   {
    "duration": 8,
    "start_time": "2022-10-11T08:16:49.601Z"
   },
   {
    "duration": 27,
    "start_time": "2022-10-11T08:16:49.611Z"
   },
   {
    "duration": 6,
    "start_time": "2022-10-11T08:16:49.639Z"
   },
   {
    "duration": 44,
    "start_time": "2022-10-11T08:16:49.646Z"
   },
   {
    "duration": 129,
    "start_time": "2022-10-11T08:16:49.693Z"
   },
   {
    "duration": 3149,
    "start_time": "2022-10-11T08:16:49.833Z"
   },
   {
    "duration": 14,
    "start_time": "2022-10-11T08:16:52.984Z"
   },
   {
    "duration": 52,
    "start_time": "2022-10-11T08:16:53.000Z"
   },
   {
    "duration": 6,
    "start_time": "2022-10-11T08:16:53.054Z"
   },
   {
    "duration": 104,
    "start_time": "2022-10-11T08:16:53.061Z"
   },
   {
    "duration": 41,
    "start_time": "2022-10-11T08:16:53.166Z"
   },
   {
    "duration": 2969,
    "start_time": "2022-10-11T08:16:53.208Z"
   },
   {
    "duration": 994,
    "start_time": "2022-10-11T08:16:56.179Z"
   },
   {
    "duration": 1260,
    "start_time": "2022-10-11T08:16:57.175Z"
   },
   {
    "duration": 6,
    "start_time": "2022-10-11T08:16:58.437Z"
   },
   {
    "duration": 6,
    "start_time": "2022-10-11T08:16:58.445Z"
   },
   {
    "duration": 7,
    "start_time": "2022-10-11T08:16:58.454Z"
   },
   {
    "duration": 13,
    "start_time": "2022-10-11T08:16:58.463Z"
   },
   {
    "duration": 11904,
    "start_time": "2022-10-11T08:16:58.478Z"
   },
   {
    "duration": 111,
    "start_time": "2022-10-11T08:17:10.384Z"
   },
   {
    "duration": 181281,
    "start_time": "2022-10-11T08:17:10.497Z"
   },
   {
    "duration": 2525,
    "start_time": "2022-10-11T08:20:11.780Z"
   },
   {
    "duration": 309,
    "start_time": "2022-10-11T08:30:21.930Z"
   },
   {
    "duration": 18,
    "start_time": "2022-10-11T08:30:41.143Z"
   },
   {
    "duration": 2496,
    "start_time": "2022-10-11T08:34:32.482Z"
   },
   {
    "duration": 2549,
    "start_time": "2022-10-11T08:47:50.774Z"
   },
   {
    "duration": 1222,
    "start_time": "2022-10-11T10:18:50.760Z"
   },
   {
    "duration": 951,
    "start_time": "2022-10-11T10:19:17.847Z"
   },
   {
    "duration": 22,
    "start_time": "2022-10-11T10:20:05.547Z"
   },
   {
    "duration": 10,
    "start_time": "2022-10-11T10:20:29.910Z"
   },
   {
    "duration": 28597,
    "start_time": "2022-10-11T10:20:36.647Z"
   },
   {
    "duration": 4,
    "start_time": "2022-10-11T10:21:36.879Z"
   },
   {
    "duration": 21,
    "start_time": "2022-10-11T10:22:16.040Z"
   },
   {
    "duration": 1401,
    "start_time": "2022-10-11T10:23:30.836Z"
   },
   {
    "duration": 1310,
    "start_time": "2022-10-11T10:23:37.055Z"
   },
   {
    "duration": 717,
    "start_time": "2022-10-11T10:23:38.367Z"
   },
   {
    "duration": 14,
    "start_time": "2022-10-11T10:23:39.085Z"
   },
   {
    "duration": 19,
    "start_time": "2022-10-11T10:23:39.101Z"
   },
   {
    "duration": 15,
    "start_time": "2022-10-11T10:23:39.122Z"
   },
   {
    "duration": 71,
    "start_time": "2022-10-11T10:23:39.138Z"
   },
   {
    "duration": 44,
    "start_time": "2022-10-11T10:23:39.211Z"
   },
   {
    "duration": 56,
    "start_time": "2022-10-11T10:23:39.257Z"
   },
   {
    "duration": 34,
    "start_time": "2022-10-11T10:23:39.314Z"
   },
   {
    "duration": 7,
    "start_time": "2022-10-11T10:23:39.350Z"
   },
   {
    "duration": 11,
    "start_time": "2022-10-11T10:23:39.359Z"
   },
   {
    "duration": 14,
    "start_time": "2022-10-11T10:23:39.372Z"
   },
   {
    "duration": 9,
    "start_time": "2022-10-11T10:23:39.388Z"
   },
   {
    "duration": 6,
    "start_time": "2022-10-11T10:23:39.400Z"
   },
   {
    "duration": 53,
    "start_time": "2022-10-11T10:23:39.407Z"
   },
   {
    "duration": 108,
    "start_time": "2022-10-11T10:23:39.462Z"
   },
   {
    "duration": 3184,
    "start_time": "2022-10-11T10:23:39.572Z"
   },
   {
    "duration": 13,
    "start_time": "2022-10-11T10:23:42.758Z"
   },
   {
    "duration": 42,
    "start_time": "2022-10-11T10:23:42.773Z"
   },
   {
    "duration": 1471,
    "start_time": "2022-10-11T10:23:42.817Z"
   },
   {
    "duration": 0,
    "start_time": "2022-10-11T10:23:44.290Z"
   },
   {
    "duration": 0,
    "start_time": "2022-10-11T10:23:44.291Z"
   },
   {
    "duration": 0,
    "start_time": "2022-10-11T10:23:44.292Z"
   },
   {
    "duration": 0,
    "start_time": "2022-10-11T10:23:44.293Z"
   },
   {
    "duration": 0,
    "start_time": "2022-10-11T10:23:44.294Z"
   },
   {
    "duration": 0,
    "start_time": "2022-10-11T10:23:44.295Z"
   },
   {
    "duration": 0,
    "start_time": "2022-10-11T10:23:44.296Z"
   },
   {
    "duration": 0,
    "start_time": "2022-10-11T10:23:44.297Z"
   },
   {
    "duration": 0,
    "start_time": "2022-10-11T10:23:44.298Z"
   },
   {
    "duration": 0,
    "start_time": "2022-10-11T10:23:44.299Z"
   },
   {
    "duration": 0,
    "start_time": "2022-10-11T10:23:44.300Z"
   },
   {
    "duration": 0,
    "start_time": "2022-10-11T10:23:44.301Z"
   },
   {
    "duration": 0,
    "start_time": "2022-10-11T10:23:44.302Z"
   },
   {
    "duration": 0,
    "start_time": "2022-10-11T10:23:44.303Z"
   },
   {
    "duration": 0,
    "start_time": "2022-10-11T10:23:44.304Z"
   },
   {
    "duration": 0,
    "start_time": "2022-10-11T10:23:44.305Z"
   },
   {
    "duration": 1481,
    "start_time": "2022-10-11T10:25:28.859Z"
   },
   {
    "duration": 704,
    "start_time": "2022-10-11T10:25:30.342Z"
   },
   {
    "duration": 13,
    "start_time": "2022-10-11T10:25:31.048Z"
   },
   {
    "duration": 38,
    "start_time": "2022-10-11T10:25:31.063Z"
   },
   {
    "duration": 25,
    "start_time": "2022-10-11T10:25:31.104Z"
   },
   {
    "duration": 85,
    "start_time": "2022-10-11T10:25:31.131Z"
   },
   {
    "duration": 25,
    "start_time": "2022-10-11T10:25:31.218Z"
   },
   {
    "duration": 58,
    "start_time": "2022-10-11T10:25:31.245Z"
   },
   {
    "duration": 30,
    "start_time": "2022-10-11T10:25:31.305Z"
   },
   {
    "duration": 7,
    "start_time": "2022-10-11T10:25:31.336Z"
   },
   {
    "duration": 14,
    "start_time": "2022-10-11T10:25:31.345Z"
   },
   {
    "duration": 4,
    "start_time": "2022-10-11T10:25:31.361Z"
   },
   {
    "duration": 7,
    "start_time": "2022-10-11T10:25:31.367Z"
   },
   {
    "duration": 7,
    "start_time": "2022-10-11T10:25:31.377Z"
   },
   {
    "duration": 67,
    "start_time": "2022-10-11T10:25:31.385Z"
   },
   {
    "duration": 106,
    "start_time": "2022-10-11T10:25:31.453Z"
   },
   {
    "duration": 3250,
    "start_time": "2022-10-11T10:25:31.561Z"
   },
   {
    "duration": 20,
    "start_time": "2022-10-11T10:25:34.813Z"
   },
   {
    "duration": 45,
    "start_time": "2022-10-11T10:25:34.835Z"
   },
   {
    "duration": 8,
    "start_time": "2022-10-11T10:25:34.882Z"
   },
   {
    "duration": 114,
    "start_time": "2022-10-11T10:25:34.892Z"
   },
   {
    "duration": 49,
    "start_time": "2022-10-11T10:25:35.008Z"
   },
   {
    "duration": 2847,
    "start_time": "2022-10-11T10:25:35.059Z"
   },
   {
    "duration": 965,
    "start_time": "2022-10-11T10:25:37.908Z"
   },
   {
    "duration": 1281,
    "start_time": "2022-10-11T10:25:38.875Z"
   },
   {
    "duration": 9,
    "start_time": "2022-10-11T10:25:40.158Z"
   },
   {
    "duration": 8,
    "start_time": "2022-10-11T10:25:40.169Z"
   },
   {
    "duration": 8,
    "start_time": "2022-10-11T10:25:40.178Z"
   },
   {
    "duration": 15,
    "start_time": "2022-10-11T10:25:40.187Z"
   },
   {
    "duration": 7,
    "start_time": "2022-10-11T10:25:40.204Z"
   },
   {
    "duration": 11736,
    "start_time": "2022-10-11T10:25:40.213Z"
   },
   {
    "duration": 105,
    "start_time": "2022-10-11T10:25:51.951Z"
   },
   {
    "duration": 181170,
    "start_time": "2022-10-11T10:25:52.057Z"
   },
   {
    "duration": 2473,
    "start_time": "2022-10-11T10:28:53.229Z"
   },
   {
    "duration": 231,
    "start_time": "2022-10-11T10:28:55.703Z"
   },
   {
    "duration": 28915,
    "start_time": "2022-10-11T10:28:55.936Z"
   },
   {
    "duration": 434920,
    "start_time": "2022-10-11T10:35:20.939Z"
   },
   {
    "duration": 14,
    "start_time": "2022-10-11T10:45:44.366Z"
   },
   {
    "duration": 107,
    "start_time": "2022-10-11T10:46:12.432Z"
   },
   {
    "duration": 144,
    "start_time": "2022-10-11T13:06:53.034Z"
   },
   {
    "duration": 38,
    "start_time": "2022-10-11T13:07:20.007Z"
   },
   {
    "duration": 314,
    "start_time": "2022-10-11T13:07:27.620Z"
   },
   {
    "duration": 44,
    "start_time": "2022-10-11T13:07:30.796Z"
   },
   {
    "duration": 11,
    "start_time": "2022-10-11T13:07:53.296Z"
   },
   {
    "duration": 20,
    "start_time": "2022-10-11T13:08:02.233Z"
   },
   {
    "duration": 35,
    "start_time": "2022-10-11T13:08:20.870Z"
   },
   {
    "duration": 15,
    "start_time": "2022-10-11T13:08:24.345Z"
   },
   {
    "duration": 117,
    "start_time": "2022-10-11T13:08:42.225Z"
   },
   {
    "duration": 206,
    "start_time": "2022-10-11T13:08:45.533Z"
   },
   {
    "duration": 33,
    "start_time": "2022-10-11T13:19:18.211Z"
   },
   {
    "duration": 14,
    "start_time": "2022-10-11T13:19:25.512Z"
   },
   {
    "duration": 241,
    "start_time": "2022-10-11T13:19:38.498Z"
   },
   {
    "duration": 154,
    "start_time": "2022-10-11T13:19:42.586Z"
   },
   {
    "duration": 165,
    "start_time": "2022-10-11T13:19:50.873Z"
   },
   {
    "duration": 218,
    "start_time": "2022-10-11T13:19:55.522Z"
   },
   {
    "duration": 15,
    "start_time": "2022-10-11T13:48:51.106Z"
   },
   {
    "duration": 178,
    "start_time": "2022-10-11T13:49:12.656Z"
   },
   {
    "duration": 387,
    "start_time": "2022-10-11T13:49:14.994Z"
   },
   {
    "duration": 2508,
    "start_time": "2022-10-11T13:50:00.662Z"
   },
   {
    "duration": 236,
    "start_time": "2022-10-11T13:50:03.171Z"
   },
   {
    "duration": 21,
    "start_time": "2022-10-11T13:50:32.833Z"
   },
   {
    "duration": 111,
    "start_time": "2022-10-11T13:50:35.083Z"
   },
   {
    "duration": 311,
    "start_time": "2022-10-11T13:50:35.882Z"
   },
   {
    "duration": 261,
    "start_time": "2022-10-11T13:52:10.896Z"
   },
   {
    "duration": 266,
    "start_time": "2022-10-11T13:52:28.120Z"
   },
   {
    "duration": 29426,
    "start_time": "2022-10-11T13:52:43.471Z"
   },
   {
    "duration": 231,
    "start_time": "2022-10-11T13:53:12.899Z"
   },
   {
    "duration": 439846,
    "start_time": "2022-10-11T13:53:36.420Z"
   },
   {
    "duration": 18,
    "start_time": "2022-10-11T14:00:56.269Z"
   },
   {
    "duration": 297,
    "start_time": "2022-10-11T14:00:56.288Z"
   },
   {
    "duration": 252,
    "start_time": "2022-10-11T14:00:56.587Z"
   },
   {
    "duration": 381,
    "start_time": "2022-10-11T14:00:56.842Z"
   },
   {
    "duration": 201,
    "start_time": "2022-10-11T14:01:33.161Z"
   },
   {
    "duration": 330,
    "start_time": "2022-10-11T14:01:44.585Z"
   },
   {
    "duration": 149,
    "start_time": "2022-10-11T14:02:22.186Z"
   },
   {
    "duration": 336,
    "start_time": "2022-10-11T14:02:23.085Z"
   },
   {
    "duration": 11907,
    "start_time": "2022-10-11T14:10:07.949Z"
   },
   {
    "duration": 106,
    "start_time": "2022-10-11T14:10:19.858Z"
   },
   {
    "duration": 249,
    "start_time": "2022-10-11T14:10:19.966Z"
   },
   {
    "duration": 181311,
    "start_time": "2022-10-11T14:10:48.527Z"
   },
   {
    "duration": 2533,
    "start_time": "2022-10-11T14:13:49.839Z"
   },
   {
    "duration": 256,
    "start_time": "2022-10-11T14:13:52.373Z"
   },
   {
    "duration": 3143,
    "start_time": "2022-10-11T14:14:10.167Z"
   },
   {
    "duration": 256,
    "start_time": "2022-10-11T14:14:13.311Z"
   },
   {
    "duration": 2499,
    "start_time": "2022-10-11T14:15:51.101Z"
   },
   {
    "duration": 157,
    "start_time": "2022-10-11T15:17:16.516Z"
   },
   {
    "duration": 57809,
    "start_time": "2022-10-11T15:17:31.116Z"
   },
   {
    "duration": 103,
    "start_time": "2022-10-11T15:19:13.717Z"
   },
   {
    "duration": 277,
    "start_time": "2022-10-11T15:19:15.541Z"
   },
   {
    "duration": 57549,
    "start_time": "2022-10-11T15:22:12.746Z"
   },
   {
    "duration": 103,
    "start_time": "2022-10-11T15:23:10.297Z"
   },
   {
    "duration": 252,
    "start_time": "2022-10-11T15:23:10.401Z"
   },
   {
    "duration": 7,
    "start_time": "2022-10-11T15:24:24.044Z"
   },
   {
    "duration": 106,
    "start_time": "2022-10-11T15:30:33.732Z"
   },
   {
    "duration": 54919,
    "start_time": "2022-10-11T15:30:41.695Z"
   },
   {
    "duration": 103,
    "start_time": "2022-10-11T15:31:36.616Z"
   },
   {
    "duration": 7,
    "start_time": "2022-10-11T15:31:36.720Z"
   },
   {
    "duration": 30018,
    "start_time": "2022-10-11T15:31:38.308Z"
   },
   {
    "duration": 57350,
    "start_time": "2022-10-11T15:32:09.413Z"
   },
   {
    "duration": 177,
    "start_time": "2022-10-11T15:33:20.495Z"
   },
   {
    "duration": 57565,
    "start_time": "2022-10-11T15:33:30.358Z"
   },
   {
    "duration": 187,
    "start_time": "2022-10-11T15:34:27.925Z"
   },
   {
    "duration": 57853,
    "start_time": "2022-10-11T15:34:52.497Z"
   },
   {
    "duration": 201,
    "start_time": "2022-10-11T15:35:50.352Z"
   },
   {
    "duration": 100,
    "start_time": "2022-10-11T15:36:03.897Z"
   },
   {
    "duration": 11953,
    "start_time": "2022-10-11T15:36:25.633Z"
   },
   {
    "duration": 1357,
    "start_time": "2022-10-11T16:47:50.605Z"
   },
   {
    "duration": 716,
    "start_time": "2022-10-11T16:47:51.965Z"
   },
   {
    "duration": 14,
    "start_time": "2022-10-11T16:47:52.683Z"
   },
   {
    "duration": 18,
    "start_time": "2022-10-11T16:47:52.698Z"
   },
   {
    "duration": 5,
    "start_time": "2022-10-11T16:47:52.733Z"
   },
   {
    "duration": 66,
    "start_time": "2022-10-11T16:47:52.739Z"
   },
   {
    "duration": 37,
    "start_time": "2022-10-11T16:47:52.807Z"
   },
   {
    "duration": 58,
    "start_time": "2022-10-11T16:47:52.845Z"
   },
   {
    "duration": 49,
    "start_time": "2022-10-11T16:47:52.906Z"
   },
   {
    "duration": 8,
    "start_time": "2022-10-11T16:47:52.957Z"
   },
   {
    "duration": 8,
    "start_time": "2022-10-11T16:47:52.967Z"
   },
   {
    "duration": 5,
    "start_time": "2022-10-11T16:47:52.977Z"
   },
   {
    "duration": 7,
    "start_time": "2022-10-11T16:47:52.983Z"
   },
   {
    "duration": 5,
    "start_time": "2022-10-11T16:47:52.992Z"
   },
   {
    "duration": 81,
    "start_time": "2022-10-11T16:47:52.998Z"
   },
   {
    "duration": 117,
    "start_time": "2022-10-11T16:47:53.081Z"
   },
   {
    "duration": 3298,
    "start_time": "2022-10-11T16:47:53.199Z"
   },
   {
    "duration": 15,
    "start_time": "2022-10-11T16:47:56.499Z"
   },
   {
    "duration": 55,
    "start_time": "2022-10-11T16:47:56.516Z"
   },
   {
    "duration": 8,
    "start_time": "2022-10-11T16:47:56.573Z"
   },
   {
    "duration": 107,
    "start_time": "2022-10-11T16:47:56.583Z"
   },
   {
    "duration": 56,
    "start_time": "2022-10-11T16:47:56.692Z"
   },
   {
    "duration": 2812,
    "start_time": "2022-10-11T16:47:56.749Z"
   },
   {
    "duration": 1003,
    "start_time": "2022-10-11T16:47:59.562Z"
   },
   {
    "duration": 1256,
    "start_time": "2022-10-11T16:48:00.567Z"
   },
   {
    "duration": 13,
    "start_time": "2022-10-11T16:48:01.825Z"
   },
   {
    "duration": 11,
    "start_time": "2022-10-11T16:48:01.840Z"
   },
   {
    "duration": 20,
    "start_time": "2022-10-11T16:48:01.852Z"
   },
   {
    "duration": 44,
    "start_time": "2022-10-11T16:48:01.873Z"
   },
   {
    "duration": 11881,
    "start_time": "2022-10-11T16:48:01.919Z"
   },
   {
    "duration": 8,
    "start_time": "2022-10-11T16:48:13.802Z"
   },
   {
    "duration": 8,
    "start_time": "2022-10-11T16:48:13.811Z"
   },
   {
    "duration": 113,
    "start_time": "2022-10-11T16:48:13.833Z"
   },
   {
    "duration": 0,
    "start_time": "2022-10-11T16:48:13.948Z"
   },
   {
    "duration": 0,
    "start_time": "2022-10-11T16:48:13.949Z"
   },
   {
    "duration": 0,
    "start_time": "2022-10-11T16:48:13.950Z"
   },
   {
    "duration": 0,
    "start_time": "2022-10-11T16:48:13.950Z"
   },
   {
    "duration": 0,
    "start_time": "2022-10-11T16:48:13.951Z"
   },
   {
    "duration": 0,
    "start_time": "2022-10-11T16:48:13.952Z"
   },
   {
    "duration": 0,
    "start_time": "2022-10-11T16:48:13.953Z"
   },
   {
    "duration": 0,
    "start_time": "2022-10-11T16:48:13.954Z"
   },
   {
    "duration": 0,
    "start_time": "2022-10-11T16:48:13.954Z"
   },
   {
    "duration": 0,
    "start_time": "2022-10-11T16:48:13.955Z"
   },
   {
    "duration": 0,
    "start_time": "2022-10-11T16:48:13.956Z"
   },
   {
    "duration": 0,
    "start_time": "2022-10-11T16:48:13.957Z"
   },
   {
    "duration": 1311,
    "start_time": "2022-10-11T16:48:47.343Z"
   },
   {
    "duration": 703,
    "start_time": "2022-10-11T16:48:48.656Z"
   },
   {
    "duration": 13,
    "start_time": "2022-10-11T16:48:49.360Z"
   },
   {
    "duration": 22,
    "start_time": "2022-10-11T16:48:49.375Z"
   },
   {
    "duration": 5,
    "start_time": "2022-10-11T16:48:49.398Z"
   },
   {
    "duration": 74,
    "start_time": "2022-10-11T16:48:49.404Z"
   },
   {
    "duration": 28,
    "start_time": "2022-10-11T16:48:49.480Z"
   },
   {
    "duration": 70,
    "start_time": "2022-10-11T16:48:49.510Z"
   },
   {
    "duration": 19,
    "start_time": "2022-10-11T16:48:49.582Z"
   },
   {
    "duration": 6,
    "start_time": "2022-10-11T16:48:49.603Z"
   },
   {
    "duration": 26,
    "start_time": "2022-10-11T16:48:49.611Z"
   },
   {
    "duration": 5,
    "start_time": "2022-10-11T16:48:49.638Z"
   },
   {
    "duration": 8,
    "start_time": "2022-10-11T16:48:49.645Z"
   },
   {
    "duration": 6,
    "start_time": "2022-10-11T16:48:49.655Z"
   },
   {
    "duration": 77,
    "start_time": "2022-10-11T16:48:49.662Z"
   },
   {
    "duration": 135,
    "start_time": "2022-10-11T16:48:49.741Z"
   },
   {
    "duration": 3196,
    "start_time": "2022-10-11T16:48:49.878Z"
   },
   {
    "duration": 15,
    "start_time": "2022-10-11T16:48:53.075Z"
   },
   {
    "duration": 54,
    "start_time": "2022-10-11T16:48:53.091Z"
   },
   {
    "duration": 9,
    "start_time": "2022-10-11T16:48:53.146Z"
   },
   {
    "duration": 109,
    "start_time": "2022-10-11T16:48:53.156Z"
   },
   {
    "duration": 44,
    "start_time": "2022-10-11T16:48:53.267Z"
   },
   {
    "duration": 2961,
    "start_time": "2022-10-11T16:48:53.313Z"
   },
   {
    "duration": 992,
    "start_time": "2022-10-11T16:48:56.276Z"
   },
   {
    "duration": 1282,
    "start_time": "2022-10-11T16:48:57.269Z"
   },
   {
    "duration": 7,
    "start_time": "2022-10-11T16:48:58.553Z"
   },
   {
    "duration": 3,
    "start_time": "2022-10-11T16:48:58.562Z"
   },
   {
    "duration": 7,
    "start_time": "2022-10-11T16:48:58.568Z"
   },
   {
    "duration": 34,
    "start_time": "2022-10-11T16:48:58.577Z"
   },
   {
    "duration": 11768,
    "start_time": "2022-10-11T16:48:58.634Z"
   },
   {
    "duration": 7,
    "start_time": "2022-10-11T16:49:10.404Z"
   },
   {
    "duration": 20,
    "start_time": "2022-10-11T16:49:10.413Z"
   },
   {
    "duration": 273,
    "start_time": "2022-10-11T16:49:10.435Z"
   },
   {
    "duration": 181149,
    "start_time": "2022-10-11T16:49:10.710Z"
   },
   {
    "duration": 2499,
    "start_time": "2022-10-11T16:52:11.860Z"
   },
   {
    "duration": 265,
    "start_time": "2022-10-11T16:52:14.361Z"
   },
   {
    "duration": 206,
    "start_time": "2022-10-11T16:52:14.628Z"
   },
   {
    "duration": 428,
    "start_time": "2022-10-11T16:52:14.836Z"
   },
   {
    "duration": 28920,
    "start_time": "2022-10-11T16:52:15.265Z"
   },
   {
    "duration": 220,
    "start_time": "2022-10-11T16:52:44.187Z"
   },
   {
    "duration": 435869,
    "start_time": "2022-10-11T16:52:44.408Z"
   },
   {
    "duration": 14,
    "start_time": "2022-10-11T17:00:00.279Z"
   },
   {
    "duration": 231,
    "start_time": "2022-10-11T17:00:00.294Z"
   },
   {
    "duration": 109,
    "start_time": "2022-10-11T17:00:00.527Z"
   },
   {
    "duration": 505,
    "start_time": "2022-10-11T17:00:00.638Z"
   },
   {
    "duration": 119,
    "start_time": "2022-10-11T17:35:50.353Z"
   },
   {
    "duration": 192,
    "start_time": "2022-10-11T17:36:08.243Z"
   },
   {
    "duration": 804,
    "start_time": "2022-10-11T17:36:18.241Z"
   },
   {
    "duration": 20,
    "start_time": "2022-10-11T17:36:48.029Z"
   },
   {
    "duration": 893,
    "start_time": "2022-10-11T17:36:59.142Z"
   },
   {
    "duration": 5,
    "start_time": "2022-10-11T17:37:44.878Z"
   },
   {
    "duration": 17,
    "start_time": "2022-10-11T17:38:37.092Z"
   },
   {
    "duration": 847,
    "start_time": "2022-10-11T17:38:55.504Z"
   },
   {
    "duration": 822,
    "start_time": "2022-10-11T17:39:26.020Z"
   },
   {
    "duration": 12,
    "start_time": "2022-10-11T17:39:43.616Z"
   },
   {
    "duration": 807,
    "start_time": "2022-10-11T17:39:50.528Z"
   },
   {
    "duration": 791,
    "start_time": "2022-10-11T17:40:58.655Z"
   },
   {
    "duration": 792,
    "start_time": "2022-10-11T17:41:25.154Z"
   },
   {
    "duration": 1134,
    "start_time": "2022-10-11T17:41:45.017Z"
   },
   {
    "duration": 919,
    "start_time": "2022-10-11T17:42:02.317Z"
   },
   {
    "duration": 94,
    "start_time": "2022-10-11T17:42:33.144Z"
   },
   {
    "duration": 13,
    "start_time": "2022-10-11T17:42:57.968Z"
   },
   {
    "duration": 13,
    "start_time": "2022-10-11T17:43:11.980Z"
   },
   {
    "duration": 5,
    "start_time": "2022-10-11T17:43:48.797Z"
   },
   {
    "duration": 630,
    "start_time": "2022-10-11T17:44:14.906Z"
   },
   {
    "duration": 1030,
    "start_time": "2022-10-11T17:50:00.109Z"
   },
   {
    "duration": 877,
    "start_time": "2022-10-11T17:50:17.964Z"
   },
   {
    "duration": 720,
    "start_time": "2022-10-11T17:50:27.618Z"
   },
   {
    "duration": 925,
    "start_time": "2022-10-11T17:51:15.810Z"
   },
   {
    "duration": 980,
    "start_time": "2022-10-11T17:51:21.756Z"
   },
   {
    "duration": 1151,
    "start_time": "2022-10-11T17:51:30.884Z"
   },
   {
    "duration": 9,
    "start_time": "2022-10-11T17:53:18.745Z"
   },
   {
    "duration": 38,
    "start_time": "2022-10-11T17:54:09.906Z"
   },
   {
    "duration": 39,
    "start_time": "2022-10-11T17:54:13.957Z"
   },
   {
    "duration": 38,
    "start_time": "2022-10-11T17:54:19.107Z"
   },
   {
    "duration": 28911,
    "start_time": "2022-10-11T17:54:33.658Z"
   },
   {
    "duration": 322,
    "start_time": "2022-10-11T17:55:32.022Z"
   },
   {
    "duration": 441972,
    "start_time": "2022-10-11T17:55:35.896Z"
   },
   {
    "duration": 19,
    "start_time": "2022-10-11T18:02:57.870Z"
   },
   {
    "duration": 343,
    "start_time": "2022-10-11T18:02:57.890Z"
   },
   {
    "duration": 1817,
    "start_time": "2022-10-11T18:03:49.018Z"
   },
   {
    "duration": 4,
    "start_time": "2022-10-12T07:57:46.776Z"
   },
   {
    "duration": 703,
    "start_time": "2022-10-12T07:59:01.537Z"
   },
   {
    "duration": 483,
    "start_time": "2022-10-12T07:59:36.464Z"
   },
   {
    "duration": 231,
    "start_time": "2022-10-12T07:59:48.813Z"
   },
   {
    "duration": 45,
    "start_time": "2022-10-13T07:35:31.476Z"
   },
   {
    "duration": 1470,
    "start_time": "2022-10-13T07:35:44.963Z"
   },
   {
    "duration": 1376,
    "start_time": "2022-10-13T07:35:46.435Z"
   },
   {
    "duration": 12,
    "start_time": "2022-10-13T07:35:47.813Z"
   },
   {
    "duration": 17,
    "start_time": "2022-10-13T07:35:47.827Z"
   },
   {
    "duration": 5,
    "start_time": "2022-10-13T07:35:47.845Z"
   },
   {
    "duration": 77,
    "start_time": "2022-10-13T07:35:47.851Z"
   },
   {
    "duration": 25,
    "start_time": "2022-10-13T07:35:47.929Z"
   },
   {
    "duration": 69,
    "start_time": "2022-10-13T07:35:47.956Z"
   },
   {
    "duration": 18,
    "start_time": "2022-10-13T07:35:48.027Z"
   },
   {
    "duration": 7,
    "start_time": "2022-10-13T07:35:48.047Z"
   },
   {
    "duration": 10,
    "start_time": "2022-10-13T07:35:48.055Z"
   },
   {
    "duration": 4,
    "start_time": "2022-10-13T07:35:48.067Z"
   },
   {
    "duration": 29,
    "start_time": "2022-10-13T07:35:48.072Z"
   },
   {
    "duration": 5,
    "start_time": "2022-10-13T07:35:48.103Z"
   },
   {
    "duration": 41,
    "start_time": "2022-10-13T07:35:48.110Z"
   },
   {
    "duration": 106,
    "start_time": "2022-10-13T07:35:48.152Z"
   },
   {
    "duration": 2741,
    "start_time": "2022-10-13T07:35:48.260Z"
   },
   {
    "duration": 14,
    "start_time": "2022-10-13T07:35:51.003Z"
   },
   {
    "duration": 45,
    "start_time": "2022-10-13T07:35:51.019Z"
   },
   {
    "duration": 8,
    "start_time": "2022-10-13T07:35:51.066Z"
   },
   {
    "duration": 106,
    "start_time": "2022-10-13T07:35:51.075Z"
   },
   {
    "duration": 51,
    "start_time": "2022-10-13T07:35:51.183Z"
   },
   {
    "duration": 2780,
    "start_time": "2022-10-13T07:35:51.236Z"
   },
   {
    "duration": 986,
    "start_time": "2022-10-13T07:35:54.018Z"
   },
   {
    "duration": 1261,
    "start_time": "2022-10-13T07:35:55.006Z"
   },
   {
    "duration": 8,
    "start_time": "2022-10-13T07:35:56.269Z"
   },
   {
    "duration": 3,
    "start_time": "2022-10-13T07:35:56.279Z"
   },
   {
    "duration": 2,
    "start_time": "2022-10-13T07:35:56.300Z"
   },
   {
    "duration": 37,
    "start_time": "2022-10-13T07:35:56.304Z"
   },
   {
    "duration": 10557,
    "start_time": "2022-10-13T07:35:59.970Z"
   },
   {
    "duration": 4,
    "start_time": "2022-10-13T07:36:34.197Z"
   },
   {
    "duration": 69,
    "start_time": "2022-10-13T07:38:08.732Z"
   },
   {
    "duration": 54,
    "start_time": "2022-10-13T07:38:12.556Z"
   },
   {
    "duration": 3,
    "start_time": "2022-10-13T07:38:14.931Z"
   },
   {
    "duration": 3,
    "start_time": "2022-10-13T07:38:23.631Z"
   },
   {
    "duration": 3,
    "start_time": "2022-10-13T07:38:31.782Z"
   },
   {
    "duration": 3,
    "start_time": "2022-10-13T07:39:04.708Z"
   },
   {
    "duration": 3,
    "start_time": "2022-10-13T07:39:10.743Z"
   },
   {
    "duration": 3,
    "start_time": "2022-10-13T07:39:17.220Z"
   },
   {
    "duration": 165852,
    "start_time": "2022-10-13T07:40:01.307Z"
   },
   {
    "duration": 58,
    "start_time": "2022-10-13T07:45:36.264Z"
   },
   {
    "duration": 5,
    "start_time": "2022-10-13T07:45:41.445Z"
   },
   {
    "duration": 3,
    "start_time": "2022-10-13T07:45:57.911Z"
   },
   {
    "duration": 115,
    "start_time": "2022-10-13T07:46:35.220Z"
   },
   {
    "duration": 5,
    "start_time": "2022-10-13T07:46:36.546Z"
   },
   {
    "duration": 4,
    "start_time": "2022-10-13T07:46:37.820Z"
   },
   {
    "duration": 8,
    "start_time": "2022-10-13T07:52:24.222Z"
   },
   {
    "duration": 3,
    "start_time": "2022-10-13T07:52:26.247Z"
   },
   {
    "duration": 5,
    "start_time": "2022-10-13T07:52:50.671Z"
   },
   {
    "duration": 3,
    "start_time": "2022-10-13T07:52:53.195Z"
   },
   {
    "duration": 5,
    "start_time": "2022-10-13T07:53:18.784Z"
   },
   {
    "duration": 3,
    "start_time": "2022-10-13T07:53:20.933Z"
   },
   {
    "duration": 5,
    "start_time": "2022-10-13T07:53:24.907Z"
   },
   {
    "duration": 4,
    "start_time": "2022-10-13T07:53:26.795Z"
   },
   {
    "duration": 406,
    "start_time": "2022-10-13T07:53:49.984Z"
   },
   {
    "duration": 4,
    "start_time": "2022-10-13T07:55:42.374Z"
   },
   {
    "duration": 984,
    "start_time": "2022-10-13T07:56:06.423Z"
   },
   {
    "duration": 124,
    "start_time": "2022-10-13T07:56:13.584Z"
   },
   {
    "duration": 915,
    "start_time": "2022-10-13T07:56:23.184Z"
   },
   {
    "duration": 622,
    "start_time": "2022-10-13T07:56:31.182Z"
   },
   {
    "duration": 1013,
    "start_time": "2022-10-13T07:57:17.297Z"
   },
   {
    "duration": 647,
    "start_time": "2022-10-13T07:57:24.960Z"
   },
   {
    "duration": 743,
    "start_time": "2022-10-13T07:57:34.060Z"
   },
   {
    "duration": 685,
    "start_time": "2022-10-13T07:57:51.223Z"
   },
   {
    "duration": 659,
    "start_time": "2022-10-13T08:00:58.346Z"
   },
   {
    "duration": 790,
    "start_time": "2022-10-13T08:01:09.411Z"
   },
   {
    "duration": 9,
    "start_time": "2022-10-13T08:01:11.097Z"
   },
   {
    "duration": 585,
    "start_time": "2022-10-13T08:03:20.323Z"
   },
   {
    "duration": 4,
    "start_time": "2022-10-13T08:03:25.735Z"
   },
   {
    "duration": 2,
    "start_time": "2022-10-13T08:06:13.548Z"
   },
   {
    "duration": 541,
    "start_time": "2022-10-13T08:06:28.461Z"
   },
   {
    "duration": 26310,
    "start_time": "2022-10-13T08:17:11.726Z"
   },
   {
    "duration": 4,
    "start_time": "2022-10-13T08:17:38.038Z"
   },
   {
    "duration": 1763,
    "start_time": "2022-10-13T18:47:15.553Z"
   },
   {
    "duration": 3599,
    "start_time": "2022-10-13T18:47:17.318Z"
   },
   {
    "duration": 16,
    "start_time": "2022-10-13T18:47:20.919Z"
   },
   {
    "duration": 22,
    "start_time": "2022-10-13T18:47:20.937Z"
   },
   {
    "duration": 6,
    "start_time": "2022-10-13T18:47:20.961Z"
   },
   {
    "duration": 85,
    "start_time": "2022-10-13T18:47:20.969Z"
   },
   {
    "duration": 37,
    "start_time": "2022-10-13T18:47:21.056Z"
   },
   {
    "duration": 68,
    "start_time": "2022-10-13T18:47:21.095Z"
   },
   {
    "duration": 33,
    "start_time": "2022-10-13T18:47:21.164Z"
   },
   {
    "duration": 8,
    "start_time": "2022-10-13T18:47:21.200Z"
   },
   {
    "duration": 9,
    "start_time": "2022-10-13T18:47:21.209Z"
   },
   {
    "duration": 6,
    "start_time": "2022-10-13T18:47:21.220Z"
   },
   {
    "duration": 10,
    "start_time": "2022-10-13T18:47:21.227Z"
   },
   {
    "duration": 8,
    "start_time": "2022-10-13T18:47:21.239Z"
   },
   {
    "duration": 76,
    "start_time": "2022-10-13T18:47:21.249Z"
   },
   {
    "duration": 126,
    "start_time": "2022-10-13T18:47:21.327Z"
   },
   {
    "duration": 3814,
    "start_time": "2022-10-13T18:47:21.455Z"
   },
   {
    "duration": 23,
    "start_time": "2022-10-13T18:47:25.271Z"
   },
   {
    "duration": 50,
    "start_time": "2022-10-13T18:47:25.295Z"
   },
   {
    "duration": 11,
    "start_time": "2022-10-13T18:47:25.348Z"
   },
   {
    "duration": 142,
    "start_time": "2022-10-13T18:47:25.361Z"
   },
   {
    "duration": 50,
    "start_time": "2022-10-13T18:47:25.505Z"
   },
   {
    "duration": 3369,
    "start_time": "2022-10-13T18:47:25.557Z"
   },
   {
    "duration": 1056,
    "start_time": "2022-10-13T18:47:28.928Z"
   },
   {
    "duration": 1513,
    "start_time": "2022-10-13T18:47:29.986Z"
   },
   {
    "duration": 9,
    "start_time": "2022-10-13T18:47:31.501Z"
   },
   {
    "duration": 14,
    "start_time": "2022-10-13T18:47:31.512Z"
   },
   {
    "duration": 15,
    "start_time": "2022-10-13T18:47:31.530Z"
   },
   {
    "duration": 52,
    "start_time": "2022-10-13T18:47:31.547Z"
   },
   {
    "duration": 7,
    "start_time": "2022-10-13T18:47:31.601Z"
   },
   {
    "duration": 14593,
    "start_time": "2022-10-13T18:47:31.610Z"
   },
   {
    "duration": 69,
    "start_time": "2022-10-13T18:47:46.205Z"
   },
   {
    "duration": 0,
    "start_time": "2022-10-13T18:47:46.275Z"
   },
   {
    "duration": 0,
    "start_time": "2022-10-13T18:47:46.277Z"
   },
   {
    "duration": 0,
    "start_time": "2022-10-13T18:47:46.278Z"
   },
   {
    "duration": 0,
    "start_time": "2022-10-13T18:47:46.280Z"
   },
   {
    "duration": 0,
    "start_time": "2022-10-13T18:47:46.281Z"
   },
   {
    "duration": 0,
    "start_time": "2022-10-13T18:47:46.282Z"
   },
   {
    "duration": 0,
    "start_time": "2022-10-13T18:47:46.283Z"
   },
   {
    "duration": 0,
    "start_time": "2022-10-13T18:47:46.284Z"
   },
   {
    "duration": 0,
    "start_time": "2022-10-13T18:47:46.285Z"
   },
   {
    "duration": 0,
    "start_time": "2022-10-13T18:47:46.286Z"
   },
   {
    "duration": 0,
    "start_time": "2022-10-13T18:47:46.287Z"
   },
   {
    "duration": 0,
    "start_time": "2022-10-13T18:47:46.288Z"
   },
   {
    "duration": 0,
    "start_time": "2022-10-13T18:47:46.289Z"
   },
   {
    "duration": 0,
    "start_time": "2022-10-13T18:47:46.290Z"
   },
   {
    "duration": 0,
    "start_time": "2022-10-13T18:47:46.291Z"
   },
   {
    "duration": 0,
    "start_time": "2022-10-13T18:47:46.292Z"
   },
   {
    "duration": 0,
    "start_time": "2022-10-13T18:47:46.294Z"
   },
   {
    "duration": 5,
    "start_time": "2022-10-13T18:48:11.952Z"
   },
   {
    "duration": 207985,
    "start_time": "2022-10-13T18:48:15.561Z"
   },
   {
    "duration": 4,
    "start_time": "2022-10-13T18:51:43.548Z"
   },
   {
    "duration": 935,
    "start_time": "2022-10-13T18:51:43.555Z"
   },
   {
    "duration": 99,
    "start_time": "2022-10-13T18:51:44.494Z"
   },
   {
    "duration": 94,
    "start_time": "2022-10-13T18:51:44.597Z"
   },
   {
    "duration": 96,
    "start_time": "2022-10-13T18:51:44.694Z"
   },
   {
    "duration": 727,
    "start_time": "2022-10-13T18:51:44.791Z"
   },
   {
    "duration": 32985,
    "start_time": "2022-10-13T18:51:45.520Z"
   },
   {
    "duration": 4,
    "start_time": "2022-10-13T18:52:18.507Z"
   },
   {
    "duration": 493866,
    "start_time": "2022-10-13T18:52:18.513Z"
   },
   {
    "duration": 8,
    "start_time": "2022-10-13T19:00:32.381Z"
   },
   {
    "duration": 27,
    "start_time": "2022-10-13T19:00:32.390Z"
   },
   {
    "duration": 373,
    "start_time": "2022-10-13T19:00:32.419Z"
   },
   {
    "duration": 103,
    "start_time": "2022-10-13T19:00:32.794Z"
   },
   {
    "duration": 1690,
    "start_time": "2022-10-13T19:00:32.899Z"
   },
   {
    "duration": 7,
    "start_time": "2022-10-13T19:00:34.593Z"
   },
   {
    "duration": 625,
    "start_time": "2022-10-13T19:00:34.602Z"
   },
   {
    "duration": 1555,
    "start_time": "2022-10-13T19:01:23.659Z"
   },
   {
    "duration": 763,
    "start_time": "2022-10-13T19:01:25.216Z"
   },
   {
    "duration": 19,
    "start_time": "2022-10-13T19:01:25.981Z"
   },
   {
    "duration": 18,
    "start_time": "2022-10-13T19:01:26.002Z"
   },
   {
    "duration": 5,
    "start_time": "2022-10-13T19:01:26.022Z"
   },
   {
    "duration": 90,
    "start_time": "2022-10-13T19:01:26.029Z"
   },
   {
    "duration": 29,
    "start_time": "2022-10-13T19:01:26.121Z"
   },
   {
    "duration": 83,
    "start_time": "2022-10-13T19:01:26.152Z"
   },
   {
    "duration": 20,
    "start_time": "2022-10-13T19:01:26.237Z"
   },
   {
    "duration": 8,
    "start_time": "2022-10-13T19:01:26.260Z"
   },
   {
    "duration": 26,
    "start_time": "2022-10-13T19:01:26.270Z"
   },
   {
    "duration": 5,
    "start_time": "2022-10-13T19:01:26.298Z"
   },
   {
    "duration": 8,
    "start_time": "2022-10-13T19:01:26.304Z"
   },
   {
    "duration": 7,
    "start_time": "2022-10-13T19:01:26.314Z"
   },
   {
    "duration": 77,
    "start_time": "2022-10-13T19:01:26.323Z"
   },
   {
    "duration": 133,
    "start_time": "2022-10-13T19:01:26.403Z"
   },
   {
    "duration": 3608,
    "start_time": "2022-10-13T19:01:26.538Z"
   },
   {
    "duration": 17,
    "start_time": "2022-10-13T19:01:30.148Z"
   },
   {
    "duration": 64,
    "start_time": "2022-10-13T19:01:30.167Z"
   },
   {
    "duration": 9,
    "start_time": "2022-10-13T19:01:30.234Z"
   },
   {
    "duration": 121,
    "start_time": "2022-10-13T19:01:30.245Z"
   },
   {
    "duration": 59,
    "start_time": "2022-10-13T19:01:30.368Z"
   },
   {
    "duration": 3427,
    "start_time": "2022-10-13T19:01:30.429Z"
   },
   {
    "duration": 1102,
    "start_time": "2022-10-13T19:01:33.858Z"
   },
   {
    "duration": 1398,
    "start_time": "2022-10-13T19:01:34.962Z"
   },
   {
    "duration": 8,
    "start_time": "2022-10-13T19:01:36.361Z"
   },
   {
    "duration": 4,
    "start_time": "2022-10-13T19:01:36.370Z"
   },
   {
    "duration": 3,
    "start_time": "2022-10-13T19:01:36.389Z"
   },
   {
    "duration": 51,
    "start_time": "2022-10-13T19:01:36.394Z"
   },
   {
    "duration": 6,
    "start_time": "2022-10-13T19:01:36.447Z"
   },
   {
    "duration": 13451,
    "start_time": "2022-10-13T19:01:36.456Z"
   },
   {
    "duration": 4,
    "start_time": "2022-10-13T19:01:49.909Z"
   },
   {
    "duration": 222618,
    "start_time": "2022-10-13T19:01:49.915Z"
   },
   {
    "duration": 4,
    "start_time": "2022-10-13T19:05:32.535Z"
   },
   {
    "duration": 1149,
    "start_time": "2022-10-13T19:05:32.541Z"
   },
   {
    "duration": 11,
    "start_time": "2022-10-13T19:05:33.692Z"
   },
   {
    "duration": 97,
    "start_time": "2022-10-13T19:05:33.706Z"
   },
   {
    "duration": 7,
    "start_time": "2022-10-13T19:05:33.890Z"
   },
   {
    "duration": 680,
    "start_time": "2022-10-13T19:05:33.898Z"
   },
   {
    "duration": 33908,
    "start_time": "2022-10-13T19:05:34.580Z"
   },
   {
    "duration": 4,
    "start_time": "2022-10-13T19:06:08.489Z"
   },
   {
    "duration": 533705,
    "start_time": "2022-10-13T19:06:08.495Z"
   },
   {
    "duration": 5,
    "start_time": "2022-10-13T19:15:02.202Z"
   },
   {
    "duration": 246,
    "start_time": "2022-10-13T19:15:02.209Z"
   },
   {
    "duration": 597,
    "start_time": "2022-10-13T19:15:02.456Z"
   },
   {
    "duration": 336,
    "start_time": "2022-10-13T19:15:03.055Z"
   },
   {
    "duration": 1895,
    "start_time": "2022-10-13T19:15:03.393Z"
   },
   {
    "duration": 7,
    "start_time": "2022-10-13T19:15:05.291Z"
   },
   {
    "duration": 518,
    "start_time": "2022-10-13T19:15:05.300Z"
   },
   {
    "duration": 115,
    "start_time": "2022-10-13T19:15:59.190Z"
   },
   {
    "duration": 231,
    "start_time": "2022-10-13T19:16:09.546Z"
   },
   {
    "duration": 288,
    "start_time": "2022-10-13T19:16:16.310Z"
   },
   {
    "duration": 538,
    "start_time": "2022-10-13T19:16:25.721Z"
   },
   {
    "duration": 13660,
    "start_time": "2022-10-13T19:23:31.748Z"
   },
   {
    "duration": 521,
    "start_time": "2022-10-13T19:24:56.748Z"
   },
   {
    "duration": 1764,
    "start_time": "2022-10-13T19:26:07.227Z"
   },
   {
    "duration": 95,
    "start_time": "2022-10-13T19:26:08.995Z"
   },
   {
    "duration": 51,
    "start_time": "2022-10-14T09:33:13.776Z"
   },
   {
    "duration": 5,
    "start_time": "2022-10-14T09:35:21.234Z"
   },
   {
    "duration": 5,
    "start_time": "2022-10-14T09:39:23.621Z"
   },
   {
    "duration": 1975,
    "start_time": "2022-10-14T09:40:22.335Z"
   },
   {
    "duration": 3407,
    "start_time": "2022-10-14T09:40:24.312Z"
   },
   {
    "duration": 14,
    "start_time": "2022-10-14T09:40:27.721Z"
   },
   {
    "duration": 16,
    "start_time": "2022-10-14T09:40:27.736Z"
   },
   {
    "duration": 5,
    "start_time": "2022-10-14T09:40:27.754Z"
   },
   {
    "duration": 77,
    "start_time": "2022-10-14T09:40:27.760Z"
   },
   {
    "duration": 29,
    "start_time": "2022-10-14T09:40:27.838Z"
   },
   {
    "duration": 74,
    "start_time": "2022-10-14T09:40:27.869Z"
   },
   {
    "duration": 19,
    "start_time": "2022-10-14T09:40:27.945Z"
   },
   {
    "duration": 23,
    "start_time": "2022-10-14T09:40:27.967Z"
   },
   {
    "duration": 14,
    "start_time": "2022-10-14T09:40:27.991Z"
   },
   {
    "duration": 4,
    "start_time": "2022-10-14T09:40:28.007Z"
   },
   {
    "duration": 12,
    "start_time": "2022-10-14T09:40:28.012Z"
   },
   {
    "duration": 12,
    "start_time": "2022-10-14T09:40:28.025Z"
   },
   {
    "duration": 46,
    "start_time": "2022-10-14T09:40:28.039Z"
   },
   {
    "duration": 102,
    "start_time": "2022-10-14T09:40:28.086Z"
   },
   {
    "duration": 2864,
    "start_time": "2022-10-14T09:40:28.190Z"
   },
   {
    "duration": 14,
    "start_time": "2022-10-14T09:40:31.055Z"
   },
   {
    "duration": 54,
    "start_time": "2022-10-14T09:40:31.071Z"
   },
   {
    "duration": 7,
    "start_time": "2022-10-14T09:40:31.126Z"
   },
   {
    "duration": 109,
    "start_time": "2022-10-14T09:40:31.134Z"
   },
   {
    "duration": 44,
    "start_time": "2022-10-14T09:40:31.245Z"
   },
   {
    "duration": 2974,
    "start_time": "2022-10-14T09:40:31.290Z"
   },
   {
    "duration": 937,
    "start_time": "2022-10-14T09:40:34.266Z"
   },
   {
    "duration": 1296,
    "start_time": "2022-10-14T09:40:35.204Z"
   },
   {
    "duration": 7,
    "start_time": "2022-10-14T09:40:36.501Z"
   },
   {
    "duration": 3,
    "start_time": "2022-10-14T09:40:36.509Z"
   },
   {
    "duration": 3,
    "start_time": "2022-10-14T09:40:36.515Z"
   },
   {
    "duration": 41,
    "start_time": "2022-10-14T09:40:36.520Z"
   },
   {
    "duration": 25,
    "start_time": "2022-10-14T09:40:36.562Z"
   },
   {
    "duration": 11582,
    "start_time": "2022-10-14T09:40:36.588Z"
   },
   {
    "duration": 3,
    "start_time": "2022-10-14T09:40:48.172Z"
   },
   {
    "duration": 176608,
    "start_time": "2022-10-14T09:40:48.177Z"
   },
   {
    "duration": 4,
    "start_time": "2022-10-14T09:43:44.786Z"
   },
   {
    "duration": 994,
    "start_time": "2022-10-14T09:43:44.792Z"
   },
   {
    "duration": 10,
    "start_time": "2022-10-14T09:43:45.788Z"
   },
   {
    "duration": 95,
    "start_time": "2022-10-14T09:43:45.800Z"
   },
   {
    "duration": 11450,
    "start_time": "2022-10-14T09:43:45.896Z"
   },
   {
    "duration": 450,
    "start_time": "2022-10-14T09:43:57.348Z"
   },
   {
    "duration": 27166,
    "start_time": "2022-10-14T09:43:57.799Z"
   },
   {
    "duration": 4,
    "start_time": "2022-10-14T09:44:24.967Z"
   },
   {
    "duration": 429978,
    "start_time": "2022-10-14T09:44:24.972Z"
   },
   {
    "duration": 3,
    "start_time": "2022-10-14T09:51:34.952Z"
   },
   {
    "duration": 1234,
    "start_time": "2022-10-14T09:51:34.956Z"
   },
   {
    "duration": 94,
    "start_time": "2022-10-14T09:51:36.192Z"
   },
   {
    "duration": 30243,
    "start_time": "2022-10-14T09:51:36.288Z"
   },
   {
    "duration": 531,
    "start_time": "2022-10-14T09:52:06.533Z"
   },
   {
    "duration": 170,
    "start_time": "2022-10-14T09:52:07.066Z"
   },
   {
    "duration": 0,
    "start_time": "2022-10-14T09:52:07.238Z"
   },
   {
    "duration": 0,
    "start_time": "2022-10-14T09:52:07.239Z"
   },
   {
    "duration": 51,
    "start_time": "2022-10-14T09:53:29.958Z"
   },
   {
    "duration": 15,
    "start_time": "2022-10-14T09:53:37.507Z"
   },
   {
    "duration": 57,
    "start_time": "2022-10-14T09:54:01.158Z"
   },
   {
    "duration": 4,
    "start_time": "2022-10-14T09:54:34.083Z"
   },
   {
    "duration": 62,
    "start_time": "2022-10-14T09:55:01.509Z"
   },
   {
    "duration": 59,
    "start_time": "2022-10-14T09:55:05.483Z"
   },
   {
    "duration": 9,
    "start_time": "2022-10-14T09:55:32.946Z"
   },
   {
    "duration": 56,
    "start_time": "2022-10-14T09:55:36.271Z"
   },
   {
    "duration": 15,
    "start_time": "2022-10-14T09:55:42.495Z"
   },
   {
    "duration": 1395,
    "start_time": "2022-10-14T09:57:56.819Z"
   },
   {
    "duration": 574,
    "start_time": "2022-10-14T09:57:58.216Z"
   },
   {
    "duration": 13,
    "start_time": "2022-10-14T09:57:58.791Z"
   },
   {
    "duration": 16,
    "start_time": "2022-10-14T09:57:58.805Z"
   },
   {
    "duration": 4,
    "start_time": "2022-10-14T09:57:58.823Z"
   },
   {
    "duration": 78,
    "start_time": "2022-10-14T09:57:58.828Z"
   },
   {
    "duration": 27,
    "start_time": "2022-10-14T09:57:58.907Z"
   },
   {
    "duration": 71,
    "start_time": "2022-10-14T09:57:58.935Z"
   },
   {
    "duration": 20,
    "start_time": "2022-10-14T09:57:59.007Z"
   },
   {
    "duration": 8,
    "start_time": "2022-10-14T09:57:59.029Z"
   },
   {
    "duration": 12,
    "start_time": "2022-10-14T09:57:59.039Z"
   },
   {
    "duration": 6,
    "start_time": "2022-10-14T09:57:59.052Z"
   },
   {
    "duration": 27,
    "start_time": "2022-10-14T09:57:59.060Z"
   },
   {
    "duration": 7,
    "start_time": "2022-10-14T09:57:59.090Z"
   },
   {
    "duration": 45,
    "start_time": "2022-10-14T09:57:59.098Z"
   },
   {
    "duration": 101,
    "start_time": "2022-10-14T09:57:59.145Z"
   },
   {
    "duration": 2887,
    "start_time": "2022-10-14T09:57:59.248Z"
   },
   {
    "duration": 15,
    "start_time": "2022-10-14T09:58:02.136Z"
   },
   {
    "duration": 54,
    "start_time": "2022-10-14T09:58:02.153Z"
   },
   {
    "duration": 7,
    "start_time": "2022-10-14T09:58:02.210Z"
   },
   {
    "duration": 124,
    "start_time": "2022-10-14T09:58:02.219Z"
   },
   {
    "duration": 47,
    "start_time": "2022-10-14T09:58:02.344Z"
   },
   {
    "duration": 2724,
    "start_time": "2022-10-14T09:58:02.392Z"
   },
   {
    "duration": 1014,
    "start_time": "2022-10-14T09:58:05.118Z"
   },
   {
    "duration": 1528,
    "start_time": "2022-10-14T09:58:06.134Z"
   },
   {
    "duration": 10,
    "start_time": "2022-10-14T09:58:07.664Z"
   },
   {
    "duration": 4,
    "start_time": "2022-10-14T09:58:07.686Z"
   },
   {
    "duration": 5,
    "start_time": "2022-10-14T09:58:07.692Z"
   },
   {
    "duration": 53,
    "start_time": "2022-10-14T09:58:07.698Z"
   },
   {
    "duration": 6,
    "start_time": "2022-10-14T09:58:07.752Z"
   },
   {
    "duration": 9148,
    "start_time": "2022-10-14T09:58:07.759Z"
   },
   {
    "duration": 3,
    "start_time": "2022-10-14T09:58:16.909Z"
   },
   {
    "duration": 49476,
    "start_time": "2022-10-14T09:58:16.914Z"
   },
   {
    "duration": 7,
    "start_time": "2022-10-14T09:59:06.393Z"
   },
   {
    "duration": 909,
    "start_time": "2022-10-14T09:59:06.403Z"
   },
   {
    "duration": 93,
    "start_time": "2022-10-14T09:59:07.392Z"
   },
   {
    "duration": 100,
    "start_time": "2022-10-14T09:59:07.487Z"
   },
   {
    "duration": 11583,
    "start_time": "2022-10-14T09:59:07.589Z"
   },
   {
    "duration": 453,
    "start_time": "2022-10-14T09:59:19.173Z"
   },
   {
    "duration": 27759,
    "start_time": "2022-10-14T09:59:19.627Z"
   },
   {
    "duration": 3,
    "start_time": "2022-10-14T09:59:47.390Z"
   },
   {
    "duration": 375753,
    "start_time": "2022-10-14T09:59:47.395Z"
   },
   {
    "duration": 4,
    "start_time": "2022-10-14T10:06:03.150Z"
   },
   {
    "duration": 1230,
    "start_time": "2022-10-14T10:06:03.156Z"
   },
   {
    "duration": 6,
    "start_time": "2022-10-14T10:06:04.388Z"
   },
   {
    "duration": 30992,
    "start_time": "2022-10-14T10:06:04.396Z"
   },
   {
    "duration": 501,
    "start_time": "2022-10-14T10:06:35.389Z"
   },
   {
    "duration": 53,
    "start_time": "2022-10-14T10:06:35.892Z"
   },
   {
    "duration": 74,
    "start_time": "2022-10-14T10:06:35.947Z"
   },
   {
    "duration": 4,
    "start_time": "2022-10-14T10:06:36.023Z"
   },
   {
    "duration": 248080,
    "start_time": "2022-10-14T10:08:47.899Z"
   },
   {
    "duration": 2055,
    "start_time": "2022-10-14T10:12:55.981Z"
   },
   {
    "duration": 3,
    "start_time": "2022-10-14T10:12:58.038Z"
   },
   {
    "duration": 11228,
    "start_time": "2022-10-14T10:13:25.439Z"
   },
   {
    "duration": 453,
    "start_time": "2022-10-14T10:13:36.668Z"
   },
   {
    "duration": 18,
    "start_time": "2022-10-14T10:13:37.123Z"
   },
   {
    "duration": 474,
    "start_time": "2022-10-14T10:13:37.143Z"
   },
   {
    "duration": 30,
    "start_time": "2022-10-14T10:13:37.620Z"
   },
   {
    "duration": 4,
    "start_time": "2022-10-14T10:13:37.652Z"
   },
   {
    "duration": 9,
    "start_time": "2022-10-14T10:14:11.042Z"
   },
   {
    "duration": 9649,
    "start_time": "2022-10-14T10:14:20.302Z"
   },
   {
    "duration": 7,
    "start_time": "2022-10-14T10:14:39.605Z"
   },
   {
    "duration": 18,
    "start_time": "2022-10-14T10:14:48.176Z"
   },
   {
    "duration": 372,
    "start_time": "2022-10-14T10:15:30.703Z"
   },
   {
    "duration": 1385,
    "start_time": "2022-10-14T10:15:51.439Z"
   },
   {
    "duration": 710,
    "start_time": "2022-10-14T10:15:52.826Z"
   },
   {
    "duration": 13,
    "start_time": "2022-10-14T10:15:53.537Z"
   },
   {
    "duration": 27,
    "start_time": "2022-10-14T10:15:53.551Z"
   },
   {
    "duration": 7,
    "start_time": "2022-10-14T10:15:53.585Z"
   },
   {
    "duration": 83,
    "start_time": "2022-10-14T10:15:53.595Z"
   },
   {
    "duration": 37,
    "start_time": "2022-10-14T10:15:53.680Z"
   },
   {
    "duration": 74,
    "start_time": "2022-10-14T10:15:53.718Z"
   },
   {
    "duration": 33,
    "start_time": "2022-10-14T10:15:53.794Z"
   },
   {
    "duration": 16,
    "start_time": "2022-10-14T10:15:53.830Z"
   },
   {
    "duration": 13,
    "start_time": "2022-10-14T10:15:53.848Z"
   },
   {
    "duration": 23,
    "start_time": "2022-10-14T10:15:53.862Z"
   },
   {
    "duration": 17,
    "start_time": "2022-10-14T10:15:53.887Z"
   },
   {
    "duration": 61,
    "start_time": "2022-10-14T10:15:53.906Z"
   },
   {
    "duration": 68,
    "start_time": "2022-10-14T10:15:53.968Z"
   },
   {
    "duration": 114,
    "start_time": "2022-10-14T10:15:54.038Z"
   },
   {
    "duration": 3264,
    "start_time": "2022-10-14T10:15:54.153Z"
   },
   {
    "duration": 14,
    "start_time": "2022-10-14T10:15:57.419Z"
   },
   {
    "duration": 62,
    "start_time": "2022-10-14T10:15:57.434Z"
   },
   {
    "duration": 15,
    "start_time": "2022-10-14T10:15:57.499Z"
   },
   {
    "duration": 128,
    "start_time": "2022-10-14T10:15:57.516Z"
   },
   {
    "duration": 59,
    "start_time": "2022-10-14T10:15:57.645Z"
   },
   {
    "duration": 3268,
    "start_time": "2022-10-14T10:15:57.707Z"
   },
   {
    "duration": 977,
    "start_time": "2022-10-14T10:16:00.977Z"
   },
   {
    "duration": 1501,
    "start_time": "2022-10-14T10:16:01.956Z"
   },
   {
    "duration": 8,
    "start_time": "2022-10-14T10:16:03.459Z"
   },
   {
    "duration": 21,
    "start_time": "2022-10-14T10:16:03.468Z"
   },
   {
    "duration": 11,
    "start_time": "2022-10-14T10:16:03.496Z"
   },
   {
    "duration": 43,
    "start_time": "2022-10-14T10:16:03.510Z"
   },
   {
    "duration": 5,
    "start_time": "2022-10-14T10:16:03.555Z"
   },
   {
    "duration": 9870,
    "start_time": "2022-10-14T10:16:03.562Z"
   },
   {
    "duration": 3,
    "start_time": "2022-10-14T10:16:13.434Z"
   },
   {
    "duration": 53631,
    "start_time": "2022-10-14T10:16:13.438Z"
   },
   {
    "duration": 6,
    "start_time": "2022-10-14T10:17:07.071Z"
   },
   {
    "duration": 910,
    "start_time": "2022-10-14T10:17:07.090Z"
   },
   {
    "duration": 87,
    "start_time": "2022-10-14T10:17:08.006Z"
   },
   {
    "duration": 196,
    "start_time": "2022-10-14T10:17:08.096Z"
   },
   {
    "duration": 2153,
    "start_time": "2022-10-14T10:17:08.294Z"
   },
   {
    "duration": 365,
    "start_time": "2022-10-14T10:17:10.449Z"
   },
   {
    "duration": 29910,
    "start_time": "2022-10-14T10:17:10.816Z"
   },
   {
    "duration": 3,
    "start_time": "2022-10-14T10:17:40.728Z"
   },
   {
    "duration": 248508,
    "start_time": "2022-10-14T10:17:40.732Z"
   },
   {
    "duration": 4,
    "start_time": "2022-10-14T10:21:49.242Z"
   },
   {
    "duration": 2299,
    "start_time": "2022-10-14T10:21:49.247Z"
   },
   {
    "duration": 0,
    "start_time": "2022-10-14T10:21:51.548Z"
   },
   {
    "duration": 0,
    "start_time": "2022-10-14T10:21:51.549Z"
   },
   {
    "duration": 0,
    "start_time": "2022-10-14T10:21:51.550Z"
   },
   {
    "duration": 0,
    "start_time": "2022-10-14T10:21:51.551Z"
   },
   {
    "duration": 0,
    "start_time": "2022-10-14T10:21:51.552Z"
   },
   {
    "duration": 0,
    "start_time": "2022-10-14T10:21:51.553Z"
   },
   {
    "duration": 0,
    "start_time": "2022-10-14T10:21:51.554Z"
   },
   {
    "duration": 0,
    "start_time": "2022-10-14T10:21:51.555Z"
   },
   {
    "duration": 1888,
    "start_time": "2022-10-14T10:49:01.611Z"
   },
   {
    "duration": 5,
    "start_time": "2022-10-14T10:49:03.587Z"
   },
   {
    "duration": 11062,
    "start_time": "2022-10-14T10:49:03.600Z"
   },
   {
    "duration": 344,
    "start_time": "2022-10-14T10:49:14.665Z"
   },
   {
    "duration": 15,
    "start_time": "2022-10-14T10:49:15.011Z"
   },
   {
    "duration": 343,
    "start_time": "2022-10-14T10:49:15.027Z"
   },
   {
    "duration": 32,
    "start_time": "2022-10-14T10:49:15.372Z"
   },
   {
    "duration": 465,
    "start_time": "2022-10-14T10:49:15.406Z"
   },
   {
    "duration": 3,
    "start_time": "2022-10-14T10:49:15.873Z"
   },
   {
    "duration": 4,
    "start_time": "2022-10-14T14:54:33.424Z"
   },
   {
    "duration": 1382,
    "start_time": "2022-10-14T14:56:49.752Z"
   },
   {
    "duration": 626,
    "start_time": "2022-10-14T14:56:51.136Z"
   },
   {
    "duration": 26,
    "start_time": "2022-10-14T14:56:51.764Z"
   },
   {
    "duration": 22,
    "start_time": "2022-10-14T14:56:51.797Z"
   },
   {
    "duration": 4,
    "start_time": "2022-10-14T14:56:51.821Z"
   },
   {
    "duration": 67,
    "start_time": "2022-10-14T14:56:51.827Z"
   },
   {
    "duration": 25,
    "start_time": "2022-10-14T14:56:51.899Z"
   },
   {
    "duration": 55,
    "start_time": "2022-10-14T14:56:51.926Z"
   },
   {
    "duration": 23,
    "start_time": "2022-10-14T14:56:51.982Z"
   },
   {
    "duration": 7,
    "start_time": "2022-10-14T14:56:52.008Z"
   },
   {
    "duration": 15,
    "start_time": "2022-10-14T14:56:52.016Z"
   },
   {
    "duration": 4,
    "start_time": "2022-10-14T14:56:52.032Z"
   },
   {
    "duration": 22,
    "start_time": "2022-10-14T14:56:52.038Z"
   },
   {
    "duration": 6,
    "start_time": "2022-10-14T14:56:52.062Z"
   },
   {
    "duration": 53,
    "start_time": "2022-10-14T14:56:52.070Z"
   },
   {
    "duration": 101,
    "start_time": "2022-10-14T14:56:52.124Z"
   },
   {
    "duration": 3149,
    "start_time": "2022-10-14T14:56:52.226Z"
   },
   {
    "duration": 26,
    "start_time": "2022-10-14T14:56:55.376Z"
   },
   {
    "duration": 47,
    "start_time": "2022-10-14T14:56:55.403Z"
   },
   {
    "duration": 9,
    "start_time": "2022-10-14T14:56:55.452Z"
   },
   {
    "duration": 135,
    "start_time": "2022-10-14T14:56:55.462Z"
   },
   {
    "duration": 48,
    "start_time": "2022-10-14T14:56:55.598Z"
   },
   {
    "duration": 2988,
    "start_time": "2022-10-14T14:56:55.648Z"
   },
   {
    "duration": 1008,
    "start_time": "2022-10-14T14:56:58.638Z"
   },
   {
    "duration": 1379,
    "start_time": "2022-10-14T14:56:59.648Z"
   },
   {
    "duration": 7,
    "start_time": "2022-10-14T14:57:01.029Z"
   },
   {
    "duration": 30,
    "start_time": "2022-10-14T14:57:01.038Z"
   },
   {
    "duration": 46,
    "start_time": "2022-10-14T14:57:01.073Z"
   },
   {
    "duration": 40,
    "start_time": "2022-10-14T14:57:01.121Z"
   },
   {
    "duration": 5,
    "start_time": "2022-10-14T14:57:01.163Z"
   },
   {
    "duration": 9256,
    "start_time": "2022-10-14T14:57:01.170Z"
   },
   {
    "duration": 4,
    "start_time": "2022-10-14T14:57:10.427Z"
   },
   {
    "duration": 49286,
    "start_time": "2022-10-14T14:57:10.433Z"
   },
   {
    "duration": 4,
    "start_time": "2022-10-14T14:57:59.721Z"
   },
   {
    "duration": 1077,
    "start_time": "2022-10-14T14:57:59.727Z"
   },
   {
    "duration": 92,
    "start_time": "2022-10-14T14:58:00.810Z"
   },
   {
    "duration": 80,
    "start_time": "2022-10-14T14:58:00.906Z"
   },
   {
    "duration": 2114,
    "start_time": "2022-10-14T14:58:00.989Z"
   },
   {
    "duration": 337,
    "start_time": "2022-10-14T14:58:03.107Z"
   },
   {
    "duration": 27878,
    "start_time": "2022-10-14T14:58:03.446Z"
   },
   {
    "duration": 4,
    "start_time": "2022-10-14T14:58:31.325Z"
   },
   {
    "duration": 229636,
    "start_time": "2022-10-14T14:58:31.330Z"
   },
   {
    "duration": 4,
    "start_time": "2022-10-14T15:02:20.968Z"
   },
   {
    "duration": 4613,
    "start_time": "2022-10-14T15:02:20.974Z"
   },
   {
    "duration": 17,
    "start_time": "2022-10-14T15:02:25.592Z"
   },
   {
    "duration": 11369,
    "start_time": "2022-10-14T15:02:25.611Z"
   },
   {
    "duration": 522,
    "start_time": "2022-10-14T15:02:36.982Z"
   },
   {
    "duration": 16,
    "start_time": "2022-10-14T15:02:37.506Z"
   },
   {
    "duration": 444,
    "start_time": "2022-10-14T15:02:37.524Z"
   },
   {
    "duration": 42,
    "start_time": "2022-10-14T15:02:37.970Z"
   },
   {
    "duration": 535,
    "start_time": "2022-10-14T15:02:38.014Z"
   },
   {
    "duration": 5,
    "start_time": "2022-10-14T15:02:38.550Z"
   },
   {
    "duration": 1376,
    "start_time": "2022-10-14T15:57:56.438Z"
   },
   {
    "duration": 698,
    "start_time": "2022-10-14T15:57:57.816Z"
   },
   {
    "duration": 13,
    "start_time": "2022-10-14T15:57:58.516Z"
   },
   {
    "duration": 16,
    "start_time": "2022-10-14T15:57:58.531Z"
   },
   {
    "duration": 5,
    "start_time": "2022-10-14T15:57:58.549Z"
   },
   {
    "duration": 95,
    "start_time": "2022-10-14T15:57:58.555Z"
   },
   {
    "duration": 43,
    "start_time": "2022-10-14T15:57:58.652Z"
   },
   {
    "duration": 62,
    "start_time": "2022-10-14T15:57:58.697Z"
   },
   {
    "duration": 29,
    "start_time": "2022-10-14T15:57:58.761Z"
   },
   {
    "duration": 10,
    "start_time": "2022-10-14T15:57:58.792Z"
   },
   {
    "duration": 19,
    "start_time": "2022-10-14T15:57:58.803Z"
   },
   {
    "duration": 21,
    "start_time": "2022-10-14T15:57:58.824Z"
   },
   {
    "duration": 24,
    "start_time": "2022-10-14T15:57:58.846Z"
   },
   {
    "duration": 6,
    "start_time": "2022-10-14T15:57:58.872Z"
   },
   {
    "duration": 60,
    "start_time": "2022-10-14T15:57:58.880Z"
   },
   {
    "duration": 100,
    "start_time": "2022-10-14T15:57:58.942Z"
   },
   {
    "duration": 3090,
    "start_time": "2022-10-14T15:57:59.043Z"
   },
   {
    "duration": 14,
    "start_time": "2022-10-14T15:58:02.135Z"
   },
   {
    "duration": 90,
    "start_time": "2022-10-14T15:58:02.150Z"
   },
   {
    "duration": 10,
    "start_time": "2022-10-14T15:58:02.241Z"
   },
   {
    "duration": 140,
    "start_time": "2022-10-14T15:58:02.253Z"
   },
   {
    "duration": 42,
    "start_time": "2022-10-14T15:58:02.398Z"
   },
   {
    "duration": 3076,
    "start_time": "2022-10-14T15:58:02.442Z"
   },
   {
    "duration": 1041,
    "start_time": "2022-10-14T15:58:05.523Z"
   },
   {
    "duration": 1407,
    "start_time": "2022-10-14T15:58:06.566Z"
   },
   {
    "duration": 26,
    "start_time": "2022-10-14T15:58:07.976Z"
   },
   {
    "duration": 3,
    "start_time": "2022-10-14T15:58:08.004Z"
   },
   {
    "duration": 6,
    "start_time": "2022-10-14T15:58:08.010Z"
   },
   {
    "duration": 46,
    "start_time": "2022-10-14T15:58:08.017Z"
   },
   {
    "duration": 6,
    "start_time": "2022-10-14T15:58:08.065Z"
   },
   {
    "duration": 9351,
    "start_time": "2022-10-14T15:58:08.072Z"
   },
   {
    "duration": 3,
    "start_time": "2022-10-14T15:58:17.425Z"
   },
   {
    "duration": 53732,
    "start_time": "2022-10-14T15:58:17.430Z"
   },
   {
    "duration": 4,
    "start_time": "2022-10-14T15:59:11.164Z"
   },
   {
    "duration": 552,
    "start_time": "2022-10-14T15:59:11.170Z"
   },
   {
    "duration": 20,
    "start_time": "2022-10-14T15:59:11.786Z"
   },
   {
    "duration": 177,
    "start_time": "2022-10-14T15:59:11.808Z"
   },
   {
    "duration": 2013,
    "start_time": "2022-10-14T15:59:11.998Z"
   },
   {
    "duration": 357,
    "start_time": "2022-10-14T15:59:14.013Z"
   },
   {
    "duration": 29924,
    "start_time": "2022-10-14T15:59:14.371Z"
   },
   {
    "duration": 3,
    "start_time": "2022-10-14T15:59:44.296Z"
   },
   {
    "duration": 240817,
    "start_time": "2022-10-14T15:59:44.301Z"
   },
   {
    "duration": 4,
    "start_time": "2022-10-14T16:03:45.120Z"
   },
   {
    "duration": 1779,
    "start_time": "2022-10-14T16:03:45.126Z"
   },
   {
    "duration": 4,
    "start_time": "2022-10-14T16:03:46.906Z"
   },
   {
    "duration": 10894,
    "start_time": "2022-10-14T16:03:46.985Z"
   },
   {
    "duration": 370,
    "start_time": "2022-10-14T16:03:57.880Z"
   },
   {
    "duration": 13,
    "start_time": "2022-10-14T16:03:58.252Z"
   },
   {
    "duration": 340,
    "start_time": "2022-10-14T16:03:58.266Z"
   },
   {
    "duration": 23,
    "start_time": "2022-10-14T16:03:58.608Z"
   },
   {
    "duration": 484,
    "start_time": "2022-10-14T16:03:58.632Z"
   },
   {
    "duration": 5,
    "start_time": "2022-10-14T16:03:59.119Z"
   },
   {
    "duration": 1368,
    "start_time": "2022-10-14T16:07:24.472Z"
   },
   {
    "duration": 663,
    "start_time": "2022-10-14T16:07:25.843Z"
   },
   {
    "duration": 13,
    "start_time": "2022-10-14T16:07:26.508Z"
   },
   {
    "duration": 18,
    "start_time": "2022-10-14T16:07:26.523Z"
   },
   {
    "duration": 4,
    "start_time": "2022-10-14T16:07:26.544Z"
   },
   {
    "duration": 90,
    "start_time": "2022-10-14T16:07:26.550Z"
   },
   {
    "duration": 26,
    "start_time": "2022-10-14T16:07:26.642Z"
   },
   {
    "duration": 74,
    "start_time": "2022-10-14T16:07:26.670Z"
   },
   {
    "duration": 18,
    "start_time": "2022-10-14T16:07:26.745Z"
   },
   {
    "duration": 21,
    "start_time": "2022-10-14T16:07:26.765Z"
   },
   {
    "duration": 10,
    "start_time": "2022-10-14T16:07:26.789Z"
   },
   {
    "duration": 12,
    "start_time": "2022-10-14T16:07:26.800Z"
   },
   {
    "duration": 6,
    "start_time": "2022-10-14T16:07:26.814Z"
   },
   {
    "duration": 5,
    "start_time": "2022-10-14T16:07:26.821Z"
   },
   {
    "duration": 42,
    "start_time": "2022-10-14T16:07:26.828Z"
   },
   {
    "duration": 127,
    "start_time": "2022-10-14T16:07:26.872Z"
   },
   {
    "duration": 621,
    "start_time": "2022-10-14T16:07:27.002Z"
   },
   {
    "duration": 37,
    "start_time": "2022-10-14T16:07:27.625Z"
   },
   {
    "duration": 275,
    "start_time": "2022-10-14T16:07:27.663Z"
   },
   {
    "duration": 8,
    "start_time": "2022-10-14T16:07:27.940Z"
   },
   {
    "duration": 270,
    "start_time": "2022-10-14T16:07:27.950Z"
   },
   {
    "duration": 110,
    "start_time": "2022-10-14T16:07:28.221Z"
   },
   {
    "duration": 417,
    "start_time": "2022-10-14T16:07:28.332Z"
   },
   {
    "duration": 0,
    "start_time": "2022-10-14T16:07:28.751Z"
   },
   {
    "duration": 0,
    "start_time": "2022-10-14T16:07:28.752Z"
   },
   {
    "duration": 0,
    "start_time": "2022-10-14T16:07:28.753Z"
   },
   {
    "duration": 0,
    "start_time": "2022-10-14T16:07:28.755Z"
   },
   {
    "duration": 0,
    "start_time": "2022-10-14T16:07:28.755Z"
   },
   {
    "duration": 0,
    "start_time": "2022-10-14T16:07:28.757Z"
   },
   {
    "duration": 0,
    "start_time": "2022-10-14T16:07:28.758Z"
   },
   {
    "duration": 0,
    "start_time": "2022-10-14T16:07:28.759Z"
   },
   {
    "duration": 0,
    "start_time": "2022-10-14T16:07:28.761Z"
   },
   {
    "duration": 0,
    "start_time": "2022-10-14T16:07:28.761Z"
   },
   {
    "duration": 0,
    "start_time": "2022-10-14T16:07:28.762Z"
   },
   {
    "duration": 0,
    "start_time": "2022-10-14T16:07:28.763Z"
   },
   {
    "duration": 0,
    "start_time": "2022-10-14T16:07:28.764Z"
   },
   {
    "duration": 0,
    "start_time": "2022-10-14T16:07:28.765Z"
   },
   {
    "duration": 0,
    "start_time": "2022-10-14T16:07:28.785Z"
   },
   {
    "duration": 0,
    "start_time": "2022-10-14T16:07:28.786Z"
   },
   {
    "duration": 0,
    "start_time": "2022-10-14T16:07:28.786Z"
   },
   {
    "duration": 0,
    "start_time": "2022-10-14T16:07:28.787Z"
   },
   {
    "duration": 0,
    "start_time": "2022-10-14T16:07:28.787Z"
   },
   {
    "duration": 0,
    "start_time": "2022-10-14T16:07:28.788Z"
   },
   {
    "duration": 0,
    "start_time": "2022-10-14T16:07:28.791Z"
   },
   {
    "duration": 0,
    "start_time": "2022-10-14T16:07:28.791Z"
   },
   {
    "duration": 0,
    "start_time": "2022-10-14T16:07:28.794Z"
   },
   {
    "duration": 0,
    "start_time": "2022-10-14T16:07:28.795Z"
   },
   {
    "duration": 0,
    "start_time": "2022-10-14T16:07:28.796Z"
   },
   {
    "duration": 0,
    "start_time": "2022-10-14T16:07:28.797Z"
   },
   {
    "duration": 0,
    "start_time": "2022-10-14T16:07:28.798Z"
   },
   {
    "duration": 0,
    "start_time": "2022-10-14T16:07:28.798Z"
   },
   {
    "duration": 0,
    "start_time": "2022-10-14T16:07:28.799Z"
   },
   {
    "duration": 1343,
    "start_time": "2022-10-14T16:08:54.730Z"
   },
   {
    "duration": 673,
    "start_time": "2022-10-14T16:08:56.075Z"
   },
   {
    "duration": 13,
    "start_time": "2022-10-14T16:08:56.750Z"
   },
   {
    "duration": 33,
    "start_time": "2022-10-14T16:08:56.765Z"
   },
   {
    "duration": 5,
    "start_time": "2022-10-14T16:08:56.800Z"
   },
   {
    "duration": 63,
    "start_time": "2022-10-14T16:08:56.807Z"
   },
   {
    "duration": 44,
    "start_time": "2022-10-14T16:08:56.872Z"
   },
   {
    "duration": 56,
    "start_time": "2022-10-14T16:08:56.918Z"
   },
   {
    "duration": 32,
    "start_time": "2022-10-14T16:08:56.976Z"
   },
   {
    "duration": 7,
    "start_time": "2022-10-14T16:08:57.010Z"
   },
   {
    "duration": 11,
    "start_time": "2022-10-14T16:08:57.018Z"
   },
   {
    "duration": 5,
    "start_time": "2022-10-14T16:08:57.030Z"
   },
   {
    "duration": 7,
    "start_time": "2022-10-14T16:08:57.036Z"
   },
   {
    "duration": 4,
    "start_time": "2022-10-14T16:08:57.046Z"
   },
   {
    "duration": 80,
    "start_time": "2022-10-14T16:08:57.053Z"
   },
   {
    "duration": 119,
    "start_time": "2022-10-14T16:08:57.136Z"
   },
   {
    "duration": 44,
    "start_time": "2022-10-14T16:08:57.258Z"
   },
   {
    "duration": 28,
    "start_time": "2022-10-14T16:08:57.305Z"
   },
   {
    "duration": 54,
    "start_time": "2022-10-14T16:08:57.334Z"
   },
   {
    "duration": 13,
    "start_time": "2022-10-14T16:08:57.390Z"
   },
   {
    "duration": 114,
    "start_time": "2022-10-14T16:08:57.405Z"
   },
   {
    "duration": 43,
    "start_time": "2022-10-14T16:08:57.521Z"
   },
   {
    "duration": 2900,
    "start_time": "2022-10-14T16:08:57.565Z"
   },
   {
    "duration": 958,
    "start_time": "2022-10-14T16:09:00.467Z"
   },
   {
    "duration": 1274,
    "start_time": "2022-10-14T16:09:01.427Z"
   },
   {
    "duration": 7,
    "start_time": "2022-10-14T16:09:02.702Z"
   },
   {
    "duration": 10,
    "start_time": "2022-10-14T16:09:02.710Z"
   },
   {
    "duration": 9,
    "start_time": "2022-10-14T16:09:02.722Z"
   },
   {
    "duration": 48,
    "start_time": "2022-10-14T16:09:02.732Z"
   },
   {
    "duration": 17,
    "start_time": "2022-10-14T16:09:02.781Z"
   },
   {
    "duration": 9022,
    "start_time": "2022-10-14T16:09:02.800Z"
   },
   {
    "duration": 4,
    "start_time": "2022-10-14T16:09:11.823Z"
   },
   {
    "duration": 49598,
    "start_time": "2022-10-14T16:09:11.828Z"
   },
   {
    "duration": 5,
    "start_time": "2022-10-14T16:10:01.427Z"
   },
   {
    "duration": 957,
    "start_time": "2022-10-14T16:10:01.433Z"
   },
   {
    "duration": 11,
    "start_time": "2022-10-14T16:10:02.395Z"
   },
   {
    "duration": 185,
    "start_time": "2022-10-14T16:10:02.408Z"
   },
   {
    "duration": 1955,
    "start_time": "2022-10-14T16:10:02.598Z"
   },
   {
    "duration": 321,
    "start_time": "2022-10-14T16:10:04.555Z"
   },
   {
    "duration": 28246,
    "start_time": "2022-10-14T16:10:04.878Z"
   },
   {
    "duration": 3,
    "start_time": "2022-10-14T16:10:33.128Z"
   },
   {
    "duration": 243505,
    "start_time": "2022-10-14T16:10:33.133Z"
   },
   {
    "duration": 4,
    "start_time": "2022-10-14T16:14:36.640Z"
   },
   {
    "duration": 3046,
    "start_time": "2022-10-14T16:14:36.646Z"
   },
   {
    "duration": 8,
    "start_time": "2022-10-14T16:14:39.695Z"
   },
   {
    "duration": 11676,
    "start_time": "2022-10-14T16:14:39.704Z"
   },
   {
    "duration": 376,
    "start_time": "2022-10-14T16:14:51.382Z"
   },
   {
    "duration": 37,
    "start_time": "2022-10-14T16:14:51.760Z"
   },
   {
    "duration": 388,
    "start_time": "2022-10-14T16:14:51.799Z"
   },
   {
    "duration": 26,
    "start_time": "2022-10-14T16:14:52.189Z"
   },
   {
    "duration": 555,
    "start_time": "2022-10-14T16:14:52.216Z"
   },
   {
    "duration": 15,
    "start_time": "2022-10-14T16:14:52.773Z"
   },
   {
    "duration": 1450,
    "start_time": "2022-10-14T16:19:13.783Z"
   },
   {
    "duration": 701,
    "start_time": "2022-10-14T16:19:15.235Z"
   },
   {
    "duration": 14,
    "start_time": "2022-10-14T16:19:15.938Z"
   },
   {
    "duration": 41,
    "start_time": "2022-10-14T16:19:15.954Z"
   },
   {
    "duration": 5,
    "start_time": "2022-10-14T16:19:15.999Z"
   },
   {
    "duration": 62,
    "start_time": "2022-10-14T16:19:16.005Z"
   },
   {
    "duration": 34,
    "start_time": "2022-10-14T16:19:16.068Z"
   },
   {
    "duration": 58,
    "start_time": "2022-10-14T16:19:16.104Z"
   },
   {
    "duration": 42,
    "start_time": "2022-10-14T16:19:16.165Z"
   },
   {
    "duration": 8,
    "start_time": "2022-10-14T16:19:16.208Z"
   },
   {
    "duration": 10,
    "start_time": "2022-10-14T16:19:16.218Z"
   },
   {
    "duration": 4,
    "start_time": "2022-10-14T16:19:16.230Z"
   },
   {
    "duration": 14,
    "start_time": "2022-10-14T16:19:16.235Z"
   },
   {
    "duration": 6,
    "start_time": "2022-10-14T16:19:16.252Z"
   },
   {
    "duration": 76,
    "start_time": "2022-10-14T16:19:16.259Z"
   },
   {
    "duration": 108,
    "start_time": "2022-10-14T16:19:16.337Z"
   },
   {
    "duration": 66,
    "start_time": "2022-10-14T16:19:16.447Z"
   },
   {
    "duration": 18,
    "start_time": "2022-10-14T16:19:16.515Z"
   },
   {
    "duration": 65,
    "start_time": "2022-10-14T16:19:16.535Z"
   },
   {
    "duration": 10,
    "start_time": "2022-10-14T16:19:16.602Z"
   },
   {
    "duration": 104,
    "start_time": "2022-10-14T16:19:16.613Z"
   },
   {
    "duration": 52,
    "start_time": "2022-10-14T16:19:16.718Z"
   },
   {
    "duration": 3215,
    "start_time": "2022-10-14T16:19:16.785Z"
   },
   {
    "duration": 1051,
    "start_time": "2022-10-14T16:19:20.001Z"
   },
   {
    "duration": 1381,
    "start_time": "2022-10-14T16:19:21.054Z"
   },
   {
    "duration": 7,
    "start_time": "2022-10-14T16:19:22.437Z"
   },
   {
    "duration": 6,
    "start_time": "2022-10-14T16:19:22.445Z"
   },
   {
    "duration": 6,
    "start_time": "2022-10-14T16:19:22.452Z"
   },
   {
    "duration": 76,
    "start_time": "2022-10-14T16:19:22.459Z"
   },
   {
    "duration": 5,
    "start_time": "2022-10-14T16:19:22.537Z"
   },
   {
    "duration": 9486,
    "start_time": "2022-10-14T16:19:22.544Z"
   },
   {
    "duration": 4,
    "start_time": "2022-10-14T16:19:32.032Z"
   },
   {
    "duration": 53190,
    "start_time": "2022-10-14T16:19:32.038Z"
   },
   {
    "duration": 4,
    "start_time": "2022-10-14T16:20:25.230Z"
   },
   {
    "duration": 955,
    "start_time": "2022-10-14T16:20:25.236Z"
   },
   {
    "duration": 95,
    "start_time": "2022-10-14T16:20:26.201Z"
   },
   {
    "duration": 91,
    "start_time": "2022-10-14T16:20:26.297Z"
   },
   {
    "duration": 2355,
    "start_time": "2022-10-14T16:20:26.390Z"
   },
   {
    "duration": 420,
    "start_time": "2022-10-14T16:20:28.747Z"
   },
   {
    "duration": 31649,
    "start_time": "2022-10-14T16:20:29.169Z"
   },
   {
    "duration": 3,
    "start_time": "2022-10-14T16:21:00.823Z"
   },
   {
    "duration": 243128,
    "start_time": "2022-10-14T16:21:00.828Z"
   },
   {
    "duration": 4,
    "start_time": "2022-10-14T16:25:03.957Z"
   },
   {
    "duration": 1935,
    "start_time": "2022-10-14T16:25:03.962Z"
   },
   {
    "duration": 5,
    "start_time": "2022-10-14T16:25:05.912Z"
   },
   {
    "duration": 11187,
    "start_time": "2022-10-14T16:25:05.919Z"
   },
   {
    "duration": 424,
    "start_time": "2022-10-14T16:25:17.108Z"
   },
   {
    "duration": 13,
    "start_time": "2022-10-14T16:25:17.534Z"
   },
   {
    "duration": 391,
    "start_time": "2022-10-14T16:25:17.549Z"
   },
   {
    "duration": 22,
    "start_time": "2022-10-14T16:25:17.942Z"
   },
   {
    "duration": 475,
    "start_time": "2022-10-14T16:25:17.966Z"
   },
   {
    "duration": 4,
    "start_time": "2022-10-14T16:25:18.443Z"
   },
   {
    "duration": 1341,
    "start_time": "2022-10-14T16:29:26.580Z"
   },
   {
    "duration": 5,
    "start_time": "2022-10-14T16:29:51.143Z"
   },
   {
    "duration": 795,
    "start_time": "2022-10-14T16:30:49.844Z"
   },
   {
    "duration": 10,
    "start_time": "2022-10-14T16:30:58.369Z"
   },
   {
    "duration": 7,
    "start_time": "2022-10-14T16:31:01.031Z"
   },
   {
    "duration": 6,
    "start_time": "2022-10-14T16:31:09.396Z"
   },
   {
    "duration": 5,
    "start_time": "2022-10-14T16:31:48.319Z"
   },
   {
    "duration": 7,
    "start_time": "2022-10-14T16:31:53.510Z"
   },
   {
    "duration": 5,
    "start_time": "2022-10-14T16:32:09.957Z"
   },
   {
    "duration": 7,
    "start_time": "2022-10-14T16:32:23.831Z"
   },
   {
    "duration": 1432,
    "start_time": "2022-10-14T16:33:52.977Z"
   },
   {
    "duration": 711,
    "start_time": "2022-10-14T16:33:54.412Z"
   },
   {
    "duration": 13,
    "start_time": "2022-10-14T16:33:55.125Z"
   },
   {
    "duration": 16,
    "start_time": "2022-10-14T16:33:55.139Z"
   },
   {
    "duration": 5,
    "start_time": "2022-10-14T16:33:55.158Z"
   },
   {
    "duration": 92,
    "start_time": "2022-10-14T16:33:55.165Z"
   },
   {
    "duration": 34,
    "start_time": "2022-10-14T16:33:55.259Z"
   },
   {
    "duration": 66,
    "start_time": "2022-10-14T16:33:55.295Z"
   },
   {
    "duration": 34,
    "start_time": "2022-10-14T16:33:55.362Z"
   },
   {
    "duration": 9,
    "start_time": "2022-10-14T16:33:55.397Z"
   },
   {
    "duration": 20,
    "start_time": "2022-10-14T16:33:55.407Z"
   },
   {
    "duration": 7,
    "start_time": "2022-10-14T16:33:55.429Z"
   },
   {
    "duration": 11,
    "start_time": "2022-10-14T16:33:55.438Z"
   },
   {
    "duration": 4,
    "start_time": "2022-10-14T16:33:55.452Z"
   },
   {
    "duration": 57,
    "start_time": "2022-10-14T16:33:55.458Z"
   },
   {
    "duration": 101,
    "start_time": "2022-10-14T16:33:55.520Z"
   },
   {
    "duration": 3311,
    "start_time": "2022-10-14T16:33:55.622Z"
   },
   {
    "duration": 14,
    "start_time": "2022-10-14T16:33:58.935Z"
   },
   {
    "duration": 49,
    "start_time": "2022-10-14T16:33:58.951Z"
   },
   {
    "duration": 9,
    "start_time": "2022-10-14T16:33:59.001Z"
   },
   {
    "duration": 118,
    "start_time": "2022-10-14T16:33:59.012Z"
   },
   {
    "duration": 55,
    "start_time": "2022-10-14T16:33:59.132Z"
   },
   {
    "duration": 2964,
    "start_time": "2022-10-14T16:33:59.194Z"
   },
   {
    "duration": 1007,
    "start_time": "2022-10-14T16:34:02.160Z"
   },
   {
    "duration": 1354,
    "start_time": "2022-10-14T16:34:03.168Z"
   },
   {
    "duration": 7,
    "start_time": "2022-10-14T16:34:04.523Z"
   },
   {
    "duration": 9,
    "start_time": "2022-10-14T16:34:04.531Z"
   },
   {
    "duration": 13,
    "start_time": "2022-10-14T16:34:04.541Z"
   },
   {
    "duration": 49,
    "start_time": "2022-10-14T16:34:04.555Z"
   },
   {
    "duration": 7,
    "start_time": "2022-10-14T16:34:04.607Z"
   },
   {
    "duration": 9850,
    "start_time": "2022-10-14T16:34:04.615Z"
   },
   {
    "duration": 4,
    "start_time": "2022-10-14T16:34:14.467Z"
   },
   {
    "duration": 53847,
    "start_time": "2022-10-14T16:34:14.472Z"
   },
   {
    "duration": 3,
    "start_time": "2022-10-14T16:35:08.321Z"
   },
   {
    "duration": 697,
    "start_time": "2022-10-14T16:35:08.326Z"
   },
   {
    "duration": 77,
    "start_time": "2022-10-14T16:35:09.123Z"
   },
   {
    "duration": 88,
    "start_time": "2022-10-14T16:35:09.208Z"
   },
   {
    "duration": 2105,
    "start_time": "2022-10-14T16:35:09.312Z"
   },
   {
    "duration": 366,
    "start_time": "2022-10-14T16:35:11.419Z"
   },
   {
    "duration": 30313,
    "start_time": "2022-10-14T16:35:11.786Z"
   },
   {
    "duration": 6,
    "start_time": "2022-10-14T16:35:42.108Z"
   },
   {
    "duration": 243434,
    "start_time": "2022-10-14T16:35:42.116Z"
   },
   {
    "duration": 4,
    "start_time": "2022-10-14T16:39:45.551Z"
   },
   {
    "duration": 2134,
    "start_time": "2022-10-14T16:39:45.556Z"
   },
   {
    "duration": 11,
    "start_time": "2022-10-14T16:39:47.694Z"
   },
   {
    "duration": 10963,
    "start_time": "2022-10-14T16:39:47.708Z"
   },
   {
    "duration": 374,
    "start_time": "2022-10-14T16:39:58.672Z"
   },
   {
    "duration": 16,
    "start_time": "2022-10-14T16:39:59.048Z"
   },
   {
    "duration": 355,
    "start_time": "2022-10-14T16:39:59.065Z"
   },
   {
    "duration": 22,
    "start_time": "2022-10-14T16:39:59.422Z"
   },
   {
    "duration": 466,
    "start_time": "2022-10-14T16:39:59.446Z"
   },
   {
    "duration": 4,
    "start_time": "2022-10-14T16:39:59.914Z"
   },
   {
    "duration": 393691,
    "start_time": "2022-10-14T16:41:33.508Z"
   },
   {
    "duration": 9,
    "start_time": "2022-10-14T16:48:07.206Z"
   },
   {
    "duration": 32993,
    "start_time": "2022-10-14T16:50:00.310Z"
   },
   {
    "duration": 498,
    "start_time": "2022-10-14T16:50:33.304Z"
   },
   {
    "duration": 64,
    "start_time": "2022-10-14T16:50:33.804Z"
   },
   {
    "duration": 518,
    "start_time": "2022-10-14T16:50:33.870Z"
   },
   {
    "duration": 10,
    "start_time": "2022-10-14T16:50:34.392Z"
   },
   {
    "duration": 54004,
    "start_time": "2022-10-14T16:52:28.929Z"
   },
   {
    "duration": 3,
    "start_time": "2022-10-14T16:53:22.935Z"
   },
   {
    "duration": 21,
    "start_time": "2022-10-14T16:53:22.939Z"
   },
   {
    "duration": 8,
    "start_time": "2022-10-14T16:56:22.099Z"
   },
   {
    "duration": 1837,
    "start_time": "2022-10-14T16:56:32.484Z"
   },
   {
    "duration": 955,
    "start_time": "2022-10-14T16:56:34.323Z"
   },
   {
    "duration": 24,
    "start_time": "2022-10-14T16:56:35.279Z"
   },
   {
    "duration": 73,
    "start_time": "2022-10-14T16:56:35.306Z"
   },
   {
    "duration": 10,
    "start_time": "2022-10-14T16:56:35.381Z"
   },
   {
    "duration": 177,
    "start_time": "2022-10-14T16:56:35.393Z"
   },
   {
    "duration": 70,
    "start_time": "2022-10-14T16:56:35.572Z"
   },
   {
    "duration": 99,
    "start_time": "2022-10-14T16:56:35.647Z"
   },
   {
    "duration": 28,
    "start_time": "2022-10-14T16:56:35.747Z"
   },
   {
    "duration": 32,
    "start_time": "2022-10-14T16:56:35.777Z"
   },
   {
    "duration": 87,
    "start_time": "2022-10-14T16:56:35.811Z"
   },
   {
    "duration": 62,
    "start_time": "2022-10-14T16:56:35.899Z"
   },
   {
    "duration": 10,
    "start_time": "2022-10-14T16:56:35.962Z"
   },
   {
    "duration": 73,
    "start_time": "2022-10-14T16:56:35.974Z"
   },
   {
    "duration": 47,
    "start_time": "2022-10-14T16:56:36.049Z"
   },
   {
    "duration": 119,
    "start_time": "2022-10-14T16:56:36.097Z"
   },
   {
    "duration": 4466,
    "start_time": "2022-10-14T16:56:36.219Z"
   },
   {
    "duration": 26,
    "start_time": "2022-10-14T16:56:40.691Z"
   },
   {
    "duration": 82,
    "start_time": "2022-10-14T16:56:40.719Z"
   },
   {
    "duration": 8,
    "start_time": "2022-10-14T16:56:40.805Z"
   },
   {
    "duration": 164,
    "start_time": "2022-10-14T16:56:40.815Z"
   },
   {
    "duration": 90,
    "start_time": "2022-10-14T16:56:40.981Z"
   },
   {
    "duration": 3363,
    "start_time": "2022-10-14T16:56:41.073Z"
   },
   {
    "duration": 1024,
    "start_time": "2022-10-14T16:56:44.440Z"
   },
   {
    "duration": 1495,
    "start_time": "2022-10-14T16:56:45.466Z"
   },
   {
    "duration": 9,
    "start_time": "2022-10-14T16:56:46.963Z"
   },
   {
    "duration": 19,
    "start_time": "2022-10-14T16:56:46.974Z"
   },
   {
    "duration": 38,
    "start_time": "2022-10-14T16:56:46.997Z"
   },
   {
    "duration": 57,
    "start_time": "2022-10-14T16:56:47.037Z"
   },
   {
    "duration": 7,
    "start_time": "2022-10-14T16:56:47.096Z"
   },
   {
    "duration": 10393,
    "start_time": "2022-10-14T16:56:47.105Z"
   },
   {
    "duration": 8,
    "start_time": "2022-10-14T16:56:57.500Z"
   },
   {
    "duration": 119692,
    "start_time": "2022-10-14T16:56:57.514Z"
   },
   {
    "duration": 4,
    "start_time": "2022-10-14T16:58:57.209Z"
   },
   {
    "duration": 1189,
    "start_time": "2022-10-14T16:58:57.216Z"
   },
   {
    "duration": 89,
    "start_time": "2022-10-14T16:58:58.407Z"
   },
   {
    "duration": 119,
    "start_time": "2022-10-14T16:58:58.498Z"
   },
   {
    "duration": 2104,
    "start_time": "2022-10-14T16:58:58.620Z"
   },
   {
    "duration": 384,
    "start_time": "2022-10-14T16:59:00.726Z"
   },
   {
    "duration": 29218,
    "start_time": "2022-10-14T16:59:01.113Z"
   },
   {
    "duration": 4,
    "start_time": "2022-10-14T16:59:30.333Z"
   },
   {
    "duration": 246280,
    "start_time": "2022-10-14T16:59:30.339Z"
   },
   {
    "duration": 4,
    "start_time": "2022-10-14T17:03:36.621Z"
   },
   {
    "duration": 2381,
    "start_time": "2022-10-14T17:03:36.627Z"
   },
   {
    "duration": 12,
    "start_time": "2022-10-14T17:03:39.010Z"
   },
   {
    "duration": 32085,
    "start_time": "2022-10-14T17:03:39.088Z"
   },
   {
    "duration": 497,
    "start_time": "2022-10-14T17:04:11.175Z"
   },
   {
    "duration": 27,
    "start_time": "2022-10-14T17:04:11.675Z"
   },
   {
    "duration": 493,
    "start_time": "2022-10-14T17:04:11.704Z"
   },
   {
    "duration": 60,
    "start_time": "2022-10-14T17:04:12.200Z"
   },
   {
    "duration": 511,
    "start_time": "2022-10-14T17:04:12.262Z"
   },
   {
    "duration": 25,
    "start_time": "2022-10-14T17:04:12.775Z"
   },
   {
    "duration": 5407,
    "start_time": "2022-10-14T17:21:55.383Z"
   },
   {
    "duration": 33,
    "start_time": "2022-10-14T17:22:06.558Z"
   },
   {
    "duration": 403,
    "start_time": "2022-10-14T17:22:09.120Z"
   },
   {
    "duration": 11,
    "start_time": "2022-10-14T17:22:14.183Z"
   },
   {
    "duration": 107712,
    "start_time": "2022-10-14T17:22:30.912Z"
   },
   {
    "duration": 5,
    "start_time": "2022-10-14T17:24:18.626Z"
   },
   {
    "duration": 3399,
    "start_time": "2022-10-14T17:24:44.312Z"
   },
   {
    "duration": 25,
    "start_time": "2022-10-14T17:24:48.056Z"
   },
   {
    "duration": 1500,
    "start_time": "2022-10-14T17:25:34.272Z"
   },
   {
    "duration": 765,
    "start_time": "2022-10-14T17:25:35.773Z"
   },
   {
    "duration": 28,
    "start_time": "2022-10-14T17:25:36.540Z"
   },
   {
    "duration": 77,
    "start_time": "2022-10-14T17:25:36.570Z"
   },
   {
    "duration": 31,
    "start_time": "2022-10-14T17:25:36.649Z"
   },
   {
    "duration": 162,
    "start_time": "2022-10-14T17:25:36.682Z"
   },
   {
    "duration": 32,
    "start_time": "2022-10-14T17:25:36.846Z"
   },
   {
    "duration": 68,
    "start_time": "2022-10-14T17:25:36.880Z"
   },
   {
    "duration": 47,
    "start_time": "2022-10-14T17:25:36.949Z"
   },
   {
    "duration": 41,
    "start_time": "2022-10-14T17:25:36.999Z"
   },
   {
    "duration": 52,
    "start_time": "2022-10-14T17:25:37.041Z"
   },
   {
    "duration": 63,
    "start_time": "2022-10-14T17:25:37.096Z"
   },
   {
    "duration": 106,
    "start_time": "2022-10-14T17:25:37.161Z"
   },
   {
    "duration": 25,
    "start_time": "2022-10-14T17:25:37.269Z"
   },
   {
    "duration": 117,
    "start_time": "2022-10-14T17:25:37.296Z"
   },
   {
    "duration": 131,
    "start_time": "2022-10-14T17:25:37.416Z"
   },
   {
    "duration": 3623,
    "start_time": "2022-10-14T17:25:37.549Z"
   },
   {
    "duration": 30,
    "start_time": "2022-10-14T17:25:41.173Z"
   },
   {
    "duration": 49,
    "start_time": "2022-10-14T17:25:41.204Z"
   },
   {
    "duration": 9,
    "start_time": "2022-10-14T17:25:41.254Z"
   },
   {
    "duration": 111,
    "start_time": "2022-10-14T17:25:41.267Z"
   },
   {
    "duration": 61,
    "start_time": "2022-10-14T17:25:41.379Z"
   },
   {
    "duration": 2971,
    "start_time": "2022-10-14T17:25:41.442Z"
   },
   {
    "duration": 1019,
    "start_time": "2022-10-14T17:25:44.414Z"
   },
   {
    "duration": 1291,
    "start_time": "2022-10-14T17:25:45.435Z"
   },
   {
    "duration": 8,
    "start_time": "2022-10-14T17:25:46.728Z"
   },
   {
    "duration": 3,
    "start_time": "2022-10-14T17:25:46.738Z"
   },
   {
    "duration": 4,
    "start_time": "2022-10-14T17:25:46.745Z"
   },
   {
    "duration": 67,
    "start_time": "2022-10-14T17:25:46.750Z"
   },
   {
    "duration": 7,
    "start_time": "2022-10-14T17:25:46.819Z"
   },
   {
    "duration": 137,
    "start_time": "2022-10-14T17:25:46.827Z"
   },
   {
    "duration": 0,
    "start_time": "2022-10-14T17:25:46.966Z"
   },
   {
    "duration": 0,
    "start_time": "2022-10-14T17:25:46.968Z"
   },
   {
    "duration": 0,
    "start_time": "2022-10-14T17:25:46.970Z"
   },
   {
    "duration": 0,
    "start_time": "2022-10-14T17:25:46.971Z"
   },
   {
    "duration": 0,
    "start_time": "2022-10-14T17:25:46.972Z"
   },
   {
    "duration": 0,
    "start_time": "2022-10-14T17:25:46.985Z"
   },
   {
    "duration": 0,
    "start_time": "2022-10-14T17:25:46.986Z"
   },
   {
    "duration": 0,
    "start_time": "2022-10-14T17:25:46.987Z"
   },
   {
    "duration": 0,
    "start_time": "2022-10-14T17:25:46.988Z"
   },
   {
    "duration": 0,
    "start_time": "2022-10-14T17:25:46.989Z"
   },
   {
    "duration": 0,
    "start_time": "2022-10-14T17:25:46.989Z"
   },
   {
    "duration": 0,
    "start_time": "2022-10-14T17:25:46.994Z"
   },
   {
    "duration": 0,
    "start_time": "2022-10-14T17:25:46.995Z"
   },
   {
    "duration": 0,
    "start_time": "2022-10-14T17:25:46.996Z"
   },
   {
    "duration": 0,
    "start_time": "2022-10-14T17:25:46.996Z"
   },
   {
    "duration": 0,
    "start_time": "2022-10-14T17:25:46.997Z"
   },
   {
    "duration": 0,
    "start_time": "2022-10-14T17:25:47.008Z"
   },
   {
    "duration": 0,
    "start_time": "2022-10-14T17:25:47.009Z"
   },
   {
    "duration": 0,
    "start_time": "2022-10-14T17:25:47.010Z"
   },
   {
    "duration": 0,
    "start_time": "2022-10-14T17:25:47.011Z"
   },
   {
    "duration": 0,
    "start_time": "2022-10-14T17:25:47.012Z"
   },
   {
    "duration": 1378,
    "start_time": "2022-10-14T17:27:10.542Z"
   },
   {
    "duration": 682,
    "start_time": "2022-10-14T17:27:11.921Z"
   },
   {
    "duration": 14,
    "start_time": "2022-10-14T17:27:12.605Z"
   },
   {
    "duration": 17,
    "start_time": "2022-10-14T17:27:12.621Z"
   },
   {
    "duration": 5,
    "start_time": "2022-10-14T17:27:12.639Z"
   },
   {
    "duration": 89,
    "start_time": "2022-10-14T17:27:12.645Z"
   },
   {
    "duration": 26,
    "start_time": "2022-10-14T17:27:12.735Z"
   },
   {
    "duration": 78,
    "start_time": "2022-10-14T17:27:12.762Z"
   },
   {
    "duration": 19,
    "start_time": "2022-10-14T17:27:12.842Z"
   },
   {
    "duration": 22,
    "start_time": "2022-10-14T17:27:12.864Z"
   },
   {
    "duration": 14,
    "start_time": "2022-10-14T17:27:12.888Z"
   },
   {
    "duration": 8,
    "start_time": "2022-10-14T17:27:12.904Z"
   },
   {
    "duration": 6,
    "start_time": "2022-10-14T17:27:12.913Z"
   },
   {
    "duration": 4,
    "start_time": "2022-10-14T17:27:12.921Z"
   },
   {
    "duration": 40,
    "start_time": "2022-10-14T17:27:12.927Z"
   },
   {
    "duration": 108,
    "start_time": "2022-10-14T17:27:12.968Z"
   },
   {
    "duration": 3035,
    "start_time": "2022-10-14T17:27:13.085Z"
   },
   {
    "duration": 15,
    "start_time": "2022-10-14T17:27:16.122Z"
   },
   {
    "duration": 60,
    "start_time": "2022-10-14T17:27:16.138Z"
   },
   {
    "duration": 8,
    "start_time": "2022-10-14T17:27:16.200Z"
   },
   {
    "duration": 103,
    "start_time": "2022-10-14T17:27:16.209Z"
   },
   {
    "duration": 39,
    "start_time": "2022-10-14T17:27:16.314Z"
   },
   {
    "duration": 3047,
    "start_time": "2022-10-14T17:27:16.355Z"
   },
   {
    "duration": 1018,
    "start_time": "2022-10-14T17:27:19.404Z"
   },
   {
    "duration": 1343,
    "start_time": "2022-10-14T17:27:20.424Z"
   },
   {
    "duration": 7,
    "start_time": "2022-10-14T17:27:21.769Z"
   },
   {
    "duration": 38,
    "start_time": "2022-10-14T17:27:21.777Z"
   },
   {
    "duration": 23,
    "start_time": "2022-10-14T17:27:21.818Z"
   },
   {
    "duration": 55,
    "start_time": "2022-10-14T17:27:21.843Z"
   },
   {
    "duration": 6,
    "start_time": "2022-10-14T17:27:21.900Z"
   },
   {
    "duration": 15895,
    "start_time": "2022-10-14T17:27:21.907Z"
   },
   {
    "duration": 4,
    "start_time": "2022-10-14T17:27:37.805Z"
   },
   {
    "duration": 1205596,
    "start_time": "2022-10-14T17:27:37.811Z"
   },
   {
    "duration": 0,
    "start_time": "2022-10-14T17:47:43.411Z"
   },
   {
    "duration": 0,
    "start_time": "2022-10-14T17:47:43.412Z"
   },
   {
    "duration": 0,
    "start_time": "2022-10-14T17:47:43.416Z"
   },
   {
    "duration": 0,
    "start_time": "2022-10-14T17:47:43.418Z"
   },
   {
    "duration": 0,
    "start_time": "2022-10-14T17:47:43.420Z"
   },
   {
    "duration": 0,
    "start_time": "2022-10-14T17:47:43.421Z"
   },
   {
    "duration": 0,
    "start_time": "2022-10-14T17:47:43.422Z"
   },
   {
    "duration": 0,
    "start_time": "2022-10-14T17:47:43.424Z"
   },
   {
    "duration": 0,
    "start_time": "2022-10-14T17:47:43.427Z"
   },
   {
    "duration": 0,
    "start_time": "2022-10-14T17:47:43.429Z"
   },
   {
    "duration": 0,
    "start_time": "2022-10-14T17:47:43.430Z"
   },
   {
    "duration": 0,
    "start_time": "2022-10-14T17:47:43.431Z"
   },
   {
    "duration": 0,
    "start_time": "2022-10-14T17:47:43.432Z"
   },
   {
    "duration": 0,
    "start_time": "2022-10-14T17:47:43.433Z"
   },
   {
    "duration": 0,
    "start_time": "2022-10-14T17:47:43.434Z"
   },
   {
    "duration": 0,
    "start_time": "2022-10-14T17:47:43.435Z"
   },
   {
    "duration": 0,
    "start_time": "2022-10-14T17:47:43.436Z"
   },
   {
    "duration": 0,
    "start_time": "2022-10-14T17:47:43.437Z"
   },
   {
    "duration": 0,
    "start_time": "2022-10-14T17:47:43.438Z"
   },
   {
    "duration": 1450,
    "start_time": "2022-10-14T17:48:03.258Z"
   },
   {
    "duration": 931,
    "start_time": "2022-10-14T17:48:04.716Z"
   },
   {
    "duration": 13,
    "start_time": "2022-10-14T17:48:05.648Z"
   },
   {
    "duration": 38,
    "start_time": "2022-10-14T17:48:05.663Z"
   },
   {
    "duration": 21,
    "start_time": "2022-10-14T17:48:05.706Z"
   },
   {
    "duration": 91,
    "start_time": "2022-10-14T17:48:05.728Z"
   },
   {
    "duration": 34,
    "start_time": "2022-10-14T17:48:05.827Z"
   },
   {
    "duration": 65,
    "start_time": "2022-10-14T17:48:05.864Z"
   },
   {
    "duration": 19,
    "start_time": "2022-10-14T17:48:05.931Z"
   },
   {
    "duration": 10,
    "start_time": "2022-10-14T17:48:05.952Z"
   },
   {
    "duration": 29,
    "start_time": "2022-10-14T17:48:05.963Z"
   },
   {
    "duration": 40,
    "start_time": "2022-10-14T17:48:05.998Z"
   },
   {
    "duration": 20,
    "start_time": "2022-10-14T17:48:06.040Z"
   },
   {
    "duration": 21,
    "start_time": "2022-10-14T17:48:06.062Z"
   },
   {
    "duration": 98,
    "start_time": "2022-10-14T17:48:06.085Z"
   },
   {
    "duration": 103,
    "start_time": "2022-10-14T17:48:06.184Z"
   },
   {
    "duration": 3645,
    "start_time": "2022-10-14T17:48:06.289Z"
   },
   {
    "duration": 13,
    "start_time": "2022-10-14T17:48:09.936Z"
   },
   {
    "duration": 64,
    "start_time": "2022-10-14T17:48:09.951Z"
   },
   {
    "duration": 10,
    "start_time": "2022-10-14T17:48:10.017Z"
   },
   {
    "duration": 121,
    "start_time": "2022-10-14T17:48:10.029Z"
   },
   {
    "duration": 62,
    "start_time": "2022-10-14T17:48:10.152Z"
   },
   {
    "duration": 3040,
    "start_time": "2022-10-14T17:48:10.215Z"
   },
   {
    "duration": 1132,
    "start_time": "2022-10-14T17:48:13.257Z"
   },
   {
    "duration": 1294,
    "start_time": "2022-10-14T17:48:14.391Z"
   },
   {
    "duration": 7,
    "start_time": "2022-10-14T17:48:15.686Z"
   },
   {
    "duration": 3,
    "start_time": "2022-10-14T17:48:15.694Z"
   },
   {
    "duration": 31,
    "start_time": "2022-10-14T17:48:15.700Z"
   },
   {
    "duration": 48,
    "start_time": "2022-10-14T17:48:15.733Z"
   },
   {
    "duration": 24,
    "start_time": "2022-10-14T17:48:15.783Z"
   },
   {
    "duration": 7421,
    "start_time": "2022-10-14T17:48:15.808Z"
   },
   {
    "duration": 4,
    "start_time": "2022-10-14T17:48:23.231Z"
   },
   {
    "duration": 85366,
    "start_time": "2022-10-14T17:48:23.237Z"
   },
   {
    "duration": 4,
    "start_time": "2022-10-14T17:49:48.606Z"
   },
   {
    "duration": 1197,
    "start_time": "2022-10-14T17:49:48.613Z"
   },
   {
    "duration": 90,
    "start_time": "2022-10-14T17:49:49.821Z"
   },
   {
    "duration": 20,
    "start_time": "2022-10-14T17:49:49.921Z"
   },
   {
    "duration": 4160,
    "start_time": "2022-10-14T17:49:49.946Z"
   },
   {
    "duration": 460,
    "start_time": "2022-10-14T17:49:54.114Z"
   },
   {
    "duration": 34528,
    "start_time": "2022-10-14T17:49:54.576Z"
   },
   {
    "duration": 9,
    "start_time": "2022-10-14T17:50:29.108Z"
   },
   {
    "duration": 261922,
    "start_time": "2022-10-14T17:50:29.119Z"
   },
   {
    "duration": 8,
    "start_time": "2022-10-14T17:54:51.044Z"
   },
   {
    "duration": 2357,
    "start_time": "2022-10-14T17:54:51.054Z"
   },
   {
    "duration": 7,
    "start_time": "2022-10-14T17:54:53.429Z"
   },
   {
    "duration": 37158,
    "start_time": "2022-10-14T17:54:53.443Z"
   },
   {
    "duration": 645,
    "start_time": "2022-10-14T17:55:30.603Z"
   },
   {
    "duration": 23,
    "start_time": "2022-10-14T17:55:31.251Z"
   },
   {
    "duration": 649,
    "start_time": "2022-10-14T17:55:31.276Z"
   },
   {
    "duration": 70,
    "start_time": "2022-10-14T17:55:31.928Z"
   },
   {
    "duration": 158,
    "start_time": "2022-10-14T17:55:32.001Z"
   },
   {
    "duration": 0,
    "start_time": "2022-10-14T17:55:32.161Z"
   },
   {
    "duration": 22994,
    "start_time": "2022-10-14T17:56:54.531Z"
   },
   {
    "duration": 44,
    "start_time": "2022-10-14T17:57:17.528Z"
   },
   {
    "duration": 454,
    "start_time": "2022-10-14T17:57:17.574Z"
   },
   {
    "duration": 4,
    "start_time": "2022-10-14T17:57:18.030Z"
   },
   {
    "duration": 1398,
    "start_time": "2022-10-14T17:57:47.359Z"
   },
   {
    "duration": 714,
    "start_time": "2022-10-14T17:57:48.759Z"
   },
   {
    "duration": 20,
    "start_time": "2022-10-14T17:57:49.474Z"
   },
   {
    "duration": 20,
    "start_time": "2022-10-14T17:57:49.504Z"
   },
   {
    "duration": 4,
    "start_time": "2022-10-14T17:57:49.525Z"
   },
   {
    "duration": 66,
    "start_time": "2022-10-14T17:57:49.531Z"
   },
   {
    "duration": 36,
    "start_time": "2022-10-14T17:57:49.599Z"
   },
   {
    "duration": 75,
    "start_time": "2022-10-14T17:57:49.637Z"
   },
   {
    "duration": 21,
    "start_time": "2022-10-14T17:57:49.715Z"
   },
   {
    "duration": 8,
    "start_time": "2022-10-14T17:57:49.739Z"
   },
   {
    "duration": 8,
    "start_time": "2022-10-14T17:57:49.748Z"
   },
   {
    "duration": 4,
    "start_time": "2022-10-14T17:57:49.758Z"
   },
   {
    "duration": 32,
    "start_time": "2022-10-14T17:57:49.764Z"
   },
   {
    "duration": 23,
    "start_time": "2022-10-14T17:57:49.802Z"
   },
   {
    "duration": 48,
    "start_time": "2022-10-14T17:57:49.827Z"
   },
   {
    "duration": 112,
    "start_time": "2022-10-14T17:57:49.876Z"
   },
   {
    "duration": 3238,
    "start_time": "2022-10-14T17:57:49.993Z"
   },
   {
    "duration": 16,
    "start_time": "2022-10-14T17:57:53.233Z"
   },
   {
    "duration": 58,
    "start_time": "2022-10-14T17:57:53.251Z"
   },
   {
    "duration": 16,
    "start_time": "2022-10-14T17:57:53.310Z"
   },
   {
    "duration": 110,
    "start_time": "2022-10-14T17:57:53.328Z"
   },
   {
    "duration": 56,
    "start_time": "2022-10-14T17:57:53.440Z"
   },
   {
    "duration": 2853,
    "start_time": "2022-10-14T17:57:53.500Z"
   },
   {
    "duration": 996,
    "start_time": "2022-10-14T17:57:56.355Z"
   },
   {
    "duration": 1372,
    "start_time": "2022-10-14T17:57:57.353Z"
   },
   {
    "duration": 6,
    "start_time": "2022-10-14T17:57:58.727Z"
   },
   {
    "duration": 3,
    "start_time": "2022-10-14T17:57:58.734Z"
   },
   {
    "duration": 4,
    "start_time": "2022-10-14T17:57:58.740Z"
   },
   {
    "duration": 71,
    "start_time": "2022-10-14T17:57:58.745Z"
   },
   {
    "duration": 5,
    "start_time": "2022-10-14T17:57:58.818Z"
   },
   {
    "duration": 6935,
    "start_time": "2022-10-14T17:57:58.825Z"
   },
   {
    "duration": 4,
    "start_time": "2022-10-14T17:58:05.761Z"
   },
   {
    "duration": 79802,
    "start_time": "2022-10-14T17:58:05.767Z"
   },
   {
    "duration": 3,
    "start_time": "2022-10-14T17:59:25.571Z"
   },
   {
    "duration": 1143,
    "start_time": "2022-10-14T17:59:25.575Z"
   },
   {
    "duration": 179,
    "start_time": "2022-10-14T17:59:26.722Z"
   },
   {
    "duration": 88,
    "start_time": "2022-10-14T17:59:26.905Z"
   },
   {
    "duration": 5786,
    "start_time": "2022-10-14T17:59:27.001Z"
   },
   {
    "duration": 387,
    "start_time": "2022-10-14T17:59:32.792Z"
   },
   {
    "duration": 31144,
    "start_time": "2022-10-14T17:59:33.180Z"
   },
   {
    "duration": 4,
    "start_time": "2022-10-14T18:00:04.325Z"
   },
   {
    "duration": 167817,
    "start_time": "2022-10-14T18:00:04.331Z"
   },
   {
    "duration": 0,
    "start_time": "2022-10-14T18:02:52.150Z"
   },
   {
    "duration": 0,
    "start_time": "2022-10-14T18:02:52.150Z"
   },
   {
    "duration": 0,
    "start_time": "2022-10-14T18:02:52.151Z"
   },
   {
    "duration": 0,
    "start_time": "2022-10-14T18:02:52.152Z"
   },
   {
    "duration": 0,
    "start_time": "2022-10-14T18:02:52.153Z"
   },
   {
    "duration": 0,
    "start_time": "2022-10-14T18:02:52.154Z"
   },
   {
    "duration": 0,
    "start_time": "2022-10-14T18:02:52.155Z"
   },
   {
    "duration": 0,
    "start_time": "2022-10-14T18:02:52.155Z"
   },
   {
    "duration": 0,
    "start_time": "2022-10-14T18:02:52.156Z"
   },
   {
    "duration": 0,
    "start_time": "2022-10-14T18:02:52.157Z"
   },
   {
    "duration": 1525,
    "start_time": "2022-10-14T18:02:56.628Z"
   },
   {
    "duration": 732,
    "start_time": "2022-10-14T18:02:58.157Z"
   },
   {
    "duration": 20,
    "start_time": "2022-10-14T18:02:58.891Z"
   },
   {
    "duration": 39,
    "start_time": "2022-10-14T18:02:58.917Z"
   },
   {
    "duration": 5,
    "start_time": "2022-10-14T18:02:58.957Z"
   },
   {
    "duration": 80,
    "start_time": "2022-10-14T18:02:58.964Z"
   },
   {
    "duration": 55,
    "start_time": "2022-10-14T18:02:59.046Z"
   },
   {
    "duration": 76,
    "start_time": "2022-10-14T18:02:59.105Z"
   },
   {
    "duration": 31,
    "start_time": "2022-10-14T18:02:59.182Z"
   },
   {
    "duration": 14,
    "start_time": "2022-10-14T18:02:59.222Z"
   },
   {
    "duration": 8,
    "start_time": "2022-10-14T18:02:59.238Z"
   },
   {
    "duration": 5,
    "start_time": "2022-10-14T18:02:59.248Z"
   },
   {
    "duration": 6,
    "start_time": "2022-10-14T18:02:59.255Z"
   },
   {
    "duration": 4,
    "start_time": "2022-10-14T18:02:59.265Z"
   },
   {
    "duration": 58,
    "start_time": "2022-10-14T18:02:59.271Z"
   },
   {
    "duration": 148,
    "start_time": "2022-10-14T18:02:59.331Z"
   },
   {
    "duration": 3554,
    "start_time": "2022-10-14T18:02:59.485Z"
   },
   {
    "duration": 16,
    "start_time": "2022-10-14T18:03:03.041Z"
   },
   {
    "duration": 59,
    "start_time": "2022-10-14T18:03:03.058Z"
   },
   {
    "duration": 8,
    "start_time": "2022-10-14T18:03:03.121Z"
   },
   {
    "duration": 106,
    "start_time": "2022-10-14T18:03:03.131Z"
   },
   {
    "duration": 62,
    "start_time": "2022-10-14T18:03:03.239Z"
   },
   {
    "duration": 2933,
    "start_time": "2022-10-14T18:03:03.308Z"
   },
   {
    "duration": 1048,
    "start_time": "2022-10-14T18:03:06.243Z"
   },
   {
    "duration": 1395,
    "start_time": "2022-10-14T18:03:07.293Z"
   },
   {
    "duration": 15,
    "start_time": "2022-10-14T18:03:08.697Z"
   },
   {
    "duration": 21,
    "start_time": "2022-10-14T18:03:08.713Z"
   },
   {
    "duration": 25,
    "start_time": "2022-10-14T18:03:08.735Z"
   },
   {
    "duration": 63,
    "start_time": "2022-10-14T18:03:08.762Z"
   },
   {
    "duration": 19,
    "start_time": "2022-10-14T18:03:08.827Z"
   },
   {
    "duration": 8001,
    "start_time": "2022-10-14T18:03:08.848Z"
   },
   {
    "duration": 7,
    "start_time": "2022-10-14T18:03:16.851Z"
   },
   {
    "duration": 63803,
    "start_time": "2022-10-14T18:03:16.861Z"
   },
   {
    "duration": 4,
    "start_time": "2022-10-14T18:04:20.666Z"
   },
   {
    "duration": 1117,
    "start_time": "2022-10-14T18:04:20.672Z"
   },
   {
    "duration": 91,
    "start_time": "2022-10-14T18:04:21.797Z"
   },
   {
    "duration": 32,
    "start_time": "2022-10-14T18:04:21.900Z"
   },
   {
    "duration": 6022,
    "start_time": "2022-10-14T18:04:21.934Z"
   },
   {
    "duration": 409,
    "start_time": "2022-10-14T18:04:27.958Z"
   },
   {
    "duration": 32448,
    "start_time": "2022-10-14T18:04:28.369Z"
   },
   {
    "duration": 6,
    "start_time": "2022-10-14T18:05:00.821Z"
   },
   {
    "duration": 230295,
    "start_time": "2022-10-14T18:05:00.828Z"
   },
   {
    "duration": 4,
    "start_time": "2022-10-14T18:08:51.126Z"
   },
   {
    "duration": 3063,
    "start_time": "2022-10-14T18:08:51.131Z"
   },
   {
    "duration": 69,
    "start_time": "2022-10-14T18:08:54.229Z"
   },
   {
    "duration": 24672,
    "start_time": "2022-10-14T18:08:54.303Z"
   },
   {
    "duration": 525,
    "start_time": "2022-10-14T18:09:18.977Z"
   },
   {
    "duration": 34,
    "start_time": "2022-10-14T18:09:19.503Z"
   },
   {
    "duration": 570,
    "start_time": "2022-10-14T18:09:19.539Z"
   },
   {
    "duration": 54,
    "start_time": "2022-10-14T18:09:20.110Z"
   },
   {
    "duration": 510,
    "start_time": "2022-10-14T18:09:20.166Z"
   },
   {
    "duration": 4,
    "start_time": "2022-10-14T18:09:20.685Z"
   },
   {
    "duration": 6659,
    "start_time": "2022-10-14T18:15:11.751Z"
   },
   {
    "duration": 448,
    "start_time": "2022-10-14T18:15:18.412Z"
   },
   {
    "duration": 1429,
    "start_time": "2022-10-14T18:15:51.528Z"
   },
   {
    "duration": 816,
    "start_time": "2022-10-14T18:15:52.959Z"
   },
   {
    "duration": 26,
    "start_time": "2022-10-14T18:15:53.779Z"
   },
   {
    "duration": 39,
    "start_time": "2022-10-14T18:15:53.812Z"
   },
   {
    "duration": 5,
    "start_time": "2022-10-14T18:15:53.853Z"
   },
   {
    "duration": 84,
    "start_time": "2022-10-14T18:15:53.860Z"
   },
   {
    "duration": 26,
    "start_time": "2022-10-14T18:15:53.945Z"
   },
   {
    "duration": 78,
    "start_time": "2022-10-14T18:15:53.973Z"
   },
   {
    "duration": 21,
    "start_time": "2022-10-14T18:15:54.055Z"
   },
   {
    "duration": 16,
    "start_time": "2022-10-14T18:15:54.094Z"
   },
   {
    "duration": 22,
    "start_time": "2022-10-14T18:15:54.111Z"
   },
   {
    "duration": 5,
    "start_time": "2022-10-14T18:15:54.135Z"
   },
   {
    "duration": 7,
    "start_time": "2022-10-14T18:15:54.142Z"
   },
   {
    "duration": 6,
    "start_time": "2022-10-14T18:15:54.151Z"
   },
   {
    "duration": 69,
    "start_time": "2022-10-14T18:15:54.159Z"
   },
   {
    "duration": 113,
    "start_time": "2022-10-14T18:15:54.230Z"
   },
   {
    "duration": 3511,
    "start_time": "2022-10-14T18:15:54.345Z"
   },
   {
    "duration": 15,
    "start_time": "2022-10-14T18:15:57.858Z"
   },
   {
    "duration": 51,
    "start_time": "2022-10-14T18:15:57.874Z"
   },
   {
    "duration": 14,
    "start_time": "2022-10-14T18:15:57.928Z"
   },
   {
    "duration": 105,
    "start_time": "2022-10-14T18:15:57.943Z"
   },
   {
    "duration": 53,
    "start_time": "2022-10-14T18:15:58.050Z"
   },
   {
    "duration": 3068,
    "start_time": "2022-10-14T18:15:58.104Z"
   },
   {
    "duration": 987,
    "start_time": "2022-10-14T18:16:01.173Z"
   },
   {
    "duration": 1412,
    "start_time": "2022-10-14T18:16:02.162Z"
   },
   {
    "duration": 25,
    "start_time": "2022-10-14T18:16:03.575Z"
   },
   {
    "duration": 14,
    "start_time": "2022-10-14T18:16:03.613Z"
   },
   {
    "duration": 6,
    "start_time": "2022-10-14T18:16:03.628Z"
   },
   {
    "duration": 63,
    "start_time": "2022-10-14T18:16:03.635Z"
   },
   {
    "duration": 12,
    "start_time": "2022-10-14T18:16:03.705Z"
   },
   {
    "duration": 9797,
    "start_time": "2022-10-14T18:16:03.719Z"
   },
   {
    "duration": 7,
    "start_time": "2022-10-14T18:16:13.517Z"
   },
   {
    "duration": 128507,
    "start_time": "2022-10-14T18:16:13.528Z"
   },
   {
    "duration": 4,
    "start_time": "2022-10-14T18:18:22.036Z"
   },
   {
    "duration": 1384,
    "start_time": "2022-10-14T18:18:22.042Z"
   },
   {
    "duration": 113,
    "start_time": "2022-10-14T18:18:23.427Z"
   },
   {
    "duration": 58,
    "start_time": "2022-10-14T18:18:23.542Z"
   },
   {
    "duration": 6911,
    "start_time": "2022-10-14T18:18:23.602Z"
   },
   {
    "duration": 448,
    "start_time": "2022-10-14T18:18:30.522Z"
   },
   {
    "duration": 31669,
    "start_time": "2022-10-14T18:18:30.972Z"
   },
   {
    "duration": 4,
    "start_time": "2022-10-14T18:19:02.643Z"
   },
   {
    "duration": 265193,
    "start_time": "2022-10-14T18:19:02.648Z"
   },
   {
    "duration": 5,
    "start_time": "2022-10-14T18:23:27.842Z"
   },
   {
    "duration": 3187,
    "start_time": "2022-10-14T18:23:27.849Z"
   },
   {
    "duration": 4,
    "start_time": "2022-10-14T18:23:31.039Z"
   },
   {
    "duration": 24908,
    "start_time": "2022-10-14T18:23:31.045Z"
   },
   {
    "duration": 615,
    "start_time": "2022-10-14T18:23:55.955Z"
   },
   {
    "duration": 58,
    "start_time": "2022-10-14T18:23:56.572Z"
   },
   {
    "duration": 642,
    "start_time": "2022-10-14T18:23:56.634Z"
   },
   {
    "duration": 88,
    "start_time": "2022-10-14T18:23:57.281Z"
   },
   {
    "duration": 769,
    "start_time": "2022-10-14T18:23:57.371Z"
   },
   {
    "duration": 6,
    "start_time": "2022-10-14T18:23:58.142Z"
   },
   {
    "duration": 12899,
    "start_time": "2022-10-14T18:27:14.656Z"
   },
   {
    "duration": 10213,
    "start_time": "2022-10-14T18:27:33.114Z"
   },
   {
    "duration": 65,
    "start_time": "2022-10-14T18:27:43.505Z"
   },
   {
    "duration": 26,
    "start_time": "2022-10-14T18:27:47.951Z"
   },
   {
    "duration": 510,
    "start_time": "2022-10-14T18:27:50.006Z"
   },
   {
    "duration": 1622,
    "start_time": "2022-10-14T18:32:18.413Z"
   },
   {
    "duration": 1098,
    "start_time": "2022-10-14T18:32:20.040Z"
   },
   {
    "duration": 14,
    "start_time": "2022-10-14T18:32:21.141Z"
   },
   {
    "duration": 16,
    "start_time": "2022-10-14T18:32:21.157Z"
   },
   {
    "duration": 4,
    "start_time": "2022-10-14T18:32:21.175Z"
   },
   {
    "duration": 135,
    "start_time": "2022-10-14T18:32:21.181Z"
   },
   {
    "duration": 33,
    "start_time": "2022-10-14T18:32:21.320Z"
   },
   {
    "duration": 75,
    "start_time": "2022-10-14T18:32:21.355Z"
   },
   {
    "duration": 22,
    "start_time": "2022-10-14T18:32:21.432Z"
   },
   {
    "duration": 11,
    "start_time": "2022-10-14T18:32:21.456Z"
   },
   {
    "duration": 18,
    "start_time": "2022-10-14T18:32:21.468Z"
   },
   {
    "duration": 5,
    "start_time": "2022-10-14T18:32:21.488Z"
   },
   {
    "duration": 55,
    "start_time": "2022-10-14T18:32:21.498Z"
   },
   {
    "duration": 15,
    "start_time": "2022-10-14T18:32:21.555Z"
   },
   {
    "duration": 105,
    "start_time": "2022-10-14T18:32:21.572Z"
   },
   {
    "duration": 127,
    "start_time": "2022-10-14T18:32:21.679Z"
   },
   {
    "duration": 3618,
    "start_time": "2022-10-14T18:32:21.808Z"
   },
   {
    "duration": 18,
    "start_time": "2022-10-14T18:32:25.427Z"
   },
   {
    "duration": 85,
    "start_time": "2022-10-14T18:32:25.446Z"
   },
   {
    "duration": 11,
    "start_time": "2022-10-14T18:32:25.536Z"
   },
   {
    "duration": 125,
    "start_time": "2022-10-14T18:32:25.548Z"
   },
   {
    "duration": 69,
    "start_time": "2022-10-14T18:32:25.675Z"
   },
   {
    "duration": 2999,
    "start_time": "2022-10-14T18:32:25.746Z"
   },
   {
    "duration": 1122,
    "start_time": "2022-10-14T18:32:28.747Z"
   },
   {
    "duration": 1624,
    "start_time": "2022-10-14T18:32:29.872Z"
   },
   {
    "duration": 24,
    "start_time": "2022-10-14T18:32:31.500Z"
   },
   {
    "duration": 40,
    "start_time": "2022-10-14T18:32:31.534Z"
   },
   {
    "duration": 67,
    "start_time": "2022-10-14T18:32:31.576Z"
   },
   {
    "duration": 82,
    "start_time": "2022-10-14T18:32:31.644Z"
   },
   {
    "duration": 46,
    "start_time": "2022-10-14T18:32:31.728Z"
   },
   {
    "duration": 12005,
    "start_time": "2022-10-14T18:32:31.776Z"
   },
   {
    "duration": 9,
    "start_time": "2022-10-14T18:32:43.782Z"
   },
   {
    "duration": 128073,
    "start_time": "2022-10-14T18:32:43.793Z"
   },
   {
    "duration": 5,
    "start_time": "2022-10-14T18:34:51.869Z"
   },
   {
    "duration": 1316,
    "start_time": "2022-10-14T18:34:51.876Z"
   },
   {
    "duration": 130,
    "start_time": "2022-10-14T18:34:53.194Z"
   },
   {
    "duration": 69,
    "start_time": "2022-10-14T18:34:53.330Z"
   },
   {
    "duration": 135451,
    "start_time": "2022-10-14T18:34:53.408Z"
   },
   {
    "duration": 474,
    "start_time": "2022-10-14T18:37:08.861Z"
   },
   {
    "duration": 32445,
    "start_time": "2022-10-14T18:37:09.336Z"
   },
   {
    "duration": 6,
    "start_time": "2022-10-14T18:37:41.787Z"
   },
   {
    "duration": 265895,
    "start_time": "2022-10-14T18:37:41.797Z"
   },
   {
    "duration": 7,
    "start_time": "2022-10-14T18:42:07.708Z"
   },
   {
    "duration": 4283,
    "start_time": "2022-10-14T18:42:07.717Z"
   },
   {
    "duration": 76,
    "start_time": "2022-10-14T18:42:12.017Z"
   },
   {
    "duration": 272644,
    "start_time": "2022-10-14T18:42:12.098Z"
   },
   {
    "duration": 579,
    "start_time": "2022-10-14T18:46:44.747Z"
   },
   {
    "duration": 36,
    "start_time": "2022-10-14T18:46:45.328Z"
   },
   {
    "duration": 697,
    "start_time": "2022-10-14T18:46:45.365Z"
   },
   {
    "duration": 34,
    "start_time": "2022-10-14T18:46:46.064Z"
   },
   {
    "duration": 484,
    "start_time": "2022-10-14T18:46:46.104Z"
   },
   {
    "duration": 7,
    "start_time": "2022-10-14T18:46:46.590Z"
   },
   {
    "duration": 49,
    "start_time": "2022-10-14T18:59:33.751Z"
   },
   {
    "duration": 150,
    "start_time": "2022-10-14T19:00:01.776Z"
   },
   {
    "duration": 23,
    "start_time": "2022-10-14T19:00:19.552Z"
   },
   {
    "duration": 43,
    "start_time": "2022-10-14T19:00:27.076Z"
   },
   {
    "duration": 49,
    "start_time": "2022-10-14T19:01:22.510Z"
   },
   {
    "duration": 1453,
    "start_time": "2022-10-14T19:01:28.644Z"
   },
   {
    "duration": 2844,
    "start_time": "2022-10-14T19:01:30.099Z"
   },
   {
    "duration": 13,
    "start_time": "2022-10-14T19:01:32.945Z"
   },
   {
    "duration": 16,
    "start_time": "2022-10-14T19:01:32.960Z"
   },
   {
    "duration": 5,
    "start_time": "2022-10-14T19:01:32.978Z"
   },
   {
    "duration": 67,
    "start_time": "2022-10-14T19:01:32.984Z"
   },
   {
    "duration": 62,
    "start_time": "2022-10-14T19:01:33.053Z"
   },
   {
    "duration": 68,
    "start_time": "2022-10-14T19:01:33.117Z"
   },
   {
    "duration": 29,
    "start_time": "2022-10-14T19:01:33.187Z"
   },
   {
    "duration": 18,
    "start_time": "2022-10-14T19:01:33.217Z"
   },
   {
    "duration": 31,
    "start_time": "2022-10-14T19:01:33.237Z"
   },
   {
    "duration": 5,
    "start_time": "2022-10-14T19:01:33.270Z"
   },
   {
    "duration": 7,
    "start_time": "2022-10-14T19:01:33.277Z"
   },
   {
    "duration": 38,
    "start_time": "2022-10-14T19:01:33.288Z"
   },
   {
    "duration": 61,
    "start_time": "2022-10-14T19:01:33.328Z"
   },
   {
    "duration": 109,
    "start_time": "2022-10-14T19:01:33.392Z"
   },
   {
    "duration": 3357,
    "start_time": "2022-10-14T19:01:33.503Z"
   },
   {
    "duration": 29,
    "start_time": "2022-10-14T19:01:36.862Z"
   },
   {
    "duration": 49,
    "start_time": "2022-10-14T19:01:36.895Z"
   },
   {
    "duration": 11,
    "start_time": "2022-10-14T19:01:36.949Z"
   },
   {
    "duration": 131,
    "start_time": "2022-10-14T19:01:36.962Z"
   },
   {
    "duration": 62,
    "start_time": "2022-10-14T19:01:37.095Z"
   },
   {
    "duration": 63,
    "start_time": "2022-10-14T19:01:37.159Z"
   },
   {
    "duration": 3148,
    "start_time": "2022-10-14T19:01:37.224Z"
   },
   {
    "duration": 1049,
    "start_time": "2022-10-14T19:01:40.374Z"
   },
   {
    "duration": 1320,
    "start_time": "2022-10-14T19:01:41.425Z"
   },
   {
    "duration": 8,
    "start_time": "2022-10-14T19:01:42.747Z"
   },
   {
    "duration": 11,
    "start_time": "2022-10-14T19:01:42.756Z"
   },
   {
    "duration": 41,
    "start_time": "2022-10-14T19:01:42.769Z"
   },
   {
    "duration": 54,
    "start_time": "2022-10-14T19:01:42.812Z"
   },
   {
    "duration": 5,
    "start_time": "2022-10-14T19:01:42.868Z"
   },
   {
    "duration": 8484,
    "start_time": "2022-10-14T19:01:42.874Z"
   },
   {
    "duration": 4,
    "start_time": "2022-10-14T19:01:51.359Z"
   },
   {
    "duration": 99587,
    "start_time": "2022-10-14T19:01:51.365Z"
   },
   {
    "duration": 4,
    "start_time": "2022-10-14T19:03:30.954Z"
   },
   {
    "duration": 145,
    "start_time": "2022-10-14T19:03:30.959Z"
   },
   {
    "duration": 0,
    "start_time": "2022-10-14T19:03:31.106Z"
   },
   {
    "duration": 0,
    "start_time": "2022-10-14T19:03:31.107Z"
   },
   {
    "duration": 0,
    "start_time": "2022-10-14T19:03:31.108Z"
   },
   {
    "duration": 0,
    "start_time": "2022-10-14T19:03:31.109Z"
   },
   {
    "duration": 0,
    "start_time": "2022-10-14T19:03:31.110Z"
   },
   {
    "duration": 0,
    "start_time": "2022-10-14T19:03:31.112Z"
   },
   {
    "duration": 1,
    "start_time": "2022-10-14T19:03:31.113Z"
   },
   {
    "duration": 0,
    "start_time": "2022-10-14T19:03:31.115Z"
   },
   {
    "duration": 0,
    "start_time": "2022-10-14T19:03:31.117Z"
   },
   {
    "duration": 0,
    "start_time": "2022-10-14T19:03:31.119Z"
   },
   {
    "duration": 0,
    "start_time": "2022-10-14T19:03:31.120Z"
   },
   {
    "duration": 0,
    "start_time": "2022-10-14T19:03:31.121Z"
   },
   {
    "duration": 0,
    "start_time": "2022-10-14T19:03:31.126Z"
   },
   {
    "duration": 0,
    "start_time": "2022-10-14T19:03:31.127Z"
   },
   {
    "duration": 0,
    "start_time": "2022-10-14T19:03:31.128Z"
   },
   {
    "duration": 0,
    "start_time": "2022-10-14T19:03:31.130Z"
   },
   {
    "duration": 0,
    "start_time": "2022-10-14T19:03:31.133Z"
   },
   {
    "duration": 21,
    "start_time": "2022-10-14T19:03:55.758Z"
   },
   {
    "duration": 4,
    "start_time": "2022-10-14T19:04:12.115Z"
   },
   {
    "duration": 22,
    "start_time": "2022-10-14T19:04:19.403Z"
   },
   {
    "duration": 22,
    "start_time": "2022-10-14T19:04:35.352Z"
   },
   {
    "duration": 19,
    "start_time": "2022-10-14T19:05:49.016Z"
   },
   {
    "duration": 78,
    "start_time": "2022-10-14T19:05:56.841Z"
   },
   {
    "duration": 1446,
    "start_time": "2022-10-14T19:06:02.271Z"
   },
   {
    "duration": 713,
    "start_time": "2022-10-14T19:06:03.719Z"
   },
   {
    "duration": 13,
    "start_time": "2022-10-14T19:06:04.433Z"
   },
   {
    "duration": 21,
    "start_time": "2022-10-14T19:06:04.448Z"
   },
   {
    "duration": 24,
    "start_time": "2022-10-14T19:06:04.471Z"
   },
   {
    "duration": 77,
    "start_time": "2022-10-14T19:06:04.500Z"
   },
   {
    "duration": 37,
    "start_time": "2022-10-14T19:06:04.579Z"
   },
   {
    "duration": 68,
    "start_time": "2022-10-14T19:06:04.618Z"
   },
   {
    "duration": 29,
    "start_time": "2022-10-14T19:06:04.693Z"
   },
   {
    "duration": 7,
    "start_time": "2022-10-14T19:06:04.725Z"
   },
   {
    "duration": 8,
    "start_time": "2022-10-14T19:06:04.734Z"
   },
   {
    "duration": 4,
    "start_time": "2022-10-14T19:06:04.743Z"
   },
   {
    "duration": 7,
    "start_time": "2022-10-14T19:06:04.749Z"
   },
   {
    "duration": 6,
    "start_time": "2022-10-14T19:06:04.758Z"
   },
   {
    "duration": 69,
    "start_time": "2022-10-14T19:06:04.786Z"
   },
   {
    "duration": 111,
    "start_time": "2022-10-14T19:06:04.857Z"
   },
   {
    "duration": 3308,
    "start_time": "2022-10-14T19:06:04.970Z"
   },
   {
    "duration": 26,
    "start_time": "2022-10-14T19:06:08.280Z"
   },
   {
    "duration": 49,
    "start_time": "2022-10-14T19:06:08.307Z"
   },
   {
    "duration": 9,
    "start_time": "2022-10-14T19:06:08.357Z"
   },
   {
    "duration": 111,
    "start_time": "2022-10-14T19:06:08.367Z"
   },
   {
    "duration": 56,
    "start_time": "2022-10-14T19:06:08.479Z"
   },
   {
    "duration": 39,
    "start_time": "2022-10-14T19:06:08.537Z"
   },
   {
    "duration": 3092,
    "start_time": "2022-10-14T19:06:08.588Z"
   },
   {
    "duration": 1053,
    "start_time": "2022-10-14T19:06:11.685Z"
   },
   {
    "duration": 1405,
    "start_time": "2022-10-14T19:06:12.739Z"
   },
   {
    "duration": 7,
    "start_time": "2022-10-14T19:06:14.146Z"
   },
   {
    "duration": 3,
    "start_time": "2022-10-14T19:06:14.159Z"
   },
   {
    "duration": 15,
    "start_time": "2022-10-14T19:06:14.164Z"
   },
   {
    "duration": 64,
    "start_time": "2022-10-14T19:06:14.187Z"
   },
   {
    "duration": 6,
    "start_time": "2022-10-14T19:06:14.252Z"
   },
   {
    "duration": 8440,
    "start_time": "2022-10-14T19:06:14.260Z"
   },
   {
    "duration": 4,
    "start_time": "2022-10-14T19:06:22.703Z"
   },
   {
    "duration": 99594,
    "start_time": "2022-10-14T19:06:22.709Z"
   },
   {
    "duration": 4,
    "start_time": "2022-10-14T19:08:02.306Z"
   },
   {
    "duration": 36,
    "start_time": "2022-10-14T19:08:02.311Z"
   },
   {
    "duration": 1055,
    "start_time": "2022-10-14T19:08:02.348Z"
   },
   {
    "duration": 0,
    "start_time": "2022-10-14T19:08:03.404Z"
   },
   {
    "duration": 0,
    "start_time": "2022-10-14T19:08:03.406Z"
   },
   {
    "duration": 0,
    "start_time": "2022-10-14T19:08:03.407Z"
   },
   {
    "duration": 0,
    "start_time": "2022-10-14T19:08:03.408Z"
   },
   {
    "duration": 0,
    "start_time": "2022-10-14T19:08:03.409Z"
   },
   {
    "duration": 0,
    "start_time": "2022-10-14T19:08:03.410Z"
   },
   {
    "duration": 0,
    "start_time": "2022-10-14T19:08:03.411Z"
   },
   {
    "duration": 0,
    "start_time": "2022-10-14T19:08:03.412Z"
   },
   {
    "duration": 0,
    "start_time": "2022-10-14T19:08:03.413Z"
   },
   {
    "duration": 0,
    "start_time": "2022-10-14T19:08:03.414Z"
   },
   {
    "duration": 0,
    "start_time": "2022-10-14T19:08:03.415Z"
   },
   {
    "duration": 0,
    "start_time": "2022-10-14T19:08:03.416Z"
   },
   {
    "duration": 0,
    "start_time": "2022-10-14T19:08:03.417Z"
   },
   {
    "duration": 0,
    "start_time": "2022-10-14T19:08:03.418Z"
   },
   {
    "duration": 0,
    "start_time": "2022-10-14T19:08:03.419Z"
   },
   {
    "duration": 0,
    "start_time": "2022-10-14T19:08:03.420Z"
   },
   {
    "duration": 0,
    "start_time": "2022-10-14T19:08:03.421Z"
   },
   {
    "duration": 1397,
    "start_time": "2022-10-14T19:08:44.295Z"
   },
   {
    "duration": 12,
    "start_time": "2022-10-14T19:08:54.560Z"
   },
   {
    "duration": 8,
    "start_time": "2022-10-14T19:08:57.307Z"
   },
   {
    "duration": 100786,
    "start_time": "2022-10-14T19:09:03.153Z"
   },
   {
    "duration": 413,
    "start_time": "2022-10-14T19:10:43.941Z"
   },
   {
    "duration": 26670,
    "start_time": "2022-10-14T19:11:01.742Z"
   },
   {
    "duration": 4,
    "start_time": "2022-10-14T19:11:28.414Z"
   },
   {
    "duration": 231468,
    "start_time": "2022-10-14T19:11:28.420Z"
   },
   {
    "duration": 5,
    "start_time": "2022-10-14T19:15:19.890Z"
   },
   {
    "duration": 2205,
    "start_time": "2022-10-14T19:15:19.897Z"
   },
   {
    "duration": 0,
    "start_time": "2022-10-14T19:15:22.105Z"
   },
   {
    "duration": 0,
    "start_time": "2022-10-14T19:15:22.106Z"
   },
   {
    "duration": 0,
    "start_time": "2022-10-14T19:15:22.107Z"
   },
   {
    "duration": 0,
    "start_time": "2022-10-14T19:15:22.109Z"
   },
   {
    "duration": 0,
    "start_time": "2022-10-14T19:15:22.109Z"
   },
   {
    "duration": 0,
    "start_time": "2022-10-14T19:15:22.110Z"
   },
   {
    "duration": 0,
    "start_time": "2022-10-14T19:15:22.111Z"
   },
   {
    "duration": 0,
    "start_time": "2022-10-14T19:15:22.113Z"
   },
   {
    "duration": 2082,
    "start_time": "2022-10-14T19:15:41.503Z"
   },
   {
    "duration": 9,
    "start_time": "2022-10-14T19:15:45.783Z"
   },
   {
    "duration": 225558,
    "start_time": "2022-10-14T19:15:46.122Z"
   },
   {
    "duration": 462,
    "start_time": "2022-10-14T19:19:31.682Z"
   },
   {
    "duration": 47,
    "start_time": "2022-10-14T19:19:32.145Z"
   },
   {
    "duration": 395,
    "start_time": "2022-10-14T19:19:32.195Z"
   },
   {
    "duration": 25,
    "start_time": "2022-10-14T19:19:32.601Z"
   },
   {
    "duration": 354,
    "start_time": "2022-10-14T19:19:32.627Z"
   },
   {
    "duration": 5,
    "start_time": "2022-10-14T19:19:32.986Z"
   },
   {
    "duration": 11,
    "start_time": "2022-10-14T19:21:21.703Z"
   },
   {
    "duration": 54,
    "start_time": "2022-10-14T19:21:33.661Z"
   },
   {
    "duration": 39,
    "start_time": "2022-10-14T19:21:37.400Z"
   },
   {
    "duration": 23,
    "start_time": "2022-10-14T19:21:40.103Z"
   },
   {
    "duration": 4,
    "start_time": "2022-10-14T19:21:42.905Z"
   },
   {
    "duration": 3120,
    "start_time": "2022-10-14T19:27:19.478Z"
   },
   {
    "duration": 384,
    "start_time": "2022-10-14T19:38:40.106Z"
   },
   {
    "duration": 457,
    "start_time": "2022-10-14T19:38:45.402Z"
   },
   {
    "duration": 1394,
    "start_time": "2022-10-14T19:39:34.039Z"
   },
   {
    "duration": 1288,
    "start_time": "2022-10-14T19:39:35.435Z"
   },
   {
    "duration": 16,
    "start_time": "2022-10-14T19:39:36.725Z"
   },
   {
    "duration": 17,
    "start_time": "2022-10-14T19:39:36.743Z"
   },
   {
    "duration": 5,
    "start_time": "2022-10-14T19:39:36.761Z"
   },
   {
    "duration": 77,
    "start_time": "2022-10-14T19:39:36.767Z"
   },
   {
    "duration": 28,
    "start_time": "2022-10-14T19:39:36.846Z"
   },
   {
    "duration": 65,
    "start_time": "2022-10-14T19:39:36.885Z"
   },
   {
    "duration": 19,
    "start_time": "2022-10-14T19:39:36.952Z"
   },
   {
    "duration": 19,
    "start_time": "2022-10-14T19:39:36.986Z"
   },
   {
    "duration": 9,
    "start_time": "2022-10-14T19:39:37.006Z"
   },
   {
    "duration": 6,
    "start_time": "2022-10-14T19:39:37.017Z"
   },
   {
    "duration": 10,
    "start_time": "2022-10-14T19:39:37.024Z"
   },
   {
    "duration": 34,
    "start_time": "2022-10-14T19:39:37.037Z"
   },
   {
    "duration": 53,
    "start_time": "2022-10-14T19:39:37.074Z"
   },
   {
    "duration": 165,
    "start_time": "2022-10-14T19:39:37.128Z"
   },
   {
    "duration": 3415,
    "start_time": "2022-10-14T19:39:37.300Z"
   },
   {
    "duration": 16,
    "start_time": "2022-10-14T19:39:40.716Z"
   },
   {
    "duration": 64,
    "start_time": "2022-10-14T19:39:40.733Z"
   },
   {
    "duration": 9,
    "start_time": "2022-10-14T19:39:40.799Z"
   },
   {
    "duration": 115,
    "start_time": "2022-10-14T19:39:40.810Z"
   },
   {
    "duration": 41,
    "start_time": "2022-10-14T19:39:40.926Z"
   },
   {
    "duration": 32,
    "start_time": "2022-10-14T19:39:40.969Z"
   },
   {
    "duration": 12,
    "start_time": "2022-10-14T19:39:41.003Z"
   },
   {
    "duration": 3003,
    "start_time": "2022-10-14T19:39:41.017Z"
   },
   {
    "duration": 1003,
    "start_time": "2022-10-14T19:39:44.022Z"
   },
   {
    "duration": 1379,
    "start_time": "2022-10-14T19:39:45.027Z"
   },
   {
    "duration": 9,
    "start_time": "2022-10-14T19:39:46.412Z"
   },
   {
    "duration": 7,
    "start_time": "2022-10-14T19:39:46.423Z"
   },
   {
    "duration": 8,
    "start_time": "2022-10-14T19:39:46.432Z"
   },
   {
    "duration": 72,
    "start_time": "2022-10-14T19:39:46.442Z"
   },
   {
    "duration": 6,
    "start_time": "2022-10-14T19:39:46.517Z"
   },
   {
    "duration": 8320,
    "start_time": "2022-10-14T19:39:46.525Z"
   },
   {
    "duration": 3,
    "start_time": "2022-10-14T19:39:54.847Z"
   },
   {
    "duration": 102055,
    "start_time": "2022-10-14T19:39:54.852Z"
   },
   {
    "duration": 5,
    "start_time": "2022-10-14T19:41:36.910Z"
   },
   {
    "duration": 999,
    "start_time": "2022-10-14T19:41:36.916Z"
   },
   {
    "duration": 180,
    "start_time": "2022-10-14T19:41:37.916Z"
   },
   {
    "duration": 22,
    "start_time": "2022-10-14T19:41:38.101Z"
   },
   {
    "duration": 100876,
    "start_time": "2022-10-14T19:41:38.186Z"
   },
   {
    "duration": 413,
    "start_time": "2022-10-14T19:43:19.064Z"
   },
   {
    "duration": 27022,
    "start_time": "2022-10-14T19:43:19.479Z"
   },
   {
    "duration": 5,
    "start_time": "2022-10-14T19:43:46.505Z"
   },
   {
    "duration": 229543,
    "start_time": "2022-10-14T19:43:46.512Z"
   },
   {
    "duration": 4,
    "start_time": "2022-10-14T19:47:36.057Z"
   },
   {
    "duration": 2437,
    "start_time": "2022-10-14T19:47:36.063Z"
   },
   {
    "duration": 6,
    "start_time": "2022-10-14T19:47:38.586Z"
   },
   {
    "duration": 228802,
    "start_time": "2022-10-14T19:47:38.599Z"
   },
   {
    "duration": 454,
    "start_time": "2022-10-14T19:51:27.403Z"
   },
   {
    "duration": 43,
    "start_time": "2022-10-14T19:51:27.859Z"
   },
   {
    "duration": 404,
    "start_time": "2022-10-14T19:51:27.904Z"
   },
   {
    "duration": 24,
    "start_time": "2022-10-14T19:51:28.310Z"
   },
   {
    "duration": 366,
    "start_time": "2022-10-14T19:51:28.335Z"
   },
   {
    "duration": 3,
    "start_time": "2022-10-14T19:51:28.703Z"
   },
   {
    "duration": 2005,
    "start_time": "2022-10-15T00:48:05.203Z"
   },
   {
    "duration": 3479,
    "start_time": "2022-10-15T00:48:07.210Z"
   },
   {
    "duration": 15,
    "start_time": "2022-10-15T00:48:10.691Z"
   },
   {
    "duration": 17,
    "start_time": "2022-10-15T00:48:10.708Z"
   },
   {
    "duration": 6,
    "start_time": "2022-10-15T00:48:10.726Z"
   },
   {
    "duration": 91,
    "start_time": "2022-10-15T00:48:10.734Z"
   },
   {
    "duration": 28,
    "start_time": "2022-10-15T00:48:10.827Z"
   },
   {
    "duration": 72,
    "start_time": "2022-10-15T00:48:10.857Z"
   },
   {
    "duration": 21,
    "start_time": "2022-10-15T00:48:10.930Z"
   },
   {
    "duration": 8,
    "start_time": "2022-10-15T00:48:10.953Z"
   },
   {
    "duration": 31,
    "start_time": "2022-10-15T00:48:10.962Z"
   },
   {
    "duration": 5,
    "start_time": "2022-10-15T00:48:11.064Z"
   },
   {
    "duration": 6,
    "start_time": "2022-10-15T00:48:12.828Z"
   },
   {
    "duration": 3,
    "start_time": "2022-10-15T00:48:13.051Z"
   },
   {
    "duration": 43,
    "start_time": "2022-10-15T00:48:13.362Z"
   },
   {
    "duration": 102,
    "start_time": "2022-10-15T00:48:13.796Z"
   },
   {
    "duration": 3418,
    "start_time": "2022-10-15T00:48:14.779Z"
   },
   {
    "duration": 18,
    "start_time": "2022-10-15T00:48:18.200Z"
   },
   {
    "duration": 53,
    "start_time": "2022-10-15T00:48:18.220Z"
   },
   {
    "duration": 10,
    "start_time": "2022-10-15T00:48:18.289Z"
   },
   {
    "duration": 125,
    "start_time": "2022-10-15T00:48:18.301Z"
   },
   {
    "duration": 47,
    "start_time": "2022-10-15T00:48:18.427Z"
   },
   {
    "duration": 29,
    "start_time": "2022-10-15T00:48:18.475Z"
   },
   {
    "duration": 10,
    "start_time": "2022-10-15T00:48:18.506Z"
   },
   {
    "duration": 3116,
    "start_time": "2022-10-15T00:48:21.134Z"
   },
   {
    "duration": 1002,
    "start_time": "2022-10-15T00:48:24.252Z"
   },
   {
    "duration": 1359,
    "start_time": "2022-10-15T00:48:25.256Z"
   },
   {
    "duration": 8,
    "start_time": "2022-10-15T00:48:26.617Z"
   },
   {
    "duration": 3,
    "start_time": "2022-10-15T00:48:27.883Z"
   },
   {
    "duration": 3,
    "start_time": "2022-10-15T00:48:28.690Z"
   },
   {
    "duration": 51,
    "start_time": "2022-10-15T00:48:32.537Z"
   },
   {
    "duration": 28,
    "start_time": "2022-10-15T00:48:55.610Z"
   },
   {
    "duration": 5,
    "start_time": "2022-10-15T00:49:44.612Z"
   },
   {
    "duration": 4,
    "start_time": "2022-10-15T00:50:46.032Z"
   },
   {
    "duration": 4,
    "start_time": "2022-10-15T00:51:56.252Z"
   },
   {
    "duration": 46,
    "start_time": "2022-10-15T06:03:22.278Z"
   },
   {
    "duration": 11,
    "start_time": "2022-10-15T08:00:19.640Z"
   },
   {
    "duration": 1643,
    "start_time": "2022-10-15T08:00:45.212Z"
   },
   {
    "duration": 1433,
    "start_time": "2022-10-15T08:00:46.857Z"
   },
   {
    "duration": 13,
    "start_time": "2022-10-15T08:00:48.292Z"
   },
   {
    "duration": 18,
    "start_time": "2022-10-15T08:00:48.307Z"
   },
   {
    "duration": 6,
    "start_time": "2022-10-15T08:00:48.327Z"
   },
   {
    "duration": 60,
    "start_time": "2022-10-15T08:00:48.335Z"
   },
   {
    "duration": 41,
    "start_time": "2022-10-15T08:00:48.396Z"
   },
   {
    "duration": 59,
    "start_time": "2022-10-15T08:00:48.438Z"
   },
   {
    "duration": 37,
    "start_time": "2022-10-15T08:00:48.499Z"
   },
   {
    "duration": 8,
    "start_time": "2022-10-15T08:00:48.539Z"
   },
   {
    "duration": 8,
    "start_time": "2022-10-15T08:00:48.549Z"
   },
   {
    "duration": 4,
    "start_time": "2022-10-15T08:00:48.559Z"
   },
   {
    "duration": 8,
    "start_time": "2022-10-15T08:00:48.564Z"
   },
   {
    "duration": 7,
    "start_time": "2022-10-15T08:00:48.573Z"
   },
   {
    "duration": 70,
    "start_time": "2022-10-15T08:00:48.581Z"
   },
   {
    "duration": 111,
    "start_time": "2022-10-15T08:00:48.653Z"
   },
   {
    "duration": 3192,
    "start_time": "2022-10-15T08:00:48.766Z"
   },
   {
    "duration": 15,
    "start_time": "2022-10-15T08:00:51.960Z"
   },
   {
    "duration": 41,
    "start_time": "2022-10-15T08:00:51.977Z"
   },
   {
    "duration": 20,
    "start_time": "2022-10-15T08:00:52.019Z"
   },
   {
    "duration": 105,
    "start_time": "2022-10-15T08:00:52.040Z"
   },
   {
    "duration": 56,
    "start_time": "2022-10-15T08:00:52.147Z"
   },
   {
    "duration": 33,
    "start_time": "2022-10-15T08:00:52.208Z"
   },
   {
    "duration": 9,
    "start_time": "2022-10-15T08:00:52.242Z"
   },
   {
    "duration": 2879,
    "start_time": "2022-10-15T08:00:52.252Z"
   },
   {
    "duration": 956,
    "start_time": "2022-10-15T08:00:55.133Z"
   },
   {
    "duration": 732,
    "start_time": "2022-10-15T08:04:00.573Z"
   },
   {
    "duration": 1125,
    "start_time": "2022-10-15T08:04:45.526Z"
   },
   {
    "duration": 1136,
    "start_time": "2022-10-15T08:04:53.725Z"
   },
   {
    "duration": 1086,
    "start_time": "2022-10-15T08:32:00.932Z"
   },
   {
    "duration": 1094,
    "start_time": "2022-10-15T08:32:18.769Z"
   },
   {
    "duration": 963,
    "start_time": "2022-10-15T08:32:33.781Z"
   },
   {
    "duration": 988,
    "start_time": "2022-10-15T08:33:33.619Z"
   },
   {
    "duration": 1002,
    "start_time": "2022-10-15T08:34:11.257Z"
   },
   {
    "duration": 930,
    "start_time": "2022-10-15T08:34:34.418Z"
   },
   {
    "duration": 624,
    "start_time": "2022-10-15T08:34:49.881Z"
   },
   {
    "duration": 1197,
    "start_time": "2022-10-15T08:35:08.169Z"
   },
   {
    "duration": 984,
    "start_time": "2022-10-15T08:36:03.544Z"
   },
   {
    "duration": 859,
    "start_time": "2022-10-15T08:36:14.769Z"
   },
   {
    "duration": 890,
    "start_time": "2022-10-15T08:36:29.347Z"
   },
   {
    "duration": 980,
    "start_time": "2022-10-15T08:36:43.482Z"
   },
   {
    "duration": 1111,
    "start_time": "2022-10-15T08:37:58.582Z"
   },
   {
    "duration": 1142,
    "start_time": "2022-10-15T08:39:57.952Z"
   },
   {
    "duration": 1052,
    "start_time": "2022-10-15T08:40:16.996Z"
   },
   {
    "duration": 1340,
    "start_time": "2022-10-15T08:46:57.835Z"
   },
   {
    "duration": 800,
    "start_time": "2022-10-15T08:46:59.176Z"
   },
   {
    "duration": 14,
    "start_time": "2022-10-15T08:46:59.978Z"
   },
   {
    "duration": 42,
    "start_time": "2022-10-15T08:46:59.993Z"
   },
   {
    "duration": 5,
    "start_time": "2022-10-15T08:47:00.037Z"
   },
   {
    "duration": 90,
    "start_time": "2022-10-15T08:47:00.044Z"
   },
   {
    "duration": 27,
    "start_time": "2022-10-15T08:47:00.136Z"
   },
   {
    "duration": 74,
    "start_time": "2022-10-15T08:47:00.165Z"
   },
   {
    "duration": 19,
    "start_time": "2022-10-15T08:47:00.242Z"
   },
   {
    "duration": 6,
    "start_time": "2022-10-15T08:47:00.264Z"
   },
   {
    "duration": 12,
    "start_time": "2022-10-15T08:47:00.272Z"
   },
   {
    "duration": 15,
    "start_time": "2022-10-15T08:47:00.286Z"
   },
   {
    "duration": 26,
    "start_time": "2022-10-15T08:47:00.302Z"
   },
   {
    "duration": 20,
    "start_time": "2022-10-15T08:47:00.329Z"
   },
   {
    "duration": 64,
    "start_time": "2022-10-15T08:47:00.350Z"
   },
   {
    "duration": 95,
    "start_time": "2022-10-15T08:47:00.416Z"
   },
   {
    "duration": 3386,
    "start_time": "2022-10-15T08:47:00.514Z"
   },
   {
    "duration": 15,
    "start_time": "2022-10-15T08:47:03.902Z"
   },
   {
    "duration": 49,
    "start_time": "2022-10-15T08:47:03.918Z"
   },
   {
    "duration": 8,
    "start_time": "2022-10-15T08:47:03.969Z"
   },
   {
    "duration": 118,
    "start_time": "2022-10-15T08:47:03.979Z"
   },
   {
    "duration": 58,
    "start_time": "2022-10-15T08:47:04.099Z"
   },
   {
    "duration": 18,
    "start_time": "2022-10-15T08:47:04.159Z"
   },
   {
    "duration": 9,
    "start_time": "2022-10-15T08:47:04.179Z"
   },
   {
    "duration": 2950,
    "start_time": "2022-10-15T08:47:04.190Z"
   },
   {
    "duration": 1130,
    "start_time": "2022-10-15T08:47:07.141Z"
   },
   {
    "duration": 1085,
    "start_time": "2022-10-15T08:47:08.273Z"
   },
   {
    "duration": 1266,
    "start_time": "2022-10-15T08:47:09.363Z"
   },
   {
    "duration": 6,
    "start_time": "2022-10-15T08:47:10.633Z"
   },
   {
    "duration": 5,
    "start_time": "2022-10-15T08:47:10.640Z"
   },
   {
    "duration": 8,
    "start_time": "2022-10-15T08:47:10.647Z"
   },
   {
    "duration": 47,
    "start_time": "2022-10-15T08:47:10.657Z"
   },
   {
    "duration": 5,
    "start_time": "2022-10-15T08:47:10.706Z"
   },
   {
    "duration": 20547,
    "start_time": "2022-10-15T08:47:10.712Z"
   },
   {
    "duration": 3,
    "start_time": "2022-10-15T08:47:31.261Z"
   },
   {
    "duration": 243467,
    "start_time": "2022-10-15T08:47:31.266Z"
   },
   {
    "duration": 5,
    "start_time": "2022-10-15T08:51:34.735Z"
   },
   {
    "duration": 1691,
    "start_time": "2022-10-15T08:51:34.741Z"
   },
   {
    "duration": 112,
    "start_time": "2022-10-15T08:51:36.435Z"
   },
   {
    "duration": 10,
    "start_time": "2022-10-15T08:51:36.635Z"
   },
   {
    "duration": 103985,
    "start_time": "2022-10-15T08:51:36.648Z"
   },
   {
    "duration": 388,
    "start_time": "2022-10-15T08:53:20.635Z"
   },
   {
    "duration": 34,
    "start_time": "2022-10-15T09:01:47.273Z"
   },
   {
    "duration": 1364,
    "start_time": "2022-10-15T09:23:54.121Z"
   },
   {
    "duration": 662,
    "start_time": "2022-10-15T09:23:55.487Z"
   },
   {
    "duration": 15,
    "start_time": "2022-10-15T09:23:56.151Z"
   },
   {
    "duration": 26,
    "start_time": "2022-10-15T09:23:56.167Z"
   },
   {
    "duration": 7,
    "start_time": "2022-10-15T09:23:56.196Z"
   },
   {
    "duration": 94,
    "start_time": "2022-10-15T09:23:56.205Z"
   },
   {
    "duration": 46,
    "start_time": "2022-10-15T09:23:56.301Z"
   },
   {
    "duration": 89,
    "start_time": "2022-10-15T09:23:56.349Z"
   },
   {
    "duration": 28,
    "start_time": "2022-10-15T09:23:56.442Z"
   },
   {
    "duration": 8,
    "start_time": "2022-10-15T09:23:56.472Z"
   },
   {
    "duration": 8,
    "start_time": "2022-10-15T09:23:56.481Z"
   },
   {
    "duration": 7,
    "start_time": "2022-10-15T09:23:56.491Z"
   },
   {
    "duration": 36,
    "start_time": "2022-10-15T09:23:56.500Z"
   },
   {
    "duration": 3,
    "start_time": "2022-10-15T09:23:56.539Z"
   },
   {
    "duration": 59,
    "start_time": "2022-10-15T09:23:56.544Z"
   },
   {
    "duration": 106,
    "start_time": "2022-10-15T09:23:56.604Z"
   },
   {
    "duration": 3224,
    "start_time": "2022-10-15T09:23:56.712Z"
   },
   {
    "duration": 16,
    "start_time": "2022-10-15T09:23:59.937Z"
   },
   {
    "duration": 43,
    "start_time": "2022-10-15T09:23:59.954Z"
   },
   {
    "duration": 9,
    "start_time": "2022-10-15T09:23:59.998Z"
   },
   {
    "duration": 113,
    "start_time": "2022-10-15T09:24:00.008Z"
   },
   {
    "duration": 56,
    "start_time": "2022-10-15T09:24:00.123Z"
   },
   {
    "duration": 2,
    "start_time": "2022-10-15T09:24:00.181Z"
   },
   {
    "duration": 33,
    "start_time": "2022-10-15T09:24:00.185Z"
   },
   {
    "duration": 2878,
    "start_time": "2022-10-15T09:24:00.220Z"
   },
   {
    "duration": 1055,
    "start_time": "2022-10-15T09:24:03.100Z"
   },
   {
    "duration": 1095,
    "start_time": "2022-10-15T09:24:04.157Z"
   },
   {
    "duration": 1374,
    "start_time": "2022-10-15T09:24:05.254Z"
   },
   {
    "duration": 8,
    "start_time": "2022-10-15T09:24:06.630Z"
   },
   {
    "duration": 9,
    "start_time": "2022-10-15T09:24:06.639Z"
   },
   {
    "duration": 6,
    "start_time": "2022-10-15T09:24:06.649Z"
   },
   {
    "duration": 32,
    "start_time": "2022-10-15T09:24:06.656Z"
   },
   {
    "duration": 5,
    "start_time": "2022-10-15T09:24:06.690Z"
   },
   {
    "duration": 20118,
    "start_time": "2022-10-15T09:24:06.697Z"
   },
   {
    "duration": 4,
    "start_time": "2022-10-15T09:24:26.817Z"
   },
   {
    "duration": 948592,
    "start_time": "2022-10-15T09:24:26.823Z"
   },
   {
    "duration": 4,
    "start_time": "2022-10-15T09:40:15.417Z"
   },
   {
    "duration": 127,
    "start_time": "2022-10-15T09:40:15.423Z"
   },
   {
    "duration": 0,
    "start_time": "2022-10-15T09:40:15.552Z"
   },
   {
    "duration": 0,
    "start_time": "2022-10-15T09:40:15.554Z"
   },
   {
    "duration": 0,
    "start_time": "2022-10-15T09:40:15.555Z"
   },
   {
    "duration": 0,
    "start_time": "2022-10-15T09:40:15.556Z"
   },
   {
    "duration": 0,
    "start_time": "2022-10-15T09:40:15.557Z"
   },
   {
    "duration": 0,
    "start_time": "2022-10-15T09:40:15.558Z"
   },
   {
    "duration": 0,
    "start_time": "2022-10-15T09:40:15.559Z"
   },
   {
    "duration": 0,
    "start_time": "2022-10-15T09:40:15.562Z"
   },
   {
    "duration": 0,
    "start_time": "2022-10-15T09:40:15.563Z"
   },
   {
    "duration": 0,
    "start_time": "2022-10-15T09:40:15.565Z"
   },
   {
    "duration": 0,
    "start_time": "2022-10-15T09:40:15.566Z"
   },
   {
    "duration": 0,
    "start_time": "2022-10-15T09:40:15.567Z"
   },
   {
    "duration": 0,
    "start_time": "2022-10-15T09:40:15.568Z"
   },
   {
    "duration": 0,
    "start_time": "2022-10-15T09:40:15.569Z"
   },
   {
    "duration": 0,
    "start_time": "2022-10-15T09:40:15.570Z"
   },
   {
    "duration": 0,
    "start_time": "2022-10-15T09:40:15.571Z"
   },
   {
    "duration": 0,
    "start_time": "2022-10-15T09:40:15.572Z"
   },
   {
    "duration": 1493,
    "start_time": "2022-10-15T09:41:20.146Z"
   },
   {
    "duration": 96,
    "start_time": "2022-10-15T09:41:21.641Z"
   },
   {
    "duration": 0,
    "start_time": "2022-10-15T09:41:21.740Z"
   },
   {
    "duration": 0,
    "start_time": "2022-10-15T09:41:21.745Z"
   },
   {
    "duration": 0,
    "start_time": "2022-10-15T09:41:21.749Z"
   },
   {
    "duration": 0,
    "start_time": "2022-10-15T09:41:21.751Z"
   },
   {
    "duration": 0,
    "start_time": "2022-10-15T09:41:21.753Z"
   },
   {
    "duration": 0,
    "start_time": "2022-10-15T09:41:21.834Z"
   },
   {
    "duration": 0,
    "start_time": "2022-10-15T09:41:21.835Z"
   },
   {
    "duration": 0,
    "start_time": "2022-10-15T09:41:21.837Z"
   },
   {
    "duration": 0,
    "start_time": "2022-10-15T09:41:21.838Z"
   },
   {
    "duration": 0,
    "start_time": "2022-10-15T09:41:21.840Z"
   },
   {
    "duration": 0,
    "start_time": "2022-10-15T09:41:21.842Z"
   },
   {
    "duration": 0,
    "start_time": "2022-10-15T09:41:21.843Z"
   },
   {
    "duration": 0,
    "start_time": "2022-10-15T09:41:21.845Z"
   },
   {
    "duration": 0,
    "start_time": "2022-10-15T09:41:21.847Z"
   },
   {
    "duration": 0,
    "start_time": "2022-10-15T09:41:21.848Z"
   },
   {
    "duration": 0,
    "start_time": "2022-10-15T09:41:21.850Z"
   },
   {
    "duration": 948,
    "start_time": "2022-10-15T09:41:58.587Z"
   },
   {
    "duration": 1126,
    "start_time": "2022-10-15T09:42:17.511Z"
   },
   {
    "duration": 184,
    "start_time": "2022-10-15T09:42:24.650Z"
   },
   {
    "duration": 4,
    "start_time": "2022-10-15T09:42:27.626Z"
   },
   {
    "duration": 8892,
    "start_time": "2022-10-15T09:42:40.423Z"
   },
   {
    "duration": 440,
    "start_time": "2022-10-15T09:42:49.318Z"
   },
   {
    "duration": 31261,
    "start_time": "2022-10-15T09:43:18.822Z"
   },
   {
    "duration": 4,
    "start_time": "2022-10-15T09:43:50.085Z"
   },
   {
    "duration": 1318999,
    "start_time": "2022-10-15T09:43:50.090Z"
   },
   {
    "duration": 4,
    "start_time": "2022-10-15T10:05:49.091Z"
   },
   {
    "duration": 20,
    "start_time": "2022-10-15T10:05:49.096Z"
   },
   {
    "duration": 0,
    "start_time": "2022-10-15T10:05:49.118Z"
   },
   {
    "duration": 0,
    "start_time": "2022-10-15T10:05:49.120Z"
   },
   {
    "duration": 0,
    "start_time": "2022-10-15T10:05:49.121Z"
   },
   {
    "duration": 0,
    "start_time": "2022-10-15T10:05:49.123Z"
   },
   {
    "duration": 0,
    "start_time": "2022-10-15T10:05:49.133Z"
   },
   {
    "duration": 0,
    "start_time": "2022-10-15T10:05:49.134Z"
   },
   {
    "duration": 1,
    "start_time": "2022-10-15T10:05:49.135Z"
   },
   {
    "duration": 0,
    "start_time": "2022-10-15T10:05:49.136Z"
   },
   {
    "duration": 11,
    "start_time": "2022-10-15T10:06:40.789Z"
   },
   {
    "duration": 0,
    "start_time": "2022-10-15T10:06:40.802Z"
   },
   {
    "duration": 0,
    "start_time": "2022-10-15T10:06:40.803Z"
   },
   {
    "duration": 0,
    "start_time": "2022-10-15T10:06:40.805Z"
   },
   {
    "duration": 14,
    "start_time": "2022-10-15T10:06:40.806Z"
   },
   {
    "duration": 287,
    "start_time": "2022-10-15T10:06:40.822Z"
   },
   {
    "duration": 8,
    "start_time": "2022-10-15T10:06:41.112Z"
   },
   {
    "duration": 0,
    "start_time": "2022-10-15T10:06:41.122Z"
   },
   {
    "duration": 0,
    "start_time": "2022-10-15T10:06:41.133Z"
   },
   {
    "duration": 1150,
    "start_time": "2022-10-15T10:10:13.183Z"
   },
   {
    "duration": 1139,
    "start_time": "2022-10-15T10:10:20.695Z"
   },
   {
    "duration": 1415,
    "start_time": "2022-10-15T10:10:33.619Z"
   },
   {
    "duration": 4,
    "start_time": "2022-10-15T10:10:39.158Z"
   },
   {
    "duration": 1119611,
    "start_time": "2022-10-15T10:10:42.008Z"
   },
   {
    "duration": 0,
    "start_time": "2022-10-15T10:29:21.621Z"
   },
   {
    "duration": 0,
    "start_time": "2022-10-15T10:29:21.622Z"
   },
   {
    "duration": 0,
    "start_time": "2022-10-15T10:29:21.623Z"
   },
   {
    "duration": 0,
    "start_time": "2022-10-15T10:29:21.624Z"
   },
   {
    "duration": 0,
    "start_time": "2022-10-15T10:29:21.634Z"
   },
   {
    "duration": 0,
    "start_time": "2022-10-15T10:29:21.635Z"
   },
   {
    "duration": 3,
    "start_time": "2022-10-15T10:29:25.664Z"
   },
   {
    "duration": 728,
    "start_time": "2022-10-15T10:29:28.787Z"
   },
   {
    "duration": 7,
    "start_time": "2022-10-15T10:29:32.274Z"
   },
   {
    "duration": 276,
    "start_time": "2022-10-15T10:29:33.750Z"
   },
   {
    "duration": 19,
    "start_time": "2022-10-15T10:29:45.262Z"
   },
   {
    "duration": 16,
    "start_time": "2022-10-15T10:29:58.841Z"
   },
   {
    "duration": 30194,
    "start_time": "2022-10-15T10:30:28.526Z"
   },
   {
    "duration": 11,
    "start_time": "2022-10-15T10:30:58.723Z"
   },
   {
    "duration": 27,
    "start_time": "2022-10-15T10:30:58.735Z"
   },
   {
    "duration": 0,
    "start_time": "2022-10-15T10:30:58.764Z"
   },
   {
    "duration": 0,
    "start_time": "2022-10-15T10:30:58.765Z"
   },
   {
    "duration": 0,
    "start_time": "2022-10-15T10:30:58.766Z"
   },
   {
    "duration": 410,
    "start_time": "2022-10-15T10:31:11.288Z"
   },
   {
    "duration": 31004,
    "start_time": "2022-10-15T10:31:32.151Z"
   },
   {
    "duration": 0,
    "start_time": "2022-10-15T10:32:03.174Z"
   },
   {
    "duration": 97,
    "start_time": "2022-10-15T10:32:42.913Z"
   },
   {
    "duration": 286,
    "start_time": "2022-10-15T10:32:43.214Z"
   },
   {
    "duration": 4,
    "start_time": "2022-10-15T10:32:50.869Z"
   },
   {
    "duration": 2273,
    "start_time": "2022-10-15T10:42:49.697Z"
   },
   {
    "duration": 1297,
    "start_time": "2022-10-15T10:42:51.972Z"
   },
   {
    "duration": 69,
    "start_time": "2022-10-15T10:42:53.270Z"
   },
   {
    "duration": 16,
    "start_time": "2022-10-15T10:42:53.340Z"
   },
   {
    "duration": 5,
    "start_time": "2022-10-15T10:42:53.358Z"
   },
   {
    "duration": 172,
    "start_time": "2022-10-15T10:42:53.365Z"
   },
   {
    "duration": 25,
    "start_time": "2022-10-15T10:42:53.539Z"
   },
   {
    "duration": 169,
    "start_time": "2022-10-15T10:42:53.566Z"
   },
   {
    "duration": 20,
    "start_time": "2022-10-15T10:42:53.737Z"
   },
   {
    "duration": 7,
    "start_time": "2022-10-15T10:42:53.759Z"
   },
   {
    "duration": 71,
    "start_time": "2022-10-15T10:42:53.768Z"
   },
   {
    "duration": 4,
    "start_time": "2022-10-15T10:42:53.841Z"
   },
   {
    "duration": 16,
    "start_time": "2022-10-15T10:42:53.847Z"
   },
   {
    "duration": 11,
    "start_time": "2022-10-15T10:42:53.864Z"
   },
   {
    "duration": 109,
    "start_time": "2022-10-15T10:42:53.934Z"
   },
   {
    "duration": 211,
    "start_time": "2022-10-15T10:42:54.044Z"
   },
   {
    "duration": 7016,
    "start_time": "2022-10-15T10:42:54.257Z"
   },
   {
    "duration": 76,
    "start_time": "2022-10-15T10:43:01.274Z"
   },
   {
    "duration": 105,
    "start_time": "2022-10-15T10:43:01.352Z"
   },
   {
    "duration": 10,
    "start_time": "2022-10-15T10:43:01.459Z"
   },
   {
    "duration": 264,
    "start_time": "2022-10-15T10:43:01.470Z"
   },
   {
    "duration": 101,
    "start_time": "2022-10-15T10:43:01.736Z"
   },
   {
    "duration": 16,
    "start_time": "2022-10-15T10:43:01.838Z"
   },
   {
    "duration": 9,
    "start_time": "2022-10-15T10:43:01.856Z"
   },
   {
    "duration": 5504,
    "start_time": "2022-10-15T10:43:01.866Z"
   },
   {
    "duration": 2002,
    "start_time": "2022-10-15T10:43:07.371Z"
   },
   {
    "duration": 1960,
    "start_time": "2022-10-15T10:43:09.376Z"
   },
   {
    "duration": 2205,
    "start_time": "2022-10-15T10:43:11.340Z"
   },
   {
    "duration": 8,
    "start_time": "2022-10-15T10:43:13.547Z"
   },
   {
    "duration": 4,
    "start_time": "2022-10-15T10:43:13.557Z"
   },
   {
    "duration": 71,
    "start_time": "2022-10-15T10:43:13.562Z"
   },
   {
    "duration": 99,
    "start_time": "2022-10-15T10:43:13.636Z"
   },
   {
    "duration": 5,
    "start_time": "2022-10-15T10:43:13.737Z"
   },
   {
    "duration": 16110,
    "start_time": "2022-10-15T10:43:13.744Z"
   },
   {
    "duration": 5,
    "start_time": "2022-10-15T10:43:29.856Z"
   },
   {
    "duration": 329371,
    "start_time": "2022-10-15T10:43:29.863Z"
   },
   {
    "duration": 3,
    "start_time": "2022-10-15T10:48:59.236Z"
   },
   {
    "duration": 1697,
    "start_time": "2022-10-15T10:48:59.241Z"
   },
   {
    "duration": 198,
    "start_time": "2022-10-15T10:49:00.940Z"
   },
   {
    "duration": 197,
    "start_time": "2022-10-15T10:49:01.140Z"
   },
   {
    "duration": 756739,
    "start_time": "2022-10-15T10:49:01.338Z"
   },
   {
    "duration": 300,
    "start_time": "2022-10-15T11:01:38.078Z"
   },
   {
    "duration": 0,
    "start_time": "2022-10-15T11:01:38.380Z"
   },
   {
    "duration": 0,
    "start_time": "2022-10-15T11:01:38.433Z"
   },
   {
    "duration": 0,
    "start_time": "2022-10-15T11:01:38.434Z"
   },
   {
    "duration": 0,
    "start_time": "2022-10-15T11:01:38.436Z"
   },
   {
    "duration": 0,
    "start_time": "2022-10-15T11:01:38.437Z"
   },
   {
    "duration": 0,
    "start_time": "2022-10-15T11:01:38.438Z"
   },
   {
    "duration": 0,
    "start_time": "2022-10-15T11:01:38.439Z"
   },
   {
    "duration": 0,
    "start_time": "2022-10-15T11:01:38.439Z"
   },
   {
    "duration": 0,
    "start_time": "2022-10-15T11:01:38.440Z"
   },
   {
    "duration": 0,
    "start_time": "2022-10-15T11:01:38.442Z"
   },
   {
    "duration": 0,
    "start_time": "2022-10-15T11:01:38.443Z"
   },
   {
    "duration": 1,
    "start_time": "2022-10-15T11:01:38.444Z"
   },
   {
    "duration": 0,
    "start_time": "2022-10-15T11:01:38.446Z"
   },
   {
    "duration": 23394,
    "start_time": "2022-10-15T11:02:08.364Z"
   },
   {
    "duration": 0,
    "start_time": "2022-10-15T11:02:31.763Z"
   },
   {
    "duration": 0,
    "start_time": "2022-10-15T11:02:31.765Z"
   },
   {
    "duration": 0,
    "start_time": "2022-10-15T11:02:31.766Z"
   },
   {
    "duration": 0,
    "start_time": "2022-10-15T11:02:31.768Z"
   },
   {
    "duration": 0,
    "start_time": "2022-10-15T11:02:31.769Z"
   },
   {
    "duration": 0,
    "start_time": "2022-10-15T11:02:31.770Z"
   },
   {
    "duration": 0,
    "start_time": "2022-10-15T11:02:31.772Z"
   },
   {
    "duration": 0,
    "start_time": "2022-10-15T11:02:31.834Z"
   },
   {
    "duration": 0,
    "start_time": "2022-10-15T11:02:31.836Z"
   },
   {
    "duration": 0,
    "start_time": "2022-10-15T11:02:31.837Z"
   },
   {
    "duration": 0,
    "start_time": "2022-10-15T11:02:31.838Z"
   },
   {
    "duration": 0,
    "start_time": "2022-10-15T11:02:31.839Z"
   },
   {
    "duration": 0,
    "start_time": "2022-10-15T11:02:31.841Z"
   },
   {
    "duration": 0,
    "start_time": "2022-10-15T11:02:31.844Z"
   },
   {
    "duration": 0,
    "start_time": "2022-10-15T11:02:31.845Z"
   },
   {
    "duration": 0,
    "start_time": "2022-10-15T11:02:31.846Z"
   },
   {
    "duration": 0,
    "start_time": "2022-10-15T11:02:31.847Z"
   },
   {
    "duration": 2,
    "start_time": "2022-10-15T11:02:39.862Z"
   },
   {
    "duration": 79,
    "start_time": "2022-10-15T11:02:39.866Z"
   },
   {
    "duration": 0,
    "start_time": "2022-10-15T11:02:39.948Z"
   },
   {
    "duration": 0,
    "start_time": "2022-10-15T11:02:39.950Z"
   },
   {
    "duration": 0,
    "start_time": "2022-10-15T11:02:39.952Z"
   },
   {
    "duration": 0,
    "start_time": "2022-10-15T11:02:39.953Z"
   },
   {
    "duration": 0,
    "start_time": "2022-10-15T11:02:39.955Z"
   },
   {
    "duration": 0,
    "start_time": "2022-10-15T11:02:39.956Z"
   },
   {
    "duration": 0,
    "start_time": "2022-10-15T11:02:39.958Z"
   },
   {
    "duration": 0,
    "start_time": "2022-10-15T11:02:39.959Z"
   },
   {
    "duration": 0,
    "start_time": "2022-10-15T11:02:39.961Z"
   },
   {
    "duration": 0,
    "start_time": "2022-10-15T11:02:39.962Z"
   },
   {
    "duration": 0,
    "start_time": "2022-10-15T11:02:39.965Z"
   },
   {
    "duration": 0,
    "start_time": "2022-10-15T11:02:39.965Z"
   },
   {
    "duration": 0,
    "start_time": "2022-10-15T11:02:39.968Z"
   },
   {
    "duration": 0,
    "start_time": "2022-10-15T11:02:40.034Z"
   },
   {
    "duration": 0,
    "start_time": "2022-10-15T11:02:40.036Z"
   },
   {
    "duration": 0,
    "start_time": "2022-10-15T11:02:40.038Z"
   },
   {
    "duration": 333552,
    "start_time": "2022-10-15T11:03:09.308Z"
   },
   {
    "duration": 1193,
    "start_time": "2022-10-15T11:08:42.862Z"
   },
   {
    "duration": 43016,
    "start_time": "2022-10-15T11:08:44.057Z"
   },
   {
    "duration": 62,
    "start_time": "2022-10-15T11:09:27.075Z"
   },
   {
    "duration": 1874685,
    "start_time": "2022-10-15T11:09:27.139Z"
   },
   {
    "duration": 9,
    "start_time": "2022-10-15T11:40:41.826Z"
   },
   {
    "duration": 1695,
    "start_time": "2022-10-15T11:40:41.837Z"
   },
   {
    "duration": 8,
    "start_time": "2022-10-15T11:40:43.535Z"
   },
   {
    "duration": 6,
    "start_time": "2022-10-15T11:40:43.633Z"
   },
   {
    "duration": 692,
    "start_time": "2022-10-15T11:40:43.642Z"
   },
   {
    "duration": 42,
    "start_time": "2022-10-15T11:40:44.336Z"
   },
   {
    "duration": 14,
    "start_time": "2022-10-15T11:40:44.380Z"
   },
   {
    "duration": 0,
    "start_time": "2022-10-15T11:40:44.396Z"
   },
   {
    "duration": 0,
    "start_time": "2022-10-15T11:40:44.397Z"
   },
   {
    "duration": 0,
    "start_time": "2022-10-15T11:40:44.398Z"
   },
   {
    "duration": 0,
    "start_time": "2022-10-15T11:40:44.399Z"
   },
   {
    "duration": 0,
    "start_time": "2022-10-15T11:40:44.400Z"
   },
   {
    "duration": 0,
    "start_time": "2022-10-15T11:40:44.400Z"
   },
   {
    "duration": 229,
    "start_time": "2022-10-15T11:46:33.088Z"
   },
   {
    "duration": 98,
    "start_time": "2022-10-15T11:46:46.486Z"
   },
   {
    "duration": 295,
    "start_time": "2022-10-15T11:46:46.774Z"
   },
   {
    "duration": 4,
    "start_time": "2022-10-15T11:48:13.094Z"
   },
   {
    "duration": 695,
    "start_time": "2022-10-15T11:48:13.101Z"
   },
   {
    "duration": 12,
    "start_time": "2022-10-15T11:48:13.798Z"
   },
   {
    "duration": 33,
    "start_time": "2022-10-15T11:48:13.812Z"
   },
   {
    "duration": 5,
    "start_time": "2022-10-15T11:48:13.846Z"
   },
   {
    "duration": 64,
    "start_time": "2022-10-15T11:48:13.853Z"
   },
   {
    "duration": 44,
    "start_time": "2022-10-15T11:48:13.919Z"
   },
   {
    "duration": 100,
    "start_time": "2022-10-15T11:48:13.965Z"
   },
   {
    "duration": 20,
    "start_time": "2022-10-15T11:48:14.068Z"
   },
   {
    "duration": 8,
    "start_time": "2022-10-15T11:48:14.090Z"
   },
   {
    "duration": 40,
    "start_time": "2022-10-15T11:48:14.100Z"
   },
   {
    "duration": 5,
    "start_time": "2022-10-15T11:48:14.142Z"
   },
   {
    "duration": 24,
    "start_time": "2022-10-15T11:48:14.149Z"
   },
   {
    "duration": 12,
    "start_time": "2022-10-15T11:48:14.176Z"
   },
   {
    "duration": 81,
    "start_time": "2022-10-15T11:48:14.190Z"
   },
   {
    "duration": 130,
    "start_time": "2022-10-15T11:48:14.273Z"
   },
   {
    "duration": 3467,
    "start_time": "2022-10-15T11:48:14.405Z"
   },
   {
    "duration": 21,
    "start_time": "2022-10-15T11:48:17.874Z"
   },
   {
    "duration": 56,
    "start_time": "2022-10-15T11:48:17.897Z"
   },
   {
    "duration": 8,
    "start_time": "2022-10-15T11:48:17.955Z"
   },
   {
    "duration": 118,
    "start_time": "2022-10-15T11:48:17.965Z"
   },
   {
    "duration": 61,
    "start_time": "2022-10-15T11:48:18.085Z"
   },
   {
    "duration": 18,
    "start_time": "2022-10-15T11:48:18.148Z"
   },
   {
    "duration": 17,
    "start_time": "2022-10-15T11:48:18.171Z"
   },
   {
    "duration": 3288,
    "start_time": "2022-10-15T11:48:18.190Z"
   },
   {
    "duration": 1066,
    "start_time": "2022-10-15T11:48:21.479Z"
   },
   {
    "duration": 840,
    "start_time": "2022-10-15T11:48:22.547Z"
   },
   {
    "duration": 0,
    "start_time": "2022-10-15T11:48:23.389Z"
   },
   {
    "duration": 0,
    "start_time": "2022-10-15T11:48:23.391Z"
   },
   {
    "duration": 0,
    "start_time": "2022-10-15T11:48:23.392Z"
   },
   {
    "duration": 0,
    "start_time": "2022-10-15T11:48:23.393Z"
   },
   {
    "duration": 0,
    "start_time": "2022-10-15T11:48:23.394Z"
   },
   {
    "duration": 0,
    "start_time": "2022-10-15T11:48:23.395Z"
   },
   {
    "duration": 0,
    "start_time": "2022-10-15T11:48:23.397Z"
   },
   {
    "duration": 0,
    "start_time": "2022-10-15T11:48:23.397Z"
   },
   {
    "duration": 0,
    "start_time": "2022-10-15T11:48:23.398Z"
   },
   {
    "duration": 0,
    "start_time": "2022-10-15T11:48:23.400Z"
   },
   {
    "duration": 0,
    "start_time": "2022-10-15T11:48:23.401Z"
   },
   {
    "duration": 0,
    "start_time": "2022-10-15T11:48:23.402Z"
   },
   {
    "duration": 0,
    "start_time": "2022-10-15T11:48:23.403Z"
   },
   {
    "duration": 0,
    "start_time": "2022-10-15T11:48:23.434Z"
   },
   {
    "duration": 0,
    "start_time": "2022-10-15T11:48:23.435Z"
   },
   {
    "duration": 1365,
    "start_time": "2022-10-15T11:48:26.087Z"
   },
   {
    "duration": 659,
    "start_time": "2022-10-15T11:48:27.454Z"
   },
   {
    "duration": 19,
    "start_time": "2022-10-15T11:48:28.115Z"
   },
   {
    "duration": 21,
    "start_time": "2022-10-15T11:48:28.137Z"
   },
   {
    "duration": 5,
    "start_time": "2022-10-15T11:48:28.163Z"
   },
   {
    "duration": 92,
    "start_time": "2022-10-15T11:48:28.170Z"
   },
   {
    "duration": 27,
    "start_time": "2022-10-15T11:48:28.264Z"
   },
   {
    "duration": 77,
    "start_time": "2022-10-15T11:48:28.292Z"
   },
   {
    "duration": 18,
    "start_time": "2022-10-15T11:48:28.371Z"
   },
   {
    "duration": 9,
    "start_time": "2022-10-15T11:48:28.392Z"
   },
   {
    "duration": 38,
    "start_time": "2022-10-15T11:48:28.403Z"
   },
   {
    "duration": 4,
    "start_time": "2022-10-15T11:48:28.443Z"
   },
   {
    "duration": 10,
    "start_time": "2022-10-15T11:48:28.449Z"
   },
   {
    "duration": 7,
    "start_time": "2022-10-15T11:48:28.460Z"
   },
   {
    "duration": 76,
    "start_time": "2022-10-15T11:48:28.469Z"
   },
   {
    "duration": 105,
    "start_time": "2022-10-15T11:48:28.547Z"
   },
   {
    "duration": 3249,
    "start_time": "2022-10-15T11:48:28.654Z"
   },
   {
    "duration": 16,
    "start_time": "2022-10-15T11:48:31.905Z"
   },
   {
    "duration": 49,
    "start_time": "2022-10-15T11:48:31.923Z"
   },
   {
    "duration": 9,
    "start_time": "2022-10-15T11:48:31.973Z"
   },
   {
    "duration": 119,
    "start_time": "2022-10-15T11:48:31.983Z"
   },
   {
    "duration": 53,
    "start_time": "2022-10-15T11:48:32.103Z"
   },
   {
    "duration": 16,
    "start_time": "2022-10-15T11:48:32.158Z"
   },
   {
    "duration": 10,
    "start_time": "2022-10-15T11:48:32.177Z"
   },
   {
    "duration": 3209,
    "start_time": "2022-10-15T11:48:32.189Z"
   },
   {
    "duration": 1385,
    "start_time": "2022-10-15T11:48:35.400Z"
   },
   {
    "duration": 1075,
    "start_time": "2022-10-15T11:48:36.788Z"
   },
   {
    "duration": 1309,
    "start_time": "2022-10-15T11:48:37.867Z"
   },
   {
    "duration": 8,
    "start_time": "2022-10-15T11:48:39.179Z"
   },
   {
    "duration": 11,
    "start_time": "2022-10-15T11:48:39.190Z"
   },
   {
    "duration": 7,
    "start_time": "2022-10-15T11:48:39.202Z"
   },
   {
    "duration": 52,
    "start_time": "2022-10-15T11:48:39.211Z"
   },
   {
    "duration": 7,
    "start_time": "2022-10-15T11:48:39.265Z"
   },
   {
    "duration": 7839,
    "start_time": "2022-10-15T11:48:39.274Z"
   },
   {
    "duration": 5,
    "start_time": "2022-10-15T11:48:47.114Z"
   },
   {
    "duration": 154442,
    "start_time": "2022-10-15T11:48:47.121Z"
   },
   {
    "duration": 4,
    "start_time": "2022-10-15T11:51:21.564Z"
   },
   {
    "duration": 1586,
    "start_time": "2022-10-15T11:51:21.570Z"
   },
   {
    "duration": 106,
    "start_time": "2022-10-15T11:51:23.235Z"
   },
   {
    "duration": 5,
    "start_time": "2022-10-15T11:51:23.343Z"
   },
   {
    "duration": 158944,
    "start_time": "2022-10-15T11:51:23.349Z"
   },
   {
    "duration": 474,
    "start_time": "2022-10-15T11:54:02.295Z"
   },
   {
    "duration": 19328,
    "start_time": "2022-10-15T11:54:02.770Z"
   },
   {
    "duration": 6,
    "start_time": "2022-10-15T11:54:22.100Z"
   },
   {
    "duration": 379844,
    "start_time": "2022-10-15T11:54:22.108Z"
   },
   {
    "duration": 4,
    "start_time": "2022-10-15T12:00:41.954Z"
   },
   {
    "duration": 1180,
    "start_time": "2022-10-15T12:00:41.960Z"
   },
   {
    "duration": 90,
    "start_time": "2022-10-15T12:00:43.145Z"
   },
   {
    "duration": 6,
    "start_time": "2022-10-15T12:00:43.237Z"
   },
   {
    "duration": 518,
    "start_time": "2022-10-15T12:00:43.246Z"
   },
   {
    "duration": 42,
    "start_time": "2022-10-15T12:00:43.766Z"
   },
   {
    "duration": 266,
    "start_time": "2022-10-15T12:00:43.809Z"
   },
   {
    "duration": 57,
    "start_time": "2022-10-15T12:00:44.076Z"
   },
   {
    "duration": 258,
    "start_time": "2022-10-15T12:00:44.135Z"
   },
   {
    "duration": 3,
    "start_time": "2022-10-15T12:00:44.395Z"
   },
   {
    "duration": 18,
    "start_time": "2022-10-15T12:00:44.400Z"
   },
   {
    "duration": 14,
    "start_time": "2022-10-15T12:00:44.420Z"
   },
   {
    "duration": 8,
    "start_time": "2022-10-15T12:00:44.435Z"
   },
   {
    "duration": 4,
    "start_time": "2022-10-15T12:01:18.634Z"
   },
   {
    "duration": 3,
    "start_time": "2022-10-15T12:03:03.508Z"
   },
   {
    "duration": 154,
    "start_time": "2022-10-15T12:03:07.071Z"
   },
   {
    "duration": 50,
    "start_time": "2022-10-15T12:03:19.984Z"
   },
   {
    "duration": 527,
    "start_time": "2022-10-15T12:03:22.021Z"
   },
   {
    "duration": 15,
    "start_time": "2022-10-15T12:03:39.659Z"
   },
   {
    "duration": 392,
    "start_time": "2022-10-15T12:03:41.052Z"
   },
   {
    "duration": 4,
    "start_time": "2022-10-15T12:03:44.503Z"
   },
   {
    "duration": 779512,
    "start_time": "2022-10-15T12:05:47.948Z"
   },
   {
    "duration": 4,
    "start_time": "2022-10-15T12:18:47.462Z"
   },
   {
    "duration": 1678,
    "start_time": "2022-10-15T12:18:47.468Z"
   },
   {
    "duration": 19353,
    "start_time": "2022-10-15T12:24:26.951Z"
   },
   {
    "duration": 5,
    "start_time": "2022-10-15T12:24:46.306Z"
   },
   {
    "duration": 1447,
    "start_time": "2022-10-15T12:37:20.541Z"
   },
   {
    "duration": 701,
    "start_time": "2022-10-15T12:37:21.990Z"
   },
   {
    "duration": 13,
    "start_time": "2022-10-15T12:37:22.693Z"
   },
   {
    "duration": 31,
    "start_time": "2022-10-15T12:37:22.708Z"
   },
   {
    "duration": 5,
    "start_time": "2022-10-15T12:37:22.741Z"
   },
   {
    "duration": 68,
    "start_time": "2022-10-15T12:37:22.748Z"
   },
   {
    "duration": 41,
    "start_time": "2022-10-15T12:37:22.817Z"
   },
   {
    "duration": 79,
    "start_time": "2022-10-15T12:37:22.860Z"
   },
   {
    "duration": 20,
    "start_time": "2022-10-15T12:37:22.941Z"
   },
   {
    "duration": 8,
    "start_time": "2022-10-15T12:37:22.963Z"
   },
   {
    "duration": 18,
    "start_time": "2022-10-15T12:37:22.972Z"
   },
   {
    "duration": 11,
    "start_time": "2022-10-15T12:37:22.991Z"
   },
   {
    "duration": 29,
    "start_time": "2022-10-15T12:37:23.004Z"
   },
   {
    "duration": 3,
    "start_time": "2022-10-15T12:37:23.035Z"
   },
   {
    "duration": 58,
    "start_time": "2022-10-15T12:37:23.040Z"
   },
   {
    "duration": 100,
    "start_time": "2022-10-15T12:37:23.100Z"
   },
   {
    "duration": 3294,
    "start_time": "2022-10-15T12:37:23.202Z"
   },
   {
    "duration": 14,
    "start_time": "2022-10-15T12:37:26.498Z"
   },
   {
    "duration": 53,
    "start_time": "2022-10-15T12:37:26.514Z"
   },
   {
    "duration": 8,
    "start_time": "2022-10-15T12:37:26.569Z"
   },
   {
    "duration": 115,
    "start_time": "2022-10-15T12:37:26.579Z"
   },
   {
    "duration": 59,
    "start_time": "2022-10-15T12:37:26.696Z"
   },
   {
    "duration": 17,
    "start_time": "2022-10-15T12:37:26.757Z"
   },
   {
    "duration": 9,
    "start_time": "2022-10-15T12:37:26.776Z"
   },
   {
    "duration": 2785,
    "start_time": "2022-10-15T12:37:26.786Z"
   },
   {
    "duration": 1067,
    "start_time": "2022-10-15T12:37:29.573Z"
   },
   {
    "duration": 1123,
    "start_time": "2022-10-15T12:37:30.642Z"
   },
   {
    "duration": 1325,
    "start_time": "2022-10-15T12:37:31.769Z"
   },
   {
    "duration": 8,
    "start_time": "2022-10-15T12:37:33.096Z"
   },
   {
    "duration": 4,
    "start_time": "2022-10-15T12:37:33.106Z"
   },
   {
    "duration": 2,
    "start_time": "2022-10-15T12:37:33.133Z"
   },
   {
    "duration": 41,
    "start_time": "2022-10-15T12:37:33.136Z"
   },
   {
    "duration": 5,
    "start_time": "2022-10-15T12:37:33.178Z"
   },
   {
    "duration": 7868,
    "start_time": "2022-10-15T12:37:33.185Z"
   },
   {
    "duration": 3,
    "start_time": "2022-10-15T12:37:41.055Z"
   },
   {
    "duration": 148026,
    "start_time": "2022-10-15T12:37:41.060Z"
   },
   {
    "duration": 3,
    "start_time": "2022-10-15T12:40:09.088Z"
   },
   {
    "duration": 1441,
    "start_time": "2022-10-15T12:40:09.093Z"
   },
   {
    "duration": 108,
    "start_time": "2022-10-15T12:40:10.536Z"
   },
   {
    "duration": 104,
    "start_time": "2022-10-15T12:40:10.735Z"
   },
   {
    "duration": 148527,
    "start_time": "2022-10-15T12:40:10.841Z"
   },
   {
    "duration": 474,
    "start_time": "2022-10-15T12:42:39.370Z"
   },
   {
    "duration": 19069,
    "start_time": "2022-10-15T12:42:39.845Z"
   },
   {
    "duration": 3,
    "start_time": "2022-10-15T12:42:58.916Z"
   },
   {
    "duration": 261054,
    "start_time": "2022-10-15T12:42:58.921Z"
   },
   {
    "duration": 4,
    "start_time": "2022-10-15T12:47:19.977Z"
   },
   {
    "duration": 1355,
    "start_time": "2022-10-15T12:47:19.983Z"
   },
   {
    "duration": 5,
    "start_time": "2022-10-15T12:47:21.340Z"
   },
   {
    "duration": 288,
    "start_time": "2022-10-15T12:47:21.346Z"
   },
   {
    "duration": 498,
    "start_time": "2022-10-15T12:47:21.636Z"
   },
   {
    "duration": 45,
    "start_time": "2022-10-15T12:47:22.136Z"
   },
   {
    "duration": 265,
    "start_time": "2022-10-15T12:47:22.183Z"
   },
   {
    "duration": 88,
    "start_time": "2022-10-15T12:47:22.450Z"
   },
   {
    "duration": 486,
    "start_time": "2022-10-15T12:47:22.541Z"
   },
   {
    "duration": 6,
    "start_time": "2022-10-15T12:47:23.028Z"
   },
   {
    "duration": 11,
    "start_time": "2022-10-15T12:47:23.036Z"
   },
   {
    "duration": 11,
    "start_time": "2022-10-15T12:47:23.049Z"
   },
   {
    "duration": 7,
    "start_time": "2022-10-15T12:47:23.061Z"
   },
   {
    "duration": 2006,
    "start_time": "2022-10-15T20:28:12.173Z"
   },
   {
    "duration": 1019,
    "start_time": "2022-10-15T20:28:14.181Z"
   },
   {
    "duration": 17,
    "start_time": "2022-10-15T20:28:15.202Z"
   },
   {
    "duration": 23,
    "start_time": "2022-10-15T20:28:15.221Z"
   },
   {
    "duration": 6,
    "start_time": "2022-10-15T20:28:15.245Z"
   },
   {
    "duration": 95,
    "start_time": "2022-10-15T20:28:15.252Z"
   },
   {
    "duration": 55,
    "start_time": "2022-10-15T20:28:15.349Z"
   },
   {
    "duration": 63,
    "start_time": "2022-10-15T20:28:15.406Z"
   },
   {
    "duration": 36,
    "start_time": "2022-10-15T20:28:15.471Z"
   },
   {
    "duration": 8,
    "start_time": "2022-10-15T20:28:15.648Z"
   },
   {
    "duration": 11,
    "start_time": "2022-10-15T20:28:15.996Z"
   },
   {
    "duration": 5,
    "start_time": "2022-10-15T20:28:16.698Z"
   },
   {
    "duration": 6,
    "start_time": "2022-10-15T20:28:18.252Z"
   },
   {
    "duration": 4,
    "start_time": "2022-10-15T20:28:18.437Z"
   },
   {
    "duration": 45,
    "start_time": "2022-10-15T20:28:18.611Z"
   },
   {
    "duration": 119,
    "start_time": "2022-10-15T20:28:18.782Z"
   },
   {
    "duration": 3474,
    "start_time": "2022-10-15T20:28:19.332Z"
   },
   {
    "duration": 18,
    "start_time": "2022-10-15T20:28:22.808Z"
   },
   {
    "duration": 59,
    "start_time": "2022-10-15T20:28:22.830Z"
   },
   {
    "duration": 10,
    "start_time": "2022-10-15T20:28:22.891Z"
   },
   {
    "duration": 118,
    "start_time": "2022-10-15T20:28:22.902Z"
   },
   {
    "duration": 44,
    "start_time": "2022-10-15T20:28:23.022Z"
   },
   {
    "duration": 15,
    "start_time": "2022-10-15T20:28:23.089Z"
   },
   {
    "duration": 26,
    "start_time": "2022-10-15T20:28:23.105Z"
   },
   {
    "duration": 3053,
    "start_time": "2022-10-15T20:28:24.403Z"
   },
   {
    "duration": 1272,
    "start_time": "2022-10-15T20:28:27.458Z"
   },
   {
    "duration": 1136,
    "start_time": "2022-10-15T20:28:28.732Z"
   },
   {
    "duration": 1559,
    "start_time": "2022-10-15T20:28:29.870Z"
   },
   {
    "duration": 8,
    "start_time": "2022-10-15T20:28:31.431Z"
   },
   {
    "duration": 8,
    "start_time": "2022-10-15T20:28:31.440Z"
   },
   {
    "duration": 13,
    "start_time": "2022-10-15T20:28:31.451Z"
   },
   {
    "duration": 39,
    "start_time": "2022-10-15T20:28:34.261Z"
   },
   {
    "duration": 13,
    "start_time": "2022-10-15T20:29:41.135Z"
   }
  ],
  "kernelspec": {
   "display_name": "Python 3 (ipykernel)",
   "language": "python",
   "name": "python3"
  },
  "language_info": {
   "codemirror_mode": {
    "name": "ipython",
    "version": 3
   },
   "file_extension": ".py",
   "mimetype": "text/x-python",
   "name": "python",
   "nbconvert_exporter": "python",
   "pygments_lexer": "ipython3",
   "version": "3.9.12"
  },
  "toc": {
   "base_numbering": 1,
   "nav_menu": {},
   "number_sections": true,
   "sideBar": true,
   "skip_h1_title": true,
   "title_cell": "Содержание",
   "title_sidebar": "Contents",
   "toc_cell": true,
   "toc_position": {
    "height": "calc(100% - 180px)",
    "left": "10px",
    "top": "150px",
    "width": "366.188px"
   },
   "toc_section_display": true,
   "toc_window_display": true
  }
 },
 "nbformat": 4,
 "nbformat_minor": 2
}
