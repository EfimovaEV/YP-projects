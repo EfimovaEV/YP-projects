{
 "cells": [
  {
   "cell_type": "markdown",
   "metadata": {},
   "source": [
    "#  Прогнозирование заказов такси"
   ]
  },
  {
   "cell_type": "markdown",
   "metadata": {},
   "source": [
    "Компания такси собрала исторические данные о заказах в аэропортах. Чтобы привлекать больше водителей в период пиковой нагрузки, нужно спрогнозировать количество заказов на следующий час. Постройте модель для такого предсказания.\n",
    "\n",
    "Значение метрики *RMSE* на тестовой выборке должно быть не больше 48."
   ]
  },
  {
   "cell_type": "markdown",
   "metadata": {
    "toc": true
   },
   "source": [
    "<h1>Содержание<span class=\"tocSkip\"></span></h1>\n",
    "<div class=\"toc\"><ul class=\"toc-item\"><li><span><a href=\"#Подготовка\" data-toc-modified-id=\"Подготовка-1\"><span class=\"toc-item-num\">1&nbsp;&nbsp;</span>Подготовка</a></span></li><li><span><a href=\"#Анализ\" data-toc-modified-id=\"Анализ-2\"><span class=\"toc-item-num\">2&nbsp;&nbsp;</span>Анализ</a></span><ul class=\"toc-item\"><li><span><a href=\"#Исследование-заказов-в-течение-дня\" data-toc-modified-id=\"Исследование-заказов-в-течение-дня-2.1\"><span class=\"toc-item-num\">2.1&nbsp;&nbsp;</span>Исследование заказов в течение дня</a></span></li><li><span><a href=\"#Исследование-заказов-в-течение-недели\" data-toc-modified-id=\"Исследование-заказов-в-течение-недели-2.2\"><span class=\"toc-item-num\">2.2&nbsp;&nbsp;</span>Исследование заказов в течение недели</a></span></li></ul></li><li><span><a href=\"#Обучение\" data-toc-modified-id=\"Обучение-3\"><span class=\"toc-item-num\">3&nbsp;&nbsp;</span>Обучение</a></span><ul class=\"toc-item\"><li><span><a href=\"#Подготовка-признаков\" data-toc-modified-id=\"Подготовка-признаков-3.1\"><span class=\"toc-item-num\">3.1&nbsp;&nbsp;</span>Подготовка признаков</a></span></li><li><span><a href=\"#Обучение-моделей\" data-toc-modified-id=\"Обучение-моделей-3.2\"><span class=\"toc-item-num\">3.2&nbsp;&nbsp;</span>Обучение моделей</a></span><ul class=\"toc-item\"><li><span><a href=\"#Модель-обучающего-дерева\" data-toc-modified-id=\"Модель-обучающего-дерева-3.2.1\"><span class=\"toc-item-num\">3.2.1&nbsp;&nbsp;</span>Модель обучающего дерева</a></span></li><li><span><a href=\"#Модель-случайного-леса\" data-toc-modified-id=\"Модель-случайного-леса-3.2.2\"><span class=\"toc-item-num\">3.2.2&nbsp;&nbsp;</span>Модель случайного леса</a></span></li><li><span><a href=\"#Модель-линейной-регресси\" data-toc-modified-id=\"Модель-линейной-регресси-3.2.3\"><span class=\"toc-item-num\">3.2.3&nbsp;&nbsp;</span>Модель линейной регресси</a></span></li></ul></li><li><span><a href=\"#Выводы\" data-toc-modified-id=\"Выводы-3.3\"><span class=\"toc-item-num\">3.3&nbsp;&nbsp;</span>Выводы</a></span></li></ul></li><li><span><a href=\"#Тестирование\" data-toc-modified-id=\"Тестирование-4\"><span class=\"toc-item-num\">4&nbsp;&nbsp;</span>Тестирование</a></span></li><li><span><a href=\"#Выводы\" data-toc-modified-id=\"Выводы-5\"><span class=\"toc-item-num\">5&nbsp;&nbsp;</span>Выводы</a></span></li></ul></div>"
   ]
  },
  {
   "cell_type": "markdown",
   "metadata": {},
   "source": [
    "## Подготовка"
   ]
  },
  {
   "cell_type": "code",
   "execution_count": 1,
   "metadata": {},
   "outputs": [],
   "source": [
    "import pandas as pd\n",
    "import numpy as np\n",
    "import matplotlib.pyplot as plt\n",
    "\n",
    "from statsmodels.tsa.seasonal import seasonal_decompose\n",
    "from statsmodels.graphics.tsaplots import plot_acf\n",
    "\n",
    "from sklearn.model_selection import GridSearchCV, TimeSeriesSplit, train_test_split\n",
    "from sklearn.utils import shuffle\n",
    "\n",
    "from sklearn.linear_model import LinearRegression\n",
    "from sklearn.ensemble import RandomForestRegressor\n",
    "from sklearn.tree import DecisionTreeRegressor\n",
    "\n",
    "from sklearn.metrics import mean_squared_error, make_scorer"
   ]
  },
  {
   "cell_type": "code",
   "execution_count": 2,
   "metadata": {},
   "outputs": [
    {
     "name": "stdout",
     "output_type": "stream",
     "text": [
      "<class 'pandas.core.frame.DataFrame'>\n",
      "DatetimeIndex: 26496 entries, 2018-03-01 00:00:00 to 2018-08-31 23:50:00\n",
      "Data columns (total 1 columns):\n",
      " #   Column      Non-Null Count  Dtype\n",
      "---  ------      --------------  -----\n",
      " 0   num_orders  26496 non-null  int64\n",
      "dtypes: int64(1)\n",
      "memory usage: 414.0 KB\n"
     ]
    }
   ],
   "source": [
    "data = pd.read_csv('datasets/taxi.csv', index_col=[0], parse_dates=[0])\n",
    "\n",
    "data.info()"
   ]
  },
  {
   "cell_type": "code",
   "execution_count": 3,
   "metadata": {
    "scrolled": true
   },
   "outputs": [
    {
     "data": {
      "text/html": [
       "<div>\n",
       "<style scoped>\n",
       "    .dataframe tbody tr th:only-of-type {\n",
       "        vertical-align: middle;\n",
       "    }\n",
       "\n",
       "    .dataframe tbody tr th {\n",
       "        vertical-align: top;\n",
       "    }\n",
       "\n",
       "    .dataframe thead th {\n",
       "        text-align: right;\n",
       "    }\n",
       "</style>\n",
       "<table border=\"1\" class=\"dataframe\">\n",
       "  <thead>\n",
       "    <tr style=\"text-align: right;\">\n",
       "      <th></th>\n",
       "      <th>num_orders</th>\n",
       "    </tr>\n",
       "    <tr>\n",
       "      <th>datetime</th>\n",
       "      <th></th>\n",
       "    </tr>\n",
       "  </thead>\n",
       "  <tbody>\n",
       "    <tr>\n",
       "      <th>2018-03-01 00:00:00</th>\n",
       "      <td>9</td>\n",
       "    </tr>\n",
       "    <tr>\n",
       "      <th>2018-03-01 00:10:00</th>\n",
       "      <td>14</td>\n",
       "    </tr>\n",
       "    <tr>\n",
       "      <th>2018-03-01 00:20:00</th>\n",
       "      <td>28</td>\n",
       "    </tr>\n",
       "    <tr>\n",
       "      <th>2018-03-01 00:30:00</th>\n",
       "      <td>20</td>\n",
       "    </tr>\n",
       "    <tr>\n",
       "      <th>2018-03-01 00:40:00</th>\n",
       "      <td>32</td>\n",
       "    </tr>\n",
       "  </tbody>\n",
       "</table>\n",
       "</div>"
      ],
      "text/plain": [
       "                     num_orders\n",
       "datetime                       \n",
       "2018-03-01 00:00:00           9\n",
       "2018-03-01 00:10:00          14\n",
       "2018-03-01 00:20:00          28\n",
       "2018-03-01 00:30:00          20\n",
       "2018-03-01 00:40:00          32"
      ]
     },
     "execution_count": 3,
     "metadata": {},
     "output_type": "execute_result"
    }
   ],
   "source": [
    "data.head()"
   ]
  },
  {
   "cell_type": "markdown",
   "metadata": {},
   "source": [
    "Выполним ресемплирование данных по одному часу:"
   ]
  },
  {
   "cell_type": "code",
   "execution_count": 4,
   "metadata": {},
   "outputs": [],
   "source": [
    "data = data.resample('1H').sum()"
   ]
  },
  {
   "cell_type": "code",
   "execution_count": 5,
   "metadata": {
    "scrolled": false
   },
   "outputs": [
    {
     "data": {
      "image/png": "[encoded data removed]",
      "text/plain": [
       "<Figure size 1080x432 with 1 Axes>"
      ]
     },
     "metadata": {
      "needs_background": "light"
     },
     "output_type": "display_data"
    }
   ],
   "source": [
    "data.plot(figsize=(15, 6))\n",
    "\n",
    "decomposed = seasonal_decompose(data['num_orders'].resample('1D').mean()) \n",
    "decomposed.trend.plot()\n",
    "None"
   ]
  },
  {
   "cell_type": "code",
   "execution_count": 6,
   "metadata": {
    "scrolled": true
   },
   "outputs": [
    {
     "name": "stdout",
     "output_type": "stream",
     "text": [
      "Данные за период 01.03-31.08 2018 года.\n"
     ]
    }
   ],
   "source": [
    "print(f'Данные за период {data.index.min().strftime(\"%d.%m\")}-{data.index.max().strftime(\"%d.%m %Y\")} года.')"
   ]
  },
  {
   "cell_type": "markdown",
   "metadata": {},
   "source": [
    "Видно, что к концу периода количество поездок и их разброс увеличивается, что может сказаться на качестве обучения."
   ]
  },
  {
   "cell_type": "markdown",
   "metadata": {},
   "source": [
    "## Анализ"
   ]
  },
  {
   "cell_type": "markdown",
   "metadata": {},
   "source": [
    "Рассмотрим тренды и сезонность для имеющихся данных."
   ]
  },
  {
   "cell_type": "code",
   "execution_count": 7,
   "metadata": {
    "scrolled": false
   },
   "outputs": [
    {
     "data": {
      "image/png": "[encoded data removed]",
      "text/plain": [
       "<Figure size 1152x720 with 3 Axes>"
      ]
     },
     "metadata": {
      "needs_background": "light"
     },
     "output_type": "display_data"
    }
   ],
   "source": [
    "fig, axs = plt.subplots(3, figsize=(16,10), sharex=False)\n",
    "axs[0].plot(decomposed.trend)\n",
    "axs[0].set_title(\"Trend\")\n",
    "\n",
    "axs[1].plot(decomposed.seasonal)\n",
    "axs[1].set_title(\"Seasonal, days\")\n",
    "\n",
    "axs[2].plot(decomposed.resid)\n",
    "axs[2].set_title(\"Residual\")\n",
    "None"
   ]
  },
  {
   "cell_type": "markdown",
   "metadata": {},
   "source": [
    "За несколько месяцев количество заказов у компании увеличилось. Это может быть как внутригодовой тренд, так и расширение компании. Так же заметна сезонность по дням. \n",
    "Исследуем подробнее особенности заказов в течение дня и недели."
   ]
  },
  {
   "cell_type": "markdown",
   "metadata": {},
   "source": [
    "### Исследование заказов в течение дня"
   ]
  },
  {
   "cell_type": "code",
   "execution_count": 8,
   "metadata": {},
   "outputs": [
    {
     "data": {
      "image/png": "[encoded data removed]",
      "text/plain": [
       "<Figure size 1080x432 with 1 Axes>"
      ]
     },
     "metadata": {
      "needs_background": "light"
     },
     "output_type": "display_data"
    }
   ],
   "source": [
    "data['hour'] = data.index.hour\n",
    "\n",
    "fig, ax = plt.subplots()\n",
    "fig.set_figheight(6)\n",
    "fig.set_figwidth(15)\n",
    "\n",
    "data.groupby('hour')['num_orders'].mean().plot(grid=True, style='-', marker='o', color='r', ax=ax)\n",
    "data.groupby('hour')['num_orders'].quantile(0.9).plot(grid=True, style='_', ax=ax)\n",
    "data.groupby('hour')['num_orders'].quantile(0.1).plot(grid=True, style='_', ax=ax)\n",
    "\n",
    "ax.set_xticks(range(24))\n",
    "ax.legend(['mean', '0.9 quantile', '0.1 quantile'])\n",
    "plt.xlabel('Время, час')\n",
    "plt.ylabel('Количество заказов')\n",
    "\n",
    "None"
   ]
  },
  {
   "cell_type": "markdown",
   "metadata": {},
   "source": [
    "На графике представлено среднее значение количества заказов от времени, а так же 0.1 и 0.9 квантили. Наибольшее количество заказов в полночь и в 16 часов, а минимум находится в периоде 5-7 часов утра. В остальное время заказы распределены относительно равномерно."
   ]
  },
  {
   "cell_type": "markdown",
   "metadata": {},
   "source": [
    "### Исследование заказов в течение недели"
   ]
  },
  {
   "cell_type": "code",
   "execution_count": 9,
   "metadata": {},
   "outputs": [
    {
     "data": {
      "image/png": "[encoded data removed]",
      "text/plain": [
       "<Figure size 720x288 with 1 Axes>"
      ]
     },
     "metadata": {
      "needs_background": "light"
     },
     "output_type": "display_data"
    }
   ],
   "source": [
    "data['weekday'] = data.index.weekday\n",
    "\n",
    "fig, ax = plt.subplots()\n",
    "fig.set_figheight(4)\n",
    "fig.set_figwidth(10)\n",
    "data.groupby('weekday')['num_orders'].mean().plot(grid=True, style='-', marker='o', color='r', ax=ax)\n",
    "data.groupby('weekday')['num_orders'].quantile(0.9).plot(grid=True, style='_', ax=ax)\n",
    "data.groupby('weekday')['num_orders'].quantile(0.1).plot(grid=True, style='_', ax=ax)\n",
    "\n",
    "plt.xticks(ticks=range(7), labels=['пн', 'вт', 'ср', 'чт', 'пт', 'сб', 'вс'])\n",
    "ax.set_ylim([0, 160])\n",
    "None"
   ]
  },
  {
   "cell_type": "markdown",
   "metadata": {},
   "source": [
    "В среднем больше всего заказов в понедельник и пятницу. Однако в целом относительная разница невелика, поэтому можно предположить, что распределения за день мало зависят от дня недели."
   ]
  },
  {
   "cell_type": "code",
   "execution_count": 10,
   "metadata": {
    "scrolled": false
   },
   "outputs": [
    {
     "data": {
      "image/png": "[encoded data removed]",
      "text/plain": [
       "<Figure size 1080x432 with 1 Axes>"
      ]
     },
     "metadata": {
      "needs_background": "light"
     },
     "output_type": "display_data"
    }
   ],
   "source": [
    "def day_plotter(data, weekday, ax, color):\n",
    "    \n",
    "    df = data.query('weekday == @weekday')\n",
    "    df.groupby('hour')['num_orders'].mean().\\\n",
    "    plot(grid=True, style='-', marker='o', ax=ax, color=color)\n",
    "    \n",
    "\n",
    "fig, ax = plt.subplots()\n",
    "fig.set_figheight(6)\n",
    "fig.set_figwidth(15)\n",
    "\n",
    "colors = ['#8a5640', '#c67c5c', '#e1b878', '#9d8054', '#d1967c', '#75ACC0', '#9ec4d2']\n",
    "for weekday in range(7):\n",
    "    day_plotter(data, weekday, ax, colors[weekday])   \n",
    "    \n",
    "\n",
    "ax.set_xticks(range(24))\n",
    "ax.legend(['пн', 'вт', 'ср', 'чт', 'пт', 'сб', 'вс'])\n",
    "\n",
    "\n",
    "plt.xlabel('Время, час')\n",
    "plt.ylabel('Количество заказов')\n",
    "None"
   ]
  },
  {
   "cell_type": "markdown",
   "metadata": {},
   "source": [
    "Есть различия в распределениях, но форма повторяет осредненную. Так же нет принципиальной разницы между выходными днями и буднями.  "
   ]
  },
  {
   "cell_type": "markdown",
   "metadata": {},
   "source": [
    "## Обучение"
   ]
  },
  {
   "cell_type": "markdown",
   "metadata": {},
   "source": [
    "### Подготовка признаков"
   ]
  },
  {
   "cell_type": "markdown",
   "metadata": {},
   "source": [
    "Введем в качестве признака значения скользящего среднего за сутки:"
   ]
  },
  {
   "cell_type": "code",
   "execution_count": 11,
   "metadata": {},
   "outputs": [],
   "source": [
    "data['rolling_mean'] = data['num_orders'].rolling(24).mean().shift(1) "
   ]
  },
  {
   "cell_type": "markdown",
   "metadata": {},
   "source": [
    "Учтем предыдущие значения временного ряда, введя столбцы со значениями предыдущих часов. Чтобы опеделить достаточное количество часов учета, найдем автокорреляцию с промежутками от 0 до 24 часов:"
   ]
  },
  {
   "cell_type": "code",
   "execution_count": 12,
   "metadata": {},
   "outputs": [
    {
     "data": {
      "image/png": "[encoded data removed]",
      "text/plain": [
       "<Figure size 432x288 with 1 Axes>"
      ]
     },
     "metadata": {
      "needs_background": "light"
     },
     "output_type": "display_data"
    }
   ],
   "source": [
    "_ = plot_acf(data['num_orders'], lags=24, auto_ylims=True)"
   ]
  },
  {
   "cell_type": "markdown",
   "metadata": {},
   "source": [
    "Видно, что за первые 5 часов значения стремительно уменьшаются. Важно отметить, что, во-первых, диаграмма почти симметрична, так как значения из суток в сутки в одно и то же время близки. Во-вторых, логично предположить, что в реальности влияние со временем уменьшается. Поэтому, несмотря на увеличение корреляции при периоде более 5 часов, ограничимся 5 предыдущими значениями."
   ]
  },
  {
   "cell_type": "code",
   "execution_count": 13,
   "metadata": {},
   "outputs": [],
   "source": [
    "for lag in range(1, 5):\n",
    "    data['lag_{}'.format(lag)] = data['num_orders'].shift(lag)"
   ]
  },
  {
   "cell_type": "markdown",
   "metadata": {},
   "source": [
    "В результате мы имеем следущие данные:\n",
    "\n",
    "**Целевой признак:**\n",
    "- `num_orders` - количество заказов\n",
    "\n",
    "**Признаки**\n",
    "- `hour` - час\n",
    "- `weekday` - день недели\n",
    "- `rolling_mean` - скользящее среднее за сутки\n",
    "- `lag_1`, `lag_2`- значения за предыдущие часы"
   ]
  },
  {
   "cell_type": "markdown",
   "metadata": {},
   "source": [
    "Из всех данных выделим для тестовой и валидационной выборок по 10% данных:"
   ]
  },
  {
   "cell_type": "code",
   "execution_count": 14,
   "metadata": {},
   "outputs": [
    {
     "name": "stdout",
     "output_type": "stream",
     "text": [
      "Обучающая выборка:\n",
      "    3508 строк\n",
      "    Данные за 02.03-26.07 2018 года\n",
      "\n",
      "Тестовая выборка:\n",
      "    884 строки\n",
      "    Данные за 26.07-31.08 2018 года\n"
     ]
    }
   ],
   "source": [
    "train, test = train_test_split(data, shuffle=False, test_size=0.2)\n",
    "train = train.dropna()\n",
    "\n",
    "features_train = train.drop('num_orders', axis=1)\n",
    "target_train = train['num_orders']\n",
    "features_train, target_train = shuffle(features_train, target_train, random_state=12345)\n",
    "features_test = test.drop('num_orders', axis=1)\n",
    "target_test = test['num_orders']\n",
    "\n",
    "print('Обучающая выборка:')\n",
    "print('   ', features_train.shape[0], 'строк')\n",
    "print(f'    Данные за {features_train.index.min().strftime(\"%d.%m\")}-\\\n",
    "{features_train.index.max().strftime(\"%d.%m %Y\")} года')\n",
    "\n",
    "print('\\nТестовая выборка:')\n",
    "print('   ', features_test.shape[0], 'строки')\n",
    "print(f'    Данные за {features_test.index.min().strftime(\"%d.%m\")}-\\\n",
    "{features_test.index.max().strftime(\"%d.%m %Y\")} года')"
   ]
  },
  {
   "cell_type": "markdown",
   "metadata": {},
   "source": [
    "### Обучение моделей"
   ]
  },
  {
   "cell_type": "code",
   "execution_count": 15,
   "metadata": {},
   "outputs": [],
   "source": [
    "def rmse_score(target, predictions):\n",
    "    return mean_squared_error(target, predictions) ** 0.5\n",
    "\n",
    "def rmse_check(rmse):\n",
    "    if rmse > 48:\n",
    "        print('Модель не удовлетворяет требованиям точности.')\n",
    "    else:\n",
    "        print('Модель удовлетворяет требованиям точности.')"
   ]
  },
  {
   "cell_type": "code",
   "execution_count": 16,
   "metadata": {},
   "outputs": [],
   "source": [
    "def train_model(model, parameters, features, target):\n",
    "    \n",
    "    tscv = TimeSeriesSplit(n_splits=4)\n",
    "    grid_search = GridSearchCV(model, parameters, cv=tscv, \n",
    "                               scoring=make_scorer(rmse_score)\n",
    "                               )\n",
    "    grid_search.fit(features, target)\n",
    "    \n",
    "    return grid_search, grid_search.best_params_, grid_search.best_score_\n",
    "\n",
    "def printer(params, rmse):\n",
    "    \n",
    "    print('Параметры модели:')\n",
    "    for key, value in params.items():\n",
    "        print(f'  {key}: {value}')\n",
    "    print('\\nRMSE = ', int(rmse))\n",
    "    rmse_check(rmse)    "
   ]
  },
  {
   "cell_type": "markdown",
   "metadata": {},
   "source": [
    "#### Модель обучающего дерева"
   ]
  },
  {
   "cell_type": "code",
   "execution_count": 17,
   "metadata": {},
   "outputs": [
    {
     "name": "stdout",
     "output_type": "stream",
     "text": [
      "Параметры модели:\n",
      "  max_depth: 17\n",
      "\n",
      "RMSE =  31\n",
      "Модель удовлетворяет требованиям точности.\n"
     ]
    }
   ],
   "source": [
    "tree_model = DecisionTreeRegressor(random_state=12345)    \n",
    "parameters = {'max_depth': list(range(2, 20))}\n",
    "\n",
    "tree_model, tree_params, tree_rmse = train_model(tree_model, parameters, features_train, target_train)\n",
    "\n",
    "printer(tree_params, tree_rmse)\n",
    "\n",
    "summary = {}\n",
    "summary['Дерево решений'] = int(tree_rmse)"
   ]
  },
  {
   "cell_type": "markdown",
   "metadata": {},
   "source": [
    "#### Модель случайного леса"
   ]
  },
  {
   "cell_type": "code",
   "execution_count": 18,
   "metadata": {},
   "outputs": [
    {
     "name": "stdout",
     "output_type": "stream",
     "text": [
      "Параметры модели:\n",
      "  max_depth: 27\n",
      "  n_estimators: 10\n",
      "\n",
      "RMSE =  24\n",
      "Модель удовлетворяет требованиям точности.\n"
     ]
    }
   ],
   "source": [
    "forest_model = RandomForestRegressor(random_state=12345)    \n",
    "parameters = {'max_depth': list(range(10, 30)),\n",
    "              'n_estimators':list(range(10, 30))\n",
    "             }\n",
    "\n",
    "forest_model, forest_params, forest_rmse = train_model(forest_model, parameters, features_train, target_train)\n",
    "\n",
    "printer(forest_params, forest_rmse)\n",
    "\n",
    "summary['Случайный лес'] = int(forest_rmse)"
   ]
  },
  {
   "cell_type": "markdown",
   "metadata": {},
   "source": [
    "#### Модель линейной регресси"
   ]
  },
  {
   "cell_type": "code",
   "execution_count": 19,
   "metadata": {},
   "outputs": [
    {
     "name": "stdout",
     "output_type": "stream",
     "text": [
      "Параметры модели:\n",
      "  fit_intercept: True\n",
      "\n",
      "RMSE =  29\n",
      "Модель удовлетворяет требованиям точности.\n"
     ]
    }
   ],
   "source": [
    "lr_model = LinearRegression()\n",
    "parameters = {'fit_intercept':[True,False]\n",
    "             }\n",
    "\n",
    "lr_model, lr_params, lr_rmse = train_model(lr_model, parameters, features_train, target_train)\n",
    "\n",
    "printer(lr_params, lr_rmse)\n",
    "\n",
    "summary['Линейная регрессия'] = int(lr_rmse)"
   ]
  },
  {
   "cell_type": "markdown",
   "metadata": {},
   "source": [
    "### Выводы"
   ]
  },
  {
   "cell_type": "markdown",
   "metadata": {},
   "source": [
    "В рамках данного этапа были созданы признаки для обучения. Данные были разделены на обучающую, валидационную и тестовую выборки. Обучены 3 модели: дерево решений, случайный лес и линейная регрессия, и для каждой из них подобраны гиперпараметры для улучшения качества предсказаний."
   ]
  },
  {
   "cell_type": "code",
   "execution_count": 20,
   "metadata": {},
   "outputs": [
    {
     "data": {
      "text/html": [
       "<div>\n",
       "<style scoped>\n",
       "    .dataframe tbody tr th:only-of-type {\n",
       "        vertical-align: middle;\n",
       "    }\n",
       "\n",
       "    .dataframe tbody tr th {\n",
       "        vertical-align: top;\n",
       "    }\n",
       "\n",
       "    .dataframe thead th {\n",
       "        text-align: right;\n",
       "    }\n",
       "</style>\n",
       "<table border=\"1\" class=\"dataframe\">\n",
       "  <thead>\n",
       "    <tr style=\"text-align: right;\">\n",
       "      <th></th>\n",
       "      <th>RMSE</th>\n",
       "    </tr>\n",
       "  </thead>\n",
       "  <tbody>\n",
       "    <tr>\n",
       "      <th>Дерево решений</th>\n",
       "      <td>31</td>\n",
       "    </tr>\n",
       "    <tr>\n",
       "      <th>Случайный лес</th>\n",
       "      <td>24</td>\n",
       "    </tr>\n",
       "    <tr>\n",
       "      <th>Линейная регрессия</th>\n",
       "      <td>29</td>\n",
       "    </tr>\n",
       "  </tbody>\n",
       "</table>\n",
       "</div>"
      ],
      "text/plain": [
       "                    RMSE\n",
       "Дерево решений        31\n",
       "Случайный лес         24\n",
       "Линейная регрессия    29"
      ]
     },
     "execution_count": 20,
     "metadata": {},
     "output_type": "execute_result"
    }
   ],
   "source": [
    "pd.DataFrame(summary.values(),\n",
    "             index=summary.keys(),\n",
    "             columns=['RMSE']\n",
    "            )"
   ]
  },
  {
   "cell_type": "markdown",
   "metadata": {},
   "source": [
    "Все модели удовлетворяют требованиям точности на валидационной выборке. Для дальнейшего тестирования используем модель с лучшим значением RMSE."
   ]
  },
  {
   "cell_type": "code",
   "execution_count": 21,
   "metadata": {},
   "outputs": [],
   "source": [
    "model = RandomForestRegressor(random_state=12345, **forest_params)\n",
    "model.fit(features_train, target_train)\n",
    "\n",
    "None"
   ]
  },
  {
   "cell_type": "markdown",
   "metadata": {},
   "source": [
    "## Тестирование"
   ]
  },
  {
   "cell_type": "code",
   "execution_count": 22,
   "metadata": {
    "scrolled": false
   },
   "outputs": [
    {
     "name": "stdout",
     "output_type": "stream",
     "text": [
      "RMSE = 43\n",
      "Модель удовлетворяет требованиям точности.\n"
     ]
    }
   ],
   "source": [
    "predictions = model.predict(features_test)\n",
    "rmse = rmse_score(target_test, predictions)\n",
    "\n",
    "print('RMSE =', int(rmse))\n",
    "rmse_check(rmse)"
   ]
  },
  {
   "cell_type": "code",
   "execution_count": 23,
   "metadata": {},
   "outputs": [
    {
     "data": {
      "image/png": "[encoded data removed]",
      "text/plain": [
       "<Figure size 1080x864 with 3 Axes>"
      ]
     },
     "metadata": {
      "needs_background": "light"
     },
     "output_type": "display_data"
    }
   ],
   "source": [
    "fig, ax = plt.subplot_mosaic([['full','full'],\n",
    "                             ['start', 'end']]\n",
    "                            )\n",
    "fig.set_figheight(12)\n",
    "fig.set_figwidth(15)\n",
    "\n",
    "def format_plot(target_test, predictions, ax):\n",
    "\n",
    "    ax.plot(target_test)\n",
    "    ax.plot(pd.Series(predictions, index=target_test.index), \n",
    "             color='r')\n",
    "    ax.legend(['target', 'predictions'])\n",
    "    ax.grid()\n",
    "    ax.set_ylim([0,400])\n",
    "    \n",
    "format_plot(target_test, predictions, ax['full'])\n",
    "format_plot(target_test[:240], predictions[:240], ax['start'])\n",
    "format_plot(target_test[-240:], predictions[-240:], ax['end'])\n",
    "fig.autofmt_xdate()\n",
    "None"
   ]
  },
  {
   "cell_type": "markdown",
   "metadata": {},
   "source": [
    "Предсказанные моделью значения, как правило, меньше, чем реальные. Так же разброс предсказанных значений меньше. Так же видно, что по мере удаления от периода, для которого проводилось обучение, качество предсказаний ухудшается."
   ]
  },
  {
   "cell_type": "markdown",
   "metadata": {},
   "source": [
    "## Выводы"
   ]
  },
  {
   "cell_type": "markdown",
   "metadata": {},
   "source": [
    "В рамках проекта была выполненанализ данных: исследованы зависимости количества заказов от времени, дня недели, определен общий тренд. На основе анализа подготовлены признаки для будущего обучения модели. \n",
    "\n",
    "В качестве потенциальных моделей рассмотрены модели решающего дерева, случайного леса и логистической регрессии. Для каждой из них были подобраны гиперпараметры для улучшения качества. \n",
    "\n",
    "На основе значений RMSE на валидационных выборках была выбрана рабочая модель. После проверки на тестовой выборке было получено значение RMSE = 43, что меньше требуемых 48."
   ]
  }
 ],
 "metadata": {
  "ExecuteTimeLog": [
   {
    "duration": 48,
    "start_time": "2022-11-26T11:24:59.706Z"
   },
   {
    "duration": 5,
    "start_time": "2022-11-26T11:25:04.585Z"
   },
   {
    "duration": 1445,
    "start_time": "2022-11-26T11:25:06.853Z"
   },
   {
    "duration": 103,
    "start_time": "2022-11-26T11:25:08.300Z"
   },
   {
    "duration": 78,
    "start_time": "2022-11-26T11:25:26.716Z"
   },
   {
    "duration": 137,
    "start_time": "2022-11-26T11:25:29.881Z"
   },
   {
    "duration": 11,
    "start_time": "2022-11-26T11:25:38.229Z"
   },
   {
    "duration": 21,
    "start_time": "2022-11-26T11:25:51.878Z"
   },
   {
    "duration": 10,
    "start_time": "2022-11-26T11:25:54.316Z"
   },
   {
    "duration": 15,
    "start_time": "2022-11-26T11:32:24.243Z"
   },
   {
    "duration": 4,
    "start_time": "2022-11-26T11:32:58.755Z"
   },
   {
    "duration": 52,
    "start_time": "2022-11-26T11:33:03.654Z"
   },
   {
    "duration": 7,
    "start_time": "2022-11-26T11:33:07.180Z"
   },
   {
    "duration": 7,
    "start_time": "2022-11-26T11:33:21.693Z"
   },
   {
    "duration": 221,
    "start_time": "2022-11-26T11:35:22.661Z"
   },
   {
    "duration": 250,
    "start_time": "2022-11-26T11:36:00.706Z"
   },
   {
    "duration": 10,
    "start_time": "2022-11-26T11:37:06.344Z"
   },
   {
    "duration": 27,
    "start_time": "2022-11-26T11:37:25.731Z"
   },
   {
    "duration": 14,
    "start_time": "2022-11-26T11:37:28.531Z"
   },
   {
    "duration": 1406,
    "start_time": "2022-11-26T11:37:51.810Z"
   },
   {
    "duration": 59,
    "start_time": "2022-11-26T11:37:53.218Z"
   },
   {
    "duration": 11,
    "start_time": "2022-11-26T11:37:53.281Z"
   },
   {
    "duration": 251,
    "start_time": "2022-11-26T11:37:53.294Z"
   },
   {
    "duration": 2,
    "start_time": "2022-11-26T11:37:53.547Z"
   },
   {
    "duration": 229,
    "start_time": "2022-11-26T11:37:53.550Z"
   },
   {
    "duration": 2,
    "start_time": "2022-11-26T11:47:11.658Z"
   },
   {
    "duration": 4,
    "start_time": "2022-11-26T11:51:34.726Z"
   },
   {
    "duration": 4,
    "start_time": "2022-11-26T11:51:43.072Z"
   },
   {
    "duration": 51,
    "start_time": "2022-11-27T09:34:15.827Z"
   },
   {
    "duration": 1576,
    "start_time": "2022-11-27T09:36:42.359Z"
   },
   {
    "duration": 118,
    "start_time": "2022-11-27T09:36:43.937Z"
   },
   {
    "duration": 9,
    "start_time": "2022-11-27T09:36:44.057Z"
   },
   {
    "duration": 6,
    "start_time": "2022-11-27T09:36:44.068Z"
   },
   {
    "duration": 9,
    "start_time": "2022-11-27T09:36:44.076Z"
   },
   {
    "duration": 5,
    "start_time": "2022-11-27T09:36:44.087Z"
   },
   {
    "duration": 399,
    "start_time": "2022-11-27T09:36:44.094Z"
   },
   {
    "duration": 3,
    "start_time": "2022-11-27T09:36:44.494Z"
   },
   {
    "duration": 169,
    "start_time": "2022-11-27T09:36:44.499Z"
   },
   {
    "duration": 0,
    "start_time": "2022-11-27T09:36:44.670Z"
   },
   {
    "duration": 16,
    "start_time": "2022-11-27T09:36:56.705Z"
   },
   {
    "duration": 445,
    "start_time": "2022-11-27T09:37:08.827Z"
   },
   {
    "duration": 379,
    "start_time": "2022-11-27T09:37:19.512Z"
   },
   {
    "duration": 365,
    "start_time": "2022-11-27T09:37:31.224Z"
   },
   {
    "duration": 481,
    "start_time": "2022-11-27T09:38:01.649Z"
   },
   {
    "duration": 11,
    "start_time": "2022-11-27T09:38:39.725Z"
   },
   {
    "duration": 345,
    "start_time": "2022-11-27T09:38:55.888Z"
   },
   {
    "duration": 136,
    "start_time": "2022-11-27T09:39:10.299Z"
   },
   {
    "duration": 129,
    "start_time": "2022-11-27T09:39:23.925Z"
   },
   {
    "duration": 374,
    "start_time": "2022-11-27T09:39:27.387Z"
   },
   {
    "duration": 331,
    "start_time": "2022-11-27T09:39:35.201Z"
   },
   {
    "duration": 388,
    "start_time": "2022-11-27T09:39:38.324Z"
   },
   {
    "duration": 481,
    "start_time": "2022-11-27T09:40:20.174Z"
   },
   {
    "duration": 125,
    "start_time": "2022-11-27T09:40:56.012Z"
   },
   {
    "duration": 499,
    "start_time": "2022-11-27T09:41:04.276Z"
   },
   {
    "duration": 4580,
    "start_time": "2022-11-27T09:41:16.423Z"
   },
   {
    "duration": 134,
    "start_time": "2022-11-27T09:41:46.989Z"
   },
   {
    "duration": 105,
    "start_time": "2022-11-27T09:42:23.900Z"
   },
   {
    "duration": 13,
    "start_time": "2022-11-27T09:43:28.949Z"
   },
   {
    "duration": 131,
    "start_time": "2022-11-27T09:44:12.513Z"
   },
   {
    "duration": 138,
    "start_time": "2022-11-27T09:44:48.839Z"
   },
   {
    "duration": 179,
    "start_time": "2022-11-27T09:46:30.327Z"
   },
   {
    "duration": 158,
    "start_time": "2022-11-27T09:46:35.939Z"
   },
   {
    "duration": 44,
    "start_time": "2022-11-27T09:47:20.403Z"
   },
   {
    "duration": 152,
    "start_time": "2022-11-27T09:47:23.389Z"
   },
   {
    "duration": 158,
    "start_time": "2022-11-27T09:47:28.827Z"
   },
   {
    "duration": 166,
    "start_time": "2022-11-27T09:47:32.614Z"
   },
   {
    "duration": 152,
    "start_time": "2022-11-27T09:47:40.214Z"
   },
   {
    "duration": 64,
    "start_time": "2022-11-27T09:49:25.066Z"
   },
   {
    "duration": 169,
    "start_time": "2022-11-27T09:49:44.853Z"
   },
   {
    "duration": 451,
    "start_time": "2022-11-27T09:49:49.677Z"
   },
   {
    "duration": 624,
    "start_time": "2022-11-27T09:50:03.802Z"
   },
   {
    "duration": 311,
    "start_time": "2022-11-27T09:50:41.815Z"
   },
   {
    "duration": 444,
    "start_time": "2022-11-27T09:50:45.615Z"
   },
   {
    "duration": 125,
    "start_time": "2022-11-27T09:52:02.791Z"
   },
   {
    "duration": 18,
    "start_time": "2022-11-27T09:52:34.142Z"
   },
   {
    "duration": 18,
    "start_time": "2022-11-27T09:52:47.704Z"
   },
   {
    "duration": 210,
    "start_time": "2022-11-27T09:53:06.441Z"
   },
   {
    "duration": 194,
    "start_time": "2022-11-27T09:53:09.553Z"
   },
   {
    "duration": 198,
    "start_time": "2022-11-27T09:53:32.691Z"
   },
   {
    "duration": 207,
    "start_time": "2022-11-27T09:54:04.304Z"
   },
   {
    "duration": 194,
    "start_time": "2022-11-27T09:54:16.241Z"
   },
   {
    "duration": 217,
    "start_time": "2022-11-27T09:55:42.755Z"
   },
   {
    "duration": 288,
    "start_time": "2022-11-27T09:55:49.355Z"
   },
   {
    "duration": 266,
    "start_time": "2022-11-27T09:56:10.604Z"
   },
   {
    "duration": 256,
    "start_time": "2022-11-27T09:58:20.256Z"
   },
   {
    "duration": 270,
    "start_time": "2022-11-27T09:59:38.081Z"
   },
   {
    "duration": 261,
    "start_time": "2022-11-27T10:00:29.333Z"
   },
   {
    "duration": 292,
    "start_time": "2022-11-27T10:00:58.644Z"
   },
   {
    "duration": 284,
    "start_time": "2022-11-27T10:01:08.693Z"
   },
   {
    "duration": 269,
    "start_time": "2022-11-27T10:01:12.030Z"
   },
   {
    "duration": 286,
    "start_time": "2022-11-27T10:01:35.445Z"
   },
   {
    "duration": 266,
    "start_time": "2022-11-27T10:01:44.994Z"
   },
   {
    "duration": 44,
    "start_time": "2022-11-27T10:08:28.647Z"
   },
   {
    "duration": 132,
    "start_time": "2022-11-27T10:08:32.997Z"
   },
   {
    "duration": 149,
    "start_time": "2022-11-27T10:08:37.421Z"
   },
   {
    "duration": 335,
    "start_time": "2022-11-27T10:09:12.373Z"
   },
   {
    "duration": 127,
    "start_time": "2022-11-27T10:09:57.247Z"
   },
   {
    "duration": 608,
    "start_time": "2022-11-27T10:10:03.686Z"
   },
   {
    "duration": 812,
    "start_time": "2022-11-27T10:10:14.522Z"
   },
   {
    "duration": 408,
    "start_time": "2022-11-27T10:10:27.147Z"
   },
   {
    "duration": 260,
    "start_time": "2022-11-27T10:10:53.947Z"
   },
   {
    "duration": 300,
    "start_time": "2022-11-27T10:11:02.823Z"
   },
   {
    "duration": 395,
    "start_time": "2022-11-27T10:11:14.298Z"
   },
   {
    "duration": 328,
    "start_time": "2022-11-27T10:11:58.336Z"
   },
   {
    "duration": 21,
    "start_time": "2022-11-27T10:12:26.335Z"
   },
   {
    "duration": 417,
    "start_time": "2022-11-27T10:12:40.248Z"
   },
   {
    "duration": 215,
    "start_time": "2022-11-27T10:12:47.635Z"
   },
   {
    "duration": 292,
    "start_time": "2022-11-27T10:13:15.199Z"
   },
   {
    "duration": 306,
    "start_time": "2022-11-27T10:13:22.061Z"
   },
   {
    "duration": 345,
    "start_time": "2022-11-27T10:19:08.663Z"
   },
   {
    "duration": 372,
    "start_time": "2022-11-27T10:19:14.862Z"
   },
   {
    "duration": 66,
    "start_time": "2022-11-27T10:19:58.575Z"
   },
   {
    "duration": 261,
    "start_time": "2022-11-27T10:20:11.338Z"
   },
   {
    "duration": 167,
    "start_time": "2022-11-27T10:20:29.626Z"
   },
   {
    "duration": 179,
    "start_time": "2022-11-27T10:20:57.463Z"
   },
   {
    "duration": 198,
    "start_time": "2022-11-27T10:21:16.851Z"
   },
   {
    "duration": 181,
    "start_time": "2022-11-27T10:22:00.176Z"
   },
   {
    "duration": 181,
    "start_time": "2022-11-27T10:22:49.614Z"
   },
   {
    "duration": 179,
    "start_time": "2022-11-27T10:23:09.114Z"
   },
   {
    "duration": 177,
    "start_time": "2022-11-27T10:23:20.463Z"
   },
   {
    "duration": 189,
    "start_time": "2022-11-27T10:29:42.640Z"
   },
   {
    "duration": 386,
    "start_time": "2022-11-27T10:30:40.092Z"
   },
   {
    "duration": 392,
    "start_time": "2022-11-27T10:30:46.953Z"
   },
   {
    "duration": 12,
    "start_time": "2022-11-27T10:44:42.392Z"
   },
   {
    "duration": 13,
    "start_time": "2022-11-27T10:44:55.882Z"
   },
   {
    "duration": 11,
    "start_time": "2022-11-27T10:45:48.007Z"
   },
   {
    "duration": 11,
    "start_time": "2022-11-27T10:46:05.222Z"
   },
   {
    "duration": 124,
    "start_time": "2022-11-27T10:46:17.232Z"
   },
   {
    "duration": 118,
    "start_time": "2022-11-27T10:46:42.194Z"
   },
   {
    "duration": 136,
    "start_time": "2022-11-27T10:46:47.569Z"
   },
   {
    "duration": 111,
    "start_time": "2022-11-27T10:47:20.695Z"
   },
   {
    "duration": 109,
    "start_time": "2022-11-27T13:32:13.159Z"
   },
   {
    "duration": 1305,
    "start_time": "2022-11-27T13:46:28.112Z"
   },
   {
    "duration": 54,
    "start_time": "2022-11-27T13:46:29.419Z"
   },
   {
    "duration": 8,
    "start_time": "2022-11-27T13:46:29.474Z"
   },
   {
    "duration": 6,
    "start_time": "2022-11-27T13:46:29.484Z"
   },
   {
    "duration": 9,
    "start_time": "2022-11-27T13:46:29.491Z"
   },
   {
    "duration": 7,
    "start_time": "2022-11-27T13:46:29.501Z"
   },
   {
    "duration": 293,
    "start_time": "2022-11-27T13:46:29.509Z"
   },
   {
    "duration": 242,
    "start_time": "2022-11-27T13:46:29.804Z"
   },
   {
    "duration": 0,
    "start_time": "2022-11-27T13:46:30.048Z"
   },
   {
    "duration": 0,
    "start_time": "2022-11-27T13:46:30.049Z"
   },
   {
    "duration": 0,
    "start_time": "2022-11-27T13:46:30.055Z"
   },
   {
    "duration": 0,
    "start_time": "2022-11-27T13:46:30.056Z"
   },
   {
    "duration": 406,
    "start_time": "2022-11-27T13:46:49.088Z"
   },
   {
    "duration": 188,
    "start_time": "2022-11-27T13:46:54.275Z"
   },
   {
    "duration": 8,
    "start_time": "2022-11-27T13:46:56.299Z"
   },
   {
    "duration": 10,
    "start_time": "2022-11-27T13:46:58.825Z"
   },
   {
    "duration": 2,
    "start_time": "2022-11-27T13:47:01.125Z"
   },
   {
    "duration": 13,
    "start_time": "2022-11-27T13:47:01.574Z"
   },
   {
    "duration": 5,
    "start_time": "2022-11-27T13:48:12.300Z"
   },
   {
    "duration": 26,
    "start_time": "2022-11-27T13:48:17.926Z"
   },
   {
    "duration": 4,
    "start_time": "2022-11-27T13:48:36.500Z"
   },
   {
    "duration": 3,
    "start_time": "2022-11-27T13:48:42.938Z"
   },
   {
    "duration": 172,
    "start_time": "2022-11-27T13:48:43.438Z"
   },
   {
    "duration": 169,
    "start_time": "2022-11-27T13:48:49.838Z"
   },
   {
    "duration": 170,
    "start_time": "2022-11-27T13:48:57.438Z"
   },
   {
    "duration": 175,
    "start_time": "2022-11-27T13:49:06.763Z"
   },
   {
    "duration": 178,
    "start_time": "2022-11-27T13:49:19.501Z"
   },
   {
    "duration": 169,
    "start_time": "2022-11-27T13:49:31.776Z"
   },
   {
    "duration": 166,
    "start_time": "2022-11-27T13:49:37.275Z"
   },
   {
    "duration": 188925,
    "start_time": "2022-11-27T13:49:59.214Z"
   },
   {
    "duration": 18,
    "start_time": "2022-11-27T13:53:08.141Z"
   },
   {
    "duration": 16,
    "start_time": "2022-11-27T13:56:28.215Z"
   },
   {
    "duration": 3,
    "start_time": "2022-11-27T13:57:04.427Z"
   },
   {
    "duration": 18,
    "start_time": "2022-11-27T13:57:08.940Z"
   },
   {
    "duration": 4,
    "start_time": "2022-11-27T13:57:48.027Z"
   },
   {
    "duration": 22,
    "start_time": "2022-11-27T13:57:57.439Z"
   },
   {
    "duration": 16,
    "start_time": "2022-11-27T13:58:11.503Z"
   },
   {
    "duration": 38,
    "start_time": "2022-11-27T13:58:47.615Z"
   },
   {
    "duration": 653,
    "start_time": "2022-11-27T13:59:56.753Z"
   },
   {
    "duration": 607,
    "start_time": "2022-11-27T14:00:17.916Z"
   },
   {
    "duration": 662,
    "start_time": "2022-11-27T14:00:25.252Z"
   },
   {
    "duration": 655,
    "start_time": "2022-11-27T14:00:40.527Z"
   },
   {
    "duration": 46,
    "start_time": "2022-11-27T14:01:43.478Z"
   },
   {
    "duration": 0,
    "start_time": "2022-11-27T14:09:42.587Z"
   },
   {
    "duration": 1,
    "start_time": "2022-11-27T14:09:42.588Z"
   },
   {
    "duration": 0,
    "start_time": "2022-11-27T14:09:42.590Z"
   },
   {
    "duration": 1368,
    "start_time": "2022-11-27T14:09:56.575Z"
   },
   {
    "duration": 61,
    "start_time": "2022-11-27T14:09:57.945Z"
   },
   {
    "duration": 11,
    "start_time": "2022-11-27T14:09:58.008Z"
   },
   {
    "duration": 25,
    "start_time": "2022-11-27T14:09:58.021Z"
   },
   {
    "duration": 31,
    "start_time": "2022-11-27T14:09:58.048Z"
   },
   {
    "duration": 35,
    "start_time": "2022-11-27T14:09:58.081Z"
   },
   {
    "duration": 323,
    "start_time": "2022-11-27T14:09:58.118Z"
   },
   {
    "duration": 3,
    "start_time": "2022-11-27T14:09:58.442Z"
   },
   {
    "duration": 386,
    "start_time": "2022-11-27T14:09:58.446Z"
   },
   {
    "duration": 289,
    "start_time": "2022-11-27T14:09:58.834Z"
   },
   {
    "duration": 124,
    "start_time": "2022-11-27T14:09:59.124Z"
   },
   {
    "duration": 11,
    "start_time": "2022-11-27T14:09:59.250Z"
   },
   {
    "duration": 9,
    "start_time": "2022-11-27T14:09:59.262Z"
   },
   {
    "duration": 39,
    "start_time": "2022-11-27T14:09:59.272Z"
   },
   {
    "duration": 12,
    "start_time": "2022-11-27T14:09:59.313Z"
   },
   {
    "duration": 118,
    "start_time": "2022-11-27T14:09:59.327Z"
   },
   {
    "duration": 0,
    "start_time": "2022-11-27T14:09:59.447Z"
   },
   {
    "duration": 0,
    "start_time": "2022-11-27T14:09:59.455Z"
   },
   {
    "duration": 3,
    "start_time": "2022-11-27T14:11:01.429Z"
   },
   {
    "duration": 5,
    "start_time": "2022-11-27T14:11:06.141Z"
   },
   {
    "duration": 14,
    "start_time": "2022-11-27T14:11:09.929Z"
   },
   {
    "duration": 4,
    "start_time": "2022-11-27T14:11:24.455Z"
   },
   {
    "duration": 19,
    "start_time": "2022-11-27T14:11:25.940Z"
   },
   {
    "duration": 15,
    "start_time": "2022-11-27T14:11:37.579Z"
   },
   {
    "duration": 5,
    "start_time": "2022-11-27T14:11:47.478Z"
   },
   {
    "duration": 1073,
    "start_time": "2022-11-27T14:11:48.054Z"
   },
   {
    "duration": 10,
    "start_time": "2022-11-27T14:12:52.817Z"
   },
   {
    "duration": 2310724,
    "start_time": "2022-11-27T14:13:11.604Z"
   },
   {
    "duration": 3,
    "start_time": "2022-11-27T14:56:31.821Z"
   },
   {
    "duration": 45,
    "start_time": "2022-11-27T14:56:45.249Z"
   },
   {
    "duration": 12,
    "start_time": "2022-11-27T14:57:15.257Z"
   },
   {
    "duration": 31,
    "start_time": "2022-11-27T14:58:23.045Z"
   },
   {
    "duration": 66,
    "start_time": "2022-11-27T14:58:29.307Z"
   },
   {
    "duration": 68,
    "start_time": "2022-11-27T14:59:06.306Z"
   },
   {
    "duration": 1335246,
    "start_time": "2022-11-27T14:59:11.527Z"
   },
   {
    "duration": 1624,
    "start_time": "2022-11-28T13:30:50.659Z"
   },
   {
    "duration": 148,
    "start_time": "2022-11-28T13:30:52.285Z"
   },
   {
    "duration": 8,
    "start_time": "2022-11-28T13:30:52.435Z"
   },
   {
    "duration": 2,
    "start_time": "2022-11-28T13:30:52.445Z"
   },
   {
    "duration": 10,
    "start_time": "2022-11-28T13:30:52.449Z"
   },
   {
    "duration": 7,
    "start_time": "2022-11-28T13:30:52.461Z"
   },
   {
    "duration": 300,
    "start_time": "2022-11-28T13:30:52.469Z"
   },
   {
    "duration": 3,
    "start_time": "2022-11-28T13:30:52.770Z"
   },
   {
    "duration": 427,
    "start_time": "2022-11-28T13:30:52.774Z"
   },
   {
    "duration": 12,
    "start_time": "2022-11-28T13:30:53.202Z"
   },
   {
    "duration": 9,
    "start_time": "2022-11-28T13:31:13.612Z"
   },
   {
    "duration": 127,
    "start_time": "2022-11-28T13:31:45.708Z"
   },
   {
    "duration": 12,
    "start_time": "2022-11-28T13:32:00.895Z"
   },
   {
    "duration": 7,
    "start_time": "2022-11-28T13:32:17.759Z"
   },
   {
    "duration": 246,
    "start_time": "2022-11-28T13:32:32.120Z"
   },
   {
    "duration": 206,
    "start_time": "2022-11-28T13:32:40.655Z"
   },
   {
    "duration": 1385,
    "start_time": "2022-11-28T13:33:32.762Z"
   },
   {
    "duration": 57,
    "start_time": "2022-11-28T13:33:34.149Z"
   },
   {
    "duration": 9,
    "start_time": "2022-11-28T13:33:34.208Z"
   },
   {
    "duration": 7,
    "start_time": "2022-11-28T13:33:34.218Z"
   },
   {
    "duration": 11,
    "start_time": "2022-11-28T13:33:34.227Z"
   },
   {
    "duration": 14,
    "start_time": "2022-11-28T13:33:34.239Z"
   },
   {
    "duration": 226,
    "start_time": "2022-11-28T13:33:34.255Z"
   },
   {
    "duration": 118,
    "start_time": "2022-11-28T13:33:43.513Z"
   },
   {
    "duration": 159,
    "start_time": "2022-11-28T13:33:47.844Z"
   },
   {
    "duration": 1621,
    "start_time": "2022-11-28T13:35:50.444Z"
   },
   {
    "duration": 68,
    "start_time": "2022-11-28T13:35:52.067Z"
   },
   {
    "duration": 9,
    "start_time": "2022-11-28T13:35:52.137Z"
   },
   {
    "duration": 17,
    "start_time": "2022-11-28T13:35:52.149Z"
   },
   {
    "duration": 10,
    "start_time": "2022-11-28T13:35:52.169Z"
   },
   {
    "duration": 320,
    "start_time": "2022-11-28T13:35:52.181Z"
   },
   {
    "duration": 3,
    "start_time": "2022-11-28T13:35:52.503Z"
   },
   {
    "duration": 457,
    "start_time": "2022-11-28T13:35:52.508Z"
   },
   {
    "duration": 7,
    "start_time": "2022-11-28T13:35:52.967Z"
   },
   {
    "duration": 277,
    "start_time": "2022-11-28T13:35:52.977Z"
   },
   {
    "duration": 125,
    "start_time": "2022-11-28T13:35:53.256Z"
   },
   {
    "duration": 10,
    "start_time": "2022-11-28T13:35:53.383Z"
   },
   {
    "duration": 1483,
    "start_time": "2022-11-28T13:36:20.413Z"
   },
   {
    "duration": 56,
    "start_time": "2022-11-28T13:36:21.898Z"
   },
   {
    "duration": 10,
    "start_time": "2022-11-28T13:36:21.956Z"
   },
   {
    "duration": 6,
    "start_time": "2022-11-28T13:36:21.968Z"
   },
   {
    "duration": 6,
    "start_time": "2022-11-28T13:36:21.977Z"
   },
   {
    "duration": 320,
    "start_time": "2022-11-28T13:36:21.985Z"
   },
   {
    "duration": 2,
    "start_time": "2022-11-28T13:36:22.307Z"
   },
   {
    "duration": 449,
    "start_time": "2022-11-28T13:36:22.311Z"
   },
   {
    "duration": 8,
    "start_time": "2022-11-28T13:36:22.762Z"
   },
   {
    "duration": 196,
    "start_time": "2022-11-28T13:36:22.772Z"
   },
   {
    "duration": 7,
    "start_time": "2022-11-28T13:36:22.970Z"
   },
   {
    "duration": 1392,
    "start_time": "2022-11-28T13:36:22.979Z"
   },
   {
    "duration": 0,
    "start_time": "2022-11-28T13:36:24.373Z"
   },
   {
    "duration": 0,
    "start_time": "2022-11-28T13:36:24.375Z"
   },
   {
    "duration": 0,
    "start_time": "2022-11-28T13:36:24.376Z"
   },
   {
    "duration": 0,
    "start_time": "2022-11-28T13:36:24.377Z"
   },
   {
    "duration": 0,
    "start_time": "2022-11-28T13:36:24.378Z"
   },
   {
    "duration": 0,
    "start_time": "2022-11-28T13:36:24.379Z"
   },
   {
    "duration": 0,
    "start_time": "2022-11-28T13:36:24.380Z"
   },
   {
    "duration": 563,
    "start_time": "2022-11-28T13:36:47.981Z"
   },
   {
    "duration": 1523,
    "start_time": "2022-11-28T13:37:05.200Z"
   },
   {
    "duration": 55,
    "start_time": "2022-11-28T13:37:06.726Z"
   },
   {
    "duration": 9,
    "start_time": "2022-11-28T13:37:06.783Z"
   },
   {
    "duration": 6,
    "start_time": "2022-11-28T13:37:06.794Z"
   },
   {
    "duration": 6,
    "start_time": "2022-11-28T13:37:06.802Z"
   },
   {
    "duration": 329,
    "start_time": "2022-11-28T13:37:06.809Z"
   },
   {
    "duration": 2,
    "start_time": "2022-11-28T13:37:07.140Z"
   },
   {
    "duration": 418,
    "start_time": "2022-11-28T13:37:07.150Z"
   },
   {
    "duration": 8,
    "start_time": "2022-11-28T13:37:07.570Z"
   },
   {
    "duration": 200,
    "start_time": "2022-11-28T13:37:07.581Z"
   },
   {
    "duration": 8,
    "start_time": "2022-11-28T13:37:07.783Z"
   },
   {
    "duration": 7,
    "start_time": "2022-11-28T13:37:07.793Z"
   },
   {
    "duration": 12,
    "start_time": "2022-11-28T13:37:07.802Z"
   },
   {
    "duration": 5,
    "start_time": "2022-11-28T13:37:07.817Z"
   },
   {
    "duration": 1194,
    "start_time": "2022-11-28T13:37:07.824Z"
   },
   {
    "duration": 2646826,
    "start_time": "2022-11-28T13:37:09.020Z"
   },
   {
    "duration": 4,
    "start_time": "2022-11-28T14:21:15.848Z"
   },
   {
    "duration": 40,
    "start_time": "2022-11-28T14:21:15.854Z"
   },
   {
    "duration": 2023186,
    "start_time": "2022-11-28T14:21:15.896Z"
   },
   {
    "duration": 15,
    "start_time": "2022-11-28T15:02:08.102Z"
   },
   {
    "duration": 1513,
    "start_time": "2022-11-28T15:08:04.968Z"
   },
   {
    "duration": 55,
    "start_time": "2022-11-28T15:08:06.483Z"
   },
   {
    "duration": 9,
    "start_time": "2022-11-28T15:08:06.540Z"
   },
   {
    "duration": 7,
    "start_time": "2022-11-28T15:08:06.551Z"
   },
   {
    "duration": 7,
    "start_time": "2022-11-28T15:08:06.560Z"
   },
   {
    "duration": 338,
    "start_time": "2022-11-28T15:08:06.569Z"
   },
   {
    "duration": 3,
    "start_time": "2022-11-28T15:08:06.908Z"
   },
   {
    "duration": 420,
    "start_time": "2022-11-28T15:08:06.913Z"
   },
   {
    "duration": 199,
    "start_time": "2022-11-28T15:08:07.335Z"
   },
   {
    "duration": 17,
    "start_time": "2022-11-28T15:08:07.537Z"
   },
   {
    "duration": 11,
    "start_time": "2022-11-28T15:08:07.556Z"
   },
   {
    "duration": 5,
    "start_time": "2022-11-28T15:08:07.571Z"
   },
   {
    "duration": 3768,
    "start_time": "2022-11-28T15:08:07.578Z"
   },
   {
    "duration": 3,
    "start_time": "2022-11-28T15:08:11.352Z"
   },
   {
    "duration": 8,
    "start_time": "2022-11-28T15:08:11.357Z"
   },
   {
    "duration": 90,
    "start_time": "2022-11-28T15:08:11.367Z"
   },
   {
    "duration": 3821412,
    "start_time": "2022-11-28T15:08:11.459Z"
   },
   {
    "duration": 22,
    "start_time": "2022-11-28T16:11:52.876Z"
   },
   {
    "duration": 1820,
    "start_time": "2022-11-28T16:12:01.369Z"
   },
   {
    "duration": 74,
    "start_time": "2022-11-28T16:12:03.192Z"
   },
   {
    "duration": 15,
    "start_time": "2022-11-28T16:12:03.272Z"
   },
   {
    "duration": 2,
    "start_time": "2022-11-28T16:12:03.290Z"
   },
   {
    "duration": 9,
    "start_time": "2022-11-28T16:12:03.295Z"
   },
   {
    "duration": 8,
    "start_time": "2022-11-28T16:12:03.306Z"
   },
   {
    "duration": 396,
    "start_time": "2022-11-28T16:12:03.317Z"
   },
   {
    "duration": 3,
    "start_time": "2022-11-28T16:12:03.715Z"
   },
   {
    "duration": 516,
    "start_time": "2022-11-28T16:12:03.720Z"
   },
   {
    "duration": 269,
    "start_time": "2022-11-28T16:12:04.240Z"
   },
   {
    "duration": 11,
    "start_time": "2022-11-28T16:12:04.511Z"
   },
   {
    "duration": 187,
    "start_time": "2022-11-28T16:12:04.524Z"
   },
   {
    "duration": 7,
    "start_time": "2022-11-28T16:12:29.945Z"
   },
   {
    "duration": 167,
    "start_time": "2022-11-28T16:12:33.800Z"
   },
   {
    "duration": 20,
    "start_time": "2022-11-28T16:13:12.383Z"
   },
   {
    "duration": 154,
    "start_time": "2022-11-28T16:13:27.347Z"
   },
   {
    "duration": 151,
    "start_time": "2022-11-28T16:13:36.490Z"
   },
   {
    "duration": 1762,
    "start_time": "2022-11-28T16:14:49.398Z"
   },
   {
    "duration": 63,
    "start_time": "2022-11-28T16:14:51.163Z"
   },
   {
    "duration": 13,
    "start_time": "2022-11-28T16:14:51.228Z"
   },
   {
    "duration": 9,
    "start_time": "2022-11-28T16:14:51.243Z"
   },
   {
    "duration": 25,
    "start_time": "2022-11-28T16:14:51.259Z"
   },
   {
    "duration": 11,
    "start_time": "2022-11-28T16:14:51.286Z"
   },
   {
    "duration": 386,
    "start_time": "2022-11-28T16:14:51.300Z"
   },
   {
    "duration": 3,
    "start_time": "2022-11-28T16:14:51.689Z"
   },
   {
    "duration": 478,
    "start_time": "2022-11-28T16:14:51.694Z"
   },
   {
    "duration": 219,
    "start_time": "2022-11-28T16:14:52.174Z"
   },
   {
    "duration": 10,
    "start_time": "2022-11-28T16:14:52.396Z"
   },
   {
    "duration": 22,
    "start_time": "2022-11-28T16:14:52.409Z"
   },
   {
    "duration": 53,
    "start_time": "2022-11-28T16:14:52.433Z"
   },
   {
    "duration": 11,
    "start_time": "2022-11-28T16:14:52.490Z"
   },
   {
    "duration": 4377,
    "start_time": "2022-11-28T16:14:52.504Z"
   },
   {
    "duration": 3,
    "start_time": "2022-11-28T16:14:56.883Z"
   },
   {
    "duration": 7,
    "start_time": "2022-11-28T16:14:56.888Z"
   },
   {
    "duration": 70,
    "start_time": "2022-11-28T16:14:56.897Z"
   },
   {
    "duration": 5,
    "start_time": "2022-11-28T16:14:56.968Z"
   },
   {
    "duration": 1905,
    "start_time": "2022-11-28T16:16:22.887Z"
   },
   {
    "duration": 66,
    "start_time": "2022-11-28T16:16:24.796Z"
   },
   {
    "duration": 17,
    "start_time": "2022-11-28T16:16:24.866Z"
   },
   {
    "duration": 19,
    "start_time": "2022-11-28T16:16:24.886Z"
   },
   {
    "duration": 12,
    "start_time": "2022-11-28T16:16:24.908Z"
   },
   {
    "duration": 9,
    "start_time": "2022-11-28T16:16:24.921Z"
   },
   {
    "duration": 466,
    "start_time": "2022-11-28T16:16:24.932Z"
   },
   {
    "duration": 3,
    "start_time": "2022-11-28T16:16:25.401Z"
   },
   {
    "duration": 583,
    "start_time": "2022-11-28T16:16:25.406Z"
   },
   {
    "duration": 247,
    "start_time": "2022-11-28T16:16:25.991Z"
   },
   {
    "duration": 8,
    "start_time": "2022-11-28T16:16:26.240Z"
   },
   {
    "duration": 40,
    "start_time": "2022-11-28T16:16:26.251Z"
   },
   {
    "duration": 20,
    "start_time": "2022-11-28T16:16:26.293Z"
   },
   {
    "duration": 7,
    "start_time": "2022-11-28T16:16:26.317Z"
   },
   {
    "duration": 5220,
    "start_time": "2022-11-28T16:16:26.327Z"
   },
   {
    "duration": 3,
    "start_time": "2022-11-28T16:16:31.551Z"
   },
   {
    "duration": 41,
    "start_time": "2022-11-28T16:16:31.559Z"
   },
   {
    "duration": 47,
    "start_time": "2022-11-28T16:16:31.602Z"
   },
   {
    "duration": 12,
    "start_time": "2022-11-28T16:16:31.653Z"
   },
   {
    "duration": 202,
    "start_time": "2022-11-28T16:16:43.800Z"
   },
   {
    "duration": 737,
    "start_time": "2022-11-28T16:18:23.142Z"
   },
   {
    "duration": 293,
    "start_time": "2022-11-28T16:27:59.905Z"
   },
   {
    "duration": 1533,
    "start_time": "2022-11-28T16:43:05.263Z"
   },
   {
    "duration": 63,
    "start_time": "2022-11-28T16:43:06.798Z"
   },
   {
    "duration": 11,
    "start_time": "2022-11-28T16:43:06.863Z"
   },
   {
    "duration": 249,
    "start_time": "2022-11-28T16:43:06.876Z"
   },
   {
    "duration": 4,
    "start_time": "2022-11-28T16:43:07.127Z"
   },
   {
    "duration": 8,
    "start_time": "2022-11-28T16:43:07.133Z"
   },
   {
    "duration": 288,
    "start_time": "2022-11-28T16:43:07.142Z"
   },
   {
    "duration": 3,
    "start_time": "2022-11-28T16:43:07.432Z"
   },
   {
    "duration": 500,
    "start_time": "2022-11-28T16:43:07.436Z"
   },
   {
    "duration": 124,
    "start_time": "2022-11-28T16:43:07.938Z"
   },
   {
    "duration": 8,
    "start_time": "2022-11-28T16:43:08.065Z"
   },
   {
    "duration": 10,
    "start_time": "2022-11-28T16:43:08.076Z"
   },
   {
    "duration": 12,
    "start_time": "2022-11-28T16:43:08.088Z"
   },
   {
    "duration": 3785,
    "start_time": "2022-11-28T16:43:08.103Z"
   },
   {
    "duration": 3,
    "start_time": "2022-11-28T16:43:11.890Z"
   },
   {
    "duration": 22,
    "start_time": "2022-11-28T16:43:11.895Z"
   },
   {
    "duration": 52,
    "start_time": "2022-11-28T16:43:11.919Z"
   },
   {
    "duration": 8,
    "start_time": "2022-11-28T16:43:11.973Z"
   },
   {
    "duration": 1523,
    "start_time": "2022-11-28T16:43:46.191Z"
   },
   {
    "duration": 63,
    "start_time": "2022-11-28T16:43:47.716Z"
   },
   {
    "duration": 18,
    "start_time": "2022-11-28T16:43:47.781Z"
   },
   {
    "duration": 296,
    "start_time": "2022-11-28T16:43:47.801Z"
   },
   {
    "duration": 5,
    "start_time": "2022-11-28T16:43:48.100Z"
   },
   {
    "duration": 5,
    "start_time": "2022-11-28T16:43:48.107Z"
   },
   {
    "duration": 311,
    "start_time": "2022-11-28T16:43:48.114Z"
   },
   {
    "duration": 3,
    "start_time": "2022-11-28T16:43:48.427Z"
   },
   {
    "duration": 504,
    "start_time": "2022-11-28T16:43:48.432Z"
   },
   {
    "duration": 135,
    "start_time": "2022-11-28T16:43:48.938Z"
   },
   {
    "duration": 9,
    "start_time": "2022-11-28T16:43:49.074Z"
   },
   {
    "duration": 15,
    "start_time": "2022-11-28T16:43:49.084Z"
   },
   {
    "duration": 5,
    "start_time": "2022-11-28T16:43:49.101Z"
   },
   {
    "duration": 4192,
    "start_time": "2022-11-28T16:43:49.109Z"
   },
   {
    "duration": 3,
    "start_time": "2022-11-28T16:43:53.302Z"
   },
   {
    "duration": 8,
    "start_time": "2022-11-28T16:43:53.306Z"
   },
   {
    "duration": 60,
    "start_time": "2022-11-28T16:43:53.316Z"
   },
   {
    "duration": 3,
    "start_time": "2022-11-28T16:43:53.377Z"
   },
   {
    "duration": 621,
    "start_time": "2022-11-28T16:44:01.081Z"
   },
   {
    "duration": 1499,
    "start_time": "2022-11-28T16:44:07.810Z"
   },
   {
    "duration": 67,
    "start_time": "2022-11-28T16:44:09.312Z"
   },
   {
    "duration": 10,
    "start_time": "2022-11-28T16:44:09.381Z"
   },
   {
    "duration": 329,
    "start_time": "2022-11-28T16:44:09.392Z"
   },
   {
    "duration": 6,
    "start_time": "2022-11-28T16:44:09.725Z"
   },
   {
    "duration": 24,
    "start_time": "2022-11-28T16:44:09.733Z"
   },
   {
    "duration": 360,
    "start_time": "2022-11-28T16:44:09.760Z"
   },
   {
    "duration": 3,
    "start_time": "2022-11-28T16:44:10.123Z"
   },
   {
    "duration": 549,
    "start_time": "2022-11-28T16:44:10.128Z"
   },
   {
    "duration": 124,
    "start_time": "2022-11-28T16:44:10.680Z"
   },
   {
    "duration": 8,
    "start_time": "2022-11-28T16:44:10.806Z"
   },
   {
    "duration": 10,
    "start_time": "2022-11-28T16:44:10.816Z"
   },
   {
    "duration": 35,
    "start_time": "2022-11-28T16:44:10.828Z"
   },
   {
    "duration": 4173,
    "start_time": "2022-11-28T16:44:10.866Z"
   },
   {
    "duration": 2,
    "start_time": "2022-11-28T16:44:15.041Z"
   },
   {
    "duration": 7,
    "start_time": "2022-11-28T16:44:15.053Z"
   },
   {
    "duration": 44,
    "start_time": "2022-11-28T16:44:15.066Z"
   },
   {
    "duration": 4,
    "start_time": "2022-11-28T16:44:15.112Z"
   },
   {
    "duration": 1539,
    "start_time": "2022-11-28T16:44:57.367Z"
   },
   {
    "duration": 64,
    "start_time": "2022-11-28T16:44:58.908Z"
   },
   {
    "duration": 9,
    "start_time": "2022-11-28T16:44:58.974Z"
   },
   {
    "duration": 314,
    "start_time": "2022-11-28T16:44:58.985Z"
   },
   {
    "duration": 4,
    "start_time": "2022-11-28T16:44:59.302Z"
   },
   {
    "duration": 7,
    "start_time": "2022-11-28T16:44:59.308Z"
   },
   {
    "duration": 314,
    "start_time": "2022-11-28T16:44:59.317Z"
   },
   {
    "duration": 3,
    "start_time": "2022-11-28T16:44:59.633Z"
   },
   {
    "duration": 603,
    "start_time": "2022-11-28T16:44:59.638Z"
   },
   {
    "duration": 125,
    "start_time": "2022-11-28T16:45:00.243Z"
   },
   {
    "duration": 9,
    "start_time": "2022-11-28T16:45:00.370Z"
   },
   {
    "duration": 12,
    "start_time": "2022-11-28T16:45:00.380Z"
   },
   {
    "duration": 15,
    "start_time": "2022-11-28T16:45:00.394Z"
   },
   {
    "duration": 4068,
    "start_time": "2022-11-28T16:45:00.412Z"
   },
   {
    "duration": 2,
    "start_time": "2022-11-28T16:45:04.482Z"
   },
   {
    "duration": 14,
    "start_time": "2022-11-28T16:45:04.486Z"
   },
   {
    "duration": 61,
    "start_time": "2022-11-28T16:45:04.502Z"
   },
   {
    "duration": 3,
    "start_time": "2022-11-28T16:45:04.565Z"
   },
   {
    "duration": 1523,
    "start_time": "2022-11-28T16:46:23.882Z"
   },
   {
    "duration": 67,
    "start_time": "2022-11-28T16:46:25.407Z"
   },
   {
    "duration": 10,
    "start_time": "2022-11-28T16:46:25.476Z"
   },
   {
    "duration": 303,
    "start_time": "2022-11-28T16:46:25.487Z"
   },
   {
    "duration": 5,
    "start_time": "2022-11-28T16:46:25.792Z"
   },
   {
    "duration": 10,
    "start_time": "2022-11-28T16:46:25.798Z"
   },
   {
    "duration": 308,
    "start_time": "2022-11-28T16:46:25.810Z"
   },
   {
    "duration": 3,
    "start_time": "2022-11-28T16:46:26.120Z"
   },
   {
    "duration": 540,
    "start_time": "2022-11-28T16:46:26.124Z"
   },
   {
    "duration": 120,
    "start_time": "2022-11-28T16:46:26.667Z"
   },
   {
    "duration": 8,
    "start_time": "2022-11-28T16:46:26.789Z"
   },
   {
    "duration": 16,
    "start_time": "2022-11-28T16:46:26.798Z"
   },
   {
    "duration": 15,
    "start_time": "2022-11-28T16:46:26.816Z"
   },
   {
    "duration": 4190,
    "start_time": "2022-11-28T16:46:26.834Z"
   },
   {
    "duration": 3,
    "start_time": "2022-11-28T16:46:31.026Z"
   },
   {
    "duration": 18,
    "start_time": "2022-11-28T16:46:31.031Z"
   },
   {
    "duration": 72,
    "start_time": "2022-11-28T16:46:31.056Z"
   },
   {
    "duration": 32,
    "start_time": "2022-11-28T16:46:31.130Z"
   },
   {
    "duration": 9,
    "start_time": "2022-11-28T16:48:13.019Z"
   },
   {
    "duration": 10,
    "start_time": "2022-11-28T16:48:26.837Z"
   },
   {
    "duration": 6,
    "start_time": "2022-11-28T16:48:42.900Z"
   },
   {
    "duration": 16,
    "start_time": "2022-11-28T16:59:22.580Z"
   },
   {
    "duration": 584,
    "start_time": "2022-11-28T17:01:07.879Z"
   },
   {
    "duration": 14,
    "start_time": "2022-11-28T17:01:11.172Z"
   },
   {
    "duration": 1516,
    "start_time": "2022-11-28T17:01:22.864Z"
   },
   {
    "duration": 56,
    "start_time": "2022-11-28T17:01:24.382Z"
   },
   {
    "duration": 10,
    "start_time": "2022-11-28T17:01:24.440Z"
   },
   {
    "duration": 276,
    "start_time": "2022-11-28T17:01:24.465Z"
   },
   {
    "duration": 13,
    "start_time": "2022-11-28T17:01:24.752Z"
   },
   {
    "duration": 6,
    "start_time": "2022-11-28T17:01:24.767Z"
   },
   {
    "duration": 8,
    "start_time": "2022-11-28T17:01:24.775Z"
   },
   {
    "duration": 320,
    "start_time": "2022-11-28T17:01:24.784Z"
   },
   {
    "duration": 3,
    "start_time": "2022-11-28T17:01:25.106Z"
   },
   {
    "duration": 537,
    "start_time": "2022-11-28T17:01:25.111Z"
   },
   {
    "duration": 129,
    "start_time": "2022-11-28T17:01:25.650Z"
   },
   {
    "duration": 8,
    "start_time": "2022-11-28T17:01:25.780Z"
   },
   {
    "duration": 9,
    "start_time": "2022-11-28T17:01:25.789Z"
   },
   {
    "duration": 5,
    "start_time": "2022-11-28T17:01:25.801Z"
   },
   {
    "duration": 4263,
    "start_time": "2022-11-28T17:01:25.808Z"
   },
   {
    "duration": 3,
    "start_time": "2022-11-28T17:01:30.073Z"
   },
   {
    "duration": 20,
    "start_time": "2022-11-28T17:01:30.077Z"
   },
   {
    "duration": 77,
    "start_time": "2022-11-28T17:01:30.099Z"
   },
   {
    "duration": 12,
    "start_time": "2022-11-28T17:01:30.177Z"
   },
   {
    "duration": 78,
    "start_time": "2022-11-28T17:01:30.191Z"
   },
   {
    "duration": 79,
    "start_time": "2022-11-28T17:01:30.271Z"
   },
   {
    "duration": 10,
    "start_time": "2022-11-28T17:01:30.353Z"
   },
   {
    "duration": 1608,
    "start_time": "2022-11-28T17:02:35.777Z"
   },
   {
    "duration": 57,
    "start_time": "2022-11-28T17:02:37.387Z"
   },
   {
    "duration": 16,
    "start_time": "2022-11-28T17:02:37.445Z"
   },
   {
    "duration": 284,
    "start_time": "2022-11-28T17:02:37.464Z"
   },
   {
    "duration": 18,
    "start_time": "2022-11-28T17:02:37.751Z"
   },
   {
    "duration": 5,
    "start_time": "2022-11-28T17:02:37.771Z"
   },
   {
    "duration": 6,
    "start_time": "2022-11-28T17:02:37.778Z"
   },
   {
    "duration": 344,
    "start_time": "2022-11-28T17:02:37.786Z"
   },
   {
    "duration": 3,
    "start_time": "2022-11-28T17:02:38.131Z"
   },
   {
    "duration": 596,
    "start_time": "2022-11-28T17:02:38.136Z"
   },
   {
    "duration": 139,
    "start_time": "2022-11-28T17:02:38.734Z"
   },
   {
    "duration": 10,
    "start_time": "2022-11-28T17:02:38.874Z"
   },
   {
    "duration": 9,
    "start_time": "2022-11-28T17:02:38.887Z"
   },
   {
    "duration": 5,
    "start_time": "2022-11-28T17:02:38.900Z"
   },
   {
    "duration": 4488,
    "start_time": "2022-11-28T17:02:38.906Z"
   },
   {
    "duration": 3,
    "start_time": "2022-11-28T17:02:43.395Z"
   },
   {
    "duration": 10,
    "start_time": "2022-11-28T17:02:43.399Z"
   },
   {
    "duration": 60,
    "start_time": "2022-11-28T17:02:43.411Z"
   },
   {
    "duration": 2,
    "start_time": "2022-11-28T17:02:43.473Z"
   },
   {
    "duration": 14,
    "start_time": "2022-11-28T17:02:43.477Z"
   },
   {
    "duration": 4258,
    "start_time": "2022-11-28T17:04:10.924Z"
   },
   {
    "duration": 223089,
    "start_time": "2022-11-28T17:06:09.425Z"
   },
   {
    "duration": 1645,
    "start_time": "2022-11-28T17:10:08.039Z"
   },
   {
    "duration": 58,
    "start_time": "2022-11-28T17:10:09.686Z"
   },
   {
    "duration": 16,
    "start_time": "2022-11-28T17:10:09.745Z"
   },
   {
    "duration": 29,
    "start_time": "2022-11-28T17:10:09.764Z"
   },
   {
    "duration": 20,
    "start_time": "2022-11-28T17:10:09.795Z"
   },
   {
    "duration": 10,
    "start_time": "2022-11-28T17:10:09.818Z"
   },
   {
    "duration": 14,
    "start_time": "2022-11-28T17:10:09.831Z"
   },
   {
    "duration": 418,
    "start_time": "2022-11-28T17:10:09.847Z"
   },
   {
    "duration": 8,
    "start_time": "2022-11-28T17:10:10.268Z"
   },
   {
    "duration": 531,
    "start_time": "2022-11-28T17:10:10.281Z"
   },
   {
    "duration": 207,
    "start_time": "2022-11-28T17:10:10.814Z"
   },
   {
    "duration": 9,
    "start_time": "2022-11-28T17:10:11.023Z"
   },
   {
    "duration": 36,
    "start_time": "2022-11-28T17:10:11.034Z"
   },
   {
    "duration": 7,
    "start_time": "2022-11-28T17:10:11.073Z"
   },
   {
    "duration": 3947,
    "start_time": "2022-11-28T17:10:11.082Z"
   },
   {
    "duration": 3,
    "start_time": "2022-11-28T17:10:15.031Z"
   },
   {
    "duration": 31,
    "start_time": "2022-11-28T17:10:15.036Z"
   },
   {
    "duration": 42,
    "start_time": "2022-11-28T17:10:15.070Z"
   },
   {
    "duration": 37,
    "start_time": "2022-11-28T17:10:15.115Z"
   },
   {
    "duration": 4245,
    "start_time": "2022-11-28T17:10:15.154Z"
   },
   {
    "duration": 1606,
    "start_time": "2022-11-28T17:10:40.804Z"
   },
   {
    "duration": 69,
    "start_time": "2022-11-28T17:10:42.412Z"
   },
   {
    "duration": 12,
    "start_time": "2022-11-28T17:10:42.483Z"
   },
   {
    "duration": 3,
    "start_time": "2022-11-28T17:10:42.498Z"
   },
   {
    "duration": 19,
    "start_time": "2022-11-28T17:10:42.504Z"
   },
   {
    "duration": 6,
    "start_time": "2022-11-28T17:10:42.525Z"
   },
   {
    "duration": 17,
    "start_time": "2022-11-28T17:10:42.555Z"
   },
   {
    "duration": 324,
    "start_time": "2022-11-28T17:10:42.574Z"
   },
   {
    "duration": 3,
    "start_time": "2022-11-28T17:10:42.900Z"
   },
   {
    "duration": 487,
    "start_time": "2022-11-28T17:10:42.906Z"
   },
   {
    "duration": 202,
    "start_time": "2022-11-28T17:10:43.394Z"
   },
   {
    "duration": 8,
    "start_time": "2022-11-28T17:10:43.598Z"
   },
   {
    "duration": 23,
    "start_time": "2022-11-28T17:10:43.608Z"
   },
   {
    "duration": 23,
    "start_time": "2022-11-28T17:10:43.633Z"
   },
   {
    "duration": 3905,
    "start_time": "2022-11-28T17:10:43.663Z"
   },
   {
    "duration": 3,
    "start_time": "2022-11-28T17:10:47.571Z"
   },
   {
    "duration": 10,
    "start_time": "2022-11-28T17:10:47.576Z"
   },
   {
    "duration": 83,
    "start_time": "2022-11-28T17:10:47.588Z"
   },
   {
    "duration": 3,
    "start_time": "2022-11-28T17:10:47.676Z"
   },
   {
    "duration": 4245,
    "start_time": "2022-11-28T17:10:47.680Z"
   },
   {
    "duration": 4056,
    "start_time": "2022-11-28T17:11:14.798Z"
   },
   {
    "duration": 3826,
    "start_time": "2022-11-28T17:11:43.243Z"
   },
   {
    "duration": 3705,
    "start_time": "2022-11-28T17:12:12.883Z"
   },
   {
    "duration": 12,
    "start_time": "2022-11-28T17:12:32.831Z"
   },
   {
    "duration": 6229,
    "start_time": "2022-11-28T18:23:16.182Z"
   },
   {
    "duration": 347595,
    "start_time": "2022-11-28T18:24:17.779Z"
   },
   {
    "duration": 117,
    "start_time": "2022-11-29T13:13:00.757Z"
   },
   {
    "duration": 1544,
    "start_time": "2022-11-29T13:13:06.559Z"
   },
   {
    "duration": 148,
    "start_time": "2022-11-29T13:13:08.105Z"
   },
   {
    "duration": 8,
    "start_time": "2022-11-29T13:13:08.255Z"
   },
   {
    "duration": 14,
    "start_time": "2022-11-29T13:13:08.265Z"
   },
   {
    "duration": 18,
    "start_time": "2022-11-29T13:13:08.280Z"
   },
   {
    "duration": 23,
    "start_time": "2022-11-29T13:13:08.300Z"
   },
   {
    "duration": 5,
    "start_time": "2022-11-29T13:13:08.325Z"
   },
   {
    "duration": 271,
    "start_time": "2022-11-29T13:13:08.332Z"
   },
   {
    "duration": 2,
    "start_time": "2022-11-29T13:13:08.605Z"
   },
   {
    "duration": 406,
    "start_time": "2022-11-29T13:13:08.609Z"
   },
   {
    "duration": 173,
    "start_time": "2022-11-29T13:13:09.017Z"
   },
   {
    "duration": 8,
    "start_time": "2022-11-29T13:13:09.191Z"
   },
   {
    "duration": 22,
    "start_time": "2022-11-29T13:13:09.200Z"
   },
   {
    "duration": 4,
    "start_time": "2022-11-29T13:13:09.224Z"
   },
   {
    "duration": 3145,
    "start_time": "2022-11-29T13:13:09.230Z"
   },
   {
    "duration": 2,
    "start_time": "2022-11-29T13:13:12.377Z"
   },
   {
    "duration": 6,
    "start_time": "2022-11-29T13:13:12.381Z"
   },
   {
    "duration": 50,
    "start_time": "2022-11-29T13:13:12.389Z"
   },
   {
    "duration": 3442829,
    "start_time": "2022-11-29T13:13:12.441Z"
   },
   {
    "duration": 4,
    "start_time": "2022-11-29T14:10:35.271Z"
   },
   {
    "duration": 16,
    "start_time": "2022-11-29T14:10:35.276Z"
   },
   {
    "duration": 3517897,
    "start_time": "2022-11-29T14:50:20.894Z"
   },
   {
    "duration": 2679203,
    "start_time": "2022-11-29T15:48:58.792Z"
   },
   {
    "duration": 64195,
    "start_time": "2022-11-29T16:33:48.313Z"
   },
   {
    "duration": 64407,
    "start_time": "2022-11-29T16:34:57.084Z"
   },
   {
    "duration": 12,
    "start_time": "2022-11-29T16:37:05.664Z"
   },
   {
    "duration": 98,
    "start_time": "2022-11-29T16:37:15.347Z"
   },
   {
    "duration": 12,
    "start_time": "2022-11-29T16:38:10.390Z"
   },
   {
    "duration": 14584,
    "start_time": "2022-11-29T16:38:11.970Z"
   },
   {
    "duration": 9,
    "start_time": "2022-11-29T16:59:38.527Z"
   },
   {
    "duration": 25,
    "start_time": "2022-11-29T17:00:30.740Z"
   },
   {
    "duration": 11,
    "start_time": "2022-11-29T17:01:59.328Z"
   },
   {
    "duration": 12,
    "start_time": "2022-11-29T17:02:25.902Z"
   },
   {
    "duration": 29,
    "start_time": "2022-11-29T17:03:04.453Z"
   },
   {
    "duration": 1456,
    "start_time": "2022-11-29T17:04:08.043Z"
   },
   {
    "duration": 54,
    "start_time": "2022-11-29T17:04:09.501Z"
   },
   {
    "duration": 9,
    "start_time": "2022-11-29T17:04:09.556Z"
   },
   {
    "duration": 268,
    "start_time": "2022-11-29T17:04:09.566Z"
   },
   {
    "duration": 11,
    "start_time": "2022-11-29T17:04:09.836Z"
   },
   {
    "duration": 12,
    "start_time": "2022-11-29T17:04:09.848Z"
   },
   {
    "duration": 10,
    "start_time": "2022-11-29T17:04:09.862Z"
   },
   {
    "duration": 272,
    "start_time": "2022-11-29T17:04:09.873Z"
   },
   {
    "duration": 3,
    "start_time": "2022-11-29T17:04:10.146Z"
   },
   {
    "duration": 493,
    "start_time": "2022-11-29T17:04:10.151Z"
   },
   {
    "duration": 109,
    "start_time": "2022-11-29T17:04:10.645Z"
   },
   {
    "duration": 7,
    "start_time": "2022-11-29T17:04:10.756Z"
   },
   {
    "duration": 14,
    "start_time": "2022-11-29T17:04:10.765Z"
   },
   {
    "duration": 5,
    "start_time": "2022-11-29T17:04:10.782Z"
   },
   {
    "duration": 3432,
    "start_time": "2022-11-29T17:04:10.789Z"
   },
   {
    "duration": 3,
    "start_time": "2022-11-29T17:04:14.224Z"
   },
   {
    "duration": 11,
    "start_time": "2022-11-29T17:04:14.229Z"
   },
   {
    "duration": 9,
    "start_time": "2022-11-29T17:04:14.242Z"
   },
   {
    "duration": 37,
    "start_time": "2022-11-29T17:04:14.253Z"
   },
   {
    "duration": 7,
    "start_time": "2022-11-29T17:04:14.291Z"
   },
   {
    "duration": 175,
    "start_time": "2022-11-29T17:04:14.300Z"
   },
   {
    "duration": 0,
    "start_time": "2022-11-29T17:04:14.477Z"
   },
   {
    "duration": 1433,
    "start_time": "2022-11-29T17:04:29.598Z"
   },
   {
    "duration": 53,
    "start_time": "2022-11-29T17:04:31.033Z"
   },
   {
    "duration": 9,
    "start_time": "2022-11-29T17:04:31.088Z"
   },
   {
    "duration": 274,
    "start_time": "2022-11-29T17:04:31.099Z"
   },
   {
    "duration": 10,
    "start_time": "2022-11-29T17:04:31.375Z"
   },
   {
    "duration": 7,
    "start_time": "2022-11-29T17:04:31.386Z"
   },
   {
    "duration": 8,
    "start_time": "2022-11-29T17:04:31.394Z"
   },
   {
    "duration": 310,
    "start_time": "2022-11-29T17:04:31.403Z"
   },
   {
    "duration": 4,
    "start_time": "2022-11-29T17:04:31.722Z"
   },
   {
    "duration": 488,
    "start_time": "2022-11-29T17:04:31.728Z"
   },
   {
    "duration": 111,
    "start_time": "2022-11-29T17:04:32.217Z"
   },
   {
    "duration": 8,
    "start_time": "2022-11-29T17:04:32.329Z"
   },
   {
    "duration": 14,
    "start_time": "2022-11-29T17:04:32.338Z"
   },
   {
    "duration": 5,
    "start_time": "2022-11-29T17:04:32.354Z"
   },
   {
    "duration": 3355,
    "start_time": "2022-11-29T17:04:32.360Z"
   },
   {
    "duration": 3,
    "start_time": "2022-11-29T17:04:35.721Z"
   },
   {
    "duration": 9,
    "start_time": "2022-11-29T17:04:35.725Z"
   },
   {
    "duration": 5,
    "start_time": "2022-11-29T17:04:35.736Z"
   },
   {
    "duration": 16,
    "start_time": "2022-11-29T17:04:35.742Z"
   },
   {
    "duration": 3,
    "start_time": "2022-11-29T17:04:35.760Z"
   },
   {
    "duration": 14,
    "start_time": "2022-11-29T17:04:35.764Z"
   },
   {
    "duration": 78,
    "start_time": "2022-11-29T17:04:35.779Z"
   },
   {
    "duration": 1471,
    "start_time": "2022-11-29T17:05:10.853Z"
   },
   {
    "duration": 297,
    "start_time": "2022-11-29T17:05:33.652Z"
   },
   {
    "duration": 1438,
    "start_time": "2022-11-29T17:05:42.253Z"
   },
   {
    "duration": 119,
    "start_time": "2022-11-29T17:06:03.840Z"
   },
   {
    "duration": 4,
    "start_time": "2022-11-29T17:06:39.615Z"
   },
   {
    "duration": 321,
    "start_time": "2022-11-29T17:07:02.153Z"
   },
   {
    "duration": 299,
    "start_time": "2022-11-29T17:07:09.753Z"
   },
   {
    "duration": 569,
    "start_time": "2022-11-29T17:07:34.490Z"
   },
   {
    "duration": 296,
    "start_time": "2022-11-29T17:07:38.891Z"
   },
   {
    "duration": 1434,
    "start_time": "2022-11-29T17:08:04.491Z"
   },
   {
    "duration": 54,
    "start_time": "2022-11-29T17:08:05.927Z"
   },
   {
    "duration": 9,
    "start_time": "2022-11-29T17:08:05.983Z"
   },
   {
    "duration": 17,
    "start_time": "2022-11-29T17:08:05.994Z"
   },
   {
    "duration": 14,
    "start_time": "2022-11-29T17:08:06.012Z"
   },
   {
    "duration": 6,
    "start_time": "2022-11-29T17:08:06.027Z"
   },
   {
    "duration": 6,
    "start_time": "2022-11-29T17:08:06.034Z"
   },
   {
    "duration": 276,
    "start_time": "2022-11-29T17:08:06.041Z"
   },
   {
    "duration": 3,
    "start_time": "2022-11-29T17:08:06.322Z"
   },
   {
    "duration": 373,
    "start_time": "2022-11-29T17:08:06.327Z"
   },
   {
    "duration": 194,
    "start_time": "2022-11-29T17:08:06.701Z"
   },
   {
    "duration": 8,
    "start_time": "2022-11-29T17:08:06.897Z"
   },
   {
    "duration": 22,
    "start_time": "2022-11-29T17:08:06.907Z"
   },
   {
    "duration": 16,
    "start_time": "2022-11-29T17:08:06.931Z"
   },
   {
    "duration": 2874,
    "start_time": "2022-11-29T17:08:06.948Z"
   },
   {
    "duration": 3,
    "start_time": "2022-11-29T17:08:09.824Z"
   },
   {
    "duration": 6,
    "start_time": "2022-11-29T17:08:09.828Z"
   },
   {
    "duration": 6,
    "start_time": "2022-11-29T17:08:09.835Z"
   },
   {
    "duration": 29,
    "start_time": "2022-11-29T17:08:09.844Z"
   },
   {
    "duration": 3,
    "start_time": "2022-11-29T17:08:09.875Z"
   },
   {
    "duration": 4,
    "start_time": "2022-11-29T17:08:09.880Z"
   },
   {
    "duration": 344,
    "start_time": "2022-11-29T17:08:09.886Z"
   },
   {
    "duration": 1406,
    "start_time": "2022-11-29T17:09:35.598Z"
   },
   {
    "duration": 54,
    "start_time": "2022-11-29T17:09:37.006Z"
   },
   {
    "duration": 10,
    "start_time": "2022-11-29T17:09:37.061Z"
   },
   {
    "duration": 16,
    "start_time": "2022-11-29T17:09:37.073Z"
   },
   {
    "duration": 15,
    "start_time": "2022-11-29T17:09:37.091Z"
   },
   {
    "duration": 4,
    "start_time": "2022-11-29T17:09:37.108Z"
   },
   {
    "duration": 10,
    "start_time": "2022-11-29T17:09:37.113Z"
   },
   {
    "duration": 272,
    "start_time": "2022-11-29T17:09:37.125Z"
   },
   {
    "duration": 3,
    "start_time": "2022-11-29T17:09:37.399Z"
   },
   {
    "duration": 388,
    "start_time": "2022-11-29T17:09:37.403Z"
   },
   {
    "duration": 178,
    "start_time": "2022-11-29T17:09:37.793Z"
   },
   {
    "duration": 7,
    "start_time": "2022-11-29T17:09:37.973Z"
   },
   {
    "duration": 15,
    "start_time": "2022-11-29T17:09:37.981Z"
   },
   {
    "duration": 5,
    "start_time": "2022-11-29T17:09:37.999Z"
   },
   {
    "duration": 3203,
    "start_time": "2022-11-29T17:09:38.005Z"
   },
   {
    "duration": 2,
    "start_time": "2022-11-29T17:09:41.209Z"
   },
   {
    "duration": 17,
    "start_time": "2022-11-29T17:09:41.213Z"
   },
   {
    "duration": 17018,
    "start_time": "2022-11-29T17:09:41.232Z"
   },
   {
    "duration": 9,
    "start_time": "2022-11-29T17:09:58.252Z"
   },
   {
    "duration": 6,
    "start_time": "2022-11-29T17:09:58.263Z"
   },
   {
    "duration": 5,
    "start_time": "2022-11-29T17:09:58.270Z"
   },
   {
    "duration": 365,
    "start_time": "2022-11-29T17:09:58.276Z"
   },
   {
    "duration": 273,
    "start_time": "2022-11-29T17:13:03.808Z"
   },
   {
    "duration": 1519,
    "start_time": "2022-11-29T17:13:55.349Z"
   },
   {
    "duration": 56,
    "start_time": "2022-11-29T17:13:56.871Z"
   },
   {
    "duration": 10,
    "start_time": "2022-11-29T17:13:56.928Z"
   },
   {
    "duration": 11,
    "start_time": "2022-11-29T17:13:56.940Z"
   },
   {
    "duration": 15,
    "start_time": "2022-11-29T17:13:56.953Z"
   },
   {
    "duration": 4,
    "start_time": "2022-11-29T17:13:56.970Z"
   },
   {
    "duration": 5,
    "start_time": "2022-11-29T17:13:56.976Z"
   },
   {
    "duration": 320,
    "start_time": "2022-11-29T17:13:56.983Z"
   },
   {
    "duration": 3,
    "start_time": "2022-11-29T17:13:57.304Z"
   },
   {
    "duration": 407,
    "start_time": "2022-11-29T17:13:57.309Z"
   },
   {
    "duration": 193,
    "start_time": "2022-11-29T17:13:57.717Z"
   },
   {
    "duration": 26,
    "start_time": "2022-11-29T17:13:57.912Z"
   },
   {
    "duration": 12,
    "start_time": "2022-11-29T17:13:57.940Z"
   },
   {
    "duration": 5,
    "start_time": "2022-11-29T17:13:57.954Z"
   },
   {
    "duration": 8987,
    "start_time": "2022-11-29T17:13:57.960Z"
   },
   {
    "duration": 2,
    "start_time": "2022-11-29T17:14:06.949Z"
   },
   {
    "duration": 21,
    "start_time": "2022-11-29T17:14:06.952Z"
   },
   {
    "duration": 46643,
    "start_time": "2022-11-29T17:14:06.975Z"
   },
   {
    "duration": 201,
    "start_time": "2022-11-29T17:14:53.620Z"
   },
   {
    "duration": 3,
    "start_time": "2022-11-29T17:14:53.823Z"
   },
   {
    "duration": 8,
    "start_time": "2022-11-29T17:14:53.828Z"
   },
   {
    "duration": 844,
    "start_time": "2022-11-29T17:14:53.837Z"
   },
   {
    "duration": 1355,
    "start_time": "2022-11-29T17:15:08.223Z"
   },
   {
    "duration": 54,
    "start_time": "2022-11-29T17:15:09.580Z"
   },
   {
    "duration": 8,
    "start_time": "2022-11-29T17:15:09.636Z"
   },
   {
    "duration": 6,
    "start_time": "2022-11-29T17:15:09.646Z"
   },
   {
    "duration": 13,
    "start_time": "2022-11-29T17:15:09.653Z"
   },
   {
    "duration": 3,
    "start_time": "2022-11-29T17:15:09.667Z"
   },
   {
    "duration": 6,
    "start_time": "2022-11-29T17:15:09.672Z"
   },
   {
    "duration": 303,
    "start_time": "2022-11-29T17:15:09.679Z"
   },
   {
    "duration": 3,
    "start_time": "2022-11-29T17:15:09.983Z"
   },
   {
    "duration": 386,
    "start_time": "2022-11-29T17:15:09.989Z"
   },
   {
    "duration": 178,
    "start_time": "2022-11-29T17:15:10.377Z"
   },
   {
    "duration": 18,
    "start_time": "2022-11-29T17:15:10.557Z"
   },
   {
    "duration": 13,
    "start_time": "2022-11-29T17:15:10.576Z"
   },
   {
    "duration": 5,
    "start_time": "2022-11-29T17:15:10.590Z"
   },
   {
    "duration": 9047,
    "start_time": "2022-11-29T17:15:10.597Z"
   },
   {
    "duration": 2,
    "start_time": "2022-11-29T17:15:19.646Z"
   },
   {
    "duration": 5,
    "start_time": "2022-11-29T17:15:19.650Z"
   },
   {
    "duration": 6,
    "start_time": "2022-11-29T17:15:19.656Z"
   },
   {
    "duration": 160,
    "start_time": "2022-11-29T17:15:19.663Z"
   },
   {
    "duration": 3,
    "start_time": "2022-11-29T17:15:19.825Z"
   },
   {
    "duration": 4,
    "start_time": "2022-11-29T17:15:19.830Z"
   },
   {
    "duration": 810,
    "start_time": "2022-11-29T17:15:19.836Z"
   },
   {
    "duration": 298548,
    "start_time": "2022-11-29T17:17:33.430Z"
   },
   {
    "duration": 1316,
    "start_time": "2022-11-29T19:01:24.234Z"
   },
   {
    "duration": 107,
    "start_time": "2022-11-29T19:02:42.856Z"
   },
   {
    "duration": 81,
    "start_time": "2022-11-29T19:02:47.293Z"
   },
   {
    "duration": 1263,
    "start_time": "2022-11-29T19:02:55.619Z"
   },
   {
    "duration": 46,
    "start_time": "2022-11-30T13:27:04.390Z"
   },
   {
    "duration": 1647,
    "start_time": "2022-11-30T13:27:21.763Z"
   },
   {
    "duration": 202,
    "start_time": "2022-11-30T13:27:23.412Z"
   },
   {
    "duration": 9,
    "start_time": "2022-11-30T13:27:23.615Z"
   },
   {
    "duration": 5,
    "start_time": "2022-11-30T13:27:23.626Z"
   },
   {
    "duration": 14,
    "start_time": "2022-11-30T13:27:23.632Z"
   },
   {
    "duration": 11,
    "start_time": "2022-11-30T13:27:23.648Z"
   },
   {
    "duration": 6,
    "start_time": "2022-11-30T13:27:23.660Z"
   },
   {
    "duration": 263,
    "start_time": "2022-11-30T13:27:23.668Z"
   },
   {
    "duration": 3,
    "start_time": "2022-11-30T13:27:23.933Z"
   },
   {
    "duration": 449,
    "start_time": "2022-11-30T13:27:23.938Z"
   },
   {
    "duration": 181,
    "start_time": "2022-11-30T13:27:24.390Z"
   },
   {
    "duration": 10,
    "start_time": "2022-11-30T13:27:24.573Z"
   },
   {
    "duration": 11,
    "start_time": "2022-11-30T13:27:24.584Z"
   },
   {
    "duration": 4,
    "start_time": "2022-11-30T13:27:24.597Z"
   },
   {
    "duration": 127,
    "start_time": "2022-11-30T13:27:24.602Z"
   },
   {
    "duration": 0,
    "start_time": "2022-11-30T13:27:24.730Z"
   },
   {
    "duration": 0,
    "start_time": "2022-11-30T13:27:24.732Z"
   },
   {
    "duration": 0,
    "start_time": "2022-11-30T13:27:24.733Z"
   },
   {
    "duration": 0,
    "start_time": "2022-11-30T13:27:24.734Z"
   },
   {
    "duration": 4,
    "start_time": "2022-11-30T13:28:24.026Z"
   },
   {
    "duration": 19,
    "start_time": "2022-11-30T13:28:24.032Z"
   },
   {
    "duration": 0,
    "start_time": "2022-11-30T13:28:24.052Z"
   },
   {
    "duration": 0,
    "start_time": "2022-11-30T13:28:24.054Z"
   },
   {
    "duration": 0,
    "start_time": "2022-11-30T13:28:24.056Z"
   },
   {
    "duration": 0,
    "start_time": "2022-11-30T13:28:24.058Z"
   },
   {
    "duration": 311,
    "start_time": "2022-11-30T13:28:44.549Z"
   },
   {
    "duration": 315,
    "start_time": "2022-11-30T13:28:49.947Z"
   },
   {
    "duration": 101082,
    "start_time": "2022-11-30T13:28:56.071Z"
   },
   {
    "duration": 12,
    "start_time": "2022-11-30T13:33:39.871Z"
   },
   {
    "duration": 13,
    "start_time": "2022-11-30T13:33:43.397Z"
   },
   {
    "duration": 7,
    "start_time": "2022-11-30T13:33:54.361Z"
   },
   {
    "duration": 11,
    "start_time": "2022-11-30T13:34:10.022Z"
   },
   {
    "duration": 6,
    "start_time": "2022-11-30T13:34:10.923Z"
   },
   {
    "duration": 473,
    "start_time": "2022-11-30T13:34:16.465Z"
   },
   {
    "duration": 433,
    "start_time": "2022-11-30T13:35:50.762Z"
   },
   {
    "duration": 409,
    "start_time": "2022-11-30T13:36:01.097Z"
   },
   {
    "duration": 556,
    "start_time": "2022-11-30T13:46:24.750Z"
   },
   {
    "duration": 646,
    "start_time": "2022-11-30T13:47:14.888Z"
   },
   {
    "duration": 488,
    "start_time": "2022-11-30T13:47:21.274Z"
   },
   {
    "duration": 1407,
    "start_time": "2022-11-30T14:13:21.695Z"
   },
   {
    "duration": 54,
    "start_time": "2022-11-30T14:13:23.104Z"
   },
   {
    "duration": 9,
    "start_time": "2022-11-30T14:13:23.159Z"
   },
   {
    "duration": 10,
    "start_time": "2022-11-30T14:13:23.169Z"
   },
   {
    "duration": 285,
    "start_time": "2022-11-30T14:13:23.181Z"
   },
   {
    "duration": 12,
    "start_time": "2022-11-30T14:13:23.468Z"
   },
   {
    "duration": 7,
    "start_time": "2022-11-30T14:13:23.481Z"
   },
   {
    "duration": 247,
    "start_time": "2022-11-30T14:13:23.489Z"
   },
   {
    "duration": 3,
    "start_time": "2022-11-30T14:13:23.737Z"
   },
   {
    "duration": 463,
    "start_time": "2022-11-30T14:13:23.741Z"
   },
   {
    "duration": 104,
    "start_time": "2022-11-30T14:13:24.206Z"
   },
   {
    "duration": 6,
    "start_time": "2022-11-30T14:13:24.312Z"
   },
   {
    "duration": 11,
    "start_time": "2022-11-30T14:13:24.319Z"
   },
   {
    "duration": 3,
    "start_time": "2022-11-30T14:13:24.332Z"
   },
   {
    "duration": 306,
    "start_time": "2022-11-30T14:13:24.337Z"
   },
   {
    "duration": 96944,
    "start_time": "2022-11-30T14:13:24.645Z"
   },
   {
    "duration": 8,
    "start_time": "2022-11-30T14:15:01.591Z"
   },
   {
    "duration": 17,
    "start_time": "2022-11-30T14:15:01.601Z"
   },
   {
    "duration": 517,
    "start_time": "2022-11-30T14:15:01.620Z"
   },
   {
    "duration": 3,
    "start_time": "2022-11-30T14:32:05.623Z"
   },
   {
    "duration": 4,
    "start_time": "2022-11-30T14:32:33.961Z"
   },
   {
    "duration": 3,
    "start_time": "2022-11-30T14:32:42.974Z"
   },
   {
    "duration": 377,
    "start_time": "2022-11-30T14:32:55.099Z"
   },
   {
    "duration": 4,
    "start_time": "2022-11-30T14:33:01.398Z"
   },
   {
    "duration": 4,
    "start_time": "2022-11-30T14:33:20.136Z"
   },
   {
    "duration": 3,
    "start_time": "2022-11-30T14:33:25.311Z"
   },
   {
    "duration": 4,
    "start_time": "2022-11-30T14:33:30.611Z"
   },
   {
    "duration": 4,
    "start_time": "2022-11-30T14:33:37.511Z"
   },
   {
    "duration": 4,
    "start_time": "2022-11-30T14:34:05.211Z"
   },
   {
    "duration": 3,
    "start_time": "2022-11-30T14:34:11.099Z"
   },
   {
    "duration": 4,
    "start_time": "2022-11-30T14:37:13.300Z"
   },
   {
    "duration": 23,
    "start_time": "2022-11-30T14:38:55.900Z"
   },
   {
    "duration": 39,
    "start_time": "2022-11-30T14:40:20.721Z"
   },
   {
    "duration": 8,
    "start_time": "2022-11-30T14:40:32.600Z"
   },
   {
    "duration": 181,
    "start_time": "2022-11-30T14:40:56.613Z"
   },
   {
    "duration": 163,
    "start_time": "2022-11-30T14:41:02.363Z"
   },
   {
    "duration": 168,
    "start_time": "2022-11-30T14:41:11.564Z"
   },
   {
    "duration": 195,
    "start_time": "2022-11-30T14:41:35.126Z"
   },
   {
    "duration": 168,
    "start_time": "2022-11-30T14:41:44.301Z"
   },
   {
    "duration": 243,
    "start_time": "2022-11-30T14:42:29.602Z"
   },
   {
    "duration": 239,
    "start_time": "2022-11-30T14:57:43.412Z"
   },
   {
    "duration": 142,
    "start_time": "2022-11-30T14:59:07.835Z"
   },
   {
    "duration": 341,
    "start_time": "2022-11-30T14:59:35.507Z"
   },
   {
    "duration": 144,
    "start_time": "2022-11-30T14:59:49.896Z"
   },
   {
    "duration": 183,
    "start_time": "2022-11-30T15:00:30.869Z"
   },
   {
    "duration": 138,
    "start_time": "2022-11-30T15:01:15.633Z"
   },
   {
    "duration": 133,
    "start_time": "2022-11-30T15:01:20.857Z"
   },
   {
    "duration": 321,
    "start_time": "2022-11-30T15:03:38.345Z"
   },
   {
    "duration": 9,
    "start_time": "2022-11-30T15:04:30.958Z"
   },
   {
    "duration": 1333,
    "start_time": "2022-11-30T15:04:38.776Z"
   },
   {
    "duration": 55,
    "start_time": "2022-11-30T15:04:40.111Z"
   },
   {
    "duration": 10,
    "start_time": "2022-11-30T15:04:40.167Z"
   },
   {
    "duration": 8,
    "start_time": "2022-11-30T15:04:40.179Z"
   },
   {
    "duration": 286,
    "start_time": "2022-11-30T15:04:40.189Z"
   },
   {
    "duration": 3,
    "start_time": "2022-11-30T15:04:40.477Z"
   },
   {
    "duration": 258,
    "start_time": "2022-11-30T15:04:40.482Z"
   },
   {
    "duration": 204,
    "start_time": "2022-11-30T15:04:40.742Z"
   },
   {
    "duration": 0,
    "start_time": "2022-11-30T15:04:40.947Z"
   },
   {
    "duration": 0,
    "start_time": "2022-11-30T15:04:40.949Z"
   },
   {
    "duration": 0,
    "start_time": "2022-11-30T15:04:40.950Z"
   },
   {
    "duration": 0,
    "start_time": "2022-11-30T15:04:40.951Z"
   },
   {
    "duration": 0,
    "start_time": "2022-11-30T15:04:40.952Z"
   },
   {
    "duration": 0,
    "start_time": "2022-11-30T15:04:40.953Z"
   },
   {
    "duration": 0,
    "start_time": "2022-11-30T15:04:40.954Z"
   },
   {
    "duration": 0,
    "start_time": "2022-11-30T15:04:40.955Z"
   },
   {
    "duration": 0,
    "start_time": "2022-11-30T15:04:40.956Z"
   },
   {
    "duration": 0,
    "start_time": "2022-11-30T15:04:40.957Z"
   },
   {
    "duration": 1351,
    "start_time": "2022-11-30T15:05:16.075Z"
   },
   {
    "duration": 56,
    "start_time": "2022-11-30T15:05:17.427Z"
   },
   {
    "duration": 9,
    "start_time": "2022-11-30T15:05:17.484Z"
   },
   {
    "duration": 9,
    "start_time": "2022-11-30T15:05:17.494Z"
   },
   {
    "duration": 314,
    "start_time": "2022-11-30T15:05:17.505Z"
   },
   {
    "duration": 3,
    "start_time": "2022-11-30T15:05:17.821Z"
   },
   {
    "duration": 266,
    "start_time": "2022-11-30T15:05:17.826Z"
   },
   {
    "duration": 141,
    "start_time": "2022-11-30T15:05:18.093Z"
   },
   {
    "duration": 405,
    "start_time": "2022-11-30T15:05:18.235Z"
   },
   {
    "duration": 115,
    "start_time": "2022-11-30T15:05:18.642Z"
   },
   {
    "duration": 1336,
    "start_time": "2022-11-30T15:05:18.759Z"
   },
   {
    "duration": 0,
    "start_time": "2022-11-30T15:05:20.097Z"
   },
   {
    "duration": 0,
    "start_time": "2022-11-30T15:05:20.098Z"
   },
   {
    "duration": 0,
    "start_time": "2022-11-30T15:05:20.100Z"
   },
   {
    "duration": 0,
    "start_time": "2022-11-30T15:05:20.101Z"
   },
   {
    "duration": 0,
    "start_time": "2022-11-30T15:05:20.103Z"
   },
   {
    "duration": 1,
    "start_time": "2022-11-30T15:05:20.103Z"
   },
   {
    "duration": 0,
    "start_time": "2022-11-30T15:05:20.105Z"
   },
   {
    "duration": 1296,
    "start_time": "2022-11-30T15:06:01.619Z"
   },
   {
    "duration": 58,
    "start_time": "2022-11-30T15:06:02.917Z"
   },
   {
    "duration": 10,
    "start_time": "2022-11-30T15:06:02.977Z"
   },
   {
    "duration": 7,
    "start_time": "2022-11-30T15:06:02.988Z"
   },
   {
    "duration": 283,
    "start_time": "2022-11-30T15:06:02.997Z"
   },
   {
    "duration": 4,
    "start_time": "2022-11-30T15:06:03.282Z"
   },
   {
    "duration": 261,
    "start_time": "2022-11-30T15:06:03.287Z"
   },
   {
    "duration": 148,
    "start_time": "2022-11-30T15:06:03.549Z"
   },
   {
    "duration": 441,
    "start_time": "2022-11-30T15:06:03.698Z"
   },
   {
    "duration": 117,
    "start_time": "2022-11-30T15:06:04.141Z"
   },
   {
    "duration": 19,
    "start_time": "2022-11-30T15:06:04.259Z"
   },
   {
    "duration": 10,
    "start_time": "2022-11-30T15:06:04.279Z"
   },
   {
    "duration": 6,
    "start_time": "2022-11-30T15:06:04.290Z"
   },
   {
    "duration": 297,
    "start_time": "2022-11-30T15:06:04.298Z"
   },
   {
    "duration": 100576,
    "start_time": "2022-11-30T15:06:04.597Z"
   },
   {
    "duration": 10,
    "start_time": "2022-11-30T15:07:45.174Z"
   },
   {
    "duration": 15,
    "start_time": "2022-11-30T15:07:45.185Z"
   },
   {
    "duration": 525,
    "start_time": "2022-11-30T15:07:45.202Z"
   },
   {
    "duration": 1271,
    "start_time": "2022-11-30T15:08:24.634Z"
   },
   {
    "duration": 53,
    "start_time": "2022-11-30T15:08:25.907Z"
   },
   {
    "duration": 8,
    "start_time": "2022-11-30T15:08:25.962Z"
   },
   {
    "duration": 9,
    "start_time": "2022-11-30T15:08:25.971Z"
   },
   {
    "duration": 282,
    "start_time": "2022-11-30T15:08:25.981Z"
   },
   {
    "duration": 3,
    "start_time": "2022-11-30T15:08:26.265Z"
   },
   {
    "duration": 245,
    "start_time": "2022-11-30T15:08:26.270Z"
   },
   {
    "duration": 142,
    "start_time": "2022-11-30T15:08:26.516Z"
   },
   {
    "duration": 411,
    "start_time": "2022-11-30T15:08:26.660Z"
   },
   {
    "duration": 106,
    "start_time": "2022-11-30T15:08:27.077Z"
   },
   {
    "duration": 8,
    "start_time": "2022-11-30T15:08:27.185Z"
   },
   {
    "duration": 11,
    "start_time": "2022-11-30T15:08:27.194Z"
   },
   {
    "duration": 3,
    "start_time": "2022-11-30T15:08:27.206Z"
   },
   {
    "duration": 294,
    "start_time": "2022-11-30T15:08:27.212Z"
   },
   {
    "duration": 96627,
    "start_time": "2022-11-30T15:08:27.508Z"
   },
   {
    "duration": 11,
    "start_time": "2022-11-30T15:10:04.138Z"
   },
   {
    "duration": 38,
    "start_time": "2022-11-30T15:10:04.150Z"
   },
   {
    "duration": 451,
    "start_time": "2022-11-30T15:10:04.190Z"
   },
   {
    "duration": 607057,
    "start_time": "2022-11-30T16:32:30.023Z"
   },
   {
    "duration": 57,
    "start_time": "2022-11-30T16:42:37.082Z"
   },
   {
    "duration": 661,
    "start_time": "2022-11-30T16:42:55.657Z"
   },
   {
    "duration": 344,
    "start_time": "2022-11-30T16:46:28.357Z"
   },
   {
    "duration": 6,
    "start_time": "2022-11-30T16:47:49.901Z"
   },
   {
    "duration": 114,
    "start_time": "2022-11-30T16:47:59.969Z"
   },
   {
    "duration": 313,
    "start_time": "2022-11-30T16:48:03.407Z"
   },
   {
    "duration": 228,
    "start_time": "2022-11-30T16:48:54.990Z"
   },
   {
    "duration": 191,
    "start_time": "2022-11-30T16:49:17.920Z"
   },
   {
    "duration": 207,
    "start_time": "2022-11-30T16:59:18.822Z"
   },
   {
    "duration": 4,
    "start_time": "2022-11-30T17:10:12.037Z"
   },
   {
    "duration": 6,
    "start_time": "2022-11-30T17:10:25.125Z"
   },
   {
    "duration": 15,
    "start_time": "2022-11-30T17:15:49.092Z"
   },
   {
    "duration": 14,
    "start_time": "2022-11-30T17:17:35.792Z"
   },
   {
    "duration": 13,
    "start_time": "2022-11-30T17:17:41.965Z"
   },
   {
    "duration": 295,
    "start_time": "2022-11-30T17:17:45.564Z"
   },
   {
    "duration": 418,
    "start_time": "2022-11-30T17:20:30.966Z"
   },
   {
    "duration": 400,
    "start_time": "2022-11-30T17:20:36.541Z"
   },
   {
    "duration": 71,
    "start_time": "2022-11-30T17:23:53.129Z"
   },
   {
    "duration": 258,
    "start_time": "2022-11-30T17:24:23.854Z"
   },
   {
    "duration": 1492,
    "start_time": "2022-11-30T17:35:02.620Z"
   },
   {
    "duration": 19,
    "start_time": "2022-11-30T17:35:04.770Z"
   },
   {
    "duration": 404,
    "start_time": "2022-11-30T17:35:10.057Z"
   },
   {
    "duration": 11,
    "start_time": "2022-11-30T17:35:11.469Z"
   },
   {
    "duration": 55,
    "start_time": "2022-11-30T17:38:50.333Z"
   },
   {
    "duration": 1324,
    "start_time": "2022-11-30T17:38:57.588Z"
   },
   {
    "duration": 55,
    "start_time": "2022-11-30T17:38:58.913Z"
   },
   {
    "duration": 9,
    "start_time": "2022-11-30T17:38:58.970Z"
   },
   {
    "duration": 12,
    "start_time": "2022-11-30T17:38:58.980Z"
   },
   {
    "duration": 291,
    "start_time": "2022-11-30T17:38:58.993Z"
   },
   {
    "duration": 3,
    "start_time": "2022-11-30T17:38:59.286Z"
   },
   {
    "duration": 247,
    "start_time": "2022-11-30T17:38:59.291Z"
   },
   {
    "duration": 210,
    "start_time": "2022-11-30T17:38:59.540Z"
   },
   {
    "duration": 335,
    "start_time": "2022-11-30T17:38:59.751Z"
   },
   {
    "duration": 4,
    "start_time": "2022-11-30T17:39:00.088Z"
   },
   {
    "duration": 9,
    "start_time": "2022-11-30T17:39:00.094Z"
   },
   {
    "duration": 238,
    "start_time": "2022-11-30T17:39:00.104Z"
   },
   {
    "duration": 7,
    "start_time": "2022-11-30T17:39:00.344Z"
   },
   {
    "duration": 41,
    "start_time": "2022-11-30T17:39:00.353Z"
   },
   {
    "duration": 12,
    "start_time": "2022-11-30T17:39:00.396Z"
   },
   {
    "duration": 327,
    "start_time": "2022-11-30T17:39:00.409Z"
   },
   {
    "duration": 100976,
    "start_time": "2022-11-30T17:39:00.738Z"
   },
   {
    "duration": 9,
    "start_time": "2022-11-30T17:40:41.715Z"
   },
   {
    "duration": 14,
    "start_time": "2022-11-30T17:40:41.726Z"
   },
   {
    "duration": 531,
    "start_time": "2022-11-30T17:40:41.742Z"
   },
   {
    "duration": 13,
    "start_time": "2022-11-30T17:40:42.275Z"
   },
   {
    "duration": 2392,
    "start_time": "2022-11-30T17:56:48.331Z"
   },
   {
    "duration": 118,
    "start_time": "2022-11-30T17:56:50.725Z"
   },
   {
    "duration": 11,
    "start_time": "2022-11-30T17:58:31.157Z"
   },
   {
    "duration": 9,
    "start_time": "2022-11-30T17:58:32.191Z"
   },
   {
    "duration": 310,
    "start_time": "2022-11-30T17:58:48.855Z"
   },
   {
    "duration": 3,
    "start_time": "2022-11-30T17:58:49.360Z"
   },
   {
    "duration": 259,
    "start_time": "2022-11-30T17:58:54.140Z"
   },
   {
    "duration": 212,
    "start_time": "2022-11-30T17:58:55.982Z"
   },
   {
    "duration": 372,
    "start_time": "2022-11-30T17:58:56.490Z"
   },
   {
    "duration": 12,
    "start_time": "2022-11-30T18:06:25.384Z"
   },
   {
    "duration": 4,
    "start_time": "2022-11-30T18:07:00.547Z"
   },
   {
    "duration": 50,
    "start_time": "2022-11-30T18:07:13.773Z"
   },
   {
    "duration": 6,
    "start_time": "2022-11-30T18:07:14.082Z"
   },
   {
    "duration": 8,
    "start_time": "2022-11-30T18:07:14.499Z"
   },
   {
    "duration": 276,
    "start_time": "2022-11-30T18:07:14.799Z"
   },
   {
    "duration": 3,
    "start_time": "2022-11-30T18:07:15.077Z"
   },
   {
    "duration": 274,
    "start_time": "2022-11-30T18:07:15.669Z"
   },
   {
    "duration": 155,
    "start_time": "2022-11-30T18:07:16.079Z"
   },
   {
    "duration": 366,
    "start_time": "2022-11-30T18:07:16.354Z"
   },
   {
    "duration": 5,
    "start_time": "2022-11-30T18:07:17.565Z"
   },
   {
    "duration": 8,
    "start_time": "2022-11-30T18:07:18.804Z"
   },
   {
    "duration": 245,
    "start_time": "2022-11-30T18:07:19.167Z"
   },
   {
    "duration": 8,
    "start_time": "2022-11-30T18:07:19.507Z"
   },
   {
    "duration": 13,
    "start_time": "2022-11-30T18:07:20.336Z"
   },
   {
    "duration": 4,
    "start_time": "2022-11-30T18:07:21.661Z"
   },
   {
    "duration": 340,
    "start_time": "2022-11-30T18:07:49.037Z"
   },
   {
    "duration": 105419,
    "start_time": "2022-11-30T18:10:37.059Z"
   },
   {
    "duration": 13,
    "start_time": "2022-11-30T18:12:22.482Z"
   },
   {
    "duration": 53,
    "start_time": "2022-12-02T13:59:29.618Z"
   },
   {
    "duration": 1710,
    "start_time": "2022-12-02T14:00:14.457Z"
   },
   {
    "duration": 118,
    "start_time": "2022-12-02T14:00:16.170Z"
   },
   {
    "duration": 16,
    "start_time": "2022-12-02T14:00:16.290Z"
   },
   {
    "duration": 12,
    "start_time": "2022-12-02T14:00:16.308Z"
   },
   {
    "duration": 428,
    "start_time": "2022-12-02T14:00:16.323Z"
   },
   {
    "duration": 3,
    "start_time": "2022-12-02T14:00:16.754Z"
   },
   {
    "duration": 369,
    "start_time": "2022-12-02T14:00:16.758Z"
   },
   {
    "duration": 134,
    "start_time": "2022-12-02T14:00:17.129Z"
   },
   {
    "duration": 12,
    "start_time": "2022-12-02T14:01:38.568Z"
   },
   {
    "duration": 204,
    "start_time": "2022-12-02T14:01:55.738Z"
   },
   {
    "duration": 304,
    "start_time": "2022-12-02T14:02:31.751Z"
   },
   {
    "duration": 310,
    "start_time": "2022-12-02T14:02:39.105Z"
   },
   {
    "duration": 208,
    "start_time": "2022-12-02T14:05:20.026Z"
   },
   {
    "duration": 144,
    "start_time": "2022-12-02T14:05:53.888Z"
   },
   {
    "duration": 183,
    "start_time": "2022-12-02T14:06:01.853Z"
   },
   {
    "duration": 255,
    "start_time": "2022-12-02T14:06:06.422Z"
   },
   {
    "duration": 389,
    "start_time": "2022-12-02T14:06:11.196Z"
   },
   {
    "duration": 201,
    "start_time": "2022-12-02T14:06:20.661Z"
   },
   {
    "duration": 221,
    "start_time": "2022-12-02T14:06:37.151Z"
   },
   {
    "duration": 254,
    "start_time": "2022-12-02T14:07:02.554Z"
   },
   {
    "duration": 247,
    "start_time": "2022-12-02T14:07:12.591Z"
   },
   {
    "duration": 238,
    "start_time": "2022-12-02T14:07:28.002Z"
   },
   {
    "duration": 10,
    "start_time": "2022-12-02T14:07:55.443Z"
   },
   {
    "duration": 351,
    "start_time": "2022-12-02T14:08:00.000Z"
   },
   {
    "duration": 445,
    "start_time": "2022-12-02T14:08:04.598Z"
   },
   {
    "duration": 416,
    "start_time": "2022-12-02T14:09:11.259Z"
   },
   {
    "duration": 537,
    "start_time": "2022-12-02T14:09:25.508Z"
   },
   {
    "duration": 568,
    "start_time": "2022-12-02T14:09:47.170Z"
   },
   {
    "duration": 291,
    "start_time": "2022-12-02T14:10:27.207Z"
   },
   {
    "duration": 1361,
    "start_time": "2022-12-02T14:10:32.056Z"
   },
   {
    "duration": 899,
    "start_time": "2022-12-02T14:10:41.495Z"
   },
   {
    "duration": 705,
    "start_time": "2022-12-02T14:10:54.052Z"
   },
   {
    "duration": 16,
    "start_time": "2022-12-02T14:12:16.830Z"
   },
   {
    "duration": 52,
    "start_time": "2022-12-02T14:12:20.823Z"
   },
   {
    "duration": 10,
    "start_time": "2022-12-02T14:12:23.781Z"
   },
   {
    "duration": 13,
    "start_time": "2022-12-02T14:12:34.280Z"
   },
   {
    "duration": 457,
    "start_time": "2022-12-02T14:15:14.173Z"
   },
   {
    "duration": 428,
    "start_time": "2022-12-02T14:15:20.832Z"
   },
   {
    "duration": 486,
    "start_time": "2022-12-02T14:15:29.301Z"
   },
   {
    "duration": 306,
    "start_time": "2022-12-02T14:24:22.664Z"
   },
   {
    "duration": 444,
    "start_time": "2022-12-02T14:24:28.658Z"
   },
   {
    "duration": 414,
    "start_time": "2022-12-02T14:24:39.495Z"
   },
   {
    "duration": 451,
    "start_time": "2022-12-02T14:24:43.259Z"
   },
   {
    "duration": 439,
    "start_time": "2022-12-02T14:24:46.804Z"
   },
   {
    "duration": 607,
    "start_time": "2022-12-02T14:25:01.041Z"
   },
   {
    "duration": 461,
    "start_time": "2022-12-02T14:26:28.774Z"
   },
   {
    "duration": 452,
    "start_time": "2022-12-02T14:26:48.681Z"
   },
   {
    "duration": 500,
    "start_time": "2022-12-02T14:27:24.734Z"
   },
   {
    "duration": 1487,
    "start_time": "2022-12-02T14:29:04.320Z"
   },
   {
    "duration": 60,
    "start_time": "2022-12-02T14:29:05.809Z"
   },
   {
    "duration": 11,
    "start_time": "2022-12-02T14:29:05.870Z"
   },
   {
    "duration": 9,
    "start_time": "2022-12-02T14:29:05.884Z"
   },
   {
    "duration": 352,
    "start_time": "2022-12-02T14:29:05.895Z"
   },
   {
    "duration": 4,
    "start_time": "2022-12-02T14:29:06.249Z"
   },
   {
    "duration": 337,
    "start_time": "2022-12-02T14:29:06.255Z"
   },
   {
    "duration": 609,
    "start_time": "2022-12-02T14:29:06.594Z"
   },
   {
    "duration": 168,
    "start_time": "2022-12-02T14:29:07.205Z"
   },
   {
    "duration": 393,
    "start_time": "2022-12-02T14:29:07.375Z"
   },
   {
    "duration": 3,
    "start_time": "2022-12-02T14:29:07.770Z"
   },
   {
    "duration": 17,
    "start_time": "2022-12-02T14:29:07.775Z"
   },
   {
    "duration": 264,
    "start_time": "2022-12-02T14:29:07.794Z"
   },
   {
    "duration": 5,
    "start_time": "2022-12-02T14:29:08.059Z"
   },
   {
    "duration": 20,
    "start_time": "2022-12-02T14:29:08.065Z"
   },
   {
    "duration": 4,
    "start_time": "2022-12-02T14:29:08.087Z"
   },
   {
    "duration": 199,
    "start_time": "2022-12-02T14:29:08.111Z"
   },
   {
    "duration": 58150,
    "start_time": "2022-12-02T14:29:08.312Z"
   },
   {
    "duration": 15,
    "start_time": "2022-12-02T14:30:06.464Z"
   },
   {
    "duration": 14,
    "start_time": "2022-12-02T14:30:06.481Z"
   },
   {
    "duration": 305,
    "start_time": "2022-12-02T14:30:06.497Z"
   },
   {
    "duration": 16,
    "start_time": "2022-12-02T14:30:06.804Z"
   },
   {
    "duration": 13,
    "start_time": "2022-12-02T14:45:12.931Z"
   },
   {
    "duration": 11,
    "start_time": "2022-12-02T14:45:52.256Z"
   },
   {
    "duration": 12,
    "start_time": "2022-12-02T14:46:16.146Z"
   },
   {
    "duration": 17,
    "start_time": "2022-12-02T14:46:43.893Z"
   },
   {
    "duration": 122,
    "start_time": "2022-12-02T15:00:14.562Z"
   },
   {
    "duration": 5,
    "start_time": "2022-12-02T15:00:21.972Z"
   },
   {
    "duration": 17,
    "start_time": "2022-12-02T15:00:24.399Z"
   },
   {
    "duration": 6,
    "start_time": "2022-12-02T15:01:04.083Z"
   },
   {
    "duration": 17,
    "start_time": "2022-12-02T15:01:07.753Z"
   },
   {
    "duration": 5,
    "start_time": "2022-12-02T15:01:58.890Z"
   },
   {
    "duration": 16,
    "start_time": "2022-12-02T15:02:02.261Z"
   },
   {
    "duration": 5,
    "start_time": "2022-12-02T15:02:16.669Z"
   },
   {
    "duration": 6,
    "start_time": "2022-12-02T15:02:24.195Z"
   },
   {
    "duration": 2058,
    "start_time": "2022-12-02T15:02:35.611Z"
   },
   {
    "duration": 5,
    "start_time": "2022-12-02T15:02:47.655Z"
   },
   {
    "duration": 6,
    "start_time": "2022-12-02T15:03:02.519Z"
   },
   {
    "duration": 1976,
    "start_time": "2022-12-02T15:03:07.338Z"
   },
   {
    "duration": 2046,
    "start_time": "2022-12-02T15:04:03.922Z"
   },
   {
    "duration": 2098,
    "start_time": "2022-12-02T15:06:07.851Z"
   },
   {
    "duration": 1192,
    "start_time": "2022-12-02T15:07:05.185Z"
   },
   {
    "duration": 22,
    "start_time": "2022-12-02T15:08:09.281Z"
   },
   {
    "duration": 47877,
    "start_time": "2022-12-02T15:08:25.836Z"
   },
   {
    "duration": 192599,
    "start_time": "2022-12-02T15:10:01.988Z"
   },
   {
    "duration": 37,
    "start_time": "2022-12-02T15:13:14.590Z"
   },
   {
    "duration": 159,
    "start_time": "2022-12-02T15:14:23.538Z"
   },
   {
    "duration": 148,
    "start_time": "2022-12-02T15:14:42.119Z"
   },
   {
    "duration": 4,
    "start_time": "2022-12-02T15:15:01.306Z"
   },
   {
    "duration": 158,
    "start_time": "2022-12-02T15:15:05.205Z"
   },
   {
    "duration": 189452,
    "start_time": "2022-12-02T15:15:33.263Z"
   },
   {
    "duration": 1121,
    "start_time": "2022-12-02T15:18:42.717Z"
   },
   {
    "duration": 165,
    "start_time": "2022-12-02T15:18:43.839Z"
   },
   {
    "duration": 8,
    "start_time": "2022-12-02T15:18:44.012Z"
   },
   {
    "duration": 82,
    "start_time": "2022-12-02T15:19:03.447Z"
   },
   {
    "duration": 18,
    "start_time": "2022-12-02T15:19:12.627Z"
   },
   {
    "duration": 44,
    "start_time": "2022-12-02T15:19:47.449Z"
   },
   {
    "duration": 10,
    "start_time": "2022-12-02T15:19:50.657Z"
   },
   {
    "duration": 227,
    "start_time": "2022-12-02T15:20:00.540Z"
   },
   {
    "duration": 14,
    "start_time": "2022-12-02T15:20:02.746Z"
   },
   {
    "duration": 1419,
    "start_time": "2022-12-02T15:20:32.275Z"
   },
   {
    "duration": 58,
    "start_time": "2022-12-02T15:20:33.696Z"
   },
   {
    "duration": 10,
    "start_time": "2022-12-02T15:20:33.755Z"
   },
   {
    "duration": 9,
    "start_time": "2022-12-02T15:20:33.767Z"
   },
   {
    "duration": 320,
    "start_time": "2022-12-02T15:20:33.778Z"
   },
   {
    "duration": 13,
    "start_time": "2022-12-02T15:20:34.100Z"
   },
   {
    "duration": 286,
    "start_time": "2022-12-02T15:20:34.115Z"
   },
   {
    "duration": 590,
    "start_time": "2022-12-02T15:20:34.403Z"
   },
   {
    "duration": 175,
    "start_time": "2022-12-02T15:20:34.994Z"
   },
   {
    "duration": 402,
    "start_time": "2022-12-02T15:20:35.172Z"
   },
   {
    "duration": 3,
    "start_time": "2022-12-02T15:20:35.575Z"
   },
   {
    "duration": 7,
    "start_time": "2022-12-02T15:20:35.580Z"
   },
   {
    "duration": 271,
    "start_time": "2022-12-02T15:20:35.588Z"
   },
   {
    "duration": 4,
    "start_time": "2022-12-02T15:20:35.861Z"
   },
   {
    "duration": 134,
    "start_time": "2022-12-02T15:20:35.867Z"
   },
   {
    "duration": 0,
    "start_time": "2022-12-02T15:20:36.003Z"
   },
   {
    "duration": 0,
    "start_time": "2022-12-02T15:20:36.005Z"
   },
   {
    "duration": 0,
    "start_time": "2022-12-02T15:20:36.005Z"
   },
   {
    "duration": 0,
    "start_time": "2022-12-02T15:20:36.013Z"
   },
   {
    "duration": 0,
    "start_time": "2022-12-02T15:20:36.014Z"
   },
   {
    "duration": 0,
    "start_time": "2022-12-02T15:20:36.016Z"
   },
   {
    "duration": 0,
    "start_time": "2022-12-02T15:20:36.018Z"
   },
   {
    "duration": 0,
    "start_time": "2022-12-02T15:20:36.019Z"
   },
   {
    "duration": 0,
    "start_time": "2022-12-02T15:20:36.020Z"
   },
   {
    "duration": 4,
    "start_time": "2022-12-02T15:22:05.339Z"
   },
   {
    "duration": 1442,
    "start_time": "2022-12-02T15:22:12.524Z"
   },
   {
    "duration": 60,
    "start_time": "2022-12-02T15:22:13.968Z"
   },
   {
    "duration": 11,
    "start_time": "2022-12-02T15:22:14.029Z"
   },
   {
    "duration": 11,
    "start_time": "2022-12-02T15:22:14.042Z"
   },
   {
    "duration": 347,
    "start_time": "2022-12-02T15:22:14.055Z"
   },
   {
    "duration": 8,
    "start_time": "2022-12-02T15:22:14.404Z"
   },
   {
    "duration": 277,
    "start_time": "2022-12-02T15:22:14.414Z"
   },
   {
    "duration": 600,
    "start_time": "2022-12-02T15:22:14.692Z"
   },
   {
    "duration": 165,
    "start_time": "2022-12-02T15:22:15.294Z"
   },
   {
    "duration": 383,
    "start_time": "2022-12-02T15:22:15.462Z"
   },
   {
    "duration": 3,
    "start_time": "2022-12-02T15:22:15.846Z"
   },
   {
    "duration": 12,
    "start_time": "2022-12-02T15:22:15.850Z"
   },
   {
    "duration": 216,
    "start_time": "2022-12-02T15:22:15.864Z"
   },
   {
    "duration": 33,
    "start_time": "2022-12-02T15:22:16.081Z"
   },
   {
    "duration": 19,
    "start_time": "2022-12-02T15:22:16.115Z"
   },
   {
    "duration": 4,
    "start_time": "2022-12-02T15:22:16.135Z"
   },
   {
    "duration": 8,
    "start_time": "2022-12-02T15:22:16.141Z"
   },
   {
    "duration": 149,
    "start_time": "2022-12-02T15:22:16.150Z"
   },
   {
    "duration": 0,
    "start_time": "2022-12-02T15:22:16.301Z"
   },
   {
    "duration": 0,
    "start_time": "2022-12-02T15:22:16.302Z"
   },
   {
    "duration": 0,
    "start_time": "2022-12-02T15:22:16.312Z"
   },
   {
    "duration": 0,
    "start_time": "2022-12-02T15:22:16.314Z"
   },
   {
    "duration": 0,
    "start_time": "2022-12-02T15:22:16.315Z"
   },
   {
    "duration": 0,
    "start_time": "2022-12-02T15:22:16.316Z"
   },
   {
    "duration": 1535,
    "start_time": "2022-12-02T15:25:02.304Z"
   },
   {
    "duration": 60,
    "start_time": "2022-12-02T15:25:03.841Z"
   },
   {
    "duration": 10,
    "start_time": "2022-12-02T15:25:03.902Z"
   },
   {
    "duration": 27,
    "start_time": "2022-12-02T15:25:03.915Z"
   },
   {
    "duration": 320,
    "start_time": "2022-12-02T15:25:03.944Z"
   },
   {
    "duration": 4,
    "start_time": "2022-12-02T15:25:04.266Z"
   },
   {
    "duration": 300,
    "start_time": "2022-12-02T15:25:04.272Z"
   },
   {
    "duration": 604,
    "start_time": "2022-12-02T15:25:04.574Z"
   },
   {
    "duration": 171,
    "start_time": "2022-12-02T15:25:05.179Z"
   },
   {
    "duration": 383,
    "start_time": "2022-12-02T15:25:05.354Z"
   },
   {
    "duration": 3,
    "start_time": "2022-12-02T15:25:05.739Z"
   },
   {
    "duration": 8,
    "start_time": "2022-12-02T15:25:05.744Z"
   },
   {
    "duration": 227,
    "start_time": "2022-12-02T15:25:05.753Z"
   },
   {
    "duration": 5,
    "start_time": "2022-12-02T15:25:05.982Z"
   },
   {
    "duration": 30,
    "start_time": "2022-12-02T15:25:05.989Z"
   },
   {
    "duration": 4,
    "start_time": "2022-12-02T15:25:06.021Z"
   },
   {
    "duration": 6,
    "start_time": "2022-12-02T15:25:06.027Z"
   },
   {
    "duration": 1189,
    "start_time": "2022-12-02T15:25:06.035Z"
   },
   {
    "duration": 3,
    "start_time": "2022-12-02T15:25:07.225Z"
   },
   {
    "duration": 333087,
    "start_time": "2022-12-02T15:25:07.230Z"
   },
   {
    "duration": 194,
    "start_time": "2022-12-02T15:30:40.319Z"
   },
   {
    "duration": 8,
    "start_time": "2022-12-02T15:30:40.515Z"
   },
   {
    "duration": 140,
    "start_time": "2022-12-02T15:30:40.526Z"
   },
   {
    "duration": 0,
    "start_time": "2022-12-02T15:30:40.668Z"
   },
   {
    "duration": 1,
    "start_time": "2022-12-02T15:30:40.670Z"
   },
   {
    "duration": 213,
    "start_time": "2022-12-02T15:31:32.787Z"
   },
   {
    "duration": 15,
    "start_time": "2022-12-02T15:31:35.031Z"
   },
   {
    "duration": 5,
    "start_time": "2022-12-02T15:32:14.579Z"
   },
   {
    "duration": 172433,
    "start_time": "2022-12-02T15:32:17.941Z"
   },
   {
    "duration": 138419,
    "start_time": "2022-12-02T15:35:14.499Z"
   },
   {
    "duration": 96,
    "start_time": "2022-12-02T15:37:49.096Z"
   },
   {
    "duration": 10,
    "start_time": "2022-12-02T15:37:52.788Z"
   },
   {
    "duration": 12,
    "start_time": "2022-12-02T15:38:08.050Z"
   },
   {
    "duration": 158,
    "start_time": "2022-12-02T15:38:31.719Z"
   },
   {
    "duration": 117,
    "start_time": "2022-12-02T15:39:46.147Z"
   },
   {
    "duration": 166,
    "start_time": "2022-12-02T15:40:01.095Z"
   },
   {
    "duration": 160,
    "start_time": "2022-12-02T15:40:32.687Z"
   },
   {
    "duration": 155,
    "start_time": "2022-12-02T15:40:53.252Z"
   },
   {
    "duration": 226,
    "start_time": "2022-12-02T15:41:56.096Z"
   },
   {
    "duration": 8,
    "start_time": "2022-12-02T15:42:40.363Z"
   },
   {
    "duration": 7,
    "start_time": "2022-12-02T15:43:17.145Z"
   },
   {
    "duration": 8,
    "start_time": "2022-12-02T15:43:19.597Z"
   },
   {
    "duration": 95,
    "start_time": "2022-12-02T15:43:32.149Z"
   },
   {
    "duration": 11,
    "start_time": "2022-12-02T15:43:33.992Z"
   },
   {
    "duration": 202,
    "start_time": "2022-12-02T15:43:56.921Z"
   },
   {
    "duration": 333,
    "start_time": "2022-12-02T15:45:09.904Z"
   },
   {
    "duration": 214,
    "start_time": "2022-12-02T15:45:17.971Z"
   },
   {
    "duration": 237,
    "start_time": "2022-12-02T15:46:21.040Z"
   },
   {
    "duration": 50,
    "start_time": "2022-12-02T15:52:07.627Z"
   },
   {
    "duration": 235,
    "start_time": "2022-12-02T15:52:11.509Z"
   },
   {
    "duration": 264,
    "start_time": "2022-12-02T15:53:27.607Z"
   },
   {
    "duration": 263,
    "start_time": "2022-12-02T15:55:06.614Z"
   },
   {
    "duration": 283,
    "start_time": "2022-12-02T15:55:17.090Z"
   },
   {
    "duration": 11,
    "start_time": "2022-12-02T15:55:55.763Z"
   },
   {
    "duration": 11,
    "start_time": "2022-12-02T15:56:50.602Z"
   },
   {
    "duration": 10,
    "start_time": "2022-12-02T15:56:56.954Z"
   },
   {
    "duration": 11,
    "start_time": "2022-12-02T15:57:03.219Z"
   },
   {
    "duration": 4,
    "start_time": "2022-12-02T15:57:09.277Z"
   },
   {
    "duration": 18,
    "start_time": "2022-12-02T15:57:21.836Z"
   },
   {
    "duration": 103,
    "start_time": "2022-12-02T16:17:51.444Z"
   },
   {
    "duration": 11,
    "start_time": "2022-12-02T16:18:04.491Z"
   },
   {
    "duration": 294,
    "start_time": "2022-12-02T16:18:14.989Z"
   },
   {
    "duration": 361,
    "start_time": "2022-12-02T16:20:35.900Z"
   },
   {
    "duration": 547,
    "start_time": "2022-12-02T16:20:51.218Z"
   },
   {
    "duration": 453,
    "start_time": "2022-12-02T16:21:56.651Z"
   },
   {
    "duration": 457,
    "start_time": "2022-12-02T16:22:20.405Z"
   },
   {
    "duration": 533,
    "start_time": "2022-12-02T16:22:35.737Z"
   },
   {
    "duration": 532,
    "start_time": "2022-12-02T16:23:11.050Z"
   },
   {
    "duration": 624,
    "start_time": "2022-12-02T16:23:16.926Z"
   },
   {
    "duration": 559,
    "start_time": "2022-12-02T16:26:32.622Z"
   },
   {
    "duration": 725,
    "start_time": "2022-12-02T16:27:06.133Z"
   },
   {
    "duration": 480,
    "start_time": "2022-12-02T16:27:40.176Z"
   },
   {
    "duration": 538,
    "start_time": "2022-12-02T16:27:46.772Z"
   },
   {
    "duration": 758,
    "start_time": "2022-12-02T16:27:51.746Z"
   },
   {
    "duration": 482,
    "start_time": "2022-12-02T16:28:27.723Z"
   },
   {
    "duration": 590,
    "start_time": "2022-12-02T16:28:39.689Z"
   },
   {
    "duration": 466,
    "start_time": "2022-12-02T16:28:49.857Z"
   },
   {
    "duration": 475,
    "start_time": "2022-12-02T16:29:32.880Z"
   },
   {
    "duration": 476,
    "start_time": "2022-12-02T16:29:47.208Z"
   },
   {
    "duration": 491,
    "start_time": "2022-12-02T16:29:56.515Z"
   },
   {
    "duration": 773,
    "start_time": "2022-12-02T16:31:03.141Z"
   },
   {
    "duration": 627,
    "start_time": "2022-12-02T16:31:12.434Z"
   },
   {
    "duration": 324,
    "start_time": "2022-12-02T16:35:08.450Z"
   },
   {
    "duration": 686,
    "start_time": "2022-12-02T16:35:29.097Z"
   },
   {
    "duration": 673,
    "start_time": "2022-12-02T16:35:39.354Z"
   }
  ],
  "kernelspec": {
   "display_name": "Python 3 (ipykernel)",
   "language": "python",
   "name": "python3"
  },
  "language_info": {
   "codemirror_mode": {
    "name": "ipython",
    "version": 3
   },
   "file_extension": ".py",
   "mimetype": "text/x-python",
   "name": "python",
   "nbconvert_exporter": "python",
   "pygments_lexer": "ipython3",
   "version": "3.9.12"
  },
  "toc": {
   "base_numbering": 1,
   "nav_menu": {},
   "number_sections": true,
   "sideBar": true,
   "skip_h1_title": true,
   "title_cell": "Содержание",
   "title_sidebar": "Contents",
   "toc_cell": true,
   "toc_position": {
    "height": "calc(100% - 180px)",
    "left": "10px",
    "top": "150px",
    "width": "241.188px"
   },
   "toc_section_display": true,
   "toc_window_display": true
  }
 },
 "nbformat": 4,
 "nbformat_minor": 2
}
