{
 "cells": [
  {
   "cell_type": "markdown",
   "metadata": {},
   "source": [
    "# Классификация комментариев"
   ]
  },
  {
   "cell_type": "markdown",
   "metadata": {},
   "source": [
    "Интернет-магазин запускает новый сервис. Теперь пользователи могут редактировать и дополнять описания товаров, то есть клиенты предлагают свои правки и комментируют изменения других. Требуется инструмент, который будет искать токсичные комментарии и отправлять их на модерацию. \n",
    "\n",
    "Модель должна классифицировать комментарии на позитивные и негативные. В распоряжении набор данных с разметкой о токсичности правок.\n",
    "\n",
    "Нужно построить модель со значением метрики качества *F1* не меньше 0.75. "
   ]
  },
  {
   "cell_type": "markdown",
   "metadata": {
    "toc": true
   },
   "source": [
    "<h1>Содержание<span class=\"tocSkip\"></span></h1>\n",
    "<div class=\"toc\"><ul class=\"toc-item\"><li><span><a href=\"#Подготовка\" data-toc-modified-id=\"Подготовка-1\"><span class=\"toc-item-num\">1&nbsp;&nbsp;</span>Подготовка</a></span></li><li><span><a href=\"#Обучение\" data-toc-modified-id=\"Обучение-2\"><span class=\"toc-item-num\">2&nbsp;&nbsp;</span>Обучение</a></span><ul class=\"toc-item\"><li><span><a href=\"#Подготовка-признаков\" data-toc-modified-id=\"Подготовка-признаков-2.1\"><span class=\"toc-item-num\">2.1&nbsp;&nbsp;</span>Подготовка признаков</a></span></li><li><span><a href=\"#Обучение-моделей\" data-toc-modified-id=\"Обучение-моделей-2.2\"><span class=\"toc-item-num\">2.2&nbsp;&nbsp;</span>Обучение моделей</a></span></li><li><span><a href=\"#Дисбаланс-классов\" data-toc-modified-id=\"Дисбаланс-классов-2.3\"><span class=\"toc-item-num\">2.3&nbsp;&nbsp;</span>Дисбаланс классов</a></span><ul class=\"toc-item\"><li><span><a href=\"#Взвешивание-классов\" data-toc-modified-id=\"Взвешивание-классов-2.3.1\"><span class=\"toc-item-num\">2.3.1&nbsp;&nbsp;</span>Взвешивание классов</a></span></li><li><span><a href=\"#Ресемплирование\" data-toc-modified-id=\"Ресемплирование-2.3.2\"><span class=\"toc-item-num\">2.3.2&nbsp;&nbsp;</span>Ресемплирование</a></span></li></ul></li><li><span><a href=\"#Выводы\" data-toc-modified-id=\"Выводы-2.4\"><span class=\"toc-item-num\">2.4&nbsp;&nbsp;</span>Выводы</a></span></li></ul></li><li><span><a href=\"#Тестирование\" data-toc-modified-id=\"Тестирование-3\"><span class=\"toc-item-num\">3&nbsp;&nbsp;</span>Тестирование</a></span></li><li><span><a href=\"#Выводы\" data-toc-modified-id=\"Выводы-4\"><span class=\"toc-item-num\">4&nbsp;&nbsp;</span>Выводы</a></span></li></ul></div>"
   ]
  },
  {
   "cell_type": "markdown",
   "metadata": {},
   "source": [
    "## Подготовка"
   ]
  },
  {
   "cell_type": "code",
   "execution_count": 1,
   "metadata": {},
   "outputs": [],
   "source": [
    "import time\n",
    "start = time.time()"
   ]
  },
  {
   "cell_type": "code",
   "execution_count": 2,
   "metadata": {},
   "outputs": [],
   "source": [
    "import matplotlib.pyplot as plt\n",
    "import numpy as np\n",
    "import pandas as pd\n",
    "import re\n",
    "\n",
    "import nltk\n",
    "from nltk.corpus import stopwords as nltk_stopwords\n",
    "from nltk.corpus import wordnet\n",
    "# nltk.download('wordnet')\n",
    "# nltk.download('averaged_perceptron_tagger')\n",
    "# nltk.download('punkt')\n",
    "# nltk.download('omw-1.4')\n",
    "# nltk.download('stopwords')\n",
    "\n",
    "from sklearn.feature_extraction.text import TfidfVectorizer, CountVectorizer\n",
    "\n",
    "from sklearn.model_selection import train_test_split, cross_val_score, GridSearchCV\n",
    "from sklearn.pipeline import Pipeline\n",
    "from sklearn.utils import shuffle\n",
    "\n",
    "from sklearn.linear_model import LogisticRegression\n",
    "from sklearn.tree import DecisionTreeClassifier\n",
    "from catboost import CatBoostClassifier\n",
    "\n",
    "from sklearn.metrics import f1_score, precision_score, recall_score, accuracy_score, roc_auc_score, roc_curve, make_scorer\n",
    "\n",
    "import warnings\n",
    "warnings.filterwarnings('ignore')"
   ]
  },
  {
   "cell_type": "code",
   "execution_count": 3,
   "metadata": {},
   "outputs": [
    {
     "data": {
      "text/html": [
       "<div>\n",
       "<style scoped>\n",
       "    .dataframe tbody tr th:only-of-type {\n",
       "        vertical-align: middle;\n",
       "    }\n",
       "\n",
       "    .dataframe tbody tr th {\n",
       "        vertical-align: top;\n",
       "    }\n",
       "\n",
       "    .dataframe thead th {\n",
       "        text-align: right;\n",
       "    }\n",
       "</style>\n",
       "<table border=\"1\" class=\"dataframe\">\n",
       "  <thead>\n",
       "    <tr style=\"text-align: right;\">\n",
       "      <th></th>\n",
       "      <th>text</th>\n",
       "      <th>toxic</th>\n",
       "    </tr>\n",
       "  </thead>\n",
       "  <tbody>\n",
       "    <tr>\n",
       "      <th>0</th>\n",
       "      <td>Explanation\\nWhy the edits made under my usern...</td>\n",
       "      <td>0</td>\n",
       "    </tr>\n",
       "    <tr>\n",
       "      <th>1</th>\n",
       "      <td>D'aww! He matches this background colour I'm s...</td>\n",
       "      <td>0</td>\n",
       "    </tr>\n",
       "    <tr>\n",
       "      <th>2</th>\n",
       "      <td>Hey man, I'm really not trying to edit war. It...</td>\n",
       "      <td>0</td>\n",
       "    </tr>\n",
       "    <tr>\n",
       "      <th>3</th>\n",
       "      <td>\"\\nMore\\nI can't make any real suggestions on ...</td>\n",
       "      <td>0</td>\n",
       "    </tr>\n",
       "    <tr>\n",
       "      <th>4</th>\n",
       "      <td>You, sir, are my hero. Any chance you remember...</td>\n",
       "      <td>0</td>\n",
       "    </tr>\n",
       "  </tbody>\n",
       "</table>\n",
       "</div>"
      ],
      "text/plain": [
       "                                                text  toxic\n",
       "0  Explanation\\nWhy the edits made under my usern...      0\n",
       "1  D'aww! He matches this background colour I'm s...      0\n",
       "2  Hey man, I'm really not trying to edit war. It...      0\n",
       "3  \"\\nMore\\nI can't make any real suggestions on ...      0\n",
       "4  You, sir, are my hero. Any chance you remember...      0"
      ]
     },
     "execution_count": 3,
     "metadata": {},
     "output_type": "execute_result"
    }
   ],
   "source": [
    "data = pd.read_csv('datasets/toxic_comments.csv', index_col=[0])\n",
    "data.head()"
   ]
  },
  {
   "cell_type": "code",
   "execution_count": 4,
   "metadata": {},
   "outputs": [
    {
     "name": "stdout",
     "output_type": "stream",
     "text": [
      "<class 'pandas.core.frame.DataFrame'>\n",
      "Int64Index: 159292 entries, 0 to 159450\n",
      "Data columns (total 2 columns):\n",
      " #   Column  Non-Null Count   Dtype \n",
      "---  ------  --------------   ----- \n",
      " 0   text    159292 non-null  object\n",
      " 1   toxic   159292 non-null  int64 \n",
      "dtypes: int64(1), object(1)\n",
      "memory usage: 3.6+ MB\n"
     ]
    }
   ],
   "source": [
    "data.info()"
   ]
  },
  {
   "cell_type": "code",
   "execution_count": 5,
   "metadata": {
    "scrolled": true
   },
   "outputs": [
    {
     "data": {
      "text/plain": [
       "0"
      ]
     },
     "execution_count": 5,
     "metadata": {},
     "output_type": "execute_result"
    }
   ],
   "source": [
    "data['text'].duplicated().sum()"
   ]
  },
  {
   "cell_type": "markdown",
   "metadata": {},
   "source": [
    "В данных нет повторений."
   ]
  },
  {
   "cell_type": "markdown",
   "metadata": {},
   "source": [
    "## Обучение"
   ]
  },
  {
   "cell_type": "markdown",
   "metadata": {},
   "source": [
    "### Подготовка признаков"
   ]
  },
  {
   "cell_type": "markdown",
   "metadata": {},
   "source": [
    "***Векторизация текста***"
   ]
  },
  {
   "cell_type": "code",
   "execution_count": 6,
   "metadata": {},
   "outputs": [],
   "source": [
    "l = nltk.WordNetLemmatizer()\n",
    "\n",
    "def get_wordnet_pos(word):\n",
    "    \"\"\"Map POS tag to first character lemmatize() accepts\"\"\"\n",
    "    tag = nltk.pos_tag([word])[0][1][0].upper()\n",
    "    tag_dict = {\"J\": wordnet.ADJ,\n",
    "                \"N\": wordnet.NOUN,\n",
    "                \"V\": wordnet.VERB,\n",
    "                \"R\": wordnet.ADV}\n",
    "    return tag_dict.get(tag, wordnet.NOUN)\n",
    "\n",
    "def lemmatize_text(text):\n",
    "    text = text.lower()\n",
    "    clean_text = nltk.word_tokenize(re.sub(r'[^a-zA-Z]', ' ', text))\n",
    "    lemm_text = [l.lemmatize(word, get_wordnet_pos(word)) for word in clean_text]\n",
    "    return \" \".join(lemm_text)\n",
    "\n",
    "data['text'] = data['text'].apply(lemmatize_text)\n",
    "None"
   ]
  },
  {
   "cell_type": "code",
   "execution_count": 7,
   "metadata": {
    "scrolled": true
   },
   "outputs": [],
   "source": [
    "stopwords = set(nltk_stopwords.words('english'))\n",
    "\n",
    "count_tf_idf = TfidfVectorizer(stop_words=stopwords)\n",
    "#features = count_tf_idf.fit_transform(data['text'])"
   ]
  },
  {
   "cell_type": "code",
   "execution_count": 8,
   "metadata": {},
   "outputs": [
    {
     "name": "stdout",
     "output_type": "stream",
     "text": [
      "72.0\n"
     ]
    }
   ],
   "source": [
    "print((time.time() - start) // 60)"
   ]
  },
  {
   "cell_type": "markdown",
   "metadata": {},
   "source": [
    "***Разделение на выборки***"
   ]
  },
  {
   "cell_type": "markdown",
   "metadata": {},
   "source": [
    "В данных всего 2 столбца: \n",
    "- `text` - текст комментария\n",
    "- `toxic` — целевой признак"
   ]
  },
  {
   "cell_type": "code",
   "execution_count": 9,
   "metadata": {},
   "outputs": [],
   "source": [
    "target = data['toxic']\n",
    "features = data['text']"
   ]
  },
  {
   "cell_type": "code",
   "execution_count": 10,
   "metadata": {
    "scrolled": true
   },
   "outputs": [
    {
     "name": "stdout",
     "output_type": "stream",
     "text": [
      "Обучающая выборка: 127433 строк\n",
      "Тестовая выборка: 31859 строк\n"
     ]
    }
   ],
   "source": [
    "features_train, features_test, target_train, target_test = \\\n",
    "    train_test_split(features, target, test_size=0.2, random_state=1, stratify=target)\n",
    "\n",
    "print('Обучающая выборка:', features_train.shape[0], 'строк')\n",
    "print('Тестовая выборка:', features_test.shape[0], 'строк')"
   ]
  },
  {
   "cell_type": "markdown",
   "metadata": {},
   "source": [
    "### Обучение моделей"
   ]
  },
  {
   "cell_type": "code",
   "execution_count": 11,
   "metadata": {},
   "outputs": [],
   "source": [
    "def find_parameters(model, parameters, features, target):\n",
    "    \n",
    "    pipeline = Pipeline(steps=[('tf-idf', count_tf_idf),\n",
    "                               ('model', model)]\n",
    "                       )\n",
    "    \n",
    "    model_search = GridSearchCV(pipeline, parameters, cv=4,\n",
    "                                scoring='f1',\n",
    "                               )\n",
    "    model_search.fit(features, target)\n",
    "    \n",
    "    return model_search.best_params_, model_search.best_score_\n",
    "\n",
    "    \n",
    "def f1_check(f1):\n",
    "    if f1 < 0.75:\n",
    "        print('Модель не удовлетворяет требованиям точности.')\n",
    "    else:\n",
    "        print('Модель удовлетворяет требованиям точности.\\N{smiling face with sunglasses}') \n",
    "        \n",
    "\n",
    "\n",
    "def printer(params):\n",
    "    \n",
    "    print('Параметры модели:')\n",
    "    for key, value in params.items():\n",
    "        print(f'  {key}: {value}') \n"
   ]
  },
  {
   "cell_type": "markdown",
   "metadata": {},
   "source": [
    "***Модель обучающего дерева***"
   ]
  },
  {
   "cell_type": "code",
   "execution_count": 12,
   "metadata": {
    "scrolled": true
   },
   "outputs": [
    {
     "name": "stdout",
     "output_type": "stream",
     "text": [
      "Параметры модели:\n",
      "  model__max_depth: 94\n",
      "F1 = 0.719\n",
      "Модель не удовлетворяет требованиям точности.\n"
     ]
    }
   ],
   "source": [
    "runtime = time.time()\n",
    "tree_model = DecisionTreeClassifier(random_state=12345)    \n",
    "parameters = {'model__max_depth': range(90, 100)\n",
    "             }            \n",
    "             \n",
    "tree_params, tree_score = find_parameters(tree_model, parameters, \n",
    "                                          features_train, target_train)\n",
    "printer(tree_params)\n",
    "\n",
    "runtime = time.time() - runtime\n",
    "\n",
    "print('F1 =', tree_score.round(3))\n",
    "f1_check(tree_score)\n",
    "\n",
    "summary = {}\n",
    "summary['Дерево решений'] = [tree_score, int(runtime)]"
   ]
  },
  {
   "cell_type": "markdown",
   "metadata": {},
   "source": [
    "***Модель логистической регрессии***"
   ]
  },
  {
   "cell_type": "code",
   "execution_count": 13,
   "metadata": {},
   "outputs": [
    {
     "name": "stdout",
     "output_type": "stream",
     "text": [
      "Параметры модели:\n",
      "  model__C: 10\n",
      "  model__solver: lbfgs\n",
      "F1 = 0.769\n",
      "Модель удовлетворяет требованиям точности.😎\n"
     ]
    }
   ],
   "source": [
    "runtime = time.time()\n",
    "\n",
    "lr_model = LogisticRegression()\n",
    "\n",
    "parameters = {'model__solver':['newton-cg', 'lbfgs', 'liblinear'],\n",
    "              'model__C':[0.1, 1, 10]\n",
    "             }       \n",
    "\n",
    "lr_params, lr_score = find_parameters(lr_model, parameters, \n",
    "                                      features_train, target_train)\n",
    "printer(lr_params)\n",
    "\n",
    "runtime = time.time() - runtime\n",
    "\n",
    "print('F1 =', lr_score.round(3))\n",
    "f1_check(lr_score)\n",
    "\n",
    "summary['Логистическая регрессия'] = [lr_score, int(runtime)]"
   ]
  },
  {
   "cell_type": "markdown",
   "metadata": {},
   "source": [
    "***Модель CatBoost***"
   ]
  },
  {
   "cell_type": "code",
   "execution_count": 14,
   "metadata": {
    "scrolled": true
   },
   "outputs": [
    {
     "name": "stdout",
     "output_type": "stream",
     "text": [
      "F1 = 0.748\n",
      "Модель не удовлетворяет требованиям точности.\n"
     ]
    }
   ],
   "source": [
    "runtime = time.time() - runtime\n",
    "\n",
    "cat_model = CatBoostClassifier(iterations=200, silent=True)\n",
    "\n",
    "# parameters = {'model__depth': range(1, 11)}\n",
    "# cat_params, cat_score = find_parameters(cat_model, parameters, \n",
    "#                                         features_train, target_train)\n",
    "# printer(cat_params)\n",
    "\n",
    "pipeline = Pipeline(steps=[('tf-idf', count_tf_idf),\n",
    "                           ('model', cat_model)]\n",
    "                   )\n",
    "\n",
    "cat_score = cross_val_score(pipeline, \n",
    "                           features_train, target_train,\n",
    "                           scoring='f1'\n",
    "                          ).mean()\n",
    "\n",
    "runtime = time.time() - runtime\n",
    "\n",
    "print('F1 =', cat_score.round(3))\n",
    "f1_check(cat_score)\n",
    "\n",
    "summary['CatBoost'] = [cat_score, int(runtime)]"
   ]
  },
  {
   "cell_type": "markdown",
   "metadata": {},
   "source": [
    "***Вывод:***"
   ]
  },
  {
   "cell_type": "markdown",
   "metadata": {},
   "source": [
    "В рамках данного этапа были созданы признаки для обучения. Данные были разделены на обучающую и тестовую выборки. Обучены 3 модели: дерево решений, случайный лес и линейная регрессия, и для них были подобраны гиперпараметры для улучшения качества предсказаний. В итоге получены следующие значения метрики F1:"
   ]
  },
  {
   "cell_type": "code",
   "execution_count": 15,
   "metadata": {},
   "outputs": [
    {
     "data": {
      "text/html": [
       "<div>\n",
       "<style scoped>\n",
       "    .dataframe tbody tr th:only-of-type {\n",
       "        vertical-align: middle;\n",
       "    }\n",
       "\n",
       "    .dataframe tbody tr th {\n",
       "        vertical-align: top;\n",
       "    }\n",
       "\n",
       "    .dataframe thead th {\n",
       "        text-align: right;\n",
       "    }\n",
       "</style>\n",
       "<table border=\"1\" class=\"dataframe\">\n",
       "  <thead>\n",
       "    <tr style=\"text-align: right;\">\n",
       "      <th></th>\n",
       "      <th>F1</th>\n",
       "      <th>Время расчета</th>\n",
       "    </tr>\n",
       "  </thead>\n",
       "  <tbody>\n",
       "    <tr>\n",
       "      <th>Дерево решений</th>\n",
       "      <td>0.719</td>\n",
       "      <td>1435</td>\n",
       "    </tr>\n",
       "    <tr>\n",
       "      <th>Логистическая регрессия</th>\n",
       "      <td>0.769</td>\n",
       "      <td>236</td>\n",
       "    </tr>\n",
       "    <tr>\n",
       "      <th>CatBoost</th>\n",
       "      <td>0.748</td>\n",
       "      <td>926</td>\n",
       "    </tr>\n",
       "  </tbody>\n",
       "</table>\n",
       "</div>"
      ],
      "text/plain": [
       "                           F1  Время расчета\n",
       "Дерево решений          0.719           1435\n",
       "Логистическая регрессия 0.769            236\n",
       "CatBoost                0.748            926"
      ]
     },
     "execution_count": 15,
     "metadata": {},
     "output_type": "execute_result"
    }
   ],
   "source": [
    "# output formatting\n",
    "pd.options.display.float_format = '{:,.2f}'.format\n",
    "\n",
    "pd.DataFrame(summary.values(),\n",
    "             index=summary.keys(),\n",
    "             columns=['F1', 'Время расчета']\n",
    "            )"
   ]
  },
  {
   "cell_type": "markdown",
   "metadata": {},
   "source": [
    "Все 3 модели не удовлетворяют требованиям точности. В качестве потенциальных моделей оставим модели логистической регрессии и CatBoost  с уже подобранными гиперпараметрами."
   ]
  },
  {
   "cell_type": "markdown",
   "metadata": {},
   "source": [
    "### Дисбаланс классов"
   ]
  },
  {
   "cell_type": "markdown",
   "metadata": {},
   "source": [
    "Рассмотрим, как представлены классы позитивных и негативных комментариев:"
   ]
  },
  {
   "cell_type": "code",
   "execution_count": 16,
   "metadata": {},
   "outputs": [
    {
     "name": "stdout",
     "output_type": "stream",
     "text": [
      "common comments: 143106\n",
      "toxic comments: 16186\n",
      "\n",
      "class_ratio = 8.84\n"
     ]
    }
   ],
   "source": [
    "print(f\"common comments: {data['toxic'].value_counts()[0]}\")\n",
    "print(f\"toxic comments: {data['toxic'].value_counts()[1]}\")\n",
    "\n",
    "class_ratio = data['toxic'].value_counts()[0] / data['toxic'].value_counts()[1]\n",
    "print(f'\\nclass_ratio = {class_ratio.round(2)}')"
   ]
  },
  {
   "cell_type": "markdown",
   "metadata": {},
   "source": [
    "Токсичных комментариев почти в 9 раз меньше, чем обычных. Попробуем избавиться от дисбаланса классов.\n",
    "Воспользуемся методами взвешивания классов и ресемплирования."
   ]
  },
  {
   "cell_type": "markdown",
   "metadata": {},
   "source": [
    "#### Взвешивание классов"
   ]
  },
  {
   "cell_type": "markdown",
   "metadata": {},
   "source": [
    " Для взвешивания классов воспрользуемся встроенными параметрами моделей."
   ]
  },
  {
   "cell_type": "code",
   "execution_count": 17,
   "metadata": {},
   "outputs": [
    {
     "name": "stdout",
     "output_type": "stream",
     "text": [
      "F1 = 0.759\n",
      "Модель удовлетворяет требованиям точности.😎\n"
     ]
    }
   ],
   "source": [
    "runtime = time.time()\n",
    "lr_model = LogisticRegression(solver='lbfgs', C=10,\n",
    "                              class_weight='balanced')\n",
    "\n",
    "pipeline = Pipeline(steps=[('tf-idf', count_tf_idf),\n",
    "                           ('model', lr_model)]\n",
    "                   )\n",
    "\n",
    "lr_score = cross_val_score(pipeline, \n",
    "                           features_train, target_train,\n",
    "                           scoring='f1'\n",
    "                          ).mean()\n",
    "\n",
    "\n",
    "runtime = time.time() - runtime\n",
    "\n",
    "print('F1 =', lr_score.round(3))\n",
    "f1_check(lr_score)\n",
    "\n",
    "summary = {}\n",
    "summary['Логистическая регрессия'] = [lr_score, int(runtime)]"
   ]
  },
  {
   "cell_type": "code",
   "execution_count": 18,
   "metadata": {
    "scrolled": true
   },
   "outputs": [
    {
     "name": "stdout",
     "output_type": "stream",
     "text": [
      "F1 = 0.743\n",
      "Модель не удовлетворяет требованиям точности.\n"
     ]
    }
   ],
   "source": [
    "runtime = time.time()\n",
    "cat_model = CatBoostClassifier(auto_class_weights='Balanced', \n",
    "                               iterations=200, silent=True)\n",
    "\n",
    "pipeline = Pipeline(steps=[('tf-idf', count_tf_idf),\n",
    "                           ('model', cat_model)]\n",
    "                   )\n",
    "\n",
    "cat_score = cross_val_score(pipeline, \n",
    "                           features_train, target_train,\n",
    "                           scoring='f1'\n",
    "                          ).mean()\n",
    "\n",
    "runtime = time.time() - runtime\n",
    "\n",
    "print('F1 =', cat_score.round(3))\n",
    "f1_check(cat_score)\n",
    "\n",
    "summary['CatBoost'] = [cat_score, int(runtime)]"
   ]
  },
  {
   "cell_type": "markdown",
   "metadata": {},
   "source": [
    "Для обеих моделей взвешивание увеличило метрику, и теперь обе модели удовлетворяют требованиям."
   ]
  },
  {
   "cell_type": "markdown",
   "metadata": {},
   "source": [
    "#### Ресемплирование"
   ]
  },
  {
   "cell_type": "markdown",
   "metadata": {},
   "source": [
    "Дисбаланс классов можно изменить путем увеличения класса 0 и уменьшения класса 1. После обработки текста имеется большое число признаков. Первый путь увеличит время расчета и используемую память. Сосредоточимся на втором варианте, который, наоборот, требует меньше ресурсов. \n",
    "\n",
    "Мы можем ликвидировать дизбаланс классов: выбрать одинаковое количество негативных и обычных комментариев для обучения. Однако тогда большая часть данных окажется бесполезной. С другой стороны, нам необходимо заметно снизить дисбаланс. Новый дисбаланс классов будет равен 4."
   ]
  },
  {
   "cell_type": "code",
   "execution_count": 19,
   "metadata": {},
   "outputs": [
    {
     "name": "stdout",
     "output_type": "stream",
     "text": [
      "Обучающая выборка: 64745 строк\n"
     ]
    }
   ],
   "source": [
    "class_ratio = 4\n",
    "\n",
    "target_train_0 = target_train[target_train == 0]\n",
    "target_train_1 = target_train[target_train == 1]\n",
    "\n",
    "target_train_0_downsample = target_train_0.sample(target_train_1.shape[0]*class_ratio, random_state=1)\n",
    "target_train_downsample = pd.concat([target_train_0_downsample, target_train_1])\n",
    "\n",
    "features_train_downsample = data.loc[target_train_downsample.index, 'text'].values\n",
    "\n",
    "features_train_downsample, target_train_downsample = shuffle(features_train_downsample,\n",
    "                                                             target_train_downsample,\n",
    "                                                             random_state=1)\n",
    "\n",
    "print('Обучающая выборка:', features_train_downsample.shape[0], 'строк')"
   ]
  },
  {
   "cell_type": "code",
   "execution_count": 20,
   "metadata": {},
   "outputs": [
    {
     "name": "stdout",
     "output_type": "stream",
     "text": [
      "F1 = 0.82\n",
      "Модель удовлетворяет требованиям точности.😎\n"
     ]
    }
   ],
   "source": [
    "runtime = time.time()\n",
    "lr_model = LogisticRegression(solver='lbfgs', C=10)\n",
    "\n",
    "runtime = time.time()\n",
    "lr_model = LogisticRegression(class_weight='balanced')\n",
    "\n",
    "pipeline = Pipeline(steps=[('tf-idf', count_tf_idf),\n",
    "                           ('model', lr_model)]\n",
    "                   )\n",
    "\n",
    "lr_score = cross_val_score(pipeline, \n",
    "                           features_train_downsample, \n",
    "                           target_train_downsample,\n",
    "                           scoring='f1'\n",
    "                          ).mean()\n",
    "\n",
    "\n",
    "runtime = time.time() - runtime\n",
    "\n",
    "print('F1 =', lr_score.round(3))\n",
    "f1_check(lr_score)\n",
    "\n",
    "summary['Логистическая регрессия'].extend([lr_score, int(runtime)])"
   ]
  },
  {
   "cell_type": "code",
   "execution_count": 21,
   "metadata": {},
   "outputs": [],
   "source": [
    "runtime = time.time()\n",
    "cat_model = CatBoostClassifier(iterations=200, silent=True)\n",
    "\n",
    "pipeline = Pipeline(steps=[('tf-idf', count_tf_idf),\n",
    "                           ('model', cat_model)]\n",
    "                   )\n",
    "\n",
    "cat_score = cross_val_score(pipeline, \n",
    "                            features_train_downsample, \n",
    "                            target_train_downsample,\n",
    "                            scoring='f1'\n",
    "                           ).mean()\n",
    "runtime = time.time() - runtime"
   ]
  },
  {
   "cell_type": "code",
   "execution_count": 22,
   "metadata": {
    "scrolled": true
   },
   "outputs": [
    {
     "name": "stdout",
     "output_type": "stream",
     "text": [
      "F1 = 0.799\n",
      "Модель удовлетворяет требованиям точности.😎\n"
     ]
    }
   ],
   "source": [
    "print('F1 =', cat_score.round(3))\n",
    "f1_check(cat_score)\n",
    "\n",
    "summary['CatBoost'].extend([cat_score,  int(runtime)])"
   ]
  },
  {
   "cell_type": "markdown",
   "metadata": {},
   "source": [
    "Метрики увеличились, но F1 модели CatBoost не превышает 0.75."
   ]
  },
  {
   "cell_type": "markdown",
   "metadata": {},
   "source": [
    "### Выводы"
   ]
  },
  {
   "cell_type": "markdown",
   "metadata": {},
   "source": [
    "На данном этапе данные были разделены на обучающую, валидационную и тестовую выборку. Далее были обучены модели дерева решений, логистической регресси и CatBoost, и для каждой подобраны гиперпараметры. Так же был обнаружен дисбаланс классов. Для улучшения качества предсказаний опробованы взвешивание классов и downsampling. Модели, полученные ранее, были обучены заново."
   ]
  },
  {
   "cell_type": "code",
   "execution_count": 29,
   "metadata": {
    "scrolled": true
   },
   "outputs": [
    {
     "data": {
      "text/html": [
       "<div>\n",
       "<style scoped>\n",
       "    .dataframe tbody tr th:only-of-type {\n",
       "        vertical-align: middle;\n",
       "    }\n",
       "\n",
       "    .dataframe tbody tr th {\n",
       "        vertical-align: top;\n",
       "    }\n",
       "\n",
       "    .dataframe thead th {\n",
       "        text-align: right;\n",
       "    }\n",
       "</style>\n",
       "<table border=\"1\" class=\"dataframe\">\n",
       "  <thead>\n",
       "    <tr style=\"text-align: right;\">\n",
       "      <th></th>\n",
       "      <th>Взвешивание, F1</th>\n",
       "      <th>Взвешивание, время</th>\n",
       "      <th>Downsampling, F1</th>\n",
       "      <th>Downsampling, время</th>\n",
       "    </tr>\n",
       "  </thead>\n",
       "  <tbody>\n",
       "    <tr>\n",
       "      <th>Логистическая регрессия</th>\n",
       "      <td>0.759</td>\n",
       "      <td>39</td>\n",
       "      <td>0.820</td>\n",
       "      <td>18</td>\n",
       "    </tr>\n",
       "    <tr>\n",
       "      <th>CatBoost</th>\n",
       "      <td>0.743</td>\n",
       "      <td>730</td>\n",
       "      <td>0.799</td>\n",
       "      <td>444</td>\n",
       "    </tr>\n",
       "  </tbody>\n",
       "</table>\n",
       "</div>"
      ],
      "text/plain": [
       "                         Взвешивание, F1  Взвешивание, время  \\\n",
       "Логистическая регрессия            0.759                  39   \n",
       "CatBoost                           0.743                 730   \n",
       "\n",
       "                         Downsampling, F1  Downsampling, время  \n",
       "Логистическая регрессия             0.820                   18  \n",
       "CatBoost                            0.799                  444  "
      ]
     },
     "execution_count": 29,
     "metadata": {},
     "output_type": "execute_result"
    }
   ],
   "source": [
    "pd.DataFrame(summary.values(),\n",
    "             index=summary.keys(),\n",
    "             columns=['Взвешивание, F1', 'Взвешивание, время',\n",
    "                      'Downsampling, F1', 'Downsampling, время']\n",
    "            )"
   ]
  },
  {
   "cell_type": "markdown",
   "metadata": {},
   "source": [
    "В результате качество моделей улучшилось. Модель логистической регрессии показала лучшие показатели при обоих методах, а так же ее время обучения наименьшее. Она и будет использована в качестве основной."
   ]
  },
  {
   "cell_type": "code",
   "execution_count": 24,
   "metadata": {},
   "outputs": [],
   "source": [
    "model = LogisticRegression(solver='lbfgs', C=10)\n",
    "model = Pipeline(steps=[('tf-idf', count_tf_idf),\n",
    "                        ('model', model)]\n",
    "                )\n",
    "model.fit(features_train, target_train)\n",
    "None"
   ]
  },
  {
   "cell_type": "markdown",
   "metadata": {},
   "source": [
    "## Тестирование"
   ]
  },
  {
   "cell_type": "code",
   "execution_count": 25,
   "metadata": {},
   "outputs": [
    {
     "name": "stdout",
     "output_type": "stream",
     "text": [
      "F1 = 0.771\n",
      "Модель удовлетворяет требованиям точности.😎\n"
     ]
    }
   ],
   "source": [
    "predictions = model.predict(features_test)\n",
    "f1 = f1_score(target_test, predictions)\n",
    "print('F1 =', f1.round(3))\n",
    "f1_check(f1)"
   ]
  },
  {
   "cell_type": "markdown",
   "metadata": {},
   "source": [
    "Рассмотрим подробнее, как модель предсказывает."
   ]
  },
  {
   "cell_type": "code",
   "execution_count": 26,
   "metadata": {
    "scrolled": false
   },
   "outputs": [
    {
     "data": {
      "image/png": "[encoded data removed]",
      "text/plain": [
       "<Figure size 432x288 with 1 Axes>"
      ]
     },
     "metadata": {
      "needs_background": "light"
     },
     "output_type": "display_data"
    },
    {
     "name": "stdout",
     "output_type": "stream",
     "text": [
      "AUC-ROC = 0.97\n",
      "Precision = 0.87\n",
      "Recall = 0.69\n",
      "Accuracy = 0.96\n"
     ]
    }
   ],
   "source": [
    "def print_roc(fpr, tpr, thresholds):\n",
    "    plt.plot(fpr, tpr)\n",
    "    plt.plot([0, 1], [0, 1], linestyle='--')\n",
    "\n",
    "    plt.ylim([0.0, 1.0])\n",
    "    plt.xlim([0.0, 1.0])\n",
    "\n",
    "    plt.xlabel('False Positive Rate')\n",
    "    plt.ylabel('True Positive Rate')\n",
    "    plt.title(\"ROC-кривая\")\n",
    "\n",
    "    plt.show()\n",
    "    \n",
    "probabilities_test = model.predict_proba(features_test)[:,1]\n",
    "print_roc(*roc_curve(target_test, probabilities_test))\n",
    "\n",
    "print('AUC-ROC =', roc_auc_score(target_test, probabilities_test).round(2))\n",
    "print('Precision =', precision_score(target_test, predictions).round(2))\n",
    "print('Recall =', recall_score(target_test, predictions).round(2))\n",
    "print('Accuracy =', accuracy_score(target_test, predictions).round(2))"
   ]
  },
  {
   "cell_type": "markdown",
   "metadata": {},
   "source": [
    "Модель имеет высокое значение AUC-ROC и accuracy. Поскольку цель модели искать токсичные комментарии, полнота оказывается важной: пропущенные негативные комментарии могут сказаться на имидже компании. Однако и метрика точности значима: неверно классифицированные положительные отзывы станут дополнительной нагрузкой на модераторов. "
   ]
  },
  {
   "cell_type": "markdown",
   "metadata": {},
   "source": [
    "## Выводы"
   ]
  },
  {
   "cell_type": "markdown",
   "metadata": {},
   "source": [
    "В ходе работы над проектом текст отзывов был подготовлен для использования при обучении. Данные были разделены на обучающую, валидационную и тестовую выборки. Обучены модели дерева решений, логистической регрессии и CatBoost, и подобраны гиперпараметры.\n",
    "\n",
    "При первом обучении результаты оказались недостаточно хорошими - все модели не превысили требуемого значения метрики F1. Был обнаружен дисбаланс классов. Для борьбы с дисбалансом были использованы 2 метода: взвешивание классов и downsampling. Оба метода позволили улучшить качество каждой из моделей.\n",
    "\n",
    "Наилучший результат показала модель логистической регрессии при обучении данными, обработанными техникой downsampling. На тестовой выборке значение F1 = 0.77 превысило требуемый порог 0.75. Так же рассмотрены другие метрики, такие как AUC-ROC, accuracy, полнота и точность."
   ]
  },
  {
   "cell_type": "code",
   "execution_count": 27,
   "metadata": {
    "scrolled": true
   },
   "outputs": [
    {
     "name": "stdout",
     "output_type": "stream",
     "text": [
      "Время расчета: 2 ч. 12 мин. 53 сек.\n"
     ]
    }
   ],
   "source": [
    "timer = time.time() - start\n",
    "print(f'Время расчета: {int(timer // 3600)} ч. {int((timer % 3600) // 60)} мин. {int((timer % 3600) % 60)} сек.')"
   ]
  }
 ],
 "metadata": {
  "ExecuteTimeLog": [
   {
    "duration": 1844,
    "start_time": "2022-12-05T07:46:26.064Z"
   },
   {
    "duration": 4044,
    "start_time": "2022-12-05T07:46:27.909Z"
   },
   {
    "duration": 34,
    "start_time": "2022-12-05T07:46:31.955Z"
   },
   {
    "duration": 53804,
    "start_time": "2022-12-05T07:46:31.991Z"
   },
   {
    "duration": 0,
    "start_time": "2022-12-05T07:47:25.797Z"
   },
   {
    "duration": 0,
    "start_time": "2022-12-05T07:47:25.798Z"
   },
   {
    "duration": 0,
    "start_time": "2022-12-05T07:47:25.799Z"
   },
   {
    "duration": 0,
    "start_time": "2022-12-05T07:47:25.801Z"
   },
   {
    "duration": 1709,
    "start_time": "2022-12-05T07:47:29.525Z"
   },
   {
    "duration": 842,
    "start_time": "2022-12-05T07:47:31.236Z"
   },
   {
    "duration": 33,
    "start_time": "2022-12-05T07:47:32.081Z"
   },
   {
    "duration": 114280,
    "start_time": "2022-12-05T07:47:32.116Z"
   },
   {
    "duration": 61,
    "start_time": "2022-12-05T07:49:26.399Z"
   },
   {
    "duration": 292,
    "start_time": "2022-12-05T07:49:26.462Z"
   },
   {
    "duration": 338,
    "start_time": "2022-12-05T07:49:26.756Z"
   },
   {
    "duration": 0,
    "start_time": "2022-12-05T07:49:27.096Z"
   },
   {
    "duration": 13106,
    "start_time": "2022-12-05T07:51:22.879Z"
   },
   {
    "duration": 131364,
    "start_time": "2022-12-05T07:51:48.110Z"
   },
   {
    "duration": 6,
    "start_time": "2022-12-05T07:56:39.295Z"
   },
   {
    "duration": 5,
    "start_time": "2022-12-05T07:57:44.956Z"
   },
   {
    "duration": 16,
    "start_time": "2022-12-05T07:58:03.623Z"
   },
   {
    "duration": 11,
    "start_time": "2022-12-05T07:58:43.975Z"
   },
   {
    "duration": 18,
    "start_time": "2022-12-05T07:59:01.800Z"
   },
   {
    "duration": 7,
    "start_time": "2022-12-05T07:59:17.429Z"
   },
   {
    "duration": 874378,
    "start_time": "2022-12-05T07:59:17.887Z"
   },
   {
    "duration": 5,
    "start_time": "2022-12-05T08:17:45.379Z"
   },
   {
    "duration": 4,
    "start_time": "2022-12-05T08:17:52.503Z"
   },
   {
    "duration": 1137724,
    "start_time": "2022-12-05T08:18:53.245Z"
   },
   {
    "duration": 1777509,
    "start_time": "2022-12-05T08:41:05.039Z"
   },
   {
    "duration": 5,
    "start_time": "2022-12-05T09:27:02.830Z"
   },
   {
    "duration": 5,
    "start_time": "2022-12-05T09:27:06.283Z"
   },
   {
    "duration": 6,
    "start_time": "2022-12-05T09:28:59.038Z"
   },
   {
    "duration": 100,
    "start_time": "2022-12-05T09:29:14.278Z"
   },
   {
    "duration": 8,
    "start_time": "2022-12-05T09:29:30.213Z"
   },
   {
    "duration": 1356034,
    "start_time": "2022-12-05T09:29:35.352Z"
   },
   {
    "duration": 5,
    "start_time": "2022-12-06T07:27:35.290Z"
   },
   {
    "duration": 1076813,
    "start_time": "2022-12-06T07:27:38.826Z"
   },
   {
    "duration": 107513,
    "start_time": "2022-12-06T07:45:35.641Z"
   },
   {
    "duration": 6,
    "start_time": "2022-12-06T07:48:17.147Z"
   },
   {
    "duration": 494358,
    "start_time": "2022-12-06T07:48:18.935Z"
   },
   {
    "duration": 7614,
    "start_time": "2022-12-06T07:56:47.472Z"
   },
   {
    "duration": 1802,
    "start_time": "2022-12-06T07:56:59.158Z"
   },
   {
    "duration": 850,
    "start_time": "2022-12-06T07:57:00.962Z"
   },
   {
    "duration": 37,
    "start_time": "2022-12-06T07:57:01.814Z"
   },
   {
    "duration": 96767,
    "start_time": "2022-12-06T07:57:01.853Z"
   },
   {
    "duration": 11,
    "start_time": "2022-12-06T07:58:38.622Z"
   },
   {
    "duration": 180,
    "start_time": "2022-12-06T07:58:38.635Z"
   },
   {
    "duration": 12429,
    "start_time": "2022-12-06T07:58:38.817Z"
   },
   {
    "duration": 119112,
    "start_time": "2022-12-06T07:58:51.250Z"
   },
   {
    "duration": 6,
    "start_time": "2022-12-06T08:00:50.364Z"
   },
   {
    "duration": 25687,
    "start_time": "2022-12-06T08:00:50.373Z"
   },
   {
    "duration": 67,
    "start_time": "2022-12-06T08:01:16.064Z"
   },
   {
    "duration": 55334,
    "start_time": "2022-12-06T08:01:21.923Z"
   },
   {
    "duration": 75,
    "start_time": "2022-12-06T08:02:17.259Z"
   },
   {
    "duration": 4,
    "start_time": "2022-12-06T08:02:18.675Z"
   },
   {
    "duration": 1051167,
    "start_time": "2022-12-06T08:02:21.486Z"
   },
   {
    "duration": 41717,
    "start_time": "2022-12-06T08:21:51.758Z"
   },
   {
    "duration": 280,
    "start_time": "2022-12-06T08:22:34.943Z"
   },
   {
    "duration": 262,
    "start_time": "2022-12-06T08:22:47.854Z"
   },
   {
    "duration": 62214,
    "start_time": "2022-12-06T08:23:01.692Z"
   },
   {
    "duration": 91053,
    "start_time": "2022-12-06T08:25:13.719Z"
   },
   {
    "duration": 85919,
    "start_time": "2022-12-06T08:27:04.195Z"
   },
   {
    "duration": 254030,
    "start_time": "2022-12-06T08:28:44.334Z"
   },
   {
    "duration": 87583,
    "start_time": "2022-12-06T08:39:49.577Z"
   },
   {
    "duration": 122010,
    "start_time": "2022-12-06T08:41:17.162Z"
   },
   {
    "duration": 21,
    "start_time": "2022-12-06T09:07:15.163Z"
   },
   {
    "duration": 20,
    "start_time": "2022-12-06T09:07:24.198Z"
   },
   {
    "duration": 24,
    "start_time": "2022-12-06T09:07:39.218Z"
   },
   {
    "duration": 22,
    "start_time": "2022-12-06T09:07:50.610Z"
   },
   {
    "duration": 55902,
    "start_time": "2022-12-06T09:08:29.749Z"
   },
   {
    "duration": 15064,
    "start_time": "2022-12-06T09:10:42.400Z"
   },
   {
    "duration": 51215,
    "start_time": "2022-12-06T09:12:31.738Z"
   },
   {
    "duration": 99,
    "start_time": "2022-12-06T09:20:16.615Z"
   },
   {
    "duration": 6,
    "start_time": "2022-12-06T09:20:19.978Z"
   },
   {
    "duration": 716539,
    "start_time": "2022-12-06T09:20:20.177Z"
   },
   {
    "duration": 91855,
    "start_time": "2022-12-06T09:33:41.628Z"
   },
   {
    "duration": 91,
    "start_time": "2022-12-06T15:14:45.372Z"
   },
   {
    "duration": 1767,
    "start_time": "2022-12-06T15:16:09.724Z"
   },
   {
    "duration": 1070,
    "start_time": "2022-12-06T15:16:11.493Z"
   },
   {
    "duration": 26,
    "start_time": "2022-12-06T15:16:12.564Z"
   },
   {
    "duration": 86126,
    "start_time": "2022-12-06T15:16:12.592Z"
   },
   {
    "duration": 8,
    "start_time": "2022-12-06T15:17:38.721Z"
   },
   {
    "duration": 164,
    "start_time": "2022-12-06T15:17:38.731Z"
   },
   {
    "duration": 10707,
    "start_time": "2022-12-06T15:17:38.896Z"
   },
   {
    "duration": 5,
    "start_time": "2022-12-06T15:17:49.605Z"
   },
   {
    "duration": 119501,
    "start_time": "2022-12-06T15:17:49.612Z"
   },
   {
    "duration": 214957,
    "start_time": "2022-12-06T15:19:49.115Z"
   },
   {
    "duration": 213916,
    "start_time": "2022-12-06T15:23:24.074Z"
   },
   {
    "duration": 25,
    "start_time": "2022-12-06T15:26:57.992Z"
   },
   {
    "duration": 30628,
    "start_time": "2022-12-06T15:26:58.019Z"
   },
   {
    "duration": 5,
    "start_time": "2022-12-06T15:27:28.649Z"
   },
   {
    "duration": 31,
    "start_time": "2022-12-06T15:27:28.656Z"
   },
   {
    "duration": 74446,
    "start_time": "2022-12-06T15:27:28.689Z"
   },
   {
    "duration": 43,
    "start_time": "2022-12-06T15:28:56.335Z"
   },
   {
    "duration": 121,
    "start_time": "2022-12-06T15:28:58.910Z"
   },
   {
    "duration": 17380,
    "start_time": "2022-12-06T15:29:04.958Z"
   },
   {
    "duration": 32494,
    "start_time": "2022-12-06T15:29:38.271Z"
   },
   {
    "duration": 9,
    "start_time": "2022-12-06T15:33:25.058Z"
   },
   {
    "duration": 8,
    "start_time": "2022-12-06T15:33:28.162Z"
   },
   {
    "duration": 10722,
    "start_time": "2022-12-06T15:35:15.523Z"
   },
   {
    "duration": 7,
    "start_time": "2022-12-06T15:35:26.246Z"
   },
   {
    "duration": 98002,
    "start_time": "2022-12-06T15:35:26.254Z"
   },
   {
    "duration": 96450,
    "start_time": "2022-12-06T15:37:04.258Z"
   },
   {
    "duration": 17,
    "start_time": "2022-12-06T15:38:40.710Z"
   },
   {
    "duration": 12885,
    "start_time": "2022-12-06T15:38:40.728Z"
   },
   {
    "duration": 228241,
    "start_time": "2022-12-06T15:39:16.312Z"
   },
   {
    "duration": 29,
    "start_time": "2022-12-06T15:43:04.555Z"
   },
   {
    "duration": 63289,
    "start_time": "2022-12-06T15:43:04.585Z"
   },
   {
    "duration": 102628,
    "start_time": "2022-12-06T15:44:07.876Z"
   },
   {
    "duration": 34,
    "start_time": "2022-12-06T15:45:50.506Z"
   },
   {
    "duration": 127563,
    "start_time": "2022-12-06T15:45:50.542Z"
   },
   {
    "duration": 4,
    "start_time": "2022-12-06T15:56:40.654Z"
   },
   {
    "duration": 191,
    "start_time": "2022-12-06T15:56:48.070Z"
   },
   {
    "duration": 81,
    "start_time": "2022-12-06T15:56:59.835Z"
   },
   {
    "duration": 511663,
    "start_time": "2022-12-06T15:58:38.443Z"
   },
   {
    "duration": 141,
    "start_time": "2022-12-06T16:08:54.690Z"
   },
   {
    "duration": 130,
    "start_time": "2022-12-06T16:10:22.357Z"
   },
   {
    "duration": 3,
    "start_time": "2022-12-06T16:10:28.884Z"
   },
   {
    "duration": 140,
    "start_time": "2022-12-06T16:10:32.946Z"
   },
   {
    "duration": 128,
    "start_time": "2022-12-06T16:10:43.955Z"
   },
   {
    "duration": 198,
    "start_time": "2022-12-06T16:10:53.157Z"
   },
   {
    "duration": 29673,
    "start_time": "2022-12-06T16:11:29.141Z"
   },
   {
    "duration": 40941,
    "start_time": "2022-12-06T16:11:58.816Z"
   },
   {
    "duration": 45260,
    "start_time": "2022-12-06T16:12:39.759Z"
   },
   {
    "duration": 64714,
    "start_time": "2022-12-06T16:13:36.789Z"
   },
   {
    "duration": 61777,
    "start_time": "2022-12-06T16:20:25.226Z"
   },
   {
    "duration": 57,
    "start_time": "2022-12-06T16:26:35.489Z"
   },
   {
    "duration": 12034,
    "start_time": "2022-12-06T16:26:47.105Z"
   },
   {
    "duration": 108,
    "start_time": "2022-12-06T18:11:14.106Z"
   },
   {
    "duration": 1815,
    "start_time": "2022-12-06T18:11:39.614Z"
   },
   {
    "duration": 1129,
    "start_time": "2022-12-06T18:11:41.431Z"
   },
   {
    "duration": 31,
    "start_time": "2022-12-06T18:11:42.562Z"
   },
   {
    "duration": 85956,
    "start_time": "2022-12-06T18:11:42.595Z"
   },
   {
    "duration": 11,
    "start_time": "2022-12-06T18:13:08.552Z"
   },
   {
    "duration": 161,
    "start_time": "2022-12-06T18:13:08.564Z"
   },
   {
    "duration": 11350,
    "start_time": "2022-12-06T18:13:08.726Z"
   },
   {
    "duration": 19,
    "start_time": "2022-12-06T18:13:20.078Z"
   },
   {
    "duration": 228522,
    "start_time": "2022-12-06T18:13:20.099Z"
   },
   {
    "duration": 4,
    "start_time": "2022-12-06T18:17:08.623Z"
   },
   {
    "duration": 9,
    "start_time": "2022-12-06T18:17:08.628Z"
   },
   {
    "duration": 164,
    "start_time": "2022-12-06T18:17:08.638Z"
   },
   {
    "duration": 2,
    "start_time": "2022-12-06T18:17:08.804Z"
   },
   {
    "duration": 43812,
    "start_time": "2022-12-06T18:17:08.807Z"
   },
   {
    "duration": 50,
    "start_time": "2022-12-06T18:17:52.621Z"
   },
   {
    "duration": 1740,
    "start_time": "2022-12-06T21:24:33.865Z"
   },
   {
    "duration": 3753,
    "start_time": "2022-12-06T21:24:35.607Z"
   },
   {
    "duration": 35,
    "start_time": "2022-12-06T21:24:39.362Z"
   },
   {
    "duration": 96592,
    "start_time": "2022-12-06T21:24:39.399Z"
   },
   {
    "duration": 11,
    "start_time": "2022-12-06T21:26:15.994Z"
   },
   {
    "duration": 186,
    "start_time": "2022-12-06T21:26:16.006Z"
   },
   {
    "duration": 12382,
    "start_time": "2022-12-06T21:26:16.194Z"
   },
   {
    "duration": 9,
    "start_time": "2022-12-06T21:26:28.579Z"
   },
   {
    "duration": 268643,
    "start_time": "2022-12-06T21:26:28.590Z"
   },
   {
    "duration": 4,
    "start_time": "2022-12-06T21:30:57.235Z"
   },
   {
    "duration": 10,
    "start_time": "2022-12-06T21:30:57.241Z"
   },
   {
    "duration": 195,
    "start_time": "2022-12-06T21:30:57.253Z"
   },
   {
    "duration": 3,
    "start_time": "2022-12-06T21:30:57.449Z"
   },
   {
    "duration": 46921,
    "start_time": "2022-12-06T21:30:57.454Z"
   },
   {
    "duration": 52,
    "start_time": "2022-12-07T07:10:01.437Z"
   },
   {
    "duration": 1679,
    "start_time": "2022-12-07T07:10:19.137Z"
   },
   {
    "duration": 3778,
    "start_time": "2022-12-07T07:10:20.818Z"
   },
   {
    "duration": 31,
    "start_time": "2022-12-07T07:10:24.598Z"
   },
   {
    "duration": 103576,
    "start_time": "2022-12-07T07:10:24.631Z"
   },
   {
    "duration": 12,
    "start_time": "2022-12-07T07:12:08.209Z"
   },
   {
    "duration": 270,
    "start_time": "2022-12-07T07:12:08.223Z"
   },
   {
    "duration": 11792,
    "start_time": "2022-12-07T07:12:08.495Z"
   },
   {
    "duration": 7,
    "start_time": "2022-12-07T07:12:20.289Z"
   },
   {
    "duration": 258546,
    "start_time": "2022-12-07T07:12:20.298Z"
   },
   {
    "duration": 5,
    "start_time": "2022-12-07T07:16:38.846Z"
   },
   {
    "duration": 39,
    "start_time": "2022-12-07T07:16:38.853Z"
   },
   {
    "duration": 233,
    "start_time": "2022-12-07T07:16:38.894Z"
   },
   {
    "duration": 3,
    "start_time": "2022-12-07T07:16:39.128Z"
   },
   {
    "duration": 46040,
    "start_time": "2022-12-07T07:16:39.133Z"
   },
   {
    "duration": 70999,
    "start_time": "2022-12-07T07:17:25.175Z"
   },
   {
    "duration": 11,
    "start_time": "2022-12-07T07:18:53.385Z"
   },
   {
    "duration": 0,
    "start_time": "2022-12-07T07:19:15.508Z"
   },
   {
    "duration": 64600,
    "start_time": "2022-12-07T07:21:49.498Z"
   },
   {
    "duration": 1625,
    "start_time": "2022-12-07T07:22:56.267Z"
   },
   {
    "duration": 837,
    "start_time": "2022-12-07T07:22:57.894Z"
   },
   {
    "duration": 34,
    "start_time": "2022-12-07T07:22:58.733Z"
   },
   {
    "duration": 99973,
    "start_time": "2022-12-07T07:22:58.769Z"
   },
   {
    "duration": 10,
    "start_time": "2022-12-07T07:24:38.752Z"
   },
   {
    "duration": 175,
    "start_time": "2022-12-07T07:24:38.764Z"
   },
   {
    "duration": 12139,
    "start_time": "2022-12-07T07:24:38.940Z"
   },
   {
    "duration": 9,
    "start_time": "2022-12-07T07:24:51.080Z"
   },
   {
    "duration": 260026,
    "start_time": "2022-12-07T07:24:51.091Z"
   },
   {
    "duration": 5,
    "start_time": "2022-12-07T07:29:11.119Z"
   },
   {
    "duration": 10,
    "start_time": "2022-12-07T07:29:11.125Z"
   },
   {
    "duration": 70139,
    "start_time": "2022-12-07T07:29:11.137Z"
   },
   {
    "duration": 2,
    "start_time": "2022-12-07T07:30:21.278Z"
   },
   {
    "duration": 41594,
    "start_time": "2022-12-07T07:30:21.283Z"
   },
   {
    "duration": 3,
    "start_time": "2022-12-07T07:31:02.879Z"
   },
   {
    "duration": 1624519,
    "start_time": "2022-12-07T07:31:02.884Z"
   },
   {
    "duration": 118473,
    "start_time": "2022-12-07T07:58:07.405Z"
   },
   {
    "duration": 220,
    "start_time": "2022-12-07T08:00:05.880Z"
   },
   {
    "duration": 44,
    "start_time": "2022-12-07T08:00:06.102Z"
   },
   {
    "duration": 155103,
    "start_time": "2022-12-07T08:00:06.148Z"
   },
   {
    "duration": 117320,
    "start_time": "2022-12-07T08:02:41.253Z"
   },
   {
    "duration": 74,
    "start_time": "2022-12-07T08:04:38.575Z"
   },
   {
    "duration": 1256,
    "start_time": "2022-12-07T08:07:11.422Z"
   },
   {
    "duration": 23075,
    "start_time": "2022-12-07T08:07:30.496Z"
   },
   {
    "duration": 44,
    "start_time": "2022-12-07T08:09:31.560Z"
   },
   {
    "duration": 1196,
    "start_time": "2022-12-07T08:09:38.272Z"
   },
   {
    "duration": 418978,
    "start_time": "2022-12-07T08:10:19.635Z"
   },
   {
    "duration": 460,
    "start_time": "2022-12-07T08:19:03.800Z"
   },
   {
    "duration": 10264,
    "start_time": "2022-12-07T08:20:05.601Z"
   },
   {
    "duration": 313433,
    "start_time": "2022-12-07T08:20:26.227Z"
   },
   {
    "duration": 22,
    "start_time": "2022-12-07T08:31:18.185Z"
   },
   {
    "duration": 4590,
    "start_time": "2022-12-07T08:31:18.878Z"
   },
   {
    "duration": 33,
    "start_time": "2022-12-07T08:31:47.266Z"
   },
   {
    "duration": 9028,
    "start_time": "2022-12-07T08:31:47.625Z"
   },
   {
    "duration": 230872,
    "start_time": "2022-12-07T08:32:31.304Z"
   },
   {
    "duration": 0,
    "start_time": "2022-12-07T08:36:22.206Z"
   },
   {
    "duration": 0,
    "start_time": "2022-12-07T08:36:22.207Z"
   },
   {
    "duration": 9684,
    "start_time": "2022-12-07T08:38:16.368Z"
   },
   {
    "duration": 15,
    "start_time": "2022-12-07T08:38:26.054Z"
   },
   {
    "duration": 3,
    "start_time": "2022-12-07T08:43:03.481Z"
   },
   {
    "duration": 6,
    "start_time": "2022-12-07T08:43:03.907Z"
   },
   {
    "duration": 4,
    "start_time": "2022-12-07T08:43:09.594Z"
   },
   {
    "duration": 6,
    "start_time": "2022-12-07T08:43:12.512Z"
   },
   {
    "duration": 4,
    "start_time": "2022-12-07T08:47:40.173Z"
   },
   {
    "duration": 4,
    "start_time": "2022-12-07T08:48:07.934Z"
   },
   {
    "duration": 3,
    "start_time": "2022-12-07T08:48:10.133Z"
   },
   {
    "duration": 3,
    "start_time": "2022-12-07T08:48:32.461Z"
   },
   {
    "duration": 8,
    "start_time": "2022-12-07T13:08:59.353Z"
   },
   {
    "duration": 1780,
    "start_time": "2022-12-07T13:08:59.362Z"
   },
   {
    "duration": 1101,
    "start_time": "2022-12-07T13:09:01.145Z"
   },
   {
    "duration": 29,
    "start_time": "2022-12-07T13:09:02.248Z"
   },
   {
    "duration": 95828,
    "start_time": "2022-12-07T13:09:02.279Z"
   },
   {
    "duration": 11,
    "start_time": "2022-12-07T13:10:38.109Z"
   },
   {
    "duration": 151,
    "start_time": "2022-12-07T13:10:38.122Z"
   },
   {
    "duration": 11410,
    "start_time": "2022-12-07T13:10:38.275Z"
   },
   {
    "duration": 12,
    "start_time": "2022-12-07T13:10:49.688Z"
   },
   {
    "duration": 247699,
    "start_time": "2022-12-07T13:10:49.702Z"
   },
   {
    "duration": 5,
    "start_time": "2022-12-07T13:14:57.403Z"
   },
   {
    "duration": 11,
    "start_time": "2022-12-07T13:14:57.409Z"
   },
   {
    "duration": 65910,
    "start_time": "2022-12-07T13:14:57.421Z"
   },
   {
    "duration": 3,
    "start_time": "2022-12-07T13:16:03.333Z"
   },
   {
    "duration": 38777,
    "start_time": "2022-12-07T13:16:03.338Z"
   },
   {
    "duration": 3,
    "start_time": "2022-12-07T13:16:42.116Z"
   },
   {
    "duration": 1669327,
    "start_time": "2022-12-07T13:16:42.120Z"
   },
   {
    "duration": 20064,
    "start_time": "2022-12-07T13:44:31.449Z"
   },
   {
    "duration": 440226,
    "start_time": "2022-12-07T13:44:51.514Z"
   },
   {
    "duration": 29,
    "start_time": "2022-12-07T13:52:11.742Z"
   },
   {
    "duration": 10042,
    "start_time": "2022-12-07T13:52:11.772Z"
   },
   {
    "duration": 248775,
    "start_time": "2022-12-07T13:52:21.816Z"
   },
   {
    "duration": 9111,
    "start_time": "2022-12-07T13:56:30.593Z"
   },
   {
    "duration": 16,
    "start_time": "2022-12-07T13:56:39.708Z"
   },
   {
    "duration": 4,
    "start_time": "2022-12-07T13:56:39.726Z"
   },
   {
    "duration": 730,
    "start_time": "2022-12-07T15:11:22.789Z"
   },
   {
    "duration": 7,
    "start_time": "2022-12-07T15:24:01.359Z"
   },
   {
    "duration": 194,
    "start_time": "2022-12-07T15:30:37.825Z"
   },
   {
    "duration": 13,
    "start_time": "2022-12-07T15:31:08.837Z"
   },
   {
    "duration": 151,
    "start_time": "2022-12-07T15:31:57.687Z"
   },
   {
    "duration": 19,
    "start_time": "2022-12-07T15:32:00.294Z"
   },
   {
    "duration": 18,
    "start_time": "2022-12-07T15:38:25.116Z"
   },
   {
    "duration": 132,
    "start_time": "2022-12-07T15:38:26.554Z"
   },
   {
    "duration": 14,
    "start_time": "2022-12-07T15:38:31.691Z"
   },
   {
    "duration": 23,
    "start_time": "2022-12-07T15:38:32.170Z"
   },
   {
    "duration": 13,
    "start_time": "2022-12-07T15:38:35.596Z"
   },
   {
    "duration": 22,
    "start_time": "2022-12-07T15:38:43.179Z"
   },
   {
    "duration": 138,
    "start_time": "2022-12-07T15:46:53.922Z"
   },
   {
    "duration": 228,
    "start_time": "2022-12-07T15:47:08.594Z"
   },
   {
    "duration": 8,
    "start_time": "2022-12-07T15:55:34.983Z"
   },
   {
    "duration": 1620,
    "start_time": "2022-12-07T15:55:34.994Z"
   },
   {
    "duration": 800,
    "start_time": "2022-12-07T15:55:36.616Z"
   },
   {
    "duration": 32,
    "start_time": "2022-12-07T15:55:37.418Z"
   },
   {
    "duration": 11,
    "start_time": "2022-12-07T15:55:37.452Z"
   },
   {
    "duration": 96386,
    "start_time": "2022-12-07T15:55:37.465Z"
   },
   {
    "duration": 120,
    "start_time": "2022-12-07T15:57:13.853Z"
   },
   {
    "duration": 10927,
    "start_time": "2022-12-07T15:57:13.975Z"
   },
   {
    "duration": 4,
    "start_time": "2022-12-07T15:57:24.904Z"
   },
   {
    "duration": 66938,
    "start_time": "2022-12-07T15:57:24.910Z"
   },
   {
    "duration": 39360,
    "start_time": "2022-12-07T15:58:31.850Z"
   },
   {
    "duration": 1609072,
    "start_time": "2022-12-07T15:59:11.212Z"
   },
   {
    "duration": 16,
    "start_time": "2022-12-07T16:26:00.287Z"
   },
   {
    "duration": 30,
    "start_time": "2022-12-07T16:26:00.305Z"
   },
   {
    "duration": 22071,
    "start_time": "2022-12-07T16:26:00.339Z"
   },
   {
    "duration": 415313,
    "start_time": "2022-12-07T16:26:22.412Z"
   },
   {
    "duration": 136,
    "start_time": "2022-12-07T16:33:17.727Z"
   },
   {
    "duration": 0,
    "start_time": "2022-12-07T16:33:17.865Z"
   },
   {
    "duration": 0,
    "start_time": "2022-12-07T16:33:17.866Z"
   },
   {
    "duration": 0,
    "start_time": "2022-12-07T16:33:17.867Z"
   },
   {
    "duration": 0,
    "start_time": "2022-12-07T16:33:17.868Z"
   },
   {
    "duration": 0,
    "start_time": "2022-12-07T16:33:17.869Z"
   },
   {
    "duration": 0,
    "start_time": "2022-12-07T16:33:17.870Z"
   },
   {
    "duration": 0,
    "start_time": "2022-12-07T16:33:17.875Z"
   },
   {
    "duration": 19,
    "start_time": "2022-12-07T17:09:33.531Z"
   },
   {
    "duration": 5,
    "start_time": "2022-12-07T17:32:46.253Z"
   },
   {
    "duration": 4,
    "start_time": "2022-12-07T17:32:57.837Z"
   },
   {
    "duration": 4,
    "start_time": "2022-12-07T17:33:19.517Z"
   },
   {
    "duration": 5,
    "start_time": "2022-12-07T17:33:30.653Z"
   },
   {
    "duration": 12,
    "start_time": "2022-12-07T17:33:38.749Z"
   },
   {
    "duration": 11,
    "start_time": "2022-12-07T17:33:53.070Z"
   },
   {
    "duration": 5,
    "start_time": "2022-12-07T17:34:04.301Z"
   },
   {
    "duration": 19,
    "start_time": "2022-12-07T17:41:51.573Z"
   },
   {
    "duration": 18,
    "start_time": "2022-12-07T17:41:59.174Z"
   },
   {
    "duration": 3330,
    "start_time": "2022-12-07T17:43:40.150Z"
   },
   {
    "duration": 3388,
    "start_time": "2022-12-07T17:43:53.018Z"
   },
   {
    "duration": 7666,
    "start_time": "2022-12-07T17:43:56.408Z"
   },
   {
    "duration": 228715,
    "start_time": "2022-12-07T17:44:04.076Z"
   },
   {
    "duration": 7301,
    "start_time": "2022-12-07T17:47:52.797Z"
   },
   {
    "duration": 98,
    "start_time": "2022-12-07T17:48:00.100Z"
   },
   {
    "duration": 0,
    "start_time": "2022-12-07T17:48:00.199Z"
   },
   {
    "duration": 0,
    "start_time": "2022-12-07T17:48:00.200Z"
   },
   {
    "duration": 0,
    "start_time": "2022-12-07T17:48:00.201Z"
   },
   {
    "duration": 7,
    "start_time": "2022-12-07T17:50:33.782Z"
   },
   {
    "duration": 1513,
    "start_time": "2022-12-07T17:50:33.791Z"
   },
   {
    "duration": 822,
    "start_time": "2022-12-07T17:50:35.306Z"
   },
   {
    "duration": 38,
    "start_time": "2022-12-07T17:50:36.130Z"
   },
   {
    "duration": 27,
    "start_time": "2022-12-07T17:50:36.171Z"
   },
   {
    "duration": 92880,
    "start_time": "2022-12-07T17:50:36.201Z"
   },
   {
    "duration": 214,
    "start_time": "2022-12-07T17:52:09.082Z"
   },
   {
    "duration": 10880,
    "start_time": "2022-12-07T17:52:09.298Z"
   },
   {
    "duration": 4,
    "start_time": "2022-12-07T17:52:20.181Z"
   },
   {
    "duration": 65153,
    "start_time": "2022-12-07T17:52:20.187Z"
   },
   {
    "duration": 40072,
    "start_time": "2022-12-07T17:53:25.342Z"
   },
   {
    "duration": 1595594,
    "start_time": "2022-12-07T17:54:05.416Z"
   },
   {
    "duration": 11,
    "start_time": "2022-12-07T18:20:41.011Z"
   },
   {
    "duration": 15,
    "start_time": "2022-12-07T18:20:41.024Z"
   },
   {
    "duration": 22070,
    "start_time": "2022-12-07T18:20:41.040Z"
   },
   {
    "duration": 415599,
    "start_time": "2022-12-07T18:21:03.111Z"
   },
   {
    "duration": 3263,
    "start_time": "2022-12-07T18:27:58.712Z"
   },
   {
    "duration": 8125,
    "start_time": "2022-12-07T18:28:01.977Z"
   },
   {
    "duration": 235332,
    "start_time": "2022-12-07T18:28:10.104Z"
   },
   {
    "duration": 8762,
    "start_time": "2022-12-07T18:32:05.438Z"
   },
   {
    "duration": 106,
    "start_time": "2022-12-07T18:32:14.202Z"
   },
   {
    "duration": 168,
    "start_time": "2022-12-07T18:32:14.310Z"
   },
   {
    "duration": 35,
    "start_time": "2022-12-07T18:32:14.479Z"
   },
   {
    "duration": 4,
    "start_time": "2022-12-07T18:32:14.516Z"
   },
   {
    "duration": 45,
    "start_time": "2022-12-08T08:28:32.162Z"
   },
   {
    "duration": 7,
    "start_time": "2022-12-08T09:28:26.849Z"
   },
   {
    "duration": 1587,
    "start_time": "2022-12-08T09:28:26.857Z"
   },
   {
    "duration": 1153,
    "start_time": "2022-12-08T09:28:28.446Z"
   },
   {
    "duration": 28,
    "start_time": "2022-12-08T09:28:29.601Z"
   },
   {
    "duration": 70,
    "start_time": "2022-12-08T09:28:29.631Z"
   },
   {
    "duration": 21,
    "start_time": "2022-12-08T09:28:29.703Z"
   },
   {
    "duration": 86176,
    "start_time": "2022-12-08T09:28:29.725Z"
   },
   {
    "duration": 15026,
    "start_time": "2022-12-08T09:29:55.903Z"
   },
   {
    "duration": 118,
    "start_time": "2022-12-08T09:30:10.931Z"
   },
   {
    "duration": 4,
    "start_time": "2022-12-08T09:30:11.052Z"
   },
   {
    "duration": 62579,
    "start_time": "2022-12-08T09:30:11.058Z"
   },
   {
    "duration": 45908,
    "start_time": "2022-12-08T09:31:13.639Z"
   },
   {
    "duration": 2311,
    "start_time": "2022-12-08T09:31:59.549Z"
   },
   {
    "duration": 0,
    "start_time": "2022-12-08T09:32:01.862Z"
   },
   {
    "duration": 0,
    "start_time": "2022-12-08T09:32:01.864Z"
   },
   {
    "duration": 0,
    "start_time": "2022-12-08T09:32:01.866Z"
   },
   {
    "duration": 0,
    "start_time": "2022-12-08T09:32:01.867Z"
   },
   {
    "duration": 0,
    "start_time": "2022-12-08T09:32:01.869Z"
   },
   {
    "duration": 0,
    "start_time": "2022-12-08T09:32:01.870Z"
   },
   {
    "duration": 0,
    "start_time": "2022-12-08T09:32:01.871Z"
   },
   {
    "duration": 0,
    "start_time": "2022-12-08T09:32:01.873Z"
   },
   {
    "duration": 0,
    "start_time": "2022-12-08T09:32:01.874Z"
   },
   {
    "duration": 0,
    "start_time": "2022-12-08T09:32:01.876Z"
   },
   {
    "duration": 0,
    "start_time": "2022-12-08T09:32:01.877Z"
   },
   {
    "duration": 0,
    "start_time": "2022-12-08T09:32:01.879Z"
   },
   {
    "duration": 0,
    "start_time": "2022-12-08T09:32:01.880Z"
   },
   {
    "duration": 9,
    "start_time": "2022-12-08T12:39:06.465Z"
   },
   {
    "duration": 1487,
    "start_time": "2022-12-08T12:39:06.476Z"
   },
   {
    "duration": 953,
    "start_time": "2022-12-08T12:39:07.965Z"
   },
   {
    "duration": 32,
    "start_time": "2022-12-08T12:39:08.921Z"
   },
   {
    "duration": 93,
    "start_time": "2022-12-08T12:39:08.955Z"
   },
   {
    "duration": 17,
    "start_time": "2022-12-08T12:39:09.049Z"
   },
   {
    "duration": 98158,
    "start_time": "2022-12-08T12:39:09.068Z"
   },
   {
    "duration": 10862,
    "start_time": "2022-12-08T12:40:47.228Z"
   },
   {
    "duration": 121,
    "start_time": "2022-12-08T12:40:58.093Z"
   },
   {
    "duration": 7,
    "start_time": "2022-12-08T12:40:58.216Z"
   },
   {
    "duration": 62893,
    "start_time": "2022-12-08T12:40:58.225Z"
   },
   {
    "duration": 47224,
    "start_time": "2022-12-08T12:42:01.121Z"
   },
   {
    "duration": 5701387,
    "start_time": "2022-12-08T12:42:48.347Z"
   },
   {
    "duration": 0,
    "start_time": "2022-12-08T14:17:49.736Z"
   },
   {
    "duration": 0,
    "start_time": "2022-12-08T14:17:49.737Z"
   },
   {
    "duration": 0,
    "start_time": "2022-12-08T14:17:49.738Z"
   },
   {
    "duration": 0,
    "start_time": "2022-12-08T14:17:49.739Z"
   },
   {
    "duration": 0,
    "start_time": "2022-12-08T14:17:49.740Z"
   },
   {
    "duration": 0,
    "start_time": "2022-12-08T14:17:49.741Z"
   },
   {
    "duration": 0,
    "start_time": "2022-12-08T14:17:49.747Z"
   },
   {
    "duration": 0,
    "start_time": "2022-12-08T14:17:49.749Z"
   },
   {
    "duration": 0,
    "start_time": "2022-12-08T14:17:49.750Z"
   },
   {
    "duration": 0,
    "start_time": "2022-12-08T14:17:49.752Z"
   },
   {
    "duration": 0,
    "start_time": "2022-12-08T14:17:49.753Z"
   },
   {
    "duration": 0,
    "start_time": "2022-12-08T14:17:49.755Z"
   },
   {
    "duration": 0,
    "start_time": "2022-12-08T14:17:49.756Z"
   },
   {
    "duration": 7,
    "start_time": "2022-12-08T14:18:02.073Z"
   },
   {
    "duration": 1537,
    "start_time": "2022-12-08T14:18:02.081Z"
   },
   {
    "duration": 909,
    "start_time": "2022-12-08T14:18:03.620Z"
   },
   {
    "duration": 29,
    "start_time": "2022-12-08T14:18:04.532Z"
   },
   {
    "duration": 82,
    "start_time": "2022-12-08T14:18:04.563Z"
   },
   {
    "duration": 15,
    "start_time": "2022-12-08T14:18:04.647Z"
   },
   {
    "duration": 85525,
    "start_time": "2022-12-08T14:18:04.664Z"
   },
   {
    "duration": 11024,
    "start_time": "2022-12-08T14:19:30.190Z"
   },
   {
    "duration": 121,
    "start_time": "2022-12-08T14:19:41.216Z"
   },
   {
    "duration": 4,
    "start_time": "2022-12-08T14:19:41.339Z"
   },
   {
    "duration": 63163,
    "start_time": "2022-12-08T14:19:41.344Z"
   },
   {
    "duration": 46236,
    "start_time": "2022-12-08T14:20:44.509Z"
   },
   {
    "duration": 4278944,
    "start_time": "2022-12-08T14:21:30.747Z"
   },
   {
    "duration": 0,
    "start_time": "2022-12-08T15:32:49.693Z"
   },
   {
    "duration": 0,
    "start_time": "2022-12-08T15:32:49.694Z"
   },
   {
    "duration": 0,
    "start_time": "2022-12-08T15:32:49.695Z"
   },
   {
    "duration": 0,
    "start_time": "2022-12-08T15:32:49.696Z"
   },
   {
    "duration": 0,
    "start_time": "2022-12-08T15:32:49.697Z"
   },
   {
    "duration": 0,
    "start_time": "2022-12-08T15:32:49.698Z"
   },
   {
    "duration": 0,
    "start_time": "2022-12-08T15:32:49.699Z"
   },
   {
    "duration": 0,
    "start_time": "2022-12-08T15:32:49.700Z"
   },
   {
    "duration": 0,
    "start_time": "2022-12-08T15:32:49.702Z"
   },
   {
    "duration": 0,
    "start_time": "2022-12-08T15:32:49.703Z"
   },
   {
    "duration": 0,
    "start_time": "2022-12-08T15:32:49.704Z"
   },
   {
    "duration": 0,
    "start_time": "2022-12-08T15:32:49.705Z"
   },
   {
    "duration": 0,
    "start_time": "2022-12-08T15:32:49.706Z"
   },
   {
    "duration": 3,
    "start_time": "2022-12-08T15:32:53.777Z"
   },
   {
    "duration": 4,
    "start_time": "2022-12-08T15:32:58.240Z"
   },
   {
    "duration": 7,
    "start_time": "2022-12-08T15:33:23.389Z"
   },
   {
    "duration": 1603,
    "start_time": "2022-12-08T15:33:23.398Z"
   },
   {
    "duration": 1164,
    "start_time": "2022-12-08T15:33:25.003Z"
   },
   {
    "duration": 32,
    "start_time": "2022-12-08T15:33:26.169Z"
   },
   {
    "duration": 76,
    "start_time": "2022-12-08T15:33:26.203Z"
   },
   {
    "duration": 15,
    "start_time": "2022-12-08T15:33:26.281Z"
   },
   {
    "duration": 96474,
    "start_time": "2022-12-08T15:33:26.297Z"
   },
   {
    "duration": 11696,
    "start_time": "2022-12-08T15:35:02.772Z"
   },
   {
    "duration": 130,
    "start_time": "2022-12-08T15:35:14.470Z"
   },
   {
    "duration": 5,
    "start_time": "2022-12-08T15:35:14.603Z"
   },
   {
    "duration": 68802,
    "start_time": "2022-12-08T15:35:14.615Z"
   },
   {
    "duration": 38640,
    "start_time": "2022-12-08T15:36:23.423Z"
   },
   {
    "duration": 1568629,
    "start_time": "2022-12-08T15:37:02.066Z"
   },
   {
    "duration": 4,
    "start_time": "2022-12-08T16:03:10.697Z"
   },
   {
    "duration": 22,
    "start_time": "2022-12-08T16:03:10.703Z"
   },
   {
    "duration": 42,
    "start_time": "2022-12-08T16:03:10.727Z"
   },
   {
    "duration": 0,
    "start_time": "2022-12-08T16:03:10.770Z"
   },
   {
    "duration": 0,
    "start_time": "2022-12-08T16:03:10.771Z"
   },
   {
    "duration": 0,
    "start_time": "2022-12-08T16:03:10.772Z"
   },
   {
    "duration": 0,
    "start_time": "2022-12-08T16:03:10.773Z"
   },
   {
    "duration": 0,
    "start_time": "2022-12-08T16:03:10.774Z"
   },
   {
    "duration": 0,
    "start_time": "2022-12-08T16:03:10.775Z"
   },
   {
    "duration": 0,
    "start_time": "2022-12-08T16:03:10.776Z"
   },
   {
    "duration": 0,
    "start_time": "2022-12-08T16:03:10.777Z"
   },
   {
    "duration": 0,
    "start_time": "2022-12-08T16:03:10.778Z"
   },
   {
    "duration": 0,
    "start_time": "2022-12-08T16:03:10.783Z"
   },
   {
    "duration": 0,
    "start_time": "2022-12-08T16:03:10.784Z"
   },
   {
    "duration": 10,
    "start_time": "2022-12-08T16:18:26.474Z"
   },
   {
    "duration": 10,
    "start_time": "2022-12-08T16:18:31.400Z"
   },
   {
    "duration": 9,
    "start_time": "2022-12-08T16:19:07.417Z"
   },
   {
    "duration": 22711,
    "start_time": "2022-12-08T16:19:18.631Z"
   },
   {
    "duration": 390933,
    "start_time": "2022-12-08T16:19:41.343Z"
   },
   {
    "duration": 3958,
    "start_time": "2022-12-08T16:26:12.277Z"
   },
   {
    "duration": 8996,
    "start_time": "2022-12-08T16:26:16.238Z"
   },
   {
    "duration": 260716,
    "start_time": "2022-12-08T16:26:25.236Z"
   },
   {
    "duration": 148,
    "start_time": "2022-12-08T16:30:45.953Z"
   },
   {
    "duration": 0,
    "start_time": "2022-12-08T16:30:46.102Z"
   },
   {
    "duration": 0,
    "start_time": "2022-12-08T16:30:46.104Z"
   },
   {
    "duration": 0,
    "start_time": "2022-12-08T16:30:46.105Z"
   },
   {
    "duration": 0,
    "start_time": "2022-12-08T16:30:46.106Z"
   },
   {
    "duration": 0,
    "start_time": "2022-12-08T16:30:46.107Z"
   },
   {
    "duration": 4,
    "start_time": "2022-12-08T16:38:05.881Z"
   },
   {
    "duration": 22990,
    "start_time": "2022-12-08T16:38:54.458Z"
   },
   {
    "duration": 4,
    "start_time": "2022-12-08T16:40:34.012Z"
   },
   {
    "duration": 389451,
    "start_time": "2022-12-08T16:40:39.308Z"
   },
   {
    "duration": 4,
    "start_time": "2022-12-08T16:47:08.761Z"
   },
   {
    "duration": 9670,
    "start_time": "2022-12-08T16:48:39.664Z"
   },
   {
    "duration": 4,
    "start_time": "2022-12-08T16:48:49.336Z"
   },
   {
    "duration": 3,
    "start_time": "2022-12-08T16:54:27.190Z"
   },
   {
    "duration": 7,
    "start_time": "2022-12-08T16:55:25.886Z"
   },
   {
    "duration": 1471,
    "start_time": "2022-12-08T16:55:25.894Z"
   },
   {
    "duration": 944,
    "start_time": "2022-12-08T16:55:27.367Z"
   },
   {
    "duration": 30,
    "start_time": "2022-12-08T16:55:28.314Z"
   },
   {
    "duration": 75,
    "start_time": "2022-12-08T16:55:28.346Z"
   },
   {
    "duration": 10,
    "start_time": "2022-12-08T16:55:28.423Z"
   },
   {
    "duration": 86164,
    "start_time": "2022-12-08T16:55:28.434Z"
   },
   {
    "duration": 10959,
    "start_time": "2022-12-08T16:56:54.600Z"
   },
   {
    "duration": 124,
    "start_time": "2022-12-08T16:57:05.561Z"
   },
   {
    "duration": 5,
    "start_time": "2022-12-08T16:57:05.688Z"
   },
   {
    "duration": 63863,
    "start_time": "2022-12-08T16:57:05.694Z"
   },
   {
    "duration": 42308,
    "start_time": "2022-12-08T16:58:09.559Z"
   },
   {
    "duration": 1572974,
    "start_time": "2022-12-08T16:58:51.868Z"
   },
   {
    "duration": 9,
    "start_time": "2022-12-08T17:25:04.844Z"
   },
   {
    "duration": 57,
    "start_time": "2022-12-08T17:25:04.855Z"
   },
   {
    "duration": 21124,
    "start_time": "2022-12-08T17:25:04.913Z"
   },
   {
    "duration": 421601,
    "start_time": "2022-12-08T17:25:26.039Z"
   },
   {
    "duration": 4014,
    "start_time": "2022-12-08T17:32:27.642Z"
   },
   {
    "duration": 8482,
    "start_time": "2022-12-08T17:32:31.658Z"
   },
   {
    "duration": 4,
    "start_time": "2022-12-08T17:32:40.141Z"
   },
   {
    "duration": 272839,
    "start_time": "2022-12-08T17:32:40.146Z"
   },
   {
    "duration": 9,
    "start_time": "2022-12-08T17:37:12.987Z"
   },
   {
    "duration": 8432,
    "start_time": "2022-12-08T17:37:12.998Z"
   },
   {
    "duration": 17,
    "start_time": "2022-12-08T17:37:21.433Z"
   },
   {
    "duration": 202,
    "start_time": "2022-12-08T17:37:21.452Z"
   },
   {
    "duration": 23,
    "start_time": "2022-12-08T17:37:21.655Z"
   },
   {
    "duration": 3,
    "start_time": "2022-12-08T17:37:21.680Z"
   },
   {
    "duration": 3183,
    "start_time": "2022-12-08T17:58:25.903Z"
   },
   {
    "duration": 8748,
    "start_time": "2022-12-08T17:58:29.088Z"
   },
   {
    "duration": 224979,
    "start_time": "2022-12-08T17:58:37.838Z"
   },
   {
    "duration": 139,
    "start_time": "2022-12-08T18:02:22.821Z"
   },
   {
    "duration": 2560,
    "start_time": "2022-12-08T18:33:40.637Z"
   },
   {
    "duration": 7333,
    "start_time": "2022-12-08T18:33:43.200Z"
   },
   {
    "duration": 196390,
    "start_time": "2022-12-08T18:33:50.535Z"
   },
   {
    "duration": 4674,
    "start_time": "2022-12-08T18:52:42.717Z"
   },
   {
    "duration": 10455,
    "start_time": "2022-12-08T18:52:47.394Z"
   },
   {
    "duration": 14,
    "start_time": "2022-12-08T18:53:32.559Z"
   },
   {
    "duration": 3757,
    "start_time": "2022-12-08T18:55:48.946Z"
   },
   {
    "duration": 9731,
    "start_time": "2022-12-08T18:55:52.704Z"
   },
   {
    "duration": 3178,
    "start_time": "2022-12-08T18:58:21.795Z"
   },
   {
    "duration": 9059,
    "start_time": "2022-12-08T18:58:24.975Z"
   },
   {
    "duration": 223582,
    "start_time": "2022-12-08T18:59:15.939Z"
   },
   {
    "duration": 23324,
    "start_time": "2022-12-08T21:05:59.828Z"
   },
   {
    "duration": 398129,
    "start_time": "2022-12-08T21:06:23.154Z"
   },
   {
    "duration": 9648,
    "start_time": "2022-12-08T21:13:01.285Z"
   },
   {
    "duration": 222726,
    "start_time": "2022-12-08T21:13:10.935Z"
   },
   {
    "duration": 9,
    "start_time": "2022-12-08T21:16:53.662Z"
   },
   {
    "duration": 15166,
    "start_time": "2022-12-08T21:16:53.672Z"
   },
   {
    "duration": 15,
    "start_time": "2022-12-08T21:17:08.840Z"
   },
   {
    "duration": 21,
    "start_time": "2022-12-08T21:17:08.856Z"
   },
   {
    "duration": 9335,
    "start_time": "2022-12-08T21:18:35.596Z"
   },
   {
    "duration": 16,
    "start_time": "2022-12-08T21:18:45.022Z"
   },
   {
    "duration": 21,
    "start_time": "2022-12-08T21:18:45.040Z"
   },
   {
    "duration": 150,
    "start_time": "2022-12-08T21:19:19.395Z"
   },
   {
    "duration": 7,
    "start_time": "2022-12-08T21:25:26.622Z"
   },
   {
    "duration": 1435,
    "start_time": "2022-12-08T21:25:26.631Z"
   },
   {
    "duration": 921,
    "start_time": "2022-12-08T21:25:28.068Z"
   },
   {
    "duration": 30,
    "start_time": "2022-12-08T21:25:28.991Z"
   },
   {
    "duration": 74,
    "start_time": "2022-12-08T21:25:29.022Z"
   },
   {
    "duration": 18,
    "start_time": "2022-12-08T21:25:29.097Z"
   },
   {
    "duration": 84083,
    "start_time": "2022-12-08T21:25:29.116Z"
   },
   {
    "duration": 11022,
    "start_time": "2022-12-08T21:26:53.200Z"
   },
   {
    "duration": 125,
    "start_time": "2022-12-08T21:27:04.224Z"
   },
   {
    "duration": 4,
    "start_time": "2022-12-08T21:27:04.351Z"
   },
   {
    "duration": 61026,
    "start_time": "2022-12-08T21:27:04.356Z"
   },
   {
    "duration": 45563,
    "start_time": "2022-12-08T21:28:05.383Z"
   },
   {
    "duration": 1557122,
    "start_time": "2022-12-08T21:28:50.948Z"
   },
   {
    "duration": 8,
    "start_time": "2022-12-08T21:54:48.072Z"
   },
   {
    "duration": 15,
    "start_time": "2022-12-08T21:54:48.081Z"
   },
   {
    "duration": 23139,
    "start_time": "2022-12-08T21:54:48.098Z"
   },
   {
    "duration": 393544,
    "start_time": "2022-12-08T21:55:11.239Z"
   },
   {
    "duration": 3280,
    "start_time": "2022-12-08T22:01:44.785Z"
   },
   {
    "duration": 10371,
    "start_time": "2022-12-08T22:01:48.066Z"
   },
   {
    "duration": 220329,
    "start_time": "2022-12-08T22:01:58.438Z"
   },
   {
    "duration": 8,
    "start_time": "2022-12-08T22:05:38.769Z"
   },
   {
    "duration": 9750,
    "start_time": "2022-12-08T22:05:38.778Z"
   },
   {
    "duration": 104,
    "start_time": "2022-12-08T22:05:48.530Z"
   },
   {
    "duration": 178,
    "start_time": "2022-12-08T22:05:48.635Z"
   },
   {
    "duration": 3,
    "start_time": "2022-12-08T22:05:48.821Z"
   },
   {
    "duration": 12,
    "start_time": "2022-12-09T08:18:39.585Z"
   },
   {
    "duration": 2886,
    "start_time": "2022-12-09T08:18:39.599Z"
   },
   {
    "duration": 2111,
    "start_time": "2022-12-09T08:18:42.487Z"
   },
   {
    "duration": 54,
    "start_time": "2022-12-09T08:18:44.600Z"
   },
   {
    "duration": 112,
    "start_time": "2022-12-09T08:18:44.656Z"
   },
   {
    "duration": 17,
    "start_time": "2022-12-09T08:18:44.771Z"
   },
   {
    "duration": 6,
    "start_time": "2022-12-09T08:18:44.790Z"
   },
   {
    "duration": 899,
    "start_time": "2022-12-09T08:18:44.798Z"
   },
   {
    "duration": 6,
    "start_time": "2022-12-09T08:18:45.700Z"
   },
   {
    "duration": 240,
    "start_time": "2022-12-09T08:19:07.912Z"
   },
   {
    "duration": 5,
    "start_time": "2022-12-09T08:19:17.607Z"
   },
   {
    "duration": 6,
    "start_time": "2022-12-09T08:19:30.840Z"
   },
   {
    "duration": 7,
    "start_time": "2022-12-09T08:20:07.358Z"
   },
   {
    "duration": 2539,
    "start_time": "2022-12-09T08:20:07.367Z"
   },
   {
    "duration": 1011,
    "start_time": "2022-12-09T08:20:09.910Z"
   },
   {
    "duration": 47,
    "start_time": "2022-12-09T08:20:10.937Z"
   },
   {
    "duration": 94,
    "start_time": "2022-12-09T08:20:10.985Z"
   },
   {
    "duration": 14,
    "start_time": "2022-12-09T08:20:11.081Z"
   },
   {
    "duration": 862,
    "start_time": "2022-12-09T08:20:11.096Z"
   },
   {
    "duration": 7,
    "start_time": "2022-12-09T08:20:11.961Z"
   },
   {
    "duration": 7,
    "start_time": "2022-12-09T08:22:01.769Z"
   },
   {
    "duration": 51,
    "start_time": "2022-12-09T08:50:04.913Z"
   },
   {
    "duration": 7,
    "start_time": "2022-12-09T08:53:03.257Z"
   },
   {
    "duration": 1775,
    "start_time": "2022-12-09T08:53:03.266Z"
   },
   {
    "duration": 1182,
    "start_time": "2022-12-09T08:53:05.042Z"
   },
   {
    "duration": 36,
    "start_time": "2022-12-09T08:53:06.226Z"
   },
   {
    "duration": 78,
    "start_time": "2022-12-09T08:53:06.263Z"
   },
   {
    "duration": 11,
    "start_time": "2022-12-09T08:53:06.356Z"
   },
   {
    "duration": 77488,
    "start_time": "2022-12-09T08:53:06.369Z"
   },
   {
    "duration": 5,
    "start_time": "2022-12-09T08:54:23.859Z"
   },
   {
    "duration": 17805,
    "start_time": "2022-12-09T08:56:05.974Z"
   },
   {
    "duration": 0,
    "start_time": "2022-12-09T08:56:23.781Z"
   },
   {
    "duration": 5,
    "start_time": "2022-12-09T08:57:56.213Z"
   },
   {
    "duration": 15218,
    "start_time": "2022-12-09T08:58:01.338Z"
   },
   {
    "duration": 8,
    "start_time": "2022-12-09T08:59:02.614Z"
   },
   {
    "duration": 7,
    "start_time": "2022-12-09T08:59:14.300Z"
   },
   {
    "duration": 6,
    "start_time": "2022-12-09T08:59:25.425Z"
   },
   {
    "duration": 7,
    "start_time": "2022-12-09T08:59:34.024Z"
   },
   {
    "duration": 7,
    "start_time": "2022-12-09T08:59:37.380Z"
   },
   {
    "duration": 7,
    "start_time": "2022-12-09T08:59:40.189Z"
   },
   {
    "duration": 6,
    "start_time": "2022-12-09T08:59:51.350Z"
   },
   {
    "duration": 21,
    "start_time": "2022-12-09T09:00:26.401Z"
   },
   {
    "duration": 9,
    "start_time": "2022-12-09T09:00:33.426Z"
   },
   {
    "duration": 6,
    "start_time": "2022-12-09T09:00:55.826Z"
   },
   {
    "duration": 53,
    "start_time": "2022-12-09T09:01:28.814Z"
   },
   {
    "duration": 7,
    "start_time": "2022-12-09T09:01:38.989Z"
   },
   {
    "duration": 36,
    "start_time": "2022-12-09T09:04:14.139Z"
   },
   {
    "duration": 44,
    "start_time": "2022-12-09T09:04:42.028Z"
   },
   {
    "duration": 482,
    "start_time": "2022-12-09T09:04:54.339Z"
   },
   {
    "duration": 9,
    "start_time": "2022-12-09T09:05:28.264Z"
   },
   {
    "duration": 10,
    "start_time": "2022-12-09T09:05:48.490Z"
   },
   {
    "duration": 23,
    "start_time": "2022-12-09T09:06:38.152Z"
   },
   {
    "duration": 9,
    "start_time": "2022-12-09T09:06:58.239Z"
   },
   {
    "duration": 10,
    "start_time": "2022-12-09T09:07:38.240Z"
   },
   {
    "duration": 7,
    "start_time": "2022-12-09T09:07:51.352Z"
   },
   {
    "duration": 12,
    "start_time": "2022-12-09T09:08:33.578Z"
   },
   {
    "duration": 9,
    "start_time": "2022-12-09T09:08:40.414Z"
   },
   {
    "duration": 12192,
    "start_time": "2022-12-09T09:11:57.091Z"
   },
   {
    "duration": 13,
    "start_time": "2022-12-09T09:12:09.285Z"
   },
   {
    "duration": 4,
    "start_time": "2022-12-09T09:12:29.891Z"
   },
   {
    "duration": 9,
    "start_time": "2022-12-09T09:12:55.179Z"
   },
   {
    "duration": 8,
    "start_time": "2022-12-09T09:17:36.356Z"
   },
   {
    "duration": 1620,
    "start_time": "2022-12-09T09:17:36.366Z"
   },
   {
    "duration": 885,
    "start_time": "2022-12-09T09:17:37.987Z"
   },
   {
    "duration": 34,
    "start_time": "2022-12-09T09:17:38.874Z"
   },
   {
    "duration": 93,
    "start_time": "2022-12-09T09:17:38.910Z"
   },
   {
    "duration": 15,
    "start_time": "2022-12-09T09:17:39.005Z"
   },
   {
    "duration": 11,
    "start_time": "2022-12-09T09:24:01.294Z"
   },
   {
    "duration": 1655,
    "start_time": "2022-12-09T09:24:01.307Z"
   },
   {
    "duration": 1528,
    "start_time": "2022-12-09T09:24:02.964Z"
   },
   {
    "duration": 89,
    "start_time": "2022-12-09T09:24:04.495Z"
   },
   {
    "duration": 272,
    "start_time": "2022-12-09T09:24:04.586Z"
   },
   {
    "duration": 42,
    "start_time": "2022-12-09T09:24:04.860Z"
   },
   {
    "duration": 1229372,
    "start_time": "2022-12-09T09:24:04.905Z"
   },
   {
    "duration": 5,
    "start_time": "2022-12-09T09:44:34.279Z"
   },
   {
    "duration": 9,
    "start_time": "2022-12-09T09:44:34.287Z"
   },
   {
    "duration": 10,
    "start_time": "2022-12-09T09:44:34.299Z"
   },
   {
    "duration": 273,
    "start_time": "2022-12-09T09:44:34.311Z"
   },
   {
    "duration": 0,
    "start_time": "2022-12-09T09:44:34.587Z"
   },
   {
    "duration": 0,
    "start_time": "2022-12-09T09:44:34.589Z"
   },
   {
    "duration": 0,
    "start_time": "2022-12-09T09:44:34.590Z"
   },
   {
    "duration": 0,
    "start_time": "2022-12-09T09:44:34.593Z"
   },
   {
    "duration": 0,
    "start_time": "2022-12-09T09:44:34.594Z"
   },
   {
    "duration": 0,
    "start_time": "2022-12-09T09:44:34.596Z"
   },
   {
    "duration": 0,
    "start_time": "2022-12-09T09:44:34.597Z"
   },
   {
    "duration": 0,
    "start_time": "2022-12-09T09:44:34.598Z"
   },
   {
    "duration": 0,
    "start_time": "2022-12-09T09:44:34.601Z"
   },
   {
    "duration": 0,
    "start_time": "2022-12-09T09:44:34.602Z"
   },
   {
    "duration": 0,
    "start_time": "2022-12-09T09:44:34.604Z"
   },
   {
    "duration": 0,
    "start_time": "2022-12-09T09:44:34.605Z"
   },
   {
    "duration": 0,
    "start_time": "2022-12-09T09:44:34.607Z"
   },
   {
    "duration": 0,
    "start_time": "2022-12-09T09:44:34.608Z"
   },
   {
    "duration": 0,
    "start_time": "2022-12-09T09:44:34.610Z"
   },
   {
    "duration": 0,
    "start_time": "2022-12-09T09:44:34.611Z"
   },
   {
    "duration": 0,
    "start_time": "2022-12-09T09:44:34.613Z"
   },
   {
    "duration": 98,
    "start_time": "2022-12-09T09:51:31.841Z"
   },
   {
    "duration": 0,
    "start_time": "2022-12-09T09:51:31.941Z"
   },
   {
    "duration": 0,
    "start_time": "2022-12-09T09:51:31.942Z"
   },
   {
    "duration": 0,
    "start_time": "2022-12-09T09:51:31.944Z"
   },
   {
    "duration": 0,
    "start_time": "2022-12-09T09:51:31.955Z"
   },
   {
    "duration": 0,
    "start_time": "2022-12-09T09:51:31.956Z"
   },
   {
    "duration": 0,
    "start_time": "2022-12-09T09:51:31.958Z"
   },
   {
    "duration": 0,
    "start_time": "2022-12-09T09:51:31.959Z"
   },
   {
    "duration": 0,
    "start_time": "2022-12-09T09:51:31.960Z"
   },
   {
    "duration": 0,
    "start_time": "2022-12-09T09:51:31.961Z"
   },
   {
    "duration": 0,
    "start_time": "2022-12-09T09:51:31.963Z"
   },
   {
    "duration": 0,
    "start_time": "2022-12-09T09:51:31.964Z"
   },
   {
    "duration": 0,
    "start_time": "2022-12-09T09:51:31.965Z"
   },
   {
    "duration": 0,
    "start_time": "2022-12-09T09:51:31.966Z"
   },
   {
    "duration": 0,
    "start_time": "2022-12-09T09:51:31.968Z"
   },
   {
    "duration": 0,
    "start_time": "2022-12-09T09:51:31.969Z"
   },
   {
    "duration": 0,
    "start_time": "2022-12-09T09:51:31.970Z"
   },
   {
    "duration": 0,
    "start_time": "2022-12-09T09:51:31.971Z"
   },
   {
    "duration": 159,
    "start_time": "2022-12-09T10:11:34.503Z"
   },
   {
    "duration": 10,
    "start_time": "2022-12-09T10:12:00.720Z"
   },
   {
    "duration": 95,
    "start_time": "2022-12-09T10:12:03.382Z"
   },
   {
    "duration": 4,
    "start_time": "2022-12-09T10:12:15.433Z"
   },
   {
    "duration": 8,
    "start_time": "2022-12-09T10:12:21.794Z"
   },
   {
    "duration": 32658,
    "start_time": "2022-12-09T10:12:29.507Z"
   },
   {
    "duration": 0,
    "start_time": "2022-12-09T10:13:02.166Z"
   },
   {
    "duration": 7,
    "start_time": "2022-12-09T10:13:05.407Z"
   },
   {
    "duration": 9,
    "start_time": "2022-12-09T10:13:53.758Z"
   },
   {
    "duration": 1578,
    "start_time": "2022-12-09T10:13:53.769Z"
   },
   {
    "duration": 875,
    "start_time": "2022-12-09T10:13:55.349Z"
   },
   {
    "duration": 39,
    "start_time": "2022-12-09T10:13:56.226Z"
   },
   {
    "duration": 88,
    "start_time": "2022-12-09T10:13:56.268Z"
   },
   {
    "duration": 11,
    "start_time": "2022-12-09T10:13:56.357Z"
   },
   {
    "duration": 1210352,
    "start_time": "2022-12-09T10:13:56.370Z"
   },
   {
    "duration": 4,
    "start_time": "2022-12-09T10:34:06.724Z"
   },
   {
    "duration": 10,
    "start_time": "2022-12-09T10:34:06.730Z"
   },
   {
    "duration": 107,
    "start_time": "2022-12-09T10:34:06.743Z"
   },
   {
    "duration": 105,
    "start_time": "2022-12-09T10:34:46.622Z"
   },
   {
    "duration": 96,
    "start_time": "2022-12-09T10:35:04.076Z"
   },
   {
    "duration": 100,
    "start_time": "2022-12-09T10:35:09.897Z"
   },
   {
    "duration": 48,
    "start_time": "2022-12-09T10:35:55.867Z"
   },
   {
    "duration": 249,
    "start_time": "2022-12-09T10:36:00.026Z"
   },
   {
    "duration": 10,
    "start_time": "2022-12-09T10:36:15.538Z"
   },
   {
    "duration": 46,
    "start_time": "2022-12-09T10:36:32.676Z"
   },
   {
    "duration": 4377,
    "start_time": "2022-12-09T10:36:36.467Z"
   },
   {
    "duration": 6970,
    "start_time": "2022-12-09T10:36:58.713Z"
   },
   {
    "duration": 7,
    "start_time": "2022-12-09T12:46:29.898Z"
   },
   {
    "duration": 1690,
    "start_time": "2022-12-09T12:46:29.906Z"
   },
   {
    "duration": 1182,
    "start_time": "2022-12-09T12:46:31.597Z"
   },
   {
    "duration": 31,
    "start_time": "2022-12-09T12:46:32.781Z"
   },
   {
    "duration": 73,
    "start_time": "2022-12-09T12:46:32.813Z"
   },
   {
    "duration": 46,
    "start_time": "2022-12-09T12:46:32.887Z"
   },
   {
    "duration": 1095558,
    "start_time": "2022-12-09T12:46:32.935Z"
   },
   {
    "duration": 4,
    "start_time": "2022-12-09T13:04:48.495Z"
   },
   {
    "duration": 13,
    "start_time": "2022-12-09T13:04:48.500Z"
   },
   {
    "duration": 6709,
    "start_time": "2022-12-09T13:04:48.516Z"
   },
   {
    "duration": 12,
    "start_time": "2022-12-09T13:04:55.228Z"
   },
   {
    "duration": 13,
    "start_time": "2022-12-09T13:04:55.242Z"
   },
   {
    "duration": 10,
    "start_time": "2022-12-09T13:04:55.257Z"
   },
   {
    "duration": 53411,
    "start_time": "2022-12-09T13:04:55.268Z"
   },
   {
    "duration": 54083,
    "start_time": "2022-12-09T13:05:48.681Z"
   },
   {
    "duration": 1087368,
    "start_time": "2022-12-09T13:06:42.765Z"
   },
   {
    "duration": 7,
    "start_time": "2022-12-09T13:24:50.136Z"
   },
   {
    "duration": 23,
    "start_time": "2022-12-09T13:24:50.145Z"
   },
   {
    "duration": 24493,
    "start_time": "2022-12-09T13:24:50.169Z"
   },
   {
    "duration": 354785,
    "start_time": "2022-12-09T13:25:14.665Z"
   },
   {
    "duration": 3330,
    "start_time": "2022-12-09T13:31:09.452Z"
   },
   {
    "duration": 8568,
    "start_time": "2022-12-09T13:31:12.784Z"
   },
   {
    "duration": 203576,
    "start_time": "2022-12-09T13:31:21.354Z"
   },
   {
    "duration": 12,
    "start_time": "2022-12-09T13:34:44.936Z"
   },
   {
    "duration": 8589,
    "start_time": "2022-12-09T13:34:44.953Z"
   },
   {
    "duration": 109,
    "start_time": "2022-12-09T13:34:53.545Z"
   },
   {
    "duration": 195,
    "start_time": "2022-12-09T13:34:53.656Z"
   },
   {
    "duration": 3,
    "start_time": "2022-12-09T13:34:53.854Z"
   },
   {
    "duration": 364099,
    "start_time": "2022-12-09T13:37:43.134Z"
   },
   {
    "duration": 15608,
    "start_time": "2022-12-09T13:43:47.236Z"
   },
   {
    "duration": 14,
    "start_time": "2022-12-09T13:44:02.846Z"
   },
   {
    "duration": 8,
    "start_time": "2022-12-09T15:41:22.246Z"
   },
   {
    "duration": 1608,
    "start_time": "2022-12-09T15:41:22.255Z"
   },
   {
    "duration": 881,
    "start_time": "2022-12-09T15:41:23.864Z"
   },
   {
    "duration": 35,
    "start_time": "2022-12-09T15:41:24.748Z"
   },
   {
    "duration": 93,
    "start_time": "2022-12-09T15:41:24.785Z"
   },
   {
    "duration": 14,
    "start_time": "2022-12-09T15:41:24.880Z"
   },
   {
    "duration": 1193994,
    "start_time": "2022-12-09T15:41:24.896Z"
   },
   {
    "duration": 6,
    "start_time": "2022-12-09T16:01:18.892Z"
   },
   {
    "duration": 12,
    "start_time": "2022-12-09T16:01:18.900Z"
   },
   {
    "duration": 104,
    "start_time": "2022-12-09T16:01:18.915Z"
   },
   {
    "duration": 7,
    "start_time": "2022-12-09T16:01:19.021Z"
   },
   {
    "duration": 8,
    "start_time": "2022-12-09T16:01:19.035Z"
   },
   {
    "duration": 190,
    "start_time": "2022-12-09T16:26:52.531Z"
   },
   {
    "duration": 5,
    "start_time": "2022-12-09T16:29:56.339Z"
   },
   {
    "duration": 88,
    "start_time": "2022-12-09T16:29:58.451Z"
   },
   {
    "duration": 14,
    "start_time": "2022-12-09T16:30:35.971Z"
   },
   {
    "duration": 102,
    "start_time": "2022-12-09T16:30:38.547Z"
   },
   {
    "duration": 77,
    "start_time": "2022-12-09T16:30:41.684Z"
   },
   {
    "duration": 5,
    "start_time": "2022-12-09T16:36:38.985Z"
   },
   {
    "duration": 90,
    "start_time": "2022-12-09T16:36:41.928Z"
   },
   {
    "duration": 73,
    "start_time": "2022-12-09T16:40:01.250Z"
   },
   {
    "duration": 24,
    "start_time": "2022-12-09T16:40:19.404Z"
   },
   {
    "duration": 5,
    "start_time": "2022-12-09T16:41:07.101Z"
   },
   {
    "duration": 21,
    "start_time": "2022-12-09T16:41:08.781Z"
   },
   {
    "duration": 3,
    "start_time": "2022-12-09T16:43:34.063Z"
   },
   {
    "duration": 9,
    "start_time": "2022-12-09T16:43:39.997Z"
   },
   {
    "duration": 6,
    "start_time": "2022-12-09T16:47:40.370Z"
   },
   {
    "duration": 16,
    "start_time": "2022-12-09T16:47:48.979Z"
   },
   {
    "duration": 5,
    "start_time": "2022-12-09T16:48:21.762Z"
   },
   {
    "duration": 80,
    "start_time": "2022-12-09T16:48:26.418Z"
   },
   {
    "duration": 9,
    "start_time": "2022-12-09T16:50:23.604Z"
   },
   {
    "duration": 77,
    "start_time": "2022-12-09T16:50:45.190Z"
   },
   {
    "duration": 12,
    "start_time": "2022-12-09T16:54:46.711Z"
   },
   {
    "duration": 7,
    "start_time": "2022-12-09T16:54:49.783Z"
   },
   {
    "duration": 64,
    "start_time": "2022-12-09T16:57:42.140Z"
   },
   {
    "duration": 63,
    "start_time": "2022-12-09T17:00:11.167Z"
   },
   {
    "duration": 60,
    "start_time": "2022-12-09T17:03:37.217Z"
   },
   {
    "duration": 59,
    "start_time": "2022-12-09T17:04:53.746Z"
   },
   {
    "duration": 58,
    "start_time": "2022-12-09T17:08:21.732Z"
   },
   {
    "duration": 60,
    "start_time": "2022-12-09T17:08:43.780Z"
   },
   {
    "duration": 1376,
    "start_time": "2022-12-09T17:08:50.629Z"
   },
   {
    "duration": 65,
    "start_time": "2022-12-09T17:10:27.335Z"
   },
   {
    "duration": 4226,
    "start_time": "2022-12-09T17:11:27.224Z"
   },
   {
    "duration": 4400,
    "start_time": "2022-12-09T17:12:15.657Z"
   },
   {
    "duration": 8,
    "start_time": "2022-12-09T17:13:43.737Z"
   },
   {
    "duration": 91,
    "start_time": "2022-12-09T17:13:45.720Z"
   },
   {
    "duration": 25,
    "start_time": "2022-12-09T17:17:28.189Z"
   },
   {
    "duration": 26,
    "start_time": "2022-12-09T17:17:47.196Z"
   },
   {
    "duration": 62,
    "start_time": "2022-12-09T17:19:26.588Z"
   },
   {
    "duration": 183,
    "start_time": "2022-12-09T17:19:29.628Z"
   },
   {
    "duration": 8,
    "start_time": "2022-12-09T17:19:32.492Z"
   },
   {
    "duration": 13849,
    "start_time": "2022-12-09T17:19:34.925Z"
   },
   {
    "duration": 4618,
    "start_time": "2022-12-09T17:20:10.366Z"
   },
   {
    "duration": 8,
    "start_time": "2022-12-09T17:25:33.175Z"
   },
   {
    "duration": 1554,
    "start_time": "2022-12-09T17:25:33.186Z"
   },
   {
    "duration": 868,
    "start_time": "2022-12-09T17:25:34.741Z"
   },
   {
    "duration": 40,
    "start_time": "2022-12-09T17:25:35.611Z"
   },
   {
    "duration": 84,
    "start_time": "2022-12-09T17:25:35.653Z"
   },
   {
    "duration": 34,
    "start_time": "2022-12-09T17:25:35.739Z"
   },
   {
    "duration": 1190468,
    "start_time": "2022-12-09T17:25:35.775Z"
   },
   {
    "duration": 4,
    "start_time": "2022-12-09T17:45:26.245Z"
   },
   {
    "duration": 27,
    "start_time": "2022-12-09T17:45:26.250Z"
   },
   {
    "duration": 88,
    "start_time": "2022-12-09T17:45:26.280Z"
   },
   {
    "duration": 7,
    "start_time": "2022-12-09T17:45:26.370Z"
   },
   {
    "duration": 11,
    "start_time": "2022-12-09T17:45:26.378Z"
   },
   {
    "duration": 147,
    "start_time": "2022-12-09T17:45:26.391Z"
   },
   {
    "duration": 27,
    "start_time": "2022-12-09T17:46:55.381Z"
   },
   {
    "duration": 30,
    "start_time": "2022-12-09T17:47:01.509Z"
   },
   {
    "duration": 14312,
    "start_time": "2022-12-09T17:48:31.088Z"
   },
   {
    "duration": 4,
    "start_time": "2022-12-09T17:48:56.805Z"
   },
   {
    "duration": 4,
    "start_time": "2022-12-09T17:49:05.301Z"
   },
   {
    "duration": 67,
    "start_time": "2022-12-09T17:49:40.118Z"
   },
   {
    "duration": 12,
    "start_time": "2022-12-09T17:49:59.062Z"
   },
   {
    "duration": 4,
    "start_time": "2022-12-09T17:50:04.246Z"
   },
   {
    "duration": 9,
    "start_time": "2022-12-09T17:50:13.719Z"
   },
   {
    "duration": 6,
    "start_time": "2022-12-09T17:50:20.390Z"
   },
   {
    "duration": 7,
    "start_time": "2022-12-09T17:50:24.886Z"
   },
   {
    "duration": 30,
    "start_time": "2022-12-09T17:50:30.774Z"
   },
   {
    "duration": 6,
    "start_time": "2022-12-09T17:50:48.678Z"
   },
   {
    "duration": 4,
    "start_time": "2022-12-09T17:51:24.890Z"
   },
   {
    "duration": 1159967,
    "start_time": "2022-12-09T17:52:14.171Z"
   },
   {
    "duration": 13,
    "start_time": "2022-12-09T18:11:34.140Z"
   },
   {
    "duration": 100,
    "start_time": "2022-12-09T18:11:34.154Z"
   },
   {
    "duration": 21,
    "start_time": "2022-12-09T18:11:34.256Z"
   },
   {
    "duration": 5,
    "start_time": "2022-12-09T18:12:37.674Z"
   },
   {
    "duration": 744,
    "start_time": "2022-12-09T18:13:17.626Z"
   },
   {
    "duration": 15,
    "start_time": "2022-12-09T18:13:22.986Z"
   },
   {
    "duration": 10,
    "start_time": "2022-12-09T18:13:45.163Z"
   },
   {
    "duration": 5,
    "start_time": "2022-12-09T18:14:01.243Z"
   },
   {
    "duration": 26,
    "start_time": "2022-12-09T18:15:00.942Z"
   },
   {
    "duration": 5,
    "start_time": "2022-12-09T18:15:27.692Z"
   },
   {
    "duration": 6811,
    "start_time": "2022-12-09T18:15:48.578Z"
   },
   {
    "duration": 2064,
    "start_time": "2022-12-09T18:18:07.758Z"
   },
   {
    "duration": 2205,
    "start_time": "2022-12-09T18:18:27.151Z"
   },
   {
    "duration": 4,
    "start_time": "2022-12-09T18:18:46.946Z"
   },
   {
    "duration": 33,
    "start_time": "2022-12-09T18:19:06.992Z"
   },
   {
    "duration": 37,
    "start_time": "2022-12-09T18:19:38.673Z"
   },
   {
    "duration": 5,
    "start_time": "2022-12-09T18:20:02.833Z"
   },
   {
    "duration": 30,
    "start_time": "2022-12-09T18:20:06.849Z"
   },
   {
    "duration": 38,
    "start_time": "2022-12-09T18:20:16.241Z"
   },
   {
    "duration": 28,
    "start_time": "2022-12-09T18:20:41.937Z"
   },
   {
    "duration": 32,
    "start_time": "2022-12-09T18:20:57.217Z"
   },
   {
    "duration": 29,
    "start_time": "2022-12-09T18:21:03.457Z"
   },
   {
    "duration": 11,
    "start_time": "2022-12-09T18:21:24.913Z"
   },
   {
    "duration": 8,
    "start_time": "2022-12-09T18:21:45.986Z"
   },
   {
    "duration": 4,
    "start_time": "2022-12-09T18:21:52.915Z"
   },
   {
    "duration": 684,
    "start_time": "2022-12-09T18:22:25.363Z"
   },
   {
    "duration": 9,
    "start_time": "2022-12-09T18:22:31.410Z"
   },
   {
    "duration": 7,
    "start_time": "2022-12-09T18:22:41.651Z"
   },
   {
    "duration": 702,
    "start_time": "2022-12-09T18:22:49.475Z"
   },
   {
    "duration": 7,
    "start_time": "2022-12-09T18:22:58.564Z"
   },
   {
    "duration": 4,
    "start_time": "2022-12-09T18:23:18.548Z"
   },
   {
    "duration": 40,
    "start_time": "2022-12-09T18:23:49.765Z"
   },
   {
    "duration": 4576,
    "start_time": "2022-12-09T18:23:59.573Z"
   },
   {
    "duration": 15,
    "start_time": "2022-12-09T18:27:48.616Z"
   },
   {
    "duration": 20,
    "start_time": "2022-12-09T18:28:09.192Z"
   },
   {
    "duration": 22,
    "start_time": "2022-12-09T18:36:34.624Z"
   },
   {
    "duration": 8,
    "start_time": "2022-12-09T18:42:27.155Z"
   },
   {
    "duration": 1524,
    "start_time": "2022-12-09T18:42:27.165Z"
   },
   {
    "duration": 853,
    "start_time": "2022-12-09T18:42:28.690Z"
   },
   {
    "duration": 31,
    "start_time": "2022-12-09T18:42:29.545Z"
   },
   {
    "duration": 108,
    "start_time": "2022-12-09T18:42:29.578Z"
   },
   {
    "duration": 1194090,
    "start_time": "2022-12-09T18:42:29.688Z"
   },
   {
    "duration": 10,
    "start_time": "2022-12-09T19:02:23.780Z"
   },
   {
    "duration": 11,
    "start_time": "2022-12-09T19:02:23.792Z"
   },
   {
    "duration": 10,
    "start_time": "2022-12-09T19:02:23.805Z"
   },
   {
    "duration": 24,
    "start_time": "2022-12-09T19:02:23.817Z"
   },
   {
    "duration": 98,
    "start_time": "2022-12-09T19:02:23.843Z"
   },
   {
    "duration": 3,
    "start_time": "2022-12-09T19:02:23.944Z"
   },
   {
    "duration": 7,
    "start_time": "2022-12-09T19:02:23.949Z"
   },
   {
    "duration": 148,
    "start_time": "2022-12-09T19:02:23.958Z"
   },
   {
    "duration": 0,
    "start_time": "2022-12-09T19:02:24.108Z"
   },
   {
    "duration": 0,
    "start_time": "2022-12-09T19:02:24.109Z"
   },
   {
    "duration": 1,
    "start_time": "2022-12-09T19:02:24.110Z"
   },
   {
    "duration": 0,
    "start_time": "2022-12-09T19:02:24.112Z"
   },
   {
    "duration": 0,
    "start_time": "2022-12-09T19:02:24.113Z"
   },
   {
    "duration": 0,
    "start_time": "2022-12-09T19:02:24.115Z"
   },
   {
    "duration": 0,
    "start_time": "2022-12-09T19:02:24.116Z"
   },
   {
    "duration": 0,
    "start_time": "2022-12-09T19:02:24.118Z"
   },
   {
    "duration": 0,
    "start_time": "2022-12-09T19:02:24.119Z"
   },
   {
    "duration": 0,
    "start_time": "2022-12-09T19:02:24.136Z"
   },
   {
    "duration": 0,
    "start_time": "2022-12-09T19:02:24.137Z"
   },
   {
    "duration": 0,
    "start_time": "2022-12-09T19:02:24.139Z"
   },
   {
    "duration": 0,
    "start_time": "2022-12-09T19:02:24.140Z"
   },
   {
    "duration": 0,
    "start_time": "2022-12-09T19:02:24.142Z"
   },
   {
    "duration": 20,
    "start_time": "2022-12-09T19:13:59.485Z"
   },
   {
    "duration": 0,
    "start_time": "2022-12-09T19:13:59.507Z"
   },
   {
    "duration": 0,
    "start_time": "2022-12-09T19:13:59.509Z"
   },
   {
    "duration": 0,
    "start_time": "2022-12-09T19:13:59.510Z"
   },
   {
    "duration": 0,
    "start_time": "2022-12-09T19:13:59.511Z"
   },
   {
    "duration": 0,
    "start_time": "2022-12-09T19:13:59.512Z"
   },
   {
    "duration": 0,
    "start_time": "2022-12-09T19:13:59.513Z"
   },
   {
    "duration": 0,
    "start_time": "2022-12-09T19:13:59.514Z"
   },
   {
    "duration": 0,
    "start_time": "2022-12-09T19:13:59.515Z"
   },
   {
    "duration": 0,
    "start_time": "2022-12-09T19:13:59.516Z"
   },
   {
    "duration": 10,
    "start_time": "2022-12-09T19:13:59.518Z"
   },
   {
    "duration": 0,
    "start_time": "2022-12-09T19:13:59.529Z"
   },
   {
    "duration": 0,
    "start_time": "2022-12-09T19:13:59.530Z"
   },
   {
    "duration": 0,
    "start_time": "2022-12-09T19:13:59.531Z"
   },
   {
    "duration": 0,
    "start_time": "2022-12-09T19:13:59.533Z"
   },
   {
    "duration": 6820,
    "start_time": "2022-12-09T19:14:26.705Z"
   },
   {
    "duration": 17595,
    "start_time": "2022-12-09T19:14:33.528Z"
   },
   {
    "duration": 14047,
    "start_time": "2022-12-09T19:14:51.125Z"
   },
   {
    "duration": 352010,
    "start_time": "2022-12-09T19:32:30.396Z"
   },
   {
    "duration": 11,
    "start_time": "2022-12-09T19:38:22.409Z"
   },
   {
    "duration": 39,
    "start_time": "2022-12-09T19:38:22.435Z"
   },
   {
    "duration": 25180,
    "start_time": "2022-12-09T19:38:22.478Z"
   },
   {
    "duration": 370373,
    "start_time": "2022-12-09T19:38:47.659Z"
   },
   {
    "duration": 3533,
    "start_time": "2022-12-09T19:44:58.042Z"
   },
   {
    "duration": 8279,
    "start_time": "2022-12-09T19:45:01.577Z"
   },
   {
    "duration": 212875,
    "start_time": "2022-12-09T19:45:09.939Z"
   },
   {
    "duration": 19,
    "start_time": "2022-12-09T19:48:42.816Z"
   },
   {
    "duration": 15308,
    "start_time": "2022-12-09T19:48:42.837Z"
   },
   {
    "duration": 16,
    "start_time": "2022-12-09T19:48:58.147Z"
   },
   {
    "duration": 199,
    "start_time": "2022-12-09T19:48:58.165Z"
   },
   {
    "duration": 4,
    "start_time": "2022-12-09T19:48:58.366Z"
   },
   {
    "duration": 8,
    "start_time": "2022-12-09T20:39:56.342Z"
   },
   {
    "duration": 1617,
    "start_time": "2022-12-09T20:39:56.351Z"
   },
   {
    "duration": 890,
    "start_time": "2022-12-09T20:39:57.970Z"
   },
   {
    "duration": 33,
    "start_time": "2022-12-09T20:39:58.862Z"
   },
   {
    "duration": 83,
    "start_time": "2022-12-09T20:39:58.897Z"
   },
   {
    "duration": 1187924,
    "start_time": "2022-12-09T20:39:58.981Z"
   },
   {
    "duration": 12,
    "start_time": "2022-12-09T20:59:46.908Z"
   },
   {
    "duration": 17,
    "start_time": "2022-12-09T20:59:46.922Z"
   },
   {
    "duration": 7,
    "start_time": "2022-12-09T20:59:46.941Z"
   },
   {
    "duration": 18,
    "start_time": "2022-12-09T20:59:46.951Z"
   },
   {
    "duration": 7333,
    "start_time": "2022-12-09T20:59:46.971Z"
   },
   {
    "duration": 3,
    "start_time": "2022-12-09T20:59:54.307Z"
   },
   {
    "duration": 8,
    "start_time": "2022-12-09T20:59:54.311Z"
   },
   {
    "duration": 17454,
    "start_time": "2022-12-09T20:59:54.335Z"
   },
   {
    "duration": 15557,
    "start_time": "2022-12-09T21:00:11.792Z"
   },
   {
    "duration": 374284,
    "start_time": "2022-12-09T21:00:27.351Z"
   },
   {
    "duration": 9,
    "start_time": "2022-12-09T21:06:41.637Z"
   },
   {
    "duration": 27,
    "start_time": "2022-12-09T21:06:41.648Z"
   },
   {
    "duration": 22505,
    "start_time": "2022-12-09T21:06:41.677Z"
   },
   {
    "duration": 409641,
    "start_time": "2022-12-09T21:07:04.185Z"
   },
   {
    "duration": 4073,
    "start_time": "2022-12-09T21:13:53.828Z"
   },
   {
    "duration": 7753,
    "start_time": "2022-12-09T21:13:57.903Z"
   },
   {
    "duration": 227007,
    "start_time": "2022-12-09T21:14:05.658Z"
   },
   {
    "duration": 13,
    "start_time": "2022-12-09T21:17:52.667Z"
   },
   {
    "duration": 13971,
    "start_time": "2022-12-09T21:17:52.682Z"
   },
   {
    "duration": 25,
    "start_time": "2022-12-09T21:18:06.655Z"
   },
   {
    "duration": 237,
    "start_time": "2022-12-09T21:18:06.683Z"
   },
   {
    "duration": 4,
    "start_time": "2022-12-09T21:18:06.923Z"
   },
   {
    "duration": 55,
    "start_time": "2022-12-09T21:35:14.226Z"
   },
   {
    "duration": 9,
    "start_time": "2022-12-10T14:36:06.864Z"
   },
   {
    "duration": 2534,
    "start_time": "2022-12-10T14:36:06.877Z"
   },
   {
    "duration": 3995,
    "start_time": "2022-12-10T14:36:09.413Z"
   },
   {
    "duration": 41,
    "start_time": "2022-12-10T14:36:13.411Z"
   },
   {
    "duration": 97,
    "start_time": "2022-12-10T14:36:13.454Z"
   },
   {
    "duration": 847,
    "start_time": "2022-12-10T14:36:13.553Z"
   },
   {
    "duration": 4935,
    "start_time": "2022-12-10T14:37:18.655Z"
   },
   {
    "duration": 12,
    "start_time": "2022-12-10T14:37:41.904Z"
   },
   {
    "duration": 35,
    "start_time": "2022-12-10T14:38:27.483Z"
   },
   {
    "duration": 7,
    "start_time": "2022-12-10T14:39:18.654Z"
   },
   {
    "duration": 4,
    "start_time": "2022-12-10T14:39:26.963Z"
   },
   {
    "duration": 41,
    "start_time": "2022-12-10T14:39:29.346Z"
   },
   {
    "duration": 143,
    "start_time": "2022-12-10T14:39:47.812Z"
   },
   {
    "duration": 21,
    "start_time": "2022-12-10T14:43:14.759Z"
   },
   {
    "duration": 9,
    "start_time": "2022-12-10T14:44:34.463Z"
   },
   {
    "duration": 1134,
    "start_time": "2022-12-10T14:44:54.667Z"
   },
   {
    "duration": 5,
    "start_time": "2022-12-10T14:45:28.842Z"
   },
   {
    "duration": 3,
    "start_time": "2022-12-10T14:47:42.265Z"
   },
   {
    "duration": 48,
    "start_time": "2022-12-10T14:48:00.567Z"
   },
   {
    "duration": 4,
    "start_time": "2022-12-10T14:48:33.794Z"
   },
   {
    "duration": 5,
    "start_time": "2022-12-10T14:48:51.602Z"
   },
   {
    "duration": 3,
    "start_time": "2022-12-10T14:49:19.952Z"
   },
   {
    "duration": 70,
    "start_time": "2022-12-10T14:50:27.401Z"
   },
   {
    "duration": 18,
    "start_time": "2022-12-10T14:51:27.849Z"
   },
   {
    "duration": 33,
    "start_time": "2022-12-10T14:52:10.173Z"
   },
   {
    "duration": 46,
    "start_time": "2022-12-10T14:53:43.072Z"
   },
   {
    "duration": 72,
    "start_time": "2022-12-10T14:53:54.856Z"
   },
   {
    "duration": 17,
    "start_time": "2022-12-10T14:55:38.062Z"
   },
   {
    "duration": 9,
    "start_time": "2022-12-10T14:56:40.452Z"
   },
   {
    "duration": 4,
    "start_time": "2022-12-10T14:57:37.522Z"
   },
   {
    "duration": 17,
    "start_time": "2022-12-10T14:57:52.568Z"
   },
   {
    "duration": 79,
    "start_time": "2022-12-10T14:58:19.068Z"
   },
   {
    "duration": 24,
    "start_time": "2022-12-10T14:59:09.951Z"
   },
   {
    "duration": 17,
    "start_time": "2022-12-10T14:59:29.101Z"
   },
   {
    "duration": 4,
    "start_time": "2022-12-10T15:00:11.563Z"
   },
   {
    "duration": 17,
    "start_time": "2022-12-10T15:00:41.260Z"
   }
  ],
  "kernelspec": {
   "display_name": "Python 3 (ipykernel)",
   "language": "python",
   "name": "python3"
  },
  "language_info": {
   "codemirror_mode": {
    "name": "ipython",
    "version": 3
   },
   "file_extension": ".py",
   "mimetype": "text/x-python",
   "name": "python",
   "nbconvert_exporter": "python",
   "pygments_lexer": "ipython3",
   "version": "3.9.12"
  },
  "toc": {
   "base_numbering": 1,
   "nav_menu": {},
   "number_sections": true,
   "sideBar": true,
   "skip_h1_title": true,
   "title_cell": "Содержание",
   "title_sidebar": "Contents",
   "toc_cell": true,
   "toc_position": {
    "height": "calc(100% - 180px)",
    "left": "10px",
    "top": "150px",
    "width": "302.391px"
   },
   "toc_section_display": true,
   "toc_window_display": true
  }
 },
 "nbformat": 4,
 "nbformat_minor": 2
}
