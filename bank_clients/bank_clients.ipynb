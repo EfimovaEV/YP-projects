{
 "cells": [
  {
   "cell_type": "markdown",
   "metadata": {},
   "source": [
    "# Отток клиентов"
   ]
  },
  {
   "cell_type": "markdown",
   "metadata": {},
   "source": [
    "Из банка стали уходить клиенты. Маркетологи посчитали: сохранять текущих клиентов дешевле, чем привлекать новых.\n",
    "\n",
    "Нужно спрогнозировать, уйдёт клиент в ближайшее время или нет на основе исторических данных о поведении клиентов и расторжении договоров с банком. \n",
    "\n",
    "Постройте модель со значением *F1*-меры не менее 0.59."
   ]
  },
  {
   "cell_type": "markdown",
   "metadata": {
    "toc": true
   },
   "source": [
    "<h1>Содержание<span class=\"tocSkip\"></span></h1>\n",
    "<div class=\"toc\"><ul class=\"toc-item\"><li><span><a href=\"#Подготовка-данных\" data-toc-modified-id=\"Подготовка-данных-1\"><span class=\"toc-item-num\">1&nbsp;&nbsp;</span>Подготовка данных</a></span><ul class=\"toc-item\"><li><span><a href=\"#Общая-информация-о-датасете\" data-toc-modified-id=\"Общая-информация-о-датасете-1.1\"><span class=\"toc-item-num\">1.1&nbsp;&nbsp;</span>Общая информация о датасете</a></span></li><li><span><a href=\"#Обработка-столбцов\" data-toc-modified-id=\"Обработка-столбцов-1.2\"><span class=\"toc-item-num\">1.2&nbsp;&nbsp;</span>Обработка столбцов</a></span></li><li><span><a href=\"#Обработка-пропусков\" data-toc-modified-id=\"Обработка-пропусков-1.3\"><span class=\"toc-item-num\">1.3&nbsp;&nbsp;</span>Обработка пропусков</a></span></li><li><span><a href=\"#Подготовка-признаков\" data-toc-modified-id=\"Подготовка-признаков-1.4\"><span class=\"toc-item-num\">1.4&nbsp;&nbsp;</span>Подготовка признаков</a></span></li></ul></li><li><span><a href=\"#Исследование-задачи\" data-toc-modified-id=\"Исследование-задачи-2\"><span class=\"toc-item-num\">2&nbsp;&nbsp;</span>Исследование задачи</a></span><ul class=\"toc-item\"><li><span><a href=\"#Создание-выборок\" data-toc-modified-id=\"Создание-выборок-2.1\"><span class=\"toc-item-num\">2.1&nbsp;&nbsp;</span>Создание выборок</a></span></li><li><span><a href=\"#Дерево-решений\" data-toc-modified-id=\"Дерево-решений-2.2\"><span class=\"toc-item-num\">2.2&nbsp;&nbsp;</span>Дерево решений</a></span></li><li><span><a href=\"#Случайный-лес\" data-toc-modified-id=\"Случайный-лес-2.3\"><span class=\"toc-item-num\">2.3&nbsp;&nbsp;</span>Случайный лес</a></span></li><li><span><a href=\"#Логистическая-регрессия\" data-toc-modified-id=\"Логистическая-регрессия-2.4\"><span class=\"toc-item-num\">2.4&nbsp;&nbsp;</span>Логистическая регрессия</a></span></li><li><span><a href=\"#Выводы\" data-toc-modified-id=\"Выводы-2.5\"><span class=\"toc-item-num\">2.5&nbsp;&nbsp;</span>Выводы</a></span></li></ul></li><li><span><a href=\"#Борьба-с-дисбалансом\" data-toc-modified-id=\"Борьба-с-дисбалансом-3\"><span class=\"toc-item-num\">3&nbsp;&nbsp;</span>Борьба с дисбалансом</a></span><ul class=\"toc-item\"><li><span><a href=\"#Взвешивание-классов\" data-toc-modified-id=\"Взвешивание-классов-3.1\"><span class=\"toc-item-num\">3.1&nbsp;&nbsp;</span>Взвешивание классов</a></span></li><li><span><a href=\"#Upsampling\" data-toc-modified-id=\"Upsampling-3.2\"><span class=\"toc-item-num\">3.2&nbsp;&nbsp;</span>Upsampling</a></span></li><li><span><a href=\"#Выводы\" data-toc-modified-id=\"Выводы-3.3\"><span class=\"toc-item-num\">3.3&nbsp;&nbsp;</span>Выводы</a></span></li></ul></li><li><span><a href=\"#Тестирование-модели\" data-toc-modified-id=\"Тестирование-модели-4\"><span class=\"toc-item-num\">4&nbsp;&nbsp;</span>Тестирование модели</a></span></li><li><span><a href=\"#Вывод\" data-toc-modified-id=\"Вывод-5\"><span class=\"toc-item-num\">5&nbsp;&nbsp;</span>Вывод</a></span></li></ul></div>"
   ]
  },
  {
   "cell_type": "markdown",
   "metadata": {},
   "source": [
    "## Подготовка данных"
   ]
  },
  {
   "cell_type": "markdown",
   "metadata": {},
   "source": [
    "### Общая информация о датасете"
   ]
  },
  {
   "cell_type": "code",
   "execution_count": 1,
   "metadata": {},
   "outputs": [],
   "source": [
    "import pandas as pd\n",
    "import re\n",
    "import matplotlib.pyplot as plt\n",
    "import random\n",
    "import numpy as np\n",
    "\n",
    "from sklearn.model_selection import train_test_split\n",
    "from sklearn.preprocessing import StandardScaler\n",
    "from sklearn.utils import shuffle\n",
    "\n",
    "from sklearn.tree import DecisionTreeClassifier\n",
    "from sklearn.ensemble import RandomForestClassifier\n",
    "from sklearn.linear_model import LogisticRegression\n",
    "\n",
    "from sklearn.metrics import f1_score, roc_curve, roc_auc_score\n",
    "\n",
    "import matplotlib.pyplot as plt"
   ]
  },
  {
   "cell_type": "code",
   "execution_count": 2,
   "metadata": {
    "scrolled": true
   },
   "outputs": [
    {
     "data": {
      "text/html": [
       "<div>\n",
       "<style scoped>\n",
       "    .dataframe tbody tr th:only-of-type {\n",
       "        vertical-align: middle;\n",
       "    }\n",
       "\n",
       "    .dataframe tbody tr th {\n",
       "        vertical-align: top;\n",
       "    }\n",
       "\n",
       "    .dataframe thead th {\n",
       "        text-align: right;\n",
       "    }\n",
       "</style>\n",
       "<table border=\"1\" class=\"dataframe\">\n",
       "  <thead>\n",
       "    <tr style=\"text-align: right;\">\n",
       "      <th></th>\n",
       "      <th>RowNumber</th>\n",
       "      <th>CustomerId</th>\n",
       "      <th>Surname</th>\n",
       "      <th>CreditScore</th>\n",
       "      <th>Geography</th>\n",
       "      <th>Gender</th>\n",
       "      <th>Age</th>\n",
       "      <th>Tenure</th>\n",
       "      <th>Balance</th>\n",
       "      <th>NumOfProducts</th>\n",
       "      <th>HasCrCard</th>\n",
       "      <th>IsActiveMember</th>\n",
       "      <th>EstimatedSalary</th>\n",
       "      <th>Exited</th>\n",
       "    </tr>\n",
       "  </thead>\n",
       "  <tbody>\n",
       "    <tr>\n",
       "      <th>0</th>\n",
       "      <td>1</td>\n",
       "      <td>15634602</td>\n",
       "      <td>Hargrave</td>\n",
       "      <td>619</td>\n",
       "      <td>France</td>\n",
       "      <td>Female</td>\n",
       "      <td>42</td>\n",
       "      <td>2.0</td>\n",
       "      <td>0.00</td>\n",
       "      <td>1</td>\n",
       "      <td>1</td>\n",
       "      <td>1</td>\n",
       "      <td>101348.88</td>\n",
       "      <td>1</td>\n",
       "    </tr>\n",
       "    <tr>\n",
       "      <th>1</th>\n",
       "      <td>2</td>\n",
       "      <td>15647311</td>\n",
       "      <td>Hill</td>\n",
       "      <td>608</td>\n",
       "      <td>Spain</td>\n",
       "      <td>Female</td>\n",
       "      <td>41</td>\n",
       "      <td>1.0</td>\n",
       "      <td>83807.86</td>\n",
       "      <td>1</td>\n",
       "      <td>0</td>\n",
       "      <td>1</td>\n",
       "      <td>112542.58</td>\n",
       "      <td>0</td>\n",
       "    </tr>\n",
       "    <tr>\n",
       "      <th>2</th>\n",
       "      <td>3</td>\n",
       "      <td>15619304</td>\n",
       "      <td>Onio</td>\n",
       "      <td>502</td>\n",
       "      <td>France</td>\n",
       "      <td>Female</td>\n",
       "      <td>42</td>\n",
       "      <td>8.0</td>\n",
       "      <td>159660.80</td>\n",
       "      <td>3</td>\n",
       "      <td>1</td>\n",
       "      <td>0</td>\n",
       "      <td>113931.57</td>\n",
       "      <td>1</td>\n",
       "    </tr>\n",
       "    <tr>\n",
       "      <th>3</th>\n",
       "      <td>4</td>\n",
       "      <td>15701354</td>\n",
       "      <td>Boni</td>\n",
       "      <td>699</td>\n",
       "      <td>France</td>\n",
       "      <td>Female</td>\n",
       "      <td>39</td>\n",
       "      <td>1.0</td>\n",
       "      <td>0.00</td>\n",
       "      <td>2</td>\n",
       "      <td>0</td>\n",
       "      <td>0</td>\n",
       "      <td>93826.63</td>\n",
       "      <td>0</td>\n",
       "    </tr>\n",
       "    <tr>\n",
       "      <th>4</th>\n",
       "      <td>5</td>\n",
       "      <td>15737888</td>\n",
       "      <td>Mitchell</td>\n",
       "      <td>850</td>\n",
       "      <td>Spain</td>\n",
       "      <td>Female</td>\n",
       "      <td>43</td>\n",
       "      <td>2.0</td>\n",
       "      <td>125510.82</td>\n",
       "      <td>1</td>\n",
       "      <td>1</td>\n",
       "      <td>1</td>\n",
       "      <td>79084.10</td>\n",
       "      <td>0</td>\n",
       "    </tr>\n",
       "  </tbody>\n",
       "</table>\n",
       "</div>"
      ],
      "text/plain": [
       "   RowNumber  CustomerId   Surname  CreditScore Geography  Gender  Age  \\\n",
       "0          1    15634602  Hargrave          619    France  Female   42   \n",
       "1          2    15647311      Hill          608     Spain  Female   41   \n",
       "2          3    15619304      Onio          502    France  Female   42   \n",
       "3          4    15701354      Boni          699    France  Female   39   \n",
       "4          5    15737888  Mitchell          850     Spain  Female   43   \n",
       "\n",
       "   Tenure    Balance  NumOfProducts  HasCrCard  IsActiveMember  \\\n",
       "0     2.0       0.00              1          1               1   \n",
       "1     1.0   83807.86              1          0               1   \n",
       "2     8.0  159660.80              3          1               0   \n",
       "3     1.0       0.00              2          0               0   \n",
       "4     2.0  125510.82              1          1               1   \n",
       "\n",
       "   EstimatedSalary  Exited  \n",
       "0        101348.88       1  \n",
       "1        112542.58       0  \n",
       "2        113931.57       1  \n",
       "3         93826.63       0  \n",
       "4         79084.10       0  "
      ]
     },
     "execution_count": 2,
     "metadata": {},
     "output_type": "execute_result"
    }
   ],
   "source": [
    "data = pd.read_csv('datasets/Churn.csv')\n",
    "data.head()"
   ]
  },
  {
   "cell_type": "markdown",
   "metadata": {},
   "source": [
    "В данных содержится следующая информация:\n",
    "\n",
    "**Признаки**\n",
    "\n",
    "- `RowNumber` — индекс строки в данных\n",
    "- `CustomerId` — уникальный идентификатор клиента\n",
    "- `Surname` — фамилия\n",
    "- `CreditScore` — кредитный рейтинг\n",
    "- `Geography` — страна проживания\n",
    "- `Gender` — пол\n",
    "- `Age` — возраст\n",
    "- `Tenure` — сколько лет человек является клиентом банка\n",
    "- `Balance` — баланс на счёте\n",
    "- `NumOfProducts` — количество продуктов банка, используемых клиентом\n",
    "- `HasCrCard` — наличие кредитной карты\n",
    "- `IsActiveMember` — активность клиента\n",
    "- `EstimatedSalary` — предполагаемая зарплата\n",
    "\n",
    "**Целевой признак**\n",
    "- `Exited` — факт ухода клиента"
   ]
  },
  {
   "cell_type": "code",
   "execution_count": 3,
   "metadata": {
    "scrolled": false
   },
   "outputs": [
    {
     "name": "stdout",
     "output_type": "stream",
     "text": [
      "<class 'pandas.core.frame.DataFrame'>\n",
      "RangeIndex: 10000 entries, 0 to 9999\n",
      "Data columns (total 14 columns):\n",
      " #   Column           Non-Null Count  Dtype  \n",
      "---  ------           --------------  -----  \n",
      " 0   RowNumber        10000 non-null  int64  \n",
      " 1   CustomerId       10000 non-null  int64  \n",
      " 2   Surname          10000 non-null  object \n",
      " 3   CreditScore      10000 non-null  int64  \n",
      " 4   Geography        10000 non-null  object \n",
      " 5   Gender           10000 non-null  object \n",
      " 6   Age              10000 non-null  int64  \n",
      " 7   Tenure           9091 non-null   float64\n",
      " 8   Balance          10000 non-null  float64\n",
      " 9   NumOfProducts    10000 non-null  int64  \n",
      " 10  HasCrCard        10000 non-null  int64  \n",
      " 11  IsActiveMember   10000 non-null  int64  \n",
      " 12  EstimatedSalary  10000 non-null  float64\n",
      " 13  Exited           10000 non-null  int64  \n",
      "dtypes: float64(3), int64(8), object(3)\n",
      "memory usage: 1.1+ MB\n"
     ]
    }
   ],
   "source": [
    "data.info()"
   ]
  },
  {
   "cell_type": "markdown",
   "metadata": {},
   "source": [
    "### Обработка столбцов"
   ]
  },
  {
   "cell_type": "markdown",
   "metadata": {},
   "source": [
    "Данные столбцов `RowNumber`, `CustomerId` и `Surname` являются идентификационными и не несут информации, определяющей уход клиента. Необходимо убрать их из данных."
   ]
  },
  {
   "cell_type": "code",
   "execution_count": 4,
   "metadata": {},
   "outputs": [],
   "source": [
    "data = data.drop(['RowNumber', 'CustomerId', 'Surname'], axis=1)"
   ]
  },
  {
   "cell_type": "markdown",
   "metadata": {},
   "source": [
    "Для удобства переведем названия столбцов в змеиный регистр:"
   ]
  },
  {
   "cell_type": "code",
   "execution_count": 5,
   "metadata": {},
   "outputs": [
    {
     "data": {
      "text/plain": [
       "Index(['credit_score', 'geography', 'gender', 'age', 'tenure', 'balance',\n",
       "       'num_of_products', 'has_cr_card', 'is_active_member',\n",
       "       'estimated_salary', 'exited'],\n",
       "      dtype='object')"
      ]
     },
     "execution_count": 5,
     "metadata": {},
     "output_type": "execute_result"
    }
   ],
   "source": [
    "def serpensortia(name):\n",
    "    new_name = re.findall('[A-Z][^A-Z]*', name)\n",
    "    new_name = [word.lower() for word in new_name]\n",
    "    return '_'.join(new_name)\n",
    "    \n",
    "data.columns = [serpensortia(name) for name in list(data.columns)]\n",
    "data.columns"
   ]
  },
  {
   "cell_type": "markdown",
   "metadata": {},
   "source": [
    "### Обработка пропусков"
   ]
  },
  {
   "cell_type": "markdown",
   "metadata": {},
   "source": [
    "Столбец `tenure` содержит пропуски."
   ]
  },
  {
   "cell_type": "code",
   "execution_count": 6,
   "metadata": {},
   "outputs": [
    {
     "data": {
      "text/plain": [
       "909"
      ]
     },
     "execution_count": 6,
     "metadata": {},
     "output_type": "execute_result"
    }
   ],
   "source": [
    "data['tenure'].isna().sum()"
   ]
  },
  {
   "cell_type": "markdown",
   "metadata": {},
   "source": [
    "Для заполнения проспусков используем случайную выборку из иеющихся данных, причем для ушедших и остающихся клиентов отдельно."
   ]
  },
  {
   "cell_type": "code",
   "execution_count": 7,
   "metadata": {},
   "outputs": [],
   "source": [
    "n0 = data.loc[data['exited'] == 0,'tenure'].isna().sum() #количество пропусков среди остающихся\n",
    "fill_0 = list(data.loc[(data['tenure'].notna()) & (data['exited']==0), 'tenure'].sample(n0)) #выборка для остающихся\n",
    "\n",
    "n1 = data.loc[data['exited'] == 1,'tenure'].isna().sum() #количество пропусков среди ушедших \n",
    "fill_1 = list(data.loc[(data['tenure'].notna()) & (data['exited']==1), 'tenure'].sample(n1)) #выборка для ушедшиx\n",
    "\n",
    "data['tenure'] = pd.concat([data.loc[data['tenure'].notna(), 'tenure'],\n",
    "                          pd.Series(data=fill_0, index=data[(data['tenure'].isna()) & (data['exited']==0)].index),\n",
    "                          pd.Series(data=fill_1, index=data[(data['tenure'].isna()) & (data['exited']==1)].index)],\n",
    "                          )"
   ]
  },
  {
   "cell_type": "markdown",
   "metadata": {},
   "source": [
    "После обработки датасет выглядит следующим образом:"
   ]
  },
  {
   "cell_type": "code",
   "execution_count": 8,
   "metadata": {
    "scrolled": false
   },
   "outputs": [
    {
     "data": {
      "text/html": [
       "<div>\n",
       "<style scoped>\n",
       "    .dataframe tbody tr th:only-of-type {\n",
       "        vertical-align: middle;\n",
       "    }\n",
       "\n",
       "    .dataframe tbody tr th {\n",
       "        vertical-align: top;\n",
       "    }\n",
       "\n",
       "    .dataframe thead th {\n",
       "        text-align: right;\n",
       "    }\n",
       "</style>\n",
       "<table border=\"1\" class=\"dataframe\">\n",
       "  <thead>\n",
       "    <tr style=\"text-align: right;\">\n",
       "      <th></th>\n",
       "      <th>credit_score</th>\n",
       "      <th>geography</th>\n",
       "      <th>gender</th>\n",
       "      <th>age</th>\n",
       "      <th>tenure</th>\n",
       "      <th>balance</th>\n",
       "      <th>num_of_products</th>\n",
       "      <th>has_cr_card</th>\n",
       "      <th>is_active_member</th>\n",
       "      <th>estimated_salary</th>\n",
       "      <th>exited</th>\n",
       "    </tr>\n",
       "  </thead>\n",
       "  <tbody>\n",
       "    <tr>\n",
       "      <th>0</th>\n",
       "      <td>619</td>\n",
       "      <td>France</td>\n",
       "      <td>Female</td>\n",
       "      <td>42</td>\n",
       "      <td>2.0</td>\n",
       "      <td>0.00</td>\n",
       "      <td>1</td>\n",
       "      <td>1</td>\n",
       "      <td>1</td>\n",
       "      <td>101348.88</td>\n",
       "      <td>1</td>\n",
       "    </tr>\n",
       "    <tr>\n",
       "      <th>1</th>\n",
       "      <td>608</td>\n",
       "      <td>Spain</td>\n",
       "      <td>Female</td>\n",
       "      <td>41</td>\n",
       "      <td>1.0</td>\n",
       "      <td>83807.86</td>\n",
       "      <td>1</td>\n",
       "      <td>0</td>\n",
       "      <td>1</td>\n",
       "      <td>112542.58</td>\n",
       "      <td>0</td>\n",
       "    </tr>\n",
       "    <tr>\n",
       "      <th>2</th>\n",
       "      <td>502</td>\n",
       "      <td>France</td>\n",
       "      <td>Female</td>\n",
       "      <td>42</td>\n",
       "      <td>8.0</td>\n",
       "      <td>159660.80</td>\n",
       "      <td>3</td>\n",
       "      <td>1</td>\n",
       "      <td>0</td>\n",
       "      <td>113931.57</td>\n",
       "      <td>1</td>\n",
       "    </tr>\n",
       "    <tr>\n",
       "      <th>3</th>\n",
       "      <td>699</td>\n",
       "      <td>France</td>\n",
       "      <td>Female</td>\n",
       "      <td>39</td>\n",
       "      <td>1.0</td>\n",
       "      <td>0.00</td>\n",
       "      <td>2</td>\n",
       "      <td>0</td>\n",
       "      <td>0</td>\n",
       "      <td>93826.63</td>\n",
       "      <td>0</td>\n",
       "    </tr>\n",
       "    <tr>\n",
       "      <th>4</th>\n",
       "      <td>850</td>\n",
       "      <td>Spain</td>\n",
       "      <td>Female</td>\n",
       "      <td>43</td>\n",
       "      <td>2.0</td>\n",
       "      <td>125510.82</td>\n",
       "      <td>1</td>\n",
       "      <td>1</td>\n",
       "      <td>1</td>\n",
       "      <td>79084.10</td>\n",
       "      <td>0</td>\n",
       "    </tr>\n",
       "  </tbody>\n",
       "</table>\n",
       "</div>"
      ],
      "text/plain": [
       "   credit_score geography  gender  age  tenure    balance  num_of_products  \\\n",
       "0           619    France  Female   42     2.0       0.00                1   \n",
       "1           608     Spain  Female   41     1.0   83807.86                1   \n",
       "2           502    France  Female   42     8.0  159660.80                3   \n",
       "3           699    France  Female   39     1.0       0.00                2   \n",
       "4           850     Spain  Female   43     2.0  125510.82                1   \n",
       "\n",
       "   has_cr_card  is_active_member  estimated_salary  exited  \n",
       "0            1                 1         101348.88       1  \n",
       "1            0                 1         112542.58       0  \n",
       "2            1                 0         113931.57       1  \n",
       "3            0                 0          93826.63       0  \n",
       "4            1                 1          79084.10       0  "
      ]
     },
     "execution_count": 8,
     "metadata": {},
     "output_type": "execute_result"
    }
   ],
   "source": [
    "data.head()"
   ]
  },
  {
   "cell_type": "code",
   "execution_count": 9,
   "metadata": {},
   "outputs": [
    {
     "name": "stdout",
     "output_type": "stream",
     "text": [
      "<class 'pandas.core.frame.DataFrame'>\n",
      "RangeIndex: 10000 entries, 0 to 9999\n",
      "Data columns (total 11 columns):\n",
      " #   Column            Non-Null Count  Dtype  \n",
      "---  ------            --------------  -----  \n",
      " 0   credit_score      10000 non-null  int64  \n",
      " 1   geography         10000 non-null  object \n",
      " 2   gender            10000 non-null  object \n",
      " 3   age               10000 non-null  int64  \n",
      " 4   tenure            10000 non-null  float64\n",
      " 5   balance           10000 non-null  float64\n",
      " 6   num_of_products   10000 non-null  int64  \n",
      " 7   has_cr_card       10000 non-null  int64  \n",
      " 8   is_active_member  10000 non-null  int64  \n",
      " 9   estimated_salary  10000 non-null  float64\n",
      " 10  exited            10000 non-null  int64  \n",
      "dtypes: float64(3), int64(6), object(2)\n",
      "memory usage: 859.5+ KB\n"
     ]
    }
   ],
   "source": [
    "data.info()"
   ]
  },
  {
   "cell_type": "markdown",
   "metadata": {},
   "source": [
    "### Подготовка признаков"
   ]
  },
  {
   "cell_type": "markdown",
   "metadata": {},
   "source": [
    "В данных присутствуют 2 категориальных признака: пол и страна проживания. Для того, чтобы модели могли их обработать, необходимо преобразовать их в количественные. Начнем с признака `gender`:"
   ]
  },
  {
   "cell_type": "code",
   "execution_count": 10,
   "metadata": {},
   "outputs": [
    {
     "data": {
      "text/plain": [
       "array(['Female', 'Male'], dtype=object)"
      ]
     },
     "execution_count": 10,
     "metadata": {},
     "output_type": "execute_result"
    }
   ],
   "source": [
    "data['gender'].unique()"
   ]
  },
  {
   "cell_type": "markdown",
   "metadata": {},
   "source": [
    "В данных присутствуют только 2 возможных варианта пола. Разумно закодировать их следующим образом:\n",
    "- женский - \"*1*\"\n",
    "- мужской - \"*0*\""
   ]
  },
  {
   "cell_type": "code",
   "execution_count": 11,
   "metadata": {},
   "outputs": [],
   "source": [
    "data['gender'] = data['gender'].replace(['Male', 'Female'], [0, 1])"
   ]
  },
  {
   "cell_type": "markdown",
   "metadata": {},
   "source": [
    "Рассмотрим страну проживания - `geography`."
   ]
  },
  {
   "cell_type": "code",
   "execution_count": 12,
   "metadata": {},
   "outputs": [
    {
     "name": "stdout",
     "output_type": "stream",
     "text": [
      "France Spain Germany\n"
     ]
    }
   ],
   "source": [
    "print(*data['geography'].unique())"
   ]
  },
  {
   "cell_type": "markdown",
   "metadata": {},
   "source": [
    "Для кодировки воспользуемся техникой OHE."
   ]
  },
  {
   "cell_type": "code",
   "execution_count": 13,
   "metadata": {},
   "outputs": [],
   "source": [
    "data = pd.get_dummies(data, prefix=['geography'], drop_first=True)"
   ]
  },
  {
   "cell_type": "markdown",
   "metadata": {},
   "source": [
    "В результате предобработки данные имеют следующий вид:"
   ]
  },
  {
   "cell_type": "code",
   "execution_count": 14,
   "metadata": {},
   "outputs": [
    {
     "data": {
      "text/html": [
       "<div>\n",
       "<style scoped>\n",
       "    .dataframe tbody tr th:only-of-type {\n",
       "        vertical-align: middle;\n",
       "    }\n",
       "\n",
       "    .dataframe tbody tr th {\n",
       "        vertical-align: top;\n",
       "    }\n",
       "\n",
       "    .dataframe thead th {\n",
       "        text-align: right;\n",
       "    }\n",
       "</style>\n",
       "<table border=\"1\" class=\"dataframe\">\n",
       "  <thead>\n",
       "    <tr style=\"text-align: right;\">\n",
       "      <th></th>\n",
       "      <th>credit_score</th>\n",
       "      <th>gender</th>\n",
       "      <th>age</th>\n",
       "      <th>tenure</th>\n",
       "      <th>balance</th>\n",
       "      <th>num_of_products</th>\n",
       "      <th>has_cr_card</th>\n",
       "      <th>is_active_member</th>\n",
       "      <th>estimated_salary</th>\n",
       "      <th>exited</th>\n",
       "      <th>geography_Germany</th>\n",
       "      <th>geography_Spain</th>\n",
       "    </tr>\n",
       "  </thead>\n",
       "  <tbody>\n",
       "    <tr>\n",
       "      <th>0</th>\n",
       "      <td>619</td>\n",
       "      <td>1</td>\n",
       "      <td>42</td>\n",
       "      <td>2.0</td>\n",
       "      <td>0.00</td>\n",
       "      <td>1</td>\n",
       "      <td>1</td>\n",
       "      <td>1</td>\n",
       "      <td>101348.88</td>\n",
       "      <td>1</td>\n",
       "      <td>0</td>\n",
       "      <td>0</td>\n",
       "    </tr>\n",
       "    <tr>\n",
       "      <th>1</th>\n",
       "      <td>608</td>\n",
       "      <td>1</td>\n",
       "      <td>41</td>\n",
       "      <td>1.0</td>\n",
       "      <td>83807.86</td>\n",
       "      <td>1</td>\n",
       "      <td>0</td>\n",
       "      <td>1</td>\n",
       "      <td>112542.58</td>\n",
       "      <td>0</td>\n",
       "      <td>0</td>\n",
       "      <td>1</td>\n",
       "    </tr>\n",
       "    <tr>\n",
       "      <th>2</th>\n",
       "      <td>502</td>\n",
       "      <td>1</td>\n",
       "      <td>42</td>\n",
       "      <td>8.0</td>\n",
       "      <td>159660.80</td>\n",
       "      <td>3</td>\n",
       "      <td>1</td>\n",
       "      <td>0</td>\n",
       "      <td>113931.57</td>\n",
       "      <td>1</td>\n",
       "      <td>0</td>\n",
       "      <td>0</td>\n",
       "    </tr>\n",
       "    <tr>\n",
       "      <th>3</th>\n",
       "      <td>699</td>\n",
       "      <td>1</td>\n",
       "      <td>39</td>\n",
       "      <td>1.0</td>\n",
       "      <td>0.00</td>\n",
       "      <td>2</td>\n",
       "      <td>0</td>\n",
       "      <td>0</td>\n",
       "      <td>93826.63</td>\n",
       "      <td>0</td>\n",
       "      <td>0</td>\n",
       "      <td>0</td>\n",
       "    </tr>\n",
       "    <tr>\n",
       "      <th>4</th>\n",
       "      <td>850</td>\n",
       "      <td>1</td>\n",
       "      <td>43</td>\n",
       "      <td>2.0</td>\n",
       "      <td>125510.82</td>\n",
       "      <td>1</td>\n",
       "      <td>1</td>\n",
       "      <td>1</td>\n",
       "      <td>79084.10</td>\n",
       "      <td>0</td>\n",
       "      <td>0</td>\n",
       "      <td>1</td>\n",
       "    </tr>\n",
       "  </tbody>\n",
       "</table>\n",
       "</div>"
      ],
      "text/plain": [
       "   credit_score  gender  age  tenure    balance  num_of_products  has_cr_card  \\\n",
       "0           619       1   42     2.0       0.00                1            1   \n",
       "1           608       1   41     1.0   83807.86                1            0   \n",
       "2           502       1   42     8.0  159660.80                3            1   \n",
       "3           699       1   39     1.0       0.00                2            0   \n",
       "4           850       1   43     2.0  125510.82                1            1   \n",
       "\n",
       "   is_active_member  estimated_salary  exited  geography_Germany  \\\n",
       "0                 1         101348.88       1                  0   \n",
       "1                 1         112542.58       0                  0   \n",
       "2                 0         113931.57       1                  0   \n",
       "3                 0          93826.63       0                  0   \n",
       "4                 1          79084.10       0                  0   \n",
       "\n",
       "   geography_Spain  \n",
       "0                0  \n",
       "1                1  \n",
       "2                0  \n",
       "3                0  \n",
       "4                1  "
      ]
     },
     "execution_count": 14,
     "metadata": {},
     "output_type": "execute_result"
    }
   ],
   "source": [
    "data.head()"
   ]
  },
  {
   "cell_type": "code",
   "execution_count": 15,
   "metadata": {},
   "outputs": [
    {
     "name": "stdout",
     "output_type": "stream",
     "text": [
      "<class 'pandas.core.frame.DataFrame'>\n",
      "RangeIndex: 10000 entries, 0 to 9999\n",
      "Data columns (total 12 columns):\n",
      " #   Column             Non-Null Count  Dtype  \n",
      "---  ------             --------------  -----  \n",
      " 0   credit_score       10000 non-null  int64  \n",
      " 1   gender             10000 non-null  int64  \n",
      " 2   age                10000 non-null  int64  \n",
      " 3   tenure             10000 non-null  float64\n",
      " 4   balance            10000 non-null  float64\n",
      " 5   num_of_products    10000 non-null  int64  \n",
      " 6   has_cr_card        10000 non-null  int64  \n",
      " 7   is_active_member   10000 non-null  int64  \n",
      " 8   estimated_salary   10000 non-null  float64\n",
      " 9   exited             10000 non-null  int64  \n",
      " 10  geography_Germany  10000 non-null  uint8  \n",
      " 11  geography_Spain    10000 non-null  uint8  \n",
      "dtypes: float64(3), int64(7), uint8(2)\n",
      "memory usage: 800.9 KB\n"
     ]
    }
   ],
   "source": [
    "data.info()"
   ]
  },
  {
   "cell_type": "markdown",
   "metadata": {},
   "source": [
    "## Исследование задачи"
   ]
  },
  {
   "cell_type": "markdown",
   "metadata": {},
   "source": [
    "В качестве возможных моделей рассмотрим модель решающего дерева, случайного леса и логистической регрессии."
   ]
  },
  {
   "cell_type": "markdown",
   "metadata": {},
   "source": [
    "### Создание выборок"
   ]
  },
  {
   "cell_type": "markdown",
   "metadata": {},
   "source": [
    "Тестовая выборка отсутствует, следовательно, имеющиеся данные нужно разбить на три выборки: обучающую, валидационную и тестовую. Размеры тестового и валидационного наборов обычно равны. Исходные данные разобьем в соотношении 3:1:1."
   ]
  },
  {
   "cell_type": "code",
   "execution_count": 16,
   "metadata": {},
   "outputs": [
    {
     "name": "stdout",
     "output_type": "stream",
     "text": [
      "Обучающая выборка: 6000 строк\n",
      "Валидационная выборка: 2000 строк\n",
      "Тестовая выборка: 2000 строк\n"
     ]
    }
   ],
   "source": [
    "target = data['exited']\n",
    "features = data.drop('exited', axis = 1)\n",
    "\n",
    "# отделяем обучающую выборку - 60% всех данных\n",
    "features, features_train, target, target_train = \\\n",
    "    train_test_split(features, target, test_size=.6, random_state=12345, stratify=target)\n",
    "\n",
    "# делим оставшиеся данные на равные валидационную и тестовую выборки\n",
    "features_valid, features_test, target_valid, target_test = \\\n",
    "    train_test_split(features, target, test_size=.5, random_state=12345, stratify=target)\n",
    "\n",
    "print('Обучающая выборка:', features_train.shape[0], 'строк')\n",
    "print('Валидационная выборка:', features_valid.shape[0], 'строк')\n",
    "print('Тестовая выборка:', features_test.shape[0], 'строк')"
   ]
  },
  {
   "cell_type": "markdown",
   "metadata": {},
   "source": [
    "Для модели логистической регрессии перед обучением необходимо провести масштабирование количественных признаков `balance` и `estimated_salary`."
   ]
  },
  {
   "cell_type": "code",
   "execution_count": 17,
   "metadata": {},
   "outputs": [],
   "source": [
    "numeric =['balance', 'estimated_salary']\n",
    "\n",
    "features_train_scaled = features_train.copy()\n",
    "features_valid_scaled = features_valid.copy()\n",
    "\n",
    "scaler = StandardScaler()\n",
    "scaler.fit(features_train[numeric])\n",
    "\n",
    "features_train_scaled[numeric] = scaler.transform(features_train[numeric])\n",
    "features_valid_scaled[numeric] = scaler.transform(features_valid[numeric])"
   ]
  },
  {
   "cell_type": "markdown",
   "metadata": {},
   "source": [
    "### Дерево решений"
   ]
  },
  {
   "cell_type": "markdown",
   "metadata": {},
   "source": [
    "Для начала рассмотрим модель по умолчанию: не будем регулировать гиперпараметры и позволим алгоритму самому решать."
   ]
  },
  {
   "cell_type": "code",
   "execution_count": 18,
   "metadata": {
    "scrolled": false
   },
   "outputs": [
    {
     "name": "stdout",
     "output_type": "stream",
     "text": [
      "Глубина полученного дерева: 19\n"
     ]
    }
   ],
   "source": [
    "tree_model = DecisionTreeClassifier(random_state=0)\n",
    "tree_model.fit(features_train, target_train)\n",
    "\n",
    "print('Глубина полученного дерева:', tree_model.get_depth())"
   ]
  },
  {
   "cell_type": "code",
   "execution_count": 19,
   "metadata": {},
   "outputs": [
    {
     "name": "stdout",
     "output_type": "stream",
     "text": [
      "F1 на валидационной выборке: 0.4869\n",
      "F1 на обучающей выборке: 1.0\n"
     ]
    }
   ],
   "source": [
    "predictions_valid = tree_model.predict(features_valid)\n",
    "tree_f1 = f1_score(target_valid, predictions_valid)\n",
    "\n",
    "print('F1 на валидационной выборке:', tree_f1.round(4))\n",
    "print('F1 на обучающей выборке:', f1_score(target_train, tree_model.predict(features_train)))"
   ]
  },
  {
   "cell_type": "markdown",
   "metadata": {},
   "source": [
    "F1 на валидационной выборке меньше требуемого значения 0.59. Модель явно переобучена: угадывает все ответы обучающей выборки. Необходимо откорректировать модель через гиперпараметры. Наиболее понятным для настройки является параметр максимальной глубины дерева. Сократим дерево и определим такую глубину, при которой доля ответов будет наибольшей:"
   ]
  },
  {
   "cell_type": "code",
   "execution_count": 20,
   "metadata": {},
   "outputs": [],
   "source": [
    "tree_model = None\n",
    "tree_f1 = 0\n",
    "tree_max_depth = 0\n",
    "f1_train_list = []\n",
    "f1_valid_list = []\n",
    "\n",
    "for depth in range(2, 20):\n",
    "    model = DecisionTreeClassifier(max_depth=depth, random_state=1)\n",
    "    model.fit(features_train, target_train)\n",
    "    predictions_valid = model.predict(features_valid)\n",
    "    f1 = f1_score(target_valid, predictions_valid)\n",
    "    f1_valid_list.append(f1)\n",
    "    f1_train_list.append(f1_score(target_train, model.predict(features_train)))\n",
    "    if f1 > tree_f1:\n",
    "        tree_model, tree_f1, tree_max_depth = model, f1, depth"
   ]
  },
  {
   "cell_type": "code",
   "execution_count": 21,
   "metadata": {},
   "outputs": [
    {
     "data": {
      "image/png": "[encoded data removed]",
      "text/plain": [
       "<Figure size 432x288 with 1 Axes>"
      ]
     },
     "metadata": {
      "needs_background": "light"
     },
     "output_type": "display_data"
    }
   ],
   "source": [
    "fig, ax = plt.subplots()\n",
    "plt.plot(range(2,20), f1_train_list, axes=ax, label='train')\n",
    "plt.plot(range(2,20), f1_valid_list, axes=ax, label='valid')\n",
    "plt.grid()\n",
    "plt.xticks(range(2,21,2))\n",
    "ax.legend()\n",
    "None"
   ]
  },
  {
   "cell_type": "code",
   "execution_count": 22,
   "metadata": {},
   "outputs": [
    {
     "name": "stdout",
     "output_type": "stream",
     "text": [
      "Глубина дерева решений: 7\n",
      "F1 = 0.5714\n"
     ]
    }
   ],
   "source": [
    "print('Глубина дерева решений:', tree_max_depth)\n",
    "print('F1 =', tree_f1.round(4))"
   ]
  },
  {
   "cell_type": "code",
   "execution_count": 23,
   "metadata": {},
   "outputs": [
    {
     "data": {
      "text/plain": [
       "0.6581"
      ]
     },
     "execution_count": 23,
     "metadata": {},
     "output_type": "execute_result"
    }
   ],
   "source": [
    "f1_score(target_train, tree_model.predict(features_train)).round(4)"
   ]
  },
  {
   "cell_type": "markdown",
   "metadata": {},
   "source": [
    "Регулировкой одного параметра удалось улучшить качество модели: F1 на валидационной выборке возросла, модель менее переобучена, но все не удоветворяет требованиям. "
   ]
  },
  {
   "cell_type": "code",
   "execution_count": 24,
   "metadata": {},
   "outputs": [
    {
     "data": {
      "image/png": "[encoded data removed]",
      "text/plain": [
       "<Figure size 432x288 with 1 Axes>"
      ]
     },
     "metadata": {
      "needs_background": "light"
     },
     "output_type": "display_data"
    }
   ],
   "source": [
    "def print_roc(fpr, tpr, thresholds):\n",
    "    plt.plot(fpr, tpr)\n",
    "    # ROC-кривая случайной модели\n",
    "    plt.plot([0, 1], [0, 1], linestyle='--')\n",
    "\n",
    "    plt.ylim([0.0, 1.0])\n",
    "    plt.xlim([0.0, 1.0])\n",
    "\n",
    "    plt.xlabel('False Positive Rate')\n",
    "    plt.ylabel('True Positive Rate')\n",
    "    plt.title(\"ROC-кривая\")\n",
    "\n",
    "    plt.show()\n",
    "    \n",
    "probabilities_valid = tree_model.predict_proba(features_valid)[:,1]\n",
    "print_roc(*roc_curve(target_valid, probabilities_valid))"
   ]
  },
  {
   "cell_type": "code",
   "execution_count": 25,
   "metadata": {},
   "outputs": [
    {
     "data": {
      "text/plain": [
       "0.8084"
      ]
     },
     "execution_count": 25,
     "metadata": {},
     "output_type": "execute_result"
    }
   ],
   "source": [
    "tree_auc_roc = roc_auc_score(target_valid, probabilities_valid)\n",
    "tree_auc_roc.round(4)"
   ]
  },
  {
   "cell_type": "markdown",
   "metadata": {},
   "source": [
    "Значение AUC-ROC > 0.5, модель лучше случайной."
   ]
  },
  {
   "cell_type": "code",
   "execution_count": 26,
   "metadata": {},
   "outputs": [],
   "source": [
    "# сохраним значения в словаре для будущего сравнения\n",
    "summary = {}\n",
    "summary['Дерево решений'] = [f1_score(target_train, tree_model.predict(features_train)), tree_f1, tree_auc_roc]"
   ]
  },
  {
   "cell_type": "markdown",
   "metadata": {},
   "source": [
    "### Случайный лес"
   ]
  },
  {
   "cell_type": "markdown",
   "metadata": {},
   "source": [
    "Модель случайного леса представляет собой набор деревьев решений. Для пробного раза позволим алгоритму обучиться в вольном стиле, используя все параметры по умолчанию:"
   ]
  },
  {
   "cell_type": "code",
   "execution_count": 27,
   "metadata": {},
   "outputs": [
    {
     "name": "stdout",
     "output_type": "stream",
     "text": [
      "F1 на валидационной выборке: 0.5434\n",
      "F1 на обучающей выборке: 1.0\n"
     ]
    }
   ],
   "source": [
    "forest_model = RandomForestClassifier(random_state=1)\n",
    "  \n",
    "forest_model.fit(features_train, target_train)\n",
    "predictions_valid = forest_model.predict(features_valid)\n",
    "forest_f1 = f1_score(target_valid, predictions_valid)\n",
    "\n",
    "print('F1 на валидационной выборке:', forest_f1.round(4))\n",
    "print('F1 на обучающей выборке:', f1_score(target_train, forest_model.predict(features_train)).round(4))"
   ]
  },
  {
   "cell_type": "markdown",
   "metadata": {},
   "source": [
    "Модель не удовлетворяет требованиям по F1, переобучена, поэтому необходимо провести дополнительную настройку. Ключевыми гиперпараметрами случайного леса являются максимальная глубина отдельного дерева и количество деревьев. Перебором определим сочетание параметров, при котором точность предсказаний на валидационной выборке наибольшая:"
   ]
  },
  {
   "cell_type": "code",
   "execution_count": 28,
   "metadata": {},
   "outputs": [
    {
     "name": "stdout",
     "output_type": "stream",
     "text": [
      "max_depth = 8\n",
      "n_est = 9\n",
      "F1 на валидационной выборке: 0.5554\n",
      "F1 на обучающей выборке: 0.6278\n"
     ]
    }
   ],
   "source": [
    "forest_model = None\n",
    "forest_f1 = 0\n",
    "forest_max_depth = 0\n",
    "\n",
    "for depth in range(1, 11):\n",
    "    for n_est in range(2, 31):\n",
    "        model = RandomForestClassifier(max_depth=depth, n_estimators=n_est, random_state=0)\n",
    "        model.fit(features_train, target_train)\n",
    "        predictions_valid = model.predict(features_valid)\n",
    "        f1 = f1_score(target_valid, predictions_valid)\n",
    "        if f1 > forest_f1:\n",
    "            forest_model, forest_f1, forest_max_depth, forest_n_est = model, f1, depth, n_est\n",
    "\n",
    "print('max_depth =', forest_max_depth)\n",
    "print('n_est =', forest_n_est)\n",
    "\n",
    "print('F1 на валидационной выборке:', forest_f1.round(4))\n",
    "print('F1 на обучающей выборке:', f1_score(target_train, forest_model.predict(features_train)).round(4))"
   ]
  },
  {
   "cell_type": "markdown",
   "metadata": {},
   "source": [
    "Модель стала лучше предсказывать результаты для валидационной выборки и стала менее переобученной. Однако значение 0.59 не достигнуто."
   ]
  },
  {
   "cell_type": "code",
   "execution_count": 29,
   "metadata": {},
   "outputs": [
    {
     "data": {
      "image/png": "[encoded data removed]",
      "text/plain": [
       "<Figure size 432x288 with 1 Axes>"
      ]
     },
     "metadata": {
      "needs_background": "light"
     },
     "output_type": "display_data"
    }
   ],
   "source": [
    "probabilities_valid = forest_model.predict_proba(features_valid)[:,1]\n",
    "print_roc(*roc_curve(target_valid, probabilities_valid))"
   ]
  },
  {
   "cell_type": "code",
   "execution_count": 30,
   "metadata": {},
   "outputs": [
    {
     "data": {
      "text/plain": [
       "0.8495"
      ]
     },
     "execution_count": 30,
     "metadata": {},
     "output_type": "execute_result"
    }
   ],
   "source": [
    "forest_auc_roc = roc_auc_score(target_valid, probabilities_valid)\n",
    "summary['Случайный лес'] = [f1_score(target_train, forest_model.predict(features_train)), forest_f1, forest_auc_roc]\n",
    "forest_auc_roc.round(4)"
   ]
  },
  {
   "cell_type": "markdown",
   "metadata": {},
   "source": [
    "Значение AUC-ROC > 0.5, модель лучше случайной."
   ]
  },
  {
   "cell_type": "markdown",
   "metadata": {},
   "source": [
    "### Логистическая регрессия"
   ]
  },
  {
   "cell_type": "markdown",
   "metadata": {},
   "source": [
    "Для обучения модели логистической регрессии необходимоиспользовать масштабированные количественные признаки."
   ]
  },
  {
   "cell_type": "code",
   "execution_count": 31,
   "metadata": {},
   "outputs": [],
   "source": [
    "lr_model = LogisticRegression(solver='liblinear', random_state=1)\n",
    "\n",
    "lr_model.fit(features_train_scaled, target_train)\n",
    "predictions_valid = lr_model.predict(features_valid_scaled)\n",
    "lr_f1 = f1_score(target_valid, predictions_valid)"
   ]
  },
  {
   "cell_type": "code",
   "execution_count": 32,
   "metadata": {
    "scrolled": true
   },
   "outputs": [
    {
     "name": "stdout",
     "output_type": "stream",
     "text": [
      "F1 на валидационной выборке: 0.3389\n",
      "F1 на обучающей выборке: 0.3385\n"
     ]
    }
   ],
   "source": [
    "print('F1 на валидационной выборке:', f1_score(target_valid, lr_model.predict(features_valid)).round(4))\n",
    "print('F1 на обучающей выборке:', f1_score(target_train, lr_model.predict(features_train)).round(4))"
   ]
  },
  {
   "cell_type": "code",
   "execution_count": 33,
   "metadata": {},
   "outputs": [
    {
     "data": {
      "image/png": "[encoded data removed]",
      "text/plain": [
       "<Figure size 432x288 with 1 Axes>"
      ]
     },
     "metadata": {
      "needs_background": "light"
     },
     "output_type": "display_data"
    }
   ],
   "source": [
    "probabilities_valid = lr_model.predict_proba(features_valid)[:,1]\n",
    "print_roc(*roc_curve(target_valid, probabilities_valid))"
   ]
  },
  {
   "cell_type": "code",
   "execution_count": 34,
   "metadata": {},
   "outputs": [
    {
     "data": {
      "text/plain": [
       "0.5019"
      ]
     },
     "execution_count": 34,
     "metadata": {},
     "output_type": "execute_result"
    }
   ],
   "source": [
    "lr_auc_roc = roc_auc_score(target_valid, probabilities_valid)\n",
    "summary['Логистическая регрессия'] = [f1_score(target_train, lr_model.predict(features_train)), lr_f1, lr_auc_roc]\n",
    "lr_auc_roc.round(4)"
   ]
  },
  {
   "cell_type": "markdown",
   "metadata": {},
   "source": [
    "У модели очень низкое значение F1, а AUC-ROC почти равна 0.5, то есть она не лучше случайной."
   ]
  },
  {
   "cell_type": "markdown",
   "metadata": {},
   "source": [
    "### Выводы"
   ]
  },
  {
   "cell_type": "markdown",
   "metadata": {},
   "source": [
    "Были рассмотрены следующие модели:\n",
    "\n",
    "- Дерево решений\n",
    "    - max_depth = 7\n",
    "\n",
    "- Случайный лес\n",
    "    - max_depth = 8    \n",
    "    - n_est = 21\n",
    "\n",
    "- Логистическая регрессия"
   ]
  },
  {
   "cell_type": "markdown",
   "metadata": {},
   "source": [
    "Сравним их метрики F1 на обучающей и валидационных выборках и AUC-ROC:"
   ]
  },
  {
   "cell_type": "code",
   "execution_count": 35,
   "metadata": {},
   "outputs": [
    {
     "data": {
      "text/html": [
       "<div>\n",
       "<style scoped>\n",
       "    .dataframe tbody tr th:only-of-type {\n",
       "        vertical-align: middle;\n",
       "    }\n",
       "\n",
       "    .dataframe tbody tr th {\n",
       "        vertical-align: top;\n",
       "    }\n",
       "\n",
       "    .dataframe thead th {\n",
       "        text-align: right;\n",
       "    }\n",
       "</style>\n",
       "<table border=\"1\" class=\"dataframe\">\n",
       "  <thead>\n",
       "    <tr style=\"text-align: right;\">\n",
       "      <th></th>\n",
       "      <th>Обучающая выборка</th>\n",
       "      <th>Валидационная выборка</th>\n",
       "      <th>AUC-ROC</th>\n",
       "    </tr>\n",
       "  </thead>\n",
       "  <tbody>\n",
       "    <tr>\n",
       "      <th>Дерево решений</th>\n",
       "      <td>0.6581</td>\n",
       "      <td>0.5714</td>\n",
       "      <td>0.8084</td>\n",
       "    </tr>\n",
       "    <tr>\n",
       "      <th>Случайный лес</th>\n",
       "      <td>0.6278</td>\n",
       "      <td>0.5554</td>\n",
       "      <td>0.8495</td>\n",
       "    </tr>\n",
       "    <tr>\n",
       "      <th>Логистическая регрессия</th>\n",
       "      <td>0.3385</td>\n",
       "      <td>0.3437</td>\n",
       "      <td>0.5019</td>\n",
       "    </tr>\n",
       "  </tbody>\n",
       "</table>\n",
       "</div>"
      ],
      "text/plain": [
       "                         Обучающая выборка  Валидационная выборка  AUC-ROC\n",
       "Дерево решений                      0.6581                 0.5714   0.8084\n",
       "Случайный лес                       0.6278                 0.5554   0.8495\n",
       "Логистическая регрессия             0.3385                 0.3437   0.5019"
      ]
     },
     "execution_count": 35,
     "metadata": {},
     "output_type": "execute_result"
    }
   ],
   "source": [
    "pd.options.display.float_format = '{:,.4f}'.format #dataframe output formatting\n",
    "\n",
    "summary = pd.DataFrame(summary.values(), index=summary.keys(),\n",
    "                       columns=['Обучающая выборка','Валидационная выборка', 'AUC-ROC'])\n",
    "summary"
   ]
  },
  {
   "cell_type": "markdown",
   "metadata": {},
   "source": [
    "Ни одна модель не достигла требуемого значения F1. Качество моделей дерева решений и случайного леса сопоставимо, модель логистической регресси показывает худшие результаты по всем метрикам."
   ]
  },
  {
   "cell_type": "markdown",
   "metadata": {},
   "source": [
    "## Борьба с дисбалансом"
   ]
  },
  {
   "cell_type": "markdown",
   "metadata": {},
   "source": [
    "Рассмотрим структуру данных: как представлены данные ушедших и оставшихся клиентов."
   ]
  },
  {
   "cell_type": "code",
   "execution_count": 36,
   "metadata": {
    "scrolled": true
   },
   "outputs": [
    {
     "data": {
      "text/plain": [
       "0   0.7963\n",
       "1   0.2037\n",
       "Name: exited, dtype: float64"
      ]
     },
     "execution_count": 36,
     "metadata": {},
     "output_type": "execute_result"
    }
   ],
   "source": [
    "data['exited'].value_counts(normalize=True)"
   ]
  },
  {
   "cell_type": "markdown",
   "metadata": {},
   "source": [
    "Данных об ушедших клиентах почти в 4 раза меньше, чем об оставшихся. Необходимо избавиться от дисбаланса классов."
   ]
  },
  {
   "cell_type": "markdown",
   "metadata": {},
   "source": [
    "### Взвешивание классов"
   ]
  },
  {
   "cell_type": "markdown",
   "metadata": {},
   "source": [
    "Переобучим все модели, используя параметр ```class_weight=True```."
   ]
  },
  {
   "cell_type": "code",
   "execution_count": 37,
   "metadata": {},
   "outputs": [
    {
     "name": "stdout",
     "output_type": "stream",
     "text": [
      "max_depth = 6\n",
      "F1 на валидационной выборке: 0.5848\n",
      "F1 на обучающей выборке: 0.5902\n",
      "AUC-ROC: 0.8298\n"
     ]
    }
   ],
   "source": [
    "tree_model = None\n",
    "tree_f1 = 0\n",
    "tree_max_depth = 0\n",
    "\n",
    "for depth in range(2, 20):\n",
    "    model = DecisionTreeClassifier(max_depth=depth, class_weight='balanced', random_state=1)\n",
    "    model.fit(features_train, target_train)\n",
    "    predictions_valid = model.predict(features_valid)\n",
    "    f1 = f1_score(target_valid, predictions_valid)\n",
    "    if f1 > tree_f1:\n",
    "        tree_model, tree_f1, tree_max_depth = model, f1, depth\n",
    "\n",
    "print('max_depth =', tree_max_depth)\n",
    "        \n",
    "print('F1 на валидационной выборке:', tree_f1.round(4))\n",
    "print('F1 на обучающей выборке:', f1_score(target_train, tree_model.predict(features_train)).round(4))\n",
    "\n",
    "probabilities_valid = tree_model.predict_proba(features_valid)[:,1]\n",
    "tree_auc_roc = roc_auc_score(target_valid, probabilities_valid)\n",
    "print('AUC-ROC:', tree_auc_roc.round(4))\n",
    "\n",
    "summary_balanced = {}\n",
    "summary_balanced['Дерево решений'] = [f1_score(target_train, tree_model.predict(features_train)), tree_f1, tree_auc_roc]"
   ]
  },
  {
   "cell_type": "code",
   "execution_count": 38,
   "metadata": {},
   "outputs": [
    {
     "name": "stdout",
     "output_type": "stream",
     "text": [
      "max_depth = 6\n",
      "n_est = 27\n",
      "\n",
      "F1 на валидационной выборке: 0.6145\n",
      "F1 на обучающей выборке: 0.6371\n",
      "AUC-ROC: 0.8504\n"
     ]
    }
   ],
   "source": [
    "forest_model = None\n",
    "forest_f1 = 0\n",
    "forest_max_depth = 0\n",
    "\n",
    "for depth in range(1, 11):\n",
    "    for n_est in range(2, 31):\n",
    "        model = RandomForestClassifier(max_depth=depth, n_estimators=n_est, class_weight='balanced', random_state=0)\n",
    "        model.fit(features_train, target_train)\n",
    "        predictions_valid = model.predict(features_valid)\n",
    "        f1 = f1_score(target_valid, predictions_valid)\n",
    "        if f1 > forest_f1:\n",
    "            forest_model, forest_f1, forest_max_depth, forest_n_est = model, f1, depth, n_est\n",
    "\n",
    "print('max_depth =', forest_max_depth)\n",
    "print('n_est =', forest_n_est)\n",
    "print()\n",
    "print('F1 на валидационной выборке:', forest_f1.round(4))\n",
    "print('F1 на обучающей выборке:', f1_score(target_train, forest_model.predict(features_train)).round(4))\n",
    "\n",
    "probabilities_valid = forest_model.predict_proba(features_valid)[:,1]\n",
    "forest_auc_roc = roc_auc_score(target_valid, probabilities_valid)\n",
    "print('AUC-ROC:', forest_auc_roc.round(4))\n",
    "\n",
    "summary_balanced['Случайный лес'] = [f1_score(target_train, forest_model.predict(features_train)), forest_f1, forest_auc_roc]"
   ]
  },
  {
   "cell_type": "code",
   "execution_count": 39,
   "metadata": {},
   "outputs": [
    {
     "name": "stdout",
     "output_type": "stream",
     "text": [
      "f1 на валидационной выборке: 0.4929\n",
      "f1 на обучающей выборке: 0.488\n",
      "AUC-ROC: 0.7616\n"
     ]
    }
   ],
   "source": [
    "lr_model = LogisticRegression(solver='liblinear', random_state=1, class_weight='balanced')\n",
    "lr_model.fit(features_train_scaled, target_train)\n",
    "\n",
    "predictions_valid = lr_model.predict(features_valid_scaled)\n",
    "lr_f1 = f1_score(target_valid, predictions_valid)\n",
    "\n",
    "\n",
    "print('f1 на валидационной выборке:', f1_score(target_valid, lr_model.predict(features_valid_scaled)).round(4))\n",
    "print('f1 на обучающей выборке:', f1_score(target_train, lr_model.predict(features_train_scaled)).round(4))\n",
    "\n",
    "probabilities_valid = lr_model.predict_proba(features_valid_scaled)[:,1]\n",
    "lr_auc_roc = roc_auc_score(target_valid, probabilities_valid)\n",
    "print('AUC-ROC:', lr_auc_roc.round(4))\n",
    "\n",
    "summary_balanced['Логистическая регрессия'] = [f1_score(target_train, lr_model.predict(features_train_scaled)), lr_f1, lr_auc_roc]"
   ]
  },
  {
   "cell_type": "code",
   "execution_count": 40,
   "metadata": {},
   "outputs": [
    {
     "data": {
      "text/html": [
       "<div>\n",
       "<style scoped>\n",
       "    .dataframe tbody tr th:only-of-type {\n",
       "        vertical-align: middle;\n",
       "    }\n",
       "\n",
       "    .dataframe tbody tr th {\n",
       "        vertical-align: top;\n",
       "    }\n",
       "\n",
       "    .dataframe thead th {\n",
       "        text-align: right;\n",
       "    }\n",
       "</style>\n",
       "<table border=\"1\" class=\"dataframe\">\n",
       "  <thead>\n",
       "    <tr style=\"text-align: right;\">\n",
       "      <th></th>\n",
       "      <th>Обучающая выборка</th>\n",
       "      <th>Валидационная выборка</th>\n",
       "      <th>AUC-ROC</th>\n",
       "    </tr>\n",
       "  </thead>\n",
       "  <tbody>\n",
       "    <tr>\n",
       "      <th>Дерево решений</th>\n",
       "      <td>0.5902</td>\n",
       "      <td>0.5848</td>\n",
       "      <td>0.8298</td>\n",
       "    </tr>\n",
       "    <tr>\n",
       "      <th>Случайный лес</th>\n",
       "      <td>0.6371</td>\n",
       "      <td>0.6145</td>\n",
       "      <td>0.8504</td>\n",
       "    </tr>\n",
       "    <tr>\n",
       "      <th>Логистическая регрессия</th>\n",
       "      <td>0.4880</td>\n",
       "      <td>0.4929</td>\n",
       "      <td>0.7616</td>\n",
       "    </tr>\n",
       "  </tbody>\n",
       "</table>\n",
       "</div>"
      ],
      "text/plain": [
       "                         Обучающая выборка  Валидационная выборка  AUC-ROC\n",
       "Дерево решений                      0.5902                 0.5848   0.8298\n",
       "Случайный лес                       0.6371                 0.6145   0.8504\n",
       "Логистическая регрессия             0.4880                 0.4929   0.7616"
      ]
     },
     "execution_count": 40,
     "metadata": {},
     "output_type": "execute_result"
    }
   ],
   "source": [
    "summary_balanced = pd.DataFrame(summary_balanced.values(), index=summary_balanced.keys(),\n",
    "                                columns=['Обучающая выборка','Валидационная выборка', 'AUC-ROC'])\n",
    "summary_balanced"
   ]
  },
  {
   "cell_type": "markdown",
   "metadata": {},
   "source": [
    "Сравним новые показатели с предыдущими:"
   ]
  },
  {
   "cell_type": "code",
   "execution_count": 41,
   "metadata": {},
   "outputs": [
    {
     "data": {
      "image/png": "[encoded data removed]",
      "text/plain": [
       "<Figure size 1080x288 with 3 Axes>"
      ]
     },
     "metadata": {
      "needs_background": "light"
     },
     "output_type": "display_data"
    }
   ],
   "source": [
    "def plot_comparisson(ax, x, old, new, title, labels):\n",
    "  \n",
    "    x_axis = np.arange(len(x))\n",
    "  \n",
    "    ax.bar(x_axis - 0.15, old, 0.3, label=labels[0])\n",
    "    ax.bar(x_axis + 0.15, new, 0.3, label=labels[1])\n",
    "  \n",
    "    ax.set_xticks(x_axis)\n",
    "    ax.set_xticklabels(x)\n",
    "    ax.set_xlabel(\"Model\")\n",
    "    ax.set_ylabel(\"Score\")\n",
    "    ax.set_title(title)\n",
    "    ax.set_ylim(0,1)\n",
    "    ax.legend()\n",
    "\n",
    "fig, ax = plt.subplots(nrows=1, ncols=3)\n",
    "fig.set_figheight(4)\n",
    "fig.set_figwidth(15)\n",
    "\n",
    "\n",
    "title = 'Обучающая выборка'\n",
    "labels = ['old', 'new']\n",
    "\n",
    "plot_comparisson(ax[0], ['tree', 'forest', 'lr'], summary[title], summary_balanced[title], title, labels)\n",
    "ax[0].axhline(y=0.59, color='r', ls='--')\n",
    "\n",
    "title = 'Валидационная выборка'\n",
    "plot_comparisson(ax[1], ['tree', 'forest', 'lr'], summary[title], summary_balanced[title], title, labels)\n",
    "ax[1].axhline(y=0.59, color='r', ls='--')\n",
    "\n",
    "title = 'AUC-ROC'\n",
    "plot_comparisson(ax[2], ['tree', 'forest', 'lr'], summary[title], summary_balanced[title], title, labels)"
   ]
  },
  {
   "cell_type": "markdown",
   "metadata": {},
   "source": [
    "F1 и AUC-ROC улучшилось для всех моделей. Особенно чуствительной к качеству данных оказалась модель логистической регрессии. Для модели случайного леса удалось добиться требуемого значения F1."
   ]
  },
  {
   "cell_type": "markdown",
   "metadata": {},
   "source": [
    "### Upsampling"
   ]
  },
  {
   "cell_type": "markdown",
   "metadata": {},
   "source": [
    "Так же уменьшить дисбаланс можно путем дублирования данных меньшего класса. Значений 1 в 4 раза меньше, чем 0. Увеличим выборку с меньшим классом в 4 раза."
   ]
  },
  {
   "cell_type": "code",
   "execution_count": 42,
   "metadata": {},
   "outputs": [],
   "source": [
    "def upsample(features, target, repeat):\n",
    "    features_zeros = features[target == 0]\n",
    "    features_ones = features[target == 1]\n",
    "    target_zeros = target[target == 0]\n",
    "    target_ones = target[target == 1]\n",
    "\n",
    "    features_upsampled = pd.concat([features_zeros] + [features_ones] * repeat)\n",
    "    target_upsampled = pd.concat([target_zeros] + [target_ones] * repeat)\n",
    "    \n",
    "    features_upsampled, target_upsampled = shuffle(\n",
    "        features_upsampled, target_upsampled, random_state=1)\n",
    "    \n",
    "    return features_upsampled, target_upsampled\n",
    "\n",
    "features_upsampled, target_upsampled = upsample(features_train, target_train, 4)\n",
    "features_scaled_upsampled, target_upsampled = upsample(features_train_scaled, target_train, 4)"
   ]
  },
  {
   "cell_type": "code",
   "execution_count": 43,
   "metadata": {},
   "outputs": [
    {
     "name": "stdout",
     "output_type": "stream",
     "text": [
      "max_depth = 6\n",
      "F1 на валидационной выборке: 0.5887\n",
      "F1 на обучающей выборке: 0.5902\n",
      "AUC-ROC: 0.8368\n"
     ]
    }
   ],
   "source": [
    "tree_model = None\n",
    "tree_f1 = 0\n",
    "tree_max_depth = 0\n",
    "\n",
    "for depth in range(2, 20):\n",
    "    model = DecisionTreeClassifier(max_depth=depth, random_state=1)\n",
    "    model.fit(features_upsampled, target_upsampled)\n",
    "    predictions_valid = model.predict(features_valid)\n",
    "    f1 = f1_score(target_valid, predictions_valid)\n",
    "    if f1 > tree_f1:\n",
    "        tree_model, tree_f1, tree_max_depth = model, f1, depth\n",
    "\n",
    "print('max_depth =', tree_max_depth)\n",
    "        \n",
    "print('F1 на валидационной выборке:', tree_f1.round(4))\n",
    "print('F1 на обучающей выборке:', f1_score(target_train, tree_model.predict(features_train)).round(4))\n",
    "\n",
    "probabilities_valid = tree_model.predict_proba(features_valid)[:,1]\n",
    "tree_auc_roc = roc_auc_score(target_valid, probabilities_valid)\n",
    "print('AUC-ROC:', tree_auc_roc.round(4))\n",
    "\n",
    "summary_upsampled = {}\n",
    "summary_upsampled['Дерево решений'] = [f1_score(target_train, tree_model.predict(features_train)), tree_f1, tree_auc_roc]"
   ]
  },
  {
   "cell_type": "code",
   "execution_count": 44,
   "metadata": {},
   "outputs": [
    {
     "name": "stdout",
     "output_type": "stream",
     "text": [
      "max_depth = 8\n",
      "n_est = 28\n",
      "F1 на валидационной выборке: 0.6193\n",
      "F1 на обучающей выборке: 0.7002\n",
      "AUC-ROC: 0.8534\n"
     ]
    }
   ],
   "source": [
    "forest_model = None\n",
    "forest_f1 = 0\n",
    "forest_max_depth = 0\n",
    "\n",
    "for depth in range(1, 11):\n",
    "    for n_est in range(2, 31):\n",
    "        model = RandomForestClassifier(max_depth=depth, n_estimators=n_est, random_state=0)\n",
    "        model.fit(features_upsampled, target_upsampled)\n",
    "        predictions_valid = model.predict(features_valid)\n",
    "        f1 = f1_score(target_valid, predictions_valid)\n",
    "        if f1 > forest_f1:\n",
    "            forest_model, forest_f1, forest_max_depth, forest_n_est = model, f1, depth, n_est\n",
    "\n",
    "print('max_depth =', forest_max_depth)\n",
    "print('n_est =', forest_n_est)\n",
    "\n",
    "print('F1 на валидационной выборке:', forest_f1.round(4))\n",
    "print('F1 на обучающей выборке:', f1_score(target_train, forest_model.predict(features_train)).round(4))\n",
    "\n",
    "probabilities_valid = forest_model.predict_proba(features_valid)[:,1]\n",
    "forest_auc_roc = roc_auc_score(target_valid, probabilities_valid)\n",
    "print('AUC-ROC:', forest_auc_roc.round(4))\n",
    "\n",
    "summary_upsampled['Случайный лес'] = [f1_score(target_train, forest_model.predict(features_train)), forest_f1, forest_auc_roc]"
   ]
  },
  {
   "cell_type": "code",
   "execution_count": 45,
   "metadata": {},
   "outputs": [
    {
     "name": "stdout",
     "output_type": "stream",
     "text": [
      "f1 на валидационной выборке: 0.4956\n",
      "f1 на обучающей выборке: 0.4894\n",
      "AUC-ROC: 0.7618\n"
     ]
    }
   ],
   "source": [
    "lr_model = LogisticRegression(solver='liblinear', random_state=1, class_weight='balanced')\n",
    "lr_model.fit(features_scaled_upsampled, target_upsampled)\n",
    "\n",
    "predictions_valid = lr_model.predict(features_valid_scaled)\n",
    "lr_f1 = f1_score(target_valid, predictions_valid)\n",
    "\n",
    "\n",
    "print('f1 на валидационной выборке:', f1_score(target_valid, lr_model.predict(features_valid_scaled)).round(4))\n",
    "print('f1 на обучающей выборке:', f1_score(target_train, lr_model.predict(features_train_scaled)).round(4))\n",
    "\n",
    "probabilities_valid = lr_model.predict_proba(features_valid_scaled)[:,1]\n",
    "lr_auc_roc = roc_auc_score(target_valid, probabilities_valid)\n",
    "print('AUC-ROC:', lr_auc_roc.round(4))\n",
    "\n",
    "summary_upsampled['Логистическая регрессия'] = \\\n",
    "[f1_score(target_train, lr_model.predict(features_train_scaled)), lr_f1, lr_auc_roc]"
   ]
  },
  {
   "cell_type": "code",
   "execution_count": 46,
   "metadata": {},
   "outputs": [
    {
     "data": {
      "text/html": [
       "<div>\n",
       "<style scoped>\n",
       "    .dataframe tbody tr th:only-of-type {\n",
       "        vertical-align: middle;\n",
       "    }\n",
       "\n",
       "    .dataframe tbody tr th {\n",
       "        vertical-align: top;\n",
       "    }\n",
       "\n",
       "    .dataframe thead th {\n",
       "        text-align: right;\n",
       "    }\n",
       "</style>\n",
       "<table border=\"1\" class=\"dataframe\">\n",
       "  <thead>\n",
       "    <tr style=\"text-align: right;\">\n",
       "      <th></th>\n",
       "      <th>Обучающая выборка</th>\n",
       "      <th>Валидационная выборка</th>\n",
       "      <th>AUC-ROC</th>\n",
       "    </tr>\n",
       "  </thead>\n",
       "  <tbody>\n",
       "    <tr>\n",
       "      <th>Дерево решений</th>\n",
       "      <td>0.5902</td>\n",
       "      <td>0.5887</td>\n",
       "      <td>0.8368</td>\n",
       "    </tr>\n",
       "    <tr>\n",
       "      <th>Случайный лес</th>\n",
       "      <td>0.7002</td>\n",
       "      <td>0.6193</td>\n",
       "      <td>0.8534</td>\n",
       "    </tr>\n",
       "    <tr>\n",
       "      <th>Логистическая регрессия</th>\n",
       "      <td>0.4894</td>\n",
       "      <td>0.4956</td>\n",
       "      <td>0.7618</td>\n",
       "    </tr>\n",
       "  </tbody>\n",
       "</table>\n",
       "</div>"
      ],
      "text/plain": [
       "                         Обучающая выборка  Валидационная выборка  AUC-ROC\n",
       "Дерево решений                      0.5902                 0.5887   0.8368\n",
       "Случайный лес                       0.7002                 0.6193   0.8534\n",
       "Логистическая регрессия             0.4894                 0.4956   0.7618"
      ]
     },
     "execution_count": 46,
     "metadata": {},
     "output_type": "execute_result"
    }
   ],
   "source": [
    "summary_upsampled = pd.DataFrame(summary_upsampled.values(), index=summary_upsampled.keys(),\n",
    "                                columns=['Обучающая выборка','Валидационная выборка', 'AUC-ROC'])\n",
    "summary_upsampled"
   ]
  },
  {
   "cell_type": "markdown",
   "metadata": {},
   "source": [
    "Сравним результаты с первоначальными моделями."
   ]
  },
  {
   "cell_type": "code",
   "execution_count": 47,
   "metadata": {
    "scrolled": true
   },
   "outputs": [
    {
     "data": {
      "image/png": "[encoded data removed]",
      "text/plain": [
       "<Figure size 1080x288 with 3 Axes>"
      ]
     },
     "metadata": {
      "needs_background": "light"
     },
     "output_type": "display_data"
    }
   ],
   "source": [
    "fig, ax = plt.subplots(nrows=1, ncols=3)\n",
    "fig.set_figheight(4)\n",
    "fig.set_figwidth(15)\n",
    "\n",
    "title = 'Обучающая выборка'\n",
    "labels = ['old', 'new']\n",
    "\n",
    "plot_comparisson(ax[0], ['tree', 'forest', 'lr'], summary[title], summary_upsampled[title], title, labels)\n",
    "ax[0].axhline(y=0.59, color='r', ls='--')\n",
    "\n",
    "title = 'Валидационная выборка'\n",
    "plot_comparisson(ax[1], ['tree', 'forest', 'lr'], summary[title], summary_upsampled[title], title, labels)\n",
    "ax[1].axhline(y=0.59, color='r', ls='--')\n",
    "\n",
    "title = 'AUC-ROC'\n",
    "plot_comparisson(ax[2], ['tree', 'forest', 'lr'], summary[title], summary_upsampled[title], title, labels)"
   ]
  },
  {
   "cell_type": "markdown",
   "metadata": {},
   "source": [
    "Как и ранее, F1 и AUC-ROC улучшилось для всех моделей. Особенно чуствительной к качеству данных оказалась модель логистической регрессии. Для модели случайного леса удалось добиться требуемого значения F1.\n",
    "Сравним результаты разных техник:"
   ]
  },
  {
   "cell_type": "code",
   "execution_count": 48,
   "metadata": {
    "scrolled": true
   },
   "outputs": [
    {
     "data": {
      "image/png": "[encoded data removed]",
      "text/plain": [
       "<Figure size 1080x288 with 3 Axes>"
      ]
     },
     "metadata": {
      "needs_background": "light"
     },
     "output_type": "display_data"
    }
   ],
   "source": [
    "fig, ax = plt.subplots(nrows=1, ncols=3)\n",
    "fig.set_figheight(4)\n",
    "fig.set_figwidth(15)\n",
    "\n",
    "title = 'Обучающая выборка'\n",
    "labels = ['balanced', 'upsampled']\n",
    "\n",
    "plot_comparisson(ax[0], ['tree', 'forest', 'lr'], summary_balanced[title], summary_upsampled[title], title, labels)\n",
    "ax[0].axhline(y=0.59, color='r', ls='--')\n",
    "\n",
    "title = 'Валидационная выборка'\n",
    "plot_comparisson(ax[1], ['tree', 'forest', 'lr'], summary_balanced[title], summary_upsampled[title], title, labels)\n",
    "ax[1].axhline(y=0.59, color='r', ls='--')\n",
    "\n",
    "title = 'AUC-ROC'\n",
    "plot_comparisson(ax[2], ['tree', 'forest', 'lr'], summary_balanced[title], summary_upsampled[title], title, labels)"
   ]
  },
  {
   "cell_type": "markdown",
   "metadata": {},
   "source": [
    "При использовании upsampling мы получили F1 и AUC-ROC немного выше, чем при балансировки классов."
   ]
  },
  {
   "cell_type": "markdown",
   "metadata": {},
   "source": [
    "### Выводы"
   ]
  },
  {
   "cell_type": "markdown",
   "metadata": {},
   "source": [
    "На данном этабе для борьбы с дисбалансом были рассмотрены два пути: взвешивание классов и Upsampling. Модели, полученные ранее, были обучены заново. В результате качество всех моделей улучшилось. Модели логистической регрессии показала наибольший рост показателей, однако только модель случайного леса на валидационной выборке имеет показатель F1 больше 0.59. Эта модель выбрана для проверки на тестовой выборке."
   ]
  },
  {
   "cell_type": "markdown",
   "metadata": {},
   "source": [
    "## Тестирование модели"
   ]
  },
  {
   "cell_type": "code",
   "execution_count": 49,
   "metadata": {
    "scrolled": true
   },
   "outputs": [],
   "source": [
    "model = forest_model"
   ]
  },
  {
   "cell_type": "code",
   "execution_count": 50,
   "metadata": {},
   "outputs": [
    {
     "data": {
      "text/plain": [
       "0.6069"
      ]
     },
     "execution_count": 50,
     "metadata": {},
     "output_type": "execute_result"
    }
   ],
   "source": [
    "predictions = model.predict(features_test)\n",
    "\n",
    "f1_score(target_test, predictions).round(4)"
   ]
  },
  {
   "cell_type": "code",
   "execution_count": 51,
   "metadata": {},
   "outputs": [
    {
     "data": {
      "image/png": "[encoded data removed]",
      "text/plain": [
       "<Figure size 432x288 with 1 Axes>"
      ]
     },
     "metadata": {
      "needs_background": "light"
     },
     "output_type": "display_data"
    }
   ],
   "source": [
    "probabilities = model.predict_proba(features_test)[:,1]\n",
    "print_roc(*roc_curve(target_test, probabilities))"
   ]
  },
  {
   "cell_type": "code",
   "execution_count": 52,
   "metadata": {},
   "outputs": [
    {
     "name": "stdout",
     "output_type": "stream",
     "text": [
      "AUC-ROC: 0.862\n"
     ]
    }
   ],
   "source": [
    "probabilities = model.predict_proba(features_test)[:,1]\n",
    "auc_roc = roc_auc_score(target_test, probabilities)\n",
    "print('AUC-ROC:', auc_roc.round(4))"
   ]
  },
  {
   "cell_type": "markdown",
   "metadata": {},
   "source": [
    "Модель удовлетворяет требованиям и имеет высокое значение AUC-ROC."
   ]
  },
  {
   "cell_type": "markdown",
   "metadata": {},
   "source": [
    "## Вывод"
   ]
  },
  {
   "cell_type": "markdown",
   "metadata": {},
   "source": [
    "В рамках проекта была выполнена предобработка данных: были убраны излишние данные, заполнены пропуски. Данные были подготовлены для обучения: категориальные признаки были обработаны методами прямого кодирования и OHE. \n",
    "    \n",
    "В качестве потенциальных моделей рассмотрены модели решающего дерева, случайного леса и логистической регрессии. Для каждой из них были подобраны гиперпараметры для улучшения качества. При первом обучении результаты оказались недостаточно хорошими - все модели не превысили требуемого значения метрики F1. \n",
    "\n",
    "После анализа данных был выявлен дисбаланс классов. Для борьбы с дисбалансом были использованы 2 метода: увеличение веса меньшего класса и увеличение его выборки в данных. Оба метода позволили улучшить качество каждой из моделей.\n",
    "    \n",
    "Наилучший результат показала модель случайного леса при обучении данными, обработанными техникой upsampling. На тестовой выборке F1 мера превысила требуемый порог."
   ]
  }
 ],
 "metadata": {
  "ExecuteTimeLog": [
   {
    "duration": 398,
    "start_time": "2022-09-22T10:22:05.967Z"
   },
   {
    "duration": 154,
    "start_time": "2022-09-22T10:22:42.637Z"
   },
   {
    "duration": 58,
    "start_time": "2022-09-22T10:22:53.547Z"
   },
   {
    "duration": 13,
    "start_time": "2022-09-22T10:23:08.689Z"
   },
   {
    "duration": 26,
    "start_time": "2022-09-22T10:24:33.006Z"
   },
   {
    "duration": 5,
    "start_time": "2022-09-22T10:25:11.568Z"
   },
   {
    "duration": 20,
    "start_time": "2022-09-22T10:25:30.967Z"
   },
   {
    "duration": 2029,
    "start_time": "2022-09-22T10:33:40.928Z"
   },
   {
    "duration": 68,
    "start_time": "2022-09-22T10:34:43.366Z"
   },
   {
    "duration": 7,
    "start_time": "2022-09-22T10:35:14.278Z"
   },
   {
    "duration": 5,
    "start_time": "2022-09-22T10:35:22.288Z"
   },
   {
    "duration": 5,
    "start_time": "2022-09-22T10:35:32.958Z"
   },
   {
    "duration": 6,
    "start_time": "2022-09-22T10:35:41.548Z"
   },
   {
    "duration": 5,
    "start_time": "2022-09-22T10:37:29.996Z"
   },
   {
    "duration": 13,
    "start_time": "2022-09-22T10:51:18.643Z"
   },
   {
    "duration": 9,
    "start_time": "2022-09-22T10:51:22.484Z"
   },
   {
    "duration": 6,
    "start_time": "2022-09-22T10:51:25.423Z"
   },
   {
    "duration": 7,
    "start_time": "2022-09-22T10:52:09.910Z"
   },
   {
    "duration": 7,
    "start_time": "2022-09-22T10:54:26.685Z"
   },
   {
    "duration": 6,
    "start_time": "2022-09-22T10:54:34.673Z"
   },
   {
    "duration": 6,
    "start_time": "2022-09-22T10:54:43.574Z"
   },
   {
    "duration": 10,
    "start_time": "2022-09-22T10:54:46.804Z"
   },
   {
    "duration": 7,
    "start_time": "2022-09-22T10:56:45.391Z"
   },
   {
    "duration": 7,
    "start_time": "2022-09-22T10:56:47.765Z"
   },
   {
    "duration": 391,
    "start_time": "2022-09-22T10:59:52.329Z"
   },
   {
    "duration": 6,
    "start_time": "2022-09-22T11:00:13.230Z"
   },
   {
    "duration": 7,
    "start_time": "2022-09-22T11:00:19.981Z"
   },
   {
    "duration": 7,
    "start_time": "2022-09-22T11:00:35.718Z"
   },
   {
    "duration": 39,
    "start_time": "2022-09-22T11:01:52.105Z"
   },
   {
    "duration": 16,
    "start_time": "2022-09-22T11:02:07.093Z"
   },
   {
    "duration": 12,
    "start_time": "2022-09-22T11:03:07.757Z"
   },
   {
    "duration": 8,
    "start_time": "2022-09-22T11:03:22.019Z"
   },
   {
    "duration": 7,
    "start_time": "2022-09-22T11:04:07.645Z"
   },
   {
    "duration": 7,
    "start_time": "2022-09-22T11:04:10.757Z"
   },
   {
    "duration": 8,
    "start_time": "2022-09-22T11:04:17.219Z"
   },
   {
    "duration": 2,
    "start_time": "2022-09-22T11:16:06.387Z"
   },
   {
    "duration": 6,
    "start_time": "2022-09-22T11:17:57.387Z"
   },
   {
    "duration": 5,
    "start_time": "2022-09-22T11:18:52.461Z"
   },
   {
    "duration": 5,
    "start_time": "2022-09-22T11:19:07.686Z"
   },
   {
    "duration": 5,
    "start_time": "2022-09-22T11:19:32.574Z"
   },
   {
    "duration": 9,
    "start_time": "2022-09-22T11:20:09.737Z"
   },
   {
    "duration": 4,
    "start_time": "2022-09-22T11:21:43.574Z"
   },
   {
    "duration": 8,
    "start_time": "2022-09-22T11:21:54.254Z"
   },
   {
    "duration": 7,
    "start_time": "2022-09-22T11:22:10.406Z"
   },
   {
    "duration": 458,
    "start_time": "2022-09-22T11:22:17.877Z"
   },
   {
    "duration": 70,
    "start_time": "2022-09-22T11:22:18.337Z"
   },
   {
    "duration": 14,
    "start_time": "2022-09-22T11:22:18.408Z"
   },
   {
    "duration": 5,
    "start_time": "2022-09-22T11:22:18.424Z"
   },
   {
    "duration": 4,
    "start_time": "2022-09-22T11:22:53.809Z"
   },
   {
    "duration": 4,
    "start_time": "2022-09-22T11:23:06.116Z"
   },
   {
    "duration": 397,
    "start_time": "2022-09-22T11:23:35.157Z"
   },
   {
    "duration": 60,
    "start_time": "2022-09-22T11:23:35.556Z"
   },
   {
    "duration": 13,
    "start_time": "2022-09-22T11:23:35.617Z"
   },
   {
    "duration": 7,
    "start_time": "2022-09-22T11:23:35.632Z"
   },
   {
    "duration": 2,
    "start_time": "2022-09-22T11:34:10.125Z"
   },
   {
    "duration": 57,
    "start_time": "2022-09-22T11:34:10.129Z"
   },
   {
    "duration": 24,
    "start_time": "2022-09-22T11:34:10.188Z"
   },
   {
    "duration": 14,
    "start_time": "2022-09-22T11:34:10.214Z"
   },
   {
    "duration": 8,
    "start_time": "2022-09-22T11:34:10.230Z"
   },
   {
    "duration": 11,
    "start_time": "2022-09-22T11:39:40.925Z"
   },
   {
    "duration": 12,
    "start_time": "2022-09-22T11:39:49.713Z"
   },
   {
    "duration": 9,
    "start_time": "2022-09-22T11:42:47.490Z"
   },
   {
    "duration": 7,
    "start_time": "2022-09-22T11:45:28.677Z"
   },
   {
    "duration": 17,
    "start_time": "2022-09-22T11:45:40.512Z"
   },
   {
    "duration": 12,
    "start_time": "2022-09-22T11:47:51.452Z"
   },
   {
    "duration": 13,
    "start_time": "2022-09-22T11:47:52.928Z"
   },
   {
    "duration": 1498,
    "start_time": "2022-09-22T11:48:21.903Z"
   },
   {
    "duration": 381,
    "start_time": "2022-09-22T11:48:30.027Z"
   },
   {
    "duration": 58,
    "start_time": "2022-09-22T11:48:30.410Z"
   },
   {
    "duration": 12,
    "start_time": "2022-09-22T11:48:30.469Z"
   },
   {
    "duration": 4,
    "start_time": "2022-09-22T11:48:30.483Z"
   },
   {
    "duration": 7,
    "start_time": "2022-09-22T11:48:30.489Z"
   },
   {
    "duration": 14,
    "start_time": "2022-09-22T11:48:30.498Z"
   },
   {
    "duration": 12,
    "start_time": "2022-09-22T11:48:30.514Z"
   },
   {
    "duration": 4,
    "start_time": "2022-09-22T11:48:30.528Z"
   },
   {
    "duration": 18,
    "start_time": "2022-09-22T11:48:30.534Z"
   },
   {
    "duration": 5,
    "start_time": "2022-09-22T11:48:30.554Z"
   },
   {
    "duration": 18,
    "start_time": "2022-09-22T11:48:30.560Z"
   },
   {
    "duration": 25,
    "start_time": "2022-09-22T11:48:30.580Z"
   },
   {
    "duration": 376,
    "start_time": "2022-09-22T11:48:48.332Z"
   },
   {
    "duration": 57,
    "start_time": "2022-09-22T11:48:48.710Z"
   },
   {
    "duration": 12,
    "start_time": "2022-09-22T11:48:48.769Z"
   },
   {
    "duration": 4,
    "start_time": "2022-09-22T11:48:48.783Z"
   },
   {
    "duration": 10,
    "start_time": "2022-09-22T11:48:48.788Z"
   },
   {
    "duration": 15,
    "start_time": "2022-09-22T11:48:48.800Z"
   },
   {
    "duration": 13,
    "start_time": "2022-09-22T11:48:48.816Z"
   },
   {
    "duration": 6,
    "start_time": "2022-09-22T11:48:48.831Z"
   },
   {
    "duration": 9,
    "start_time": "2022-09-22T11:48:48.839Z"
   },
   {
    "duration": 11,
    "start_time": "2022-09-22T11:48:48.850Z"
   },
   {
    "duration": 33,
    "start_time": "2022-09-22T11:48:48.862Z"
   },
   {
    "duration": 12,
    "start_time": "2022-09-22T11:48:48.897Z"
   },
   {
    "duration": 11,
    "start_time": "2022-09-22T11:49:28.534Z"
   },
   {
    "duration": 75,
    "start_time": "2022-09-22T11:59:26.852Z"
   },
   {
    "duration": 721,
    "start_time": "2022-09-22T11:59:32.310Z"
   },
   {
    "duration": 11,
    "start_time": "2022-09-22T11:59:37.672Z"
   },
   {
    "duration": 12,
    "start_time": "2022-09-22T12:00:09.005Z"
   },
   {
    "duration": 11,
    "start_time": "2022-09-22T12:00:32.207Z"
   },
   {
    "duration": 11,
    "start_time": "2022-09-22T12:02:56.398Z"
   },
   {
    "duration": 12,
    "start_time": "2022-09-22T12:04:34.575Z"
   },
   {
    "duration": 50,
    "start_time": "2022-09-22T12:04:53.622Z"
   },
   {
    "duration": 1218,
    "start_time": "2022-09-23T09:16:26.775Z"
   },
   {
    "duration": 427,
    "start_time": "2022-09-23T09:16:27.996Z"
   },
   {
    "duration": 13,
    "start_time": "2022-09-23T09:16:28.425Z"
   },
   {
    "duration": 6,
    "start_time": "2022-09-23T09:16:28.440Z"
   },
   {
    "duration": 18,
    "start_time": "2022-09-23T09:16:28.448Z"
   },
   {
    "duration": 12,
    "start_time": "2022-09-23T09:16:28.468Z"
   },
   {
    "duration": 108,
    "start_time": "2022-09-23T09:16:28.481Z"
   },
   {
    "duration": 0,
    "start_time": "2022-09-23T09:16:28.591Z"
   },
   {
    "duration": 0,
    "start_time": "2022-09-23T09:16:28.592Z"
   },
   {
    "duration": 0,
    "start_time": "2022-09-23T09:16:28.593Z"
   },
   {
    "duration": 0,
    "start_time": "2022-09-23T09:16:28.595Z"
   },
   {
    "duration": 0,
    "start_time": "2022-09-23T09:16:28.596Z"
   },
   {
    "duration": 0,
    "start_time": "2022-09-23T09:16:28.597Z"
   },
   {
    "duration": 0,
    "start_time": "2022-09-23T09:16:28.598Z"
   },
   {
    "duration": 0,
    "start_time": "2022-09-23T09:16:28.599Z"
   },
   {
    "duration": 0,
    "start_time": "2022-09-23T09:16:28.601Z"
   },
   {
    "duration": 0,
    "start_time": "2022-09-23T09:16:28.602Z"
   },
   {
    "duration": 0,
    "start_time": "2022-09-23T09:16:28.603Z"
   },
   {
    "duration": 0,
    "start_time": "2022-09-23T09:16:28.604Z"
   },
   {
    "duration": 0,
    "start_time": "2022-09-23T09:16:28.606Z"
   },
   {
    "duration": 0,
    "start_time": "2022-09-23T09:16:28.607Z"
   },
   {
    "duration": 0,
    "start_time": "2022-09-23T09:16:28.608Z"
   },
   {
    "duration": 7,
    "start_time": "2022-09-23T09:16:50.317Z"
   },
   {
    "duration": 23,
    "start_time": "2022-09-23T09:19:38.143Z"
   },
   {
    "duration": 24,
    "start_time": "2022-09-23T09:19:46.505Z"
   },
   {
    "duration": 23,
    "start_time": "2022-09-23T09:21:20.473Z"
   },
   {
    "duration": 19,
    "start_time": "2022-09-23T09:22:53.175Z"
   },
   {
    "duration": 21,
    "start_time": "2022-09-23T09:24:19.125Z"
   },
   {
    "duration": 15,
    "start_time": "2022-09-23T09:26:24.077Z"
   },
   {
    "duration": 13,
    "start_time": "2022-09-23T09:26:29.588Z"
   },
   {
    "duration": 11,
    "start_time": "2022-09-23T09:26:44.876Z"
   },
   {
    "duration": 20,
    "start_time": "2022-09-23T09:28:20.551Z"
   },
   {
    "duration": 1106,
    "start_time": "2022-09-23T09:30:47.724Z"
   },
   {
    "duration": 57,
    "start_time": "2022-09-23T09:30:48.832Z"
   },
   {
    "duration": 13,
    "start_time": "2022-09-23T09:30:48.891Z"
   },
   {
    "duration": 5,
    "start_time": "2022-09-23T09:30:48.906Z"
   },
   {
    "duration": 7,
    "start_time": "2022-09-23T09:30:48.913Z"
   },
   {
    "duration": 150,
    "start_time": "2022-09-23T09:30:48.921Z"
   },
   {
    "duration": 0,
    "start_time": "2022-09-23T09:30:49.074Z"
   },
   {
    "duration": 0,
    "start_time": "2022-09-23T09:30:49.075Z"
   },
   {
    "duration": 0,
    "start_time": "2022-09-23T09:30:49.076Z"
   },
   {
    "duration": 0,
    "start_time": "2022-09-23T09:30:49.077Z"
   },
   {
    "duration": 0,
    "start_time": "2022-09-23T09:30:49.078Z"
   },
   {
    "duration": 0,
    "start_time": "2022-09-23T09:30:49.079Z"
   },
   {
    "duration": 0,
    "start_time": "2022-09-23T09:30:49.080Z"
   },
   {
    "duration": 0,
    "start_time": "2022-09-23T09:30:49.095Z"
   },
   {
    "duration": 0,
    "start_time": "2022-09-23T09:30:49.096Z"
   },
   {
    "duration": 0,
    "start_time": "2022-09-23T09:30:49.097Z"
   },
   {
    "duration": 0,
    "start_time": "2022-09-23T09:30:49.098Z"
   },
   {
    "duration": 0,
    "start_time": "2022-09-23T09:30:49.099Z"
   },
   {
    "duration": 0,
    "start_time": "2022-09-23T09:30:49.100Z"
   },
   {
    "duration": 0,
    "start_time": "2022-09-23T09:30:49.101Z"
   },
   {
    "duration": 0,
    "start_time": "2022-09-23T09:30:49.102Z"
   },
   {
    "duration": 0,
    "start_time": "2022-09-23T09:30:49.103Z"
   },
   {
    "duration": 29,
    "start_time": "2022-09-23T09:33:36.028Z"
   },
   {
    "duration": 1133,
    "start_time": "2022-09-23T09:33:57.565Z"
   },
   {
    "duration": 61,
    "start_time": "2022-09-23T09:33:58.700Z"
   },
   {
    "duration": 13,
    "start_time": "2022-09-23T09:33:58.763Z"
   },
   {
    "duration": 5,
    "start_time": "2022-09-23T09:33:58.777Z"
   },
   {
    "duration": 11,
    "start_time": "2022-09-23T09:33:58.784Z"
   },
   {
    "duration": 25,
    "start_time": "2022-09-23T09:33:58.797Z"
   },
   {
    "duration": 109,
    "start_time": "2022-09-23T09:33:58.824Z"
   },
   {
    "duration": 0,
    "start_time": "2022-09-23T09:33:58.935Z"
   },
   {
    "duration": 0,
    "start_time": "2022-09-23T09:33:58.936Z"
   },
   {
    "duration": 0,
    "start_time": "2022-09-23T09:33:58.937Z"
   },
   {
    "duration": 0,
    "start_time": "2022-09-23T09:33:58.938Z"
   },
   {
    "duration": 0,
    "start_time": "2022-09-23T09:33:58.939Z"
   },
   {
    "duration": 0,
    "start_time": "2022-09-23T09:33:58.940Z"
   },
   {
    "duration": 0,
    "start_time": "2022-09-23T09:33:58.941Z"
   },
   {
    "duration": 0,
    "start_time": "2022-09-23T09:33:58.942Z"
   },
   {
    "duration": 0,
    "start_time": "2022-09-23T09:33:58.943Z"
   },
   {
    "duration": 0,
    "start_time": "2022-09-23T09:33:58.944Z"
   },
   {
    "duration": 0,
    "start_time": "2022-09-23T09:33:58.945Z"
   },
   {
    "duration": 0,
    "start_time": "2022-09-23T09:33:58.946Z"
   },
   {
    "duration": 0,
    "start_time": "2022-09-23T09:33:58.947Z"
   },
   {
    "duration": 0,
    "start_time": "2022-09-23T09:33:58.948Z"
   },
   {
    "duration": 0,
    "start_time": "2022-09-23T09:33:58.949Z"
   },
   {
    "duration": 4,
    "start_time": "2022-09-23T09:34:21.502Z"
   },
   {
    "duration": 5,
    "start_time": "2022-09-23T09:34:26.564Z"
   },
   {
    "duration": 1093,
    "start_time": "2022-09-23T09:34:54.653Z"
   },
   {
    "duration": 61,
    "start_time": "2022-09-23T09:34:55.749Z"
   },
   {
    "duration": 14,
    "start_time": "2022-09-23T09:34:55.812Z"
   },
   {
    "duration": 5,
    "start_time": "2022-09-23T09:34:55.828Z"
   },
   {
    "duration": 8,
    "start_time": "2022-09-23T09:34:55.834Z"
   },
   {
    "duration": 51,
    "start_time": "2022-09-23T09:34:55.844Z"
   },
   {
    "duration": 4,
    "start_time": "2022-09-23T09:34:55.897Z"
   },
   {
    "duration": 115,
    "start_time": "2022-09-23T09:34:55.902Z"
   },
   {
    "duration": 0,
    "start_time": "2022-09-23T09:34:56.020Z"
   },
   {
    "duration": 0,
    "start_time": "2022-09-23T09:34:56.021Z"
   },
   {
    "duration": 0,
    "start_time": "2022-09-23T09:34:56.022Z"
   },
   {
    "duration": 0,
    "start_time": "2022-09-23T09:34:56.023Z"
   },
   {
    "duration": 0,
    "start_time": "2022-09-23T09:34:56.024Z"
   },
   {
    "duration": 0,
    "start_time": "2022-09-23T09:34:56.026Z"
   },
   {
    "duration": 0,
    "start_time": "2022-09-23T09:34:56.027Z"
   },
   {
    "duration": 0,
    "start_time": "2022-09-23T09:34:56.028Z"
   },
   {
    "duration": 0,
    "start_time": "2022-09-23T09:34:56.029Z"
   },
   {
    "duration": 0,
    "start_time": "2022-09-23T09:34:56.031Z"
   },
   {
    "duration": 0,
    "start_time": "2022-09-23T09:34:56.032Z"
   },
   {
    "duration": 0,
    "start_time": "2022-09-23T09:34:56.033Z"
   },
   {
    "duration": 0,
    "start_time": "2022-09-23T09:34:56.034Z"
   },
   {
    "duration": 0,
    "start_time": "2022-09-23T09:34:56.035Z"
   },
   {
    "duration": 1,
    "start_time": "2022-09-23T09:34:56.036Z"
   },
   {
    "duration": 15,
    "start_time": "2022-09-23T09:38:56.322Z"
   },
   {
    "duration": 1093,
    "start_time": "2022-09-23T09:39:10.237Z"
   },
   {
    "duration": 57,
    "start_time": "2022-09-23T09:39:11.332Z"
   },
   {
    "duration": 14,
    "start_time": "2022-09-23T09:39:11.391Z"
   },
   {
    "duration": 4,
    "start_time": "2022-09-23T09:39:11.407Z"
   },
   {
    "duration": 11,
    "start_time": "2022-09-23T09:39:11.413Z"
   },
   {
    "duration": 19,
    "start_time": "2022-09-23T09:39:11.426Z"
   },
   {
    "duration": 11,
    "start_time": "2022-09-23T09:39:11.446Z"
   },
   {
    "duration": 15,
    "start_time": "2022-09-23T09:39:11.458Z"
   },
   {
    "duration": 4,
    "start_time": "2022-09-23T09:39:11.495Z"
   },
   {
    "duration": 14,
    "start_time": "2022-09-23T09:39:11.501Z"
   },
   {
    "duration": 6,
    "start_time": "2022-09-23T09:39:11.516Z"
   },
   {
    "duration": 14,
    "start_time": "2022-09-23T09:39:11.523Z"
   },
   {
    "duration": 12,
    "start_time": "2022-09-23T09:39:11.539Z"
   },
   {
    "duration": 14,
    "start_time": "2022-09-23T09:39:11.553Z"
   },
   {
    "duration": 37,
    "start_time": "2022-09-23T09:39:11.568Z"
   },
   {
    "duration": 35,
    "start_time": "2022-09-23T09:39:11.607Z"
   },
   {
    "duration": 17,
    "start_time": "2022-09-23T09:39:11.644Z"
   },
   {
    "duration": 371,
    "start_time": "2022-09-23T09:39:11.663Z"
   },
   {
    "duration": 117,
    "start_time": "2022-09-23T09:39:12.036Z"
   },
   {
    "duration": 0,
    "start_time": "2022-09-23T09:39:12.154Z"
   },
   {
    "duration": 0,
    "start_time": "2022-09-23T09:39:12.155Z"
   },
   {
    "duration": 0,
    "start_time": "2022-09-23T09:39:12.157Z"
   },
   {
    "duration": 447,
    "start_time": "2022-09-23T09:41:29.999Z"
   },
   {
    "duration": 150,
    "start_time": "2022-09-23T09:41:37.004Z"
   },
   {
    "duration": 22,
    "start_time": "2022-09-23T09:42:36.942Z"
   },
   {
    "duration": 4,
    "start_time": "2022-09-23T09:42:48.917Z"
   },
   {
    "duration": 4,
    "start_time": "2022-09-23T09:42:56.365Z"
   },
   {
    "duration": 11,
    "start_time": "2022-09-23T09:44:22.155Z"
   },
   {
    "duration": 3,
    "start_time": "2022-09-23T09:49:33.570Z"
   },
   {
    "duration": 130,
    "start_time": "2022-09-23T09:52:05.682Z"
   },
   {
    "duration": 9,
    "start_time": "2022-09-23T09:52:18.694Z"
   },
   {
    "duration": 3,
    "start_time": "2022-09-23T09:52:25.932Z"
   },
   {
    "duration": 11,
    "start_time": "2022-09-23T09:52:31.319Z"
   },
   {
    "duration": 6,
    "start_time": "2022-09-23T09:52:35.623Z"
   },
   {
    "duration": 8,
    "start_time": "2022-09-23T09:52:42.794Z"
   },
   {
    "duration": 6,
    "start_time": "2022-09-23T09:52:54.707Z"
   },
   {
    "duration": 6,
    "start_time": "2022-09-23T09:54:14.147Z"
   },
   {
    "duration": 8,
    "start_time": "2022-09-23T09:54:26.307Z"
   },
   {
    "duration": 74,
    "start_time": "2022-09-23T10:19:24.199Z"
   },
   {
    "duration": 15,
    "start_time": "2022-09-23T10:19:33.925Z"
   },
   {
    "duration": 22,
    "start_time": "2022-09-23T10:20:02.900Z"
   },
   {
    "duration": 12,
    "start_time": "2022-09-23T10:20:29.126Z"
   },
   {
    "duration": 124,
    "start_time": "2022-09-23T10:20:52.925Z"
   },
   {
    "duration": 747,
    "start_time": "2022-09-23T10:40:45.180Z"
   },
   {
    "duration": 774,
    "start_time": "2022-09-23T10:41:10.367Z"
   },
   {
    "duration": 12,
    "start_time": "2022-09-23T10:42:40.468Z"
   },
   {
    "duration": 12,
    "start_time": "2022-09-23T10:43:14.956Z"
   },
   {
    "duration": 4,
    "start_time": "2022-09-23T10:43:20.667Z"
   },
   {
    "duration": 10665,
    "start_time": "2022-09-23T10:43:25.392Z"
   },
   {
    "duration": 8,
    "start_time": "2022-09-23T10:44:18.918Z"
   },
   {
    "duration": 4,
    "start_time": "2022-09-23T10:44:23.479Z"
   },
   {
    "duration": 12,
    "start_time": "2022-09-23T10:45:19.969Z"
   },
   {
    "duration": 133,
    "start_time": "2022-09-23T10:45:40.281Z"
   },
   {
    "duration": 137,
    "start_time": "2022-09-23T10:45:54.944Z"
   },
   {
    "duration": 142,
    "start_time": "2022-09-23T10:46:04.231Z"
   },
   {
    "duration": 123053,
    "start_time": "2022-09-23T10:46:46.668Z"
   },
   {
    "duration": 124492,
    "start_time": "2022-09-23T10:48:58.683Z"
   },
   {
    "duration": 127,
    "start_time": "2022-09-23T10:52:23.132Z"
   },
   {
    "duration": 29,
    "start_time": "2022-09-23T10:53:38.657Z"
   },
   {
    "duration": 36,
    "start_time": "2022-09-23T11:37:20.155Z"
   },
   {
    "duration": 12,
    "start_time": "2022-09-23T11:37:21.580Z"
   },
   {
    "duration": 93,
    "start_time": "2022-09-23T11:37:36.605Z"
   },
   {
    "duration": 36,
    "start_time": "2022-09-23T11:37:40.968Z"
   },
   {
    "duration": 1405,
    "start_time": "2022-09-23T13:15:17.059Z"
   },
   {
    "duration": 64,
    "start_time": "2022-09-23T13:15:18.466Z"
   },
   {
    "duration": 14,
    "start_time": "2022-09-23T13:15:18.532Z"
   },
   {
    "duration": 6,
    "start_time": "2022-09-23T13:15:18.548Z"
   },
   {
    "duration": 12,
    "start_time": "2022-09-23T13:15:18.556Z"
   },
   {
    "duration": 8,
    "start_time": "2022-09-23T13:15:18.570Z"
   },
   {
    "duration": 32,
    "start_time": "2022-09-23T13:15:18.579Z"
   },
   {
    "duration": 21,
    "start_time": "2022-09-23T13:15:18.613Z"
   },
   {
    "duration": 6,
    "start_time": "2022-09-23T13:15:18.636Z"
   },
   {
    "duration": 14,
    "start_time": "2022-09-23T13:15:18.644Z"
   },
   {
    "duration": 6,
    "start_time": "2022-09-23T13:15:18.660Z"
   },
   {
    "duration": 32,
    "start_time": "2022-09-23T13:15:18.668Z"
   },
   {
    "duration": 12,
    "start_time": "2022-09-23T13:15:18.702Z"
   },
   {
    "duration": 12,
    "start_time": "2022-09-23T13:15:18.717Z"
   },
   {
    "duration": 18,
    "start_time": "2022-09-23T13:15:18.731Z"
   },
   {
    "duration": 56,
    "start_time": "2022-09-23T13:15:18.751Z"
   },
   {
    "duration": 17,
    "start_time": "2022-09-23T13:15:18.809Z"
   },
   {
    "duration": 404,
    "start_time": "2022-09-23T13:15:18.828Z"
   },
   {
    "duration": 230,
    "start_time": "2022-09-23T13:15:19.234Z"
   },
   {
    "duration": 0,
    "start_time": "2022-09-23T13:15:19.466Z"
   },
   {
    "duration": 0,
    "start_time": "2022-09-23T13:15:19.467Z"
   },
   {
    "duration": 0,
    "start_time": "2022-09-23T13:15:19.468Z"
   },
   {
    "duration": 0,
    "start_time": "2022-09-23T13:15:19.469Z"
   },
   {
    "duration": 0,
    "start_time": "2022-09-23T13:15:19.471Z"
   },
   {
    "duration": 0,
    "start_time": "2022-09-23T13:15:19.472Z"
   },
   {
    "duration": 0,
    "start_time": "2022-09-23T13:15:19.473Z"
   },
   {
    "duration": 0,
    "start_time": "2022-09-23T13:15:19.474Z"
   },
   {
    "duration": 0,
    "start_time": "2022-09-23T13:15:19.475Z"
   },
   {
    "duration": 0,
    "start_time": "2022-09-23T13:15:19.476Z"
   },
   {
    "duration": 0,
    "start_time": "2022-09-23T13:15:19.495Z"
   },
   {
    "duration": 156,
    "start_time": "2022-09-23T13:15:48.842Z"
   },
   {
    "duration": 1462,
    "start_time": "2022-09-23T13:15:54.480Z"
   },
   {
    "duration": 60,
    "start_time": "2022-09-23T13:15:55.944Z"
   },
   {
    "duration": 16,
    "start_time": "2022-09-23T13:15:56.006Z"
   },
   {
    "duration": 5,
    "start_time": "2022-09-23T13:15:56.025Z"
   },
   {
    "duration": 18,
    "start_time": "2022-09-23T13:15:56.031Z"
   },
   {
    "duration": 12,
    "start_time": "2022-09-23T13:15:56.051Z"
   },
   {
    "duration": 30,
    "start_time": "2022-09-23T13:15:56.067Z"
   },
   {
    "duration": 12,
    "start_time": "2022-09-23T13:15:56.098Z"
   },
   {
    "duration": 5,
    "start_time": "2022-09-23T13:15:56.111Z"
   },
   {
    "duration": 12,
    "start_time": "2022-09-23T13:15:56.119Z"
   },
   {
    "duration": 6,
    "start_time": "2022-09-23T13:15:56.133Z"
   },
   {
    "duration": 15,
    "start_time": "2022-09-23T13:15:56.140Z"
   },
   {
    "duration": 46,
    "start_time": "2022-09-23T13:15:56.157Z"
   },
   {
    "duration": 19,
    "start_time": "2022-09-23T13:15:56.205Z"
   },
   {
    "duration": 14,
    "start_time": "2022-09-23T13:15:56.226Z"
   },
   {
    "duration": 63,
    "start_time": "2022-09-23T13:15:56.243Z"
   },
   {
    "duration": 16,
    "start_time": "2022-09-23T13:15:56.308Z"
   },
   {
    "duration": 469,
    "start_time": "2022-09-23T13:15:56.326Z"
   },
   {
    "duration": 190,
    "start_time": "2022-09-23T13:15:56.798Z"
   },
   {
    "duration": 7,
    "start_time": "2022-09-23T13:15:56.990Z"
   },
   {
    "duration": 18,
    "start_time": "2022-09-23T13:15:56.999Z"
   },
   {
    "duration": 131,
    "start_time": "2022-09-23T13:15:57.019Z"
   },
   {
    "duration": 7,
    "start_time": "2022-09-23T13:15:57.152Z"
   },
   {
    "duration": 46,
    "start_time": "2022-09-23T13:15:57.160Z"
   },
   {
    "duration": 808,
    "start_time": "2022-09-23T13:15:57.208Z"
   },
   {
    "duration": 128534,
    "start_time": "2022-09-23T13:15:58.019Z"
   },
   {
    "duration": 164,
    "start_time": "2022-09-23T13:18:06.554Z"
   },
   {
    "duration": 26,
    "start_time": "2022-09-23T13:18:06.723Z"
   },
   {
    "duration": 65,
    "start_time": "2022-09-23T13:18:06.751Z"
   },
   {
    "duration": 181,
    "start_time": "2022-09-23T13:18:06.818Z"
   },
   {
    "duration": 114,
    "start_time": "2022-09-25T10:18:12.076Z"
   },
   {
    "duration": 6,
    "start_time": "2022-09-25T10:18:15.086Z"
   },
   {
    "duration": 1373,
    "start_time": "2022-09-25T10:31:08.822Z"
   },
   {
    "duration": 53,
    "start_time": "2022-09-25T10:31:10.197Z"
   },
   {
    "duration": 11,
    "start_time": "2022-09-25T10:31:10.252Z"
   },
   {
    "duration": 23,
    "start_time": "2022-09-25T10:31:10.265Z"
   },
   {
    "duration": 31,
    "start_time": "2022-09-25T10:31:10.290Z"
   },
   {
    "duration": 41,
    "start_time": "2022-09-25T10:31:10.323Z"
   },
   {
    "duration": 36,
    "start_time": "2022-09-25T10:31:10.365Z"
   },
   {
    "duration": 51,
    "start_time": "2022-09-25T10:31:10.403Z"
   },
   {
    "duration": 53,
    "start_time": "2022-09-25T10:31:10.456Z"
   },
   {
    "duration": 18,
    "start_time": "2022-09-25T10:31:10.512Z"
   },
   {
    "duration": 26,
    "start_time": "2022-09-25T10:31:10.531Z"
   },
   {
    "duration": 20,
    "start_time": "2022-09-25T10:31:10.559Z"
   },
   {
    "duration": 23,
    "start_time": "2022-09-25T10:31:10.581Z"
   },
   {
    "duration": 11,
    "start_time": "2022-09-25T10:31:10.605Z"
   },
   {
    "duration": 14,
    "start_time": "2022-09-25T10:31:10.617Z"
   },
   {
    "duration": 13,
    "start_time": "2022-09-25T10:31:10.632Z"
   },
   {
    "duration": 48,
    "start_time": "2022-09-25T10:31:10.647Z"
   },
   {
    "duration": 12,
    "start_time": "2022-09-25T10:31:10.696Z"
   },
   {
    "duration": 395,
    "start_time": "2022-09-25T10:31:10.710Z"
   },
   {
    "duration": 167,
    "start_time": "2022-09-25T10:31:11.107Z"
   },
   {
    "duration": 4,
    "start_time": "2022-09-25T10:31:11.275Z"
   },
   {
    "duration": 20,
    "start_time": "2022-09-25T10:31:11.295Z"
   },
   {
    "duration": 131,
    "start_time": "2022-09-25T10:31:11.317Z"
   },
   {
    "duration": 7,
    "start_time": "2022-09-25T10:31:11.449Z"
   },
   {
    "duration": 12,
    "start_time": "2022-09-25T10:31:11.457Z"
   },
   {
    "duration": 835,
    "start_time": "2022-09-25T10:31:11.470Z"
   },
   {
    "duration": 125163,
    "start_time": "2022-09-25T10:31:12.308Z"
   },
   {
    "duration": 149,
    "start_time": "2022-09-25T10:33:17.474Z"
   },
   {
    "duration": 46,
    "start_time": "2022-09-25T10:33:17.625Z"
   },
   {
    "duration": 47,
    "start_time": "2022-09-25T10:33:17.672Z"
   },
   {
    "duration": 279,
    "start_time": "2022-09-25T10:33:17.721Z"
   },
   {
    "duration": 109,
    "start_time": "2022-09-25T10:33:51.575Z"
   },
   {
    "duration": 5735,
    "start_time": "2022-09-25T10:34:05.063Z"
   },
   {
    "duration": 125288,
    "start_time": "2022-09-25T10:37:52.703Z"
   },
   {
    "duration": 10779,
    "start_time": "2022-09-25T12:13:11.967Z"
   },
   {
    "duration": 4,
    "start_time": "2022-09-25T12:14:51.467Z"
   },
   {
    "duration": 101,
    "start_time": "2022-09-25T12:15:18.130Z"
   },
   {
    "duration": 97,
    "start_time": "2022-09-25T12:15:29.156Z"
   },
   {
    "duration": 94,
    "start_time": "2022-09-25T12:15:35.393Z"
   },
   {
    "duration": 9819,
    "start_time": "2022-09-25T12:39:20.387Z"
   },
   {
    "duration": 4,
    "start_time": "2022-09-25T12:39:39.399Z"
   },
   {
    "duration": 81,
    "start_time": "2022-09-25T12:39:41.511Z"
   },
   {
    "duration": 20474,
    "start_time": "2022-09-25T12:40:21.075Z"
   },
   {
    "duration": 19878,
    "start_time": "2022-09-25T12:41:11.674Z"
   },
   {
    "duration": 122,
    "start_time": "2022-09-25T12:41:33.624Z"
   },
   {
    "duration": 29,
    "start_time": "2022-09-25T12:41:41.649Z"
   },
   {
    "duration": 1287,
    "start_time": "2022-09-25T12:48:46.643Z"
   },
   {
    "duration": 20973,
    "start_time": "2022-09-25T12:49:03.015Z"
   },
   {
    "duration": 10,
    "start_time": "2022-09-25T12:51:56.340Z"
   },
   {
    "duration": 4,
    "start_time": "2022-09-25T12:52:03.165Z"
   },
   {
    "duration": 11,
    "start_time": "2022-09-25T12:52:06.226Z"
   },
   {
    "duration": 59,
    "start_time": "2022-09-25T12:52:32.739Z"
   },
   {
    "duration": 23,
    "start_time": "2022-09-25T12:52:35.428Z"
   },
   {
    "duration": 12,
    "start_time": "2022-09-25T12:53:27.852Z"
   },
   {
    "duration": 10,
    "start_time": "2022-09-25T12:53:41.864Z"
   },
   {
    "duration": 5,
    "start_time": "2022-09-25T12:53:59.091Z"
   },
   {
    "duration": 14,
    "start_time": "2022-09-25T12:55:35.554Z"
   },
   {
    "duration": 11,
    "start_time": "2022-09-25T12:55:38.516Z"
   },
   {
    "duration": 22,
    "start_time": "2022-09-25T12:56:21.154Z"
   },
   {
    "duration": 50,
    "start_time": "2022-09-25T12:56:32.516Z"
   },
   {
    "duration": 74,
    "start_time": "2022-09-25T12:56:35.729Z"
   },
   {
    "duration": 8,
    "start_time": "2022-09-25T12:59:55.980Z"
   },
   {
    "duration": 291,
    "start_time": "2022-09-25T13:01:11.692Z"
   },
   {
    "duration": 18,
    "start_time": "2022-09-25T13:02:00.349Z"
   },
   {
    "duration": 15,
    "start_time": "2022-09-25T13:03:32.394Z"
   },
   {
    "duration": 10,
    "start_time": "2022-09-25T13:03:46.345Z"
   },
   {
    "duration": 9,
    "start_time": "2022-09-25T13:03:57.181Z"
   },
   {
    "duration": 91,
    "start_time": "2022-09-25T13:04:08.820Z"
   },
   {
    "duration": 9,
    "start_time": "2022-09-25T13:04:11.163Z"
   },
   {
    "duration": 20,
    "start_time": "2022-09-25T13:18:29.824Z"
   },
   {
    "duration": 50,
    "start_time": "2022-09-25T13:18:52.573Z"
   },
   {
    "duration": 676,
    "start_time": "2022-09-25T13:18:57.226Z"
   },
   {
    "duration": 953,
    "start_time": "2022-09-25T13:19:08.800Z"
   },
   {
    "duration": 19,
    "start_time": "2022-09-25T13:19:14.088Z"
   },
   {
    "duration": 174,
    "start_time": "2022-09-25T13:19:22.225Z"
   },
   {
    "duration": 1634,
    "start_time": "2022-09-25T13:20:15.154Z"
   },
   {
    "duration": 71,
    "start_time": "2022-09-25T13:20:16.791Z"
   },
   {
    "duration": 18,
    "start_time": "2022-09-25T13:20:16.864Z"
   },
   {
    "duration": 5,
    "start_time": "2022-09-25T13:20:16.885Z"
   },
   {
    "duration": 31,
    "start_time": "2022-09-25T13:20:16.893Z"
   },
   {
    "duration": 6,
    "start_time": "2022-09-25T13:20:16.926Z"
   },
   {
    "duration": 17,
    "start_time": "2022-09-25T13:20:16.934Z"
   },
   {
    "duration": 12,
    "start_time": "2022-09-25T13:20:16.952Z"
   },
   {
    "duration": 14,
    "start_time": "2022-09-25T13:20:16.966Z"
   },
   {
    "duration": 19,
    "start_time": "2022-09-25T13:20:16.981Z"
   },
   {
    "duration": 14,
    "start_time": "2022-09-25T13:20:17.004Z"
   },
   {
    "duration": 6,
    "start_time": "2022-09-25T13:20:17.020Z"
   },
   {
    "duration": 12,
    "start_time": "2022-09-25T13:20:17.027Z"
   },
   {
    "duration": 11,
    "start_time": "2022-09-25T13:20:17.042Z"
   },
   {
    "duration": 55,
    "start_time": "2022-09-25T13:20:17.055Z"
   },
   {
    "duration": 15,
    "start_time": "2022-09-25T13:20:17.113Z"
   },
   {
    "duration": 35,
    "start_time": "2022-09-25T13:20:17.130Z"
   },
   {
    "duration": 21,
    "start_time": "2022-09-25T13:20:17.197Z"
   },
   {
    "duration": 436,
    "start_time": "2022-09-25T13:20:17.220Z"
   },
   {
    "duration": 185,
    "start_time": "2022-09-25T13:20:17.657Z"
   },
   {
    "duration": 4,
    "start_time": "2022-09-25T13:20:17.843Z"
   },
   {
    "duration": 13,
    "start_time": "2022-09-25T13:20:17.849Z"
   },
   {
    "duration": 171,
    "start_time": "2022-09-25T13:20:17.864Z"
   },
   {
    "duration": 7,
    "start_time": "2022-09-25T13:20:18.036Z"
   },
   {
    "duration": 11,
    "start_time": "2022-09-25T13:20:18.045Z"
   },
   {
    "duration": 891,
    "start_time": "2022-09-25T13:20:18.058Z"
   },
   {
    "duration": 21855,
    "start_time": "2022-09-25T13:20:18.950Z"
   },
   {
    "duration": 152,
    "start_time": "2022-09-25T13:20:40.807Z"
   },
   {
    "duration": 44,
    "start_time": "2022-09-25T13:20:40.960Z"
   },
   {
    "duration": 90,
    "start_time": "2022-09-25T13:20:41.007Z"
   },
   {
    "duration": 205,
    "start_time": "2022-09-25T13:20:41.100Z"
   },
   {
    "duration": 481,
    "start_time": "2022-09-25T13:20:41.308Z"
   },
   {
    "duration": 24,
    "start_time": "2022-09-25T13:20:41.790Z"
   },
   {
    "duration": 190,
    "start_time": "2022-09-25T13:20:41.816Z"
   },
   {
    "duration": 8,
    "start_time": "2022-09-25T13:20:42.008Z"
   },
   {
    "duration": 52,
    "start_time": "2022-09-25T13:20:42.018Z"
   },
   {
    "duration": 994,
    "start_time": "2022-09-25T13:20:42.073Z"
   },
   {
    "duration": 242,
    "start_time": "2022-09-25T13:20:43.069Z"
   },
   {
    "duration": 8,
    "start_time": "2022-09-25T13:21:13.055Z"
   },
   {
    "duration": 8,
    "start_time": "2022-09-25T13:21:31.318Z"
   },
   {
    "duration": 59,
    "start_time": "2022-09-25T13:23:21.493Z"
   },
   {
    "duration": 1005,
    "start_time": "2022-09-25T13:23:22.142Z"
   },
   {
    "duration": 10,
    "start_time": "2022-09-25T13:23:24.554Z"
   },
   {
    "duration": 159,
    "start_time": "2022-09-25T13:23:27.943Z"
   },
   {
    "duration": 10,
    "start_time": "2022-09-25T13:23:30.179Z"
   },
   {
    "duration": 8,
    "start_time": "2022-09-25T13:23:33.642Z"
   },
   {
    "duration": 42,
    "start_time": "2022-09-25T13:25:12.218Z"
   },
   {
    "duration": 43,
    "start_time": "2022-09-25T13:25:21.783Z"
   },
   {
    "duration": 175,
    "start_time": "2022-09-25T13:25:23.529Z"
   },
   {
    "duration": 219,
    "start_time": "2022-09-25T13:25:26.079Z"
   },
   {
    "duration": 9,
    "start_time": "2022-09-25T13:25:28.866Z"
   },
   {
    "duration": 489,
    "start_time": "2022-09-25T13:27:42.507Z"
   },
   {
    "duration": 176,
    "start_time": "2022-09-25T13:28:07.824Z"
   },
   {
    "duration": 8,
    "start_time": "2022-09-25T13:28:14.993Z"
   },
   {
    "duration": 4,
    "start_time": "2022-09-25T13:33:12.545Z"
   },
   {
    "duration": 9,
    "start_time": "2022-09-25T13:34:03.345Z"
   },
   {
    "duration": 9,
    "start_time": "2022-09-25T13:34:18.307Z"
   },
   {
    "duration": 9,
    "start_time": "2022-09-25T13:34:21.344Z"
   },
   {
    "duration": 5,
    "start_time": "2022-09-25T13:34:26.641Z"
   },
   {
    "duration": 5,
    "start_time": "2022-09-25T13:34:29.493Z"
   },
   {
    "duration": 12,
    "start_time": "2022-09-25T13:34:35.582Z"
   },
   {
    "duration": 4,
    "start_time": "2022-09-25T13:34:41.172Z"
   },
   {
    "duration": 11,
    "start_time": "2022-09-25T13:34:50.694Z"
   },
   {
    "duration": 4,
    "start_time": "2022-09-25T13:34:54.032Z"
   },
   {
    "duration": 217,
    "start_time": "2022-09-25T13:35:23.181Z"
   },
   {
    "duration": 187,
    "start_time": "2022-09-25T13:35:30.882Z"
   },
   {
    "duration": 229,
    "start_time": "2022-09-25T13:36:10.777Z"
   },
   {
    "duration": 198,
    "start_time": "2022-09-25T13:38:03.477Z"
   },
   {
    "duration": 11,
    "start_time": "2022-09-25T13:38:12.600Z"
   },
   {
    "duration": 225,
    "start_time": "2022-09-25T13:43:20.922Z"
   },
   {
    "duration": 10,
    "start_time": "2022-09-25T13:43:30.441Z"
   },
   {
    "duration": 11,
    "start_time": "2022-09-25T13:43:35.121Z"
   },
   {
    "duration": 201,
    "start_time": "2022-09-25T13:43:39.695Z"
   },
   {
    "duration": 89,
    "start_time": "2022-09-25T13:43:49.184Z"
   },
   {
    "duration": 278,
    "start_time": "2022-09-25T13:44:10.669Z"
   },
   {
    "duration": 250,
    "start_time": "2022-09-25T13:44:22.697Z"
   },
   {
    "duration": 75,
    "start_time": "2022-09-25T13:45:13.986Z"
   },
   {
    "duration": 212,
    "start_time": "2022-09-25T13:45:17.711Z"
   },
   {
    "duration": 210,
    "start_time": "2022-09-25T13:45:23.635Z"
   },
   {
    "duration": 276,
    "start_time": "2022-09-25T13:48:38.248Z"
   },
   {
    "duration": 208,
    "start_time": "2022-09-25T13:48:44.235Z"
   },
   {
    "duration": 200,
    "start_time": "2022-09-25T13:48:51.147Z"
   },
   {
    "duration": 202,
    "start_time": "2022-09-25T13:49:27.786Z"
   },
   {
    "duration": 190,
    "start_time": "2022-09-25T13:49:45.312Z"
   },
   {
    "duration": 247,
    "start_time": "2022-09-25T13:50:11.176Z"
   },
   {
    "duration": 225,
    "start_time": "2022-09-25T13:50:18.580Z"
   },
   {
    "duration": 229,
    "start_time": "2022-09-25T13:50:38.449Z"
   },
   {
    "duration": 5,
    "start_time": "2022-09-25T13:51:07.200Z"
   },
   {
    "duration": 235,
    "start_time": "2022-09-25T13:51:10.749Z"
   },
   {
    "duration": 269,
    "start_time": "2022-09-25T13:51:27.683Z"
   },
   {
    "duration": 304,
    "start_time": "2022-09-25T13:51:54.888Z"
   },
   {
    "duration": 399,
    "start_time": "2022-09-25T13:51:57.988Z"
   },
   {
    "duration": 274,
    "start_time": "2022-09-25T13:52:20.087Z"
   },
   {
    "duration": 272,
    "start_time": "2022-09-25T13:52:52.936Z"
   },
   {
    "duration": 285,
    "start_time": "2022-09-25T13:53:19.836Z"
   },
   {
    "duration": 298,
    "start_time": "2022-09-25T13:53:57.612Z"
   },
   {
    "duration": 291,
    "start_time": "2022-09-25T13:54:13.024Z"
   },
   {
    "duration": 378,
    "start_time": "2022-09-25T13:54:23.449Z"
   },
   {
    "duration": 77,
    "start_time": "2022-09-25T13:58:53.482Z"
   },
   {
    "duration": 307,
    "start_time": "2022-09-25T13:59:07.929Z"
   },
   {
    "duration": 4,
    "start_time": "2022-09-25T13:59:34.752Z"
   },
   {
    "duration": 335,
    "start_time": "2022-09-25T13:59:43.227Z"
   },
   {
    "duration": 301,
    "start_time": "2022-09-25T13:59:54.962Z"
   },
   {
    "duration": 267,
    "start_time": "2022-09-25T14:59:59.378Z"
   },
   {
    "duration": 217,
    "start_time": "2022-09-25T15:00:06.542Z"
   },
   {
    "duration": 124,
    "start_time": "2022-09-25T15:00:34.792Z"
   },
   {
    "duration": 296,
    "start_time": "2022-09-25T15:00:47.867Z"
   },
   {
    "duration": 307,
    "start_time": "2022-09-25T15:00:56.673Z"
   },
   {
    "duration": 366,
    "start_time": "2022-09-25T15:02:22.494Z"
   },
   {
    "duration": 183,
    "start_time": "2022-09-25T15:02:29.896Z"
   },
   {
    "duration": 358,
    "start_time": "2022-09-25T15:03:00.456Z"
   },
   {
    "duration": 185,
    "start_time": "2022-09-25T15:04:04.105Z"
   },
   {
    "duration": 1458,
    "start_time": "2022-09-25T15:04:13.365Z"
   },
   {
    "duration": 60,
    "start_time": "2022-09-25T15:04:14.825Z"
   },
   {
    "duration": 14,
    "start_time": "2022-09-25T15:04:14.886Z"
   },
   {
    "duration": 7,
    "start_time": "2022-09-25T15:04:14.902Z"
   },
   {
    "duration": 7,
    "start_time": "2022-09-25T15:04:14.912Z"
   },
   {
    "duration": 7,
    "start_time": "2022-09-25T15:04:14.921Z"
   },
   {
    "duration": 18,
    "start_time": "2022-09-25T15:04:14.929Z"
   },
   {
    "duration": 12,
    "start_time": "2022-09-25T15:04:14.948Z"
   },
   {
    "duration": 42,
    "start_time": "2022-09-25T15:04:14.961Z"
   },
   {
    "duration": 4,
    "start_time": "2022-09-25T15:04:15.005Z"
   },
   {
    "duration": 23,
    "start_time": "2022-09-25T15:04:15.011Z"
   },
   {
    "duration": 5,
    "start_time": "2022-09-25T15:04:15.036Z"
   },
   {
    "duration": 14,
    "start_time": "2022-09-25T15:04:15.043Z"
   },
   {
    "duration": 12,
    "start_time": "2022-09-25T15:04:15.060Z"
   },
   {
    "duration": 33,
    "start_time": "2022-09-25T15:04:15.073Z"
   },
   {
    "duration": 12,
    "start_time": "2022-09-25T15:04:15.108Z"
   },
   {
    "duration": 33,
    "start_time": "2022-09-25T15:04:15.122Z"
   },
   {
    "duration": 43,
    "start_time": "2022-09-25T15:04:15.157Z"
   },
   {
    "duration": 372,
    "start_time": "2022-09-25T15:04:15.202Z"
   },
   {
    "duration": 163,
    "start_time": "2022-09-25T15:04:15.576Z"
   },
   {
    "duration": 4,
    "start_time": "2022-09-25T15:04:15.741Z"
   },
   {
    "duration": 14,
    "start_time": "2022-09-25T15:04:15.746Z"
   },
   {
    "duration": 136,
    "start_time": "2022-09-25T15:04:15.761Z"
   },
   {
    "duration": 7,
    "start_time": "2022-09-25T15:04:15.898Z"
   },
   {
    "duration": 13,
    "start_time": "2022-09-25T15:04:15.906Z"
   },
   {
    "duration": 843,
    "start_time": "2022-09-25T15:04:15.920Z"
   },
   {
    "duration": 20022,
    "start_time": "2022-09-25T15:04:16.765Z"
   },
   {
    "duration": 140,
    "start_time": "2022-09-25T15:04:36.796Z"
   },
   {
    "duration": 28,
    "start_time": "2022-09-25T15:04:36.938Z"
   },
   {
    "duration": 128,
    "start_time": "2022-09-25T15:04:36.968Z"
   },
   {
    "duration": 102,
    "start_time": "2022-09-25T15:04:37.098Z"
   },
   {
    "duration": 493,
    "start_time": "2022-09-25T15:04:37.202Z"
   },
   {
    "duration": 16,
    "start_time": "2022-09-25T15:04:37.697Z"
   },
   {
    "duration": 181,
    "start_time": "2022-09-25T15:04:37.715Z"
   },
   {
    "duration": 7,
    "start_time": "2022-09-25T15:04:37.898Z"
   },
   {
    "duration": 45,
    "start_time": "2022-09-25T15:04:37.907Z"
   },
   {
    "duration": 216,
    "start_time": "2022-09-25T15:04:37.954Z"
   },
   {
    "duration": 229,
    "start_time": "2022-09-25T15:04:38.171Z"
   },
   {
    "duration": 97,
    "start_time": "2022-09-25T15:04:38.404Z"
   },
   {
    "duration": 173,
    "start_time": "2022-09-25T15:04:38.503Z"
   },
   {
    "duration": 0,
    "start_time": "2022-09-25T15:04:38.677Z"
   },
   {
    "duration": 0,
    "start_time": "2022-09-25T15:04:38.678Z"
   },
   {
    "duration": 212,
    "start_time": "2022-09-25T15:04:54.889Z"
   },
   {
    "duration": 195,
    "start_time": "2022-09-25T15:05:32.064Z"
   },
   {
    "duration": 141,
    "start_time": "2022-09-25T15:05:52.965Z"
   },
   {
    "duration": 130,
    "start_time": "2022-09-25T15:06:11.741Z"
   },
   {
    "duration": 278,
    "start_time": "2022-09-25T15:07:05.189Z"
   },
   {
    "duration": 10,
    "start_time": "2022-09-25T15:07:15.535Z"
   },
   {
    "duration": 1614,
    "start_time": "2022-09-25T15:11:05.403Z"
   },
   {
    "duration": 1637,
    "start_time": "2022-09-25T15:11:18.566Z"
   },
   {
    "duration": 318,
    "start_time": "2022-09-25T15:11:29.166Z"
   },
   {
    "duration": 1590,
    "start_time": "2022-09-25T15:11:47.083Z"
   },
   {
    "duration": 39,
    "start_time": "2022-09-25T15:13:27.377Z"
   },
   {
    "duration": 166,
    "start_time": "2022-09-25T15:13:27.418Z"
   },
   {
    "duration": 219,
    "start_time": "2022-09-25T15:13:27.586Z"
   },
   {
    "duration": 9,
    "start_time": "2022-09-25T15:13:27.895Z"
   },
   {
    "duration": 1543,
    "start_time": "2022-09-25T15:13:27.996Z"
   },
   {
    "duration": 0,
    "start_time": "2022-09-25T15:13:29.541Z"
   },
   {
    "duration": 10,
    "start_time": "2022-09-25T15:13:51.718Z"
   },
   {
    "duration": 0,
    "start_time": "2022-09-25T15:13:51.730Z"
   },
   {
    "duration": 0,
    "start_time": "2022-09-25T15:13:51.731Z"
   },
   {
    "duration": 0,
    "start_time": "2022-09-25T15:13:51.732Z"
   },
   {
    "duration": 0,
    "start_time": "2022-09-25T15:13:51.733Z"
   },
   {
    "duration": 0,
    "start_time": "2022-09-25T15:13:51.734Z"
   },
   {
    "duration": 0,
    "start_time": "2022-09-25T15:13:51.735Z"
   },
   {
    "duration": 0,
    "start_time": "2022-09-25T15:13:51.736Z"
   },
   {
    "duration": 1462,
    "start_time": "2022-09-25T15:14:06.086Z"
   },
   {
    "duration": 55,
    "start_time": "2022-09-25T15:14:07.550Z"
   },
   {
    "duration": 12,
    "start_time": "2022-09-25T15:14:07.607Z"
   },
   {
    "duration": 5,
    "start_time": "2022-09-25T15:14:07.621Z"
   },
   {
    "duration": 7,
    "start_time": "2022-09-25T15:14:07.627Z"
   },
   {
    "duration": 9,
    "start_time": "2022-09-25T15:14:07.636Z"
   },
   {
    "duration": 17,
    "start_time": "2022-09-25T15:14:07.646Z"
   },
   {
    "duration": 32,
    "start_time": "2022-09-25T15:14:07.665Z"
   },
   {
    "duration": 14,
    "start_time": "2022-09-25T15:14:07.698Z"
   },
   {
    "duration": 5,
    "start_time": "2022-09-25T15:14:07.715Z"
   },
   {
    "duration": 8,
    "start_time": "2022-09-25T15:14:07.721Z"
   },
   {
    "duration": 8,
    "start_time": "2022-09-25T15:14:07.731Z"
   },
   {
    "duration": 12,
    "start_time": "2022-09-25T15:14:07.740Z"
   },
   {
    "duration": 12,
    "start_time": "2022-09-25T15:14:07.754Z"
   },
   {
    "duration": 40,
    "start_time": "2022-09-25T15:14:07.767Z"
   },
   {
    "duration": 17,
    "start_time": "2022-09-25T15:14:07.819Z"
   },
   {
    "duration": 41,
    "start_time": "2022-09-25T15:14:07.838Z"
   },
   {
    "duration": 21,
    "start_time": "2022-09-25T15:14:07.880Z"
   },
   {
    "duration": 373,
    "start_time": "2022-09-25T15:14:07.902Z"
   },
   {
    "duration": 160,
    "start_time": "2022-09-25T15:14:08.277Z"
   },
   {
    "duration": 3,
    "start_time": "2022-09-25T15:14:08.439Z"
   },
   {
    "duration": 15,
    "start_time": "2022-09-25T15:14:08.444Z"
   },
   {
    "duration": 137,
    "start_time": "2022-09-25T15:14:08.460Z"
   },
   {
    "duration": 6,
    "start_time": "2022-09-25T15:14:08.598Z"
   },
   {
    "duration": 10,
    "start_time": "2022-09-25T15:14:08.606Z"
   },
   {
    "duration": 855,
    "start_time": "2022-09-25T15:14:08.618Z"
   },
   {
    "duration": 20793,
    "start_time": "2022-09-25T15:14:09.474Z"
   },
   {
    "duration": 142,
    "start_time": "2022-09-25T15:14:30.271Z"
   },
   {
    "duration": 30,
    "start_time": "2022-09-25T15:14:30.415Z"
   },
   {
    "duration": 62,
    "start_time": "2022-09-25T15:14:30.446Z"
   },
   {
    "duration": 188,
    "start_time": "2022-09-25T15:14:30.510Z"
   },
   {
    "duration": 461,
    "start_time": "2022-09-25T15:14:30.700Z"
   },
   {
    "duration": 34,
    "start_time": "2022-09-25T15:14:31.163Z"
   },
   {
    "duration": 114,
    "start_time": "2022-09-25T15:14:31.199Z"
   },
   {
    "duration": 9,
    "start_time": "2022-09-25T15:14:31.315Z"
   },
   {
    "duration": 74,
    "start_time": "2022-09-25T15:14:31.326Z"
   },
   {
    "duration": 182,
    "start_time": "2022-09-25T15:14:31.401Z"
   },
   {
    "duration": 224,
    "start_time": "2022-09-25T15:14:31.584Z"
   },
   {
    "duration": 12,
    "start_time": "2022-09-25T15:14:31.895Z"
   },
   {
    "duration": 451,
    "start_time": "2022-09-25T15:14:31.910Z"
   },
   {
    "duration": 4,
    "start_time": "2022-09-25T15:14:32.363Z"
   },
   {
    "duration": 428,
    "start_time": "2022-09-25T15:14:48.303Z"
   },
   {
    "duration": 370,
    "start_time": "2022-09-25T15:14:55.542Z"
   },
   {
    "duration": 332,
    "start_time": "2022-09-25T15:15:12.141Z"
   },
   {
    "duration": 432,
    "start_time": "2022-09-25T15:15:28.191Z"
   },
   {
    "duration": 332,
    "start_time": "2022-09-25T15:15:34.504Z"
   },
   {
    "duration": 622,
    "start_time": "2022-09-25T15:18:05.941Z"
   },
   {
    "duration": 364,
    "start_time": "2022-09-25T15:18:28.232Z"
   },
   {
    "duration": 686,
    "start_time": "2022-09-25T15:18:34.405Z"
   },
   {
    "duration": 638,
    "start_time": "2022-09-25T15:18:48.693Z"
   },
   {
    "duration": 2157,
    "start_time": "2022-09-25T15:20:05.840Z"
   },
   {
    "duration": 61,
    "start_time": "2022-09-25T15:20:07.999Z"
   },
   {
    "duration": 17,
    "start_time": "2022-09-25T15:20:08.062Z"
   },
   {
    "duration": 5,
    "start_time": "2022-09-25T15:20:08.081Z"
   },
   {
    "duration": 8,
    "start_time": "2022-09-25T15:20:08.088Z"
   },
   {
    "duration": 8,
    "start_time": "2022-09-25T15:20:08.098Z"
   },
   {
    "duration": 18,
    "start_time": "2022-09-25T15:20:08.108Z"
   },
   {
    "duration": 12,
    "start_time": "2022-09-25T15:20:08.128Z"
   },
   {
    "duration": 16,
    "start_time": "2022-09-25T15:20:08.141Z"
   },
   {
    "duration": 35,
    "start_time": "2022-09-25T15:20:08.161Z"
   },
   {
    "duration": 11,
    "start_time": "2022-09-25T15:20:08.198Z"
   },
   {
    "duration": 5,
    "start_time": "2022-09-25T15:20:08.211Z"
   },
   {
    "duration": 15,
    "start_time": "2022-09-25T15:20:08.217Z"
   },
   {
    "duration": 13,
    "start_time": "2022-09-25T15:20:08.233Z"
   },
   {
    "duration": 11,
    "start_time": "2022-09-25T15:20:08.248Z"
   },
   {
    "duration": 45,
    "start_time": "2022-09-25T15:20:08.261Z"
   },
   {
    "duration": 34,
    "start_time": "2022-09-25T15:20:08.308Z"
   },
   {
    "duration": 14,
    "start_time": "2022-09-25T15:20:08.344Z"
   },
   {
    "duration": 401,
    "start_time": "2022-09-25T15:20:08.360Z"
   },
   {
    "duration": 159,
    "start_time": "2022-09-25T15:20:08.763Z"
   },
   {
    "duration": 3,
    "start_time": "2022-09-25T15:20:08.924Z"
   },
   {
    "duration": 23,
    "start_time": "2022-09-25T15:20:08.929Z"
   },
   {
    "duration": 128,
    "start_time": "2022-09-25T15:20:08.953Z"
   },
   {
    "duration": 15,
    "start_time": "2022-09-25T15:20:09.083Z"
   },
   {
    "duration": 9,
    "start_time": "2022-09-25T15:20:09.100Z"
   },
   {
    "duration": 820,
    "start_time": "2022-09-25T15:20:09.111Z"
   },
   {
    "duration": 20296,
    "start_time": "2022-09-25T15:20:09.933Z"
   },
   {
    "duration": 140,
    "start_time": "2022-09-25T15:20:30.233Z"
   },
   {
    "duration": 40,
    "start_time": "2022-09-25T15:20:30.375Z"
   },
   {
    "duration": 79,
    "start_time": "2022-09-25T15:20:30.417Z"
   },
   {
    "duration": 199,
    "start_time": "2022-09-25T15:20:30.498Z"
   },
   {
    "duration": 488,
    "start_time": "2022-09-25T15:20:30.700Z"
   },
   {
    "duration": 17,
    "start_time": "2022-09-25T15:20:31.190Z"
   },
   {
    "duration": 94,
    "start_time": "2022-09-25T15:20:31.209Z"
   },
   {
    "duration": 97,
    "start_time": "2022-09-25T15:20:31.306Z"
   },
   {
    "duration": 42,
    "start_time": "2022-09-25T15:20:31.404Z"
   },
   {
    "duration": 197,
    "start_time": "2022-09-25T15:20:31.448Z"
   },
   {
    "duration": 249,
    "start_time": "2022-09-25T15:20:31.646Z"
   },
   {
    "duration": 99,
    "start_time": "2022-09-25T15:20:31.901Z"
   },
   {
    "duration": 615,
    "start_time": "2022-09-25T15:20:32.002Z"
   },
   {
    "duration": 5,
    "start_time": "2022-09-25T15:20:32.618Z"
   },
   {
    "duration": 536,
    "start_time": "2022-09-25T15:20:51.431Z"
   },
   {
    "duration": 417,
    "start_time": "2022-09-25T15:21:06.655Z"
   },
   {
    "duration": 427,
    "start_time": "2022-09-25T15:21:16.932Z"
   },
   {
    "duration": 301,
    "start_time": "2022-09-25T15:21:41.945Z"
   },
   {
    "duration": 538,
    "start_time": "2022-09-25T15:22:00.229Z"
   },
   {
    "duration": 314,
    "start_time": "2022-09-25T15:22:52.568Z"
   },
   {
    "duration": 408,
    "start_time": "2022-09-25T15:23:13.819Z"
   },
   {
    "duration": 292,
    "start_time": "2022-09-25T15:28:35.258Z"
   },
   {
    "duration": 334,
    "start_time": "2022-09-25T15:29:12.695Z"
   },
   {
    "duration": 275,
    "start_time": "2022-09-25T15:29:57.496Z"
   },
   {
    "duration": 313,
    "start_time": "2022-09-25T15:30:09.246Z"
   },
   {
    "duration": 305,
    "start_time": "2022-09-25T15:30:20.607Z"
   },
   {
    "duration": 443,
    "start_time": "2022-09-25T18:01:12.983Z"
   },
   {
    "duration": 452,
    "start_time": "2022-09-25T18:01:24.283Z"
   },
   {
    "duration": 389,
    "start_time": "2022-09-25T18:02:11.222Z"
   },
   {
    "duration": 306,
    "start_time": "2022-09-25T18:02:34.872Z"
   },
   {
    "duration": 339,
    "start_time": "2022-09-25T18:02:46.021Z"
   },
   {
    "duration": 422,
    "start_time": "2022-09-25T18:03:25.722Z"
   },
   {
    "duration": 343,
    "start_time": "2022-09-25T18:03:36.346Z"
   },
   {
    "duration": 377,
    "start_time": "2022-09-25T18:04:02.072Z"
   },
   {
    "duration": 400,
    "start_time": "2022-09-25T18:04:26.234Z"
   },
   {
    "duration": 306,
    "start_time": "2022-09-25T18:05:17.259Z"
   },
   {
    "duration": 334,
    "start_time": "2022-09-25T18:05:46.133Z"
   },
   {
    "duration": 409,
    "start_time": "2022-09-25T18:07:25.847Z"
   },
   {
    "duration": 94,
    "start_time": "2022-09-25T18:07:42.622Z"
   },
   {
    "duration": 434,
    "start_time": "2022-09-25T18:07:46.510Z"
   },
   {
    "duration": 357,
    "start_time": "2022-09-25T18:08:13.843Z"
   },
   {
    "duration": 318,
    "start_time": "2022-09-25T18:09:08.760Z"
   },
   {
    "duration": 22,
    "start_time": "2022-09-25T18:36:13.642Z"
   },
   {
    "duration": 22,
    "start_time": "2022-09-25T18:36:38.217Z"
   },
   {
    "duration": 4,
    "start_time": "2022-09-25T18:36:41.841Z"
   },
   {
    "duration": 20,
    "start_time": "2022-09-25T18:36:47.453Z"
   },
   {
    "duration": 20,
    "start_time": "2022-09-25T18:37:06.480Z"
   },
   {
    "duration": 44,
    "start_time": "2022-09-25T18:37:11.941Z"
   },
   {
    "duration": 45,
    "start_time": "2022-09-25T18:37:49.692Z"
   },
   {
    "duration": 202,
    "start_time": "2022-09-25T18:38:20.328Z"
   },
   {
    "duration": 6,
    "start_time": "2022-09-25T18:39:26.855Z"
   },
   {
    "duration": 229,
    "start_time": "2022-09-25T18:39:33.268Z"
   },
   {
    "duration": 272,
    "start_time": "2022-09-25T18:40:11.679Z"
   },
   {
    "duration": 9,
    "start_time": "2022-09-25T18:40:42.155Z"
   },
   {
    "duration": 227,
    "start_time": "2022-09-25T18:40:49.980Z"
   },
   {
    "duration": 1430,
    "start_time": "2022-09-25T18:41:01.131Z"
   },
   {
    "duration": 54,
    "start_time": "2022-09-25T18:41:02.563Z"
   },
   {
    "duration": 13,
    "start_time": "2022-09-25T18:41:02.618Z"
   },
   {
    "duration": 7,
    "start_time": "2022-09-25T18:41:02.633Z"
   },
   {
    "duration": 8,
    "start_time": "2022-09-25T18:41:02.641Z"
   },
   {
    "duration": 8,
    "start_time": "2022-09-25T18:41:02.651Z"
   },
   {
    "duration": 36,
    "start_time": "2022-09-25T18:41:02.661Z"
   },
   {
    "duration": 12,
    "start_time": "2022-09-25T18:41:02.698Z"
   },
   {
    "duration": 14,
    "start_time": "2022-09-25T18:41:02.712Z"
   },
   {
    "duration": 5,
    "start_time": "2022-09-25T18:41:02.729Z"
   },
   {
    "duration": 12,
    "start_time": "2022-09-25T18:41:02.736Z"
   },
   {
    "duration": 9,
    "start_time": "2022-09-25T18:41:02.749Z"
   },
   {
    "duration": 19,
    "start_time": "2022-09-25T18:41:02.759Z"
   },
   {
    "duration": 27,
    "start_time": "2022-09-25T18:41:02.780Z"
   },
   {
    "duration": 15,
    "start_time": "2022-09-25T18:41:02.809Z"
   },
   {
    "duration": 23,
    "start_time": "2022-09-25T18:41:02.826Z"
   },
   {
    "duration": 61,
    "start_time": "2022-09-25T18:41:02.852Z"
   },
   {
    "duration": 17,
    "start_time": "2022-09-25T18:41:02.914Z"
   },
   {
    "duration": 365,
    "start_time": "2022-09-25T18:41:02.933Z"
   },
   {
    "duration": 148,
    "start_time": "2022-09-25T18:41:03.299Z"
   },
   {
    "duration": 3,
    "start_time": "2022-09-25T18:41:03.449Z"
   },
   {
    "duration": 18,
    "start_time": "2022-09-25T18:41:03.454Z"
   },
   {
    "duration": 137,
    "start_time": "2022-09-25T18:41:03.474Z"
   },
   {
    "duration": 5,
    "start_time": "2022-09-25T18:41:03.613Z"
   },
   {
    "duration": 8,
    "start_time": "2022-09-25T18:41:03.620Z"
   },
   {
    "duration": 794,
    "start_time": "2022-09-25T18:41:03.630Z"
   },
   {
    "duration": 20569,
    "start_time": "2022-09-25T18:41:04.426Z"
   },
   {
    "duration": 136,
    "start_time": "2022-09-25T18:41:24.998Z"
   },
   {
    "duration": 29,
    "start_time": "2022-09-25T18:41:25.137Z"
   },
   {
    "duration": 127,
    "start_time": "2022-09-25T18:41:25.168Z"
   },
   {
    "duration": 99,
    "start_time": "2022-09-25T18:41:25.297Z"
   },
   {
    "duration": 461,
    "start_time": "2022-09-25T18:41:25.399Z"
   },
   {
    "duration": 38,
    "start_time": "2022-09-25T18:41:25.861Z"
   },
   {
    "duration": 106,
    "start_time": "2022-09-25T18:41:25.903Z"
   },
   {
    "duration": 14,
    "start_time": "2022-09-25T18:41:26.012Z"
   },
   {
    "duration": 81,
    "start_time": "2022-09-25T18:41:26.028Z"
   },
   {
    "duration": 180,
    "start_time": "2022-09-25T18:41:26.111Z"
   },
   {
    "duration": 415,
    "start_time": "2022-09-25T18:41:26.295Z"
   },
   {
    "duration": 184,
    "start_time": "2022-09-25T18:41:26.712Z"
   },
   {
    "duration": 316,
    "start_time": "2022-09-25T18:41:26.899Z"
   },
   {
    "duration": 5,
    "start_time": "2022-09-25T18:41:27.217Z"
   },
   {
    "duration": 20,
    "start_time": "2022-09-25T18:41:27.224Z"
   },
   {
    "duration": 67,
    "start_time": "2022-09-25T18:41:27.246Z"
   },
   {
    "duration": 214,
    "start_time": "2022-09-25T18:41:27.314Z"
   },
   {
    "duration": 267,
    "start_time": "2022-09-25T18:41:27.529Z"
   },
   {
    "duration": 198,
    "start_time": "2022-09-25T18:41:27.798Z"
   },
   {
    "duration": 0,
    "start_time": "2022-09-25T18:41:27.998Z"
   },
   {
    "duration": 10,
    "start_time": "2022-09-25T18:42:08.268Z"
   },
   {
    "duration": 296,
    "start_time": "2022-09-25T18:42:12.217Z"
   },
   {
    "duration": 8,
    "start_time": "2022-09-25T18:43:09.343Z"
   },
   {
    "duration": 4,
    "start_time": "2022-09-25T18:43:38.879Z"
   },
   {
    "duration": 54,
    "start_time": "2022-09-25T18:43:38.885Z"
   },
   {
    "duration": 13,
    "start_time": "2022-09-25T18:43:38.940Z"
   },
   {
    "duration": 8,
    "start_time": "2022-09-25T18:43:38.955Z"
   },
   {
    "duration": 7,
    "start_time": "2022-09-25T18:43:38.966Z"
   },
   {
    "duration": 21,
    "start_time": "2022-09-25T18:43:38.975Z"
   },
   {
    "duration": 21,
    "start_time": "2022-09-25T18:43:38.998Z"
   },
   {
    "duration": 10,
    "start_time": "2022-09-25T18:43:39.021Z"
   },
   {
    "duration": 14,
    "start_time": "2022-09-25T18:43:39.033Z"
   },
   {
    "duration": 4,
    "start_time": "2022-09-25T18:43:39.049Z"
   },
   {
    "duration": 8,
    "start_time": "2022-09-25T18:43:39.055Z"
   },
   {
    "duration": 32,
    "start_time": "2022-09-25T18:43:39.064Z"
   },
   {
    "duration": 10,
    "start_time": "2022-09-25T18:43:39.097Z"
   },
   {
    "duration": 12,
    "start_time": "2022-09-25T18:43:39.110Z"
   },
   {
    "duration": 10,
    "start_time": "2022-09-25T18:43:39.124Z"
   },
   {
    "duration": 11,
    "start_time": "2022-09-25T18:43:39.136Z"
   },
   {
    "duration": 65,
    "start_time": "2022-09-25T18:43:39.149Z"
   },
   {
    "duration": 14,
    "start_time": "2022-09-25T18:43:39.216Z"
   },
   {
    "duration": 374,
    "start_time": "2022-09-25T18:43:39.232Z"
   },
   {
    "duration": 163,
    "start_time": "2022-09-25T18:43:39.608Z"
   },
   {
    "duration": 4,
    "start_time": "2022-09-25T18:43:39.772Z"
   },
   {
    "duration": 21,
    "start_time": "2022-09-25T18:43:39.778Z"
   },
   {
    "duration": 135,
    "start_time": "2022-09-25T18:43:39.801Z"
   },
   {
    "duration": 9,
    "start_time": "2022-09-25T18:43:39.938Z"
   },
   {
    "duration": 12,
    "start_time": "2022-09-25T18:43:39.949Z"
   },
   {
    "duration": 839,
    "start_time": "2022-09-25T18:43:39.963Z"
   },
   {
    "duration": 19914,
    "start_time": "2022-09-25T18:43:40.804Z"
   },
   {
    "duration": 139,
    "start_time": "2022-09-25T18:44:00.719Z"
   },
   {
    "duration": 41,
    "start_time": "2022-09-25T18:44:00.860Z"
   },
   {
    "duration": 100,
    "start_time": "2022-09-25T18:44:00.903Z"
   },
   {
    "duration": 107,
    "start_time": "2022-09-25T18:44:01.095Z"
   },
   {
    "duration": 380,
    "start_time": "2022-09-25T18:44:01.206Z"
   },
   {
    "duration": 13,
    "start_time": "2022-09-25T18:44:01.596Z"
   },
   {
    "duration": 93,
    "start_time": "2022-09-25T18:44:01.611Z"
   },
   {
    "duration": 36,
    "start_time": "2022-09-25T18:44:01.795Z"
   },
   {
    "duration": 58,
    "start_time": "2022-09-25T18:44:01.834Z"
   },
   {
    "duration": 178,
    "start_time": "2022-09-25T18:44:01.894Z"
   },
   {
    "duration": 224,
    "start_time": "2022-09-25T18:44:02.073Z"
   },
   {
    "duration": 97,
    "start_time": "2022-09-25T18:44:02.300Z"
   },
   {
    "duration": 437,
    "start_time": "2022-09-25T18:44:02.399Z"
   },
   {
    "duration": 15,
    "start_time": "2022-09-25T18:44:02.841Z"
   },
   {
    "duration": 1551,
    "start_time": "2022-09-25T18:44:14.469Z"
   },
   {
    "duration": 58,
    "start_time": "2022-09-25T18:44:16.023Z"
   },
   {
    "duration": 16,
    "start_time": "2022-09-25T18:44:16.083Z"
   },
   {
    "duration": 4,
    "start_time": "2022-09-25T18:44:16.101Z"
   },
   {
    "duration": 7,
    "start_time": "2022-09-25T18:44:16.107Z"
   },
   {
    "duration": 5,
    "start_time": "2022-09-25T18:44:16.116Z"
   },
   {
    "duration": 17,
    "start_time": "2022-09-25T18:44:16.122Z"
   },
   {
    "duration": 11,
    "start_time": "2022-09-25T18:44:16.141Z"
   },
   {
    "duration": 46,
    "start_time": "2022-09-25T18:44:16.154Z"
   },
   {
    "duration": 6,
    "start_time": "2022-09-25T18:44:16.203Z"
   },
   {
    "duration": 9,
    "start_time": "2022-09-25T18:44:16.211Z"
   },
   {
    "duration": 6,
    "start_time": "2022-09-25T18:44:16.222Z"
   },
   {
    "duration": 12,
    "start_time": "2022-09-25T18:44:16.230Z"
   },
   {
    "duration": 13,
    "start_time": "2022-09-25T18:44:16.244Z"
   },
   {
    "duration": 47,
    "start_time": "2022-09-25T18:44:16.259Z"
   },
   {
    "duration": 11,
    "start_time": "2022-09-25T18:44:16.308Z"
   },
   {
    "duration": 33,
    "start_time": "2022-09-25T18:44:16.321Z"
   },
   {
    "duration": 39,
    "start_time": "2022-09-25T18:44:16.356Z"
   },
   {
    "duration": 447,
    "start_time": "2022-09-25T18:44:16.397Z"
   },
   {
    "duration": 180,
    "start_time": "2022-09-25T18:44:16.846Z"
   },
   {
    "duration": 5,
    "start_time": "2022-09-25T18:44:17.029Z"
   },
   {
    "duration": 19,
    "start_time": "2022-09-25T18:44:17.037Z"
   },
   {
    "duration": 153,
    "start_time": "2022-09-25T18:44:17.058Z"
   },
   {
    "duration": 7,
    "start_time": "2022-09-25T18:44:17.214Z"
   },
   {
    "duration": 11,
    "start_time": "2022-09-25T18:44:17.223Z"
   },
   {
    "duration": 896,
    "start_time": "2022-09-25T18:44:17.236Z"
   },
   {
    "duration": 19735,
    "start_time": "2022-09-25T18:44:18.133Z"
   },
   {
    "duration": 135,
    "start_time": "2022-09-25T18:44:37.871Z"
   },
   {
    "duration": 34,
    "start_time": "2022-09-25T18:44:38.008Z"
   },
   {
    "duration": 151,
    "start_time": "2022-09-25T18:44:38.044Z"
   },
   {
    "duration": 198,
    "start_time": "2022-09-25T18:44:38.197Z"
   },
   {
    "duration": 462,
    "start_time": "2022-09-25T18:44:38.399Z"
   },
   {
    "duration": 44,
    "start_time": "2022-09-25T18:44:38.863Z"
   },
   {
    "duration": 10,
    "start_time": "2022-09-25T18:44:38.996Z"
   },
   {
    "duration": 10,
    "start_time": "2022-09-25T18:44:39.008Z"
   },
   {
    "duration": 116,
    "start_time": "2022-09-25T18:44:39.019Z"
   },
   {
    "duration": 196,
    "start_time": "2022-09-25T18:44:39.136Z"
   },
   {
    "duration": 266,
    "start_time": "2022-09-25T18:44:39.334Z"
   },
   {
    "duration": 94,
    "start_time": "2022-09-25T18:44:39.602Z"
   },
   {
    "duration": 340,
    "start_time": "2022-09-25T18:44:39.698Z"
   },
   {
    "duration": 5,
    "start_time": "2022-09-25T18:44:40.039Z"
   },
   {
    "duration": 22,
    "start_time": "2022-09-25T18:44:40.045Z"
   },
   {
    "duration": 60,
    "start_time": "2022-09-25T18:44:40.069Z"
   },
   {
    "duration": 199,
    "start_time": "2022-09-25T18:44:40.131Z"
   },
   {
    "duration": 265,
    "start_time": "2022-09-25T18:44:40.331Z"
   },
   {
    "duration": 11,
    "start_time": "2022-09-25T18:44:40.597Z"
   },
   {
    "duration": 97,
    "start_time": "2022-09-25T18:44:40.609Z"
   },
   {
    "duration": 349,
    "start_time": "2022-09-25T18:44:40.708Z"
   },
   {
    "duration": 298,
    "start_time": "2022-09-25T18:56:55.420Z"
   },
   {
    "duration": 17,
    "start_time": "2022-09-26T08:58:41.654Z"
   },
   {
    "duration": 8,
    "start_time": "2022-09-26T08:59:45.078Z"
   },
   {
    "duration": 182,
    "start_time": "2022-09-26T09:01:52.667Z"
   },
   {
    "duration": 16,
    "start_time": "2022-09-26T09:02:00.129Z"
   },
   {
    "duration": 194,
    "start_time": "2022-09-26T09:02:12.328Z"
   },
   {
    "duration": 17,
    "start_time": "2022-09-26T09:02:16.079Z"
   },
   {
    "duration": 1425,
    "start_time": "2022-09-26T09:03:56.618Z"
   },
   {
    "duration": 63,
    "start_time": "2022-09-26T09:03:58.046Z"
   },
   {
    "duration": 17,
    "start_time": "2022-09-26T09:03:58.111Z"
   },
   {
    "duration": 4,
    "start_time": "2022-09-26T09:03:58.131Z"
   },
   {
    "duration": 11,
    "start_time": "2022-09-26T09:03:58.137Z"
   },
   {
    "duration": 8,
    "start_time": "2022-09-26T09:03:58.149Z"
   },
   {
    "duration": 54,
    "start_time": "2022-09-26T09:03:58.159Z"
   },
   {
    "duration": 20,
    "start_time": "2022-09-26T09:03:58.216Z"
   },
   {
    "duration": 22,
    "start_time": "2022-09-26T09:03:58.238Z"
   },
   {
    "duration": 34,
    "start_time": "2022-09-26T09:03:58.265Z"
   },
   {
    "duration": 14,
    "start_time": "2022-09-26T09:03:58.302Z"
   },
   {
    "duration": 6,
    "start_time": "2022-09-26T09:03:58.318Z"
   },
   {
    "duration": 12,
    "start_time": "2022-09-26T09:03:58.326Z"
   },
   {
    "duration": 15,
    "start_time": "2022-09-26T09:03:58.340Z"
   },
   {
    "duration": 50,
    "start_time": "2022-09-26T09:03:58.357Z"
   },
   {
    "duration": 15,
    "start_time": "2022-09-26T09:03:58.410Z"
   },
   {
    "duration": 33,
    "start_time": "2022-09-26T09:03:58.427Z"
   },
   {
    "duration": 43,
    "start_time": "2022-09-26T09:03:58.463Z"
   },
   {
    "duration": 397,
    "start_time": "2022-09-26T09:03:58.508Z"
   },
   {
    "duration": 168,
    "start_time": "2022-09-26T09:03:58.907Z"
   },
   {
    "duration": 5,
    "start_time": "2022-09-26T09:03:59.077Z"
   },
   {
    "duration": 20,
    "start_time": "2022-09-26T09:03:59.084Z"
   },
   {
    "duration": 149,
    "start_time": "2022-09-26T09:03:59.106Z"
   },
   {
    "duration": 7,
    "start_time": "2022-09-26T09:03:59.257Z"
   },
   {
    "duration": 9,
    "start_time": "2022-09-26T09:03:59.266Z"
   },
   {
    "duration": 865,
    "start_time": "2022-09-26T09:03:59.295Z"
   },
   {
    "duration": 21156,
    "start_time": "2022-09-26T09:04:00.162Z"
   },
   {
    "duration": 145,
    "start_time": "2022-09-26T09:04:21.321Z"
   },
   {
    "duration": 36,
    "start_time": "2022-09-26T09:04:21.468Z"
   },
   {
    "duration": 94,
    "start_time": "2022-09-26T09:04:21.506Z"
   },
   {
    "duration": 103,
    "start_time": "2022-09-26T09:04:21.602Z"
   },
   {
    "duration": 556,
    "start_time": "2022-09-26T09:04:21.708Z"
   },
   {
    "duration": 31,
    "start_time": "2022-09-26T09:04:22.266Z"
   },
   {
    "duration": 117,
    "start_time": "2022-09-26T09:04:22.299Z"
   },
   {
    "duration": 8,
    "start_time": "2022-09-26T09:04:22.418Z"
   },
   {
    "duration": 426,
    "start_time": "2022-09-26T09:04:22.427Z"
   },
   {
    "duration": 149,
    "start_time": "2022-09-26T09:04:22.855Z"
   },
   {
    "duration": 0,
    "start_time": "2022-09-26T09:04:23.006Z"
   },
   {
    "duration": 0,
    "start_time": "2022-09-26T09:04:23.008Z"
   },
   {
    "duration": 0,
    "start_time": "2022-09-26T09:04:23.009Z"
   },
   {
    "duration": 0,
    "start_time": "2022-09-26T09:04:23.010Z"
   },
   {
    "duration": 0,
    "start_time": "2022-09-26T09:04:23.011Z"
   },
   {
    "duration": 0,
    "start_time": "2022-09-26T09:04:23.012Z"
   },
   {
    "duration": 0,
    "start_time": "2022-09-26T09:04:23.013Z"
   },
   {
    "duration": 0,
    "start_time": "2022-09-26T09:04:23.014Z"
   },
   {
    "duration": 0,
    "start_time": "2022-09-26T09:04:23.015Z"
   },
   {
    "duration": 0,
    "start_time": "2022-09-26T09:04:23.016Z"
   },
   {
    "duration": 0,
    "start_time": "2022-09-26T09:04:23.017Z"
   },
   {
    "duration": 0,
    "start_time": "2022-09-26T09:04:23.018Z"
   },
   {
    "duration": 0,
    "start_time": "2022-09-26T09:04:23.020Z"
   },
   {
    "duration": 0,
    "start_time": "2022-09-26T09:04:23.020Z"
   },
   {
    "duration": 4,
    "start_time": "2022-09-26T09:04:56.109Z"
   },
   {
    "duration": 47,
    "start_time": "2022-09-26T09:05:22.836Z"
   },
   {
    "duration": 1379,
    "start_time": "2022-09-26T10:04:10.123Z"
   },
   {
    "duration": 57,
    "start_time": "2022-09-26T10:04:11.504Z"
   },
   {
    "duration": 12,
    "start_time": "2022-09-26T10:04:11.563Z"
   },
   {
    "duration": 18,
    "start_time": "2022-09-26T10:04:11.577Z"
   },
   {
    "duration": 35,
    "start_time": "2022-09-26T10:04:11.597Z"
   },
   {
    "duration": 31,
    "start_time": "2022-09-26T10:04:11.634Z"
   },
   {
    "duration": 49,
    "start_time": "2022-09-26T10:04:11.667Z"
   },
   {
    "duration": 31,
    "start_time": "2022-09-26T10:04:11.718Z"
   },
   {
    "duration": 36,
    "start_time": "2022-09-26T10:04:11.751Z"
   },
   {
    "duration": 24,
    "start_time": "2022-09-26T10:04:11.790Z"
   },
   {
    "duration": 26,
    "start_time": "2022-09-26T10:04:11.817Z"
   },
   {
    "duration": 25,
    "start_time": "2022-09-26T10:04:11.845Z"
   },
   {
    "duration": 31,
    "start_time": "2022-09-26T10:04:11.872Z"
   },
   {
    "duration": 25,
    "start_time": "2022-09-26T10:04:11.904Z"
   },
   {
    "duration": 32,
    "start_time": "2022-09-26T10:04:11.930Z"
   },
   {
    "duration": 30,
    "start_time": "2022-09-26T10:04:11.964Z"
   },
   {
    "duration": 58,
    "start_time": "2022-09-26T10:04:11.995Z"
   },
   {
    "duration": 15,
    "start_time": "2022-09-26T10:04:12.055Z"
   },
   {
    "duration": 344,
    "start_time": "2022-09-26T10:04:12.072Z"
   },
   {
    "duration": 153,
    "start_time": "2022-09-26T10:04:12.417Z"
   },
   {
    "duration": 4,
    "start_time": "2022-09-26T10:04:12.572Z"
   },
   {
    "duration": 35,
    "start_time": "2022-09-26T10:04:12.577Z"
   },
   {
    "duration": 114,
    "start_time": "2022-09-26T10:04:12.613Z"
   },
   {
    "duration": 6,
    "start_time": "2022-09-26T10:04:12.728Z"
   },
   {
    "duration": 7,
    "start_time": "2022-09-26T10:04:12.736Z"
   },
   {
    "duration": 813,
    "start_time": "2022-09-26T10:04:12.745Z"
   },
   {
    "duration": 19523,
    "start_time": "2022-09-26T10:04:13.560Z"
   },
   {
    "duration": 136,
    "start_time": "2022-09-26T10:04:33.086Z"
   },
   {
    "duration": 30,
    "start_time": "2022-09-26T10:04:33.224Z"
   },
   {
    "duration": 64,
    "start_time": "2022-09-26T10:04:33.255Z"
   },
   {
    "duration": 107,
    "start_time": "2022-09-26T10:04:33.395Z"
   },
   {
    "duration": 468,
    "start_time": "2022-09-26T10:04:33.505Z"
   },
   {
    "duration": 119,
    "start_time": "2022-09-26T10:04:33.975Z"
   },
   {
    "duration": 108,
    "start_time": "2022-09-26T10:04:34.097Z"
   },
   {
    "duration": 20,
    "start_time": "2022-09-26T10:04:34.206Z"
   },
   {
    "duration": 49,
    "start_time": "2022-09-26T10:04:34.227Z"
   },
   {
    "duration": 158,
    "start_time": "2022-09-26T10:04:34.278Z"
   },
   {
    "duration": 166,
    "start_time": "2022-09-26T10:04:34.438Z"
   },
   {
    "duration": 100,
    "start_time": "2022-09-26T10:04:34.696Z"
   },
   {
    "duration": 325,
    "start_time": "2022-09-26T10:04:34.798Z"
   },
   {
    "duration": 17,
    "start_time": "2022-09-26T10:04:35.125Z"
   },
   {
    "duration": 56,
    "start_time": "2022-09-26T10:04:35.143Z"
   },
   {
    "duration": 181,
    "start_time": "2022-09-26T10:04:35.201Z"
   },
   {
    "duration": 216,
    "start_time": "2022-09-26T10:04:35.384Z"
   },
   {
    "duration": 99,
    "start_time": "2022-09-26T10:04:35.601Z"
   },
   {
    "duration": 99,
    "start_time": "2022-09-26T10:04:35.701Z"
   },
   {
    "duration": 322,
    "start_time": "2022-09-26T10:04:35.802Z"
   },
   {
    "duration": 322,
    "start_time": "2022-09-26T10:04:36.126Z"
   },
   {
    "duration": 17,
    "start_time": "2022-09-26T10:04:36.449Z"
   },
   {
    "duration": 6,
    "start_time": "2022-09-26T10:35:27.778Z"
   },
   {
    "duration": 11488,
    "start_time": "2022-09-26T10:35:39.929Z"
   },
   {
    "duration": 17673,
    "start_time": "2022-09-26T10:36:45.532Z"
   },
   {
    "duration": 45,
    "start_time": "2022-09-26T10:37:15.991Z"
   },
   {
    "duration": 13792,
    "start_time": "2022-09-26T10:37:20.254Z"
   },
   {
    "duration": 19,
    "start_time": "2022-09-26T10:37:35.442Z"
   },
   {
    "duration": 12467,
    "start_time": "2022-09-26T10:37:51.755Z"
   },
   {
    "duration": 32,
    "start_time": "2022-09-26T10:38:05.643Z"
   },
   {
    "duration": 9154,
    "start_time": "2022-09-26T10:38:27.930Z"
   },
   {
    "duration": 35,
    "start_time": "2022-09-26T10:38:37.770Z"
   },
   {
    "duration": 26822,
    "start_time": "2022-09-26T10:38:49.455Z"
   },
   {
    "duration": 41,
    "start_time": "2022-09-26T10:39:16.278Z"
   },
   {
    "duration": 15561,
    "start_time": "2022-09-26T10:39:22.255Z"
   },
   {
    "duration": 30,
    "start_time": "2022-09-26T10:39:40.380Z"
   },
   {
    "duration": 1379,
    "start_time": "2022-09-26T10:43:57.409Z"
   },
   {
    "duration": 59,
    "start_time": "2022-09-26T10:43:58.790Z"
   },
   {
    "duration": 14,
    "start_time": "2022-09-26T10:43:58.851Z"
   },
   {
    "duration": 5,
    "start_time": "2022-09-26T10:43:58.867Z"
   },
   {
    "duration": 8,
    "start_time": "2022-09-26T10:43:58.873Z"
   },
   {
    "duration": 6,
    "start_time": "2022-09-26T10:43:58.883Z"
   },
   {
    "duration": 17,
    "start_time": "2022-09-26T10:43:58.895Z"
   },
   {
    "duration": 13,
    "start_time": "2022-09-26T10:43:58.914Z"
   },
   {
    "duration": 11,
    "start_time": "2022-09-26T10:43:58.928Z"
   },
   {
    "duration": 6,
    "start_time": "2022-09-26T10:43:58.941Z"
   },
   {
    "duration": 7,
    "start_time": "2022-09-26T10:43:58.949Z"
   },
   {
    "duration": 39,
    "start_time": "2022-09-26T10:43:58.957Z"
   },
   {
    "duration": 10,
    "start_time": "2022-09-26T10:43:58.998Z"
   },
   {
    "duration": 12,
    "start_time": "2022-09-26T10:43:59.009Z"
   },
   {
    "duration": 11,
    "start_time": "2022-09-26T10:43:59.023Z"
   },
   {
    "duration": 12,
    "start_time": "2022-09-26T10:43:59.035Z"
   },
   {
    "duration": 60,
    "start_time": "2022-09-26T10:43:59.049Z"
   },
   {
    "duration": 14,
    "start_time": "2022-09-26T10:43:59.111Z"
   },
   {
    "duration": 378,
    "start_time": "2022-09-26T10:43:59.127Z"
   },
   {
    "duration": 162,
    "start_time": "2022-09-26T10:43:59.506Z"
   },
   {
    "duration": 4,
    "start_time": "2022-09-26T10:43:59.670Z"
   },
   {
    "duration": 21,
    "start_time": "2022-09-26T10:43:59.676Z"
   },
   {
    "duration": 132,
    "start_time": "2022-09-26T10:43:59.699Z"
   },
   {
    "duration": 7,
    "start_time": "2022-09-26T10:43:59.833Z"
   },
   {
    "duration": 13,
    "start_time": "2022-09-26T10:43:59.841Z"
   },
   {
    "duration": 817,
    "start_time": "2022-09-26T10:43:59.855Z"
   },
   {
    "duration": 20248,
    "start_time": "2022-09-26T10:44:00.674Z"
   },
   {
    "duration": 143,
    "start_time": "2022-09-26T10:44:20.926Z"
   },
   {
    "duration": 40,
    "start_time": "2022-09-26T10:44:21.071Z"
   },
   {
    "duration": 82,
    "start_time": "2022-09-26T10:44:21.113Z"
   },
   {
    "duration": 107,
    "start_time": "2022-09-26T10:44:21.197Z"
   },
   {
    "duration": 463,
    "start_time": "2022-09-26T10:44:21.397Z"
   },
   {
    "duration": 34,
    "start_time": "2022-09-26T10:44:21.862Z"
   },
   {
    "duration": 102,
    "start_time": "2022-09-26T10:44:21.899Z"
   },
   {
    "duration": 10,
    "start_time": "2022-09-26T10:44:22.003Z"
   },
   {
    "duration": 41,
    "start_time": "2022-09-26T10:44:22.015Z"
   },
   {
    "duration": 216,
    "start_time": "2022-09-26T10:44:22.058Z"
   },
   {
    "duration": 224,
    "start_time": "2022-09-26T10:44:22.276Z"
   },
   {
    "duration": 98,
    "start_time": "2022-09-26T10:44:22.502Z"
   },
   {
    "duration": 435,
    "start_time": "2022-09-26T10:44:22.602Z"
   },
   {
    "duration": 18,
    "start_time": "2022-09-26T10:44:23.039Z"
   },
   {
    "duration": 53,
    "start_time": "2022-09-26T10:44:23.059Z"
   },
   {
    "duration": 188,
    "start_time": "2022-09-26T10:44:23.113Z"
   },
   {
    "duration": 200,
    "start_time": "2022-09-26T10:44:23.303Z"
   },
   {
    "duration": 99,
    "start_time": "2022-09-26T10:44:23.505Z"
   },
   {
    "duration": 17,
    "start_time": "2022-09-26T10:44:23.696Z"
   },
   {
    "duration": 311,
    "start_time": "2022-09-26T10:44:23.714Z"
   },
   {
    "duration": 313,
    "start_time": "2022-09-26T10:44:24.027Z"
   },
   {
    "duration": 15,
    "start_time": "2022-09-26T10:44:24.342Z"
   },
   {
    "duration": 1374,
    "start_time": "2022-09-26T10:51:48.673Z"
   },
   {
    "duration": 55,
    "start_time": "2022-09-26T10:51:50.049Z"
   },
   {
    "duration": 15,
    "start_time": "2022-09-26T10:51:50.106Z"
   },
   {
    "duration": 4,
    "start_time": "2022-09-26T10:51:50.123Z"
   },
   {
    "duration": 8,
    "start_time": "2022-09-26T10:51:50.129Z"
   },
   {
    "duration": 6,
    "start_time": "2022-09-26T10:51:50.139Z"
   },
   {
    "duration": 7,
    "start_time": "2022-09-26T10:51:50.146Z"
   },
   {
    "duration": 45,
    "start_time": "2022-09-26T10:51:50.155Z"
   },
   {
    "duration": 13,
    "start_time": "2022-09-26T10:51:50.201Z"
   },
   {
    "duration": 5,
    "start_time": "2022-09-26T10:51:50.216Z"
   },
   {
    "duration": 10,
    "start_time": "2022-09-26T10:51:50.223Z"
   },
   {
    "duration": 5,
    "start_time": "2022-09-26T10:51:50.234Z"
   },
   {
    "duration": 11,
    "start_time": "2022-09-26T10:51:50.241Z"
   },
   {
    "duration": 48,
    "start_time": "2022-09-26T10:51:50.254Z"
   },
   {
    "duration": 14,
    "start_time": "2022-09-26T10:51:50.304Z"
   },
   {
    "duration": 14,
    "start_time": "2022-09-26T10:51:50.320Z"
   },
   {
    "duration": 32,
    "start_time": "2022-09-26T10:51:50.335Z"
   },
   {
    "duration": 13,
    "start_time": "2022-09-26T10:51:50.395Z"
   },
   {
    "duration": 363,
    "start_time": "2022-09-26T10:51:50.410Z"
   },
   {
    "duration": 175,
    "start_time": "2022-09-26T10:51:50.775Z"
   },
   {
    "duration": 3,
    "start_time": "2022-09-26T10:51:50.952Z"
   },
   {
    "duration": 14,
    "start_time": "2022-09-26T10:51:50.957Z"
   },
   {
    "duration": 140,
    "start_time": "2022-09-26T10:51:50.973Z"
   },
   {
    "duration": 7,
    "start_time": "2022-09-26T10:51:51.114Z"
   },
   {
    "duration": 8,
    "start_time": "2022-09-26T10:51:51.122Z"
   },
   {
    "duration": 792,
    "start_time": "2022-09-26T10:51:51.132Z"
   },
   {
    "duration": 20111,
    "start_time": "2022-09-26T10:51:51.925Z"
   },
   {
    "duration": 135,
    "start_time": "2022-09-26T10:52:12.039Z"
   },
   {
    "duration": 34,
    "start_time": "2022-09-26T10:52:12.175Z"
   },
   {
    "duration": 87,
    "start_time": "2022-09-26T10:52:12.211Z"
   },
   {
    "duration": 105,
    "start_time": "2022-09-26T10:52:12.300Z"
   },
   {
    "duration": 385,
    "start_time": "2022-09-26T10:52:12.496Z"
   },
   {
    "duration": 22,
    "start_time": "2022-09-26T10:52:12.883Z"
   },
   {
    "duration": 197,
    "start_time": "2022-09-26T10:52:12.906Z"
   },
   {
    "duration": 11,
    "start_time": "2022-09-26T10:52:13.105Z"
   },
   {
    "duration": 44,
    "start_time": "2022-09-26T10:52:13.118Z"
   },
   {
    "duration": 207,
    "start_time": "2022-09-26T10:52:13.164Z"
   },
   {
    "duration": 230,
    "start_time": "2022-09-26T10:52:13.372Z"
   },
   {
    "duration": 98,
    "start_time": "2022-09-26T10:52:13.604Z"
   },
   {
    "duration": 431,
    "start_time": "2022-09-26T10:52:13.704Z"
   },
   {
    "duration": 18,
    "start_time": "2022-09-26T10:52:14.138Z"
   },
   {
    "duration": 61,
    "start_time": "2022-09-26T10:52:14.158Z"
   },
   {
    "duration": 199,
    "start_time": "2022-09-26T10:52:14.221Z"
   },
   {
    "duration": 280,
    "start_time": "2022-09-26T10:52:14.421Z"
   },
   {
    "duration": 99,
    "start_time": "2022-09-26T10:52:14.703Z"
   },
   {
    "duration": 95,
    "start_time": "2022-09-26T10:52:14.804Z"
   },
   {
    "duration": 344,
    "start_time": "2022-09-26T10:52:14.900Z"
   },
   {
    "duration": 335,
    "start_time": "2022-09-26T10:52:15.246Z"
   },
   {
    "duration": 20,
    "start_time": "2022-09-26T10:52:15.583Z"
   },
   {
    "duration": 1355,
    "start_time": "2022-09-26T10:54:33.990Z"
   },
   {
    "duration": 58,
    "start_time": "2022-09-26T10:54:35.348Z"
   },
   {
    "duration": 14,
    "start_time": "2022-09-26T10:54:35.407Z"
   },
   {
    "duration": 18,
    "start_time": "2022-09-26T10:54:35.424Z"
   },
   {
    "duration": 17,
    "start_time": "2022-09-26T10:54:35.443Z"
   },
   {
    "duration": 11,
    "start_time": "2022-09-26T10:54:35.462Z"
   },
   {
    "duration": 24,
    "start_time": "2022-09-26T10:54:35.475Z"
   },
   {
    "duration": 11,
    "start_time": "2022-09-26T10:54:35.501Z"
   },
   {
    "duration": 13,
    "start_time": "2022-09-26T10:54:35.514Z"
   },
   {
    "duration": 6,
    "start_time": "2022-09-26T10:54:35.530Z"
   },
   {
    "duration": 11,
    "start_time": "2022-09-26T10:54:35.538Z"
   },
   {
    "duration": 12,
    "start_time": "2022-09-26T10:54:35.551Z"
   },
   {
    "duration": 30,
    "start_time": "2022-09-26T10:54:35.565Z"
   },
   {
    "duration": 11,
    "start_time": "2022-09-26T10:54:35.597Z"
   },
   {
    "duration": 12,
    "start_time": "2022-09-26T10:54:35.609Z"
   },
   {
    "duration": 22,
    "start_time": "2022-09-26T10:54:35.622Z"
   },
   {
    "duration": 49,
    "start_time": "2022-09-26T10:54:35.646Z"
   },
   {
    "duration": 15,
    "start_time": "2022-09-26T10:54:35.697Z"
   },
   {
    "duration": 381,
    "start_time": "2022-09-26T10:54:35.714Z"
   },
   {
    "duration": 152,
    "start_time": "2022-09-26T10:54:36.097Z"
   },
   {
    "duration": 3,
    "start_time": "2022-09-26T10:54:36.251Z"
   },
   {
    "duration": 21,
    "start_time": "2022-09-26T10:54:36.256Z"
   },
   {
    "duration": 128,
    "start_time": "2022-09-26T10:54:36.279Z"
   },
   {
    "duration": 7,
    "start_time": "2022-09-26T10:54:36.408Z"
   },
   {
    "duration": 12,
    "start_time": "2022-09-26T10:54:36.417Z"
   },
   {
    "duration": 887,
    "start_time": "2022-09-26T10:54:36.431Z"
   },
   {
    "duration": 20221,
    "start_time": "2022-09-26T10:54:37.320Z"
   },
   {
    "duration": 135,
    "start_time": "2022-09-26T10:54:57.545Z"
   },
   {
    "duration": 34,
    "start_time": "2022-09-26T10:54:57.682Z"
   },
   {
    "duration": 86,
    "start_time": "2022-09-26T10:54:57.717Z"
   },
   {
    "duration": 100,
    "start_time": "2022-09-26T10:54:57.806Z"
   },
   {
    "duration": 472,
    "start_time": "2022-09-26T10:54:57.997Z"
   },
   {
    "duration": 26,
    "start_time": "2022-09-26T10:54:58.470Z"
   },
   {
    "duration": 106,
    "start_time": "2022-09-26T10:54:58.498Z"
   },
   {
    "duration": 12,
    "start_time": "2022-09-26T10:54:58.607Z"
   },
   {
    "duration": 116,
    "start_time": "2022-09-26T10:54:58.621Z"
   },
   {
    "duration": 186,
    "start_time": "2022-09-26T10:54:58.739Z"
   },
   {
    "duration": 274,
    "start_time": "2022-09-26T10:54:58.927Z"
   },
   {
    "duration": 100,
    "start_time": "2022-09-26T10:54:59.203Z"
   },
   {
    "duration": 400,
    "start_time": "2022-09-26T10:54:59.305Z"
   },
   {
    "duration": 17,
    "start_time": "2022-09-26T10:54:59.707Z"
   },
   {
    "duration": 43,
    "start_time": "2022-09-26T10:54:59.725Z"
   },
   {
    "duration": 198,
    "start_time": "2022-09-26T10:54:59.769Z"
   },
   {
    "duration": 232,
    "start_time": "2022-09-26T10:54:59.968Z"
   },
   {
    "duration": 99,
    "start_time": "2022-09-26T10:55:00.202Z"
   },
   {
    "duration": 94,
    "start_time": "2022-09-26T10:55:00.303Z"
   },
   {
    "duration": 327,
    "start_time": "2022-09-26T10:55:00.399Z"
   },
   {
    "duration": 334,
    "start_time": "2022-09-26T10:55:00.727Z"
   },
   {
    "duration": 17,
    "start_time": "2022-09-26T10:55:01.063Z"
   },
   {
    "duration": 5,
    "start_time": "2022-09-26T10:55:56.433Z"
   },
   {
    "duration": 5,
    "start_time": "2022-09-26T10:56:13.996Z"
   },
   {
    "duration": 24,
    "start_time": "2022-09-26T10:57:11.634Z"
   },
   {
    "duration": 17,
    "start_time": "2022-09-26T10:57:21.360Z"
   },
   {
    "duration": 17,
    "start_time": "2022-09-26T10:57:38.534Z"
   },
   {
    "duration": 18,
    "start_time": "2022-09-26T10:58:36.811Z"
   },
   {
    "duration": 134,
    "start_time": "2022-09-26T10:58:41.534Z"
   },
   {
    "duration": 25,
    "start_time": "2022-09-26T10:58:47.285Z"
   },
   {
    "duration": 1482,
    "start_time": "2022-09-26T14:22:53.077Z"
   },
   {
    "duration": 59,
    "start_time": "2022-09-26T14:22:54.561Z"
   },
   {
    "duration": 15,
    "start_time": "2022-09-26T14:22:54.622Z"
   },
   {
    "duration": 4,
    "start_time": "2022-09-26T14:22:54.639Z"
   },
   {
    "duration": 11,
    "start_time": "2022-09-26T14:22:54.645Z"
   },
   {
    "duration": 13,
    "start_time": "2022-09-26T14:22:54.659Z"
   },
   {
    "duration": 19,
    "start_time": "2022-09-26T14:22:54.694Z"
   },
   {
    "duration": 16,
    "start_time": "2022-09-26T14:22:54.715Z"
   },
   {
    "duration": 14,
    "start_time": "2022-09-26T14:22:54.733Z"
   },
   {
    "duration": 7,
    "start_time": "2022-09-26T14:22:54.750Z"
   },
   {
    "duration": 40,
    "start_time": "2022-09-26T14:22:54.759Z"
   },
   {
    "duration": 5,
    "start_time": "2022-09-26T14:22:54.801Z"
   },
   {
    "duration": 12,
    "start_time": "2022-09-26T14:22:54.809Z"
   },
   {
    "duration": 14,
    "start_time": "2022-09-26T14:22:54.823Z"
   },
   {
    "duration": 13,
    "start_time": "2022-09-26T14:22:54.839Z"
   },
   {
    "duration": 49,
    "start_time": "2022-09-26T14:22:54.854Z"
   },
   {
    "duration": 36,
    "start_time": "2022-09-26T14:22:54.905Z"
   },
   {
    "duration": 17,
    "start_time": "2022-09-26T14:22:54.944Z"
   },
   {
    "duration": 415,
    "start_time": "2022-09-26T14:22:54.962Z"
   },
   {
    "duration": 168,
    "start_time": "2022-09-26T14:22:55.380Z"
   },
   {
    "duration": 4,
    "start_time": "2022-09-26T14:22:55.550Z"
   },
   {
    "duration": 15,
    "start_time": "2022-09-26T14:22:55.555Z"
   },
   {
    "duration": 150,
    "start_time": "2022-09-26T14:22:55.571Z"
   },
   {
    "duration": 6,
    "start_time": "2022-09-26T14:22:55.724Z"
   },
   {
    "duration": 10,
    "start_time": "2022-09-26T14:22:55.732Z"
   },
   {
    "duration": 895,
    "start_time": "2022-09-26T14:22:55.745Z"
   },
   {
    "duration": 20889,
    "start_time": "2022-09-26T14:22:56.642Z"
   },
   {
    "duration": 137,
    "start_time": "2022-09-26T14:23:17.536Z"
   },
   {
    "duration": 35,
    "start_time": "2022-09-26T14:23:17.675Z"
   },
   {
    "duration": 97,
    "start_time": "2022-09-26T14:23:17.712Z"
   },
   {
    "duration": 100,
    "start_time": "2022-09-26T14:23:17.895Z"
   },
   {
    "duration": 465,
    "start_time": "2022-09-26T14:23:17.998Z"
   },
   {
    "duration": 36,
    "start_time": "2022-09-26T14:23:18.464Z"
   },
   {
    "duration": 96,
    "start_time": "2022-09-26T14:23:18.503Z"
   },
   {
    "duration": 7,
    "start_time": "2022-09-26T14:23:18.602Z"
   },
   {
    "duration": 93,
    "start_time": "2022-09-26T14:23:18.611Z"
   },
   {
    "duration": 202,
    "start_time": "2022-09-26T14:23:18.705Z"
   },
   {
    "duration": 287,
    "start_time": "2022-09-26T14:23:18.909Z"
   },
   {
    "duration": 101,
    "start_time": "2022-09-26T14:23:19.198Z"
   },
   {
    "duration": 343,
    "start_time": "2022-09-26T14:23:19.301Z"
   },
   {
    "duration": 24,
    "start_time": "2022-09-26T14:23:19.646Z"
   },
   {
    "duration": 80,
    "start_time": "2022-09-26T14:23:19.672Z"
   },
   {
    "duration": 312,
    "start_time": "2022-09-26T14:23:19.754Z"
   },
   {
    "duration": 335,
    "start_time": "2022-09-26T14:23:20.068Z"
   },
   {
    "duration": 15,
    "start_time": "2022-09-26T14:23:20.494Z"
   },
   {
    "duration": 11,
    "start_time": "2022-09-26T14:23:20.596Z"
   },
   {
    "duration": 343,
    "start_time": "2022-09-26T14:23:20.609Z"
   },
   {
    "duration": 349,
    "start_time": "2022-09-26T14:23:20.953Z"
   },
   {
    "duration": 17,
    "start_time": "2022-09-26T14:23:21.304Z"
   },
   {
    "duration": 26,
    "start_time": "2022-09-26T14:23:21.323Z"
   },
   {
    "duration": 5,
    "start_time": "2022-09-26T14:23:21.351Z"
   },
   {
    "duration": 8,
    "start_time": "2022-09-26T14:23:21.357Z"
   },
   {
    "duration": 1421,
    "start_time": "2022-09-26T14:29:10.920Z"
   },
   {
    "duration": 56,
    "start_time": "2022-09-26T14:29:12.343Z"
   },
   {
    "duration": 13,
    "start_time": "2022-09-26T14:29:12.401Z"
   },
   {
    "duration": 4,
    "start_time": "2022-09-26T14:29:12.416Z"
   },
   {
    "duration": 7,
    "start_time": "2022-09-26T14:29:12.422Z"
   },
   {
    "duration": 6,
    "start_time": "2022-09-26T14:29:12.431Z"
   },
   {
    "duration": 28,
    "start_time": "2022-09-26T14:29:12.439Z"
   },
   {
    "duration": 34,
    "start_time": "2022-09-26T14:29:12.469Z"
   },
   {
    "duration": 14,
    "start_time": "2022-09-26T14:29:12.504Z"
   },
   {
    "duration": 6,
    "start_time": "2022-09-26T14:29:12.521Z"
   },
   {
    "duration": 20,
    "start_time": "2022-09-26T14:29:12.529Z"
   },
   {
    "duration": 7,
    "start_time": "2022-09-26T14:29:12.551Z"
   },
   {
    "duration": 11,
    "start_time": "2022-09-26T14:29:12.560Z"
   },
   {
    "duration": 12,
    "start_time": "2022-09-26T14:29:12.596Z"
   },
   {
    "duration": 14,
    "start_time": "2022-09-26T14:29:12.610Z"
   },
   {
    "duration": 17,
    "start_time": "2022-09-26T14:29:12.625Z"
   },
   {
    "duration": 60,
    "start_time": "2022-09-26T14:29:12.643Z"
   },
   {
    "duration": 18,
    "start_time": "2022-09-26T14:29:12.705Z"
   },
   {
    "duration": 400,
    "start_time": "2022-09-26T14:29:12.725Z"
   },
   {
    "duration": 156,
    "start_time": "2022-09-26T14:29:13.126Z"
   },
   {
    "duration": 12,
    "start_time": "2022-09-26T14:29:13.283Z"
   },
   {
    "duration": 8,
    "start_time": "2022-09-26T14:29:13.297Z"
   },
   {
    "duration": 140,
    "start_time": "2022-09-26T14:29:13.307Z"
   },
   {
    "duration": 7,
    "start_time": "2022-09-26T14:29:13.449Z"
   },
   {
    "duration": 12,
    "start_time": "2022-09-26T14:29:13.457Z"
   },
   {
    "duration": 856,
    "start_time": "2022-09-26T14:29:13.471Z"
   },
   {
    "duration": 21066,
    "start_time": "2022-09-26T14:29:14.329Z"
   },
   {
    "duration": 149,
    "start_time": "2022-09-26T14:29:35.400Z"
   },
   {
    "duration": 20,
    "start_time": "2022-09-26T14:29:35.551Z"
   },
   {
    "duration": 68,
    "start_time": "2022-09-26T14:29:35.574Z"
   },
   {
    "duration": 103,
    "start_time": "2022-09-26T14:29:35.697Z"
   },
   {
    "duration": 477,
    "start_time": "2022-09-26T14:29:35.801Z"
   },
   {
    "duration": 119,
    "start_time": "2022-09-26T14:29:36.280Z"
   },
   {
    "duration": 96,
    "start_time": "2022-09-26T14:29:36.401Z"
   },
   {
    "duration": 8,
    "start_time": "2022-09-26T14:29:36.499Z"
   },
   {
    "duration": 52,
    "start_time": "2022-09-26T14:29:36.509Z"
   },
   {
    "duration": 237,
    "start_time": "2022-09-26T14:29:36.563Z"
   },
   {
    "duration": 193,
    "start_time": "2022-09-26T14:29:36.802Z"
   },
   {
    "duration": 97,
    "start_time": "2022-09-26T14:29:36.998Z"
   },
   {
    "duration": 339,
    "start_time": "2022-09-26T14:29:37.098Z"
   },
   {
    "duration": 26,
    "start_time": "2022-09-26T14:29:37.439Z"
   },
   {
    "duration": 71,
    "start_time": "2022-09-26T14:29:37.467Z"
   },
   {
    "duration": 290,
    "start_time": "2022-09-26T14:29:37.540Z"
   },
   {
    "duration": 263,
    "start_time": "2022-09-26T14:29:37.832Z"
   },
   {
    "duration": 14,
    "start_time": "2022-09-26T14:29:38.097Z"
   },
   {
    "duration": 13,
    "start_time": "2022-09-26T14:29:38.196Z"
   },
   {
    "duration": 340,
    "start_time": "2022-09-26T14:29:38.211Z"
   },
   {
    "duration": 338,
    "start_time": "2022-09-26T14:29:38.553Z"
   },
   {
    "duration": 17,
    "start_time": "2022-09-26T14:29:38.894Z"
   },
   {
    "duration": 28,
    "start_time": "2022-09-26T14:29:38.913Z"
   },
   {
    "duration": 5,
    "start_time": "2022-09-26T14:29:38.942Z"
   },
   {
    "duration": 6,
    "start_time": "2022-09-26T14:29:38.949Z"
   },
   {
    "duration": 1567,
    "start_time": "2022-09-26T14:30:45.199Z"
   },
   {
    "duration": 83,
    "start_time": "2022-09-26T14:30:46.769Z"
   },
   {
    "duration": 22,
    "start_time": "2022-09-26T14:30:46.854Z"
   },
   {
    "duration": 5,
    "start_time": "2022-09-26T14:30:46.878Z"
   },
   {
    "duration": 8,
    "start_time": "2022-09-26T14:30:46.895Z"
   },
   {
    "duration": 12,
    "start_time": "2022-09-26T14:30:46.905Z"
   },
   {
    "duration": 7,
    "start_time": "2022-09-26T14:30:46.918Z"
   },
   {
    "duration": 15,
    "start_time": "2022-09-26T14:30:46.927Z"
   },
   {
    "duration": 15,
    "start_time": "2022-09-26T14:30:46.944Z"
   },
   {
    "duration": 5,
    "start_time": "2022-09-26T14:30:46.995Z"
   },
   {
    "duration": 12,
    "start_time": "2022-09-26T14:30:47.001Z"
   },
   {
    "duration": 8,
    "start_time": "2022-09-26T14:30:47.014Z"
   },
   {
    "duration": 16,
    "start_time": "2022-09-26T14:30:47.024Z"
   },
   {
    "duration": 11,
    "start_time": "2022-09-26T14:30:47.042Z"
   },
   {
    "duration": 45,
    "start_time": "2022-09-26T14:30:47.055Z"
   },
   {
    "duration": 20,
    "start_time": "2022-09-26T14:30:47.102Z"
   },
   {
    "duration": 32,
    "start_time": "2022-09-26T14:30:47.123Z"
   },
   {
    "duration": 43,
    "start_time": "2022-09-26T14:30:47.157Z"
   },
   {
    "duration": 387,
    "start_time": "2022-09-26T14:30:47.202Z"
   },
   {
    "duration": 162,
    "start_time": "2022-09-26T14:30:47.591Z"
   },
   {
    "duration": 5,
    "start_time": "2022-09-26T14:30:47.755Z"
   },
   {
    "duration": 11,
    "start_time": "2022-09-26T14:30:47.762Z"
   },
   {
    "duration": 153,
    "start_time": "2022-09-26T14:30:47.775Z"
   },
   {
    "duration": 7,
    "start_time": "2022-09-26T14:30:47.930Z"
   },
   {
    "duration": 14,
    "start_time": "2022-09-26T14:30:47.940Z"
   },
   {
    "duration": 900,
    "start_time": "2022-09-26T14:30:47.956Z"
   },
   {
    "duration": 21447,
    "start_time": "2022-09-26T14:30:48.858Z"
   },
   {
    "duration": 147,
    "start_time": "2022-09-26T14:31:10.309Z"
   },
   {
    "duration": 46,
    "start_time": "2022-09-26T14:31:10.457Z"
   },
   {
    "duration": 90,
    "start_time": "2022-09-26T14:31:10.505Z"
   },
   {
    "duration": 102,
    "start_time": "2022-09-26T14:31:10.597Z"
   },
   {
    "duration": 472,
    "start_time": "2022-09-26T14:31:10.701Z"
   },
   {
    "duration": 22,
    "start_time": "2022-09-26T14:31:11.174Z"
   },
   {
    "duration": 204,
    "start_time": "2022-09-26T14:31:11.198Z"
   },
   {
    "duration": 17,
    "start_time": "2022-09-26T14:31:11.404Z"
   },
   {
    "duration": 43,
    "start_time": "2022-09-26T14:31:11.423Z"
   },
   {
    "duration": 204,
    "start_time": "2022-09-26T14:31:11.468Z"
   },
   {
    "duration": 222,
    "start_time": "2022-09-26T14:31:11.674Z"
   },
   {
    "duration": 98,
    "start_time": "2022-09-26T14:31:11.898Z"
   },
   {
    "duration": 334,
    "start_time": "2022-09-26T14:31:11.998Z"
   },
   {
    "duration": 26,
    "start_time": "2022-09-26T14:31:12.334Z"
   },
   {
    "duration": 74,
    "start_time": "2022-09-26T14:31:12.361Z"
   },
   {
    "duration": 285,
    "start_time": "2022-09-26T14:31:12.437Z"
   },
   {
    "duration": 275,
    "start_time": "2022-09-26T14:31:12.725Z"
   },
   {
    "duration": 95,
    "start_time": "2022-09-26T14:31:13.002Z"
   },
   {
    "duration": 8,
    "start_time": "2022-09-26T14:31:13.098Z"
   },
   {
    "duration": 373,
    "start_time": "2022-09-26T14:31:13.108Z"
   },
   {
    "duration": 369,
    "start_time": "2022-09-26T14:31:13.483Z"
   },
   {
    "duration": 17,
    "start_time": "2022-09-26T14:31:13.854Z"
   },
   {
    "duration": 41,
    "start_time": "2022-09-26T14:31:13.873Z"
   },
   {
    "duration": 5,
    "start_time": "2022-09-26T14:31:13.916Z"
   },
   {
    "duration": 20,
    "start_time": "2022-09-26T14:31:13.922Z"
   },
   {
    "duration": 1708,
    "start_time": "2022-09-26T14:32:44.665Z"
   },
   {
    "duration": 59,
    "start_time": "2022-09-26T14:32:46.376Z"
   },
   {
    "duration": 14,
    "start_time": "2022-09-26T14:32:46.436Z"
   },
   {
    "duration": 6,
    "start_time": "2022-09-26T14:32:46.452Z"
   },
   {
    "duration": 10,
    "start_time": "2022-09-26T14:32:46.460Z"
   },
   {
    "duration": 7,
    "start_time": "2022-09-26T14:32:46.472Z"
   },
   {
    "duration": 27,
    "start_time": "2022-09-26T14:32:46.481Z"
   },
   {
    "duration": 19,
    "start_time": "2022-09-26T14:32:46.510Z"
   },
   {
    "duration": 23,
    "start_time": "2022-09-26T14:32:46.530Z"
   },
   {
    "duration": 7,
    "start_time": "2022-09-26T14:32:46.555Z"
   },
   {
    "duration": 61,
    "start_time": "2022-09-26T14:32:46.563Z"
   },
   {
    "duration": 18,
    "start_time": "2022-09-26T14:32:46.626Z"
   },
   {
    "duration": 32,
    "start_time": "2022-09-26T14:32:46.646Z"
   },
   {
    "duration": 17,
    "start_time": "2022-09-26T14:32:46.683Z"
   },
   {
    "duration": 18,
    "start_time": "2022-09-26T14:32:46.703Z"
   },
   {
    "duration": 38,
    "start_time": "2022-09-26T14:32:46.723Z"
   },
   {
    "duration": 52,
    "start_time": "2022-09-26T14:32:46.764Z"
   },
   {
    "duration": 19,
    "start_time": "2022-09-26T14:32:46.818Z"
   },
   {
    "duration": 401,
    "start_time": "2022-09-26T14:32:46.839Z"
   },
   {
    "duration": 159,
    "start_time": "2022-09-26T14:32:47.242Z"
   },
   {
    "duration": 4,
    "start_time": "2022-09-26T14:32:47.403Z"
   },
   {
    "duration": 14,
    "start_time": "2022-09-26T14:32:47.408Z"
   },
   {
    "duration": 146,
    "start_time": "2022-09-26T14:32:47.424Z"
   },
   {
    "duration": 6,
    "start_time": "2022-09-26T14:32:47.573Z"
   },
   {
    "duration": 16,
    "start_time": "2022-09-26T14:32:47.581Z"
   },
   {
    "duration": 829,
    "start_time": "2022-09-26T14:32:47.598Z"
   },
   {
    "duration": 21900,
    "start_time": "2022-09-26T14:32:48.429Z"
   },
   {
    "duration": 142,
    "start_time": "2022-09-26T14:33:10.331Z"
   },
   {
    "duration": 47,
    "start_time": "2022-09-26T14:33:10.476Z"
   },
   {
    "duration": 70,
    "start_time": "2022-09-26T14:33:10.525Z"
   },
   {
    "duration": 99,
    "start_time": "2022-09-26T14:33:10.597Z"
   },
   {
    "duration": 369,
    "start_time": "2022-09-26T14:33:10.698Z"
   },
   {
    "duration": 28,
    "start_time": "2022-09-26T14:33:11.069Z"
   },
   {
    "duration": 96,
    "start_time": "2022-09-26T14:33:11.099Z"
   },
   {
    "duration": 10,
    "start_time": "2022-09-26T14:33:11.198Z"
   },
   {
    "duration": 96,
    "start_time": "2022-09-26T14:33:11.210Z"
   },
   {
    "duration": 217,
    "start_time": "2022-09-26T14:33:11.308Z"
   },
   {
    "duration": 172,
    "start_time": "2022-09-26T14:33:11.528Z"
   },
   {
    "duration": 93,
    "start_time": "2022-09-26T14:33:11.702Z"
   },
   {
    "duration": 434,
    "start_time": "2022-09-26T14:33:11.798Z"
   },
   {
    "duration": 26,
    "start_time": "2022-09-26T14:33:12.236Z"
   },
   {
    "duration": 76,
    "start_time": "2022-09-26T14:33:12.263Z"
   },
   {
    "duration": 288,
    "start_time": "2022-09-26T14:33:12.341Z"
   },
   {
    "duration": 368,
    "start_time": "2022-09-26T14:33:12.631Z"
   },
   {
    "duration": 97,
    "start_time": "2022-09-26T14:33:13.001Z"
   },
   {
    "duration": 12,
    "start_time": "2022-09-26T14:33:13.100Z"
   },
   {
    "duration": 381,
    "start_time": "2022-09-26T14:33:13.114Z"
   },
   {
    "duration": 347,
    "start_time": "2022-09-26T14:33:13.497Z"
   },
   {
    "duration": 17,
    "start_time": "2022-09-26T14:33:13.846Z"
   },
   {
    "duration": 58,
    "start_time": "2022-09-26T14:33:13.865Z"
   },
   {
    "duration": 6,
    "start_time": "2022-09-26T14:33:13.925Z"
   },
   {
    "duration": 8,
    "start_time": "2022-09-26T14:33:13.933Z"
   },
   {
    "duration": 88,
    "start_time": "2022-09-26T14:33:42.178Z"
   },
   {
    "duration": 9,
    "start_time": "2022-09-26T14:33:48.553Z"
   },
   {
    "duration": 86,
    "start_time": "2022-09-26T14:34:25.803Z"
   },
   {
    "duration": 9,
    "start_time": "2022-09-26T14:35:42.429Z"
   },
   {
    "duration": 16,
    "start_time": "2022-09-26T14:36:25.087Z"
   },
   {
    "duration": 1451,
    "start_time": "2022-09-26T15:06:59.666Z"
   },
   {
    "duration": 57,
    "start_time": "2022-09-26T15:07:01.119Z"
   },
   {
    "duration": 14,
    "start_time": "2022-09-26T15:07:01.178Z"
   },
   {
    "duration": 14,
    "start_time": "2022-09-26T15:07:01.194Z"
   },
   {
    "duration": 25,
    "start_time": "2022-09-26T15:07:01.210Z"
   },
   {
    "duration": 20,
    "start_time": "2022-09-26T15:07:01.237Z"
   },
   {
    "duration": 26,
    "start_time": "2022-09-26T15:07:01.259Z"
   },
   {
    "duration": 15,
    "start_time": "2022-09-26T15:07:01.287Z"
   },
   {
    "duration": 31,
    "start_time": "2022-09-26T15:07:01.304Z"
   },
   {
    "duration": 7,
    "start_time": "2022-09-26T15:07:01.337Z"
   },
   {
    "duration": 11,
    "start_time": "2022-09-26T15:07:01.346Z"
   },
   {
    "duration": 23,
    "start_time": "2022-09-26T15:07:01.358Z"
   },
   {
    "duration": 39,
    "start_time": "2022-09-26T15:07:01.382Z"
   },
   {
    "duration": 18,
    "start_time": "2022-09-26T15:07:01.422Z"
   },
   {
    "duration": 17,
    "start_time": "2022-09-26T15:07:01.442Z"
   },
   {
    "duration": 16,
    "start_time": "2022-09-26T15:07:01.461Z"
   },
   {
    "duration": 32,
    "start_time": "2022-09-26T15:07:01.479Z"
   },
   {
    "duration": 14,
    "start_time": "2022-09-26T15:07:01.512Z"
   },
   {
    "duration": 545,
    "start_time": "2022-09-26T15:07:01.528Z"
   },
   {
    "duration": 242,
    "start_time": "2022-09-26T15:07:02.076Z"
   },
   {
    "duration": 0,
    "start_time": "2022-09-26T15:07:02.321Z"
   },
   {
    "duration": 0,
    "start_time": "2022-09-26T15:07:02.322Z"
   },
   {
    "duration": 0,
    "start_time": "2022-09-26T15:07:02.323Z"
   },
   {
    "duration": 0,
    "start_time": "2022-09-26T15:07:02.324Z"
   },
   {
    "duration": 0,
    "start_time": "2022-09-26T15:07:02.325Z"
   },
   {
    "duration": 0,
    "start_time": "2022-09-26T15:07:02.326Z"
   },
   {
    "duration": 0,
    "start_time": "2022-09-26T15:07:02.327Z"
   },
   {
    "duration": 0,
    "start_time": "2022-09-26T15:07:02.328Z"
   },
   {
    "duration": 0,
    "start_time": "2022-09-26T15:07:02.329Z"
   },
   {
    "duration": 0,
    "start_time": "2022-09-26T15:07:02.330Z"
   },
   {
    "duration": 0,
    "start_time": "2022-09-26T15:07:02.331Z"
   },
   {
    "duration": 0,
    "start_time": "2022-09-26T15:07:02.332Z"
   },
   {
    "duration": 0,
    "start_time": "2022-09-26T15:07:02.333Z"
   },
   {
    "duration": 0,
    "start_time": "2022-09-26T15:07:02.334Z"
   },
   {
    "duration": 0,
    "start_time": "2022-09-26T15:07:02.336Z"
   },
   {
    "duration": 0,
    "start_time": "2022-09-26T15:07:02.337Z"
   },
   {
    "duration": 0,
    "start_time": "2022-09-26T15:07:02.338Z"
   },
   {
    "duration": 0,
    "start_time": "2022-09-26T15:07:02.339Z"
   },
   {
    "duration": 0,
    "start_time": "2022-09-26T15:07:02.340Z"
   },
   {
    "duration": 1,
    "start_time": "2022-09-26T15:07:02.340Z"
   },
   {
    "duration": 0,
    "start_time": "2022-09-26T15:07:02.342Z"
   },
   {
    "duration": 0,
    "start_time": "2022-09-26T15:07:02.343Z"
   },
   {
    "duration": 0,
    "start_time": "2022-09-26T15:07:02.344Z"
   },
   {
    "duration": 0,
    "start_time": "2022-09-26T15:07:02.345Z"
   },
   {
    "duration": 0,
    "start_time": "2022-09-26T15:07:02.346Z"
   },
   {
    "duration": 0,
    "start_time": "2022-09-26T15:07:02.348Z"
   },
   {
    "duration": 0,
    "start_time": "2022-09-26T15:07:02.395Z"
   },
   {
    "duration": 0,
    "start_time": "2022-09-26T15:07:02.396Z"
   },
   {
    "duration": 0,
    "start_time": "2022-09-26T15:07:02.398Z"
   },
   {
    "duration": 0,
    "start_time": "2022-09-26T15:07:02.399Z"
   },
   {
    "duration": 0,
    "start_time": "2022-09-26T15:07:02.400Z"
   },
   {
    "duration": 0,
    "start_time": "2022-09-26T15:07:02.401Z"
   },
   {
    "duration": 146,
    "start_time": "2022-09-26T15:07:45.963Z"
   },
   {
    "duration": 4,
    "start_time": "2022-09-26T15:07:47.762Z"
   },
   {
    "duration": 1408,
    "start_time": "2022-09-26T15:07:53.662Z"
   },
   {
    "duration": 56,
    "start_time": "2022-09-26T15:07:55.072Z"
   },
   {
    "duration": 14,
    "start_time": "2022-09-26T15:07:55.130Z"
   },
   {
    "duration": 4,
    "start_time": "2022-09-26T15:07:55.145Z"
   },
   {
    "duration": 13,
    "start_time": "2022-09-26T15:07:55.152Z"
   },
   {
    "duration": 8,
    "start_time": "2022-09-26T15:07:55.167Z"
   },
   {
    "duration": 25,
    "start_time": "2022-09-26T15:07:55.176Z"
   },
   {
    "duration": 11,
    "start_time": "2022-09-26T15:07:55.203Z"
   },
   {
    "duration": 14,
    "start_time": "2022-09-26T15:07:55.216Z"
   },
   {
    "duration": 6,
    "start_time": "2022-09-26T15:07:55.232Z"
   },
   {
    "duration": 8,
    "start_time": "2022-09-26T15:07:55.240Z"
   },
   {
    "duration": 10,
    "start_time": "2022-09-26T15:07:55.250Z"
   },
   {
    "duration": 40,
    "start_time": "2022-09-26T15:07:55.261Z"
   },
   {
    "duration": 12,
    "start_time": "2022-09-26T15:07:55.304Z"
   },
   {
    "duration": 14,
    "start_time": "2022-09-26T15:07:55.317Z"
   },
   {
    "duration": 16,
    "start_time": "2022-09-26T15:07:55.332Z"
   },
   {
    "duration": 56,
    "start_time": "2022-09-26T15:07:55.350Z"
   },
   {
    "duration": 14,
    "start_time": "2022-09-26T15:07:55.407Z"
   },
   {
    "duration": 541,
    "start_time": "2022-09-26T15:07:55.423Z"
   },
   {
    "duration": 153,
    "start_time": "2022-09-26T15:07:55.966Z"
   },
   {
    "duration": 3,
    "start_time": "2022-09-26T15:07:56.120Z"
   },
   {
    "duration": 21,
    "start_time": "2022-09-26T15:07:56.125Z"
   },
   {
    "duration": 124,
    "start_time": "2022-09-26T15:07:56.147Z"
   },
   {
    "duration": 6,
    "start_time": "2022-09-26T15:07:56.273Z"
   },
   {
    "duration": 17,
    "start_time": "2022-09-26T15:07:56.281Z"
   },
   {
    "duration": 863,
    "start_time": "2022-09-26T15:07:56.300Z"
   },
   {
    "duration": 20682,
    "start_time": "2022-09-26T15:07:57.165Z"
   },
   {
    "duration": 131,
    "start_time": "2022-09-26T15:08:17.849Z"
   },
   {
    "duration": 40,
    "start_time": "2022-09-26T15:08:17.982Z"
   },
   {
    "duration": 71,
    "start_time": "2022-09-26T15:08:18.024Z"
   },
   {
    "duration": 98,
    "start_time": "2022-09-26T15:08:18.097Z"
   },
   {
    "duration": 373,
    "start_time": "2022-09-26T15:08:18.197Z"
   },
   {
    "duration": 24,
    "start_time": "2022-09-26T15:08:18.572Z"
   },
   {
    "duration": 114,
    "start_time": "2022-09-26T15:08:18.598Z"
   },
   {
    "duration": 83,
    "start_time": "2022-09-26T15:08:18.714Z"
   },
   {
    "duration": 44,
    "start_time": "2022-09-26T15:08:18.799Z"
   },
   {
    "duration": 203,
    "start_time": "2022-09-26T15:08:18.845Z"
   },
   {
    "duration": 253,
    "start_time": "2022-09-26T15:08:19.050Z"
   },
   {
    "duration": 100,
    "start_time": "2022-09-26T15:08:19.305Z"
   },
   {
    "duration": 457,
    "start_time": "2022-09-26T15:08:19.407Z"
   },
   {
    "duration": 140,
    "start_time": "2022-09-26T15:08:19.870Z"
   },
   {
    "duration": 259,
    "start_time": "2022-09-26T15:08:20.011Z"
   },
   {
    "duration": 1295,
    "start_time": "2022-09-26T15:08:20.272Z"
   },
   {
    "duration": 832,
    "start_time": "2022-09-26T15:08:21.569Z"
   },
   {
    "duration": 99,
    "start_time": "2022-09-26T15:08:22.404Z"
   },
   {
    "duration": 99,
    "start_time": "2022-09-26T15:08:22.505Z"
   },
   {
    "duration": 360,
    "start_time": "2022-09-26T15:08:22.606Z"
   },
   {
    "duration": 325,
    "start_time": "2022-09-26T15:08:22.967Z"
   },
   {
    "duration": 16,
    "start_time": "2022-09-26T15:08:23.295Z"
   },
   {
    "duration": 25,
    "start_time": "2022-09-26T15:08:23.313Z"
   },
   {
    "duration": 5,
    "start_time": "2022-09-26T15:08:23.340Z"
   },
   {
    "duration": 16,
    "start_time": "2022-09-26T15:08:23.346Z"
   },
   {
    "duration": 1404,
    "start_time": "2022-09-26T15:09:10.777Z"
   },
   {
    "duration": 57,
    "start_time": "2022-09-26T15:09:12.183Z"
   },
   {
    "duration": 13,
    "start_time": "2022-09-26T15:09:12.242Z"
   },
   {
    "duration": 5,
    "start_time": "2022-09-26T15:09:12.257Z"
   },
   {
    "duration": 17,
    "start_time": "2022-09-26T15:09:12.263Z"
   },
   {
    "duration": 7,
    "start_time": "2022-09-26T15:09:12.282Z"
   },
   {
    "duration": 23,
    "start_time": "2022-09-26T15:09:12.290Z"
   },
   {
    "duration": 14,
    "start_time": "2022-09-26T15:09:12.315Z"
   },
   {
    "duration": 27,
    "start_time": "2022-09-26T15:09:12.331Z"
   },
   {
    "duration": 15,
    "start_time": "2022-09-26T15:09:12.361Z"
   },
   {
    "duration": 15,
    "start_time": "2022-09-26T15:09:12.377Z"
   },
   {
    "duration": 22,
    "start_time": "2022-09-26T15:09:12.393Z"
   },
   {
    "duration": 24,
    "start_time": "2022-09-26T15:09:12.417Z"
   },
   {
    "duration": 25,
    "start_time": "2022-09-26T15:09:12.443Z"
   },
   {
    "duration": 20,
    "start_time": "2022-09-26T15:09:12.469Z"
   },
   {
    "duration": 20,
    "start_time": "2022-09-26T15:09:12.491Z"
   },
   {
    "duration": 37,
    "start_time": "2022-09-26T15:09:12.513Z"
   },
   {
    "duration": 14,
    "start_time": "2022-09-26T15:09:12.552Z"
   },
   {
    "duration": 542,
    "start_time": "2022-09-26T15:09:12.568Z"
   },
   {
    "duration": 171,
    "start_time": "2022-09-26T15:09:13.112Z"
   },
   {
    "duration": 12,
    "start_time": "2022-09-26T15:09:13.286Z"
   },
   {
    "duration": 14,
    "start_time": "2022-09-26T15:09:13.300Z"
   },
   {
    "duration": 138,
    "start_time": "2022-09-26T15:09:13.316Z"
   },
   {
    "duration": 7,
    "start_time": "2022-09-26T15:09:13.456Z"
   },
   {
    "duration": 9,
    "start_time": "2022-09-26T15:09:13.465Z"
   },
   {
    "duration": 831,
    "start_time": "2022-09-26T15:09:13.495Z"
   },
   {
    "duration": 20211,
    "start_time": "2022-09-26T15:09:14.328Z"
   },
   {
    "duration": 145,
    "start_time": "2022-09-26T15:09:34.542Z"
   },
   {
    "duration": 37,
    "start_time": "2022-09-26T15:09:34.689Z"
   },
   {
    "duration": 71,
    "start_time": "2022-09-26T15:09:34.728Z"
   },
   {
    "duration": 99,
    "start_time": "2022-09-26T15:09:34.802Z"
   },
   {
    "duration": 466,
    "start_time": "2022-09-26T15:09:34.903Z"
   },
   {
    "duration": 27,
    "start_time": "2022-09-26T15:09:35.371Z"
   },
   {
    "duration": 103,
    "start_time": "2022-09-26T15:09:35.400Z"
   },
   {
    "duration": 7,
    "start_time": "2022-09-26T15:09:35.510Z"
   },
   {
    "duration": 43,
    "start_time": "2022-09-26T15:09:35.596Z"
   },
   {
    "duration": 194,
    "start_time": "2022-09-26T15:09:35.642Z"
   },
   {
    "duration": 257,
    "start_time": "2022-09-26T15:09:35.837Z"
   },
   {
    "duration": 100,
    "start_time": "2022-09-26T15:09:36.097Z"
   },
   {
    "duration": 338,
    "start_time": "2022-09-26T15:09:36.199Z"
   },
   {
    "duration": 21,
    "start_time": "2022-09-26T15:09:36.539Z"
   },
   {
    "duration": 70,
    "start_time": "2022-09-26T15:09:36.562Z"
   },
   {
    "duration": 228,
    "start_time": "2022-09-26T15:09:36.634Z"
   },
   {
    "duration": 336,
    "start_time": "2022-09-26T15:09:36.865Z"
   },
   {
    "duration": 100,
    "start_time": "2022-09-26T15:09:37.203Z"
   },
   {
    "duration": 103,
    "start_time": "2022-09-26T15:09:37.305Z"
   },
   {
    "duration": 319,
    "start_time": "2022-09-26T15:09:37.410Z"
   },
   {
    "duration": 307,
    "start_time": "2022-09-26T15:09:37.731Z"
   },
   {
    "duration": 17,
    "start_time": "2022-09-26T15:09:38.041Z"
   },
   {
    "duration": 44,
    "start_time": "2022-09-26T15:09:38.060Z"
   },
   {
    "duration": 280,
    "start_time": "2022-09-26T15:09:38.105Z"
   },
   {
    "duration": 0,
    "start_time": "2022-09-26T15:09:38.387Z"
   },
   {
    "duration": 133,
    "start_time": "2022-09-26T15:41:04.314Z"
   },
   {
    "duration": 112,
    "start_time": "2022-09-26T15:41:24.213Z"
   },
   {
    "duration": 17,
    "start_time": "2022-09-26T15:41:25.513Z"
   },
   {
    "duration": 161,
    "start_time": "2022-09-26T15:41:26.499Z"
   },
   {
    "duration": 26,
    "start_time": "2022-09-26T15:41:28.689Z"
   },
   {
    "duration": 201,
    "start_time": "2022-09-26T16:17:19.486Z"
   },
   {
    "duration": 147,
    "start_time": "2022-09-26T16:17:24.426Z"
   },
   {
    "duration": 246,
    "start_time": "2022-09-26T16:17:31.911Z"
   },
   {
    "duration": 1393,
    "start_time": "2022-09-26T17:34:17.755Z"
   },
   {
    "duration": 59,
    "start_time": "2022-09-26T17:34:19.150Z"
   },
   {
    "duration": 13,
    "start_time": "2022-09-26T17:34:19.211Z"
   },
   {
    "duration": 4,
    "start_time": "2022-09-26T17:34:19.226Z"
   },
   {
    "duration": 6,
    "start_time": "2022-09-26T17:34:19.232Z"
   },
   {
    "duration": 6,
    "start_time": "2022-09-26T17:34:19.239Z"
   },
   {
    "duration": 12,
    "start_time": "2022-09-26T17:34:19.246Z"
   },
   {
    "duration": 48,
    "start_time": "2022-09-26T17:34:19.259Z"
   },
   {
    "duration": 17,
    "start_time": "2022-09-26T17:34:19.308Z"
   },
   {
    "duration": 4,
    "start_time": "2022-09-26T17:34:19.327Z"
   },
   {
    "duration": 10,
    "start_time": "2022-09-26T17:34:19.332Z"
   },
   {
    "duration": 6,
    "start_time": "2022-09-26T17:34:19.343Z"
   },
   {
    "duration": 13,
    "start_time": "2022-09-26T17:34:19.351Z"
   },
   {
    "duration": 40,
    "start_time": "2022-09-26T17:34:19.367Z"
   },
   {
    "duration": 12,
    "start_time": "2022-09-26T17:34:19.409Z"
   },
   {
    "duration": 16,
    "start_time": "2022-09-26T17:34:19.422Z"
   },
   {
    "duration": 59,
    "start_time": "2022-09-26T17:34:19.440Z"
   },
   {
    "duration": 17,
    "start_time": "2022-09-26T17:34:19.500Z"
   },
   {
    "duration": 534,
    "start_time": "2022-09-26T17:34:19.519Z"
   },
   {
    "duration": 169,
    "start_time": "2022-09-26T17:34:20.056Z"
   },
   {
    "duration": 4,
    "start_time": "2022-09-26T17:34:20.227Z"
   },
   {
    "duration": 12,
    "start_time": "2022-09-26T17:34:20.233Z"
   },
   {
    "duration": 150,
    "start_time": "2022-09-26T17:34:20.247Z"
   },
   {
    "duration": 11,
    "start_time": "2022-09-26T17:34:20.398Z"
   },
   {
    "duration": 12,
    "start_time": "2022-09-26T17:34:20.411Z"
   },
   {
    "duration": 863,
    "start_time": "2022-09-26T17:34:20.425Z"
   },
   {
    "duration": 21384,
    "start_time": "2022-09-26T17:34:21.291Z"
   },
   {
    "duration": 140,
    "start_time": "2022-09-26T17:34:42.677Z"
   },
   {
    "duration": 34,
    "start_time": "2022-09-26T17:34:42.820Z"
   },
   {
    "duration": 74,
    "start_time": "2022-09-26T17:34:42.857Z"
   },
   {
    "duration": 83,
    "start_time": "2022-09-26T17:34:42.933Z"
   },
   {
    "duration": 468,
    "start_time": "2022-09-26T17:34:43.105Z"
   },
   {
    "duration": 40,
    "start_time": "2022-09-26T17:34:43.575Z"
   },
   {
    "duration": 109,
    "start_time": "2022-09-26T17:34:43.617Z"
   },
   {
    "duration": 8,
    "start_time": "2022-09-26T17:34:43.728Z"
   },
   {
    "duration": 110,
    "start_time": "2022-09-26T17:34:43.737Z"
   },
   {
    "duration": 193,
    "start_time": "2022-09-26T17:34:43.848Z"
   },
   {
    "duration": 255,
    "start_time": "2022-09-26T17:34:44.042Z"
   },
   {
    "duration": 15,
    "start_time": "2022-09-26T17:34:44.299Z"
   },
   {
    "duration": 424,
    "start_time": "2022-09-26T17:34:44.316Z"
   },
   {
    "duration": 19,
    "start_time": "2022-09-26T17:34:44.744Z"
   },
   {
    "duration": 68,
    "start_time": "2022-09-26T17:34:44.764Z"
   },
   {
    "duration": 230,
    "start_time": "2022-09-26T17:34:44.833Z"
   },
   {
    "duration": 253,
    "start_time": "2022-09-26T17:34:45.065Z"
   },
   {
    "duration": 85,
    "start_time": "2022-09-26T17:34:45.320Z"
   },
   {
    "duration": 109,
    "start_time": "2022-09-26T17:34:45.409Z"
   },
   {
    "duration": 307,
    "start_time": "2022-09-26T17:34:45.519Z"
   },
   {
    "duration": 335,
    "start_time": "2022-09-26T17:34:45.827Z"
   },
   {
    "duration": 128,
    "start_time": "2022-09-26T17:34:46.163Z"
   },
   {
    "duration": 24,
    "start_time": "2022-09-26T17:34:46.292Z"
   },
   {
    "duration": 168,
    "start_time": "2022-09-26T17:34:46.317Z"
   },
   {
    "duration": 34,
    "start_time": "2022-09-26T17:34:46.488Z"
   },
   {
    "duration": 2,
    "start_time": "2022-09-26T17:41:21.681Z"
   },
   {
    "duration": 17,
    "start_time": "2022-09-26T17:41:23.668Z"
   },
   {
    "duration": 126,
    "start_time": "2022-09-26T17:41:26.067Z"
   },
   {
    "duration": 104,
    "start_time": "2022-09-26T17:41:39.844Z"
   },
   {
    "duration": 17,
    "start_time": "2022-09-26T17:41:41.017Z"
   },
   {
    "duration": 120,
    "start_time": "2022-09-26T17:41:41.969Z"
   },
   {
    "duration": 442,
    "start_time": "2022-09-26T17:47:07.734Z"
   },
   {
    "duration": 312,
    "start_time": "2022-09-26T17:47:13.620Z"
   },
   {
    "duration": 323,
    "start_time": "2022-09-26T17:48:01.221Z"
   },
   {
    "duration": 311,
    "start_time": "2022-09-26T17:48:20.070Z"
   },
   {
    "duration": 323,
    "start_time": "2022-09-26T17:49:16.920Z"
   },
   {
    "duration": 334,
    "start_time": "2022-09-26T17:49:28.482Z"
   },
   {
    "duration": 408,
    "start_time": "2022-09-26T17:49:35.269Z"
   },
   {
    "duration": 321,
    "start_time": "2022-09-26T17:49:46.082Z"
   },
   {
    "duration": 308,
    "start_time": "2022-09-26T17:49:54.282Z"
   },
   {
    "duration": 438,
    "start_time": "2022-09-26T17:51:29.346Z"
   },
   {
    "duration": 436,
    "start_time": "2022-09-26T17:52:19.871Z"
   },
   {
    "duration": 551,
    "start_time": "2022-09-26T17:52:41.208Z"
   },
   {
    "duration": 1449,
    "start_time": "2022-09-26T17:53:11.693Z"
   },
   {
    "duration": 58,
    "start_time": "2022-09-26T17:53:13.144Z"
   },
   {
    "duration": 14,
    "start_time": "2022-09-26T17:53:13.204Z"
   },
   {
    "duration": 5,
    "start_time": "2022-09-26T17:53:13.221Z"
   },
   {
    "duration": 9,
    "start_time": "2022-09-26T17:53:13.227Z"
   },
   {
    "duration": 19,
    "start_time": "2022-09-26T17:53:13.238Z"
   },
   {
    "duration": 13,
    "start_time": "2022-09-26T17:53:13.259Z"
   },
   {
    "duration": 30,
    "start_time": "2022-09-26T17:53:13.274Z"
   },
   {
    "duration": 14,
    "start_time": "2022-09-26T17:53:13.306Z"
   },
   {
    "duration": 4,
    "start_time": "2022-09-26T17:53:13.323Z"
   },
   {
    "duration": 9,
    "start_time": "2022-09-26T17:53:13.329Z"
   },
   {
    "duration": 11,
    "start_time": "2022-09-26T17:53:13.340Z"
   },
   {
    "duration": 13,
    "start_time": "2022-09-26T17:53:13.352Z"
   },
   {
    "duration": 37,
    "start_time": "2022-09-26T17:53:13.367Z"
   },
   {
    "duration": 13,
    "start_time": "2022-09-26T17:53:13.406Z"
   },
   {
    "duration": 16,
    "start_time": "2022-09-26T17:53:13.420Z"
   },
   {
    "duration": 31,
    "start_time": "2022-09-26T17:53:13.438Z"
   },
   {
    "duration": 14,
    "start_time": "2022-09-26T17:53:13.496Z"
   },
   {
    "duration": 512,
    "start_time": "2022-09-26T17:53:13.512Z"
   },
   {
    "duration": 161,
    "start_time": "2022-09-26T17:53:14.026Z"
   },
   {
    "duration": 8,
    "start_time": "2022-09-26T17:53:14.188Z"
   },
   {
    "duration": 14,
    "start_time": "2022-09-26T17:53:14.198Z"
   },
   {
    "duration": 136,
    "start_time": "2022-09-26T17:53:14.213Z"
   },
   {
    "duration": 7,
    "start_time": "2022-09-26T17:53:14.351Z"
   },
   {
    "duration": 10,
    "start_time": "2022-09-26T17:53:14.359Z"
   },
   {
    "duration": 850,
    "start_time": "2022-09-26T17:53:14.370Z"
   },
   {
    "duration": 20694,
    "start_time": "2022-09-26T17:53:15.221Z"
   },
   {
    "duration": 138,
    "start_time": "2022-09-26T17:53:35.918Z"
   },
   {
    "duration": 40,
    "start_time": "2022-09-26T17:53:36.058Z"
   },
   {
    "duration": 96,
    "start_time": "2022-09-26T17:53:36.099Z"
   },
   {
    "duration": 108,
    "start_time": "2022-09-26T17:53:36.197Z"
   },
   {
    "duration": 499,
    "start_time": "2022-09-26T17:53:36.396Z"
   },
   {
    "duration": 14,
    "start_time": "2022-09-26T17:53:36.897Z"
   },
   {
    "duration": 191,
    "start_time": "2022-09-26T17:53:36.913Z"
   },
   {
    "duration": 7,
    "start_time": "2022-09-26T17:53:37.105Z"
   },
   {
    "duration": 42,
    "start_time": "2022-09-26T17:53:37.114Z"
   },
   {
    "duration": 197,
    "start_time": "2022-09-26T17:53:37.158Z"
   },
   {
    "duration": 338,
    "start_time": "2022-09-26T17:53:37.357Z"
   },
   {
    "duration": 102,
    "start_time": "2022-09-26T17:53:37.698Z"
   },
   {
    "duration": 479,
    "start_time": "2022-09-26T17:53:37.802Z"
   },
   {
    "duration": 21,
    "start_time": "2022-09-26T17:53:38.283Z"
   },
   {
    "duration": 43,
    "start_time": "2022-09-26T17:53:38.305Z"
   },
   {
    "duration": 198,
    "start_time": "2022-09-26T17:53:38.349Z"
   },
   {
    "duration": 246,
    "start_time": "2022-09-26T17:53:38.549Z"
   },
   {
    "duration": 99,
    "start_time": "2022-09-26T17:53:38.799Z"
   },
   {
    "duration": 505,
    "start_time": "2022-09-26T17:53:38.900Z"
   },
   {
    "duration": 474,
    "start_time": "2022-09-26T17:53:39.407Z"
   },
   {
    "duration": 113,
    "start_time": "2022-09-26T17:53:39.883Z"
   },
   {
    "duration": 17,
    "start_time": "2022-09-26T17:53:39.997Z"
   },
   {
    "duration": 148,
    "start_time": "2022-09-26T17:53:40.016Z"
   },
   {
    "duration": 34,
    "start_time": "2022-09-26T17:53:40.166Z"
   },
   {
    "duration": 423,
    "start_time": "2022-09-26T17:55:03.376Z"
   },
   {
    "duration": 1419,
    "start_time": "2022-09-26T18:10:00.034Z"
   },
   {
    "duration": 58,
    "start_time": "2022-09-26T18:10:01.455Z"
   },
   {
    "duration": 15,
    "start_time": "2022-09-26T18:10:01.514Z"
   },
   {
    "duration": 11,
    "start_time": "2022-09-26T18:10:01.531Z"
   },
   {
    "duration": 12,
    "start_time": "2022-09-26T18:10:01.544Z"
   },
   {
    "duration": 10,
    "start_time": "2022-09-26T18:10:01.557Z"
   },
   {
    "duration": 28,
    "start_time": "2022-09-26T18:10:01.569Z"
   },
   {
    "duration": 16,
    "start_time": "2022-09-26T18:10:01.598Z"
   },
   {
    "duration": 16,
    "start_time": "2022-09-26T18:10:01.616Z"
   },
   {
    "duration": 7,
    "start_time": "2022-09-26T18:10:01.634Z"
   },
   {
    "duration": 12,
    "start_time": "2022-09-26T18:10:01.643Z"
   },
   {
    "duration": 21,
    "start_time": "2022-09-26T18:10:01.656Z"
   },
   {
    "duration": 22,
    "start_time": "2022-09-26T18:10:01.679Z"
   },
   {
    "duration": 17,
    "start_time": "2022-09-26T18:10:01.703Z"
   },
   {
    "duration": 18,
    "start_time": "2022-09-26T18:10:01.721Z"
   },
   {
    "duration": 16,
    "start_time": "2022-09-26T18:10:01.741Z"
   },
   {
    "duration": 52,
    "start_time": "2022-09-26T18:10:01.758Z"
   },
   {
    "duration": 15,
    "start_time": "2022-09-26T18:10:01.812Z"
   },
   {
    "duration": 530,
    "start_time": "2022-09-26T18:10:01.829Z"
   },
   {
    "duration": 170,
    "start_time": "2022-09-26T18:10:02.361Z"
   },
   {
    "duration": 4,
    "start_time": "2022-09-26T18:10:02.533Z"
   },
   {
    "duration": 17,
    "start_time": "2022-09-26T18:10:02.538Z"
   },
   {
    "duration": 141,
    "start_time": "2022-09-26T18:10:02.557Z"
   },
   {
    "duration": 7,
    "start_time": "2022-09-26T18:10:02.699Z"
   },
   {
    "duration": 12,
    "start_time": "2022-09-26T18:10:02.708Z"
   },
   {
    "duration": 867,
    "start_time": "2022-09-26T18:10:02.722Z"
   },
   {
    "duration": 20701,
    "start_time": "2022-09-26T18:10:03.594Z"
   },
   {
    "duration": 135,
    "start_time": "2022-09-26T18:10:24.298Z"
   },
   {
    "duration": 37,
    "start_time": "2022-09-26T18:10:24.435Z"
   },
   {
    "duration": 129,
    "start_time": "2022-09-26T18:10:24.474Z"
   },
   {
    "duration": 190,
    "start_time": "2022-09-26T18:10:24.606Z"
   },
   {
    "duration": 463,
    "start_time": "2022-09-26T18:10:24.798Z"
   },
   {
    "duration": 32,
    "start_time": "2022-09-26T18:10:25.264Z"
   },
   {
    "duration": 96,
    "start_time": "2022-09-26T18:10:25.299Z"
   },
   {
    "duration": 10,
    "start_time": "2022-09-26T18:10:25.398Z"
   },
   {
    "duration": 84,
    "start_time": "2022-09-26T18:10:25.411Z"
   },
   {
    "duration": 190,
    "start_time": "2022-09-26T18:10:25.497Z"
   },
   {
    "duration": 305,
    "start_time": "2022-09-26T18:10:25.690Z"
   },
   {
    "duration": 98,
    "start_time": "2022-09-26T18:10:25.998Z"
   },
   {
    "duration": 562,
    "start_time": "2022-09-26T18:10:26.098Z"
   },
   {
    "duration": 37,
    "start_time": "2022-09-26T18:10:26.662Z"
   },
   {
    "duration": 54,
    "start_time": "2022-09-26T18:10:26.701Z"
   },
   {
    "duration": 223,
    "start_time": "2022-09-26T18:10:26.758Z"
   },
   {
    "duration": 312,
    "start_time": "2022-09-26T18:10:26.983Z"
   },
   {
    "duration": 13,
    "start_time": "2022-09-26T18:10:27.297Z"
   },
   {
    "duration": 502,
    "start_time": "2022-09-26T18:10:27.312Z"
   },
   {
    "duration": 490,
    "start_time": "2022-09-26T18:10:27.816Z"
   },
   {
    "duration": 111,
    "start_time": "2022-09-26T18:10:28.307Z"
   },
   {
    "duration": 20,
    "start_time": "2022-09-26T18:10:28.420Z"
   },
   {
    "duration": 147,
    "start_time": "2022-09-26T18:10:28.442Z"
   },
   {
    "duration": 27,
    "start_time": "2022-09-26T18:10:28.595Z"
   },
   {
    "duration": 1415,
    "start_time": "2022-09-26T18:10:42.666Z"
   },
   {
    "duration": 53,
    "start_time": "2022-09-26T18:10:44.083Z"
   },
   {
    "duration": 14,
    "start_time": "2022-09-26T18:10:44.138Z"
   },
   {
    "duration": 4,
    "start_time": "2022-09-26T18:10:44.155Z"
   },
   {
    "duration": 7,
    "start_time": "2022-09-26T18:10:44.161Z"
   },
   {
    "duration": 8,
    "start_time": "2022-09-26T18:10:44.169Z"
   },
   {
    "duration": 23,
    "start_time": "2022-09-26T18:10:44.179Z"
   },
   {
    "duration": 14,
    "start_time": "2022-09-26T18:10:44.204Z"
   },
   {
    "duration": 19,
    "start_time": "2022-09-26T18:10:44.219Z"
   },
   {
    "duration": 4,
    "start_time": "2022-09-26T18:10:44.241Z"
   },
   {
    "duration": 10,
    "start_time": "2022-09-26T18:10:44.247Z"
   },
   {
    "duration": 6,
    "start_time": "2022-09-26T18:10:44.258Z"
   },
   {
    "duration": 34,
    "start_time": "2022-09-26T18:10:44.266Z"
   },
   {
    "duration": 12,
    "start_time": "2022-09-26T18:10:44.302Z"
   },
   {
    "duration": 13,
    "start_time": "2022-09-26T18:10:44.316Z"
   },
   {
    "duration": 17,
    "start_time": "2022-09-26T18:10:44.331Z"
   },
   {
    "duration": 59,
    "start_time": "2022-09-26T18:10:44.350Z"
   },
   {
    "duration": 13,
    "start_time": "2022-09-26T18:10:44.411Z"
   },
   {
    "duration": 530,
    "start_time": "2022-09-26T18:10:44.426Z"
   },
   {
    "duration": 175,
    "start_time": "2022-09-26T18:10:44.958Z"
   },
   {
    "duration": 5,
    "start_time": "2022-09-26T18:10:45.134Z"
   },
   {
    "duration": 12,
    "start_time": "2022-09-26T18:10:45.140Z"
   },
   {
    "duration": 174,
    "start_time": "2022-09-26T18:10:45.154Z"
   },
   {
    "duration": 8,
    "start_time": "2022-09-26T18:10:45.330Z"
   },
   {
    "duration": 10,
    "start_time": "2022-09-26T18:10:45.340Z"
   },
   {
    "duration": 884,
    "start_time": "2022-09-26T18:10:45.352Z"
   },
   {
    "duration": 20977,
    "start_time": "2022-09-26T18:10:46.238Z"
   },
   {
    "duration": 147,
    "start_time": "2022-09-26T18:11:07.219Z"
   },
   {
    "duration": 41,
    "start_time": "2022-09-26T18:11:07.368Z"
   },
   {
    "duration": 84,
    "start_time": "2022-09-26T18:11:07.411Z"
   },
   {
    "duration": 105,
    "start_time": "2022-09-26T18:11:07.498Z"
   },
   {
    "duration": 476,
    "start_time": "2022-09-26T18:11:07.605Z"
   },
   {
    "duration": 21,
    "start_time": "2022-09-26T18:11:08.083Z"
   },
   {
    "duration": 99,
    "start_time": "2022-09-26T18:11:08.106Z"
   },
   {
    "duration": 10,
    "start_time": "2022-09-26T18:11:08.296Z"
   },
   {
    "duration": 46,
    "start_time": "2022-09-26T18:11:08.308Z"
   },
   {
    "duration": 193,
    "start_time": "2022-09-26T18:11:08.357Z"
   },
   {
    "duration": 245,
    "start_time": "2022-09-26T18:11:08.551Z"
   },
   {
    "duration": 98,
    "start_time": "2022-09-26T18:11:08.798Z"
   },
   {
    "duration": 557,
    "start_time": "2022-09-26T18:11:08.899Z"
   },
   {
    "duration": 18,
    "start_time": "2022-09-26T18:11:09.458Z"
   },
   {
    "duration": 50,
    "start_time": "2022-09-26T18:11:09.477Z"
   },
   {
    "duration": 287,
    "start_time": "2022-09-26T18:11:09.529Z"
   },
   {
    "duration": 278,
    "start_time": "2022-09-26T18:11:09.818Z"
   },
   {
    "duration": 98,
    "start_time": "2022-09-26T18:11:10.098Z"
   },
   {
    "duration": 436,
    "start_time": "2022-09-26T18:11:10.198Z"
   },
   {
    "duration": 486,
    "start_time": "2022-09-26T18:11:10.637Z"
   },
   {
    "duration": 120,
    "start_time": "2022-09-26T18:11:11.125Z"
   },
   {
    "duration": 17,
    "start_time": "2022-09-26T18:11:11.247Z"
   },
   {
    "duration": 146,
    "start_time": "2022-09-26T18:11:11.266Z"
   },
   {
    "duration": 27,
    "start_time": "2022-09-26T18:11:11.413Z"
   },
   {
    "duration": 1650,
    "start_time": "2022-09-27T14:36:19.176Z"
   },
   {
    "duration": 104,
    "start_time": "2022-09-27T14:36:20.830Z"
   },
   {
    "duration": 14,
    "start_time": "2022-09-27T14:36:20.935Z"
   },
   {
    "duration": 4,
    "start_time": "2022-09-27T14:36:20.951Z"
   },
   {
    "duration": 14,
    "start_time": "2022-09-27T14:36:20.957Z"
   },
   {
    "duration": 15,
    "start_time": "2022-09-27T14:36:20.973Z"
   },
   {
    "duration": 16,
    "start_time": "2022-09-27T14:36:20.990Z"
   },
   {
    "duration": 123,
    "start_time": "2022-09-27T14:36:21.008Z"
   },
   {
    "duration": 0,
    "start_time": "2022-09-27T14:36:21.132Z"
   },
   {
    "duration": 22,
    "start_time": "2022-09-27T14:36:56.407Z"
   },
   {
    "duration": 20,
    "start_time": "2022-09-27T14:37:16.961Z"
   },
   {
    "duration": 7,
    "start_time": "2022-09-27T14:37:33.030Z"
   },
   {
    "duration": 1288,
    "start_time": "2022-09-27T14:38:04.497Z"
   },
   {
    "duration": 52,
    "start_time": "2022-09-27T14:38:05.787Z"
   },
   {
    "duration": 14,
    "start_time": "2022-09-27T14:38:05.841Z"
   },
   {
    "duration": 8,
    "start_time": "2022-09-27T14:38:05.856Z"
   },
   {
    "duration": 6,
    "start_time": "2022-09-27T14:38:05.866Z"
   },
   {
    "duration": 9,
    "start_time": "2022-09-27T14:38:05.874Z"
   },
   {
    "duration": 4,
    "start_time": "2022-09-27T14:38:05.884Z"
   },
   {
    "duration": 7,
    "start_time": "2022-09-27T14:38:05.890Z"
   },
   {
    "duration": 122,
    "start_time": "2022-09-27T14:38:05.899Z"
   },
   {
    "duration": 0,
    "start_time": "2022-09-27T14:38:06.023Z"
   },
   {
    "duration": 6,
    "start_time": "2022-09-27T14:38:15.635Z"
   },
   {
    "duration": 4,
    "start_time": "2022-09-27T14:38:30.722Z"
   },
   {
    "duration": 6,
    "start_time": "2022-09-27T14:38:42.122Z"
   },
   {
    "duration": 20,
    "start_time": "2022-09-27T14:40:00.158Z"
   },
   {
    "duration": 46,
    "start_time": "2022-09-27T14:40:14.989Z"
   },
   {
    "duration": 42,
    "start_time": "2022-09-27T14:40:50.392Z"
   },
   {
    "duration": 23,
    "start_time": "2022-09-27T14:42:32.750Z"
   },
   {
    "duration": 46,
    "start_time": "2022-09-27T14:42:50.118Z"
   },
   {
    "duration": 9,
    "start_time": "2022-09-27T14:43:03.647Z"
   },
   {
    "duration": 13,
    "start_time": "2022-09-27T14:43:45.961Z"
   },
   {
    "duration": 11,
    "start_time": "2022-09-27T14:43:49.758Z"
   },
   {
    "duration": 17,
    "start_time": "2022-09-27T14:43:52.834Z"
   },
   {
    "duration": 1416,
    "start_time": "2022-09-27T14:44:04.188Z"
   },
   {
    "duration": 52,
    "start_time": "2022-09-27T14:44:05.606Z"
   },
   {
    "duration": 12,
    "start_time": "2022-09-27T14:44:05.659Z"
   },
   {
    "duration": 6,
    "start_time": "2022-09-27T14:44:05.673Z"
   },
   {
    "duration": 11,
    "start_time": "2022-09-27T14:44:05.680Z"
   },
   {
    "duration": 7,
    "start_time": "2022-09-27T14:44:05.692Z"
   },
   {
    "duration": 4,
    "start_time": "2022-09-27T14:44:05.700Z"
   },
   {
    "duration": 15,
    "start_time": "2022-09-27T14:44:05.705Z"
   },
   {
    "duration": 15,
    "start_time": "2022-09-27T14:44:05.721Z"
   },
   {
    "duration": 17,
    "start_time": "2022-09-27T14:44:05.738Z"
   },
   {
    "duration": 4,
    "start_time": "2022-09-27T14:44:05.757Z"
   },
   {
    "duration": 21,
    "start_time": "2022-09-27T14:44:05.762Z"
   },
   {
    "duration": 4,
    "start_time": "2022-09-27T14:44:05.785Z"
   },
   {
    "duration": 120,
    "start_time": "2022-09-27T14:44:05.791Z"
   },
   {
    "duration": 0,
    "start_time": "2022-09-27T14:44:05.913Z"
   },
   {
    "duration": 0,
    "start_time": "2022-09-27T14:44:05.914Z"
   },
   {
    "duration": 0,
    "start_time": "2022-09-27T14:44:05.915Z"
   },
   {
    "duration": 0,
    "start_time": "2022-09-27T14:44:05.916Z"
   },
   {
    "duration": 0,
    "start_time": "2022-09-27T14:44:05.917Z"
   },
   {
    "duration": 0,
    "start_time": "2022-09-27T14:44:05.918Z"
   },
   {
    "duration": 0,
    "start_time": "2022-09-27T14:44:05.919Z"
   },
   {
    "duration": 0,
    "start_time": "2022-09-27T14:44:05.920Z"
   },
   {
    "duration": 0,
    "start_time": "2022-09-27T14:44:05.921Z"
   },
   {
    "duration": 0,
    "start_time": "2022-09-27T14:44:05.922Z"
   },
   {
    "duration": 0,
    "start_time": "2022-09-27T14:44:05.922Z"
   },
   {
    "duration": 0,
    "start_time": "2022-09-27T14:44:05.923Z"
   },
   {
    "duration": 0,
    "start_time": "2022-09-27T14:44:05.924Z"
   },
   {
    "duration": 0,
    "start_time": "2022-09-27T14:44:05.925Z"
   },
   {
    "duration": 0,
    "start_time": "2022-09-27T14:44:05.926Z"
   },
   {
    "duration": 0,
    "start_time": "2022-09-27T14:44:05.928Z"
   },
   {
    "duration": 0,
    "start_time": "2022-09-27T14:44:05.929Z"
   },
   {
    "duration": 0,
    "start_time": "2022-09-27T14:44:05.930Z"
   },
   {
    "duration": 0,
    "start_time": "2022-09-27T14:44:05.932Z"
   },
   {
    "duration": 0,
    "start_time": "2022-09-27T14:44:05.933Z"
   },
   {
    "duration": 0,
    "start_time": "2022-09-27T14:44:05.934Z"
   },
   {
    "duration": 0,
    "start_time": "2022-09-27T14:44:05.936Z"
   },
   {
    "duration": 0,
    "start_time": "2022-09-27T14:44:05.937Z"
   },
   {
    "duration": 0,
    "start_time": "2022-09-27T14:44:05.977Z"
   },
   {
    "duration": 0,
    "start_time": "2022-09-27T14:44:05.978Z"
   },
   {
    "duration": 0,
    "start_time": "2022-09-27T14:44:05.979Z"
   },
   {
    "duration": 0,
    "start_time": "2022-09-27T14:44:05.981Z"
   },
   {
    "duration": 0,
    "start_time": "2022-09-27T14:44:05.982Z"
   },
   {
    "duration": 0,
    "start_time": "2022-09-27T14:44:05.984Z"
   },
   {
    "duration": 0,
    "start_time": "2022-09-27T14:44:05.985Z"
   },
   {
    "duration": 1,
    "start_time": "2022-09-27T14:44:05.986Z"
   },
   {
    "duration": 0,
    "start_time": "2022-09-27T14:44:05.988Z"
   },
   {
    "duration": 0,
    "start_time": "2022-09-27T14:44:05.989Z"
   },
   {
    "duration": 0,
    "start_time": "2022-09-27T14:44:05.991Z"
   },
   {
    "duration": 0,
    "start_time": "2022-09-27T14:44:05.992Z"
   },
   {
    "duration": 0,
    "start_time": "2022-09-27T14:44:05.993Z"
   },
   {
    "duration": 0,
    "start_time": "2022-09-27T14:44:05.995Z"
   },
   {
    "duration": 0,
    "start_time": "2022-09-27T14:44:05.996Z"
   },
   {
    "duration": 1274,
    "start_time": "2022-09-27T14:47:23.995Z"
   },
   {
    "duration": 61,
    "start_time": "2022-09-27T14:47:25.272Z"
   },
   {
    "duration": 14,
    "start_time": "2022-09-27T14:47:25.335Z"
   },
   {
    "duration": 12,
    "start_time": "2022-09-27T14:47:25.351Z"
   },
   {
    "duration": 14,
    "start_time": "2022-09-27T14:47:25.366Z"
   },
   {
    "duration": 18,
    "start_time": "2022-09-27T14:47:25.382Z"
   },
   {
    "duration": 9,
    "start_time": "2022-09-27T14:47:25.402Z"
   },
   {
    "duration": 23,
    "start_time": "2022-09-27T14:47:25.413Z"
   },
   {
    "duration": 14,
    "start_time": "2022-09-27T14:47:25.437Z"
   },
   {
    "duration": 28,
    "start_time": "2022-09-27T14:47:25.452Z"
   },
   {
    "duration": 1307,
    "start_time": "2022-09-27T14:47:52.992Z"
   },
   {
    "duration": 53,
    "start_time": "2022-09-27T14:47:54.301Z"
   },
   {
    "duration": 14,
    "start_time": "2022-09-27T14:47:54.355Z"
   },
   {
    "duration": 4,
    "start_time": "2022-09-27T14:47:54.371Z"
   },
   {
    "duration": 8,
    "start_time": "2022-09-27T14:47:54.377Z"
   },
   {
    "duration": 8,
    "start_time": "2022-09-27T14:47:54.386Z"
   },
   {
    "duration": 5,
    "start_time": "2022-09-27T14:47:54.396Z"
   },
   {
    "duration": 9,
    "start_time": "2022-09-27T14:48:01.618Z"
   },
   {
    "duration": 4,
    "start_time": "2022-09-27T14:48:12.934Z"
   },
   {
    "duration": 6,
    "start_time": "2022-09-27T14:48:26.583Z"
   },
   {
    "duration": 1278,
    "start_time": "2022-09-27T14:49:45.695Z"
   },
   {
    "duration": 57,
    "start_time": "2022-09-27T14:49:46.975Z"
   },
   {
    "duration": 12,
    "start_time": "2022-09-27T14:49:47.033Z"
   },
   {
    "duration": 5,
    "start_time": "2022-09-27T14:49:47.047Z"
   },
   {
    "duration": 14,
    "start_time": "2022-09-27T14:49:47.054Z"
   },
   {
    "duration": 12,
    "start_time": "2022-09-27T14:49:47.071Z"
   },
   {
    "duration": 4,
    "start_time": "2022-09-27T14:49:47.085Z"
   },
   {
    "duration": 146,
    "start_time": "2022-09-27T14:49:47.091Z"
   },
   {
    "duration": 0,
    "start_time": "2022-09-27T14:49:47.241Z"
   },
   {
    "duration": 0,
    "start_time": "2022-09-27T14:49:47.241Z"
   },
   {
    "duration": 1,
    "start_time": "2022-09-27T14:49:47.242Z"
   },
   {
    "duration": 0,
    "start_time": "2022-09-27T14:49:47.244Z"
   },
   {
    "duration": 0,
    "start_time": "2022-09-27T14:49:47.245Z"
   },
   {
    "duration": 0,
    "start_time": "2022-09-27T14:49:47.246Z"
   },
   {
    "duration": 0,
    "start_time": "2022-09-27T14:49:47.246Z"
   },
   {
    "duration": 0,
    "start_time": "2022-09-27T14:49:47.248Z"
   },
   {
    "duration": 0,
    "start_time": "2022-09-27T14:49:47.249Z"
   },
   {
    "duration": 0,
    "start_time": "2022-09-27T14:49:47.250Z"
   },
   {
    "duration": 0,
    "start_time": "2022-09-27T14:49:47.251Z"
   },
   {
    "duration": 0,
    "start_time": "2022-09-27T14:49:47.252Z"
   },
   {
    "duration": 0,
    "start_time": "2022-09-27T14:49:47.253Z"
   },
   {
    "duration": 0,
    "start_time": "2022-09-27T14:49:47.254Z"
   },
   {
    "duration": 0,
    "start_time": "2022-09-27T14:49:47.276Z"
   },
   {
    "duration": 0,
    "start_time": "2022-09-27T14:49:47.277Z"
   },
   {
    "duration": 0,
    "start_time": "2022-09-27T14:49:47.278Z"
   },
   {
    "duration": 0,
    "start_time": "2022-09-27T14:49:47.280Z"
   },
   {
    "duration": 0,
    "start_time": "2022-09-27T14:49:47.281Z"
   },
   {
    "duration": 0,
    "start_time": "2022-09-27T14:49:47.283Z"
   },
   {
    "duration": 0,
    "start_time": "2022-09-27T14:49:47.284Z"
   },
   {
    "duration": 0,
    "start_time": "2022-09-27T14:49:47.287Z"
   },
   {
    "duration": 0,
    "start_time": "2022-09-27T14:49:47.288Z"
   },
   {
    "duration": 0,
    "start_time": "2022-09-27T14:49:47.289Z"
   },
   {
    "duration": 0,
    "start_time": "2022-09-27T14:49:47.290Z"
   },
   {
    "duration": 0,
    "start_time": "2022-09-27T14:49:47.292Z"
   },
   {
    "duration": 1,
    "start_time": "2022-09-27T14:49:47.293Z"
   },
   {
    "duration": 0,
    "start_time": "2022-09-27T14:49:47.295Z"
   },
   {
    "duration": 0,
    "start_time": "2022-09-27T14:49:47.297Z"
   },
   {
    "duration": 0,
    "start_time": "2022-09-27T14:49:47.298Z"
   },
   {
    "duration": 0,
    "start_time": "2022-09-27T14:49:47.299Z"
   },
   {
    "duration": 0,
    "start_time": "2022-09-27T14:49:47.301Z"
   },
   {
    "duration": 0,
    "start_time": "2022-09-27T14:49:47.303Z"
   },
   {
    "duration": 0,
    "start_time": "2022-09-27T14:49:47.304Z"
   },
   {
    "duration": 0,
    "start_time": "2022-09-27T14:49:47.305Z"
   },
   {
    "duration": 0,
    "start_time": "2022-09-27T14:49:47.307Z"
   },
   {
    "duration": 0,
    "start_time": "2022-09-27T14:49:47.308Z"
   },
   {
    "duration": 0,
    "start_time": "2022-09-27T14:49:47.309Z"
   },
   {
    "duration": 0,
    "start_time": "2022-09-27T14:49:47.310Z"
   },
   {
    "duration": 0,
    "start_time": "2022-09-27T14:49:47.311Z"
   },
   {
    "duration": 0,
    "start_time": "2022-09-27T14:49:47.312Z"
   },
   {
    "duration": 0,
    "start_time": "2022-09-27T14:49:47.313Z"
   },
   {
    "duration": 0,
    "start_time": "2022-09-27T14:49:47.314Z"
   },
   {
    "duration": 0,
    "start_time": "2022-09-27T14:49:47.315Z"
   },
   {
    "duration": 19,
    "start_time": "2022-09-27T14:50:45.654Z"
   },
   {
    "duration": 453,
    "start_time": "2022-09-27T14:51:06.722Z"
   },
   {
    "duration": 573,
    "start_time": "2022-09-27T14:51:44.808Z"
   },
   {
    "duration": 13,
    "start_time": "2022-09-27T14:52:04.747Z"
   },
   {
    "duration": 1374,
    "start_time": "2022-09-27T14:52:10.905Z"
   },
   {
    "duration": 55,
    "start_time": "2022-09-27T14:52:12.282Z"
   },
   {
    "duration": 13,
    "start_time": "2022-09-27T14:52:12.338Z"
   },
   {
    "duration": 5,
    "start_time": "2022-09-27T14:52:12.353Z"
   },
   {
    "duration": 21,
    "start_time": "2022-09-27T14:52:12.359Z"
   },
   {
    "duration": 10,
    "start_time": "2022-09-27T14:52:12.383Z"
   },
   {
    "duration": 12,
    "start_time": "2022-09-27T14:52:12.395Z"
   },
   {
    "duration": 20,
    "start_time": "2022-09-27T14:52:12.409Z"
   },
   {
    "duration": 17,
    "start_time": "2022-09-27T14:52:12.431Z"
   },
   {
    "duration": 31,
    "start_time": "2022-09-27T14:52:12.452Z"
   },
   {
    "duration": 6,
    "start_time": "2022-09-27T14:52:12.485Z"
   },
   {
    "duration": 13,
    "start_time": "2022-09-27T14:52:12.493Z"
   },
   {
    "duration": 7,
    "start_time": "2022-09-27T14:52:12.508Z"
   },
   {
    "duration": 12,
    "start_time": "2022-09-27T14:52:12.517Z"
   },
   {
    "duration": 12,
    "start_time": "2022-09-27T14:52:12.531Z"
   },
   {
    "duration": 32,
    "start_time": "2022-09-27T14:52:12.545Z"
   },
   {
    "duration": 16,
    "start_time": "2022-09-27T14:52:12.579Z"
   },
   {
    "duration": 132,
    "start_time": "2022-09-27T14:52:12.597Z"
   },
   {
    "duration": 0,
    "start_time": "2022-09-27T14:52:12.732Z"
   },
   {
    "duration": 0,
    "start_time": "2022-09-27T14:52:12.733Z"
   },
   {
    "duration": 0,
    "start_time": "2022-09-27T14:52:12.735Z"
   },
   {
    "duration": 0,
    "start_time": "2022-09-27T14:52:12.736Z"
   },
   {
    "duration": 0,
    "start_time": "2022-09-27T14:52:12.737Z"
   },
   {
    "duration": 0,
    "start_time": "2022-09-27T14:52:12.739Z"
   },
   {
    "duration": 0,
    "start_time": "2022-09-27T14:52:12.741Z"
   },
   {
    "duration": 0,
    "start_time": "2022-09-27T14:52:12.742Z"
   },
   {
    "duration": 0,
    "start_time": "2022-09-27T14:52:12.744Z"
   },
   {
    "duration": 0,
    "start_time": "2022-09-27T14:52:12.745Z"
   },
   {
    "duration": 0,
    "start_time": "2022-09-27T14:52:12.746Z"
   },
   {
    "duration": 0,
    "start_time": "2022-09-27T14:52:12.748Z"
   },
   {
    "duration": 0,
    "start_time": "2022-09-27T14:52:12.749Z"
   },
   {
    "duration": 0,
    "start_time": "2022-09-27T14:52:12.750Z"
   },
   {
    "duration": 0,
    "start_time": "2022-09-27T14:52:12.777Z"
   },
   {
    "duration": 0,
    "start_time": "2022-09-27T14:52:12.780Z"
   },
   {
    "duration": 0,
    "start_time": "2022-09-27T14:52:12.781Z"
   },
   {
    "duration": 0,
    "start_time": "2022-09-27T14:52:12.782Z"
   },
   {
    "duration": 0,
    "start_time": "2022-09-27T14:52:12.783Z"
   },
   {
    "duration": 0,
    "start_time": "2022-09-27T14:52:12.784Z"
   },
   {
    "duration": 0,
    "start_time": "2022-09-27T14:52:12.785Z"
   },
   {
    "duration": 0,
    "start_time": "2022-09-27T14:52:12.788Z"
   },
   {
    "duration": 0,
    "start_time": "2022-09-27T14:52:12.789Z"
   },
   {
    "duration": 0,
    "start_time": "2022-09-27T14:52:12.790Z"
   },
   {
    "duration": 0,
    "start_time": "2022-09-27T14:52:12.791Z"
   },
   {
    "duration": 0,
    "start_time": "2022-09-27T14:52:12.793Z"
   },
   {
    "duration": 0,
    "start_time": "2022-09-27T14:52:12.793Z"
   },
   {
    "duration": 0,
    "start_time": "2022-09-27T14:52:12.795Z"
   },
   {
    "duration": 0,
    "start_time": "2022-09-27T14:52:12.796Z"
   },
   {
    "duration": 0,
    "start_time": "2022-09-27T14:52:12.797Z"
   },
   {
    "duration": 0,
    "start_time": "2022-09-27T14:52:12.798Z"
   },
   {
    "duration": 0,
    "start_time": "2022-09-27T14:52:12.799Z"
   },
   {
    "duration": 0,
    "start_time": "2022-09-27T14:52:12.801Z"
   },
   {
    "duration": 0,
    "start_time": "2022-09-27T14:52:12.802Z"
   },
   {
    "duration": 4,
    "start_time": "2022-09-27T14:53:08.334Z"
   },
   {
    "duration": 4,
    "start_time": "2022-09-27T14:53:15.704Z"
   },
   {
    "duration": 7,
    "start_time": "2022-09-27T14:53:21.660Z"
   },
   {
    "duration": 9,
    "start_time": "2022-09-27T14:53:30.865Z"
   },
   {
    "duration": 4,
    "start_time": "2022-09-27T14:53:35.149Z"
   },
   {
    "duration": 4,
    "start_time": "2022-09-27T14:53:39.111Z"
   },
   {
    "duration": 4,
    "start_time": "2022-09-27T14:54:32.754Z"
   },
   {
    "duration": 4,
    "start_time": "2022-09-27T14:54:41.290Z"
   },
   {
    "duration": 4,
    "start_time": "2022-09-27T14:54:47.111Z"
   },
   {
    "duration": 3,
    "start_time": "2022-09-27T14:54:48.376Z"
   },
   {
    "duration": 4,
    "start_time": "2022-09-27T14:55:06.285Z"
   },
   {
    "duration": 6,
    "start_time": "2022-09-27T14:55:13.350Z"
   },
   {
    "duration": 19,
    "start_time": "2022-09-27T14:55:22.252Z"
   },
   {
    "duration": 1334,
    "start_time": "2022-09-27T14:55:53.105Z"
   },
   {
    "duration": 54,
    "start_time": "2022-09-27T14:55:54.441Z"
   },
   {
    "duration": 13,
    "start_time": "2022-09-27T14:55:54.497Z"
   },
   {
    "duration": 3,
    "start_time": "2022-09-27T14:55:54.512Z"
   },
   {
    "duration": 12,
    "start_time": "2022-09-27T14:55:54.517Z"
   },
   {
    "duration": 7,
    "start_time": "2022-09-27T14:55:54.531Z"
   },
   {
    "duration": 11,
    "start_time": "2022-09-27T14:55:54.539Z"
   },
   {
    "duration": 41,
    "start_time": "2022-09-27T14:55:54.552Z"
   },
   {
    "duration": 7,
    "start_time": "2022-09-27T14:55:54.595Z"
   },
   {
    "duration": 10,
    "start_time": "2022-09-27T14:55:54.604Z"
   },
   {
    "duration": 15,
    "start_time": "2022-09-27T14:55:54.616Z"
   },
   {
    "duration": 14,
    "start_time": "2022-09-27T14:55:54.633Z"
   },
   {
    "duration": 6,
    "start_time": "2022-09-27T14:56:41.756Z"
   },
   {
    "duration": 7,
    "start_time": "2022-09-27T14:56:52.118Z"
   },
   {
    "duration": 6,
    "start_time": "2022-09-27T14:57:00.730Z"
   },
   {
    "duration": 6,
    "start_time": "2022-09-27T14:57:22.657Z"
   },
   {
    "duration": 9,
    "start_time": "2022-09-27T14:57:37.780Z"
   },
   {
    "duration": 7,
    "start_time": "2022-09-27T14:57:47.581Z"
   },
   {
    "duration": 1228,
    "start_time": "2022-09-27T14:58:41.226Z"
   },
   {
    "duration": 53,
    "start_time": "2022-09-27T14:58:42.456Z"
   },
   {
    "duration": 11,
    "start_time": "2022-09-27T14:58:42.511Z"
   },
   {
    "duration": 4,
    "start_time": "2022-09-27T14:58:42.524Z"
   },
   {
    "duration": 9,
    "start_time": "2022-09-27T14:58:42.530Z"
   },
   {
    "duration": 9,
    "start_time": "2022-09-27T14:58:42.541Z"
   },
   {
    "duration": 6,
    "start_time": "2022-09-27T14:58:42.552Z"
   },
   {
    "duration": 30,
    "start_time": "2022-09-27T14:58:42.560Z"
   },
   {
    "duration": 11,
    "start_time": "2022-09-27T14:58:42.592Z"
   },
   {
    "duration": 14,
    "start_time": "2022-09-27T14:58:44.942Z"
   },
   {
    "duration": 1382,
    "start_time": "2022-09-27T14:58:50.976Z"
   },
   {
    "duration": 52,
    "start_time": "2022-09-27T14:58:52.360Z"
   },
   {
    "duration": 13,
    "start_time": "2022-09-27T14:58:52.414Z"
   },
   {
    "duration": 3,
    "start_time": "2022-09-27T14:58:52.429Z"
   },
   {
    "duration": 24,
    "start_time": "2022-09-27T14:58:52.434Z"
   },
   {
    "duration": 12,
    "start_time": "2022-09-27T14:58:52.459Z"
   },
   {
    "duration": 6,
    "start_time": "2022-09-27T14:58:52.473Z"
   },
   {
    "duration": 29,
    "start_time": "2022-09-27T14:58:52.481Z"
   },
   {
    "duration": 11,
    "start_time": "2022-09-27T14:58:52.512Z"
   },
   {
    "duration": 18,
    "start_time": "2022-09-27T14:58:52.525Z"
   },
   {
    "duration": 10,
    "start_time": "2022-09-27T14:58:52.544Z"
   },
   {
    "duration": 17,
    "start_time": "2022-09-27T14:58:52.556Z"
   },
   {
    "duration": 10,
    "start_time": "2022-09-27T14:58:52.575Z"
   },
   {
    "duration": 15,
    "start_time": "2022-09-27T14:58:52.587Z"
   },
   {
    "duration": 28,
    "start_time": "2022-09-27T14:58:52.604Z"
   },
   {
    "duration": 25,
    "start_time": "2022-09-27T14:58:52.633Z"
   },
   {
    "duration": 16,
    "start_time": "2022-09-27T14:58:52.660Z"
   },
   {
    "duration": 31,
    "start_time": "2022-09-27T14:58:52.677Z"
   },
   {
    "duration": 13,
    "start_time": "2022-09-27T14:58:52.710Z"
   },
   {
    "duration": 532,
    "start_time": "2022-09-27T14:58:52.725Z"
   },
   {
    "duration": 164,
    "start_time": "2022-09-27T14:58:53.258Z"
   },
   {
    "duration": 4,
    "start_time": "2022-09-27T14:58:53.423Z"
   },
   {
    "duration": 13,
    "start_time": "2022-09-27T14:58:53.428Z"
   },
   {
    "duration": 142,
    "start_time": "2022-09-27T14:58:53.442Z"
   },
   {
    "duration": 7,
    "start_time": "2022-09-27T14:58:53.586Z"
   },
   {
    "duration": 9,
    "start_time": "2022-09-27T14:58:53.594Z"
   },
   {
    "duration": 835,
    "start_time": "2022-09-27T14:58:53.604Z"
   },
   {
    "duration": 19457,
    "start_time": "2022-09-27T14:58:54.444Z"
   },
   {
    "duration": 132,
    "start_time": "2022-09-27T14:59:13.903Z"
   },
   {
    "duration": 43,
    "start_time": "2022-09-27T14:59:14.037Z"
   },
   {
    "duration": 62,
    "start_time": "2022-09-27T14:59:14.082Z"
   },
   {
    "duration": 45,
    "start_time": "2022-09-27T14:59:14.146Z"
   },
   {
    "duration": 370,
    "start_time": "2022-09-27T14:59:14.277Z"
   },
   {
    "duration": 29,
    "start_time": "2022-09-27T14:59:14.649Z"
   },
   {
    "duration": 97,
    "start_time": "2022-09-27T14:59:14.681Z"
   },
   {
    "duration": 14,
    "start_time": "2022-09-27T14:59:14.781Z"
   },
   {
    "duration": 92,
    "start_time": "2022-09-27T14:59:14.796Z"
   },
   {
    "duration": 180,
    "start_time": "2022-09-27T14:59:14.889Z"
   },
   {
    "duration": 116,
    "start_time": "2022-09-27T14:59:15.070Z"
   },
   {
    "duration": 94,
    "start_time": "2022-09-27T14:59:15.188Z"
   },
   {
    "duration": 521,
    "start_time": "2022-09-27T14:59:15.284Z"
   },
   {
    "duration": 18,
    "start_time": "2022-09-27T14:59:15.806Z"
   },
   {
    "duration": 58,
    "start_time": "2022-09-27T14:59:15.826Z"
   },
   {
    "duration": 215,
    "start_time": "2022-09-27T14:59:15.885Z"
   },
   {
    "duration": 287,
    "start_time": "2022-09-27T14:59:16.101Z"
   },
   {
    "duration": 9,
    "start_time": "2022-09-27T14:59:16.477Z"
   },
   {
    "duration": 539,
    "start_time": "2022-09-27T14:59:16.488Z"
   },
   {
    "duration": 458,
    "start_time": "2022-09-27T14:59:17.030Z"
   },
   {
    "duration": 111,
    "start_time": "2022-09-27T14:59:17.490Z"
   },
   {
    "duration": 16,
    "start_time": "2022-09-27T14:59:17.603Z"
   },
   {
    "duration": 140,
    "start_time": "2022-09-27T14:59:17.621Z"
   },
   {
    "duration": 35,
    "start_time": "2022-09-27T14:59:17.763Z"
   },
   {
    "duration": 525,
    "start_time": "2022-09-27T15:10:04.843Z"
   },
   {
    "duration": 161,
    "start_time": "2022-09-27T15:10:07.099Z"
   },
   {
    "duration": 472,
    "start_time": "2022-09-27T15:10:23.535Z"
   },
   {
    "duration": 139,
    "start_time": "2022-09-27T15:10:24.684Z"
   },
   {
    "duration": 3,
    "start_time": "2022-09-27T15:10:27.516Z"
   },
   {
    "duration": 105,
    "start_time": "2022-09-27T15:13:50.204Z"
   },
   {
    "duration": 118,
    "start_time": "2022-09-27T15:13:54.866Z"
   },
   {
    "duration": 67,
    "start_time": "2022-09-27T15:14:25.885Z"
   },
   {
    "duration": 490,
    "start_time": "2022-09-27T15:15:40.679Z"
   },
   {
    "duration": 42,
    "start_time": "2022-09-27T15:15:47.174Z"
   },
   {
    "duration": 496,
    "start_time": "2022-09-27T15:16:26.185Z"
   },
   {
    "duration": 432,
    "start_time": "2022-09-27T15:17:49.779Z"
   },
   {
    "duration": 19331,
    "start_time": "2022-09-27T15:17:55.153Z"
   },
   {
    "duration": 157,
    "start_time": "2022-09-27T15:19:23.216Z"
   },
   {
    "duration": 20448,
    "start_time": "2022-09-27T15:19:27.865Z"
   },
   {
    "duration": 19411,
    "start_time": "2022-09-27T15:20:19.516Z"
   },
   {
    "duration": 63,
    "start_time": "2022-09-27T17:31:35.419Z"
   },
   {
    "duration": 1459,
    "start_time": "2022-09-27T17:32:27.138Z"
   },
   {
    "duration": 93,
    "start_time": "2022-09-27T17:32:28.599Z"
   },
   {
    "duration": 11,
    "start_time": "2022-09-27T17:32:28.693Z"
   },
   {
    "duration": 4,
    "start_time": "2022-09-27T17:32:28.706Z"
   },
   {
    "duration": 6,
    "start_time": "2022-09-27T17:32:28.712Z"
   },
   {
    "duration": 5,
    "start_time": "2022-09-27T17:32:28.719Z"
   },
   {
    "duration": 2,
    "start_time": "2022-09-27T17:32:28.726Z"
   },
   {
    "duration": 13,
    "start_time": "2022-09-27T17:32:28.730Z"
   },
   {
    "duration": 9,
    "start_time": "2022-09-27T17:32:28.745Z"
   },
   {
    "duration": 10,
    "start_time": "2022-09-27T17:32:28.756Z"
   },
   {
    "duration": 3,
    "start_time": "2022-09-27T17:32:28.768Z"
   },
   {
    "duration": 40,
    "start_time": "2022-09-27T17:32:28.772Z"
   },
   {
    "duration": 4,
    "start_time": "2022-09-27T17:32:28.813Z"
   },
   {
    "duration": 11,
    "start_time": "2022-09-27T17:32:28.819Z"
   },
   {
    "duration": 9,
    "start_time": "2022-09-27T17:32:28.831Z"
   },
   {
    "duration": 12,
    "start_time": "2022-09-27T17:32:28.841Z"
   },
   {
    "duration": 14,
    "start_time": "2022-09-27T17:32:28.854Z"
   },
   {
    "duration": 12,
    "start_time": "2022-09-27T17:32:28.869Z"
   },
   {
    "duration": 33,
    "start_time": "2022-09-27T17:32:28.909Z"
   },
   {
    "duration": 11,
    "start_time": "2022-09-27T17:32:28.944Z"
   },
   {
    "duration": 539,
    "start_time": "2022-09-27T17:32:28.956Z"
   },
   {
    "duration": 141,
    "start_time": "2022-09-27T17:32:29.496Z"
   },
   {
    "duration": 3,
    "start_time": "2022-09-27T17:32:29.638Z"
   },
   {
    "duration": 11,
    "start_time": "2022-09-27T17:32:29.642Z"
   },
   {
    "duration": 124,
    "start_time": "2022-09-27T17:32:29.654Z"
   },
   {
    "duration": 6,
    "start_time": "2022-09-27T17:32:29.779Z"
   },
   {
    "duration": 22,
    "start_time": "2022-09-27T17:32:29.787Z"
   },
   {
    "duration": 819,
    "start_time": "2022-09-27T17:32:29.813Z"
   },
   {
    "duration": 19986,
    "start_time": "2022-09-27T17:32:30.633Z"
   },
   {
    "duration": 126,
    "start_time": "2022-09-27T17:32:50.620Z"
   },
   {
    "duration": 29,
    "start_time": "2022-09-27T17:32:50.747Z"
   },
   {
    "duration": 47,
    "start_time": "2022-09-27T17:32:50.777Z"
   },
   {
    "duration": 88,
    "start_time": "2022-09-27T17:32:50.826Z"
   },
   {
    "duration": 449,
    "start_time": "2022-09-27T17:32:50.915Z"
   },
   {
    "duration": 44,
    "start_time": "2022-09-27T17:32:51.365Z"
   },
   {
    "duration": 103,
    "start_time": "2022-09-27T17:32:51.411Z"
   },
   {
    "duration": 7,
    "start_time": "2022-09-27T17:32:51.516Z"
   },
   {
    "duration": 483,
    "start_time": "2022-09-27T17:32:51.524Z"
   },
   {
    "duration": 21545,
    "start_time": "2022-09-27T17:32:52.009Z"
   },
   {
    "duration": 255,
    "start_time": "2022-09-27T17:33:13.555Z"
   },
   {
    "duration": 100,
    "start_time": "2022-09-27T17:33:13.812Z"
   },
   {
    "duration": 387,
    "start_time": "2022-09-27T17:33:13.914Z"
   },
   {
    "duration": 19,
    "start_time": "2022-09-27T17:33:14.302Z"
   },
   {
    "duration": 626,
    "start_time": "2022-09-27T17:33:14.323Z"
   },
   {
    "duration": 27273,
    "start_time": "2022-09-27T17:33:14.950Z"
   },
   {
    "duration": 0,
    "start_time": "2022-09-27T17:33:42.225Z"
   },
   {
    "duration": 0,
    "start_time": "2022-09-27T17:33:42.226Z"
   },
   {
    "duration": 1,
    "start_time": "2022-09-27T17:33:42.227Z"
   },
   {
    "duration": 0,
    "start_time": "2022-09-27T17:33:42.228Z"
   },
   {
    "duration": 0,
    "start_time": "2022-09-27T17:33:42.230Z"
   },
   {
    "duration": 0,
    "start_time": "2022-09-27T17:33:42.231Z"
   },
   {
    "duration": 0,
    "start_time": "2022-09-27T17:33:42.232Z"
   },
   {
    "duration": 0,
    "start_time": "2022-09-27T17:33:42.232Z"
   },
   {
    "duration": 1286,
    "start_time": "2022-09-27T17:34:35.652Z"
   },
   {
    "duration": 52,
    "start_time": "2022-09-27T17:34:36.940Z"
   },
   {
    "duration": 12,
    "start_time": "2022-09-27T17:34:36.993Z"
   },
   {
    "duration": 3,
    "start_time": "2022-09-27T17:34:37.006Z"
   },
   {
    "duration": 7,
    "start_time": "2022-09-27T17:34:37.011Z"
   },
   {
    "duration": 13,
    "start_time": "2022-09-27T17:34:37.019Z"
   },
   {
    "duration": 5,
    "start_time": "2022-09-27T17:34:37.033Z"
   },
   {
    "duration": 14,
    "start_time": "2022-09-27T17:34:37.039Z"
   },
   {
    "duration": 10,
    "start_time": "2022-09-27T17:34:37.054Z"
   },
   {
    "duration": 12,
    "start_time": "2022-09-27T17:34:37.066Z"
   },
   {
    "duration": 4,
    "start_time": "2022-09-27T17:34:37.079Z"
   },
   {
    "duration": 27,
    "start_time": "2022-09-27T17:34:37.085Z"
   },
   {
    "duration": 5,
    "start_time": "2022-09-27T17:34:37.114Z"
   },
   {
    "duration": 10,
    "start_time": "2022-09-27T17:34:37.121Z"
   },
   {
    "duration": 11,
    "start_time": "2022-09-27T17:34:37.133Z"
   },
   {
    "duration": 10,
    "start_time": "2022-09-27T17:34:37.146Z"
   },
   {
    "duration": 14,
    "start_time": "2022-09-27T17:34:37.158Z"
   },
   {
    "duration": 15,
    "start_time": "2022-09-27T17:34:37.209Z"
   },
   {
    "duration": 37,
    "start_time": "2022-09-27T17:34:37.225Z"
   },
   {
    "duration": 13,
    "start_time": "2022-09-27T17:34:37.264Z"
   },
   {
    "duration": 542,
    "start_time": "2022-09-27T17:34:37.279Z"
   },
   {
    "duration": 146,
    "start_time": "2022-09-27T17:34:37.822Z"
   },
   {
    "duration": 4,
    "start_time": "2022-09-27T17:34:37.969Z"
   },
   {
    "duration": 24,
    "start_time": "2022-09-27T17:34:37.974Z"
   },
   {
    "duration": 113,
    "start_time": "2022-09-27T17:34:38.000Z"
   },
   {
    "duration": 6,
    "start_time": "2022-09-27T17:34:38.115Z"
   },
   {
    "duration": 9,
    "start_time": "2022-09-27T17:34:38.122Z"
   },
   {
    "duration": 839,
    "start_time": "2022-09-27T17:34:38.135Z"
   },
   {
    "duration": 20082,
    "start_time": "2022-09-27T17:34:38.975Z"
   },
   {
    "duration": 117,
    "start_time": "2022-09-27T17:34:59.059Z"
   },
   {
    "duration": 33,
    "start_time": "2022-09-27T17:34:59.178Z"
   },
   {
    "duration": 99,
    "start_time": "2022-09-27T17:34:59.213Z"
   },
   {
    "duration": 104,
    "start_time": "2022-09-27T17:34:59.314Z"
   },
   {
    "duration": 437,
    "start_time": "2022-09-27T17:34:59.510Z"
   },
   {
    "duration": 11,
    "start_time": "2022-09-27T17:34:59.949Z"
   },
   {
    "duration": 101,
    "start_time": "2022-09-27T17:35:00.014Z"
   },
   {
    "duration": 15,
    "start_time": "2022-09-27T17:35:00.117Z"
   },
   {
    "duration": 472,
    "start_time": "2022-09-27T17:35:00.133Z"
   },
   {
    "duration": 20780,
    "start_time": "2022-09-27T17:35:00.609Z"
   },
   {
    "duration": 129,
    "start_time": "2022-09-27T17:35:21.390Z"
   },
   {
    "duration": 99,
    "start_time": "2022-09-27T17:35:21.610Z"
   },
   {
    "duration": 391,
    "start_time": "2022-09-27T17:35:21.711Z"
   },
   {
    "duration": 19,
    "start_time": "2022-09-27T17:35:22.103Z"
   },
   {
    "duration": 593,
    "start_time": "2022-09-27T17:35:22.124Z"
   },
   {
    "duration": 27128,
    "start_time": "2022-09-27T17:35:22.719Z"
   },
   {
    "duration": 259,
    "start_time": "2022-09-27T17:35:49.849Z"
   },
   {
    "duration": 99,
    "start_time": "2022-09-27T17:35:50.111Z"
   },
   {
    "duration": 376,
    "start_time": "2022-09-27T17:35:50.211Z"
   },
   {
    "duration": 400,
    "start_time": "2022-09-27T17:35:50.588Z"
   },
   {
    "duration": 122,
    "start_time": "2022-09-27T17:35:50.990Z"
   },
   {
    "duration": 14,
    "start_time": "2022-09-27T17:35:51.113Z"
   },
   {
    "duration": 130,
    "start_time": "2022-09-27T17:35:51.128Z"
   },
   {
    "duration": 24,
    "start_time": "2022-09-27T17:35:51.260Z"
   },
   {
    "duration": 3,
    "start_time": "2022-09-27T17:36:46.840Z"
   },
   {
    "duration": 17,
    "start_time": "2022-09-27T17:36:49.853Z"
   },
   {
    "duration": 133,
    "start_time": "2022-09-27T17:36:51.816Z"
   },
   {
    "duration": 32,
    "start_time": "2022-09-27T17:36:54.090Z"
   },
   {
    "duration": 19,
    "start_time": "2022-09-27T17:38:38.624Z"
   },
   {
    "duration": 124,
    "start_time": "2022-09-27T17:38:39.740Z"
   },
   {
    "duration": 32,
    "start_time": "2022-09-27T17:38:42.309Z"
   },
   {
    "duration": 18,
    "start_time": "2022-09-27T17:39:20.290Z"
   },
   {
    "duration": 1359,
    "start_time": "2022-09-27T17:56:31.482Z"
   },
   {
    "duration": 52,
    "start_time": "2022-09-27T17:56:32.843Z"
   },
   {
    "duration": 12,
    "start_time": "2022-09-27T17:56:32.897Z"
   },
   {
    "duration": 5,
    "start_time": "2022-09-27T17:56:32.911Z"
   },
   {
    "duration": 15,
    "start_time": "2022-09-27T17:56:32.917Z"
   },
   {
    "duration": 27,
    "start_time": "2022-09-27T17:56:32.933Z"
   },
   {
    "duration": 18,
    "start_time": "2022-09-27T17:56:32.961Z"
   },
   {
    "duration": 24,
    "start_time": "2022-09-27T17:56:32.980Z"
   },
   {
    "duration": 24,
    "start_time": "2022-09-27T17:56:33.005Z"
   },
   {
    "duration": 8,
    "start_time": "2022-09-27T17:56:33.032Z"
   },
   {
    "duration": 21,
    "start_time": "2022-09-27T17:56:33.041Z"
   },
   {
    "duration": 6,
    "start_time": "2022-09-27T17:56:33.064Z"
   },
   {
    "duration": 17,
    "start_time": "2022-09-27T17:56:33.071Z"
   },
   {
    "duration": 10,
    "start_time": "2022-09-27T17:56:33.089Z"
   },
   {
    "duration": 20,
    "start_time": "2022-09-27T17:56:33.101Z"
   },
   {
    "duration": 24,
    "start_time": "2022-09-27T17:56:33.122Z"
   },
   {
    "duration": 13,
    "start_time": "2022-09-27T17:56:33.148Z"
   },
   {
    "duration": 34,
    "start_time": "2022-09-27T17:56:33.162Z"
   },
   {
    "duration": 20,
    "start_time": "2022-09-27T17:56:33.197Z"
   },
   {
    "duration": 551,
    "start_time": "2022-09-27T17:56:33.218Z"
   },
   {
    "duration": 145,
    "start_time": "2022-09-27T17:56:33.771Z"
   },
   {
    "duration": 3,
    "start_time": "2022-09-27T17:56:33.917Z"
   },
   {
    "duration": 14,
    "start_time": "2022-09-27T17:56:33.922Z"
   },
   {
    "duration": 122,
    "start_time": "2022-09-27T17:56:33.938Z"
   },
   {
    "duration": 6,
    "start_time": "2022-09-27T17:56:34.061Z"
   },
   {
    "duration": 9,
    "start_time": "2022-09-27T17:56:34.068Z"
   },
   {
    "duration": 869,
    "start_time": "2022-09-27T17:56:34.078Z"
   },
   {
    "duration": 20344,
    "start_time": "2022-09-27T17:56:34.951Z"
   },
   {
    "duration": 127,
    "start_time": "2022-09-27T17:56:55.297Z"
   },
   {
    "duration": 30,
    "start_time": "2022-09-27T17:56:55.426Z"
   },
   {
    "duration": 59,
    "start_time": "2022-09-27T17:56:55.458Z"
   },
   {
    "duration": 99,
    "start_time": "2022-09-27T17:56:55.519Z"
   },
   {
    "duration": 442,
    "start_time": "2022-09-27T17:56:55.709Z"
   },
   {
    "duration": 71,
    "start_time": "2022-09-27T17:56:56.153Z"
   },
   {
    "duration": 9,
    "start_time": "2022-09-27T17:56:56.309Z"
   },
   {
    "duration": 8,
    "start_time": "2022-09-27T17:56:56.320Z"
   },
   {
    "duration": 520,
    "start_time": "2022-09-27T17:56:56.329Z"
   },
   {
    "duration": 20672,
    "start_time": "2022-09-27T17:56:56.851Z"
   },
   {
    "duration": 185,
    "start_time": "2022-09-27T17:57:17.524Z"
   },
   {
    "duration": 99,
    "start_time": "2022-09-27T17:57:17.711Z"
   },
   {
    "duration": 380,
    "start_time": "2022-09-27T17:57:17.811Z"
   },
   {
    "duration": 23,
    "start_time": "2022-09-27T17:57:18.193Z"
   },
   {
    "duration": 599,
    "start_time": "2022-09-27T17:57:18.217Z"
   },
   {
    "duration": 27223,
    "start_time": "2022-09-27T17:57:18.818Z"
   },
   {
    "duration": 174,
    "start_time": "2022-09-27T17:57:46.044Z"
   },
   {
    "duration": 94,
    "start_time": "2022-09-27T17:57:46.220Z"
   },
   {
    "duration": 494,
    "start_time": "2022-09-27T17:57:46.316Z"
   },
   {
    "duration": 390,
    "start_time": "2022-09-27T17:57:46.812Z"
   },
   {
    "duration": 5,
    "start_time": "2022-09-27T17:57:47.204Z"
   },
   {
    "duration": 20,
    "start_time": "2022-09-27T17:57:47.211Z"
   },
   {
    "duration": 136,
    "start_time": "2022-09-27T17:57:47.233Z"
   },
   {
    "duration": 16,
    "start_time": "2022-09-27T17:57:47.370Z"
   },
   {
    "duration": 1283,
    "start_time": "2022-09-27T18:02:57.536Z"
   },
   {
    "duration": 53,
    "start_time": "2022-09-27T18:02:58.821Z"
   },
   {
    "duration": 11,
    "start_time": "2022-09-27T18:02:58.875Z"
   },
   {
    "duration": 3,
    "start_time": "2022-09-27T18:02:58.889Z"
   },
   {
    "duration": 9,
    "start_time": "2022-09-27T18:02:58.893Z"
   },
   {
    "duration": 11,
    "start_time": "2022-09-27T18:02:58.904Z"
   },
   {
    "duration": 9,
    "start_time": "2022-09-27T18:02:58.917Z"
   },
   {
    "duration": 15,
    "start_time": "2022-09-27T18:02:58.927Z"
   },
   {
    "duration": 18,
    "start_time": "2022-09-27T18:02:58.943Z"
   },
   {
    "duration": 5,
    "start_time": "2022-09-27T18:02:58.964Z"
   },
   {
    "duration": 14,
    "start_time": "2022-09-27T18:02:58.970Z"
   },
   {
    "duration": 10,
    "start_time": "2022-09-27T18:02:58.986Z"
   },
   {
    "duration": 138,
    "start_time": "2022-09-27T18:02:58.998Z"
   },
   {
    "duration": 0,
    "start_time": "2022-09-27T18:02:59.140Z"
   },
   {
    "duration": 0,
    "start_time": "2022-09-27T18:02:59.142Z"
   },
   {
    "duration": 0,
    "start_time": "2022-09-27T18:02:59.143Z"
   },
   {
    "duration": 0,
    "start_time": "2022-09-27T18:02:59.144Z"
   },
   {
    "duration": 0,
    "start_time": "2022-09-27T18:02:59.145Z"
   },
   {
    "duration": 0,
    "start_time": "2022-09-27T18:02:59.146Z"
   },
   {
    "duration": 0,
    "start_time": "2022-09-27T18:02:59.148Z"
   },
   {
    "duration": 0,
    "start_time": "2022-09-27T18:02:59.149Z"
   },
   {
    "duration": 0,
    "start_time": "2022-09-27T18:02:59.150Z"
   },
   {
    "duration": 0,
    "start_time": "2022-09-27T18:02:59.151Z"
   },
   {
    "duration": 0,
    "start_time": "2022-09-27T18:02:59.153Z"
   },
   {
    "duration": 0,
    "start_time": "2022-09-27T18:02:59.154Z"
   },
   {
    "duration": 0,
    "start_time": "2022-09-27T18:02:59.155Z"
   },
   {
    "duration": 0,
    "start_time": "2022-09-27T18:02:59.156Z"
   },
   {
    "duration": 0,
    "start_time": "2022-09-27T18:02:59.157Z"
   },
   {
    "duration": 0,
    "start_time": "2022-09-27T18:02:59.159Z"
   },
   {
    "duration": 0,
    "start_time": "2022-09-27T18:02:59.160Z"
   },
   {
    "duration": 0,
    "start_time": "2022-09-27T18:02:59.161Z"
   },
   {
    "duration": 0,
    "start_time": "2022-09-27T18:02:59.163Z"
   },
   {
    "duration": 0,
    "start_time": "2022-09-27T18:02:59.165Z"
   },
   {
    "duration": 0,
    "start_time": "2022-09-27T18:02:59.167Z"
   },
   {
    "duration": 0,
    "start_time": "2022-09-27T18:02:59.168Z"
   },
   {
    "duration": 0,
    "start_time": "2022-09-27T18:02:59.210Z"
   },
   {
    "duration": 0,
    "start_time": "2022-09-27T18:02:59.212Z"
   },
   {
    "duration": 0,
    "start_time": "2022-09-27T18:02:59.213Z"
   },
   {
    "duration": 0,
    "start_time": "2022-09-27T18:02:59.215Z"
   },
   {
    "duration": 0,
    "start_time": "2022-09-27T18:02:59.216Z"
   },
   {
    "duration": 0,
    "start_time": "2022-09-27T18:02:59.217Z"
   },
   {
    "duration": 0,
    "start_time": "2022-09-27T18:02:59.219Z"
   },
   {
    "duration": 0,
    "start_time": "2022-09-27T18:02:59.220Z"
   },
   {
    "duration": 0,
    "start_time": "2022-09-27T18:02:59.222Z"
   },
   {
    "duration": 0,
    "start_time": "2022-09-27T18:02:59.224Z"
   },
   {
    "duration": 0,
    "start_time": "2022-09-27T18:02:59.225Z"
   },
   {
    "duration": 0,
    "start_time": "2022-09-27T18:02:59.226Z"
   },
   {
    "duration": 0,
    "start_time": "2022-09-27T18:02:59.227Z"
   },
   {
    "duration": 0,
    "start_time": "2022-09-27T18:02:59.228Z"
   },
   {
    "duration": 0,
    "start_time": "2022-09-27T18:02:59.229Z"
   },
   {
    "duration": 0,
    "start_time": "2022-09-27T18:02:59.230Z"
   },
   {
    "duration": 0,
    "start_time": "2022-09-27T18:02:59.231Z"
   },
   {
    "duration": 18,
    "start_time": "2022-09-27T18:04:36.781Z"
   },
   {
    "duration": 12,
    "start_time": "2022-09-27T18:04:56.785Z"
   },
   {
    "duration": 1264,
    "start_time": "2022-09-27T18:05:21.915Z"
   },
   {
    "duration": 52,
    "start_time": "2022-09-27T18:05:23.181Z"
   },
   {
    "duration": 11,
    "start_time": "2022-09-27T18:05:23.235Z"
   },
   {
    "duration": 5,
    "start_time": "2022-09-27T18:05:23.248Z"
   },
   {
    "duration": 11,
    "start_time": "2022-09-27T18:05:23.254Z"
   },
   {
    "duration": 7,
    "start_time": "2022-09-27T18:05:23.267Z"
   },
   {
    "duration": 5,
    "start_time": "2022-09-27T18:05:23.275Z"
   },
   {
    "duration": 30,
    "start_time": "2022-09-27T18:05:23.281Z"
   },
   {
    "duration": 12,
    "start_time": "2022-09-27T18:05:23.313Z"
   },
   {
    "duration": 4,
    "start_time": "2022-09-27T18:05:23.329Z"
   },
   {
    "duration": 8,
    "start_time": "2022-09-27T18:05:23.335Z"
   },
   {
    "duration": 6,
    "start_time": "2022-09-27T18:05:23.344Z"
   },
   {
    "duration": 154,
    "start_time": "2022-09-27T18:05:23.352Z"
   },
   {
    "duration": 0,
    "start_time": "2022-09-27T18:05:23.510Z"
   },
   {
    "duration": 0,
    "start_time": "2022-09-27T18:05:23.512Z"
   },
   {
    "duration": 0,
    "start_time": "2022-09-27T18:05:23.513Z"
   },
   {
    "duration": 0,
    "start_time": "2022-09-27T18:05:23.514Z"
   },
   {
    "duration": 0,
    "start_time": "2022-09-27T18:05:23.515Z"
   },
   {
    "duration": 0,
    "start_time": "2022-09-27T18:05:23.517Z"
   },
   {
    "duration": 0,
    "start_time": "2022-09-27T18:05:23.518Z"
   },
   {
    "duration": 0,
    "start_time": "2022-09-27T18:05:23.519Z"
   },
   {
    "duration": 0,
    "start_time": "2022-09-27T18:05:23.520Z"
   },
   {
    "duration": 0,
    "start_time": "2022-09-27T18:05:23.521Z"
   },
   {
    "duration": 0,
    "start_time": "2022-09-27T18:05:23.522Z"
   },
   {
    "duration": 0,
    "start_time": "2022-09-27T18:05:23.523Z"
   },
   {
    "duration": 0,
    "start_time": "2022-09-27T18:05:23.525Z"
   },
   {
    "duration": 0,
    "start_time": "2022-09-27T18:05:23.526Z"
   },
   {
    "duration": 0,
    "start_time": "2022-09-27T18:05:23.527Z"
   },
   {
    "duration": 0,
    "start_time": "2022-09-27T18:05:23.528Z"
   },
   {
    "duration": 0,
    "start_time": "2022-09-27T18:05:23.529Z"
   },
   {
    "duration": 0,
    "start_time": "2022-09-27T18:05:23.530Z"
   },
   {
    "duration": 0,
    "start_time": "2022-09-27T18:05:23.531Z"
   },
   {
    "duration": 0,
    "start_time": "2022-09-27T18:05:23.533Z"
   },
   {
    "duration": 0,
    "start_time": "2022-09-27T18:05:23.534Z"
   },
   {
    "duration": 0,
    "start_time": "2022-09-27T18:05:23.535Z"
   },
   {
    "duration": 0,
    "start_time": "2022-09-27T18:05:23.536Z"
   },
   {
    "duration": 0,
    "start_time": "2022-09-27T18:05:23.537Z"
   },
   {
    "duration": 0,
    "start_time": "2022-09-27T18:05:23.539Z"
   },
   {
    "duration": 0,
    "start_time": "2022-09-27T18:05:23.540Z"
   },
   {
    "duration": 0,
    "start_time": "2022-09-27T18:05:23.541Z"
   },
   {
    "duration": 0,
    "start_time": "2022-09-27T18:05:23.542Z"
   },
   {
    "duration": 0,
    "start_time": "2022-09-27T18:05:23.543Z"
   },
   {
    "duration": 0,
    "start_time": "2022-09-27T18:05:23.544Z"
   },
   {
    "duration": 0,
    "start_time": "2022-09-27T18:05:23.545Z"
   },
   {
    "duration": 0,
    "start_time": "2022-09-27T18:05:23.546Z"
   },
   {
    "duration": 0,
    "start_time": "2022-09-27T18:05:23.547Z"
   },
   {
    "duration": 0,
    "start_time": "2022-09-27T18:05:23.547Z"
   },
   {
    "duration": 0,
    "start_time": "2022-09-27T18:05:23.549Z"
   },
   {
    "duration": 0,
    "start_time": "2022-09-27T18:05:23.550Z"
   },
   {
    "duration": 0,
    "start_time": "2022-09-27T18:05:23.609Z"
   },
   {
    "duration": 0,
    "start_time": "2022-09-27T18:05:23.610Z"
   },
   {
    "duration": 0,
    "start_time": "2022-09-27T18:05:23.611Z"
   },
   {
    "duration": 12,
    "start_time": "2022-09-27T18:06:12.759Z"
   },
   {
    "duration": 1360,
    "start_time": "2022-09-27T18:06:18.536Z"
   },
   {
    "duration": 53,
    "start_time": "2022-09-27T18:06:19.898Z"
   },
   {
    "duration": 14,
    "start_time": "2022-09-27T18:06:19.952Z"
   },
   {
    "duration": 4,
    "start_time": "2022-09-27T18:06:19.968Z"
   },
   {
    "duration": 10,
    "start_time": "2022-09-27T18:06:19.973Z"
   },
   {
    "duration": 6,
    "start_time": "2022-09-27T18:06:19.985Z"
   },
   {
    "duration": 6,
    "start_time": "2022-09-27T18:06:19.992Z"
   },
   {
    "duration": 15,
    "start_time": "2022-09-27T18:06:20.010Z"
   },
   {
    "duration": 15,
    "start_time": "2022-09-27T18:06:20.028Z"
   },
   {
    "duration": 4,
    "start_time": "2022-09-27T18:06:20.046Z"
   },
   {
    "duration": 10,
    "start_time": "2022-09-27T18:06:20.052Z"
   },
   {
    "duration": 5,
    "start_time": "2022-09-27T18:06:20.063Z"
   },
   {
    "duration": 42,
    "start_time": "2022-09-27T18:06:20.070Z"
   },
   {
    "duration": 22,
    "start_time": "2022-09-27T18:06:20.114Z"
   },
   {
    "duration": 15,
    "start_time": "2022-09-27T18:06:20.138Z"
   },
   {
    "duration": 21,
    "start_time": "2022-09-27T18:06:20.155Z"
   },
   {
    "duration": 44,
    "start_time": "2022-09-27T18:06:20.178Z"
   },
   {
    "duration": 41,
    "start_time": "2022-09-27T18:06:20.223Z"
   },
   {
    "duration": 14,
    "start_time": "2022-09-27T18:06:20.265Z"
   },
   {
    "duration": 608,
    "start_time": "2022-09-27T18:06:20.281Z"
   },
   {
    "duration": 147,
    "start_time": "2022-09-27T18:06:20.891Z"
   },
   {
    "duration": 5,
    "start_time": "2022-09-27T18:06:21.039Z"
   },
   {
    "duration": 10,
    "start_time": "2022-09-27T18:06:21.045Z"
   },
   {
    "duration": 135,
    "start_time": "2022-09-27T18:06:21.057Z"
   },
   {
    "duration": 6,
    "start_time": "2022-09-27T18:06:21.194Z"
   },
   {
    "duration": 8,
    "start_time": "2022-09-27T18:06:21.209Z"
   },
   {
    "duration": 850,
    "start_time": "2022-09-27T18:06:21.219Z"
   },
   {
    "duration": 18677,
    "start_time": "2022-09-27T18:06:22.073Z"
   },
   {
    "duration": 118,
    "start_time": "2022-09-27T18:06:40.752Z"
   },
   {
    "duration": 24,
    "start_time": "2022-09-27T18:06:40.872Z"
   },
   {
    "duration": 29,
    "start_time": "2022-09-27T18:06:40.909Z"
   },
   {
    "duration": 170,
    "start_time": "2022-09-27T18:06:40.939Z"
   },
   {
    "duration": 360,
    "start_time": "2022-09-27T18:06:41.111Z"
   },
   {
    "duration": 37,
    "start_time": "2022-09-27T18:06:41.473Z"
   },
   {
    "duration": 98,
    "start_time": "2022-09-27T18:06:41.512Z"
   },
   {
    "duration": 7,
    "start_time": "2022-09-27T18:06:41.612Z"
   },
   {
    "duration": 535,
    "start_time": "2022-09-27T18:06:41.621Z"
   },
   {
    "duration": 18922,
    "start_time": "2022-09-27T18:06:42.158Z"
   },
   {
    "duration": 140,
    "start_time": "2022-09-27T18:07:01.081Z"
   },
   {
    "duration": 9,
    "start_time": "2022-09-27T18:07:01.310Z"
   },
   {
    "duration": 409,
    "start_time": "2022-09-27T18:07:01.411Z"
   },
   {
    "duration": 17,
    "start_time": "2022-09-27T18:07:01.821Z"
   },
   {
    "duration": 633,
    "start_time": "2022-09-27T18:07:01.840Z"
   },
   {
    "duration": 24834,
    "start_time": "2022-09-27T18:07:02.475Z"
   },
   {
    "duration": 198,
    "start_time": "2022-09-27T18:07:27.311Z"
   },
   {
    "duration": 11,
    "start_time": "2022-09-27T18:07:27.511Z"
   },
   {
    "duration": 389,
    "start_time": "2022-09-27T18:07:27.609Z"
   },
   {
    "duration": 388,
    "start_time": "2022-09-27T18:07:27.999Z"
   },
   {
    "duration": 3,
    "start_time": "2022-09-27T18:07:28.388Z"
   },
   {
    "duration": 26,
    "start_time": "2022-09-27T18:07:28.392Z"
   },
   {
    "duration": 120,
    "start_time": "2022-09-27T18:07:28.420Z"
   },
   {
    "duration": 14,
    "start_time": "2022-09-27T18:07:28.542Z"
   },
   {
    "duration": 1324,
    "start_time": "2022-09-27T18:08:54.497Z"
   },
   {
    "duration": 60,
    "start_time": "2022-09-27T18:08:55.823Z"
   },
   {
    "duration": 15,
    "start_time": "2022-09-27T18:08:55.884Z"
   },
   {
    "duration": 4,
    "start_time": "2022-09-27T18:08:55.901Z"
   },
   {
    "duration": 11,
    "start_time": "2022-09-27T18:08:55.907Z"
   },
   {
    "duration": 11,
    "start_time": "2022-09-27T18:08:55.919Z"
   },
   {
    "duration": 11,
    "start_time": "2022-09-27T18:08:55.932Z"
   },
   {
    "duration": 14,
    "start_time": "2022-09-27T18:08:55.945Z"
   },
   {
    "duration": 10,
    "start_time": "2022-09-27T18:08:55.960Z"
   },
   {
    "duration": 13,
    "start_time": "2022-09-27T18:08:55.973Z"
   },
   {
    "duration": 21,
    "start_time": "2022-09-27T18:08:55.988Z"
   },
   {
    "duration": 7,
    "start_time": "2022-09-27T18:08:56.011Z"
   },
   {
    "duration": 15,
    "start_time": "2022-09-27T18:08:56.020Z"
   },
   {
    "duration": 22,
    "start_time": "2022-09-27T18:08:56.036Z"
   },
   {
    "duration": 10,
    "start_time": "2022-09-27T18:08:56.060Z"
   },
   {
    "duration": 16,
    "start_time": "2022-09-27T18:08:56.072Z"
   },
   {
    "duration": 31,
    "start_time": "2022-09-27T18:08:56.090Z"
   },
   {
    "duration": 15,
    "start_time": "2022-09-27T18:08:56.123Z"
   },
   {
    "duration": 35,
    "start_time": "2022-09-27T18:08:56.140Z"
   },
   {
    "duration": 43,
    "start_time": "2022-09-27T18:08:56.177Z"
   },
   {
    "duration": 620,
    "start_time": "2022-09-27T18:08:56.222Z"
   },
   {
    "duration": 151,
    "start_time": "2022-09-27T18:08:56.843Z"
   },
   {
    "duration": 4,
    "start_time": "2022-09-27T18:08:56.995Z"
   },
   {
    "duration": 16,
    "start_time": "2022-09-27T18:08:57.000Z"
   },
   {
    "duration": 126,
    "start_time": "2022-09-27T18:08:57.017Z"
   },
   {
    "duration": 6,
    "start_time": "2022-09-27T18:08:57.144Z"
   },
   {
    "duration": 7,
    "start_time": "2022-09-27T18:08:57.151Z"
   },
   {
    "duration": 870,
    "start_time": "2022-09-27T18:08:57.162Z"
   },
   {
    "duration": 20544,
    "start_time": "2022-09-27T18:08:58.034Z"
   },
   {
    "duration": 117,
    "start_time": "2022-09-27T18:09:18.580Z"
   },
   {
    "duration": 34,
    "start_time": "2022-09-27T18:09:18.699Z"
   },
   {
    "duration": 80,
    "start_time": "2022-09-27T18:09:18.735Z"
   },
   {
    "duration": 99,
    "start_time": "2022-09-27T18:09:18.818Z"
   },
   {
    "duration": 429,
    "start_time": "2022-09-27T18:09:18.919Z"
   },
   {
    "duration": 14,
    "start_time": "2022-09-27T18:09:19.349Z"
   },
   {
    "duration": 9,
    "start_time": "2022-09-27T18:09:19.410Z"
   },
   {
    "duration": 95,
    "start_time": "2022-09-27T18:09:19.421Z"
   },
   {
    "duration": 467,
    "start_time": "2022-09-27T18:09:19.518Z"
   },
   {
    "duration": 20422,
    "start_time": "2022-09-27T18:09:19.987Z"
   },
   {
    "duration": 398,
    "start_time": "2022-09-27T18:09:40.411Z"
   },
   {
    "duration": 97,
    "start_time": "2022-09-27T18:09:40.814Z"
   },
   {
    "duration": 380,
    "start_time": "2022-09-27T18:09:40.912Z"
   },
   {
    "duration": 26,
    "start_time": "2022-09-27T18:09:41.293Z"
   },
   {
    "duration": 606,
    "start_time": "2022-09-27T18:09:41.320Z"
   },
   {
    "duration": 27371,
    "start_time": "2022-09-27T18:09:41.928Z"
   },
   {
    "duration": 118,
    "start_time": "2022-09-27T18:10:09.300Z"
   },
   {
    "duration": 90,
    "start_time": "2022-09-27T18:10:09.420Z"
   },
   {
    "duration": 491,
    "start_time": "2022-09-27T18:10:09.512Z"
   },
   {
    "duration": 392,
    "start_time": "2022-09-27T18:10:10.009Z"
   },
   {
    "duration": 8,
    "start_time": "2022-09-27T18:10:10.402Z"
   },
   {
    "duration": 15,
    "start_time": "2022-09-27T18:10:10.411Z"
   },
   {
    "duration": 126,
    "start_time": "2022-09-27T18:10:10.428Z"
   },
   {
    "duration": 14,
    "start_time": "2022-09-27T18:10:10.556Z"
   },
   {
    "duration": 1257,
    "start_time": "2022-09-27T19:39:37.040Z"
   },
   {
    "duration": 52,
    "start_time": "2022-09-27T19:39:38.299Z"
   },
   {
    "duration": 13,
    "start_time": "2022-09-27T19:39:38.353Z"
   },
   {
    "duration": 4,
    "start_time": "2022-09-27T19:39:38.369Z"
   },
   {
    "duration": 6,
    "start_time": "2022-09-27T19:39:38.375Z"
   },
   {
    "duration": 6,
    "start_time": "2022-09-27T19:39:38.382Z"
   },
   {
    "duration": 20,
    "start_time": "2022-09-27T19:39:38.389Z"
   },
   {
    "duration": 13,
    "start_time": "2022-09-27T19:39:38.410Z"
   },
   {
    "duration": 10,
    "start_time": "2022-09-27T19:39:38.424Z"
   },
   {
    "duration": 10,
    "start_time": "2022-09-27T19:39:38.437Z"
   },
   {
    "duration": 3,
    "start_time": "2022-09-27T19:39:38.449Z"
   },
   {
    "duration": 6,
    "start_time": "2022-09-27T19:39:38.454Z"
   },
   {
    "duration": 6,
    "start_time": "2022-09-27T19:39:38.461Z"
   },
   {
    "duration": 40,
    "start_time": "2022-09-27T19:39:38.468Z"
   },
   {
    "duration": 11,
    "start_time": "2022-09-27T19:39:38.510Z"
   },
   {
    "duration": 11,
    "start_time": "2022-09-27T19:39:38.522Z"
   },
   {
    "duration": 13,
    "start_time": "2022-09-27T19:39:38.534Z"
   },
   {
    "duration": 14,
    "start_time": "2022-09-27T19:39:38.549Z"
   },
   {
    "duration": 55,
    "start_time": "2022-09-27T19:39:38.564Z"
   },
   {
    "duration": 12,
    "start_time": "2022-09-27T19:39:38.621Z"
   },
   {
    "duration": 531,
    "start_time": "2022-09-27T19:39:38.634Z"
   },
   {
    "duration": 157,
    "start_time": "2022-09-27T19:39:39.166Z"
   },
   {
    "duration": 4,
    "start_time": "2022-09-27T19:39:39.324Z"
   },
   {
    "duration": 12,
    "start_time": "2022-09-27T19:39:39.329Z"
   },
   {
    "duration": 121,
    "start_time": "2022-09-27T19:39:39.342Z"
   },
   {
    "duration": 5,
    "start_time": "2022-09-27T19:39:39.465Z"
   },
   {
    "duration": 8,
    "start_time": "2022-09-27T19:39:39.472Z"
   },
   {
    "duration": 831,
    "start_time": "2022-09-27T19:39:39.483Z"
   },
   {
    "duration": 20004,
    "start_time": "2022-09-27T19:39:40.315Z"
   },
   {
    "duration": 129,
    "start_time": "2022-09-27T19:40:00.321Z"
   },
   {
    "duration": 32,
    "start_time": "2022-09-27T19:40:00.451Z"
   },
   {
    "duration": 47,
    "start_time": "2022-09-27T19:40:00.485Z"
   },
   {
    "duration": 84,
    "start_time": "2022-09-27T19:40:00.534Z"
   },
   {
    "duration": 445,
    "start_time": "2022-09-27T19:40:00.709Z"
   },
   {
    "duration": 54,
    "start_time": "2022-09-27T19:40:01.155Z"
   },
   {
    "duration": 98,
    "start_time": "2022-09-27T19:40:01.212Z"
   },
   {
    "duration": 27,
    "start_time": "2022-09-27T19:40:01.311Z"
   },
   {
    "duration": 509,
    "start_time": "2022-09-27T19:40:01.340Z"
   },
   {
    "duration": 20470,
    "start_time": "2022-09-27T19:40:01.851Z"
   },
   {
    "duration": 291,
    "start_time": "2022-09-27T19:40:22.323Z"
   },
   {
    "duration": 95,
    "start_time": "2022-09-27T19:40:22.616Z"
   },
   {
    "duration": 470,
    "start_time": "2022-09-27T19:40:22.713Z"
   },
   {
    "duration": 25,
    "start_time": "2022-09-27T19:40:23.184Z"
   },
   {
    "duration": 565,
    "start_time": "2022-09-27T19:40:23.211Z"
   },
   {
    "duration": 27052,
    "start_time": "2022-09-27T19:40:23.778Z"
   },
   {
    "duration": 186,
    "start_time": "2022-09-27T19:40:50.832Z"
   },
   {
    "duration": 96,
    "start_time": "2022-09-27T19:40:51.019Z"
   },
   {
    "duration": 479,
    "start_time": "2022-09-27T19:40:51.117Z"
   },
   {
    "duration": 393,
    "start_time": "2022-09-27T19:40:51.597Z"
   },
   {
    "duration": 3,
    "start_time": "2022-09-27T19:40:51.991Z"
   },
   {
    "duration": 28,
    "start_time": "2022-09-27T19:40:51.995Z"
   },
   {
    "duration": 131,
    "start_time": "2022-09-27T19:40:52.024Z"
   },
   {
    "duration": 15,
    "start_time": "2022-09-27T19:40:52.157Z"
   }
  ],
  "kernelspec": {
   "display_name": "Python 3 (ipykernel)",
   "language": "python",
   "name": "python3"
  },
  "language_info": {
   "codemirror_mode": {
    "name": "ipython",
    "version": 3
   },
   "file_extension": ".py",
   "mimetype": "text/x-python",
   "name": "python",
   "nbconvert_exporter": "python",
   "pygments_lexer": "ipython3",
   "version": "3.9.12"
  },
  "toc": {
   "base_numbering": 1,
   "nav_menu": {},
   "number_sections": true,
   "sideBar": true,
   "skip_h1_title": true,
   "title_cell": "Содержание",
   "title_sidebar": "Contents",
   "toc_cell": true,
   "toc_position": {
    "height": "calc(100% - 180px)",
    "left": "10px",
    "top": "150px",
    "width": "273px"
   },
   "toc_section_display": true,
   "toc_window_display": true
  }
 },
 "nbformat": 4,
 "nbformat_minor": 2
}
