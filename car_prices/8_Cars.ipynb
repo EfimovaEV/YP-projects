{
 "cells": [
  {
   "cell_type": "markdown",
   "metadata": {},
   "source": [
    "# Определение стоимости автомобилей"
   ]
  },
  {
   "cell_type": "markdown",
   "metadata": {},
   "source": [
    "Сервис по продаже автомобилей разрабатывает приложение для привлечения новых клиентов. В нём можно быстро узнать рыночную стоимость своего автомобиля. В вашем распоряжении исторические данные: технические характеристики, комплектации и цены автомобилей. Вам нужно построить модель для определения стоимости. \n",
    "\n",
    "Заказчику важны:\n",
    "\n",
    "- качество предсказания (RMSE < 2500) \n",
    "- скорость предсказания\n",
    "- время обучения"
   ]
  },
  {
   "cell_type": "markdown",
   "metadata": {},
   "source": [
    "## Подготовка данных"
   ]
  },
  {
   "cell_type": "code",
   "execution_count": 1,
   "metadata": {},
   "outputs": [],
   "source": [
    "#импорт необходимых библиотек\n",
    "import pandas as pd\n",
    "import matplotlib.pyplot as plt\n",
    "import random\n",
    "import numpy as np\n",
    "import re\n",
    "import time\n",
    "\n",
    "from sklearn.model_selection import train_test_split\n",
    "from sklearn.preprocessing import OrdinalEncoder, OneHotEncoder\n",
    "from sklearn.model_selection import KFold, GridSearchCV, train_test_split\n",
    "\n",
    "from catboost import CatBoostRegressor\n",
    "from lightgbm import LGBMRegressor\n",
    "from sklearn.tree import DecisionTreeRegressor\n",
    "from sklearn.linear_model import LinearRegression\n",
    "\n",
    "from sklearn.metrics import mean_squared_error\n",
    "\n",
    "import warnings\n",
    "warnings.filterwarnings('ignore')"
   ]
  },
  {
   "cell_type": "markdown",
   "metadata": {},
   "source": [
    "### Общая информация"
   ]
  },
  {
   "cell_type": "code",
   "execution_count": 2,
   "metadata": {},
   "outputs": [],
   "source": [
    "data = pd.read_csv('datasets/autos.csv')"
   ]
  },
  {
   "cell_type": "code",
   "execution_count": 3,
   "metadata": {
    "scrolled": true
   },
   "outputs": [
    {
     "data": {
      "text/html": [
       "<div>\n",
       "<style scoped>\n",
       "    .dataframe tbody tr th:only-of-type {\n",
       "        vertical-align: middle;\n",
       "    }\n",
       "\n",
       "    .dataframe tbody tr th {\n",
       "        vertical-align: top;\n",
       "    }\n",
       "\n",
       "    .dataframe thead th {\n",
       "        text-align: right;\n",
       "    }\n",
       "</style>\n",
       "<table border=\"1\" class=\"dataframe\">\n",
       "  <thead>\n",
       "    <tr style=\"text-align: right;\">\n",
       "      <th></th>\n",
       "      <th>DateCrawled</th>\n",
       "      <th>Price</th>\n",
       "      <th>VehicleType</th>\n",
       "      <th>RegistrationYear</th>\n",
       "      <th>Gearbox</th>\n",
       "      <th>Power</th>\n",
       "      <th>Model</th>\n",
       "      <th>Kilometer</th>\n",
       "      <th>RegistrationMonth</th>\n",
       "      <th>FuelType</th>\n",
       "      <th>Brand</th>\n",
       "      <th>Repaired</th>\n",
       "      <th>DateCreated</th>\n",
       "      <th>NumberOfPictures</th>\n",
       "      <th>PostalCode</th>\n",
       "      <th>LastSeen</th>\n",
       "    </tr>\n",
       "  </thead>\n",
       "  <tbody>\n",
       "    <tr>\n",
       "      <th>0</th>\n",
       "      <td>2016-03-24 11:52:17</td>\n",
       "      <td>480</td>\n",
       "      <td>NaN</td>\n",
       "      <td>1993</td>\n",
       "      <td>manual</td>\n",
       "      <td>0</td>\n",
       "      <td>golf</td>\n",
       "      <td>150000</td>\n",
       "      <td>0</td>\n",
       "      <td>petrol</td>\n",
       "      <td>volkswagen</td>\n",
       "      <td>NaN</td>\n",
       "      <td>2016-03-24 00:00:00</td>\n",
       "      <td>0</td>\n",
       "      <td>70435</td>\n",
       "      <td>2016-04-07 03:16:57</td>\n",
       "    </tr>\n",
       "    <tr>\n",
       "      <th>1</th>\n",
       "      <td>2016-03-24 10:58:45</td>\n",
       "      <td>18300</td>\n",
       "      <td>coupe</td>\n",
       "      <td>2011</td>\n",
       "      <td>manual</td>\n",
       "      <td>190</td>\n",
       "      <td>NaN</td>\n",
       "      <td>125000</td>\n",
       "      <td>5</td>\n",
       "      <td>gasoline</td>\n",
       "      <td>audi</td>\n",
       "      <td>yes</td>\n",
       "      <td>2016-03-24 00:00:00</td>\n",
       "      <td>0</td>\n",
       "      <td>66954</td>\n",
       "      <td>2016-04-07 01:46:50</td>\n",
       "    </tr>\n",
       "    <tr>\n",
       "      <th>2</th>\n",
       "      <td>2016-03-14 12:52:21</td>\n",
       "      <td>9800</td>\n",
       "      <td>suv</td>\n",
       "      <td>2004</td>\n",
       "      <td>auto</td>\n",
       "      <td>163</td>\n",
       "      <td>grand</td>\n",
       "      <td>125000</td>\n",
       "      <td>8</td>\n",
       "      <td>gasoline</td>\n",
       "      <td>jeep</td>\n",
       "      <td>NaN</td>\n",
       "      <td>2016-03-14 00:00:00</td>\n",
       "      <td>0</td>\n",
       "      <td>90480</td>\n",
       "      <td>2016-04-05 12:47:46</td>\n",
       "    </tr>\n",
       "    <tr>\n",
       "      <th>3</th>\n",
       "      <td>2016-03-17 16:54:04</td>\n",
       "      <td>1500</td>\n",
       "      <td>small</td>\n",
       "      <td>2001</td>\n",
       "      <td>manual</td>\n",
       "      <td>75</td>\n",
       "      <td>golf</td>\n",
       "      <td>150000</td>\n",
       "      <td>6</td>\n",
       "      <td>petrol</td>\n",
       "      <td>volkswagen</td>\n",
       "      <td>no</td>\n",
       "      <td>2016-03-17 00:00:00</td>\n",
       "      <td>0</td>\n",
       "      <td>91074</td>\n",
       "      <td>2016-03-17 17:40:17</td>\n",
       "    </tr>\n",
       "    <tr>\n",
       "      <th>4</th>\n",
       "      <td>2016-03-31 17:25:20</td>\n",
       "      <td>3600</td>\n",
       "      <td>small</td>\n",
       "      <td>2008</td>\n",
       "      <td>manual</td>\n",
       "      <td>69</td>\n",
       "      <td>fabia</td>\n",
       "      <td>90000</td>\n",
       "      <td>7</td>\n",
       "      <td>gasoline</td>\n",
       "      <td>skoda</td>\n",
       "      <td>no</td>\n",
       "      <td>2016-03-31 00:00:00</td>\n",
       "      <td>0</td>\n",
       "      <td>60437</td>\n",
       "      <td>2016-04-06 10:17:21</td>\n",
       "    </tr>\n",
       "  </tbody>\n",
       "</table>\n",
       "</div>"
      ],
      "text/plain": [
       "           DateCrawled  Price VehicleType  RegistrationYear Gearbox  Power  \\\n",
       "0  2016-03-24 11:52:17    480         NaN              1993  manual      0   \n",
       "1  2016-03-24 10:58:45  18300       coupe              2011  manual    190   \n",
       "2  2016-03-14 12:52:21   9800         suv              2004    auto    163   \n",
       "3  2016-03-17 16:54:04   1500       small              2001  manual     75   \n",
       "4  2016-03-31 17:25:20   3600       small              2008  manual     69   \n",
       "\n",
       "   Model  Kilometer  RegistrationMonth  FuelType       Brand Repaired  \\\n",
       "0   golf     150000                  0    petrol  volkswagen      NaN   \n",
       "1    NaN     125000                  5  gasoline        audi      yes   \n",
       "2  grand     125000                  8  gasoline        jeep      NaN   \n",
       "3   golf     150000                  6    petrol  volkswagen       no   \n",
       "4  fabia      90000                  7  gasoline       skoda       no   \n",
       "\n",
       "           DateCreated  NumberOfPictures  PostalCode             LastSeen  \n",
       "0  2016-03-24 00:00:00                 0       70435  2016-04-07 03:16:57  \n",
       "1  2016-03-24 00:00:00                 0       66954  2016-04-07 01:46:50  \n",
       "2  2016-03-14 00:00:00                 0       90480  2016-04-05 12:47:46  \n",
       "3  2016-03-17 00:00:00                 0       91074  2016-03-17 17:40:17  \n",
       "4  2016-03-31 00:00:00                 0       60437  2016-04-06 10:17:21  "
      ]
     },
     "execution_count": 3,
     "metadata": {},
     "output_type": "execute_result"
    }
   ],
   "source": [
    "data.head()"
   ]
  },
  {
   "cell_type": "code",
   "execution_count": 4,
   "metadata": {
    "scrolled": false
   },
   "outputs": [
    {
     "name": "stdout",
     "output_type": "stream",
     "text": [
      "<class 'pandas.core.frame.DataFrame'>\n",
      "RangeIndex: 354369 entries, 0 to 354368\n",
      "Data columns (total 16 columns):\n",
      " #   Column             Non-Null Count   Dtype \n",
      "---  ------             --------------   ----- \n",
      " 0   DateCrawled        354369 non-null  object\n",
      " 1   Price              354369 non-null  int64 \n",
      " 2   VehicleType        316879 non-null  object\n",
      " 3   RegistrationYear   354369 non-null  int64 \n",
      " 4   Gearbox            334536 non-null  object\n",
      " 5   Power              354369 non-null  int64 \n",
      " 6   Model              334664 non-null  object\n",
      " 7   Kilometer          354369 non-null  int64 \n",
      " 8   RegistrationMonth  354369 non-null  int64 \n",
      " 9   FuelType           321474 non-null  object\n",
      " 10  Brand              354369 non-null  object\n",
      " 11  Repaired           283215 non-null  object\n",
      " 12  DateCreated        354369 non-null  object\n",
      " 13  NumberOfPictures   354369 non-null  int64 \n",
      " 14  PostalCode         354369 non-null  int64 \n",
      " 15  LastSeen           354369 non-null  object\n",
      "dtypes: int64(7), object(9)\n",
      "memory usage: 43.3+ MB\n"
     ]
    }
   ],
   "source": [
    "data.info()"
   ]
  },
  {
   "cell_type": "markdown",
   "metadata": {},
   "source": [
    "**Признаки**\n",
    "- `DateCrawled` — дата скачивания анкеты из базы\n",
    "- `VehicleType` — тип автомобильного кузова\n",
    "- `RegistrationYear` — год выпуска автомобиля\n",
    "- `Gearbox` — тип коробки передач\n",
    "- `Power` — мощность (л.с.)\n",
    "- `Model` — модель автомобиля\n",
    "- `Kilometer` — пробег (км)\n",
    "- `RegistrationMonth` — месяц выпуска автомобиля\n",
    "- `FuelType` — тип топлива\n",
    "- `Brand` — марка автомобиля\n",
    "- `Repaired` — была машина в ремонте или нет\n",
    "- `DateCreated` — дата создания анкеты\n",
    "- `NumberOfPictures` — количество фотографий автомобиля\n",
    "- `PostalCode` — почтовый индекс владельца анкеты (пользователя)\n",
    "- `LastSeen` — дата последней активности пользователя\n",
    "\n",
    "**Целевой признак**\n",
    "- `Price` — цена (евро)"
   ]
  },
  {
   "cell_type": "code",
   "execution_count": 5,
   "metadata": {},
   "outputs": [
    {
     "name": "stdout",
     "output_type": "stream",
     "text": [
      "Данные скачаны в апреле 2016 года.\n",
      "Всего 354369 строк.\n"
     ]
    }
   ],
   "source": [
    "month = pd.to_datetime(data['DateCrawled'], format='%Y-%m-%d %H:%M:%S').max().month \n",
    "month = ['январе', 'феврале', 'марте', 'апреле', 'мае', 'июне', \n",
    "         'июле', 'августе', 'сентябре', 'октябре', 'ноябре', 'декабре'         \n",
    "        ][month - 1]\n",
    "print('Данные скачаны в',\n",
    "      month,\n",
    "      pd.to_datetime(data['DateCrawled'], format='%Y-%m-%d %H:%M:%S').max().year,\n",
    "      'года.'\n",
    "     )\n",
    "\n",
    "length = len(data)\n",
    "\n",
    "print('Всего', length, 'строк.')"
   ]
  },
  {
   "cell_type": "markdown",
   "metadata": {},
   "source": [
    "### Предобработка данных"
   ]
  },
  {
   "cell_type": "markdown",
   "metadata": {},
   "source": [
    "Для удобства переведем названия столбцов в змеиный регистр:"
   ]
  },
  {
   "cell_type": "code",
   "execution_count": 6,
   "metadata": {
    "scrolled": true
   },
   "outputs": [
    {
     "data": {
      "text/plain": [
       "Index(['date_crawled', 'price', 'vehicle_type', 'registration_year', 'gearbox',\n",
       "       'power', 'model', 'kilometer', 'registration_month', 'fuel_type',\n",
       "       'brand', 'repaired', 'date_created', 'number_of_pictures',\n",
       "       'postal_code', 'last_seen'],\n",
       "      dtype='object')"
      ]
     },
     "execution_count": 6,
     "metadata": {},
     "output_type": "execute_result"
    }
   ],
   "source": [
    "def serpensortia(name):\n",
    "    new_name = re.findall('[A-Z][^A-Z]*', name)\n",
    "    new_name = [word.lower() for word in new_name]\n",
    "    return '_'.join(new_name)\n",
    "    \n",
    "data.columns = [serpensortia(name) for name in list(data.columns)]\n",
    "data.columns"
   ]
  },
  {
   "cell_type": "markdown",
   "metadata": {},
   "source": [
    "Проверим наличие дубликатов:"
   ]
  },
  {
   "cell_type": "code",
   "execution_count": 7,
   "metadata": {},
   "outputs": [
    {
     "name": "stdout",
     "output_type": "stream",
     "text": [
      "Всего 4 дубликата.\n"
     ]
    }
   ],
   "source": [
    "print('Всего', data.duplicated().sum(), 'дубликата.')\n",
    "data = data.drop_duplicates()"
   ]
  },
  {
   "cell_type": "markdown",
   "metadata": {},
   "source": [
    "Почтовый индекс владельца `postal_code`, дата скачивания анкеты `data_crawled` и дата последней активности пользователя`last_seen` не несут информации, определяющей стоимость автомобиля. Необходимо убрать их из данных."
   ]
  },
  {
   "cell_type": "code",
   "execution_count": 8,
   "metadata": {
    "scrolled": true
   },
   "outputs": [],
   "source": [
    "data = data.drop(['postal_code', 'date_crawled', 'last_seen'], axis=1)"
   ]
  },
  {
   "cell_type": "markdown",
   "metadata": {},
   "source": [
    "Столбец `date_created` должен имет тип *datetime*:"
   ]
  },
  {
   "cell_type": "code",
   "execution_count": 9,
   "metadata": {},
   "outputs": [],
   "source": [
    "data['date_created'] = pd.to_datetime(data['date_created'], format='%Y-%m-%d %H:%M:%S')"
   ]
  },
  {
   "cell_type": "markdown",
   "metadata": {},
   "source": [
    "Проведем обработку пропусков."
   ]
  },
  {
   "cell_type": "code",
   "execution_count": 10,
   "metadata": {},
   "outputs": [
    {
     "data": {
      "text/plain": [
       "price                     0\n",
       "vehicle_type          37490\n",
       "registration_year         0\n",
       "gearbox               19833\n",
       "power                     0\n",
       "model                 19705\n",
       "kilometer                 0\n",
       "registration_month        0\n",
       "fuel_type             32895\n",
       "brand                     0\n",
       "repaired              71154\n",
       "date_created              0\n",
       "number_of_pictures        0\n",
       "dtype: int64"
      ]
     },
     "execution_count": 10,
     "metadata": {},
     "output_type": "execute_result"
    }
   ],
   "source": [
    "data.isna().sum()"
   ]
  },
  {
   "cell_type": "markdown",
   "metadata": {},
   "source": [
    "Пропуски присутствуют в столбцах `vehicle_type`, `gearbox`, `model`, `fuel_type` и `repaired`. В первую очередь рассмотрим пропуски в столбце `model`. Для многих марок присутствует модель `other`. Заполним пропуски этим значением:"
   ]
  },
  {
   "cell_type": "code",
   "execution_count": 11,
   "metadata": {},
   "outputs": [],
   "source": [
    "data['model'] = data['model'].fillna('other')"
   ]
  },
  {
   "cell_type": "markdown",
   "metadata": {},
   "source": [
    "Признаки `vehicle_type`, `gearbox` и `fuel_type` можно было бы попробовать восстановить на основе названия марки и модели, однако модели выпускаются в разных комплектациях, поэтому и тип кузова, и тип коробки передач, и тип топлива могут быть разными для одной и той же модели. Поэтому заполним пропуски наиболее часто встречающимся значением. Однако для неизвестных моделей типа `other` нельзя так поступать, поэтому оставшиеся пропуски тоже заполним значением `other`."
   ]
  },
  {
   "cell_type": "code",
   "execution_count": 12,
   "metadata": {},
   "outputs": [],
   "source": [
    "data = data.fillna({'vehicle_type': 'other'})\n",
    "data['full_name'] = data['brand'] + ' ' + data['model'] +' ' +  data['vehicle_type']\n",
    "\n",
    "def fill_nan_by_model(data, col):\n",
    "    names = data.loc[data[col].isna(), 'full_name'].unique()\n",
    "    for name in names:\n",
    "        if name[-13:] != 'other other':#to be sure it is the only one model\n",
    "            filler = data.loc[(data['full_name'] == name), col].value_counts()\n",
    "            if len(filler) > 1:\n",
    "                data.loc[(data['full_name'] == name) & (data[col].isna()), col] = filler.idxmax()\n",
    "            \n",
    "\n",
    "for col in ['gearbox', 'fuel_type']:\n",
    "    fill_nan_by_model(data, col)\n",
    "    data = data.fillna({col: 'other'})\n",
    "    \n",
    "data = data.drop('full_name', axis=1)"
   ]
  },
  {
   "cell_type": "code",
   "execution_count": 13,
   "metadata": {},
   "outputs": [
    {
     "data": {
      "text/plain": [
       "price                     0\n",
       "vehicle_type              0\n",
       "registration_year         0\n",
       "gearbox                   0\n",
       "power                     0\n",
       "model                     0\n",
       "kilometer                 0\n",
       "registration_month        0\n",
       "fuel_type                 0\n",
       "brand                     0\n",
       "repaired              71154\n",
       "date_created              0\n",
       "number_of_pictures        0\n",
       "dtype: int64"
      ]
     },
     "execution_count": 13,
     "metadata": {},
     "output_type": "execute_result"
    }
   ],
   "source": [
    "data.isna().sum()"
   ]
  },
  {
   "cell_type": "markdown",
   "metadata": {},
   "source": [
    "Остались только пропуски в `repaired`. "
   ]
  },
  {
   "cell_type": "code",
   "execution_count": 14,
   "metadata": {},
   "outputs": [
    {
     "data": {
      "text/plain": [
       "71154"
      ]
     },
     "execution_count": 14,
     "metadata": {},
     "output_type": "execute_result"
    }
   ],
   "source": [
    "data['repaired'].isna().sum()"
   ]
  },
  {
   "cell_type": "markdown",
   "metadata": {},
   "source": [
    "Пропусков достаточно много. Рассмотрим значения столбца:"
   ]
  },
  {
   "cell_type": "code",
   "execution_count": 15,
   "metadata": {},
   "outputs": [
    {
     "data": {
      "text/plain": [
       "no     247158\n",
       "yes     36053\n",
       "Name: repaired, dtype: int64"
      ]
     },
     "execution_count": 15,
     "metadata": {},
     "output_type": "execute_result"
    }
   ],
   "source": [
    "data['repaired'].value_counts()"
   ]
  },
  {
   "cell_type": "markdown",
   "metadata": {},
   "source": [
    "Очевидно, что машины бывают в ремонте довольно редко. Логично предположить, что по умолчанию машина не была в ремонте. Заполним пропуски значением `no`."
   ]
  },
  {
   "cell_type": "code",
   "execution_count": 16,
   "metadata": {},
   "outputs": [],
   "source": [
    "data['repaired'] = data['repaired'].fillna('no')"
   ]
  },
  {
   "cell_type": "markdown",
   "metadata": {},
   "source": [
    "Прверим оставшиеся пропуски."
   ]
  },
  {
   "cell_type": "code",
   "execution_count": 17,
   "metadata": {},
   "outputs": [
    {
     "data": {
      "text/plain": [
       "price                 0\n",
       "vehicle_type          0\n",
       "registration_year     0\n",
       "gearbox               0\n",
       "power                 0\n",
       "model                 0\n",
       "kilometer             0\n",
       "registration_month    0\n",
       "fuel_type             0\n",
       "brand                 0\n",
       "repaired              0\n",
       "date_created          0\n",
       "number_of_pictures    0\n",
       "dtype: int64"
      ]
     },
     "execution_count": 17,
     "metadata": {},
     "output_type": "execute_result"
    }
   ],
   "source": [
    "data.isna().sum()"
   ]
  },
  {
   "cell_type": "markdown",
   "metadata": {},
   "source": [
    "Прпусков больше нет."
   ]
  },
  {
   "cell_type": "markdown",
   "metadata": {},
   "source": [
    "В данных есть две даты: дата создания анкеты и год и месяц выпуска автомобиля. Для автомобиля важна не сама дата выпуска, а время эксплуатации. Его можно определить как время между датой создания анкеты и датой выпуска авто. Так как нам недоступен день выпуска, будем измерять срок эксплуатации в месяцах."
   ]
  },
  {
   "cell_type": "code",
   "execution_count": 18,
   "metadata": {},
   "outputs": [],
   "source": [
    "data['age'] = (data['date_created'].dt.year - data['registration_year']) * 12 + \\\n",
    "              data['date_created'].dt.month - data['registration_month']"
   ]
  },
  {
   "cell_type": "markdown",
   "metadata": {},
   "source": [
    "### Обработка аномальных значений"
   ]
  },
  {
   "cell_type": "code",
   "execution_count": 19,
   "metadata": {},
   "outputs": [
    {
     "data": {
      "text/plain": [
       "count    354365.000000\n",
       "mean       2004.234481\n",
       "std          90.228466\n",
       "min        1000.000000\n",
       "25%        1999.000000\n",
       "50%        2003.000000\n",
       "75%        2008.000000\n",
       "max        9999.000000\n",
       "Name: registration_year, dtype: float64"
      ]
     },
     "execution_count": 19,
     "metadata": {},
     "output_type": "execute_result"
    }
   ],
   "source": [
    "data['registration_year'].describe()"
   ]
  },
  {
   "cell_type": "markdown",
   "metadata": {},
   "source": [
    "Наибольшее и наименьшее значения года выходят за рамки нашго исторического периода. Рассмотрим подробнее гистограмму для актуальных дат:"
   ]
  },
  {
   "cell_type": "code",
   "execution_count": 20,
   "metadata": {},
   "outputs": [
    {
     "data": {
      "text/plain": [
       "<matplotlib.lines.Line2D at 0x27804dfd100>"
      ]
     },
     "execution_count": 20,
     "metadata": {},
     "output_type": "execute_result"
    },
    {
     "data": {
      "image/png": "[encoded data removed]",
      "text/plain": [
       "<Figure size 432x288 with 1 Axes>"
      ]
     },
     "metadata": {
      "needs_background": "light"
     },
     "output_type": "display_data"
    }
   ],
   "source": [
    "fig, ax = plt.subplots()\n",
    "data['registration_year'].hist(bins=120, range=(1910, 2030))\n",
    "ax.axvline(x=2016, color='r', linestyle='--') #add 2016 year level"
   ]
  },
  {
   "cell_type": "code",
   "execution_count": 21,
   "metadata": {},
   "outputs": [
    {
     "data": {
      "text/plain": [
       "2017    10441\n",
       "2016     9599\n",
       "2018     3959\n",
       "2015     1302\n",
       "2019       25\n",
       "Name: registration_year, dtype: int64"
      ]
     },
     "execution_count": 21,
     "metadata": {},
     "output_type": "execute_result"
    }
   ],
   "source": [
    "data.loc[(data['registration_year'] >= 2015) & (data['registration_year'] < 2020),'registration_year'].value_counts()"
   ]
  },
  {
   "cell_type": "markdown",
   "metadata": {},
   "source": [
    "Разброс в данных по значениям велик(от 1000 до 10000). В реальности автомобилей старше 1960 года практически нет. Данные собраны в апреле  2016 года, однако после 2016 года наблюдается выброс значений. После 2020 года данных почти нет. Подробнее рассмотрим данные за 2017-1019 гг. Маловероятно, что производится продажа еще не выпущенных автомобилей. К сожалению, такие данные с аномальными значениями не могут быть использованы для обучения. "
   ]
  },
  {
   "cell_type": "code",
   "execution_count": 22,
   "metadata": {},
   "outputs": [],
   "source": [
    "drop_indexes = data.loc[(data['registration_year'] < 1960) | (data['age'] < 0)].index\n",
    "data = data.drop(drop_indexes)"
   ]
  },
  {
   "cell_type": "markdown",
   "metadata": {},
   "source": [
    "Рассмотрим данные `power`."
   ]
  },
  {
   "cell_type": "code",
   "execution_count": 23,
   "metadata": {
    "scrolled": true
   },
   "outputs": [
    {
     "data": {
      "text/plain": [
       "count    334183.000000\n",
       "mean        111.446348\n",
       "std         183.766599\n",
       "min           0.000000\n",
       "25%          69.000000\n",
       "50%         105.000000\n",
       "75%         143.000000\n",
       "max       20000.000000\n",
       "Name: power, dtype: float64"
      ]
     },
     "execution_count": 23,
     "metadata": {},
     "output_type": "execute_result"
    }
   ],
   "source": [
    "data['power'].describe()"
   ]
  },
  {
   "cell_type": "markdown",
   "metadata": {},
   "source": [
    "Реальные автомобили, не могут иметь 20 000 л.с. Рекорд мощности для спорткаров - примерно 2000 л.с."
   ]
  },
  {
   "cell_type": "code",
   "execution_count": 24,
   "metadata": {},
   "outputs": [
    {
     "data": {
      "text/plain": [
       "<AxesSubplot:>"
      ]
     },
     "execution_count": 24,
     "metadata": {},
     "output_type": "execute_result"
    },
    {
     "data": {
      "image/png": "[encoded data removed]",
      "text/plain": [
       "<Figure size 432x288 with 1 Axes>"
      ]
     },
     "metadata": {
      "needs_background": "light"
     },
     "output_type": "display_data"
    }
   ],
   "source": [
    "data['power'].hist(bins=200, range=(0, 2_000))"
   ]
  },
  {
   "cell_type": "markdown",
   "metadata": {},
   "source": [
    "Очевидно, что авто с можностью > 500 л.с. практически нет. Уберем данные с большей мощностью."
   ]
  },
  {
   "cell_type": "code",
   "execution_count": 25,
   "metadata": {},
   "outputs": [],
   "source": [
    "drop_indexes = data[data['power'] > 500].index\n",
    "data = data.drop(drop_indexes)"
   ]
  },
  {
   "cell_type": "markdown",
   "metadata": {},
   "source": [
    "Мощности 0 л.с. тоже не может быть. Удалим и их."
   ]
  },
  {
   "cell_type": "code",
   "execution_count": 26,
   "metadata": {},
   "outputs": [],
   "source": [
    "drop_indexes = data[data['power'] == 0].index\n",
    "data = data.drop(drop_indexes)"
   ]
  },
  {
   "cell_type": "markdown",
   "metadata": {},
   "source": [
    "Рассмотрим данные `number_of_pictures`."
   ]
  },
  {
   "cell_type": "code",
   "execution_count": 27,
   "metadata": {},
   "outputs": [
    {
     "data": {
      "text/plain": [
       "array([0], dtype=int64)"
      ]
     },
     "execution_count": 27,
     "metadata": {},
     "output_type": "execute_result"
    }
   ],
   "source": [
    "data['number_of_pictures'].unique()"
   ]
  },
  {
   "cell_type": "markdown",
   "metadata": {},
   "source": [
    "У всех авто отсутствуют фотографии. Столбец неинформативен, избавимся от него."
   ]
  },
  {
   "cell_type": "code",
   "execution_count": 28,
   "metadata": {},
   "outputs": [],
   "source": [
    "data = data.drop('number_of_pictures', axis=1)"
   ]
  },
  {
   "cell_type": "markdown",
   "metadata": {},
   "source": [
    "Рассмотрим данные о пробеге."
   ]
  },
  {
   "cell_type": "code",
   "execution_count": 29,
   "metadata": {
    "scrolled": true
   },
   "outputs": [
    {
     "data": {
      "text/plain": [
       "<AxesSubplot:>"
      ]
     },
     "execution_count": 29,
     "metadata": {},
     "output_type": "execute_result"
    },
    {
     "data": {
      "image/png": "[encoded data removed]",
      "text/plain": [
       "<Figure size 432x288 with 1 Axes>"
      ]
     },
     "metadata": {
      "needs_background": "light"
     },
     "output_type": "display_data"
    }
   ],
   "source": [
    "data['kilometer'].hist(bins=150)"
   ]
  },
  {
   "cell_type": "markdown",
   "metadata": {},
   "source": [
    "Значения пробега дискретные, однако аномальных значений нет. \n",
    "\n",
    "Рассмотрим цены автомобилей."
   ]
  },
  {
   "cell_type": "code",
   "execution_count": 30,
   "metadata": {
    "scrolled": false
   },
   "outputs": [
    {
     "data": {
      "image/png": "[encoded data removed]",
      "text/plain": [
       "<Figure size 1080x432 with 1 Axes>"
      ]
     },
     "metadata": {
      "needs_background": "light"
     },
     "output_type": "display_data"
    }
   ],
   "source": [
    "data['price'].hist(bins=100, figsize=(15, 6))\n",
    "None"
   ]
  },
  {
   "cell_type": "code",
   "execution_count": 31,
   "metadata": {},
   "outputs": [
    {
     "data": {
      "text/plain": [
       "count    298789.0\n",
       "mean       4778.0\n",
       "std        4622.0\n",
       "min           0.0\n",
       "25%        1250.0\n",
       "50%        3000.0\n",
       "75%        6950.0\n",
       "max       20000.0\n",
       "Name: price, dtype: float64"
      ]
     },
     "execution_count": 31,
     "metadata": {},
     "output_type": "execute_result"
    }
   ],
   "source": [
    "data['price'].describe().round()"
   ]
  },
  {
   "cell_type": "markdown",
   "metadata": {},
   "source": [
    "В целом по мере увеличения цены, количество атомобилей уменьшается. Также видна тендеция к округлению: цен, кратных 500, больше, чем соседних цен. "
   ]
  },
  {
   "cell_type": "markdown",
   "metadata": {},
   "source": [
    "Половина машин имеет стоимость не более 2850€. Присутствуют автомобили с заявленной стоимостью 0€. Низкая стоимость возможна, например, при обмене. Однако реальная стоимость подобных машин не может быть так мала, и пользователи вряд ли захотят увидеть околонулевую цену. Поэтому для улучшения качества обучения исправим эти данные. Для автомобилей стоимостью ниже 100€ будем использовать среднюю стоимость аналогичных машин: те же марка, модель, год выпуска и наличие ремонта. Оставшиеся низкие цены удалим."
   ]
  },
  {
   "cell_type": "code",
   "execution_count": 32,
   "metadata": {},
   "outputs": [],
   "source": [
    "data.loc[data['price'] < 100, 'price'] = np.NaN\n",
    "\n",
    "columns = ['brand', 'model', 'repaired', 'registration_year']\n",
    "avg_prices = data[columns + ['price']].groupby(columns)\n",
    "\n",
    "data['price'] = data['price'].fillna(avg_prices['price'].transform('mean'))\n",
    "data = data.dropna(subset=['price'])"
   ]
  },
  {
   "cell_type": "code",
   "execution_count": 33,
   "metadata": {},
   "outputs": [
    {
     "data": {
      "text/plain": [
       "0"
      ]
     },
     "execution_count": 33,
     "metadata": {},
     "output_type": "execute_result"
    }
   ],
   "source": [
    "(data['price'] < 100).sum()"
   ]
  },
  {
   "cell_type": "markdown",
   "metadata": {},
   "source": [
    "Сейчас в данных присудствуют столбцы, отвечающие за время: `date_created`, `registration_year`, `registration_month` и `age`.   Год и месяц выпуска модели стоит сохранить, так как модели могут отличаться в зависимости от него. Так же возраст автомобиля влияет на его стоимость. Данные по дате создания мы использовали для создания столбца `age`, а сами по себе они мало влияют на цену, поэтому избавимся от них."
   ]
  },
  {
   "cell_type": "code",
   "execution_count": 34,
   "metadata": {},
   "outputs": [],
   "source": [
    "data = data.drop('date_created', axis=1)"
   ]
  },
  {
   "cell_type": "markdown",
   "metadata": {},
   "source": [
    "### Вывод"
   ]
  },
  {
   "cell_type": "markdown",
   "metadata": {},
   "source": [
    "На этапе предобработки были сделаны следующие изменения:\n",
    "\n",
    " - проведена проверка на дубликаты\n",
    "\n",
    " - названия столбцов приведены к единому формату\n",
    " \n",
    " - удалены неинформативные столбцы\n",
    "\n",
    " - исследованы пропуски в столбцах. Там, где возможно, данные восстановлены. \n",
    "\n",
    " - был введен дополнительный столбец с данными - `age`, содержащий возраст автомобиля в месяцах.\n",
    " \n",
    " - исследованы численные данные на наличие аномальных значений. При возможности такие данные были исправлены либо удалены."
   ]
  },
  {
   "cell_type": "code",
   "execution_count": 35,
   "metadata": {},
   "outputs": [
    {
     "name": "stdout",
     "output_type": "stream",
     "text": [
      "Удалено 16% данных.\n"
     ]
    }
   ],
   "source": [
    "print('Удалено ', round((length - len(data))/length * 100), '% данных.', sep='')"
   ]
  },
  {
   "cell_type": "markdown",
   "metadata": {},
   "source": [
    "## Обучение моделей"
   ]
  },
  {
   "cell_type": "markdown",
   "metadata": {},
   "source": [
    "### Подготовка признаков"
   ]
  },
  {
   "cell_type": "markdown",
   "metadata": {},
   "source": [
    "В данных есть категориальные признаки:\n",
    "\n",
    "- `vehicle_type` — тип автомобильного кузова\n",
    "- `gearbox` — тип коробки передач\n",
    "- `model` — модель автомобиля\n",
    "- `fuel_type` — тип топлива\n",
    "- `brand` — марка автомобиля\n",
    "- `repaired` — была машина в ремонте или нет\n",
    "\n",
    "Для всех категориальных признаков необходимо провести кодировку."
   ]
  },
  {
   "cell_type": "markdown",
   "metadata": {},
   "source": [
    "В данных `repaired` только 2 значения: `yes` - 1 и `no` - 0. "
   ]
  },
  {
   "cell_type": "code",
   "execution_count": 36,
   "metadata": {},
   "outputs": [],
   "source": [
    "data['repaired'] = data['repaired'].replace({'no': 0, 'yes': 1})"
   ]
  },
  {
   "cell_type": "markdown",
   "metadata": {},
   "source": [
    "Преобразуем категориальные признаки 'vehicle_type', 'gearbox' и 'fuel_type' в численные при помощи OHE:"
   ]
  },
  {
   "cell_type": "code",
   "execution_count": 37,
   "metadata": {},
   "outputs": [],
   "source": [
    "categorical = ['vehicle_type', 'gearbox', 'fuel_type']\n",
    "\n",
    "from sklearn.compose import make_column_transformer\n",
    "transformer = make_column_transformer(\n",
    "    (OneHotEncoder(), categorical),\n",
    "    remainder='passthrough')\n",
    "\n",
    "transformed = transformer.fit_transform(data)\n",
    "data = pd.DataFrame(\n",
    "    transformed, \n",
    "    columns=transformer.get_feature_names()\n",
    ")"
   ]
  },
  {
   "cell_type": "code",
   "execution_count": 38,
   "metadata": {},
   "outputs": [],
   "source": [
    "drop_columns = ['onehotencoder__x0_other', 'onehotencoder__x1_other', 'onehotencoder__x2_other']\n",
    "data = data.drop(drop_columns, axis=1)"
   ]
  },
  {
   "cell_type": "markdown",
   "metadata": {},
   "source": [
    "Для признаков `brand` и `model` нельзя использовать OHE, так как будет создано порядка 300 дополнительных признаков, что значительно усложнит задачу. Воспользуемся порядковым кодированием."
   ]
  },
  {
   "cell_type": "markdown",
   "metadata": {},
   "source": [
    "Тестовая выборка отсутствует, значит, имеющиеся данные нужно разбить на три выборки: обучающую, валидационную и тестовую. Размеры тестового и валидационного наборов обычно равны. Исходные данные разобьем в соотношении 3:1:1."
   ]
  },
  {
   "cell_type": "code",
   "execution_count": 39,
   "metadata": {},
   "outputs": [
    {
     "name": "stdout",
     "output_type": "stream",
     "text": [
      "Обучающая выборка: 179201 строк\n",
      "Валидационная выборка: 59733 строк\n",
      "Тестовая выборка: 59733 строк\n"
     ]
    }
   ],
   "source": [
    "target = data['price']\n",
    "features = data.drop('price', axis = 1)\n",
    "\n",
    "# отделяем обучающую выборку - 60% всех данных\n",
    "features, features_train, target, target_train = \\\n",
    "    train_test_split(features, target, test_size=.6, random_state=12345)\n",
    "\n",
    "# делим оставшиеся данные на равные валидационную и тестовую выборки\n",
    "features_valid, features_test, target_valid, target_test = \\\n",
    "    train_test_split(features, target, test_size=.5, random_state=12345)\n",
    "\n",
    "print('Обучающая выборка:', features_train.shape[0], 'строк')\n",
    "print('Валидационная выборка:', features_valid.shape[0], 'строк')\n",
    "print('Тестовая выборка:', features_test.shape[0], 'строк')"
   ]
  },
  {
   "cell_type": "code",
   "execution_count": 40,
   "metadata": {},
   "outputs": [],
   "source": [
    "encoder = OrdinalEncoder()\n",
    "features_train[['brand', 'model']] = encoder.fit_transform(features_train[['brand', 'model']])\n",
    "features_valid[['brand', 'model']] = encoder.transform(features_valid[['brand', 'model']])\n",
    "features_test[['brand', 'model']] = encoder.transform(features_test[['brand', 'model']])\n",
    "\n",
    "# int formatting for models training\n",
    "for col in features_train.columns:\n",
    "    features_train[col] = features_train[col].astype(int)\n",
    "    features_valid[col] = features_valid[col].astype(int)\n",
    "    features_test[col] = features_test[col].astype(int)"
   ]
  },
  {
   "cell_type": "markdown",
   "metadata": {},
   "source": [
    "### Обучение моделей"
   ]
  },
  {
   "cell_type": "markdown",
   "metadata": {},
   "source": [
    "В качестве возможных моделей рассмотрим 2 модели бустинга -  LightGBM и CatBoost и модель решающего дерева."
   ]
  },
  {
   "cell_type": "markdown",
   "metadata": {},
   "source": [
    "#### LightGBM"
   ]
  },
  {
   "cell_type": "code",
   "execution_count": 41,
   "metadata": {},
   "outputs": [],
   "source": [
    "# %%time\n",
    "# kf = KFold(n_splits=3, shuffle=True, random_state=1)\n",
    "\n",
    "# params_lgbm = {\"max_depth\" : list(range(5, 15))}\n",
    "# lgbm = LGBMRegressor()\n",
    "# grid_lgbm = GridSearchCV(estimator=lgbm, param_grid=params_lgbm, cv=kf, n_jobs=-1)\n",
    "# grid_lgbm.fit(features_train, target_train)\n",
    "\n",
    "# print(\"RMSE = \", mean_squared_error(target_valid, grid_lgbm.predict(features_valid))**(.5))\n",
    "\n",
    "time_t = time.time()\n",
    "lgbm = LGBMRegressor(max_depth=10)\n",
    "lgbm.fit(features_train, target_train.astype(int))\n",
    "time_t = time.time() - time_t\n",
    "None"
   ]
  },
  {
   "cell_type": "code",
   "execution_count": 42,
   "metadata": {
    "scrolled": false
   },
   "outputs": [],
   "source": [
    "time_p = time.time()\n",
    "predictions = lgbm.predict(features_valid)\n",
    "time_p = time.time() - time_p"
   ]
  },
  {
   "cell_type": "code",
   "execution_count": 43,
   "metadata": {},
   "outputs": [
    {
     "name": "stdout",
     "output_type": "stream",
     "text": [
      "RMSE = 1655\n",
      "Модель удовлетворяет требованиям.\n"
     ]
    }
   ],
   "source": [
    "def check(rmse):\n",
    "    print(\"RMSE =\", int(rmse))\n",
    "    if rmse > 2500:\n",
    "        print('Модель не удовлетворяет требованиям.')\n",
    "    else:\n",
    "        print('Модель удовлетворяет требованиям.')\n",
    "    \n",
    "\n",
    "summary = {}\n",
    "rmse_lgbm = mean_squared_error(target_valid, predictions)**(.5)\n",
    "summary['LGBM'] = [time_t, time_p, int(rmse_lgbm)]\n",
    "\n",
    "check(rmse_lgbm)"
   ]
  },
  {
   "cell_type": "markdown",
   "metadata": {},
   "source": [
    "#### CatBoost"
   ]
  },
  {
   "cell_type": "code",
   "execution_count": 44,
   "metadata": {},
   "outputs": [],
   "source": [
    "# best_rmse = 10**6\n",
    "# kf = KFold(n_splits=3, shuffle=True, random_state=1)\n",
    "# params_cat = {\"depth\" : [i for i in range(5, 16)]}\n",
    "\n",
    "# cat = CatBoostRegressor(iterations=300,  verbose=300)\n",
    "# grid_cat = GridSearchCV(estimator=cat, param_grid=params_cat, cv=kf)\n",
    "# grid_cat.fit(features_train, target_train)\n",
    "\n",
    "# print(mean_squared_error(target_valid, grid_cat.best_estimator_.predict(features_valid))**(.5))\n",
    "# grid_cat.best_params_\n",
    "\n",
    "time_t = time.time()\n",
    "kitty = CatBoostRegressor(iterations=500, depth=10, verbose=False)\n",
    "kitty.fit(features_train, target_train)\n",
    "time_t = time.time() - time_t\n",
    "None"
   ]
  },
  {
   "cell_type": "code",
   "execution_count": 45,
   "metadata": {},
   "outputs": [],
   "source": [
    "time_p = time.time()\n",
    "predictions = kitty.predict(features_valid)\n",
    "time_p = time.time() - time_p"
   ]
  },
  {
   "cell_type": "code",
   "execution_count": 46,
   "metadata": {},
   "outputs": [
    {
     "name": "stdout",
     "output_type": "stream",
     "text": [
      "RMSE = 1510\n",
      "Модель удовлетворяет требованиям.\n"
     ]
    }
   ],
   "source": [
    "rmse_kitty = mean_squared_error(target_valid, predictions)**(.5)\n",
    "summary['CatBoost'] = [time_t, time_p, int(rmse_kitty)]\n",
    "\n",
    "check(rmse_kitty)"
   ]
  },
  {
   "cell_type": "markdown",
   "metadata": {},
   "source": [
    "#### Дерево"
   ]
  },
  {
   "cell_type": "code",
   "execution_count": 47,
   "metadata": {},
   "outputs": [],
   "source": [
    "# %%time\n",
    "# tree_model = None\n",
    "# tree_mse = 10000\n",
    "# tree_max_depth = 0\n",
    "\n",
    "# for depth in range(2,50):\n",
    "#     model = DecisionTreeRegressor(max_depth=depth, random_state=1)\n",
    "#     model.fit(features_train, target_train)\n",
    "#     predictions_valid = model.predict(features_valid)\n",
    "#     mse = mean_squared_error(target_valid, predictions_valid)**(.5)\n",
    "#     if mse < tree_mse:\n",
    "#         tree_model, tree_mse, tree_max_depth = model, mse, depth\n",
    "\n",
    "# print(tree_mse)\n",
    "# print(tree_max_depth)\n",
    "\n",
    "time_t = time.time()\n",
    "tree = DecisionTreeRegressor(max_depth=14, random_state=1)\n",
    "tree.fit(features_train, target_train)\n",
    "time_t = time.time() - time_t"
   ]
  },
  {
   "cell_type": "code",
   "execution_count": 48,
   "metadata": {},
   "outputs": [],
   "source": [
    "time_p = time.time()\n",
    "predictions = tree.predict(features_valid)\n",
    "time_p = time.time() - time_p"
   ]
  },
  {
   "cell_type": "code",
   "execution_count": 49,
   "metadata": {},
   "outputs": [
    {
     "name": "stdout",
     "output_type": "stream",
     "text": [
      "RMSE = 1869\n",
      "Модель удовлетворяет требованиям.\n"
     ]
    }
   ],
   "source": [
    "rmse_tree = mean_squared_error(target_valid, predictions)**(.5)\n",
    "summary['tree'] = [time_t, time_p, int(rmse_tree)]\n",
    "\n",
    "check(rmse_tree)"
   ]
  },
  {
   "cell_type": "markdown",
   "metadata": {},
   "source": [
    "## Анализ моделей"
   ]
  },
  {
   "cell_type": "markdown",
   "metadata": {},
   "source": [
    "### Выбор модели"
   ]
  },
  {
   "cell_type": "code",
   "execution_count": 50,
   "metadata": {},
   "outputs": [
    {
     "data": {
      "text/html": [
       "<div>\n",
       "<style scoped>\n",
       "    .dataframe tbody tr th:only-of-type {\n",
       "        vertical-align: middle;\n",
       "    }\n",
       "\n",
       "    .dataframe tbody tr th {\n",
       "        vertical-align: top;\n",
       "    }\n",
       "\n",
       "    .dataframe thead th {\n",
       "        text-align: right;\n",
       "    }\n",
       "</style>\n",
       "<table border=\"1\" class=\"dataframe\">\n",
       "  <thead>\n",
       "    <tr style=\"text-align: right;\">\n",
       "      <th></th>\n",
       "      <th>Время обучения, с</th>\n",
       "      <th>Время предсказания, с</th>\n",
       "      <th>RMSE</th>\n",
       "    </tr>\n",
       "  </thead>\n",
       "  <tbody>\n",
       "    <tr>\n",
       "      <th>LGBM</th>\n",
       "      <td>0.43</td>\n",
       "      <td>0.04</td>\n",
       "      <td>1655</td>\n",
       "    </tr>\n",
       "    <tr>\n",
       "      <th>CatBoost</th>\n",
       "      <td>14.76</td>\n",
       "      <td>0.06</td>\n",
       "      <td>1510</td>\n",
       "    </tr>\n",
       "    <tr>\n",
       "      <th>tree</th>\n",
       "      <td>0.77</td>\n",
       "      <td>0.02</td>\n",
       "      <td>1869</td>\n",
       "    </tr>\n",
       "  </tbody>\n",
       "</table>\n",
       "</div>"
      ],
      "text/plain": [
       "          Время обучения, с  Время предсказания, с  RMSE\n",
       "LGBM                   0.43                   0.04  1655\n",
       "CatBoost              14.76                   0.06  1510\n",
       "tree                   0.77                   0.02  1869"
      ]
     },
     "execution_count": 50,
     "metadata": {},
     "output_type": "execute_result"
    }
   ],
   "source": [
    "pd.options.display.float_format = '{:,.2f}'.format #dataframe output formatting\n",
    "pd.DataFrame(summary.values(),\n",
    "             index=summary.keys(),\n",
    "             columns=['Время обучения, с', 'Время предсказания, с', 'RMSE']\n",
    "            )"
   ]
  },
  {
   "cell_type": "markdown",
   "metadata": {},
   "source": [
    "Все модели удовлетворяют требованиям. Лучшая метрика у модели CatBoost, но и время обучения и предсказания у нее наибольшее. У модели дерева же, наоборот, худшее качество, но лучшее время. В качестве рабочей модели используем модель CatBoost."
   ]
  },
  {
   "cell_type": "code",
   "execution_count": 51,
   "metadata": {},
   "outputs": [],
   "source": [
    "final_model = CatBoostRegressor(iterations=500, depth=10, verbose=False)\n",
    "final_model.fit(pd.concat([features_train, features_valid]),\n",
    "          pd.concat([target_train, target_valid])\n",
    "         )\n",
    "None"
   ]
  },
  {
   "cell_type": "markdown",
   "metadata": {},
   "source": [
    "### Тестирование модели"
   ]
  },
  {
   "cell_type": "markdown",
   "metadata": {},
   "source": [
    "Проверим модель на тестовой выборке."
   ]
  },
  {
   "cell_type": "code",
   "execution_count": 52,
   "metadata": {
    "scrolled": true
   },
   "outputs": [
    {
     "name": "stdout",
     "output_type": "stream",
     "text": [
      "RMSE = 1494\n",
      "Модель удовлетворяет требованиям.\n"
     ]
    }
   ],
   "source": [
    "predictions = final_model.predict(features_test)\n",
    "rmse = mean_squared_error(target_test, predictions) ** .5\n",
    "\n",
    "check(rmse)"
   ]
  },
  {
   "cell_type": "markdown",
   "metadata": {},
   "source": [
    "Рассмотрим, как сильно влияют признаки на итоговую стоимость."
   ]
  },
  {
   "cell_type": "code",
   "execution_count": 53,
   "metadata": {},
   "outputs": [
    {
     "data": {
      "text/plain": [
       "<AxesSubplot:>"
      ]
     },
     "execution_count": 53,
     "metadata": {},
     "output_type": "execute_result"
    },
    {
     "data": {
      "image/png": "[encoded data removed]",
      "text/plain": [
       "<Figure size 1080x216 with 1 Axes>"
      ]
     },
     "metadata": {
      "needs_background": "light"
     },
     "output_type": "display_data"
    }
   ],
   "source": [
    "importances = final_model.feature_importances_\n",
    "importances = pd.Series(importances, index=features_train.columns)\n",
    "\n",
    "importances.sort_values(ascending=False).plot.bar(figsize=(15,3))"
   ]
  },
  {
   "cell_type": "code",
   "execution_count": 54,
   "metadata": {},
   "outputs": [
    {
     "data": {
      "text/plain": [
       "power               24.31\n",
       "age                 16.43\n",
       "registration_year   14.95\n",
       "brand               11.87\n",
       "kilometer           10.67\n",
       "model                5.91\n",
       "dtype: float64"
      ]
     },
     "execution_count": 54,
     "metadata": {},
     "output_type": "execute_result"
    }
   ],
   "source": [
    "importances.sort_values(ascending=False)[:6]"
   ]
  },
  {
   "cell_type": "markdown",
   "metadata": {},
   "source": [
    "Самыми важными характеристиками, определяющими стоимость, являются мощность, возраст, год выпуска, марка, модель и пробег. Остальные признаки имеют гораздо меньший вклад. Заметим, что возраст, год выпуска и пробег характеризуют изношенность автомобиля, и можно сделать вывод, что физическое состояние является определяющим при формировании цены."
   ]
  },
  {
   "cell_type": "markdown",
   "metadata": {},
   "source": [
    "## Выводы"
   ]
  },
  {
   "cell_type": "markdown",
   "metadata": {},
   "source": [
    "В рамках проекта была выполнена предобработка данных: были убраны лишние данные, заполнены пропуски. Данные были подготовлены для обучения: категориальные признаки были обработаны методами прямого кодирования и OHE. \n",
    "\n",
    "В качестве потенциальных моделей рассмотрены модели решающего дерева, LGBM и CatBoost. Для каждой из них были подобраны гиперпараметры для улучшения качества. Все модели удовлетворили требованию по метрике RMSE при проверке на валидационной выборке.\n",
    "\n",
    "В качестве рабочей модели выбрана модель CatBoost, так как она имеет наименьшее значение RMSE, хоть и является самой медленной из всех. На тестовой выборке RMSE составила 1494, что удовлетворяет требованиям. \n",
    "\n",
    "После обучения рассмотрено, как признаки влияют на стоимость автомобиля. Определяющими являются мощность, возраст, год выпуска, марка, модель и пробег. "
   ]
  }
 ],
 "metadata": {
  "ExecuteTimeLog": [
   {
    "duration": 1452,
    "start_time": "2022-11-08T09:10:21.288Z"
   },
   {
    "duration": 132,
    "start_time": "2022-11-08T09:10:52.853Z"
   },
   {
    "duration": 2809,
    "start_time": "2022-11-08T09:10:57.317Z"
   },
   {
    "duration": 21,
    "start_time": "2022-11-08T09:11:08.680Z"
   },
   {
    "duration": 134,
    "start_time": "2022-11-08T09:12:13.379Z"
   },
   {
    "duration": 128,
    "start_time": "2022-11-08T09:26:07.386Z"
   },
   {
    "duration": 35,
    "start_time": "2022-11-08T09:27:35.208Z"
   },
   {
    "duration": 37,
    "start_time": "2022-11-08T09:28:39.566Z"
   },
   {
    "duration": 8,
    "start_time": "2022-11-08T09:31:08.585Z"
   },
   {
    "duration": 25,
    "start_time": "2022-11-08T09:31:12.436Z"
   },
   {
    "duration": 455,
    "start_time": "2022-11-08T09:33:23.949Z"
   },
   {
    "duration": 503,
    "start_time": "2022-11-08T09:33:33.809Z"
   },
   {
    "duration": 20,
    "start_time": "2022-11-08T09:33:43.872Z"
   },
   {
    "duration": 25,
    "start_time": "2022-11-08T09:34:15.273Z"
   },
   {
    "duration": 19,
    "start_time": "2022-11-08T09:34:23.110Z"
   },
   {
    "duration": 24,
    "start_time": "2022-11-08T09:34:29.472Z"
   },
   {
    "duration": 21,
    "start_time": "2022-11-08T09:34:30.059Z"
   },
   {
    "duration": 34,
    "start_time": "2022-11-08T09:34:44.644Z"
   },
   {
    "duration": 47,
    "start_time": "2022-11-08T09:34:47.722Z"
   },
   {
    "duration": 28,
    "start_time": "2022-11-08T09:34:56.872Z"
   },
   {
    "duration": 24,
    "start_time": "2022-11-08T09:35:01.746Z"
   },
   {
    "duration": 29,
    "start_time": "2022-11-08T09:35:05.884Z"
   },
   {
    "duration": 26,
    "start_time": "2022-11-08T09:35:11.448Z"
   },
   {
    "duration": 33,
    "start_time": "2022-11-08T09:36:40.511Z"
   },
   {
    "duration": 56,
    "start_time": "2022-11-08T09:36:46.746Z"
   },
   {
    "duration": 42,
    "start_time": "2022-11-08T09:36:49.686Z"
   },
   {
    "duration": 436,
    "start_time": "2022-11-08T09:37:09.782Z"
   },
   {
    "duration": 22,
    "start_time": "2022-11-08T09:37:17.764Z"
   },
   {
    "duration": 52,
    "start_time": "2022-11-08T09:37:23.536Z"
   },
   {
    "duration": 47,
    "start_time": "2022-11-08T09:37:44.025Z"
   },
   {
    "duration": 51,
    "start_time": "2022-11-08T09:38:02.299Z"
   },
   {
    "duration": 17,
    "start_time": "2022-11-08T10:49:47.631Z"
   },
   {
    "duration": 4,
    "start_time": "2022-11-08T10:50:05.492Z"
   },
   {
    "duration": 9,
    "start_time": "2022-11-08T10:50:08.480Z"
   },
   {
    "duration": 130,
    "start_time": "2022-11-08T10:50:43.692Z"
   },
   {
    "duration": 20,
    "start_time": "2022-11-08T14:14:48.790Z"
   },
   {
    "duration": 12,
    "start_time": "2022-11-08T14:14:52.997Z"
   },
   {
    "duration": 13,
    "start_time": "2022-11-08T14:17:09.278Z"
   },
   {
    "duration": 33,
    "start_time": "2022-11-08T14:17:27.237Z"
   },
   {
    "duration": 1293,
    "start_time": "2022-11-08T14:20:54.828Z"
   },
   {
    "duration": 1901,
    "start_time": "2022-11-08T14:20:56.123Z"
   },
   {
    "duration": 16,
    "start_time": "2022-11-08T14:20:58.026Z"
   },
   {
    "duration": 140,
    "start_time": "2022-11-08T14:20:58.044Z"
   },
   {
    "duration": 6,
    "start_time": "2022-11-08T14:20:58.186Z"
   },
   {
    "duration": 39,
    "start_time": "2022-11-08T14:20:58.194Z"
   },
   {
    "duration": 103,
    "start_time": "2022-11-08T14:20:58.235Z"
   },
   {
    "duration": 120,
    "start_time": "2022-11-08T14:30:17.371Z"
   },
   {
    "duration": 39,
    "start_time": "2022-11-08T14:30:24.939Z"
   },
   {
    "duration": 18,
    "start_time": "2022-11-08T14:30:30.777Z"
   },
   {
    "duration": 12,
    "start_time": "2022-11-08T14:30:42.104Z"
   },
   {
    "duration": 58,
    "start_time": "2022-11-08T14:30:59.329Z"
   },
   {
    "duration": 92,
    "start_time": "2022-11-08T14:31:09.827Z"
   },
   {
    "duration": 25,
    "start_time": "2022-11-08T14:34:33.253Z"
   },
   {
    "duration": 46966,
    "start_time": "2022-11-08T14:45:30.082Z"
   },
   {
    "duration": 5,
    "start_time": "2022-11-08T14:46:51.395Z"
   },
   {
    "duration": 42352,
    "start_time": "2022-11-08T14:47:06.097Z"
   },
   {
    "duration": 1236,
    "start_time": "2022-11-08T14:48:03.247Z"
   },
   {
    "duration": 803,
    "start_time": "2022-11-08T14:48:04.485Z"
   },
   {
    "duration": 16,
    "start_time": "2022-11-08T14:48:05.292Z"
   },
   {
    "duration": 146,
    "start_time": "2022-11-08T14:48:05.311Z"
   },
   {
    "duration": 5,
    "start_time": "2022-11-08T14:48:05.459Z"
   },
   {
    "duration": 35,
    "start_time": "2022-11-08T14:48:05.465Z"
   },
   {
    "duration": 113,
    "start_time": "2022-11-08T14:48:05.502Z"
   },
   {
    "duration": 73,
    "start_time": "2022-11-08T14:48:05.617Z"
   },
   {
    "duration": 31796,
    "start_time": "2022-11-08T14:48:05.692Z"
   },
   {
    "duration": 22,
    "start_time": "2022-11-08T14:48:37.490Z"
   },
   {
    "duration": 136,
    "start_time": "2022-11-08T14:48:37.514Z"
   },
   {
    "duration": 31337,
    "start_time": "2022-11-08T14:49:58.559Z"
   },
   {
    "duration": 20552,
    "start_time": "2022-11-08T14:51:22.754Z"
   },
   {
    "duration": 9084,
    "start_time": "2022-11-08T14:52:24.922Z"
   },
   {
    "duration": 1030,
    "start_time": "2022-11-08T14:52:57.408Z"
   },
   {
    "duration": 8615,
    "start_time": "2022-11-08T14:53:08.096Z"
   },
   {
    "duration": 17695,
    "start_time": "2022-11-08T14:53:24.283Z"
   },
   {
    "duration": 108,
    "start_time": "2022-11-08T14:53:41.980Z"
   },
   {
    "duration": 20,
    "start_time": "2022-11-08T14:55:33.084Z"
   },
   {
    "duration": 1280,
    "start_time": "2022-11-08T14:56:27.267Z"
   },
   {
    "duration": 814,
    "start_time": "2022-11-08T14:56:28.549Z"
   },
   {
    "duration": 17,
    "start_time": "2022-11-08T14:56:29.365Z"
   },
   {
    "duration": 149,
    "start_time": "2022-11-08T14:56:29.384Z"
   },
   {
    "duration": 6,
    "start_time": "2022-11-08T14:56:29.535Z"
   },
   {
    "duration": 43,
    "start_time": "2022-11-08T14:56:29.543Z"
   },
   {
    "duration": 111,
    "start_time": "2022-11-08T14:56:29.588Z"
   },
   {
    "duration": 57,
    "start_time": "2022-11-08T14:56:29.701Z"
   },
   {
    "duration": 18919,
    "start_time": "2022-11-08T14:56:29.759Z"
   },
   {
    "duration": 116,
    "start_time": "2022-11-08T14:56:48.680Z"
   },
   {
    "duration": 1293,
    "start_time": "2022-11-08T14:58:21.577Z"
   },
   {
    "duration": 844,
    "start_time": "2022-11-08T14:58:22.872Z"
   },
   {
    "duration": 26,
    "start_time": "2022-11-08T14:58:23.718Z"
   },
   {
    "duration": 151,
    "start_time": "2022-11-08T14:58:23.746Z"
   },
   {
    "duration": 6,
    "start_time": "2022-11-08T14:58:23.898Z"
   },
   {
    "duration": 46,
    "start_time": "2022-11-08T14:58:23.906Z"
   },
   {
    "duration": 106,
    "start_time": "2022-11-08T14:58:23.954Z"
   },
   {
    "duration": 73,
    "start_time": "2022-11-08T14:58:24.062Z"
   },
   {
    "duration": 3,
    "start_time": "2022-11-08T14:58:24.137Z"
   },
   {
    "duration": 0,
    "start_time": "2022-11-08T14:58:24.142Z"
   },
   {
    "duration": 28,
    "start_time": "2022-11-08T14:59:09.991Z"
   },
   {
    "duration": 51416,
    "start_time": "2022-11-08T14:59:17.873Z"
   },
   {
    "duration": 121,
    "start_time": "2022-11-08T15:00:15.023Z"
   },
   {
    "duration": 104,
    "start_time": "2022-11-08T15:00:20.938Z"
   },
   {
    "duration": 901,
    "start_time": "2022-11-08T16:48:42.262Z"
   },
   {
    "duration": 64,
    "start_time": "2022-11-08T16:49:00.524Z"
   },
   {
    "duration": 164,
    "start_time": "2022-11-08T16:49:02.837Z"
   },
   {
    "duration": 47,
    "start_time": "2022-11-08T16:50:55.412Z"
   },
   {
    "duration": 28,
    "start_time": "2022-11-08T16:51:28.786Z"
   },
   {
    "duration": 20,
    "start_time": "2022-11-08T16:54:23.899Z"
   },
   {
    "duration": 31,
    "start_time": "2022-11-08T16:55:06.563Z"
   },
   {
    "duration": 720,
    "start_time": "2022-11-08T16:59:44.526Z"
   },
   {
    "duration": 191,
    "start_time": "2022-11-08T17:00:04.151Z"
   },
   {
    "duration": 17,
    "start_time": "2022-11-08T17:00:22.902Z"
   },
   {
    "duration": 22,
    "start_time": "2022-11-08T17:03:00.578Z"
   },
   {
    "duration": 23,
    "start_time": "2022-11-08T17:04:38.560Z"
   },
   {
    "duration": 19,
    "start_time": "2022-11-08T17:05:13.367Z"
   },
   {
    "duration": 20,
    "start_time": "2022-11-08T17:05:16.316Z"
   },
   {
    "duration": 449,
    "start_time": "2022-11-08T17:07:11.479Z"
   },
   {
    "duration": 272,
    "start_time": "2022-11-08T17:07:20.179Z"
   },
   {
    "duration": 201,
    "start_time": "2022-11-08T17:07:28.353Z"
   },
   {
    "duration": 767,
    "start_time": "2022-11-08T17:08:42.968Z"
   },
   {
    "duration": 953,
    "start_time": "2022-11-08T17:08:46.080Z"
   },
   {
    "duration": 1043,
    "start_time": "2022-11-08T17:09:11.793Z"
   },
   {
    "duration": 396,
    "start_time": "2022-11-08T17:09:56.517Z"
   },
   {
    "duration": 203,
    "start_time": "2022-11-08T17:10:01.185Z"
   },
   {
    "duration": 24,
    "start_time": "2022-11-08T17:13:09.756Z"
   },
   {
    "duration": 42,
    "start_time": "2022-11-08T17:14:41.456Z"
   },
   {
    "duration": 218,
    "start_time": "2022-11-08T17:16:17.407Z"
   },
   {
    "duration": 1279,
    "start_time": "2022-11-08T17:16:22.320Z"
   },
   {
    "duration": 893,
    "start_time": "2022-11-08T17:16:23.601Z"
   },
   {
    "duration": 18,
    "start_time": "2022-11-08T17:16:24.499Z"
   },
   {
    "duration": 130,
    "start_time": "2022-11-08T17:16:24.519Z"
   },
   {
    "duration": 7,
    "start_time": "2022-11-08T17:16:24.651Z"
   },
   {
    "duration": 34,
    "start_time": "2022-11-08T17:16:24.660Z"
   },
   {
    "duration": 112,
    "start_time": "2022-11-08T17:16:24.696Z"
   },
   {
    "duration": 66,
    "start_time": "2022-11-08T17:16:24.810Z"
   },
   {
    "duration": 52259,
    "start_time": "2022-11-08T17:16:24.879Z"
   },
   {
    "duration": 47,
    "start_time": "2022-11-08T17:17:17.140Z"
   },
   {
    "duration": 18,
    "start_time": "2022-11-08T17:17:17.188Z"
   },
   {
    "duration": 45,
    "start_time": "2022-11-08T17:17:17.207Z"
   },
   {
    "duration": 26,
    "start_time": "2022-11-08T17:17:17.254Z"
   },
   {
    "duration": 221,
    "start_time": "2022-11-08T17:17:17.282Z"
   },
   {
    "duration": 17,
    "start_time": "2022-11-08T17:17:17.504Z"
   },
   {
    "duration": 41,
    "start_time": "2022-11-08T17:17:17.532Z"
   },
   {
    "duration": 1261,
    "start_time": "2022-11-08T17:17:28.583Z"
   },
   {
    "duration": 837,
    "start_time": "2022-11-08T17:17:29.846Z"
   },
   {
    "duration": 20,
    "start_time": "2022-11-08T17:17:30.686Z"
   },
   {
    "duration": 196,
    "start_time": "2022-11-08T17:17:30.708Z"
   },
   {
    "duration": 12,
    "start_time": "2022-11-08T17:17:30.906Z"
   },
   {
    "duration": 61,
    "start_time": "2022-11-08T17:17:30.920Z"
   },
   {
    "duration": 151,
    "start_time": "2022-11-08T17:17:30.983Z"
   },
   {
    "duration": 58,
    "start_time": "2022-11-08T17:17:31.136Z"
   },
   {
    "duration": 44996,
    "start_time": "2022-11-08T17:17:31.196Z"
   },
   {
    "duration": 69,
    "start_time": "2022-11-08T17:18:16.194Z"
   },
   {
    "duration": 29,
    "start_time": "2022-11-08T17:18:16.265Z"
   },
   {
    "duration": 50,
    "start_time": "2022-11-08T17:18:16.296Z"
   },
   {
    "duration": 32,
    "start_time": "2022-11-08T17:18:16.348Z"
   },
   {
    "duration": 254,
    "start_time": "2022-11-08T17:18:16.383Z"
   },
   {
    "duration": 18,
    "start_time": "2022-11-08T17:18:16.638Z"
   },
   {
    "duration": 51,
    "start_time": "2022-11-08T17:18:16.658Z"
   },
   {
    "duration": 4,
    "start_time": "2022-11-08T17:18:47.150Z"
   },
   {
    "duration": 86,
    "start_time": "2022-11-08T17:19:00.698Z"
   },
   {
    "duration": 6,
    "start_time": "2022-11-08T17:19:06.496Z"
   },
   {
    "duration": 207,
    "start_time": "2022-11-08T17:20:55.746Z"
   },
   {
    "duration": 27,
    "start_time": "2022-11-08T17:29:30.866Z"
   },
   {
    "duration": 113,
    "start_time": "2022-11-08T17:29:56.005Z"
   },
   {
    "duration": 140,
    "start_time": "2022-11-08T17:30:02.274Z"
   },
   {
    "duration": 118,
    "start_time": "2022-11-08T17:30:13.748Z"
   },
   {
    "duration": 24,
    "start_time": "2022-11-08T17:32:01.199Z"
   },
   {
    "duration": 128,
    "start_time": "2022-11-08T17:36:46.382Z"
   },
   {
    "duration": 22,
    "start_time": "2022-11-08T17:37:01.213Z"
   },
   {
    "duration": 18,
    "start_time": "2022-11-08T17:37:13.337Z"
   },
   {
    "duration": 18,
    "start_time": "2022-11-08T17:37:34.580Z"
   },
   {
    "duration": 66,
    "start_time": "2022-11-08T17:37:40.891Z"
   },
   {
    "duration": 20,
    "start_time": "2022-11-08T17:37:45.394Z"
   },
   {
    "duration": 21,
    "start_time": "2022-11-08T17:37:51.158Z"
   },
   {
    "duration": 857,
    "start_time": "2022-11-08T17:39:52.715Z"
   },
   {
    "duration": 5326,
    "start_time": "2022-11-08T17:40:07.750Z"
   },
   {
    "duration": 47,
    "start_time": "2022-11-08T17:40:48.138Z"
   },
   {
    "duration": 878,
    "start_time": "2022-11-08T17:40:52.324Z"
   },
   {
    "duration": 13713,
    "start_time": "2022-11-08T17:41:25.441Z"
   },
   {
    "duration": 284,
    "start_time": "2022-11-08T17:43:12.503Z"
   },
   {
    "duration": 17,
    "start_time": "2022-11-08T17:43:30.113Z"
   },
   {
    "duration": 19,
    "start_time": "2022-11-08T17:44:17.767Z"
   },
   {
    "duration": 8,
    "start_time": "2022-11-08T17:45:59.140Z"
   },
   {
    "duration": 19,
    "start_time": "2022-11-08T17:46:16.214Z"
   },
   {
    "duration": 10,
    "start_time": "2022-11-08T17:46:54.640Z"
   },
   {
    "duration": 7,
    "start_time": "2022-11-08T17:47:05.451Z"
   },
   {
    "duration": 5,
    "start_time": "2022-11-08T17:47:16.740Z"
   },
   {
    "duration": 5,
    "start_time": "2022-11-08T17:47:22.040Z"
   },
   {
    "duration": 5,
    "start_time": "2022-11-08T17:47:25.801Z"
   },
   {
    "duration": 23,
    "start_time": "2022-11-08T17:47:42.630Z"
   },
   {
    "duration": 23,
    "start_time": "2022-11-08T17:47:58.974Z"
   },
   {
    "duration": 23,
    "start_time": "2022-11-08T17:48:04.402Z"
   },
   {
    "duration": 5,
    "start_time": "2022-11-08T17:48:27.386Z"
   },
   {
    "duration": 5,
    "start_time": "2022-11-08T17:48:32.182Z"
   },
   {
    "duration": 4,
    "start_time": "2022-11-08T17:48:37.502Z"
   },
   {
    "duration": 12,
    "start_time": "2022-11-08T17:49:24.594Z"
   },
   {
    "duration": 12,
    "start_time": "2022-11-08T17:49:31.540Z"
   },
   {
    "duration": 23,
    "start_time": "2022-11-08T17:50:07.160Z"
   },
   {
    "duration": 10,
    "start_time": "2022-11-08T17:50:10.859Z"
   },
   {
    "duration": 25,
    "start_time": "2022-11-08T17:50:13.527Z"
   },
   {
    "duration": 4,
    "start_time": "2022-11-08T17:50:25.281Z"
   },
   {
    "duration": 24,
    "start_time": "2022-11-08T17:50:28.377Z"
   },
   {
    "duration": 5,
    "start_time": "2022-11-08T17:51:22.185Z"
   },
   {
    "duration": 6,
    "start_time": "2022-11-08T17:51:28.028Z"
   },
   {
    "duration": 6,
    "start_time": "2022-11-08T17:51:31.287Z"
   },
   {
    "duration": 54065,
    "start_time": "2022-11-08T18:02:10.656Z"
   },
   {
    "duration": 1169,
    "start_time": "2022-11-08T18:03:15.318Z"
   },
   {
    "duration": 56027,
    "start_time": "2022-11-08T18:03:27.210Z"
   },
   {
    "duration": 264,
    "start_time": "2022-11-08T18:04:38.290Z"
   },
   {
    "duration": 3,
    "start_time": "2022-11-08T18:06:47.107Z"
   },
   {
    "duration": 1302,
    "start_time": "2022-11-08T18:13:25.294Z"
   },
   {
    "duration": 941,
    "start_time": "2022-11-08T18:13:26.598Z"
   },
   {
    "duration": 16,
    "start_time": "2022-11-08T18:13:27.540Z"
   },
   {
    "duration": 158,
    "start_time": "2022-11-08T18:13:32.644Z"
   },
   {
    "duration": 33,
    "start_time": "2022-11-08T18:13:54.821Z"
   },
   {
    "duration": 104,
    "start_time": "2022-11-08T18:13:57.995Z"
   },
   {
    "duration": 26,
    "start_time": "2022-11-08T18:14:03.508Z"
   },
   {
    "duration": 26,
    "start_time": "2022-11-08T18:14:11.195Z"
   },
   {
    "duration": 100,
    "start_time": "2022-11-08T18:15:04.501Z"
   },
   {
    "duration": 122,
    "start_time": "2022-11-08T18:15:08.007Z"
   },
   {
    "duration": 104,
    "start_time": "2022-11-08T18:15:20.970Z"
   },
   {
    "duration": 111,
    "start_time": "2022-11-08T18:15:41.458Z"
   },
   {
    "duration": 1236,
    "start_time": "2022-11-08T18:16:07.074Z"
   },
   {
    "duration": 840,
    "start_time": "2022-11-08T18:16:08.313Z"
   },
   {
    "duration": 17,
    "start_time": "2022-11-08T18:16:09.154Z"
   },
   {
    "duration": 150,
    "start_time": "2022-11-08T18:16:09.173Z"
   },
   {
    "duration": 11,
    "start_time": "2022-11-08T18:16:09.324Z"
   },
   {
    "duration": 61,
    "start_time": "2022-11-08T18:16:09.336Z"
   },
   {
    "duration": 108,
    "start_time": "2022-11-08T18:16:09.399Z"
   },
   {
    "duration": 63,
    "start_time": "2022-11-08T18:16:09.509Z"
   },
   {
    "duration": 44349,
    "start_time": "2022-11-08T18:16:09.573Z"
   },
   {
    "duration": 51,
    "start_time": "2022-11-08T18:16:53.924Z"
   },
   {
    "duration": 91,
    "start_time": "2022-11-08T18:16:53.977Z"
   },
   {
    "duration": 16,
    "start_time": "2022-11-08T18:16:54.070Z"
   },
   {
    "duration": 32,
    "start_time": "2022-11-08T18:16:54.088Z"
   },
   {
    "duration": 20,
    "start_time": "2022-11-08T18:16:54.134Z"
   },
   {
    "duration": 16,
    "start_time": "2022-11-08T18:16:54.155Z"
   },
   {
    "duration": 4,
    "start_time": "2022-11-08T18:16:54.173Z"
   },
   {
    "duration": 5,
    "start_time": "2022-11-08T18:16:54.179Z"
   },
   {
    "duration": 239,
    "start_time": "2022-11-08T18:16:54.186Z"
   },
   {
    "duration": 20,
    "start_time": "2022-11-08T18:16:54.427Z"
   },
   {
    "duration": 47,
    "start_time": "2022-11-08T18:16:54.448Z"
   },
   {
    "duration": 0,
    "start_time": "2022-11-08T18:16:54.496Z"
   },
   {
    "duration": 22,
    "start_time": "2022-11-08T18:18:35.272Z"
   },
   {
    "duration": 23,
    "start_time": "2022-11-08T18:18:47.249Z"
   },
   {
    "duration": 1678,
    "start_time": "2022-11-10T11:40:32.199Z"
   },
   {
    "duration": 3015,
    "start_time": "2022-11-10T11:40:33.880Z"
   },
   {
    "duration": 28,
    "start_time": "2022-11-10T11:40:36.897Z"
   },
   {
    "duration": 936,
    "start_time": "2022-11-10T11:41:58.036Z"
   },
   {
    "duration": 28,
    "start_time": "2022-11-10T11:42:13.794Z"
   },
   {
    "duration": 24,
    "start_time": "2022-11-10T11:42:40.395Z"
   },
   {
    "duration": 147,
    "start_time": "2022-11-10T11:42:47.118Z"
   },
   {
    "duration": 1309,
    "start_time": "2022-11-10T11:42:59.848Z"
   },
   {
    "duration": 880,
    "start_time": "2022-11-10T11:43:01.159Z"
   },
   {
    "duration": 16,
    "start_time": "2022-11-10T11:43:02.041Z"
   },
   {
    "duration": 42,
    "start_time": "2022-11-10T11:43:02.058Z"
   },
   {
    "duration": 155,
    "start_time": "2022-11-10T11:43:02.102Z"
   },
   {
    "duration": 7,
    "start_time": "2022-11-10T11:43:02.259Z"
   },
   {
    "duration": 53,
    "start_time": "2022-11-10T11:43:02.268Z"
   },
   {
    "duration": 146,
    "start_time": "2022-11-10T11:43:02.323Z"
   },
   {
    "duration": 83,
    "start_time": "2022-11-10T11:43:02.470Z"
   },
   {
    "duration": 49187,
    "start_time": "2022-11-10T11:43:02.556Z"
   },
   {
    "duration": 67,
    "start_time": "2022-11-10T11:43:51.745Z"
   },
   {
    "duration": 94,
    "start_time": "2022-11-10T11:43:51.814Z"
   },
   {
    "duration": 17,
    "start_time": "2022-11-10T11:43:51.910Z"
   },
   {
    "duration": 34,
    "start_time": "2022-11-10T11:43:51.929Z"
   },
   {
    "duration": 38,
    "start_time": "2022-11-10T11:43:51.964Z"
   },
   {
    "duration": 18,
    "start_time": "2022-11-10T11:43:52.004Z"
   },
   {
    "duration": 5,
    "start_time": "2022-11-10T11:43:52.024Z"
   },
   {
    "duration": 5,
    "start_time": "2022-11-10T11:43:52.031Z"
   },
   {
    "duration": 58,
    "start_time": "2022-11-10T11:43:52.038Z"
   },
   {
    "duration": 229,
    "start_time": "2022-11-10T11:43:52.097Z"
   },
   {
    "duration": 16,
    "start_time": "2022-11-10T11:43:52.327Z"
   },
   {
    "duration": 54,
    "start_time": "2022-11-10T11:43:52.344Z"
   },
   {
    "duration": 0,
    "start_time": "2022-11-10T11:43:52.400Z"
   },
   {
    "duration": 1,
    "start_time": "2022-11-10T11:43:52.401Z"
   },
   {
    "duration": 784,
    "start_time": "2022-11-10T11:44:02.094Z"
   },
   {
    "duration": 44,
    "start_time": "2022-11-10T11:44:15.491Z"
   },
   {
    "duration": 21,
    "start_time": "2022-11-10T11:44:18.794Z"
   },
   {
    "duration": 23,
    "start_time": "2022-11-10T11:45:15.994Z"
   },
   {
    "duration": 51,
    "start_time": "2022-11-10T14:07:05.221Z"
   },
   {
    "duration": 1578,
    "start_time": "2022-11-10T14:07:15.652Z"
   },
   {
    "duration": 1232,
    "start_time": "2022-11-10T14:07:17.233Z"
   },
   {
    "duration": 18,
    "start_time": "2022-11-10T14:07:18.467Z"
   },
   {
    "duration": 1246,
    "start_time": "2022-11-10T14:07:18.487Z"
   },
   {
    "duration": 0,
    "start_time": "2022-11-10T14:07:19.735Z"
   },
   {
    "duration": 0,
    "start_time": "2022-11-10T14:07:19.736Z"
   },
   {
    "duration": 0,
    "start_time": "2022-11-10T14:07:19.737Z"
   },
   {
    "duration": 0,
    "start_time": "2022-11-10T14:07:19.739Z"
   },
   {
    "duration": 150,
    "start_time": "2022-11-10T14:07:28.662Z"
   },
   {
    "duration": 6,
    "start_time": "2022-11-10T14:07:31.326Z"
   },
   {
    "duration": 39,
    "start_time": "2022-11-10T14:07:32.550Z"
   },
   {
    "duration": 113,
    "start_time": "2022-11-10T14:07:35.701Z"
   },
   {
    "duration": 589,
    "start_time": "2022-11-10T14:07:37.837Z"
   },
   {
    "duration": 599,
    "start_time": "2022-11-10T14:08:10.640Z"
   },
   {
    "duration": 44,
    "start_time": "2022-11-10T14:08:16.263Z"
   },
   {
    "duration": 28,
    "start_time": "2022-11-10T14:08:25.751Z"
   },
   {
    "duration": 27,
    "start_time": "2022-11-10T14:08:32.663Z"
   },
   {
    "duration": 25,
    "start_time": "2022-11-10T14:10:49.551Z"
   },
   {
    "duration": 78228,
    "start_time": "2022-11-10T14:12:52.402Z"
   },
   {
    "duration": 2025,
    "start_time": "2022-11-10T14:14:11.777Z"
   },
   {
    "duration": 1442,
    "start_time": "2022-11-10T14:14:59.233Z"
   },
   {
    "duration": 950,
    "start_time": "2022-11-10T14:15:00.678Z"
   },
   {
    "duration": 23,
    "start_time": "2022-11-10T14:15:01.630Z"
   },
   {
    "duration": 152,
    "start_time": "2022-11-10T14:15:01.655Z"
   },
   {
    "duration": 17,
    "start_time": "2022-11-10T14:15:01.809Z"
   },
   {
    "duration": 57,
    "start_time": "2022-11-10T14:15:01.828Z"
   },
   {
    "duration": 129,
    "start_time": "2022-11-10T14:15:01.886Z"
   },
   {
    "duration": 43,
    "start_time": "2022-11-10T14:15:02.017Z"
   },
   {
    "duration": 52036,
    "start_time": "2022-11-10T14:15:05.140Z"
   },
   {
    "duration": 35621,
    "start_time": "2022-11-10T14:16:02.156Z"
   },
   {
    "duration": 20310,
    "start_time": "2022-11-10T14:16:54.815Z"
   },
   {
    "duration": 10331,
    "start_time": "2022-11-10T14:17:41.079Z"
   },
   {
    "duration": 92,
    "start_time": "2022-11-10T14:24:45.567Z"
   },
   {
    "duration": 56,
    "start_time": "2022-11-10T14:24:51.605Z"
   },
   {
    "duration": 20,
    "start_time": "2022-11-10T14:25:05.419Z"
   },
   {
    "duration": 49,
    "start_time": "2022-11-10T14:25:06.980Z"
   },
   {
    "duration": 24,
    "start_time": "2022-11-10T14:25:12.980Z"
   },
   {
    "duration": 19,
    "start_time": "2022-11-10T14:25:17.604Z"
   },
   {
    "duration": 5,
    "start_time": "2022-11-10T14:25:17.780Z"
   },
   {
    "duration": 5,
    "start_time": "2022-11-10T14:25:17.957Z"
   },
   {
    "duration": 38,
    "start_time": "2022-11-10T14:25:18.168Z"
   },
   {
    "duration": 128,
    "start_time": "2022-11-10T14:26:01.506Z"
   },
   {
    "duration": 283,
    "start_time": "2022-11-10T14:26:07.430Z"
   },
   {
    "duration": 1189,
    "start_time": "2022-11-10T14:27:49.821Z"
   },
   {
    "duration": 291,
    "start_time": "2022-11-10T14:27:58.067Z"
   },
   {
    "duration": 265,
    "start_time": "2022-11-10T14:31:37.259Z"
   },
   {
    "duration": 387,
    "start_time": "2022-11-10T14:31:51.532Z"
   },
   {
    "duration": 539,
    "start_time": "2022-11-10T14:31:58.219Z"
   },
   {
    "duration": 14,
    "start_time": "2022-11-10T14:43:02.510Z"
   },
   {
    "duration": 62,
    "start_time": "2022-11-10T14:43:21.423Z"
   },
   {
    "duration": 8,
    "start_time": "2022-11-10T14:43:29.447Z"
   },
   {
    "duration": 1492,
    "start_time": "2022-11-10T14:46:55.590Z"
   },
   {
    "duration": 954,
    "start_time": "2022-11-10T14:46:57.084Z"
   },
   {
    "duration": 19,
    "start_time": "2022-11-10T14:46:58.040Z"
   },
   {
    "duration": 176,
    "start_time": "2022-11-10T14:46:58.061Z"
   },
   {
    "duration": 6,
    "start_time": "2022-11-10T14:46:58.240Z"
   },
   {
    "duration": 213,
    "start_time": "2022-11-10T14:46:59.411Z"
   },
   {
    "duration": 98,
    "start_time": "2022-11-10T14:47:30.475Z"
   },
   {
    "duration": 1438,
    "start_time": "2022-11-10T14:47:36.185Z"
   },
   {
    "duration": 1037,
    "start_time": "2022-11-10T14:47:37.626Z"
   },
   {
    "duration": 23,
    "start_time": "2022-11-10T14:47:38.666Z"
   },
   {
    "duration": 221,
    "start_time": "2022-11-10T14:47:38.692Z"
   },
   {
    "duration": 11,
    "start_time": "2022-11-10T14:47:38.916Z"
   },
   {
    "duration": 213,
    "start_time": "2022-11-10T14:47:38.941Z"
   },
   {
    "duration": 123,
    "start_time": "2022-11-10T14:47:39.157Z"
   },
   {
    "duration": 122,
    "start_time": "2022-11-10T14:47:39.282Z"
   },
   {
    "duration": 49,
    "start_time": "2022-11-10T14:47:39.406Z"
   },
   {
    "duration": 109,
    "start_time": "2022-11-10T14:47:39.459Z"
   },
   {
    "duration": 23,
    "start_time": "2022-11-10T14:47:39.570Z"
   },
   {
    "duration": 66,
    "start_time": "2022-11-10T14:47:39.595Z"
   },
   {
    "duration": 60,
    "start_time": "2022-11-10T14:47:39.674Z"
   },
   {
    "duration": 27,
    "start_time": "2022-11-10T14:47:39.737Z"
   },
   {
    "duration": 410,
    "start_time": "2022-11-10T14:47:39.766Z"
   },
   {
    "duration": 9,
    "start_time": "2022-11-10T14:47:40.179Z"
   },
   {
    "duration": 7,
    "start_time": "2022-11-10T14:47:40.191Z"
   },
   {
    "duration": 54,
    "start_time": "2022-11-10T14:47:40.200Z"
   },
   {
    "duration": 258,
    "start_time": "2022-11-10T14:47:40.256Z"
   },
   {
    "duration": 28,
    "start_time": "2022-11-10T14:47:40.516Z"
   },
   {
    "duration": 74,
    "start_time": "2022-11-10T14:47:40.546Z"
   },
   {
    "duration": 0,
    "start_time": "2022-11-10T14:47:40.622Z"
   },
   {
    "duration": 0,
    "start_time": "2022-11-10T14:47:40.624Z"
   },
   {
    "duration": 767,
    "start_time": "2022-11-10T14:52:16.350Z"
   },
   {
    "duration": 1469,
    "start_time": "2022-11-10T14:52:23.013Z"
   },
   {
    "duration": 942,
    "start_time": "2022-11-10T14:52:24.484Z"
   },
   {
    "duration": 28,
    "start_time": "2022-11-10T14:52:25.431Z"
   },
   {
    "duration": 194,
    "start_time": "2022-11-10T14:52:25.461Z"
   },
   {
    "duration": 1232,
    "start_time": "2022-11-10T14:52:25.657Z"
   },
   {
    "duration": 0,
    "start_time": "2022-11-10T14:52:26.892Z"
   },
   {
    "duration": 0,
    "start_time": "2022-11-10T14:52:26.894Z"
   },
   {
    "duration": 0,
    "start_time": "2022-11-10T14:52:26.895Z"
   },
   {
    "duration": 0,
    "start_time": "2022-11-10T14:52:26.896Z"
   },
   {
    "duration": 0,
    "start_time": "2022-11-10T14:52:26.897Z"
   },
   {
    "duration": 0,
    "start_time": "2022-11-10T14:52:26.899Z"
   },
   {
    "duration": 0,
    "start_time": "2022-11-10T14:52:26.900Z"
   },
   {
    "duration": 0,
    "start_time": "2022-11-10T14:52:26.902Z"
   },
   {
    "duration": 0,
    "start_time": "2022-11-10T14:52:26.903Z"
   },
   {
    "duration": 0,
    "start_time": "2022-11-10T14:52:26.904Z"
   },
   {
    "duration": 0,
    "start_time": "2022-11-10T14:52:26.905Z"
   },
   {
    "duration": 0,
    "start_time": "2022-11-10T14:52:26.906Z"
   },
   {
    "duration": 0,
    "start_time": "2022-11-10T14:52:26.907Z"
   },
   {
    "duration": 0,
    "start_time": "2022-11-10T14:52:26.909Z"
   },
   {
    "duration": 0,
    "start_time": "2022-11-10T14:52:26.910Z"
   },
   {
    "duration": 0,
    "start_time": "2022-11-10T14:52:26.911Z"
   },
   {
    "duration": 0,
    "start_time": "2022-11-10T14:52:26.912Z"
   },
   {
    "duration": 0,
    "start_time": "2022-11-10T14:52:26.914Z"
   },
   {
    "duration": 0,
    "start_time": "2022-11-10T14:52:26.914Z"
   },
   {
    "duration": 1,
    "start_time": "2022-11-10T14:52:26.915Z"
   },
   {
    "duration": 1407,
    "start_time": "2022-11-10T14:52:51.979Z"
   },
   {
    "duration": 993,
    "start_time": "2022-11-10T14:52:53.389Z"
   },
   {
    "duration": 20,
    "start_time": "2022-11-10T14:52:54.384Z"
   },
   {
    "duration": 172,
    "start_time": "2022-11-10T14:52:54.406Z"
   },
   {
    "duration": 109,
    "start_time": "2022-11-10T14:52:54.582Z"
   },
   {
    "duration": 6,
    "start_time": "2022-11-10T14:52:54.693Z"
   },
   {
    "duration": 53,
    "start_time": "2022-11-10T14:52:54.701Z"
   },
   {
    "duration": 740,
    "start_time": "2022-11-10T14:52:54.757Z"
   },
   {
    "duration": 0,
    "start_time": "2022-11-10T14:52:55.500Z"
   },
   {
    "duration": 0,
    "start_time": "2022-11-10T14:52:55.503Z"
   },
   {
    "duration": 0,
    "start_time": "2022-11-10T14:52:55.504Z"
   },
   {
    "duration": 0,
    "start_time": "2022-11-10T14:52:55.507Z"
   },
   {
    "duration": 0,
    "start_time": "2022-11-10T14:52:55.509Z"
   },
   {
    "duration": 0,
    "start_time": "2022-11-10T14:52:55.511Z"
   },
   {
    "duration": 0,
    "start_time": "2022-11-10T14:52:55.513Z"
   },
   {
    "duration": 0,
    "start_time": "2022-11-10T14:52:55.514Z"
   },
   {
    "duration": 0,
    "start_time": "2022-11-10T14:52:55.516Z"
   },
   {
    "duration": 0,
    "start_time": "2022-11-10T14:52:55.517Z"
   },
   {
    "duration": 0,
    "start_time": "2022-11-10T14:52:55.518Z"
   },
   {
    "duration": 0,
    "start_time": "2022-11-10T14:52:55.519Z"
   },
   {
    "duration": 0,
    "start_time": "2022-11-10T14:52:55.520Z"
   },
   {
    "duration": 0,
    "start_time": "2022-11-10T14:52:55.521Z"
   },
   {
    "duration": 0,
    "start_time": "2022-11-10T14:52:55.522Z"
   },
   {
    "duration": 0,
    "start_time": "2022-11-10T14:52:55.524Z"
   },
   {
    "duration": 0,
    "start_time": "2022-11-10T14:52:55.525Z"
   },
   {
    "duration": 687,
    "start_time": "2022-11-10T14:53:11.678Z"
   },
   {
    "duration": 602,
    "start_time": "2022-11-10T14:53:49.377Z"
   },
   {
    "duration": 620,
    "start_time": "2022-11-10T14:54:39.290Z"
   },
   {
    "duration": 87,
    "start_time": "2022-11-10T14:56:34.732Z"
   },
   {
    "duration": 1496,
    "start_time": "2022-11-10T14:56:53.629Z"
   },
   {
    "duration": 970,
    "start_time": "2022-11-10T14:56:55.127Z"
   },
   {
    "duration": 20,
    "start_time": "2022-11-10T14:56:56.099Z"
   },
   {
    "duration": 177,
    "start_time": "2022-11-10T14:56:56.137Z"
   },
   {
    "duration": 111,
    "start_time": "2022-11-10T14:56:56.316Z"
   },
   {
    "duration": 7,
    "start_time": "2022-11-10T14:56:56.437Z"
   },
   {
    "duration": 42,
    "start_time": "2022-11-10T14:56:56.447Z"
   },
   {
    "duration": 119,
    "start_time": "2022-11-10T14:56:56.491Z"
   },
   {
    "duration": 101,
    "start_time": "2022-11-10T14:56:56.613Z"
   },
   {
    "duration": 33,
    "start_time": "2022-11-10T14:56:56.717Z"
   },
   {
    "duration": 105,
    "start_time": "2022-11-10T14:56:56.752Z"
   },
   {
    "duration": 20,
    "start_time": "2022-11-10T14:56:56.860Z"
   },
   {
    "duration": 41,
    "start_time": "2022-11-10T14:56:56.882Z"
   },
   {
    "duration": 38,
    "start_time": "2022-11-10T14:56:56.939Z"
   },
   {
    "duration": 24,
    "start_time": "2022-11-10T14:56:56.980Z"
   },
   {
    "duration": 383,
    "start_time": "2022-11-10T14:56:57.006Z"
   },
   {
    "duration": 72,
    "start_time": "2022-11-10T14:56:57.391Z"
   },
   {
    "duration": 0,
    "start_time": "2022-11-10T14:56:57.465Z"
   },
   {
    "duration": 0,
    "start_time": "2022-11-10T14:56:57.467Z"
   },
   {
    "duration": 0,
    "start_time": "2022-11-10T14:56:57.468Z"
   },
   {
    "duration": 0,
    "start_time": "2022-11-10T14:56:57.470Z"
   },
   {
    "duration": 0,
    "start_time": "2022-11-10T14:56:57.471Z"
   },
   {
    "duration": 0,
    "start_time": "2022-11-10T14:56:57.472Z"
   },
   {
    "duration": 0,
    "start_time": "2022-11-10T14:56:57.473Z"
   },
   {
    "duration": 0,
    "start_time": "2022-11-10T14:56:57.475Z"
   },
   {
    "duration": 1258,
    "start_time": "2022-11-10T15:08:33.069Z"
   },
   {
    "duration": 70,
    "start_time": "2022-11-10T15:09:03.719Z"
   },
   {
    "duration": 7,
    "start_time": "2022-11-10T15:09:33.705Z"
   },
   {
    "duration": 58,
    "start_time": "2022-11-11T08:29:04.745Z"
   },
   {
    "duration": 10,
    "start_time": "2022-11-11T08:29:04.929Z"
   },
   {
    "duration": 10,
    "start_time": "2022-11-11T08:29:05.070Z"
   },
   {
    "duration": 2067,
    "start_time": "2022-11-11T08:29:10.134Z"
   },
   {
    "duration": 2069,
    "start_time": "2022-11-11T08:29:12.204Z"
   },
   {
    "duration": 19,
    "start_time": "2022-11-11T08:29:14.277Z"
   },
   {
    "duration": 175,
    "start_time": "2022-11-11T08:29:14.298Z"
   },
   {
    "duration": 110,
    "start_time": "2022-11-11T08:29:14.475Z"
   },
   {
    "duration": 7,
    "start_time": "2022-11-11T08:29:14.588Z"
   },
   {
    "duration": 62,
    "start_time": "2022-11-11T08:29:14.596Z"
   },
   {
    "duration": 148,
    "start_time": "2022-11-11T08:29:14.660Z"
   },
   {
    "duration": 122,
    "start_time": "2022-11-11T08:29:14.810Z"
   },
   {
    "duration": 40,
    "start_time": "2022-11-11T08:29:14.934Z"
   },
   {
    "duration": 167,
    "start_time": "2022-11-11T08:29:14.976Z"
   },
   {
    "duration": 25,
    "start_time": "2022-11-11T08:29:15.145Z"
   },
   {
    "duration": 48,
    "start_time": "2022-11-11T08:29:15.173Z"
   },
   {
    "duration": 31,
    "start_time": "2022-11-11T08:29:15.223Z"
   },
   {
    "duration": 94,
    "start_time": "2022-11-11T08:29:15.256Z"
   },
   {
    "duration": 21,
    "start_time": "2022-11-11T08:29:15.353Z"
   },
   {
    "duration": 449,
    "start_time": "2022-11-11T08:29:15.376Z"
   },
   {
    "duration": 6,
    "start_time": "2022-11-11T08:29:15.828Z"
   },
   {
    "duration": 19,
    "start_time": "2022-11-11T08:29:15.836Z"
   },
   {
    "duration": 120,
    "start_time": "2022-11-11T08:29:15.857Z"
   },
   {
    "duration": 296,
    "start_time": "2022-11-11T08:29:15.979Z"
   },
   {
    "duration": 19,
    "start_time": "2022-11-11T08:29:16.277Z"
   },
   {
    "duration": 85,
    "start_time": "2022-11-11T08:29:16.298Z"
   },
   {
    "duration": 0,
    "start_time": "2022-11-11T08:29:16.385Z"
   },
   {
    "duration": 0,
    "start_time": "2022-11-11T08:29:16.387Z"
   },
   {
    "duration": 6,
    "start_time": "2022-11-11T08:29:32.518Z"
   },
   {
    "duration": 6,
    "start_time": "2022-11-11T08:29:39.618Z"
   },
   {
    "duration": 505,
    "start_time": "2022-11-11T08:29:50.208Z"
   },
   {
    "duration": 9,
    "start_time": "2022-11-11T08:30:19.245Z"
   },
   {
    "duration": 371,
    "start_time": "2022-11-11T08:30:33.469Z"
   },
   {
    "duration": 348,
    "start_time": "2022-11-11T08:30:52.734Z"
   },
   {
    "duration": 401,
    "start_time": "2022-11-11T08:31:07.756Z"
   },
   {
    "duration": 383,
    "start_time": "2022-11-11T08:31:45.231Z"
   },
   {
    "duration": 372,
    "start_time": "2022-11-11T08:32:07.544Z"
   },
   {
    "duration": 401,
    "start_time": "2022-11-11T08:32:18.944Z"
   },
   {
    "duration": 5,
    "start_time": "2022-11-11T08:32:46.120Z"
   },
   {
    "duration": 5,
    "start_time": "2022-11-11T08:32:50.694Z"
   },
   {
    "duration": 557,
    "start_time": "2022-11-11T08:33:04.294Z"
   },
   {
    "duration": 8,
    "start_time": "2022-11-11T08:35:51.183Z"
   },
   {
    "duration": 15,
    "start_time": "2022-11-11T08:37:15.190Z"
   },
   {
    "duration": 126,
    "start_time": "2022-11-11T08:39:07.809Z"
   },
   {
    "duration": 43,
    "start_time": "2022-11-11T08:41:32.945Z"
   },
   {
    "duration": 81,
    "start_time": "2022-11-11T10:23:44.309Z"
   },
   {
    "duration": 44,
    "start_time": "2022-11-11T10:23:53.534Z"
   },
   {
    "duration": 1732,
    "start_time": "2022-11-11T10:24:04.410Z"
   },
   {
    "duration": 1207,
    "start_time": "2022-11-11T10:24:06.145Z"
   },
   {
    "duration": 17,
    "start_time": "2022-11-11T10:24:07.354Z"
   },
   {
    "duration": 160,
    "start_time": "2022-11-11T10:24:07.373Z"
   },
   {
    "duration": 103,
    "start_time": "2022-11-11T10:24:07.535Z"
   },
   {
    "duration": 6,
    "start_time": "2022-11-11T10:24:07.640Z"
   },
   {
    "duration": 51,
    "start_time": "2022-11-11T10:24:07.648Z"
   },
   {
    "duration": 92,
    "start_time": "2022-11-11T10:24:07.701Z"
   },
   {
    "duration": 97,
    "start_time": "2022-11-11T10:24:07.795Z"
   },
   {
    "duration": 20,
    "start_time": "2022-11-11T10:24:07.894Z"
   },
   {
    "duration": 105,
    "start_time": "2022-11-11T10:24:07.916Z"
   },
   {
    "duration": 19,
    "start_time": "2022-11-11T10:24:08.023Z"
   },
   {
    "duration": 58,
    "start_time": "2022-11-11T10:24:08.043Z"
   },
   {
    "duration": 25,
    "start_time": "2022-11-11T10:24:08.104Z"
   },
   {
    "duration": 82,
    "start_time": "2022-11-11T10:24:08.131Z"
   },
   {
    "duration": 18,
    "start_time": "2022-11-11T10:24:08.214Z"
   },
   {
    "duration": 435,
    "start_time": "2022-11-11T10:24:08.234Z"
   },
   {
    "duration": 19,
    "start_time": "2022-11-11T10:24:08.671Z"
   },
   {
    "duration": 142,
    "start_time": "2022-11-11T10:24:08.692Z"
   },
   {
    "duration": 0,
    "start_time": "2022-11-11T10:24:08.835Z"
   },
   {
    "duration": 0,
    "start_time": "2022-11-11T10:24:08.836Z"
   },
   {
    "duration": 0,
    "start_time": "2022-11-11T10:24:08.838Z"
   },
   {
    "duration": 0,
    "start_time": "2022-11-11T10:24:08.839Z"
   },
   {
    "duration": 0,
    "start_time": "2022-11-11T10:24:08.840Z"
   },
   {
    "duration": 16,
    "start_time": "2022-11-11T10:24:42.323Z"
   },
   {
    "duration": 17,
    "start_time": "2022-11-11T10:25:00.772Z"
   },
   {
    "duration": 10,
    "start_time": "2022-11-11T10:25:11.571Z"
   },
   {
    "duration": 27,
    "start_time": "2022-11-11T10:25:17.634Z"
   },
   {
    "duration": 14,
    "start_time": "2022-11-11T10:29:24.175Z"
   },
   {
    "duration": 7,
    "start_time": "2022-11-11T10:29:48.549Z"
   },
   {
    "duration": 11,
    "start_time": "2022-11-11T10:29:53.249Z"
   },
   {
    "duration": 45,
    "start_time": "2022-11-11T10:30:14.474Z"
   },
   {
    "duration": 403,
    "start_time": "2022-11-11T10:30:25.425Z"
   },
   {
    "duration": 1465,
    "start_time": "2022-11-11T10:39:13.816Z"
   },
   {
    "duration": 862,
    "start_time": "2022-11-11T10:39:15.283Z"
   },
   {
    "duration": 18,
    "start_time": "2022-11-11T10:39:16.147Z"
   },
   {
    "duration": 145,
    "start_time": "2022-11-11T10:39:16.167Z"
   },
   {
    "duration": 74,
    "start_time": "2022-11-11T10:39:16.314Z"
   },
   {
    "duration": 76,
    "start_time": "2022-11-11T10:39:22.438Z"
   },
   {
    "duration": 189,
    "start_time": "2022-11-11T10:39:26.650Z"
   },
   {
    "duration": 66,
    "start_time": "2022-11-11T10:39:31.762Z"
   },
   {
    "duration": 105,
    "start_time": "2022-11-11T10:40:27.676Z"
   },
   {
    "duration": 104,
    "start_time": "2022-11-11T10:40:36.201Z"
   },
   {
    "duration": 122,
    "start_time": "2022-11-11T10:43:09.676Z"
   },
   {
    "duration": 107,
    "start_time": "2022-11-11T10:43:21.451Z"
   },
   {
    "duration": 94,
    "start_time": "2022-11-11T10:43:59.839Z"
   },
   {
    "duration": 91,
    "start_time": "2022-11-11T10:44:02.376Z"
   },
   {
    "duration": 115,
    "start_time": "2022-11-11T10:44:59.154Z"
   },
   {
    "duration": 88,
    "start_time": "2022-11-11T10:45:26.422Z"
   },
   {
    "duration": 1563,
    "start_time": "2022-11-11T10:46:44.792Z"
   },
   {
    "duration": 1492,
    "start_time": "2022-11-11T10:46:50.765Z"
   },
   {
    "duration": 947,
    "start_time": "2022-11-11T10:46:52.259Z"
   },
   {
    "duration": 17,
    "start_time": "2022-11-11T10:46:53.209Z"
   },
   {
    "duration": 164,
    "start_time": "2022-11-11T10:46:53.228Z"
   },
   {
    "duration": 134,
    "start_time": "2022-11-11T10:46:53.393Z"
   },
   {
    "duration": 6,
    "start_time": "2022-11-11T10:46:53.528Z"
   },
   {
    "duration": 29,
    "start_time": "2022-11-11T10:46:53.535Z"
   },
   {
    "duration": 102,
    "start_time": "2022-11-11T10:46:53.579Z"
   },
   {
    "duration": 115,
    "start_time": "2022-11-11T10:46:53.683Z"
   },
   {
    "duration": 22,
    "start_time": "2022-11-11T10:46:53.804Z"
   },
   {
    "duration": 99,
    "start_time": "2022-11-11T10:46:53.828Z"
   },
   {
    "duration": 28,
    "start_time": "2022-11-11T10:46:53.929Z"
   },
   {
    "duration": 70,
    "start_time": "2022-11-11T10:46:53.959Z"
   },
   {
    "duration": 26,
    "start_time": "2022-11-11T10:46:54.030Z"
   },
   {
    "duration": 92,
    "start_time": "2022-11-11T10:46:54.058Z"
   },
   {
    "duration": 20,
    "start_time": "2022-11-11T10:46:54.152Z"
   },
   {
    "duration": 459,
    "start_time": "2022-11-11T10:46:54.178Z"
   },
   {
    "duration": 6,
    "start_time": "2022-11-11T10:46:54.638Z"
   },
   {
    "duration": 84,
    "start_time": "2022-11-11T10:46:54.646Z"
   },
   {
    "duration": 440,
    "start_time": "2022-11-11T10:46:54.732Z"
   },
   {
    "duration": 279,
    "start_time": "2022-11-11T10:46:55.174Z"
   },
   {
    "duration": 38,
    "start_time": "2022-11-11T10:46:55.455Z"
   },
   {
    "duration": 77,
    "start_time": "2022-11-11T10:46:55.505Z"
   },
   {
    "duration": 0,
    "start_time": "2022-11-11T10:46:55.584Z"
   },
   {
    "duration": 0,
    "start_time": "2022-11-11T10:46:55.585Z"
   },
   {
    "duration": 100,
    "start_time": "2022-11-11T10:48:39.930Z"
   },
   {
    "duration": 1514,
    "start_time": "2022-11-11T10:50:17.152Z"
   },
   {
    "duration": 1480,
    "start_time": "2022-11-11T10:50:23.533Z"
   },
   {
    "duration": 907,
    "start_time": "2022-11-11T10:50:25.015Z"
   },
   {
    "duration": 16,
    "start_time": "2022-11-11T10:50:25.924Z"
   },
   {
    "duration": 172,
    "start_time": "2022-11-11T10:50:25.942Z"
   },
   {
    "duration": 130,
    "start_time": "2022-11-11T10:50:26.115Z"
   },
   {
    "duration": 11,
    "start_time": "2022-11-11T10:50:26.247Z"
   },
   {
    "duration": 50,
    "start_time": "2022-11-11T10:50:26.259Z"
   },
   {
    "duration": 109,
    "start_time": "2022-11-11T10:50:26.312Z"
   },
   {
    "duration": 118,
    "start_time": "2022-11-11T10:50:26.424Z"
   },
   {
    "duration": 46,
    "start_time": "2022-11-11T10:50:26.546Z"
   },
   {
    "duration": 105,
    "start_time": "2022-11-11T10:50:26.596Z"
   },
   {
    "duration": 21,
    "start_time": "2022-11-11T10:50:26.706Z"
   },
   {
    "duration": 38,
    "start_time": "2022-11-11T10:50:26.728Z"
   },
   {
    "duration": 43,
    "start_time": "2022-11-11T10:50:26.768Z"
   },
   {
    "duration": 112,
    "start_time": "2022-11-11T10:50:26.813Z"
   },
   {
    "duration": 81,
    "start_time": "2022-11-11T10:50:26.927Z"
   },
   {
    "duration": 18,
    "start_time": "2022-11-11T10:50:27.010Z"
   },
   {
    "duration": 431,
    "start_time": "2022-11-11T10:50:27.029Z"
   },
   {
    "duration": 32,
    "start_time": "2022-11-11T10:50:27.462Z"
   },
   {
    "duration": 72,
    "start_time": "2022-11-11T10:50:27.501Z"
   },
   {
    "duration": 443,
    "start_time": "2022-11-11T10:50:27.575Z"
   },
   {
    "duration": 255,
    "start_time": "2022-11-11T10:50:28.020Z"
   },
   {
    "duration": 31,
    "start_time": "2022-11-11T10:50:28.280Z"
   },
   {
    "duration": 93,
    "start_time": "2022-11-11T10:50:28.313Z"
   },
   {
    "duration": 0,
    "start_time": "2022-11-11T10:50:28.407Z"
   },
   {
    "duration": 0,
    "start_time": "2022-11-11T10:50:28.409Z"
   },
   {
    "duration": 396,
    "start_time": "2022-11-11T10:50:48.529Z"
   },
   {
    "duration": 463,
    "start_time": "2022-11-11T10:50:59.779Z"
   },
   {
    "duration": 228,
    "start_time": "2022-11-11T10:59:38.544Z"
   },
   {
    "duration": 16,
    "start_time": "2022-11-11T10:59:59.845Z"
   },
   {
    "duration": 17,
    "start_time": "2022-11-11T11:00:06.156Z"
   },
   {
    "duration": 26,
    "start_time": "2022-11-11T11:00:11.756Z"
   },
   {
    "duration": 25,
    "start_time": "2022-11-11T11:00:14.458Z"
   },
   {
    "duration": 76059,
    "start_time": "2022-11-11T11:01:08.045Z"
   },
   {
    "duration": 95,
    "start_time": "2022-11-11T11:02:57.921Z"
   },
   {
    "duration": 442,
    "start_time": "2022-11-11T11:03:03.745Z"
   },
   {
    "duration": 526,
    "start_time": "2022-11-11T11:04:20.204Z"
   },
   {
    "duration": 80197,
    "start_time": "2022-11-11T11:04:49.199Z"
   },
   {
    "duration": 12,
    "start_time": "2022-11-11T11:06:09.410Z"
   },
   {
    "duration": 24,
    "start_time": "2022-11-11T11:12:38.024Z"
   },
   {
    "duration": 25,
    "start_time": "2022-11-11T12:52:45.790Z"
   },
   {
    "duration": 4588,
    "start_time": "2022-11-11T12:57:57.868Z"
   },
   {
    "duration": 9013,
    "start_time": "2022-11-11T12:58:20.879Z"
   },
   {
    "duration": 4,
    "start_time": "2022-11-11T13:30:51.565Z"
   },
   {
    "duration": 0,
    "start_time": "2022-11-11T13:30:51.578Z"
   },
   {
    "duration": 68620,
    "start_time": "2022-11-11T13:32:23.591Z"
   },
   {
    "duration": 24,
    "start_time": "2022-11-11T13:33:32.214Z"
   },
   {
    "duration": 50757,
    "start_time": "2022-11-11T13:52:11.571Z"
   },
   {
    "duration": 23,
    "start_time": "2022-11-11T13:53:02.330Z"
   },
   {
    "duration": 10,
    "start_time": "2022-11-11T14:01:17.225Z"
   },
   {
    "duration": 26,
    "start_time": "2022-11-11T14:01:20.797Z"
   },
   {
    "duration": 26,
    "start_time": "2022-11-11T14:01:33.222Z"
   },
   {
    "duration": 27,
    "start_time": "2022-11-11T14:01:40.748Z"
   },
   {
    "duration": 30815,
    "start_time": "2022-11-11T14:10:06.503Z"
   },
   {
    "duration": 30950,
    "start_time": "2022-11-11T14:11:21.449Z"
   },
   {
    "duration": 194,
    "start_time": "2022-11-11T14:12:30.106Z"
   },
   {
    "duration": 193,
    "start_time": "2022-11-11T14:13:43.776Z"
   },
   {
    "duration": 160,
    "start_time": "2022-11-11T14:13:55.763Z"
   },
   {
    "duration": 31453,
    "start_time": "2022-11-11T14:13:59.736Z"
   },
   {
    "duration": 1345,
    "start_time": "2022-11-11T14:14:42.738Z"
   },
   {
    "duration": 32400,
    "start_time": "2022-11-11T14:14:58.238Z"
   },
   {
    "duration": 1498,
    "start_time": "2022-11-11T14:27:02.781Z"
   },
   {
    "duration": 915,
    "start_time": "2022-11-11T14:27:04.282Z"
   },
   {
    "duration": 21,
    "start_time": "2022-11-11T14:27:05.200Z"
   },
   {
    "duration": 162,
    "start_time": "2022-11-11T14:27:05.223Z"
   },
   {
    "duration": 121,
    "start_time": "2022-11-11T14:27:05.387Z"
   },
   {
    "duration": 6,
    "start_time": "2022-11-11T14:27:05.510Z"
   },
   {
    "duration": 44,
    "start_time": "2022-11-11T14:27:05.518Z"
   },
   {
    "duration": 96,
    "start_time": "2022-11-11T14:27:05.568Z"
   },
   {
    "duration": 114,
    "start_time": "2022-11-11T14:27:05.666Z"
   },
   {
    "duration": 21,
    "start_time": "2022-11-11T14:27:05.783Z"
   },
   {
    "duration": 108,
    "start_time": "2022-11-11T14:27:05.806Z"
   },
   {
    "duration": 502,
    "start_time": "2022-11-11T14:27:05.915Z"
   },
   {
    "duration": 0,
    "start_time": "2022-11-11T14:27:06.419Z"
   },
   {
    "duration": 67377,
    "start_time": "2022-11-11T14:27:30.804Z"
   },
   {
    "duration": 94,
    "start_time": "2022-11-11T14:30:45.105Z"
   },
   {
    "duration": 1441,
    "start_time": "2022-11-11T14:31:09.584Z"
   },
   {
    "duration": 877,
    "start_time": "2022-11-11T14:31:11.027Z"
   },
   {
    "duration": 17,
    "start_time": "2022-11-11T14:31:11.906Z"
   },
   {
    "duration": 153,
    "start_time": "2022-11-11T14:31:11.925Z"
   },
   {
    "duration": 128,
    "start_time": "2022-11-11T14:31:12.080Z"
   },
   {
    "duration": 6,
    "start_time": "2022-11-11T14:31:12.209Z"
   },
   {
    "duration": 31,
    "start_time": "2022-11-11T14:31:12.217Z"
   },
   {
    "duration": 105,
    "start_time": "2022-11-11T14:31:12.250Z"
   },
   {
    "duration": 92,
    "start_time": "2022-11-11T14:31:12.356Z"
   },
   {
    "duration": 32,
    "start_time": "2022-11-11T14:31:12.449Z"
   },
   {
    "duration": 98,
    "start_time": "2022-11-11T14:31:12.483Z"
   },
   {
    "duration": 68211,
    "start_time": "2022-11-11T14:31:12.582Z"
   },
   {
    "duration": 92,
    "start_time": "2022-11-11T14:32:20.795Z"
   },
   {
    "duration": 452,
    "start_time": "2022-11-11T14:34:53.022Z"
   },
   {
    "duration": 141,
    "start_time": "2022-11-11T14:34:53.866Z"
   },
   {
    "duration": 556,
    "start_time": "2022-11-11T14:35:09.581Z"
   },
   {
    "duration": 78845,
    "start_time": "2022-11-11T14:35:19.568Z"
   },
   {
    "duration": 92,
    "start_time": "2022-11-11T14:36:38.415Z"
   },
   {
    "duration": 3159,
    "start_time": "2022-11-11T14:59:07.115Z"
   },
   {
    "duration": 1419,
    "start_time": "2022-11-11T14:59:24.667Z"
   },
   {
    "duration": 862,
    "start_time": "2022-11-11T14:59:26.088Z"
   },
   {
    "duration": 27,
    "start_time": "2022-11-11T14:59:26.952Z"
   },
   {
    "duration": 150,
    "start_time": "2022-11-11T14:59:26.981Z"
   },
   {
    "duration": 116,
    "start_time": "2022-11-11T14:59:27.134Z"
   },
   {
    "duration": 7,
    "start_time": "2022-11-11T14:59:27.251Z"
   },
   {
    "duration": 44,
    "start_time": "2022-11-11T14:59:27.259Z"
   },
   {
    "duration": 99,
    "start_time": "2022-11-11T14:59:27.306Z"
   },
   {
    "duration": 95,
    "start_time": "2022-11-11T14:59:27.406Z"
   },
   {
    "duration": 21,
    "start_time": "2022-11-11T14:59:27.503Z"
   },
   {
    "duration": 109,
    "start_time": "2022-11-11T14:59:27.526Z"
   },
   {
    "duration": 3572,
    "start_time": "2022-11-11T14:59:27.636Z"
   },
   {
    "duration": 0,
    "start_time": "2022-11-11T14:59:31.211Z"
   },
   {
    "duration": 0,
    "start_time": "2022-11-11T14:59:31.212Z"
   },
   {
    "duration": 0,
    "start_time": "2022-11-11T14:59:31.214Z"
   },
   {
    "duration": 0,
    "start_time": "2022-11-11T14:59:31.215Z"
   },
   {
    "duration": 0,
    "start_time": "2022-11-11T14:59:31.217Z"
   },
   {
    "duration": 0,
    "start_time": "2022-11-11T14:59:31.218Z"
   },
   {
    "duration": 0,
    "start_time": "2022-11-11T14:59:31.220Z"
   },
   {
    "duration": 0,
    "start_time": "2022-11-11T14:59:31.221Z"
   },
   {
    "duration": 0,
    "start_time": "2022-11-11T14:59:31.223Z"
   },
   {
    "duration": 0,
    "start_time": "2022-11-11T14:59:31.225Z"
   },
   {
    "duration": 0,
    "start_time": "2022-11-11T14:59:31.226Z"
   },
   {
    "duration": 0,
    "start_time": "2022-11-11T14:59:31.228Z"
   },
   {
    "duration": 0,
    "start_time": "2022-11-11T14:59:31.229Z"
   },
   {
    "duration": 0,
    "start_time": "2022-11-11T14:59:31.231Z"
   },
   {
    "duration": 0,
    "start_time": "2022-11-11T14:59:31.233Z"
   },
   {
    "duration": 0,
    "start_time": "2022-11-11T14:59:31.234Z"
   },
   {
    "duration": 0,
    "start_time": "2022-11-11T14:59:31.237Z"
   },
   {
    "duration": 351,
    "start_time": "2022-11-11T15:01:56.684Z"
   },
   {
    "duration": 318,
    "start_time": "2022-11-11T15:02:06.579Z"
   },
   {
    "duration": 322,
    "start_time": "2022-11-11T15:02:57.416Z"
   },
   {
    "duration": 1450,
    "start_time": "2022-11-11T15:04:15.145Z"
   },
   {
    "duration": 314,
    "start_time": "2022-11-11T15:04:47.616Z"
   },
   {
    "duration": 1390,
    "start_time": "2022-11-11T15:05:09.966Z"
   },
   {
    "duration": 1387,
    "start_time": "2022-11-11T15:05:17.640Z"
   },
   {
    "duration": 300,
    "start_time": "2022-11-11T15:05:26.840Z"
   },
   {
    "duration": 324,
    "start_time": "2022-11-11T15:05:42.066Z"
   },
   {
    "duration": 262,
    "start_time": "2022-11-11T15:06:24.654Z"
   },
   {
    "duration": 16904,
    "start_time": "2022-11-11T15:09:43.319Z"
   },
   {
    "duration": 17007,
    "start_time": "2022-11-11T15:10:31.525Z"
   },
   {
    "duration": 163,
    "start_time": "2022-11-11T15:11:54.609Z"
   },
   {
    "duration": 17321,
    "start_time": "2022-11-11T15:12:24.930Z"
   },
   {
    "duration": 295,
    "start_time": "2022-11-11T15:12:42.254Z"
   },
   {
    "duration": 246,
    "start_time": "2022-11-11T15:13:04.318Z"
   },
   {
    "duration": 38795,
    "start_time": "2022-11-11T15:15:06.156Z"
   },
   {
    "duration": 1198,
    "start_time": "2022-11-11T15:17:06.690Z"
   },
   {
    "duration": 171,
    "start_time": "2022-11-11T15:17:32.358Z"
   },
   {
    "duration": 203,
    "start_time": "2022-11-11T15:17:49.894Z"
   },
   {
    "duration": 185,
    "start_time": "2022-11-11T15:18:39.110Z"
   },
   {
    "duration": 186,
    "start_time": "2022-11-11T15:18:42.513Z"
   },
   {
    "duration": 21,
    "start_time": "2022-11-11T15:19:18.842Z"
   },
   {
    "duration": 142,
    "start_time": "2022-11-11T15:19:26.163Z"
   },
   {
    "duration": 34,
    "start_time": "2022-11-11T15:21:11.414Z"
   },
   {
    "duration": 1428,
    "start_time": "2022-11-11T15:22:49.880Z"
   },
   {
    "duration": 970,
    "start_time": "2022-11-11T15:22:51.310Z"
   },
   {
    "duration": 20,
    "start_time": "2022-11-11T15:22:52.281Z"
   },
   {
    "duration": 158,
    "start_time": "2022-11-11T15:22:52.304Z"
   },
   {
    "duration": 131,
    "start_time": "2022-11-11T15:22:52.464Z"
   },
   {
    "duration": 7,
    "start_time": "2022-11-11T15:22:52.597Z"
   },
   {
    "duration": 34,
    "start_time": "2022-11-11T15:22:52.606Z"
   },
   {
    "duration": 117,
    "start_time": "2022-11-11T15:22:52.642Z"
   },
   {
    "duration": 120,
    "start_time": "2022-11-11T15:22:52.761Z"
   },
   {
    "duration": 26,
    "start_time": "2022-11-11T15:22:52.885Z"
   },
   {
    "duration": 103,
    "start_time": "2022-11-11T15:22:52.913Z"
   },
   {
    "duration": 35943,
    "start_time": "2022-11-11T15:22:53.018Z"
   },
   {
    "duration": 0,
    "start_time": "2022-11-11T15:23:28.963Z"
   },
   {
    "duration": 28701,
    "start_time": "2022-11-11T15:25:21.593Z"
   },
   {
    "duration": 29736,
    "start_time": "2022-11-11T15:26:25.059Z"
   },
   {
    "duration": 60536,
    "start_time": "2022-11-11T15:28:39.859Z"
   },
   {
    "duration": 60563,
    "start_time": "2022-11-11T15:30:11.311Z"
   },
   {
    "duration": 1152,
    "start_time": "2022-11-11T15:31:11.879Z"
   },
   {
    "duration": 236,
    "start_time": "2022-11-11T15:31:16.647Z"
   },
   {
    "duration": 226,
    "start_time": "2022-11-11T15:32:03.294Z"
   },
   {
    "duration": 74196,
    "start_time": "2022-11-11T15:32:31.477Z"
   },
   {
    "duration": 89,
    "start_time": "2022-11-11T15:33:45.675Z"
   },
   {
    "duration": 32,
    "start_time": "2022-11-11T15:41:16.090Z"
   },
   {
    "duration": 27,
    "start_time": "2022-11-11T15:41:26.464Z"
   },
   {
    "duration": 1395,
    "start_time": "2022-11-11T15:51:46.808Z"
   },
   {
    "duration": 938,
    "start_time": "2022-11-11T15:51:48.205Z"
   },
   {
    "duration": 19,
    "start_time": "2022-11-11T15:51:49.145Z"
   },
   {
    "duration": 158,
    "start_time": "2022-11-11T15:51:49.166Z"
   },
   {
    "duration": 117,
    "start_time": "2022-11-11T15:51:49.327Z"
   },
   {
    "duration": 6,
    "start_time": "2022-11-11T15:51:49.446Z"
   },
   {
    "duration": 47,
    "start_time": "2022-11-11T15:51:49.454Z"
   },
   {
    "duration": 94,
    "start_time": "2022-11-11T15:51:49.503Z"
   },
   {
    "duration": 92,
    "start_time": "2022-11-11T15:51:49.599Z"
   },
   {
    "duration": 22,
    "start_time": "2022-11-11T15:51:49.694Z"
   },
   {
    "duration": 106,
    "start_time": "2022-11-11T15:51:49.718Z"
   },
   {
    "duration": 98134,
    "start_time": "2022-11-11T15:51:49.826Z"
   },
   {
    "duration": 88,
    "start_time": "2022-11-11T15:53:27.962Z"
   },
   {
    "duration": 36,
    "start_time": "2022-11-11T15:53:28.053Z"
   },
   {
    "duration": 19,
    "start_time": "2022-11-11T15:53:28.091Z"
   },
   {
    "duration": 34,
    "start_time": "2022-11-11T15:53:28.111Z"
   },
   {
    "duration": 50,
    "start_time": "2022-11-11T15:53:28.146Z"
   },
   {
    "duration": 89,
    "start_time": "2022-11-11T15:53:28.198Z"
   },
   {
    "duration": 30899,
    "start_time": "2022-11-11T15:53:28.289Z"
   },
   {
    "duration": 64,
    "start_time": "2022-11-11T15:53:59.189Z"
   },
   {
    "duration": 33,
    "start_time": "2022-11-11T15:53:59.255Z"
   },
   {
    "duration": 419,
    "start_time": "2022-11-11T15:53:59.290Z"
   },
   {
    "duration": 7,
    "start_time": "2022-11-11T15:53:59.711Z"
   },
   {
    "duration": 146,
    "start_time": "2022-11-11T15:53:59.720Z"
   },
   {
    "duration": 402,
    "start_time": "2022-11-11T15:53:59.868Z"
   },
   {
    "duration": 243,
    "start_time": "2022-11-11T15:54:00.272Z"
   },
   {
    "duration": 19,
    "start_time": "2022-11-11T15:54:00.517Z"
   },
   {
    "duration": 56383,
    "start_time": "2022-11-11T15:54:00.538Z"
   },
   {
    "duration": 26,
    "start_time": "2022-11-11T15:54:56.923Z"
   },
   {
    "duration": 65,
    "start_time": "2022-11-11T15:54:56.951Z"
   },
   {
    "duration": 7,
    "start_time": "2022-11-11T16:02:55.508Z"
   },
   {
    "duration": 6,
    "start_time": "2022-11-11T16:04:09.641Z"
   },
   {
    "duration": 8,
    "start_time": "2022-11-11T16:04:24.834Z"
   },
   {
    "duration": 1417,
    "start_time": "2022-11-11T16:33:34.382Z"
   },
   {
    "duration": 932,
    "start_time": "2022-11-11T16:33:35.802Z"
   },
   {
    "duration": 17,
    "start_time": "2022-11-11T16:33:36.736Z"
   },
   {
    "duration": 154,
    "start_time": "2022-11-11T16:33:36.754Z"
   },
   {
    "duration": 124,
    "start_time": "2022-11-11T16:33:36.911Z"
   },
   {
    "duration": 6,
    "start_time": "2022-11-11T16:33:37.037Z"
   },
   {
    "duration": 56,
    "start_time": "2022-11-11T16:33:37.045Z"
   },
   {
    "duration": 100,
    "start_time": "2022-11-11T16:33:37.103Z"
   },
   {
    "duration": 95,
    "start_time": "2022-11-11T16:33:37.205Z"
   },
   {
    "duration": 36,
    "start_time": "2022-11-11T16:33:37.302Z"
   },
   {
    "duration": 97126,
    "start_time": "2022-11-11T16:33:37.339Z"
   },
   {
    "duration": 89,
    "start_time": "2022-11-11T16:35:14.467Z"
   },
   {
    "duration": 33,
    "start_time": "2022-11-11T16:35:14.558Z"
   },
   {
    "duration": 54,
    "start_time": "2022-11-11T16:35:14.594Z"
   },
   {
    "duration": 50,
    "start_time": "2022-11-11T16:35:14.650Z"
   },
   {
    "duration": 101,
    "start_time": "2022-11-11T16:35:14.702Z"
   },
   {
    "duration": 76,
    "start_time": "2022-11-11T16:35:14.805Z"
   },
   {
    "duration": 17,
    "start_time": "2022-11-11T16:35:14.883Z"
   },
   {
    "duration": 545,
    "start_time": "2022-11-11T16:35:14.902Z"
   },
   {
    "duration": 55,
    "start_time": "2022-11-11T16:35:15.449Z"
   },
   {
    "duration": 135,
    "start_time": "2022-11-11T16:41:59.723Z"
   },
   {
    "duration": 47,
    "start_time": "2022-11-11T16:42:39.382Z"
   },
   {
    "duration": 9,
    "start_time": "2022-11-11T16:42:56.495Z"
   },
   {
    "duration": 9,
    "start_time": "2022-11-11T16:43:05.575Z"
   },
   {
    "duration": 1466,
    "start_time": "2022-11-11T17:03:22.569Z"
   },
   {
    "duration": 998,
    "start_time": "2022-11-11T17:03:24.038Z"
   },
   {
    "duration": 30,
    "start_time": "2022-11-11T17:03:25.038Z"
   },
   {
    "duration": 174,
    "start_time": "2022-11-11T17:03:25.070Z"
   },
   {
    "duration": 119,
    "start_time": "2022-11-11T17:03:25.246Z"
   },
   {
    "duration": 7,
    "start_time": "2022-11-11T17:03:25.379Z"
   },
   {
    "duration": 45,
    "start_time": "2022-11-11T17:03:25.387Z"
   },
   {
    "duration": 93,
    "start_time": "2022-11-11T17:03:25.435Z"
   },
   {
    "duration": 100,
    "start_time": "2022-11-11T17:03:25.530Z"
   },
   {
    "duration": 104,
    "start_time": "2022-11-11T17:03:25.633Z"
   },
   {
    "duration": 41,
    "start_time": "2022-11-11T17:03:25.739Z"
   },
   {
    "duration": 35,
    "start_time": "2022-11-11T17:03:25.783Z"
   },
   {
    "duration": 28,
    "start_time": "2022-11-11T17:03:25.820Z"
   },
   {
    "duration": 129,
    "start_time": "2022-11-11T17:03:25.850Z"
   },
   {
    "duration": 68,
    "start_time": "2022-11-11T17:03:25.981Z"
   },
   {
    "duration": 41,
    "start_time": "2022-11-11T17:03:26.052Z"
   },
   {
    "duration": 457,
    "start_time": "2022-11-11T17:03:26.094Z"
   },
   {
    "duration": 10,
    "start_time": "2022-11-11T17:03:26.553Z"
   },
   {
    "duration": 61,
    "start_time": "2022-11-11T17:03:26.579Z"
   },
   {
    "duration": 8,
    "start_time": "2022-11-11T17:03:26.642Z"
   },
   {
    "duration": 70,
    "start_time": "2022-11-11T17:03:26.653Z"
   },
   {
    "duration": 7,
    "start_time": "2022-11-11T17:03:26.724Z"
   },
   {
    "duration": 417,
    "start_time": "2022-11-11T17:03:26.733Z"
   },
   {
    "duration": 318,
    "start_time": "2022-11-11T17:03:27.152Z"
   },
   {
    "duration": 33,
    "start_time": "2022-11-11T17:03:27.472Z"
   },
   {
    "duration": 1012,
    "start_time": "2022-11-11T17:03:27.508Z"
   },
   {
    "duration": 43,
    "start_time": "2022-11-11T17:03:28.522Z"
   },
   {
    "duration": 83,
    "start_time": "2022-11-11T17:03:28.571Z"
   },
   {
    "duration": 36,
    "start_time": "2022-11-11T17:04:19.765Z"
   },
   {
    "duration": 114,
    "start_time": "2022-11-11T17:04:47.790Z"
   },
   {
    "duration": 33,
    "start_time": "2022-11-11T17:05:21.415Z"
   },
   {
    "duration": 99,
    "start_time": "2022-11-11T17:05:50.995Z"
   },
   {
    "duration": 143,
    "start_time": "2022-11-11T17:05:56.815Z"
   },
   {
    "duration": 1479,
    "start_time": "2022-11-11T17:08:03.268Z"
   },
   {
    "duration": 957,
    "start_time": "2022-11-11T17:08:04.750Z"
   },
   {
    "duration": 18,
    "start_time": "2022-11-11T17:08:05.710Z"
   },
   {
    "duration": 176,
    "start_time": "2022-11-11T17:08:05.730Z"
   },
   {
    "duration": 187,
    "start_time": "2022-11-11T17:08:05.910Z"
   },
   {
    "duration": 8,
    "start_time": "2022-11-11T17:08:06.099Z"
   },
   {
    "duration": 38,
    "start_time": "2022-11-11T17:08:06.110Z"
   },
   {
    "duration": 127,
    "start_time": "2022-11-11T17:08:06.151Z"
   },
   {
    "duration": 101,
    "start_time": "2022-11-11T17:08:06.280Z"
   },
   {
    "duration": 38,
    "start_time": "2022-11-11T17:08:06.383Z"
   },
   {
    "duration": 98023,
    "start_time": "2022-11-11T17:08:06.422Z"
   },
   {
    "duration": 91,
    "start_time": "2022-11-11T17:09:44.446Z"
   },
   {
    "duration": 20,
    "start_time": "2022-11-11T17:09:44.539Z"
   },
   {
    "duration": 36,
    "start_time": "2022-11-11T17:09:44.577Z"
   },
   {
    "duration": 27,
    "start_time": "2022-11-11T17:09:44.615Z"
   },
   {
    "duration": 113,
    "start_time": "2022-11-11T17:09:44.644Z"
   },
   {
    "duration": 79,
    "start_time": "2022-11-11T17:09:44.760Z"
   },
   {
    "duration": 20,
    "start_time": "2022-11-11T17:09:44.841Z"
   },
   {
    "duration": 483,
    "start_time": "2022-11-11T17:09:44.878Z"
   },
   {
    "duration": 20,
    "start_time": "2022-11-11T17:09:45.363Z"
   },
   {
    "duration": 53,
    "start_time": "2022-11-11T17:09:45.385Z"
   },
   {
    "duration": 7,
    "start_time": "2022-11-11T17:09:45.440Z"
   },
   {
    "duration": 73,
    "start_time": "2022-11-11T17:09:45.449Z"
   },
   {
    "duration": 10,
    "start_time": "2022-11-11T17:09:45.524Z"
   },
   {
    "duration": 497,
    "start_time": "2022-11-11T17:09:45.536Z"
   },
   {
    "duration": 264,
    "start_time": "2022-11-11T17:09:46.035Z"
   },
   {
    "duration": 20,
    "start_time": "2022-11-11T17:09:46.302Z"
   },
   {
    "duration": 56048,
    "start_time": "2022-11-11T17:09:46.330Z"
   },
   {
    "duration": 28,
    "start_time": "2022-11-11T17:10:42.380Z"
   },
   {
    "duration": 69,
    "start_time": "2022-11-11T17:10:42.410Z"
   },
   {
    "duration": 29,
    "start_time": "2022-11-11T17:10:57.855Z"
   },
   {
    "duration": 11,
    "start_time": "2022-11-11T17:16:18.169Z"
   },
   {
    "duration": 9,
    "start_time": "2022-11-11T17:16:48.044Z"
   },
   {
    "duration": 8,
    "start_time": "2022-11-11T17:17:04.597Z"
   },
   {
    "duration": 131,
    "start_time": "2022-11-11T17:17:25.355Z"
   },
   {
    "duration": 163,
    "start_time": "2022-11-11T17:17:30.299Z"
   },
   {
    "duration": 319,
    "start_time": "2022-11-11T17:17:39.968Z"
   },
   {
    "duration": 331,
    "start_time": "2022-11-11T17:18:05.631Z"
   },
   {
    "duration": 9,
    "start_time": "2022-11-11T17:18:19.369Z"
   },
   {
    "duration": 14,
    "start_time": "2022-11-11T17:18:50.795Z"
   },
   {
    "duration": 11,
    "start_time": "2022-11-11T17:19:00.008Z"
   },
   {
    "duration": 23,
    "start_time": "2022-11-11T17:28:31.867Z"
   },
   {
    "duration": 24,
    "start_time": "2022-11-11T17:30:01.279Z"
   },
   {
    "duration": 288,
    "start_time": "2022-11-11T17:31:47.500Z"
   },
   {
    "duration": 7,
    "start_time": "2022-11-11T17:32:02.247Z"
   },
   {
    "duration": 6,
    "start_time": "2022-11-11T17:33:52.824Z"
   },
   {
    "duration": 493,
    "start_time": "2022-11-11T17:34:31.386Z"
   },
   {
    "duration": 143,
    "start_time": "2022-11-11T17:34:54.609Z"
   },
   {
    "duration": 7,
    "start_time": "2022-11-11T17:46:18.077Z"
   },
   {
    "duration": 7,
    "start_time": "2022-11-11T17:46:24.878Z"
   },
   {
    "duration": 1445,
    "start_time": "2022-11-11T17:46:42.473Z"
   },
   {
    "duration": 1008,
    "start_time": "2022-11-11T17:46:43.920Z"
   },
   {
    "duration": 19,
    "start_time": "2022-11-11T17:46:44.930Z"
   },
   {
    "duration": 192,
    "start_time": "2022-11-11T17:46:44.951Z"
   },
   {
    "duration": 138,
    "start_time": "2022-11-11T17:46:45.145Z"
   },
   {
    "duration": 8,
    "start_time": "2022-11-11T17:46:45.285Z"
   },
   {
    "duration": 39,
    "start_time": "2022-11-11T17:46:45.296Z"
   },
   {
    "duration": 118,
    "start_time": "2022-11-11T17:46:45.337Z"
   },
   {
    "duration": 109,
    "start_time": "2022-11-11T17:46:45.457Z"
   },
   {
    "duration": 39,
    "start_time": "2022-11-11T17:46:45.579Z"
   },
   {
    "duration": 102767,
    "start_time": "2022-11-11T17:46:45.620Z"
   },
   {
    "duration": 97,
    "start_time": "2022-11-11T17:48:28.389Z"
   },
   {
    "duration": 27,
    "start_time": "2022-11-11T17:48:28.488Z"
   },
   {
    "duration": 34,
    "start_time": "2022-11-11T17:48:28.517Z"
   },
   {
    "duration": 43,
    "start_time": "2022-11-11T17:48:28.553Z"
   },
   {
    "duration": 108,
    "start_time": "2022-11-11T17:48:28.599Z"
   },
   {
    "duration": 85,
    "start_time": "2022-11-11T17:48:28.709Z"
   },
   {
    "duration": 23,
    "start_time": "2022-11-11T17:48:28.797Z"
   },
   {
    "duration": 474,
    "start_time": "2022-11-11T17:48:28.822Z"
   },
   {
    "duration": 10,
    "start_time": "2022-11-11T17:48:29.298Z"
   },
   {
    "duration": 7,
    "start_time": "2022-11-11T17:48:29.310Z"
   },
   {
    "duration": 10,
    "start_time": "2022-11-11T17:48:29.319Z"
   },
   {
    "duration": 87,
    "start_time": "2022-11-11T17:48:29.331Z"
   },
   {
    "duration": 6,
    "start_time": "2022-11-11T17:48:29.420Z"
   },
   {
    "duration": 410,
    "start_time": "2022-11-11T17:48:29.427Z"
   },
   {
    "duration": 241,
    "start_time": "2022-11-11T17:48:29.839Z"
   },
   {
    "duration": 21,
    "start_time": "2022-11-11T17:48:30.083Z"
   },
   {
    "duration": 64398,
    "start_time": "2022-11-11T17:48:30.107Z"
   },
   {
    "duration": 25,
    "start_time": "2022-11-11T17:49:34.507Z"
   },
   {
    "duration": 68,
    "start_time": "2022-11-11T17:49:34.535Z"
   },
   {
    "duration": 44,
    "start_time": "2022-11-13T11:44:27.170Z"
   },
   {
    "duration": 1376,
    "start_time": "2022-11-13T11:44:38.020Z"
   },
   {
    "duration": 2699,
    "start_time": "2022-11-13T11:44:39.398Z"
   },
   {
    "duration": 15,
    "start_time": "2022-11-13T11:44:42.098Z"
   },
   {
    "duration": 141,
    "start_time": "2022-11-13T11:44:42.114Z"
   },
   {
    "duration": 133,
    "start_time": "2022-11-13T11:44:42.257Z"
   },
   {
    "duration": 6,
    "start_time": "2022-11-13T11:44:42.391Z"
   },
   {
    "duration": 49,
    "start_time": "2022-11-13T11:44:42.399Z"
   },
   {
    "duration": 79,
    "start_time": "2022-11-13T11:44:42.450Z"
   },
   {
    "duration": 82,
    "start_time": "2022-11-13T11:44:42.531Z"
   },
   {
    "duration": 21,
    "start_time": "2022-11-13T11:44:42.614Z"
   },
   {
    "duration": 83192,
    "start_time": "2022-11-13T11:44:42.648Z"
   },
   {
    "duration": 79,
    "start_time": "2022-11-13T11:46:05.842Z"
   },
   {
    "duration": 15,
    "start_time": "2022-11-13T11:46:05.923Z"
   },
   {
    "duration": 31,
    "start_time": "2022-11-13T11:46:05.949Z"
   },
   {
    "duration": 23,
    "start_time": "2022-11-13T11:46:05.982Z"
   },
   {
    "duration": 87,
    "start_time": "2022-11-13T11:46:06.007Z"
   },
   {
    "duration": 62,
    "start_time": "2022-11-13T11:46:06.096Z"
   },
   {
    "duration": 16,
    "start_time": "2022-11-13T11:46:06.159Z"
   },
   {
    "duration": 439,
    "start_time": "2022-11-13T11:46:06.177Z"
   },
   {
    "duration": 7,
    "start_time": "2022-11-13T11:46:06.618Z"
   },
   {
    "duration": 8,
    "start_time": "2022-11-13T11:46:25.386Z"
   },
   {
    "duration": 119,
    "start_time": "2022-11-13T11:48:04.418Z"
   },
   {
    "duration": 24,
    "start_time": "2022-11-13T11:48:08.843Z"
   },
   {
    "duration": 31,
    "start_time": "2022-11-13T11:48:45.477Z"
   },
   {
    "duration": 25,
    "start_time": "2022-11-13T11:48:48.580Z"
   },
   {
    "duration": 5,
    "start_time": "2022-11-13T11:48:48.742Z"
   },
   {
    "duration": 137,
    "start_time": "2022-11-13T12:05:05.582Z"
   },
   {
    "duration": 344,
    "start_time": "2022-11-13T12:05:10.032Z"
   },
   {
    "duration": 3,
    "start_time": "2022-11-13T12:06:01.271Z"
   },
   {
    "duration": 3,
    "start_time": "2022-11-13T12:06:06.399Z"
   },
   {
    "duration": 1305,
    "start_time": "2022-11-13T12:06:29.142Z"
   },
   {
    "duration": 751,
    "start_time": "2022-11-13T12:06:30.449Z"
   },
   {
    "duration": 15,
    "start_time": "2022-11-13T12:06:31.201Z"
   },
   {
    "duration": 164,
    "start_time": "2022-11-13T12:06:31.218Z"
   },
   {
    "duration": 106,
    "start_time": "2022-11-13T12:06:31.384Z"
   },
   {
    "duration": 5,
    "start_time": "2022-11-13T12:06:31.492Z"
   },
   {
    "duration": 63,
    "start_time": "2022-11-13T12:06:31.499Z"
   },
   {
    "duration": 96,
    "start_time": "2022-11-13T12:06:31.564Z"
   },
   {
    "duration": 86,
    "start_time": "2022-11-13T12:06:31.662Z"
   },
   {
    "duration": 19,
    "start_time": "2022-11-13T12:06:31.750Z"
   },
   {
    "duration": 85079,
    "start_time": "2022-11-13T12:06:31.771Z"
   },
   {
    "duration": 77,
    "start_time": "2022-11-13T12:07:56.852Z"
   },
   {
    "duration": 21,
    "start_time": "2022-11-13T12:07:56.931Z"
   },
   {
    "duration": 47,
    "start_time": "2022-11-13T12:07:56.954Z"
   },
   {
    "duration": 24,
    "start_time": "2022-11-13T12:07:57.003Z"
   },
   {
    "duration": 81,
    "start_time": "2022-11-13T12:07:57.029Z"
   },
   {
    "duration": 65,
    "start_time": "2022-11-13T12:07:57.112Z"
   },
   {
    "duration": 15,
    "start_time": "2022-11-13T12:07:57.179Z"
   },
   {
    "duration": 375,
    "start_time": "2022-11-13T12:07:57.195Z"
   },
   {
    "duration": 8,
    "start_time": "2022-11-13T12:07:57.571Z"
   },
   {
    "duration": 105,
    "start_time": "2022-11-13T12:07:57.580Z"
   },
   {
    "duration": 390,
    "start_time": "2022-11-13T12:07:57.686Z"
   },
   {
    "duration": 4,
    "start_time": "2022-11-13T12:07:58.078Z"
   },
   {
    "duration": 10,
    "start_time": "2022-11-13T12:07:58.083Z"
   },
   {
    "duration": 209,
    "start_time": "2022-11-13T12:08:30.246Z"
   },
   {
    "duration": 97,
    "start_time": "2022-11-13T12:14:24.610Z"
   },
   {
    "duration": 4,
    "start_time": "2022-11-13T12:14:26.490Z"
   },
   {
    "duration": 44573,
    "start_time": "2022-11-13T12:27:09.799Z"
   },
   {
    "duration": 22,
    "start_time": "2022-11-13T12:27:54.374Z"
   },
   {
    "duration": 61,
    "start_time": "2022-11-13T12:27:54.397Z"
   },
   {
    "duration": 38,
    "start_time": "2022-11-13T12:30:51.170Z"
   },
   {
    "duration": 19,
    "start_time": "2022-11-13T12:30:53.792Z"
   },
   {
    "duration": 1128,
    "start_time": "2022-11-13T12:31:11.412Z"
   },
   {
    "duration": 1125,
    "start_time": "2022-11-13T12:31:52.819Z"
   },
   {
    "duration": 44936,
    "start_time": "2022-11-13T12:33:26.076Z"
   },
   {
    "duration": 19,
    "start_time": "2022-11-13T12:34:58.383Z"
   },
   {
    "duration": 15,
    "start_time": "2022-11-13T12:35:24.968Z"
   },
   {
    "duration": 33,
    "start_time": "2022-11-13T12:35:36.139Z"
   },
   {
    "duration": 21,
    "start_time": "2022-11-13T12:35:51.301Z"
   },
   {
    "duration": 19,
    "start_time": "2022-11-13T12:35:58.151Z"
   },
   {
    "duration": 13,
    "start_time": "2022-11-13T12:36:06.978Z"
   },
   {
    "duration": 6,
    "start_time": "2022-11-13T12:36:24.507Z"
   },
   {
    "duration": 45084,
    "start_time": "2022-11-13T12:36:59.890Z"
   },
   {
    "duration": 25,
    "start_time": "2022-11-13T12:37:44.976Z"
   },
   {
    "duration": 19,
    "start_time": "2022-11-13T12:37:45.002Z"
   },
   {
    "duration": 144,
    "start_time": "2022-11-13T12:40:03.166Z"
   },
   {
    "duration": 16,
    "start_time": "2022-11-13T12:40:39.540Z"
   },
   {
    "duration": 24,
    "start_time": "2022-11-13T12:43:56.691Z"
   },
   {
    "duration": 29,
    "start_time": "2022-11-13T12:45:38.653Z"
   },
   {
    "duration": 37,
    "start_time": "2022-11-13T12:45:58.959Z"
   },
   {
    "duration": 48,
    "start_time": "2022-11-13T12:46:01.140Z"
   },
   {
    "duration": 135,
    "start_time": "2022-11-13T12:46:05.393Z"
   },
   {
    "duration": 357,
    "start_time": "2022-11-13T12:46:12.066Z"
   },
   {
    "duration": 337,
    "start_time": "2022-11-13T12:48:37.181Z"
   },
   {
    "duration": 67,
    "start_time": "2022-11-13T12:50:15.392Z"
   },
   {
    "duration": 5,
    "start_time": "2022-11-13T12:51:35.918Z"
   },
   {
    "duration": 15,
    "start_time": "2022-11-13T12:51:45.418Z"
   },
   {
    "duration": 7,
    "start_time": "2022-11-13T12:51:55.956Z"
   },
   {
    "duration": 42,
    "start_time": "2022-11-13T12:52:30.344Z"
   },
   {
    "duration": 25,
    "start_time": "2022-11-13T12:53:01.731Z"
   },
   {
    "duration": 4,
    "start_time": "2022-11-13T12:53:03.330Z"
   },
   {
    "duration": 150,
    "start_time": "2022-11-13T12:55:35.044Z"
   },
   {
    "duration": 432,
    "start_time": "2022-11-13T12:55:47.095Z"
   },
   {
    "duration": 283,
    "start_time": "2022-11-13T12:55:55.275Z"
   },
   {
    "duration": 3,
    "start_time": "2022-11-13T12:56:40.596Z"
   },
   {
    "duration": 3,
    "start_time": "2022-11-13T12:56:51.482Z"
   },
   {
    "duration": 5,
    "start_time": "2022-11-13T12:57:14.196Z"
   },
   {
    "duration": 1237,
    "start_time": "2022-11-13T12:58:31.741Z"
   },
   {
    "duration": 788,
    "start_time": "2022-11-13T12:58:32.980Z"
   },
   {
    "duration": 16,
    "start_time": "2022-11-13T12:58:33.770Z"
   },
   {
    "duration": 143,
    "start_time": "2022-11-13T12:58:33.789Z"
   },
   {
    "duration": 117,
    "start_time": "2022-11-13T12:58:33.934Z"
   },
   {
    "duration": 6,
    "start_time": "2022-11-13T12:58:34.053Z"
   },
   {
    "duration": 34,
    "start_time": "2022-11-13T12:58:34.061Z"
   },
   {
    "duration": 94,
    "start_time": "2022-11-13T12:58:34.097Z"
   },
   {
    "duration": 83,
    "start_time": "2022-11-13T12:58:34.193Z"
   },
   {
    "duration": 23,
    "start_time": "2022-11-13T12:58:34.279Z"
   },
   {
    "duration": 92474,
    "start_time": "2022-11-13T12:58:34.304Z"
   },
   {
    "duration": 83,
    "start_time": "2022-11-13T13:00:06.780Z"
   },
   {
    "duration": 16,
    "start_time": "2022-11-13T13:00:06.865Z"
   },
   {
    "duration": 34,
    "start_time": "2022-11-13T13:00:06.883Z"
   },
   {
    "duration": 44,
    "start_time": "2022-11-13T13:00:06.919Z"
   },
   {
    "duration": 84,
    "start_time": "2022-11-13T13:00:06.965Z"
   },
   {
    "duration": 57,
    "start_time": "2022-11-13T13:00:07.051Z"
   },
   {
    "duration": 15,
    "start_time": "2022-11-13T13:00:07.110Z"
   },
   {
    "duration": 409,
    "start_time": "2022-11-13T13:00:07.127Z"
   },
   {
    "duration": 8,
    "start_time": "2022-11-13T13:00:07.538Z"
   },
   {
    "duration": 106,
    "start_time": "2022-11-13T13:00:07.548Z"
   },
   {
    "duration": 3,
    "start_time": "2022-11-13T13:00:07.656Z"
   },
   {
    "duration": 18,
    "start_time": "2022-11-13T13:00:07.660Z"
   },
   {
    "duration": 368,
    "start_time": "2022-11-13T13:00:07.680Z"
   },
   {
    "duration": 36,
    "start_time": "2022-11-13T13:00:08.050Z"
   },
   {
    "duration": 7,
    "start_time": "2022-11-13T13:00:08.088Z"
   },
   {
    "duration": 26,
    "start_time": "2022-11-13T13:00:08.096Z"
   },
   {
    "duration": 4,
    "start_time": "2022-11-13T13:00:08.125Z"
   },
   {
    "duration": 337,
    "start_time": "2022-11-13T13:00:08.148Z"
   },
   {
    "duration": 16,
    "start_time": "2022-11-13T13:00:08.486Z"
   },
   {
    "duration": 48867,
    "start_time": "2022-11-13T13:00:08.503Z"
   },
   {
    "duration": 4,
    "start_time": "2022-11-13T13:00:57.371Z"
   },
   {
    "duration": 13,
    "start_time": "2022-11-13T13:00:57.376Z"
   },
   {
    "duration": 3884,
    "start_time": "2022-11-13T13:02:50.634Z"
   },
   {
    "duration": 4831,
    "start_time": "2022-11-13T13:03:26.770Z"
   },
   {
    "duration": 108,
    "start_time": "2022-11-13T13:04:06.208Z"
   },
   {
    "duration": 13,
    "start_time": "2022-11-13T13:04:11.782Z"
   },
   {
    "duration": 59,
    "start_time": "2022-11-13T13:04:23.608Z"
   },
   {
    "duration": 752,
    "start_time": "2022-11-13T13:04:26.085Z"
   },
   {
    "duration": 11,
    "start_time": "2022-11-13T13:04:37.071Z"
   },
   {
    "duration": 11,
    "start_time": "2022-11-13T13:04:59.558Z"
   },
   {
    "duration": 26,
    "start_time": "2022-11-13T13:08:03.472Z"
   },
   {
    "duration": 8,
    "start_time": "2022-11-13T13:08:12.035Z"
   },
   {
    "duration": 45,
    "start_time": "2022-11-13T13:08:18.972Z"
   },
   {
    "duration": 82,
    "start_time": "2022-11-13T13:08:38.417Z"
   },
   {
    "duration": 38,
    "start_time": "2022-11-13T13:10:29.137Z"
   },
   {
    "duration": 56,
    "start_time": "2022-11-13T13:10:32.210Z"
   },
   {
    "duration": 184,
    "start_time": "2022-11-13T13:10:39.200Z"
   },
   {
    "duration": 4,
    "start_time": "2022-11-13T13:12:03.572Z"
   },
   {
    "duration": 4,
    "start_time": "2022-11-13T13:12:06.786Z"
   },
   {
    "duration": 8,
    "start_time": "2022-11-13T13:16:57.637Z"
   },
   {
    "duration": 3,
    "start_time": "2022-11-13T13:17:00.200Z"
   },
   {
    "duration": 9,
    "start_time": "2022-11-13T13:17:34.650Z"
   },
   {
    "duration": 18,
    "start_time": "2022-11-13T13:17:37.140Z"
   },
   {
    "duration": 6,
    "start_time": "2022-11-13T13:19:00.863Z"
   },
   {
    "duration": 1389,
    "start_time": "2022-11-15T13:18:42.644Z"
   },
   {
    "duration": 3009,
    "start_time": "2022-11-15T13:18:44.035Z"
   },
   {
    "duration": 19,
    "start_time": "2022-11-15T13:18:47.045Z"
   },
   {
    "duration": 168,
    "start_time": "2022-11-15T13:18:47.065Z"
   },
   {
    "duration": 112,
    "start_time": "2022-11-15T13:18:47.235Z"
   },
   {
    "duration": 5,
    "start_time": "2022-11-15T13:18:47.349Z"
   },
   {
    "duration": 48,
    "start_time": "2022-11-15T13:18:47.356Z"
   },
   {
    "duration": 90,
    "start_time": "2022-11-15T13:18:47.406Z"
   },
   {
    "duration": 92,
    "start_time": "2022-11-15T13:18:47.498Z"
   },
   {
    "duration": 18,
    "start_time": "2022-11-15T13:18:47.592Z"
   },
   {
    "duration": 93701,
    "start_time": "2022-11-15T13:18:47.612Z"
   },
   {
    "duration": 81,
    "start_time": "2022-11-15T13:20:21.315Z"
   },
   {
    "duration": 17,
    "start_time": "2022-11-15T13:20:21.397Z"
   },
   {
    "duration": 36,
    "start_time": "2022-11-15T13:20:21.416Z"
   },
   {
    "duration": 38,
    "start_time": "2022-11-15T13:20:21.454Z"
   },
   {
    "duration": 95,
    "start_time": "2022-11-15T13:20:21.494Z"
   },
   {
    "duration": 55,
    "start_time": "2022-11-15T13:20:21.591Z"
   },
   {
    "duration": 30,
    "start_time": "2022-11-15T13:20:21.647Z"
   },
   {
    "duration": 448,
    "start_time": "2022-11-15T13:20:21.678Z"
   },
   {
    "duration": 7,
    "start_time": "2022-11-15T13:20:22.128Z"
   },
   {
    "duration": 109,
    "start_time": "2022-11-15T13:20:22.137Z"
   },
   {
    "duration": 3,
    "start_time": "2022-11-15T13:20:22.248Z"
   },
   {
    "duration": 26,
    "start_time": "2022-11-15T13:20:22.253Z"
   },
   {
    "duration": 403,
    "start_time": "2022-11-15T13:20:22.280Z"
   },
   {
    "duration": 44,
    "start_time": "2022-11-15T13:20:22.685Z"
   },
   {
    "duration": 8,
    "start_time": "2022-11-15T13:20:22.731Z"
   },
   {
    "duration": 42,
    "start_time": "2022-11-15T13:20:22.741Z"
   },
   {
    "duration": 7,
    "start_time": "2022-11-15T13:20:22.785Z"
   },
   {
    "duration": 339,
    "start_time": "2022-11-15T13:20:22.793Z"
   },
   {
    "duration": 16,
    "start_time": "2022-11-15T13:20:23.134Z"
   },
   {
    "duration": 50330,
    "start_time": "2022-11-15T13:20:23.152Z"
   },
   {
    "duration": 4,
    "start_time": "2022-11-15T13:21:13.484Z"
   },
   {
    "duration": 9,
    "start_time": "2022-11-15T13:21:13.489Z"
   },
   {
    "duration": 35,
    "start_time": "2022-11-15T13:21:13.500Z"
   },
   {
    "duration": 3,
    "start_time": "2022-11-15T13:21:13.536Z"
   },
   {
    "duration": 15,
    "start_time": "2022-11-15T13:21:13.541Z"
   },
   {
    "duration": 193,
    "start_time": "2022-11-15T13:21:13.558Z"
   },
   {
    "duration": 3,
    "start_time": "2022-11-15T13:21:13.753Z"
   },
   {
    "duration": 23,
    "start_time": "2022-11-15T13:23:54.874Z"
   },
   {
    "duration": 18,
    "start_time": "2022-11-15T13:24:12.136Z"
   },
   {
    "duration": 17,
    "start_time": "2022-11-15T13:24:18.688Z"
   },
   {
    "duration": 39,
    "start_time": "2022-11-15T13:25:51.655Z"
   },
   {
    "duration": 95,
    "start_time": "2022-11-15T13:25:56.373Z"
   },
   {
    "duration": 671,
    "start_time": "2022-11-15T13:26:26.439Z"
   },
   {
    "duration": 18,
    "start_time": "2022-11-15T13:27:59.898Z"
   },
   {
    "duration": 228,
    "start_time": "2022-11-15T13:28:21.337Z"
   },
   {
    "duration": 91,
    "start_time": "2022-11-15T13:28:24.980Z"
   },
   {
    "duration": 4,
    "start_time": "2022-11-15T13:28:28.340Z"
   },
   {
    "duration": 27,
    "start_time": "2022-11-15T13:28:47.181Z"
   },
   {
    "duration": 4,
    "start_time": "2022-11-15T13:29:16.249Z"
   },
   {
    "duration": 3,
    "start_time": "2022-11-15T13:31:27.863Z"
   },
   {
    "duration": 1167,
    "start_time": "2022-11-15T13:40:20.327Z"
   },
   {
    "duration": 761,
    "start_time": "2022-11-15T13:40:21.496Z"
   },
   {
    "duration": 20,
    "start_time": "2022-11-15T13:40:22.258Z"
   },
   {
    "duration": 146,
    "start_time": "2022-11-15T13:40:22.280Z"
   },
   {
    "duration": 119,
    "start_time": "2022-11-15T13:40:22.429Z"
   },
   {
    "duration": 7,
    "start_time": "2022-11-15T13:40:22.549Z"
   },
   {
    "duration": 31,
    "start_time": "2022-11-15T13:40:22.576Z"
   },
   {
    "duration": 94,
    "start_time": "2022-11-15T13:40:22.609Z"
   },
   {
    "duration": 93,
    "start_time": "2022-11-15T13:40:22.704Z"
   },
   {
    "duration": 19,
    "start_time": "2022-11-15T13:40:22.798Z"
   },
   {
    "duration": 86076,
    "start_time": "2022-11-15T13:40:22.819Z"
   },
   {
    "duration": 85,
    "start_time": "2022-11-15T13:41:48.897Z"
   },
   {
    "duration": 15,
    "start_time": "2022-11-15T13:41:48.984Z"
   },
   {
    "duration": 30,
    "start_time": "2022-11-15T13:41:49.002Z"
   },
   {
    "duration": 25,
    "start_time": "2022-11-15T13:41:49.034Z"
   },
   {
    "duration": 98,
    "start_time": "2022-11-15T13:41:49.060Z"
   },
   {
    "duration": 68,
    "start_time": "2022-11-15T13:41:49.159Z"
   },
   {
    "duration": 15,
    "start_time": "2022-11-15T13:41:49.229Z"
   },
   {
    "duration": 360,
    "start_time": "2022-11-15T13:41:49.245Z"
   },
   {
    "duration": 7,
    "start_time": "2022-11-15T13:41:49.606Z"
   },
   {
    "duration": 106,
    "start_time": "2022-11-15T13:41:49.615Z"
   },
   {
    "duration": 5,
    "start_time": "2022-11-15T13:41:49.722Z"
   },
   {
    "duration": 20,
    "start_time": "2022-11-15T13:41:49.728Z"
   },
   {
    "duration": 344,
    "start_time": "2022-11-15T13:41:49.750Z"
   },
   {
    "duration": 38,
    "start_time": "2022-11-15T13:41:50.096Z"
   },
   {
    "duration": 6,
    "start_time": "2022-11-15T13:41:50.136Z"
   },
   {
    "duration": 37,
    "start_time": "2022-11-15T13:41:50.144Z"
   },
   {
    "duration": 6,
    "start_time": "2022-11-15T13:41:50.183Z"
   },
   {
    "duration": 328,
    "start_time": "2022-11-15T13:41:50.191Z"
   },
   {
    "duration": 14,
    "start_time": "2022-11-15T13:41:50.521Z"
   },
   {
    "duration": 45877,
    "start_time": "2022-11-15T13:41:50.537Z"
   },
   {
    "duration": 4,
    "start_time": "2022-11-15T13:42:36.416Z"
   },
   {
    "duration": 13,
    "start_time": "2022-11-15T13:42:36.421Z"
   },
   {
    "duration": 19,
    "start_time": "2022-11-15T13:42:36.436Z"
   },
   {
    "duration": 131,
    "start_time": "2022-11-15T13:42:36.456Z"
   },
   {
    "duration": 51,
    "start_time": "2022-11-15T13:42:36.589Z"
   },
   {
    "duration": 832,
    "start_time": "2022-11-15T13:42:36.642Z"
   },
   {
    "duration": 0,
    "start_time": "2022-11-15T13:42:37.476Z"
   },
   {
    "duration": 0,
    "start_time": "2022-11-15T13:42:37.477Z"
   },
   {
    "duration": 0,
    "start_time": "2022-11-15T13:42:37.478Z"
   },
   {
    "duration": 280,
    "start_time": "2022-11-15T13:43:45.273Z"
   },
   {
    "duration": 94,
    "start_time": "2022-11-15T13:43:47.129Z"
   },
   {
    "duration": 156,
    "start_time": "2022-11-15T13:43:47.692Z"
   },
   {
    "duration": 3,
    "start_time": "2022-11-15T13:43:48.118Z"
   },
   {
    "duration": 50,
    "start_time": "2022-11-15T13:43:55.366Z"
   },
   {
    "duration": 85,
    "start_time": "2022-11-15T13:44:14.705Z"
   },
   {
    "duration": 56,
    "start_time": "2022-11-15T13:44:19.467Z"
   },
   {
    "duration": 58,
    "start_time": "2022-11-15T13:44:59.480Z"
   },
   {
    "duration": 57,
    "start_time": "2022-11-15T13:45:04.443Z"
   },
   {
    "duration": 1479,
    "start_time": "2022-11-15T13:52:29.751Z"
   },
   {
    "duration": 1872,
    "start_time": "2022-11-15T13:53:42.781Z"
   },
   {
    "duration": 19,
    "start_time": "2022-11-15T13:54:53.920Z"
   },
   {
    "duration": 1766,
    "start_time": "2022-11-15T13:54:56.245Z"
   },
   {
    "duration": 107,
    "start_time": "2022-11-15T13:55:09.706Z"
   },
   {
    "duration": 32376,
    "start_time": "2022-11-15T13:55:14.219Z"
   },
   {
    "duration": 31832,
    "start_time": "2022-11-15T13:56:57.447Z"
   },
   {
    "duration": 1471,
    "start_time": "2022-11-15T13:59:24.058Z"
   },
   {
    "duration": 884,
    "start_time": "2022-11-15T13:59:25.532Z"
   },
   {
    "duration": 18,
    "start_time": "2022-11-15T13:59:26.418Z"
   },
   {
    "duration": 159,
    "start_time": "2022-11-15T13:59:26.439Z"
   },
   {
    "duration": 129,
    "start_time": "2022-11-15T13:59:26.600Z"
   },
   {
    "duration": 7,
    "start_time": "2022-11-15T13:59:26.731Z"
   },
   {
    "duration": 50,
    "start_time": "2022-11-15T13:59:26.739Z"
   },
   {
    "duration": 107,
    "start_time": "2022-11-15T13:59:26.790Z"
   },
   {
    "duration": 88,
    "start_time": "2022-11-15T13:59:26.898Z"
   },
   {
    "duration": 19,
    "start_time": "2022-11-15T13:59:26.989Z"
   },
   {
    "duration": 92930,
    "start_time": "2022-11-15T13:59:27.010Z"
   },
   {
    "duration": 89,
    "start_time": "2022-11-15T14:00:59.942Z"
   },
   {
    "duration": 25,
    "start_time": "2022-11-15T14:01:00.033Z"
   },
   {
    "duration": 52,
    "start_time": "2022-11-15T14:01:00.060Z"
   },
   {
    "duration": 33,
    "start_time": "2022-11-15T14:01:00.114Z"
   },
   {
    "duration": 102,
    "start_time": "2022-11-15T14:01:00.149Z"
   },
   {
    "duration": 79,
    "start_time": "2022-11-15T14:01:00.254Z"
   },
   {
    "duration": 18,
    "start_time": "2022-11-15T14:01:00.334Z"
   },
   {
    "duration": 416,
    "start_time": "2022-11-15T14:01:00.355Z"
   },
   {
    "duration": 8,
    "start_time": "2022-11-15T14:01:00.776Z"
   },
   {
    "duration": 112,
    "start_time": "2022-11-15T14:01:00.786Z"
   },
   {
    "duration": 4,
    "start_time": "2022-11-15T14:01:00.900Z"
   },
   {
    "duration": 29,
    "start_time": "2022-11-15T14:01:00.906Z"
   },
   {
    "duration": 466,
    "start_time": "2022-11-15T14:01:00.936Z"
   },
   {
    "duration": 37,
    "start_time": "2022-11-15T14:01:01.403Z"
   },
   {
    "duration": 17,
    "start_time": "2022-11-15T14:01:01.443Z"
   },
   {
    "duration": 70,
    "start_time": "2022-11-15T14:01:01.462Z"
   },
   {
    "duration": 17,
    "start_time": "2022-11-15T14:01:01.536Z"
   },
   {
    "duration": 260,
    "start_time": "2022-11-15T14:01:01.556Z"
   },
   {
    "duration": 15,
    "start_time": "2022-11-15T14:01:01.818Z"
   },
   {
    "duration": 46,
    "start_time": "2022-11-15T14:01:01.835Z"
   },
   {
    "duration": 0,
    "start_time": "2022-11-15T14:01:01.883Z"
   },
   {
    "duration": 0,
    "start_time": "2022-11-15T14:01:01.884Z"
   },
   {
    "duration": 0,
    "start_time": "2022-11-15T14:01:01.885Z"
   },
   {
    "duration": 0,
    "start_time": "2022-11-15T14:01:01.887Z"
   },
   {
    "duration": 0,
    "start_time": "2022-11-15T14:01:01.888Z"
   },
   {
    "duration": 0,
    "start_time": "2022-11-15T14:01:01.889Z"
   },
   {
    "duration": 0,
    "start_time": "2022-11-15T14:01:01.890Z"
   },
   {
    "duration": 0,
    "start_time": "2022-11-15T14:01:01.892Z"
   },
   {
    "duration": 0,
    "start_time": "2022-11-15T14:01:01.893Z"
   },
   {
    "duration": 0,
    "start_time": "2022-11-15T14:01:01.894Z"
   },
   {
    "duration": 104,
    "start_time": "2022-11-15T14:01:20.899Z"
   },
   {
    "duration": 45,
    "start_time": "2022-11-15T14:01:33.808Z"
   },
   {
    "duration": 4,
    "start_time": "2022-11-15T14:01:36.328Z"
   },
   {
    "duration": 4,
    "start_time": "2022-11-15T14:01:36.794Z"
   },
   {
    "duration": 18,
    "start_time": "2022-11-15T14:01:38.232Z"
   },
   {
    "duration": 50,
    "start_time": "2022-11-15T14:01:38.382Z"
   },
   {
    "duration": 52,
    "start_time": "2022-11-15T14:01:44.145Z"
   },
   {
    "duration": 118,
    "start_time": "2022-11-15T14:01:50.921Z"
   },
   {
    "duration": 18,
    "start_time": "2022-11-15T14:01:53.582Z"
   },
   {
    "duration": 113,
    "start_time": "2022-11-15T14:01:53.758Z"
   },
   {
    "duration": 32,
    "start_time": "2022-11-15T14:01:53.919Z"
   },
   {
    "duration": 225,
    "start_time": "2022-11-15T14:01:54.276Z"
   },
   {
    "duration": 78,
    "start_time": "2022-11-15T14:01:54.682Z"
   },
   {
    "duration": 116,
    "start_time": "2022-11-15T14:01:56.160Z"
   },
   {
    "duration": 31453,
    "start_time": "2022-11-15T14:01:57.682Z"
   },
   {
    "duration": 4,
    "start_time": "2022-11-15T14:12:36.473Z"
   },
   {
    "duration": 156,
    "start_time": "2022-11-15T14:12:42.012Z"
   },
   {
    "duration": 1466963,
    "start_time": "2022-11-15T14:13:12.737Z"
   },
   {
    "duration": 8,
    "start_time": "2022-11-15T14:39:01.996Z"
   },
   {
    "duration": 3,
    "start_time": "2022-11-15T14:39:40.368Z"
   },
   {
    "duration": 4,
    "start_time": "2022-11-15T14:39:56.005Z"
   },
   {
    "duration": 30741,
    "start_time": "2022-11-15T14:41:17.856Z"
   },
   {
    "duration": 57,
    "start_time": "2022-11-15T14:46:42.996Z"
   },
   {
    "duration": 653,
    "start_time": "2022-11-15T14:47:14.860Z"
   },
   {
    "duration": 7,
    "start_time": "2022-11-15T14:47:53.917Z"
   },
   {
    "duration": 11,
    "start_time": "2022-11-15T14:48:44.759Z"
   },
   {
    "duration": 566,
    "start_time": "2022-11-15T14:48:51.047Z"
   },
   {
    "duration": 86,
    "start_time": "2022-11-15T14:48:57.084Z"
   },
   {
    "duration": 1013600,
    "start_time": "2022-11-15T14:49:00.558Z"
   },
   {
    "duration": 516,
    "start_time": "2022-11-15T15:06:59.877Z"
   },
   {
    "duration": 466,
    "start_time": "2022-11-15T15:07:14.840Z"
   },
   {
    "duration": 4305105,
    "start_time": "2022-11-15T15:07:33.189Z"
   },
   {
    "duration": 4,
    "start_time": "2022-11-15T16:21:01.430Z"
   },
   {
    "duration": 5602,
    "start_time": "2022-11-15T16:22:48.174Z"
   },
   {
    "duration": 8149,
    "start_time": "2022-11-15T16:23:00.046Z"
   },
   {
    "duration": 22148,
    "start_time": "2022-11-15T16:23:08.731Z"
   },
   {
    "duration": 60,
    "start_time": "2022-11-16T13:45:35.864Z"
   },
   {
    "duration": 1412,
    "start_time": "2022-11-16T13:46:02.840Z"
   },
   {
    "duration": 1315,
    "start_time": "2022-11-16T13:46:08.957Z"
   },
   {
    "duration": 982,
    "start_time": "2022-11-16T13:46:10.276Z"
   },
   {
    "duration": 16,
    "start_time": "2022-11-16T13:46:11.259Z"
   },
   {
    "duration": 104,
    "start_time": "2022-11-16T13:46:11.277Z"
   },
   {
    "duration": 114,
    "start_time": "2022-11-16T13:46:11.382Z"
   },
   {
    "duration": 5,
    "start_time": "2022-11-16T13:46:11.499Z"
   },
   {
    "duration": 44,
    "start_time": "2022-11-16T13:46:11.505Z"
   },
   {
    "duration": 86,
    "start_time": "2022-11-16T13:46:11.551Z"
   },
   {
    "duration": 72,
    "start_time": "2022-11-16T13:46:11.639Z"
   },
   {
    "duration": 28,
    "start_time": "2022-11-16T13:46:11.712Z"
   },
   {
    "duration": 72667,
    "start_time": "2022-11-16T13:46:11.742Z"
   },
   {
    "duration": 64,
    "start_time": "2022-11-16T13:47:24.410Z"
   },
   {
    "duration": 14,
    "start_time": "2022-11-16T13:47:24.477Z"
   },
   {
    "duration": 44,
    "start_time": "2022-11-16T13:47:24.492Z"
   },
   {
    "duration": 24,
    "start_time": "2022-11-16T13:47:24.538Z"
   },
   {
    "duration": 67,
    "start_time": "2022-11-16T13:47:24.563Z"
   },
   {
    "duration": 58,
    "start_time": "2022-11-16T13:47:24.632Z"
   },
   {
    "duration": 16,
    "start_time": "2022-11-16T13:47:24.692Z"
   },
   {
    "duration": 393,
    "start_time": "2022-11-16T13:47:24.709Z"
   },
   {
    "duration": 8,
    "start_time": "2022-11-16T13:47:25.103Z"
   },
   {
    "duration": 104,
    "start_time": "2022-11-16T13:47:25.112Z"
   },
   {
    "duration": 10,
    "start_time": "2022-11-16T13:47:25.218Z"
   },
   {
    "duration": 22,
    "start_time": "2022-11-16T13:47:25.230Z"
   },
   {
    "duration": 489,
    "start_time": "2022-11-16T13:47:25.254Z"
   },
   {
    "duration": 40,
    "start_time": "2022-11-16T13:47:25.745Z"
   },
   {
    "duration": 7,
    "start_time": "2022-11-16T13:47:25.787Z"
   },
   {
    "duration": 44,
    "start_time": "2022-11-16T13:47:25.795Z"
   },
   {
    "duration": 7,
    "start_time": "2022-11-16T13:47:25.840Z"
   },
   {
    "duration": 278,
    "start_time": "2022-11-16T13:47:25.848Z"
   },
   {
    "duration": 16,
    "start_time": "2022-11-16T13:47:26.127Z"
   },
   {
    "duration": 39006,
    "start_time": "2022-11-16T13:47:26.145Z"
   },
   {
    "duration": 19,
    "start_time": "2022-11-16T13:48:05.153Z"
   },
   {
    "duration": 4,
    "start_time": "2022-11-16T13:48:05.173Z"
   },
   {
    "duration": 12,
    "start_time": "2022-11-16T13:48:05.179Z"
   },
   {
    "duration": 51,
    "start_time": "2022-11-16T13:48:05.193Z"
   },
   {
    "duration": 119,
    "start_time": "2022-11-16T13:48:05.247Z"
   },
   {
    "duration": 37,
    "start_time": "2022-11-16T13:48:05.367Z"
   },
   {
    "duration": 264,
    "start_time": "2022-11-16T13:48:05.406Z"
   },
   {
    "duration": 89,
    "start_time": "2022-11-16T13:48:05.672Z"
   },
   {
    "duration": 106,
    "start_time": "2022-11-16T13:48:05.765Z"
   },
   {
    "duration": 2,
    "start_time": "2022-11-16T13:48:05.873Z"
   },
   {
    "duration": 267066,
    "start_time": "2022-11-16T13:48:05.877Z"
   },
   {
    "duration": 27729,
    "start_time": "2022-11-16T13:52:32.945Z"
   },
   {
    "duration": 135,
    "start_time": "2022-11-16T13:53:00.675Z"
   },
   {
    "duration": 41,
    "start_time": "2022-11-16T14:10:25.448Z"
   },
   {
    "duration": 4,
    "start_time": "2022-11-16T14:11:46.545Z"
   },
   {
    "duration": 1114800,
    "start_time": "2022-11-16T14:12:02.289Z"
   },
   {
    "duration": 1135613,
    "start_time": "2022-11-16T14:56:51.633Z"
   },
   {
    "duration": 8,
    "start_time": "2022-11-16T15:17:43.175Z"
   },
   {
    "duration": 89138,
    "start_time": "2022-11-16T15:17:57.689Z"
   },
   {
    "duration": 1128778,
    "start_time": "2022-11-16T15:19:33.373Z"
   },
   {
    "duration": 1073539,
    "start_time": "2022-11-16T15:42:56.528Z"
   },
   {
    "duration": 1055013,
    "start_time": "2022-11-16T16:33:28.174Z"
   },
   {
    "duration": 74,
    "start_time": "2022-11-17T12:47:56.682Z"
   },
   {
    "duration": 8,
    "start_time": "2022-11-17T12:47:57.583Z"
   },
   {
    "duration": 1682,
    "start_time": "2022-11-17T12:47:59.945Z"
   },
   {
    "duration": 3253,
    "start_time": "2022-11-17T12:48:01.630Z"
   },
   {
    "duration": 21,
    "start_time": "2022-11-17T12:48:04.886Z"
   },
   {
    "duration": 168,
    "start_time": "2022-11-17T12:48:04.909Z"
   },
   {
    "duration": 24,
    "start_time": "2022-11-17T12:48:51.621Z"
   },
   {
    "duration": 894,
    "start_time": "2022-11-17T12:55:18.585Z"
   },
   {
    "duration": 1442,
    "start_time": "2022-11-17T12:55:32.245Z"
   },
   {
    "duration": 869,
    "start_time": "2022-11-17T12:55:33.689Z"
   },
   {
    "duration": 22,
    "start_time": "2022-11-17T12:55:34.560Z"
   },
   {
    "duration": 147,
    "start_time": "2022-11-17T12:55:34.584Z"
   },
   {
    "duration": 119,
    "start_time": "2022-11-17T12:55:34.734Z"
   },
   {
    "duration": 6,
    "start_time": "2022-11-17T12:55:34.855Z"
   },
   {
    "duration": 35,
    "start_time": "2022-11-17T12:55:34.862Z"
   },
   {
    "duration": 95,
    "start_time": "2022-11-17T12:55:34.898Z"
   },
   {
    "duration": 131,
    "start_time": "2022-11-17T12:55:34.996Z"
   },
   {
    "duration": 27,
    "start_time": "2022-11-17T12:55:35.130Z"
   },
   {
    "duration": 96733,
    "start_time": "2022-11-17T12:55:35.159Z"
   },
   {
    "duration": 104,
    "start_time": "2022-11-17T12:57:11.894Z"
   },
   {
    "duration": 31,
    "start_time": "2022-11-17T12:57:12.000Z"
   },
   {
    "duration": 48,
    "start_time": "2022-11-17T12:57:12.034Z"
   },
   {
    "duration": 48,
    "start_time": "2022-11-17T12:57:12.084Z"
   },
   {
    "duration": 105,
    "start_time": "2022-11-17T12:57:12.134Z"
   },
   {
    "duration": 64,
    "start_time": "2022-11-17T12:57:12.241Z"
   },
   {
    "duration": 22,
    "start_time": "2022-11-17T12:57:12.307Z"
   },
   {
    "duration": 467,
    "start_time": "2022-11-17T12:57:12.331Z"
   },
   {
    "duration": 16,
    "start_time": "2022-11-17T12:57:12.800Z"
   },
   {
    "duration": 107,
    "start_time": "2022-11-17T12:57:12.819Z"
   },
   {
    "duration": 5,
    "start_time": "2022-11-17T12:57:12.928Z"
   },
   {
    "duration": 25,
    "start_time": "2022-11-17T12:57:12.935Z"
   },
   {
    "duration": 479,
    "start_time": "2022-11-17T12:57:12.962Z"
   },
   {
    "duration": 44,
    "start_time": "2022-11-17T12:57:13.443Z"
   },
   {
    "duration": 63,
    "start_time": "2022-11-17T12:57:13.489Z"
   },
   {
    "duration": 8,
    "start_time": "2022-11-17T12:57:13.554Z"
   },
   {
    "duration": 30,
    "start_time": "2022-11-17T12:57:13.564Z"
   },
   {
    "duration": 19,
    "start_time": "2022-11-17T12:57:13.596Z"
   },
   {
    "duration": 326,
    "start_time": "2022-11-17T12:57:13.617Z"
   },
   {
    "duration": 18,
    "start_time": "2022-11-17T12:57:13.944Z"
   },
   {
    "duration": 13,
    "start_time": "2022-11-17T12:57:13.964Z"
   },
   {
    "duration": 9,
    "start_time": "2022-11-17T13:02:49.385Z"
   },
   {
    "duration": 37268,
    "start_time": "2022-11-17T13:03:01.187Z"
   },
   {
    "duration": 18,
    "start_time": "2022-11-17T13:03:38.457Z"
   },
   {
    "duration": 4,
    "start_time": "2022-11-17T13:03:38.476Z"
   },
   {
    "duration": 17,
    "start_time": "2022-11-17T13:03:38.482Z"
   },
   {
    "duration": 115,
    "start_time": "2022-11-17T13:04:24.599Z"
   },
   {
    "duration": 17,
    "start_time": "2022-11-17T13:04:28.996Z"
   },
   {
    "duration": 92,
    "start_time": "2022-11-17T13:04:29.248Z"
   },
   {
    "duration": 40,
    "start_time": "2022-11-17T13:04:29.423Z"
   },
   {
    "duration": 225,
    "start_time": "2022-11-17T13:04:29.748Z"
   },
   {
    "duration": 94,
    "start_time": "2022-11-17T13:04:29.975Z"
   },
   {
    "duration": 91,
    "start_time": "2022-11-17T13:04:30.111Z"
   },
   {
    "duration": 342521,
    "start_time": "2022-11-17T13:04:37.310Z"
   },
   {
    "duration": 46645,
    "start_time": "2022-11-17T13:11:32.376Z"
   },
   {
    "duration": 50,
    "start_time": "2022-11-17T13:14:37.589Z"
   },
   {
    "duration": 5,
    "start_time": "2022-11-17T13:14:51.290Z"
   },
   {
    "duration": 506,
    "start_time": "2022-11-17T13:15:02.990Z"
   },
   {
    "duration": 587,
    "start_time": "2022-11-17T13:15:17.662Z"
   },
   {
    "duration": 415,
    "start_time": "2022-11-17T13:15:24.240Z"
   },
   {
    "duration": 1454,
    "start_time": "2022-11-18T14:34:26.947Z"
   },
   {
    "duration": 990,
    "start_time": "2022-11-18T14:34:28.404Z"
   },
   {
    "duration": 15,
    "start_time": "2022-11-18T14:34:29.395Z"
   },
   {
    "duration": 127,
    "start_time": "2022-11-18T14:34:29.412Z"
   },
   {
    "duration": 101,
    "start_time": "2022-11-18T14:34:29.540Z"
   },
   {
    "duration": 5,
    "start_time": "2022-11-18T14:34:29.642Z"
   },
   {
    "duration": 36,
    "start_time": "2022-11-18T14:34:29.649Z"
   },
   {
    "duration": 89,
    "start_time": "2022-11-18T14:34:29.686Z"
   },
   {
    "duration": 74,
    "start_time": "2022-11-18T14:34:29.776Z"
   },
   {
    "duration": 19,
    "start_time": "2022-11-18T14:34:29.852Z"
   },
   {
    "duration": 84259,
    "start_time": "2022-11-18T14:34:29.872Z"
   },
   {
    "duration": 87,
    "start_time": "2022-11-18T14:35:54.132Z"
   },
   {
    "duration": 16,
    "start_time": "2022-11-18T14:35:54.220Z"
   },
   {
    "duration": 34,
    "start_time": "2022-11-18T14:35:54.237Z"
   },
   {
    "duration": 36,
    "start_time": "2022-11-18T14:35:54.272Z"
   },
   {
    "duration": 76,
    "start_time": "2022-11-18T14:35:54.309Z"
   },
   {
    "duration": 71,
    "start_time": "2022-11-18T14:35:54.387Z"
   },
   {
    "duration": 17,
    "start_time": "2022-11-18T14:35:54.460Z"
   },
   {
    "duration": 512,
    "start_time": "2022-11-18T14:35:54.478Z"
   },
   {
    "duration": 11,
    "start_time": "2022-11-18T14:35:54.992Z"
   },
   {
    "duration": 55,
    "start_time": "2022-11-18T14:35:55.004Z"
   },
   {
    "duration": 3,
    "start_time": "2022-11-18T14:35:55.061Z"
   },
   {
    "duration": 37,
    "start_time": "2022-11-18T14:35:55.066Z"
   },
   {
    "duration": 422,
    "start_time": "2022-11-18T14:35:55.105Z"
   },
   {
    "duration": 39,
    "start_time": "2022-11-18T14:35:55.529Z"
   },
   {
    "duration": 66,
    "start_time": "2022-11-18T14:35:55.570Z"
   },
   {
    "duration": 7,
    "start_time": "2022-11-18T14:35:55.639Z"
   },
   {
    "duration": 17,
    "start_time": "2022-11-18T14:35:55.650Z"
   },
   {
    "duration": 9,
    "start_time": "2022-11-18T14:35:55.668Z"
   },
   {
    "duration": 274,
    "start_time": "2022-11-18T14:35:55.697Z"
   },
   {
    "duration": 26,
    "start_time": "2022-11-18T14:35:55.973Z"
   },
   {
    "duration": 7,
    "start_time": "2022-11-18T14:35:56.001Z"
   },
   {
    "duration": 31816,
    "start_time": "2022-11-18T14:35:56.009Z"
   },
   {
    "duration": 16,
    "start_time": "2022-11-18T14:36:27.827Z"
   },
   {
    "duration": 4,
    "start_time": "2022-11-18T14:36:27.845Z"
   },
   {
    "duration": 5,
    "start_time": "2022-11-18T14:36:27.850Z"
   },
   {
    "duration": 41,
    "start_time": "2022-11-18T14:36:27.857Z"
   },
   {
    "duration": 81,
    "start_time": "2022-11-18T14:36:27.899Z"
   },
   {
    "duration": 37,
    "start_time": "2022-11-18T14:36:27.981Z"
   },
   {
    "duration": 213,
    "start_time": "2022-11-18T14:36:28.020Z"
   },
   {
    "duration": 73,
    "start_time": "2022-11-18T14:36:28.234Z"
   },
   {
    "duration": 89,
    "start_time": "2022-11-18T14:36:28.309Z"
   },
   {
    "duration": 2,
    "start_time": "2022-11-18T14:36:28.400Z"
   },
   {
    "duration": 4597,
    "start_time": "2022-11-18T14:36:28.403Z"
   },
   {
    "duration": 25772,
    "start_time": "2022-11-18T14:36:33.002Z"
   },
   {
    "duration": 1498,
    "start_time": "2022-11-20T08:02:51.019Z"
   },
   {
    "duration": 2871,
    "start_time": "2022-11-20T08:02:52.521Z"
   },
   {
    "duration": 17,
    "start_time": "2022-11-20T08:02:55.394Z"
   },
   {
    "duration": 103,
    "start_time": "2022-11-20T08:02:55.413Z"
   },
   {
    "duration": 104,
    "start_time": "2022-11-20T08:02:55.518Z"
   },
   {
    "duration": 6,
    "start_time": "2022-11-20T08:02:55.624Z"
   },
   {
    "duration": 38,
    "start_time": "2022-11-20T08:02:55.632Z"
   },
   {
    "duration": 80,
    "start_time": "2022-11-20T08:02:55.672Z"
   },
   {
    "duration": 65,
    "start_time": "2022-11-20T08:02:55.754Z"
   },
   {
    "duration": 32,
    "start_time": "2022-11-20T08:02:55.822Z"
   },
   {
    "duration": 75107,
    "start_time": "2022-11-20T08:02:55.855Z"
   },
   {
    "duration": 65,
    "start_time": "2022-11-20T08:04:10.964Z"
   },
   {
    "duration": 24,
    "start_time": "2022-11-20T08:04:11.031Z"
   },
   {
    "duration": 29,
    "start_time": "2022-11-20T08:04:11.056Z"
   },
   {
    "duration": 19,
    "start_time": "2022-11-20T08:04:11.086Z"
   },
   {
    "duration": 76,
    "start_time": "2022-11-20T08:04:11.107Z"
   },
   {
    "duration": 66,
    "start_time": "2022-11-20T08:04:11.184Z"
   },
   {
    "duration": 16,
    "start_time": "2022-11-20T08:04:11.252Z"
   },
   {
    "duration": 460,
    "start_time": "2022-11-20T08:04:11.270Z"
   },
   {
    "duration": 8,
    "start_time": "2022-11-20T08:04:11.732Z"
   },
   {
    "duration": 53,
    "start_time": "2022-11-20T08:04:11.752Z"
   },
   {
    "duration": 3,
    "start_time": "2022-11-20T08:04:11.807Z"
   },
   {
    "duration": 17,
    "start_time": "2022-11-20T08:04:11.812Z"
   },
   {
    "duration": 421,
    "start_time": "2022-11-20T08:04:11.831Z"
   },
   {
    "duration": 39,
    "start_time": "2022-11-20T08:04:12.254Z"
   },
   {
    "duration": 61,
    "start_time": "2022-11-20T08:04:12.294Z"
   },
   {
    "duration": 6,
    "start_time": "2022-11-20T08:04:12.357Z"
   },
   {
    "duration": 19,
    "start_time": "2022-11-20T08:04:12.367Z"
   },
   {
    "duration": 8,
    "start_time": "2022-11-20T08:04:12.388Z"
   },
   {
    "duration": 327,
    "start_time": "2022-11-20T08:04:12.397Z"
   },
   {
    "duration": 15,
    "start_time": "2022-11-20T08:04:12.726Z"
   },
   {
    "duration": 14,
    "start_time": "2022-11-20T08:04:12.743Z"
   },
   {
    "duration": 29513,
    "start_time": "2022-11-20T08:04:12.759Z"
   },
   {
    "duration": 19,
    "start_time": "2022-11-20T08:04:42.273Z"
   },
   {
    "duration": 3,
    "start_time": "2022-11-20T08:04:42.293Z"
   },
   {
    "duration": 7,
    "start_time": "2022-11-20T08:04:42.297Z"
   },
   {
    "duration": 16,
    "start_time": "2022-11-20T08:04:42.306Z"
   },
   {
    "duration": 123,
    "start_time": "2022-11-20T08:04:42.323Z"
   },
   {
    "duration": 36,
    "start_time": "2022-11-20T08:04:42.448Z"
   },
   {
    "duration": 265,
    "start_time": "2022-11-20T08:04:42.487Z"
   },
   {
    "duration": 68,
    "start_time": "2022-11-20T08:04:42.753Z"
   },
   {
    "duration": 90,
    "start_time": "2022-11-20T08:04:42.822Z"
   },
   {
    "duration": 3,
    "start_time": "2022-11-20T08:04:42.913Z"
   },
   {
    "duration": 4638,
    "start_time": "2022-11-20T08:04:42.917Z"
   },
   {
    "duration": 25171,
    "start_time": "2022-11-20T08:04:47.557Z"
   },
   {
    "duration": 100,
    "start_time": "2022-11-20T08:05:12.729Z"
   },
   {
    "duration": 0,
    "start_time": "2022-11-20T08:05:12.830Z"
   },
   {
    "duration": 0,
    "start_time": "2022-11-20T08:05:12.831Z"
   },
   {
    "duration": 272,
    "start_time": "2022-11-20T09:32:00.996Z"
   },
   {
    "duration": 45188,
    "start_time": "2022-11-20T09:32:02.525Z"
   },
   {
    "duration": 44538,
    "start_time": "2022-11-20T09:36:41.336Z"
   },
   {
    "duration": 379,
    "start_time": "2022-11-20T09:58:02.280Z"
   },
   {
    "duration": 1311,
    "start_time": "2022-11-20T10:10:06.882Z"
   },
   {
    "duration": 717,
    "start_time": "2022-11-20T10:10:08.195Z"
   },
   {
    "duration": 16,
    "start_time": "2022-11-20T10:10:08.914Z"
   },
   {
    "duration": 127,
    "start_time": "2022-11-20T10:10:08.931Z"
   },
   {
    "duration": 105,
    "start_time": "2022-11-20T10:10:09.061Z"
   },
   {
    "duration": 6,
    "start_time": "2022-11-20T10:10:09.167Z"
   },
   {
    "duration": 26,
    "start_time": "2022-11-20T10:10:09.174Z"
   },
   {
    "duration": 86,
    "start_time": "2022-11-20T10:10:09.202Z"
   },
   {
    "duration": 70,
    "start_time": "2022-11-20T10:10:09.289Z"
   },
   {
    "duration": 17,
    "start_time": "2022-11-20T10:10:09.360Z"
   },
   {
    "duration": 76330,
    "start_time": "2022-11-20T10:10:09.378Z"
   },
   {
    "duration": 64,
    "start_time": "2022-11-20T10:11:25.709Z"
   },
   {
    "duration": 14,
    "start_time": "2022-11-20T10:11:25.774Z"
   },
   {
    "duration": 29,
    "start_time": "2022-11-20T10:11:25.791Z"
   },
   {
    "duration": 37,
    "start_time": "2022-11-20T10:11:25.821Z"
   },
   {
    "duration": 61,
    "start_time": "2022-11-20T10:11:25.860Z"
   },
   {
    "duration": 70,
    "start_time": "2022-11-20T10:11:25.923Z"
   },
   {
    "duration": 17,
    "start_time": "2022-11-20T10:11:25.995Z"
   },
   {
    "duration": 378,
    "start_time": "2022-11-20T10:11:26.013Z"
   },
   {
    "duration": 8,
    "start_time": "2022-11-20T10:11:26.392Z"
   },
   {
    "duration": 62,
    "start_time": "2022-11-20T10:11:26.402Z"
   },
   {
    "duration": 15,
    "start_time": "2022-11-20T10:11:26.465Z"
   },
   {
    "duration": 426,
    "start_time": "2022-11-20T10:11:26.482Z"
   },
   {
    "duration": 47,
    "start_time": "2022-11-20T10:11:26.909Z"
   },
   {
    "duration": 51,
    "start_time": "2022-11-20T10:11:26.959Z"
   },
   {
    "duration": 6,
    "start_time": "2022-11-20T10:11:27.012Z"
   },
   {
    "duration": 34,
    "start_time": "2022-11-20T10:11:27.019Z"
   },
   {
    "duration": 313,
    "start_time": "2022-11-20T10:11:27.055Z"
   },
   {
    "duration": 261,
    "start_time": "2022-11-20T10:11:27.370Z"
   },
   {
    "duration": 22,
    "start_time": "2022-11-20T10:11:27.632Z"
   },
   {
    "duration": 30766,
    "start_time": "2022-11-20T10:11:27.655Z"
   },
   {
    "duration": 17,
    "start_time": "2022-11-20T10:11:58.422Z"
   },
   {
    "duration": 12,
    "start_time": "2022-11-20T10:11:58.440Z"
   },
   {
    "duration": 3,
    "start_time": "2022-11-20T10:11:58.454Z"
   },
   {
    "duration": 18,
    "start_time": "2022-11-20T10:11:58.459Z"
   },
   {
    "duration": 93,
    "start_time": "2022-11-20T10:11:58.479Z"
   },
   {
    "duration": 28,
    "start_time": "2022-11-20T10:11:58.574Z"
   },
   {
    "duration": 206,
    "start_time": "2022-11-20T10:11:58.604Z"
   },
   {
    "duration": 73,
    "start_time": "2022-11-20T10:11:58.812Z"
   },
   {
    "duration": 93,
    "start_time": "2022-11-20T10:11:58.887Z"
   },
   {
    "duration": 3,
    "start_time": "2022-11-20T10:11:58.983Z"
   },
   {
    "duration": 4767,
    "start_time": "2022-11-20T10:11:58.987Z"
   },
   {
    "duration": 23893,
    "start_time": "2022-11-20T10:12:03.756Z"
   },
   {
    "duration": 316,
    "start_time": "2022-11-20T10:12:27.650Z"
   },
   {
    "duration": 42217,
    "start_time": "2022-11-20T10:12:27.968Z"
   },
   {
    "duration": 1373,
    "start_time": "2022-11-20T10:23:40.217Z"
   },
   {
    "duration": 755,
    "start_time": "2022-11-20T10:23:41.592Z"
   },
   {
    "duration": 16,
    "start_time": "2022-11-20T10:23:42.349Z"
   },
   {
    "duration": 149,
    "start_time": "2022-11-20T10:23:42.367Z"
   },
   {
    "duration": 138,
    "start_time": "2022-11-20T10:23:42.518Z"
   },
   {
    "duration": 6,
    "start_time": "2022-11-20T10:23:42.657Z"
   },
   {
    "duration": 28,
    "start_time": "2022-11-20T10:23:42.665Z"
   },
   {
    "duration": 87,
    "start_time": "2022-11-20T10:23:42.694Z"
   },
   {
    "duration": 71,
    "start_time": "2022-11-20T10:23:42.783Z"
   },
   {
    "duration": 16,
    "start_time": "2022-11-20T10:23:42.857Z"
   },
   {
    "duration": 74623,
    "start_time": "2022-11-20T10:23:42.875Z"
   },
   {
    "duration": 67,
    "start_time": "2022-11-20T10:24:57.499Z"
   },
   {
    "duration": 18,
    "start_time": "2022-11-20T10:24:57.568Z"
   },
   {
    "duration": 37,
    "start_time": "2022-11-20T10:24:57.588Z"
   },
   {
    "duration": 28,
    "start_time": "2022-11-20T10:24:57.627Z"
   },
   {
    "duration": 68,
    "start_time": "2022-11-20T10:24:57.657Z"
   },
   {
    "duration": 62,
    "start_time": "2022-11-20T10:24:57.727Z"
   },
   {
    "duration": 18,
    "start_time": "2022-11-20T10:24:57.791Z"
   },
   {
    "duration": 370,
    "start_time": "2022-11-20T10:24:57.810Z"
   },
   {
    "duration": 8,
    "start_time": "2022-11-20T10:24:58.181Z"
   },
   {
    "duration": 64,
    "start_time": "2022-11-20T10:24:58.191Z"
   },
   {
    "duration": 17,
    "start_time": "2022-11-20T10:24:58.256Z"
   },
   {
    "duration": 430,
    "start_time": "2022-11-20T10:24:58.274Z"
   },
   {
    "duration": 47,
    "start_time": "2022-11-20T10:24:58.705Z"
   },
   {
    "duration": 44,
    "start_time": "2022-11-20T10:24:58.754Z"
   },
   {
    "duration": 6,
    "start_time": "2022-11-20T10:24:58.799Z"
   },
   {
    "duration": 23,
    "start_time": "2022-11-20T10:24:58.806Z"
   },
   {
    "duration": 326,
    "start_time": "2022-11-20T10:24:58.832Z"
   },
   {
    "duration": 273,
    "start_time": "2022-11-20T10:24:59.159Z"
   },
   {
    "duration": 22,
    "start_time": "2022-11-20T10:24:59.433Z"
   },
   {
    "duration": 30394,
    "start_time": "2022-11-20T10:24:59.456Z"
   },
   {
    "duration": 16,
    "start_time": "2022-11-20T10:25:29.852Z"
   },
   {
    "duration": 4,
    "start_time": "2022-11-20T10:25:29.870Z"
   },
   {
    "duration": 7,
    "start_time": "2022-11-20T10:25:29.875Z"
   },
   {
    "duration": 17,
    "start_time": "2022-11-20T10:25:29.883Z"
   },
   {
    "duration": 98,
    "start_time": "2022-11-20T10:25:29.902Z"
   },
   {
    "duration": 36,
    "start_time": "2022-11-20T10:25:30.002Z"
   },
   {
    "duration": 218,
    "start_time": "2022-11-20T10:25:30.039Z"
   },
   {
    "duration": 69,
    "start_time": "2022-11-20T10:25:30.259Z"
   },
   {
    "duration": 99,
    "start_time": "2022-11-20T10:25:30.330Z"
   },
   {
    "duration": 2,
    "start_time": "2022-11-20T10:25:30.431Z"
   },
   {
    "duration": 4528,
    "start_time": "2022-11-20T10:25:30.435Z"
   },
   {
    "duration": 25438,
    "start_time": "2022-11-20T10:25:34.965Z"
   },
   {
    "duration": 352,
    "start_time": "2022-11-20T10:26:00.404Z"
   },
   {
    "duration": 46256,
    "start_time": "2022-11-20T10:26:00.758Z"
   },
   {
    "duration": 125,
    "start_time": "2022-11-20T10:42:21.392Z"
   },
   {
    "duration": 139,
    "start_time": "2022-11-20T10:42:25.143Z"
   },
   {
    "duration": 135,
    "start_time": "2022-11-20T10:42:31.856Z"
   },
   {
    "duration": 135,
    "start_time": "2022-11-20T10:42:36.669Z"
   },
   {
    "duration": 153,
    "start_time": "2022-11-20T10:42:48.829Z"
   },
   {
    "duration": 141,
    "start_time": "2022-11-20T10:45:26.618Z"
   },
   {
    "duration": 145,
    "start_time": "2022-11-20T10:45:31.097Z"
   },
   {
    "duration": 180,
    "start_time": "2022-11-20T10:45:44.893Z"
   },
   {
    "duration": 182,
    "start_time": "2022-11-20T10:47:04.112Z"
   },
   {
    "duration": 1382,
    "start_time": "2022-11-20T10:48:04.499Z"
   },
   {
    "duration": 795,
    "start_time": "2022-11-20T10:48:05.883Z"
   },
   {
    "duration": 17,
    "start_time": "2022-11-20T10:48:06.679Z"
   },
   {
    "duration": 117,
    "start_time": "2022-11-20T10:48:06.698Z"
   },
   {
    "duration": 110,
    "start_time": "2022-11-20T10:48:06.817Z"
   },
   {
    "duration": 7,
    "start_time": "2022-11-20T10:48:06.929Z"
   },
   {
    "duration": 480,
    "start_time": "2022-11-20T10:48:06.938Z"
   },
   {
    "duration": 453,
    "start_time": "2022-11-20T10:48:38.206Z"
   },
   {
    "duration": 1374,
    "start_time": "2022-11-20T10:50:15.948Z"
   },
   {
    "duration": 741,
    "start_time": "2022-11-20T10:50:17.324Z"
   },
   {
    "duration": 16,
    "start_time": "2022-11-20T10:50:18.067Z"
   },
   {
    "duration": 111,
    "start_time": "2022-11-20T10:50:18.085Z"
   },
   {
    "duration": 100,
    "start_time": "2022-11-20T10:50:18.197Z"
   },
   {
    "duration": 5,
    "start_time": "2022-11-20T10:50:18.299Z"
   },
   {
    "duration": 899,
    "start_time": "2022-11-20T10:50:18.306Z"
   },
   {
    "duration": 41,
    "start_time": "2022-11-20T10:50:19.207Z"
   },
   {
    "duration": 72,
    "start_time": "2022-11-20T10:50:19.252Z"
   },
   {
    "duration": 70,
    "start_time": "2022-11-20T10:50:19.327Z"
   },
   {
    "duration": 16,
    "start_time": "2022-11-20T10:50:19.398Z"
   },
   {
    "duration": 75763,
    "start_time": "2022-11-20T10:50:19.416Z"
   },
   {
    "duration": 74,
    "start_time": "2022-11-20T10:51:35.180Z"
   },
   {
    "duration": 15,
    "start_time": "2022-11-20T10:51:35.256Z"
   },
   {
    "duration": 30,
    "start_time": "2022-11-20T10:51:35.272Z"
   },
   {
    "duration": 20,
    "start_time": "2022-11-20T10:51:35.303Z"
   },
   {
    "duration": 82,
    "start_time": "2022-11-20T10:51:35.325Z"
   },
   {
    "duration": 68,
    "start_time": "2022-11-20T10:51:35.409Z"
   },
   {
    "duration": 16,
    "start_time": "2022-11-20T10:51:35.479Z"
   },
   {
    "duration": 406,
    "start_time": "2022-11-20T10:51:35.497Z"
   },
   {
    "duration": 8,
    "start_time": "2022-11-20T10:51:35.905Z"
   },
   {
    "duration": 71,
    "start_time": "2022-11-20T10:51:35.914Z"
   },
   {
    "duration": 15,
    "start_time": "2022-11-20T10:51:35.987Z"
   },
   {
    "duration": 438,
    "start_time": "2022-11-20T10:51:36.004Z"
   },
   {
    "duration": 44,
    "start_time": "2022-11-20T10:51:36.444Z"
   },
   {
    "duration": 50,
    "start_time": "2022-11-20T10:51:36.490Z"
   },
   {
    "duration": 14,
    "start_time": "2022-11-20T10:51:36.541Z"
   },
   {
    "duration": 19,
    "start_time": "2022-11-20T10:51:36.558Z"
   },
   {
    "duration": 326,
    "start_time": "2022-11-20T10:51:36.579Z"
   },
   {
    "duration": 267,
    "start_time": "2022-11-20T10:51:36.907Z"
   },
   {
    "duration": 15,
    "start_time": "2022-11-20T10:51:37.176Z"
   },
   {
    "duration": 30903,
    "start_time": "2022-11-20T10:51:37.193Z"
   },
   {
    "duration": 17,
    "start_time": "2022-11-20T10:52:08.098Z"
   },
   {
    "duration": 4,
    "start_time": "2022-11-20T10:52:08.117Z"
   },
   {
    "duration": 93,
    "start_time": "2022-11-20T10:52:08.123Z"
   },
   {
    "duration": 35,
    "start_time": "2022-11-20T10:52:08.217Z"
   },
   {
    "duration": 195,
    "start_time": "2022-11-20T10:52:08.254Z"
   },
   {
    "duration": 65,
    "start_time": "2022-11-20T10:52:08.452Z"
   },
   {
    "duration": 90,
    "start_time": "2022-11-20T10:52:08.519Z"
   },
   {
    "duration": 3,
    "start_time": "2022-11-20T10:52:08.610Z"
   },
   {
    "duration": 21450,
    "start_time": "2022-11-20T10:52:08.614Z"
   },
   {
    "duration": 25303,
    "start_time": "2022-11-20T10:52:30.066Z"
   },
   {
    "duration": 383,
    "start_time": "2022-11-20T10:52:55.370Z"
   },
   {
    "duration": 46315,
    "start_time": "2022-11-20T10:52:55.755Z"
   },
   {
    "duration": 67,
    "start_time": "2022-11-20T11:47:11.390Z"
   },
   {
    "duration": 76,
    "start_time": "2022-11-20T11:47:42.280Z"
   },
   {
    "duration": 112,
    "start_time": "2022-11-20T11:47:44.766Z"
   },
   {
    "duration": 4,
    "start_time": "2022-11-20T11:47:50.127Z"
   },
   {
    "duration": 1419,
    "start_time": "2022-11-20T12:26:27.232Z"
   },
   {
    "duration": 744,
    "start_time": "2022-11-20T12:26:28.653Z"
   },
   {
    "duration": 16,
    "start_time": "2022-11-20T12:26:29.399Z"
   },
   {
    "duration": 105,
    "start_time": "2022-11-20T12:26:29.416Z"
   },
   {
    "duration": 109,
    "start_time": "2022-11-20T12:26:29.523Z"
   },
   {
    "duration": 5,
    "start_time": "2022-11-20T12:26:29.634Z"
   },
   {
    "duration": 905,
    "start_time": "2022-11-20T12:26:29.640Z"
   },
   {
    "duration": 41,
    "start_time": "2022-11-20T12:26:30.547Z"
   },
   {
    "duration": 108,
    "start_time": "2022-11-20T12:26:30.589Z"
   },
   {
    "duration": 65,
    "start_time": "2022-11-20T12:26:30.699Z"
   },
   {
    "duration": 37,
    "start_time": "2022-11-20T12:26:30.765Z"
   },
   {
    "duration": 75972,
    "start_time": "2022-11-20T12:26:30.804Z"
   },
   {
    "duration": 63,
    "start_time": "2022-11-20T12:27:46.778Z"
   },
   {
    "duration": 15,
    "start_time": "2022-11-20T12:27:46.852Z"
   },
   {
    "duration": 32,
    "start_time": "2022-11-20T12:27:46.868Z"
   },
   {
    "duration": 20,
    "start_time": "2022-11-20T12:27:46.901Z"
   },
   {
    "duration": 79,
    "start_time": "2022-11-20T12:27:46.922Z"
   },
   {
    "duration": 67,
    "start_time": "2022-11-20T12:27:47.004Z"
   },
   {
    "duration": 18,
    "start_time": "2022-11-20T12:27:47.073Z"
   },
   {
    "duration": 385,
    "start_time": "2022-11-20T12:27:47.093Z"
   },
   {
    "duration": 8,
    "start_time": "2022-11-20T12:27:47.480Z"
   },
   {
    "duration": 71,
    "start_time": "2022-11-20T12:27:47.489Z"
   },
   {
    "duration": 15,
    "start_time": "2022-11-20T12:27:47.562Z"
   },
   {
    "duration": 433,
    "start_time": "2022-11-20T12:27:47.578Z"
   },
   {
    "duration": 46,
    "start_time": "2022-11-20T12:27:48.012Z"
   },
   {
    "duration": 51,
    "start_time": "2022-11-20T12:27:48.059Z"
   },
   {
    "duration": 6,
    "start_time": "2022-11-20T12:27:48.111Z"
   },
   {
    "duration": 35,
    "start_time": "2022-11-20T12:27:48.118Z"
   },
   {
    "duration": 316,
    "start_time": "2022-11-20T12:27:48.155Z"
   },
   {
    "duration": 269,
    "start_time": "2022-11-20T12:27:48.473Z"
   },
   {
    "duration": 18,
    "start_time": "2022-11-20T12:27:48.743Z"
   },
   {
    "duration": 29910,
    "start_time": "2022-11-20T12:27:48.762Z"
   },
   {
    "duration": 17,
    "start_time": "2022-11-20T12:28:18.674Z"
   },
   {
    "duration": 7,
    "start_time": "2022-11-20T12:28:18.692Z"
   },
   {
    "duration": 88,
    "start_time": "2022-11-20T12:28:18.700Z"
   },
   {
    "duration": 89,
    "start_time": "2022-11-20T12:28:18.789Z"
   },
   {
    "duration": 31,
    "start_time": "2022-11-20T12:28:18.880Z"
   },
   {
    "duration": 230,
    "start_time": "2022-11-20T12:28:18.912Z"
   },
   {
    "duration": 81,
    "start_time": "2022-11-20T12:28:19.143Z"
   },
   {
    "duration": 2,
    "start_time": "2022-11-20T12:28:19.226Z"
   },
   {
    "duration": 4329,
    "start_time": "2022-11-20T12:28:19.231Z"
   },
   {
    "duration": 491,
    "start_time": "2022-11-20T12:28:23.562Z"
   },
   {
    "duration": 5,
    "start_time": "2022-11-20T12:28:24.055Z"
   },
   {
    "duration": 170,
    "start_time": "2022-11-20T12:28:24.062Z"
   },
   {
    "duration": 85,
    "start_time": "2022-11-20T12:28:24.234Z"
   },
   {
    "duration": 5,
    "start_time": "2022-11-20T12:28:24.321Z"
   },
   {
    "duration": 4,
    "start_time": "2022-11-20T12:28:24.328Z"
   },
   {
    "duration": 79,
    "start_time": "2022-11-20T12:28:24.334Z"
   },
   {
    "duration": 89,
    "start_time": "2022-11-20T12:28:24.415Z"
   },
   {
    "duration": 5,
    "start_time": "2022-11-20T12:28:24.505Z"
   },
   {
    "duration": 801,
    "start_time": "2022-11-20T12:28:47.394Z"
   },
   {
    "duration": 18,
    "start_time": "2022-11-20T12:28:48.197Z"
   },
   {
    "duration": 5,
    "start_time": "2022-11-20T12:28:49.237Z"
   },
   {
    "duration": 25597,
    "start_time": "2022-11-20T12:29:04.951Z"
   },
   {
    "duration": 123,
    "start_time": "2022-11-20T12:29:30.550Z"
   },
   {
    "duration": 4,
    "start_time": "2022-11-20T12:29:30.675Z"
   },
   {
    "duration": 18,
    "start_time": "2022-11-20T12:29:30.681Z"
   },
   {
    "duration": 792,
    "start_time": "2022-11-20T12:29:30.701Z"
   },
   {
    "duration": 19,
    "start_time": "2022-11-20T12:29:31.494Z"
   },
   {
    "duration": 5,
    "start_time": "2022-11-20T12:29:31.514Z"
   },
   {
    "duration": 10,
    "start_time": "2022-11-20T13:29:54.483Z"
   },
   {
    "duration": 11,
    "start_time": "2022-11-20T13:30:04.981Z"
   },
   {
    "duration": 6,
    "start_time": "2022-11-20T13:30:12.202Z"
   },
   {
    "duration": 19,
    "start_time": "2022-11-20T13:30:13.812Z"
   },
   {
    "duration": 5,
    "start_time": "2022-11-20T13:30:20.977Z"
   },
   {
    "duration": 5,
    "start_time": "2022-11-20T13:30:24.078Z"
   },
   {
    "duration": 9,
    "start_time": "2022-11-20T13:30:26.391Z"
   },
   {
    "duration": 4,
    "start_time": "2022-11-20T13:30:29.491Z"
   },
   {
    "duration": 5,
    "start_time": "2022-11-20T13:30:31.991Z"
   },
   {
    "duration": 5,
    "start_time": "2022-11-20T13:30:34.241Z"
   },
   {
    "duration": 9,
    "start_time": "2022-11-20T13:30:36.204Z"
   },
   {
    "duration": 4,
    "start_time": "2022-11-20T13:30:55.491Z"
   },
   {
    "duration": 9,
    "start_time": "2022-11-20T13:30:57.780Z"
   },
   {
    "duration": 5,
    "start_time": "2022-11-20T13:31:24.374Z"
   },
   {
    "duration": 5,
    "start_time": "2022-11-20T13:31:26.432Z"
   },
   {
    "duration": 5,
    "start_time": "2022-11-20T13:31:28.528Z"
   },
   {
    "duration": 9,
    "start_time": "2022-11-20T13:31:30.604Z"
   },
   {
    "duration": 5,
    "start_time": "2022-11-20T13:31:41.372Z"
   },
   {
    "duration": 10,
    "start_time": "2022-11-20T13:31:44.218Z"
   },
   {
    "duration": 5,
    "start_time": "2022-11-20T13:31:56.471Z"
   },
   {
    "duration": 1406,
    "start_time": "2022-11-20T13:32:16.316Z"
   },
   {
    "duration": 747,
    "start_time": "2022-11-20T13:32:17.724Z"
   },
   {
    "duration": 16,
    "start_time": "2022-11-20T13:32:18.473Z"
   },
   {
    "duration": 111,
    "start_time": "2022-11-20T13:32:18.491Z"
   },
   {
    "duration": 104,
    "start_time": "2022-11-20T13:32:18.603Z"
   },
   {
    "duration": 5,
    "start_time": "2022-11-20T13:32:18.708Z"
   },
   {
    "duration": 973,
    "start_time": "2022-11-20T13:32:18.715Z"
   },
   {
    "duration": 39,
    "start_time": "2022-11-20T13:32:19.690Z"
   },
   {
    "duration": 81,
    "start_time": "2022-11-20T13:32:19.731Z"
   },
   {
    "duration": 80,
    "start_time": "2022-11-20T13:32:19.814Z"
   },
   {
    "duration": 17,
    "start_time": "2022-11-20T13:32:19.895Z"
   },
   {
    "duration": 76452,
    "start_time": "2022-11-20T13:32:19.915Z"
   },
   {
    "duration": 62,
    "start_time": "2022-11-20T13:33:36.369Z"
   },
   {
    "duration": 25,
    "start_time": "2022-11-20T13:33:36.432Z"
   },
   {
    "duration": 29,
    "start_time": "2022-11-20T13:33:36.459Z"
   },
   {
    "duration": 21,
    "start_time": "2022-11-20T13:33:36.489Z"
   },
   {
    "duration": 76,
    "start_time": "2022-11-20T13:33:36.512Z"
   },
   {
    "duration": 67,
    "start_time": "2022-11-20T13:33:36.590Z"
   },
   {
    "duration": 17,
    "start_time": "2022-11-20T13:33:36.658Z"
   },
   {
    "duration": 400,
    "start_time": "2022-11-20T13:33:36.676Z"
   },
   {
    "duration": 12,
    "start_time": "2022-11-20T13:33:37.077Z"
   },
   {
    "duration": 76,
    "start_time": "2022-11-20T13:33:37.091Z"
   },
   {
    "duration": 16,
    "start_time": "2022-11-20T13:33:37.169Z"
   },
   {
    "duration": 477,
    "start_time": "2022-11-20T13:33:37.186Z"
   },
   {
    "duration": 43,
    "start_time": "2022-11-20T13:33:37.665Z"
   },
   {
    "duration": 73,
    "start_time": "2022-11-20T13:33:37.710Z"
   },
   {
    "duration": 6,
    "start_time": "2022-11-20T13:33:37.785Z"
   },
   {
    "duration": 19,
    "start_time": "2022-11-20T13:33:37.795Z"
   },
   {
    "duration": 373,
    "start_time": "2022-11-20T13:33:37.816Z"
   },
   {
    "duration": 314,
    "start_time": "2022-11-20T13:33:38.191Z"
   },
   {
    "duration": 18,
    "start_time": "2022-11-20T13:33:38.507Z"
   },
   {
    "duration": 30753,
    "start_time": "2022-11-20T13:33:38.527Z"
   },
   {
    "duration": 16,
    "start_time": "2022-11-20T13:34:09.282Z"
   },
   {
    "duration": 11,
    "start_time": "2022-11-20T13:34:09.300Z"
   },
   {
    "duration": 90,
    "start_time": "2022-11-20T13:34:09.313Z"
   },
   {
    "duration": 85,
    "start_time": "2022-11-20T13:34:09.405Z"
   },
   {
    "duration": 25,
    "start_time": "2022-11-20T13:34:09.492Z"
   },
   {
    "duration": 210,
    "start_time": "2022-11-20T13:34:09.519Z"
   },
   {
    "duration": 80,
    "start_time": "2022-11-20T13:34:09.731Z"
   },
   {
    "duration": 2,
    "start_time": "2022-11-20T13:34:09.812Z"
   },
   {
    "duration": 6549,
    "start_time": "2022-11-20T13:34:09.816Z"
   },
   {
    "duration": 495,
    "start_time": "2022-11-20T13:34:16.366Z"
   },
   {
    "duration": 4,
    "start_time": "2022-11-20T13:34:16.863Z"
   },
   {
    "duration": 25750,
    "start_time": "2022-11-20T13:34:16.869Z"
   },
   {
    "duration": 120,
    "start_time": "2022-11-20T13:34:42.620Z"
   },
   {
    "duration": 5,
    "start_time": "2022-11-20T13:34:42.742Z"
   },
   {
    "duration": 3,
    "start_time": "2022-11-20T13:34:42.752Z"
   },
   {
    "duration": 753,
    "start_time": "2022-11-20T13:34:42.757Z"
   },
   {
    "duration": 19,
    "start_time": "2022-11-20T13:34:43.512Z"
   },
   {
    "duration": 121,
    "start_time": "2022-11-20T13:34:43.533Z"
   },
   {
    "duration": 0,
    "start_time": "2022-11-20T13:34:43.656Z"
   },
   {
    "duration": 5,
    "start_time": "2022-11-20T13:34:54.781Z"
   },
   {
    "duration": 10,
    "start_time": "2022-11-20T13:34:57.315Z"
   },
   {
    "duration": 116,
    "start_time": "2022-11-20T13:42:49.906Z"
   },
   {
    "duration": 1528,
    "start_time": "2022-11-21T07:56:14.762Z"
   },
   {
    "duration": 1054,
    "start_time": "2022-11-21T07:56:16.292Z"
   },
   {
    "duration": 17,
    "start_time": "2022-11-21T07:56:17.348Z"
   },
   {
    "duration": 160,
    "start_time": "2022-11-21T07:56:17.367Z"
   },
   {
    "duration": 117,
    "start_time": "2022-11-21T07:56:17.529Z"
   },
   {
    "duration": 6,
    "start_time": "2022-11-21T07:56:17.647Z"
   },
   {
    "duration": 959,
    "start_time": "2022-11-21T07:56:17.654Z"
   },
   {
    "duration": 39,
    "start_time": "2022-11-21T07:56:18.616Z"
   },
   {
    "duration": 85,
    "start_time": "2022-11-21T07:56:18.657Z"
   },
   {
    "duration": 82,
    "start_time": "2022-11-21T07:56:18.744Z"
   },
   {
    "duration": 28,
    "start_time": "2022-11-21T07:56:18.828Z"
   },
   {
    "duration": 90825,
    "start_time": "2022-11-21T07:56:18.858Z"
   },
   {
    "duration": 83,
    "start_time": "2022-11-21T07:57:49.685Z"
   },
   {
    "duration": 17,
    "start_time": "2022-11-21T07:57:49.771Z"
   },
   {
    "duration": 53,
    "start_time": "2022-11-21T07:57:49.789Z"
   },
   {
    "duration": 25,
    "start_time": "2022-11-21T07:57:49.843Z"
   },
   {
    "duration": 89,
    "start_time": "2022-11-21T07:57:49.871Z"
   },
   {
    "duration": 70,
    "start_time": "2022-11-21T07:57:49.962Z"
   },
   {
    "duration": 18,
    "start_time": "2022-11-21T07:57:50.034Z"
   },
   {
    "duration": 458,
    "start_time": "2022-11-21T07:57:50.054Z"
   },
   {
    "duration": 8,
    "start_time": "2022-11-21T07:57:50.515Z"
   },
   {
    "duration": 65,
    "start_time": "2022-11-21T07:57:50.525Z"
   },
   {
    "duration": 30,
    "start_time": "2022-11-21T07:57:50.591Z"
   },
   {
    "duration": 440,
    "start_time": "2022-11-21T07:57:50.623Z"
   },
   {
    "duration": 43,
    "start_time": "2022-11-21T07:57:51.064Z"
   },
   {
    "duration": 48,
    "start_time": "2022-11-21T07:57:51.115Z"
   },
   {
    "duration": 5,
    "start_time": "2022-11-21T07:57:51.165Z"
   },
   {
    "duration": 22,
    "start_time": "2022-11-21T07:57:51.171Z"
   },
   {
    "duration": 324,
    "start_time": "2022-11-21T07:57:51.195Z"
   },
   {
    "duration": 277,
    "start_time": "2022-11-21T07:57:51.521Z"
   },
   {
    "duration": 24,
    "start_time": "2022-11-21T07:57:51.800Z"
   },
   {
    "duration": 33784,
    "start_time": "2022-11-21T07:57:51.826Z"
   },
   {
    "duration": 19,
    "start_time": "2022-11-21T07:58:25.612Z"
   },
   {
    "duration": 15,
    "start_time": "2022-11-21T07:58:25.633Z"
   },
   {
    "duration": 98,
    "start_time": "2022-11-21T07:58:25.650Z"
   },
   {
    "duration": 118,
    "start_time": "2022-11-21T07:58:25.749Z"
   },
   {
    "duration": 26,
    "start_time": "2022-11-21T07:58:25.869Z"
   },
   {
    "duration": 286,
    "start_time": "2022-11-21T07:58:25.896Z"
   },
   {
    "duration": 103,
    "start_time": "2022-11-21T07:58:26.184Z"
   },
   {
    "duration": 3,
    "start_time": "2022-11-21T07:58:26.289Z"
   },
   {
    "duration": 11820,
    "start_time": "2022-11-21T07:58:26.297Z"
   },
   {
    "duration": 497,
    "start_time": "2022-11-21T07:58:38.119Z"
   },
   {
    "duration": 126,
    "start_time": "2022-11-21T07:58:38.618Z"
   },
   {
    "duration": 0,
    "start_time": "2022-11-21T07:58:38.746Z"
   },
   {
    "duration": 0,
    "start_time": "2022-11-21T07:58:38.747Z"
   },
   {
    "duration": 0,
    "start_time": "2022-11-21T07:58:38.749Z"
   },
   {
    "duration": 0,
    "start_time": "2022-11-21T07:58:38.750Z"
   },
   {
    "duration": 0,
    "start_time": "2022-11-21T07:58:38.752Z"
   },
   {
    "duration": 0,
    "start_time": "2022-11-21T07:58:38.754Z"
   },
   {
    "duration": 0,
    "start_time": "2022-11-21T07:58:38.755Z"
   },
   {
    "duration": 0,
    "start_time": "2022-11-21T07:58:38.756Z"
   },
   {
    "duration": 0,
    "start_time": "2022-11-21T07:58:38.758Z"
   },
   {
    "duration": 0,
    "start_time": "2022-11-21T07:58:38.759Z"
   },
   {
    "duration": 10,
    "start_time": "2022-11-21T07:59:15.497Z"
   },
   {
    "duration": 10,
    "start_time": "2022-11-21T07:59:29.196Z"
   },
   {
    "duration": 10,
    "start_time": "2022-11-21T07:59:40.285Z"
   },
   {
    "duration": 5,
    "start_time": "2022-11-21T07:59:51.446Z"
   },
   {
    "duration": 5,
    "start_time": "2022-11-21T07:59:55.562Z"
   },
   {
    "duration": 7,
    "start_time": "2022-11-21T08:02:17.584Z"
   },
   {
    "duration": 8,
    "start_time": "2022-11-21T08:03:32.724Z"
   },
   {
    "duration": 6,
    "start_time": "2022-11-21T08:03:50.398Z"
   },
   {
    "duration": 5,
    "start_time": "2022-11-21T08:03:57.286Z"
   },
   {
    "duration": 6,
    "start_time": "2022-11-21T08:04:00.298Z"
   },
   {
    "duration": 8,
    "start_time": "2022-11-21T08:04:05.422Z"
   },
   {
    "duration": 5,
    "start_time": "2022-11-21T08:05:11.623Z"
   },
   {
    "duration": 26827,
    "start_time": "2022-11-21T08:05:11.630Z"
   },
   {
    "duration": 121,
    "start_time": "2022-11-21T08:05:38.459Z"
   },
   {
    "duration": 12,
    "start_time": "2022-11-21T08:05:38.581Z"
   },
   {
    "duration": 0,
    "start_time": "2022-11-21T08:05:38.595Z"
   },
   {
    "duration": 0,
    "start_time": "2022-11-21T08:05:38.597Z"
   },
   {
    "duration": 0,
    "start_time": "2022-11-21T08:05:38.598Z"
   },
   {
    "duration": 0,
    "start_time": "2022-11-21T08:05:38.599Z"
   },
   {
    "duration": 0,
    "start_time": "2022-11-21T08:05:38.599Z"
   },
   {
    "duration": 0,
    "start_time": "2022-11-21T08:05:38.600Z"
   },
   {
    "duration": 0,
    "start_time": "2022-11-21T08:05:38.600Z"
   },
   {
    "duration": 136,
    "start_time": "2022-11-21T08:06:57.967Z"
   },
   {
    "duration": 4,
    "start_time": "2022-11-21T08:06:58.105Z"
   },
   {
    "duration": 12,
    "start_time": "2022-11-21T08:06:58.111Z"
   },
   {
    "duration": 880,
    "start_time": "2022-11-21T08:06:58.125Z"
   },
   {
    "duration": 22,
    "start_time": "2022-11-21T08:06:59.006Z"
   },
   {
    "duration": 5,
    "start_time": "2022-11-21T08:06:59.029Z"
   },
   {
    "duration": 10,
    "start_time": "2022-11-21T08:06:59.036Z"
   },
   {
    "duration": 45,
    "start_time": "2022-11-21T08:06:59.047Z"
   },
   {
    "duration": 0,
    "start_time": "2022-11-21T08:06:59.093Z"
   },
   {
    "duration": 34002,
    "start_time": "2022-11-21T08:07:04.335Z"
   },
   {
    "duration": 12,
    "start_time": "2022-11-21T08:07:38.339Z"
   },
   {
    "duration": 33872,
    "start_time": "2022-11-21T08:07:51.972Z"
   },
   {
    "duration": 131,
    "start_time": "2022-11-21T08:08:25.846Z"
   },
   {
    "duration": 1493,
    "start_time": "2022-11-21T09:01:05.511Z"
   },
   {
    "duration": 805,
    "start_time": "2022-11-21T09:01:07.006Z"
   },
   {
    "duration": 18,
    "start_time": "2022-11-21T09:01:07.812Z"
   },
   {
    "duration": 145,
    "start_time": "2022-11-21T09:01:07.832Z"
   },
   {
    "duration": 110,
    "start_time": "2022-11-21T09:01:07.978Z"
   },
   {
    "duration": 5,
    "start_time": "2022-11-21T09:01:08.090Z"
   },
   {
    "duration": 956,
    "start_time": "2022-11-21T09:01:08.097Z"
   },
   {
    "duration": 39,
    "start_time": "2022-11-21T09:01:09.055Z"
   },
   {
    "duration": 82,
    "start_time": "2022-11-21T09:01:09.096Z"
   },
   {
    "duration": 88,
    "start_time": "2022-11-21T09:01:09.181Z"
   },
   {
    "duration": 45,
    "start_time": "2022-11-21T09:01:09.271Z"
   },
   {
    "duration": 89691,
    "start_time": "2022-11-21T09:01:09.318Z"
   },
   {
    "duration": 81,
    "start_time": "2022-11-21T09:02:39.010Z"
   },
   {
    "duration": 31,
    "start_time": "2022-11-21T09:02:39.093Z"
   },
   {
    "duration": 33,
    "start_time": "2022-11-21T09:02:39.126Z"
   },
   {
    "duration": 27,
    "start_time": "2022-11-21T09:02:39.161Z"
   },
   {
    "duration": 90,
    "start_time": "2022-11-21T09:02:39.190Z"
   },
   {
    "duration": 73,
    "start_time": "2022-11-21T09:02:39.282Z"
   },
   {
    "duration": 17,
    "start_time": "2022-11-21T09:02:39.357Z"
   },
   {
    "duration": 387,
    "start_time": "2022-11-21T09:02:39.376Z"
   },
   {
    "duration": 8,
    "start_time": "2022-11-21T09:02:39.765Z"
   },
   {
    "duration": 74,
    "start_time": "2022-11-21T09:02:39.774Z"
   },
   {
    "duration": 16,
    "start_time": "2022-11-21T09:02:39.850Z"
   },
   {
    "duration": 465,
    "start_time": "2022-11-21T09:02:39.867Z"
   },
   {
    "duration": 42,
    "start_time": "2022-11-21T09:02:40.333Z"
   },
   {
    "duration": 63,
    "start_time": "2022-11-21T09:02:40.376Z"
   },
   {
    "duration": 5,
    "start_time": "2022-11-21T09:02:40.442Z"
   },
   {
    "duration": 25,
    "start_time": "2022-11-21T09:02:40.451Z"
   },
   {
    "duration": 327,
    "start_time": "2022-11-21T09:02:40.478Z"
   },
   {
    "duration": 276,
    "start_time": "2022-11-21T09:02:40.807Z"
   },
   {
    "duration": 15,
    "start_time": "2022-11-21T09:02:41.085Z"
   },
   {
    "duration": 33546,
    "start_time": "2022-11-21T09:02:41.102Z"
   },
   {
    "duration": 17,
    "start_time": "2022-11-21T09:03:14.650Z"
   },
   {
    "duration": 3,
    "start_time": "2022-11-21T09:03:14.669Z"
   },
   {
    "duration": 99,
    "start_time": "2022-11-21T09:03:14.674Z"
   },
   {
    "duration": 108,
    "start_time": "2022-11-21T09:03:14.774Z"
   },
   {
    "duration": 32,
    "start_time": "2022-11-21T09:03:14.883Z"
   },
   {
    "duration": 221,
    "start_time": "2022-11-21T09:03:14.917Z"
   },
   {
    "duration": 80,
    "start_time": "2022-11-21T09:03:15.140Z"
   },
   {
    "duration": 2,
    "start_time": "2022-11-21T09:03:15.222Z"
   },
   {
    "duration": 4197,
    "start_time": "2022-11-21T09:03:15.225Z"
   },
   {
    "duration": 495,
    "start_time": "2022-11-21T09:03:19.424Z"
   },
   {
    "duration": 5,
    "start_time": "2022-11-21T09:03:19.920Z"
   },
   {
    "duration": 26662,
    "start_time": "2022-11-21T09:03:19.926Z"
   },
   {
    "duration": 128,
    "start_time": "2022-11-21T09:03:46.590Z"
   },
   {
    "duration": 5,
    "start_time": "2022-11-21T09:03:46.719Z"
   },
   {
    "duration": 7,
    "start_time": "2022-11-21T09:03:46.726Z"
   },
   {
    "duration": 817,
    "start_time": "2022-11-21T09:03:46.735Z"
   },
   {
    "duration": 19,
    "start_time": "2022-11-21T09:03:47.555Z"
   },
   {
    "duration": 18,
    "start_time": "2022-11-21T09:03:47.575Z"
   },
   {
    "duration": 20,
    "start_time": "2022-11-21T09:03:47.594Z"
   },
   {
    "duration": 34675,
    "start_time": "2022-11-21T09:03:47.616Z"
   },
   {
    "duration": 126,
    "start_time": "2022-11-21T09:04:22.293Z"
   },
   {
    "duration": 1658,
    "start_time": "2022-11-22T09:18:27.540Z"
   },
   {
    "duration": 988,
    "start_time": "2022-11-22T09:18:29.200Z"
   },
   {
    "duration": 17,
    "start_time": "2022-11-22T09:18:30.189Z"
   },
   {
    "duration": 147,
    "start_time": "2022-11-22T09:18:30.207Z"
   },
   {
    "duration": 144,
    "start_time": "2022-11-22T09:18:30.355Z"
   },
   {
    "duration": 5,
    "start_time": "2022-11-22T09:18:30.501Z"
   },
   {
    "duration": 1109,
    "start_time": "2022-11-22T09:18:30.507Z"
   },
   {
    "duration": 82,
    "start_time": "2022-11-22T09:18:31.618Z"
   },
   {
    "duration": 122,
    "start_time": "2022-11-22T09:18:31.702Z"
   },
   {
    "duration": 99,
    "start_time": "2022-11-22T09:18:31.826Z"
   },
   {
    "duration": 36,
    "start_time": "2022-11-22T09:18:31.926Z"
   },
   {
    "duration": 92368,
    "start_time": "2022-11-22T09:18:31.964Z"
   },
   {
    "duration": 86,
    "start_time": "2022-11-22T09:20:04.334Z"
   },
   {
    "duration": 23,
    "start_time": "2022-11-22T09:20:04.422Z"
   },
   {
    "duration": 30,
    "start_time": "2022-11-22T09:20:04.446Z"
   },
   {
    "duration": 30,
    "start_time": "2022-11-22T09:20:04.478Z"
   },
   {
    "duration": 92,
    "start_time": "2022-11-22T09:20:04.509Z"
   },
   {
    "duration": 58,
    "start_time": "2022-11-22T09:20:04.602Z"
   },
   {
    "duration": 16,
    "start_time": "2022-11-22T09:20:04.662Z"
   },
   {
    "duration": 428,
    "start_time": "2022-11-22T09:20:04.680Z"
   },
   {
    "duration": 8,
    "start_time": "2022-11-22T09:20:05.109Z"
   },
   {
    "duration": 86,
    "start_time": "2022-11-22T09:20:05.118Z"
   },
   {
    "duration": 19,
    "start_time": "2022-11-22T09:20:05.206Z"
   },
   {
    "duration": 401,
    "start_time": "2022-11-22T09:20:05.226Z"
   },
   {
    "duration": 42,
    "start_time": "2022-11-22T09:20:05.629Z"
   },
   {
    "duration": 69,
    "start_time": "2022-11-22T09:20:05.672Z"
   },
   {
    "duration": 7,
    "start_time": "2022-11-22T09:20:05.742Z"
   },
   {
    "duration": 34,
    "start_time": "2022-11-22T09:20:05.751Z"
   },
   {
    "duration": 355,
    "start_time": "2022-11-22T09:20:05.787Z"
   },
   {
    "duration": 261,
    "start_time": "2022-11-22T09:20:06.143Z"
   },
   {
    "duration": 14,
    "start_time": "2022-11-22T09:20:06.405Z"
   },
   {
    "duration": 30248,
    "start_time": "2022-11-22T09:20:06.421Z"
   },
   {
    "duration": 16,
    "start_time": "2022-11-22T09:20:36.670Z"
   },
   {
    "duration": 19,
    "start_time": "2022-11-22T09:20:36.687Z"
   },
   {
    "duration": 1562,
    "start_time": "2022-11-23T08:24:58.262Z"
   },
   {
    "duration": 1081,
    "start_time": "2022-11-23T08:24:59.826Z"
   },
   {
    "duration": 18,
    "start_time": "2022-11-23T08:25:00.909Z"
   },
   {
    "duration": 125,
    "start_time": "2022-11-23T08:25:00.929Z"
   },
   {
    "duration": 115,
    "start_time": "2022-11-23T08:25:01.056Z"
   },
   {
    "duration": 7,
    "start_time": "2022-11-23T08:25:01.172Z"
   },
   {
    "duration": 1049,
    "start_time": "2022-11-23T08:25:01.180Z"
   },
   {
    "duration": 43,
    "start_time": "2022-11-23T08:25:02.231Z"
   },
   {
    "duration": 95,
    "start_time": "2022-11-23T08:25:02.277Z"
   },
   {
    "duration": 84,
    "start_time": "2022-11-23T08:25:02.376Z"
   },
   {
    "duration": 20,
    "start_time": "2022-11-23T08:25:02.462Z"
   },
   {
    "duration": 83027,
    "start_time": "2022-11-23T08:25:02.484Z"
   },
   {
    "duration": 73,
    "start_time": "2022-11-23T08:26:25.513Z"
   },
   {
    "duration": 27,
    "start_time": "2022-11-23T08:26:25.588Z"
   },
   {
    "duration": 31,
    "start_time": "2022-11-23T08:26:25.616Z"
   },
   {
    "duration": 26,
    "start_time": "2022-11-23T08:26:25.649Z"
   },
   {
    "duration": 85,
    "start_time": "2022-11-23T08:26:25.677Z"
   },
   {
    "duration": 79,
    "start_time": "2022-11-23T08:26:25.763Z"
   },
   {
    "duration": 17,
    "start_time": "2022-11-23T08:26:25.844Z"
   },
   {
    "duration": 459,
    "start_time": "2022-11-23T08:26:25.862Z"
   },
   {
    "duration": 9,
    "start_time": "2022-11-23T08:26:26.323Z"
   },
   {
    "duration": 101,
    "start_time": "2022-11-23T08:26:26.334Z"
   },
   {
    "duration": 21,
    "start_time": "2022-11-23T08:26:26.437Z"
   },
   {
    "duration": 504,
    "start_time": "2022-11-23T08:26:26.460Z"
   },
   {
    "duration": 51,
    "start_time": "2022-11-23T08:26:26.966Z"
   },
   {
    "duration": 53,
    "start_time": "2022-11-23T08:26:27.019Z"
   },
   {
    "duration": 6,
    "start_time": "2022-11-23T08:26:27.074Z"
   },
   {
    "duration": 41,
    "start_time": "2022-11-23T08:26:27.084Z"
   },
   {
    "duration": 373,
    "start_time": "2022-11-23T08:26:27.127Z"
   },
   {
    "duration": 304,
    "start_time": "2022-11-23T08:26:27.502Z"
   },
   {
    "duration": 19,
    "start_time": "2022-11-23T08:26:27.807Z"
   },
   {
    "duration": 59,
    "start_time": "2022-11-23T08:26:27.828Z"
   },
   {
    "duration": 40,
    "start_time": "2022-11-23T08:26:27.888Z"
   },
   {
    "duration": 3,
    "start_time": "2022-11-23T08:26:27.930Z"
   },
   {
    "duration": 89,
    "start_time": "2022-11-23T08:26:27.935Z"
   },
   {
    "duration": 92,
    "start_time": "2022-11-23T08:26:28.025Z"
   },
   {
    "duration": 28,
    "start_time": "2022-11-23T08:26:28.118Z"
   },
   {
    "duration": 218,
    "start_time": "2022-11-23T08:26:28.147Z"
   },
   {
    "duration": 85,
    "start_time": "2022-11-23T08:26:28.367Z"
   },
   {
    "duration": 2,
    "start_time": "2022-11-23T08:26:28.454Z"
   },
   {
    "duration": 8759,
    "start_time": "2022-11-23T08:26:28.458Z"
   },
   {
    "duration": 415,
    "start_time": "2022-11-23T08:26:37.218Z"
   },
   {
    "duration": 80,
    "start_time": "2022-11-23T08:26:37.635Z"
   },
   {
    "duration": 27914,
    "start_time": "2022-11-23T08:26:37.716Z"
   },
   {
    "duration": 134,
    "start_time": "2022-11-23T08:27:05.631Z"
   },
   {
    "duration": 5,
    "start_time": "2022-11-23T08:27:05.767Z"
   },
   {
    "duration": 5,
    "start_time": "2022-11-23T08:27:05.774Z"
   },
   {
    "duration": 843,
    "start_time": "2022-11-23T08:27:05.781Z"
   },
   {
    "duration": 17,
    "start_time": "2022-11-23T08:27:06.626Z"
   },
   {
    "duration": 4,
    "start_time": "2022-11-23T08:27:06.645Z"
   },
   {
    "duration": 14,
    "start_time": "2022-11-23T08:27:06.651Z"
   },
   {
    "duration": 34486,
    "start_time": "2022-11-23T08:27:06.667Z"
   },
   {
    "duration": 136,
    "start_time": "2022-11-23T08:27:41.155Z"
   },
   {
    "duration": 1552,
    "start_time": "2022-11-23T08:28:39.301Z"
   },
   {
    "duration": 835,
    "start_time": "2022-11-23T08:28:40.855Z"
   },
   {
    "duration": 23,
    "start_time": "2022-11-23T08:28:41.692Z"
   },
   {
    "duration": 121,
    "start_time": "2022-11-23T08:28:41.717Z"
   },
   {
    "duration": 124,
    "start_time": "2022-11-23T08:28:41.840Z"
   },
   {
    "duration": 7,
    "start_time": "2022-11-23T08:28:41.966Z"
   },
   {
    "duration": 1049,
    "start_time": "2022-11-23T08:28:41.974Z"
   },
   {
    "duration": 40,
    "start_time": "2022-11-23T08:28:43.025Z"
   },
   {
    "duration": 82,
    "start_time": "2022-11-23T08:28:43.067Z"
   },
   {
    "duration": 81,
    "start_time": "2022-11-23T08:28:43.152Z"
   },
   {
    "duration": 19,
    "start_time": "2022-11-23T08:28:43.234Z"
   },
   {
    "duration": 88010,
    "start_time": "2022-11-23T08:28:43.255Z"
   },
   {
    "duration": 80,
    "start_time": "2022-11-23T08:30:11.267Z"
   },
   {
    "duration": 17,
    "start_time": "2022-11-23T08:30:11.348Z"
   },
   {
    "duration": 49,
    "start_time": "2022-11-23T08:30:11.367Z"
   },
   {
    "duration": 23,
    "start_time": "2022-11-23T08:30:11.418Z"
   },
   {
    "duration": 81,
    "start_time": "2022-11-23T08:30:11.443Z"
   },
   {
    "duration": 68,
    "start_time": "2022-11-23T08:30:11.526Z"
   },
   {
    "duration": 18,
    "start_time": "2022-11-23T08:30:11.612Z"
   },
   {
    "duration": 430,
    "start_time": "2022-11-23T08:30:11.632Z"
   },
   {
    "duration": 9,
    "start_time": "2022-11-23T08:30:12.064Z"
   },
   {
    "duration": 86,
    "start_time": "2022-11-23T08:30:12.075Z"
   },
   {
    "duration": 20,
    "start_time": "2022-11-23T08:30:12.163Z"
   },
   {
    "duration": 481,
    "start_time": "2022-11-23T08:30:12.185Z"
   },
   {
    "duration": 54,
    "start_time": "2022-11-23T08:30:12.667Z"
   },
   {
    "duration": 54,
    "start_time": "2022-11-23T08:30:12.722Z"
   },
   {
    "duration": 6,
    "start_time": "2022-11-23T08:30:12.778Z"
   },
   {
    "duration": 36,
    "start_time": "2022-11-23T08:30:12.789Z"
   },
   {
    "duration": 362,
    "start_time": "2022-11-23T08:30:12.827Z"
   },
   {
    "duration": 307,
    "start_time": "2022-11-23T08:30:13.191Z"
   },
   {
    "duration": 27,
    "start_time": "2022-11-23T08:30:13.500Z"
   },
   {
    "duration": 35535,
    "start_time": "2022-11-23T08:30:13.529Z"
   },
   {
    "duration": 18,
    "start_time": "2022-11-23T08:30:49.067Z"
   },
   {
    "duration": 20,
    "start_time": "2022-11-23T08:30:49.087Z"
   },
   {
    "duration": 96,
    "start_time": "2022-11-23T08:30:49.109Z"
   },
   {
    "duration": 118,
    "start_time": "2022-11-23T08:30:49.207Z"
   },
   {
    "duration": 29,
    "start_time": "2022-11-23T08:30:49.327Z"
   },
   {
    "duration": 247,
    "start_time": "2022-11-23T08:30:49.359Z"
   },
   {
    "duration": 81,
    "start_time": "2022-11-23T08:30:49.608Z"
   },
   {
    "duration": 3,
    "start_time": "2022-11-23T08:30:49.692Z"
   },
   {
    "duration": 4713,
    "start_time": "2022-11-23T08:30:49.712Z"
   },
   {
    "duration": 504,
    "start_time": "2022-11-23T08:30:54.426Z"
   },
   {
    "duration": 85,
    "start_time": "2022-11-23T08:30:54.932Z"
   },
   {
    "duration": 28357,
    "start_time": "2022-11-23T08:30:55.019Z"
   },
   {
    "duration": 132,
    "start_time": "2022-11-23T08:31:23.377Z"
   },
   {
    "duration": 5,
    "start_time": "2022-11-23T08:31:23.511Z"
   },
   {
    "duration": 3,
    "start_time": "2022-11-23T08:31:23.518Z"
   },
   {
    "duration": 887,
    "start_time": "2022-11-23T08:31:23.523Z"
   },
   {
    "duration": 20,
    "start_time": "2022-11-23T08:31:24.412Z"
   },
   {
    "duration": 6,
    "start_time": "2022-11-23T08:31:24.434Z"
   },
   {
    "duration": 12,
    "start_time": "2022-11-23T08:31:24.442Z"
   },
   {
    "duration": 35708,
    "start_time": "2022-11-23T08:31:24.456Z"
   },
   {
    "duration": 141,
    "start_time": "2022-11-23T08:32:00.166Z"
   },
   {
    "duration": 1380,
    "start_time": "2022-11-23T08:33:00.342Z"
   },
   {
    "duration": 815,
    "start_time": "2022-11-23T08:33:01.724Z"
   },
   {
    "duration": 17,
    "start_time": "2022-11-23T08:33:02.541Z"
   },
   {
    "duration": 156,
    "start_time": "2022-11-23T08:33:02.560Z"
   },
   {
    "duration": 119,
    "start_time": "2022-11-23T08:33:02.718Z"
   },
   {
    "duration": 5,
    "start_time": "2022-11-23T08:33:02.839Z"
   },
   {
    "duration": 1058,
    "start_time": "2022-11-23T08:33:02.846Z"
   },
   {
    "duration": 41,
    "start_time": "2022-11-23T08:33:03.906Z"
   },
   {
    "duration": 77,
    "start_time": "2022-11-23T08:33:03.949Z"
   },
   {
    "duration": 84,
    "start_time": "2022-11-23T08:33:04.029Z"
   },
   {
    "duration": 17,
    "start_time": "2022-11-23T08:33:04.115Z"
   },
   {
    "duration": 85624,
    "start_time": "2022-11-23T08:33:04.134Z"
   },
   {
    "duration": 77,
    "start_time": "2022-11-23T08:34:29.760Z"
   },
   {
    "duration": 17,
    "start_time": "2022-11-23T08:34:29.839Z"
   },
   {
    "duration": 37,
    "start_time": "2022-11-23T08:34:29.857Z"
   },
   {
    "duration": 25,
    "start_time": "2022-11-23T08:34:29.911Z"
   },
   {
    "duration": 78,
    "start_time": "2022-11-23T08:34:29.938Z"
   },
   {
    "duration": 67,
    "start_time": "2022-11-23T08:34:30.018Z"
   },
   {
    "duration": 33,
    "start_time": "2022-11-23T08:34:30.086Z"
   },
   {
    "duration": 436,
    "start_time": "2022-11-23T08:34:30.120Z"
   },
   {
    "duration": 9,
    "start_time": "2022-11-23T08:34:30.558Z"
   },
   {
    "duration": 96,
    "start_time": "2022-11-23T08:34:30.568Z"
   },
   {
    "duration": 40,
    "start_time": "2022-11-23T08:34:30.666Z"
   },
   {
    "duration": 496,
    "start_time": "2022-11-23T08:34:30.708Z"
   },
   {
    "duration": 44,
    "start_time": "2022-11-23T08:34:31.206Z"
   },
   {
    "duration": 61,
    "start_time": "2022-11-23T08:34:31.253Z"
   },
   {
    "duration": 6,
    "start_time": "2022-11-23T08:34:31.316Z"
   },
   {
    "duration": 38,
    "start_time": "2022-11-23T08:34:31.326Z"
   },
   {
    "duration": 353,
    "start_time": "2022-11-23T08:34:31.366Z"
   },
   {
    "duration": 300,
    "start_time": "2022-11-23T08:34:31.721Z"
   },
   {
    "duration": 16,
    "start_time": "2022-11-23T08:34:32.023Z"
   },
   {
    "duration": 45,
    "start_time": "2022-11-23T08:34:32.040Z"
   },
   {
    "duration": 38,
    "start_time": "2022-11-23T08:34:32.087Z"
   },
   {
    "duration": 3,
    "start_time": "2022-11-23T08:34:32.127Z"
   },
   {
    "duration": 111,
    "start_time": "2022-11-23T08:34:32.132Z"
   },
   {
    "duration": 104,
    "start_time": "2022-11-23T08:34:32.245Z"
   },
   {
    "duration": 27,
    "start_time": "2022-11-23T08:34:32.351Z"
   },
   {
    "duration": 239,
    "start_time": "2022-11-23T08:34:32.380Z"
   },
   {
    "duration": 93,
    "start_time": "2022-11-23T08:34:32.621Z"
   },
   {
    "duration": 3,
    "start_time": "2022-11-23T08:34:32.716Z"
   },
   {
    "duration": 5901,
    "start_time": "2022-11-23T08:34:32.721Z"
   },
   {
    "duration": 498,
    "start_time": "2022-11-23T08:34:38.624Z"
   },
   {
    "duration": 6,
    "start_time": "2022-11-23T08:34:39.124Z"
   },
   {
    "duration": 27549,
    "start_time": "2022-11-23T08:34:39.132Z"
   },
   {
    "duration": 125,
    "start_time": "2022-11-23T08:35:06.683Z"
   },
   {
    "duration": 5,
    "start_time": "2022-11-23T08:35:06.810Z"
   },
   {
    "duration": 10,
    "start_time": "2022-11-23T08:35:06.817Z"
   },
   {
    "duration": 842,
    "start_time": "2022-11-23T08:35:06.828Z"
   },
   {
    "duration": 21,
    "start_time": "2022-11-23T08:35:07.672Z"
   },
   {
    "duration": 21,
    "start_time": "2022-11-23T08:35:07.694Z"
   },
   {
    "duration": 23,
    "start_time": "2022-11-23T08:35:07.717Z"
   },
   {
    "duration": 34435,
    "start_time": "2022-11-23T08:35:07.742Z"
   },
   {
    "duration": 133,
    "start_time": "2022-11-23T08:35:42.179Z"
   },
   {
    "duration": 1504,
    "start_time": "2022-11-23T08:52:09.321Z"
   },
   {
    "duration": 860,
    "start_time": "2022-11-23T08:52:10.827Z"
   },
   {
    "duration": 25,
    "start_time": "2022-11-23T08:52:11.688Z"
   },
   {
    "duration": 151,
    "start_time": "2022-11-23T08:52:11.715Z"
   },
   {
    "duration": 118,
    "start_time": "2022-11-23T08:52:11.868Z"
   },
   {
    "duration": 6,
    "start_time": "2022-11-23T08:52:11.988Z"
   },
   {
    "duration": 1023,
    "start_time": "2022-11-23T08:52:12.013Z"
   },
   {
    "duration": 42,
    "start_time": "2022-11-23T08:52:13.037Z"
   },
   {
    "duration": 104,
    "start_time": "2022-11-23T08:52:13.081Z"
   },
   {
    "duration": 80,
    "start_time": "2022-11-23T08:52:13.188Z"
   },
   {
    "duration": 38,
    "start_time": "2022-11-23T08:52:13.270Z"
   },
   {
    "duration": 86555,
    "start_time": "2022-11-23T08:52:13.310Z"
   },
   {
    "duration": 73,
    "start_time": "2022-11-23T08:53:39.866Z"
   },
   {
    "duration": 16,
    "start_time": "2022-11-23T08:53:39.941Z"
   },
   {
    "duration": 36,
    "start_time": "2022-11-23T08:53:39.959Z"
   },
   {
    "duration": 21,
    "start_time": "2022-11-23T08:53:40.012Z"
   },
   {
    "duration": 83,
    "start_time": "2022-11-23T08:53:40.035Z"
   },
   {
    "duration": 69,
    "start_time": "2022-11-23T08:53:40.120Z"
   },
   {
    "duration": 35,
    "start_time": "2022-11-23T08:53:40.191Z"
   },
   {
    "duration": 436,
    "start_time": "2022-11-23T08:53:40.228Z"
   },
   {
    "duration": 10,
    "start_time": "2022-11-23T08:53:40.666Z"
   },
   {
    "duration": 86,
    "start_time": "2022-11-23T08:53:40.679Z"
   },
   {
    "duration": 18,
    "start_time": "2022-11-23T08:53:40.768Z"
   },
   {
    "duration": 534,
    "start_time": "2022-11-23T08:53:40.787Z"
   },
   {
    "duration": 45,
    "start_time": "2022-11-23T08:53:41.323Z"
   },
   {
    "duration": 69,
    "start_time": "2022-11-23T08:53:41.370Z"
   },
   {
    "duration": 6,
    "start_time": "2022-11-23T08:53:41.441Z"
   },
   {
    "duration": 20,
    "start_time": "2022-11-23T08:53:41.450Z"
   },
   {
    "duration": 378,
    "start_time": "2022-11-23T08:53:41.472Z"
   },
   {
    "duration": 310,
    "start_time": "2022-11-23T08:53:41.852Z"
   },
   {
    "duration": 18,
    "start_time": "2022-11-23T08:53:42.164Z"
   },
   {
    "duration": 62,
    "start_time": "2022-11-23T08:53:42.183Z"
   },
   {
    "duration": 21,
    "start_time": "2022-11-23T08:53:42.246Z"
   },
   {
    "duration": 4,
    "start_time": "2022-11-23T08:53:42.268Z"
   },
   {
    "duration": 117,
    "start_time": "2022-11-23T08:53:42.274Z"
   },
   {
    "duration": 150,
    "start_time": "2022-11-23T08:53:42.393Z"
   },
   {
    "duration": 207,
    "start_time": "2022-11-23T08:56:32.236Z"
   },
   {
    "duration": 33865,
    "start_time": "2022-11-23T08:56:41.968Z"
   },
   {
    "duration": 33366,
    "start_time": "2022-11-23T08:57:23.843Z"
   },
   {
    "duration": 11285,
    "start_time": "2022-11-23T08:58:57.549Z"
   },
   {
    "duration": 11370,
    "start_time": "2022-11-23T09:00:07.819Z"
   },
   {
    "duration": 12,
    "start_time": "2022-11-23T09:02:49.357Z"
   },
   {
    "duration": 14,
    "start_time": "2022-11-23T09:03:12.819Z"
   },
   {
    "duration": 1243,
    "start_time": "2022-11-23T09:03:21.308Z"
   },
   {
    "duration": 1448,
    "start_time": "2022-11-23T09:03:29.420Z"
   },
   {
    "duration": 1507,
    "start_time": "2022-11-23T09:10:41.089Z"
   },
   {
    "duration": 1055,
    "start_time": "2022-11-23T09:10:42.598Z"
   },
   {
    "duration": 18,
    "start_time": "2022-11-23T09:10:43.655Z"
   },
   {
    "duration": 151,
    "start_time": "2022-11-23T09:10:43.674Z"
   },
   {
    "duration": 130,
    "start_time": "2022-11-23T09:10:43.828Z"
   },
   {
    "duration": 6,
    "start_time": "2022-11-23T09:10:43.959Z"
   },
   {
    "duration": 1051,
    "start_time": "2022-11-23T09:10:43.966Z"
   },
   {
    "duration": 44,
    "start_time": "2022-11-23T09:10:45.020Z"
   },
   {
    "duration": 128,
    "start_time": "2022-11-23T09:10:45.066Z"
   },
   {
    "duration": 76,
    "start_time": "2022-11-23T09:10:45.196Z"
   },
   {
    "duration": 48,
    "start_time": "2022-11-23T09:10:45.274Z"
   },
   {
    "duration": 86750,
    "start_time": "2022-11-23T09:10:45.324Z"
   },
   {
    "duration": 79,
    "start_time": "2022-11-23T09:12:12.076Z"
   },
   {
    "duration": 43,
    "start_time": "2022-11-23T09:12:12.159Z"
   },
   {
    "duration": 39,
    "start_time": "2022-11-23T09:12:12.205Z"
   },
   {
    "duration": 35,
    "start_time": "2022-11-23T09:12:12.246Z"
   },
   {
    "duration": 74,
    "start_time": "2022-11-23T09:12:12.283Z"
   },
   {
    "duration": 83,
    "start_time": "2022-11-23T09:12:12.360Z"
   },
   {
    "duration": 19,
    "start_time": "2022-11-23T09:12:12.445Z"
   },
   {
    "duration": 391,
    "start_time": "2022-11-23T09:12:12.466Z"
   },
   {
    "duration": 8,
    "start_time": "2022-11-23T09:12:12.858Z"
   },
   {
    "duration": 80,
    "start_time": "2022-11-23T09:12:12.868Z"
   },
   {
    "duration": 17,
    "start_time": "2022-11-23T09:12:12.950Z"
   },
   {
    "duration": 474,
    "start_time": "2022-11-23T09:12:12.969Z"
   },
   {
    "duration": 44,
    "start_time": "2022-11-23T09:12:13.444Z"
   },
   {
    "duration": 72,
    "start_time": "2022-11-23T09:12:13.490Z"
   },
   {
    "duration": 5,
    "start_time": "2022-11-23T09:12:13.564Z"
   },
   {
    "duration": 30,
    "start_time": "2022-11-23T09:12:13.571Z"
   },
   {
    "duration": 338,
    "start_time": "2022-11-23T09:12:13.602Z"
   },
   {
    "duration": 302,
    "start_time": "2022-11-23T09:12:13.941Z"
   },
   {
    "duration": 17,
    "start_time": "2022-11-23T09:12:14.244Z"
   },
   {
    "duration": 69,
    "start_time": "2022-11-23T09:12:14.263Z"
   },
   {
    "duration": 17,
    "start_time": "2022-11-23T09:12:14.335Z"
   },
   {
    "duration": 20,
    "start_time": "2022-11-23T09:12:14.354Z"
   },
   {
    "duration": 119,
    "start_time": "2022-11-23T09:12:14.376Z"
   },
   {
    "duration": 95,
    "start_time": "2022-11-23T09:12:14.497Z"
   },
   {
    "duration": 34,
    "start_time": "2022-11-23T09:12:14.593Z"
   },
   {
    "duration": 100,
    "start_time": "2022-11-23T09:12:14.629Z"
   },
   {
    "duration": 254,
    "start_time": "2022-11-23T09:12:14.730Z"
   },
   {
    "duration": 2,
    "start_time": "2022-11-23T09:12:14.986Z"
   },
   {
    "duration": 5428,
    "start_time": "2022-11-23T09:12:14.991Z"
   },
   {
    "duration": 502,
    "start_time": "2022-11-23T09:12:20.420Z"
   },
   {
    "duration": 6,
    "start_time": "2022-11-23T09:12:20.924Z"
   },
   {
    "duration": 27600,
    "start_time": "2022-11-23T09:12:20.931Z"
   },
   {
    "duration": 133,
    "start_time": "2022-11-23T09:12:48.534Z"
   },
   {
    "duration": 5,
    "start_time": "2022-11-23T09:12:48.668Z"
   },
   {
    "duration": 9,
    "start_time": "2022-11-23T09:12:48.675Z"
   },
   {
    "duration": 941,
    "start_time": "2022-11-23T09:12:48.686Z"
   },
   {
    "duration": 22,
    "start_time": "2022-11-23T09:12:49.628Z"
   },
   {
    "duration": 19,
    "start_time": "2022-11-23T09:12:49.652Z"
   },
   {
    "duration": 31,
    "start_time": "2022-11-23T09:12:49.672Z"
   },
   {
    "duration": 34960,
    "start_time": "2022-11-23T09:12:49.704Z"
   },
   {
    "duration": 126,
    "start_time": "2022-11-23T09:13:24.666Z"
   },
   {
    "duration": 210,
    "start_time": "2022-11-23T09:20:38.588Z"
   },
   {
    "duration": 1553,
    "start_time": "2022-11-23T09:21:11.188Z"
   },
   {
    "duration": 854,
    "start_time": "2022-11-23T09:21:12.743Z"
   },
   {
    "duration": 23,
    "start_time": "2022-11-23T09:21:13.599Z"
   },
   {
    "duration": 114,
    "start_time": "2022-11-23T09:21:13.624Z"
   },
   {
    "duration": 124,
    "start_time": "2022-11-23T09:21:13.739Z"
   },
   {
    "duration": 7,
    "start_time": "2022-11-23T09:21:13.865Z"
   },
   {
    "duration": 997,
    "start_time": "2022-11-23T09:21:13.873Z"
   },
   {
    "duration": 46,
    "start_time": "2022-11-23T09:21:14.872Z"
   },
   {
    "duration": 82,
    "start_time": "2022-11-23T09:21:14.920Z"
   },
   {
    "duration": 78,
    "start_time": "2022-11-23T09:21:15.005Z"
   },
   {
    "duration": 29,
    "start_time": "2022-11-23T09:21:15.085Z"
   },
   {
    "duration": 84729,
    "start_time": "2022-11-23T09:21:15.116Z"
   },
   {
    "duration": 71,
    "start_time": "2022-11-23T09:22:39.847Z"
   },
   {
    "duration": 24,
    "start_time": "2022-11-23T09:22:39.920Z"
   },
   {
    "duration": 37,
    "start_time": "2022-11-23T09:22:39.946Z"
   },
   {
    "duration": 36,
    "start_time": "2022-11-23T09:22:39.985Z"
   },
   {
    "duration": 81,
    "start_time": "2022-11-23T09:22:40.023Z"
   },
   {
    "duration": 66,
    "start_time": "2022-11-23T09:22:40.106Z"
   },
   {
    "duration": 18,
    "start_time": "2022-11-23T09:22:40.174Z"
   },
   {
    "duration": 408,
    "start_time": "2022-11-23T09:22:40.194Z"
   },
   {
    "duration": 10,
    "start_time": "2022-11-23T09:22:40.604Z"
   },
   {
    "duration": 83,
    "start_time": "2022-11-23T09:22:40.615Z"
   },
   {
    "duration": 17,
    "start_time": "2022-11-23T09:22:40.699Z"
   },
   {
    "duration": 470,
    "start_time": "2022-11-23T09:22:40.717Z"
   },
   {
    "duration": 53,
    "start_time": "2022-11-23T09:22:41.189Z"
   },
   {
    "duration": 54,
    "start_time": "2022-11-23T09:22:41.244Z"
   },
   {
    "duration": 6,
    "start_time": "2022-11-23T09:22:41.311Z"
   },
   {
    "duration": 25,
    "start_time": "2022-11-23T09:22:41.320Z"
   },
   {
    "duration": 352,
    "start_time": "2022-11-23T09:22:41.347Z"
   },
   {
    "duration": 293,
    "start_time": "2022-11-23T09:22:41.701Z"
   },
   {
    "duration": 26,
    "start_time": "2022-11-23T09:22:41.995Z"
   },
   {
    "duration": 40,
    "start_time": "2022-11-23T09:22:42.022Z"
   },
   {
    "duration": 17,
    "start_time": "2022-11-23T09:22:42.064Z"
   },
   {
    "duration": 11,
    "start_time": "2022-11-23T09:22:42.082Z"
   },
   {
    "duration": 102,
    "start_time": "2022-11-23T09:22:42.094Z"
   },
   {
    "duration": 100,
    "start_time": "2022-11-23T09:22:42.198Z"
   },
   {
    "duration": 34,
    "start_time": "2022-11-23T09:22:42.299Z"
   },
   {
    "duration": 96,
    "start_time": "2022-11-23T09:22:42.335Z"
   },
   {
    "duration": 226,
    "start_time": "2022-11-23T09:22:42.433Z"
   },
   {
    "duration": 16,
    "start_time": "2022-11-23T09:23:02.914Z"
   },
   {
    "duration": 18,
    "start_time": "2022-11-23T09:23:23.940Z"
   },
   {
    "duration": 229,
    "start_time": "2022-11-23T09:23:50.040Z"
   },
   {
    "duration": 4,
    "start_time": "2022-11-23T09:24:41.253Z"
   },
   {
    "duration": 161,
    "start_time": "2022-11-23T09:24:47.852Z"
   },
   {
    "duration": 1483,
    "start_time": "2022-11-23T09:28:46.242Z"
   },
   {
    "duration": 876,
    "start_time": "2022-11-23T09:28:47.727Z"
   },
   {
    "duration": 24,
    "start_time": "2022-11-23T09:28:48.604Z"
   },
   {
    "duration": 137,
    "start_time": "2022-11-23T09:28:48.630Z"
   },
   {
    "duration": 120,
    "start_time": "2022-11-23T09:28:48.769Z"
   },
   {
    "duration": 6,
    "start_time": "2022-11-23T09:28:48.891Z"
   },
   {
    "duration": 1072,
    "start_time": "2022-11-23T09:28:48.898Z"
   },
   {
    "duration": 50,
    "start_time": "2022-11-23T09:28:49.972Z"
   },
   {
    "duration": 81,
    "start_time": "2022-11-23T09:28:50.024Z"
   },
   {
    "duration": 86,
    "start_time": "2022-11-23T09:28:50.111Z"
   },
   {
    "duration": 28,
    "start_time": "2022-11-23T09:28:50.200Z"
   },
   {
    "duration": 85317,
    "start_time": "2022-11-23T09:28:50.230Z"
   },
   {
    "duration": 68,
    "start_time": "2022-11-23T09:30:15.549Z"
   },
   {
    "duration": 18,
    "start_time": "2022-11-23T09:30:15.618Z"
   },
   {
    "duration": 40,
    "start_time": "2022-11-23T09:30:15.638Z"
   },
   {
    "duration": 32,
    "start_time": "2022-11-23T09:30:15.680Z"
   },
   {
    "duration": 70,
    "start_time": "2022-11-23T09:30:15.714Z"
   },
   {
    "duration": 76,
    "start_time": "2022-11-23T09:30:15.786Z"
   },
   {
    "duration": 16,
    "start_time": "2022-11-23T09:30:15.864Z"
   },
   {
    "duration": 387,
    "start_time": "2022-11-23T09:30:15.881Z"
   },
   {
    "duration": 8,
    "start_time": "2022-11-23T09:30:16.270Z"
   },
   {
    "duration": 79,
    "start_time": "2022-11-23T09:30:16.279Z"
   },
   {
    "duration": 18,
    "start_time": "2022-11-23T09:30:16.359Z"
   },
   {
    "duration": 513,
    "start_time": "2022-11-23T09:30:16.379Z"
   },
   {
    "duration": 45,
    "start_time": "2022-11-23T09:30:16.894Z"
   },
   {
    "duration": 51,
    "start_time": "2022-11-23T09:30:16.941Z"
   },
   {
    "duration": 20,
    "start_time": "2022-11-23T09:30:16.994Z"
   },
   {
    "duration": 19,
    "start_time": "2022-11-23T09:30:17.017Z"
   },
   {
    "duration": 355,
    "start_time": "2022-11-23T09:30:17.038Z"
   },
   {
    "duration": 298,
    "start_time": "2022-11-23T09:30:17.395Z"
   },
   {
    "duration": 28,
    "start_time": "2022-11-23T09:30:17.695Z"
   },
   {
    "duration": 43,
    "start_time": "2022-11-23T09:30:17.725Z"
   },
   {
    "duration": 21,
    "start_time": "2022-11-23T09:30:17.769Z"
   },
   {
    "duration": 22,
    "start_time": "2022-11-23T09:30:17.792Z"
   },
   {
    "duration": 96,
    "start_time": "2022-11-23T09:30:17.816Z"
   },
   {
    "duration": 113,
    "start_time": "2022-11-23T09:30:17.914Z"
   },
   {
    "duration": 28,
    "start_time": "2022-11-23T09:30:18.029Z"
   },
   {
    "duration": 101,
    "start_time": "2022-11-23T09:30:18.058Z"
   },
   {
    "duration": 231,
    "start_time": "2022-11-23T09:30:18.161Z"
   },
   {
    "duration": 2,
    "start_time": "2022-11-23T09:30:18.394Z"
   },
   {
    "duration": 5123,
    "start_time": "2022-11-23T09:30:18.398Z"
   },
   {
    "duration": 599,
    "start_time": "2022-11-23T09:30:23.523Z"
   },
   {
    "duration": 157,
    "start_time": "2022-11-23T09:30:24.125Z"
   },
   {
    "duration": 0,
    "start_time": "2022-11-23T09:30:24.284Z"
   },
   {
    "duration": 12,
    "start_time": "2022-11-23T09:30:44.773Z"
   },
   {
    "duration": 12,
    "start_time": "2022-11-23T09:31:07.505Z"
   },
   {
    "duration": 10,
    "start_time": "2022-11-23T09:31:36.691Z"
   },
   {
    "duration": 111,
    "start_time": "2022-11-23T09:32:02.905Z"
   },
   {
    "duration": 360,
    "start_time": "2022-11-23T09:32:08.442Z"
   },
   {
    "duration": 346,
    "start_time": "2022-11-23T09:32:56.668Z"
   },
   {
    "duration": 6,
    "start_time": "2022-11-23T09:33:27.805Z"
   },
   {
    "duration": 27258,
    "start_time": "2022-11-23T09:33:29.447Z"
   },
   {
    "duration": 129,
    "start_time": "2022-11-23T09:33:56.707Z"
   },
   {
    "duration": 4,
    "start_time": "2022-11-23T09:33:56.838Z"
   },
   {
    "duration": 360,
    "start_time": "2022-11-23T09:33:56.844Z"
   },
   {
    "duration": 2,
    "start_time": "2022-11-23T09:36:48.232Z"
   },
   {
    "duration": 858,
    "start_time": "2022-11-23T09:36:48.468Z"
   },
   {
    "duration": 25,
    "start_time": "2022-11-23T09:36:49.328Z"
   },
   {
    "duration": 5,
    "start_time": "2022-11-23T09:36:49.355Z"
   },
   {
    "duration": 475,
    "start_time": "2022-11-23T09:36:49.362Z"
   },
   {
    "duration": 9,
    "start_time": "2022-11-23T09:37:02.943Z"
   },
   {
    "duration": 34091,
    "start_time": "2022-11-23T09:37:05.668Z"
   },
   {
    "duration": 127,
    "start_time": "2022-11-23T09:37:39.761Z"
   },
   {
    "duration": 1549,
    "start_time": "2022-11-23T10:11:04.203Z"
   },
   {
    "duration": 855,
    "start_time": "2022-11-23T10:11:05.754Z"
   },
   {
    "duration": 17,
    "start_time": "2022-11-23T10:11:06.610Z"
   },
   {
    "duration": 132,
    "start_time": "2022-11-23T10:11:06.630Z"
   },
   {
    "duration": 124,
    "start_time": "2022-11-23T10:11:06.764Z"
   },
   {
    "duration": 7,
    "start_time": "2022-11-23T10:11:06.890Z"
   },
   {
    "duration": 1049,
    "start_time": "2022-11-23T10:11:06.899Z"
   },
   {
    "duration": 43,
    "start_time": "2022-11-23T10:11:07.950Z"
   },
   {
    "duration": 91,
    "start_time": "2022-11-23T10:11:07.995Z"
   },
   {
    "duration": 83,
    "start_time": "2022-11-23T10:11:08.089Z"
   },
   {
    "duration": 21,
    "start_time": "2022-11-23T10:11:08.174Z"
   },
   {
    "duration": 84720,
    "start_time": "2022-11-23T10:11:08.211Z"
   },
   {
    "duration": 79,
    "start_time": "2022-11-23T10:12:32.933Z"
   },
   {
    "duration": 16,
    "start_time": "2022-11-23T10:12:33.013Z"
   },
   {
    "duration": 31,
    "start_time": "2022-11-23T10:12:33.030Z"
   },
   {
    "duration": 22,
    "start_time": "2022-11-23T10:12:33.062Z"
   },
   {
    "duration": 85,
    "start_time": "2022-11-23T10:12:33.086Z"
   },
   {
    "duration": 75,
    "start_time": "2022-11-23T10:12:33.173Z"
   },
   {
    "duration": 17,
    "start_time": "2022-11-23T10:12:33.249Z"
   },
   {
    "duration": 395,
    "start_time": "2022-11-23T10:12:33.268Z"
   },
   {
    "duration": 9,
    "start_time": "2022-11-23T10:12:33.665Z"
   },
   {
    "duration": 81,
    "start_time": "2022-11-23T10:12:33.675Z"
   },
   {
    "duration": 17,
    "start_time": "2022-11-23T10:12:33.758Z"
   },
   {
    "duration": 501,
    "start_time": "2022-11-23T10:12:33.776Z"
   },
   {
    "duration": 51,
    "start_time": "2022-11-23T10:12:34.279Z"
   },
   {
    "duration": 2,
    "start_time": "2022-11-23T10:12:34.332Z"
   },
   {
    "duration": 16,
    "start_time": "2022-11-23T10:12:34.336Z"
   },
   {
    "duration": 21,
    "start_time": "2022-11-23T10:12:34.356Z"
   },
   {
    "duration": 335,
    "start_time": "2022-11-23T10:12:34.379Z"
   },
   {
    "duration": 320,
    "start_time": "2022-11-23T10:12:34.716Z"
   },
   {
    "duration": 19,
    "start_time": "2022-11-23T10:12:35.038Z"
   },
   {
    "duration": 62,
    "start_time": "2022-11-23T10:12:35.058Z"
   },
   {
    "duration": 19,
    "start_time": "2022-11-23T10:12:35.121Z"
   },
   {
    "duration": 4,
    "start_time": "2022-11-23T10:12:35.142Z"
   },
   {
    "duration": 110,
    "start_time": "2022-11-23T10:12:35.147Z"
   },
   {
    "duration": 121,
    "start_time": "2022-11-23T10:12:35.259Z"
   },
   {
    "duration": 40,
    "start_time": "2022-11-23T10:12:35.382Z"
   },
   {
    "duration": 109,
    "start_time": "2022-11-23T10:12:35.424Z"
   },
   {
    "duration": 251,
    "start_time": "2022-11-23T10:12:35.534Z"
   },
   {
    "duration": 3,
    "start_time": "2022-11-23T10:12:35.787Z"
   },
   {
    "duration": 5323,
    "start_time": "2022-11-23T10:12:35.791Z"
   },
   {
    "duration": 505,
    "start_time": "2022-11-23T10:12:41.116Z"
   },
   {
    "duration": 377,
    "start_time": "2022-11-23T10:12:41.623Z"
   },
   {
    "duration": 12,
    "start_time": "2022-11-23T10:12:42.002Z"
   },
   {
    "duration": 29839,
    "start_time": "2022-11-23T10:12:42.016Z"
   },
   {
    "duration": 142,
    "start_time": "2022-11-23T10:13:11.857Z"
   },
   {
    "duration": 6,
    "start_time": "2022-11-23T10:13:12.001Z"
   },
   {
    "duration": 380,
    "start_time": "2022-11-23T10:13:12.012Z"
   },
   {
    "duration": 3,
    "start_time": "2022-11-23T10:13:12.394Z"
   },
   {
    "duration": 885,
    "start_time": "2022-11-23T10:13:12.398Z"
   },
   {
    "duration": 31,
    "start_time": "2022-11-23T10:13:13.285Z"
   },
   {
    "duration": 5,
    "start_time": "2022-11-23T10:13:13.318Z"
   },
   {
    "duration": 369,
    "start_time": "2022-11-23T10:13:13.324Z"
   },
   {
    "duration": 19,
    "start_time": "2022-11-23T10:13:13.695Z"
   },
   {
    "duration": 37193,
    "start_time": "2022-11-23T10:13:13.716Z"
   },
   {
    "duration": 148,
    "start_time": "2022-11-23T10:13:50.911Z"
   },
   {
    "duration": 1539,
    "start_time": "2022-11-23T21:10:10.663Z"
   },
   {
    "duration": 1273,
    "start_time": "2022-11-23T21:10:12.206Z"
   },
   {
    "duration": 20,
    "start_time": "2022-11-23T21:10:13.481Z"
   },
   {
    "duration": 144,
    "start_time": "2022-11-23T21:10:13.504Z"
   },
   {
    "duration": 116,
    "start_time": "2022-11-23T21:10:13.650Z"
   },
   {
    "duration": 6,
    "start_time": "2022-11-23T21:10:13.768Z"
   },
   {
    "duration": 978,
    "start_time": "2022-11-23T21:10:13.775Z"
   },
   {
    "duration": 38,
    "start_time": "2022-11-23T21:10:14.755Z"
   },
   {
    "duration": 81,
    "start_time": "2022-11-23T21:10:14.795Z"
   },
   {
    "duration": 118,
    "start_time": "2022-11-23T21:10:14.879Z"
   },
   {
    "duration": 26,
    "start_time": "2022-11-23T21:10:14.999Z"
   },
   {
    "duration": 95617,
    "start_time": "2022-11-23T21:10:15.036Z"
   },
   {
    "duration": 95,
    "start_time": "2022-11-23T21:11:50.656Z"
   },
   {
    "duration": 17,
    "start_time": "2022-11-23T21:11:50.753Z"
   },
   {
    "duration": 69,
    "start_time": "2022-11-23T21:11:50.773Z"
   },
   {
    "duration": 50,
    "start_time": "2022-11-23T21:11:50.843Z"
   },
   {
    "duration": 125,
    "start_time": "2022-11-23T21:11:50.894Z"
   },
   {
    "duration": 67,
    "start_time": "2022-11-23T21:11:51.021Z"
   },
   {
    "duration": 19,
    "start_time": "2022-11-23T21:11:51.090Z"
   },
   {
    "duration": 536,
    "start_time": "2022-11-23T21:11:51.111Z"
   },
   {
    "duration": 8,
    "start_time": "2022-11-23T21:11:51.649Z"
   },
   {
    "duration": 71,
    "start_time": "2022-11-23T21:11:51.659Z"
   },
   {
    "duration": 20,
    "start_time": "2022-11-23T21:11:51.731Z"
   },
   {
    "duration": 514,
    "start_time": "2022-11-23T21:11:51.753Z"
   },
   {
    "duration": 40,
    "start_time": "2022-11-23T21:11:52.269Z"
   },
   {
    "duration": 68,
    "start_time": "2022-11-23T21:11:52.310Z"
   },
   {
    "duration": 9,
    "start_time": "2022-11-23T21:11:52.380Z"
   },
   {
    "duration": 63,
    "start_time": "2022-11-23T21:11:52.395Z"
   },
   {
    "duration": 394,
    "start_time": "2022-11-23T21:11:52.461Z"
   },
   {
    "duration": 299,
    "start_time": "2022-11-23T21:11:52.857Z"
   },
   {
    "duration": 18,
    "start_time": "2022-11-23T21:11:53.158Z"
   },
   {
    "duration": 57,
    "start_time": "2022-11-23T21:11:53.178Z"
   },
   {
    "duration": 16,
    "start_time": "2022-11-23T21:11:53.237Z"
   },
   {
    "duration": 4,
    "start_time": "2022-11-23T21:11:53.255Z"
   },
   {
    "duration": 102,
    "start_time": "2022-11-23T21:11:53.261Z"
   },
   {
    "duration": 98,
    "start_time": "2022-11-23T21:11:53.364Z"
   },
   {
    "duration": 26,
    "start_time": "2022-11-23T21:11:53.464Z"
   },
   {
    "duration": 103,
    "start_time": "2022-11-23T21:11:53.493Z"
   },
   {
    "duration": 229,
    "start_time": "2022-11-23T21:11:53.598Z"
   },
   {
    "duration": 3,
    "start_time": "2022-11-23T21:11:53.828Z"
   },
   {
    "duration": 277013,
    "start_time": "2022-11-23T21:11:53.832Z"
   },
   {
    "duration": 505,
    "start_time": "2022-11-23T21:16:30.847Z"
   },
   {
    "duration": 386,
    "start_time": "2022-11-23T21:16:31.354Z"
   },
   {
    "duration": 6,
    "start_time": "2022-11-23T21:16:31.742Z"
   },
   {
    "duration": 28765,
    "start_time": "2022-11-23T21:16:31.750Z"
   },
   {
    "duration": 136,
    "start_time": "2022-11-23T21:17:00.517Z"
   },
   {
    "duration": 5,
    "start_time": "2022-11-23T21:17:00.655Z"
   },
   {
    "duration": 487,
    "start_time": "2022-11-23T21:17:00.662Z"
   },
   {
    "duration": 3,
    "start_time": "2022-11-23T21:17:01.151Z"
   },
   {
    "duration": 906,
    "start_time": "2022-11-23T21:17:01.156Z"
   },
   {
    "duration": 21,
    "start_time": "2022-11-23T21:17:02.064Z"
   },
   {
    "duration": 7,
    "start_time": "2022-11-23T21:17:02.087Z"
   },
   {
    "duration": 436,
    "start_time": "2022-11-23T21:17:02.096Z"
   },
   {
    "duration": 12,
    "start_time": "2022-11-23T21:17:02.536Z"
   },
   {
    "duration": 34883,
    "start_time": "2022-11-23T21:17:02.550Z"
   },
   {
    "duration": 135,
    "start_time": "2022-11-23T21:17:37.435Z"
   }
  ],
  "kernelspec": {
   "display_name": "Python 3 (ipykernel)",
   "language": "python",
   "name": "python3"
  },
  "language_info": {
   "codemirror_mode": {
    "name": "ipython",
    "version": 3
   },
   "file_extension": ".py",
   "mimetype": "text/x-python",
   "name": "python",
   "nbconvert_exporter": "python",
   "pygments_lexer": "ipython3",
   "version": "3.9.12"
  },
  "toc": {
   "base_numbering": 1,
   "nav_menu": {},
   "number_sections": true,
   "sideBar": true,
   "skip_h1_title": true,
   "title_cell": "Table of Contents",
   "title_sidebar": "Contents",
   "toc_cell": false,
   "toc_position": {
    "height": "calc(100% - 180px)",
    "left": "10px",
    "top": "150px",
    "width": "366.188px"
   },
   "toc_section_display": true,
   "toc_window_display": true
  }
 },
 "nbformat": 4,
 "nbformat_minor": 2
}
