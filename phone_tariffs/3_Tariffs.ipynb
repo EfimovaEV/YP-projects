{
 "cells": [
  {
   "cell_type": "markdown",
   "metadata": {},
   "source": [
    "# Рекомендация тарифов"
   ]
  },
  {
   "cell_type": "markdown",
   "metadata": {},
   "source": [
    "Клиентам предлагают два тарифных плана: «Смарт» и «Ультра». В нашем распоряжении данные о поведении клиентов, которые уже перешли на эти тарифы. Нужно построить модель для задачи классификации, которая выберет подходящий тариф.\n",
    "\n",
    "Каждый объект в наборе данных — это информация о поведении одного пользователя за месяц. Известно:\n",
    "- количество звонков,\n",
    "- суммарная длительность звонков в минутах,\n",
    "- количество sms-сообщений,\n",
    "- израсходованный интернет-трафик в Мб,\n",
    "- каким тарифом пользовался в течение месяца"
   ]
  },
  {
   "cell_type": "markdown",
   "metadata": {
    "toc": true
   },
   "source": [
    "<h1>Содержание<span class=\"tocSkip\"></span></h1>\n",
    "<div class=\"toc\"><ul class=\"toc-item\"><li><span><a href=\"#Откройте-и-изучите-файл\" data-toc-modified-id=\"Откройте-и-изучите-файл-1\"><span class=\"toc-item-num\">1&nbsp;&nbsp;</span>Откройте и изучите файл</a></span></li><li><span><a href=\"#Разбейте-данные-на-выборки\" data-toc-modified-id=\"Разбейте-данные-на-выборки-2\"><span class=\"toc-item-num\">2&nbsp;&nbsp;</span>Разбейте данные на выборки</a></span></li><li><span><a href=\"#Исследуйте-модели\" data-toc-modified-id=\"Исследуйте-модели-3\"><span class=\"toc-item-num\">3&nbsp;&nbsp;</span>Исследуйте модели</a></span><ul class=\"toc-item\"><li><span><a href=\"#Модель-решающего-дерева\" data-toc-modified-id=\"Модель-решающего-дерева-3.1\"><span class=\"toc-item-num\">3.1&nbsp;&nbsp;</span>Модель решающего дерева</a></span></li><li><span><a href=\"#Модель-случайного-леса\" data-toc-modified-id=\"Модель-случайного-леса-3.2\"><span class=\"toc-item-num\">3.2&nbsp;&nbsp;</span>Модель случайного леса</a></span></li><li><span><a href=\"#Модель-логистической-регрессии\" data-toc-modified-id=\"Модель-логистической-регрессии-3.3\"><span class=\"toc-item-num\">3.3&nbsp;&nbsp;</span>Модель логистической регрессии</a></span></li><li><span><a href=\"#Вывод\" data-toc-modified-id=\"Вывод-3.4\"><span class=\"toc-item-num\">3.4&nbsp;&nbsp;</span>Вывод</a></span></li></ul></li><li><span><a href=\"#Проверьте-модель-на-тестовой-выборке\" data-toc-modified-id=\"Проверьте-модель-на-тестовой-выборке-4\"><span class=\"toc-item-num\">4&nbsp;&nbsp;</span>Проверьте модель на тестовой выборке</a></span></li><li><span><a href=\"#Проверьте-модели-на-адекватность\" data-toc-modified-id=\"Проверьте-модели-на-адекватность-5\"><span class=\"toc-item-num\">5&nbsp;&nbsp;</span>Проверьте модели на адекватность</a></span><ul class=\"toc-item\"><li><span><a href=\"#Выводы\" data-toc-modified-id=\"Выводы-5.1\"><span class=\"toc-item-num\">5.1&nbsp;&nbsp;</span>Выводы</a></span></li></ul></li><li><span><a href=\"#Выводы\" data-toc-modified-id=\"Выводы-6\"><span class=\"toc-item-num\">6&nbsp;&nbsp;</span>Выводы</a></span></li></ul></div>"
   ]
  },
  {
   "cell_type": "markdown",
   "metadata": {},
   "source": [
    "## Откройте и изучите файл"
   ]
  },
  {
   "cell_type": "code",
   "execution_count": 1,
   "metadata": {},
   "outputs": [],
   "source": [
    "# <Импорт всех необходимых библиотек и функций>\n",
    "import pandas as pd\n",
    "import numpy as np\n",
    "import matplotlib.pyplot as plt\n",
    "import random\n",
    "\n",
    "from sklearn.model_selection import train_test_split\n",
    "\n",
    "from sklearn.tree import DecisionTreeClassifier\n",
    "from sklearn.ensemble import RandomForestClassifier\n",
    "from sklearn.linear_model import LogisticRegression\n",
    "\n",
    "from sklearn.model_selection import RandomizedSearchCV\n",
    "from sklearn.model_selection import GridSearchCV\n",
    "\n",
    "from sklearn.metrics import accuracy_score"
   ]
  },
  {
   "cell_type": "code",
   "execution_count": 2,
   "metadata": {
    "scrolled": true
   },
   "outputs": [
    {
     "data": {
      "text/html": [
       "<div>\n",
       "<style scoped>\n",
       "    .dataframe tbody tr th:only-of-type {\n",
       "        vertical-align: middle;\n",
       "    }\n",
       "\n",
       "    .dataframe tbody tr th {\n",
       "        vertical-align: top;\n",
       "    }\n",
       "\n",
       "    .dataframe thead th {\n",
       "        text-align: right;\n",
       "    }\n",
       "</style>\n",
       "<table border=\"1\" class=\"dataframe\">\n",
       "  <thead>\n",
       "    <tr style=\"text-align: right;\">\n",
       "      <th></th>\n",
       "      <th>calls</th>\n",
       "      <th>minutes</th>\n",
       "      <th>messages</th>\n",
       "      <th>mb_used</th>\n",
       "      <th>is_ultra</th>\n",
       "    </tr>\n",
       "  </thead>\n",
       "  <tbody>\n",
       "    <tr>\n",
       "      <th>0</th>\n",
       "      <td>40.0</td>\n",
       "      <td>311.90</td>\n",
       "      <td>83.0</td>\n",
       "      <td>19915.42</td>\n",
       "      <td>0</td>\n",
       "    </tr>\n",
       "    <tr>\n",
       "      <th>1</th>\n",
       "      <td>85.0</td>\n",
       "      <td>516.75</td>\n",
       "      <td>56.0</td>\n",
       "      <td>22696.96</td>\n",
       "      <td>0</td>\n",
       "    </tr>\n",
       "    <tr>\n",
       "      <th>2</th>\n",
       "      <td>77.0</td>\n",
       "      <td>467.66</td>\n",
       "      <td>86.0</td>\n",
       "      <td>21060.45</td>\n",
       "      <td>0</td>\n",
       "    </tr>\n",
       "    <tr>\n",
       "      <th>3</th>\n",
       "      <td>106.0</td>\n",
       "      <td>745.53</td>\n",
       "      <td>81.0</td>\n",
       "      <td>8437.39</td>\n",
       "      <td>1</td>\n",
       "    </tr>\n",
       "    <tr>\n",
       "      <th>4</th>\n",
       "      <td>66.0</td>\n",
       "      <td>418.74</td>\n",
       "      <td>1.0</td>\n",
       "      <td>14502.75</td>\n",
       "      <td>0</td>\n",
       "    </tr>\n",
       "  </tbody>\n",
       "</table>\n",
       "</div>"
      ],
      "text/plain": [
       "   calls  minutes  messages   mb_used  is_ultra\n",
       "0   40.0   311.90      83.0  19915.42         0\n",
       "1   85.0   516.75      56.0  22696.96         0\n",
       "2   77.0   467.66      86.0  21060.45         0\n",
       "3  106.0   745.53      81.0   8437.39         1\n",
       "4   66.0   418.74       1.0  14502.75         0"
      ]
     },
     "execution_count": 2,
     "metadata": {},
     "output_type": "execute_result"
    }
   ],
   "source": [
    "df = pd.read_csv('datasets/users_behavior.csv')\n",
    "df.head()"
   ]
  },
  {
   "cell_type": "markdown",
   "metadata": {},
   "source": [
    "- `сalls` — количество звонков,\n",
    "- `minutes` — суммарная длительность звонков в минутах,\n",
    "- `messages` — количество sms-сообщений,\n",
    "- `mb_used` — израсходованный интернет-трафик в Мб,\n",
    "- `is_ultra` — каким тарифом пользовался в течение месяца («Ультра» — 1, «Смарт» — 0)."
   ]
  },
  {
   "cell_type": "code",
   "execution_count": 3,
   "metadata": {},
   "outputs": [
    {
     "name": "stdout",
     "output_type": "stream",
     "text": [
      "<class 'pandas.core.frame.DataFrame'>\n",
      "RangeIndex: 3214 entries, 0 to 3213\n",
      "Data columns (total 5 columns):\n",
      " #   Column    Non-Null Count  Dtype  \n",
      "---  ------    --------------  -----  \n",
      " 0   calls     3214 non-null   float64\n",
      " 1   minutes   3214 non-null   float64\n",
      " 2   messages  3214 non-null   float64\n",
      " 3   mb_used   3214 non-null   float64\n",
      " 4   is_ultra  3214 non-null   int64  \n",
      "dtypes: float64(4), int64(1)\n",
      "memory usage: 125.7 KB\n"
     ]
    }
   ],
   "source": [
    "df.info()"
   ]
  },
  {
   "cell_type": "markdown",
   "metadata": {},
   "source": [
    "Предобработка данных не требуется."
   ]
  },
  {
   "cell_type": "markdown",
   "metadata": {},
   "source": [
    "<a id='sec_2'></a>\n",
    "## Разбейте данные на выборки"
   ]
  },
  {
   "cell_type": "markdown",
   "metadata": {},
   "source": [
    "Тестовая выборка отсутствует, значит, имеющиеся данные нужно разбить на три выборки: обучающую, валидационную и тестовую. Размеры тестового и валидационного наборов обычно равны. Исходные данные разобьем в соотношении 3:1:1."
   ]
  },
  {
   "cell_type": "code",
   "execution_count": 4,
   "metadata": {},
   "outputs": [
    {
     "name": "stdout",
     "output_type": "stream",
     "text": [
      "Обучающая выборка: 1929 строк\n",
      "Валидационная выборка: 642 строки\n",
      "Тестовая выборка: 643 строки\n"
     ]
    }
   ],
   "source": [
    "features = df.drop('is_ultra', axis=1)\n",
    "target = df['is_ultra']\n",
    "\n",
    "# отделяем обучающую выборку - 60% всех данных\n",
    "features, features_train, target, target_train = \\\n",
    "    train_test_split(features, target, test_size=.6, random_state=12345)\n",
    "\n",
    "# делим оставшиеся данные на равные валидационную и тестовую выборки\n",
    "features_valid, features_test, target_valid, target_test = \\\n",
    "    train_test_split(features, target, test_size=.5, random_state=12345)\n",
    "\n",
    "print('Обучающая выборка:', features_train.shape[0], 'строк')\n",
    "print('Валидационная выборка:', features_valid.shape[0], 'строки')\n",
    "print('Тестовая выборка:', features_test.shape[0], 'строки')"
   ]
  },
  {
   "cell_type": "markdown",
   "metadata": {},
   "source": [
    "<a id='sec_3'></a>\n",
    "## Исследуйте модели"
   ]
  },
  {
   "cell_type": "markdown",
   "metadata": {},
   "source": [
    "В качестве возможных моделей рассмотрим модель решающего дерева, случайного леса и логистической регрессии."
   ]
  },
  {
   "cell_type": "markdown",
   "metadata": {},
   "source": [
    "<a id='tree'></a>\n",
    "### Модель решающего дерева"
   ]
  },
  {
   "cell_type": "markdown",
   "metadata": {},
   "source": [
    "Для начала рассмотрим модель по умолчанию: не будем регулировать гиперпараметры и позволим алгоритму самому решать."
   ]
  },
  {
   "cell_type": "code",
   "execution_count": 5,
   "metadata": {},
   "outputs": [
    {
     "name": "stdout",
     "output_type": "stream",
     "text": [
      "Глубина полученного дерева: 27\n"
     ]
    }
   ],
   "source": [
    "tree_model = DecisionTreeClassifier(random_state=1)\n",
    "tree_model.fit(features_train, target_train)\n",
    "\n",
    "print('Глубина полученного дерева:', tree_model.get_depth())"
   ]
  },
  {
   "cell_type": "markdown",
   "metadata": {},
   "source": [
    "Глубина полученного дерева довольно высока. Посчитаем долю правильных ответов для валидационной и обучающей выборок:"
   ]
  },
  {
   "cell_type": "code",
   "execution_count": 6,
   "metadata": {
    "scrolled": true
   },
   "outputs": [
    {
     "name": "stdout",
     "output_type": "stream",
     "text": [
      "Accuracy на валидационной выборке: 0.7196\n",
      "Accuracy на обучающей выборке: 1.0\n"
     ]
    }
   ],
   "source": [
    "predictions_valid = tree_model.predict(features_valid)\n",
    "tree_accuracy = accuracy_score(target_valid, predictions_valid)\n",
    "\n",
    "print('Accuracy на валидационной выборке:', tree_accuracy.round(4))\n",
    "print('Accuracy на обучающей выборке:', accuracy_score(target_train, tree_model.predict(features_train)))"
   ]
  },
  {
   "cell_type": "markdown",
   "metadata": {},
   "source": [
    "Accuracy на валидационной выборке меньше требуемых 75%. Модель явно переобучена: угадывает все ответы обучающей выборки. Необходимо откорректировать модель через гиперпараметры. Наиболее понятным для настройки является параметр максимальной глубины дерева. Сократим дерево и определим такую глубину, при которой доля ответов будет наибольшей: "
   ]
  },
  {
   "cell_type": "code",
   "execution_count": 7,
   "metadata": {},
   "outputs": [],
   "source": [
    "tree_model = None\n",
    "tree_accuracy = 0\n",
    "tree_max_depth = 0\n",
    "accuracy_train_list = []\n",
    "accuracy_valid_list = []\n",
    "\n",
    "for depth in range(2,15):\n",
    "    model = DecisionTreeClassifier(max_depth=depth, random_state=1)\n",
    "    model.fit(features_train, target_train)\n",
    "    predictions_valid = model.predict(features_valid)\n",
    "    accuracy = accuracy_score(target_valid, predictions_valid)\n",
    "    accuracy_valid_list.append(accuracy)\n",
    "    accuracy_train_list.append(accuracy_score(target_train, model.predict(features_train)))\n",
    "    if accuracy > tree_accuracy:\n",
    "        tree_model, tree_accuracy, tree_max_depth = model, accuracy, depth"
   ]
  },
  {
   "cell_type": "code",
   "execution_count": 8,
   "metadata": {
    "scrolled": true
   },
   "outputs": [
    {
     "data": {
      "image/png": "[encoded data removed]",
      "text/plain": [
       "<Figure size 432x288 with 1 Axes>"
      ]
     },
     "metadata": {
      "needs_background": "light"
     },
     "output_type": "display_data"
    }
   ],
   "source": [
    "fig, ax = plt.subplots()\n",
    "plt.plot(range(2,15), accuracy_train_list, axes=ax, label='train')\n",
    "plt.plot(range(2,15), accuracy_valid_list, axes=ax, label='valid')\n",
    "plt.grid()\n",
    "ax.legend()\n",
    "None"
   ]
  },
  {
   "cell_type": "code",
   "execution_count": 9,
   "metadata": {
    "scrolled": true
   },
   "outputs": [
    {
     "name": "stdout",
     "output_type": "stream",
     "text": [
      "Глубина дерева решений: 4\n",
      "Accuracy = 0.7788\n"
     ]
    }
   ],
   "source": [
    "print('Глубина дерева решений:', tree_max_depth)\n",
    "print('Accuracy =', tree_accuracy.round(4))"
   ]
  },
  {
   "cell_type": "markdown",
   "metadata": {},
   "source": [
    "Доля правильных ответов на валидационной выборке возросла и стала больше требуемых 75%. Оценим accuracy на обучающей выборке:"
   ]
  },
  {
   "cell_type": "code",
   "execution_count": 10,
   "metadata": {},
   "outputs": [
    {
     "data": {
      "text/plain": [
       "0.8123"
      ]
     },
     "execution_count": 10,
     "metadata": {},
     "output_type": "execute_result"
    }
   ],
   "source": [
    "accuracy_score(target_train, tree_model.predict(features_train)).round(4)"
   ]
  },
  {
   "cell_type": "markdown",
   "metadata": {},
   "source": [
    "Регулировкой одного параметра удалось улучшить качество модели: увеличить точность и уменьшить переобученность."
   ]
  },
  {
   "cell_type": "code",
   "execution_count": 11,
   "metadata": {},
   "outputs": [],
   "source": [
    "# сохраним значения в словаре для будущего сравнения\n",
    "accuracy_dict = {}\n",
    "accuracy_dict['Дерево решений'] = [accuracy_score(target_train, tree_model.predict(features_train)), tree_accuracy]"
   ]
  },
  {
   "cell_type": "markdown",
   "metadata": {},
   "source": [
    "<a id='forest'></a>\n",
    "### Модель случайного леса"
   ]
  },
  {
   "cell_type": "markdown",
   "metadata": {},
   "source": [
    "Модель случайного леса представляет собой набор деревьев решений. Для пробного раза позволим алгоритму обучиться в вольном стиле, используя все параметры по умолчанию:"
   ]
  },
  {
   "cell_type": "code",
   "execution_count": 12,
   "metadata": {},
   "outputs": [
    {
     "name": "stdout",
     "output_type": "stream",
     "text": [
      "Accuracy на валидационной выборке: 0.7913\n",
      "Accuracy на обучающей выборке: 1.0\n"
     ]
    }
   ],
   "source": [
    "forest_model = RandomForestClassifier(random_state=1)\n",
    "\n",
    "forest_model.fit(features_train, target_train)\n",
    "predictions_valid = forest_model.predict(features_valid)\n",
    "forest_accuracy = accuracy_score(target_valid, predictions_valid)\n",
    "\n",
    "print('Accuracy на валидационной выборке:', forest_accuracy.round(4))\n",
    "print('Accuracy на обучающей выборке:', accuracy_score(target_train, forest_model.predict(features_train)).round(4))"
   ]
  },
  {
   "cell_type": "markdown",
   "metadata": {},
   "source": [
    "Хоть accuracy на валидационной выборке больше требуемых 75%, модель переобучена, поэтому необходимо провести дополнительную настройку. Ключевыми гиперпараметрами случайного леса являются максимальная глубина отдельного дерева  и количество деревьев. Перебором определим сочетание параметров, при котором точность предсказаний на валидационной выборке наибольшая:"
   ]
  },
  {
   "cell_type": "code",
   "execution_count": 13,
   "metadata": {
    "scrolled": true
   },
   "outputs": [
    {
     "name": "stdout",
     "output_type": "stream",
     "text": [
      "max_depth = 12\n",
      "n_est = 25\n",
      "Accuracy на валидационной выборке: 0.8037\n",
      "Accuracy на обучающей выборке: 0.9129\n"
     ]
    }
   ],
   "source": [
    "forest_model = None\n",
    "forest_accuracy = 0\n",
    "forest_max_depth = 0\n",
    "\n",
    "for depth in range(1,20):\n",
    "    for n_est in range(2, 50):\n",
    "        model = RandomForestClassifier(max_depth=depth, n_estimators=n_est, random_state=1)\n",
    "        model.fit(features_train, target_train)\n",
    "        predictions_valid = model.predict(features_valid)\n",
    "        accuracy = accuracy_score(target_valid, predictions_valid)\n",
    "        if accuracy > forest_accuracy:\n",
    "            forest_model, forest_accuracy, forest_max_depth, forest_n_est = model, accuracy, depth, n_est\n",
    "\n",
    "print('max_depth =', forest_max_depth)\n",
    "print('n_est =', forest_n_est)\n",
    "\n",
    "print('Accuracy на валидационной выборке:', forest_accuracy.round(4))\n",
    "print('Accuracy на обучающей выборке:', accuracy_score(target_train, forest_model.predict(features_train)).round(4))\n",
    "\n",
    "accuracy_dict['Случайный лес'] = [accuracy_score(target_train, forest_model.predict(features_train)), forest_accuracy]"
   ]
  },
  {
   "cell_type": "markdown",
   "metadata": {},
   "source": [
    "<a id='forest_rs'></a>\n",
    "Поиск оптимальных гиперпараметров перебором весьма ресурсоемкий даже для двух величин. В качестве альтернативы существует метод случайного поиска по гиперпараметрам. Хотя при таком поиске производится перебор не по всем возможным комбинациям, такой подход позволяет рассмотреть больше гиперпараметров для поиска оптимального сочетания. Рассмотрим следующие параметры:\n",
    "\n",
    "- `n_estimators` - количество деревьев\n",
    "- `max_depth` - наибольшая глубина дерева\n",
    "- `min_samples_split` -  минимальное число объектов, необходимое для того, чтобы узел дерева мог бы расщепиться\n",
    "- `min_samples_leaf` - минимальное число объектов в листьях."
   ]
  },
  {
   "cell_type": "code",
   "execution_count": 14,
   "metadata": {
    "scrolled": true
   },
   "outputs": [],
   "source": [
    "param_distr = {\n",
    "    'n_estimators': list(range(2,100, 2)),\n",
    "    'max_depth': [None] + list(range(2,20)),\n",
    "    'min_samples_split': list(range(2,11)),\n",
    "    'min_samples_leaf': list(range(1,11))  \n",
    "}\n",
    "\n",
    "# <случайный лес к которому будем подбирать параметры>\n",
    "forest_model_search = RandomForestClassifier(random_state=1)\n",
    "\n",
    "# <модель>\n",
    "forest_model_search = RandomizedSearchCV(forest_model_search, param_distr, random_state=1)\n",
    "\n",
    "# <обучаем модель> \n",
    "forest_model_search.fit(features_train, target_train)\n",
    "None"
   ]
  },
  {
   "cell_type": "code",
   "execution_count": 15,
   "metadata": {
    "scrolled": false
   },
   "outputs": [
    {
     "data": {
      "text/plain": [
       "{'n_estimators': 88,\n",
       " 'min_samples_split': 3,\n",
       " 'min_samples_leaf': 7,\n",
       " 'max_depth': 18}"
      ]
     },
     "execution_count": 15,
     "metadata": {},
     "output_type": "execute_result"
    }
   ],
   "source": [
    "forest_model_search.best_params_"
   ]
  },
  {
   "cell_type": "code",
   "execution_count": 16,
   "metadata": {},
   "outputs": [
    {
     "name": "stdout",
     "output_type": "stream",
     "text": [
      "Accuracy на валидационной выборке: 0.8037\n",
      "Accuracy на обучающей выборке: 0.9129\n"
     ]
    }
   ],
   "source": [
    "accuracy_dict['Случайный лес(RandomizedSearch)'] = [accuracy_score(target_train, forest_model_search.predict(features_train)), \n",
    "                                  accuracy_score(target_valid, forest_model_search.predict(features_valid))]\n",
    "\n",
    "print('Accuracy на валидационной выборке:', accuracy_dict['Случайный лес'][1].round(4))\n",
    "print('Accuracy на обучающей выборке:', accuracy_dict['Случайный лес'][0].round(4))"
   ]
  },
  {
   "cell_type": "markdown",
   "metadata": {},
   "source": [
    "Точность на валидационной выборке меньше, чем  ранее, но разница между точностью на обучающей и валидационной выборках заметно уменьшилась. Проверим обе модели на тестовой выборке."
   ]
  },
  {
   "cell_type": "markdown",
   "metadata": {},
   "source": [
    "<a id='lr'></a>\n",
    "### Модель логистической регрессии"
   ]
  },
  {
   "cell_type": "markdown",
   "metadata": {},
   "source": [
    "Модель логистической регресии не использует дерево решений. Алгоритм создает линейное выражение, в котором при обучении подбирает коэффициенты при каждом независимом входном параметре - коэффициенты регрессии. Принципиально иной алгоритм может лучше подходить для описания данных."
   ]
  },
  {
   "cell_type": "code",
   "execution_count": 17,
   "metadata": {},
   "outputs": [],
   "source": [
    "lr_model = LogisticRegression(random_state=1, solver='liblinear', penalty='l1', C=2)\n",
    "\n",
    "lr_model.fit(features_train, target_train)\n",
    "predictions_valid = lr_model.predict(features_valid)\n",
    "lr_accuracy = accuracy_score(target_valid, predictions_valid)"
   ]
  },
  {
   "cell_type": "code",
   "execution_count": 18,
   "metadata": {},
   "outputs": [
    {
     "name": "stdout",
     "output_type": "stream",
     "text": [
      "Accuracy на валидационной выборке: 0.729\n",
      "Accuracy на обучающей выборке: 0.7512\n"
     ]
    }
   ],
   "source": [
    "accuracy_dict['Логистическая регрессия'] = [accuracy_score(target_train, lr_model.predict(features_train)), \n",
    "                                  accuracy_score(target_valid, lr_model.predict(features_valid))]\n",
    "\n",
    "print('Accuracy на валидационной выборке:', accuracy_score(target_valid, lr_model.predict(features_valid)).round(4))\n",
    "print('Accuracy на обучающей выборке:', accuracy_score(target_train, lr_model.predict(features_train)).round(4))"
   ]
  },
  {
   "attachments": {},
   "cell_type": "markdown",
   "metadata": {},
   "source": [
    "Модель имеет мало возможностей для улучшения. 73% - наибольшее значение точности, которое удалось получить. "
   ]
  },
  {
   "cell_type": "markdown",
   "metadata": {},
   "source": [
    "<a id='summary_research'></a>\n",
    "### Вывод"
   ]
  },
  {
   "cell_type": "markdown",
   "metadata": {},
   "source": [
    "На данном этапе были выбраны несколько моделей, для которых на основе обучаещей и валидационной выборок были определены некоторые гиперпараметры, чтобы улучшить качество предсказаний. Ниже представлена таблица со значениями accuracy для каждой модели:"
   ]
  },
  {
   "cell_type": "code",
   "execution_count": 19,
   "metadata": {},
   "outputs": [
    {
     "data": {
      "text/html": [
       "<div>\n",
       "<style scoped>\n",
       "    .dataframe tbody tr th:only-of-type {\n",
       "        vertical-align: middle;\n",
       "    }\n",
       "\n",
       "    .dataframe tbody tr th {\n",
       "        vertical-align: top;\n",
       "    }\n",
       "\n",
       "    .dataframe thead th {\n",
       "        text-align: right;\n",
       "    }\n",
       "</style>\n",
       "<table border=\"1\" class=\"dataframe\">\n",
       "  <thead>\n",
       "    <tr style=\"text-align: right;\">\n",
       "      <th></th>\n",
       "      <th>Обучающая выборка</th>\n",
       "      <th>Валидационная выборка</th>\n",
       "    </tr>\n",
       "  </thead>\n",
       "  <tbody>\n",
       "    <tr>\n",
       "      <th>Дерево решений</th>\n",
       "      <td>0.812</td>\n",
       "      <td>0.779</td>\n",
       "    </tr>\n",
       "    <tr>\n",
       "      <th>Случайный лес</th>\n",
       "      <td>0.913</td>\n",
       "      <td>0.804</td>\n",
       "    </tr>\n",
       "    <tr>\n",
       "      <th>Случайный лес(RandomizedSearch)</th>\n",
       "      <td>0.855</td>\n",
       "      <td>0.794</td>\n",
       "    </tr>\n",
       "    <tr>\n",
       "      <th>Логистическая регрессия</th>\n",
       "      <td>0.751</td>\n",
       "      <td>0.729</td>\n",
       "    </tr>\n",
       "  </tbody>\n",
       "</table>\n",
       "</div>"
      ],
      "text/plain": [
       "                                 Обучающая выборка  Валидационная выборка\n",
       "Дерево решений                               0.812                  0.779\n",
       "Случайный лес                                0.913                  0.804\n",
       "Случайный лес(RandomizedSearch)              0.855                  0.794\n",
       "Логистическая регрессия                      0.751                  0.729"
      ]
     },
     "execution_count": 19,
     "metadata": {},
     "output_type": "execute_result"
    }
   ],
   "source": [
    "pd.options.display.float_format = '{:,.3f}'.format #dataframe output formatting\n",
    "\n",
    "pd.DataFrame(accuracy_dict.values(), index=accuracy_dict.keys(),\n",
    "             columns=['Обучающая выборка','Валидационная выборка'])"
   ]
  },
  {
   "cell_type": "markdown",
   "metadata": {},
   "source": [
    "Минимальное требуемое значение accuracy - 75%. Модель логистической регрессии не удовлетворяет этому требованию на валидационной выборке, поэтому необходимо ее исключить."
   ]
  },
  {
   "cell_type": "markdown",
   "metadata": {},
   "source": [
    "В качестве рабочей модели для проверки на тестовой выборке оставляем модель случайного леса с 4 заданными гиперпараметрами:\n",
    "    \n",
    "- `n_estimators` = 88\n",
    "- `min_samples_split` = 3\n",
    "- `min_samples_leaf` = 7\n",
    "- `max_depth` = 18"
   ]
  },
  {
   "cell_type": "markdown",
   "metadata": {},
   "source": [
    "<a id='sec_4'></a>\n",
    "## Проверьте модель на тестовой выборке"
   ]
  },
  {
   "cell_type": "code",
   "execution_count": 20,
   "metadata": {},
   "outputs": [
    {
     "data": {
      "text/plain": [
       "0.82"
      ]
     },
     "execution_count": 20,
     "metadata": {},
     "output_type": "execute_result"
    }
   ],
   "source": [
    "predictions = forest_model_search.predict(features_test)\n",
    "accuracy_score(target_test, predictions).round(2)"
   ]
  },
  {
   "cell_type": "markdown",
   "metadata": {},
   "source": [
    "Выбранная модель удовлетворяет требованиям."
   ]
  },
  {
   "cell_type": "markdown",
   "metadata": {},
   "source": [
    "<a id='sec_5'></a>\n",
    "## Проверьте модели на адекватность"
   ]
  },
  {
   "cell_type": "markdown",
   "metadata": {},
   "source": [
    "Сравним рабочую модель с  \"бросанием монетки\" - тариф рекомендуется случайным образом:"
   ]
  },
  {
   "cell_type": "code",
   "execution_count": 21,
   "metadata": {},
   "outputs": [
    {
     "name": "stdout",
     "output_type": "stream",
     "text": [
      "accuracy = 0.5023\n"
     ]
    }
   ],
   "source": [
    "random_predictions = np.random.choice(np.arange(2), size=len(target_test))\n",
    "\n",
    "accuracy_random = accuracy_score(target_test, random_predictions)\n",
    "\n",
    "print('accuracy =', accuracy_random.round(4))"
   ]
  },
  {
   "cell_type": "markdown",
   "metadata": {},
   "source": [
    "Модель бросания монетки можно усовершенствовать. В исходных данных абонентов с тарифом \"Ультра\" меньше, чем с тарифом \"Смарт\": "
   ]
  },
  {
   "cell_type": "code",
   "execution_count": 22,
   "metadata": {},
   "outputs": [
    {
     "data": {
      "text/plain": [
       "0.33"
      ]
     },
     "execution_count": 22,
     "metadata": {},
     "output_type": "execute_result"
    }
   ],
   "source": [
    "p_ultra = target_test.sum()/len(target_test)\n",
    "p_ultra.round(2)"
   ]
  },
  {
   "cell_type": "markdown",
   "metadata": {},
   "source": [
    "Учтем этот факт при распределении вероятности:"
   ]
  },
  {
   "cell_type": "code",
   "execution_count": 23,
   "metadata": {},
   "outputs": [
    {
     "name": "stdout",
     "output_type": "stream",
     "text": [
      "accuracy = 0.57\n"
     ]
    }
   ],
   "source": [
    "random_predictions = np.random.choice(np.arange(2), p=[1-p_ultra, p_ultra], size=len(target_test))\n",
    "\n",
    "accuracy_random = accuracy_score(target_test, random_predictions)\n",
    "\n",
    "print('accuracy =', accuracy_random.round(2))"
   ]
  },
  {
   "cell_type": "markdown",
   "metadata": {},
   "source": [
    "Точность новой \"монетки\" уже выше, чем ранее, но все же она сильно ниже, чем у рабочей модели.\n",
    "\n",
    "Если предлагать всем по умолчанию тариф \"Смарт\", то точность окажется 1 - 0.3266 = 0.6734, но этот показатель все еще ощутимо ниже, чем при расчетах рабочей модели."
   ]
  },
  {
   "cell_type": "markdown",
   "metadata": {},
   "source": [
    "Посмотрим, отражают ли предсказания модели действительность. Например, модель может предвзято выбирать тариф \"Смарт\", так как он чаще встречается. Можно узнать долю абонентов \"Ультра\" в предсказаниях по тестовой выборке:"
   ]
  },
  {
   "cell_type": "code",
   "execution_count": 24,
   "metadata": {},
   "outputs": [
    {
     "data": {
      "text/plain": [
       "0.23"
      ]
     },
     "execution_count": 24,
     "metadata": {},
     "output_type": "execute_result"
    }
   ],
   "source": [
    "(predictions.sum()/len(predictions)).round(2)"
   ]
  },
  {
   "cell_type": "markdown",
   "metadata": {},
   "source": [
    "Проведем еще один эксперимент. Передадим рабочей модели тестовые данные только от абонетов с тарифом \"Смарт\":"
   ]
  },
  {
   "cell_type": "code",
   "execution_count": 25,
   "metadata": {},
   "outputs": [
    {
     "data": {
      "text/plain": [
       "0.93"
      ]
     },
     "execution_count": 25,
     "metadata": {},
     "output_type": "execute_result"
    }
   ],
   "source": [
    "features_smart = features_test[target_test == 0]\n",
    "target_smart = target_test[target_test == 0]\n",
    "accuracy_score(target_smart, forest_model_search.predict(features_smart)).round(2)"
   ]
  },
  {
   "cell_type": "markdown",
   "metadata": {},
   "source": [
    "Аналогично с тарифом \"Ультра\":"
   ]
  },
  {
   "cell_type": "code",
   "execution_count": 26,
   "metadata": {},
   "outputs": [
    {
     "data": {
      "text/plain": [
       "0.58"
      ]
     },
     "execution_count": 26,
     "metadata": {},
     "output_type": "execute_result"
    }
   ],
   "source": [
    "features_ultra = features_test[target_test == 1]\n",
    "target_ultra = target_test[target_test == 1]\n",
    "accuracy_score(target_ultra, forest_model_search.predict(features_ultra)).round(2)"
   ]
  },
  {
   "cell_type": "markdown",
   "metadata": {},
   "source": [
    "Модель действительно чаще выбирает тариф \"Смарт\": и доля \"Ультра\" в предсказаниях ниже, чем в реальности, и accuracy для данных тарифа \"Смарт\" более 90%, в то время как для \"Ультра\" правильных ответов чуть больше половины."
   ]
  },
  {
   "cell_type": "markdown",
   "metadata": {},
   "source": [
    "<a id='summary_5'></a>\n",
    "### Выводы"
   ]
  },
  {
   "cell_type": "markdown",
   "metadata": {},
   "source": [
    "На данном этапе проведен анализ адекватности модели. Точность предсказаний сравнена с точностью при со случайном выборе тарифа и при выборе по умолчанию. Рабочая модель демонстрирует более высокое качество, что говорит в пользу ее адекватности. \n",
    "\n",
    "Дополнительно были рассмотрены особенности точности предсказаний в зависимости от входных данных: рассмотрены отдельно предсказания для тарифов \"Смарт\" и \"Ультра\". Модель показывает смещение в сторону тарифа \"Смарт\": и доля \"Ультра\" в предсказаниях ниже, чем в реальности, и accuracy для данных тарифа \"Смарт\" более 90%, в то время как для \"Ультра\" правильных ответов чуть больше половины. \n",
    "\n",
    "Однако не стоит признавать модель некорректной. На мой взгляд, причина может быть в особенностях данных. Во-первых, 1 месяц активности не является репрезентативным. Пользователь мог отклонится от своих обычных показателей: в отпуске можно тратить меньше минут из-за отсутствия рабочих звонков или, наоборот, потребуется совершить больше звонков в командировке. Во-вторых, стоит учесть человеческий фактор. Абонент при выборе тарифа мог ошибиться и выбрать не самый выгодный для себя тариф. В целом, конечно, необходимо более подробно изучить эту особенность."
   ]
  },
  {
   "cell_type": "markdown",
   "metadata": {},
   "source": [
    "<a id='summary'></a>\n",
    "## Выводы"
   ]
  },
  {
   "cell_type": "markdown",
   "metadata": {},
   "source": [
    "В нашем распоряжении были данные о поведении клиентов, которые уже перешли на исследуемые тарифы \"Смарт\" и \"Ультра\". Необходимо было построить модель для задачи классификации. Основным требованием было значение accuracy на тестовой выборке не менее 75%.\n",
    "\n",
    "Данные были разделены на три выборки: обучающую, валидационную и тестовую. В качестве возможных моделей рассмотрены модели решающего дерева, случайного леса и логистической регрессии. Для каждой из них на основе обучаещей и валидационной выборок были определены некоторые гиперпараметры, чтобы улучшить качество предсказаний.\n",
    "\n",
    "В качестве рабочей модели принята модели случайного леса с 4 заданными параметрами. На тестовой выборке точность составила 82%. \n",
    "А\n",
    "декватность модели оценена путем сравнения точности предсказаний рабочей модели, модели случайного выбора тарифа и выбора по умолчанию. Рабочая модель демонстрирует большую долю правильных ответов.\n",
    "\n",
    "Дополнительно были рассмотрены особенности точности предсказаний в зависимости от входных данных. Модель \"предпочитает\" выбирать тариф \"Смарт\": почти половине абонентов \"Ультра\" рекомендуется \"Смарт\", и в целом доля рекомендаций тарифа \"Ультра\" ниже."
   ]
  },
  {
   "cell_type": "code",
   "execution_count": null,
   "metadata": {},
   "outputs": [],
   "source": []
  }
 ],
 "metadata": {
  "ExecuteTimeLog": [
   {
    "duration": 54,
    "start_time": "2022-09-02T12:52:37.378Z"
   },
   {
    "duration": 78,
    "start_time": "2022-09-02T12:52:40.193Z"
   },
   {
    "duration": 1101,
    "start_time": "2022-09-02T12:52:46.846Z"
   },
   {
    "duration": 78,
    "start_time": "2022-09-02T12:52:49.406Z"
   },
   {
    "duration": 58,
    "start_time": "2022-09-02T13:03:22.706Z"
   },
   {
    "duration": 3,
    "start_time": "2022-09-02T13:03:26.085Z"
   },
   {
    "duration": 36,
    "start_time": "2022-09-02T13:03:26.765Z"
   },
   {
    "duration": 9,
    "start_time": "2022-09-02T13:03:28.684Z"
   },
   {
    "duration": 7,
    "start_time": "2022-09-02T13:04:24.361Z"
   },
   {
    "duration": 71,
    "start_time": "2022-09-02T13:09:33.598Z"
   },
   {
    "duration": 15,
    "start_time": "2022-09-02T13:09:39.167Z"
   },
   {
    "duration": 66,
    "start_time": "2022-09-02T13:09:56.249Z"
   },
   {
    "duration": 113,
    "start_time": "2022-09-02T13:10:06.431Z"
   },
   {
    "duration": 18,
    "start_time": "2022-09-02T13:11:30.395Z"
   },
   {
    "duration": 115,
    "start_time": "2022-09-02T13:11:39.002Z"
   },
   {
    "duration": 111,
    "start_time": "2022-09-02T13:11:43.116Z"
   },
   {
    "duration": 150,
    "start_time": "2022-09-02T13:12:10.197Z"
   },
   {
    "duration": 108,
    "start_time": "2022-09-02T13:12:26.028Z"
   },
   {
    "duration": 113,
    "start_time": "2022-09-02T13:12:41.276Z"
   },
   {
    "duration": 6,
    "start_time": "2022-09-02T13:16:30.348Z"
   },
   {
    "duration": 98,
    "start_time": "2022-09-02T13:16:35.881Z"
   },
   {
    "duration": 110,
    "start_time": "2022-09-02T13:16:53.201Z"
   },
   {
    "duration": 158,
    "start_time": "2022-09-02T13:16:58.587Z"
   },
   {
    "duration": 251,
    "start_time": "2022-09-02T13:17:21.404Z"
   },
   {
    "duration": 9,
    "start_time": "2022-09-02T13:17:43.068Z"
   },
   {
    "duration": 10,
    "start_time": "2022-09-02T13:17:51.806Z"
   },
   {
    "duration": 8,
    "start_time": "2022-09-02T13:18:22.105Z"
   },
   {
    "duration": 3,
    "start_time": "2022-09-02T13:18:25.403Z"
   },
   {
    "duration": 251,
    "start_time": "2022-09-02T13:19:22.905Z"
   },
   {
    "duration": 249,
    "start_time": "2022-09-02T13:20:12.218Z"
   },
   {
    "duration": 6,
    "start_time": "2022-09-02T13:20:55.086Z"
   },
   {
    "duration": 8,
    "start_time": "2022-09-02T13:21:25.079Z"
   },
   {
    "duration": 5,
    "start_time": "2022-09-02T13:21:27.794Z"
   },
   {
    "duration": 260,
    "start_time": "2022-09-02T13:21:30.901Z"
   },
   {
    "duration": 119,
    "start_time": "2022-09-02T13:21:44.614Z"
   },
   {
    "duration": 98,
    "start_time": "2022-09-02T13:25:57.749Z"
   },
   {
    "duration": 89,
    "start_time": "2022-09-02T13:26:09.024Z"
   },
   {
    "duration": 110,
    "start_time": "2022-09-02T13:26:17.367Z"
   },
   {
    "duration": 6,
    "start_time": "2022-09-02T13:26:25.188Z"
   },
   {
    "duration": 14,
    "start_time": "2022-09-02T13:30:51.098Z"
   },
   {
    "duration": 96,
    "start_time": "2022-09-02T13:30:52.869Z"
   },
   {
    "duration": 1114,
    "start_time": "2022-09-02T13:31:09.702Z"
   },
   {
    "duration": 44,
    "start_time": "2022-09-02T13:31:10.818Z"
   },
   {
    "duration": 11,
    "start_time": "2022-09-02T13:31:10.863Z"
   },
   {
    "duration": 12,
    "start_time": "2022-09-02T13:31:10.876Z"
   },
   {
    "duration": 4,
    "start_time": "2022-09-02T13:31:10.890Z"
   },
   {
    "duration": 121,
    "start_time": "2022-09-02T13:31:10.896Z"
   },
   {
    "duration": 0,
    "start_time": "2022-09-02T13:31:11.020Z"
   },
   {
    "duration": 0,
    "start_time": "2022-09-02T13:31:11.021Z"
   },
   {
    "duration": 15,
    "start_time": "2022-09-02T13:31:22.932Z"
   },
   {
    "duration": 90,
    "start_time": "2022-09-02T13:31:25.193Z"
   },
   {
    "duration": 6,
    "start_time": "2022-09-02T13:49:52.724Z"
   },
   {
    "duration": 6,
    "start_time": "2022-09-02T13:50:08.185Z"
   },
   {
    "duration": 9,
    "start_time": "2022-09-02T13:51:50.590Z"
   },
   {
    "duration": 93,
    "start_time": "2022-09-02T13:55:07.852Z"
   },
   {
    "duration": 88,
    "start_time": "2022-09-02T13:55:10.367Z"
   },
   {
    "duration": 117,
    "start_time": "2022-09-02T13:55:18.747Z"
   },
   {
    "duration": 95,
    "start_time": "2022-09-02T13:55:21.305Z"
   },
   {
    "duration": 96,
    "start_time": "2022-09-02T14:17:01.153Z"
   },
   {
    "duration": 116,
    "start_time": "2022-09-02T14:17:05.612Z"
   },
   {
    "duration": 99,
    "start_time": "2022-09-02T14:17:19.132Z"
   },
   {
    "duration": 94,
    "start_time": "2022-09-02T14:17:25.969Z"
   },
   {
    "duration": 100,
    "start_time": "2022-09-02T14:17:44.577Z"
   },
   {
    "duration": 73,
    "start_time": "2022-09-02T14:17:49.897Z"
   },
   {
    "duration": 90,
    "start_time": "2022-09-02T14:18:02.768Z"
   },
   {
    "duration": 14,
    "start_time": "2022-09-02T14:18:07.569Z"
   },
   {
    "duration": 100,
    "start_time": "2022-09-02T14:18:15.897Z"
   },
   {
    "duration": 99,
    "start_time": "2022-09-02T14:18:26.748Z"
   },
   {
    "duration": 90,
    "start_time": "2022-09-02T14:18:36.471Z"
   },
   {
    "duration": 93,
    "start_time": "2022-09-02T14:18:42.445Z"
   },
   {
    "duration": 102,
    "start_time": "2022-09-02T14:18:50.153Z"
   },
   {
    "duration": 8,
    "start_time": "2022-09-03T06:19:29.942Z"
   },
   {
    "duration": 10,
    "start_time": "2022-09-03T06:20:42.815Z"
   },
   {
    "duration": 10,
    "start_time": "2022-09-03T06:20:50.696Z"
   },
   {
    "duration": 8,
    "start_time": "2022-09-03T06:20:55.239Z"
   },
   {
    "duration": 1114,
    "start_time": "2022-09-03T06:21:06.851Z"
   },
   {
    "duration": 40,
    "start_time": "2022-09-03T06:21:07.967Z"
   },
   {
    "duration": 9,
    "start_time": "2022-09-03T06:21:08.009Z"
   },
   {
    "duration": 10,
    "start_time": "2022-09-03T06:21:08.020Z"
   },
   {
    "duration": 27,
    "start_time": "2022-09-03T06:21:08.032Z"
   },
   {
    "duration": 29,
    "start_time": "2022-09-03T06:21:08.060Z"
   },
   {
    "duration": 93,
    "start_time": "2022-09-03T06:21:08.091Z"
   },
   {
    "duration": 98,
    "start_time": "2022-09-03T06:21:08.185Z"
   },
   {
    "duration": 95,
    "start_time": "2022-09-03T06:21:08.284Z"
   },
   {
    "duration": 346,
    "start_time": "2022-09-03T06:21:40.321Z"
   },
   {
    "duration": 9,
    "start_time": "2022-09-03T06:51:49.501Z"
   },
   {
    "duration": 3,
    "start_time": "2022-09-03T06:51:55.779Z"
   },
   {
    "duration": 8,
    "start_time": "2022-09-03T06:51:59.829Z"
   },
   {
    "duration": 4252,
    "start_time": "2022-09-03T06:52:12.504Z"
   },
   {
    "duration": 4347,
    "start_time": "2022-09-03T06:52:52.821Z"
   },
   {
    "duration": 3,
    "start_time": "2022-09-03T06:53:36.530Z"
   },
   {
    "duration": 6341,
    "start_time": "2022-09-03T06:54:49.014Z"
   },
   {
    "duration": 4,
    "start_time": "2022-09-03T06:57:40.198Z"
   },
   {
    "duration": 4426,
    "start_time": "2022-09-03T06:58:30.704Z"
   },
   {
    "duration": 7021,
    "start_time": "2022-09-03T06:58:39.834Z"
   },
   {
    "duration": 4,
    "start_time": "2022-09-03T06:58:53.868Z"
   },
   {
    "duration": 15,
    "start_time": "2022-09-03T06:59:43.710Z"
   },
   {
    "duration": 7138,
    "start_time": "2022-09-03T07:00:06.921Z"
   },
   {
    "duration": 4,
    "start_time": "2022-09-03T07:00:17.413Z"
   },
   {
    "duration": 16,
    "start_time": "2022-09-03T07:00:23.956Z"
   },
   {
    "duration": 7168,
    "start_time": "2022-09-03T07:00:33.168Z"
   },
   {
    "duration": 3,
    "start_time": "2022-09-03T07:00:42.992Z"
   },
   {
    "duration": 17,
    "start_time": "2022-09-03T07:00:43.624Z"
   },
   {
    "duration": 3746,
    "start_time": "2022-09-03T07:00:54.866Z"
   },
   {
    "duration": 4,
    "start_time": "2022-09-03T07:00:59.859Z"
   },
   {
    "duration": 14,
    "start_time": "2022-09-03T07:01:02.608Z"
   },
   {
    "duration": 7152,
    "start_time": "2022-09-03T07:02:17.411Z"
   },
   {
    "duration": 369,
    "start_time": "2022-09-03T07:11:30.072Z"
   },
   {
    "duration": 15474,
    "start_time": "2022-09-03T07:11:42.300Z"
   },
   {
    "duration": 32,
    "start_time": "2022-09-03T07:13:22.470Z"
   },
   {
    "duration": 34,
    "start_time": "2022-09-03T07:13:40.706Z"
   },
   {
    "duration": 338,
    "start_time": "2022-09-03T07:13:49.698Z"
   },
   {
    "duration": 40,
    "start_time": "2022-09-03T07:13:50.683Z"
   },
   {
    "duration": 3167,
    "start_time": "2022-09-03T07:13:51.810Z"
   },
   {
    "duration": 32,
    "start_time": "2022-09-03T07:13:57.386Z"
   },
   {
    "duration": 15234,
    "start_time": "2022-09-03T07:13:59.914Z"
   },
   {
    "duration": 41,
    "start_time": "2022-09-03T07:14:17.587Z"
   },
   {
    "duration": 5,
    "start_time": "2022-09-03T07:16:51.891Z"
   },
   {
    "duration": 16,
    "start_time": "2022-09-03T07:17:31.950Z"
   },
   {
    "duration": 6662,
    "start_time": "2022-09-03T07:18:05.573Z"
   },
   {
    "duration": 3,
    "start_time": "2022-09-03T07:18:15.020Z"
   },
   {
    "duration": 14,
    "start_time": "2022-09-03T07:18:17.816Z"
   },
   {
    "duration": 20,
    "start_time": "2022-09-03T07:18:21.907Z"
   },
   {
    "duration": 22,
    "start_time": "2022-09-03T07:18:44.017Z"
   },
   {
    "duration": 7130,
    "start_time": "2022-09-03T07:19:05.047Z"
   },
   {
    "duration": 5,
    "start_time": "2022-09-03T07:19:14.439Z"
   },
   {
    "duration": 14,
    "start_time": "2022-09-03T07:19:17.966Z"
   },
   {
    "duration": 17,
    "start_time": "2022-09-03T07:19:20.173Z"
   },
   {
    "duration": 6644,
    "start_time": "2022-09-03T07:19:32.340Z"
   },
   {
    "duration": 4,
    "start_time": "2022-09-03T07:19:40.649Z"
   },
   {
    "duration": 13,
    "start_time": "2022-09-03T07:19:43.019Z"
   },
   {
    "duration": 19,
    "start_time": "2022-09-03T07:19:44.839Z"
   },
   {
    "duration": 26,
    "start_time": "2022-09-03T07:24:09.528Z"
   },
   {
    "duration": 22,
    "start_time": "2022-09-03T07:25:01.879Z"
   },
   {
    "duration": 28,
    "start_time": "2022-09-03T07:25:07.907Z"
   },
   {
    "duration": 12,
    "start_time": "2022-09-03T07:26:08.845Z"
   },
   {
    "duration": 32,
    "start_time": "2022-09-03T07:26:18.985Z"
   },
   {
    "duration": 37,
    "start_time": "2022-09-03T07:26:26.981Z"
   },
   {
    "duration": 10,
    "start_time": "2022-09-03T07:26:31.804Z"
   },
   {
    "duration": 29,
    "start_time": "2022-09-03T07:26:39.582Z"
   },
   {
    "duration": 27,
    "start_time": "2022-09-03T07:27:37.679Z"
   },
   {
    "duration": 28,
    "start_time": "2022-09-03T07:28:26.321Z"
   },
   {
    "duration": 30,
    "start_time": "2022-09-03T07:30:39.769Z"
   },
   {
    "duration": 17,
    "start_time": "2022-09-03T07:32:08.166Z"
   },
   {
    "duration": 11,
    "start_time": "2022-09-03T07:32:12.421Z"
   },
   {
    "duration": 18,
    "start_time": "2022-09-03T07:32:15.928Z"
   },
   {
    "duration": 27,
    "start_time": "2022-09-03T07:32:29.950Z"
   },
   {
    "duration": 1194,
    "start_time": "2022-09-04T07:56:35.246Z"
   },
   {
    "duration": 92,
    "start_time": "2022-09-04T07:56:36.442Z"
   },
   {
    "duration": 15,
    "start_time": "2022-09-04T07:56:36.536Z"
   },
   {
    "duration": 45,
    "start_time": "2022-09-04T07:56:36.554Z"
   },
   {
    "duration": 26,
    "start_time": "2022-09-04T07:56:36.601Z"
   },
   {
    "duration": 62,
    "start_time": "2022-09-04T07:56:36.629Z"
   },
   {
    "duration": 113,
    "start_time": "2022-09-04T07:56:36.694Z"
   },
   {
    "duration": 7,
    "start_time": "2022-09-04T07:56:36.810Z"
   },
   {
    "duration": 445,
    "start_time": "2022-09-04T07:56:36.818Z"
   },
   {
    "duration": 58,
    "start_time": "2022-09-04T07:56:37.266Z"
   },
   {
    "duration": 4006,
    "start_time": "2022-09-04T07:56:37.326Z"
   },
   {
    "duration": 40,
    "start_time": "2022-09-04T07:56:41.334Z"
   },
   {
    "duration": 18536,
    "start_time": "2022-09-04T07:56:41.376Z"
   },
   {
    "duration": 42,
    "start_time": "2022-09-04T07:56:59.914Z"
   },
   {
    "duration": 8221,
    "start_time": "2022-09-04T07:56:59.959Z"
   },
   {
    "duration": 10,
    "start_time": "2022-09-04T07:57:08.181Z"
   },
   {
    "duration": 41,
    "start_time": "2022-09-04T07:57:08.194Z"
   },
   {
    "duration": 25,
    "start_time": "2022-09-04T07:57:08.237Z"
   },
   {
    "duration": 39,
    "start_time": "2022-09-04T07:57:08.263Z"
   },
   {
    "duration": 6,
    "start_time": "2022-09-04T07:58:54.426Z"
   },
   {
    "duration": 7,
    "start_time": "2022-09-04T07:59:25.476Z"
   },
   {
    "duration": 4,
    "start_time": "2022-09-04T08:08:57.990Z"
   },
   {
    "duration": 104,
    "start_time": "2022-09-04T08:09:08.872Z"
   },
   {
    "duration": 1122,
    "start_time": "2022-09-04T08:13:27.916Z"
   },
   {
    "duration": 45,
    "start_time": "2022-09-04T08:13:29.040Z"
   },
   {
    "duration": 12,
    "start_time": "2022-09-04T08:13:29.086Z"
   },
   {
    "duration": 28,
    "start_time": "2022-09-04T08:13:29.099Z"
   },
   {
    "duration": 4,
    "start_time": "2022-09-04T08:13:29.130Z"
   },
   {
    "duration": 25,
    "start_time": "2022-09-04T08:13:29.135Z"
   },
   {
    "duration": 110,
    "start_time": "2022-09-04T08:13:29.162Z"
   },
   {
    "duration": 7,
    "start_time": "2022-09-04T08:13:29.274Z"
   },
   {
    "duration": 446,
    "start_time": "2022-09-04T08:13:29.293Z"
   },
   {
    "duration": 53,
    "start_time": "2022-09-04T08:13:29.741Z"
   },
   {
    "duration": 4289,
    "start_time": "2022-09-04T08:13:29.795Z"
   },
   {
    "duration": 47,
    "start_time": "2022-09-04T08:13:34.086Z"
   },
   {
    "duration": 19903,
    "start_time": "2022-09-04T08:13:34.136Z"
   },
   {
    "duration": 49,
    "start_time": "2022-09-04T08:13:54.042Z"
   },
   {
    "duration": 8252,
    "start_time": "2022-09-04T08:20:25.743Z"
   },
   {
    "duration": 3,
    "start_time": "2022-09-04T08:20:33.997Z"
   },
   {
    "duration": 21,
    "start_time": "2022-09-04T08:20:34.002Z"
   },
   {
    "duration": 24,
    "start_time": "2022-09-04T08:20:34.025Z"
   },
   {
    "duration": 54,
    "start_time": "2022-09-04T08:20:34.051Z"
   },
   {
    "duration": 8,
    "start_time": "2022-09-04T08:20:34.107Z"
   },
   {
    "duration": 193776,
    "start_time": "2022-09-04T08:27:07.231Z"
   },
   {
    "duration": 1189,
    "start_time": "2022-09-04T08:30:37.516Z"
   },
   {
    "duration": 45,
    "start_time": "2022-09-04T08:30:38.708Z"
   },
   {
    "duration": 13,
    "start_time": "2022-09-04T08:30:38.755Z"
   },
   {
    "duration": 8,
    "start_time": "2022-09-04T08:30:38.770Z"
   },
   {
    "duration": 7,
    "start_time": "2022-09-04T08:30:38.780Z"
   },
   {
    "duration": 30,
    "start_time": "2022-09-04T08:30:38.789Z"
   },
   {
    "duration": 116,
    "start_time": "2022-09-04T08:30:38.821Z"
   },
   {
    "duration": 6,
    "start_time": "2022-09-04T08:30:38.938Z"
   },
   {
    "duration": 476,
    "start_time": "2022-09-04T08:30:38.946Z"
   },
   {
    "duration": 49,
    "start_time": "2022-09-04T08:30:39.424Z"
   },
   {
    "duration": 4423,
    "start_time": "2022-09-04T08:30:39.475Z"
   },
   {
    "duration": 43,
    "start_time": "2022-09-04T08:30:43.901Z"
   },
   {
    "duration": 20693,
    "start_time": "2022-09-04T08:30:43.947Z"
   },
   {
    "duration": 43,
    "start_time": "2022-09-04T08:31:04.642Z"
   },
   {
    "duration": 48,
    "start_time": "2022-09-05T08:53:12.365Z"
   },
   {
    "duration": 1045,
    "start_time": "2022-09-05T08:53:25.026Z"
   },
   {
    "duration": 77,
    "start_time": "2022-09-05T08:53:26.073Z"
   },
   {
    "duration": 11,
    "start_time": "2022-09-05T08:53:26.152Z"
   },
   {
    "duration": 7,
    "start_time": "2022-09-05T08:53:26.164Z"
   },
   {
    "duration": 4,
    "start_time": "2022-09-05T08:53:26.173Z"
   },
   {
    "duration": 17,
    "start_time": "2022-09-05T08:53:26.179Z"
   },
   {
    "duration": 117,
    "start_time": "2022-09-05T08:53:26.197Z"
   },
   {
    "duration": 6,
    "start_time": "2022-09-05T08:53:26.316Z"
   },
   {
    "duration": 467,
    "start_time": "2022-09-05T08:53:26.324Z"
   },
   {
    "duration": 49,
    "start_time": "2022-09-05T08:53:26.792Z"
   },
   {
    "duration": 3755,
    "start_time": "2022-09-05T08:53:26.843Z"
   },
   {
    "duration": 38,
    "start_time": "2022-09-05T08:53:30.600Z"
   },
   {
    "duration": 17973,
    "start_time": "2022-09-05T08:53:30.639Z"
   },
   {
    "duration": 42,
    "start_time": "2022-09-05T08:53:48.615Z"
   },
   {
    "duration": 183207,
    "start_time": "2022-09-05T08:53:48.668Z"
   },
   {
    "duration": 7913,
    "start_time": "2022-09-05T08:56:51.877Z"
   },
   {
    "duration": 3,
    "start_time": "2022-09-05T08:56:59.792Z"
   },
   {
    "duration": 19,
    "start_time": "2022-09-05T08:56:59.797Z"
   },
   {
    "duration": 23,
    "start_time": "2022-09-05T08:56:59.817Z"
   },
   {
    "duration": 52,
    "start_time": "2022-09-05T08:56:59.841Z"
   },
   {
    "duration": 6,
    "start_time": "2022-09-05T08:56:59.895Z"
   },
   {
    "duration": 104,
    "start_time": "2022-09-05T08:58:34.877Z"
   },
   {
    "duration": 1185,
    "start_time": "2022-09-05T08:59:20.651Z"
   },
   {
    "duration": 44,
    "start_time": "2022-09-05T08:59:21.838Z"
   },
   {
    "duration": 12,
    "start_time": "2022-09-05T08:59:21.884Z"
   },
   {
    "duration": 23,
    "start_time": "2022-09-05T08:59:21.898Z"
   },
   {
    "duration": 15,
    "start_time": "2022-09-05T08:59:21.923Z"
   },
   {
    "duration": 23,
    "start_time": "2022-09-05T08:59:21.940Z"
   },
   {
    "duration": 34,
    "start_time": "2022-09-05T08:59:21.965Z"
   },
   {
    "duration": 111,
    "start_time": "2022-09-05T08:59:22.001Z"
   },
   {
    "duration": 7,
    "start_time": "2022-09-05T08:59:22.113Z"
   },
   {
    "duration": 432,
    "start_time": "2022-09-05T08:59:22.122Z"
   },
   {
    "duration": 50,
    "start_time": "2022-09-05T08:59:22.556Z"
   },
   {
    "duration": 3714,
    "start_time": "2022-09-05T08:59:22.607Z"
   },
   {
    "duration": 44,
    "start_time": "2022-09-05T08:59:26.322Z"
   },
   {
    "duration": 17800,
    "start_time": "2022-09-05T08:59:26.369Z"
   },
   {
    "duration": 42,
    "start_time": "2022-09-05T08:59:44.171Z"
   },
   {
    "duration": 187796,
    "start_time": "2022-09-05T08:59:44.214Z"
   },
   {
    "duration": 39,
    "start_time": "2022-09-05T09:02:52.011Z"
   },
   {
    "duration": 7669,
    "start_time": "2022-09-05T09:02:52.052Z"
   },
   {
    "duration": 3,
    "start_time": "2022-09-05T09:02:59.723Z"
   },
   {
    "duration": 19,
    "start_time": "2022-09-05T09:02:59.728Z"
   },
   {
    "duration": 34,
    "start_time": "2022-09-05T09:02:59.748Z"
   },
   {
    "duration": 32,
    "start_time": "2022-09-05T09:02:59.784Z"
   },
   {
    "duration": 6,
    "start_time": "2022-09-05T09:02:59.817Z"
   },
   {
    "duration": 1120,
    "start_time": "2022-09-05T09:08:18.252Z"
   },
   {
    "duration": 45,
    "start_time": "2022-09-05T09:08:19.373Z"
   },
   {
    "duration": 11,
    "start_time": "2022-09-05T09:08:19.420Z"
   },
   {
    "duration": 8,
    "start_time": "2022-09-05T09:08:19.433Z"
   },
   {
    "duration": 8,
    "start_time": "2022-09-05T09:08:19.442Z"
   },
   {
    "duration": 5,
    "start_time": "2022-09-05T09:08:19.452Z"
   },
   {
    "duration": 17,
    "start_time": "2022-09-05T09:08:19.459Z"
   },
   {
    "duration": 117,
    "start_time": "2022-09-05T09:08:19.477Z"
   },
   {
    "duration": 6,
    "start_time": "2022-09-05T09:08:19.595Z"
   },
   {
    "duration": 409,
    "start_time": "2022-09-05T09:08:19.603Z"
   },
   {
    "duration": 55,
    "start_time": "2022-09-05T09:08:20.014Z"
   },
   {
    "duration": 3825,
    "start_time": "2022-09-05T09:08:20.071Z"
   },
   {
    "duration": 47,
    "start_time": "2022-09-05T09:08:23.898Z"
   },
   {
    "duration": 18263,
    "start_time": "2022-09-05T09:08:23.947Z"
   },
   {
    "duration": 40,
    "start_time": "2022-09-05T09:08:42.211Z"
   },
   {
    "duration": 186469,
    "start_time": "2022-09-05T09:08:42.252Z"
   },
   {
    "duration": 50,
    "start_time": "2022-09-05T09:11:48.723Z"
   },
   {
    "duration": 112,
    "start_time": "2022-09-05T09:11:48.774Z"
   },
   {
    "duration": 0,
    "start_time": "2022-09-05T09:11:48.888Z"
   },
   {
    "duration": 0,
    "start_time": "2022-09-05T09:11:48.889Z"
   },
   {
    "duration": 0,
    "start_time": "2022-09-05T09:11:48.890Z"
   },
   {
    "duration": 0,
    "start_time": "2022-09-05T09:11:48.892Z"
   },
   {
    "duration": 0,
    "start_time": "2022-09-05T09:11:48.893Z"
   },
   {
    "duration": 11,
    "start_time": "2022-09-05T09:12:00.602Z"
   },
   {
    "duration": 28,
    "start_time": "2022-09-05T09:12:09.937Z"
   },
   {
    "duration": 3774,
    "start_time": "2022-09-05T09:12:20.702Z"
   },
   {
    "duration": 23,
    "start_time": "2022-09-05T09:12:26.322Z"
   },
   {
    "duration": 3841,
    "start_time": "2022-09-05T09:12:52.432Z"
   },
   {
    "duration": 16958,
    "start_time": "2022-09-05T09:12:56.978Z"
   },
   {
    "duration": 38,
    "start_time": "2022-09-05T09:13:21.770Z"
   },
   {
    "duration": 10,
    "start_time": "2022-09-05T09:13:44.034Z"
   },
   {
    "duration": 8171,
    "start_time": "2022-09-05T09:13:59.072Z"
   },
   {
    "duration": 5,
    "start_time": "2022-09-05T09:14:23.229Z"
   },
   {
    "duration": 17,
    "start_time": "2022-09-05T09:14:25.538Z"
   },
   {
    "duration": 22,
    "start_time": "2022-09-05T09:14:26.083Z"
   },
   {
    "duration": 31,
    "start_time": "2022-09-05T09:14:39.694Z"
   },
   {
    "duration": 6,
    "start_time": "2022-09-05T09:14:59.874Z"
   },
   {
    "duration": 17,
    "start_time": "2022-09-05T09:18:34.025Z"
   },
   {
    "duration": 6,
    "start_time": "2022-09-05T09:18:35.517Z"
   },
   {
    "duration": 11,
    "start_time": "2022-09-05T09:18:40.773Z"
   },
   {
    "duration": 7,
    "start_time": "2022-09-05T09:18:42.518Z"
   },
   {
    "duration": 36,
    "start_time": "2022-09-05T09:19:01.796Z"
   },
   {
    "duration": 1104,
    "start_time": "2022-09-05T09:27:20.825Z"
   },
   {
    "duration": 46,
    "start_time": "2022-09-05T09:27:21.931Z"
   },
   {
    "duration": 13,
    "start_time": "2022-09-05T09:27:21.979Z"
   },
   {
    "duration": 25,
    "start_time": "2022-09-05T09:27:21.995Z"
   },
   {
    "duration": 18,
    "start_time": "2022-09-05T09:27:22.022Z"
   },
   {
    "duration": 17,
    "start_time": "2022-09-05T09:27:22.041Z"
   },
   {
    "duration": 42,
    "start_time": "2022-09-05T09:27:22.061Z"
   },
   {
    "duration": 116,
    "start_time": "2022-09-05T09:27:22.105Z"
   },
   {
    "duration": 8,
    "start_time": "2022-09-05T09:27:22.222Z"
   },
   {
    "duration": 443,
    "start_time": "2022-09-05T09:27:22.232Z"
   },
   {
    "duration": 60,
    "start_time": "2022-09-05T09:27:22.677Z"
   },
   {
    "duration": 3918,
    "start_time": "2022-09-05T09:27:22.738Z"
   },
   {
    "duration": 55,
    "start_time": "2022-09-05T09:27:26.658Z"
   },
   {
    "duration": 5350,
    "start_time": "2022-09-05T09:27:26.715Z"
   },
   {
    "duration": 0,
    "start_time": "2022-09-05T09:27:32.067Z"
   },
   {
    "duration": 0,
    "start_time": "2022-09-05T09:27:32.068Z"
   },
   {
    "duration": 0,
    "start_time": "2022-09-05T09:27:32.070Z"
   },
   {
    "duration": 0,
    "start_time": "2022-09-05T09:27:32.071Z"
   },
   {
    "duration": 0,
    "start_time": "2022-09-05T09:27:32.072Z"
   },
   {
    "duration": 0,
    "start_time": "2022-09-05T09:27:32.073Z"
   },
   {
    "duration": 0,
    "start_time": "2022-09-05T09:27:32.074Z"
   },
   {
    "duration": 0,
    "start_time": "2022-09-05T09:27:32.075Z"
   },
   {
    "duration": 0,
    "start_time": "2022-09-05T09:27:32.076Z"
   },
   {
    "duration": 0,
    "start_time": "2022-09-05T09:27:32.077Z"
   },
   {
    "duration": 1205,
    "start_time": "2022-09-05T09:28:04.242Z"
   },
   {
    "duration": 45,
    "start_time": "2022-09-05T09:28:05.449Z"
   },
   {
    "duration": 12,
    "start_time": "2022-09-05T09:28:05.496Z"
   },
   {
    "duration": 16,
    "start_time": "2022-09-05T09:28:05.509Z"
   },
   {
    "duration": 9,
    "start_time": "2022-09-05T09:28:05.528Z"
   },
   {
    "duration": 7,
    "start_time": "2022-09-05T09:28:05.538Z"
   },
   {
    "duration": 42,
    "start_time": "2022-09-05T09:28:05.546Z"
   },
   {
    "duration": 134,
    "start_time": "2022-09-05T09:28:05.590Z"
   },
   {
    "duration": 9,
    "start_time": "2022-09-05T09:28:05.727Z"
   },
   {
    "duration": 442,
    "start_time": "2022-09-05T09:28:05.738Z"
   },
   {
    "duration": 50,
    "start_time": "2022-09-05T09:28:06.182Z"
   },
   {
    "duration": 4041,
    "start_time": "2022-09-05T09:28:06.234Z"
   },
   {
    "duration": 44,
    "start_time": "2022-09-05T09:28:10.277Z"
   },
   {
    "duration": 16771,
    "start_time": "2022-09-05T09:28:10.324Z"
   },
   {
    "duration": 22,
    "start_time": "2022-09-05T09:28:27.096Z"
   },
   {
    "duration": 186400,
    "start_time": "2022-09-05T09:28:27.120Z"
   },
   {
    "duration": 46,
    "start_time": "2022-09-05T09:31:33.522Z"
   },
   {
    "duration": 8111,
    "start_time": "2022-09-05T09:31:33.570Z"
   },
   {
    "duration": 4,
    "start_time": "2022-09-05T09:31:41.682Z"
   },
   {
    "duration": 19,
    "start_time": "2022-09-05T09:31:41.688Z"
   },
   {
    "duration": 25,
    "start_time": "2022-09-05T09:31:41.708Z"
   },
   {
    "duration": 55,
    "start_time": "2022-09-05T09:31:41.734Z"
   },
   {
    "duration": 7,
    "start_time": "2022-09-05T09:31:41.791Z"
   },
   {
    "duration": 8,
    "start_time": "2022-09-05T09:31:41.799Z"
   },
   {
    "duration": 1169,
    "start_time": "2022-09-06T09:57:13.964Z"
   },
   {
    "duration": 77,
    "start_time": "2022-09-06T09:57:15.135Z"
   },
   {
    "duration": 11,
    "start_time": "2022-09-06T09:57:15.214Z"
   },
   {
    "duration": 125,
    "start_time": "2022-09-06T09:57:15.227Z"
   },
   {
    "duration": 0,
    "start_time": "2022-09-06T09:57:15.354Z"
   },
   {
    "duration": 0,
    "start_time": "2022-09-06T09:57:15.355Z"
   },
   {
    "duration": 0,
    "start_time": "2022-09-06T09:57:15.356Z"
   },
   {
    "duration": 0,
    "start_time": "2022-09-06T09:57:15.358Z"
   },
   {
    "duration": 0,
    "start_time": "2022-09-06T09:57:15.359Z"
   },
   {
    "duration": 0,
    "start_time": "2022-09-06T09:57:15.360Z"
   },
   {
    "duration": 0,
    "start_time": "2022-09-06T09:57:15.367Z"
   },
   {
    "duration": 0,
    "start_time": "2022-09-06T09:57:15.368Z"
   },
   {
    "duration": 0,
    "start_time": "2022-09-06T09:57:15.370Z"
   },
   {
    "duration": 0,
    "start_time": "2022-09-06T09:57:15.370Z"
   },
   {
    "duration": 0,
    "start_time": "2022-09-06T09:57:15.371Z"
   },
   {
    "duration": 0,
    "start_time": "2022-09-06T09:57:15.372Z"
   },
   {
    "duration": 0,
    "start_time": "2022-09-06T09:57:15.373Z"
   },
   {
    "duration": 0,
    "start_time": "2022-09-06T09:57:15.374Z"
   },
   {
    "duration": 0,
    "start_time": "2022-09-06T09:57:15.375Z"
   },
   {
    "duration": 0,
    "start_time": "2022-09-06T09:57:15.376Z"
   },
   {
    "duration": 0,
    "start_time": "2022-09-06T09:57:15.377Z"
   },
   {
    "duration": 0,
    "start_time": "2022-09-06T09:57:15.378Z"
   },
   {
    "duration": 0,
    "start_time": "2022-09-06T09:57:15.379Z"
   },
   {
    "duration": 0,
    "start_time": "2022-09-06T09:57:15.380Z"
   },
   {
    "duration": 11,
    "start_time": "2022-09-06T09:59:22.252Z"
   },
   {
    "duration": 5,
    "start_time": "2022-09-06T09:59:37.329Z"
   },
   {
    "duration": 6,
    "start_time": "2022-09-06T09:59:40.930Z"
   },
   {
    "duration": 1051,
    "start_time": "2022-09-06T09:59:49.527Z"
   },
   {
    "duration": 41,
    "start_time": "2022-09-06T09:59:50.581Z"
   },
   {
    "duration": 14,
    "start_time": "2022-09-06T09:59:50.624Z"
   },
   {
    "duration": 22,
    "start_time": "2022-09-06T09:59:50.640Z"
   },
   {
    "duration": 12,
    "start_time": "2022-09-06T09:59:50.665Z"
   },
   {
    "duration": 7,
    "start_time": "2022-09-06T09:59:50.678Z"
   },
   {
    "duration": 18,
    "start_time": "2022-09-06T09:59:50.686Z"
   },
   {
    "duration": 103,
    "start_time": "2022-09-06T09:59:50.706Z"
   },
   {
    "duration": 6,
    "start_time": "2022-09-06T09:59:50.811Z"
   },
   {
    "duration": 379,
    "start_time": "2022-09-06T09:59:50.818Z"
   },
   {
    "duration": 47,
    "start_time": "2022-09-06T09:59:51.199Z"
   },
   {
    "duration": 3441,
    "start_time": "2022-09-06T09:59:51.248Z"
   },
   {
    "duration": 33,
    "start_time": "2022-09-06T09:59:54.691Z"
   },
   {
    "duration": 13844,
    "start_time": "2022-09-06T09:59:54.727Z"
   },
   {
    "duration": 19,
    "start_time": "2022-09-06T10:00:08.573Z"
   },
   {
    "duration": 175321,
    "start_time": "2022-09-06T10:00:08.594Z"
   },
   {
    "duration": 37,
    "start_time": "2022-09-06T10:03:03.916Z"
   },
   {
    "duration": 7415,
    "start_time": "2022-09-06T10:03:03.955Z"
   },
   {
    "duration": 4,
    "start_time": "2022-09-06T10:03:11.372Z"
   },
   {
    "duration": 21,
    "start_time": "2022-09-06T10:03:11.378Z"
   },
   {
    "duration": 16,
    "start_time": "2022-09-06T10:03:11.400Z"
   },
   {
    "duration": 26,
    "start_time": "2022-09-06T10:03:11.418Z"
   },
   {
    "duration": 27,
    "start_time": "2022-09-06T10:03:11.446Z"
   },
   {
    "duration": 10,
    "start_time": "2022-09-06T10:03:11.474Z"
   },
   {
    "duration": 1147,
    "start_time": "2022-09-06T10:07:04.098Z"
   },
   {
    "duration": 42,
    "start_time": "2022-09-06T10:07:05.248Z"
   },
   {
    "duration": 12,
    "start_time": "2022-09-06T10:07:05.292Z"
   },
   {
    "duration": 20,
    "start_time": "2022-09-06T10:07:05.306Z"
   },
   {
    "duration": 21,
    "start_time": "2022-09-06T10:07:05.328Z"
   },
   {
    "duration": 23,
    "start_time": "2022-09-06T10:07:05.351Z"
   },
   {
    "duration": 30,
    "start_time": "2022-09-06T10:07:05.376Z"
   },
   {
    "duration": 113,
    "start_time": "2022-09-06T10:07:05.408Z"
   },
   {
    "duration": 6,
    "start_time": "2022-09-06T10:07:05.523Z"
   },
   {
    "duration": 437,
    "start_time": "2022-09-06T10:07:05.531Z"
   },
   {
    "duration": 48,
    "start_time": "2022-09-06T10:07:05.970Z"
   },
   {
    "duration": 3966,
    "start_time": "2022-09-06T10:07:06.019Z"
   },
   {
    "duration": 40,
    "start_time": "2022-09-06T10:07:09.987Z"
   },
   {
    "duration": 17571,
    "start_time": "2022-09-06T10:07:10.030Z"
   },
   {
    "duration": 39,
    "start_time": "2022-09-06T10:07:27.602Z"
   },
   {
    "duration": 193438,
    "start_time": "2022-09-06T10:07:27.643Z"
   },
   {
    "duration": 42,
    "start_time": "2022-09-06T10:10:41.083Z"
   },
   {
    "duration": 8283,
    "start_time": "2022-09-06T10:10:41.127Z"
   },
   {
    "duration": 3,
    "start_time": "2022-09-06T10:10:49.412Z"
   },
   {
    "duration": 19,
    "start_time": "2022-09-06T10:10:49.416Z"
   },
   {
    "duration": 34,
    "start_time": "2022-09-06T10:10:49.436Z"
   },
   {
    "duration": 34,
    "start_time": "2022-09-06T10:10:49.471Z"
   },
   {
    "duration": 7,
    "start_time": "2022-09-06T10:10:49.507Z"
   },
   {
    "duration": 6,
    "start_time": "2022-09-06T10:10:49.516Z"
   },
   {
    "duration": 1115,
    "start_time": "2022-09-06T10:12:24.719Z"
   },
   {
    "duration": 42,
    "start_time": "2022-09-06T10:12:25.836Z"
   },
   {
    "duration": 11,
    "start_time": "2022-09-06T10:12:25.880Z"
   },
   {
    "duration": 4,
    "start_time": "2022-09-06T10:12:25.894Z"
   },
   {
    "duration": 10,
    "start_time": "2022-09-06T10:12:25.899Z"
   },
   {
    "duration": 8,
    "start_time": "2022-09-06T10:12:25.911Z"
   },
   {
    "duration": 23,
    "start_time": "2022-09-06T10:12:25.921Z"
   },
   {
    "duration": 119,
    "start_time": "2022-09-06T10:12:25.968Z"
   },
   {
    "duration": 6,
    "start_time": "2022-09-06T10:12:26.089Z"
   },
   {
    "duration": 469,
    "start_time": "2022-09-06T10:12:26.097Z"
   },
   {
    "duration": 57,
    "start_time": "2022-09-06T10:12:26.568Z"
   },
   {
    "duration": 3900,
    "start_time": "2022-09-06T10:12:26.628Z"
   },
   {
    "duration": 47,
    "start_time": "2022-09-06T10:12:30.530Z"
   },
   {
    "duration": 17375,
    "start_time": "2022-09-06T10:12:30.579Z"
   },
   {
    "duration": 43,
    "start_time": "2022-09-06T10:12:47.955Z"
   },
   {
    "duration": 192587,
    "start_time": "2022-09-06T10:12:48.000Z"
   },
   {
    "duration": 44,
    "start_time": "2022-09-06T10:16:00.589Z"
   },
   {
    "duration": 8106,
    "start_time": "2022-09-06T10:16:00.635Z"
   },
   {
    "duration": 4,
    "start_time": "2022-09-06T10:16:08.742Z"
   },
   {
    "duration": 33,
    "start_time": "2022-09-06T10:16:08.748Z"
   },
   {
    "duration": 29,
    "start_time": "2022-09-06T10:16:08.783Z"
   },
   {
    "duration": 35,
    "start_time": "2022-09-06T10:16:08.814Z"
   },
   {
    "duration": 19,
    "start_time": "2022-09-06T10:16:08.850Z"
   },
   {
    "duration": 6,
    "start_time": "2022-09-06T10:16:08.871Z"
   },
   {
    "duration": 1155,
    "start_time": "2022-09-06T10:19:14.836Z"
   },
   {
    "duration": 42,
    "start_time": "2022-09-06T10:19:15.993Z"
   },
   {
    "duration": 12,
    "start_time": "2022-09-06T10:19:16.037Z"
   },
   {
    "duration": 5,
    "start_time": "2022-09-06T10:19:16.051Z"
   },
   {
    "duration": 11,
    "start_time": "2022-09-06T10:19:16.057Z"
   },
   {
    "duration": 4,
    "start_time": "2022-09-06T10:19:16.069Z"
   },
   {
    "duration": 18,
    "start_time": "2022-09-06T10:19:16.075Z"
   },
   {
    "duration": 125,
    "start_time": "2022-09-06T10:19:16.095Z"
   },
   {
    "duration": 6,
    "start_time": "2022-09-06T10:19:16.221Z"
   },
   {
    "duration": 459,
    "start_time": "2022-09-06T10:19:16.229Z"
   },
   {
    "duration": 53,
    "start_time": "2022-09-06T10:19:16.692Z"
   },
   {
    "duration": 3885,
    "start_time": "2022-09-06T10:19:16.748Z"
   },
   {
    "duration": 48,
    "start_time": "2022-09-06T10:19:20.634Z"
   },
   {
    "duration": 17506,
    "start_time": "2022-09-06T10:19:20.684Z"
   },
   {
    "duration": 38,
    "start_time": "2022-09-06T10:19:38.191Z"
   },
   {
    "duration": 194794,
    "start_time": "2022-09-06T10:19:38.230Z"
   },
   {
    "duration": 54,
    "start_time": "2022-09-06T10:22:53.027Z"
   },
   {
    "duration": 8343,
    "start_time": "2022-09-06T10:22:53.083Z"
   },
   {
    "duration": 5,
    "start_time": "2022-09-06T10:23:01.428Z"
   },
   {
    "duration": 46,
    "start_time": "2022-09-06T10:23:01.435Z"
   },
   {
    "duration": 29,
    "start_time": "2022-09-06T10:23:01.483Z"
   },
   {
    "duration": 69,
    "start_time": "2022-09-06T10:23:01.514Z"
   },
   {
    "duration": 10,
    "start_time": "2022-09-06T10:23:01.585Z"
   },
   {
    "duration": 22,
    "start_time": "2022-09-06T10:23:01.597Z"
   },
   {
    "duration": 15,
    "start_time": "2022-09-06T10:40:53.719Z"
   },
   {
    "duration": 6,
    "start_time": "2022-09-06T10:40:55.816Z"
   },
   {
    "duration": 109,
    "start_time": "2022-09-06T10:46:07.723Z"
   },
   {
    "duration": 7,
    "start_time": "2022-09-06T10:48:07.794Z"
   },
   {
    "duration": 22,
    "start_time": "2022-09-06T10:54:29.531Z"
   },
   {
    "duration": 4,
    "start_time": "2022-09-06T10:55:15.421Z"
   },
   {
    "duration": 8,
    "start_time": "2022-09-06T10:55:42.840Z"
   },
   {
    "duration": 5,
    "start_time": "2022-09-06T11:03:24.620Z"
   },
   {
    "duration": 17,
    "start_time": "2022-09-06T11:03:40.682Z"
   },
   {
    "duration": 5,
    "start_time": "2022-09-06T11:03:41.790Z"
   },
   {
    "duration": 17,
    "start_time": "2022-09-06T11:05:20.364Z"
   },
   {
    "duration": 13,
    "start_time": "2022-09-06T11:05:22.780Z"
   },
   {
    "duration": 5,
    "start_time": "2022-09-06T11:05:31.732Z"
   },
   {
    "duration": 7,
    "start_time": "2022-09-06T11:05:35.598Z"
   },
   {
    "duration": 9,
    "start_time": "2022-09-06T11:06:31.257Z"
   },
   {
    "duration": 480,
    "start_time": "2022-09-06T11:11:23.432Z"
   },
   {
    "duration": 455,
    "start_time": "2022-09-06T11:11:35.660Z"
   },
   {
    "duration": 190360,
    "start_time": "2022-09-06T11:16:12.718Z"
   },
   {
    "duration": 195370,
    "start_time": "2022-09-06T11:20:51.630Z"
   },
   {
    "duration": 38,
    "start_time": "2022-09-06T11:25:12.691Z"
   },
   {
    "duration": 186092,
    "start_time": "2022-09-06T11:25:54.042Z"
   },
   {
    "duration": 278,
    "start_time": "2022-09-06T11:29:59.815Z"
   },
   {
    "duration": 205031,
    "start_time": "2022-09-06T11:30:22.984Z"
   },
   {
    "duration": 207250,
    "start_time": "2022-09-06T11:34:22.018Z"
   },
   {
    "duration": 191966,
    "start_time": "2022-09-06T11:38:45.271Z"
   },
   {
    "duration": 4233,
    "start_time": "2022-09-06T11:43:39.514Z"
   },
   {
    "duration": 44,
    "start_time": "2022-09-06T11:44:10.051Z"
   },
   {
    "duration": 4768,
    "start_time": "2022-09-06T11:44:12.315Z"
   },
   {
    "duration": 21,
    "start_time": "2022-09-06T11:44:52.193Z"
   },
   {
    "duration": 295276,
    "start_time": "2022-09-06T11:44:56.669Z"
   },
   {
    "duration": 199311,
    "start_time": "2022-09-06T11:56:07.715Z"
   },
   {
    "duration": 20339,
    "start_time": "2022-09-06T11:59:57.137Z"
   },
   {
    "duration": 31,
    "start_time": "2022-09-06T12:00:17.478Z"
   },
   {
    "duration": 3085,
    "start_time": "2022-09-06T12:00:17.511Z"
   },
   {
    "duration": 27,
    "start_time": "2022-09-06T12:00:20.598Z"
   },
   {
    "duration": 286869,
    "start_time": "2022-09-06T12:01:15.462Z"
   },
   {
    "duration": 5616,
    "start_time": "2022-09-06T12:09:51.514Z"
   },
   {
    "duration": 43,
    "start_time": "2022-09-06T12:10:30.368Z"
   },
   {
    "duration": 18538,
    "start_time": "2022-09-06T12:10:32.698Z"
   },
   {
    "duration": 5940,
    "start_time": "2022-09-06T12:11:33.489Z"
   },
   {
    "duration": 42,
    "start_time": "2022-09-06T12:15:05.815Z"
   },
   {
    "duration": 22056,
    "start_time": "2022-09-06T12:15:09.392Z"
   },
   {
    "duration": 47,
    "start_time": "2022-09-06T12:16:44.534Z"
   },
   {
    "duration": 375768,
    "start_time": "2022-09-06T12:17:10.035Z"
   },
   {
    "duration": 44716,
    "start_time": "2022-09-06T12:25:18.383Z"
   },
   {
    "duration": 15,
    "start_time": "2022-09-06T12:26:04.998Z"
   },
   {
    "duration": 73955,
    "start_time": "2022-09-06T12:26:20.875Z"
   },
   {
    "duration": 5739,
    "start_time": "2022-09-06T12:28:56.979Z"
   },
   {
    "duration": 50,
    "start_time": "2022-09-06T12:29:02.719Z"
   },
   {
    "duration": 4444,
    "start_time": "2022-09-06T12:29:05.000Z"
   },
   {
    "duration": 22,
    "start_time": "2022-09-06T12:32:06.315Z"
   },
   {
    "duration": 74985,
    "start_time": "2022-09-06T12:32:09.062Z"
   },
   {
    "duration": 9,
    "start_time": "2022-09-06T12:45:46.992Z"
   },
   {
    "duration": 1103,
    "start_time": "2022-09-08T10:46:56.427Z"
   },
   {
    "duration": 81,
    "start_time": "2022-09-08T10:46:57.532Z"
   },
   {
    "duration": 13,
    "start_time": "2022-09-08T10:46:57.615Z"
   },
   {
    "duration": 11,
    "start_time": "2022-09-08T10:46:57.630Z"
   },
   {
    "duration": 15,
    "start_time": "2022-09-08T10:46:57.642Z"
   },
   {
    "duration": 11,
    "start_time": "2022-09-08T10:46:57.658Z"
   },
   {
    "duration": 119,
    "start_time": "2022-09-08T10:46:57.670Z"
   },
   {
    "duration": 16,
    "start_time": "2022-09-08T10:46:57.790Z"
   },
   {
    "duration": 447,
    "start_time": "2022-09-08T10:46:57.810Z"
   },
   {
    "duration": 67660,
    "start_time": "2022-09-08T10:46:58.259Z"
   },
   {
    "duration": 5654,
    "start_time": "2022-09-08T10:48:05.921Z"
   },
   {
    "duration": 4,
    "start_time": "2022-09-08T10:48:11.576Z"
   },
   {
    "duration": 27,
    "start_time": "2022-09-08T10:48:11.581Z"
   },
   {
    "duration": 24,
    "start_time": "2022-09-08T10:48:11.609Z"
   },
   {
    "duration": 32,
    "start_time": "2022-09-08T10:48:11.634Z"
   },
   {
    "duration": 6,
    "start_time": "2022-09-08T10:48:11.667Z"
   },
   {
    "duration": 8,
    "start_time": "2022-09-08T10:48:11.674Z"
   },
   {
    "duration": 6069,
    "start_time": "2022-09-08T10:48:43.398Z"
   },
   {
    "duration": 64,
    "start_time": "2022-09-08T10:50:48.751Z"
   },
   {
    "duration": 4,
    "start_time": "2022-09-08T10:51:26.966Z"
   },
   {
    "duration": 31,
    "start_time": "2022-09-08T10:51:38.321Z"
   },
   {
    "duration": 8,
    "start_time": "2022-09-08T10:51:39.233Z"
   },
   {
    "duration": 84,
    "start_time": "2022-09-08T10:56:35.868Z"
   },
   {
    "duration": 96,
    "start_time": "2022-09-08T10:56:49.204Z"
   },
   {
    "duration": 31,
    "start_time": "2022-09-08T10:57:22.840Z"
   },
   {
    "duration": 35,
    "start_time": "2022-09-08T10:57:41.988Z"
   },
   {
    "duration": 35,
    "start_time": "2022-09-08T10:57:51.288Z"
   },
   {
    "duration": 43,
    "start_time": "2022-09-08T10:57:56.108Z"
   },
   {
    "duration": 39,
    "start_time": "2022-09-08T10:57:59.903Z"
   },
   {
    "duration": 32,
    "start_time": "2022-09-08T10:58:05.831Z"
   },
   {
    "duration": 10,
    "start_time": "2022-09-08T10:59:15.341Z"
   },
   {
    "duration": 6,
    "start_time": "2022-09-08T10:59:19.673Z"
   },
   {
    "duration": 14,
    "start_time": "2022-09-08T11:00:14.245Z"
   },
   {
    "duration": 24,
    "start_time": "2022-09-08T11:00:38.070Z"
   },
   {
    "duration": 21,
    "start_time": "2022-09-08T11:01:13.068Z"
   },
   {
    "duration": 6,
    "start_time": "2022-09-08T11:02:17.550Z"
   },
   {
    "duration": 48,
    "start_time": "2022-09-09T10:22:24.985Z"
   },
   {
    "duration": 1024,
    "start_time": "2022-09-09T10:25:17.759Z"
   },
   {
    "duration": 86,
    "start_time": "2022-09-09T10:25:18.785Z"
   },
   {
    "duration": 11,
    "start_time": "2022-09-09T10:25:18.873Z"
   },
   {
    "duration": 13,
    "start_time": "2022-09-09T10:25:18.886Z"
   },
   {
    "duration": 24,
    "start_time": "2022-09-09T10:25:18.900Z"
   },
   {
    "duration": 8,
    "start_time": "2022-09-09T10:25:18.925Z"
   },
   {
    "duration": 100,
    "start_time": "2022-09-09T10:25:18.935Z"
   },
   {
    "duration": 5,
    "start_time": "2022-09-09T10:25:19.037Z"
   },
   {
    "duration": 448,
    "start_time": "2022-09-09T10:25:19.044Z"
   },
   {
    "duration": 69665,
    "start_time": "2022-09-09T10:25:19.494Z"
   },
   {
    "duration": 6227,
    "start_time": "2022-09-09T10:26:29.160Z"
   },
   {
    "duration": 4,
    "start_time": "2022-09-09T10:26:35.389Z"
   },
   {
    "duration": 74,
    "start_time": "2022-09-09T10:26:35.394Z"
   },
   {
    "duration": 47,
    "start_time": "2022-09-09T10:26:35.470Z"
   },
   {
    "duration": 6,
    "start_time": "2022-09-09T10:26:35.518Z"
   },
   {
    "duration": 7,
    "start_time": "2022-09-09T10:26:35.525Z"
   },
   {
    "duration": 12,
    "start_time": "2022-09-09T10:26:35.533Z"
   },
   {
    "duration": 23,
    "start_time": "2022-09-09T10:26:35.547Z"
   },
   {
    "duration": 35,
    "start_time": "2022-09-09T10:26:35.571Z"
   },
   {
    "duration": 1171,
    "start_time": "2022-09-09T10:35:01.543Z"
   },
   {
    "duration": 41,
    "start_time": "2022-09-09T10:35:02.717Z"
   },
   {
    "duration": 11,
    "start_time": "2022-09-09T10:35:02.759Z"
   },
   {
    "duration": 14,
    "start_time": "2022-09-09T10:35:02.772Z"
   },
   {
    "duration": 44,
    "start_time": "2022-09-09T10:35:02.788Z"
   },
   {
    "duration": 16,
    "start_time": "2022-09-09T10:35:02.834Z"
   },
   {
    "duration": 100,
    "start_time": "2022-09-09T10:35:02.852Z"
   },
   {
    "duration": 6,
    "start_time": "2022-09-09T10:35:02.953Z"
   },
   {
    "duration": 432,
    "start_time": "2022-09-09T10:35:02.960Z"
   },
   {
    "duration": 68469,
    "start_time": "2022-09-09T10:35:03.394Z"
   },
   {
    "duration": 6286,
    "start_time": "2022-09-09T10:36:11.865Z"
   },
   {
    "duration": 4,
    "start_time": "2022-09-09T10:36:18.152Z"
   },
   {
    "duration": 79,
    "start_time": "2022-09-09T10:36:18.157Z"
   },
   {
    "duration": 31,
    "start_time": "2022-09-09T10:36:18.238Z"
   },
   {
    "duration": 5,
    "start_time": "2022-09-09T10:36:18.270Z"
   },
   {
    "duration": 12,
    "start_time": "2022-09-09T10:36:18.277Z"
   },
   {
    "duration": 21,
    "start_time": "2022-09-09T10:36:18.290Z"
   },
   {
    "duration": 21,
    "start_time": "2022-09-09T10:36:18.313Z"
   },
   {
    "duration": 5,
    "start_time": "2022-09-09T10:36:18.336Z"
   },
   {
    "duration": 1157,
    "start_time": "2022-09-09T10:36:58.688Z"
   },
   {
    "duration": 43,
    "start_time": "2022-09-09T10:36:59.847Z"
   },
   {
    "duration": 11,
    "start_time": "2022-09-09T10:36:59.892Z"
   },
   {
    "duration": 14,
    "start_time": "2022-09-09T10:36:59.905Z"
   },
   {
    "duration": 21,
    "start_time": "2022-09-09T10:36:59.920Z"
   },
   {
    "duration": 9,
    "start_time": "2022-09-09T10:36:59.943Z"
   },
   {
    "duration": 109,
    "start_time": "2022-09-09T10:36:59.953Z"
   },
   {
    "duration": 6,
    "start_time": "2022-09-09T10:37:00.064Z"
   },
   {
    "duration": 476,
    "start_time": "2022-09-09T10:37:00.072Z"
   },
   {
    "duration": 68017,
    "start_time": "2022-09-09T10:37:00.550Z"
   },
   {
    "duration": 6401,
    "start_time": "2022-09-09T10:38:08.568Z"
   },
   {
    "duration": 4,
    "start_time": "2022-09-09T10:38:14.971Z"
   },
   {
    "duration": 79,
    "start_time": "2022-09-09T10:38:14.976Z"
   },
   {
    "duration": 29,
    "start_time": "2022-09-09T10:38:15.057Z"
   },
   {
    "duration": 18,
    "start_time": "2022-09-09T10:38:15.088Z"
   },
   {
    "duration": 6,
    "start_time": "2022-09-09T10:38:15.108Z"
   },
   {
    "duration": 13,
    "start_time": "2022-09-09T10:38:15.115Z"
   },
   {
    "duration": 23,
    "start_time": "2022-09-09T10:38:15.130Z"
   },
   {
    "duration": 6,
    "start_time": "2022-09-09T10:38:15.155Z"
   },
   {
    "duration": 92,
    "start_time": "2022-09-09T10:56:32.249Z"
   },
   {
    "duration": 31,
    "start_time": "2022-09-09T10:56:40.604Z"
   },
   {
    "duration": 11,
    "start_time": "2022-09-09T10:57:17.965Z"
   },
   {
    "duration": 17,
    "start_time": "2022-09-09T10:57:28.265Z"
   },
   {
    "duration": 9,
    "start_time": "2022-09-09T10:57:32.240Z"
   },
   {
    "duration": 17,
    "start_time": "2022-09-09T10:57:37.663Z"
   },
   {
    "duration": 31,
    "start_time": "2022-09-09T10:57:45.431Z"
   },
   {
    "duration": 17,
    "start_time": "2022-09-09T10:57:50.499Z"
   },
   {
    "duration": 7,
    "start_time": "2022-09-09T10:57:52.113Z"
   },
   {
    "duration": 21,
    "start_time": "2022-09-09T10:58:07.617Z"
   },
   {
    "duration": 32,
    "start_time": "2022-09-09T10:58:59.852Z"
   },
   {
    "duration": 16,
    "start_time": "2022-09-09T10:59:15.345Z"
   },
   {
    "duration": 33,
    "start_time": "2022-09-09T11:02:09.106Z"
   },
   {
    "duration": 15,
    "start_time": "2022-09-09T11:02:16.837Z"
   },
   {
    "duration": 18,
    "start_time": "2022-09-09T11:02:19.949Z"
   },
   {
    "duration": 19,
    "start_time": "2022-09-09T11:03:32.037Z"
   },
   {
    "duration": 21,
    "start_time": "2022-09-09T11:03:36.308Z"
   },
   {
    "duration": 17,
    "start_time": "2022-09-09T11:03:41.933Z"
   },
   {
    "duration": 16,
    "start_time": "2022-09-09T11:03:47.226Z"
   },
   {
    "duration": 7,
    "start_time": "2022-09-09T11:03:51.401Z"
   },
   {
    "duration": 17,
    "start_time": "2022-09-09T11:03:57.147Z"
   },
   {
    "duration": 19,
    "start_time": "2022-09-09T11:04:05.708Z"
   },
   {
    "duration": 18,
    "start_time": "2022-09-09T11:04:10.342Z"
   },
   {
    "duration": 7,
    "start_time": "2022-09-09T11:04:12.999Z"
   },
   {
    "duration": 21,
    "start_time": "2022-09-09T11:04:35.285Z"
   },
   {
    "duration": 30,
    "start_time": "2022-09-09T11:07:04.087Z"
   },
   {
    "duration": 27,
    "start_time": "2022-09-09T11:07:16.325Z"
   },
   {
    "duration": 10,
    "start_time": "2022-09-09T11:07:26.195Z"
   },
   {
    "duration": 29,
    "start_time": "2022-09-09T11:07:50.413Z"
   },
   {
    "duration": 6,
    "start_time": "2022-09-09T11:08:11.149Z"
   },
   {
    "duration": 16,
    "start_time": "2022-09-09T11:08:20.298Z"
   },
   {
    "duration": 6,
    "start_time": "2022-09-09T11:08:29.862Z"
   },
   {
    "duration": 11,
    "start_time": "2022-09-09T11:08:37.662Z"
   },
   {
    "duration": 13,
    "start_time": "2022-09-09T11:08:43.228Z"
   },
   {
    "duration": 17,
    "start_time": "2022-09-09T11:08:47.032Z"
   },
   {
    "duration": 11,
    "start_time": "2022-09-09T11:10:47.055Z"
   },
   {
    "duration": 16,
    "start_time": "2022-09-09T11:10:50.687Z"
   },
   {
    "duration": 20,
    "start_time": "2022-09-09T11:23:35.855Z"
   },
   {
    "duration": 21,
    "start_time": "2022-09-09T11:23:43.443Z"
   },
   {
    "duration": 12,
    "start_time": "2022-09-09T11:33:02.743Z"
   },
   {
    "duration": 16,
    "start_time": "2022-09-09T11:33:09.636Z"
   },
   {
    "duration": 17,
    "start_time": "2022-09-09T11:33:13.885Z"
   },
   {
    "duration": 16,
    "start_time": "2022-09-09T11:33:18.643Z"
   },
   {
    "duration": 17,
    "start_time": "2022-09-09T11:33:52.055Z"
   },
   {
    "duration": 17,
    "start_time": "2022-09-09T11:33:57.135Z"
   },
   {
    "duration": 18,
    "start_time": "2022-09-09T11:33:59.907Z"
   },
   {
    "duration": 19,
    "start_time": "2022-09-09T11:34:04.837Z"
   },
   {
    "duration": 20,
    "start_time": "2022-09-09T11:41:25.987Z"
   },
   {
    "duration": 5,
    "start_time": "2022-09-09T11:48:34.605Z"
   },
   {
    "duration": 9,
    "start_time": "2022-09-09T11:49:24.404Z"
   },
   {
    "duration": 16,
    "start_time": "2022-09-09T11:49:29.494Z"
   },
   {
    "duration": 4,
    "start_time": "2022-09-09T11:49:31.707Z"
   },
   {
    "duration": 9,
    "start_time": "2022-09-09T11:49:34.574Z"
   },
   {
    "duration": 9,
    "start_time": "2022-09-09T11:49:40.662Z"
   },
   {
    "duration": 8,
    "start_time": "2022-09-09T11:49:54.604Z"
   },
   {
    "duration": 9,
    "start_time": "2022-09-09T11:50:07.357Z"
   },
   {
    "duration": 4,
    "start_time": "2022-09-09T11:50:16.762Z"
   },
   {
    "duration": 8,
    "start_time": "2022-09-09T11:50:31.762Z"
   },
   {
    "duration": 8,
    "start_time": "2022-09-09T11:50:37.913Z"
   },
   {
    "duration": 8,
    "start_time": "2022-09-09T11:51:38.677Z"
   },
   {
    "duration": 3,
    "start_time": "2022-09-09T11:51:51.341Z"
   },
   {
    "duration": 5,
    "start_time": "2022-09-09T11:52:29.856Z"
   },
   {
    "duration": 4,
    "start_time": "2022-09-09T11:53:40.435Z"
   },
   {
    "duration": 18,
    "start_time": "2022-09-09T11:55:41.697Z"
   },
   {
    "duration": 17,
    "start_time": "2022-09-09T11:57:43.857Z"
   },
   {
    "duration": 10,
    "start_time": "2022-09-09T11:57:51.667Z"
   },
   {
    "duration": 16,
    "start_time": "2022-09-09T11:57:54.421Z"
   },
   {
    "duration": 19,
    "start_time": "2022-09-09T11:58:01.774Z"
   },
   {
    "duration": 19,
    "start_time": "2022-09-09T12:01:46.091Z"
   },
   {
    "duration": 8,
    "start_time": "2022-09-09T12:06:11.092Z"
   },
   {
    "duration": 16,
    "start_time": "2022-09-09T12:06:18.434Z"
   },
   {
    "duration": 8,
    "start_time": "2022-09-09T12:06:19.389Z"
   },
   {
    "duration": 79,
    "start_time": "2022-09-09T12:23:46.864Z"
   },
   {
    "duration": 68,
    "start_time": "2022-09-09T12:24:00.603Z"
   },
   {
    "duration": 87,
    "start_time": "2022-09-09T12:24:11.131Z"
   },
   {
    "duration": 39,
    "start_time": "2022-09-09T12:24:41.284Z"
   },
   {
    "duration": 1047,
    "start_time": "2022-09-09T12:30:27.366Z"
   },
   {
    "duration": 43,
    "start_time": "2022-09-09T12:30:28.415Z"
   },
   {
    "duration": 11,
    "start_time": "2022-09-09T12:30:28.459Z"
   },
   {
    "duration": 16,
    "start_time": "2022-09-09T12:30:28.473Z"
   },
   {
    "duration": 27,
    "start_time": "2022-09-09T12:30:28.490Z"
   },
   {
    "duration": 9,
    "start_time": "2022-09-09T12:30:28.519Z"
   },
   {
    "duration": 115,
    "start_time": "2022-09-09T12:30:28.530Z"
   },
   {
    "duration": 6,
    "start_time": "2022-09-09T12:30:28.646Z"
   },
   {
    "duration": 8,
    "start_time": "2022-09-09T12:30:28.654Z"
   },
   {
    "duration": 437,
    "start_time": "2022-09-09T12:30:28.665Z"
   },
   {
    "duration": 67639,
    "start_time": "2022-09-09T12:30:29.106Z"
   },
   {
    "duration": 6109,
    "start_time": "2022-09-09T12:31:36.747Z"
   },
   {
    "duration": 4,
    "start_time": "2022-09-09T12:31:42.857Z"
   },
   {
    "duration": 64,
    "start_time": "2022-09-09T12:31:42.862Z"
   },
   {
    "duration": 15,
    "start_time": "2022-09-09T12:31:42.927Z"
   },
   {
    "duration": 14,
    "start_time": "2022-09-09T12:31:42.944Z"
   },
   {
    "duration": 32,
    "start_time": "2022-09-09T12:31:42.959Z"
   },
   {
    "duration": 47,
    "start_time": "2022-09-09T12:31:42.993Z"
   },
   {
    "duration": 24,
    "start_time": "2022-09-09T12:31:43.042Z"
   },
   {
    "duration": 29,
    "start_time": "2022-09-09T12:31:43.068Z"
   },
   {
    "duration": 7,
    "start_time": "2022-09-09T12:31:43.098Z"
   },
   {
    "duration": 28,
    "start_time": "2022-09-09T12:31:43.107Z"
   },
   {
    "duration": 4,
    "start_time": "2022-09-09T12:32:51.212Z"
   },
   {
    "duration": 7,
    "start_time": "2022-09-09T12:32:57.509Z"
   },
   {
    "duration": 7,
    "start_time": "2022-09-09T12:33:25.407Z"
   },
   {
    "duration": 7,
    "start_time": "2022-09-09T12:33:30.232Z"
   },
   {
    "duration": 1153,
    "start_time": "2022-09-12T10:11:03.212Z"
   },
   {
    "duration": 134,
    "start_time": "2022-09-12T10:11:04.367Z"
   },
   {
    "duration": 13,
    "start_time": "2022-09-12T10:11:04.503Z"
   },
   {
    "duration": 38,
    "start_time": "2022-09-12T10:11:04.517Z"
   },
   {
    "duration": 21,
    "start_time": "2022-09-12T10:11:04.558Z"
   },
   {
    "duration": 21,
    "start_time": "2022-09-12T10:11:04.580Z"
   },
   {
    "duration": 120,
    "start_time": "2022-09-12T10:11:04.603Z"
   },
   {
    "duration": 11,
    "start_time": "2022-09-12T10:11:04.726Z"
   },
   {
    "duration": 33,
    "start_time": "2022-09-12T10:11:04.739Z"
   },
   {
    "duration": 435,
    "start_time": "2022-09-12T10:11:04.774Z"
   },
   {
    "duration": 68429,
    "start_time": "2022-09-12T10:11:05.211Z"
   },
   {
    "duration": 6338,
    "start_time": "2022-09-12T10:12:13.642Z"
   },
   {
    "duration": 4,
    "start_time": "2022-09-12T10:12:19.982Z"
   },
   {
    "duration": 69,
    "start_time": "2022-09-12T10:12:19.990Z"
   },
   {
    "duration": 20,
    "start_time": "2022-09-12T10:12:20.061Z"
   },
   {
    "duration": 23,
    "start_time": "2022-09-12T10:12:20.082Z"
   },
   {
    "duration": 25,
    "start_time": "2022-09-12T10:12:20.107Z"
   },
   {
    "duration": 36,
    "start_time": "2022-09-12T10:12:20.134Z"
   },
   {
    "duration": 22,
    "start_time": "2022-09-12T10:12:20.172Z"
   },
   {
    "duration": 26,
    "start_time": "2022-09-12T10:12:20.196Z"
   },
   {
    "duration": 15,
    "start_time": "2022-09-12T10:12:20.224Z"
   },
   {
    "duration": 31,
    "start_time": "2022-09-12T10:12:20.241Z"
   },
   {
    "duration": 7,
    "start_time": "2022-09-12T10:15:14.999Z"
   },
   {
    "duration": 101,
    "start_time": "2022-09-12T10:16:34.650Z"
   },
   {
    "duration": 7,
    "start_time": "2022-09-12T10:16:45.287Z"
   },
   {
    "duration": 9,
    "start_time": "2022-09-12T10:17:11.720Z"
   },
   {
    "duration": 57,
    "start_time": "2022-09-12T10:19:35.059Z"
   },
   {
    "duration": 38,
    "start_time": "2022-09-12T10:20:28.299Z"
   },
   {
    "duration": 37,
    "start_time": "2022-09-12T10:20:33.755Z"
   },
   {
    "duration": 40,
    "start_time": "2022-09-12T10:20:40.993Z"
   },
   {
    "duration": 42,
    "start_time": "2022-09-12T10:21:03.270Z"
   },
   {
    "duration": 48,
    "start_time": "2022-09-12T10:21:18.220Z"
   },
   {
    "duration": 9,
    "start_time": "2022-09-12T10:22:37.867Z"
   },
   {
    "duration": 9,
    "start_time": "2022-09-12T10:22:51.571Z"
   },
   {
    "duration": 10,
    "start_time": "2022-09-12T10:23:01.196Z"
   },
   {
    "duration": 8,
    "start_time": "2022-09-12T10:23:15.387Z"
   },
   {
    "duration": 6,
    "start_time": "2022-09-12T11:05:10.584Z"
   },
   {
    "duration": 9,
    "start_time": "2022-09-12T11:12:03.916Z"
   },
   {
    "duration": 7,
    "start_time": "2022-09-12T11:12:32.261Z"
   },
   {
    "duration": 19,
    "start_time": "2022-09-12T11:12:47.706Z"
   },
   {
    "duration": 7,
    "start_time": "2022-09-12T11:13:01.040Z"
   },
   {
    "duration": 7,
    "start_time": "2022-09-12T11:13:38.751Z"
   },
   {
    "duration": 8,
    "start_time": "2022-09-12T11:14:07.778Z"
   },
   {
    "duration": 9,
    "start_time": "2022-09-12T11:14:41.151Z"
   },
   {
    "duration": 9,
    "start_time": "2022-09-12T11:14:47.069Z"
   },
   {
    "duration": 7,
    "start_time": "2022-09-12T11:14:55.579Z"
   },
   {
    "duration": 12,
    "start_time": "2022-09-12T11:15:08.254Z"
   },
   {
    "duration": 8,
    "start_time": "2022-09-12T11:15:13.555Z"
   },
   {
    "duration": 3,
    "start_time": "2022-09-12T11:15:20.614Z"
   },
   {
    "duration": 4,
    "start_time": "2022-09-12T11:16:31.133Z"
   },
   {
    "duration": 8,
    "start_time": "2022-09-12T11:16:35.571Z"
   },
   {
    "duration": 3,
    "start_time": "2022-09-12T11:18:43.320Z"
   },
   {
    "duration": 11,
    "start_time": "2022-09-12T11:20:15.144Z"
   },
   {
    "duration": 12,
    "start_time": "2022-09-12T11:20:32.917Z"
   },
   {
    "duration": 6,
    "start_time": "2022-09-12T11:21:10.043Z"
   },
   {
    "duration": 51,
    "start_time": "2022-09-12T11:24:12.878Z"
   },
   {
    "duration": 39,
    "start_time": "2022-09-12T11:24:25.912Z"
   },
   {
    "duration": 30,
    "start_time": "2022-09-12T11:25:17.120Z"
   },
   {
    "duration": 1021,
    "start_time": "2022-09-12T11:25:34.359Z"
   },
   {
    "duration": 49,
    "start_time": "2022-09-12T11:25:35.382Z"
   },
   {
    "duration": 12,
    "start_time": "2022-09-12T11:25:35.432Z"
   },
   {
    "duration": 10,
    "start_time": "2022-09-12T11:25:35.446Z"
   },
   {
    "duration": 21,
    "start_time": "2022-09-12T11:25:35.458Z"
   },
   {
    "duration": 8,
    "start_time": "2022-09-12T11:25:35.480Z"
   },
   {
    "duration": 110,
    "start_time": "2022-09-12T11:25:35.490Z"
   },
   {
    "duration": 5,
    "start_time": "2022-09-12T11:25:35.602Z"
   },
   {
    "duration": 7,
    "start_time": "2022-09-12T11:25:35.608Z"
   },
   {
    "duration": 436,
    "start_time": "2022-09-12T11:25:35.616Z"
   },
   {
    "duration": 67882,
    "start_time": "2022-09-12T11:25:36.054Z"
   },
   {
    "duration": 6094,
    "start_time": "2022-09-12T11:26:43.939Z"
   },
   {
    "duration": 4,
    "start_time": "2022-09-12T11:26:50.037Z"
   },
   {
    "duration": 62,
    "start_time": "2022-09-12T11:26:50.043Z"
   },
   {
    "duration": 15,
    "start_time": "2022-09-12T11:26:50.106Z"
   },
   {
    "duration": 23,
    "start_time": "2022-09-12T11:26:50.123Z"
   },
   {
    "duration": 19,
    "start_time": "2022-09-12T11:26:50.147Z"
   },
   {
    "duration": 6,
    "start_time": "2022-09-12T11:26:50.168Z"
   },
   {
    "duration": 32,
    "start_time": "2022-09-12T11:26:50.175Z"
   },
   {
    "duration": 4,
    "start_time": "2022-09-12T11:26:50.209Z"
   },
   {
    "duration": 7,
    "start_time": "2022-09-12T11:27:33.367Z"
   },
   {
    "duration": 93,
    "start_time": "2022-09-12T12:08:29.310Z"
   },
   {
    "duration": 14,
    "start_time": "2022-09-12T12:08:39.004Z"
   },
   {
    "duration": 17,
    "start_time": "2022-09-12T12:11:50.654Z"
   },
   {
    "duration": 14,
    "start_time": "2022-09-12T12:12:17.821Z"
   },
   {
    "duration": 5,
    "start_time": "2022-09-12T12:13:22.538Z"
   },
   {
    "duration": 12,
    "start_time": "2022-09-12T12:17:32.898Z"
   },
   {
    "duration": 6,
    "start_time": "2022-09-12T12:17:53.114Z"
   },
   {
    "duration": 4,
    "start_time": "2022-09-12T12:19:20.943Z"
   },
   {
    "duration": 5,
    "start_time": "2022-09-12T12:22:11.609Z"
   },
   {
    "duration": 1167,
    "start_time": "2022-09-12T16:57:42.331Z"
   },
   {
    "duration": 81,
    "start_time": "2022-09-12T16:57:43.500Z"
   },
   {
    "duration": 13,
    "start_time": "2022-09-12T16:57:43.583Z"
   },
   {
    "duration": 9,
    "start_time": "2022-09-12T16:57:43.598Z"
   },
   {
    "duration": 29,
    "start_time": "2022-09-12T16:57:43.608Z"
   },
   {
    "duration": 12,
    "start_time": "2022-09-12T16:57:43.639Z"
   },
   {
    "duration": 114,
    "start_time": "2022-09-12T16:57:43.653Z"
   },
   {
    "duration": 6,
    "start_time": "2022-09-12T16:57:43.769Z"
   },
   {
    "duration": 12,
    "start_time": "2022-09-12T16:57:43.777Z"
   },
   {
    "duration": 468,
    "start_time": "2022-09-12T16:57:43.792Z"
   },
   {
    "duration": 76163,
    "start_time": "2022-09-12T16:57:44.262Z"
   },
   {
    "duration": 7002,
    "start_time": "2022-09-12T16:59:00.426Z"
   },
   {
    "duration": 4,
    "start_time": "2022-09-12T16:59:07.430Z"
   },
   {
    "duration": 80,
    "start_time": "2022-09-12T16:59:07.435Z"
   },
   {
    "duration": 17,
    "start_time": "2022-09-12T16:59:07.517Z"
   },
   {
    "duration": 12,
    "start_time": "2022-09-12T16:59:07.537Z"
   },
   {
    "duration": 17,
    "start_time": "2022-09-12T16:59:07.551Z"
   },
   {
    "duration": 22,
    "start_time": "2022-09-12T16:59:07.570Z"
   },
   {
    "duration": 52,
    "start_time": "2022-09-12T16:59:07.594Z"
   },
   {
    "duration": 5,
    "start_time": "2022-09-12T16:59:07.648Z"
   },
   {
    "duration": 10,
    "start_time": "2022-09-12T16:59:07.655Z"
   },
   {
    "duration": 18,
    "start_time": "2022-09-12T16:59:07.666Z"
   },
   {
    "duration": 10,
    "start_time": "2022-09-12T16:59:07.685Z"
   },
   {
    "duration": 122,
    "start_time": "2022-09-12T16:59:07.697Z"
   },
   {
    "duration": 4,
    "start_time": "2022-09-12T17:00:08.808Z"
   },
   {
    "duration": 35,
    "start_time": "2022-09-12T17:03:37.348Z"
   },
   {
    "duration": 25,
    "start_time": "2022-09-12T17:03:52.653Z"
   },
   {
    "duration": 24,
    "start_time": "2022-09-12T17:04:07.951Z"
   },
   {
    "duration": 21,
    "start_time": "2022-09-12T17:05:09.613Z"
   },
   {
    "duration": 6,
    "start_time": "2022-09-12T17:35:57.956Z"
   },
   {
    "duration": 1187,
    "start_time": "2022-09-12T18:37:49.462Z"
   },
   {
    "duration": 44,
    "start_time": "2022-09-12T18:37:50.651Z"
   },
   {
    "duration": 12,
    "start_time": "2022-09-12T18:37:50.697Z"
   },
   {
    "duration": 11,
    "start_time": "2022-09-12T18:37:50.711Z"
   },
   {
    "duration": 16,
    "start_time": "2022-09-12T18:37:50.724Z"
   },
   {
    "duration": 10,
    "start_time": "2022-09-12T18:37:50.742Z"
   },
   {
    "duration": 145,
    "start_time": "2022-09-12T18:37:50.753Z"
   },
   {
    "duration": 7,
    "start_time": "2022-09-12T18:37:50.899Z"
   },
   {
    "duration": 8,
    "start_time": "2022-09-12T18:37:50.908Z"
   },
   {
    "duration": 495,
    "start_time": "2022-09-12T18:37:50.918Z"
   },
   {
    "duration": 75202,
    "start_time": "2022-09-12T18:37:51.415Z"
   },
   {
    "duration": 6652,
    "start_time": "2022-09-12T18:39:06.620Z"
   },
   {
    "duration": 5,
    "start_time": "2022-09-12T18:39:13.274Z"
   },
   {
    "duration": 62,
    "start_time": "2022-09-12T18:39:13.280Z"
   },
   {
    "duration": 21,
    "start_time": "2022-09-12T18:39:13.344Z"
   },
   {
    "duration": 15,
    "start_time": "2022-09-12T18:39:13.388Z"
   },
   {
    "duration": 8,
    "start_time": "2022-09-12T18:39:13.404Z"
   },
   {
    "duration": 6,
    "start_time": "2022-09-12T18:39:13.414Z"
   },
   {
    "duration": 41,
    "start_time": "2022-09-12T18:39:13.422Z"
   },
   {
    "duration": 24,
    "start_time": "2022-09-12T18:39:13.465Z"
   },
   {
    "duration": 5,
    "start_time": "2022-09-12T18:39:13.491Z"
   },
   {
    "duration": 9,
    "start_time": "2022-09-12T18:39:13.498Z"
   },
   {
    "duration": 8,
    "start_time": "2022-09-12T18:39:13.508Z"
   },
   {
    "duration": 23,
    "start_time": "2022-09-12T18:39:13.518Z"
   },
   {
    "duration": 51,
    "start_time": "2022-09-12T18:39:13.543Z"
   },
   {
    "duration": 1462,
    "start_time": "2022-09-12T19:24:30.800Z"
   },
   {
    "duration": 142,
    "start_time": "2022-09-12T19:24:32.264Z"
   },
   {
    "duration": 13,
    "start_time": "2022-09-12T19:24:32.407Z"
   },
   {
    "duration": 10,
    "start_time": "2022-09-12T19:24:32.422Z"
   },
   {
    "duration": 16,
    "start_time": "2022-09-12T19:24:32.434Z"
   },
   {
    "duration": 8,
    "start_time": "2022-09-12T19:24:32.452Z"
   },
   {
    "duration": 112,
    "start_time": "2022-09-12T19:24:32.462Z"
   },
   {
    "duration": 7,
    "start_time": "2022-09-12T19:24:32.575Z"
   },
   {
    "duration": 8,
    "start_time": "2022-09-12T19:24:32.583Z"
   },
   {
    "duration": 472,
    "start_time": "2022-09-12T19:24:32.593Z"
   },
   {
    "duration": 72369,
    "start_time": "2022-09-12T19:24:33.067Z"
   },
   {
    "duration": 6557,
    "start_time": "2022-09-12T19:25:45.437Z"
   },
   {
    "duration": 5,
    "start_time": "2022-09-12T19:25:51.995Z"
   },
   {
    "duration": 76,
    "start_time": "2022-09-12T19:25:52.002Z"
   },
   {
    "duration": 18,
    "start_time": "2022-09-12T19:25:52.080Z"
   },
   {
    "duration": 12,
    "start_time": "2022-09-12T19:25:52.099Z"
   },
   {
    "duration": 8,
    "start_time": "2022-09-12T19:25:52.113Z"
   },
   {
    "duration": 31,
    "start_time": "2022-09-12T19:25:52.123Z"
   },
   {
    "duration": 42,
    "start_time": "2022-09-12T19:25:52.156Z"
   },
   {
    "duration": 5,
    "start_time": "2022-09-12T19:25:52.200Z"
   },
   {
    "duration": 8,
    "start_time": "2022-09-12T19:25:52.206Z"
   },
   {
    "duration": 12,
    "start_time": "2022-09-12T19:25:52.215Z"
   },
   {
    "duration": 8,
    "start_time": "2022-09-12T19:25:52.229Z"
   },
   {
    "duration": 56,
    "start_time": "2022-09-12T19:25:52.239Z"
   },
   {
    "duration": 29,
    "start_time": "2022-09-12T19:25:52.297Z"
   },
   {
    "duration": 4,
    "start_time": "2022-09-12T19:36:06.795Z"
   },
   {
    "duration": 1383,
    "start_time": "2022-09-12T19:36:14.537Z"
   },
   {
    "duration": 44,
    "start_time": "2022-09-12T19:36:15.922Z"
   },
   {
    "duration": 10,
    "start_time": "2022-09-12T19:36:15.968Z"
   },
   {
    "duration": 8,
    "start_time": "2022-09-12T19:36:15.980Z"
   },
   {
    "duration": 16,
    "start_time": "2022-09-12T19:36:15.990Z"
   },
   {
    "duration": 11,
    "start_time": "2022-09-12T19:36:16.008Z"
   },
   {
    "duration": 127,
    "start_time": "2022-09-12T19:36:16.021Z"
   },
   {
    "duration": 8,
    "start_time": "2022-09-12T19:36:16.150Z"
   },
   {
    "duration": 6,
    "start_time": "2022-09-12T19:36:16.159Z"
   },
   {
    "duration": 449,
    "start_time": "2022-09-12T19:36:16.167Z"
   },
   {
    "duration": 71040,
    "start_time": "2022-09-12T19:36:16.618Z"
   },
   {
    "duration": 6384,
    "start_time": "2022-09-12T19:37:27.659Z"
   },
   {
    "duration": 10,
    "start_time": "2022-09-12T19:37:34.044Z"
   },
   {
    "duration": 61,
    "start_time": "2022-09-12T19:37:34.057Z"
   },
   {
    "duration": 17,
    "start_time": "2022-09-12T19:37:34.119Z"
   },
   {
    "duration": 23,
    "start_time": "2022-09-12T19:37:34.138Z"
   },
   {
    "duration": 8,
    "start_time": "2022-09-12T19:37:34.162Z"
   },
   {
    "duration": 4,
    "start_time": "2022-09-12T19:37:34.172Z"
   },
   {
    "duration": 39,
    "start_time": "2022-09-12T19:37:34.177Z"
   },
   {
    "duration": 4,
    "start_time": "2022-09-12T19:37:34.218Z"
   },
   {
    "duration": 4,
    "start_time": "2022-09-12T19:37:34.253Z"
   },
   {
    "duration": 18,
    "start_time": "2022-09-12T19:37:34.259Z"
   },
   {
    "duration": 26,
    "start_time": "2022-09-12T19:37:34.279Z"
   },
   {
    "duration": 55,
    "start_time": "2022-09-12T19:37:34.307Z"
   },
   {
    "duration": 20,
    "start_time": "2022-09-12T19:37:34.364Z"
   },
   {
    "duration": 45,
    "start_time": "2022-09-13T15:22:03.309Z"
   },
   {
    "duration": 1059,
    "start_time": "2022-09-13T15:22:57.820Z"
   },
   {
    "duration": 124,
    "start_time": "2022-09-13T15:22:58.881Z"
   },
   {
    "duration": 12,
    "start_time": "2022-09-13T15:22:59.007Z"
   },
   {
    "duration": 25,
    "start_time": "2022-09-13T15:22:59.020Z"
   },
   {
    "duration": 125,
    "start_time": "2022-09-13T15:22:59.047Z"
   },
   {
    "duration": 0,
    "start_time": "2022-09-13T15:22:59.174Z"
   },
   {
    "duration": 0,
    "start_time": "2022-09-13T15:22:59.175Z"
   },
   {
    "duration": 0,
    "start_time": "2022-09-13T15:22:59.176Z"
   },
   {
    "duration": 0,
    "start_time": "2022-09-13T15:22:59.177Z"
   },
   {
    "duration": 0,
    "start_time": "2022-09-13T15:22:59.179Z"
   },
   {
    "duration": 0,
    "start_time": "2022-09-13T15:22:59.180Z"
   },
   {
    "duration": 0,
    "start_time": "2022-09-13T15:22:59.181Z"
   },
   {
    "duration": 0,
    "start_time": "2022-09-13T15:22:59.182Z"
   },
   {
    "duration": 0,
    "start_time": "2022-09-13T15:22:59.183Z"
   },
   {
    "duration": 0,
    "start_time": "2022-09-13T15:22:59.184Z"
   },
   {
    "duration": 0,
    "start_time": "2022-09-13T15:22:59.185Z"
   },
   {
    "duration": 0,
    "start_time": "2022-09-13T15:22:59.186Z"
   },
   {
    "duration": 0,
    "start_time": "2022-09-13T15:22:59.187Z"
   },
   {
    "duration": 0,
    "start_time": "2022-09-13T15:22:59.188Z"
   },
   {
    "duration": 0,
    "start_time": "2022-09-13T15:22:59.188Z"
   },
   {
    "duration": 0,
    "start_time": "2022-09-13T15:22:59.189Z"
   },
   {
    "duration": 0,
    "start_time": "2022-09-13T15:22:59.190Z"
   },
   {
    "duration": 0,
    "start_time": "2022-09-13T15:22:59.191Z"
   },
   {
    "duration": 0,
    "start_time": "2022-09-13T15:22:59.192Z"
   },
   {
    "duration": 0,
    "start_time": "2022-09-13T15:22:59.193Z"
   },
   {
    "duration": 0,
    "start_time": "2022-09-13T15:22:59.194Z"
   },
   {
    "duration": 0,
    "start_time": "2022-09-13T15:22:59.222Z"
   },
   {
    "duration": 0,
    "start_time": "2022-09-13T15:22:59.223Z"
   },
   {
    "duration": 44,
    "start_time": "2022-09-13T15:34:46.946Z"
   },
   {
    "duration": 1009,
    "start_time": "2022-09-13T15:35:11.865Z"
   },
   {
    "duration": 40,
    "start_time": "2022-09-13T15:35:12.876Z"
   },
   {
    "duration": 10,
    "start_time": "2022-09-13T15:35:12.917Z"
   },
   {
    "duration": 7,
    "start_time": "2022-09-13T15:35:12.929Z"
   },
   {
    "duration": 9,
    "start_time": "2022-09-13T15:35:12.937Z"
   },
   {
    "duration": 16,
    "start_time": "2022-09-13T15:35:12.947Z"
   },
   {
    "duration": 9,
    "start_time": "2022-09-13T15:35:12.964Z"
   },
   {
    "duration": 117,
    "start_time": "2022-09-13T15:35:12.975Z"
   },
   {
    "duration": 7,
    "start_time": "2022-09-13T15:35:13.094Z"
   },
   {
    "duration": 19,
    "start_time": "2022-09-13T15:35:13.103Z"
   },
   {
    "duration": 422,
    "start_time": "2022-09-13T15:35:13.123Z"
   },
   {
    "duration": 66700,
    "start_time": "2022-09-13T15:35:13.547Z"
   },
   {
    "duration": 6023,
    "start_time": "2022-09-13T15:36:20.249Z"
   },
   {
    "duration": 3,
    "start_time": "2022-09-13T15:36:26.274Z"
   },
   {
    "duration": 59,
    "start_time": "2022-09-13T15:36:26.279Z"
   },
   {
    "duration": 15,
    "start_time": "2022-09-13T15:36:26.340Z"
   },
   {
    "duration": 10,
    "start_time": "2022-09-13T15:36:26.356Z"
   },
   {
    "duration": 9,
    "start_time": "2022-09-13T15:36:26.367Z"
   },
   {
    "duration": 6,
    "start_time": "2022-09-13T15:36:26.377Z"
   },
   {
    "duration": 57,
    "start_time": "2022-09-13T15:36:26.384Z"
   },
   {
    "duration": 4,
    "start_time": "2022-09-13T15:36:26.443Z"
   },
   {
    "duration": 12,
    "start_time": "2022-09-13T15:36:26.448Z"
   },
   {
    "duration": 11,
    "start_time": "2022-09-13T15:36:26.461Z"
   },
   {
    "duration": 9,
    "start_time": "2022-09-13T15:36:26.473Z"
   },
   {
    "duration": 35,
    "start_time": "2022-09-13T15:36:26.483Z"
   },
   {
    "duration": 17,
    "start_time": "2022-09-13T15:36:26.520Z"
   },
   {
    "duration": 70,
    "start_time": "2022-09-13T15:38:36.903Z"
   },
   {
    "duration": 4,
    "start_time": "2022-09-13T15:38:46.080Z"
   },
   {
    "duration": 4,
    "start_time": "2022-09-13T15:38:54.876Z"
   },
   {
    "duration": 5,
    "start_time": "2022-09-13T15:39:07.169Z"
   },
   {
    "duration": 6,
    "start_time": "2022-09-13T15:39:13.095Z"
   },
   {
    "duration": 4,
    "start_time": "2022-09-13T15:39:23.301Z"
   },
   {
    "duration": 176,
    "start_time": "2022-09-13T15:47:41.929Z"
   },
   {
    "duration": 337,
    "start_time": "2022-09-13T15:47:49.095Z"
   },
   {
    "duration": 216,
    "start_time": "2022-09-13T15:47:55.646Z"
   },
   {
    "duration": 206,
    "start_time": "2022-09-13T15:48:10.709Z"
   },
   {
    "duration": 179,
    "start_time": "2022-09-13T15:48:35.904Z"
   },
   {
    "duration": 9,
    "start_time": "2022-09-13T15:51:22.735Z"
   },
   {
    "duration": 15,
    "start_time": "2022-09-13T15:51:29.944Z"
   },
   {
    "duration": 106,
    "start_time": "2022-09-13T15:51:46.356Z"
   },
   {
    "duration": 99,
    "start_time": "2022-09-13T15:51:51.534Z"
   },
   {
    "duration": 225,
    "start_time": "2022-09-13T15:52:39.262Z"
   },
   {
    "duration": 117,
    "start_time": "2022-09-13T15:54:03.005Z"
   },
   {
    "duration": 104,
    "start_time": "2022-09-13T15:54:13.100Z"
   },
   {
    "duration": 109,
    "start_time": "2022-09-13T15:54:17.560Z"
   },
   {
    "duration": 112,
    "start_time": "2022-09-13T15:54:30.393Z"
   },
   {
    "duration": 127,
    "start_time": "2022-09-13T15:55:11.051Z"
   },
   {
    "duration": 130,
    "start_time": "2022-09-13T15:55:21.543Z"
   },
   {
    "duration": 118,
    "start_time": "2022-09-13T15:55:26.390Z"
   },
   {
    "duration": 122,
    "start_time": "2022-09-13T15:55:32.067Z"
   },
   {
    "duration": 145,
    "start_time": "2022-09-13T15:56:54.602Z"
   },
   {
    "duration": 62,
    "start_time": "2022-09-13T15:57:15.583Z"
   },
   {
    "duration": 133,
    "start_time": "2022-09-13T15:57:18.305Z"
   },
   {
    "duration": 212,
    "start_time": "2022-09-13T15:58:04.535Z"
   },
   {
    "duration": 24,
    "start_time": "2022-09-13T16:59:29.079Z"
   },
   {
    "duration": 71,
    "start_time": "2022-09-13T16:59:37.852Z"
   },
   {
    "duration": 23,
    "start_time": "2022-09-13T16:59:46.437Z"
   },
   {
    "duration": 70,
    "start_time": "2022-09-13T17:02:27.755Z"
   }
  ],
  "kernelspec": {
   "display_name": "Python 3 (ipykernel)",
   "language": "python",
   "name": "python3"
  },
  "language_info": {
   "codemirror_mode": {
    "name": "ipython",
    "version": 3
   },
   "file_extension": ".py",
   "mimetype": "text/x-python",
   "name": "python",
   "nbconvert_exporter": "python",
   "pygments_lexer": "ipython3",
   "version": "3.9.12"
  },
  "toc": {
   "base_numbering": 1,
   "nav_menu": {},
   "number_sections": true,
   "sideBar": true,
   "skip_h1_title": true,
   "title_cell": "Содержание",
   "title_sidebar": "Contents",
   "toc_cell": true,
   "toc_position": {
    "height": "calc(100% - 180px)",
    "left": "10px",
    "top": "150px",
    "width": "366.188px"
   },
   "toc_section_display": true,
   "toc_window_display": true
  }
 },
 "nbformat": 4,
 "nbformat_minor": 2
}
