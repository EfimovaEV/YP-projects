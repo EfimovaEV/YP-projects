{
 "cells": [
  {
   "cell_type": "markdown",
   "metadata": {},
   "source": [
    "# Защита персональных данных клиентов"
   ]
  },
  {
   "cell_type": "markdown",
   "metadata": {},
   "source": [
    "Вам нужно защитить данные клиентов страховой компании. Разработайте такой метод преобразования данных, чтобы по ним было сложно восстановить персональную информацию. Обоснуйте корректность его работы.\n",
    "\n",
    "Нужно защитить данные, чтобы при преобразовании качество моделей машинного обучения не ухудшилось. Подбирать наилучшую модель не требуется."
   ]
  },
  {
   "cell_type": "markdown",
   "metadata": {
    "toc": true
   },
   "source": [
    "<h1>Содержание<span class=\"tocSkip\"></span></h1>\n",
    "<div class=\"toc\"><ul class=\"toc-item\"><li><span><a href=\"#Подготовка-данных\" data-toc-modified-id=\"Подготовка-данных-1\"><span class=\"toc-item-num\">1&nbsp;&nbsp;</span>Подготовка данных</a></span><ul class=\"toc-item\"><li><span><a href=\"#Загрузка-данных\" data-toc-modified-id=\"Загрузка-данных-1.1\"><span class=\"toc-item-num\">1.1&nbsp;&nbsp;</span>Загрузка данных</a></span></li><li><span><a href=\"#Подготовка-признаков\" data-toc-modified-id=\"Подготовка-признаков-1.2\"><span class=\"toc-item-num\">1.2&nbsp;&nbsp;</span>Подготовка признаков</a></span></li><li><span><a href=\"#Обучение-модели-линейной-регрессии\" data-toc-modified-id=\"Обучение-модели-линейной-регрессии-1.3\"><span class=\"toc-item-num\">1.3&nbsp;&nbsp;</span>Обучение модели линейной регрессии</a></span></li></ul></li><li><span><a href=\"#Алгоритм-преобразования\" data-toc-modified-id=\"Алгоритм-преобразования-2\"><span class=\"toc-item-num\">2&nbsp;&nbsp;</span>Алгоритм преобразования</a></span><ul class=\"toc-item\"><li><span><a href=\"#Описание\" data-toc-modified-id=\"Описание-2.1\"><span class=\"toc-item-num\">2.1&nbsp;&nbsp;</span>Описание</a></span></li><li><span><a href=\"#Обоснование\" data-toc-modified-id=\"Обоснование-2.2\"><span class=\"toc-item-num\">2.2&nbsp;&nbsp;</span>Обоснование</a></span></li><li><span><a href=\"#Подбор-матрицы\" data-toc-modified-id=\"Подбор-матрицы-2.3\"><span class=\"toc-item-num\">2.3&nbsp;&nbsp;</span>Подбор матрицы</a></span></li></ul></li><li><span><a href=\"#Проверка-алгоритма\" data-toc-modified-id=\"Проверка-алгоритма-3\"><span class=\"toc-item-num\">3&nbsp;&nbsp;</span>Проверка алгоритма</a></span></li><li><span><a href=\"#Выводы\" data-toc-modified-id=\"Выводы-4\"><span class=\"toc-item-num\">4&nbsp;&nbsp;</span>Выводы</a></span></li></ul></div>"
   ]
  },
  {
   "cell_type": "markdown",
   "metadata": {},
   "source": [
    "## Подготовка данных"
   ]
  },
  {
   "cell_type": "markdown",
   "metadata": {},
   "source": [
    "### Загрузка данных"
   ]
  },
  {
   "cell_type": "code",
   "execution_count": 1,
   "metadata": {},
   "outputs": [],
   "source": [
    "import numpy as np\n",
    "import pandas as pd\n",
    "import matplotlib.pyplot as plt\n",
    "\n",
    "from sklearn.metrics import r2_score, mean_absolute_error\n",
    "\n",
    "from sklearn.model_selection import train_test_split\n",
    "from sklearn.linear_model import LinearRegression"
   ]
  },
  {
   "cell_type": "code",
   "execution_count": 2,
   "metadata": {},
   "outputs": [],
   "source": [
    "data = pd.read_csv('datasets/insurance.csv')"
   ]
  },
  {
   "cell_type": "code",
   "execution_count": 3,
   "metadata": {},
   "outputs": [
    {
     "data": {
      "text/html": [
       "<div>\n",
       "<style scoped>\n",
       "    .dataframe tbody tr th:only-of-type {\n",
       "        vertical-align: middle;\n",
       "    }\n",
       "\n",
       "    .dataframe tbody tr th {\n",
       "        vertical-align: top;\n",
       "    }\n",
       "\n",
       "    .dataframe thead th {\n",
       "        text-align: right;\n",
       "    }\n",
       "</style>\n",
       "<table border=\"1\" class=\"dataframe\">\n",
       "  <thead>\n",
       "    <tr style=\"text-align: right;\">\n",
       "      <th></th>\n",
       "      <th>Пол</th>\n",
       "      <th>Возраст</th>\n",
       "      <th>Зарплата</th>\n",
       "      <th>Члены семьи</th>\n",
       "      <th>Страховые выплаты</th>\n",
       "    </tr>\n",
       "  </thead>\n",
       "  <tbody>\n",
       "    <tr>\n",
       "      <th>0</th>\n",
       "      <td>1</td>\n",
       "      <td>41.0</td>\n",
       "      <td>49600.0</td>\n",
       "      <td>1</td>\n",
       "      <td>0</td>\n",
       "    </tr>\n",
       "    <tr>\n",
       "      <th>1</th>\n",
       "      <td>0</td>\n",
       "      <td>46.0</td>\n",
       "      <td>38000.0</td>\n",
       "      <td>1</td>\n",
       "      <td>1</td>\n",
       "    </tr>\n",
       "    <tr>\n",
       "      <th>2</th>\n",
       "      <td>0</td>\n",
       "      <td>29.0</td>\n",
       "      <td>21000.0</td>\n",
       "      <td>0</td>\n",
       "      <td>0</td>\n",
       "    </tr>\n",
       "    <tr>\n",
       "      <th>3</th>\n",
       "      <td>0</td>\n",
       "      <td>21.0</td>\n",
       "      <td>41700.0</td>\n",
       "      <td>2</td>\n",
       "      <td>0</td>\n",
       "    </tr>\n",
       "    <tr>\n",
       "      <th>4</th>\n",
       "      <td>1</td>\n",
       "      <td>28.0</td>\n",
       "      <td>26100.0</td>\n",
       "      <td>0</td>\n",
       "      <td>0</td>\n",
       "    </tr>\n",
       "  </tbody>\n",
       "</table>\n",
       "</div>"
      ],
      "text/plain": [
       "   Пол  Возраст  Зарплата  Члены семьи  Страховые выплаты\n",
       "0    1     41.0   49600.0            1                  0\n",
       "1    0     46.0   38000.0            1                  1\n",
       "2    0     29.0   21000.0            0                  0\n",
       "3    0     21.0   41700.0            2                  0\n",
       "4    1     28.0   26100.0            0                  0"
      ]
     },
     "execution_count": 3,
     "metadata": {},
     "output_type": "execute_result"
    }
   ],
   "source": [
    "data.head()"
   ]
  },
  {
   "cell_type": "code",
   "execution_count": 4,
   "metadata": {},
   "outputs": [
    {
     "name": "stdout",
     "output_type": "stream",
     "text": [
      "<class 'pandas.core.frame.DataFrame'>\n",
      "RangeIndex: 5000 entries, 0 to 4999\n",
      "Data columns (total 5 columns):\n",
      " #   Column             Non-Null Count  Dtype  \n",
      "---  ------             --------------  -----  \n",
      " 0   Пол                5000 non-null   int64  \n",
      " 1   Возраст            5000 non-null   float64\n",
      " 2   Зарплата           5000 non-null   float64\n",
      " 3   Члены семьи        5000 non-null   int64  \n",
      " 4   Страховые выплаты  5000 non-null   int64  \n",
      "dtypes: float64(2), int64(3)\n",
      "memory usage: 195.4 KB\n"
     ]
    }
   ],
   "source": [
    "data.info()"
   ]
  },
  {
   "cell_type": "markdown",
   "metadata": {},
   "source": [
    "В данных отсутствуют пропуски. Предобработка не требуется."
   ]
  },
  {
   "cell_type": "markdown",
   "metadata": {},
   "source": [
    "### Подготовка признаков"
   ]
  },
  {
   "cell_type": "markdown",
   "metadata": {},
   "source": [
    "**Признаки:**\n",
    "- пол\n",
    "- возраст\n",
    "- зарплата\n",
    "- количество членов семьи\n",
    "\n",
    "**Целевой признак:** количество страховых выплат клиенту за последние 5 лет."
   ]
  },
  {
   "cell_type": "code",
   "execution_count": 5,
   "metadata": {},
   "outputs": [],
   "source": [
    "features = data.drop(['Страховые выплаты'], axis=1)    \n",
    "target = data['Страховые выплаты']    "
   ]
  },
  {
   "cell_type": "markdown",
   "metadata": {},
   "source": [
    "Необходимо разделить доступные данные на обучающую и тестовую выборки."
   ]
  },
  {
   "cell_type": "code",
   "execution_count": 6,
   "metadata": {},
   "outputs": [
    {
     "name": "stdout",
     "output_type": "stream",
     "text": [
      "Обучающая выборка: 3750 строк\n",
      "Валидационная выборка: 1250 строк\n"
     ]
    }
   ],
   "source": [
    "features_valid, features_train, target_valid, target_train = \\\n",
    "    train_test_split(features, target, test_size=.75, random_state=1)\n",
    "\n",
    "print('Обучающая выборка:', features_train.shape[0], 'строк')\n",
    "print('Валидационная выборка:', features_valid.shape[0], 'строк')"
   ]
  },
  {
   "cell_type": "markdown",
   "metadata": {},
   "source": [
    "### Обучение модели линейной регрессии"
   ]
  },
  {
   "cell_type": "markdown",
   "metadata": {},
   "source": [
    "Несмотря на то, что количество возможных значений целевого признака невелико, перед нами стоит задача регрессии. В качестве  рабочей модели используется модель линейной регрессии. Однако предсказания модели могут иметь любое значение, в то время как количество страховых выплат является целым числом. Поэтому результаты расчетов должны быть округлены."
   ]
  },
  {
   "cell_type": "code",
   "execution_count": 7,
   "metadata": {},
   "outputs": [],
   "source": [
    "model = LinearRegression()\n",
    "model.fit(features_train, target_train)\n",
    "\n",
    "predictions = model.predict(features_valid)"
   ]
  },
  {
   "cell_type": "markdown",
   "metadata": {},
   "source": [
    "Основной метрикой является $R^2$."
   ]
  },
  {
   "cell_type": "code",
   "execution_count": 8,
   "metadata": {},
   "outputs": [
    {
     "name": "stdout",
     "output_type": "stream",
     "text": [
      "R² = 0.64\n"
     ]
    }
   ],
   "source": [
    "r2 = r2_score(target_valid, predictions.round())\n",
    "print('R\\u00b2 =', r2.round(2))"
   ]
  },
  {
   "cell_type": "markdown",
   "metadata": {},
   "source": [
    "## Алгоритм преобразования"
   ]
  },
  {
   "cell_type": "markdown",
   "metadata": {},
   "source": [
    "### Описание"
   ]
  },
  {
   "cell_type": "markdown",
   "metadata": {},
   "source": [
    "Пробразование имеет вид\n",
    "\n",
    "$X' = X \\cdot P$\n",
    "\n",
    "Матрица преобразования $P$ есть матрица линейного отображения. Мы не можем изменить количество признаков, поэтому $P$ является квадратной. Матрица преобразования должна быть линейно независимой, так как иначе один или несколько новых признаков окажутся линейной комбинацией других, что приведет к потере данных."
   ]
  },
  {
   "cell_type": "markdown",
   "metadata": {},
   "source": [
    "**Ответ:** Если $P$ обратимая, то результат предсказаний модели линейной регрессии будет неизменным."
   ]
  },
  {
   "cell_type": "markdown",
   "metadata": {},
   "source": [
    "### Обоснование"
   ]
  },
  {
   "cell_type": "markdown",
   "metadata": {},
   "source": [
    "При доказательстве будут использованы следующие свойства матриц:\n",
    "\n",
    "1. $A \\cdot (BC) = (AB) \\cdot C$\n",
    "1. $(A B)^T = B^T A^T$\n",
    "2. $(A B)^{-1} = B^{-1} A^{-1}$\n",
    "3. $(A^T)^{-1} = (A^{-1})^T = A^{-T}$\n",
    "\n",
    "После обучения предсказания вычисляются как\n",
    "\n",
    "$a = \\hat{X}\\cdot w,$\n",
    "\n",
    "где $\\hat{X}$ - признаки, для которых необходимо сделать предсказания.\n",
    "\n",
    "В результате обучения вектор весов линейной регрессии\n",
    "\n",
    "$w = (X^T X)^{-1} X^T y,$\n",
    "\n",
    "где $X$ - признаки из обучающей выборки,\n",
    "\n",
    " $\\quad y$ - целевые признаки обучающей выборки.\n",
    "\n",
    "Тогда можно опредлить предсказания по следующей формуле:\n",
    "\n",
    "$a = \\hat{X} \\cdot(X^T X)^{-1} X^T y,$\n",
    "\n",
    "Рассмотрим подробно процесс, происходящий при обучении с использованием преобразования.\n",
    "\n",
    "**1. Преобразование признаков.**\n",
    "\n",
    "$\\quad \\quad X' = X \\cdot P$\n",
    "\n",
    "$\\quad \\quad \\hat{X'} = \\hat{X} \\cdot P$\n",
    "\n",
    "где\n",
    "\\begin{equation}\n",
    " P = \n",
    " \\begin{pmatrix}\n",
    "  p_{11} & \\dots  & p_{1n}\\\\\n",
    "  \\vdots & \\ddots & \\vdots \\\\\n",
    "  p_{n1} & \\dots  & p_{nn}\n",
    " \\end{pmatrix}\n",
    "\\end{equation}\n",
    "\n",
    "**2. Обучение модели**\n",
    "\n",
    "  Для обучения матрица признаков трансформируется.\n",
    "\n",
    "\\begin{equation*}\n",
    " \\begin{pmatrix}\n",
    "  x_{11} & \\dots  & x_{1n}\\\\\n",
    "  \\vdots & \\ddots & \\vdots \\\\\n",
    "  x_{n1} & \\dots  & x_{nn}\n",
    " \\end{pmatrix}\n",
    " \\longrightarrow \n",
    " \\begin{pmatrix}\n",
    "  1 & x_{11} & \\dots  & x_{1n}\\\\\n",
    "  1 & \\vdots & \\ddots & \\vdots \\\\\n",
    "  1 & x_{n1} & \\dots  & x_{nn}\n",
    " \\end{pmatrix}\n",
    "\\end{equation*}   \n",
    "\n",
    "\\begin{equation*}\n",
    " (w_1, w_2, \\dots, w_n) \\longrightarrow (w_0, w_1, w_2, \\dots, w_n)\n",
    "\\end{equation*}   \n",
    "\n",
    "Так как признаки были преобразованы матрицей $P$, необходимо трансформировать и ее:\n",
    "\n",
    "\\begin{equation*}\n",
    "  \\begin{pmatrix}\n",
    "  p_{11} & \\dots  & p_{1n}\\\\\n",
    "  \\vdots & \\ddots & \\vdots \\\\\n",
    "  p_{n1} & \\dots  & p_{nn}\n",
    " \\end{pmatrix}\n",
    " \\longrightarrow \n",
    " \\begin{pmatrix}\n",
    "  1 & 0 & \\dots  & 0\\\\\n",
    "  0 & p_{11} & \\dots  & p_{1n}\\\\\n",
    "  0 & \\vdots & \\ddots & \\vdots \\\\\n",
    "  0 & p_{n1} & \\dots  & p_{nn}\n",
    " \\end{pmatrix},\n",
    "\\end{equation*}\n",
    "\n",
    "тогда будет справедливо:\n",
    "\n",
    "$\\quad \\quad X' = X \\cdot P$\n",
    "\n",
    "$\\quad \\quad \\hat{X'} = \\hat{X} \\cdot P$\n",
    "\n",
    "  В результате обучения определен вектор $w$:\n",
    "\n",
    "$\\quad \\quad w = ((X P)^T (X P))^{-1} (X P)^T y = (P^T X^T X P)^{-1} P^T X^T y = (P^T \\cdot (X^T X) \\cdot P)^{-1} P^T X^T y = P^{-1} \\cdot (X^T X)^{-1} \\cdot P^{-T} P^T X^T y =$\n",
    "\n",
    "$\\quad \\quad \\quad= P^{-1} \\cdot (X^T  X)^{-1} \\cdot X^T y$\n",
    "\n",
    "**3. Предсказания модели**\n",
    "\n",
    "В результате расчетов \n",
    "\n",
    "$a = (\\hat{X}P) \\cdot w = (\\hat{X} P) \\cdot (P^{-1} (X^T X)^{-1} X^T y) = \\hat{X} \\cdot (P P^{-1}) \\cdot (X^T X)^{-1} X^T y = \\hat{X} (X^T X)^{-1} X^T y$\n",
    "\n",
    "Данное выражение совпадает с тем, которое было получено без преобразования признаков. То есть преобразование не влияет на результат обучения линейной модели.\n",
    "\n",
    "Важным для данного вывода свойством матрицы $P$ является то, что для нее существует обратная: то есть она является квадратной и невырожденной. Эти же свойства разумны с точки зрения постановки задачи. Таким образом достаточно обеспечить для матрицы $P$ выполнение этих условий."
   ]
  },
  {
   "cell_type": "markdown",
   "metadata": {},
   "source": [
    "### Подбор матрицы"
   ]
  },
  {
   "cell_type": "markdown",
   "metadata": {},
   "source": [
    "Важным условием результирующих признаков является то, что по ним сложно восстановить данные. У каждого из признаков есть свои особенности, которые должны быть нивелированы: \n",
    "\n",
    "- `Пол` является категориальным признаком\n",
    "- `Возраст` и `Зарплата` имеют большие амплитуды по сравнению с другими признаками\n",
    "- `Члены семьи` имеют весьма ограниченный набор значений.\n",
    "\n",
    "После преобразования признаки должны:\n",
    "- Иметь сопоставимые значения\n",
    "- Не быть дискретными\n",
    "\n",
    "Простыми словами, в итоге матрица признаков должна иметь вид случайной матрицы.\n",
    "\n",
    "Предлагается подобрать такие коэффициенты, чтобы, во-первых, масштабировать признаки, во-вторых, каждый новый признак имел вклад от всех начальных. Сформируем матрицу следующим образом:\n",
    "\n",
    "1. Для каждого признака определим коэффициент масштабирования(1 / наибольшее значение).\n",
    "2. Домножим строку из случайных чисел от 0 до 1 на этот коэффициент."
   ]
  },
  {
   "cell_type": "code",
   "execution_count": 9,
   "metadata": {},
   "outputs": [
    {
     "name": "stdout",
     "output_type": "stream",
     "text": [
      "[[0.4170 0.7203 0.0001 0.3023]\n",
      " [0.0023 0.0014 0.0029 0.0053]\n",
      " [0.0000 0.0000 0.0000 0.0000]\n",
      " [0.0341 0.1464 0.0046 0.1117]]\n"
     ]
    }
   ],
   "source": [
    "def get_transformation_matrix(features):\n",
    "\n",
    "    rng = np.random.RandomState(1)\n",
    "    n = len(features.columns)\n",
    "\n",
    "    P = np.zeros((n, n))\n",
    "    while np.linalg.det(P) == 0:\n",
    "        i = 0\n",
    "        for col in features.columns:\n",
    "            factor = 1 / features[col].max()\n",
    "            P[i] = factor * rng.rand(4)\n",
    "            i += 1\n",
    "    \n",
    "    return P\n",
    "\n",
    "P = get_transformation_matrix(features)\n",
    "with np.printoptions(precision=4, suppress=True, floatmode='fixed'):\n",
    "    print(P)"
   ]
  },
  {
   "cell_type": "markdown",
   "metadata": {},
   "source": [
    "## Проверка алгоритма"
   ]
  },
  {
   "cell_type": "markdown",
   "metadata": {},
   "source": [
    "Для проверки необходимо обучить модель с измененными признаками:"
   ]
  },
  {
   "cell_type": "code",
   "execution_count": 10,
   "metadata": {},
   "outputs": [],
   "source": [
    "model_upd = LinearRegression()\n",
    "model_upd.fit(features_train.values.dot(P), target_train)\n",
    "\n",
    "predictions_upd = model_upd.predict(features_valid.values.dot(P))"
   ]
  },
  {
   "cell_type": "markdown",
   "metadata": {},
   "source": [
    "Сравним предсказания с начальными:"
   ]
  },
  {
   "cell_type": "code",
   "execution_count": 11,
   "metadata": {},
   "outputs": [
    {
     "data": {
      "text/plain": [
       "0.0"
      ]
     },
     "execution_count": 11,
     "metadata": {},
     "output_type": "execute_result"
    }
   ],
   "source": [
    "mean_absolute_error(predictions, predictions_upd).round(3)"
   ]
  },
  {
   "cell_type": "markdown",
   "metadata": {},
   "source": [
    "Очевидно, что предсказания совпадают. Посчитаем метрику $R^2$ для новой модели:"
   ]
  },
  {
   "cell_type": "code",
   "execution_count": 12,
   "metadata": {
    "scrolled": true
   },
   "outputs": [
    {
     "name": "stdout",
     "output_type": "stream",
     "text": [
      "R² = 0.64\n"
     ]
    }
   ],
   "source": [
    "r2_upd = r2_score(target_valid, predictions.round())\n",
    "print('R\\u00b2 =', r2.round(2))"
   ]
  },
  {
   "cell_type": "code",
   "execution_count": 13,
   "metadata": {},
   "outputs": [
    {
     "data": {
      "text/plain": [
       "0.0"
      ]
     },
     "execution_count": 13,
     "metadata": {},
     "output_type": "execute_result"
    }
   ],
   "source": [
    "r2 - r2_upd"
   ]
  },
  {
   "cell_type": "markdown",
   "metadata": {},
   "source": [
    "Метрики совпадают."
   ]
  },
  {
   "cell_type": "markdown",
   "metadata": {},
   "source": [
    "**Вывод**\n",
    "\n",
    "Как было показано ранее, для модели линейной регрессии использование матрицы преобразований не приводит к изменению предсказаний и, как следствие, к ухудшению качества модели."
   ]
  },
  {
   "cell_type": "markdown",
   "metadata": {},
   "source": [
    "## Выводы"
   ]
  },
  {
   "cell_type": "markdown",
   "metadata": {},
   "source": [
    "В рамках проекта был предложен и обоснован метод преобразования данных для защиты персональной информации. Было доказано, что при трансформации данных при помощи домножения на обратимую матрицу результат предсказаний модели линейной регрессии не изменится. \n",
    "\n",
    "Так же была подобрана матрица преобразования так, чтобы сложно было восстановить начальные данные. Продемонстрировано, что предсказания модели не меняются, и, как следствие, качество модели линейной регрессии не ухудшается."
   ]
  }
 ],
 "metadata": {
  "ExecuteTimeLog": [
   {
    "duration": 1128,
    "start_time": "2022-10-21T10:51:00.163Z"
   },
   {
    "duration": 108,
    "start_time": "2022-10-21T10:51:30.672Z"
   },
   {
    "duration": 100,
    "start_time": "2022-10-21T10:51:37.184Z"
   },
   {
    "duration": 14,
    "start_time": "2022-10-21T10:51:44.746Z"
   },
   {
    "duration": 48,
    "start_time": "2022-10-24T09:44:33.897Z"
   },
   {
    "duration": 1097,
    "start_time": "2022-10-24T09:44:39.602Z"
   },
   {
    "duration": 99,
    "start_time": "2022-10-24T09:44:40.701Z"
   },
   {
    "duration": 18,
    "start_time": "2022-10-24T09:44:40.802Z"
   },
   {
    "duration": 10,
    "start_time": "2022-10-24T09:44:40.823Z"
   },
   {
    "duration": 5,
    "start_time": "2022-10-24T09:46:37.633Z"
   },
   {
    "duration": 5,
    "start_time": "2022-10-24T09:47:48.458Z"
   },
   {
    "duration": 4,
    "start_time": "2022-10-24T09:48:37.721Z"
   },
   {
    "duration": 27,
    "start_time": "2022-10-24T09:49:58.521Z"
   },
   {
    "duration": 3,
    "start_time": "2022-10-24T09:55:41.836Z"
   },
   {
    "duration": 10,
    "start_time": "2022-10-24T09:57:12.660Z"
   },
   {
    "duration": 9,
    "start_time": "2022-10-24T09:57:44.098Z"
   },
   {
    "duration": 97,
    "start_time": "2022-10-24T09:58:49.987Z"
   },
   {
    "duration": 7,
    "start_time": "2022-10-24T10:00:02.000Z"
   },
   {
    "duration": 4,
    "start_time": "2022-10-24T10:00:23.299Z"
   },
   {
    "duration": 5,
    "start_time": "2022-10-24T10:00:35.886Z"
   },
   {
    "duration": 5,
    "start_time": "2022-10-24T10:00:42.686Z"
   },
   {
    "duration": 3,
    "start_time": "2022-10-24T10:00:59.848Z"
   },
   {
    "duration": 143,
    "start_time": "2022-10-24T10:01:17.324Z"
   },
   {
    "duration": 122,
    "start_time": "2022-10-24T10:01:21.211Z"
   },
   {
    "duration": 5,
    "start_time": "2022-10-24T10:01:21.537Z"
   },
   {
    "duration": 5,
    "start_time": "2022-10-24T10:01:24.925Z"
   },
   {
    "duration": 4,
    "start_time": "2022-10-24T10:01:25.836Z"
   },
   {
    "duration": 4,
    "start_time": "2022-10-24T10:02:08.062Z"
   },
   {
    "duration": 5,
    "start_time": "2022-10-24T10:02:12.950Z"
   },
   {
    "duration": 4,
    "start_time": "2022-10-24T10:02:35.287Z"
   },
   {
    "duration": 9,
    "start_time": "2022-10-24T10:02:45.499Z"
   },
   {
    "duration": 7,
    "start_time": "2022-10-24T10:02:58.836Z"
   },
   {
    "duration": 7,
    "start_time": "2022-10-24T10:03:00.198Z"
   },
   {
    "duration": 8,
    "start_time": "2022-10-24T10:03:07.611Z"
   },
   {
    "duration": 6,
    "start_time": "2022-10-24T10:03:12.050Z"
   },
   {
    "duration": 4,
    "start_time": "2022-10-24T10:03:21.205Z"
   },
   {
    "duration": 5,
    "start_time": "2022-10-24T10:03:28.937Z"
   },
   {
    "duration": 5,
    "start_time": "2022-10-24T10:03:31.149Z"
   },
   {
    "duration": 5,
    "start_time": "2022-10-24T10:03:34.011Z"
   },
   {
    "duration": 148,
    "start_time": "2022-10-24T10:03:59.950Z"
   },
   {
    "duration": 132,
    "start_time": "2022-10-24T10:04:00.586Z"
   },
   {
    "duration": 5,
    "start_time": "2022-10-24T10:04:01.299Z"
   },
   {
    "duration": 4,
    "start_time": "2022-10-24T10:04:01.925Z"
   },
   {
    "duration": 4,
    "start_time": "2022-10-24T10:04:04.112Z"
   },
   {
    "duration": 8,
    "start_time": "2022-10-24T10:04:14.628Z"
   },
   {
    "duration": 6,
    "start_time": "2022-10-24T10:04:16.774Z"
   },
   {
    "duration": 144,
    "start_time": "2022-10-24T10:04:42.361Z"
   },
   {
    "duration": 4,
    "start_time": "2022-10-24T10:04:43.587Z"
   },
   {
    "duration": 84,
    "start_time": "2022-10-24T10:06:18.601Z"
   },
   {
    "duration": 4,
    "start_time": "2022-10-24T10:06:19.012Z"
   },
   {
    "duration": 121,
    "start_time": "2022-10-24T10:06:36.839Z"
   },
   {
    "duration": 4,
    "start_time": "2022-10-24T10:06:37.638Z"
   },
   {
    "duration": 5,
    "start_time": "2022-10-24T10:06:42.342Z"
   },
   {
    "duration": 4,
    "start_time": "2022-10-24T10:06:42.825Z"
   },
   {
    "duration": 6,
    "start_time": "2022-10-24T10:06:45.237Z"
   },
   {
    "duration": 4,
    "start_time": "2022-10-24T10:07:05.138Z"
   },
   {
    "duration": 4,
    "start_time": "2022-10-24T10:07:15.750Z"
   },
   {
    "duration": 3,
    "start_time": "2022-10-24T10:07:28.951Z"
   },
   {
    "duration": 148,
    "start_time": "2022-10-24T10:07:51.313Z"
   },
   {
    "duration": 127,
    "start_time": "2022-10-24T10:08:01.477Z"
   },
   {
    "duration": 6,
    "start_time": "2022-10-24T10:08:04.450Z"
   },
   {
    "duration": 167,
    "start_time": "2022-10-24T10:08:08.665Z"
   },
   {
    "duration": 254,
    "start_time": "2022-10-24T10:09:34.062Z"
   },
   {
    "duration": 289,
    "start_time": "2022-10-24T10:09:58.103Z"
   },
   {
    "duration": 289,
    "start_time": "2022-10-24T10:10:20.876Z"
   },
   {
    "duration": 338,
    "start_time": "2022-10-24T10:10:29.188Z"
   },
   {
    "duration": 249,
    "start_time": "2022-10-24T10:10:44.214Z"
   },
   {
    "duration": 5,
    "start_time": "2022-10-24T10:10:47.601Z"
   },
   {
    "duration": 5,
    "start_time": "2022-10-24T10:10:50.189Z"
   },
   {
    "duration": 6,
    "start_time": "2022-10-24T10:10:50.801Z"
   },
   {
    "duration": 6,
    "start_time": "2022-10-24T10:10:51.214Z"
   },
   {
    "duration": 185,
    "start_time": "2022-10-24T10:10:58.365Z"
   },
   {
    "duration": 4,
    "start_time": "2022-10-24T10:10:59.163Z"
   },
   {
    "duration": 5,
    "start_time": "2022-10-24T10:10:59.587Z"
   },
   {
    "duration": 5,
    "start_time": "2022-10-24T10:11:00.188Z"
   },
   {
    "duration": 5,
    "start_time": "2022-10-24T10:11:02.201Z"
   },
   {
    "duration": 6,
    "start_time": "2022-10-24T10:11:02.376Z"
   },
   {
    "duration": 219,
    "start_time": "2022-10-24T10:11:36.702Z"
   },
   {
    "duration": 4,
    "start_time": "2022-10-24T10:11:38.713Z"
   },
   {
    "duration": 4,
    "start_time": "2022-10-24T10:11:39.351Z"
   },
   {
    "duration": 4,
    "start_time": "2022-10-24T10:11:41.377Z"
   },
   {
    "duration": 5,
    "start_time": "2022-10-24T10:11:41.564Z"
   },
   {
    "duration": 4,
    "start_time": "2022-10-24T10:11:45.139Z"
   },
   {
    "duration": 5,
    "start_time": "2022-10-24T10:11:45.451Z"
   },
   {
    "duration": 5,
    "start_time": "2022-10-24T10:11:45.663Z"
   },
   {
    "duration": 4,
    "start_time": "2022-10-24T10:11:46.090Z"
   },
   {
    "duration": 143,
    "start_time": "2022-10-24T10:11:58.751Z"
   },
   {
    "duration": 4,
    "start_time": "2022-10-24T10:11:59.989Z"
   },
   {
    "duration": 4,
    "start_time": "2022-10-24T10:12:00.163Z"
   },
   {
    "duration": 4,
    "start_time": "2022-10-24T10:12:00.325Z"
   },
   {
    "duration": 5,
    "start_time": "2022-10-24T10:15:36.628Z"
   },
   {
    "duration": 7,
    "start_time": "2022-10-24T10:15:36.916Z"
   },
   {
    "duration": 7,
    "start_time": "2022-10-24T10:15:37.190Z"
   },
   {
    "duration": 5,
    "start_time": "2022-10-24T10:15:38.716Z"
   },
   {
    "duration": 5,
    "start_time": "2022-10-24T10:15:38.940Z"
   },
   {
    "duration": 5,
    "start_time": "2022-10-24T10:15:39.965Z"
   },
   {
    "duration": 9,
    "start_time": "2022-10-24T10:15:56.178Z"
   },
   {
    "duration": 6,
    "start_time": "2022-10-24T10:15:58.227Z"
   },
   {
    "duration": 6,
    "start_time": "2022-10-24T10:15:58.440Z"
   },
   {
    "duration": 4,
    "start_time": "2022-10-24T10:15:59.840Z"
   },
   {
    "duration": 8,
    "start_time": "2022-10-24T10:16:06.553Z"
   },
   {
    "duration": 10,
    "start_time": "2022-10-24T10:16:06.852Z"
   },
   {
    "duration": 6,
    "start_time": "2022-10-24T10:16:07.371Z"
   },
   {
    "duration": 6,
    "start_time": "2022-10-24T10:16:08.603Z"
   },
   {
    "duration": 5,
    "start_time": "2022-10-24T10:16:08.801Z"
   },
   {
    "duration": 5,
    "start_time": "2022-10-24T10:16:20.890Z"
   },
   {
    "duration": 12,
    "start_time": "2022-10-24T10:16:21.489Z"
   },
   {
    "duration": 7,
    "start_time": "2022-10-24T10:16:22.889Z"
   },
   {
    "duration": 6,
    "start_time": "2022-10-24T10:16:23.352Z"
   },
   {
    "duration": 5,
    "start_time": "2022-10-24T10:16:23.803Z"
   },
   {
    "duration": 7,
    "start_time": "2022-10-24T10:16:41.191Z"
   },
   {
    "duration": 6,
    "start_time": "2022-10-24T10:16:41.752Z"
   },
   {
    "duration": 5,
    "start_time": "2022-10-24T10:16:43.664Z"
   },
   {
    "duration": 7,
    "start_time": "2022-10-24T10:16:43.928Z"
   },
   {
    "duration": 6,
    "start_time": "2022-10-24T10:16:44.140Z"
   },
   {
    "duration": 6,
    "start_time": "2022-10-24T10:16:44.332Z"
   },
   {
    "duration": 5,
    "start_time": "2022-10-24T10:16:44.617Z"
   },
   {
    "duration": 6,
    "start_time": "2022-10-24T10:17:22.780Z"
   },
   {
    "duration": 5,
    "start_time": "2022-10-24T10:17:23.765Z"
   },
   {
    "duration": 7,
    "start_time": "2022-10-24T10:17:24.077Z"
   },
   {
    "duration": 5,
    "start_time": "2022-10-24T10:17:24.390Z"
   },
   {
    "duration": 7,
    "start_time": "2022-10-24T10:17:26.333Z"
   },
   {
    "duration": 8,
    "start_time": "2022-10-24T10:17:26.692Z"
   },
   {
    "duration": 6,
    "start_time": "2022-10-24T10:17:26.891Z"
   },
   {
    "duration": 6,
    "start_time": "2022-10-24T10:17:27.027Z"
   },
   {
    "duration": 4,
    "start_time": "2022-10-24T10:17:27.191Z"
   },
   {
    "duration": 5,
    "start_time": "2022-10-24T10:17:35.403Z"
   },
   {
    "duration": 5,
    "start_time": "2022-10-24T10:17:35.615Z"
   },
   {
    "duration": 5,
    "start_time": "2022-10-24T10:17:35.752Z"
   },
   {
    "duration": 5,
    "start_time": "2022-10-24T10:17:35.877Z"
   },
   {
    "duration": 6,
    "start_time": "2022-10-24T10:18:28.231Z"
   },
   {
    "duration": 5,
    "start_time": "2022-10-24T10:18:31.466Z"
   },
   {
    "duration": 4,
    "start_time": "2022-10-24T10:18:31.753Z"
   },
   {
    "duration": 5,
    "start_time": "2022-10-24T10:18:31.952Z"
   },
   {
    "duration": 5,
    "start_time": "2022-10-24T10:18:32.153Z"
   },
   {
    "duration": 5,
    "start_time": "2022-10-24T10:28:58.732Z"
   },
   {
    "duration": 6,
    "start_time": "2022-10-24T10:29:04.832Z"
   },
   {
    "duration": 8,
    "start_time": "2022-10-24T10:29:05.069Z"
   },
   {
    "duration": 5,
    "start_time": "2022-10-24T10:29:05.431Z"
   },
   {
    "duration": 11,
    "start_time": "2022-10-24T10:29:47.543Z"
   },
   {
    "duration": 28,
    "start_time": "2022-10-24T10:29:47.674Z"
   },
   {
    "duration": 3,
    "start_time": "2022-10-24T10:30:10.994Z"
   },
   {
    "duration": 17,
    "start_time": "2022-10-24T10:30:16.757Z"
   },
   {
    "duration": 3,
    "start_time": "2022-10-24T10:30:54.207Z"
   },
   {
    "duration": 5,
    "start_time": "2022-10-24T10:31:16.132Z"
   },
   {
    "duration": 6,
    "start_time": "2022-10-24T10:32:47.594Z"
   },
   {
    "duration": 6,
    "start_time": "2022-10-24T10:32:48.019Z"
   },
   {
    "duration": 5,
    "start_time": "2022-10-24T10:32:48.594Z"
   },
   {
    "duration": 7,
    "start_time": "2022-10-24T10:32:49.319Z"
   },
   {
    "duration": 6,
    "start_time": "2022-10-24T10:34:16.082Z"
   },
   {
    "duration": 6,
    "start_time": "2022-10-24T10:34:18.006Z"
   },
   {
    "duration": 5,
    "start_time": "2022-10-24T10:34:30.758Z"
   },
   {
    "duration": 140,
    "start_time": "2022-10-24T10:35:15.824Z"
   },
   {
    "duration": 9,
    "start_time": "2022-10-24T10:35:19.557Z"
   },
   {
    "duration": 460,
    "start_time": "2022-10-24T10:35:42.184Z"
   },
   {
    "duration": 181,
    "start_time": "2022-10-24T10:36:22.485Z"
   },
   {
    "duration": 155,
    "start_time": "2022-10-24T10:36:31.482Z"
   },
   {
    "duration": 5,
    "start_time": "2022-10-24T10:36:54.232Z"
   },
   {
    "duration": 29,
    "start_time": "2022-10-24T10:37:26.033Z"
   },
   {
    "duration": 5,
    "start_time": "2022-10-24T10:37:34.532Z"
   },
   {
    "duration": 143,
    "start_time": "2022-10-24T10:37:47.858Z"
   },
   {
    "duration": 182,
    "start_time": "2022-10-24T10:40:23.871Z"
   },
   {
    "duration": 7,
    "start_time": "2022-10-24T10:40:27.921Z"
   },
   {
    "duration": 1875,
    "start_time": "2022-10-25T08:08:01.994Z"
   },
   {
    "duration": 96,
    "start_time": "2022-10-25T08:08:03.872Z"
   },
   {
    "duration": 15,
    "start_time": "2022-10-25T08:08:03.970Z"
   },
   {
    "duration": 9,
    "start_time": "2022-10-25T08:08:03.988Z"
   },
   {
    "duration": 11,
    "start_time": "2022-10-25T08:08:03.999Z"
   },
   {
    "duration": 11,
    "start_time": "2022-10-25T08:08:04.012Z"
   },
   {
    "duration": 5,
    "start_time": "2022-10-25T08:08:04.025Z"
   },
   {
    "duration": 23,
    "start_time": "2022-10-25T08:08:04.032Z"
   },
   {
    "duration": 11,
    "start_time": "2022-10-25T08:08:04.110Z"
   },
   {
    "duration": 9,
    "start_time": "2022-10-25T08:08:04.125Z"
   },
   {
    "duration": 103,
    "start_time": "2022-10-25T08:08:04.212Z"
   },
   {
    "duration": 173,
    "start_time": "2022-10-25T08:08:04.317Z"
   },
   {
    "duration": 5,
    "start_time": "2022-10-25T08:08:04.492Z"
   },
   {
    "duration": 14,
    "start_time": "2022-10-25T08:08:04.508Z"
   },
   {
    "duration": 25,
    "start_time": "2022-10-25T08:08:04.526Z"
   },
   {
    "duration": 10,
    "start_time": "2022-10-25T08:08:04.557Z"
   },
   {
    "duration": 6,
    "start_time": "2022-10-25T08:21:22.803Z"
   },
   {
    "duration": 12,
    "start_time": "2022-10-25T08:23:14.991Z"
   },
   {
    "duration": 6,
    "start_time": "2022-10-25T08:23:15.389Z"
   },
   {
    "duration": 6,
    "start_time": "2022-10-25T08:23:21.622Z"
   },
   {
    "duration": 6,
    "start_time": "2022-10-25T08:23:22.429Z"
   },
   {
    "duration": 130,
    "start_time": "2022-10-25T08:23:23.881Z"
   },
   {
    "duration": 12,
    "start_time": "2022-10-25T08:23:39.577Z"
   },
   {
    "duration": 6,
    "start_time": "2022-10-25T08:23:39.952Z"
   },
   {
    "duration": 5,
    "start_time": "2022-10-25T08:23:45.252Z"
   },
   {
    "duration": 5,
    "start_time": "2022-10-25T08:23:49.052Z"
   },
   {
    "duration": 5,
    "start_time": "2022-10-25T08:23:52.015Z"
   },
   {
    "duration": 15,
    "start_time": "2022-10-25T08:23:58.375Z"
   },
   {
    "duration": 6,
    "start_time": "2022-10-25T08:23:58.759Z"
   },
   {
    "duration": 5,
    "start_time": "2022-10-25T08:23:58.980Z"
   },
   {
    "duration": 7,
    "start_time": "2022-10-25T08:23:59.441Z"
   },
   {
    "duration": 5,
    "start_time": "2022-10-25T08:24:04.961Z"
   },
   {
    "duration": 7,
    "start_time": "2022-10-25T08:24:10.177Z"
   },
   {
    "duration": 6,
    "start_time": "2022-10-25T08:24:11.077Z"
   },
   {
    "duration": 6,
    "start_time": "2022-10-25T08:24:11.555Z"
   },
   {
    "duration": 5,
    "start_time": "2022-10-25T08:24:11.990Z"
   },
   {
    "duration": 8,
    "start_time": "2022-10-25T08:24:16.284Z"
   },
   {
    "duration": 168,
    "start_time": "2022-10-25T08:24:17.415Z"
   },
   {
    "duration": 5,
    "start_time": "2022-10-25T08:24:21.114Z"
   },
   {
    "duration": 6,
    "start_time": "2022-10-25T08:24:21.452Z"
   },
   {
    "duration": 7,
    "start_time": "2022-10-25T08:24:22.781Z"
   },
   {
    "duration": 5,
    "start_time": "2022-10-25T08:24:51.695Z"
   },
   {
    "duration": 6,
    "start_time": "2022-10-25T08:24:56.378Z"
   },
   {
    "duration": 5,
    "start_time": "2022-10-25T08:25:01.182Z"
   },
   {
    "duration": 6,
    "start_time": "2022-10-25T08:25:09.291Z"
   },
   {
    "duration": 5,
    "start_time": "2022-10-25T08:25:21.915Z"
   },
   {
    "duration": 13,
    "start_time": "2022-10-25T08:25:28.703Z"
   },
   {
    "duration": 6,
    "start_time": "2022-10-25T08:25:29.889Z"
   },
   {
    "duration": 5,
    "start_time": "2022-10-25T08:25:33.028Z"
   },
   {
    "duration": 5,
    "start_time": "2022-10-25T08:25:34.306Z"
   },
   {
    "duration": 6,
    "start_time": "2022-10-25T08:25:34.752Z"
   },
   {
    "duration": 5,
    "start_time": "2022-10-25T08:25:35.802Z"
   },
   {
    "duration": 10,
    "start_time": "2022-10-25T08:25:38.144Z"
   },
   {
    "duration": 8,
    "start_time": "2022-10-25T08:44:28.784Z"
   },
   {
    "duration": 4,
    "start_time": "2022-10-25T08:44:29.408Z"
   },
   {
    "duration": 5,
    "start_time": "2022-10-25T08:44:39.002Z"
   },
   {
    "duration": 135,
    "start_time": "2022-10-25T08:48:53.608Z"
   },
   {
    "duration": 59,
    "start_time": "2022-10-25T08:49:17.692Z"
   },
   {
    "duration": 8,
    "start_time": "2022-10-25T08:49:20.986Z"
   },
   {
    "duration": 5,
    "start_time": "2022-10-25T08:49:23.907Z"
   },
   {
    "duration": 6,
    "start_time": "2022-10-25T08:49:24.708Z"
   },
   {
    "duration": 8,
    "start_time": "2022-10-25T09:08:40.590Z"
   },
   {
    "duration": 4,
    "start_time": "2022-10-25T09:08:46.050Z"
   },
   {
    "duration": 5,
    "start_time": "2022-10-25T09:08:46.393Z"
   },
   {
    "duration": 11,
    "start_time": "2022-10-25T09:08:46.712Z"
   },
   {
    "duration": 4,
    "start_time": "2022-10-25T09:08:55.100Z"
   },
   {
    "duration": 11,
    "start_time": "2022-10-25T09:09:02.538Z"
   },
   {
    "duration": 4,
    "start_time": "2022-10-25T09:09:15.437Z"
   },
   {
    "duration": 10,
    "start_time": "2022-10-25T09:09:21.079Z"
   },
   {
    "duration": 9,
    "start_time": "2022-10-25T09:09:21.539Z"
   },
   {
    "duration": 5,
    "start_time": "2022-10-25T09:09:21.845Z"
   },
   {
    "duration": 10,
    "start_time": "2022-10-25T09:09:26.717Z"
   },
   {
    "duration": 5,
    "start_time": "2022-10-25T09:09:27.201Z"
   },
   {
    "duration": 15,
    "start_time": "2022-10-25T09:09:28.838Z"
   },
   {
    "duration": 11,
    "start_time": "2022-10-25T09:09:29.324Z"
   },
   {
    "duration": 6,
    "start_time": "2022-10-25T09:09:29.911Z"
   },
   {
    "duration": 8,
    "start_time": "2022-10-25T09:10:16.625Z"
   },
   {
    "duration": 9,
    "start_time": "2022-10-25T09:10:18.339Z"
   },
   {
    "duration": 7,
    "start_time": "2022-10-25T09:10:19.727Z"
   },
   {
    "duration": 4,
    "start_time": "2022-10-25T09:10:20.102Z"
   },
   {
    "duration": 12,
    "start_time": "2022-10-25T09:10:24.837Z"
   },
   {
    "duration": 7,
    "start_time": "2022-10-25T09:10:26.837Z"
   },
   {
    "duration": 8,
    "start_time": "2022-10-25T11:12:16.594Z"
   },
   {
    "duration": 4,
    "start_time": "2022-10-25T11:14:48.533Z"
   },
   {
    "duration": 3,
    "start_time": "2022-10-25T11:16:31.045Z"
   },
   {
    "duration": 55,
    "start_time": "2022-10-26T09:59:16.149Z"
   },
   {
    "duration": 1679,
    "start_time": "2022-10-26T09:59:20.276Z"
   },
   {
    "duration": 9,
    "start_time": "2022-10-26T09:59:23.893Z"
   },
   {
    "duration": 6,
    "start_time": "2022-10-26T10:00:14.035Z"
   },
   {
    "duration": 6,
    "start_time": "2022-10-26T10:00:22.276Z"
   },
   {
    "duration": 73,
    "start_time": "2022-10-26T10:00:23.157Z"
   },
   {
    "duration": 8,
    "start_time": "2022-10-26T10:00:25.602Z"
   },
   {
    "duration": 11,
    "start_time": "2022-10-26T10:00:26.139Z"
   },
   {
    "duration": 7,
    "start_time": "2022-10-26T10:00:34.751Z"
   },
   {
    "duration": 7,
    "start_time": "2022-10-26T10:01:18.432Z"
   },
   {
    "duration": 5,
    "start_time": "2022-10-26T10:02:14.402Z"
   },
   {
    "duration": 8,
    "start_time": "2022-10-26T10:02:23.733Z"
   },
   {
    "duration": 8,
    "start_time": "2022-10-26T10:02:36.664Z"
   },
   {
    "duration": 1413,
    "start_time": "2022-10-26T10:06:13.959Z"
   },
   {
    "duration": 78,
    "start_time": "2022-10-26T10:06:15.375Z"
   },
   {
    "duration": 14,
    "start_time": "2022-10-26T10:06:15.455Z"
   },
   {
    "duration": 23,
    "start_time": "2022-10-26T10:06:15.471Z"
   },
   {
    "duration": 13,
    "start_time": "2022-10-26T10:06:15.496Z"
   },
   {
    "duration": 27,
    "start_time": "2022-10-26T10:06:15.511Z"
   },
   {
    "duration": 14,
    "start_time": "2022-10-26T10:06:15.540Z"
   },
   {
    "duration": 24,
    "start_time": "2022-10-26T10:06:15.556Z"
   },
   {
    "duration": 13,
    "start_time": "2022-10-26T10:06:15.582Z"
   },
   {
    "duration": 18,
    "start_time": "2022-10-26T10:06:15.598Z"
   },
   {
    "duration": 12,
    "start_time": "2022-10-26T10:06:15.618Z"
   },
   {
    "duration": 10,
    "start_time": "2022-10-26T10:06:15.632Z"
   },
   {
    "duration": 5,
    "start_time": "2022-10-26T10:09:28.030Z"
   },
   {
    "duration": 9,
    "start_time": "2022-10-26T10:13:44.974Z"
   },
   {
    "duration": 16,
    "start_time": "2022-10-26T10:13:54.168Z"
   },
   {
    "duration": 130,
    "start_time": "2022-10-26T10:14:56.393Z"
   },
   {
    "duration": 9,
    "start_time": "2022-10-26T10:15:13.442Z"
   },
   {
    "duration": 15,
    "start_time": "2022-10-26T10:15:14.543Z"
   },
   {
    "duration": 15,
    "start_time": "2022-10-26T10:15:29.293Z"
   },
   {
    "duration": 14,
    "start_time": "2022-10-26T10:16:37.332Z"
   },
   {
    "duration": 15,
    "start_time": "2022-10-26T10:21:24.307Z"
   },
   {
    "duration": 11,
    "start_time": "2022-10-26T10:21:30.008Z"
   },
   {
    "duration": 10,
    "start_time": "2022-10-26T10:23:47.733Z"
   },
   {
    "duration": 11,
    "start_time": "2022-10-26T10:23:51.883Z"
   },
   {
    "duration": 12,
    "start_time": "2022-10-26T10:24:15.701Z"
   },
   {
    "duration": 48,
    "start_time": "2022-10-26T10:25:08.158Z"
   },
   {
    "duration": 72,
    "start_time": "2022-10-26T10:25:56.596Z"
   },
   {
    "duration": 11,
    "start_time": "2022-10-26T10:26:00.283Z"
   },
   {
    "duration": 10,
    "start_time": "2022-10-26T10:26:03.522Z"
   },
   {
    "duration": 12,
    "start_time": "2022-10-26T10:26:23.308Z"
   },
   {
    "duration": 6,
    "start_time": "2022-10-26T10:32:01.812Z"
   },
   {
    "duration": 1362,
    "start_time": "2022-10-26T10:34:02.475Z"
   },
   {
    "duration": 30,
    "start_time": "2022-10-26T10:34:03.839Z"
   },
   {
    "duration": 13,
    "start_time": "2022-10-26T10:34:03.875Z"
   },
   {
    "duration": 15,
    "start_time": "2022-10-26T10:34:03.890Z"
   },
   {
    "duration": 15,
    "start_time": "2022-10-26T10:34:03.907Z"
   },
   {
    "duration": 9,
    "start_time": "2022-10-26T10:34:03.924Z"
   },
   {
    "duration": 23,
    "start_time": "2022-10-26T10:34:03.935Z"
   },
   {
    "duration": 16,
    "start_time": "2022-10-26T10:34:03.960Z"
   },
   {
    "duration": 6,
    "start_time": "2022-10-26T10:34:03.979Z"
   },
   {
    "duration": 69,
    "start_time": "2022-10-26T10:34:03.987Z"
   },
   {
    "duration": 14,
    "start_time": "2022-10-26T10:34:04.058Z"
   },
   {
    "duration": 85,
    "start_time": "2022-10-26T10:34:04.075Z"
   },
   {
    "duration": 132,
    "start_time": "2022-10-26T10:34:04.163Z"
   },
   {
    "duration": 5,
    "start_time": "2022-10-26T10:34:10.283Z"
   },
   {
    "duration": 1410,
    "start_time": "2022-10-26T10:54:53.642Z"
   },
   {
    "duration": 32,
    "start_time": "2022-10-26T10:54:55.054Z"
   },
   {
    "duration": 19,
    "start_time": "2022-10-26T10:54:55.091Z"
   },
   {
    "duration": 26,
    "start_time": "2022-10-26T10:54:55.113Z"
   },
   {
    "duration": 34,
    "start_time": "2022-10-26T10:54:55.141Z"
   },
   {
    "duration": 18,
    "start_time": "2022-10-26T10:54:55.178Z"
   },
   {
    "duration": 35,
    "start_time": "2022-10-26T10:54:55.198Z"
   },
   {
    "duration": 50,
    "start_time": "2022-10-26T10:54:55.235Z"
   },
   {
    "duration": 23,
    "start_time": "2022-10-26T10:54:55.287Z"
   },
   {
    "duration": 36,
    "start_time": "2022-10-26T10:54:55.311Z"
   },
   {
    "duration": 18,
    "start_time": "2022-10-26T10:54:55.349Z"
   },
   {
    "duration": 86,
    "start_time": "2022-10-26T10:54:55.369Z"
   },
   {
    "duration": 26,
    "start_time": "2022-10-26T10:54:55.458Z"
   },
   {
    "duration": 43,
    "start_time": "2022-10-26T10:54:55.486Z"
   },
   {
    "duration": 1979,
    "start_time": "2022-10-26T11:36:02.853Z"
   },
   {
    "duration": 125,
    "start_time": "2022-10-26T11:36:04.834Z"
   },
   {
    "duration": 14,
    "start_time": "2022-10-26T11:36:04.960Z"
   },
   {
    "duration": 15,
    "start_time": "2022-10-26T11:36:04.976Z"
   },
   {
    "duration": 5,
    "start_time": "2022-10-26T11:36:04.992Z"
   },
   {
    "duration": 8,
    "start_time": "2022-10-26T11:36:04.999Z"
   },
   {
    "duration": 10,
    "start_time": "2022-10-26T11:36:05.009Z"
   },
   {
    "duration": 5,
    "start_time": "2022-10-26T11:36:05.023Z"
   },
   {
    "duration": 12,
    "start_time": "2022-10-26T11:36:05.029Z"
   },
   {
    "duration": 6,
    "start_time": "2022-10-26T11:36:05.045Z"
   },
   {
    "duration": 11,
    "start_time": "2022-10-26T11:36:05.053Z"
   },
   {
    "duration": 61,
    "start_time": "2022-10-26T11:36:05.066Z"
   },
   {
    "duration": 6,
    "start_time": "2022-10-26T11:36:05.130Z"
   },
   {
    "duration": 86,
    "start_time": "2022-10-26T11:36:05.138Z"
   },
   {
    "duration": 3,
    "start_time": "2022-10-26T11:36:05.227Z"
   },
   {
    "duration": 45,
    "start_time": "2022-10-26T17:42:16.762Z"
   },
   {
    "duration": 42,
    "start_time": "2022-10-26T17:42:22.038Z"
   },
   {
    "duration": 1461,
    "start_time": "2022-10-26T17:42:31.259Z"
   },
   {
    "duration": 76,
    "start_time": "2022-10-26T17:42:32.722Z"
   },
   {
    "duration": 12,
    "start_time": "2022-10-26T17:42:32.800Z"
   },
   {
    "duration": 12,
    "start_time": "2022-10-26T17:42:32.813Z"
   },
   {
    "duration": 3,
    "start_time": "2022-10-26T17:42:32.827Z"
   },
   {
    "duration": 7,
    "start_time": "2022-10-26T17:42:32.832Z"
   },
   {
    "duration": 7,
    "start_time": "2022-10-26T17:42:32.840Z"
   },
   {
    "duration": 4,
    "start_time": "2022-10-26T17:42:32.849Z"
   },
   {
    "duration": 7,
    "start_time": "2022-10-26T17:42:32.854Z"
   },
   {
    "duration": 7,
    "start_time": "2022-10-26T17:42:32.862Z"
   },
   {
    "duration": 8,
    "start_time": "2022-10-26T17:42:32.870Z"
   },
   {
    "duration": 263,
    "start_time": "2022-10-26T17:42:32.880Z"
   },
   {
    "duration": 0,
    "start_time": "2022-10-26T17:42:33.144Z"
   },
   {
    "duration": 0,
    "start_time": "2022-10-26T17:42:33.145Z"
   },
   {
    "duration": 0,
    "start_time": "2022-10-26T17:42:33.147Z"
   },
   {
    "duration": 0,
    "start_time": "2022-10-26T17:42:33.148Z"
   },
   {
    "duration": 53,
    "start_time": "2022-10-26T17:43:35.770Z"
   },
   {
    "duration": 13,
    "start_time": "2022-10-26T17:43:39.216Z"
   },
   {
    "duration": 8,
    "start_time": "2022-10-26T17:43:49.072Z"
   },
   {
    "duration": 7,
    "start_time": "2022-10-26T17:44:04.712Z"
   },
   {
    "duration": 5,
    "start_time": "2022-10-26T17:57:42.646Z"
   },
   {
    "duration": 4,
    "start_time": "2022-10-26T17:57:43.561Z"
   },
   {
    "duration": 5,
    "start_time": "2022-10-26T17:57:43.924Z"
   },
   {
    "duration": 4,
    "start_time": "2022-10-26T17:57:45.585Z"
   },
   {
    "duration": 1358,
    "start_time": "2022-10-27T07:16:07.964Z"
   },
   {
    "duration": 31,
    "start_time": "2022-10-27T07:16:09.324Z"
   },
   {
    "duration": 15,
    "start_time": "2022-10-27T07:16:09.357Z"
   },
   {
    "duration": 16,
    "start_time": "2022-10-27T07:16:09.374Z"
   },
   {
    "duration": 7,
    "start_time": "2022-10-27T07:16:09.391Z"
   },
   {
    "duration": 8,
    "start_time": "2022-10-27T07:16:09.400Z"
   },
   {
    "duration": 8,
    "start_time": "2022-10-27T07:16:09.409Z"
   },
   {
    "duration": 5,
    "start_time": "2022-10-27T07:16:09.419Z"
   },
   {
    "duration": 6,
    "start_time": "2022-10-27T07:16:09.439Z"
   },
   {
    "duration": 8,
    "start_time": "2022-10-27T07:16:09.447Z"
   },
   {
    "duration": 10,
    "start_time": "2022-10-27T07:16:09.457Z"
   },
   {
    "duration": 71,
    "start_time": "2022-10-27T07:16:09.469Z"
   },
   {
    "duration": 14,
    "start_time": "2022-10-27T07:16:09.542Z"
   },
   {
    "duration": 83,
    "start_time": "2022-10-27T07:16:09.559Z"
   },
   {
    "duration": 6,
    "start_time": "2022-10-27T07:16:09.644Z"
   },
   {
    "duration": 6,
    "start_time": "2022-10-27T07:16:09.652Z"
   },
   {
    "duration": 1879,
    "start_time": "2022-10-27T07:47:28.160Z"
   },
   {
    "duration": 29,
    "start_time": "2022-10-27T07:47:30.041Z"
   },
   {
    "duration": 15,
    "start_time": "2022-10-27T07:47:30.072Z"
   },
   {
    "duration": 23,
    "start_time": "2022-10-27T07:47:30.089Z"
   },
   {
    "duration": 15,
    "start_time": "2022-10-27T07:47:30.119Z"
   },
   {
    "duration": 33,
    "start_time": "2022-10-27T07:47:30.136Z"
   },
   {
    "duration": 25,
    "start_time": "2022-10-27T07:47:30.171Z"
   },
   {
    "duration": 10,
    "start_time": "2022-10-27T07:47:30.200Z"
   },
   {
    "duration": 24,
    "start_time": "2022-10-27T07:47:30.214Z"
   },
   {
    "duration": 11,
    "start_time": "2022-10-27T07:47:30.240Z"
   },
   {
    "duration": 14,
    "start_time": "2022-10-27T07:47:30.252Z"
   },
   {
    "duration": 30,
    "start_time": "2022-10-27T07:47:30.268Z"
   },
   {
    "duration": 22,
    "start_time": "2022-10-27T07:47:30.300Z"
   },
   {
    "duration": 74,
    "start_time": "2022-10-27T07:47:30.328Z"
   },
   {
    "duration": 9,
    "start_time": "2022-10-27T07:47:30.408Z"
   },
   {
    "duration": 12,
    "start_time": "2022-10-27T07:47:30.420Z"
   }
  ],
  "kernelspec": {
   "display_name": "Python 3 (ipykernel)",
   "language": "python",
   "name": "python3"
  },
  "language_info": {
   "codemirror_mode": {
    "name": "ipython",
    "version": 3
   },
   "file_extension": ".py",
   "mimetype": "text/x-python",
   "name": "python",
   "nbconvert_exporter": "python",
   "pygments_lexer": "ipython3",
   "version": "3.9.12"
  },
  "toc": {
   "base_numbering": 1,
   "nav_menu": {},
   "number_sections": true,
   "sideBar": true,
   "skip_h1_title": true,
   "title_cell": "Содержание",
   "title_sidebar": "Contents",
   "toc_cell": true,
   "toc_position": {
    "height": "calc(100% - 180px)",
    "left": "10px",
    "top": "150px",
    "width": "366.188px"
   },
   "toc_section_display": true,
   "toc_window_display": true
  }
 },
 "nbformat": 4,
 "nbformat_minor": 2
}
