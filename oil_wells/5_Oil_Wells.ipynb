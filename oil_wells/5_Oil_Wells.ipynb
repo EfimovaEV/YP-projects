{
 "cells": [
  {
   "cell_type": "markdown",
   "metadata": {},
   "source": [
    "# Выбор локации для скважины"
   ]
  },
  {
   "cell_type": "markdown",
   "metadata": {},
   "source": [
    "Нефтедобывающая компания хочет определить регион, где добыча принесёт наибольшую прибыль.\n",
    "\n",
    "Вам предоставлены пробы нефти в трёх регионах: в каждом 10 000 месторождений, где измерили качество нефти и объём её запасов. Постройте модель машинного обучения, которая поможет определить регион. Проанализируйте возможную прибыль и риски техникой *Bootstrap.*\n",
    "\n",
    "Шаги для выбора локации:\n",
    "\n",
    "- В избранном регионе ищут месторождения, для каждого определяют значения признаков;\n",
    "- Строят модель и оценивают объём запасов;\n",
    "- Выбирают месторождения с самым высокими оценками значений. Количество месторождений зависит от бюджета компании и стоимости разработки одной скважины;\n",
    "- Прибыль равна суммарной прибыли отобранных месторождений.\n",
    "\n",
    "*Замечание*: Данные синтетические"
   ]
  },
  {
   "cell_type": "markdown",
   "metadata": {
    "toc": true
   },
   "source": [
    "<h1>Содержание<span class=\"tocSkip\"></span></h1>\n",
    "<div class=\"toc\"><ul class=\"toc-item\"><li><span><a href=\"#Загрузка-и-подготовка-данных\" data-toc-modified-id=\"Загрузка-и-подготовка-данных-1\"><span class=\"toc-item-num\">1&nbsp;&nbsp;</span>Загрузка и подготовка данных</a></span><ul class=\"toc-item\"><li><span><a href=\"#Выводы\" data-toc-modified-id=\"Выводы-1.1\"><span class=\"toc-item-num\">1.1&nbsp;&nbsp;</span>Выводы</a></span></li></ul></li><li><span><a href=\"#Обучение-и-проверка-модели\" data-toc-modified-id=\"Обучение-и-проверка-модели-2\"><span class=\"toc-item-num\">2&nbsp;&nbsp;</span>Обучение и проверка модели</a></span><ul class=\"toc-item\"><li><span><a href=\"#Подготовка-признаков\" data-toc-modified-id=\"Подготовка-признаков-2.1\"><span class=\"toc-item-num\">2.1&nbsp;&nbsp;</span>Подготовка признаков</a></span></li><li><span><a href=\"#Обучение-модели\" data-toc-modified-id=\"Обучение-модели-2.2\"><span class=\"toc-item-num\">2.2&nbsp;&nbsp;</span>Обучение модели</a></span><ul class=\"toc-item\"><li><span><a href=\"#Регион-0\" data-toc-modified-id=\"Регион-0-2.2.1\"><span class=\"toc-item-num\">2.2.1&nbsp;&nbsp;</span>Регион 0</a></span></li><li><span><a href=\"#Регион-1\" data-toc-modified-id=\"Регион-1-2.2.2\"><span class=\"toc-item-num\">2.2.2&nbsp;&nbsp;</span>Регион 1</a></span></li><li><span><a href=\"#Регион-2\" data-toc-modified-id=\"Регион-2-2.2.3\"><span class=\"toc-item-num\">2.2.3&nbsp;&nbsp;</span>Регион 2</a></span></li></ul></li><li><span><a href=\"#Выводы\" data-toc-modified-id=\"Выводы-2.3\"><span class=\"toc-item-num\">2.3&nbsp;&nbsp;</span>Выводы</a></span></li></ul></li><li><span><a href=\"#Расчёт-прибыли-и-рисков\" data-toc-modified-id=\"Расчёт-прибыли-и-рисков-3\"><span class=\"toc-item-num\">3&nbsp;&nbsp;</span>Расчёт прибыли и рисков</a></span><ul class=\"toc-item\"><li><span><a href=\"#Условия\" data-toc-modified-id=\"Условия-3.1\"><span class=\"toc-item-num\">3.1&nbsp;&nbsp;</span>Условия</a></span></li><li><span><a href=\"#Расчет-прибыли\" data-toc-modified-id=\"Расчет-прибыли-3.2\"><span class=\"toc-item-num\">3.2&nbsp;&nbsp;</span>Расчет прибыли</a></span></li><li><span><a href=\"#Выводы\" data-toc-modified-id=\"Выводы-3.3\"><span class=\"toc-item-num\">3.3&nbsp;&nbsp;</span>Выводы</a></span></li></ul></li><li><span><a href=\"#Выводы\" data-toc-modified-id=\"Выводы-4\"><span class=\"toc-item-num\">4&nbsp;&nbsp;</span>Выводы</a></span></li></ul></div>"
   ]
  },
  {
   "cell_type": "markdown",
   "metadata": {},
   "source": [
    "## Загрузка и подготовка данных"
   ]
  },
  {
   "cell_type": "code",
   "execution_count": 1,
   "metadata": {},
   "outputs": [],
   "source": [
    "#импорт необходимых библиотек\n",
    "import pandas as pd\n",
    "from math import ceil\n",
    "import matplotlib.pyplot as plt\n",
    "import random\n",
    "import numpy as np\n",
    "\n",
    "from sklearn.model_selection import train_test_split\n",
    "from sklearn.preprocessing import StandardScaler\n",
    "from sklearn.utils import shuffle\n",
    "\n",
    "from sklearn.linear_model import LinearRegression\n",
    "\n",
    "from sklearn.metrics import mean_squared_error, r2_score"
   ]
  },
  {
   "cell_type": "markdown",
   "metadata": {},
   "source": [
    "Даанные геологоразведки трёх регионов находятся в разных файлах. Сформируем отдельно три датасета:"
   ]
  },
  {
   "cell_type": "code",
   "execution_count": 2,
   "metadata": {},
   "outputs": [],
   "source": [
    "geo_data_0 = pd.read_csv('datasets/geo_data_0.csv')\n",
    "geo_data_1 = pd.read_csv('datasets/geo_data_1.csv')\n",
    "geo_data_2 = pd.read_csv('datasets/geo_data_2.csv')"
   ]
  },
  {
   "cell_type": "markdown",
   "metadata": {},
   "source": [
    "Данные для всех трех регионов имеют одинаковую структуру:\n",
    "- `id` — уникальный идентификатор скважины\n",
    "- `f0`, `f1`, `f2` — три значимых признака точек\n",
    "- `product` — объём запасов в скважине (тыс. баррелей)"
   ]
  },
  {
   "cell_type": "code",
   "execution_count": 3,
   "metadata": {},
   "outputs": [],
   "source": [
    "# функция для получения основной информации о датасете\n",
    "def get_info(data):\n",
    "    display(data.head(2))\n",
    "    \n",
    "    print(\"Shape:\", data.shape, '\\n')\n",
    "    print(\"Количество пропусков в данных:\\n\", data.isna().sum(), '\\n', sep='')\n",
    "    print(\"Количество дубликатов:\", data.duplicated().sum(), '\\n')\n",
    "    \n",
    "    fig, axes = plt.subplot_mosaic(\n",
    "        [[\"f0\",\"f1\",\"f2\"],\n",
    "         [\"product\", \"product\", \"product\"]]\n",
    "    )\n",
    "    \n",
    "    fig.set_figheight(8)\n",
    "    fig.set_figwidth(15)\n",
    "    \n",
    "    print(\"Распределения значений:\")    \n",
    "    for key in [\"f0\",\"f1\",\"f2\"]:\n",
    "        data[key].hist(bins=50, ax=axes[key], color='#B0ADAA', grid=False)\n",
    "        axes[key].set_title(key)\n",
    "        axes[key].set_ylim(0, 20_000)\n",
    "    \n",
    "    data[\"product\"].hist(bins=200, range=(0, 200), ax=axes[\"product\"], color='#E3C04D', grid=False)\n",
    "    axes[\"product\"].set_title('product')\n",
    "        "
   ]
  },
  {
   "cell_type": "markdown",
   "metadata": {},
   "source": [
    "Датасет № 0:"
   ]
  },
  {
   "cell_type": "code",
   "execution_count": 4,
   "metadata": {
    "scrolled": false
   },
   "outputs": [
    {
     "data": {
      "text/html": [
       "<div>\n",
       "<style scoped>\n",
       "    .dataframe tbody tr th:only-of-type {\n",
       "        vertical-align: middle;\n",
       "    }\n",
       "\n",
       "    .dataframe tbody tr th {\n",
       "        vertical-align: top;\n",
       "    }\n",
       "\n",
       "    .dataframe thead th {\n",
       "        text-align: right;\n",
       "    }\n",
       "</style>\n",
       "<table border=\"1\" class=\"dataframe\">\n",
       "  <thead>\n",
       "    <tr style=\"text-align: right;\">\n",
       "      <th></th>\n",
       "      <th>id</th>\n",
       "      <th>f0</th>\n",
       "      <th>f1</th>\n",
       "      <th>f2</th>\n",
       "      <th>product</th>\n",
       "    </tr>\n",
       "  </thead>\n",
       "  <tbody>\n",
       "    <tr>\n",
       "      <th>0</th>\n",
       "      <td>txEyH</td>\n",
       "      <td>0.705745</td>\n",
       "      <td>-0.497823</td>\n",
       "      <td>1.22117</td>\n",
       "      <td>105.280062</td>\n",
       "    </tr>\n",
       "    <tr>\n",
       "      <th>1</th>\n",
       "      <td>2acmU</td>\n",
       "      <td>1.334711</td>\n",
       "      <td>-0.340164</td>\n",
       "      <td>4.36508</td>\n",
       "      <td>73.037750</td>\n",
       "    </tr>\n",
       "  </tbody>\n",
       "</table>\n",
       "</div>"
      ],
      "text/plain": [
       "      id        f0        f1       f2     product\n",
       "0  txEyH  0.705745 -0.497823  1.22117  105.280062\n",
       "1  2acmU  1.334711 -0.340164  4.36508   73.037750"
      ]
     },
     "metadata": {},
     "output_type": "display_data"
    },
    {
     "name": "stdout",
     "output_type": "stream",
     "text": [
      "Shape: (100000, 5) \n",
      "\n",
      "Количество пропусков в данных:\n",
      "id         0\n",
      "f0         0\n",
      "f1         0\n",
      "f2         0\n",
      "product    0\n",
      "dtype: int64\n",
      "\n",
      "Количество дубликатов: 0 \n",
      "\n",
      "Распределения значений:\n"
     ]
    },
    {
     "data": {
      "image/png": "[encoded data removed]",
      "text/plain": [
       "<Figure size 1080x576 with 4 Axes>"
      ]
     },
     "metadata": {
      "needs_background": "light"
     },
     "output_type": "display_data"
    }
   ],
   "source": [
    "get_info(geo_data_0)"
   ]
  },
  {
   "cell_type": "markdown",
   "metadata": {},
   "source": [
    "Пропусков и дубликатов в датасете нет. Распределения f0 и f1 являются полимодальными, в то время как распределение f1 является нормальным. Распределение запаса имеет ярковыраженные \"столбцы\" с равномерным распределением в пределах диапазона, перемежающиеся с локальными минимумами."
   ]
  },
  {
   "cell_type": "markdown",
   "metadata": {},
   "source": [
    "Датасет № 1:"
   ]
  },
  {
   "cell_type": "code",
   "execution_count": 5,
   "metadata": {
    "scrolled": false
   },
   "outputs": [
    {
     "data": {
      "text/html": [
       "<div>\n",
       "<style scoped>\n",
       "    .dataframe tbody tr th:only-of-type {\n",
       "        vertical-align: middle;\n",
       "    }\n",
       "\n",
       "    .dataframe tbody tr th {\n",
       "        vertical-align: top;\n",
       "    }\n",
       "\n",
       "    .dataframe thead th {\n",
       "        text-align: right;\n",
       "    }\n",
       "</style>\n",
       "<table border=\"1\" class=\"dataframe\">\n",
       "  <thead>\n",
       "    <tr style=\"text-align: right;\">\n",
       "      <th></th>\n",
       "      <th>id</th>\n",
       "      <th>f0</th>\n",
       "      <th>f1</th>\n",
       "      <th>f2</th>\n",
       "      <th>product</th>\n",
       "    </tr>\n",
       "  </thead>\n",
       "  <tbody>\n",
       "    <tr>\n",
       "      <th>0</th>\n",
       "      <td>kBEdx</td>\n",
       "      <td>-15.001348</td>\n",
       "      <td>-8.276000</td>\n",
       "      <td>-0.005876</td>\n",
       "      <td>3.179103</td>\n",
       "    </tr>\n",
       "    <tr>\n",
       "      <th>1</th>\n",
       "      <td>62mP7</td>\n",
       "      <td>14.272088</td>\n",
       "      <td>-3.475083</td>\n",
       "      <td>0.999183</td>\n",
       "      <td>26.953261</td>\n",
       "    </tr>\n",
       "  </tbody>\n",
       "</table>\n",
       "</div>"
      ],
      "text/plain": [
       "      id         f0        f1        f2    product\n",
       "0  kBEdx -15.001348 -8.276000 -0.005876   3.179103\n",
       "1  62mP7  14.272088 -3.475083  0.999183  26.953261"
      ]
     },
     "metadata": {},
     "output_type": "display_data"
    },
    {
     "name": "stdout",
     "output_type": "stream",
     "text": [
      "Shape: (100000, 5) \n",
      "\n",
      "Количество пропусков в данных:\n",
      "id         0\n",
      "f0         0\n",
      "f1         0\n",
      "f2         0\n",
      "product    0\n",
      "dtype: int64\n",
      "\n",
      "Количество дубликатов: 0 \n",
      "\n",
      "Распределения значений:\n"
     ]
    },
    {
     "data": {
      "image/png": "[encoded data removed]",
      "text/plain": [
       "<Figure size 1080x576 with 4 Axes>"
      ]
     },
     "metadata": {
      "needs_background": "light"
     },
     "output_type": "display_data"
    }
   ],
   "source": [
    "get_info(geo_data_1)"
   ]
  },
  {
   "cell_type": "markdown",
   "metadata": {},
   "source": [
    "Пропусков и дубликатов в датасете нет. а0 имеет бимодальное рампределение. Распределение f1 является нормальным. Можно сказать, что f2 имеет практически дискретное равномерное распределение:"
   ]
  },
  {
   "cell_type": "code",
   "execution_count": 6,
   "metadata": {},
   "outputs": [
    {
     "data": {
      "text/plain": [
       " 2.0    0.16862\n",
       " 1.0    0.16774\n",
       " 3.0    0.16751\n",
       "-0.0    0.16572\n",
       " 5.0    0.16537\n",
       " 4.0    0.16504\n",
       "Name: f2, dtype: float64"
      ]
     },
     "execution_count": 6,
     "metadata": {},
     "output_type": "execute_result"
    }
   ],
   "source": [
    "geo_data_1['f2'].round(0).value_counts(normalize=True)"
   ]
  },
  {
   "cell_type": "markdown",
   "metadata": {},
   "source": [
    "Распределение запаса имеет похожую структуру:"
   ]
  },
  {
   "cell_type": "code",
   "execution_count": 7,
   "metadata": {},
   "outputs": [
    {
     "data": {
      "text/plain": [
       "54.0     0.08472\n",
       "27.0     0.08468\n",
       "84.0     0.08431\n",
       "57.0     0.08390\n",
       "3.0      0.08337\n",
       "81.0     0.08320\n",
       "30.0     0.08306\n",
       "135.0    0.08304\n",
       "111.0    0.08303\n",
       "0.0      0.08235\n",
       "138.0    0.08233\n",
       "108.0    0.08201\n",
       "Name: product, dtype: float64"
      ]
     },
     "execution_count": 7,
     "metadata": {},
     "output_type": "execute_result"
    }
   ],
   "source": [
    "geo_data_1['product'].round(0).value_counts(normalize=True)"
   ]
  },
  {
   "cell_type": "markdown",
   "metadata": {},
   "source": [
    "Датасет № 2:"
   ]
  },
  {
   "cell_type": "code",
   "execution_count": 8,
   "metadata": {},
   "outputs": [
    {
     "data": {
      "text/html": [
       "<div>\n",
       "<style scoped>\n",
       "    .dataframe tbody tr th:only-of-type {\n",
       "        vertical-align: middle;\n",
       "    }\n",
       "\n",
       "    .dataframe tbody tr th {\n",
       "        vertical-align: top;\n",
       "    }\n",
       "\n",
       "    .dataframe thead th {\n",
       "        text-align: right;\n",
       "    }\n",
       "</style>\n",
       "<table border=\"1\" class=\"dataframe\">\n",
       "  <thead>\n",
       "    <tr style=\"text-align: right;\">\n",
       "      <th></th>\n",
       "      <th>id</th>\n",
       "      <th>f0</th>\n",
       "      <th>f1</th>\n",
       "      <th>f2</th>\n",
       "      <th>product</th>\n",
       "    </tr>\n",
       "  </thead>\n",
       "  <tbody>\n",
       "    <tr>\n",
       "      <th>0</th>\n",
       "      <td>fwXo0</td>\n",
       "      <td>-1.146987</td>\n",
       "      <td>0.963328</td>\n",
       "      <td>-0.828965</td>\n",
       "      <td>27.758673</td>\n",
       "    </tr>\n",
       "    <tr>\n",
       "      <th>1</th>\n",
       "      <td>WJtFt</td>\n",
       "      <td>0.262778</td>\n",
       "      <td>0.269839</td>\n",
       "      <td>-2.530187</td>\n",
       "      <td>56.069697</td>\n",
       "    </tr>\n",
       "  </tbody>\n",
       "</table>\n",
       "</div>"
      ],
      "text/plain": [
       "      id        f0        f1        f2    product\n",
       "0  fwXo0 -1.146987  0.963328 -0.828965  27.758673\n",
       "1  WJtFt  0.262778  0.269839 -2.530187  56.069697"
      ]
     },
     "metadata": {},
     "output_type": "display_data"
    },
    {
     "name": "stdout",
     "output_type": "stream",
     "text": [
      "Shape: (100000, 5) \n",
      "\n",
      "Количество пропусков в данных:\n",
      "id         0\n",
      "f0         0\n",
      "f1         0\n",
      "f2         0\n",
      "product    0\n",
      "dtype: int64\n",
      "\n",
      "Количество дубликатов: 0 \n",
      "\n",
      "Распределения значений:\n"
     ]
    },
    {
     "data": {
      "image/png": "[encoded data removed]",
      "text/plain": [
       "<Figure size 1080x576 with 4 Axes>"
      ]
     },
     "metadata": {
      "needs_background": "light"
     },
     "output_type": "display_data"
    }
   ],
   "source": [
    "get_info(geo_data_2)"
   ]
  },
  {
   "cell_type": "markdown",
   "metadata": {},
   "source": [
    "Пропусков и дубликатов в датасете нет. Распределения f0, f1 и f2 являются нормальными. Распределение запаса имеет ярковыраженные \"столбцы\" с равномерным распределением в пределах каждого диапазона, перемежающиеся с локальными минимумами."
   ]
  },
  {
   "cell_type": "markdown",
   "metadata": {},
   "source": [
    "### Выводы"
   ]
  },
  {
   "cell_type": "markdown",
   "metadata": {},
   "source": [
    "В рамках этапа были рассмотрены данные по всем 3 регионам. Все данные полные и не требуют предобработки. Для каждого региона распределения величин `f0`, `f1`, `f2` и `product` имеют свои особенности."
   ]
  },
  {
   "cell_type": "markdown",
   "metadata": {},
   "source": [
    "## Обучение и проверка модели"
   ]
  },
  {
   "cell_type": "markdown",
   "metadata": {},
   "source": [
    "### Подготовка признаков"
   ]
  },
  {
   "cell_type": "markdown",
   "metadata": {},
   "source": [
    "Столбец `id` является идентификационным и не несет информации о запасах в скважине, в качестве признаков используются `f0`, `f1` и `f2`. Целевым является столбец `product`. Все данные должны быть разделены на обучающую и валидационную выборки в соотношении 3:1."
   ]
  },
  {
   "cell_type": "code",
   "execution_count": 9,
   "metadata": {},
   "outputs": [
    {
     "name": "stdout",
     "output_type": "stream",
     "text": [
      "Обучающая выборка: 75000 строк\n",
      "Валидационная выборка: 25000 строк\n"
     ]
    }
   ],
   "source": [
    "def features_n_targets(data):\n",
    "    \n",
    "    features = data.drop(['id', 'product'], axis=1)    \n",
    "    target = data['product']    \n",
    "\n",
    "    return  train_test_split(features, target, test_size=.75, random_state=1)\n",
    "\n",
    "features_valid_0, features_train_0, target_valid_0, target_train_0 = features_n_targets(geo_data_0)\n",
    "features_valid_1, features_train_1, target_valid_1, target_train_1 = features_n_targets(geo_data_1)\n",
    "features_valid_2, features_train_2, target_valid_2, target_train_2 = features_n_targets(geo_data_2)\n",
    "\n",
    "print('Обучающая выборка:', features_train_0.shape[0], 'строк')\n",
    "print('Валидационная выборка:', features_valid_0.shape[0], 'строк')"
   ]
  },
  {
   "cell_type": "markdown",
   "metadata": {},
   "source": [
    "### Обучение модели"
   ]
  },
  {
   "cell_type": "markdown",
   "metadata": {},
   "source": [
    "Для обучения модели подходит только линейная регрессия, так как остальные модели недостаточно предсказуемые. "
   ]
  },
  {
   "cell_type": "code",
   "execution_count": 10,
   "metadata": {},
   "outputs": [],
   "source": [
    "def get_predictions(features_valid, features_train, target_valid, target_train):\n",
    "\n",
    "    lr = LinearRegression()\n",
    "    lr.fit(features_train, target_train)\n",
    "    \n",
    "    predictions = pd.Series(lr.predict(features_valid), index=target_valid.index)\n",
    "    \n",
    "    rmse = mean_squared_error(predictions, target_valid) ** 0.5\n",
    "    avg = predictions.mean()\n",
    "    \n",
    "    print(\"RMSE: {0:.2f}\".format(rmse))\n",
    "    print(\"Average product: {0:.2f}\".format(avg))\n",
    "    print('R\\u00b2 = {0:.2f}'.format( r2_score(target_valid,predictions)))\n",
    "    \n",
    "    return predictions, avg, rmse"
   ]
  },
  {
   "cell_type": "markdown",
   "metadata": {},
   "source": [
    "#### Регион 0"
   ]
  },
  {
   "cell_type": "code",
   "execution_count": 11,
   "metadata": {},
   "outputs": [
    {
     "name": "stdout",
     "output_type": "stream",
     "text": [
      "RMSE: 37.58\n",
      "Average product: 92.53\n",
      "R² = 0.28\n"
     ]
    }
   ],
   "source": [
    "summary = {}\n",
    "predictions_0, *summary['Регион 0'] =\\\n",
    "    get_predictions(features_valid_0, features_train_0, target_valid_0, target_train_0)"
   ]
  },
  {
   "cell_type": "markdown",
   "metadata": {},
   "source": [
    "Визуально оценим качество модели. Построим график, отображающий предсказаное значение относительно действительного."
   ]
  },
  {
   "cell_type": "code",
   "execution_count": 12,
   "metadata": {},
   "outputs": [
    {
     "data": {
      "image/png": "[encoded data removed]",
      "text/plain": [
       "<Figure size 432x288 with 1 Axes>"
      ]
     },
     "metadata": {
      "needs_background": "light"
     },
     "output_type": "display_data"
    }
   ],
   "source": [
    "def plot_target_vs_predict(target, predictions):\n",
    "\n",
    "    plt.scatter(target, target, label='target',  marker=\".\", lw=0.7, s=1, c='r')\n",
    "    plt.scatter(target, predictions, label='predict', marker=\",\", lw=0, s=1, alpha=0.2)\n",
    "    plt.xlabel('target')\n",
    "    plt.legend()\n",
    "    None\n",
    "\n",
    "plot_target_vs_predict(target_valid_0, predictions_0)"
   ]
  },
  {
   "cell_type": "markdown",
   "metadata": {},
   "source": [
    "Видно, что на всем диапазоне значений реального запаса предсказания можели имеют большой разброс относительно искомого значения, причем на экстримальных зачениях это отклонение наибольшее. Потенциально это повышает риски, так как предсказанные значения отличаются от реальных."
   ]
  },
  {
   "cell_type": "markdown",
   "metadata": {},
   "source": [
    "#### Регион 1"
   ]
  },
  {
   "cell_type": "code",
   "execution_count": 13,
   "metadata": {},
   "outputs": [
    {
     "name": "stdout",
     "output_type": "stream",
     "text": [
      "RMSE: 0.89\n",
      "Average product: 68.64\n",
      "R² = 1.00\n"
     ]
    }
   ],
   "source": [
    "predictions_1, *summary['Регион 1'] =\\\n",
    "    get_predictions(features_valid_1, features_train_1, target_valid_1, target_train_1)"
   ]
  },
  {
   "cell_type": "code",
   "execution_count": 14,
   "metadata": {},
   "outputs": [
    {
     "data": {
      "image/png": "[encoded data removed]",
      "text/plain": [
       "<Figure size 432x288 with 1 Axes>"
      ]
     },
     "metadata": {
      "needs_background": "light"
     },
     "output_type": "display_data"
    }
   ],
   "source": [
    "plot_target_vs_predict(target_valid_1, predictions_1)"
   ]
  },
  {
   "cell_type": "markdown",
   "metadata": {},
   "source": [
    "Модель демонстрирует высокое качество на всем диапазоне данных: значения по предсказаниям мало отличаются от реальных, и RMSE близка к 0."
   ]
  },
  {
   "cell_type": "markdown",
   "metadata": {},
   "source": [
    "#### Регион 2"
   ]
  },
  {
   "cell_type": "code",
   "execution_count": 15,
   "metadata": {},
   "outputs": [
    {
     "name": "stdout",
     "output_type": "stream",
     "text": [
      "RMSE: 40.14\n",
      "Average product: 94.99\n",
      "R² = 0.20\n"
     ]
    }
   ],
   "source": [
    "predictions_2, *summary['Регион 2'] =\\\n",
    "    get_predictions(features_valid_2, features_train_2, target_valid_2, target_train_2)"
   ]
  },
  {
   "cell_type": "code",
   "execution_count": 16,
   "metadata": {},
   "outputs": [
    {
     "data": {
      "image/png": "[encoded data removed]",
      "text/plain": [
       "<Figure size 432x288 with 1 Axes>"
      ]
     },
     "metadata": {
      "needs_background": "light"
     },
     "output_type": "display_data"
    }
   ],
   "source": [
    "plot_target_vs_predict(target_valid_2, predictions_2)"
   ]
  },
  {
   "cell_type": "markdown",
   "metadata": {},
   "source": [
    "Видно, что на всем диапазоне значений реального запаса предсказания можели имеют большой разброс относительно искомого значения, причем на экстремальных зачениях это отклонение наибольшее. Потенциально это повышает риски, так как предсказанные значения отличаются от реальных."
   ]
  },
  {
   "cell_type": "markdown",
   "metadata": {},
   "source": [
    "### Выводы"
   ]
  },
  {
   "cell_type": "markdown",
   "metadata": {},
   "source": [
    "На данном этапе были подготовлены признаки для обучения моделей и обучены модели для всех трех регионов."
   ]
  },
  {
   "cell_type": "code",
   "execution_count": 17,
   "metadata": {},
   "outputs": [
    {
     "data": {
      "text/html": [
       "<div>\n",
       "<style scoped>\n",
       "    .dataframe tbody tr th:only-of-type {\n",
       "        vertical-align: middle;\n",
       "    }\n",
       "\n",
       "    .dataframe tbody tr th {\n",
       "        vertical-align: top;\n",
       "    }\n",
       "\n",
       "    .dataframe thead th {\n",
       "        text-align: right;\n",
       "    }\n",
       "</style>\n",
       "<table border=\"1\" class=\"dataframe\">\n",
       "  <thead>\n",
       "    <tr style=\"text-align: right;\">\n",
       "      <th></th>\n",
       "      <th>Средний запас</th>\n",
       "      <th>RMSE</th>\n",
       "    </tr>\n",
       "  </thead>\n",
       "  <tbody>\n",
       "    <tr>\n",
       "      <th>Регион 0</th>\n",
       "      <td>92.53</td>\n",
       "      <td>37.58</td>\n",
       "    </tr>\n",
       "    <tr>\n",
       "      <th>Регион 1</th>\n",
       "      <td>68.64</td>\n",
       "      <td>0.89</td>\n",
       "    </tr>\n",
       "    <tr>\n",
       "      <th>Регион 2</th>\n",
       "      <td>94.99</td>\n",
       "      <td>40.14</td>\n",
       "    </tr>\n",
       "  </tbody>\n",
       "</table>\n",
       "</div>"
      ],
      "text/plain": [
       "          Средний запас  RMSE\n",
       "Регион 0          92.53 37.58\n",
       "Регион 1          68.64  0.89\n",
       "Регион 2          94.99 40.14"
      ]
     },
     "execution_count": 17,
     "metadata": {},
     "output_type": "execute_result"
    }
   ],
   "source": [
    "pd.options.display.float_format = '{:,.2f}'.format #dataframe output formatting\n",
    "pd.DataFrame(summary.values(), index=summary.keys(), columns=['Средний запас', 'RMSE'])"
   ]
  },
  {
   "cell_type": "markdown",
   "metadata": {},
   "source": [
    "Предсказанные значения запасов для скважин 0 и 2 намного выше, чем для 1. Однако точность предсказаний для скважины 1 очень высокая: RMSE близка к 0, в то время как для других составляет около 40% от среднего значения."
   ]
  },
  {
   "cell_type": "markdown",
   "metadata": {},
   "source": [
    "## Расчёт прибыли и рисков "
   ]
  },
  {
   "cell_type": "markdown",
   "metadata": {},
   "source": [
    "###  Условия\n",
    "- Бюджет на разработку скважин в регионе — 10 млрд рублей.\n",
    "- При разведке региона исследуют 500 точек, из которых с помощью машинного обучения выбирают 200 лучших для разработки.\n",
    "- При нынешних ценах один баррель сырья приносит 450 рублей дохода. Доход с каждой единицы продукта составляет 450 тыс. рублей, поскольку объём указан в тысячах баррелей.\n",
    "- После оценки рисков нужно оставить лишь те регионы, в которых вероятность убытков меньше 2.5%. Среди них выбирают регион с наибольшей средней прибылью."
   ]
  },
  {
   "cell_type": "code",
   "execution_count": 18,
   "metadata": {},
   "outputs": [],
   "source": [
    "budget = 10_000_000_000 #рублей\n",
    "\n",
    "burrel_price = 450 #рублей\n",
    "income_per_1 = burrel_price * 1000 #рублей\n",
    "\n",
    "n_explored = 500\n",
    "n_best = 200"
   ]
  },
  {
   "cell_type": "code",
   "execution_count": 19,
   "metadata": {},
   "outputs": [
    {
     "name": "stdout",
     "output_type": "stream",
     "text": [
      "Точка безубыточности: 22222 тыс. баррелей\n"
     ]
    }
   ],
   "source": [
    "min_product = budget/ income_per_1\n",
    "print(\"Точка безубыточности: {0:.0f} тыс. баррелей\".format(min_product))"
   ]
  },
  {
   "cell_type": "code",
   "execution_count": 20,
   "metadata": {},
   "outputs": [
    {
     "name": "stdout",
     "output_type": "stream",
     "text": [
      "Средний объем нефти в выбранных скважинах для безубыточного функционирования: 112.0 тыс. баррелей\n"
     ]
    }
   ],
   "source": [
    "print(\"Средний объем нефти в выбранных скважинах для безубыточного функционирования:\",\\\n",
    "      np.ceil(min_product/n_best), 'тыс. баррелей')"
   ]
  },
  {
   "cell_type": "markdown",
   "metadata": {},
   "source": [
    "Во всех трех регионах средний запас в скважине меньше, чем требуется для безубыточной разработки. Однако при разведке региона исследуют 500 точек, из которых с помощью машинного обучения выбирают 200 лучших для разработки, поэтому среднее для них будет выше."
   ]
  },
  {
   "cell_type": "markdown",
   "metadata": {},
   "source": [
    "### Расчет прибыли"
   ]
  },
  {
   "cell_type": "code",
   "execution_count": 21,
   "metadata": {},
   "outputs": [],
   "source": [
    "def get_income(predictions, target):\n",
    "    \n",
    "    #скважины с максимальными значениями предсказаний.\n",
    "    top = predictions.sort_values(ascending=False).index[:n_best]\n",
    "    \n",
    "    #4.3. Рассчитайте доход для полученного объёма сырья\n",
    "    return target[top].sum() * income_per_1"
   ]
  },
  {
   "cell_type": "code",
   "execution_count": 22,
   "metadata": {},
   "outputs": [],
   "source": [
    "def Bootstrap(predictions, target, n):\n",
    "    \n",
    "    #Bootstrap с 1000 выборок, чтобы найти распределение прибыли.\n",
    "    state = np.random.RandomState(1)\n",
    "    incomes = []\n",
    "    count = 0\n",
    "    for _ in range(n):\n",
    "        ind = predictions.sample(n=n_explored, replace=True, random_state=state).index\n",
    "        income = get_income(predictions.loc[ind], target.loc[ind])\n",
    "        incomes.append(income)\n",
    "        if income < budget:\n",
    "            count +=1\n",
    "    \n",
    "    incomes = pd.Series(incomes)\n",
    "    \n",
    "    #Средняя прибыль, 95%-й доверительный интервал и риск убытков.\n",
    "    lower = incomes.quantile(0.025) - budget\n",
    "    avg = incomes.mean() - budget\n",
    "    upper = incomes.quantile(0.975) - budget    \n",
    "    loss_prob = (incomes < budget).mean()\n",
    "    \n",
    "    print(f'Средняя прибыль: {int(avg):,} рублей'.replace(',',' '))\n",
    "    print(f'Доверительный интервал: ({int(lower):,} - {int(upper):,}) рублей'.replace(',',' '))\n",
    "    print(f'Вероятность убытков: {round(loss_prob*100, 1)}%')\n",
    "    \n",
    "    return lower, avg, upper, loss_prob    "
   ]
  },
  {
   "cell_type": "code",
   "execution_count": 23,
   "metadata": {},
   "outputs": [
    {
     "name": "stdout",
     "output_type": "stream",
     "text": [
      "Средняя прибыль: 662 067 616 рублей\n",
      "Доверительный интервал: (81 523 899 - 1 282 939 086) рублей\n",
      "Вероятность убытков: 1.0%\n"
     ]
    }
   ],
   "source": [
    "summary_business = {}\n",
    "\n",
    "summary_business['Регион 0'] = Bootstrap(predictions_0, target_valid_0, 1000)"
   ]
  },
  {
   "cell_type": "code",
   "execution_count": 24,
   "metadata": {},
   "outputs": [
    {
     "name": "stdout",
     "output_type": "stream",
     "text": [
      "Средняя прибыль: 667 119 928 рублей\n",
      "Доверительный интервал: (157 340 048 - 1 208 021 184) рублей\n",
      "Вероятность убытков: 0.5%\n"
     ]
    }
   ],
   "source": [
    "summary_business['Регион 1'] = Bootstrap(predictions_1, target_valid_1, 1000)"
   ]
  },
  {
   "cell_type": "code",
   "execution_count": 25,
   "metadata": {},
   "outputs": [
    {
     "name": "stdout",
     "output_type": "stream",
     "text": [
      "Средняя прибыль: 561 529 521 рублей\n",
      "Доверительный интервал: (-20 810 809 - 1 187 983 169) рублей\n",
      "Вероятность убытков: 2.9%\n"
     ]
    }
   ],
   "source": [
    "summary_business['Регион 2'] = Bootstrap(predictions_2, target_valid_2, 1000)"
   ]
  },
  {
   "cell_type": "markdown",
   "metadata": {},
   "source": [
    "### Выводы"
   ]
  },
  {
   "cell_type": "code",
   "execution_count": 26,
   "metadata": {
    "scrolled": false
   },
   "outputs": [
    {
     "data": {
      "text/html": [
       "<div>\n",
       "<style scoped>\n",
       "    .dataframe tbody tr th:only-of-type {\n",
       "        vertical-align: middle;\n",
       "    }\n",
       "\n",
       "    .dataframe tbody tr th {\n",
       "        vertical-align: top;\n",
       "    }\n",
       "\n",
       "    .dataframe thead th {\n",
       "        text-align: right;\n",
       "    }\n",
       "</style>\n",
       "<table border=\"1\" class=\"dataframe\">\n",
       "  <thead>\n",
       "    <tr style=\"text-align: right;\">\n",
       "      <th></th>\n",
       "      <th>lower</th>\n",
       "      <th>avg</th>\n",
       "      <th>upper</th>\n",
       "      <th>loss_prob</th>\n",
       "    </tr>\n",
       "  </thead>\n",
       "  <tbody>\n",
       "    <tr>\n",
       "      <th>Регион 0</th>\n",
       "      <td>81,523,899</td>\n",
       "      <td>662,067,617</td>\n",
       "      <td>1,282,939,086</td>\n",
       "      <td>0.010</td>\n",
       "    </tr>\n",
       "    <tr>\n",
       "      <th>Регион 1</th>\n",
       "      <td>157,340,048</td>\n",
       "      <td>667,119,929</td>\n",
       "      <td>1,208,021,185</td>\n",
       "      <td>0.005</td>\n",
       "    </tr>\n",
       "    <tr>\n",
       "      <th>Регион 2</th>\n",
       "      <td>-20,810,810</td>\n",
       "      <td>561,529,522</td>\n",
       "      <td>1,187,983,170</td>\n",
       "      <td>0.029</td>\n",
       "    </tr>\n",
       "  </tbody>\n",
       "</table>\n",
       "</div>"
      ],
      "text/plain": [
       "                lower          avg          upper loss_prob\n",
       "Регион 0   81,523,899  662,067,617  1,282,939,086     0.010\n",
       "Регион 1  157,340,048  667,119,929  1,208,021,185     0.005\n",
       "Регион 2  -20,810,810  561,529,522  1,187,983,170     0.029"
      ]
     },
     "execution_count": 26,
     "metadata": {},
     "output_type": "execute_result"
    }
   ],
   "source": [
    "summary_business = pd.DataFrame(summary_business.values(), \n",
    "                                index=summary_business.keys(), \n",
    "                                columns=['lower', 'avg', 'upper', 'loss_prob']\n",
    "                               )\n",
    "\n",
    "#output formatting\n",
    "for col in ['lower', 'avg', 'upper']:\n",
    "    summary_business[col] = summary_business[col].map('{:,.0f}'.format)\n",
    "    \n",
    "summary_business['loss_prob'] = summary_business['loss_prob'].map('{:,.3f}'.format)\n",
    "\n",
    "summary_business"
   ]
  },
  {
   "cell_type": "markdown",
   "metadata": {},
   "source": [
    "Риск для регионов 0 и 1 меньше требуемых 2.5%. Регион 2 не подходит, так как имеет слишком высокий риск. Регион 1 имеет наибольшие значения средней потенциальной прибыли и нижней границы доверительного интервала. Регион 0 имеет более широкий доверительный интервал, и, как следствие, более высокую верхнюю границу прибыли, однако и риски для него выше. В целом регион 1 является более надежным выбором."
   ]
  },
  {
   "cell_type": "markdown",
   "metadata": {},
   "source": [
    "## Выводы"
   ]
  },
  {
   "cell_type": "markdown",
   "metadata": {},
   "source": [
    "Все данные полные и не требуют предобработки. \n",
    "\n",
    "Столбец `id` является идентификационным и не несет информации о запасах в скважине, в качестве признаков используются `f0`, `f1` и `f2`. Целевым является столбец `product`. Все данные должны быть разделены на обучающую и валидационную выборки в соотношении 75:25.\n",
    "\n",
    "Для обучения модели подходит только линейная регрессия, так как остальные модели недостаточно предсказуемые.\n",
    "\n",
    "В рамках проекта были изучены начальные данные: пропусков и дубликатов не обнаружено. Для каждого региона распределения признаков и запасов имеют свои особенности.\n",
    "\n",
    "Были обучены модели линейной регрессии на данных для каждого региона в отдельности. Наиболее точными оказались предсказания для региона 1.\n",
    "\n",
    "Так же был выполнен расчет рисков и потенциальной прибыли для каждого региона техникой Bootstrap с 1000 выборок. Была определена средняя прибыль, 95%-й доверительный интервал и риск убытков. \n",
    "\n",
    "В результате исследования было определено, что регион 1 является наиболее надежным и имеет наибольшую среднюю прибыль."
   ]
  }
 ],
 "metadata": {
  "ExecuteTimeLog": [
   {
    "duration": 1823,
    "start_time": "2022-09-29T10:40:03.664Z"
   },
   {
    "duration": 796,
    "start_time": "2022-09-29T10:42:01.875Z"
   },
   {
    "duration": 10,
    "start_time": "2022-09-29T10:44:04.113Z"
   },
   {
    "duration": 10,
    "start_time": "2022-09-29T10:44:15.924Z"
   },
   {
    "duration": 389,
    "start_time": "2022-09-29T10:47:04.419Z"
   },
   {
    "duration": 10,
    "start_time": "2022-09-29T10:47:05.393Z"
   },
   {
    "duration": 10,
    "start_time": "2022-09-29T10:47:06.119Z"
   },
   {
    "duration": 11,
    "start_time": "2022-09-29T10:47:06.722Z"
   },
   {
    "duration": 15,
    "start_time": "2022-09-29T10:51:25.216Z"
   },
   {
    "duration": 14,
    "start_time": "2022-09-29T10:51:34.416Z"
   },
   {
    "duration": 16,
    "start_time": "2022-09-29T10:51:41.564Z"
   },
   {
    "duration": 107,
    "start_time": "2022-09-29T10:54:51.227Z"
   },
   {
    "duration": 4,
    "start_time": "2022-09-29T10:54:55.715Z"
   },
   {
    "duration": 359,
    "start_time": "2022-09-29T10:54:56.718Z"
   },
   {
    "duration": 4,
    "start_time": "2022-09-29T10:55:08.077Z"
   },
   {
    "duration": 358,
    "start_time": "2022-09-29T10:55:09.540Z"
   },
   {
    "duration": 4,
    "start_time": "2022-09-29T10:55:19.466Z"
   },
   {
    "duration": 411,
    "start_time": "2022-09-29T10:55:22.229Z"
   },
   {
    "duration": 4,
    "start_time": "2022-09-29T10:57:25.980Z"
   },
   {
    "duration": 337,
    "start_time": "2022-09-29T10:57:26.472Z"
   },
   {
    "duration": 4,
    "start_time": "2022-09-29T10:57:31.116Z"
   },
   {
    "duration": 341,
    "start_time": "2022-09-29T10:57:32.054Z"
   },
   {
    "duration": 4,
    "start_time": "2022-09-29T10:58:25.881Z"
   },
   {
    "duration": 412,
    "start_time": "2022-09-29T10:58:27.603Z"
   },
   {
    "duration": 3,
    "start_time": "2022-09-29T10:58:37.778Z"
   },
   {
    "duration": 477,
    "start_time": "2022-09-29T10:58:38.227Z"
   },
   {
    "duration": 4,
    "start_time": "2022-09-29T11:00:21.593Z"
   },
   {
    "duration": 469,
    "start_time": "2022-09-29T11:00:22.079Z"
   },
   {
    "duration": 4,
    "start_time": "2022-09-29T11:00:29.081Z"
   },
   {
    "duration": 389,
    "start_time": "2022-09-29T11:00:31.141Z"
   },
   {
    "duration": 5,
    "start_time": "2022-09-29T11:00:55.516Z"
   },
   {
    "duration": 429,
    "start_time": "2022-09-29T11:00:56.029Z"
   },
   {
    "duration": 4,
    "start_time": "2022-09-29T11:09:09.820Z"
   },
   {
    "duration": 445,
    "start_time": "2022-09-29T11:09:11.504Z"
   },
   {
    "duration": 4,
    "start_time": "2022-09-29T11:09:27.818Z"
   },
   {
    "duration": 403,
    "start_time": "2022-09-29T11:09:29.009Z"
   },
   {
    "duration": 5,
    "start_time": "2022-09-29T11:09:49.544Z"
   },
   {
    "duration": 397,
    "start_time": "2022-09-29T11:09:50.744Z"
   },
   {
    "duration": 485,
    "start_time": "2022-09-29T11:09:59.343Z"
   },
   {
    "duration": 387,
    "start_time": "2022-09-29T11:10:25.431Z"
   },
   {
    "duration": 4,
    "start_time": "2022-09-29T11:10:30.745Z"
   },
   {
    "duration": 391,
    "start_time": "2022-09-29T11:10:31.732Z"
   },
   {
    "duration": 406,
    "start_time": "2022-09-29T11:10:58.960Z"
   },
   {
    "duration": 385,
    "start_time": "2022-09-29T11:11:02.620Z"
   },
   {
    "duration": 4,
    "start_time": "2022-09-29T11:12:11.732Z"
   },
   {
    "duration": 496,
    "start_time": "2022-09-29T11:12:12.499Z"
   },
   {
    "duration": 429,
    "start_time": "2022-09-29T11:12:18.431Z"
   },
   {
    "duration": 389,
    "start_time": "2022-09-29T11:12:21.069Z"
   },
   {
    "duration": 4,
    "start_time": "2022-09-29T11:13:13.656Z"
   },
   {
    "duration": 434,
    "start_time": "2022-09-29T11:13:14.157Z"
   },
   {
    "duration": 4,
    "start_time": "2022-09-29T11:13:31.008Z"
   },
   {
    "duration": 312,
    "start_time": "2022-09-29T11:13:32.620Z"
   },
   {
    "duration": 4,
    "start_time": "2022-09-29T11:13:39.903Z"
   },
   {
    "duration": 350,
    "start_time": "2022-09-29T11:13:41.418Z"
   },
   {
    "duration": 5,
    "start_time": "2022-09-29T11:14:14.232Z"
   },
   {
    "duration": 309,
    "start_time": "2022-09-29T11:14:15.357Z"
   },
   {
    "duration": 4,
    "start_time": "2022-09-29T11:14:26.233Z"
   },
   {
    "duration": 548,
    "start_time": "2022-09-29T11:14:27.508Z"
   },
   {
    "duration": 5,
    "start_time": "2022-09-29T11:14:33.370Z"
   },
   {
    "duration": 440,
    "start_time": "2022-09-29T11:14:34.433Z"
   },
   {
    "duration": 65,
    "start_time": "2022-09-29T11:15:08.233Z"
   },
   {
    "duration": 5,
    "start_time": "2022-09-29T11:15:14.470Z"
   },
   {
    "duration": 407,
    "start_time": "2022-09-29T11:15:15.519Z"
   },
   {
    "duration": 423,
    "start_time": "2022-09-29T11:15:23.332Z"
   },
   {
    "duration": 422,
    "start_time": "2022-09-29T11:15:24.069Z"
   },
   {
    "duration": 4,
    "start_time": "2022-09-29T11:16:55.172Z"
   },
   {
    "duration": 10,
    "start_time": "2022-09-29T11:21:14.404Z"
   },
   {
    "duration": 10,
    "start_time": "2022-09-29T11:21:26.103Z"
   },
   {
    "duration": 14,
    "start_time": "2022-09-29T11:21:34.860Z"
   },
   {
    "duration": 20,
    "start_time": "2022-09-29T12:35:45.504Z"
   },
   {
    "duration": 1431,
    "start_time": "2022-09-29T12:35:55.163Z"
   },
   {
    "duration": 404,
    "start_time": "2022-09-29T12:35:56.596Z"
   },
   {
    "duration": 6,
    "start_time": "2022-09-29T12:35:57.002Z"
   },
   {
    "duration": 524,
    "start_time": "2022-09-29T12:35:57.010Z"
   },
   {
    "duration": 437,
    "start_time": "2022-09-29T12:35:57.539Z"
   },
   {
    "duration": 449,
    "start_time": "2022-09-29T12:35:57.978Z"
   },
   {
    "duration": 20,
    "start_time": "2022-09-29T12:35:58.430Z"
   },
   {
    "duration": 25,
    "start_time": "2022-09-29T12:40:47.055Z"
   },
   {
    "duration": 3,
    "start_time": "2022-09-29T12:41:56.868Z"
   },
   {
    "duration": 130,
    "start_time": "2022-09-29T12:51:16.459Z"
   },
   {
    "duration": 120,
    "start_time": "2022-09-29T12:51:19.865Z"
   },
   {
    "duration": 4,
    "start_time": "2022-09-29T12:51:26.171Z"
   },
   {
    "duration": 9,
    "start_time": "2022-09-29T12:51:28.483Z"
   },
   {
    "duration": 24,
    "start_time": "2022-09-29T12:51:37.208Z"
   },
   {
    "duration": 5,
    "start_time": "2022-09-29T12:54:28.573Z"
   },
   {
    "duration": 4,
    "start_time": "2022-09-29T12:54:51.822Z"
   },
   {
    "duration": 4,
    "start_time": "2022-09-29T12:54:56.897Z"
   },
   {
    "duration": 58,
    "start_time": "2022-09-29T12:55:06.397Z"
   },
   {
    "duration": 3,
    "start_time": "2022-09-29T12:55:07.797Z"
   },
   {
    "duration": 131,
    "start_time": "2022-09-29T12:58:24.349Z"
   },
   {
    "duration": 4,
    "start_time": "2022-09-29T12:59:02.423Z"
   },
   {
    "duration": 4,
    "start_time": "2022-09-29T12:59:12.487Z"
   },
   {
    "duration": 14,
    "start_time": "2022-09-29T13:00:02.886Z"
   },
   {
    "duration": 4,
    "start_time": "2022-09-29T13:00:14.211Z"
   },
   {
    "duration": 170,
    "start_time": "2022-09-29T13:00:18.273Z"
   },
   {
    "duration": 4,
    "start_time": "2022-09-29T13:00:36.552Z"
   },
   {
    "duration": 83,
    "start_time": "2022-09-29T13:00:48.063Z"
   },
   {
    "duration": 90,
    "start_time": "2022-09-29T13:00:55.361Z"
   },
   {
    "duration": 19,
    "start_time": "2022-09-29T13:00:56.649Z"
   },
   {
    "duration": 18,
    "start_time": "2022-09-29T13:02:02.787Z"
   },
   {
    "duration": 15,
    "start_time": "2022-09-29T13:02:36.761Z"
   },
   {
    "duration": 15,
    "start_time": "2022-09-29T13:02:38.711Z"
   },
   {
    "duration": 15,
    "start_time": "2022-09-29T13:04:09.174Z"
   },
   {
    "duration": 11,
    "start_time": "2022-09-29T13:04:16.988Z"
   },
   {
    "duration": 11,
    "start_time": "2022-09-29T13:04:59.755Z"
   },
   {
    "duration": 4,
    "start_time": "2022-09-29T13:05:08.699Z"
   },
   {
    "duration": 15,
    "start_time": "2022-09-29T13:05:16.862Z"
   },
   {
    "duration": 9,
    "start_time": "2022-09-29T13:05:45.799Z"
   },
   {
    "duration": 11,
    "start_time": "2022-09-29T13:05:50.700Z"
   },
   {
    "duration": 9,
    "start_time": "2022-09-29T13:05:57.425Z"
   },
   {
    "duration": 59,
    "start_time": "2022-09-29T13:07:13.587Z"
   },
   {
    "duration": 4,
    "start_time": "2022-09-29T13:07:19.453Z"
   },
   {
    "duration": 14,
    "start_time": "2022-09-29T13:07:19.900Z"
   },
   {
    "duration": 14,
    "start_time": "2022-09-29T13:07:20.300Z"
   },
   {
    "duration": 15,
    "start_time": "2022-09-29T13:07:20.600Z"
   },
   {
    "duration": 4,
    "start_time": "2022-09-29T13:10:03.188Z"
   },
   {
    "duration": 16,
    "start_time": "2022-09-29T13:10:03.589Z"
   },
   {
    "duration": 14,
    "start_time": "2022-09-29T13:10:04.175Z"
   },
   {
    "duration": 15,
    "start_time": "2022-09-29T13:10:04.689Z"
   },
   {
    "duration": 4,
    "start_time": "2022-09-29T13:10:15.551Z"
   },
   {
    "duration": 9,
    "start_time": "2022-09-29T13:10:27.375Z"
   },
   {
    "duration": 16,
    "start_time": "2022-09-29T13:10:52.714Z"
   },
   {
    "duration": 14,
    "start_time": "2022-09-29T13:10:53.114Z"
   },
   {
    "duration": 19,
    "start_time": "2022-09-29T13:10:53.451Z"
   },
   {
    "duration": 8,
    "start_time": "2022-09-29T13:10:54.752Z"
   },
   {
    "duration": 12,
    "start_time": "2022-09-29T13:11:17.426Z"
   },
   {
    "duration": 9,
    "start_time": "2022-09-29T13:11:27.992Z"
   },
   {
    "duration": 8,
    "start_time": "2022-09-29T13:11:33.276Z"
   },
   {
    "duration": 10,
    "start_time": "2022-09-29T13:11:35.452Z"
   },
   {
    "duration": 15,
    "start_time": "2022-09-29T13:12:29.401Z"
   },
   {
    "duration": 17,
    "start_time": "2022-09-29T13:12:29.652Z"
   },
   {
    "duration": 14,
    "start_time": "2022-09-29T13:12:29.889Z"
   },
   {
    "duration": 9,
    "start_time": "2022-09-29T13:12:31.413Z"
   },
   {
    "duration": 9,
    "start_time": "2022-09-29T13:13:07.488Z"
   },
   {
    "duration": 8,
    "start_time": "2022-09-29T13:13:10.689Z"
   },
   {
    "duration": 3,
    "start_time": "2022-09-29T13:14:47.615Z"
   },
   {
    "duration": 4,
    "start_time": "2022-09-29T13:15:01.964Z"
   },
   {
    "duration": 3,
    "start_time": "2022-09-29T13:16:21.678Z"
   },
   {
    "duration": 8,
    "start_time": "2022-09-29T13:18:19.582Z"
   },
   {
    "duration": 3,
    "start_time": "2022-09-29T13:18:21.128Z"
   },
   {
    "duration": 6,
    "start_time": "2022-09-29T13:18:21.552Z"
   },
   {
    "duration": 9,
    "start_time": "2022-09-29T13:18:27.165Z"
   },
   {
    "duration": 9,
    "start_time": "2022-09-29T13:18:31.628Z"
   },
   {
    "duration": 4,
    "start_time": "2022-09-29T13:19:11.478Z"
   },
   {
    "duration": 10,
    "start_time": "2022-09-29T13:19:16.103Z"
   },
   {
    "duration": 8,
    "start_time": "2022-09-29T13:19:17.965Z"
   },
   {
    "duration": 4,
    "start_time": "2022-09-29T13:19:34.755Z"
   },
   {
    "duration": 9,
    "start_time": "2022-09-29T13:20:21.768Z"
   },
   {
    "duration": 69,
    "start_time": "2022-09-29T13:20:27.848Z"
   },
   {
    "duration": 10,
    "start_time": "2022-09-29T13:20:30.192Z"
   },
   {
    "duration": 3,
    "start_time": "2022-09-29T13:20:48.979Z"
   },
   {
    "duration": 4,
    "start_time": "2022-09-29T13:27:49.721Z"
   },
   {
    "duration": 21,
    "start_time": "2022-09-29T13:28:49.548Z"
   },
   {
    "duration": 12,
    "start_time": "2022-09-29T13:29:01.895Z"
   },
   {
    "duration": 1406,
    "start_time": "2022-09-29T13:29:11.591Z"
   },
   {
    "duration": 428,
    "start_time": "2022-09-29T13:29:12.999Z"
   },
   {
    "duration": 11,
    "start_time": "2022-09-29T13:29:13.433Z"
   },
   {
    "duration": 467,
    "start_time": "2022-09-29T13:29:13.456Z"
   },
   {
    "duration": 478,
    "start_time": "2022-09-29T13:29:13.924Z"
   },
   {
    "duration": 475,
    "start_time": "2022-09-29T13:29:14.404Z"
   },
   {
    "duration": 129,
    "start_time": "2022-09-29T13:29:14.881Z"
   },
   {
    "duration": 0,
    "start_time": "2022-09-29T13:29:15.013Z"
   },
   {
    "duration": 0,
    "start_time": "2022-09-29T13:29:15.014Z"
   },
   {
    "duration": 0,
    "start_time": "2022-09-29T13:29:15.015Z"
   },
   {
    "duration": 0,
    "start_time": "2022-09-29T13:29:15.017Z"
   },
   {
    "duration": 0,
    "start_time": "2022-09-29T13:29:15.018Z"
   },
   {
    "duration": 0,
    "start_time": "2022-09-29T13:29:15.019Z"
   },
   {
    "duration": 0,
    "start_time": "2022-09-29T13:29:15.045Z"
   },
   {
    "duration": 0,
    "start_time": "2022-09-29T13:29:15.050Z"
   },
   {
    "duration": 0,
    "start_time": "2022-09-29T13:29:15.056Z"
   },
   {
    "duration": 9,
    "start_time": "2022-09-29T13:30:07.803Z"
   },
   {
    "duration": 16,
    "start_time": "2022-09-29T13:30:11.203Z"
   },
   {
    "duration": 58,
    "start_time": "2022-09-29T13:30:23.115Z"
   },
   {
    "duration": 6,
    "start_time": "2022-09-29T13:30:24.877Z"
   },
   {
    "duration": 4,
    "start_time": "2022-09-29T13:30:26.914Z"
   },
   {
    "duration": 25,
    "start_time": "2022-09-29T13:30:27.715Z"
   },
   {
    "duration": 19,
    "start_time": "2022-09-29T13:30:28.215Z"
   },
   {
    "duration": 20,
    "start_time": "2022-09-29T13:30:28.802Z"
   },
   {
    "duration": 14,
    "start_time": "2022-09-29T13:30:30.958Z"
   },
   {
    "duration": 3,
    "start_time": "2022-09-29T13:30:33.728Z"
   },
   {
    "duration": 3,
    "start_time": "2022-09-29T13:30:34.416Z"
   },
   {
    "duration": 146,
    "start_time": "2022-09-29T13:30:36.517Z"
   },
   {
    "duration": 6,
    "start_time": "2022-09-29T13:30:38.389Z"
   },
   {
    "duration": 4,
    "start_time": "2022-09-29T13:30:49.810Z"
   },
   {
    "duration": 5,
    "start_time": "2022-09-29T13:31:01.778Z"
   },
   {
    "duration": 10,
    "start_time": "2022-09-29T13:31:09.674Z"
   },
   {
    "duration": 9,
    "start_time": "2022-09-29T13:31:15.150Z"
   },
   {
    "duration": 4,
    "start_time": "2022-09-29T13:33:32.178Z"
   },
   {
    "duration": 20,
    "start_time": "2022-09-29T13:35:44.392Z"
   },
   {
    "duration": 5,
    "start_time": "2022-09-29T13:46:58.607Z"
   },
   {
    "duration": 766,
    "start_time": "2022-09-29T13:48:45.523Z"
   },
   {
    "duration": 5,
    "start_time": "2022-09-29T13:49:35.245Z"
   },
   {
    "duration": 2293,
    "start_time": "2022-09-29T13:49:36.296Z"
   },
   {
    "duration": 9,
    "start_time": "2022-09-29T13:50:04.633Z"
   },
   {
    "duration": 5,
    "start_time": "2022-09-29T13:50:55.984Z"
   },
   {
    "duration": 2280,
    "start_time": "2022-09-29T13:50:56.695Z"
   },
   {
    "duration": 9,
    "start_time": "2022-09-29T13:51:17.052Z"
   },
   {
    "duration": 3,
    "start_time": "2022-09-29T13:53:55.834Z"
   },
   {
    "duration": 5,
    "start_time": "2022-09-29T13:53:57.696Z"
   },
   {
    "duration": 8,
    "start_time": "2022-09-29T13:55:17.375Z"
   },
   {
    "duration": 19,
    "start_time": "2022-09-29T13:56:19.308Z"
   },
   {
    "duration": 4,
    "start_time": "2022-09-29T13:56:36.948Z"
   },
   {
    "duration": 4138,
    "start_time": "2022-09-29T13:56:37.647Z"
   },
   {
    "duration": 10,
    "start_time": "2022-09-29T13:56:41.787Z"
   },
   {
    "duration": 4,
    "start_time": "2022-09-29T13:59:49.499Z"
   },
   {
    "duration": 4,
    "start_time": "2022-09-29T13:59:51.035Z"
   },
   {
    "duration": 32,
    "start_time": "2022-09-29T13:59:51.748Z"
   },
   {
    "duration": 3,
    "start_time": "2022-09-29T14:00:18.986Z"
   },
   {
    "duration": 5,
    "start_time": "2022-09-29T14:00:20.622Z"
   },
   {
    "duration": 31,
    "start_time": "2022-09-29T14:00:21.400Z"
   },
   {
    "duration": 4,
    "start_time": "2022-09-29T14:00:32.198Z"
   },
   {
    "duration": 5,
    "start_time": "2022-09-29T14:00:33.160Z"
   },
   {
    "duration": 4739,
    "start_time": "2022-09-29T14:00:33.943Z"
   },
   {
    "duration": 9,
    "start_time": "2022-09-29T14:00:40.091Z"
   },
   {
    "duration": 3,
    "start_time": "2022-09-29T14:03:02.449Z"
   },
   {
    "duration": 5,
    "start_time": "2022-09-29T14:03:04.111Z"
   },
   {
    "duration": 4218,
    "start_time": "2022-09-29T14:03:05.687Z"
   },
   {
    "duration": 10,
    "start_time": "2022-09-29T14:03:09.907Z"
   },
   {
    "duration": 1379,
    "start_time": "2022-09-29T14:03:25.777Z"
   },
   {
    "duration": 451,
    "start_time": "2022-09-29T14:03:27.158Z"
   },
   {
    "duration": 5,
    "start_time": "2022-09-29T14:03:27.611Z"
   },
   {
    "duration": 455,
    "start_time": "2022-09-29T14:03:27.618Z"
   },
   {
    "duration": 452,
    "start_time": "2022-09-29T14:03:28.075Z"
   },
   {
    "duration": 483,
    "start_time": "2022-09-29T14:03:28.529Z"
   },
   {
    "duration": 69,
    "start_time": "2022-09-29T14:03:29.014Z"
   },
   {
    "duration": 12,
    "start_time": "2022-09-29T14:03:29.085Z"
   },
   {
    "duration": 42,
    "start_time": "2022-09-29T14:03:29.098Z"
   },
   {
    "duration": 37,
    "start_time": "2022-09-29T14:03:29.143Z"
   },
   {
    "duration": 262,
    "start_time": "2022-09-29T14:03:29.182Z"
   },
   {
    "duration": 190,
    "start_time": "2022-09-29T14:03:29.449Z"
   },
   {
    "duration": 106,
    "start_time": "2022-09-29T14:03:29.642Z"
   },
   {
    "duration": 12,
    "start_time": "2022-09-29T14:03:29.750Z"
   },
   {
    "duration": 17,
    "start_time": "2022-09-29T14:03:29.764Z"
   },
   {
    "duration": 12,
    "start_time": "2022-09-29T14:03:29.783Z"
   },
   {
    "duration": 15,
    "start_time": "2022-09-29T14:03:29.798Z"
   },
   {
    "duration": 4101,
    "start_time": "2022-09-29T14:03:29.815Z"
   },
   {
    "duration": 9,
    "start_time": "2022-09-29T14:03:33.918Z"
   },
   {
    "duration": 110,
    "start_time": "2022-09-29T14:04:50.715Z"
   },
   {
    "duration": 4,
    "start_time": "2022-09-29T14:04:56.570Z"
   },
   {
    "duration": 5,
    "start_time": "2022-09-29T14:05:02.579Z"
   },
   {
    "duration": 4,
    "start_time": "2022-09-29T14:05:18.102Z"
   },
   {
    "duration": 4,
    "start_time": "2022-09-29T14:05:32.979Z"
   },
   {
    "duration": 1516,
    "start_time": "2022-09-29T14:06:30.434Z"
   },
   {
    "duration": 417,
    "start_time": "2022-09-29T14:06:31.953Z"
   },
   {
    "duration": 5,
    "start_time": "2022-09-29T14:06:32.372Z"
   },
   {
    "duration": 475,
    "start_time": "2022-09-29T14:06:32.379Z"
   },
   {
    "duration": 474,
    "start_time": "2022-09-29T14:06:32.858Z"
   },
   {
    "duration": 451,
    "start_time": "2022-09-29T14:06:33.333Z"
   },
   {
    "duration": 66,
    "start_time": "2022-09-29T14:06:33.786Z"
   },
   {
    "duration": 5,
    "start_time": "2022-09-29T14:06:33.853Z"
   },
   {
    "duration": 12,
    "start_time": "2022-09-29T14:06:33.859Z"
   },
   {
    "duration": 240,
    "start_time": "2022-09-29T14:06:33.872Z"
   },
   {
    "duration": 31,
    "start_time": "2022-09-29T14:06:34.115Z"
   },
   {
    "duration": 102,
    "start_time": "2022-09-29T14:06:34.238Z"
   },
   {
    "duration": 98,
    "start_time": "2022-09-29T14:06:34.343Z"
   },
   {
    "duration": 17,
    "start_time": "2022-09-29T14:06:34.445Z"
   },
   {
    "duration": 7,
    "start_time": "2022-09-29T14:06:34.463Z"
   },
   {
    "duration": 10,
    "start_time": "2022-09-29T14:06:34.471Z"
   },
   {
    "duration": 5,
    "start_time": "2022-09-29T14:06:34.483Z"
   },
   {
    "duration": 5,
    "start_time": "2022-09-29T14:06:34.490Z"
   },
   {
    "duration": 4372,
    "start_time": "2022-09-29T14:06:34.497Z"
   },
   {
    "duration": 10,
    "start_time": "2022-09-29T14:06:38.870Z"
   },
   {
    "duration": 3,
    "start_time": "2022-09-29T14:10:07.901Z"
   },
   {
    "duration": 5,
    "start_time": "2022-09-29T14:10:09.413Z"
   },
   {
    "duration": 4794,
    "start_time": "2022-09-29T14:10:10.276Z"
   },
   {
    "duration": 8,
    "start_time": "2022-09-29T14:10:15.072Z"
   },
   {
    "duration": 5,
    "start_time": "2022-09-29T14:12:19.352Z"
   },
   {
    "duration": 21,
    "start_time": "2022-09-29T14:12:20.915Z"
   },
   {
    "duration": 3,
    "start_time": "2022-09-29T14:12:39.028Z"
   },
   {
    "duration": 5,
    "start_time": "2022-09-29T14:12:42.839Z"
   },
   {
    "duration": 21,
    "start_time": "2022-09-29T14:12:43.584Z"
   },
   {
    "duration": 3,
    "start_time": "2022-09-29T14:12:57.165Z"
   },
   {
    "duration": 6,
    "start_time": "2022-09-29T14:13:06.477Z"
   },
   {
    "duration": 24,
    "start_time": "2022-09-29T14:13:07.964Z"
   },
   {
    "duration": 3,
    "start_time": "2022-09-29T14:13:16.016Z"
   },
   {
    "duration": 3,
    "start_time": "2022-09-29T14:13:18.003Z"
   },
   {
    "duration": 7,
    "start_time": "2022-09-29T14:13:19.465Z"
   },
   {
    "duration": 28,
    "start_time": "2022-09-29T14:13:20.116Z"
   },
   {
    "duration": 3,
    "start_time": "2022-09-29T14:13:45.216Z"
   },
   {
    "duration": 5,
    "start_time": "2022-09-29T14:13:46.865Z"
   },
   {
    "duration": 32,
    "start_time": "2022-09-29T14:13:47.465Z"
   },
   {
    "duration": 3,
    "start_time": "2022-09-29T14:14:05.341Z"
   },
   {
    "duration": 4,
    "start_time": "2022-09-29T14:14:15.560Z"
   },
   {
    "duration": 4,
    "start_time": "2022-09-29T14:14:16.827Z"
   },
   {
    "duration": 28,
    "start_time": "2022-09-29T14:14:17.827Z"
   },
   {
    "duration": 3,
    "start_time": "2022-09-29T14:14:38.752Z"
   },
   {
    "duration": 5,
    "start_time": "2022-09-29T14:14:40.877Z"
   },
   {
    "duration": 3,
    "start_time": "2022-09-29T14:14:43.853Z"
   },
   {
    "duration": 5,
    "start_time": "2022-09-29T14:14:45.140Z"
   },
   {
    "duration": 26,
    "start_time": "2022-09-29T14:14:49.802Z"
   },
   {
    "duration": 4,
    "start_time": "2022-09-29T14:15:07.366Z"
   },
   {
    "duration": 6,
    "start_time": "2022-09-29T14:15:08.622Z"
   },
   {
    "duration": 9,
    "start_time": "2022-09-29T14:15:09.872Z"
   },
   {
    "duration": 3,
    "start_time": "2022-09-29T14:15:35.316Z"
   },
   {
    "duration": 4,
    "start_time": "2022-09-29T14:15:39.453Z"
   },
   {
    "duration": 4,
    "start_time": "2022-09-29T14:15:40.767Z"
   },
   {
    "duration": 22,
    "start_time": "2022-09-29T14:15:41.428Z"
   },
   {
    "duration": 9,
    "start_time": "2022-09-29T14:15:43.652Z"
   },
   {
    "duration": 110,
    "start_time": "2022-09-29T14:16:08.854Z"
   },
   {
    "duration": 5,
    "start_time": "2022-09-29T14:16:13.854Z"
   },
   {
    "duration": 10,
    "start_time": "2022-09-29T14:18:30.091Z"
   },
   {
    "duration": 1434,
    "start_time": "2022-09-29T14:18:35.989Z"
   },
   {
    "duration": 409,
    "start_time": "2022-09-29T14:18:37.425Z"
   },
   {
    "duration": 5,
    "start_time": "2022-09-29T14:18:37.838Z"
   },
   {
    "duration": 451,
    "start_time": "2022-09-29T14:18:37.845Z"
   },
   {
    "duration": 475,
    "start_time": "2022-09-29T14:18:38.298Z"
   },
   {
    "duration": 437,
    "start_time": "2022-09-29T14:18:38.775Z"
   },
   {
    "duration": 69,
    "start_time": "2022-09-29T14:18:39.214Z"
   },
   {
    "duration": 4,
    "start_time": "2022-09-29T14:18:39.284Z"
   },
   {
    "duration": 22,
    "start_time": "2022-09-29T14:18:39.290Z"
   },
   {
    "duration": 31,
    "start_time": "2022-09-29T14:18:39.314Z"
   },
   {
    "duration": 364,
    "start_time": "2022-09-29T14:18:39.438Z"
   },
   {
    "duration": 36,
    "start_time": "2022-09-29T14:18:39.804Z"
   },
   {
    "duration": 100,
    "start_time": "2022-09-29T14:18:39.847Z"
   },
   {
    "duration": 5,
    "start_time": "2022-09-29T14:18:39.949Z"
   },
   {
    "duration": 22,
    "start_time": "2022-09-29T14:18:39.956Z"
   },
   {
    "duration": 18,
    "start_time": "2022-09-29T14:18:39.980Z"
   },
   {
    "duration": 9,
    "start_time": "2022-09-29T14:18:40.000Z"
   },
   {
    "duration": 8,
    "start_time": "2022-09-29T14:18:40.011Z"
   },
   {
    "duration": 136,
    "start_time": "2022-09-29T14:18:40.038Z"
   },
   {
    "duration": 0,
    "start_time": "2022-09-29T14:18:40.176Z"
   },
   {
    "duration": 0,
    "start_time": "2022-09-29T14:18:40.178Z"
   },
   {
    "duration": 5,
    "start_time": "2022-09-29T14:19:34.932Z"
   },
   {
    "duration": 19,
    "start_time": "2022-09-29T14:19:35.644Z"
   },
   {
    "duration": 4,
    "start_time": "2022-09-29T14:20:57.933Z"
   },
   {
    "duration": 1487,
    "start_time": "2022-09-29T14:21:02.968Z"
   },
   {
    "duration": 395,
    "start_time": "2022-09-29T14:21:04.457Z"
   },
   {
    "duration": 5,
    "start_time": "2022-09-29T14:21:04.854Z"
   },
   {
    "duration": 445,
    "start_time": "2022-09-29T14:21:04.860Z"
   },
   {
    "duration": 417,
    "start_time": "2022-09-29T14:21:05.308Z"
   },
   {
    "duration": 428,
    "start_time": "2022-09-29T14:21:05.727Z"
   },
   {
    "duration": 58,
    "start_time": "2022-09-29T14:21:06.157Z"
   },
   {
    "duration": 4,
    "start_time": "2022-09-29T14:21:06.217Z"
   },
   {
    "duration": 17,
    "start_time": "2022-09-29T14:21:06.223Z"
   },
   {
    "duration": 97,
    "start_time": "2022-09-29T14:21:06.242Z"
   },
   {
    "duration": 199,
    "start_time": "2022-09-29T14:21:06.341Z"
   },
   {
    "duration": 103,
    "start_time": "2022-09-29T14:21:06.542Z"
   },
   {
    "duration": 198,
    "start_time": "2022-09-29T14:21:06.647Z"
   },
   {
    "duration": 5,
    "start_time": "2022-09-29T14:21:06.848Z"
   },
   {
    "duration": 8,
    "start_time": "2022-09-29T14:21:06.855Z"
   },
   {
    "duration": 12,
    "start_time": "2022-09-29T14:21:06.864Z"
   },
   {
    "duration": 5,
    "start_time": "2022-09-29T14:21:06.879Z"
   },
   {
    "duration": 10,
    "start_time": "2022-09-29T14:21:06.886Z"
   },
   {
    "duration": 135,
    "start_time": "2022-09-29T14:21:06.898Z"
   },
   {
    "duration": 0,
    "start_time": "2022-09-29T14:21:07.034Z"
   },
   {
    "duration": 0,
    "start_time": "2022-09-29T14:21:07.038Z"
   },
   {
    "duration": 5,
    "start_time": "2022-09-29T14:21:24.367Z"
   },
   {
    "duration": 18,
    "start_time": "2022-09-29T14:21:24.916Z"
   },
   {
    "duration": 4,
    "start_time": "2022-09-29T14:22:11.692Z"
   },
   {
    "duration": 1431,
    "start_time": "2022-09-29T14:22:18.542Z"
   },
   {
    "duration": 398,
    "start_time": "2022-09-29T14:22:19.975Z"
   },
   {
    "duration": 5,
    "start_time": "2022-09-29T14:22:20.374Z"
   },
   {
    "duration": 493,
    "start_time": "2022-09-29T14:22:20.381Z"
   },
   {
    "duration": 434,
    "start_time": "2022-09-29T14:22:20.876Z"
   },
   {
    "duration": 428,
    "start_time": "2022-09-29T14:22:21.312Z"
   },
   {
    "duration": 59,
    "start_time": "2022-09-29T14:22:21.742Z"
   },
   {
    "duration": 5,
    "start_time": "2022-09-29T14:22:21.803Z"
   },
   {
    "duration": 15,
    "start_time": "2022-09-29T14:22:21.809Z"
   },
   {
    "duration": 271,
    "start_time": "2022-09-29T14:22:21.840Z"
   },
   {
    "duration": 32,
    "start_time": "2022-09-29T14:22:22.113Z"
   },
   {
    "duration": 200,
    "start_time": "2022-09-29T14:22:22.148Z"
   },
   {
    "duration": 111,
    "start_time": "2022-09-29T14:22:22.438Z"
   },
   {
    "duration": 11,
    "start_time": "2022-09-29T14:22:22.551Z"
   },
   {
    "duration": 8,
    "start_time": "2022-09-29T14:22:22.564Z"
   },
   {
    "duration": 20,
    "start_time": "2022-09-29T14:22:22.574Z"
   },
   {
    "duration": 10,
    "start_time": "2022-09-29T14:22:22.596Z"
   },
   {
    "duration": 21,
    "start_time": "2022-09-29T14:22:22.608Z"
   },
   {
    "duration": 39,
    "start_time": "2022-09-29T14:22:22.631Z"
   },
   {
    "duration": 12,
    "start_time": "2022-09-29T14:22:22.672Z"
   },
   {
    "duration": 1089,
    "start_time": "2022-09-29T14:22:22.686Z"
   },
   {
    "duration": 5,
    "start_time": "2022-09-29T14:23:16.579Z"
   },
   {
    "duration": 4025,
    "start_time": "2022-09-29T14:23:17.030Z"
   },
   {
    "duration": 10,
    "start_time": "2022-09-29T14:23:22.285Z"
   },
   {
    "duration": 5,
    "start_time": "2022-09-29T14:23:45.001Z"
   },
   {
    "duration": 17,
    "start_time": "2022-09-29T14:23:45.592Z"
   },
   {
    "duration": 4,
    "start_time": "2022-09-29T14:23:51.092Z"
   },
   {
    "duration": 4009,
    "start_time": "2022-09-29T14:23:51.544Z"
   },
   {
    "duration": 8,
    "start_time": "2022-09-29T14:23:55.555Z"
   },
   {
    "duration": 78,
    "start_time": "2022-09-29T14:24:48.456Z"
   },
   {
    "duration": 5,
    "start_time": "2022-09-29T14:24:53.393Z"
   },
   {
    "duration": 5382,
    "start_time": "2022-09-29T14:24:54.530Z"
   },
   {
    "duration": 9,
    "start_time": "2022-09-29T14:24:59.915Z"
   },
   {
    "duration": 5,
    "start_time": "2022-09-29T14:25:22.730Z"
   },
   {
    "duration": 1351,
    "start_time": "2022-09-29T14:25:50.103Z"
   },
   {
    "duration": 402,
    "start_time": "2022-09-29T14:25:51.456Z"
   },
   {
    "duration": 5,
    "start_time": "2022-09-29T14:25:51.860Z"
   },
   {
    "duration": 455,
    "start_time": "2022-09-29T14:25:51.867Z"
   },
   {
    "duration": 442,
    "start_time": "2022-09-29T14:25:52.325Z"
   },
   {
    "duration": 445,
    "start_time": "2022-09-29T14:25:52.769Z"
   },
   {
    "duration": 68,
    "start_time": "2022-09-29T14:25:53.215Z"
   },
   {
    "duration": 4,
    "start_time": "2022-09-29T14:25:53.285Z"
   },
   {
    "duration": 20,
    "start_time": "2022-09-29T14:25:53.291Z"
   },
   {
    "duration": 35,
    "start_time": "2022-09-29T14:25:53.313Z"
   },
   {
    "duration": 291,
    "start_time": "2022-09-29T14:25:53.350Z"
   },
   {
    "duration": 108,
    "start_time": "2022-09-29T14:25:53.644Z"
   },
   {
    "duration": 105,
    "start_time": "2022-09-29T14:25:53.840Z"
   },
   {
    "duration": 12,
    "start_time": "2022-09-29T14:25:53.948Z"
   },
   {
    "duration": 15,
    "start_time": "2022-09-29T14:25:53.962Z"
   },
   {
    "duration": 11,
    "start_time": "2022-09-29T14:25:53.978Z"
   },
   {
    "duration": 16,
    "start_time": "2022-09-29T14:25:53.991Z"
   },
   {
    "duration": 20,
    "start_time": "2022-09-29T14:25:54.009Z"
   },
   {
    "duration": 126,
    "start_time": "2022-09-29T14:25:54.030Z"
   },
   {
    "duration": 0,
    "start_time": "2022-09-29T14:25:54.158Z"
   },
   {
    "duration": 0,
    "start_time": "2022-09-29T14:25:54.159Z"
   },
   {
    "duration": 5,
    "start_time": "2022-09-29T14:26:14.368Z"
   },
   {
    "duration": 20,
    "start_time": "2022-09-29T14:26:14.643Z"
   },
   {
    "duration": 4,
    "start_time": "2022-09-29T14:26:17.530Z"
   },
   {
    "duration": 23,
    "start_time": "2022-09-29T14:26:18.068Z"
   },
   {
    "duration": 5,
    "start_time": "2022-09-29T14:26:26.993Z"
   },
   {
    "duration": 4,
    "start_time": "2022-09-29T14:26:46.131Z"
   },
   {
    "duration": 20,
    "start_time": "2022-09-29T14:26:46.562Z"
   },
   {
    "duration": 1517,
    "start_time": "2022-09-29T14:27:16.446Z"
   },
   {
    "duration": 413,
    "start_time": "2022-09-29T14:27:17.965Z"
   },
   {
    "duration": 6,
    "start_time": "2022-09-29T14:27:18.380Z"
   },
   {
    "duration": 479,
    "start_time": "2022-09-29T14:27:18.388Z"
   },
   {
    "duration": 425,
    "start_time": "2022-09-29T14:27:18.870Z"
   },
   {
    "duration": 426,
    "start_time": "2022-09-29T14:27:19.298Z"
   },
   {
    "duration": 65,
    "start_time": "2022-09-29T14:27:19.726Z"
   },
   {
    "duration": 5,
    "start_time": "2022-09-29T14:27:19.793Z"
   },
   {
    "duration": 9,
    "start_time": "2022-09-29T14:27:19.800Z"
   },
   {
    "duration": 288,
    "start_time": "2022-09-29T14:27:19.811Z"
   },
   {
    "duration": 39,
    "start_time": "2022-09-29T14:27:20.101Z"
   },
   {
    "duration": 116,
    "start_time": "2022-09-29T14:27:20.143Z"
   },
   {
    "duration": 179,
    "start_time": "2022-09-29T14:27:20.261Z"
   },
   {
    "duration": 3,
    "start_time": "2022-09-29T14:27:20.443Z"
   },
   {
    "duration": 9,
    "start_time": "2022-09-29T14:27:20.447Z"
   },
   {
    "duration": 7,
    "start_time": "2022-09-29T14:27:20.458Z"
   },
   {
    "duration": 5,
    "start_time": "2022-09-29T14:27:20.467Z"
   },
   {
    "duration": 5,
    "start_time": "2022-09-29T14:27:20.474Z"
   },
   {
    "duration": 3946,
    "start_time": "2022-09-29T14:27:20.481Z"
   },
   {
    "duration": 10,
    "start_time": "2022-09-29T14:27:24.429Z"
   },
   {
    "duration": 1414,
    "start_time": "2022-09-29T14:28:38.141Z"
   },
   {
    "duration": 405,
    "start_time": "2022-09-29T14:28:39.556Z"
   },
   {
    "duration": 5,
    "start_time": "2022-09-29T14:28:39.965Z"
   },
   {
    "duration": 453,
    "start_time": "2022-09-29T14:28:39.972Z"
   },
   {
    "duration": 411,
    "start_time": "2022-09-29T14:28:40.427Z"
   },
   {
    "duration": 410,
    "start_time": "2022-09-29T14:28:40.840Z"
   },
   {
    "duration": 54,
    "start_time": "2022-09-29T14:28:41.251Z"
   },
   {
    "duration": 4,
    "start_time": "2022-09-29T14:28:41.307Z"
   },
   {
    "duration": 29,
    "start_time": "2022-09-29T14:28:41.312Z"
   },
   {
    "duration": 95,
    "start_time": "2022-09-29T14:28:41.342Z"
   },
   {
    "duration": 204,
    "start_time": "2022-09-29T14:28:41.440Z"
   },
   {
    "duration": 195,
    "start_time": "2022-09-29T14:28:41.648Z"
   },
   {
    "duration": 98,
    "start_time": "2022-09-29T14:28:41.847Z"
   },
   {
    "duration": 8,
    "start_time": "2022-09-29T14:28:41.948Z"
   },
   {
    "duration": 6,
    "start_time": "2022-09-29T14:28:41.958Z"
   },
   {
    "duration": 11,
    "start_time": "2022-09-29T14:28:41.966Z"
   },
   {
    "duration": 8,
    "start_time": "2022-09-29T14:28:41.979Z"
   },
   {
    "duration": 52,
    "start_time": "2022-09-29T14:28:41.989Z"
   },
   {
    "duration": 3863,
    "start_time": "2022-09-29T14:28:42.043Z"
   },
   {
    "duration": 10,
    "start_time": "2022-09-29T14:28:45.908Z"
   },
   {
    "duration": 1518,
    "start_time": "2022-10-03T08:16:26.820Z"
   },
   {
    "duration": 1849,
    "start_time": "2022-10-03T08:16:28.340Z"
   },
   {
    "duration": 5,
    "start_time": "2022-10-03T08:16:30.191Z"
   },
   {
    "duration": 466,
    "start_time": "2022-10-03T08:16:30.199Z"
   },
   {
    "duration": 476,
    "start_time": "2022-10-03T08:16:30.668Z"
   },
   {
    "duration": 541,
    "start_time": "2022-10-03T08:16:31.146Z"
   },
   {
    "duration": 56,
    "start_time": "2022-10-03T08:16:31.689Z"
   },
   {
    "duration": 4,
    "start_time": "2022-10-03T08:16:31.747Z"
   },
   {
    "duration": 8,
    "start_time": "2022-10-03T08:16:31.752Z"
   },
   {
    "duration": 35,
    "start_time": "2022-10-03T08:16:31.761Z"
   },
   {
    "duration": 100,
    "start_time": "2022-10-03T08:16:31.798Z"
   },
   {
    "duration": 105,
    "start_time": "2022-10-03T08:16:31.900Z"
   },
   {
    "duration": 100,
    "start_time": "2022-10-03T08:16:32.096Z"
   },
   {
    "duration": 4,
    "start_time": "2022-10-03T08:16:32.200Z"
   },
   {
    "duration": 10,
    "start_time": "2022-10-03T08:16:32.206Z"
   },
   {
    "duration": 9,
    "start_time": "2022-10-03T08:16:32.218Z"
   },
   {
    "duration": 5,
    "start_time": "2022-10-03T08:16:32.229Z"
   },
   {
    "duration": 9,
    "start_time": "2022-10-03T08:16:32.235Z"
   },
   {
    "duration": 3915,
    "start_time": "2022-10-03T08:16:32.246Z"
   },
   {
    "duration": 9,
    "start_time": "2022-10-03T08:16:36.163Z"
   },
   {
    "duration": 5,
    "start_time": "2022-10-03T08:16:57.649Z"
   },
   {
    "duration": 420,
    "start_time": "2022-10-03T08:17:00.005Z"
   },
   {
    "duration": 451,
    "start_time": "2022-10-03T08:17:03.207Z"
   },
   {
    "duration": 462,
    "start_time": "2022-10-03T08:17:05.580Z"
   },
   {
    "duration": 280,
    "start_time": "2022-10-03T08:53:15.376Z"
   },
   {
    "duration": 348,
    "start_time": "2022-10-03T08:53:26.901Z"
   },
   {
    "duration": 5,
    "start_time": "2022-10-03T08:53:52.526Z"
   },
   {
    "duration": 467,
    "start_time": "2022-10-03T08:53:58.922Z"
   },
   {
    "duration": 5,
    "start_time": "2022-10-03T08:54:16.977Z"
   },
   {
    "duration": 411,
    "start_time": "2022-10-03T08:54:20.765Z"
   },
   {
    "duration": 5,
    "start_time": "2022-10-03T08:54:42.239Z"
   },
   {
    "duration": 483,
    "start_time": "2022-10-03T08:54:46.515Z"
   },
   {
    "duration": 5,
    "start_time": "2022-10-03T08:55:37.753Z"
   },
   {
    "duration": 433,
    "start_time": "2022-10-03T08:55:42.041Z"
   },
   {
    "duration": 118,
    "start_time": "2022-10-03T08:56:02.439Z"
   },
   {
    "duration": 5,
    "start_time": "2022-10-03T08:56:05.665Z"
   },
   {
    "duration": 420,
    "start_time": "2022-10-03T08:56:07.864Z"
   },
   {
    "duration": 5,
    "start_time": "2022-10-03T08:56:35.877Z"
   },
   {
    "duration": 490,
    "start_time": "2022-10-03T08:56:37.902Z"
   },
   {
    "duration": 5,
    "start_time": "2022-10-03T08:56:54.452Z"
   },
   {
    "duration": 335,
    "start_time": "2022-10-03T08:56:57.227Z"
   },
   {
    "duration": 5,
    "start_time": "2022-10-03T08:57:22.878Z"
   },
   {
    "duration": 423,
    "start_time": "2022-10-03T08:57:24.814Z"
   },
   {
    "duration": 4,
    "start_time": "2022-10-03T08:57:46.016Z"
   },
   {
    "duration": 337,
    "start_time": "2022-10-03T08:57:47.979Z"
   },
   {
    "duration": 4,
    "start_time": "2022-10-03T08:59:06.145Z"
   },
   {
    "duration": 431,
    "start_time": "2022-10-03T08:59:08.966Z"
   },
   {
    "duration": 5,
    "start_time": "2022-10-03T08:59:34.353Z"
   },
   {
    "duration": 550,
    "start_time": "2022-10-03T08:59:36.545Z"
   },
   {
    "duration": 4,
    "start_time": "2022-10-03T08:59:45.266Z"
   },
   {
    "duration": 406,
    "start_time": "2022-10-03T08:59:47.403Z"
   },
   {
    "duration": 5,
    "start_time": "2022-10-03T09:00:51.604Z"
   },
   {
    "duration": 573,
    "start_time": "2022-10-03T09:00:53.791Z"
   },
   {
    "duration": 6,
    "start_time": "2022-10-03T09:04:17.655Z"
   },
   {
    "duration": 570,
    "start_time": "2022-10-03T09:04:19.829Z"
   },
   {
    "duration": 7,
    "start_time": "2022-10-03T09:04:48.513Z"
   },
   {
    "duration": 784,
    "start_time": "2022-10-03T09:04:52.779Z"
   },
   {
    "duration": 591,
    "start_time": "2022-10-03T09:04:58.470Z"
   },
   {
    "duration": 607,
    "start_time": "2022-10-03T09:05:00.554Z"
   },
   {
    "duration": 7,
    "start_time": "2022-10-03T09:05:24.343Z"
   },
   {
    "duration": 633,
    "start_time": "2022-10-03T09:05:26.655Z"
   },
   {
    "duration": 8,
    "start_time": "2022-10-03T09:06:09.443Z"
   },
   {
    "duration": 741,
    "start_time": "2022-10-03T09:06:10.993Z"
   },
   {
    "duration": 564,
    "start_time": "2022-10-03T09:06:23.193Z"
   },
   {
    "duration": 605,
    "start_time": "2022-10-03T09:06:31.817Z"
   },
   {
    "duration": 6,
    "start_time": "2022-10-03T09:19:09.584Z"
   },
   {
    "duration": 510,
    "start_time": "2022-10-03T09:19:11.208Z"
   },
   {
    "duration": 114,
    "start_time": "2022-10-03T09:19:36.246Z"
   },
   {
    "duration": 521,
    "start_time": "2022-10-03T09:19:38.183Z"
   },
   {
    "duration": 7,
    "start_time": "2022-10-03T09:20:13.160Z"
   },
   {
    "duration": 546,
    "start_time": "2022-10-03T09:20:15.371Z"
   },
   {
    "duration": 1378,
    "start_time": "2022-10-03T09:23:28.906Z"
   },
   {
    "duration": 350,
    "start_time": "2022-10-03T09:23:30.286Z"
   },
   {
    "duration": 8,
    "start_time": "2022-10-03T09:23:30.637Z"
   },
   {
    "duration": 575,
    "start_time": "2022-10-03T09:23:30.647Z"
   },
   {
    "duration": 543,
    "start_time": "2022-10-03T09:23:31.225Z"
   },
   {
    "duration": 635,
    "start_time": "2022-10-03T09:23:31.770Z"
   },
   {
    "duration": 51,
    "start_time": "2022-10-03T09:23:32.407Z"
   },
   {
    "duration": 4,
    "start_time": "2022-10-03T09:23:32.460Z"
   },
   {
    "duration": 9,
    "start_time": "2022-10-03T09:23:32.466Z"
   },
   {
    "duration": 32,
    "start_time": "2022-10-03T09:23:32.477Z"
   },
   {
    "duration": 184,
    "start_time": "2022-10-03T09:23:32.510Z"
   },
   {
    "duration": 106,
    "start_time": "2022-10-03T09:23:32.697Z"
   },
   {
    "duration": 98,
    "start_time": "2022-10-03T09:23:32.805Z"
   },
   {
    "duration": 94,
    "start_time": "2022-10-03T09:23:32.905Z"
   },
   {
    "duration": 5,
    "start_time": "2022-10-03T09:23:33.001Z"
   },
   {
    "duration": 6,
    "start_time": "2022-10-03T09:23:33.008Z"
   },
   {
    "duration": 6,
    "start_time": "2022-10-03T09:23:33.015Z"
   },
   {
    "duration": 9,
    "start_time": "2022-10-03T09:23:33.022Z"
   },
   {
    "duration": 3488,
    "start_time": "2022-10-03T09:23:33.032Z"
   },
   {
    "duration": 12,
    "start_time": "2022-10-03T09:23:36.522Z"
   },
   {
    "duration": 7,
    "start_time": "2022-10-03T09:33:05.990Z"
   },
   {
    "duration": 819,
    "start_time": "2022-10-03T09:33:07.376Z"
   },
   {
    "duration": 940,
    "start_time": "2022-10-03T09:33:14.530Z"
   },
   {
    "duration": 86,
    "start_time": "2022-10-03T09:34:16.638Z"
   },
   {
    "duration": 7,
    "start_time": "2022-10-03T09:34:20.176Z"
   },
   {
    "duration": 984,
    "start_time": "2022-10-03T09:34:22.526Z"
   },
   {
    "duration": 7,
    "start_time": "2022-10-03T09:35:09.639Z"
   },
   {
    "duration": 900,
    "start_time": "2022-10-03T09:35:13.325Z"
   },
   {
    "duration": 8,
    "start_time": "2022-10-03T09:35:20.151Z"
   },
   {
    "duration": 849,
    "start_time": "2022-10-03T09:35:21.339Z"
   },
   {
    "duration": 831,
    "start_time": "2022-10-03T09:35:32.075Z"
   },
   {
    "duration": 187,
    "start_time": "2022-10-03T09:35:39.914Z"
   },
   {
    "duration": 786,
    "start_time": "2022-10-03T09:35:44.351Z"
   },
   {
    "duration": 7,
    "start_time": "2022-10-03T09:35:51.639Z"
   },
   {
    "duration": 749,
    "start_time": "2022-10-03T09:35:53.738Z"
   },
   {
    "duration": 970,
    "start_time": "2022-10-03T09:35:56.439Z"
   },
   {
    "duration": 829,
    "start_time": "2022-10-03T09:36:07.539Z"
   },
   {
    "duration": 8,
    "start_time": "2022-10-03T09:36:16.628Z"
   },
   {
    "duration": 931,
    "start_time": "2022-10-03T09:36:18.452Z"
   },
   {
    "duration": 825,
    "start_time": "2022-10-03T09:36:21.475Z"
   },
   {
    "duration": 955,
    "start_time": "2022-10-03T09:36:24.231Z"
   },
   {
    "duration": 9,
    "start_time": "2022-10-03T09:38:14.764Z"
   },
   {
    "duration": 9,
    "start_time": "2022-10-03T09:38:28.704Z"
   },
   {
    "duration": 9,
    "start_time": "2022-10-03T09:38:50.277Z"
   },
   {
    "duration": 417,
    "start_time": "2022-10-03T09:38:56.127Z"
   },
   {
    "duration": 372,
    "start_time": "2022-10-03T09:39:09.290Z"
   },
   {
    "duration": 6,
    "start_time": "2022-10-03T09:40:14.704Z"
   },
   {
    "duration": 6,
    "start_time": "2022-10-03T09:52:03.394Z"
   },
   {
    "duration": 944,
    "start_time": "2022-10-03T09:52:05.330Z"
   },
   {
    "duration": 6,
    "start_time": "2022-10-03T11:33:40.571Z"
   },
   {
    "duration": 856,
    "start_time": "2022-10-03T11:33:42.744Z"
   },
   {
    "duration": 1013,
    "start_time": "2022-10-03T11:33:55.369Z"
   },
   {
    "duration": 5,
    "start_time": "2022-10-03T11:34:01.658Z"
   },
   {
    "duration": 841,
    "start_time": "2022-10-03T11:34:03.120Z"
   },
   {
    "duration": 1054,
    "start_time": "2022-10-03T11:34:07.834Z"
   },
   {
    "duration": 6,
    "start_time": "2022-10-03T11:34:16.870Z"
   },
   {
    "duration": 879,
    "start_time": "2022-10-03T11:34:18.608Z"
   },
   {
    "duration": 1079,
    "start_time": "2022-10-03T11:34:21.481Z"
   },
   {
    "duration": 6,
    "start_time": "2022-10-03T11:34:33.976Z"
   },
   {
    "duration": 959,
    "start_time": "2022-10-03T11:34:35.957Z"
   },
   {
    "duration": 9,
    "start_time": "2022-10-03T11:44:39.522Z"
   },
   {
    "duration": 13,
    "start_time": "2022-10-03T11:44:50.510Z"
   },
   {
    "duration": 9,
    "start_time": "2022-10-03T11:45:01.334Z"
   },
   {
    "duration": 6,
    "start_time": "2022-10-03T11:45:28.235Z"
   },
   {
    "duration": 5,
    "start_time": "2022-10-03T11:48:18.786Z"
   },
   {
    "duration": 8,
    "start_time": "2022-10-03T11:48:55.349Z"
   },
   {
    "duration": 6,
    "start_time": "2022-10-03T11:50:23.174Z"
   },
   {
    "duration": 12,
    "start_time": "2022-10-03T11:51:10.612Z"
   },
   {
    "duration": 13,
    "start_time": "2022-10-03T11:51:15.473Z"
   },
   {
    "duration": 8,
    "start_time": "2022-10-03T11:51:22.924Z"
   },
   {
    "duration": 51,
    "start_time": "2022-10-03T11:58:05.676Z"
   },
   {
    "duration": 10,
    "start_time": "2022-10-03T12:05:21.728Z"
   },
   {
    "duration": 9,
    "start_time": "2022-10-03T12:05:31.904Z"
   },
   {
    "duration": 243,
    "start_time": "2022-10-03T12:05:36.930Z"
   },
   {
    "duration": 108,
    "start_time": "2022-10-03T12:05:43.952Z"
   },
   {
    "duration": 703,
    "start_time": "2022-10-03T12:05:53.641Z"
   },
   {
    "duration": 1086,
    "start_time": "2022-10-03T12:06:37.066Z"
   },
   {
    "duration": 11,
    "start_time": "2022-10-03T12:07:32.705Z"
   },
   {
    "duration": 12,
    "start_time": "2022-10-03T12:07:37.129Z"
   },
   {
    "duration": 1097,
    "start_time": "2022-10-03T12:07:45.600Z"
   },
   {
    "duration": 981,
    "start_time": "2022-10-03T12:07:51.616Z"
   },
   {
    "duration": 948,
    "start_time": "2022-10-03T12:07:54.541Z"
   },
   {
    "duration": 124,
    "start_time": "2022-10-03T12:08:09.640Z"
   },
   {
    "duration": 130,
    "start_time": "2022-10-03T12:08:35.029Z"
   },
   {
    "duration": 139,
    "start_time": "2022-10-03T12:08:40.667Z"
   },
   {
    "duration": 10,
    "start_time": "2022-10-03T12:09:23.942Z"
   },
   {
    "duration": 132,
    "start_time": "2022-10-03T12:09:51.206Z"
   },
   {
    "duration": 960,
    "start_time": "2022-10-03T12:09:55.016Z"
   },
   {
    "duration": 143,
    "start_time": "2022-10-03T12:10:02.479Z"
   },
   {
    "duration": 6,
    "start_time": "2022-10-03T12:10:16.266Z"
   },
   {
    "duration": 9,
    "start_time": "2022-10-03T12:10:26.055Z"
   },
   {
    "duration": 102,
    "start_time": "2022-10-03T12:12:09.354Z"
   },
   {
    "duration": 256,
    "start_time": "2022-10-03T12:12:16.002Z"
   },
   {
    "duration": 106,
    "start_time": "2022-10-03T12:12:25.205Z"
   },
   {
    "duration": 127,
    "start_time": "2022-10-03T12:12:43.530Z"
   },
   {
    "duration": 118,
    "start_time": "2022-10-03T12:12:48.869Z"
   },
   {
    "duration": 282,
    "start_time": "2022-10-03T12:13:06.580Z"
   },
   {
    "duration": 758,
    "start_time": "2022-10-03T12:13:18.273Z"
   },
   {
    "duration": 219,
    "start_time": "2022-10-03T12:13:34.000Z"
   },
   {
    "duration": 669,
    "start_time": "2022-10-03T12:13:52.606Z"
   },
   {
    "duration": 131,
    "start_time": "2022-10-03T12:14:31.030Z"
   },
   {
    "duration": 177,
    "start_time": "2022-10-03T12:14:39.381Z"
   },
   {
    "duration": 125,
    "start_time": "2022-10-03T12:15:18.524Z"
   },
   {
    "duration": 173,
    "start_time": "2022-10-03T12:15:22.217Z"
   },
   {
    "duration": 204,
    "start_time": "2022-10-03T12:15:29.056Z"
   },
   {
    "duration": 170,
    "start_time": "2022-10-03T12:16:24.042Z"
   },
   {
    "duration": 933,
    "start_time": "2022-10-03T12:19:30.700Z"
   },
   {
    "duration": 205,
    "start_time": "2022-10-03T12:20:22.020Z"
   },
   {
    "duration": 200,
    "start_time": "2022-10-03T12:21:02.807Z"
   },
   {
    "duration": 151,
    "start_time": "2022-10-03T12:21:10.320Z"
   },
   {
    "duration": 155,
    "start_time": "2022-10-03T12:21:20.082Z"
   },
   {
    "duration": 157,
    "start_time": "2022-10-03T12:21:49.870Z"
   },
   {
    "duration": 313,
    "start_time": "2022-10-03T12:22:19.470Z"
   },
   {
    "duration": 175,
    "start_time": "2022-10-03T12:22:29.282Z"
   },
   {
    "duration": 207,
    "start_time": "2022-10-03T12:23:26.484Z"
   },
   {
    "duration": 375,
    "start_time": "2022-10-03T12:23:41.920Z"
   },
   {
    "duration": 79,
    "start_time": "2022-10-03T12:25:10.320Z"
   },
   {
    "duration": 11,
    "start_time": "2022-10-03T12:25:16.084Z"
   },
   {
    "duration": 370,
    "start_time": "2022-10-03T12:25:19.433Z"
   },
   {
    "duration": 375,
    "start_time": "2022-10-03T12:25:33.983Z"
   },
   {
    "duration": 125,
    "start_time": "2022-10-03T12:25:49.911Z"
   },
   {
    "duration": 576,
    "start_time": "2022-10-03T12:26:13.886Z"
   },
   {
    "duration": 130,
    "start_time": "2022-10-03T12:26:20.310Z"
   },
   {
    "duration": 580,
    "start_time": "2022-10-03T12:26:29.608Z"
   },
   {
    "duration": 766,
    "start_time": "2022-10-03T12:26:34.721Z"
   },
   {
    "duration": 603,
    "start_time": "2022-10-03T12:26:37.933Z"
   },
   {
    "duration": 130,
    "start_time": "2022-10-03T12:26:45.008Z"
   },
   {
    "duration": 581,
    "start_time": "2022-10-03T12:27:10.558Z"
   },
   {
    "duration": 551,
    "start_time": "2022-10-03T12:27:14.283Z"
   },
   {
    "duration": 575,
    "start_time": "2022-10-03T12:27:33.433Z"
   },
   {
    "duration": 559,
    "start_time": "2022-10-03T12:27:51.572Z"
   },
   {
    "duration": 517,
    "start_time": "2022-10-03T12:29:09.800Z"
   },
   {
    "duration": 498,
    "start_time": "2022-10-03T12:29:15.321Z"
   },
   {
    "duration": 505,
    "start_time": "2022-10-03T12:29:18.946Z"
   },
   {
    "duration": 540,
    "start_time": "2022-10-03T12:29:23.211Z"
   },
   {
    "duration": 17,
    "start_time": "2022-10-03T12:29:25.009Z"
   },
   {
    "duration": 544,
    "start_time": "2022-10-03T12:29:28.846Z"
   },
   {
    "duration": 576,
    "start_time": "2022-10-03T12:29:42.900Z"
   },
   {
    "duration": 558,
    "start_time": "2022-10-03T12:29:49.772Z"
   },
   {
    "duration": 604,
    "start_time": "2022-10-03T12:30:06.972Z"
   },
   {
    "duration": 772,
    "start_time": "2022-10-03T12:30:27.385Z"
   },
   {
    "duration": 607,
    "start_time": "2022-10-03T12:30:33.222Z"
   },
   {
    "duration": 595,
    "start_time": "2022-10-03T12:31:18.321Z"
   },
   {
    "duration": 608,
    "start_time": "2022-10-03T12:31:27.784Z"
   },
   {
    "duration": 556,
    "start_time": "2022-10-03T12:31:34.946Z"
   },
   {
    "duration": 585,
    "start_time": "2022-10-03T12:31:43.384Z"
   },
   {
    "duration": 657,
    "start_time": "2022-10-03T12:32:00.585Z"
   },
   {
    "duration": 595,
    "start_time": "2022-10-03T12:32:04.000Z"
   },
   {
    "duration": 569,
    "start_time": "2022-10-03T12:32:10.435Z"
   },
   {
    "duration": 556,
    "start_time": "2022-10-03T12:32:13.984Z"
   },
   {
    "duration": 563,
    "start_time": "2022-10-03T12:32:18.434Z"
   },
   {
    "duration": 624,
    "start_time": "2022-10-03T12:32:26.223Z"
   },
   {
    "duration": 577,
    "start_time": "2022-10-03T12:32:29.485Z"
   },
   {
    "duration": 569,
    "start_time": "2022-10-03T12:32:35.347Z"
   },
   {
    "duration": 562,
    "start_time": "2022-10-03T12:32:37.510Z"
   },
   {
    "duration": 747,
    "start_time": "2022-10-03T12:32:40.599Z"
   },
   {
    "duration": 1474,
    "start_time": "2022-10-03T12:44:00.532Z"
   },
   {
    "duration": 374,
    "start_time": "2022-10-03T12:44:02.008Z"
   },
   {
    "duration": 5,
    "start_time": "2022-10-03T12:44:02.386Z"
   },
   {
    "duration": 940,
    "start_time": "2022-10-03T12:44:02.396Z"
   },
   {
    "duration": 1080,
    "start_time": "2022-10-03T12:44:03.338Z"
   },
   {
    "duration": 7,
    "start_time": "2022-10-03T12:44:04.420Z"
   },
   {
    "duration": 12,
    "start_time": "2022-10-03T12:44:04.429Z"
   },
   {
    "duration": 1152,
    "start_time": "2022-10-03T12:44:04.443Z"
   },
   {
    "duration": 44,
    "start_time": "2022-10-03T12:44:05.597Z"
   },
   {
    "duration": 6,
    "start_time": "2022-10-03T12:44:05.643Z"
   },
   {
    "duration": 144,
    "start_time": "2022-10-03T12:44:05.651Z"
   },
   {
    "duration": 592,
    "start_time": "2022-10-03T12:44:05.797Z"
   },
   {
    "duration": 19,
    "start_time": "2022-10-03T12:44:06.394Z"
   },
   {
    "duration": 854,
    "start_time": "2022-10-03T12:44:06.416Z"
   },
   {
    "duration": 36,
    "start_time": "2022-10-03T12:44:07.273Z"
   },
   {
    "duration": 779,
    "start_time": "2022-10-03T12:44:07.312Z"
   },
   {
    "duration": 10,
    "start_time": "2022-10-03T12:44:08.095Z"
   },
   {
    "duration": 5,
    "start_time": "2022-10-03T12:44:08.107Z"
   },
   {
    "duration": 8,
    "start_time": "2022-10-03T12:44:08.114Z"
   },
   {
    "duration": 6,
    "start_time": "2022-10-03T12:44:08.124Z"
   },
   {
    "duration": 5,
    "start_time": "2022-10-03T12:44:08.132Z"
   },
   {
    "duration": 6,
    "start_time": "2022-10-03T12:44:08.139Z"
   },
   {
    "duration": 4359,
    "start_time": "2022-10-03T12:44:08.147Z"
   },
   {
    "duration": 9,
    "start_time": "2022-10-03T12:44:12.508Z"
   },
   {
    "duration": 1394,
    "start_time": "2022-10-03T12:46:08.370Z"
   },
   {
    "duration": 348,
    "start_time": "2022-10-03T12:46:09.766Z"
   },
   {
    "duration": 5,
    "start_time": "2022-10-03T12:46:10.116Z"
   },
   {
    "duration": 937,
    "start_time": "2022-10-03T12:46:10.122Z"
   },
   {
    "duration": 953,
    "start_time": "2022-10-03T12:46:11.062Z"
   },
   {
    "duration": 7,
    "start_time": "2022-10-03T12:46:12.017Z"
   },
   {
    "duration": 11,
    "start_time": "2022-10-03T12:46:12.026Z"
   },
   {
    "duration": 1034,
    "start_time": "2022-10-03T12:46:12.039Z"
   },
   {
    "duration": 48,
    "start_time": "2022-10-03T12:46:13.075Z"
   },
   {
    "duration": 4,
    "start_time": "2022-10-03T12:46:13.125Z"
   },
   {
    "duration": 30,
    "start_time": "2022-10-03T12:46:13.131Z"
   },
   {
    "duration": 592,
    "start_time": "2022-10-03T12:46:13.163Z"
   },
   {
    "duration": 39,
    "start_time": "2022-10-03T12:46:13.757Z"
   },
   {
    "duration": 566,
    "start_time": "2022-10-03T12:46:13.799Z"
   },
   {
    "duration": 29,
    "start_time": "2022-10-03T12:46:14.366Z"
   },
   {
    "duration": 623,
    "start_time": "2022-10-03T12:46:14.397Z"
   },
   {
    "duration": 9,
    "start_time": "2022-10-03T12:46:15.021Z"
   },
   {
    "duration": 26,
    "start_time": "2022-10-03T12:46:15.031Z"
   },
   {
    "duration": 27,
    "start_time": "2022-10-03T12:46:15.059Z"
   },
   {
    "duration": 33,
    "start_time": "2022-10-03T12:46:15.088Z"
   },
   {
    "duration": 18,
    "start_time": "2022-10-03T12:46:15.123Z"
   },
   {
    "duration": 15,
    "start_time": "2022-10-03T12:46:15.142Z"
   },
   {
    "duration": 3754,
    "start_time": "2022-10-03T12:46:15.158Z"
   },
   {
    "duration": 8,
    "start_time": "2022-10-03T12:46:18.914Z"
   },
   {
    "duration": 1333,
    "start_time": "2022-10-03T12:47:39.413Z"
   },
   {
    "duration": 375,
    "start_time": "2022-10-03T12:47:40.748Z"
   },
   {
    "duration": 5,
    "start_time": "2022-10-03T12:47:41.125Z"
   },
   {
    "duration": 984,
    "start_time": "2022-10-03T12:47:41.132Z"
   },
   {
    "duration": 1000,
    "start_time": "2022-10-03T12:47:42.118Z"
   },
   {
    "duration": 9,
    "start_time": "2022-10-03T12:47:43.120Z"
   },
   {
    "duration": 7,
    "start_time": "2022-10-03T12:47:43.131Z"
   },
   {
    "duration": 1068,
    "start_time": "2022-10-03T12:47:43.140Z"
   },
   {
    "duration": 40,
    "start_time": "2022-10-03T12:47:44.210Z"
   },
   {
    "duration": 4,
    "start_time": "2022-10-03T12:47:44.252Z"
   },
   {
    "duration": 39,
    "start_time": "2022-10-03T12:47:44.258Z"
   },
   {
    "duration": 708,
    "start_time": "2022-10-03T12:47:44.301Z"
   },
   {
    "duration": 87,
    "start_time": "2022-10-03T12:47:45.011Z"
   },
   {
    "duration": 630,
    "start_time": "2022-10-03T12:47:45.102Z"
   },
   {
    "duration": 15,
    "start_time": "2022-10-03T12:47:45.734Z"
   },
   {
    "duration": 686,
    "start_time": "2022-10-03T12:47:45.751Z"
   },
   {
    "duration": 13,
    "start_time": "2022-10-03T12:47:46.439Z"
   },
   {
    "duration": 6,
    "start_time": "2022-10-03T12:47:46.454Z"
   },
   {
    "duration": 6,
    "start_time": "2022-10-03T12:47:46.462Z"
   },
   {
    "duration": 26,
    "start_time": "2022-10-03T12:47:46.470Z"
   },
   {
    "duration": 4,
    "start_time": "2022-10-03T12:47:46.498Z"
   },
   {
    "duration": 7,
    "start_time": "2022-10-03T12:47:46.504Z"
   },
   {
    "duration": 4167,
    "start_time": "2022-10-03T12:47:46.513Z"
   },
   {
    "duration": 14,
    "start_time": "2022-10-03T12:47:50.682Z"
   },
   {
    "duration": 35,
    "start_time": "2022-10-03T12:48:20.761Z"
   },
   {
    "duration": 102,
    "start_time": "2022-10-04T08:56:22.125Z"
   },
   {
    "duration": 6,
    "start_time": "2022-10-04T08:56:27.175Z"
   },
   {
    "duration": 6,
    "start_time": "2022-10-04T08:56:40.512Z"
   },
   {
    "duration": 6,
    "start_time": "2022-10-04T08:56:46.749Z"
   },
   {
    "duration": 5,
    "start_time": "2022-10-04T08:58:53.425Z"
   },
   {
    "duration": 3735,
    "start_time": "2022-10-04T08:58:54.013Z"
   },
   {
    "duration": 8,
    "start_time": "2022-10-04T08:58:59.065Z"
   },
   {
    "duration": 4,
    "start_time": "2022-10-04T08:59:12.737Z"
   },
   {
    "duration": 5,
    "start_time": "2022-10-04T08:59:38.688Z"
   },
   {
    "duration": 3825,
    "start_time": "2022-10-04T08:59:38.961Z"
   },
   {
    "duration": 8,
    "start_time": "2022-10-04T08:59:42.788Z"
   },
   {
    "duration": 9,
    "start_time": "2022-10-04T08:59:46.363Z"
   },
   {
    "duration": 9,
    "start_time": "2022-10-04T09:01:11.563Z"
   },
   {
    "duration": 3762,
    "start_time": "2022-10-04T09:03:37.239Z"
   },
   {
    "duration": 5,
    "start_time": "2022-10-04T09:04:12.626Z"
   },
   {
    "duration": 9,
    "start_time": "2022-10-04T09:04:22.902Z"
   },
   {
    "duration": 10,
    "start_time": "2022-10-04T09:04:28.726Z"
   },
   {
    "duration": 3764,
    "start_time": "2022-10-04T09:04:33.553Z"
   },
   {
    "duration": 5,
    "start_time": "2022-10-04T09:04:37.319Z"
   },
   {
    "duration": 8,
    "start_time": "2022-10-04T09:04:39.251Z"
   },
   {
    "duration": 92,
    "start_time": "2022-10-04T09:06:31.190Z"
   },
   {
    "duration": 10,
    "start_time": "2022-10-04T09:06:36.339Z"
   },
   {
    "duration": 3675,
    "start_time": "2022-10-04T09:06:41.928Z"
   },
   {
    "duration": 7,
    "start_time": "2022-10-04T09:06:46.077Z"
   },
   {
    "duration": 7,
    "start_time": "2022-10-04T09:06:47.853Z"
   },
   {
    "duration": 5,
    "start_time": "2022-10-04T09:10:34.176Z"
   },
   {
    "duration": 1442,
    "start_time": "2022-10-04T09:10:35.475Z"
   },
   {
    "duration": 6,
    "start_time": "2022-10-04T09:10:44.038Z"
   },
   {
    "duration": 1284,
    "start_time": "2022-10-04T09:10:45.214Z"
   },
   {
    "duration": 6,
    "start_time": "2022-10-04T09:11:04.853Z"
   },
   {
    "duration": 1333,
    "start_time": "2022-10-04T09:11:06.764Z"
   },
   {
    "duration": 5,
    "start_time": "2022-10-04T09:11:16.601Z"
   },
   {
    "duration": 1183,
    "start_time": "2022-10-04T09:11:17.750Z"
   },
   {
    "duration": 1224,
    "start_time": "2022-10-04T09:11:19.950Z"
   },
   {
    "duration": 1183,
    "start_time": "2022-10-04T09:11:22.065Z"
   },
   {
    "duration": 108,
    "start_time": "2022-10-04T09:11:53.913Z"
   },
   {
    "duration": 5,
    "start_time": "2022-10-04T09:11:56.325Z"
   },
   {
    "duration": 1373,
    "start_time": "2022-10-04T09:11:58.762Z"
   },
   {
    "duration": 1275,
    "start_time": "2022-10-04T09:12:02.276Z"
   },
   {
    "duration": 1286,
    "start_time": "2022-10-04T09:12:04.602Z"
   },
   {
    "duration": 6,
    "start_time": "2022-10-04T09:12:23.593Z"
   },
   {
    "duration": 1366,
    "start_time": "2022-10-04T09:12:24.500Z"
   },
   {
    "duration": 5,
    "start_time": "2022-10-04T09:12:32.226Z"
   },
   {
    "duration": 1383,
    "start_time": "2022-10-04T09:12:35.173Z"
   },
   {
    "duration": 6,
    "start_time": "2022-10-04T09:12:43.087Z"
   },
   {
    "duration": 1317,
    "start_time": "2022-10-04T09:12:44.337Z"
   },
   {
    "duration": 6,
    "start_time": "2022-10-04T09:12:52.225Z"
   },
   {
    "duration": 1243,
    "start_time": "2022-10-04T09:13:02.100Z"
   },
   {
    "duration": 5,
    "start_time": "2022-10-04T09:13:12.288Z"
   },
   {
    "duration": 1236,
    "start_time": "2022-10-04T09:13:13.226Z"
   },
   {
    "duration": 7,
    "start_time": "2022-10-04T09:13:21.825Z"
   },
   {
    "duration": 1323,
    "start_time": "2022-10-04T09:13:22.413Z"
   },
   {
    "duration": 1358,
    "start_time": "2022-10-04T09:13:25.437Z"
   },
   {
    "duration": 1305,
    "start_time": "2022-10-04T09:13:27.424Z"
   },
   {
    "duration": 6,
    "start_time": "2022-10-04T09:15:10.916Z"
   },
   {
    "duration": 6,
    "start_time": "2022-10-04T09:15:54.239Z"
   },
   {
    "duration": 5,
    "start_time": "2022-10-04T09:15:59.881Z"
   },
   {
    "duration": 6,
    "start_time": "2022-10-04T09:16:12.036Z"
   },
   {
    "duration": 1262,
    "start_time": "2022-10-04T09:16:13.661Z"
   },
   {
    "duration": 78,
    "start_time": "2022-10-04T09:16:28.098Z"
   },
   {
    "duration": 7,
    "start_time": "2022-10-04T09:16:50.287Z"
   },
   {
    "duration": 1274,
    "start_time": "2022-10-04T09:16:51.250Z"
   },
   {
    "duration": 5,
    "start_time": "2022-10-04T09:17:05.025Z"
   },
   {
    "duration": 1343,
    "start_time": "2022-10-04T09:17:05.886Z"
   },
   {
    "duration": 6,
    "start_time": "2022-10-04T09:17:33.888Z"
   },
   {
    "duration": 1233,
    "start_time": "2022-10-04T09:17:35.062Z"
   },
   {
    "duration": 7,
    "start_time": "2022-10-04T09:17:47.739Z"
   },
   {
    "duration": 1287,
    "start_time": "2022-10-04T09:17:48.837Z"
   },
   {
    "duration": 5,
    "start_time": "2022-10-04T09:18:29.037Z"
   },
   {
    "duration": 1288,
    "start_time": "2022-10-04T09:18:29.937Z"
   },
   {
    "duration": 6,
    "start_time": "2022-10-04T09:18:41.974Z"
   },
   {
    "duration": 1260,
    "start_time": "2022-10-04T09:18:42.773Z"
   },
   {
    "duration": 6,
    "start_time": "2022-10-04T09:18:56.936Z"
   },
   {
    "duration": 1393,
    "start_time": "2022-10-04T09:18:57.488Z"
   },
   {
    "duration": 8,
    "start_time": "2022-10-04T09:19:06.089Z"
   },
   {
    "duration": 1324,
    "start_time": "2022-10-04T09:19:09.974Z"
   },
   {
    "duration": 5,
    "start_time": "2022-10-04T09:19:20.513Z"
   },
   {
    "duration": 1244,
    "start_time": "2022-10-04T09:19:25.386Z"
   },
   {
    "duration": 6,
    "start_time": "2022-10-04T09:19:38.162Z"
   },
   {
    "duration": 79,
    "start_time": "2022-10-04T09:20:46.324Z"
   },
   {
    "duration": 6,
    "start_time": "2022-10-04T09:20:52.564Z"
   },
   {
    "duration": 1243,
    "start_time": "2022-10-04T09:20:53.237Z"
   },
   {
    "duration": 5,
    "start_time": "2022-10-04T09:21:15.862Z"
   },
   {
    "duration": 1277,
    "start_time": "2022-10-04T09:21:16.899Z"
   },
   {
    "duration": 6,
    "start_time": "2022-10-04T09:22:46.251Z"
   },
   {
    "duration": 1200,
    "start_time": "2022-10-04T09:22:48.349Z"
   },
   {
    "duration": 1261,
    "start_time": "2022-10-04T09:23:07.614Z"
   },
   {
    "duration": 1252,
    "start_time": "2022-10-04T09:23:10.360Z"
   },
   {
    "duration": 6,
    "start_time": "2022-10-04T09:25:46.325Z"
   },
   {
    "duration": 1283,
    "start_time": "2022-10-04T09:25:47.155Z"
   },
   {
    "duration": 1227,
    "start_time": "2022-10-04T09:25:50.012Z"
   },
   {
    "duration": 1256,
    "start_time": "2022-10-04T09:25:51.974Z"
   },
   {
    "duration": 6,
    "start_time": "2022-10-04T09:26:50.087Z"
   },
   {
    "duration": 1253,
    "start_time": "2022-10-04T09:26:51.550Z"
   },
   {
    "duration": 14,
    "start_time": "2022-10-04T09:49:22.492Z"
   },
   {
    "duration": 14,
    "start_time": "2022-10-04T09:49:26.742Z"
   },
   {
    "duration": 14,
    "start_time": "2022-10-04T09:49:38.269Z"
   },
   {
    "duration": 1396,
    "start_time": "2022-10-04T09:50:17.079Z"
   },
   {
    "duration": 381,
    "start_time": "2022-10-04T09:50:18.477Z"
   },
   {
    "duration": 6,
    "start_time": "2022-10-04T09:50:18.863Z"
   },
   {
    "duration": 924,
    "start_time": "2022-10-04T09:50:18.871Z"
   },
   {
    "duration": 985,
    "start_time": "2022-10-04T09:50:19.796Z"
   },
   {
    "duration": 16,
    "start_time": "2022-10-04T09:50:20.782Z"
   },
   {
    "duration": 8,
    "start_time": "2022-10-04T09:50:20.800Z"
   },
   {
    "duration": 1046,
    "start_time": "2022-10-04T09:50:20.809Z"
   },
   {
    "duration": 40,
    "start_time": "2022-10-04T09:50:21.858Z"
   },
   {
    "duration": 3,
    "start_time": "2022-10-04T09:50:21.900Z"
   },
   {
    "duration": 20,
    "start_time": "2022-10-04T09:50:21.905Z"
   },
   {
    "duration": 670,
    "start_time": "2022-10-04T09:50:21.927Z"
   },
   {
    "duration": 15,
    "start_time": "2022-10-04T09:50:22.599Z"
   },
   {
    "duration": 704,
    "start_time": "2022-10-04T09:50:22.616Z"
   },
   {
    "duration": 15,
    "start_time": "2022-10-04T09:50:23.322Z"
   },
   {
    "duration": 640,
    "start_time": "2022-10-04T09:50:23.338Z"
   },
   {
    "duration": 8,
    "start_time": "2022-10-04T09:50:23.980Z"
   },
   {
    "duration": 3,
    "start_time": "2022-10-04T09:50:23.995Z"
   },
   {
    "duration": 6,
    "start_time": "2022-10-04T09:50:24.000Z"
   },
   {
    "duration": 7,
    "start_time": "2022-10-04T09:50:24.008Z"
   },
   {
    "duration": 9,
    "start_time": "2022-10-04T09:50:24.016Z"
   },
   {
    "duration": 6,
    "start_time": "2022-10-04T09:50:24.027Z"
   },
   {
    "duration": 1262,
    "start_time": "2022-10-04T09:50:24.034Z"
   },
   {
    "duration": 1176,
    "start_time": "2022-10-04T09:50:25.298Z"
   },
   {
    "duration": 1304,
    "start_time": "2022-10-04T09:50:26.476Z"
   },
   {
    "duration": 20,
    "start_time": "2022-10-04T09:50:27.782Z"
   },
   {
    "duration": 1267,
    "start_time": "2022-10-04T09:54:33.331Z"
   },
   {
    "duration": 346,
    "start_time": "2022-10-04T09:54:34.599Z"
   },
   {
    "duration": 6,
    "start_time": "2022-10-04T09:54:34.946Z"
   },
   {
    "duration": 884,
    "start_time": "2022-10-04T09:54:34.953Z"
   },
   {
    "duration": 1036,
    "start_time": "2022-10-04T09:54:35.840Z"
   },
   {
    "duration": 7,
    "start_time": "2022-10-04T09:54:36.878Z"
   },
   {
    "duration": 7,
    "start_time": "2022-10-04T09:54:36.894Z"
   },
   {
    "duration": 1010,
    "start_time": "2022-10-04T09:54:36.903Z"
   },
   {
    "duration": 37,
    "start_time": "2022-10-04T09:54:37.915Z"
   },
   {
    "duration": 4,
    "start_time": "2022-10-04T09:54:37.953Z"
   },
   {
    "duration": 313,
    "start_time": "2022-10-04T09:54:37.959Z"
   },
   {
    "duration": 0,
    "start_time": "2022-10-04T09:54:38.274Z"
   },
   {
    "duration": 0,
    "start_time": "2022-10-04T09:54:38.276Z"
   },
   {
    "duration": 0,
    "start_time": "2022-10-04T09:54:38.277Z"
   },
   {
    "duration": 0,
    "start_time": "2022-10-04T09:54:38.278Z"
   },
   {
    "duration": 0,
    "start_time": "2022-10-04T09:54:38.295Z"
   },
   {
    "duration": 0,
    "start_time": "2022-10-04T09:54:38.297Z"
   },
   {
    "duration": 0,
    "start_time": "2022-10-04T09:54:38.298Z"
   },
   {
    "duration": 0,
    "start_time": "2022-10-04T09:54:38.299Z"
   },
   {
    "duration": 0,
    "start_time": "2022-10-04T09:54:38.300Z"
   },
   {
    "duration": 0,
    "start_time": "2022-10-04T09:54:38.302Z"
   },
   {
    "duration": 0,
    "start_time": "2022-10-04T09:54:38.303Z"
   },
   {
    "duration": 0,
    "start_time": "2022-10-04T09:54:38.305Z"
   },
   {
    "duration": 0,
    "start_time": "2022-10-04T09:54:38.306Z"
   },
   {
    "duration": 0,
    "start_time": "2022-10-04T09:54:38.308Z"
   },
   {
    "duration": 0,
    "start_time": "2022-10-04T09:54:38.309Z"
   },
   {
    "duration": 4,
    "start_time": "2022-10-04T09:55:28.422Z"
   },
   {
    "duration": 187,
    "start_time": "2022-10-04T09:55:30.409Z"
   },
   {
    "duration": 4,
    "start_time": "2022-10-04T09:58:14.760Z"
   },
   {
    "duration": 51,
    "start_time": "2022-10-04T09:58:16.948Z"
   },
   {
    "duration": 4,
    "start_time": "2022-10-04T10:00:06.211Z"
   },
   {
    "duration": 59,
    "start_time": "2022-10-04T10:00:07.639Z"
   },
   {
    "duration": 4,
    "start_time": "2022-10-04T10:00:17.861Z"
   },
   {
    "duration": 15,
    "start_time": "2022-10-04T10:00:25.849Z"
   },
   {
    "duration": 4,
    "start_time": "2022-10-04T10:00:57.585Z"
   },
   {
    "duration": 15,
    "start_time": "2022-10-04T10:00:58.486Z"
   },
   {
    "duration": 5,
    "start_time": "2022-10-04T10:01:04.604Z"
   },
   {
    "duration": 16,
    "start_time": "2022-10-04T10:01:05.587Z"
   },
   {
    "duration": 575,
    "start_time": "2022-10-04T10:01:06.498Z"
   },
   {
    "duration": 4,
    "start_time": "2022-10-04T10:02:07.349Z"
   },
   {
    "duration": 19,
    "start_time": "2022-10-04T10:02:08.565Z"
   },
   {
    "duration": 1331,
    "start_time": "2022-10-04T10:02:18.032Z"
   },
   {
    "duration": 350,
    "start_time": "2022-10-04T10:02:19.364Z"
   },
   {
    "duration": 5,
    "start_time": "2022-10-04T10:02:19.716Z"
   },
   {
    "duration": 889,
    "start_time": "2022-10-04T10:02:19.723Z"
   },
   {
    "duration": 984,
    "start_time": "2022-10-04T10:02:20.614Z"
   },
   {
    "duration": 8,
    "start_time": "2022-10-04T10:02:21.601Z"
   },
   {
    "duration": 8,
    "start_time": "2022-10-04T10:02:21.611Z"
   },
   {
    "duration": 1025,
    "start_time": "2022-10-04T10:02:21.621Z"
   },
   {
    "duration": 37,
    "start_time": "2022-10-04T10:02:22.648Z"
   },
   {
    "duration": 4,
    "start_time": "2022-10-04T10:02:22.696Z"
   },
   {
    "duration": 93,
    "start_time": "2022-10-04T10:02:22.701Z"
   },
   {
    "duration": 606,
    "start_time": "2022-10-04T10:02:22.796Z"
   },
   {
    "duration": 15,
    "start_time": "2022-10-04T10:02:23.404Z"
   },
   {
    "duration": 703,
    "start_time": "2022-10-04T10:02:23.421Z"
   },
   {
    "duration": 15,
    "start_time": "2022-10-04T10:02:24.126Z"
   },
   {
    "duration": 652,
    "start_time": "2022-10-04T10:02:24.143Z"
   },
   {
    "duration": 9,
    "start_time": "2022-10-04T10:02:24.796Z"
   },
   {
    "duration": 15,
    "start_time": "2022-10-04T10:02:24.807Z"
   },
   {
    "duration": 9,
    "start_time": "2022-10-04T10:02:24.824Z"
   },
   {
    "duration": 5,
    "start_time": "2022-10-04T10:02:24.835Z"
   },
   {
    "duration": 5,
    "start_time": "2022-10-04T10:02:24.842Z"
   },
   {
    "duration": 9,
    "start_time": "2022-10-04T10:02:24.848Z"
   },
   {
    "duration": 1283,
    "start_time": "2022-10-04T10:02:24.858Z"
   },
   {
    "duration": 1337,
    "start_time": "2022-10-04T10:02:26.143Z"
   },
   {
    "duration": 1223,
    "start_time": "2022-10-04T10:02:27.482Z"
   },
   {
    "duration": 13,
    "start_time": "2022-10-04T10:02:28.707Z"
   },
   {
    "duration": 1504,
    "start_time": "2022-10-04T10:11:56.021Z"
   },
   {
    "duration": 365,
    "start_time": "2022-10-04T10:11:57.528Z"
   },
   {
    "duration": 7,
    "start_time": "2022-10-04T10:11:57.895Z"
   },
   {
    "duration": 985,
    "start_time": "2022-10-04T10:11:57.905Z"
   },
   {
    "duration": 1008,
    "start_time": "2022-10-04T10:11:58.892Z"
   },
   {
    "duration": 7,
    "start_time": "2022-10-04T10:11:59.901Z"
   },
   {
    "duration": 9,
    "start_time": "2022-10-04T10:11:59.910Z"
   },
   {
    "duration": 1209,
    "start_time": "2022-10-04T10:11:59.921Z"
   },
   {
    "duration": 39,
    "start_time": "2022-10-04T10:12:01.132Z"
   },
   {
    "duration": 4,
    "start_time": "2022-10-04T10:12:01.172Z"
   },
   {
    "duration": 44,
    "start_time": "2022-10-04T10:12:01.178Z"
   },
   {
    "duration": 682,
    "start_time": "2022-10-04T10:12:01.296Z"
   },
   {
    "duration": 26,
    "start_time": "2022-10-04T10:12:01.979Z"
   },
   {
    "duration": 732,
    "start_time": "2022-10-04T10:12:02.009Z"
   },
   {
    "duration": 54,
    "start_time": "2022-10-04T10:12:02.743Z"
   },
   {
    "duration": 704,
    "start_time": "2022-10-04T10:12:02.799Z"
   },
   {
    "duration": 14,
    "start_time": "2022-10-04T10:12:03.506Z"
   },
   {
    "duration": 6,
    "start_time": "2022-10-04T10:12:03.522Z"
   },
   {
    "duration": 6,
    "start_time": "2022-10-04T10:12:03.529Z"
   },
   {
    "duration": 8,
    "start_time": "2022-10-04T10:12:03.536Z"
   },
   {
    "duration": 7,
    "start_time": "2022-10-04T10:12:03.545Z"
   },
   {
    "duration": 6,
    "start_time": "2022-10-04T10:12:03.553Z"
   },
   {
    "duration": 1450,
    "start_time": "2022-10-04T10:12:03.560Z"
   },
   {
    "duration": 1286,
    "start_time": "2022-10-04T10:12:05.012Z"
   },
   {
    "duration": 1459,
    "start_time": "2022-10-04T10:12:06.301Z"
   },
   {
    "duration": 12,
    "start_time": "2022-10-04T10:12:07.762Z"
   },
   {
    "duration": 7509,
    "start_time": "2022-10-04T11:07:34.054Z"
   },
   {
    "duration": 1875,
    "start_time": "2022-10-04T11:07:41.566Z"
   },
   {
    "duration": 6,
    "start_time": "2022-10-04T11:07:43.490Z"
   },
   {
    "duration": 1329,
    "start_time": "2022-10-04T11:07:43.498Z"
   },
   {
    "duration": 1100,
    "start_time": "2022-10-04T11:07:44.830Z"
   },
   {
    "duration": 8,
    "start_time": "2022-10-04T11:07:45.932Z"
   },
   {
    "duration": 15,
    "start_time": "2022-10-04T11:07:45.941Z"
   },
   {
    "duration": 1142,
    "start_time": "2022-10-04T11:07:45.958Z"
   },
   {
    "duration": 41,
    "start_time": "2022-10-04T11:07:47.102Z"
   },
   {
    "duration": 4,
    "start_time": "2022-10-04T11:07:47.145Z"
   },
   {
    "duration": 42,
    "start_time": "2022-10-04T11:07:47.151Z"
   },
   {
    "duration": 703,
    "start_time": "2022-10-04T11:07:47.195Z"
   },
   {
    "duration": 18,
    "start_time": "2022-10-04T11:07:47.900Z"
   },
   {
    "duration": 666,
    "start_time": "2022-10-04T11:07:47.993Z"
   },
   {
    "duration": 30,
    "start_time": "2022-10-04T11:07:48.661Z"
   },
   {
    "duration": 745,
    "start_time": "2022-10-04T11:07:48.695Z"
   },
   {
    "duration": 9,
    "start_time": "2022-10-04T11:07:49.442Z"
   },
   {
    "duration": 4,
    "start_time": "2022-10-04T11:07:49.453Z"
   },
   {
    "duration": 9,
    "start_time": "2022-10-04T11:07:49.459Z"
   },
   {
    "duration": 22,
    "start_time": "2022-10-04T11:07:49.470Z"
   },
   {
    "duration": 5,
    "start_time": "2022-10-04T11:07:49.493Z"
   },
   {
    "duration": 5,
    "start_time": "2022-10-04T11:07:49.500Z"
   },
   {
    "duration": 1396,
    "start_time": "2022-10-04T11:07:49.507Z"
   },
   {
    "duration": 1431,
    "start_time": "2022-10-04T11:07:50.905Z"
   },
   {
    "duration": 1327,
    "start_time": "2022-10-04T11:07:52.338Z"
   },
   {
    "duration": 23,
    "start_time": "2022-10-04T11:07:53.666Z"
   }
  ],
  "kernelspec": {
   "display_name": "Python 3 (ipykernel)",
   "language": "python",
   "name": "python3"
  },
  "language_info": {
   "codemirror_mode": {
    "name": "ipython",
    "version": 3
   },
   "file_extension": ".py",
   "mimetype": "text/x-python",
   "name": "python",
   "nbconvert_exporter": "python",
   "pygments_lexer": "ipython3",
   "version": "3.9.12"
  },
  "toc": {
   "base_numbering": 1,
   "nav_menu": {},
   "number_sections": true,
   "sideBar": true,
   "skip_h1_title": true,
   "title_cell": "Содержание",
   "title_sidebar": "Contents",
   "toc_cell": true,
   "toc_position": {
    "height": "calc(100% - 180px)",
    "left": "10px",
    "top": "150px",
    "width": "318.188px"
   },
   "toc_section_display": true,
   "toc_window_display": true
  }
 },
 "nbformat": 4,
 "nbformat_minor": 2
}
