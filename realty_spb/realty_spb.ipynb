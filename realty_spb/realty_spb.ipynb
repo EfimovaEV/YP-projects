{
 "cells": [
  {
   "cell_type": "markdown",
   "metadata": {},
   "source": [
    "# Исследование объявлений о продаже квартир\n",
    "\n",
    "В вашем распоряжении данные сервиса Яндекс.Недвижимость — архив объявлений о продаже квартир в Санкт-Петербурге и соседних населённых пунктов за несколько лет. Нужно научиться определять рыночную стоимость объектов недвижимости. Ваша задача — установить параметры. Это позволит построить автоматизированную систему: она отследит аномалии и мошенническую деятельность. \n",
    "\n",
    "По каждой квартире на продажу доступны два вида данных. Первые вписаны пользователем, вторые — получены автоматически на основе картографических данных. Например, расстояние до центра, аэропорта, ближайшего парка и водоёма. "
   ]
  },
  {
   "cell_type": "markdown",
   "metadata": {},
   "source": [
    "<h1>Содержание<span class=\"tocSkip\">"
   ]
  },
  {
   "cell_type": "markdown",
   "metadata": {},
   "source": [
    "### Откройте файл с данными и изучите общую информацию. "
   ]
  },
  {
   "cell_type": "code",
   "execution_count": 1,
   "metadata": {},
   "outputs": [],
   "source": [
    "# импорт библиотек\n",
    "import pandas as pd\n",
    "import matplotlib.pyplot as plt"
   ]
  },
  {
   "cell_type": "code",
   "execution_count": 2,
   "metadata": {},
   "outputs": [
    {
     "data": {
      "text/html": [
       "<div>\n",
       "<style scoped>\n",
       "    .dataframe tbody tr th:only-of-type {\n",
       "        vertical-align: middle;\n",
       "    }\n",
       "\n",
       "    .dataframe tbody tr th {\n",
       "        vertical-align: top;\n",
       "    }\n",
       "\n",
       "    .dataframe thead th {\n",
       "        text-align: right;\n",
       "    }\n",
       "</style>\n",
       "<table border=\"1\" class=\"dataframe\">\n",
       "  <thead>\n",
       "    <tr style=\"text-align: right;\">\n",
       "      <th></th>\n",
       "      <th>total_images</th>\n",
       "      <th>last_price</th>\n",
       "      <th>total_area</th>\n",
       "      <th>first_day_exposition</th>\n",
       "      <th>rooms</th>\n",
       "      <th>ceiling_height</th>\n",
       "      <th>floors_total</th>\n",
       "      <th>living_area</th>\n",
       "      <th>floor</th>\n",
       "      <th>is_apartment</th>\n",
       "      <th>...</th>\n",
       "      <th>kitchen_area</th>\n",
       "      <th>balcony</th>\n",
       "      <th>locality_name</th>\n",
       "      <th>airports_nearest</th>\n",
       "      <th>cityCenters_nearest</th>\n",
       "      <th>parks_around3000</th>\n",
       "      <th>parks_nearest</th>\n",
       "      <th>ponds_around3000</th>\n",
       "      <th>ponds_nearest</th>\n",
       "      <th>days_exposition</th>\n",
       "    </tr>\n",
       "  </thead>\n",
       "  <tbody>\n",
       "    <tr>\n",
       "      <th>0</th>\n",
       "      <td>20</td>\n",
       "      <td>13000000.0</td>\n",
       "      <td>108.0</td>\n",
       "      <td>2019-03-07T00:00:00</td>\n",
       "      <td>3</td>\n",
       "      <td>2.70</td>\n",
       "      <td>16.0</td>\n",
       "      <td>51.0</td>\n",
       "      <td>8</td>\n",
       "      <td>NaN</td>\n",
       "      <td>...</td>\n",
       "      <td>25.0</td>\n",
       "      <td>NaN</td>\n",
       "      <td>Санкт-Петербург</td>\n",
       "      <td>18863.0</td>\n",
       "      <td>16028.0</td>\n",
       "      <td>1.0</td>\n",
       "      <td>482.0</td>\n",
       "      <td>2.0</td>\n",
       "      <td>755.0</td>\n",
       "      <td>NaN</td>\n",
       "    </tr>\n",
       "    <tr>\n",
       "      <th>1</th>\n",
       "      <td>7</td>\n",
       "      <td>3350000.0</td>\n",
       "      <td>40.4</td>\n",
       "      <td>2018-12-04T00:00:00</td>\n",
       "      <td>1</td>\n",
       "      <td>NaN</td>\n",
       "      <td>11.0</td>\n",
       "      <td>18.6</td>\n",
       "      <td>1</td>\n",
       "      <td>NaN</td>\n",
       "      <td>...</td>\n",
       "      <td>11.0</td>\n",
       "      <td>2.0</td>\n",
       "      <td>посёлок Шушары</td>\n",
       "      <td>12817.0</td>\n",
       "      <td>18603.0</td>\n",
       "      <td>0.0</td>\n",
       "      <td>NaN</td>\n",
       "      <td>0.0</td>\n",
       "      <td>NaN</td>\n",
       "      <td>81.0</td>\n",
       "    </tr>\n",
       "    <tr>\n",
       "      <th>2</th>\n",
       "      <td>10</td>\n",
       "      <td>5196000.0</td>\n",
       "      <td>56.0</td>\n",
       "      <td>2015-08-20T00:00:00</td>\n",
       "      <td>2</td>\n",
       "      <td>NaN</td>\n",
       "      <td>5.0</td>\n",
       "      <td>34.3</td>\n",
       "      <td>4</td>\n",
       "      <td>NaN</td>\n",
       "      <td>...</td>\n",
       "      <td>8.3</td>\n",
       "      <td>0.0</td>\n",
       "      <td>Санкт-Петербург</td>\n",
       "      <td>21741.0</td>\n",
       "      <td>13933.0</td>\n",
       "      <td>1.0</td>\n",
       "      <td>90.0</td>\n",
       "      <td>2.0</td>\n",
       "      <td>574.0</td>\n",
       "      <td>558.0</td>\n",
       "    </tr>\n",
       "    <tr>\n",
       "      <th>3</th>\n",
       "      <td>0</td>\n",
       "      <td>64900000.0</td>\n",
       "      <td>159.0</td>\n",
       "      <td>2015-07-24T00:00:00</td>\n",
       "      <td>3</td>\n",
       "      <td>NaN</td>\n",
       "      <td>14.0</td>\n",
       "      <td>NaN</td>\n",
       "      <td>9</td>\n",
       "      <td>NaN</td>\n",
       "      <td>...</td>\n",
       "      <td>NaN</td>\n",
       "      <td>0.0</td>\n",
       "      <td>Санкт-Петербург</td>\n",
       "      <td>28098.0</td>\n",
       "      <td>6800.0</td>\n",
       "      <td>2.0</td>\n",
       "      <td>84.0</td>\n",
       "      <td>3.0</td>\n",
       "      <td>234.0</td>\n",
       "      <td>424.0</td>\n",
       "    </tr>\n",
       "    <tr>\n",
       "      <th>4</th>\n",
       "      <td>2</td>\n",
       "      <td>10000000.0</td>\n",
       "      <td>100.0</td>\n",
       "      <td>2018-06-19T00:00:00</td>\n",
       "      <td>2</td>\n",
       "      <td>3.03</td>\n",
       "      <td>14.0</td>\n",
       "      <td>32.0</td>\n",
       "      <td>13</td>\n",
       "      <td>NaN</td>\n",
       "      <td>...</td>\n",
       "      <td>41.0</td>\n",
       "      <td>NaN</td>\n",
       "      <td>Санкт-Петербург</td>\n",
       "      <td>31856.0</td>\n",
       "      <td>8098.0</td>\n",
       "      <td>2.0</td>\n",
       "      <td>112.0</td>\n",
       "      <td>1.0</td>\n",
       "      <td>48.0</td>\n",
       "      <td>121.0</td>\n",
       "    </tr>\n",
       "  </tbody>\n",
       "</table>\n",
       "<p>5 rows × 22 columns</p>\n",
       "</div>"
      ],
      "text/plain": [
       "   total_images  last_price  total_area first_day_exposition  rooms  \\\n",
       "0            20  13000000.0       108.0  2019-03-07T00:00:00      3   \n",
       "1             7   3350000.0        40.4  2018-12-04T00:00:00      1   \n",
       "2            10   5196000.0        56.0  2015-08-20T00:00:00      2   \n",
       "3             0  64900000.0       159.0  2015-07-24T00:00:00      3   \n",
       "4             2  10000000.0       100.0  2018-06-19T00:00:00      2   \n",
       "\n",
       "   ceiling_height  floors_total  living_area  floor is_apartment  ...  \\\n",
       "0            2.70          16.0         51.0      8          NaN  ...   \n",
       "1             NaN          11.0         18.6      1          NaN  ...   \n",
       "2             NaN           5.0         34.3      4          NaN  ...   \n",
       "3             NaN          14.0          NaN      9          NaN  ...   \n",
       "4            3.03          14.0         32.0     13          NaN  ...   \n",
       "\n",
       "   kitchen_area  balcony    locality_name  airports_nearest  \\\n",
       "0          25.0      NaN  Санкт-Петербург           18863.0   \n",
       "1          11.0      2.0   посёлок Шушары           12817.0   \n",
       "2           8.3      0.0  Санкт-Петербург           21741.0   \n",
       "3           NaN      0.0  Санкт-Петербург           28098.0   \n",
       "4          41.0      NaN  Санкт-Петербург           31856.0   \n",
       "\n",
       "  cityCenters_nearest  parks_around3000  parks_nearest  ponds_around3000  \\\n",
       "0             16028.0               1.0          482.0               2.0   \n",
       "1             18603.0               0.0            NaN               0.0   \n",
       "2             13933.0               1.0           90.0               2.0   \n",
       "3              6800.0               2.0           84.0               3.0   \n",
       "4              8098.0               2.0          112.0               1.0   \n",
       "\n",
       "   ponds_nearest  days_exposition  \n",
       "0          755.0              NaN  \n",
       "1            NaN             81.0  \n",
       "2          574.0            558.0  \n",
       "3          234.0            424.0  \n",
       "4           48.0            121.0  \n",
       "\n",
       "[5 rows x 22 columns]"
      ]
     },
     "execution_count": 2,
     "metadata": {},
     "output_type": "execute_result"
    }
   ],
   "source": [
    "# чтение данных\n",
    "data = pd.read_csv('datasets/real_estate_data.csv', sep='\\t')\n",
    "\n",
    "data.head(5)"
   ]
  },
  {
   "cell_type": "markdown",
   "metadata": {},
   "source": [
    "По первым строкам видно, что данные содержат пропуски. Посмотрим общую информацию о датасете:"
   ]
  },
  {
   "cell_type": "code",
   "execution_count": 3,
   "metadata": {},
   "outputs": [
    {
     "name": "stdout",
     "output_type": "stream",
     "text": [
      "<class 'pandas.core.frame.DataFrame'>\n",
      "RangeIndex: 23699 entries, 0 to 23698\n",
      "Data columns (total 22 columns):\n",
      " #   Column                Non-Null Count  Dtype  \n",
      "---  ------                --------------  -----  \n",
      " 0   total_images          23699 non-null  int64  \n",
      " 1   last_price            23699 non-null  float64\n",
      " 2   total_area            23699 non-null  float64\n",
      " 3   first_day_exposition  23699 non-null  object \n",
      " 4   rooms                 23699 non-null  int64  \n",
      " 5   ceiling_height        14504 non-null  float64\n",
      " 6   floors_total          23613 non-null  float64\n",
      " 7   living_area           21796 non-null  float64\n",
      " 8   floor                 23699 non-null  int64  \n",
      " 9   is_apartment          2775 non-null   object \n",
      " 10  studio                23699 non-null  bool   \n",
      " 11  open_plan             23699 non-null  bool   \n",
      " 12  kitchen_area          21421 non-null  float64\n",
      " 13  balcony               12180 non-null  float64\n",
      " 14  locality_name         23650 non-null  object \n",
      " 15  airports_nearest      18157 non-null  float64\n",
      " 16  cityCenters_nearest   18180 non-null  float64\n",
      " 17  parks_around3000      18181 non-null  float64\n",
      " 18  parks_nearest         8079 non-null   float64\n",
      " 19  ponds_around3000      18181 non-null  float64\n",
      " 20  ponds_nearest         9110 non-null   float64\n",
      " 21  days_exposition       20518 non-null  float64\n",
      "dtypes: bool(2), float64(14), int64(3), object(3)\n",
      "memory usage: 3.7+ MB\n"
     ]
    }
   ],
   "source": [
    "data.info()"
   ]
  },
  {
   "cell_type": "markdown",
   "metadata": {},
   "source": [
    "***Описание данных***\n",
    "- `airports_nearest` — расстояние до ближайшего аэропорта в метрах (м)\n",
    "- `balcony` — число балконов\n",
    "- `ceiling_height` — высота потолков (м)\n",
    "- `cityCenters_nearest` — расстояние до центра города (м)\n",
    "- `days_exposition` — сколько дней было размещено объявление (от публикации до снятия)\n",
    "- `first_day_exposition` — дата публикации\n",
    "- `floor` — этаж\n",
    "- `floors_total` — всего этажей в доме\n",
    "- `is_apartment` — апартаменты (булев тип)\n",
    "- `kitchen_area` — площадь кухни в квадратных метрах (м²)\n",
    "- `last_price` — цена на момент снятия с публикации\n",
    "- `living_area` — жилая площадь в квадратных метрах (м²)\n",
    "- `locality_name` — название населённого пункта\n",
    "- `open_plan` — свободная планировка (булев тип)\n",
    "- `parks_around3000` — число парков в радиусе 3 км\n",
    "- `parks_nearest` — расстояние до ближайшего парка (м)\n",
    "- `ponds_around3000` — число водоёмов в радиусе 3 км\n",
    "- `ponds_nearest` — расстояние до ближайшего водоёма (м)\n",
    "- `rooms` — число комнат\n",
    "- `studio` — квартира-студия (Boolean)\n",
    "- `total_area` — общая площадь квартиры в квадратных метрах (м²)\n",
    "- `total_images` — число фотографий квартиры в объявлении"
   ]
  },
  {
   "cell_type": "code",
   "execution_count": 4,
   "metadata": {},
   "outputs": [
    {
     "name": "stdout",
     "output_type": "stream",
     "text": [
      "Всего 23699 строк.\n"
     ]
    }
   ],
   "source": [
    "total_length = len(data)\n",
    "print(f'Всего {total_length} строк.')"
   ]
  },
  {
   "cell_type": "markdown",
   "metadata": {},
   "source": [
    "Построим гистограммы для всех столбцов:"
   ]
  },
  {
   "cell_type": "code",
   "execution_count": 5,
   "metadata": {
    "scrolled": false
   },
   "outputs": [
    {
     "data": {
      "image/png": "[encoded data removed]",
      "text/plain": [
       "<Figure size 1080x1080 with 20 Axes>"
      ]
     },
     "metadata": {
      "needs_background": "light"
     },
     "output_type": "display_data"
    }
   ],
   "source": [
    "data.hist(figsize=(15, 15))\n",
    "None"
   ]
  },
  {
   "cell_type": "markdown",
   "metadata": {},
   "source": [
    "На всех гистограммах распределение похоже на распределение Пуассона, следовательно, данные не содержат больших проблем."
   ]
  },
  {
   "cell_type": "markdown",
   "metadata": {},
   "source": [
    "### Предобработка данных"
   ]
  },
  {
   "cell_type": "markdown",
   "metadata": {},
   "source": [
    "Отметим потенциальные проблемы по каждому столбцу:\n",
    "\n",
    " * [x] `total_images` \n",
    " * [x] `last_price`\n",
    " * [x] `total_area`\n",
    " * [ ] `first_day_exposition` -  <span style=\"color:#CD6155\">*требуемый тип данных - datetime*</span>\n",
    " * [x] `rooms` \n",
    " * [ ] `ceiling_height` -  <span style=\"color:#CD6155\">*много пропущенных значений*</span>\n",
    " * [ ] `floors_total` -  <span style=\"color:#CD6155\">*есть пропущенные значения, требуемый тип данных - int*</span>\n",
    " * [ ] `living_area` -  <span style=\"color:#CD6155\">*есть пропущенные значения*</span>\n",
    " * [x] `floor` \n",
    " * [ ] `is_apartment` -  <span style=\"color:#CD6155\">*много пропущенных значений, требуемый тип данных - bool*</span>\n",
    " * [x] `studio`\n",
    " * [x] `open_plan` \n",
    " * [ ] `kitchen_area` -  <span style=\"color:#CD6155\">*есть пропущенные значения*</span>\n",
    " * [ ] `balcony`  -  <span style=\"color:#CD6155\">*много пропущенных значений, требуемый тип данных - int*</span>\n",
    " * [ ] `locality_name` -  <span style=\"color:#CD6155\">*есть пропущенные значения*</span>\n",
    " * [ ] `airports_nearest` -  <span style=\"color:#CD6155\">*есть пропущенные значения*</span>\n",
    " * [ ] `cityCenters_nearest` -   <span style=\"color:#CD6155\">*есть пропущенные значения*</span>\n",
    " * [ ] `parks_around3000` -  <span style=\"color:#CD6155\">*есть пропущенные значения, требуемый тип данных - int*</span>\n",
    " * [ ] `parks_nearest` -  <span style=\"color:#CD6155\">*много пропущенных значений*</span>\n",
    " * [ ] `ponds_around3000` -  <span style=\"color:#CD6155\">*есть пропущенные значения, требуемый тип данных - int*</span>\n",
    " * [ ] `ponds_nearest` -  <span style=\"color:#CD6155\">*много пропущенных значений*</span>\n",
    " * [ ] `days_exposition` -  <span style=\"color:#CD6155\">*есть пропущенные значения, требуемый тип данных - int*</span>\n",
    " "
   ]
  },
  {
   "cell_type": "markdown",
   "metadata": {},
   "source": [
    "#### Преобразование типов"
   ]
  },
  {
   "cell_type": "markdown",
   "metadata": {},
   "source": [
    " * `first_day_exposition` - дата\n",
    " * `floors_total` - количество этажей в доме целое\n",
    " * `balcony` - количество балконов целое\n",
    " * `parks_around3000`, `ponds_around3000` -  количество парков и водоемов целое\n",
    " * `days_exposition` -  количество дней целое"
   ]
  },
  {
   "cell_type": "code",
   "execution_count": 6,
   "metadata": {},
   "outputs": [],
   "source": [
    "data['first_day_exposition'] = pd.to_datetime(data['first_day_exposition'], format='%Y-%m-%dT%H:%M:%S')\n",
    "\n",
    "data['floors_total'] = data['floors_total'].astype('int', errors='ignore')\n",
    "\n",
    "data['balcony'] = data['balcony'].astype('int', errors='ignore')\n",
    "\n",
    "data['parks_around3000'] = data['parks_around3000'].astype('int', errors='ignore')\n",
    "data['ponds_around3000'] = data['ponds_around3000'].astype('int', errors='ignore')\n",
    "\n",
    "data['days_exposition'] = data['days_exposition'].astype('int', errors='ignore')"
   ]
  },
  {
   "cell_type": "markdown",
   "metadata": {},
   "source": [
    "#### Поиск аномальных значений"
   ]
  },
  {
   "cell_type": "markdown",
   "metadata": {},
   "source": [
    "Столбцы `total_images`, `last_price`, `total_area`,`rooms`, `floor`, `studio`, `open_plan` не имеют пропущенных значений. Проверим `total_images`, `rooms`, `floor`, `studio`, `open_plan` на наличие аномальных значений."
   ]
  },
  {
   "cell_type": "code",
   "execution_count": 7,
   "metadata": {},
   "outputs": [
    {
     "name": "stdout",
     "output_type": "stream",
     "text": [
      "'total_images':\n",
      "  Диапазон значений: 0 - 50.\n",
      "  Уникальные значения: 0, 1, 2, 3, 4, 5, 6, 7, 8, 9, 10, 11, 12, 13, 14, 15, 16, 17, 18, 19, 20, 21, 22, 23, 24, 25, 26, 27, 28, 29, 30, 31, 32, 35, 37, 39, 42, 50\n",
      "\n",
      "'rooms':\n",
      "  Диапазон значений: 0 - 19.\n",
      "  Уникальные значения: 0, 1, 2, 3, 4, 5, 6, 7, 8, 9, 10, 11, 12, 14, 15, 16, 19\n",
      "\n",
      "'floor':\n",
      "  Диапазон значений: 1 - 33.\n",
      "  Уникальные значения: 1, 2, 3, 4, 5, 6, 7, 8, 9, 10, 11, 12, 13, 14, 15, 16, 17, 18, 19, 20, 21, 22, 23, 24, 25, 26, 27, 28, 29, 30, 31, 32, 33\n",
      "\n",
      "'studio':\n",
      "  Уникальные значения: False, True\n",
      "\n",
      "'open_plan':\n",
      "  Уникальные значения: False, True\n",
      "\n"
     ]
    }
   ],
   "source": [
    "def info(column):\n",
    "    if len(column.unique()) > 2:\n",
    "        print(f'  Диапазон значений: {column.min()} - {column.max()}.')\n",
    "    print('  Уникальные значения:', end=' ')\n",
    "    print(*sorted(column.unique()), sep=', ')\n",
    "\n",
    "for col in ['total_images', 'rooms', 'floor', 'studio', 'open_plan']:\n",
    "    print(f\"'{col}'\",end=':\\n')\n",
    "    info(data[col])\n",
    "    print()"
   ]
  },
  {
   "cell_type": "markdown",
   "metadata": {},
   "source": [
    "Все значения выглядят нормально. Значения в столбцах `last_price` и `total_area` могут быть любыми. Проверим разброс значений:"
   ]
  },
  {
   "cell_type": "code",
   "execution_count": 8,
   "metadata": {},
   "outputs": [
    {
     "name": "stdout",
     "output_type": "stream",
     "text": [
      "'last_price':\n",
      "  Диапазон значений: 12190.0 - 763000000.0.\n",
      "\n",
      "'total_area':\n",
      "  Диапазон значений: 12.0 - 900.0.\n",
      "\n"
     ]
    }
   ],
   "source": [
    "for col in ['last_price', 'total_area']:\n",
    "    print(f\"'{col}'\",end=':\\n')\n",
    "    print(f'  Диапазон значений: {data[col].min()} - {data[col].max()}.')\n",
    "    print()"
   ]
  },
  {
   "cell_type": "markdown",
   "metadata": {},
   "source": [
    "Диапазоны не вызывают вопросов (согласно google, в Санкт-Петербурге есть, например, квартира 900 кв.м. и квартира за 800 млн). "
   ]
  },
  {
   "cell_type": "markdown",
   "metadata": {},
   "source": [
    "Перейдем к данным `ceiling_height`."
   ]
  },
  {
   "cell_type": "code",
   "execution_count": 9,
   "metadata": {
    "scrolled": true
   },
   "outputs": [
    {
     "name": "stdout",
     "output_type": "stream",
     "text": [
      "Диапазон значений: 1.0 - 100.0.\n"
     ]
    }
   ],
   "source": [
    "col = 'ceiling_height'\n",
    "print(f'Диапазон значений: {data[col].min()} - {data[col].max()}.')"
   ]
  },
  {
   "cell_type": "markdown",
   "metadata": {},
   "source": [
    "Присутствуют подозрительно большие значения:"
   ]
  },
  {
   "cell_type": "code",
   "execution_count": 10,
   "metadata": {},
   "outputs": [
    {
     "name": "stdout",
     "output_type": "stream",
     "text": [
      "10.3, 14.0, 20.0, 22.6, 24.0, 25.0, 26.0, 27.0, 27.5, 32.0, 100.0\n"
     ]
    }
   ],
   "source": [
    "print(*sorted(data.query('ceiling_height >= 10')['ceiling_height'].unique()), sep=', ')"
   ]
  },
  {
   "cell_type": "markdown",
   "metadata": {},
   "source": [
    "Можно предположить, что была допущена ошибка при вводе данных, и реальная высота меньше в 10 раз. В России минимальная высота потолка - 2.4 м, поэтому значения свыше 24 заменим:"
   ]
  },
  {
   "cell_type": "code",
   "execution_count": 11,
   "metadata": {},
   "outputs": [],
   "source": [
    "data.loc[data['ceiling_height'] >= 24, 'ceiling_height'] = data.loc[data['ceiling_height'] >= 24, 'ceiling_height'] / 10"
   ]
  },
  {
   "cell_type": "markdown",
   "metadata": {},
   "source": [
    "#### Обработка пропусков"
   ]
  },
  {
   "cell_type": "markdown",
   "metadata": {},
   "source": [
    "Перейдем к остальным данным. Во многих столбцах есть пропуски, но каждая строка содержит данные, полезные для исследований. Заполним пропуски по возможности."
   ]
  },
  {
   "cell_type": "markdown",
   "metadata": {},
   "source": [
    "***`ceiling_height`***. Для высоты потолка сложно выбрать некоторую характерную величину для заполнения пропусков. Оставим эти пропуски незаполненными."
   ]
  },
  {
   "cell_type": "markdown",
   "metadata": {},
   "source": [
    "***`floors_total`***. В столбце присутствуют пропуски:"
   ]
  },
  {
   "cell_type": "code",
   "execution_count": 12,
   "metadata": {},
   "outputs": [
    {
     "data": {
      "text/plain": [
       "86"
      ]
     },
     "execution_count": 12,
     "metadata": {},
     "output_type": "execute_result"
    }
   ],
   "source": [
    "data['floors_total'].isna().sum()"
   ]
  },
  {
   "cell_type": "code",
   "execution_count": 13,
   "metadata": {},
   "outputs": [
    {
     "data": {
      "text/html": [
       "<div>\n",
       "<style scoped>\n",
       "    .dataframe tbody tr th:only-of-type {\n",
       "        vertical-align: middle;\n",
       "    }\n",
       "\n",
       "    .dataframe tbody tr th {\n",
       "        vertical-align: top;\n",
       "    }\n",
       "\n",
       "    .dataframe thead th {\n",
       "        text-align: right;\n",
       "    }\n",
       "</style>\n",
       "<table border=\"1\" class=\"dataframe\">\n",
       "  <thead>\n",
       "    <tr style=\"text-align: right;\">\n",
       "      <th></th>\n",
       "      <th>total_images</th>\n",
       "      <th>last_price</th>\n",
       "      <th>total_area</th>\n",
       "      <th>first_day_exposition</th>\n",
       "      <th>rooms</th>\n",
       "      <th>ceiling_height</th>\n",
       "      <th>floors_total</th>\n",
       "      <th>living_area</th>\n",
       "      <th>floor</th>\n",
       "      <th>is_apartment</th>\n",
       "      <th>...</th>\n",
       "      <th>kitchen_area</th>\n",
       "      <th>balcony</th>\n",
       "      <th>locality_name</th>\n",
       "      <th>airports_nearest</th>\n",
       "      <th>cityCenters_nearest</th>\n",
       "      <th>parks_around3000</th>\n",
       "      <th>parks_nearest</th>\n",
       "      <th>ponds_around3000</th>\n",
       "      <th>ponds_nearest</th>\n",
       "      <th>days_exposition</th>\n",
       "    </tr>\n",
       "  </thead>\n",
       "  <tbody>\n",
       "    <tr>\n",
       "      <th>22542</th>\n",
       "      <td>5</td>\n",
       "      <td>8500000.0</td>\n",
       "      <td>63.5</td>\n",
       "      <td>2017-05-24</td>\n",
       "      <td>2</td>\n",
       "      <td>2.8</td>\n",
       "      <td>NaN</td>\n",
       "      <td>NaN</td>\n",
       "      <td>3</td>\n",
       "      <td>NaN</td>\n",
       "      <td>...</td>\n",
       "      <td>NaN</td>\n",
       "      <td>NaN</td>\n",
       "      <td>Санкт-Петербург</td>\n",
       "      <td>51340.0</td>\n",
       "      <td>15363.0</td>\n",
       "      <td>0.0</td>\n",
       "      <td>NaN</td>\n",
       "      <td>1.0</td>\n",
       "      <td>853.0</td>\n",
       "      <td>512.0</td>\n",
       "    </tr>\n",
       "    <tr>\n",
       "      <th>22656</th>\n",
       "      <td>4</td>\n",
       "      <td>4574160.0</td>\n",
       "      <td>64.5</td>\n",
       "      <td>2017-04-02</td>\n",
       "      <td>2</td>\n",
       "      <td>NaN</td>\n",
       "      <td>NaN</td>\n",
       "      <td>31.70</td>\n",
       "      <td>20</td>\n",
       "      <td>NaN</td>\n",
       "      <td>...</td>\n",
       "      <td>14.40</td>\n",
       "      <td>0.0</td>\n",
       "      <td>Санкт-Петербург</td>\n",
       "      <td>22041.0</td>\n",
       "      <td>17369.0</td>\n",
       "      <td>0.0</td>\n",
       "      <td>NaN</td>\n",
       "      <td>1.0</td>\n",
       "      <td>374.0</td>\n",
       "      <td>127.0</td>\n",
       "    </tr>\n",
       "    <tr>\n",
       "      <th>22808</th>\n",
       "      <td>0</td>\n",
       "      <td>14569263.0</td>\n",
       "      <td>110.4</td>\n",
       "      <td>2016-11-20</td>\n",
       "      <td>3</td>\n",
       "      <td>NaN</td>\n",
       "      <td>NaN</td>\n",
       "      <td>45.38</td>\n",
       "      <td>6</td>\n",
       "      <td>NaN</td>\n",
       "      <td>...</td>\n",
       "      <td>23.42</td>\n",
       "      <td>0.0</td>\n",
       "      <td>Санкт-Петербург</td>\n",
       "      <td>19095.0</td>\n",
       "      <td>4529.0</td>\n",
       "      <td>0.0</td>\n",
       "      <td>NaN</td>\n",
       "      <td>0.0</td>\n",
       "      <td>NaN</td>\n",
       "      <td>260.0</td>\n",
       "    </tr>\n",
       "    <tr>\n",
       "      <th>23590</th>\n",
       "      <td>0</td>\n",
       "      <td>21187872.0</td>\n",
       "      <td>123.3</td>\n",
       "      <td>2017-04-25</td>\n",
       "      <td>3</td>\n",
       "      <td>NaN</td>\n",
       "      <td>NaN</td>\n",
       "      <td>50.40</td>\n",
       "      <td>18</td>\n",
       "      <td>NaN</td>\n",
       "      <td>...</td>\n",
       "      <td>23.60</td>\n",
       "      <td>0.0</td>\n",
       "      <td>Санкт-Петербург</td>\n",
       "      <td>19095.0</td>\n",
       "      <td>4529.0</td>\n",
       "      <td>0.0</td>\n",
       "      <td>NaN</td>\n",
       "      <td>0.0</td>\n",
       "      <td>NaN</td>\n",
       "      <td>104.0</td>\n",
       "    </tr>\n",
       "    <tr>\n",
       "      <th>23658</th>\n",
       "      <td>6</td>\n",
       "      <td>3063600.0</td>\n",
       "      <td>43.8</td>\n",
       "      <td>2016-11-28</td>\n",
       "      <td>1</td>\n",
       "      <td>2.7</td>\n",
       "      <td>NaN</td>\n",
       "      <td>14.00</td>\n",
       "      <td>8</td>\n",
       "      <td>NaN</td>\n",
       "      <td>...</td>\n",
       "      <td>15.50</td>\n",
       "      <td>2.0</td>\n",
       "      <td>Санкт-Петербург</td>\n",
       "      <td>8426.0</td>\n",
       "      <td>12082.0</td>\n",
       "      <td>2.0</td>\n",
       "      <td>24.0</td>\n",
       "      <td>1.0</td>\n",
       "      <td>271.0</td>\n",
       "      <td>246.0</td>\n",
       "    </tr>\n",
       "  </tbody>\n",
       "</table>\n",
       "<p>5 rows × 22 columns</p>\n",
       "</div>"
      ],
      "text/plain": [
       "       total_images  last_price  total_area first_day_exposition  rooms  \\\n",
       "22542             5   8500000.0        63.5           2017-05-24      2   \n",
       "22656             4   4574160.0        64.5           2017-04-02      2   \n",
       "22808             0  14569263.0       110.4           2016-11-20      3   \n",
       "23590             0  21187872.0       123.3           2017-04-25      3   \n",
       "23658             6   3063600.0        43.8           2016-11-28      1   \n",
       "\n",
       "       ceiling_height  floors_total  living_area  floor is_apartment  ...  \\\n",
       "22542             2.8           NaN          NaN      3          NaN  ...   \n",
       "22656             NaN           NaN        31.70     20          NaN  ...   \n",
       "22808             NaN           NaN        45.38      6          NaN  ...   \n",
       "23590             NaN           NaN        50.40     18          NaN  ...   \n",
       "23658             2.7           NaN        14.00      8          NaN  ...   \n",
       "\n",
       "       kitchen_area  balcony    locality_name  airports_nearest  \\\n",
       "22542           NaN      NaN  Санкт-Петербург           51340.0   \n",
       "22656         14.40      0.0  Санкт-Петербург           22041.0   \n",
       "22808         23.42      0.0  Санкт-Петербург           19095.0   \n",
       "23590         23.60      0.0  Санкт-Петербург           19095.0   \n",
       "23658         15.50      2.0  Санкт-Петербург            8426.0   \n",
       "\n",
       "      cityCenters_nearest  parks_around3000  parks_nearest  ponds_around3000  \\\n",
       "22542             15363.0               0.0            NaN               1.0   \n",
       "22656             17369.0               0.0            NaN               1.0   \n",
       "22808              4529.0               0.0            NaN               0.0   \n",
       "23590              4529.0               0.0            NaN               0.0   \n",
       "23658             12082.0               2.0           24.0               1.0   \n",
       "\n",
       "       ponds_nearest  days_exposition  \n",
       "22542          853.0            512.0  \n",
       "22656          374.0            127.0  \n",
       "22808            NaN            260.0  \n",
       "23590            NaN            104.0  \n",
       "23658          271.0            246.0  \n",
       "\n",
       "[5 rows x 22 columns]"
      ]
     },
     "execution_count": 13,
     "metadata": {},
     "output_type": "execute_result"
    }
   ],
   "source": [
    "data[data['floors_total'].isna()].tail(5)"
   ]
  },
  {
   "cell_type": "markdown",
   "metadata": {},
   "source": [
    "Количество этажей в доме невозможно определить по другим параметрам. Также не наблюдается никакой зависимости между пропущенными данными. Оставим как есть."
   ]
  },
  {
   "cell_type": "markdown",
   "metadata": {},
   "source": [
    "***`living_area`***"
   ]
  },
  {
   "cell_type": "code",
   "execution_count": 14,
   "metadata": {
    "scrolled": true
   },
   "outputs": [
    {
     "name": "stdout",
     "output_type": "stream",
     "text": [
      "Всего пропусков: 1903\n",
      "Доля пропусков: 8%\n"
     ]
    }
   ],
   "source": [
    "def info(column):\n",
    "    print('Всего пропусков:', column.isna().sum())\n",
    "    print(f\"Доля пропусков: {round(column.isna().sum() / total_length * 100)}%\")\n",
    "info(data['living_area'])"
   ]
  },
  {
   "cell_type": "markdown",
   "metadata": {},
   "source": [
    "8% данных отсутствует. Для расчета пропущенных значений можно использовать общую площадь квартиры.  Заполним пропуcки следующим образом:\n",
    "  1. Найдем долю жилой площади в для каждой квартиры - `living_area_rate`\n",
    "  2. Заполним пропуски `living_area_rate` средним в зависимости от количества комнат\n",
    "  3. Заполним пропуски `living_area` на произведение `total_area` на `living_area_rate`\n",
    "  "
   ]
  },
  {
   "cell_type": "code",
   "execution_count": 15,
   "metadata": {},
   "outputs": [],
   "source": [
    "data['living_area_rate'] = data['living_area'] / data['total_area']\n",
    "\n",
    "for room_count in data['rooms'].unique():\n",
    "    avg_rate = data.query('rooms == @room_count')['living_area_rate'].mean()\n",
    "    data.loc[data['rooms'] == room_count, 'living_area_rate'] \\\n",
    "        = data.loc[data['rooms'] == room_count, 'living_area_rate'].fillna(avg_rate)\n",
    "\n",
    "data.loc[data['living_area'].isna(), 'living_area'] = data.loc[data['living_area'].isna(),'total_area'] \\\n",
    "   * data.loc[data['living_area'].isna(),'living_area_rate']\n",
    "\n",
    "data = data.drop('living_area_rate', axis=1)"
   ]
  },
  {
   "cell_type": "markdown",
   "metadata": {},
   "source": [
    "***`is_apartment`***"
   ]
  },
  {
   "cell_type": "code",
   "execution_count": 16,
   "metadata": {
    "scrolled": true
   },
   "outputs": [
    {
     "name": "stdout",
     "output_type": "stream",
     "text": [
      "Всего пропусков: 20924\n",
      "Доля пропусков: 88%\n"
     ]
    }
   ],
   "source": [
    "info(data['is_apartment'])"
   ]
  },
  {
   "cell_type": "markdown",
   "metadata": {},
   "source": [
    "Пропусков много. Апартаменты редки, поэтому, вероятно, эту графу не заполняют. Будем считать, что по умолчанию тип помещения - не апартаменты. Заполним пропуски значением *False*:"
   ]
  },
  {
   "cell_type": "code",
   "execution_count": 17,
   "metadata": {},
   "outputs": [],
   "source": [
    "data['is_apartment'] = data['is_apartment'].fillna(False)"
   ]
  },
  {
   "cell_type": "markdown",
   "metadata": {},
   "source": [
    "***`kitchen_area`***"
   ]
  },
  {
   "cell_type": "code",
   "execution_count": 18,
   "metadata": {},
   "outputs": [
    {
     "name": "stdout",
     "output_type": "stream",
     "text": [
      "Всего пропусков: 2278\n",
      "Доля пропусков: 10%\n"
     ]
    }
   ],
   "source": [
    "info(data['kitchen_area'])"
   ]
  },
  {
   "cell_type": "code",
   "execution_count": 19,
   "metadata": {},
   "outputs": [
    {
     "data": {
      "text/plain": [
       "count    21421.000000\n",
       "mean        10.569807\n",
       "std          5.905438\n",
       "min          1.300000\n",
       "25%          7.000000\n",
       "50%          9.100000\n",
       "75%         12.000000\n",
       "max        112.000000\n",
       "Name: kitchen_area, dtype: float64"
      ]
     },
     "execution_count": 19,
     "metadata": {},
     "output_type": "execute_result"
    }
   ],
   "source": [
    "data['kitchen_area'].describe()"
   ]
  },
  {
   "cell_type": "code",
   "execution_count": 20,
   "metadata": {},
   "outputs": [
    {
     "data": {
      "text/plain": [
       "<AxesSubplot:>"
      ]
     },
     "execution_count": 20,
     "metadata": {},
     "output_type": "execute_result"
    },
    {
     "data": {
      "image/png": "[encoded data removed]",
      "text/plain": [
       "<Figure size 432x288 with 1 Axes>"
      ]
     },
     "metadata": {
      "needs_background": "light"
     },
     "output_type": "display_data"
    }
   ],
   "source": [
    "data['kitchen_area'].hist(bins=56)"
   ]
  },
  {
   "cell_type": "markdown",
   "metadata": {},
   "source": [
    "Менее 6% кухонь имеют площадь более 20 кв.м. Проверим, влияет ли площадь квартиры на площадь кухни:"
   ]
  },
  {
   "cell_type": "code",
   "execution_count": 21,
   "metadata": {
    "scrolled": false
   },
   "outputs": [
    {
     "data": {
      "image/png": "[encoded data removed]",
      "text/plain": [
       "<Figure size 1080x432 with 2 Axes>"
      ]
     },
     "metadata": {
      "needs_background": "light"
     },
     "output_type": "display_data"
    }
   ],
   "source": [
    "fig, ax = plt.subplots(nrows=1, ncols=2)\n",
    "fig.set_figheight(6)\n",
    "fig.set_figwidth(15)\n",
    "\n",
    "data.plot(x='kitchen_area', y='total_area', style=',', grid=True, ax=ax[0], alpha=0.1)\n",
    "data.plot(x='kitchen_area', y='living_area', style=',', grid=True, ax=ax[1], alpha=0.1)\n",
    "None"
   ]
  },
  {
   "cell_type": "markdown",
   "metadata": {},
   "source": [
    "Площадь кухни практически не зависит от площади квартиры. Причем разброс значений тоже небольшой. Заполним пропуски медианным значением площади:"
   ]
  },
  {
   "cell_type": "code",
   "execution_count": 22,
   "metadata": {},
   "outputs": [],
   "source": [
    "avg_kitchen_area = data['kitchen_area'].median()\n",
    "data['kitchen_area'] = data['kitchen_area'].fillna(avg_kitchen_area)"
   ]
  },
  {
   "cell_type": "markdown",
   "metadata": {},
   "source": [
    "***`balcony`***"
   ]
  },
  {
   "cell_type": "markdown",
   "metadata": {},
   "source": [
    "Логично предположить, что при отсутствии балкона данные не вносились. Заменим пропуски на 0:"
   ]
  },
  {
   "cell_type": "code",
   "execution_count": 23,
   "metadata": {},
   "outputs": [],
   "source": [
    "data['balcony'] = data['balcony'].fillna(0)"
   ]
  },
  {
   "cell_type": "markdown",
   "metadata": {},
   "source": [
    "***`locality_name`***"
   ]
  },
  {
   "cell_type": "markdown",
   "metadata": {},
   "source": [
    "Невозможно восстановить, в каких местах были выставлены объявления. Замени пропуски значением *unknown*:"
   ]
  },
  {
   "cell_type": "code",
   "execution_count": 24,
   "metadata": {
    "scrolled": true
   },
   "outputs": [],
   "source": [
    "data['locality_name'] = data['locality_name'].fillna('unknown')"
   ]
  },
  {
   "cell_type": "code",
   "execution_count": 25,
   "metadata": {},
   "outputs": [
    {
     "name": "stdout",
     "output_type": "stream",
     "text": [
      "unknown                            деревня Парицы                     поселок Цвелодубово\n",
      "Бокситогорск                       деревня Пельгора                   поселок Цвылёво\n",
      "Волосово                           деревня Пеники                     поселок городского типа Большая Ижора\n",
      "Волхов                             деревня Пижма                      поселок городского типа Вырица\n",
      "Всеволожск                         деревня Пикколово                  поселок городского типа Дружная Горка\n",
      "Выборг                             деревня Пудомяги                   поселок городского типа Дубровка\n",
      "Высоцк                             деревня Пустынка                   поселок городского типа Ефимовский\n",
      "Гатчина                            деревня Пчева                      поселок городского типа Кондратьево\n",
      "Зеленогорск                        деревня Рабитицы                   поселок городского типа Красный Бор\n",
      "Ивангород                          деревня Разбегаево                 поселок городского типа Кузьмоловский\n",
      "Каменногорск                       деревня Раздолье                   поселок городского типа Лебяжье\n",
      "Кингисепп                          деревня Разметелево                поселок городского типа Лесогорский\n",
      "Кириши                             деревня Рапполово                  поселок городского типа Назия\n",
      "Кировск                            деревня Реброво                    поселок городского типа Никольский\n",
      "Колпино                            деревня Русско                     поселок городского типа Приладожский\n",
      "Коммунар                           деревня Сижно                      поселок городского типа Рахья\n",
      "Красное Село                       деревня Снегирёвка                 поселок городского типа Рощино\n",
      "Кронштадт                          деревня Старая                     поселок городского типа Рябово\n",
      "Кудрово                            деревня Старая Пустошь             поселок городского типа Синявино\n",
      "Лодейное Поле                      деревня Старое Хинколово           поселок городского типа Советский\n",
      "Ломоносов                          деревня Старополье                 поселок городского типа Токсово\n",
      "Луга                               деревня Старосиверская             поселок городского типа Форносово\n",
      "Любань                             деревня Старые Бегуницы            поселок городского типа имени Свердлова\n",
      "Мурино                             деревня Суоранда                   поселок станции Вещево\n",
      "Никольское                         деревня Сяськелево                 поселок станции Корнево\n",
      "Новая Ладога                       деревня Тарасово                   поселок станции Лужайка\n",
      "Отрадное                           деревня Терпилицы                  поселок станции Приветнинское\n",
      "Павловск                           деревня Тихковицы                  посёлок Александровская\n",
      "Петергоф                           деревня Тойворово                  посёлок Алексеевка\n",
      "Пикалёво                           деревня Торосово                   посёлок Аннино\n",
      "Подпорожье                         деревня Торошковичи                посёлок Белоостров\n",
      "Приморск                           деревня Трубников Бор              посёлок Бугры\n",
      "Приозерск                          деревня Фалилеево                  посёлок Возрождение\n",
      "Пушкин                             деревня Фёдоровское                посёлок Войскорово\n",
      "Санкт-Петербург                    деревня Хапо-Ое                    посёлок Высокоключевой\n",
      "Светогорск                         деревня Хязельки                   посёлок Гаврилово\n",
      "Сертолово                          деревня Чудской Бор                посёлок Дзержинского\n",
      "Сестрорецк                         деревня Шпаньково                  посёлок Жилгородок\n",
      "Сланцы                             деревня Щеглово                    посёлок Ильичёво\n",
      "Сосновый Бор                       деревня Юкки                       посёлок Кикерино\n",
      "Сясьстрой                          деревня Ялгино                     посёлок Кобралово\n",
      "Тихвин                             деревня Яльгелево                  посёлок Коробицыно\n",
      "Тосно                              деревня Ям-Тесово                  посёлок Левашово\n",
      "Шлиссельбург                       коттеджный поселок Кивеннапа Север посёлок Ленинское\n",
      "городской поселок Большая Ижора    коттеджный поселок Счастье         посёлок Лисий Нос\n",
      "городской поселок Янино-1          коттеджный посёлок Лесное          посёлок Мельниково\n",
      "городской посёлок Будогощь         поселок Аннино                     посёлок Металлострой\n",
      "городской посёлок Виллози          поселок Барышево                   посёлок Мичуринское\n",
      "городской посёлок Лесогорский      поселок Бугры                      посёлок Молодёжное\n",
      "городской посёлок Мга              поселок Возрождение                посёлок Мурино\n",
      "городской посёлок Назия            поселок Войсковицы                 посёлок Мыза-Ивановка\n",
      "городской посёлок Новоселье        поселок Володарское                посёлок Новогорелово\n",
      "городской посёлок Павлово          поселок Гаврилово                  посёлок Новый Свет\n",
      "городской посёлок Рощино           поселок Гарболово                  посёлок Пансионат Зелёный Бор\n",
      "городской посёлок Свирьстрой       поселок Гладкое                    посёлок Парголово\n",
      "городской посёлок Советский        поселок Глажево                    посёлок Перово\n",
      "городской посёлок Фёдоровское      поселок Глебычево                  посёлок Песочный\n",
      "городской посёлок Янино-1          поселок Гончарово                  посёлок Петро-Славянка\n",
      "деревня Агалатово                  поселок Громово                    посёлок Петровское\n",
      "деревня Аро                        поселок Дружноселье                посёлок Платформа 69-й километр\n",
      "деревня Батово                     поселок Елизаветино                посёлок Плодовое\n",
      "деревня Бегуницы                   поселок Жилгородок                 посёлок Плоское\n",
      "деревня Белогорка                  поселок Жилпосёлок                 посёлок Победа\n",
      "деревня Большая Вруда              поселок Житково                    посёлок Поляны\n",
      "деревня Большая Пустомержа         поселок Заводской                  посёлок Понтонный\n",
      "деревня Большие Колпаны            поселок Запорожское                посёлок Пригородный\n",
      "деревня Большое Рейзино            поселок Зимитицы                   посёлок Пудость\n",
      "деревня Большой Сабск              поселок Ильичёво                   посёлок Репино\n",
      "деревня Бор                        поселок Калитино                   посёлок Ропша\n",
      "деревня Борисова Грива             поселок Каложицы                   посёлок Сапёрное\n",
      "деревня Ваганово                   поселок Кингисеппский              посёлок Сапёрный\n",
      "деревня Вартемяги                  поселок Кирпичное                  посёлок Сосново\n",
      "деревня Вахнова Кара               поселок Кобралово                  посёлок Старая Малукса\n",
      "деревня Выскатка                   поселок Кобринское                 посёлок Стеклянный\n",
      "деревня Гарболово                  поселок Коммунары                  посёлок Стрельна\n",
      "деревня Глинка                     поселок Коробицыно                 посёлок Суйда\n",
      "деревня Горбунки                   поселок Котельский                 посёлок Сумино\n",
      "деревня Гостилицы                  поселок Красная Долина             посёлок Тельмана\n",
      "деревня Заклинье                   поселок Красносельское             посёлок Терволово\n",
      "деревня Заневка                    поселок Лесное                     посёлок Торфяное\n",
      "деревня Зимитицы                   поселок Лисий Нос                  посёлок Усть-Ижора\n",
      "деревня Извара                     поселок Лукаши                     посёлок Усть-Луга\n",
      "деревня Иссад                      поселок Любань                     посёлок Форт Красная Горка\n",
      "деревня Калитино                   поселок Мельниково                 посёлок Шугозеро\n",
      "деревня Кальтино                   поселок Мичуринское                посёлок Шушары\n",
      "деревня Камышовка                  поселок Молодцово                  посёлок Щеглово\n",
      "деревня Каськово                   поселок Мурино                     посёлок городского типа Важины\n",
      "деревня Келози                     поселок Новый Свет                 посёлок городского типа Вознесенье\n",
      "деревня Кипень                     поселок Новый Учхоз                посёлок городского типа Вырица\n",
      "деревня Кисельня                   поселок Оредеж                     посёлок городского типа Красный Бор\n",
      "деревня Колтуши                    поселок Пансионат Зелёный Бор      посёлок городского типа Кузнечное\n",
      "деревня Коркино                    поселок Первомайское               посёлок городского типа Кузьмоловский\n",
      "деревня Котлы                      поселок Перово                     посёлок городского типа Лебяжье\n",
      "деревня Кривко                     поселок Петровское                 посёлок городского типа Мга\n",
      "деревня Кудрово                    поселок Победа                     посёлок городского типа Павлово\n",
      "деревня Кузьмолово                 поселок Поляны                     посёлок городского типа Рощино\n",
      "деревня Курковицы                  поселок Почап                      посёлок городского типа Рябово\n",
      "деревня Куровицы                   поселок Починок                    посёлок городского типа Сиверский\n",
      "деревня Куттузи                    поселок Пушное                     посёлок городского типа Тайцы\n",
      "деревня Лаврики                    поселок Пчевжа                     посёлок городского типа Токсово\n",
      "деревня Лаголово                   поселок Рабитицы                   посёлок городского типа Ульяновка\n",
      "деревня Лампово                    поселок Романовка                  посёлок городского типа Форносово\n",
      "деревня Лесколово                  поселок Ромашки                    посёлок городского типа имени Морозова\n",
      "деревня Лопухинка                  поселок Рябово                     посёлок городского типа имени Свердлова\n",
      "деревня Лупполово                  поселок Севастьяново               посёлок при железнодорожной станции Вещево\n",
      "деревня Малая Романовка            поселок Селезнёво                  посёлок при железнодорожной станции Приветнинское\n",
      "деревня Малое Верево               поселок Сельцо                     посёлок станции Громово\n",
      "деревня Малое Карлино              поселок Семиозерье                 посёлок станции Свирь\n",
      "деревня Малые Колпаны              поселок Семрино                    садоводческое некоммерческое товарищество Лесная Поляна\n",
      "деревня Мануйлово                  поселок Серебрянский               садовое товарищество Новая Ропша\n",
      "деревня Меньково                   поселок Совхозный                  садовое товарищество Приладожский\n",
      "деревня Мины                       поселок Старая Малукса             садовое товарищество Рахья\n",
      "деревня Мистолово                  поселок Стеклянный                 садовое товарищество Садко\n",
      "деревня Ненимяки                   поселок Сумино                     село Копорье\n",
      "деревня Нижние Осельки             поселок Суходолье                  село Никольское\n",
      "деревня Нижняя                     поселок Тельмана                   село Павлово\n",
      "деревня Низино                     поселок Терволово                  село Паша\n",
      "деревня Новое Девяткино            поселок Торковичи                  село Путилово\n",
      "деревня Новолисино                 поселок Тёсово-4                   село Рождествено\n",
      "деревня Нурма                      поселок Углово                     село Русско-Высоцкое\n",
      "деревня Оржицы                     поселок Усть-Луга                  село Старая Ладога\n"
     ]
    }
   ],
   "source": [
    "my_list = sorted(data['locality_name'].unique())\n",
    "n = len(my_list)\n",
    "for first, second, third in zip(my_list[:n//3], my_list[n//3:2*n//3], my_list[2*n//3:]):\n",
    "    print(f'{first: <35}{second: <35}{third}')"
   ]
  },
  {
   "cell_type": "markdown",
   "metadata": {},
   "source": [
    "Основные дупликаты появляются за счет разного написания слов, обозначающие тип населенного пункта. Для удобства введем общепринятые сокращения."
   ]
  },
  {
   "cell_type": "code",
   "execution_count": 26,
   "metadata": {},
   "outputs": [],
   "source": [
    "def type_of_locality_abbr(locality_name): #функция ввода аббревиатур\n",
    "    replacement_dictionary = {'городской поселок': 'пгт.', \n",
    "                              'городской посёлок': 'пгт.',\n",
    "                              'поселок городского типа': 'пгт.', \n",
    "                              'посёлок городского типа': 'пгт.',\n",
    "                              'коттеджный поселок': 'кп.',\n",
    "                              'коттеджный посёлок': 'кп.',\n",
    "                              'поселок': 'п.', \n",
    "                              'посёлок': 'п.',\n",
    "                              'деревня': 'д.',\n",
    "                              'садоводческое некоммерческое товарищество': 'снт.', \n",
    "                              'садовое товарищество': 'снт.', \n",
    "                              'село': 'с.'}\n",
    "    new_name = locality_name\n",
    "    for before, after in replacement_dictionary.items():\n",
    "        new_name = new_name.replace(before, after)\n",
    "    return new_name\n",
    "        \n",
    "data['locality_name'] = data['locality_name'].apply(type_of_locality_abbr)"
   ]
  },
  {
   "cell_type": "code",
   "execution_count": 27,
   "metadata": {
    "scrolled": true
   },
   "outputs": [
    {
     "name": "stdout",
     "output_type": "stream",
     "text": [
      "unknown                            д. Пельгора                        п. Петровское\n",
      "Бокситогорск                       д. Пеники                          п. Платформа 69-й километр\n",
      "Волосово                           д. Пижма                           п. Плодовое\n",
      "Волхов                             д. Пикколово                       п. Плоское\n",
      "Всеволожск                         д. Пудомяги                        п. Победа\n",
      "Выборг                             д. Пустынка                        п. Поляны\n",
      "Высоцк                             д. Пчева                           п. Понтонный\n",
      "Гатчина                            д. Рабитицы                        п. Почап\n",
      "Зеленогорск                        д. Разбегаево                      п. Починок\n",
      "Ивангород                          д. Раздолье                        п. Пригородный\n",
      "Каменногорск                       д. Разметелево                     п. Пудость\n",
      "Кингисепп                          д. Рапполово                       п. Пушное\n",
      "Кириши                             д. Реброво                         п. Пчевжа\n",
      "Кировск                            д. Русско                          п. Рабитицы\n",
      "Колпино                            д. Сижно                           п. Репино\n",
      "Коммунар                           д. Снегирёвка                      п. Романовка\n",
      "Красное Село                       д. Старая                          п. Ромашки\n",
      "Кронштадт                          д. Старая Пустошь                  п. Ропша\n",
      "Кудрово                            д. Старое Хинколово                п. Рябово\n",
      "Лодейное Поле                      д. Старополье                      п. Сапёрное\n",
      "Ломоносов                          д. Старосиверская                  п. Сапёрный\n",
      "Луга                               д. Старые Бегуницы                 п. Севастьяново\n",
      "Любань                             д. Суоранда                        п. Селезнёво\n",
      "Мурино                             д. Сяськелево                      п. Сельцо\n",
      "Никольское                         д. Тарасово                        п. Семиозерье\n",
      "Новая Ладога                       д. Терпилицы                       п. Семрино\n",
      "Отрадное                           д. Тихковицы                       п. Серебрянский\n",
      "Павловск                           д. Тойворово                       п. Совхозный\n",
      "Петергоф                           д. Торосово                        п. Сосново\n",
      "Пикалёво                           д. Торошковичи                     п. Старая Малукса\n",
      "Подпорожье                         д. Трубников Бор                   п. Стеклянный\n",
      "Приморск                           д. Фалилеево                       п. Стрельна\n",
      "Приозерск                          д. Фёдоровское                     п. Суйда\n",
      "Пушкин                             д. Хапо-Ое                         п. Сумино\n",
      "Санкт-Петербург                    д. Хязельки                        п. Суходолье\n",
      "Светогорск                         д. Чудской Бор                     п. Тельмана\n",
      "Сертолово                          д. Шпаньково                       п. Терволово\n",
      "Сестрорецк                         д. Щеглово                         п. Торковичи\n",
      "Сланцы                             д. Юкки                            п. Торфяное\n",
      "Сосновый Бор                       д. Ялгино                          п. Тёсово-4\n",
      "Сясьстрой                          д. Яльгелево                       п. Углово\n",
      "Тихвин                             д. Ям-Тесово                       п. Усть-Ижора\n",
      "Тосно                              кп. Кивеннапа Север                п. Усть-Луга\n",
      "Шлиссельбург                       кп. Лесное                         п. Ушаки\n",
      "д. Агалатово                       кп. Счастье                        п. Форт Красная Горка\n",
      "д. Аро                             п. Александровская                 п. Цвелодубово\n",
      "д. Батово                          п. Алексеевка                      п. Цвылёво\n",
      "д. Бегуницы                        п. Аннино                          п. Шугозеро\n",
      "д. Белогорка                       п. Барышево                        п. Шушары\n",
      "д. Большая Вруда                   п. Белоостров                      п. Щеглово\n",
      "д. Большая Пустомержа              п. Бугры                           п. при железнодорожной станции Вещево\n",
      "д. Большие Колпаны                 п. Возрождение                     п. при железнодорожной станции Приветнинское\n",
      "д. Большое Рейзино                 п. Войсковицы                      п. станции Вещево\n",
      "д. Большой Сабск                   п. Войскорово                      п. станции Громово\n",
      "д. Бор                             п. Володарское                     п. станции Корнево\n",
      "д. Борисова Грива                  п. Высокоключевой                  п. станции Лужайка\n",
      "д. Ваганово                        п. Гаврилово                       п. станции Приветнинское\n",
      "д. Вартемяги                       п. Гарболово                       п. станции Свирь\n",
      "д. Вахнова Кара                    п. Гладкое                         пгт. Большая Ижора\n",
      "д. Выскатка                        п. Глажево                         пгт. Будогощь\n",
      "д. Гарболово                       п. Глебычево                       пгт. Важины\n",
      "д. Глинка                          п. Гончарово                       пгт. Виллози\n",
      "д. Горбунки                        п. Громово                         пгт. Вознесенье\n",
      "д. Гостилицы                       п. Дзержинского                    пгт. Вырица\n",
      "д. Заклинье                        п. Дружноселье                     пгт. Дружная Горка\n",
      "д. Заневка                         п. Елизаветино                     пгт. Дубровка\n",
      "д. Зимитицы                        п. Жилгородок                      пгт. Ефимовский\n",
      "д. Извара                          п. Жилп.                           пгт. Кондратьево\n",
      "д. Иссад                           п. Житково                         пгт. Красный Бор\n",
      "д. Калитино                        п. Заводской                       пгт. Кузнечное\n",
      "д. Кальтино                        п. Запорожское                     пгт. Кузьмоловский\n",
      "д. Камышовка                       п. Зимитицы                        пгт. Лебяжье\n",
      "д. Каськово                        п. Ильичёво                        пгт. Лесогорский\n",
      "д. Келози                          п. Калитино                        пгт. Мга\n",
      "д. Кипень                          п. Каложицы                        пгт. Назия\n",
      "д. Кисельня                        п. Кикерино                        пгт. Никольский\n",
      "д. Колтуши                         п. Кингисеппский                   пгт. Новоселье\n",
      "д. Коркино                         п. Кирпичное                       пгт. Павлово\n",
      "д. Котлы                           п. Кобралово                       пгт. Приладожский\n",
      "д. Кривко                          п. Кобринское                      пгт. Рахья\n",
      "д. Кудрово                         п. Коммунары                       пгт. Рощино\n",
      "д. Кузьмолово                      п. Коробицыно                      пгт. Рябово\n",
      "д. Курковицы                       п. Котельский                      пгт. Свирьстрой\n",
      "д. Куровицы                        п. Красная Долина                  пгт. Сиверский\n",
      "д. Куттузи                         п. Красносельское                  пгт. Синявино\n",
      "д. Лаврики                         п. Левашово                        пгт. Советский\n",
      "д. Лаголово                        п. Ленинское                       пгт. Тайцы\n",
      "д. Лампово                         п. Лесное                          пгт. Токсово\n",
      "д. Лесколово                       п. Лисий Нос                       пгт. Ульяновка\n",
      "д. Лопухинка                       п. Лукаши                          пгт. Форносово\n",
      "д. Лупполово                       п. Любань                          пгт. Фёдоровское\n",
      "д. Малая Романовка                 п. Мельниково                      пгт. Янино-1\n",
      "д. Малое Верево                    п. Металлострой                    пгт. имени Морозова\n",
      "д. Малое Карлино                   п. Мичуринское                     пгт. имени Свердлова\n",
      "д. Малые Колпаны                   п. Молодцово                       с. Копорье\n",
      "д. Мануйлово                       п. Молодёжное                      с. Никольское\n",
      "д. Меньково                        п. Мурино                          с. Павлово\n",
      "д. Мины                            п. Мыза-Ивановка                   с. Паша\n",
      "д. Мистолово                       п. Новогорелово                    с. Путилово\n",
      "д. Ненимяки                        п. Новый Свет                      с. Рождествено\n",
      "д. Нижние Осельки                  п. Новый Учхоз                     с. Русско-Высоцкое\n",
      "д. Нижняя                          п. Оредеж                          с. Старая Ладога\n",
      "д. Низино                          п. Пансионат Зелёный Бор           с. Шум\n",
      "д. Новое Девяткино                 п. Парголово                       снт. Лесная Поляна\n",
      "д. Новолисино                      п. Первомайское                    снт. Новая Ропша\n",
      "д. Нурма                           п. Перово                          снт. Приладожский\n",
      "д. Оржицы                          п. Песочный                        снт. Рахья\n",
      "д. Парицы                          п. Петро-Славянка                  снт. Садко\n"
     ]
    }
   ],
   "source": [
    "my_list = sorted(data['locality_name'].unique())\n",
    "n = len(my_list)\n",
    "for first, second, third in zip(my_list[:n//3], my_list[n//3:2*n//3], my_list[2*n//3:]):\n",
    "    print(f'{first: <35}{second: <35}{third}')"
   ]
  },
  {
   "cell_type": "markdown",
   "metadata": {},
   "source": [
    "***Другие***"
   ]
  },
  {
   "cell_type": "markdown",
   "metadata": {},
   "source": [
    "Картографические данные, а именно `airports_nearest`, `cityCenters_nearest`, `parks_around3000`, `parks_nearest`, `ponds_around3000`, `ponds_nearest`, невозможно восстановить. "
   ]
  },
  {
   "cell_type": "markdown",
   "metadata": {},
   "source": [
    "Данные после предварительной обработки:"
   ]
  },
  {
   "cell_type": "code",
   "execution_count": 28,
   "metadata": {},
   "outputs": [
    {
     "data": {
      "text/html": [
       "<div>\n",
       "<style scoped>\n",
       "    .dataframe tbody tr th:only-of-type {\n",
       "        vertical-align: middle;\n",
       "    }\n",
       "\n",
       "    .dataframe tbody tr th {\n",
       "        vertical-align: top;\n",
       "    }\n",
       "\n",
       "    .dataframe thead th {\n",
       "        text-align: right;\n",
       "    }\n",
       "</style>\n",
       "<table border=\"1\" class=\"dataframe\">\n",
       "  <thead>\n",
       "    <tr style=\"text-align: right;\">\n",
       "      <th></th>\n",
       "      <th>total_images</th>\n",
       "      <th>last_price</th>\n",
       "      <th>total_area</th>\n",
       "      <th>first_day_exposition</th>\n",
       "      <th>rooms</th>\n",
       "      <th>ceiling_height</th>\n",
       "      <th>floors_total</th>\n",
       "      <th>living_area</th>\n",
       "      <th>floor</th>\n",
       "      <th>is_apartment</th>\n",
       "      <th>...</th>\n",
       "      <th>kitchen_area</th>\n",
       "      <th>balcony</th>\n",
       "      <th>locality_name</th>\n",
       "      <th>airports_nearest</th>\n",
       "      <th>cityCenters_nearest</th>\n",
       "      <th>parks_around3000</th>\n",
       "      <th>parks_nearest</th>\n",
       "      <th>ponds_around3000</th>\n",
       "      <th>ponds_nearest</th>\n",
       "      <th>days_exposition</th>\n",
       "    </tr>\n",
       "  </thead>\n",
       "  <tbody>\n",
       "    <tr>\n",
       "      <th>0</th>\n",
       "      <td>20</td>\n",
       "      <td>13000000.0</td>\n",
       "      <td>108.00</td>\n",
       "      <td>2019-03-07</td>\n",
       "      <td>3</td>\n",
       "      <td>2.70</td>\n",
       "      <td>16.0</td>\n",
       "      <td>51.000000</td>\n",
       "      <td>8</td>\n",
       "      <td>False</td>\n",
       "      <td>...</td>\n",
       "      <td>25.00</td>\n",
       "      <td>0.0</td>\n",
       "      <td>Санкт-Петербург</td>\n",
       "      <td>18863.0</td>\n",
       "      <td>16028.0</td>\n",
       "      <td>1.0</td>\n",
       "      <td>482.0</td>\n",
       "      <td>2.0</td>\n",
       "      <td>755.0</td>\n",
       "      <td>NaN</td>\n",
       "    </tr>\n",
       "    <tr>\n",
       "      <th>1</th>\n",
       "      <td>7</td>\n",
       "      <td>3350000.0</td>\n",
       "      <td>40.40</td>\n",
       "      <td>2018-12-04</td>\n",
       "      <td>1</td>\n",
       "      <td>NaN</td>\n",
       "      <td>11.0</td>\n",
       "      <td>18.600000</td>\n",
       "      <td>1</td>\n",
       "      <td>False</td>\n",
       "      <td>...</td>\n",
       "      <td>11.00</td>\n",
       "      <td>2.0</td>\n",
       "      <td>п. Шушары</td>\n",
       "      <td>12817.0</td>\n",
       "      <td>18603.0</td>\n",
       "      <td>0.0</td>\n",
       "      <td>NaN</td>\n",
       "      <td>0.0</td>\n",
       "      <td>NaN</td>\n",
       "      <td>81.0</td>\n",
       "    </tr>\n",
       "    <tr>\n",
       "      <th>2</th>\n",
       "      <td>10</td>\n",
       "      <td>5196000.0</td>\n",
       "      <td>56.00</td>\n",
       "      <td>2015-08-20</td>\n",
       "      <td>2</td>\n",
       "      <td>NaN</td>\n",
       "      <td>5.0</td>\n",
       "      <td>34.300000</td>\n",
       "      <td>4</td>\n",
       "      <td>False</td>\n",
       "      <td>...</td>\n",
       "      <td>8.30</td>\n",
       "      <td>0.0</td>\n",
       "      <td>Санкт-Петербург</td>\n",
       "      <td>21741.0</td>\n",
       "      <td>13933.0</td>\n",
       "      <td>1.0</td>\n",
       "      <td>90.0</td>\n",
       "      <td>2.0</td>\n",
       "      <td>574.0</td>\n",
       "      <td>558.0</td>\n",
       "    </tr>\n",
       "    <tr>\n",
       "      <th>3</th>\n",
       "      <td>0</td>\n",
       "      <td>64900000.0</td>\n",
       "      <td>159.00</td>\n",
       "      <td>2015-07-24</td>\n",
       "      <td>3</td>\n",
       "      <td>NaN</td>\n",
       "      <td>14.0</td>\n",
       "      <td>99.422951</td>\n",
       "      <td>9</td>\n",
       "      <td>False</td>\n",
       "      <td>...</td>\n",
       "      <td>9.10</td>\n",
       "      <td>0.0</td>\n",
       "      <td>Санкт-Петербург</td>\n",
       "      <td>28098.0</td>\n",
       "      <td>6800.0</td>\n",
       "      <td>2.0</td>\n",
       "      <td>84.0</td>\n",
       "      <td>3.0</td>\n",
       "      <td>234.0</td>\n",
       "      <td>424.0</td>\n",
       "    </tr>\n",
       "    <tr>\n",
       "      <th>4</th>\n",
       "      <td>2</td>\n",
       "      <td>10000000.0</td>\n",
       "      <td>100.00</td>\n",
       "      <td>2018-06-19</td>\n",
       "      <td>2</td>\n",
       "      <td>3.03</td>\n",
       "      <td>14.0</td>\n",
       "      <td>32.000000</td>\n",
       "      <td>13</td>\n",
       "      <td>False</td>\n",
       "      <td>...</td>\n",
       "      <td>41.00</td>\n",
       "      <td>0.0</td>\n",
       "      <td>Санкт-Петербург</td>\n",
       "      <td>31856.0</td>\n",
       "      <td>8098.0</td>\n",
       "      <td>2.0</td>\n",
       "      <td>112.0</td>\n",
       "      <td>1.0</td>\n",
       "      <td>48.0</td>\n",
       "      <td>121.0</td>\n",
       "    </tr>\n",
       "    <tr>\n",
       "      <th>5</th>\n",
       "      <td>10</td>\n",
       "      <td>2890000.0</td>\n",
       "      <td>30.40</td>\n",
       "      <td>2018-09-10</td>\n",
       "      <td>1</td>\n",
       "      <td>NaN</td>\n",
       "      <td>12.0</td>\n",
       "      <td>14.400000</td>\n",
       "      <td>5</td>\n",
       "      <td>False</td>\n",
       "      <td>...</td>\n",
       "      <td>9.10</td>\n",
       "      <td>0.0</td>\n",
       "      <td>пгт. Янино-1</td>\n",
       "      <td>NaN</td>\n",
       "      <td>NaN</td>\n",
       "      <td>NaN</td>\n",
       "      <td>NaN</td>\n",
       "      <td>NaN</td>\n",
       "      <td>NaN</td>\n",
       "      <td>55.0</td>\n",
       "    </tr>\n",
       "    <tr>\n",
       "      <th>6</th>\n",
       "      <td>6</td>\n",
       "      <td>3700000.0</td>\n",
       "      <td>37.30</td>\n",
       "      <td>2017-11-02</td>\n",
       "      <td>1</td>\n",
       "      <td>NaN</td>\n",
       "      <td>26.0</td>\n",
       "      <td>10.600000</td>\n",
       "      <td>6</td>\n",
       "      <td>False</td>\n",
       "      <td>...</td>\n",
       "      <td>14.40</td>\n",
       "      <td>1.0</td>\n",
       "      <td>п. Парголово</td>\n",
       "      <td>52996.0</td>\n",
       "      <td>19143.0</td>\n",
       "      <td>0.0</td>\n",
       "      <td>NaN</td>\n",
       "      <td>0.0</td>\n",
       "      <td>NaN</td>\n",
       "      <td>155.0</td>\n",
       "    </tr>\n",
       "    <tr>\n",
       "      <th>7</th>\n",
       "      <td>5</td>\n",
       "      <td>7915000.0</td>\n",
       "      <td>71.60</td>\n",
       "      <td>2019-04-18</td>\n",
       "      <td>2</td>\n",
       "      <td>NaN</td>\n",
       "      <td>24.0</td>\n",
       "      <td>41.476924</td>\n",
       "      <td>22</td>\n",
       "      <td>False</td>\n",
       "      <td>...</td>\n",
       "      <td>18.90</td>\n",
       "      <td>2.0</td>\n",
       "      <td>Санкт-Петербург</td>\n",
       "      <td>23982.0</td>\n",
       "      <td>11634.0</td>\n",
       "      <td>0.0</td>\n",
       "      <td>NaN</td>\n",
       "      <td>0.0</td>\n",
       "      <td>NaN</td>\n",
       "      <td>NaN</td>\n",
       "    </tr>\n",
       "    <tr>\n",
       "      <th>8</th>\n",
       "      <td>20</td>\n",
       "      <td>2900000.0</td>\n",
       "      <td>33.16</td>\n",
       "      <td>2018-05-23</td>\n",
       "      <td>1</td>\n",
       "      <td>NaN</td>\n",
       "      <td>27.0</td>\n",
       "      <td>15.430000</td>\n",
       "      <td>26</td>\n",
       "      <td>False</td>\n",
       "      <td>...</td>\n",
       "      <td>8.81</td>\n",
       "      <td>0.0</td>\n",
       "      <td>п. Мурино</td>\n",
       "      <td>NaN</td>\n",
       "      <td>NaN</td>\n",
       "      <td>NaN</td>\n",
       "      <td>NaN</td>\n",
       "      <td>NaN</td>\n",
       "      <td>NaN</td>\n",
       "      <td>189.0</td>\n",
       "    </tr>\n",
       "    <tr>\n",
       "      <th>9</th>\n",
       "      <td>18</td>\n",
       "      <td>5400000.0</td>\n",
       "      <td>61.00</td>\n",
       "      <td>2017-02-26</td>\n",
       "      <td>3</td>\n",
       "      <td>2.50</td>\n",
       "      <td>9.0</td>\n",
       "      <td>43.600000</td>\n",
       "      <td>7</td>\n",
       "      <td>False</td>\n",
       "      <td>...</td>\n",
       "      <td>6.50</td>\n",
       "      <td>2.0</td>\n",
       "      <td>Санкт-Петербург</td>\n",
       "      <td>50898.0</td>\n",
       "      <td>15008.0</td>\n",
       "      <td>0.0</td>\n",
       "      <td>NaN</td>\n",
       "      <td>0.0</td>\n",
       "      <td>NaN</td>\n",
       "      <td>289.0</td>\n",
       "    </tr>\n",
       "  </tbody>\n",
       "</table>\n",
       "<p>10 rows × 22 columns</p>\n",
       "</div>"
      ],
      "text/plain": [
       "   total_images  last_price  total_area first_day_exposition  rooms  \\\n",
       "0            20  13000000.0      108.00           2019-03-07      3   \n",
       "1             7   3350000.0       40.40           2018-12-04      1   \n",
       "2            10   5196000.0       56.00           2015-08-20      2   \n",
       "3             0  64900000.0      159.00           2015-07-24      3   \n",
       "4             2  10000000.0      100.00           2018-06-19      2   \n",
       "5            10   2890000.0       30.40           2018-09-10      1   \n",
       "6             6   3700000.0       37.30           2017-11-02      1   \n",
       "7             5   7915000.0       71.60           2019-04-18      2   \n",
       "8            20   2900000.0       33.16           2018-05-23      1   \n",
       "9            18   5400000.0       61.00           2017-02-26      3   \n",
       "\n",
       "   ceiling_height  floors_total  living_area  floor  is_apartment  ...  \\\n",
       "0            2.70          16.0    51.000000      8         False  ...   \n",
       "1             NaN          11.0    18.600000      1         False  ...   \n",
       "2             NaN           5.0    34.300000      4         False  ...   \n",
       "3             NaN          14.0    99.422951      9         False  ...   \n",
       "4            3.03          14.0    32.000000     13         False  ...   \n",
       "5             NaN          12.0    14.400000      5         False  ...   \n",
       "6             NaN          26.0    10.600000      6         False  ...   \n",
       "7             NaN          24.0    41.476924     22         False  ...   \n",
       "8             NaN          27.0    15.430000     26         False  ...   \n",
       "9            2.50           9.0    43.600000      7         False  ...   \n",
       "\n",
       "   kitchen_area  balcony    locality_name  airports_nearest  \\\n",
       "0         25.00      0.0  Санкт-Петербург           18863.0   \n",
       "1         11.00      2.0        п. Шушары           12817.0   \n",
       "2          8.30      0.0  Санкт-Петербург           21741.0   \n",
       "3          9.10      0.0  Санкт-Петербург           28098.0   \n",
       "4         41.00      0.0  Санкт-Петербург           31856.0   \n",
       "5          9.10      0.0     пгт. Янино-1               NaN   \n",
       "6         14.40      1.0     п. Парголово           52996.0   \n",
       "7         18.90      2.0  Санкт-Петербург           23982.0   \n",
       "8          8.81      0.0        п. Мурино               NaN   \n",
       "9          6.50      2.0  Санкт-Петербург           50898.0   \n",
       "\n",
       "  cityCenters_nearest  parks_around3000  parks_nearest  ponds_around3000  \\\n",
       "0             16028.0               1.0          482.0               2.0   \n",
       "1             18603.0               0.0            NaN               0.0   \n",
       "2             13933.0               1.0           90.0               2.0   \n",
       "3              6800.0               2.0           84.0               3.0   \n",
       "4              8098.0               2.0          112.0               1.0   \n",
       "5                 NaN               NaN            NaN               NaN   \n",
       "6             19143.0               0.0            NaN               0.0   \n",
       "7             11634.0               0.0            NaN               0.0   \n",
       "8                 NaN               NaN            NaN               NaN   \n",
       "9             15008.0               0.0            NaN               0.0   \n",
       "\n",
       "   ponds_nearest  days_exposition  \n",
       "0          755.0              NaN  \n",
       "1            NaN             81.0  \n",
       "2          574.0            558.0  \n",
       "3          234.0            424.0  \n",
       "4           48.0            121.0  \n",
       "5            NaN             55.0  \n",
       "6            NaN            155.0  \n",
       "7            NaN              NaN  \n",
       "8            NaN            189.0  \n",
       "9            NaN            289.0  \n",
       "\n",
       "[10 rows x 22 columns]"
      ]
     },
     "execution_count": 28,
     "metadata": {},
     "output_type": "execute_result"
    }
   ],
   "source": [
    "data.head(10)"
   ]
  },
  {
   "cell_type": "code",
   "execution_count": 29,
   "metadata": {
    "scrolled": true
   },
   "outputs": [
    {
     "name": "stdout",
     "output_type": "stream",
     "text": [
      "<class 'pandas.core.frame.DataFrame'>\n",
      "RangeIndex: 23699 entries, 0 to 23698\n",
      "Data columns (total 22 columns):\n",
      " #   Column                Non-Null Count  Dtype         \n",
      "---  ------                --------------  -----         \n",
      " 0   total_images          23699 non-null  int64         \n",
      " 1   last_price            23699 non-null  float64       \n",
      " 2   total_area            23699 non-null  float64       \n",
      " 3   first_day_exposition  23699 non-null  datetime64[ns]\n",
      " 4   rooms                 23699 non-null  int64         \n",
      " 5   ceiling_height        14504 non-null  float64       \n",
      " 6   floors_total          23613 non-null  float64       \n",
      " 7   living_area           23699 non-null  float64       \n",
      " 8   floor                 23699 non-null  int64         \n",
      " 9   is_apartment          23699 non-null  bool          \n",
      " 10  studio                23699 non-null  bool          \n",
      " 11  open_plan             23699 non-null  bool          \n",
      " 12  kitchen_area          23699 non-null  float64       \n",
      " 13  balcony               23699 non-null  float64       \n",
      " 14  locality_name         23699 non-null  object        \n",
      " 15  airports_nearest      18157 non-null  float64       \n",
      " 16  cityCenters_nearest   18180 non-null  float64       \n",
      " 17  parks_around3000      18181 non-null  float64       \n",
      " 18  parks_nearest         8079 non-null   float64       \n",
      " 19  ponds_around3000      18181 non-null  float64       \n",
      " 20  ponds_nearest         9110 non-null   float64       \n",
      " 21  days_exposition       20518 non-null  float64       \n",
      "dtypes: bool(3), datetime64[ns](1), float64(14), int64(3), object(1)\n",
      "memory usage: 3.5+ MB\n"
     ]
    }
   ],
   "source": [
    "data.info()"
   ]
  },
  {
   "cell_type": "markdown",
   "metadata": {},
   "source": [
    "### Создание дополнительных столбцов"
   ]
  },
  {
   "cell_type": "markdown",
   "metadata": {},
   "source": [
    "На основе имеющихся данных введем дополнительные столбцы:\n",
    "\n",
    "- `price_per_square_meter` - цена одного квадратного метра\n",
    "- `weekday_exposition` - день недели публикации объявления\n",
    "- `month_exposition` - месяц публикации объявления\n",
    "- `year_exposition` - год публикации объявления"
   ]
  },
  {
   "cell_type": "code",
   "execution_count": 30,
   "metadata": {},
   "outputs": [],
   "source": [
    "# Цена квадратного метра\n",
    "data['price_per_square_meter'] = data['last_price'] / data['total_area']\n",
    "\n",
    "# День недели, в который было опубликовано объявление\n",
    "data['weekday_exposition'] = data['first_day_exposition'].dt.weekday\n",
    "\n",
    "# Месяц публикации\n",
    "data['month_exposition'] = data['first_day_exposition'].dt.month\n",
    "\n",
    "# Год публикации\n",
    "data['year_exposition'] = data['first_day_exposition'].dt.year"
   ]
  },
  {
   "cell_type": "markdown",
   "metadata": {},
   "source": [
    "Введем категоризацию в соответствии с этажом, на котором расположена квартира:\n",
    " - `первый`\n",
    " - `последний`\n",
    " - `другой`"
   ]
  },
  {
   "cell_type": "code",
   "execution_count": 31,
   "metadata": {},
   "outputs": [],
   "source": [
    "def floor_category(row):\n",
    "    floors_total = row['floors_total']\n",
    "    floor = row['floor']\n",
    "    if floor == 1:\n",
    "        return 'первый'\n",
    "    if floor == floors_total:\n",
    "        return 'последний'\n",
    "    if 1 < floor < floors_total:\n",
    "        return 'другой'\n",
    "      \n",
    "data['floor_category'] = data.apply(floor_category, axis = 1)"
   ]
  },
  {
   "cell_type": "markdown",
   "metadata": {},
   "source": [
    "Для удобства переведем расстояние до центра и до ближайшего аэропорта в км:"
   ]
  },
  {
   "cell_type": "code",
   "execution_count": 32,
   "metadata": {},
   "outputs": [],
   "source": [
    "data['cityCenters_nearest'] = (data['cityCenters_nearest'] / 1000).round(0).astype('int', errors='ignore')\n",
    "data['airports_nearest'] = (data['airports_nearest'] / 1000).astype('int', errors='ignore')"
   ]
  },
  {
   "cell_type": "markdown",
   "metadata": {},
   "source": [
    "### Проведите исследовательский анализ данных"
   ]
  },
  {
   "cell_type": "markdown",
   "metadata": {},
   "source": [
    "#### Исследование параметров объектов\n",
    "\n",
    "##### Общая площадь"
   ]
  },
  {
   "cell_type": "code",
   "execution_count": 33,
   "metadata": {},
   "outputs": [
    {
     "data": {
      "text/plain": [
       "count    23699.000000\n",
       "mean        60.348651\n",
       "std         35.654083\n",
       "min         12.000000\n",
       "25%         40.000000\n",
       "50%         52.000000\n",
       "75%         69.900000\n",
       "max        900.000000\n",
       "Name: total_area, dtype: float64"
      ]
     },
     "execution_count": 33,
     "metadata": {},
     "output_type": "execute_result"
    }
   ],
   "source": [
    "data['total_area'].describe()"
   ]
  },
  {
   "cell_type": "code",
   "execution_count": 34,
   "metadata": {
    "scrolled": false
   },
   "outputs": [
    {
     "data": {
      "image/png": "[encoded data removed]",
      "text/plain": [
       "<Figure size 1080x432 with 1 Axes>"
      ]
     },
     "metadata": {
      "needs_background": "light"
     },
     "output_type": "display_data"
    }
   ],
   "source": [
    "data['total_area'].hist(bins=180, figsize=(15, 6))\n",
    "None"
   ]
  },
  {
   "cell_type": "markdown",
   "metadata": {},
   "source": [
    "**Вывод:**\n",
    "\n",
    "Средняя площадь квартир - 60 кв.м., медианная - 52 кв.м. Большая часть квартир имеет площадь от 20 до 100 кв.м. Затем наблюдается резкое уменьшение количества квартир."
   ]
  },
  {
   "cell_type": "markdown",
   "metadata": {},
   "source": [
    "##### Жилая площадь"
   ]
  },
  {
   "cell_type": "code",
   "execution_count": 35,
   "metadata": {},
   "outputs": [
    {
     "data": {
      "text/plain": [
       "count    23699.000000\n",
       "mean        34.666591\n",
       "std         22.765091\n",
       "min          2.000000\n",
       "25%         18.764032\n",
       "50%         30.000000\n",
       "75%         42.300000\n",
       "max        415.185969\n",
       "Name: living_area, dtype: float64"
      ]
     },
     "execution_count": 35,
     "metadata": {},
     "output_type": "execute_result"
    }
   ],
   "source": [
    "data['living_area'].describe()"
   ]
  },
  {
   "cell_type": "code",
   "execution_count": 36,
   "metadata": {},
   "outputs": [
    {
     "data": {
      "image/png": "[encoded data removed]",
      "text/plain": [
       "<Figure size 1080x432 with 1 Axes>"
      ]
     },
     "metadata": {
      "needs_background": "light"
     },
     "output_type": "display_data"
    }
   ],
   "source": [
    "data['living_area'].hist(bins=100, figsize=(15, 6))\n",
    "None"
   ]
  },
  {
   "cell_type": "markdown",
   "metadata": {},
   "source": [
    "Присутствуют 2 пика. Посмотрим более подробно квартиры с жилой площадью до 100 кв.м.:"
   ]
  },
  {
   "cell_type": "code",
   "execution_count": 37,
   "metadata": {
    "scrolled": false
   },
   "outputs": [
    {
     "data": {
      "image/png": "[encoded data removed]",
      "text/plain": [
       "<Figure size 1080x432 with 1 Axes>"
      ]
     },
     "metadata": {
      "needs_background": "light"
     },
     "output_type": "display_data"
    }
   ],
   "source": [
    "data['living_area'].hist(bins=100, range=(0,100), figsize=(15, 6))\n",
    "None"
   ]
  },
  {
   "cell_type": "markdown",
   "metadata": {},
   "source": [
    "Присутствуют даже 3 локальных пика: 17кв.м., 32 кв.м. и 44 кв.м. Предположительно эти пики возникают из-за разного распределения жилой площади в зависимости от количества комнат. Для проверки построим отдельно гистограммы для 1-комнатных, 2-комнатных и 3-комнатных квартир:"
   ]
  },
  {
   "cell_type": "code",
   "execution_count": 38,
   "metadata": {},
   "outputs": [
    {
     "data": {
      "image/png": "[encoded data removed]",
      "text/plain": [
       "<Figure size 1080x432 with 1 Axes>"
      ]
     },
     "metadata": {
      "needs_background": "light"
     },
     "output_type": "display_data"
    }
   ],
   "source": [
    "fig, ax = plt.subplots()\n",
    "for room_count in range(1,4):\n",
    "    data.loc[data['rooms'] == room_count, 'living_area'].hist(bins=50, range=(0,100), figsize=(15,6), alpha = 0.5)\n",
    "ax.legend(['1-комнатные', '2-комнатные', '3-комнатные'])\n",
    "None"
   ]
  },
  {
   "cell_type": "code",
   "execution_count": 39,
   "metadata": {},
   "outputs": [
    {
     "name": "stdout",
     "output_type": "stream",
     "text": [
      "Средняя жилая площадь 1-комнатных квартир: 18.0 кв.м.\n",
      "Средняя жилая площадь 2-комнатных квартир: 31.8 кв.м.\n",
      "Средняя жилая площадь 3-комнатных квартир: 47.7 кв.м.\n"
     ]
    }
   ],
   "source": [
    "for room_count in range(1,4):\n",
    "    print('Средняя жилая площадь ' + str(room_count) + '-комнатных квартир:', \n",
    "          round(data.loc[data['rooms'] == room_count, 'living_area'].mean(), 1), 'кв.м.')"
   ]
  },
  {
   "cell_type": "markdown",
   "metadata": {},
   "source": [
    "Пики на отдельных гистограммах совпадают с пиками на общей. В данных присутствуют квартиры и с другим количеством комнат, однако они не создают дополнительных пиков, так как их намного меньше."
   ]
  },
  {
   "cell_type": "markdown",
   "metadata": {},
   "source": [
    "**Вывод:**\n",
    "\n",
    "Распределение жилой площади квартир отличается от распределения Пуассона, так как сильно зависит от количества комнат. Наибольшее влияние оказывают 1-3-комнатные квартиры, поскольку их намного больше, чем остальных. Пики находятся на ~17, ~32 и ~48 кв.м. для 1-комнатных, 2-комнатных и 3-комнатных квартир соответственно."
   ]
  },
  {
   "cell_type": "markdown",
   "metadata": {},
   "source": [
    "##### Площадь кухни"
   ]
  },
  {
   "cell_type": "code",
   "execution_count": 40,
   "metadata": {},
   "outputs": [
    {
     "data": {
      "text/plain": [
       "count    23699.000000\n",
       "mean        10.428526\n",
       "std          5.631126\n",
       "min          1.300000\n",
       "25%          7.400000\n",
       "50%          9.100000\n",
       "75%         11.440000\n",
       "max        112.000000\n",
       "Name: kitchen_area, dtype: float64"
      ]
     },
     "execution_count": 40,
     "metadata": {},
     "output_type": "execute_result"
    }
   ],
   "source": [
    "data['kitchen_area'].describe()"
   ]
  },
  {
   "cell_type": "code",
   "execution_count": 41,
   "metadata": {},
   "outputs": [
    {
     "data": {
      "image/png": "[encoded data removed]",
      "text/plain": [
       "<Figure size 1080x432 with 1 Axes>"
      ]
     },
     "metadata": {
      "needs_background": "light"
     },
     "output_type": "display_data"
    }
   ],
   "source": [
    "data['kitchen_area'].hist(bins=50, figsize=(15, 6))\n",
    "None"
   ]
  },
  {
   "cell_type": "code",
   "execution_count": 42,
   "metadata": {},
   "outputs": [
    {
     "data": {
      "image/png": "[encoded data removed]",
      "text/plain": [
       "<Figure size 1080x432 with 1 Axes>"
      ]
     },
     "metadata": {
      "needs_background": "light"
     },
     "output_type": "display_data"
    }
   ],
   "source": [
    "fig, ax = plt.subplots()\n",
    "for room_count in range(1,4):\n",
    "    data.loc[data['rooms'] == room_count, 'kitchen_area'].hist(bins=50, range=(0,100), figsize=(15,6), alpha = 0.5)\n",
    "ax.legend(['1-комнатные', '2-комнатные', '3-комнатные'])\n",
    "None"
   ]
  },
  {
   "cell_type": "markdown",
   "metadata": {},
   "source": [
    "**Вывод:**\n",
    "\n",
    "Размеры кухни мало зависят от других параметров квартир, в среднем площадь кухни равна 10 кв.м, и большая часть кухонь имеет площадь менее 20 кв.м."
   ]
  },
  {
   "cell_type": "markdown",
   "metadata": {},
   "source": [
    "##### Количество комнат"
   ]
  },
  {
   "cell_type": "code",
   "execution_count": 43,
   "metadata": {},
   "outputs": [
    {
     "data": {
      "image/png": "[encoded data removed]",
      "text/plain": [
       "<Figure size 1080x432 with 1 Axes>"
      ]
     },
     "metadata": {
      "needs_background": "light"
     },
     "output_type": "display_data"
    }
   ],
   "source": [
    "data.groupby('rooms')['last_price'].count().plot.bar(rot=0, grid=True, figsize=(15, 6))\n",
    "None"
   ]
  },
  {
   "cell_type": "markdown",
   "metadata": {},
   "source": [
    "**Вывод:**\n",
    "\n",
    "Самые популярные квартиры - 1, 2 и 3-комнатные, они составляют более 90% от всех объектов. Квартир с количеством комнат более 7 практически нет, единичные случаи."
   ]
  },
  {
   "cell_type": "markdown",
   "metadata": {},
   "source": [
    "##### Выстота потолков"
   ]
  },
  {
   "cell_type": "code",
   "execution_count": 44,
   "metadata": {},
   "outputs": [
    {
     "data": {
      "text/plain": [
       "count    14504.000000\n",
       "mean         2.732251\n",
       "std          0.387344\n",
       "min          1.000000\n",
       "25%          2.510000\n",
       "50%          2.650000\n",
       "75%          2.800000\n",
       "max         22.600000\n",
       "Name: ceiling_height, dtype: float64"
      ]
     },
     "execution_count": 44,
     "metadata": {},
     "output_type": "execute_result"
    }
   ],
   "source": [
    "data['ceiling_height'].describe()"
   ]
  },
  {
   "cell_type": "code",
   "execution_count": 45,
   "metadata": {},
   "outputs": [
    {
     "data": {
      "image/png": "[encoded data removed]",
      "text/plain": [
       "<Figure size 1080x432 with 1 Axes>"
      ]
     },
     "metadata": {
      "needs_background": "light"
     },
     "output_type": "display_data"
    }
   ],
   "source": [
    "data['ceiling_height'].hist(bins=113, figsize=(15, 6))\n",
    "None"
   ]
  },
  {
   "cell_type": "markdown",
   "metadata": {},
   "source": [
    "Большая часть квартир имеет высоту потолков до 5 м. Рассмотрим подробнее этот промежуток:"
   ]
  },
  {
   "cell_type": "code",
   "execution_count": 46,
   "metadata": {},
   "outputs": [
    {
     "data": {
      "image/png": "[encoded data removed]",
      "text/plain": [
       "<Figure size 1080x432 with 1 Axes>"
      ]
     },
     "metadata": {
      "needs_background": "light"
     },
     "output_type": "display_data"
    }
   ],
   "source": [
    "data.loc[data['ceiling_height'] <= 5, 'ceiling_height'].hist(bins=40, figsize=(15, 6))\n",
    "None"
   ]
  },
  {
   "cell_type": "markdown",
   "metadata": {},
   "source": [
    "При более подробном рассмотрении обнаруживается, что распределение неравномерно. Вероятно, это связано с тем, что в России существуют типовые квартиры с определенными высотами потолков:\n",
    " - \"хрущевки\" - 2.5 м\n",
    " - \"сталинки\" - 3 м и выше\n",
    " - Современные новостройки - 2.5-2.7 м. \n",
    " \n",
    "*Замечание:* Информация из Google"
   ]
  },
  {
   "cell_type": "markdown",
   "metadata": {},
   "source": [
    "**Вывод:**\n",
    "\n",
    "У большинства квартир высота потолков не превышает 5 м. Распределение отличается от пуассоновского, присутствуют пики на значениях 2.5 м, 2.6 м и 3 м, связанные со стандартными значениями."
   ]
  },
  {
   "cell_type": "markdown",
   "metadata": {},
   "source": [
    "##### Этаж квартиры"
   ]
  },
  {
   "cell_type": "code",
   "execution_count": 47,
   "metadata": {},
   "outputs": [
    {
     "data": {
      "image/png": "[encoded data removed]",
      "text/plain": [
       "<Figure size 1080x432 with 1 Axes>"
      ]
     },
     "metadata": {
      "needs_background": "light"
     },
     "output_type": "display_data"
    }
   ],
   "source": [
    "data.groupby('floor')['last_price'].count().plot.bar(rot=0, grid=True, figsize=(15, 6))\n",
    "None"
   ]
  },
  {
   "cell_type": "markdown",
   "metadata": {},
   "source": [
    "**Вывод:**\n",
    "\n",
    "С увеличением этажа количество квартир уменьшается, так как уменьшается количество домов такой этажности. Однако на 1 этаже квартир меньше, чем на 2, хотя первый этаж присутствует в любом доме. Это может быть связано с тем, что на первых этажах много коммерческих помещений.\n",
    "\n",
    "Более 60% квартир находятся на 1-5 этажах, затем на графике наболюдается резкий спад. Возможно, это связано с популярностью 4-5 этажных домов."
   ]
  },
  {
   "cell_type": "markdown",
   "metadata": {},
   "source": [
    "##### Тип этажа квартиры"
   ]
  },
  {
   "cell_type": "code",
   "execution_count": 48,
   "metadata": {
    "scrolled": false
   },
   "outputs": [
    {
     "data": {
      "image/png": "[encoded data removed]",
      "text/plain": [
       "<Figure size 1080x432 with 1 Axes>"
      ]
     },
     "metadata": {
      "needs_background": "light"
     },
     "output_type": "display_data"
    }
   ],
   "source": [
    "data.groupby('floor_category')['last_price'].count().plot.bar(rot=0, grid=True, figsize=(15, 6))\n",
    "None"
   ]
  },
  {
   "cell_type": "markdown",
   "metadata": {},
   "source": [
    "**Вывод:**\n",
    "\n",
    "Около 70% квартир находятся на этаже, отличном от первого. Квартир на первом этаже немного меньше, чем на последнем."
   ]
  },
  {
   "cell_type": "markdown",
   "metadata": {},
   "source": [
    "##### Расстояние до центра города"
   ]
  },
  {
   "cell_type": "code",
   "execution_count": 49,
   "metadata": {},
   "outputs": [
    {
     "data": {
      "text/plain": [
       "count    18180.000000\n",
       "mean        14.184818\n",
       "std          8.616194\n",
       "min          0.000000\n",
       "25%          9.000000\n",
       "50%         13.000000\n",
       "75%         16.000000\n",
       "max         66.000000\n",
       "Name: cityCenters_nearest, dtype: float64"
      ]
     },
     "execution_count": 49,
     "metadata": {},
     "output_type": "execute_result"
    }
   ],
   "source": [
    "data['cityCenters_nearest'].describe()"
   ]
  },
  {
   "cell_type": "code",
   "execution_count": 50,
   "metadata": {},
   "outputs": [
    {
     "data": {
      "image/png": "[encoded data removed]",
      "text/plain": [
       "<Figure size 1080x432 with 1 Axes>"
      ]
     },
     "metadata": {
      "needs_background": "light"
     },
     "output_type": "display_data"
    }
   ],
   "source": [
    "data['cityCenters_nearest'].hist(bins=65, figsize=(15, 6))\n",
    "None"
   ]
  },
  {
   "cell_type": "markdown",
   "metadata": {},
   "source": [
    "**Вывод:**\n",
    "\n",
    "График распределения удаленности от центра неравномерен, так как в графике учитывается несколько населенных пунктов, и для каждого из них будет свое распределение. Даже в рамках одного города могут чередоваться жилые и нежилые зоны, что приведет к неравномерному распределению удаленности от его центра. Также, скорее всего, доминирующим распределением станет распределение по г. Санкт-Петербург, так как в нем больше всего объектов."
   ]
  },
  {
   "cell_type": "markdown",
   "metadata": {},
   "source": [
    "##### Расстояние до ближайшего аэропорта"
   ]
  },
  {
   "cell_type": "code",
   "execution_count": 51,
   "metadata": {},
   "outputs": [
    {
     "data": {
      "text/plain": [
       "count    18157.000000\n",
       "mean        28.793672\n",
       "std         12.630881\n",
       "min          0.000000\n",
       "25%         18.585000\n",
       "50%         26.726000\n",
       "75%         37.273000\n",
       "max         84.869000\n",
       "Name: airports_nearest, dtype: float64"
      ]
     },
     "execution_count": 51,
     "metadata": {},
     "output_type": "execute_result"
    }
   ],
   "source": [
    "data['airports_nearest'].describe()"
   ]
  },
  {
   "cell_type": "code",
   "execution_count": 52,
   "metadata": {},
   "outputs": [
    {
     "data": {
      "image/png": "[encoded data removed]",
      "text/plain": [
       "<Figure size 1080x432 with 1 Axes>"
      ]
     },
     "metadata": {
      "needs_background": "light"
     },
     "output_type": "display_data"
    }
   ],
   "source": [
    "data['airports_nearest'].hist(bins=84, figsize=(15, 6))\n",
    "None"
   ]
  },
  {
   "cell_type": "markdown",
   "metadata": {},
   "source": [
    "**Вывод:**\n",
    "\n",
    "В Ленинградской области только 1 аэропорт, поэтому в общем большая часть объектов находится в радиусе 60 км от него. Однако распределние неравномерное, что связано с концентрацией квартир в населенных пунктах. "
   ]
  },
  {
   "cell_type": "markdown",
   "metadata": {},
   "source": [
    "##### Расстояние до ближайшего парка"
   ]
  },
  {
   "cell_type": "code",
   "execution_count": 53,
   "metadata": {},
   "outputs": [
    {
     "data": {
      "text/plain": [
       "count    8079.000000\n",
       "mean      490.804555\n",
       "std       342.317995\n",
       "min         1.000000\n",
       "25%       288.000000\n",
       "50%       455.000000\n",
       "75%       612.000000\n",
       "max      3190.000000\n",
       "Name: parks_nearest, dtype: float64"
      ]
     },
     "execution_count": 53,
     "metadata": {},
     "output_type": "execute_result"
    }
   ],
   "source": [
    "data['parks_nearest'].describe()"
   ]
  },
  {
   "cell_type": "code",
   "execution_count": 54,
   "metadata": {
    "scrolled": false
   },
   "outputs": [
    {
     "data": {
      "image/png": "[encoded data removed]",
      "text/plain": [
       "<Figure size 1080x432 with 1 Axes>"
      ]
     },
     "metadata": {
      "needs_background": "light"
     },
     "output_type": "display_data"
    }
   ],
   "source": [
    "data['parks_nearest'].hist(bins=100, figsize=(15, 6))\n",
    "None"
   ]
  },
  {
   "cell_type": "markdown",
   "metadata": {},
   "source": [
    "**Вывод:**\n",
    "\n",
    "Большая часть объектов находится в пределах 1 км, в среднем объекты находятся в 490 м от парка."
   ]
  },
  {
   "cell_type": "markdown",
   "metadata": {},
   "source": [
    "##### День и месяц публикации объявления"
   ]
  },
  {
   "cell_type": "code",
   "execution_count": 55,
   "metadata": {
    "scrolled": false
   },
   "outputs": [
    {
     "data": {
      "image/png": "[encoded data removed]",
      "text/plain": [
       "<Figure size 1080x432 with 1 Axes>"
      ]
     },
     "metadata": {
      "needs_background": "light"
     },
     "output_type": "display_data"
    }
   ],
   "source": [
    "data.groupby('weekday_exposition')['last_price'].count().plot.bar(rot=0, grid=True, figsize=(15, 6))\n",
    "None"
   ]
  },
  {
   "cell_type": "markdown",
   "metadata": {},
   "source": [
    "**Вывод:**\n",
    "\n",
    "В будни объявления выставляются чаще, чем в выходные, вторник и четверг являются самыми популярными днями. Понедельник, наоборот, наименее активный день среди будней."
   ]
  },
  {
   "cell_type": "markdown",
   "metadata": {},
   "source": [
    "Чтобы правильно оценить распределение по месяцам, необходимо выделить полные года. Оценим даты в базе:"
   ]
  },
  {
   "cell_type": "code",
   "execution_count": 56,
   "metadata": {},
   "outputs": [
    {
     "name": "stdout",
     "output_type": "stream",
     "text": [
      "Первое объявление 11/27/2014\n",
      "Последнее объявление 05/03/2019\n"
     ]
    }
   ],
   "source": [
    "print('Первое объявление', data['first_day_exposition'].min().strftime('%m/%d/%Y'))\n",
    "print('Последнее объявление', data['first_day_exposition'].max().strftime('%m/%d/%Y'))"
   ]
  },
  {
   "cell_type": "markdown",
   "metadata": {},
   "source": [
    "Для исследования возьмем данные за 2015-2018 год:"
   ]
  },
  {
   "cell_type": "code",
   "execution_count": 57,
   "metadata": {},
   "outputs": [
    {
     "data": {
      "image/png": "[encoded data removed]",
      "text/plain": [
       "<Figure size 1080x432 with 1 Axes>"
      ]
     },
     "metadata": {
      "needs_background": "light"
     },
     "output_type": "display_data"
    }
   ],
   "source": [
    "whole_years_data = data[(data['year_exposition'] >= 2015) & (data['year_exposition'] <= 2018)]\n",
    "whole_years_data.groupby('month_exposition')['last_price'].count().plot.bar(rot=0, grid=True, figsize=(15, 6))\n",
    "None"
   ]
  },
  {
   "cell_type": "markdown",
   "metadata": {},
   "source": [
    "**Вывод:**\n",
    "\n",
    "\n",
    "Месяцы с самыми низкими показателями - январь и май. Вероятно, это связано с большим количеством праздничных дней. В летние месяцы опубликовано примерно одинаковое количество объявлений. Затем начинается рост активности до ноября, и в ноябре опубликовано наибольшее количество объявлений среди всех месяцев. В декабре и январе виден сильный спад количества объявлений, что, возможно, связано с Новым годом. В феврале активность восстанавливается, и продолжает падать до мая."
   ]
  },
  {
   "cell_type": "markdown",
   "metadata": {},
   "source": [
    "#### Исследование скорости продажи квартир"
   ]
  },
  {
   "cell_type": "code",
   "execution_count": 58,
   "metadata": {},
   "outputs": [
    {
     "data": {
      "text/plain": [
       "count    20518.000000\n",
       "mean       180.888634\n",
       "std        219.727988\n",
       "min          1.000000\n",
       "25%         45.000000\n",
       "50%         95.000000\n",
       "75%        232.000000\n",
       "max       1580.000000\n",
       "Name: days_exposition, dtype: float64"
      ]
     },
     "execution_count": 58,
     "metadata": {},
     "output_type": "execute_result"
    }
   ],
   "source": [
    "data['days_exposition'].describe()"
   ]
  },
  {
   "cell_type": "code",
   "execution_count": 59,
   "metadata": {},
   "outputs": [
    {
     "data": {
      "image/png": "[encoded data removed]",
      "text/plain": [
       "<Figure size 1080x432 with 1 Axes>"
      ]
     },
     "metadata": {
      "needs_background": "light"
     },
     "output_type": "display_data"
    }
   ],
   "source": [
    "data['days_exposition'].hist(bins=79, figsize=(15, 6))\n",
    "None"
   ]
  },
  {
   "cell_type": "markdown",
   "metadata": {},
   "source": [
    "Наблюдается дополнительный пик в районе основного. Рассмотрим данные в пределах года более подробно:"
   ]
  },
  {
   "cell_type": "code",
   "execution_count": 60,
   "metadata": {
    "scrolled": false
   },
   "outputs": [
    {
     "data": {
      "text/plain": [
       "<AxesSubplot:>"
      ]
     },
     "execution_count": 60,
     "metadata": {},
     "output_type": "execute_result"
    },
    {
     "data": {
      "image/png": "[encoded data removed]",
      "text/plain": [
       "<Figure size 1080x432 with 1 Axes>"
      ]
     },
     "metadata": {
      "needs_background": "light"
     },
     "output_type": "display_data"
    }
   ],
   "source": [
    "data['days_exposition'].hist(bins=364, range=(0, 365), figsize=(15, 6))"
   ]
  },
  {
   "cell_type": "code",
   "execution_count": 61,
   "metadata": {
    "scrolled": false
   },
   "outputs": [
    {
     "data": {
      "text/plain": [
       "45.0    880\n",
       "60.0    538\n",
       "7.0     234\n",
       "30.0    208\n",
       "90.0    204\n",
       "Name: days_exposition, dtype: int64"
      ]
     },
     "execution_count": 61,
     "metadata": {},
     "output_type": "execute_result"
    }
   ],
   "source": [
    "data['days_exposition'].value_counts().head()"
   ]
  },
  {
   "cell_type": "markdown",
   "metadata": {},
   "source": [
    "Присутствуют неожиданные выбросы на значениях 7, 30, 45, 60 и 90 дней. Вероятно, они соответствуют автоматическому снятию публикации сервиса, а не продаже квартиры. Отфильтруем данные:"
   ]
  },
  {
   "cell_type": "code",
   "execution_count": 62,
   "metadata": {},
   "outputs": [],
   "source": [
    "outcomes = data['days_exposition'].value_counts()[:5].index.tolist()\n",
    "filtered_data = data.query('days_exposition not in @outcomes')"
   ]
  },
  {
   "cell_type": "code",
   "execution_count": 63,
   "metadata": {
    "scrolled": false
   },
   "outputs": [
    {
     "data": {
      "text/plain": [
       "<AxesSubplot:>"
      ]
     },
     "execution_count": 63,
     "metadata": {},
     "output_type": "execute_result"
    },
    {
     "data": {
      "image/png": "[encoded data removed]",
      "text/plain": [
       "<Figure size 1080x432 with 1 Axes>"
      ]
     },
     "metadata": {
      "needs_background": "light"
     },
     "output_type": "display_data"
    }
   ],
   "source": [
    "filtered_data['days_exposition'].hist(bins=79, figsize=(15, 6))"
   ]
  },
  {
   "cell_type": "markdown",
   "metadata": {},
   "source": [
    "Гистограмма демонстрирует пуассоново распределение. "
   ]
  },
  {
   "cell_type": "markdown",
   "metadata": {},
   "source": [
    "**Вывод:**\n",
    "\n",
    "В среднем квартиры продаются в течение ~ 6 месяцев. Половина квартир продается менее чем за 3 месяца. Есть объекты, продаваемые и больше года, наибольшее значение 1580 дней, т.е. более 4 лет. Можно считать продажи, длящиеся более 1 года, необычайно долгими."
   ]
  },
  {
   "cell_type": "markdown",
   "metadata": {},
   "source": [
    "#### Исследование факторов, влияющих на стоимость"
   ]
  },
  {
   "cell_type": "markdown",
   "metadata": {},
   "source": [
    "Для исследования обозначим верхнюю планку стоимости, чтобы \"элитные\" квартиры не искажали данные для большинства квартир:"
   ]
  },
  {
   "cell_type": "code",
   "execution_count": 64,
   "metadata": {},
   "outputs": [],
   "source": [
    "filtered_data = data.query('last_price <= 12_000_000').reset_index()"
   ]
  },
  {
   "cell_type": "code",
   "execution_count": 65,
   "metadata": {},
   "outputs": [
    {
     "data": {
      "text/plain": [
       "0.92"
      ]
     },
     "execution_count": 65,
     "metadata": {},
     "output_type": "execute_result"
    }
   ],
   "source": [
    "round(len(filtered_data) / total_length, 2)"
   ]
  },
  {
   "cell_type": "markdown",
   "metadata": {},
   "source": [
    "Ограничив наибольшую цену 12 млн, мы отбросили менее 10% объектов."
   ]
  },
  {
   "cell_type": "markdown",
   "metadata": {},
   "source": [
    "##### Зависимость стоимости от площади"
   ]
  },
  {
   "cell_type": "markdown",
   "metadata": {},
   "source": [
    "**a. Зависимость от общей площади**"
   ]
  },
  {
   "cell_type": "markdown",
   "metadata": {},
   "source": [
    "Подготовим данные для исследования. Чтобы избавиться от шума, округлим значения общей площади."
   ]
  },
  {
   "cell_type": "code",
   "execution_count": 66,
   "metadata": {
    "scrolled": false
   },
   "outputs": [
    {
     "data": {
      "image/png": "[encoded data removed]",
      "text/plain": [
       "<Figure size 1080x432 with 1 Axes>"
      ]
     },
     "metadata": {
      "needs_background": "light"
     },
     "output_type": "display_data"
    }
   ],
   "source": [
    "filtered_data['total_area_rounded'] = filtered_data['total_area'].apply('round') #округление до целого\n",
    "pivot_data = pd.pivot_table(filtered_data, index='total_area_rounded', values='last_price', aggfunc='mean')\n",
    "pivot_data.plot(style='.', grid=True, figsize=(15, 6))\n",
    "None"
   ]
  },
  {
   "cell_type": "code",
   "execution_count": 67,
   "metadata": {},
   "outputs": [
    {
     "data": {
      "text/plain": [
       "0.7046730708813418"
      ]
     },
     "execution_count": 67,
     "metadata": {},
     "output_type": "execute_result"
    }
   ],
   "source": [
    "filtered_data['total_area'].corr(filtered_data['last_price'])"
   ]
  },
  {
   "cell_type": "markdown",
   "metadata": {},
   "source": [
    "Более 95% квартир имеют площадь до 120 кв.м. Для них справедлива практически прямопропорциональня зависимость стоимости от площади, высокий коэффициент корреляции - 0.7.  Далее данные демонстрируют большой разброс, однако в целом тренд сохраняется."
   ]
  },
  {
   "cell_type": "markdown",
   "metadata": {},
   "source": [
    "**б. Зависимость от жилой площади**"
   ]
  },
  {
   "cell_type": "code",
   "execution_count": 68,
   "metadata": {},
   "outputs": [
    {
     "data": {
      "image/png": "[encoded data removed]",
      "text/plain": [
       "<Figure size 1080x432 with 1 Axes>"
      ]
     },
     "metadata": {
      "needs_background": "light"
     },
     "output_type": "display_data"
    }
   ],
   "source": [
    "filtered_data['living_area_rounded'] = filtered_data['living_area'].apply('round') #округление до целого\n",
    "pivot_data = pd.pivot_table(filtered_data, index='living_area_rounded', values='last_price', aggfunc='mean')\n",
    "pivot_data.plot(style='.', grid=True, figsize=(15, 6))\n",
    "None"
   ]
  },
  {
   "cell_type": "code",
   "execution_count": 69,
   "metadata": {},
   "outputs": [
    {
     "data": {
      "text/plain": [
       "0.591571030273589"
      ]
     },
     "execution_count": 69,
     "metadata": {},
     "output_type": "execute_result"
    }
   ],
   "source": [
    "filtered_data['living_area'].corr(filtered_data['last_price'])"
   ]
  },
  {
   "cell_type": "markdown",
   "metadata": {},
   "source": [
    "В общем цена квартиры увеличивается при увеличении жилой площади. Однако присутствуют локальные пики, так как на цену влияет и количество комнат. Есть заметная корреляция, коэффициент корреляции равен 0.59, но он меньше, чем коэффициент для общей площади. "
   ]
  },
  {
   "cell_type": "markdown",
   "metadata": {},
   "source": [
    "**в. Зависимость от площади кухни**"
   ]
  },
  {
   "cell_type": "code",
   "execution_count": 70,
   "metadata": {
    "scrolled": false
   },
   "outputs": [
    {
     "data": {
      "image/png": "[encoded data removed]",
      "text/plain": [
       "<Figure size 1080x432 with 1 Axes>"
      ]
     },
     "metadata": {
      "needs_background": "light"
     },
     "output_type": "display_data"
    }
   ],
   "source": [
    "filtered_data['kitchen_area_rounded'] = filtered_data['kitchen_area'].apply('round') #округление до целого\n",
    "pivot_data = pd.pivot_table(filtered_data, index='kitchen_area_rounded', values='last_price', aggfunc='mean')\n",
    "pivot_data.plot(style='.', grid=True, figsize=(15, 6))\n",
    "None"
   ]
  },
  {
   "cell_type": "code",
   "execution_count": 71,
   "metadata": {},
   "outputs": [
    {
     "data": {
      "text/plain": [
       "0.46689305222451144"
      ]
     },
     "execution_count": 71,
     "metadata": {},
     "output_type": "execute_result"
    }
   ],
   "source": [
    "filtered_data['kitchen_area'].corr(filtered_data['last_price'])"
   ]
  },
  {
   "cell_type": "markdown",
   "metadata": {},
   "source": [
    "Площадь кухни имеет положительную корреляцию со стоимостью квартиры, однако общая и жилая площадь оказывают более сильное влияние."
   ]
  },
  {
   "cell_type": "markdown",
   "metadata": {},
   "source": [
    "##### Зависимость стоимости от количества комнат"
   ]
  },
  {
   "cell_type": "markdown",
   "metadata": {},
   "source": [
    "Логично, что при увеличении количества комнат увеличивается и площадь квартиры, поэтому ожидается, что и стоимость будет увеличиваться. Для исследования зависимости стоимости используем квартиры с не более, чем 6 комнатами, так как далее данных мало, чтобы получить достоверные оценки."
   ]
  },
  {
   "cell_type": "code",
   "execution_count": 72,
   "metadata": {},
   "outputs": [
    {
     "data": {
      "image/png": "[encoded data removed]",
      "text/plain": [
       "<Figure size 1080x432 with 1 Axes>"
      ]
     },
     "metadata": {
      "needs_background": "light"
     },
     "output_type": "display_data"
    }
   ],
   "source": [
    "pivot_data = pd.pivot_table(filtered_data, index='rooms', values='last_price', aggfunc='mean')\n",
    "ax = pivot_data.plot(style='-', color='r', grid=True, xlim=(0, 6), figsize=(15, 6))\n",
    "None"
   ]
  },
  {
   "cell_type": "markdown",
   "metadata": {},
   "source": [
    "Средняя стоимость квартиры увеличивается при увеличении количества комнат."
   ]
  },
  {
   "cell_type": "code",
   "execution_count": 73,
   "metadata": {},
   "outputs": [
    {
     "data": {
      "image/png": "[encoded data removed]",
      "text/plain": [
       "<Figure size 1080x432 with 1 Axes>"
      ]
     },
     "metadata": {
      "needs_background": "light"
     },
     "output_type": "display_data"
    }
   ],
   "source": [
    "pivot_data = pd.pivot_table(filtered_data, index='floor_category', values='last_price', aggfunc='mean')\n",
    "pivot_data.plot(style='-', color='r', ylim=(0, 10e6), grid=True, figsize=(15, 6))\n",
    "None"
   ]
  },
  {
   "cell_type": "code",
   "execution_count": 74,
   "metadata": {},
   "outputs": [
    {
     "data": {
      "text/html": [
       "<div>\n",
       "<style scoped>\n",
       "    .dataframe tbody tr th:only-of-type {\n",
       "        vertical-align: middle;\n",
       "    }\n",
       "\n",
       "    .dataframe tbody tr th {\n",
       "        vertical-align: top;\n",
       "    }\n",
       "\n",
       "    .dataframe thead th {\n",
       "        text-align: right;\n",
       "    }\n",
       "</style>\n",
       "<table border=\"1\" class=\"dataframe\">\n",
       "  <thead>\n",
       "    <tr style=\"text-align: right;\">\n",
       "      <th></th>\n",
       "      <th>last_price</th>\n",
       "    </tr>\n",
       "    <tr>\n",
       "      <th>floor_category</th>\n",
       "      <th></th>\n",
       "    </tr>\n",
       "  </thead>\n",
       "  <tbody>\n",
       "    <tr>\n",
       "      <th>другой</th>\n",
       "      <td>5.070769e+06</td>\n",
       "    </tr>\n",
       "    <tr>\n",
       "      <th>первый</th>\n",
       "      <td>4.160474e+06</td>\n",
       "    </tr>\n",
       "    <tr>\n",
       "      <th>последний</th>\n",
       "      <td>4.532217e+06</td>\n",
       "    </tr>\n",
       "  </tbody>\n",
       "</table>\n",
       "</div>"
      ],
      "text/plain": [
       "                  last_price\n",
       "floor_category              \n",
       "другой          5.070769e+06\n",
       "первый          4.160474e+06\n",
       "последний       4.532217e+06"
      ]
     },
     "execution_count": 74,
     "metadata": {},
     "output_type": "execute_result"
    }
   ],
   "source": [
    "pivot_data"
   ]
  },
  {
   "cell_type": "markdown",
   "metadata": {},
   "source": [
    "Квартиры на первом и последних этажах в среднем дешевле квартир на других этажах."
   ]
  },
  {
   "cell_type": "markdown",
   "metadata": {},
   "source": [
    "##### Зависимость стоимости от даты публикации"
   ]
  },
  {
   "cell_type": "code",
   "execution_count": 75,
   "metadata": {},
   "outputs": [
    {
     "data": {
      "image/png": "[encoded data removed]",
      "text/plain": [
       "<Figure size 1080x432 with 1 Axes>"
      ]
     },
     "metadata": {
      "needs_background": "light"
     },
     "output_type": "display_data"
    }
   ],
   "source": [
    "pivot_data = pd.pivot_table(filtered_data, index='weekday_exposition', values='last_price', aggfunc='mean')\n",
    "pivot_data.plot(style='-', color='r', ylim=(0, 10e6), grid=True, figsize=(15, 6))\n",
    "None"
   ]
  },
  {
   "cell_type": "markdown",
   "metadata": {},
   "source": [
    "День недели, в который было размещено объявление, не влияет на стоимость объекта."
   ]
  },
  {
   "cell_type": "code",
   "execution_count": 76,
   "metadata": {},
   "outputs": [
    {
     "data": {
      "image/png": "[encoded data removed]",
      "text/plain": [
       "<Figure size 1080x432 with 1 Axes>"
      ]
     },
     "metadata": {
      "needs_background": "light"
     },
     "output_type": "display_data"
    }
   ],
   "source": [
    "pivot_data = pd.pivot_table(filtered_data, index='month_exposition', values='last_price', aggfunc='mean')\n",
    "pivot_data.plot(style='-', color='r', ylim=(0, 10e6), grid=True, figsize=(15, 6))\n",
    "None"
   ]
  },
  {
   "cell_type": "markdown",
   "metadata": {},
   "source": [
    "Месяц публикации не влияет на стоимость квартиры."
   ]
  },
  {
   "cell_type": "code",
   "execution_count": 77,
   "metadata": {},
   "outputs": [
    {
     "data": {
      "image/png": "[encoded data removed]",
      "text/plain": [
       "<Figure size 1080x432 with 1 Axes>"
      ]
     },
     "metadata": {
      "needs_background": "light"
     },
     "output_type": "display_data"
    }
   ],
   "source": [
    "pivot_data = pd.pivot_table(filtered_data, index='year_exposition', values='last_price', aggfunc='mean')\n",
    "pivot_data.plot(style='-', color='r', grid=True, figsize=(15, 6))\n",
    "None"
   ]
  },
  {
   "cell_type": "markdown",
   "metadata": {
    "scrolled": true
   },
   "source": [
    "В течение 2014-2016 было падение стоимости квартир, 2016-2018 год продемонстрировали относительно стабильную стоимость квартир, а в 2019 цены увеличились."
   ]
  },
  {
   "cell_type": "markdown",
   "metadata": {},
   "source": [
    "**Вывод:**\n",
    "В целом нет разницы, в какой именно день и месяц опубликовано объявление. Поскольку редко квартиры продаются дольше года, изменение цен от года к году, как правило, не имеют вляния на конкретный объект."
   ]
  },
  {
   "cell_type": "markdown",
   "metadata": {},
   "source": [
    "#### Исследование средней цены одного квадратного метра"
   ]
  },
  {
   "cell_type": "markdown",
   "metadata": {},
   "source": [
    "Определим населенные пункты с наибольшим количеством объявлений:"
   ]
  },
  {
   "cell_type": "code",
   "execution_count": 78,
   "metadata": {},
   "outputs": [
    {
     "data": {
      "text/plain": [
       "Санкт-Петербург    15721\n",
       "п. Мурино            556\n",
       "п. Шушары            440\n",
       "Всеволожск           398\n",
       "Пушкин               369\n",
       "Колпино              338\n",
       "п. Парголово         327\n",
       "Гатчина              307\n",
       "д. Кудрово           299\n",
       "Выборг               237\n",
       "Name: locality_name, dtype: int64"
      ]
     },
     "execution_count": 78,
     "metadata": {},
     "output_type": "execute_result"
    }
   ],
   "source": [
    "data['locality_name'].value_counts()[:10]"
   ]
  },
  {
   "cell_type": "markdown",
   "metadata": {},
   "source": [
    "Определим среднюю стоимость за 1 кв.м в этих городах:"
   ]
  },
  {
   "cell_type": "code",
   "execution_count": 79,
   "metadata": {
    "scrolled": true
   },
   "outputs": [
    {
     "data": {
      "text/html": [
       "<div>\n",
       "<style scoped>\n",
       "    .dataframe tbody tr th:only-of-type {\n",
       "        vertical-align: middle;\n",
       "    }\n",
       "\n",
       "    .dataframe tbody tr th {\n",
       "        vertical-align: top;\n",
       "    }\n",
       "\n",
       "    .dataframe thead th {\n",
       "        text-align: right;\n",
       "    }\n",
       "</style>\n",
       "<table border=\"1\" class=\"dataframe\">\n",
       "  <thead>\n",
       "    <tr style=\"text-align: right;\">\n",
       "      <th></th>\n",
       "      <th>price_per_square_meter</th>\n",
       "    </tr>\n",
       "    <tr>\n",
       "      <th>locality_name</th>\n",
       "      <th></th>\n",
       "    </tr>\n",
       "  </thead>\n",
       "  <tbody>\n",
       "    <tr>\n",
       "      <th>Санкт-Петербург</th>\n",
       "      <td>114849.0</td>\n",
       "    </tr>\n",
       "    <tr>\n",
       "      <th>Пушкин</th>\n",
       "      <td>103126.0</td>\n",
       "    </tr>\n",
       "    <tr>\n",
       "      <th>д. Кудрово</th>\n",
       "      <td>92474.0</td>\n",
       "    </tr>\n",
       "    <tr>\n",
       "      <th>п. Парголово</th>\n",
       "      <td>90176.0</td>\n",
       "    </tr>\n",
       "    <tr>\n",
       "      <th>п. Мурино</th>\n",
       "      <td>85682.0</td>\n",
       "    </tr>\n",
       "    <tr>\n",
       "      <th>п. Шушары</th>\n",
       "      <td>78677.0</td>\n",
       "    </tr>\n",
       "    <tr>\n",
       "      <th>Колпино</th>\n",
       "      <td>75425.0</td>\n",
       "    </tr>\n",
       "    <tr>\n",
       "      <th>Гатчина</th>\n",
       "      <td>68746.0</td>\n",
       "    </tr>\n",
       "    <tr>\n",
       "      <th>Всеволожск</th>\n",
       "      <td>68654.0</td>\n",
       "    </tr>\n",
       "    <tr>\n",
       "      <th>Выборг</th>\n",
       "      <td>58142.0</td>\n",
       "    </tr>\n",
       "  </tbody>\n",
       "</table>\n",
       "</div>"
      ],
      "text/plain": [
       "                 price_per_square_meter\n",
       "locality_name                          \n",
       "Санкт-Петербург                114849.0\n",
       "Пушкин                         103126.0\n",
       "д. Кудрово                      92474.0\n",
       "п. Парголово                    90176.0\n",
       "п. Мурино                       85682.0\n",
       "п. Шушары                       78677.0\n",
       "Колпино                         75425.0\n",
       "Гатчина                         68746.0\n",
       "Всеволожск                      68654.0\n",
       "Выборг                          58142.0"
      ]
     },
     "execution_count": 79,
     "metadata": {},
     "output_type": "execute_result"
    }
   ],
   "source": [
    "popular_cities = data['locality_name'].value_counts()[:10].index.tolist()# список из 10 городов\n",
    "filtered_data = data.query('locality_name in @popular_cities')#данные только из этих городов\n",
    "\n",
    "pivot_data = pd.pivot_table(filtered_data, index='locality_name', values='price_per_square_meter', aggfunc='mean').round()\\\n",
    ".sort_values(by='price_per_square_meter', ascending=False)\n",
    "pivot_data"
   ]
  },
  {
   "cell_type": "code",
   "execution_count": 80,
   "metadata": {},
   "outputs": [
    {
     "data": {
      "image/png": "[encoded data removed]",
      "text/plain": [
       "<Figure size 1080x432 with 1 Axes>"
      ]
     },
     "metadata": {
      "needs_background": "light"
     },
     "output_type": "display_data"
    }
   ],
   "source": [
    "pivot_data.plot.bar(rot=0, grid=True, figsize=(15, 6))\n",
    "None"
   ]
  },
  {
   "cell_type": "markdown",
   "metadata": {},
   "source": [
    "Наибольшая стоимость за 1 кв.м. в Санкт-Петербурге, наименьшая - в Выборге.\n",
    "\n",
    "Исследуем зависимость стоимости квартиры от удаленности от центра."
   ]
  },
  {
   "cell_type": "code",
   "execution_count": 81,
   "metadata": {
    "scrolled": false
   },
   "outputs": [
    {
     "data": {
      "text/plain": [
       "<AxesSubplot:xlabel='cityCenters_nearest'>"
      ]
     },
     "execution_count": 81,
     "metadata": {},
     "output_type": "execute_result"
    },
    {
     "data": {
      "image/png": "[encoded data removed]",
      "text/plain": [
       "<Figure size 1080x432 with 1 Axes>"
      ]
     },
     "metadata": {
      "needs_background": "light"
     },
     "output_type": "display_data"
    }
   ],
   "source": [
    "filtered_data = data.query('locality_name == \"Санкт-Петербург\"')\n",
    "pivot_data = pd.pivot_table(filtered_data, index='cityCenters_nearest', values='last_price', aggfunc='median')\n",
    "pivot_data.plot(style='-', xlim=(1, 22), grid=True, figsize=(15, 6))"
   ]
  },
  {
   "cell_type": "markdown",
   "metadata": {},
   "source": [
    "По мере удаления от центра цена квартир падает. Присутствуют локальный минимум в районе 3 км от центра и небольшой всплеск в районе 20 км от центра. В районе 8-18 км цена меняется совсем немного."
   ]
  },
  {
   "cell_type": "markdown",
   "metadata": {},
   "source": [
    "### Общий вывод"
   ]
  },
  {
   "cell_type": "markdown",
   "metadata": {},
   "source": [
    "О каждой квартире в базе содержится два типа данных: добавленные пользователем и картографические. Например, к первому типу относятся площадь квартиры, её этаж и количество балконов, ко второму — расстояния до центра города, аэропорта и ближайшего парка. Часть данных отсутствует. Были заполнены пропуски в следующих столбцах:\n",
    "\n",
    " *   `living_area` - пропущенные значения были посчитаны как доля от общей\n",
    " *   `is_apartment` - пропущенные значения заменены на *False*\n",
    " *   `kitchen_area` - пропуски заменены средним значением\n",
    " *   `balcony` - пропуски заменены на 0\n",
    " *   `locality_name` -  - пропуски заменены на *'unknown'*\n",
    "\n",
    "Для остальных данных логичную замену предложить невозможно, поэтому эти значения остались пустыми. Так же была проведена замена типа данных при необходимости. \n",
    "\n",
    "Все данные проверены на аномальные значения. Большие значения высоты потолков `ceiling_height` были пересчитаны.\n",
    "\n",
    "В названиях населенных пунктов были обнаружены дубликаты, например, `поселок Рябово`/`посёлок Рябово`. Была произведена замена слов, обозначающих тип населенных пунктов на общепринятые сокращения.\n",
    "\n",
    "Дополнительно в таблицу добавлены новые столбцы со следующими параметрами:\n",
    "- `price_per_square_meter` - цена одного квадратного метра\n",
    "- `weekday_exposition` - день недели публикации объявления\n",
    "- `month_exposition` - месяц публикации объявления\n",
    "- `month_exposition` - год публикации объявления\n",
    "- `floor_category` - тип этажа квартиры («первый», «последний», «другой»)\n",
    "\n",
    "\n",
    "Рассмотрены следующие параметры объектов:\n",
    " - *общая площадь*   \n",
    "    Средняя площадь квартир - 60 кв.м. Большая часть квартир имеет площадь от 20 до 100 кв.м. Более 95% квартир имеют площадь до 120 кв.м.\n",
    "   \n",
    "   \n",
    " - *жилая площадь*   \n",
    "    Среднее значение жилой площади - 34 кв.м, однако распределение жилой площади квартир отличается от распределения Пуассона, так как сильно зависит от количества комнат:\n",
    "    - Средняя жилая площадь 1-комнатных квартир: 18.0 кв.м.\n",
    "    - Средняя жилая площадь 2-комнатных квартир: 31.84 кв.м.\n",
    "    - Средняя жилая площадь 3-комнатных квартир: 47.68 кв.м\n",
    "\n",
    "\n",
    "- *площадь кухни*   \n",
    "     Размеры кухни мало зависят от других параметров квартир, в среднем площадь кухни равна 10 кв.м, и большая часть кухонь имеет площадь менее 20 кв.м. Есть умеренная корреляция между стоимостью и площадью кухни.\n",
    "     \n",
    "\n",
    "- *количество комнат*   \n",
    "     Самые популярные квартиры - 1, 2 и 3-комнатные, они составляют более 90% от всех объектов. Квартир с количеством комнат более 7 практически нет, единичные случаи. Средняя стоимость квартиры увеличивается при увеличении количества комнат.\n",
    "          \n",
    "\n",
    "- *высота потолков*   \n",
    "     У большинства квартир высота потолков не превышает 5 м. Распределение отличается от пуассоновского, присутствуют пики на значениях 2.5 м, 2.6 м и 3 м.\n",
    "     \n",
    "     \n",
    "\n",
    "- *этаж квартиры и тип этажа квартиры («первый», «последний», «другой»)*   \n",
    "    С увеличением этажа количество квартир уменьшается, так как уменьшается количество домов такой этажности. Однако на 1 этаже квартир меньше, чем на 2, хотя первый этаж присутствует в любом доме. Более 60% квартир находятся на 1-5 этажах. Около 70% квартир находятся на этаже, отличном от первого. Квартир на первом этаже немного меньше, чем на последнем. \n",
    "     \n",
    "\n",
    "- *расстояние до центра города*   \n",
    "     График распределения удаленности от центра неравномерен, так как в учитываются несколько населенных пунктов, и для каждого из них будет свое распределение.\n",
    "     \n",
    "\n",
    "- *расстояние до ближайшего аэропорта*   \n",
    "     В Ленинградской области только 1 аэропорт, поэтому в общем большая часть объектов находится в радиусе 60 км от него.\n",
    "\n",
    "\n",
    "- расстояние до ближайшего парка   \n",
    "     Большая часть объектов находится в пределах 1 км от парков, в среднем объекты находятся в 490 м.\n",
    "     \n",
    "\n",
    "- *день и месяц публикации объявления*   \n",
    "    В будни объявления выставляются чаще, чем в выходные, вторник и четверг являются самыми активными днями. В понедельник, наоборот, активность наименьшая среди будней.\n",
    "    Месяцы с самыми низкой активностью - январь и май. В летние месяцы опубликовано примерно одинаковое количество объявлений. Затем начинается рост активности до ноября, и в ноябре опубликовано наибольшее количество объявлений среди всех месяцев. В декабре и январе виден сильный спад количества объявлений. В феврале активность восстанавливается, и продолжает падать до мая.\n",
    "\n",
    "Были исследованы сроки продаж квартир. В среднем квартиры продаются в течение ~ 6 месяцев. Половина квартир продается менее чем за 3 месяца. Есть объекты, продаваемые и больше года, наибольшее значение 1580 дней, т.е. более 4 лет. Можно считать продажи, длящиеся более 1 года, необычайно долгими.\n",
    "\n",
    "\n",
    "Было исследовано, как стоимость объектов зависит от:\n",
    "\n",
    "- *общей площади*  \n",
    "    Присутствует практически прямопропорциональня зависимость стоимости от площади, высокий коэффициент корреляции 0.7.\n",
    "\n",
    "\n",
    "- *жилой площади*  \n",
    "    В общем цена квартиры увеличивается при увеличении жилой площади. Коэффициент корреляции 0.59.\n",
    "\n",
    "\n",
    "- *площади кухни*  \n",
    "    Площадь кухни имеет положительную корреляцию со стоимостью квартиры, однако общая и жилая площадь оказывают более сильное влияние. Коэффициент корреляции 0.47.\n",
    "\n",
    "\n",
    "- *количества комнат*  \n",
    "    Средняя стоимость квартир увеличивается при увеличении количества комнат.\n",
    "\n",
    "\n",
    "- *этажа, на котором расположена квартира (первый, последний, другой)*  \n",
    "    Квартиры на первом и последних этажах в среднем дешевле квартир на других этажах. \n",
    "\n",
    "\n",
    "- *даты размещения (день недели, месяц, год)*  \n",
    "    Данные не показывают зависимости стоимости от того, в какой именно день и месяц опубликовано объявление. Поскольку редко квартиры продаются дольше года, изменение цен от года к году, как правило, так же не имеют вляния на конкретный объект.\n",
    "\n",
    "Была определена средняя цена одного квадратного метра в 10 населённых пунктах с наибольшим числом объявлений: \n",
    "Санкт-Петербург, Пушкин, д. Кудрово, п. Парголово, п. Мурино, п. Шушары, Колпино, Гатчина, Всеволожск и Выборг. Наибольшая цена в Санкт-Петербурге - 114849 р./кв.м, наименьшая в Выборге - 58142 р./кв.м.\n",
    "\n",
    "Для Санкт-Петербурга рассмотрено изменение медианной стоимости квартир от местоположения. По мере удаления от центра цена квартир падает. Присутствуют локальный минимум в районе 3 км от центра и небольшой всплеск в районе 20 км от центра. В районе 8-18 км цена меняется совсем немного."
   ]
  }
 ],
 "metadata": {
  "ExecuteTimeLog": [
   {
    "duration": 567,
    "start_time": "2022-07-17T15:26:06.009Z"
   },
   {
    "duration": 136,
    "start_time": "2022-07-17T15:26:29.990Z"
   },
   {
    "duration": 116,
    "start_time": "2022-07-17T15:26:59.323Z"
   },
   {
    "duration": 26,
    "start_time": "2022-07-17T15:27:22.397Z"
   },
   {
    "duration": 16,
    "start_time": "2022-07-17T15:27:30.272Z"
   },
   {
    "duration": 2469,
    "start_time": "2022-07-17T15:28:18.935Z"
   },
   {
    "duration": 143,
    "start_time": "2022-07-17T15:37:35.189Z"
   },
   {
    "duration": 18,
    "start_time": "2022-07-17T16:12:49.877Z"
   },
   {
    "duration": 7,
    "start_time": "2022-07-17T16:13:02.339Z"
   },
   {
    "duration": 75,
    "start_time": "2022-07-17T16:13:22.377Z"
   },
   {
    "duration": 5,
    "start_time": "2022-07-17T16:13:26.474Z"
   },
   {
    "duration": 5,
    "start_time": "2022-07-17T16:14:20.603Z"
   },
   {
    "duration": 5,
    "start_time": "2022-07-17T16:18:04.357Z"
   },
   {
    "duration": 10,
    "start_time": "2022-07-17T16:18:27.080Z"
   },
   {
    "duration": 6,
    "start_time": "2022-07-17T16:19:13.329Z"
   },
   {
    "duration": 6,
    "start_time": "2022-07-17T16:20:46.369Z"
   },
   {
    "duration": 5,
    "start_time": "2022-07-17T16:21:03.078Z"
   },
   {
    "duration": 6,
    "start_time": "2022-07-17T16:22:39.169Z"
   },
   {
    "duration": 6,
    "start_time": "2022-07-17T16:22:39.769Z"
   },
   {
    "duration": 6,
    "start_time": "2022-07-17T16:22:40.231Z"
   },
   {
    "duration": 6,
    "start_time": "2022-07-17T16:22:40.873Z"
   },
   {
    "duration": 6,
    "start_time": "2022-07-17T16:24:40.773Z"
   },
   {
    "duration": 8,
    "start_time": "2022-07-17T16:24:41.310Z"
   },
   {
    "duration": 1262,
    "start_time": "2022-07-17T16:30:30.674Z"
   },
   {
    "duration": 9,
    "start_time": "2022-07-17T16:30:58.174Z"
   },
   {
    "duration": 39,
    "start_time": "2022-07-17T16:31:08.223Z"
   },
   {
    "duration": 12,
    "start_time": "2022-07-17T16:31:19.274Z"
   },
   {
    "duration": 13,
    "start_time": "2022-07-17T16:34:20.899Z"
   },
   {
    "duration": 8,
    "start_time": "2022-07-17T16:34:40.899Z"
   },
   {
    "duration": 6,
    "start_time": "2022-07-17T16:34:44.111Z"
   },
   {
    "duration": 136,
    "start_time": "2022-07-17T16:35:04.086Z"
   },
   {
    "duration": 157,
    "start_time": "2022-07-17T16:35:11.711Z"
   },
   {
    "duration": 165,
    "start_time": "2022-07-17T16:35:27.188Z"
   },
   {
    "duration": 242,
    "start_time": "2022-07-17T16:35:39.424Z"
   },
   {
    "duration": 11,
    "start_time": "2022-07-17T16:36:23.500Z"
   },
   {
    "duration": 255,
    "start_time": "2022-07-17T16:36:49.979Z"
   },
   {
    "duration": 72,
    "start_time": "2022-07-17T16:39:11.055Z"
   },
   {
    "duration": 29,
    "start_time": "2022-07-17T16:39:14.800Z"
   },
   {
    "duration": 55,
    "start_time": "2022-07-17T16:40:25.913Z"
   },
   {
    "duration": 260,
    "start_time": "2022-07-17T16:43:28.173Z"
   },
   {
    "duration": 269,
    "start_time": "2022-07-17T16:43:35.761Z"
   },
   {
    "duration": 271,
    "start_time": "2022-07-17T16:45:08.088Z"
   },
   {
    "duration": 268,
    "start_time": "2022-07-17T16:45:12.913Z"
   },
   {
    "duration": 378,
    "start_time": "2022-07-17T16:45:20.600Z"
   },
   {
    "duration": 284,
    "start_time": "2022-07-17T16:45:24.701Z"
   },
   {
    "duration": 280,
    "start_time": "2022-07-17T16:45:56.777Z"
   },
   {
    "duration": 277,
    "start_time": "2022-07-17T16:46:06.601Z"
   },
   {
    "duration": 285,
    "start_time": "2022-07-17T16:47:19.381Z"
   },
   {
    "duration": 409,
    "start_time": "2022-07-17T16:47:25.313Z"
   },
   {
    "duration": 261,
    "start_time": "2022-07-17T16:47:30.801Z"
   },
   {
    "duration": 310,
    "start_time": "2022-07-17T16:47:44.180Z"
   },
   {
    "duration": 160,
    "start_time": "2022-07-17T16:56:11.607Z"
   },
   {
    "duration": 12,
    "start_time": "2022-07-17T16:56:32.357Z"
   },
   {
    "duration": 39,
    "start_time": "2022-07-17T17:06:56.590Z"
   },
   {
    "duration": 15,
    "start_time": "2022-07-17T17:08:04.479Z"
   },
   {
    "duration": 39,
    "start_time": "2022-07-17T17:08:12.348Z"
   },
   {
    "duration": 31,
    "start_time": "2022-07-17T17:08:37.396Z"
   },
   {
    "duration": 6,
    "start_time": "2022-07-17T17:09:12.095Z"
   },
   {
    "duration": 43,
    "start_time": "2022-07-17T17:10:49.172Z"
   },
   {
    "duration": 580,
    "start_time": "2022-07-18T09:40:28.994Z"
   },
   {
    "duration": 13,
    "start_time": "2022-07-18T09:40:29.576Z"
   },
   {
    "duration": 2278,
    "start_time": "2022-07-18T09:40:29.590Z"
   },
   {
    "duration": 5,
    "start_time": "2022-07-18T09:40:31.871Z"
   },
   {
    "duration": 7,
    "start_time": "2022-07-18T09:40:31.878Z"
   },
   {
    "duration": 13,
    "start_time": "2022-07-18T09:40:31.887Z"
   },
   {
    "duration": 24,
    "start_time": "2022-07-18T09:40:31.902Z"
   },
   {
    "duration": 17,
    "start_time": "2022-07-18T09:40:31.927Z"
   },
   {
    "duration": 6,
    "start_time": "2022-07-18T09:40:31.945Z"
   },
   {
    "duration": 5,
    "start_time": "2022-07-18T09:40:31.954Z"
   },
   {
    "duration": 2623,
    "start_time": "2022-07-18T09:40:31.960Z"
   },
   {
    "duration": 0,
    "start_time": "2022-07-18T09:40:34.585Z"
   },
   {
    "duration": 0,
    "start_time": "2022-07-18T09:40:34.586Z"
   },
   {
    "duration": 0,
    "start_time": "2022-07-18T09:40:34.587Z"
   },
   {
    "duration": 0,
    "start_time": "2022-07-18T09:40:34.588Z"
   },
   {
    "duration": 8,
    "start_time": "2022-07-18T09:40:42.078Z"
   },
   {
    "duration": 11,
    "start_time": "2022-07-18T09:40:49.224Z"
   },
   {
    "duration": 255,
    "start_time": "2022-07-18T09:40:51.372Z"
   },
   {
    "duration": 5,
    "start_time": "2022-07-18T09:42:23.761Z"
   },
   {
    "duration": 39,
    "start_time": "2022-07-18T09:42:33.111Z"
   },
   {
    "duration": 34,
    "start_time": "2022-07-18T09:45:01.361Z"
   },
   {
    "duration": 99,
    "start_time": "2022-07-18T09:48:15.424Z"
   },
   {
    "duration": 13,
    "start_time": "2022-07-18T09:48:26.455Z"
   },
   {
    "duration": 3,
    "start_time": "2022-07-18T09:49:55.763Z"
   },
   {
    "duration": 7,
    "start_time": "2022-07-18T09:49:57.799Z"
   },
   {
    "duration": 159,
    "start_time": "2022-07-18T09:50:42.288Z"
   },
   {
    "duration": 80,
    "start_time": "2022-07-18T09:50:52.113Z"
   },
   {
    "duration": 18,
    "start_time": "2022-07-18T09:50:57.687Z"
   },
   {
    "duration": 17,
    "start_time": "2022-07-18T09:51:08.600Z"
   },
   {
    "duration": 6,
    "start_time": "2022-07-18T09:51:19.875Z"
   },
   {
    "duration": 5,
    "start_time": "2022-07-18T09:51:21.975Z"
   },
   {
    "duration": 26,
    "start_time": "2022-07-18T09:52:01.338Z"
   },
   {
    "duration": 12,
    "start_time": "2022-07-18T09:53:58.291Z"
   },
   {
    "duration": 28,
    "start_time": "2022-07-18T09:54:03.638Z"
   },
   {
    "duration": 113,
    "start_time": "2022-07-18T09:55:09.164Z"
   },
   {
    "duration": 41,
    "start_time": "2022-07-18T09:56:45.488Z"
   },
   {
    "duration": 41,
    "start_time": "2022-07-18T09:56:52.508Z"
   },
   {
    "duration": 147,
    "start_time": "2022-07-18T09:58:21.404Z"
   },
   {
    "duration": 11,
    "start_time": "2022-07-18T09:59:15.053Z"
   },
   {
    "duration": 119,
    "start_time": "2022-07-18T09:59:46.365Z"
   },
   {
    "duration": 10,
    "start_time": "2022-07-18T10:01:48.890Z"
   },
   {
    "duration": 8,
    "start_time": "2022-07-18T10:02:12.502Z"
   },
   {
    "duration": 7,
    "start_time": "2022-07-18T10:02:15.291Z"
   },
   {
    "duration": 8,
    "start_time": "2022-07-18T10:02:55.803Z"
   },
   {
    "duration": 2,
    "start_time": "2022-07-18T10:03:03.592Z"
   },
   {
    "duration": 3,
    "start_time": "2022-07-18T10:03:05.689Z"
   },
   {
    "duration": 7,
    "start_time": "2022-07-18T10:03:10.190Z"
   },
   {
    "duration": 114,
    "start_time": "2022-07-18T10:03:27.678Z"
   },
   {
    "duration": 9,
    "start_time": "2022-07-18T10:03:36.452Z"
   },
   {
    "duration": 969,
    "start_time": "2022-07-18T10:03:54.205Z"
   },
   {
    "duration": 122,
    "start_time": "2022-07-18T10:04:10.328Z"
   },
   {
    "duration": 5,
    "start_time": "2022-07-18T10:04:18.216Z"
   },
   {
    "duration": 5,
    "start_time": "2022-07-18T10:04:29.865Z"
   },
   {
    "duration": 725,
    "start_time": "2022-07-18T10:04:42.404Z"
   },
   {
    "duration": 407,
    "start_time": "2022-07-18T10:04:58.765Z"
   },
   {
    "duration": 673,
    "start_time": "2022-07-18T10:05:14.441Z"
   },
   {
    "duration": 354,
    "start_time": "2022-07-18T10:06:13.179Z"
   },
   {
    "duration": 424,
    "start_time": "2022-07-18T10:07:24.242Z"
   },
   {
    "duration": 7,
    "start_time": "2022-07-18T10:07:45.166Z"
   },
   {
    "duration": 6,
    "start_time": "2022-07-18T10:08:22.354Z"
   },
   {
    "duration": 79,
    "start_time": "2022-07-18T10:08:37.992Z"
   },
   {
    "duration": 76,
    "start_time": "2022-07-18T10:08:40.618Z"
   },
   {
    "duration": 8,
    "start_time": "2022-07-18T10:08:43.329Z"
   },
   {
    "duration": 626,
    "start_time": "2022-07-18T10:09:53.229Z"
   },
   {
    "duration": 551,
    "start_time": "2022-07-18T10:10:04.004Z"
   },
   {
    "duration": 250,
    "start_time": "2022-07-18T10:10:26.656Z"
   },
   {
    "duration": 125,
    "start_time": "2022-07-18T10:10:35.855Z"
   },
   {
    "duration": 45,
    "start_time": "2022-07-18T10:11:03.617Z"
   },
   {
    "duration": 13,
    "start_time": "2022-07-18T10:12:31.912Z"
   },
   {
    "duration": 8,
    "start_time": "2022-07-18T10:12:38.756Z"
   },
   {
    "duration": 12,
    "start_time": "2022-07-18T10:16:07.406Z"
   },
   {
    "duration": 36,
    "start_time": "2022-07-18T10:16:13.271Z"
   },
   {
    "duration": 46,
    "start_time": "2022-07-18T10:33:38.919Z"
   },
   {
    "duration": 175,
    "start_time": "2022-07-18T10:35:02.838Z"
   },
   {
    "duration": 225,
    "start_time": "2022-07-18T10:35:28.474Z"
   },
   {
    "duration": 2916,
    "start_time": "2022-07-18T10:35:55.993Z"
   },
   {
    "duration": 259,
    "start_time": "2022-07-18T10:36:05.762Z"
   },
   {
    "duration": 331,
    "start_time": "2022-07-18T10:36:25.673Z"
   },
   {
    "duration": 248,
    "start_time": "2022-07-18T10:37:08.701Z"
   },
   {
    "duration": 225,
    "start_time": "2022-07-18T10:37:53.012Z"
   },
   {
    "duration": 229,
    "start_time": "2022-07-18T10:38:23.449Z"
   },
   {
    "duration": 11,
    "start_time": "2022-07-18T10:38:45.787Z"
   },
   {
    "duration": 9,
    "start_time": "2022-07-18T10:38:54.224Z"
   },
   {
    "duration": 7,
    "start_time": "2022-07-18T10:38:56.611Z"
   },
   {
    "duration": 8,
    "start_time": "2022-07-18T10:39:04.499Z"
   },
   {
    "duration": 6,
    "start_time": "2022-07-18T10:39:24.189Z"
   },
   {
    "duration": 41,
    "start_time": "2022-07-18T10:39:48.187Z"
   },
   {
    "duration": 7,
    "start_time": "2022-07-18T10:39:59.794Z"
   },
   {
    "duration": 6,
    "start_time": "2022-07-18T10:40:04.949Z"
   },
   {
    "duration": 8,
    "start_time": "2022-07-18T10:40:37.443Z"
   },
   {
    "duration": 6,
    "start_time": "2022-07-18T10:42:23.338Z"
   },
   {
    "duration": 8,
    "start_time": "2022-07-18T10:42:33.899Z"
   },
   {
    "duration": 4,
    "start_time": "2022-07-18T10:50:30.742Z"
   },
   {
    "duration": 5,
    "start_time": "2022-07-18T10:51:31.421Z"
   },
   {
    "duration": 4,
    "start_time": "2022-07-18T10:57:26.093Z"
   },
   {
    "duration": 188,
    "start_time": "2022-07-18T10:57:48.166Z"
   },
   {
    "duration": 6,
    "start_time": "2022-07-18T10:57:59.217Z"
   },
   {
    "duration": 9,
    "start_time": "2022-07-18T10:59:23.567Z"
   },
   {
    "duration": 9,
    "start_time": "2022-07-18T11:00:26.968Z"
   },
   {
    "duration": 7,
    "start_time": "2022-07-18T11:00:30.357Z"
   },
   {
    "duration": 150,
    "start_time": "2022-07-18T11:00:35.380Z"
   },
   {
    "duration": 125,
    "start_time": "2022-07-18T11:01:16.469Z"
   },
   {
    "duration": 122,
    "start_time": "2022-07-18T11:01:21.730Z"
   },
   {
    "duration": 204,
    "start_time": "2022-07-18T11:01:33.232Z"
   },
   {
    "duration": 191,
    "start_time": "2022-07-18T11:01:53.843Z"
   },
   {
    "duration": 4,
    "start_time": "2022-07-18T11:02:04.055Z"
   },
   {
    "duration": 9,
    "start_time": "2022-07-18T11:02:06.030Z"
   },
   {
    "duration": 12,
    "start_time": "2022-07-18T11:02:21.730Z"
   },
   {
    "duration": 9,
    "start_time": "2022-07-18T11:02:30.518Z"
   },
   {
    "duration": 11,
    "start_time": "2022-07-18T11:02:41.190Z"
   },
   {
    "duration": 8,
    "start_time": "2022-07-18T11:02:44.643Z"
   },
   {
    "duration": 9,
    "start_time": "2022-07-18T11:02:59.031Z"
   },
   {
    "duration": 9,
    "start_time": "2022-07-18T11:03:08.629Z"
   },
   {
    "duration": 9,
    "start_time": "2022-07-18T11:03:12.355Z"
   },
   {
    "duration": 10,
    "start_time": "2022-07-18T11:03:48.669Z"
   },
   {
    "duration": 5,
    "start_time": "2022-07-18T11:05:18.058Z"
   },
   {
    "duration": 5,
    "start_time": "2022-07-18T11:11:00.107Z"
   },
   {
    "duration": 4,
    "start_time": "2022-07-18T11:12:32.621Z"
   },
   {
    "duration": 3,
    "start_time": "2022-07-18T11:15:19.184Z"
   },
   {
    "duration": 104,
    "start_time": "2022-07-18T11:21:01.537Z"
   },
   {
    "duration": 503,
    "start_time": "2022-07-18T11:21:34.461Z"
   },
   {
    "duration": 86,
    "start_time": "2022-07-18T11:21:46.336Z"
   },
   {
    "duration": 79,
    "start_time": "2022-07-18T11:21:50.135Z"
   },
   {
    "duration": 19,
    "start_time": "2022-07-18T11:22:33.199Z"
   },
   {
    "duration": 28,
    "start_time": "2022-07-18T11:22:45.486Z"
   },
   {
    "duration": 80,
    "start_time": "2022-07-18T11:23:10.374Z"
   },
   {
    "duration": 94,
    "start_time": "2022-07-18T11:23:15.974Z"
   },
   {
    "duration": 89,
    "start_time": "2022-07-18T11:23:18.074Z"
   },
   {
    "duration": 108,
    "start_time": "2022-07-18T11:23:22.637Z"
   },
   {
    "duration": 74,
    "start_time": "2022-07-18T11:24:21.336Z"
   },
   {
    "duration": 82,
    "start_time": "2022-07-18T11:24:59.990Z"
   },
   {
    "duration": 542,
    "start_time": "2022-07-18T11:25:15.684Z"
   },
   {
    "duration": 18,
    "start_time": "2022-07-18T11:25:16.228Z"
   },
   {
    "duration": 2345,
    "start_time": "2022-07-18T11:25:16.247Z"
   },
   {
    "duration": 6,
    "start_time": "2022-07-18T11:25:18.594Z"
   },
   {
    "duration": 25,
    "start_time": "2022-07-18T11:25:18.603Z"
   },
   {
    "duration": 5,
    "start_time": "2022-07-18T11:25:18.630Z"
   },
   {
    "duration": 6,
    "start_time": "2022-07-18T11:25:18.636Z"
   },
   {
    "duration": 4,
    "start_time": "2022-07-18T11:25:18.644Z"
   },
   {
    "duration": 4,
    "start_time": "2022-07-18T11:25:18.650Z"
   },
   {
    "duration": 6,
    "start_time": "2022-07-18T11:25:18.655Z"
   },
   {
    "duration": 8,
    "start_time": "2022-07-18T11:25:18.663Z"
   },
   {
    "duration": 44,
    "start_time": "2022-07-18T11:25:18.672Z"
   },
   {
    "duration": 265,
    "start_time": "2022-07-18T11:25:18.717Z"
   },
   {
    "duration": 4,
    "start_time": "2022-07-18T11:25:18.984Z"
   },
   {
    "duration": 44,
    "start_time": "2022-07-18T11:25:18.990Z"
   },
   {
    "duration": 5,
    "start_time": "2022-07-18T11:25:19.035Z"
   },
   {
    "duration": 6,
    "start_time": "2022-07-18T11:25:19.042Z"
   },
   {
    "duration": 103,
    "start_time": "2022-07-18T11:25:19.050Z"
   },
   {
    "duration": 501,
    "start_time": "2022-07-18T11:25:45.720Z"
   },
   {
    "duration": 15,
    "start_time": "2022-07-18T11:25:46.223Z"
   },
   {
    "duration": 2217,
    "start_time": "2022-07-18T11:25:46.239Z"
   },
   {
    "duration": 4,
    "start_time": "2022-07-18T11:25:48.458Z"
   },
   {
    "duration": 10,
    "start_time": "2022-07-18T11:25:48.464Z"
   },
   {
    "duration": 21,
    "start_time": "2022-07-18T11:25:48.475Z"
   },
   {
    "duration": 25,
    "start_time": "2022-07-18T11:25:48.497Z"
   },
   {
    "duration": 8,
    "start_time": "2022-07-18T11:25:48.523Z"
   },
   {
    "duration": 5,
    "start_time": "2022-07-18T11:25:48.532Z"
   },
   {
    "duration": 5,
    "start_time": "2022-07-18T11:25:48.538Z"
   },
   {
    "duration": 8,
    "start_time": "2022-07-18T11:25:48.544Z"
   },
   {
    "duration": 12,
    "start_time": "2022-07-18T11:25:48.553Z"
   },
   {
    "duration": 259,
    "start_time": "2022-07-18T11:25:48.566Z"
   },
   {
    "duration": 4,
    "start_time": "2022-07-18T11:25:48.828Z"
   },
   {
    "duration": 30,
    "start_time": "2022-07-18T11:25:48.833Z"
   },
   {
    "duration": 5,
    "start_time": "2022-07-18T11:25:48.864Z"
   },
   {
    "duration": 5,
    "start_time": "2022-07-18T11:25:48.870Z"
   },
   {
    "duration": 100,
    "start_time": "2022-07-18T11:25:48.877Z"
   },
   {
    "duration": 86,
    "start_time": "2022-07-18T11:27:57.743Z"
   },
   {
    "duration": 86,
    "start_time": "2022-07-18T11:28:07.342Z"
   },
   {
    "duration": 86,
    "start_time": "2022-07-18T11:28:29.392Z"
   },
   {
    "duration": 73,
    "start_time": "2022-07-18T11:28:32.443Z"
   },
   {
    "duration": 81,
    "start_time": "2022-07-18T11:28:46.629Z"
   },
   {
    "duration": 69,
    "start_time": "2022-07-18T11:28:55.717Z"
   },
   {
    "duration": 80,
    "start_time": "2022-07-18T11:29:03.820Z"
   },
   {
    "duration": 71,
    "start_time": "2022-07-18T11:30:23.156Z"
   },
   {
    "duration": 6,
    "start_time": "2022-07-18T11:32:16.994Z"
   },
   {
    "duration": 53,
    "start_time": "2022-07-18T11:33:14.419Z"
   },
   {
    "duration": 500,
    "start_time": "2022-07-18T11:34:15.539Z"
   },
   {
    "duration": 21,
    "start_time": "2022-07-18T11:34:16.041Z"
   },
   {
    "duration": 2200,
    "start_time": "2022-07-18T11:34:16.064Z"
   },
   {
    "duration": 4,
    "start_time": "2022-07-18T11:34:18.267Z"
   },
   {
    "duration": 6,
    "start_time": "2022-07-18T11:34:18.273Z"
   },
   {
    "duration": 5,
    "start_time": "2022-07-18T11:34:18.280Z"
   },
   {
    "duration": 6,
    "start_time": "2022-07-18T11:34:18.286Z"
   },
   {
    "duration": 3,
    "start_time": "2022-07-18T11:34:18.294Z"
   },
   {
    "duration": 15,
    "start_time": "2022-07-18T11:34:18.298Z"
   },
   {
    "duration": 7,
    "start_time": "2022-07-18T11:34:18.315Z"
   },
   {
    "duration": 12,
    "start_time": "2022-07-18T11:34:18.324Z"
   },
   {
    "duration": 17,
    "start_time": "2022-07-18T11:34:18.337Z"
   },
   {
    "duration": 247,
    "start_time": "2022-07-18T11:34:18.356Z"
   },
   {
    "duration": 8,
    "start_time": "2022-07-18T11:34:18.613Z"
   },
   {
    "duration": 41,
    "start_time": "2022-07-18T11:34:18.623Z"
   },
   {
    "duration": 4,
    "start_time": "2022-07-18T11:34:18.666Z"
   },
   {
    "duration": 92,
    "start_time": "2022-07-18T11:34:18.672Z"
   },
   {
    "duration": 6,
    "start_time": "2022-07-18T11:34:18.765Z"
   },
   {
    "duration": 70,
    "start_time": "2022-07-18T11:34:18.772Z"
   },
   {
    "duration": 7,
    "start_time": "2022-07-18T11:38:58.419Z"
   },
   {
    "duration": 6,
    "start_time": "2022-07-18T11:39:02.621Z"
   },
   {
    "duration": 200,
    "start_time": "2022-07-18T12:14:29.795Z"
   },
   {
    "duration": 497,
    "start_time": "2022-07-18T12:14:59.654Z"
   },
   {
    "duration": 14,
    "start_time": "2022-07-18T12:15:00.152Z"
   },
   {
    "duration": 2332,
    "start_time": "2022-07-18T12:15:00.168Z"
   },
   {
    "duration": 10,
    "start_time": "2022-07-18T12:15:02.517Z"
   },
   {
    "duration": 25,
    "start_time": "2022-07-18T12:15:02.529Z"
   },
   {
    "duration": 10,
    "start_time": "2022-07-18T12:15:02.556Z"
   },
   {
    "duration": 10,
    "start_time": "2022-07-18T12:15:02.568Z"
   },
   {
    "duration": 18,
    "start_time": "2022-07-18T12:15:02.580Z"
   },
   {
    "duration": 40,
    "start_time": "2022-07-18T12:15:02.599Z"
   },
   {
    "duration": 16,
    "start_time": "2022-07-18T12:15:02.641Z"
   },
   {
    "duration": 11,
    "start_time": "2022-07-18T12:15:02.659Z"
   },
   {
    "duration": 19,
    "start_time": "2022-07-18T12:15:02.672Z"
   },
   {
    "duration": 297,
    "start_time": "2022-07-18T12:15:02.693Z"
   },
   {
    "duration": 4,
    "start_time": "2022-07-18T12:15:02.992Z"
   },
   {
    "duration": 69,
    "start_time": "2022-07-18T12:15:03.004Z"
   },
   {
    "duration": 56,
    "start_time": "2022-07-18T12:15:03.074Z"
   },
   {
    "duration": 279,
    "start_time": "2022-07-18T12:15:03.132Z"
   },
   {
    "duration": 0,
    "start_time": "2022-07-18T12:15:03.415Z"
   },
   {
    "duration": 0,
    "start_time": "2022-07-18T12:15:03.417Z"
   },
   {
    "duration": 87,
    "start_time": "2022-07-18T12:15:18.032Z"
   },
   {
    "duration": 5,
    "start_time": "2022-07-18T12:19:13.672Z"
   },
   {
    "duration": 6,
    "start_time": "2022-07-18T12:19:30.073Z"
   },
   {
    "duration": 6,
    "start_time": "2022-07-18T12:19:33.284Z"
   },
   {
    "duration": 5,
    "start_time": "2022-07-18T12:20:30.060Z"
   },
   {
    "duration": 53,
    "start_time": "2022-07-18T12:22:42.336Z"
   },
   {
    "duration": 21,
    "start_time": "2022-07-18T12:23:53.656Z"
   },
   {
    "duration": 23,
    "start_time": "2022-07-18T12:24:31.950Z"
   },
   {
    "duration": 73,
    "start_time": "2022-07-18T12:27:59.047Z"
   },
   {
    "duration": 39,
    "start_time": "2022-07-18T12:28:07.375Z"
   },
   {
    "duration": 38,
    "start_time": "2022-07-18T12:28:20.801Z"
   },
   {
    "duration": 7,
    "start_time": "2022-07-18T12:28:39.151Z"
   },
   {
    "duration": 200,
    "start_time": "2022-07-18T12:29:30.551Z"
   },
   {
    "duration": 9,
    "start_time": "2022-07-18T12:31:32.790Z"
   },
   {
    "duration": 156,
    "start_time": "2022-07-18T12:31:35.636Z"
   },
   {
    "duration": 259,
    "start_time": "2022-07-18T12:31:46.351Z"
   },
   {
    "duration": 350,
    "start_time": "2022-07-18T12:31:59.825Z"
   },
   {
    "duration": 262,
    "start_time": "2022-07-18T12:34:01.576Z"
   },
   {
    "duration": 194,
    "start_time": "2022-07-18T12:34:24.252Z"
   },
   {
    "duration": 207,
    "start_time": "2022-07-18T12:34:33.077Z"
   },
   {
    "duration": 3,
    "start_time": "2022-07-18T12:36:04.979Z"
   },
   {
    "duration": 16,
    "start_time": "2022-07-18T12:36:12.267Z"
   },
   {
    "duration": 16,
    "start_time": "2022-07-18T12:36:20.116Z"
   },
   {
    "duration": 7,
    "start_time": "2022-07-18T12:36:26.961Z"
   },
   {
    "duration": 5,
    "start_time": "2022-07-18T12:36:34.176Z"
   },
   {
    "duration": 485,
    "start_time": "2022-07-18T12:36:47.069Z"
   },
   {
    "duration": 15,
    "start_time": "2022-07-18T12:36:47.557Z"
   },
   {
    "duration": 2426,
    "start_time": "2022-07-18T12:36:47.574Z"
   },
   {
    "duration": 20,
    "start_time": "2022-07-18T12:36:50.002Z"
   },
   {
    "duration": 28,
    "start_time": "2022-07-18T12:36:50.028Z"
   },
   {
    "duration": 10,
    "start_time": "2022-07-18T12:36:50.058Z"
   },
   {
    "duration": 25,
    "start_time": "2022-07-18T12:36:50.070Z"
   },
   {
    "duration": 44,
    "start_time": "2022-07-18T12:36:50.096Z"
   },
   {
    "duration": 14,
    "start_time": "2022-07-18T12:36:50.142Z"
   },
   {
    "duration": 25,
    "start_time": "2022-07-18T12:36:50.158Z"
   },
   {
    "duration": 58,
    "start_time": "2022-07-18T12:36:50.184Z"
   },
   {
    "duration": 19,
    "start_time": "2022-07-18T12:36:50.244Z"
   },
   {
    "duration": 21,
    "start_time": "2022-07-18T12:36:50.264Z"
   },
   {
    "duration": 258,
    "start_time": "2022-07-18T12:36:50.288Z"
   },
   {
    "duration": 4,
    "start_time": "2022-07-18T12:36:50.547Z"
   },
   {
    "duration": 48,
    "start_time": "2022-07-18T12:36:50.553Z"
   },
   {
    "duration": 20,
    "start_time": "2022-07-18T12:36:50.615Z"
   },
   {
    "duration": 84,
    "start_time": "2022-07-18T12:36:50.637Z"
   },
   {
    "duration": 9,
    "start_time": "2022-07-18T12:36:50.724Z"
   },
   {
    "duration": 19,
    "start_time": "2022-07-18T12:36:50.735Z"
   },
   {
    "duration": 41,
    "start_time": "2022-07-18T12:36:50.756Z"
   },
   {
    "duration": 220,
    "start_time": "2022-07-18T12:36:50.799Z"
   },
   {
    "duration": 5,
    "start_time": "2022-07-18T12:37:04.669Z"
   },
   {
    "duration": 4,
    "start_time": "2022-07-18T12:37:08.567Z"
   },
   {
    "duration": 5,
    "start_time": "2022-07-18T12:37:15.078Z"
   },
   {
    "duration": 184,
    "start_time": "2022-07-18T12:37:57.053Z"
   },
   {
    "duration": 12,
    "start_time": "2022-07-18T12:39:03.216Z"
   },
   {
    "duration": 13,
    "start_time": "2022-07-18T12:39:11.018Z"
   },
   {
    "duration": 36,
    "start_time": "2022-07-18T12:40:28.079Z"
   },
   {
    "duration": 1799,
    "start_time": "2022-07-18T12:42:04.430Z"
   },
   {
    "duration": 34,
    "start_time": "2022-07-18T12:42:10.012Z"
   },
   {
    "duration": 1305,
    "start_time": "2022-07-18T12:42:16.634Z"
   },
   {
    "duration": 99,
    "start_time": "2022-07-18T12:42:42.436Z"
   },
   {
    "duration": 30,
    "start_time": "2022-07-18T12:42:45.954Z"
   },
   {
    "duration": 29,
    "start_time": "2022-07-18T12:42:52.847Z"
   },
   {
    "duration": 27,
    "start_time": "2022-07-18T12:42:57.232Z"
   },
   {
    "duration": 19,
    "start_time": "2022-07-18T12:43:05.642Z"
   },
   {
    "duration": 22,
    "start_time": "2022-07-18T12:43:33.930Z"
   },
   {
    "duration": 4,
    "start_time": "2022-07-18T12:44:30.479Z"
   },
   {
    "duration": 263,
    "start_time": "2022-07-18T12:45:25.155Z"
   },
   {
    "duration": 311,
    "start_time": "2022-07-18T12:45:45.301Z"
   },
   {
    "duration": 5,
    "start_time": "2022-07-18T12:46:17.131Z"
   },
   {
    "duration": 34,
    "start_time": "2022-07-18T12:46:36.093Z"
   },
   {
    "duration": 21,
    "start_time": "2022-07-18T12:47:05.756Z"
   },
   {
    "duration": 227,
    "start_time": "2022-07-18T12:48:23.273Z"
   },
   {
    "duration": 206,
    "start_time": "2022-07-18T12:48:27.675Z"
   },
   {
    "duration": 226,
    "start_time": "2022-07-18T12:48:31.056Z"
   },
   {
    "duration": 242,
    "start_time": "2022-07-18T12:48:34.874Z"
   },
   {
    "duration": 317,
    "start_time": "2022-07-18T12:48:37.656Z"
   },
   {
    "duration": 237,
    "start_time": "2022-07-18T12:48:41.344Z"
   },
   {
    "duration": 239,
    "start_time": "2022-07-18T12:48:54.369Z"
   },
   {
    "duration": 213,
    "start_time": "2022-07-18T12:48:59.231Z"
   },
   {
    "duration": 228,
    "start_time": "2022-07-18T12:49:04.281Z"
   },
   {
    "duration": 234,
    "start_time": "2022-07-18T12:49:10.069Z"
   },
   {
    "duration": 318,
    "start_time": "2022-07-18T12:49:16.920Z"
   },
   {
    "duration": 225,
    "start_time": "2022-07-18T12:49:21.583Z"
   },
   {
    "duration": 215,
    "start_time": "2022-07-18T12:49:24.269Z"
   },
   {
    "duration": 262,
    "start_time": "2022-07-18T12:49:27.230Z"
   },
   {
    "duration": 258,
    "start_time": "2022-07-18T12:49:35.844Z"
   },
   {
    "duration": 19,
    "start_time": "2022-07-18T12:49:52.496Z"
   },
   {
    "duration": 10,
    "start_time": "2022-07-18T12:50:05.775Z"
   },
   {
    "duration": 20,
    "start_time": "2022-07-18T12:50:26.195Z"
   },
   {
    "duration": 147,
    "start_time": "2022-07-19T09:11:46.352Z"
   },
   {
    "duration": 49,
    "start_time": "2022-07-19T09:12:58.383Z"
   },
   {
    "duration": 740,
    "start_time": "2022-07-19T09:13:07.111Z"
   },
   {
    "duration": 14,
    "start_time": "2022-07-19T09:13:07.853Z"
   },
   {
    "duration": 2537,
    "start_time": "2022-07-19T09:13:07.868Z"
   },
   {
    "duration": 6,
    "start_time": "2022-07-19T09:13:10.407Z"
   },
   {
    "duration": 16,
    "start_time": "2022-07-19T09:13:10.416Z"
   },
   {
    "duration": 17,
    "start_time": "2022-07-19T09:13:10.434Z"
   },
   {
    "duration": 9,
    "start_time": "2022-07-19T09:13:10.453Z"
   },
   {
    "duration": 8,
    "start_time": "2022-07-19T09:13:10.463Z"
   },
   {
    "duration": 11,
    "start_time": "2022-07-19T09:13:10.472Z"
   },
   {
    "duration": 6,
    "start_time": "2022-07-19T09:13:10.484Z"
   },
   {
    "duration": 17,
    "start_time": "2022-07-19T09:13:10.491Z"
   },
   {
    "duration": 23,
    "start_time": "2022-07-19T09:13:10.509Z"
   },
   {
    "duration": 274,
    "start_time": "2022-07-19T09:13:10.534Z"
   },
   {
    "duration": 4,
    "start_time": "2022-07-19T09:13:10.810Z"
   },
   {
    "duration": 44,
    "start_time": "2022-07-19T09:13:10.815Z"
   },
   {
    "duration": 5,
    "start_time": "2022-07-19T09:13:10.860Z"
   },
   {
    "duration": 107,
    "start_time": "2022-07-19T09:13:10.866Z"
   },
   {
    "duration": 6,
    "start_time": "2022-07-19T09:13:10.974Z"
   },
   {
    "duration": 8,
    "start_time": "2022-07-19T09:13:10.981Z"
   },
   {
    "duration": 14,
    "start_time": "2022-07-19T09:13:10.990Z"
   },
   {
    "duration": 7,
    "start_time": "2022-07-19T09:13:11.007Z"
   },
   {
    "duration": 551,
    "start_time": "2022-07-19T09:15:11.211Z"
   },
   {
    "duration": 14,
    "start_time": "2022-07-19T09:15:11.764Z"
   },
   {
    "duration": 2385,
    "start_time": "2022-07-19T09:15:11.779Z"
   },
   {
    "duration": 4,
    "start_time": "2022-07-19T09:15:14.166Z"
   },
   {
    "duration": 8,
    "start_time": "2022-07-19T09:15:14.172Z"
   },
   {
    "duration": 12,
    "start_time": "2022-07-19T09:15:14.181Z"
   },
   {
    "duration": 13,
    "start_time": "2022-07-19T09:15:14.194Z"
   },
   {
    "duration": 8,
    "start_time": "2022-07-19T09:15:14.209Z"
   },
   {
    "duration": 5,
    "start_time": "2022-07-19T09:15:14.219Z"
   },
   {
    "duration": 11,
    "start_time": "2022-07-19T09:15:14.226Z"
   },
   {
    "duration": 21,
    "start_time": "2022-07-19T09:15:14.239Z"
   },
   {
    "duration": 13,
    "start_time": "2022-07-19T09:15:14.261Z"
   },
   {
    "duration": 288,
    "start_time": "2022-07-19T09:15:14.276Z"
   },
   {
    "duration": 4,
    "start_time": "2022-07-19T09:15:14.567Z"
   },
   {
    "duration": 46,
    "start_time": "2022-07-19T09:15:14.573Z"
   },
   {
    "duration": 9,
    "start_time": "2022-07-19T09:15:14.621Z"
   },
   {
    "duration": 105,
    "start_time": "2022-07-19T09:15:14.632Z"
   },
   {
    "duration": 5,
    "start_time": "2022-07-19T09:15:14.738Z"
   },
   {
    "duration": 12,
    "start_time": "2022-07-19T09:15:14.744Z"
   },
   {
    "duration": 6,
    "start_time": "2022-07-19T09:15:14.757Z"
   },
   {
    "duration": 9,
    "start_time": "2022-07-19T09:15:14.765Z"
   },
   {
    "duration": 11,
    "start_time": "2022-07-19T09:18:38.233Z"
   },
   {
    "duration": 9,
    "start_time": "2022-07-19T09:18:57.250Z"
   },
   {
    "duration": 15,
    "start_time": "2022-07-19T09:19:27.626Z"
   },
   {
    "duration": 9,
    "start_time": "2022-07-19T09:21:55.750Z"
   },
   {
    "duration": 8,
    "start_time": "2022-07-19T09:22:44.887Z"
   },
   {
    "duration": 8,
    "start_time": "2022-07-19T09:22:51.162Z"
   },
   {
    "duration": 7,
    "start_time": "2022-07-19T09:26:47.002Z"
   },
   {
    "duration": 6,
    "start_time": "2022-07-19T09:28:31.896Z"
   },
   {
    "duration": 33,
    "start_time": "2022-07-19T09:28:51.627Z"
   },
   {
    "duration": 6,
    "start_time": "2022-07-19T09:29:15.289Z"
   },
   {
    "duration": 29,
    "start_time": "2022-07-19T09:29:16.565Z"
   },
   {
    "duration": 33,
    "start_time": "2022-07-19T09:29:23.508Z"
   },
   {
    "duration": 6,
    "start_time": "2022-07-19T09:33:23.104Z"
   },
   {
    "duration": 7,
    "start_time": "2022-07-19T09:35:20.641Z"
   },
   {
    "duration": 6,
    "start_time": "2022-07-19T09:35:28.091Z"
   },
   {
    "duration": 76,
    "start_time": "2022-07-19T09:35:36.003Z"
   },
   {
    "duration": 12,
    "start_time": "2022-07-19T09:35:47.478Z"
   },
   {
    "duration": 6,
    "start_time": "2022-07-19T09:35:52.678Z"
   },
   {
    "duration": 36,
    "start_time": "2022-07-19T09:36:35.604Z"
   },
   {
    "duration": 7,
    "start_time": "2022-07-19T09:37:29.342Z"
   },
   {
    "duration": 5,
    "start_time": "2022-07-19T09:40:49.258Z"
   },
   {
    "duration": 503,
    "start_time": "2022-07-19T09:42:41.533Z"
   },
   {
    "duration": 15,
    "start_time": "2022-07-19T09:42:42.038Z"
   },
   {
    "duration": 2487,
    "start_time": "2022-07-19T09:42:42.054Z"
   },
   {
    "duration": 6,
    "start_time": "2022-07-19T09:42:44.543Z"
   },
   {
    "duration": 9,
    "start_time": "2022-07-19T09:42:44.551Z"
   },
   {
    "duration": 7,
    "start_time": "2022-07-19T09:42:44.562Z"
   },
   {
    "duration": 11,
    "start_time": "2022-07-19T09:42:44.571Z"
   },
   {
    "duration": 9,
    "start_time": "2022-07-19T09:42:44.583Z"
   },
   {
    "duration": 8,
    "start_time": "2022-07-19T09:42:44.594Z"
   },
   {
    "duration": 16,
    "start_time": "2022-07-19T09:42:44.604Z"
   },
   {
    "duration": 18,
    "start_time": "2022-07-19T09:42:44.622Z"
   },
   {
    "duration": 15,
    "start_time": "2022-07-19T09:42:44.642Z"
   },
   {
    "duration": 10,
    "start_time": "2022-07-19T09:42:44.658Z"
   },
   {
    "duration": 7,
    "start_time": "2022-07-19T09:42:44.671Z"
   },
   {
    "duration": 7,
    "start_time": "2022-07-19T09:42:44.680Z"
   },
   {
    "duration": 15,
    "start_time": "2022-07-19T09:42:44.688Z"
   },
   {
    "duration": 34,
    "start_time": "2022-07-19T09:42:44.705Z"
   },
   {
    "duration": 5,
    "start_time": "2022-07-19T09:42:44.741Z"
   },
   {
    "duration": 123,
    "start_time": "2022-07-19T09:42:44.748Z"
   },
   {
    "duration": 6,
    "start_time": "2022-07-19T09:42:44.873Z"
   },
   {
    "duration": 8,
    "start_time": "2022-07-19T09:42:44.881Z"
   },
   {
    "duration": 15,
    "start_time": "2022-07-19T09:42:44.901Z"
   },
   {
    "duration": 17,
    "start_time": "2022-07-19T09:42:44.918Z"
   },
   {
    "duration": 8,
    "start_time": "2022-07-19T09:42:44.937Z"
   },
   {
    "duration": 6,
    "start_time": "2022-07-19T09:43:26.713Z"
   },
   {
    "duration": 6,
    "start_time": "2022-07-19T09:48:53.319Z"
   },
   {
    "duration": 4,
    "start_time": "2022-07-19T09:49:06.468Z"
   },
   {
    "duration": 5,
    "start_time": "2022-07-19T09:50:48.280Z"
   },
   {
    "duration": 6,
    "start_time": "2022-07-19T09:51:34.821Z"
   },
   {
    "duration": 79,
    "start_time": "2022-07-19T09:51:38.607Z"
   },
   {
    "duration": 5,
    "start_time": "2022-07-19T09:51:41.481Z"
   },
   {
    "duration": 8,
    "start_time": "2022-07-19T09:51:44.242Z"
   },
   {
    "duration": 5,
    "start_time": "2022-07-19T09:51:46.338Z"
   },
   {
    "duration": 3,
    "start_time": "2022-07-19T09:53:16.194Z"
   },
   {
    "duration": 33,
    "start_time": "2022-07-19T09:54:56.883Z"
   },
   {
    "duration": 14,
    "start_time": "2022-07-19T09:55:04.044Z"
   },
   {
    "duration": 86,
    "start_time": "2022-07-19T15:13:17.331Z"
   },
   {
    "duration": 1145,
    "start_time": "2022-07-19T15:13:27.608Z"
   },
   {
    "duration": 21,
    "start_time": "2022-07-19T15:13:28.756Z"
   },
   {
    "duration": 2774,
    "start_time": "2022-07-19T15:13:28.778Z"
   },
   {
    "duration": 7,
    "start_time": "2022-07-19T15:13:31.555Z"
   },
   {
    "duration": 45,
    "start_time": "2022-07-19T15:13:31.566Z"
   },
   {
    "duration": 25,
    "start_time": "2022-07-19T15:13:31.613Z"
   },
   {
    "duration": 52,
    "start_time": "2022-07-19T15:13:31.641Z"
   },
   {
    "duration": 32,
    "start_time": "2022-07-19T15:13:31.695Z"
   },
   {
    "duration": 15,
    "start_time": "2022-07-19T15:13:31.730Z"
   },
   {
    "duration": 11,
    "start_time": "2022-07-19T15:13:31.748Z"
   },
   {
    "duration": 39,
    "start_time": "2022-07-19T15:13:31.761Z"
   },
   {
    "duration": 30,
    "start_time": "2022-07-19T15:13:31.802Z"
   },
   {
    "duration": 24,
    "start_time": "2022-07-19T15:13:31.834Z"
   },
   {
    "duration": 30,
    "start_time": "2022-07-19T15:13:31.864Z"
   },
   {
    "duration": 17,
    "start_time": "2022-07-19T15:13:31.897Z"
   },
   {
    "duration": 21,
    "start_time": "2022-07-19T15:13:31.916Z"
   },
   {
    "duration": 81,
    "start_time": "2022-07-19T15:13:31.939Z"
   },
   {
    "duration": 37,
    "start_time": "2022-07-19T15:13:32.023Z"
   },
   {
    "duration": 122,
    "start_time": "2022-07-19T15:13:32.063Z"
   },
   {
    "duration": 6,
    "start_time": "2022-07-19T15:13:32.187Z"
   },
   {
    "duration": 22,
    "start_time": "2022-07-19T15:13:32.195Z"
   },
   {
    "duration": 28,
    "start_time": "2022-07-19T15:13:32.219Z"
   },
   {
    "duration": 24,
    "start_time": "2022-07-19T15:13:32.250Z"
   },
   {
    "duration": 22,
    "start_time": "2022-07-19T15:13:32.277Z"
   },
   {
    "duration": 19,
    "start_time": "2022-07-19T15:13:32.302Z"
   },
   {
    "duration": 14,
    "start_time": "2022-07-19T15:13:32.323Z"
   },
   {
    "duration": 16,
    "start_time": "2022-07-19T15:13:32.340Z"
   },
   {
    "duration": 75,
    "start_time": "2022-07-19T15:13:32.358Z"
   },
   {
    "duration": 26,
    "start_time": "2022-07-19T15:13:32.435Z"
   },
   {
    "duration": 20,
    "start_time": "2022-07-19T15:13:32.465Z"
   },
   {
    "duration": 507,
    "start_time": "2022-07-19T15:13:32.492Z"
   },
   {
    "duration": 9,
    "start_time": "2022-07-19T15:13:33.001Z"
   },
   {
    "duration": 86,
    "start_time": "2022-07-19T15:14:47.755Z"
   },
   {
    "duration": 10,
    "start_time": "2022-07-19T15:14:53.488Z"
   },
   {
    "duration": 7,
    "start_time": "2022-07-19T15:15:30.787Z"
   },
   {
    "duration": 11,
    "start_time": "2022-07-19T15:15:43.817Z"
   },
   {
    "duration": 10,
    "start_time": "2022-07-19T15:16:13.245Z"
   },
   {
    "duration": 581,
    "start_time": "2022-07-19T15:33:39.142Z"
   },
   {
    "duration": 17,
    "start_time": "2022-07-19T15:33:39.725Z"
   },
   {
    "duration": 2988,
    "start_time": "2022-07-19T15:33:39.744Z"
   },
   {
    "duration": 7,
    "start_time": "2022-07-19T15:33:42.735Z"
   },
   {
    "duration": 54,
    "start_time": "2022-07-19T15:33:42.744Z"
   },
   {
    "duration": 13,
    "start_time": "2022-07-19T15:33:42.800Z"
   },
   {
    "duration": 17,
    "start_time": "2022-07-19T15:33:42.816Z"
   },
   {
    "duration": 23,
    "start_time": "2022-07-19T15:33:42.836Z"
   },
   {
    "duration": 22,
    "start_time": "2022-07-19T15:33:42.862Z"
   },
   {
    "duration": 48,
    "start_time": "2022-07-19T15:33:42.889Z"
   },
   {
    "duration": 50,
    "start_time": "2022-07-19T15:33:42.939Z"
   },
   {
    "duration": 22,
    "start_time": "2022-07-19T15:33:42.992Z"
   },
   {
    "duration": 35,
    "start_time": "2022-07-19T15:33:43.018Z"
   },
   {
    "duration": 8,
    "start_time": "2022-07-19T15:33:43.057Z"
   },
   {
    "duration": 6,
    "start_time": "2022-07-19T15:33:43.069Z"
   },
   {
    "duration": 14,
    "start_time": "2022-07-19T15:33:43.078Z"
   },
   {
    "duration": 72,
    "start_time": "2022-07-19T15:33:43.096Z"
   },
   {
    "duration": 8,
    "start_time": "2022-07-19T15:33:43.172Z"
   },
   {
    "duration": 148,
    "start_time": "2022-07-19T15:33:43.183Z"
   },
   {
    "duration": 8,
    "start_time": "2022-07-19T15:33:43.335Z"
   },
   {
    "duration": 22,
    "start_time": "2022-07-19T15:33:43.345Z"
   },
   {
    "duration": 10,
    "start_time": "2022-07-19T15:33:43.370Z"
   },
   {
    "duration": 19,
    "start_time": "2022-07-19T15:33:43.383Z"
   },
   {
    "duration": 19,
    "start_time": "2022-07-19T15:33:43.404Z"
   },
   {
    "duration": 19,
    "start_time": "2022-07-19T15:33:43.425Z"
   },
   {
    "duration": 18,
    "start_time": "2022-07-19T15:33:43.446Z"
   },
   {
    "duration": 14,
    "start_time": "2022-07-19T15:33:43.466Z"
   },
   {
    "duration": 5,
    "start_time": "2022-07-19T15:33:43.484Z"
   },
   {
    "duration": 18,
    "start_time": "2022-07-19T15:33:43.492Z"
   },
   {
    "duration": 87,
    "start_time": "2022-07-19T15:33:43.512Z"
   },
   {
    "duration": 29,
    "start_time": "2022-07-19T15:33:43.602Z"
   },
   {
    "duration": 38,
    "start_time": "2022-07-19T15:33:43.635Z"
   },
   {
    "duration": 462,
    "start_time": "2022-07-19T15:33:43.676Z"
   },
   {
    "duration": 8,
    "start_time": "2022-07-19T15:33:44.140Z"
   },
   {
    "duration": 316,
    "start_time": "2022-07-19T15:37:10.877Z"
   },
   {
    "duration": 628,
    "start_time": "2022-07-19T16:34:32.200Z"
   },
   {
    "duration": 19,
    "start_time": "2022-07-19T16:34:32.831Z"
   },
   {
    "duration": 2748,
    "start_time": "2022-07-19T16:34:32.852Z"
   },
   {
    "duration": 6,
    "start_time": "2022-07-19T16:34:35.602Z"
   },
   {
    "duration": 40,
    "start_time": "2022-07-19T16:34:35.613Z"
   },
   {
    "duration": 10,
    "start_time": "2022-07-19T16:34:35.657Z"
   },
   {
    "duration": 21,
    "start_time": "2022-07-19T16:34:35.669Z"
   },
   {
    "duration": 15,
    "start_time": "2022-07-19T16:34:35.693Z"
   },
   {
    "duration": 7,
    "start_time": "2022-07-19T16:34:35.710Z"
   },
   {
    "duration": 10,
    "start_time": "2022-07-19T16:34:35.719Z"
   },
   {
    "duration": 24,
    "start_time": "2022-07-19T16:34:35.731Z"
   },
   {
    "duration": 25,
    "start_time": "2022-07-19T16:34:35.757Z"
   },
   {
    "duration": 11,
    "start_time": "2022-07-19T16:34:35.785Z"
   },
   {
    "duration": 11,
    "start_time": "2022-07-19T16:34:35.799Z"
   },
   {
    "duration": 8,
    "start_time": "2022-07-19T16:34:35.812Z"
   },
   {
    "duration": 9,
    "start_time": "2022-07-19T16:34:35.822Z"
   },
   {
    "duration": 46,
    "start_time": "2022-07-19T16:34:35.833Z"
   },
   {
    "duration": 9,
    "start_time": "2022-07-19T16:34:35.882Z"
   },
   {
    "duration": 139,
    "start_time": "2022-07-19T16:34:35.892Z"
   },
   {
    "duration": 7,
    "start_time": "2022-07-19T16:34:36.033Z"
   },
   {
    "duration": 19,
    "start_time": "2022-07-19T16:34:36.042Z"
   },
   {
    "duration": 37,
    "start_time": "2022-07-19T16:34:36.063Z"
   },
   {
    "duration": 14,
    "start_time": "2022-07-19T16:34:36.102Z"
   },
   {
    "duration": 14,
    "start_time": "2022-07-19T16:34:36.119Z"
   },
   {
    "duration": 17,
    "start_time": "2022-07-19T16:34:36.134Z"
   },
   {
    "duration": 61,
    "start_time": "2022-07-19T16:34:36.153Z"
   },
   {
    "duration": 13,
    "start_time": "2022-07-19T16:34:36.216Z"
   },
   {
    "duration": 9,
    "start_time": "2022-07-19T16:34:36.230Z"
   },
   {
    "duration": 7,
    "start_time": "2022-07-19T16:34:36.240Z"
   },
   {
    "duration": 49,
    "start_time": "2022-07-19T16:34:36.249Z"
   },
   {
    "duration": 22,
    "start_time": "2022-07-19T16:34:36.300Z"
   },
   {
    "duration": 14,
    "start_time": "2022-07-19T16:34:36.324Z"
   },
   {
    "duration": 398,
    "start_time": "2022-07-19T16:34:36.340Z"
   },
   {
    "duration": 5,
    "start_time": "2022-07-19T16:34:36.740Z"
   },
   {
    "duration": 596,
    "start_time": "2022-07-19T16:36:37.088Z"
   },
   {
    "duration": 23,
    "start_time": "2022-07-19T16:36:37.686Z"
   },
   {
    "duration": 2482,
    "start_time": "2022-07-19T16:36:37.711Z"
   },
   {
    "duration": 7,
    "start_time": "2022-07-19T16:36:40.195Z"
   },
   {
    "duration": 18,
    "start_time": "2022-07-19T16:36:40.205Z"
   },
   {
    "duration": 7,
    "start_time": "2022-07-19T16:36:40.224Z"
   },
   {
    "duration": 7,
    "start_time": "2022-07-19T16:36:40.232Z"
   },
   {
    "duration": 6,
    "start_time": "2022-07-19T16:36:40.240Z"
   },
   {
    "duration": 6,
    "start_time": "2022-07-19T16:36:40.247Z"
   },
   {
    "duration": 6,
    "start_time": "2022-07-19T16:36:40.255Z"
   },
   {
    "duration": 13,
    "start_time": "2022-07-19T16:36:40.262Z"
   },
   {
    "duration": 22,
    "start_time": "2022-07-19T16:36:40.277Z"
   },
   {
    "duration": 13,
    "start_time": "2022-07-19T16:36:40.301Z"
   },
   {
    "duration": 5,
    "start_time": "2022-07-19T16:36:40.317Z"
   },
   {
    "duration": 5,
    "start_time": "2022-07-19T16:36:40.324Z"
   },
   {
    "duration": 8,
    "start_time": "2022-07-19T16:36:40.331Z"
   },
   {
    "duration": 44,
    "start_time": "2022-07-19T16:36:40.365Z"
   },
   {
    "duration": 13,
    "start_time": "2022-07-19T16:36:40.413Z"
   },
   {
    "duration": 130,
    "start_time": "2022-07-19T16:36:40.429Z"
   },
   {
    "duration": 6,
    "start_time": "2022-07-19T16:36:40.561Z"
   },
   {
    "duration": 35,
    "start_time": "2022-07-19T16:36:40.569Z"
   },
   {
    "duration": 12,
    "start_time": "2022-07-19T16:36:40.609Z"
   },
   {
    "duration": 32,
    "start_time": "2022-07-19T16:36:40.623Z"
   },
   {
    "duration": 15,
    "start_time": "2022-07-19T16:36:40.657Z"
   },
   {
    "duration": 25,
    "start_time": "2022-07-19T16:36:40.673Z"
   },
   {
    "duration": 51,
    "start_time": "2022-07-19T16:36:40.700Z"
   },
   {
    "duration": 0,
    "start_time": "2022-07-19T16:36:40.753Z"
   },
   {
    "duration": 0,
    "start_time": "2022-07-19T16:36:40.754Z"
   },
   {
    "duration": 0,
    "start_time": "2022-07-19T16:36:40.755Z"
   },
   {
    "duration": 0,
    "start_time": "2022-07-19T16:36:40.757Z"
   },
   {
    "duration": 0,
    "start_time": "2022-07-19T16:36:40.758Z"
   },
   {
    "duration": 0,
    "start_time": "2022-07-19T16:36:40.759Z"
   },
   {
    "duration": 0,
    "start_time": "2022-07-19T16:36:40.760Z"
   },
   {
    "duration": 0,
    "start_time": "2022-07-19T16:36:40.761Z"
   },
   {
    "duration": 40,
    "start_time": "2022-07-19T16:37:46.517Z"
   },
   {
    "duration": 13,
    "start_time": "2022-07-19T16:37:47.620Z"
   },
   {
    "duration": 594,
    "start_time": "2022-07-19T16:38:39.562Z"
   },
   {
    "duration": 20,
    "start_time": "2022-07-19T16:38:40.158Z"
   },
   {
    "duration": 2380,
    "start_time": "2022-07-19T16:38:40.180Z"
   },
   {
    "duration": 8,
    "start_time": "2022-07-19T16:38:42.563Z"
   },
   {
    "duration": 14,
    "start_time": "2022-07-19T16:38:42.574Z"
   },
   {
    "duration": 19,
    "start_time": "2022-07-19T16:38:42.591Z"
   },
   {
    "duration": 12,
    "start_time": "2022-07-19T16:38:42.612Z"
   },
   {
    "duration": 17,
    "start_time": "2022-07-19T16:38:42.626Z"
   },
   {
    "duration": 12,
    "start_time": "2022-07-19T16:38:42.645Z"
   },
   {
    "duration": 36,
    "start_time": "2022-07-19T16:38:42.659Z"
   },
   {
    "duration": 21,
    "start_time": "2022-07-19T16:38:42.697Z"
   },
   {
    "duration": 20,
    "start_time": "2022-07-19T16:38:42.720Z"
   },
   {
    "duration": 12,
    "start_time": "2022-07-19T16:38:42.743Z"
   },
   {
    "duration": 6,
    "start_time": "2022-07-19T16:38:42.759Z"
   },
   {
    "duration": 20,
    "start_time": "2022-07-19T16:38:42.767Z"
   },
   {
    "duration": 22,
    "start_time": "2022-07-19T16:38:42.789Z"
   },
   {
    "duration": 41,
    "start_time": "2022-07-19T16:38:42.813Z"
   },
   {
    "duration": 6,
    "start_time": "2022-07-19T16:38:42.856Z"
   },
   {
    "duration": 108,
    "start_time": "2022-07-19T16:38:42.864Z"
   },
   {
    "duration": 5,
    "start_time": "2022-07-19T16:38:42.974Z"
   },
   {
    "duration": 19,
    "start_time": "2022-07-19T16:38:42.981Z"
   },
   {
    "duration": 10,
    "start_time": "2022-07-19T16:38:43.002Z"
   },
   {
    "duration": 16,
    "start_time": "2022-07-19T16:38:43.014Z"
   },
   {
    "duration": 5,
    "start_time": "2022-07-19T16:38:43.032Z"
   },
   {
    "duration": 24,
    "start_time": "2022-07-19T16:38:43.039Z"
   },
   {
    "duration": 87,
    "start_time": "2022-07-19T16:38:43.068Z"
   },
   {
    "duration": 11,
    "start_time": "2022-07-19T16:38:43.156Z"
   },
   {
    "duration": 13,
    "start_time": "2022-07-19T16:38:43.170Z"
   },
   {
    "duration": 18,
    "start_time": "2022-07-19T16:38:43.185Z"
   },
   {
    "duration": 29,
    "start_time": "2022-07-19T16:38:43.206Z"
   },
   {
    "duration": 19,
    "start_time": "2022-07-19T16:38:43.237Z"
   },
   {
    "duration": 17,
    "start_time": "2022-07-19T16:38:43.258Z"
   },
   {
    "duration": 314,
    "start_time": "2022-07-19T16:38:43.277Z"
   },
   {
    "duration": 5,
    "start_time": "2022-07-19T16:38:43.593Z"
   },
   {
    "duration": 128,
    "start_time": "2022-07-19T16:41:49.604Z"
   },
   {
    "duration": 149,
    "start_time": "2022-07-19T16:42:01.582Z"
   },
   {
    "duration": 414,
    "start_time": "2022-07-19T16:42:05.591Z"
   },
   {
    "duration": 145,
    "start_time": "2022-07-19T16:42:10.821Z"
   },
   {
    "duration": 903,
    "start_time": "2022-07-19T16:42:14.120Z"
   },
   {
    "duration": 185,
    "start_time": "2022-07-19T16:42:26.040Z"
   },
   {
    "duration": 10,
    "start_time": "2022-07-19T16:42:45.620Z"
   },
   {
    "duration": 78,
    "start_time": "2022-07-19T16:52:34.045Z"
   },
   {
    "duration": 4138,
    "start_time": "2022-07-19T16:52:40.160Z"
   },
   {
    "duration": 3027,
    "start_time": "2022-07-19T16:52:50.199Z"
   },
   {
    "duration": 3683,
    "start_time": "2022-07-19T16:52:59.281Z"
   },
   {
    "duration": 314,
    "start_time": "2022-07-19T16:55:30.720Z"
   },
   {
    "duration": 245,
    "start_time": "2022-07-19T16:55:39.689Z"
   },
   {
    "duration": 1989,
    "start_time": "2022-07-19T16:56:01.401Z"
   },
   {
    "duration": 756,
    "start_time": "2022-07-19T16:56:05.757Z"
   },
   {
    "duration": 236,
    "start_time": "2022-07-19T16:56:55.210Z"
   },
   {
    "duration": 229,
    "start_time": "2022-07-19T16:57:00.060Z"
   },
   {
    "duration": 739,
    "start_time": "2022-07-19T17:01:38.290Z"
   },
   {
    "duration": 1072,
    "start_time": "2022-07-19T17:01:57.839Z"
   },
   {
    "duration": 1038,
    "start_time": "2022-07-19T17:02:25.096Z"
   },
   {
    "duration": 1257,
    "start_time": "2022-07-19T17:02:33.286Z"
   },
   {
    "duration": 1056,
    "start_time": "2022-07-19T17:02:41.947Z"
   },
   {
    "duration": 433,
    "start_time": "2022-07-19T17:03:05.021Z"
   },
   {
    "duration": 1231,
    "start_time": "2022-07-19T17:03:10.419Z"
   },
   {
    "duration": 1315,
    "start_time": "2022-07-19T17:03:52.412Z"
   },
   {
    "duration": 1461,
    "start_time": "2022-07-19T17:04:10.839Z"
   },
   {
    "duration": 1072,
    "start_time": "2022-07-19T17:04:20.689Z"
   },
   {
    "duration": 1253,
    "start_time": "2022-07-19T17:04:28.257Z"
   },
   {
    "duration": 18,
    "start_time": "2022-07-19T17:05:38.535Z"
   },
   {
    "duration": 2885,
    "start_time": "2022-07-19T17:08:14.246Z"
   },
   {
    "duration": 2673,
    "start_time": "2022-07-19T17:08:29.319Z"
   },
   {
    "duration": 2333,
    "start_time": "2022-07-19T17:08:43.710Z"
   },
   {
    "duration": 5,
    "start_time": "2022-07-19T17:10:12.836Z"
   },
   {
    "duration": 8,
    "start_time": "2022-07-19T17:10:35.799Z"
   },
   {
    "duration": 49,
    "start_time": "2022-07-19T17:12:12.193Z"
   },
   {
    "duration": 29,
    "start_time": "2022-07-19T17:12:32.392Z"
   },
   {
    "duration": 726,
    "start_time": "2022-07-19T17:12:57.482Z"
   },
   {
    "duration": 54,
    "start_time": "2022-07-20T05:46:49.592Z"
   },
   {
    "duration": 879,
    "start_time": "2022-07-20T05:46:57.875Z"
   },
   {
    "duration": 30,
    "start_time": "2022-07-20T05:46:58.756Z"
   },
   {
    "duration": 2901,
    "start_time": "2022-07-20T05:46:58.789Z"
   },
   {
    "duration": 9,
    "start_time": "2022-07-20T05:47:01.692Z"
   },
   {
    "duration": 52,
    "start_time": "2022-07-20T05:47:01.704Z"
   },
   {
    "duration": 69,
    "start_time": "2022-07-20T05:47:01.757Z"
   },
   {
    "duration": 78,
    "start_time": "2022-07-20T05:47:01.827Z"
   },
   {
    "duration": 7,
    "start_time": "2022-07-20T05:47:01.907Z"
   },
   {
    "duration": 32,
    "start_time": "2022-07-20T05:47:01.916Z"
   },
   {
    "duration": 69,
    "start_time": "2022-07-20T05:47:01.950Z"
   },
   {
    "duration": 28,
    "start_time": "2022-07-20T05:47:02.021Z"
   },
   {
    "duration": 64,
    "start_time": "2022-07-20T05:47:02.051Z"
   },
   {
    "duration": 38,
    "start_time": "2022-07-20T05:47:02.117Z"
   },
   {
    "duration": 46,
    "start_time": "2022-07-20T05:47:02.159Z"
   },
   {
    "duration": 15,
    "start_time": "2022-07-20T05:47:02.207Z"
   },
   {
    "duration": 11,
    "start_time": "2022-07-20T05:47:02.224Z"
   },
   {
    "duration": 66,
    "start_time": "2022-07-20T05:47:02.237Z"
   },
   {
    "duration": 15,
    "start_time": "2022-07-20T05:47:02.305Z"
   },
   {
    "duration": 113,
    "start_time": "2022-07-20T05:47:02.322Z"
   },
   {
    "duration": 7,
    "start_time": "2022-07-20T05:47:02.437Z"
   },
   {
    "duration": 29,
    "start_time": "2022-07-20T05:47:02.446Z"
   },
   {
    "duration": 41,
    "start_time": "2022-07-20T05:47:02.477Z"
   },
   {
    "duration": 14,
    "start_time": "2022-07-20T05:47:02.520Z"
   },
   {
    "duration": 5,
    "start_time": "2022-07-20T05:47:02.535Z"
   },
   {
    "duration": 14,
    "start_time": "2022-07-20T05:47:02.541Z"
   },
   {
    "duration": 65,
    "start_time": "2022-07-20T05:47:02.557Z"
   },
   {
    "duration": 10,
    "start_time": "2022-07-20T05:47:02.624Z"
   },
   {
    "duration": 7,
    "start_time": "2022-07-20T05:47:02.636Z"
   },
   {
    "duration": 8,
    "start_time": "2022-07-20T05:47:02.645Z"
   },
   {
    "duration": 48,
    "start_time": "2022-07-20T05:47:02.655Z"
   },
   {
    "duration": 36,
    "start_time": "2022-07-20T05:47:02.704Z"
   },
   {
    "duration": 15,
    "start_time": "2022-07-20T05:47:02.742Z"
   },
   {
    "duration": 368,
    "start_time": "2022-07-20T05:47:02.761Z"
   },
   {
    "duration": 4,
    "start_time": "2022-07-20T05:47:03.131Z"
   },
   {
    "duration": 54,
    "start_time": "2022-07-20T05:47:03.137Z"
   },
   {
    "duration": 197,
    "start_time": "2022-07-20T05:47:03.199Z"
   },
   {
    "duration": 251,
    "start_time": "2022-07-20T05:47:03.398Z"
   },
   {
    "duration": 10,
    "start_time": "2022-07-20T05:47:03.651Z"
   },
   {
    "duration": 210,
    "start_time": "2022-07-20T05:47:29.051Z"
   },
   {
    "duration": 612,
    "start_time": "2022-07-20T05:49:03.586Z"
   },
   {
    "duration": 17,
    "start_time": "2022-07-20T05:49:04.200Z"
   },
   {
    "duration": 2810,
    "start_time": "2022-07-20T05:49:04.218Z"
   },
   {
    "duration": 5,
    "start_time": "2022-07-20T05:49:07.030Z"
   },
   {
    "duration": 8,
    "start_time": "2022-07-20T05:49:07.038Z"
   },
   {
    "duration": 29,
    "start_time": "2022-07-20T05:49:07.047Z"
   },
   {
    "duration": 28,
    "start_time": "2022-07-20T05:49:07.078Z"
   },
   {
    "duration": 36,
    "start_time": "2022-07-20T05:49:07.107Z"
   },
   {
    "duration": 14,
    "start_time": "2022-07-20T05:49:07.145Z"
   },
   {
    "duration": 45,
    "start_time": "2022-07-20T05:49:07.165Z"
   },
   {
    "duration": 29,
    "start_time": "2022-07-20T05:49:07.212Z"
   },
   {
    "duration": 38,
    "start_time": "2022-07-20T05:49:07.243Z"
   },
   {
    "duration": 44,
    "start_time": "2022-07-20T05:49:07.282Z"
   },
   {
    "duration": 9,
    "start_time": "2022-07-20T05:49:07.330Z"
   },
   {
    "duration": 25,
    "start_time": "2022-07-20T05:49:07.341Z"
   },
   {
    "duration": 39,
    "start_time": "2022-07-20T05:49:07.367Z"
   },
   {
    "duration": 35,
    "start_time": "2022-07-20T05:49:07.408Z"
   },
   {
    "duration": 8,
    "start_time": "2022-07-20T05:49:07.445Z"
   },
   {
    "duration": 94,
    "start_time": "2022-07-20T05:49:07.454Z"
   },
   {
    "duration": 5,
    "start_time": "2022-07-20T05:49:07.549Z"
   },
   {
    "duration": 50,
    "start_time": "2022-07-20T05:49:07.556Z"
   },
   {
    "duration": 20,
    "start_time": "2022-07-20T05:49:07.608Z"
   },
   {
    "duration": 17,
    "start_time": "2022-07-20T05:49:07.630Z"
   },
   {
    "duration": 41,
    "start_time": "2022-07-20T05:49:07.649Z"
   },
   {
    "duration": 33,
    "start_time": "2022-07-20T05:49:07.692Z"
   },
   {
    "duration": 86,
    "start_time": "2022-07-20T05:49:07.727Z"
   },
   {
    "duration": 10,
    "start_time": "2022-07-20T05:49:07.815Z"
   },
   {
    "duration": 14,
    "start_time": "2022-07-20T05:49:07.827Z"
   },
   {
    "duration": 10,
    "start_time": "2022-07-20T05:49:07.842Z"
   },
   {
    "duration": 77,
    "start_time": "2022-07-20T05:49:07.853Z"
   },
   {
    "duration": 18,
    "start_time": "2022-07-20T05:49:07.932Z"
   },
   {
    "duration": 18,
    "start_time": "2022-07-20T05:49:07.951Z"
   },
   {
    "duration": 414,
    "start_time": "2022-07-20T05:49:07.971Z"
   },
   {
    "duration": 18,
    "start_time": "2022-07-20T05:49:08.387Z"
   },
   {
    "duration": 19,
    "start_time": "2022-07-20T05:49:08.407Z"
   },
   {
    "duration": 189,
    "start_time": "2022-07-20T05:49:08.428Z"
   },
   {
    "duration": 209,
    "start_time": "2022-07-20T05:49:08.619Z"
   },
   {
    "duration": 9,
    "start_time": "2022-07-20T05:49:08.831Z"
   },
   {
    "duration": 297,
    "start_time": "2022-07-20T05:49:08.842Z"
   },
   {
    "duration": 531,
    "start_time": "2022-07-20T05:49:43.322Z"
   },
   {
    "duration": 22,
    "start_time": "2022-07-20T05:49:43.855Z"
   },
   {
    "duration": 2617,
    "start_time": "2022-07-20T05:49:43.878Z"
   },
   {
    "duration": 6,
    "start_time": "2022-07-20T05:49:46.498Z"
   },
   {
    "duration": 29,
    "start_time": "2022-07-20T05:49:46.506Z"
   },
   {
    "duration": 19,
    "start_time": "2022-07-20T05:49:46.537Z"
   },
   {
    "duration": 66,
    "start_time": "2022-07-20T05:49:46.558Z"
   },
   {
    "duration": 14,
    "start_time": "2022-07-20T05:49:46.626Z"
   },
   {
    "duration": 11,
    "start_time": "2022-07-20T05:49:46.642Z"
   },
   {
    "duration": 46,
    "start_time": "2022-07-20T05:49:46.656Z"
   },
   {
    "duration": 26,
    "start_time": "2022-07-20T05:49:46.704Z"
   },
   {
    "duration": 23,
    "start_time": "2022-07-20T05:49:46.732Z"
   },
   {
    "duration": 22,
    "start_time": "2022-07-20T05:49:46.756Z"
   },
   {
    "duration": 34,
    "start_time": "2022-07-20T05:49:46.787Z"
   },
   {
    "duration": 10,
    "start_time": "2022-07-20T05:49:46.823Z"
   },
   {
    "duration": 17,
    "start_time": "2022-07-20T05:49:46.836Z"
   },
   {
    "duration": 94,
    "start_time": "2022-07-20T05:49:46.856Z"
   },
   {
    "duration": 5,
    "start_time": "2022-07-20T05:49:46.952Z"
   },
   {
    "duration": 145,
    "start_time": "2022-07-20T05:49:46.960Z"
   },
   {
    "duration": 6,
    "start_time": "2022-07-20T05:49:47.109Z"
   },
   {
    "duration": 13,
    "start_time": "2022-07-20T05:49:47.117Z"
   },
   {
    "duration": 13,
    "start_time": "2022-07-20T05:49:47.132Z"
   },
   {
    "duration": 26,
    "start_time": "2022-07-20T05:49:47.147Z"
   },
   {
    "duration": 9,
    "start_time": "2022-07-20T05:49:47.181Z"
   },
   {
    "duration": 25,
    "start_time": "2022-07-20T05:49:47.192Z"
   },
   {
    "duration": 50,
    "start_time": "2022-07-20T05:49:47.219Z"
   },
   {
    "duration": 42,
    "start_time": "2022-07-20T05:49:47.271Z"
   },
   {
    "duration": 4,
    "start_time": "2022-07-20T05:49:47.315Z"
   },
   {
    "duration": 7,
    "start_time": "2022-07-20T05:49:47.321Z"
   },
   {
    "duration": 35,
    "start_time": "2022-07-20T05:49:47.330Z"
   },
   {
    "duration": 38,
    "start_time": "2022-07-20T05:49:47.369Z"
   },
   {
    "duration": 19,
    "start_time": "2022-07-20T05:49:47.409Z"
   },
   {
    "duration": 447,
    "start_time": "2022-07-20T05:49:47.430Z"
   },
   {
    "duration": 9,
    "start_time": "2022-07-20T05:49:47.883Z"
   },
   {
    "duration": 15,
    "start_time": "2022-07-20T05:49:47.899Z"
   },
   {
    "duration": 206,
    "start_time": "2022-07-20T05:49:47.916Z"
   },
   {
    "duration": 220,
    "start_time": "2022-07-20T05:49:48.124Z"
   },
   {
    "duration": 10,
    "start_time": "2022-07-20T05:49:48.346Z"
   },
   {
    "duration": 284,
    "start_time": "2022-07-20T05:49:48.361Z"
   },
   {
    "duration": 217,
    "start_time": "2022-07-20T06:09:33.601Z"
   },
   {
    "duration": 205,
    "start_time": "2022-07-20T06:09:45.948Z"
   },
   {
    "duration": 248,
    "start_time": "2022-07-20T06:10:02.083Z"
   },
   {
    "duration": 231,
    "start_time": "2022-07-20T06:10:22.902Z"
   },
   {
    "duration": 227,
    "start_time": "2022-07-20T06:10:27.619Z"
   },
   {
    "duration": 203,
    "start_time": "2022-07-20T06:11:03.898Z"
   },
   {
    "duration": 200,
    "start_time": "2022-07-20T06:11:11.515Z"
   },
   {
    "duration": 226,
    "start_time": "2022-07-20T06:12:20.621Z"
   },
   {
    "duration": 217,
    "start_time": "2022-07-20T06:12:29.937Z"
   },
   {
    "duration": 593,
    "start_time": "2022-07-20T06:12:35.198Z"
   },
   {
    "duration": 179,
    "start_time": "2022-07-20T06:12:38.332Z"
   },
   {
    "duration": 190,
    "start_time": "2022-07-20T06:12:43.308Z"
   },
   {
    "duration": 735,
    "start_time": "2022-07-20T06:12:56.721Z"
   },
   {
    "duration": 631,
    "start_time": "2022-07-20T06:14:08.083Z"
   },
   {
    "duration": 19,
    "start_time": "2022-07-20T06:14:08.717Z"
   },
   {
    "duration": 2682,
    "start_time": "2022-07-20T06:14:08.738Z"
   },
   {
    "duration": 5,
    "start_time": "2022-07-20T06:14:11.422Z"
   },
   {
    "duration": 16,
    "start_time": "2022-07-20T06:14:11.430Z"
   },
   {
    "duration": 18,
    "start_time": "2022-07-20T06:14:11.448Z"
   },
   {
    "duration": 61,
    "start_time": "2022-07-20T06:14:11.468Z"
   },
   {
    "duration": 18,
    "start_time": "2022-07-20T06:14:11.530Z"
   },
   {
    "duration": 38,
    "start_time": "2022-07-20T06:14:11.550Z"
   },
   {
    "duration": 17,
    "start_time": "2022-07-20T06:14:11.590Z"
   },
   {
    "duration": 23,
    "start_time": "2022-07-20T06:14:11.609Z"
   },
   {
    "duration": 40,
    "start_time": "2022-07-20T06:14:11.634Z"
   },
   {
    "duration": 15,
    "start_time": "2022-07-20T06:14:11.691Z"
   },
   {
    "duration": 24,
    "start_time": "2022-07-20T06:14:11.709Z"
   },
   {
    "duration": 21,
    "start_time": "2022-07-20T06:14:11.735Z"
   },
   {
    "duration": 43,
    "start_time": "2022-07-20T06:14:11.758Z"
   },
   {
    "duration": 49,
    "start_time": "2022-07-20T06:14:11.803Z"
   },
   {
    "duration": 45,
    "start_time": "2022-07-20T06:14:11.854Z"
   },
   {
    "duration": 122,
    "start_time": "2022-07-20T06:14:11.901Z"
   },
   {
    "duration": 6,
    "start_time": "2022-07-20T06:14:12.025Z"
   },
   {
    "duration": 39,
    "start_time": "2022-07-20T06:14:12.032Z"
   },
   {
    "duration": 41,
    "start_time": "2022-07-20T06:14:12.074Z"
   },
   {
    "duration": 34,
    "start_time": "2022-07-20T06:14:12.117Z"
   },
   {
    "duration": 43,
    "start_time": "2022-07-20T06:14:12.153Z"
   },
   {
    "duration": 30,
    "start_time": "2022-07-20T06:14:12.198Z"
   },
   {
    "duration": 76,
    "start_time": "2022-07-20T06:14:12.230Z"
   },
   {
    "duration": 26,
    "start_time": "2022-07-20T06:14:12.308Z"
   },
   {
    "duration": 15,
    "start_time": "2022-07-20T06:14:12.335Z"
   },
   {
    "duration": 48,
    "start_time": "2022-07-20T06:14:12.352Z"
   },
   {
    "duration": 50,
    "start_time": "2022-07-20T06:14:12.402Z"
   },
   {
    "duration": 56,
    "start_time": "2022-07-20T06:14:12.454Z"
   },
   {
    "duration": 14,
    "start_time": "2022-07-20T06:14:12.513Z"
   },
   {
    "duration": 394,
    "start_time": "2022-07-20T06:14:12.529Z"
   },
   {
    "duration": 5,
    "start_time": "2022-07-20T06:14:12.924Z"
   },
   {
    "duration": 34,
    "start_time": "2022-07-20T06:14:12.931Z"
   },
   {
    "duration": 219,
    "start_time": "2022-07-20T06:14:12.967Z"
   },
   {
    "duration": 186,
    "start_time": "2022-07-20T06:14:13.189Z"
   },
   {
    "duration": 18,
    "start_time": "2022-07-20T06:14:13.377Z"
   },
   {
    "duration": 812,
    "start_time": "2022-07-20T06:14:13.397Z"
   },
   {
    "duration": 197,
    "start_time": "2022-07-20T06:14:14.211Z"
   },
   {
    "duration": 1038,
    "start_time": "2022-07-20T06:14:34.481Z"
   },
   {
    "duration": 227,
    "start_time": "2022-07-20T06:15:29.936Z"
   },
   {
    "duration": 68,
    "start_time": "2022-07-20T06:15:59.381Z"
   },
   {
    "duration": 204,
    "start_time": "2022-07-20T06:16:07.704Z"
   },
   {
    "duration": 250,
    "start_time": "2022-07-20T06:17:12.680Z"
   },
   {
    "duration": 216,
    "start_time": "2022-07-20T06:17:23.604Z"
   },
   {
    "duration": 231,
    "start_time": "2022-07-20T06:17:27.308Z"
   },
   {
    "duration": 51,
    "start_time": "2022-07-21T07:37:43.668Z"
   },
   {
    "duration": 649,
    "start_time": "2022-07-21T07:37:57.840Z"
   },
   {
    "duration": 17,
    "start_time": "2022-07-21T07:37:58.491Z"
   },
   {
    "duration": 2500,
    "start_time": "2022-07-21T07:37:58.510Z"
   },
   {
    "duration": 6,
    "start_time": "2022-07-21T07:38:01.012Z"
   },
   {
    "duration": 15,
    "start_time": "2022-07-21T07:38:01.019Z"
   },
   {
    "duration": 5,
    "start_time": "2022-07-21T07:38:01.037Z"
   },
   {
    "duration": 15,
    "start_time": "2022-07-21T07:38:01.044Z"
   },
   {
    "duration": 10,
    "start_time": "2022-07-21T07:38:01.061Z"
   },
   {
    "duration": 8,
    "start_time": "2022-07-21T07:38:01.073Z"
   },
   {
    "duration": 10,
    "start_time": "2022-07-21T07:38:01.084Z"
   },
   {
    "duration": 9,
    "start_time": "2022-07-21T07:38:01.111Z"
   },
   {
    "duration": 22,
    "start_time": "2022-07-21T07:38:01.122Z"
   },
   {
    "duration": 10,
    "start_time": "2022-07-21T07:38:01.146Z"
   },
   {
    "duration": 17,
    "start_time": "2022-07-21T07:38:01.158Z"
   },
   {
    "duration": 14,
    "start_time": "2022-07-21T07:38:01.177Z"
   },
   {
    "duration": 7,
    "start_time": "2022-07-21T07:38:01.193Z"
   },
   {
    "duration": 34,
    "start_time": "2022-07-21T07:38:01.202Z"
   },
   {
    "duration": 7,
    "start_time": "2022-07-21T07:38:01.238Z"
   },
   {
    "duration": 92,
    "start_time": "2022-07-21T07:38:01.247Z"
   },
   {
    "duration": 6,
    "start_time": "2022-07-21T07:38:01.341Z"
   },
   {
    "duration": 9,
    "start_time": "2022-07-21T07:38:01.349Z"
   },
   {
    "duration": 9,
    "start_time": "2022-07-21T07:38:01.359Z"
   },
   {
    "duration": 25,
    "start_time": "2022-07-21T07:38:01.370Z"
   },
   {
    "duration": 29,
    "start_time": "2022-07-21T07:38:01.397Z"
   },
   {
    "duration": 18,
    "start_time": "2022-07-21T07:38:01.427Z"
   },
   {
    "duration": 44,
    "start_time": "2022-07-21T07:38:01.448Z"
   },
   {
    "duration": 17,
    "start_time": "2022-07-21T07:38:01.494Z"
   },
   {
    "duration": 13,
    "start_time": "2022-07-21T07:38:01.515Z"
   },
   {
    "duration": 6,
    "start_time": "2022-07-21T07:38:01.530Z"
   },
   {
    "duration": 34,
    "start_time": "2022-07-21T07:38:01.538Z"
   },
   {
    "duration": 18,
    "start_time": "2022-07-21T07:38:01.574Z"
   },
   {
    "duration": 15,
    "start_time": "2022-07-21T07:38:01.611Z"
   },
   {
    "duration": 364,
    "start_time": "2022-07-21T07:38:01.628Z"
   },
   {
    "duration": 4,
    "start_time": "2022-07-21T07:38:01.994Z"
   },
   {
    "duration": 22,
    "start_time": "2022-07-21T07:38:02.000Z"
   },
   {
    "duration": 226,
    "start_time": "2022-07-21T07:38:02.024Z"
   },
   {
    "duration": 249,
    "start_time": "2022-07-21T07:38:02.252Z"
   },
   {
    "duration": 15,
    "start_time": "2022-07-21T07:38:02.503Z"
   },
   {
    "duration": 660,
    "start_time": "2022-07-21T07:38:02.520Z"
   },
   {
    "duration": 203,
    "start_time": "2022-07-21T07:38:03.182Z"
   },
   {
    "duration": 212,
    "start_time": "2022-07-21T07:38:03.387Z"
   },
   {
    "duration": 196,
    "start_time": "2022-07-21T07:38:03.600Z"
   },
   {
    "duration": 251,
    "start_time": "2022-07-21T07:38:43.069Z"
   },
   {
    "duration": 397,
    "start_time": "2022-07-21T07:38:49.177Z"
   },
   {
    "duration": 386,
    "start_time": "2022-07-21T07:39:06.732Z"
   },
   {
    "duration": 251,
    "start_time": "2022-07-21T07:40:06.021Z"
   },
   {
    "duration": 244,
    "start_time": "2022-07-21T07:41:58.171Z"
   },
   {
    "duration": 262,
    "start_time": "2022-07-21T07:42:02.592Z"
   },
   {
    "duration": 392,
    "start_time": "2022-07-21T07:42:08.694Z"
   },
   {
    "duration": 412,
    "start_time": "2022-07-21T07:42:44.130Z"
   },
   {
    "duration": 269,
    "start_time": "2022-07-21T07:43:03.641Z"
   },
   {
    "duration": 260,
    "start_time": "2022-07-21T07:43:09.320Z"
   },
   {
    "duration": 283,
    "start_time": "2022-07-21T07:43:31.468Z"
   },
   {
    "duration": 261,
    "start_time": "2022-07-21T07:44:05.269Z"
   },
   {
    "duration": 392,
    "start_time": "2022-07-21T07:44:12.443Z"
   },
   {
    "duration": 282,
    "start_time": "2022-07-21T07:50:33.542Z"
   },
   {
    "duration": 252,
    "start_time": "2022-07-21T07:57:54.420Z"
   },
   {
    "duration": 82,
    "start_time": "2022-07-21T08:01:23.625Z"
   },
   {
    "duration": 83,
    "start_time": "2022-07-21T08:01:28.688Z"
   },
   {
    "duration": 218,
    "start_time": "2022-07-21T08:01:42.916Z"
   },
   {
    "duration": 223,
    "start_time": "2022-07-21T08:02:04.110Z"
   },
   {
    "duration": 209,
    "start_time": "2022-07-21T08:02:47.230Z"
   },
   {
    "duration": 453,
    "start_time": "2022-07-21T08:04:02.655Z"
   },
   {
    "duration": 331,
    "start_time": "2022-07-21T08:04:10.442Z"
   },
   {
    "duration": 309,
    "start_time": "2022-07-21T08:04:21.085Z"
   },
   {
    "duration": 534,
    "start_time": "2022-07-21T08:04:37.490Z"
   },
   {
    "duration": 403,
    "start_time": "2022-07-21T08:04:52.768Z"
   },
   {
    "duration": 407,
    "start_time": "2022-07-21T08:05:00.580Z"
   },
   {
    "duration": 770,
    "start_time": "2022-07-21T08:07:17.817Z"
   },
   {
    "duration": 435,
    "start_time": "2022-07-21T08:08:35.441Z"
   },
   {
    "duration": 453,
    "start_time": "2022-07-21T08:10:06.139Z"
   },
   {
    "duration": 14,
    "start_time": "2022-07-21T08:10:52.197Z"
   },
   {
    "duration": 334,
    "start_time": "2022-07-21T08:11:01.420Z"
   },
   {
    "duration": 338,
    "start_time": "2022-07-21T08:12:09.838Z"
   },
   {
    "duration": 430,
    "start_time": "2022-07-21T08:15:25.074Z"
   },
   {
    "duration": 353,
    "start_time": "2022-07-21T08:15:29.662Z"
   },
   {
    "duration": 381,
    "start_time": "2022-07-21T08:16:02.654Z"
   },
   {
    "duration": 94,
    "start_time": "2022-07-21T08:16:24.057Z"
   },
   {
    "duration": 117,
    "start_time": "2022-07-21T08:16:29.846Z"
   },
   {
    "duration": 137,
    "start_time": "2022-07-21T08:16:45.277Z"
   },
   {
    "duration": 113,
    "start_time": "2022-07-21T08:17:18.159Z"
   },
   {
    "duration": 350,
    "start_time": "2022-07-21T08:17:29.078Z"
   },
   {
    "duration": 341,
    "start_time": "2022-07-21T08:19:16.731Z"
   },
   {
    "duration": 420,
    "start_time": "2022-07-21T08:20:00.727Z"
   },
   {
    "duration": 421,
    "start_time": "2022-07-21T08:20:51.178Z"
   },
   {
    "duration": 429,
    "start_time": "2022-07-21T08:22:48.389Z"
   },
   {
    "duration": 672,
    "start_time": "2022-07-21T08:24:20.821Z"
   },
   {
    "duration": 318,
    "start_time": "2022-07-21T08:24:57.679Z"
   },
   {
    "duration": 1967,
    "start_time": "2022-07-21T08:25:38.595Z"
   },
   {
    "duration": 1803,
    "start_time": "2022-07-21T08:25:47.999Z"
   },
   {
    "duration": 371,
    "start_time": "2022-07-21T08:25:59.083Z"
   },
   {
    "duration": 446,
    "start_time": "2022-07-21T08:26:03.505Z"
   },
   {
    "duration": 11,
    "start_time": "2022-07-21T08:33:20.414Z"
   },
   {
    "duration": 8,
    "start_time": "2022-07-21T08:33:34.029Z"
   },
   {
    "duration": 9,
    "start_time": "2022-07-21T08:33:43.206Z"
   },
   {
    "duration": 11,
    "start_time": "2022-07-21T08:33:51.943Z"
   },
   {
    "duration": 8,
    "start_time": "2022-07-21T08:33:58.102Z"
   },
   {
    "duration": 8,
    "start_time": "2022-07-21T08:34:08.610Z"
   },
   {
    "duration": 8,
    "start_time": "2022-07-21T08:34:26.821Z"
   },
   {
    "duration": 8,
    "start_time": "2022-07-21T08:35:00.781Z"
   },
   {
    "duration": 9,
    "start_time": "2022-07-21T09:47:32.858Z"
   },
   {
    "duration": 292,
    "start_time": "2022-07-21T09:48:22.850Z"
   },
   {
    "duration": 243,
    "start_time": "2022-07-21T09:48:37.823Z"
   },
   {
    "duration": 222,
    "start_time": "2022-07-21T09:48:44.722Z"
   },
   {
    "duration": 228,
    "start_time": "2022-07-21T09:48:49.080Z"
   },
   {
    "duration": 428,
    "start_time": "2022-07-21T09:49:42.019Z"
   },
   {
    "duration": 6,
    "start_time": "2022-07-21T09:51:42.166Z"
   },
   {
    "duration": 10,
    "start_time": "2022-07-21T09:51:45.963Z"
   },
   {
    "duration": 174,
    "start_time": "2022-07-21T09:52:07.114Z"
   },
   {
    "duration": 286,
    "start_time": "2022-07-21T09:52:12.657Z"
   },
   {
    "duration": 152,
    "start_time": "2022-07-21T09:52:52.250Z"
   },
   {
    "duration": 160,
    "start_time": "2022-07-21T09:52:56.024Z"
   },
   {
    "duration": 207,
    "start_time": "2022-07-21T09:53:03.754Z"
   },
   {
    "duration": 12,
    "start_time": "2022-07-21T09:54:37.314Z"
   },
   {
    "duration": 260,
    "start_time": "2022-07-21T09:56:59.951Z"
   },
   {
    "duration": 204,
    "start_time": "2022-07-21T09:57:10.687Z"
   },
   {
    "duration": 543,
    "start_time": "2022-07-21T09:57:35.298Z"
   },
   {
    "duration": 432,
    "start_time": "2022-07-21T09:58:23.947Z"
   },
   {
    "duration": 451,
    "start_time": "2022-07-21T09:58:33.647Z"
   },
   {
    "duration": 216,
    "start_time": "2022-07-21T09:59:00.465Z"
   },
   {
    "duration": 1193,
    "start_time": "2022-07-21T09:59:33.819Z"
   },
   {
    "duration": 241,
    "start_time": "2022-07-21T09:59:48.649Z"
   },
   {
    "duration": 222,
    "start_time": "2022-07-21T10:00:03.578Z"
   },
   {
    "duration": 229,
    "start_time": "2022-07-21T10:00:33.103Z"
   },
   {
    "duration": 229,
    "start_time": "2022-07-21T10:00:44.400Z"
   },
   {
    "duration": 222,
    "start_time": "2022-07-21T10:01:11.621Z"
   },
   {
    "duration": 189,
    "start_time": "2022-07-21T10:01:33.097Z"
   },
   {
    "duration": 602,
    "start_time": "2022-07-21T10:02:11.854Z"
   },
   {
    "duration": 110,
    "start_time": "2022-07-21T10:05:36.639Z"
   },
   {
    "duration": 122,
    "start_time": "2022-07-21T10:05:46.347Z"
   },
   {
    "duration": 114,
    "start_time": "2022-07-21T10:06:25.834Z"
   },
   {
    "duration": 115,
    "start_time": "2022-07-21T10:06:30.476Z"
   },
   {
    "duration": 116,
    "start_time": "2022-07-21T10:06:47.001Z"
   },
   {
    "duration": 205,
    "start_time": "2022-07-21T10:07:11.804Z"
   },
   {
    "duration": 205,
    "start_time": "2022-07-21T10:07:30.829Z"
   },
   {
    "duration": 11,
    "start_time": "2022-07-21T10:08:47.601Z"
   },
   {
    "duration": 6,
    "start_time": "2022-07-21T10:08:52.569Z"
   },
   {
    "duration": 185,
    "start_time": "2022-07-21T10:10:36.125Z"
   },
   {
    "duration": 257,
    "start_time": "2022-07-21T10:10:48.699Z"
   },
   {
    "duration": 408,
    "start_time": "2022-07-21T10:12:18.793Z"
   },
   {
    "duration": 382,
    "start_time": "2022-07-21T10:12:36.785Z"
   },
   {
    "duration": 145,
    "start_time": "2022-07-21T10:13:18.993Z"
   },
   {
    "duration": 430,
    "start_time": "2022-07-21T10:13:27.847Z"
   },
   {
    "duration": 130,
    "start_time": "2022-07-21T10:15:00.078Z"
   },
   {
    "duration": 116,
    "start_time": "2022-07-21T10:15:09.434Z"
   },
   {
    "duration": 23,
    "start_time": "2022-07-21T10:15:18.943Z"
   },
   {
    "duration": 16,
    "start_time": "2022-07-21T10:15:29.484Z"
   },
   {
    "duration": 140,
    "start_time": "2022-07-21T10:15:41.789Z"
   },
   {
    "duration": 110,
    "start_time": "2022-07-21T10:15:51.149Z"
   },
   {
    "duration": 137,
    "start_time": "2022-07-21T10:17:00.143Z"
   },
   {
    "duration": 195,
    "start_time": "2022-07-21T10:17:06.796Z"
   },
   {
    "duration": 363,
    "start_time": "2022-07-21T10:17:12.479Z"
   },
   {
    "duration": 466,
    "start_time": "2022-07-21T10:17:41.825Z"
   },
   {
    "duration": 480,
    "start_time": "2022-07-21T10:18:38.701Z"
   },
   {
    "duration": 342,
    "start_time": "2022-07-21T10:18:43.633Z"
   },
   {
    "duration": 337,
    "start_time": "2022-07-21T10:18:49.155Z"
   },
   {
    "duration": 830,
    "start_time": "2022-07-21T10:19:18.790Z"
   },
   {
    "duration": 5,
    "start_time": "2022-07-21T10:21:54.348Z"
   },
   {
    "duration": 5,
    "start_time": "2022-07-21T10:22:40.295Z"
   },
   {
    "duration": 489,
    "start_time": "2022-07-21T10:22:42.649Z"
   },
   {
    "duration": 438,
    "start_time": "2022-07-21T10:23:08.511Z"
   },
   {
    "duration": 2,
    "start_time": "2022-07-21T10:23:34.932Z"
   },
   {
    "duration": 132,
    "start_time": "2022-07-21T10:23:37.309Z"
   },
   {
    "duration": 662,
    "start_time": "2022-07-21T10:23:48.642Z"
   },
   {
    "duration": 149,
    "start_time": "2022-07-21T10:23:49.306Z"
   },
   {
    "duration": 23,
    "start_time": "2022-07-21T10:23:49.457Z"
   },
   {
    "duration": 2175,
    "start_time": "2022-07-21T10:23:49.483Z"
   },
   {
    "duration": 5,
    "start_time": "2022-07-21T10:23:51.660Z"
   },
   {
    "duration": 7,
    "start_time": "2022-07-21T10:23:51.666Z"
   },
   {
    "duration": 5,
    "start_time": "2022-07-21T10:23:51.675Z"
   },
   {
    "duration": 6,
    "start_time": "2022-07-21T10:23:51.681Z"
   },
   {
    "duration": 21,
    "start_time": "2022-07-21T10:23:51.689Z"
   },
   {
    "duration": 6,
    "start_time": "2022-07-21T10:23:51.713Z"
   },
   {
    "duration": 16,
    "start_time": "2022-07-21T10:23:51.722Z"
   },
   {
    "duration": 8,
    "start_time": "2022-07-21T10:23:51.740Z"
   },
   {
    "duration": 13,
    "start_time": "2022-07-21T10:23:51.750Z"
   },
   {
    "duration": 9,
    "start_time": "2022-07-21T10:23:51.765Z"
   },
   {
    "duration": 36,
    "start_time": "2022-07-21T10:23:51.776Z"
   },
   {
    "duration": 11,
    "start_time": "2022-07-21T10:23:51.815Z"
   },
   {
    "duration": 15,
    "start_time": "2022-07-21T10:23:51.828Z"
   },
   {
    "duration": 47,
    "start_time": "2022-07-21T10:23:51.846Z"
   },
   {
    "duration": 14,
    "start_time": "2022-07-21T10:23:51.896Z"
   },
   {
    "duration": 126,
    "start_time": "2022-07-21T10:23:51.912Z"
   },
   {
    "duration": 7,
    "start_time": "2022-07-21T10:23:52.041Z"
   },
   {
    "duration": 12,
    "start_time": "2022-07-21T10:23:52.050Z"
   },
   {
    "duration": 13,
    "start_time": "2022-07-21T10:23:52.064Z"
   },
   {
    "duration": 31,
    "start_time": "2022-07-21T10:23:52.079Z"
   },
   {
    "duration": 203,
    "start_time": "2022-07-21T10:23:52.112Z"
   },
   {
    "duration": 500,
    "start_time": "2022-07-21T10:23:52.317Z"
   },
   {
    "duration": 6,
    "start_time": "2022-07-21T10:23:52.820Z"
   },
   {
    "duration": 10,
    "start_time": "2022-07-21T10:23:52.830Z"
   },
   {
    "duration": 5,
    "start_time": "2022-07-21T10:23:52.842Z"
   },
   {
    "duration": 16,
    "start_time": "2022-07-21T10:23:52.849Z"
   },
   {
    "duration": 67,
    "start_time": "2022-07-21T10:23:52.867Z"
   },
   {
    "duration": 10,
    "start_time": "2022-07-21T10:23:52.935Z"
   },
   {
    "duration": 5,
    "start_time": "2022-07-21T10:23:52.946Z"
   },
   {
    "duration": 6,
    "start_time": "2022-07-21T10:23:52.952Z"
   },
   {
    "duration": 51,
    "start_time": "2022-07-21T10:23:52.960Z"
   },
   {
    "duration": 16,
    "start_time": "2022-07-21T10:23:53.013Z"
   },
   {
    "duration": 15,
    "start_time": "2022-07-21T10:23:53.030Z"
   },
   {
    "duration": 400,
    "start_time": "2022-07-21T10:23:53.047Z"
   },
   {
    "duration": 5,
    "start_time": "2022-07-21T10:23:53.449Z"
   },
   {
    "duration": 14,
    "start_time": "2022-07-21T10:23:53.456Z"
   },
   {
    "duration": 385,
    "start_time": "2022-07-21T10:23:53.472Z"
   },
   {
    "duration": 10,
    "start_time": "2022-07-21T10:23:53.859Z"
   },
   {
    "duration": 295,
    "start_time": "2022-07-21T10:23:53.871Z"
   },
   {
    "duration": 338,
    "start_time": "2022-07-21T10:23:54.168Z"
   },
   {
    "duration": 460,
    "start_time": "2022-07-21T10:23:54.508Z"
   },
   {
    "duration": 9,
    "start_time": "2022-07-21T10:23:54.970Z"
   },
   {
    "duration": 12,
    "start_time": "2022-07-21T10:23:54.981Z"
   },
   {
    "duration": 401,
    "start_time": "2022-07-21T10:23:54.995Z"
   },
   {
    "duration": 521,
    "start_time": "2022-07-21T10:23:55.398Z"
   },
   {
    "duration": 50,
    "start_time": "2022-07-22T06:13:48.237Z"
   },
   {
    "duration": 833,
    "start_time": "2022-07-22T06:14:01.757Z"
   },
   {
    "duration": 321,
    "start_time": "2022-07-22T06:14:02.592Z"
   },
   {
    "duration": 22,
    "start_time": "2022-07-22T06:14:02.916Z"
   },
   {
    "duration": 2309,
    "start_time": "2022-07-22T06:14:02.940Z"
   },
   {
    "duration": 5,
    "start_time": "2022-07-22T06:14:05.252Z"
   },
   {
    "duration": 14,
    "start_time": "2022-07-22T06:14:05.260Z"
   },
   {
    "duration": 7,
    "start_time": "2022-07-22T06:14:05.277Z"
   },
   {
    "duration": 15,
    "start_time": "2022-07-22T06:14:05.286Z"
   },
   {
    "duration": 30,
    "start_time": "2022-07-22T06:14:05.302Z"
   },
   {
    "duration": 12,
    "start_time": "2022-07-22T06:14:05.333Z"
   },
   {
    "duration": 7,
    "start_time": "2022-07-22T06:14:05.347Z"
   },
   {
    "duration": 13,
    "start_time": "2022-07-22T06:14:05.356Z"
   },
   {
    "duration": 15,
    "start_time": "2022-07-22T06:14:05.371Z"
   },
   {
    "duration": 11,
    "start_time": "2022-07-22T06:14:05.390Z"
   },
   {
    "duration": 24,
    "start_time": "2022-07-22T06:14:05.403Z"
   },
   {
    "duration": 4,
    "start_time": "2022-07-22T06:14:05.430Z"
   },
   {
    "duration": 9,
    "start_time": "2022-07-22T06:14:05.435Z"
   },
   {
    "duration": 43,
    "start_time": "2022-07-22T06:14:05.446Z"
   },
   {
    "duration": 31,
    "start_time": "2022-07-22T06:14:05.492Z"
   },
   {
    "duration": 79,
    "start_time": "2022-07-22T06:14:05.525Z"
   },
   {
    "duration": 17,
    "start_time": "2022-07-22T06:14:05.606Z"
   },
   {
    "duration": 10,
    "start_time": "2022-07-22T06:14:05.625Z"
   },
   {
    "duration": 10,
    "start_time": "2022-07-22T06:14:05.637Z"
   },
   {
    "duration": 13,
    "start_time": "2022-07-22T06:14:05.649Z"
   },
   {
    "duration": 257,
    "start_time": "2022-07-22T06:14:05.664Z"
   },
   {
    "duration": 538,
    "start_time": "2022-07-22T06:14:05.923Z"
   },
   {
    "duration": 5,
    "start_time": "2022-07-22T06:14:06.463Z"
   },
   {
    "duration": 10,
    "start_time": "2022-07-22T06:14:06.470Z"
   },
   {
    "duration": 11,
    "start_time": "2022-07-22T06:14:06.482Z"
   },
   {
    "duration": 53,
    "start_time": "2022-07-22T06:14:06.495Z"
   },
   {
    "duration": 0,
    "start_time": "2022-07-22T06:14:06.550Z"
   },
   {
    "duration": 0,
    "start_time": "2022-07-22T06:14:06.552Z"
   },
   {
    "duration": 0,
    "start_time": "2022-07-22T06:14:06.556Z"
   },
   {
    "duration": 0,
    "start_time": "2022-07-22T06:14:06.558Z"
   },
   {
    "duration": 0,
    "start_time": "2022-07-22T06:14:06.559Z"
   },
   {
    "duration": 0,
    "start_time": "2022-07-22T06:14:06.560Z"
   },
   {
    "duration": 0,
    "start_time": "2022-07-22T06:14:06.562Z"
   },
   {
    "duration": 0,
    "start_time": "2022-07-22T06:14:06.563Z"
   },
   {
    "duration": 0,
    "start_time": "2022-07-22T06:14:06.564Z"
   },
   {
    "duration": 0,
    "start_time": "2022-07-22T06:14:06.565Z"
   },
   {
    "duration": 0,
    "start_time": "2022-07-22T06:14:06.566Z"
   },
   {
    "duration": 0,
    "start_time": "2022-07-22T06:14:06.568Z"
   },
   {
    "duration": 0,
    "start_time": "2022-07-22T06:14:06.570Z"
   },
   {
    "duration": 0,
    "start_time": "2022-07-22T06:14:06.571Z"
   },
   {
    "duration": 0,
    "start_time": "2022-07-22T06:14:06.573Z"
   },
   {
    "duration": 0,
    "start_time": "2022-07-22T06:14:06.574Z"
   },
   {
    "duration": 0,
    "start_time": "2022-07-22T06:14:06.575Z"
   },
   {
    "duration": 0,
    "start_time": "2022-07-22T06:14:06.577Z"
   },
   {
    "duration": 0,
    "start_time": "2022-07-22T06:14:06.578Z"
   },
   {
    "duration": 0,
    "start_time": "2022-07-22T06:14:06.580Z"
   },
   {
    "duration": 771,
    "start_time": "2022-07-22T06:15:37.802Z"
   },
   {
    "duration": 170,
    "start_time": "2022-07-22T06:15:38.576Z"
   },
   {
    "duration": 23,
    "start_time": "2022-07-22T06:15:38.749Z"
   },
   {
    "duration": 3082,
    "start_time": "2022-07-22T06:15:38.775Z"
   },
   {
    "duration": 5,
    "start_time": "2022-07-22T06:15:41.859Z"
   },
   {
    "duration": 14,
    "start_time": "2022-07-22T06:15:41.866Z"
   },
   {
    "duration": 7,
    "start_time": "2022-07-22T06:15:41.882Z"
   },
   {
    "duration": 6,
    "start_time": "2022-07-22T06:15:41.891Z"
   },
   {
    "duration": 10,
    "start_time": "2022-07-22T06:15:41.899Z"
   },
   {
    "duration": 15,
    "start_time": "2022-07-22T06:15:41.912Z"
   },
   {
    "duration": 10,
    "start_time": "2022-07-22T06:15:41.929Z"
   },
   {
    "duration": 15,
    "start_time": "2022-07-22T06:15:41.941Z"
   },
   {
    "duration": 19,
    "start_time": "2022-07-22T06:15:41.958Z"
   },
   {
    "duration": 17,
    "start_time": "2022-07-22T06:15:41.979Z"
   },
   {
    "duration": 10,
    "start_time": "2022-07-22T06:15:41.999Z"
   },
   {
    "duration": 30,
    "start_time": "2022-07-22T06:15:42.011Z"
   },
   {
    "duration": 11,
    "start_time": "2022-07-22T06:15:42.044Z"
   },
   {
    "duration": 46,
    "start_time": "2022-07-22T06:15:42.057Z"
   },
   {
    "duration": 6,
    "start_time": "2022-07-22T06:15:42.105Z"
   },
   {
    "duration": 113,
    "start_time": "2022-07-22T06:15:42.112Z"
   },
   {
    "duration": 6,
    "start_time": "2022-07-22T06:15:42.227Z"
   },
   {
    "duration": 14,
    "start_time": "2022-07-22T06:15:42.235Z"
   },
   {
    "duration": 11,
    "start_time": "2022-07-22T06:15:42.250Z"
   },
   {
    "duration": 22,
    "start_time": "2022-07-22T06:15:42.262Z"
   },
   {
    "duration": 212,
    "start_time": "2022-07-22T06:15:42.286Z"
   },
   {
    "duration": 650,
    "start_time": "2022-07-22T06:15:42.500Z"
   },
   {
    "duration": 6,
    "start_time": "2022-07-22T06:15:43.152Z"
   },
   {
    "duration": 13,
    "start_time": "2022-07-22T06:15:43.163Z"
   },
   {
    "duration": 12,
    "start_time": "2022-07-22T06:15:43.178Z"
   },
   {
    "duration": 7,
    "start_time": "2022-07-22T06:15:43.192Z"
   },
   {
    "duration": 37,
    "start_time": "2022-07-22T06:15:43.201Z"
   },
   {
    "duration": 67,
    "start_time": "2022-07-22T06:15:43.239Z"
   },
   {
    "duration": 23,
    "start_time": "2022-07-22T06:15:43.308Z"
   },
   {
    "duration": 7,
    "start_time": "2022-07-22T06:15:43.333Z"
   },
   {
    "duration": 15,
    "start_time": "2022-07-22T06:15:43.342Z"
   },
   {
    "duration": 292,
    "start_time": "2022-07-22T06:15:43.360Z"
   },
   {
    "duration": 21,
    "start_time": "2022-07-22T06:15:43.654Z"
   },
   {
    "duration": 19,
    "start_time": "2022-07-22T06:15:43.677Z"
   },
   {
    "duration": 580,
    "start_time": "2022-07-22T06:15:43.698Z"
   },
   {
    "duration": 5,
    "start_time": "2022-07-22T06:15:44.280Z"
   },
   {
    "duration": 11,
    "start_time": "2022-07-22T06:15:44.287Z"
   },
   {
    "duration": 533,
    "start_time": "2022-07-22T06:15:44.300Z"
   },
   {
    "duration": 11,
    "start_time": "2022-07-22T06:15:44.835Z"
   },
   {
    "duration": 470,
    "start_time": "2022-07-22T06:15:44.849Z"
   },
   {
    "duration": 359,
    "start_time": "2022-07-22T06:15:45.323Z"
   },
   {
    "duration": 456,
    "start_time": "2022-07-22T06:15:45.684Z"
   },
   {
    "duration": 10,
    "start_time": "2022-07-22T06:15:46.142Z"
   },
   {
    "duration": 9,
    "start_time": "2022-07-22T06:15:46.154Z"
   },
   {
    "duration": 318,
    "start_time": "2022-07-22T06:15:46.165Z"
   },
   {
    "duration": 421,
    "start_time": "2022-07-22T06:15:46.485Z"
   },
   {
    "duration": 85,
    "start_time": "2022-07-22T06:16:52.181Z"
   },
   {
    "duration": 162,
    "start_time": "2022-07-22T06:16:58.168Z"
   },
   {
    "duration": 178,
    "start_time": "2022-07-22T06:17:04.551Z"
   },
   {
    "duration": 5,
    "start_time": "2022-07-22T06:18:46.872Z"
   },
   {
    "duration": 42,
    "start_time": "2022-07-22T06:19:17.408Z"
   },
   {
    "duration": 173,
    "start_time": "2022-07-22T06:21:43.883Z"
   },
   {
    "duration": 178,
    "start_time": "2022-07-22T06:22:41.591Z"
   },
   {
    "duration": 205,
    "start_time": "2022-07-22T06:23:45.927Z"
   },
   {
    "duration": 192,
    "start_time": "2022-07-22T06:23:50.837Z"
   },
   {
    "duration": 213,
    "start_time": "2022-07-22T06:24:19.822Z"
   },
   {
    "duration": 212,
    "start_time": "2022-07-22T06:24:34.099Z"
   },
   {
    "duration": 10,
    "start_time": "2022-07-22T06:25:14.545Z"
   },
   {
    "duration": 6,
    "start_time": "2022-07-22T06:27:04.128Z"
   },
   {
    "duration": 10,
    "start_time": "2022-07-22T06:27:10.136Z"
   },
   {
    "duration": 9,
    "start_time": "2022-07-22T06:27:20.024Z"
   },
   {
    "duration": 9,
    "start_time": "2022-07-22T06:27:23.107Z"
   },
   {
    "duration": 7,
    "start_time": "2022-07-22T06:27:38.943Z"
   },
   {
    "duration": 6,
    "start_time": "2022-07-22T06:28:09.038Z"
   },
   {
    "duration": 4,
    "start_time": "2022-07-22T06:28:22.295Z"
   },
   {
    "duration": 5,
    "start_time": "2022-07-22T06:28:26.410Z"
   },
   {
    "duration": 5,
    "start_time": "2022-07-22T06:29:13.599Z"
   },
   {
    "duration": 191,
    "start_time": "2022-07-22T06:31:36.387Z"
   },
   {
    "duration": 202,
    "start_time": "2022-07-22T06:31:56.519Z"
   },
   {
    "duration": 10,
    "start_time": "2022-07-22T06:32:31.345Z"
   },
   {
    "duration": 165,
    "start_time": "2022-07-22T06:32:47.605Z"
   },
   {
    "duration": 388,
    "start_time": "2022-07-22T06:36:08.919Z"
   },
   {
    "duration": 28,
    "start_time": "2022-07-22T06:37:11.417Z"
   },
   {
    "duration": 60,
    "start_time": "2022-07-22T06:37:15.820Z"
   },
   {
    "duration": 13,
    "start_time": "2022-07-22T06:37:19.613Z"
   },
   {
    "duration": 10,
    "start_time": "2022-07-22T06:37:37.955Z"
   },
   {
    "duration": 329,
    "start_time": "2022-07-22T06:39:20.719Z"
   },
   {
    "duration": 250,
    "start_time": "2022-07-22T06:39:32.888Z"
   },
   {
    "duration": 283,
    "start_time": "2022-07-22T06:39:37.100Z"
   },
   {
    "duration": 649,
    "start_time": "2022-07-22T06:40:27.296Z"
   },
   {
    "duration": 125,
    "start_time": "2022-07-22T06:40:27.947Z"
   },
   {
    "duration": 15,
    "start_time": "2022-07-22T06:40:28.073Z"
   },
   {
    "duration": 2223,
    "start_time": "2022-07-22T06:40:28.090Z"
   },
   {
    "duration": 5,
    "start_time": "2022-07-22T06:40:30.315Z"
   },
   {
    "duration": 24,
    "start_time": "2022-07-22T06:40:30.321Z"
   },
   {
    "duration": 14,
    "start_time": "2022-07-22T06:40:30.347Z"
   },
   {
    "duration": 11,
    "start_time": "2022-07-22T06:40:30.364Z"
   },
   {
    "duration": 25,
    "start_time": "2022-07-22T06:40:30.377Z"
   },
   {
    "duration": 24,
    "start_time": "2022-07-22T06:40:30.406Z"
   },
   {
    "duration": 18,
    "start_time": "2022-07-22T06:40:30.432Z"
   },
   {
    "duration": 31,
    "start_time": "2022-07-22T06:40:30.453Z"
   },
   {
    "duration": 27,
    "start_time": "2022-07-22T06:40:30.485Z"
   },
   {
    "duration": 23,
    "start_time": "2022-07-22T06:40:30.514Z"
   },
   {
    "duration": 15,
    "start_time": "2022-07-22T06:40:30.539Z"
   },
   {
    "duration": 22,
    "start_time": "2022-07-22T06:40:30.555Z"
   },
   {
    "duration": 20,
    "start_time": "2022-07-22T06:40:30.579Z"
   },
   {
    "duration": 81,
    "start_time": "2022-07-22T06:40:30.601Z"
   },
   {
    "duration": 6,
    "start_time": "2022-07-22T06:40:30.684Z"
   },
   {
    "duration": 111,
    "start_time": "2022-07-22T06:40:30.692Z"
   },
   {
    "duration": 5,
    "start_time": "2022-07-22T06:40:30.805Z"
   },
   {
    "duration": 13,
    "start_time": "2022-07-22T06:40:30.812Z"
   },
   {
    "duration": 22,
    "start_time": "2022-07-22T06:40:30.827Z"
   },
   {
    "duration": 25,
    "start_time": "2022-07-22T06:40:30.851Z"
   },
   {
    "duration": 187,
    "start_time": "2022-07-22T06:40:30.878Z"
   },
   {
    "duration": 449,
    "start_time": "2022-07-22T06:40:31.066Z"
   },
   {
    "duration": 10,
    "start_time": "2022-07-22T06:40:31.516Z"
   },
   {
    "duration": 22,
    "start_time": "2022-07-22T06:40:31.530Z"
   },
   {
    "duration": 23,
    "start_time": "2022-07-22T06:40:31.553Z"
   },
   {
    "duration": 28,
    "start_time": "2022-07-22T06:40:31.578Z"
   },
   {
    "duration": 33,
    "start_time": "2022-07-22T06:40:31.607Z"
   },
   {
    "duration": 51,
    "start_time": "2022-07-22T06:40:31.642Z"
   },
   {
    "duration": 29,
    "start_time": "2022-07-22T06:40:31.695Z"
   },
   {
    "duration": 18,
    "start_time": "2022-07-22T06:40:31.726Z"
   },
   {
    "duration": 24,
    "start_time": "2022-07-22T06:40:31.746Z"
   },
   {
    "duration": 44,
    "start_time": "2022-07-22T06:40:31.772Z"
   },
   {
    "duration": 40,
    "start_time": "2022-07-22T06:40:31.818Z"
   },
   {
    "duration": 28,
    "start_time": "2022-07-22T06:40:31.860Z"
   },
   {
    "duration": 359,
    "start_time": "2022-07-22T06:40:31.890Z"
   },
   {
    "duration": 4,
    "start_time": "2022-07-22T06:40:32.251Z"
   },
   {
    "duration": 40,
    "start_time": "2022-07-22T06:40:32.256Z"
   },
   {
    "duration": 386,
    "start_time": "2022-07-22T06:40:32.298Z"
   },
   {
    "duration": 11,
    "start_time": "2022-07-22T06:40:32.686Z"
   },
   {
    "duration": 272,
    "start_time": "2022-07-22T06:40:32.698Z"
   },
   {
    "duration": 285,
    "start_time": "2022-07-22T06:40:32.972Z"
   },
   {
    "duration": 413,
    "start_time": "2022-07-22T06:40:33.259Z"
   },
   {
    "duration": 7,
    "start_time": "2022-07-22T06:40:33.674Z"
   },
   {
    "duration": 31,
    "start_time": "2022-07-22T06:40:33.683Z"
   },
   {
    "duration": 296,
    "start_time": "2022-07-22T06:40:33.715Z"
   },
   {
    "duration": 460,
    "start_time": "2022-07-22T06:40:34.013Z"
   },
   {
    "duration": 225,
    "start_time": "2022-07-22T06:40:34.475Z"
   },
   {
    "duration": 5,
    "start_time": "2022-07-22T06:40:34.702Z"
   },
   {
    "duration": 20,
    "start_time": "2022-07-22T06:40:34.709Z"
   },
   {
    "duration": 286,
    "start_time": "2022-07-22T06:40:34.731Z"
   },
   {
    "duration": 285,
    "start_time": "2022-07-22T06:40:35.023Z"
   },
   {
    "duration": 619,
    "start_time": "2022-07-22T06:41:10.384Z"
   },
   {
    "duration": 121,
    "start_time": "2022-07-22T06:41:11.005Z"
   },
   {
    "duration": 15,
    "start_time": "2022-07-22T06:41:11.128Z"
   },
   {
    "duration": 1977,
    "start_time": "2022-07-22T06:41:11.145Z"
   },
   {
    "duration": 5,
    "start_time": "2022-07-22T06:41:13.124Z"
   },
   {
    "duration": 7,
    "start_time": "2022-07-22T06:41:13.130Z"
   },
   {
    "duration": 14,
    "start_time": "2022-07-22T06:41:13.138Z"
   },
   {
    "duration": 6,
    "start_time": "2022-07-22T06:41:13.154Z"
   },
   {
    "duration": 7,
    "start_time": "2022-07-22T06:41:13.161Z"
   },
   {
    "duration": 20,
    "start_time": "2022-07-22T06:41:13.170Z"
   },
   {
    "duration": 10,
    "start_time": "2022-07-22T06:41:13.192Z"
   },
   {
    "duration": 27,
    "start_time": "2022-07-22T06:41:13.203Z"
   },
   {
    "duration": 15,
    "start_time": "2022-07-22T06:41:13.232Z"
   },
   {
    "duration": 8,
    "start_time": "2022-07-22T06:41:13.249Z"
   },
   {
    "duration": 4,
    "start_time": "2022-07-22T06:41:13.259Z"
   },
   {
    "duration": 6,
    "start_time": "2022-07-22T06:41:13.265Z"
   },
   {
    "duration": 9,
    "start_time": "2022-07-22T06:41:13.272Z"
   },
   {
    "duration": 63,
    "start_time": "2022-07-22T06:41:13.283Z"
   },
   {
    "duration": 4,
    "start_time": "2022-07-22T06:41:13.348Z"
   },
   {
    "duration": 100,
    "start_time": "2022-07-22T06:41:13.354Z"
   },
   {
    "duration": 5,
    "start_time": "2022-07-22T06:41:13.456Z"
   },
   {
    "duration": 7,
    "start_time": "2022-07-22T06:41:13.463Z"
   },
   {
    "duration": 7,
    "start_time": "2022-07-22T06:41:13.471Z"
   },
   {
    "duration": 10,
    "start_time": "2022-07-22T06:41:13.479Z"
   },
   {
    "duration": 216,
    "start_time": "2022-07-22T06:41:13.490Z"
   },
   {
    "duration": 440,
    "start_time": "2022-07-22T06:41:13.707Z"
   },
   {
    "duration": 5,
    "start_time": "2022-07-22T06:41:14.149Z"
   },
   {
    "duration": 6,
    "start_time": "2022-07-22T06:41:14.158Z"
   },
   {
    "duration": 9,
    "start_time": "2022-07-22T06:41:14.165Z"
   },
   {
    "duration": 5,
    "start_time": "2022-07-22T06:41:14.176Z"
   },
   {
    "duration": 13,
    "start_time": "2022-07-22T06:41:14.182Z"
   },
   {
    "duration": 38,
    "start_time": "2022-07-22T06:41:14.224Z"
   },
   {
    "duration": 11,
    "start_time": "2022-07-22T06:41:14.263Z"
   },
   {
    "duration": 4,
    "start_time": "2022-07-22T06:41:14.275Z"
   },
   {
    "duration": 6,
    "start_time": "2022-07-22T06:41:14.281Z"
   },
   {
    "duration": 54,
    "start_time": "2022-07-22T06:41:14.289Z"
   },
   {
    "duration": 14,
    "start_time": "2022-07-22T06:41:14.345Z"
   },
   {
    "duration": 13,
    "start_time": "2022-07-22T06:41:14.361Z"
   },
   {
    "duration": 388,
    "start_time": "2022-07-22T06:41:14.375Z"
   },
   {
    "duration": 4,
    "start_time": "2022-07-22T06:41:14.765Z"
   },
   {
    "duration": 13,
    "start_time": "2022-07-22T06:41:14.771Z"
   },
   {
    "duration": 368,
    "start_time": "2022-07-22T06:41:14.785Z"
   },
   {
    "duration": 9,
    "start_time": "2022-07-22T06:41:15.155Z"
   },
   {
    "duration": 264,
    "start_time": "2022-07-22T06:41:15.165Z"
   },
   {
    "duration": 286,
    "start_time": "2022-07-22T06:41:15.431Z"
   },
   {
    "duration": 451,
    "start_time": "2022-07-22T06:41:15.723Z"
   },
   {
    "duration": 8,
    "start_time": "2022-07-22T06:41:16.175Z"
   },
   {
    "duration": 11,
    "start_time": "2022-07-22T06:41:16.185Z"
   },
   {
    "duration": 309,
    "start_time": "2022-07-22T06:41:16.198Z"
   },
   {
    "duration": 422,
    "start_time": "2022-07-22T06:41:16.508Z"
   },
   {
    "duration": 236,
    "start_time": "2022-07-22T06:41:16.932Z"
   },
   {
    "duration": 5,
    "start_time": "2022-07-22T06:41:17.170Z"
   },
   {
    "duration": 26,
    "start_time": "2022-07-22T06:41:17.177Z"
   },
   {
    "duration": 266,
    "start_time": "2022-07-22T06:41:17.205Z"
   },
   {
    "duration": 299,
    "start_time": "2022-07-22T06:41:17.473Z"
   },
   {
    "duration": 165,
    "start_time": "2022-07-22T06:49:18.343Z"
   },
   {
    "duration": 194,
    "start_time": "2022-07-22T06:49:23.236Z"
   },
   {
    "duration": 336,
    "start_time": "2022-07-22T06:49:32.544Z"
   },
   {
    "duration": 220,
    "start_time": "2022-07-22T06:56:34.347Z"
   },
   {
    "duration": 12,
    "start_time": "2022-07-22T06:59:48.447Z"
   },
   {
    "duration": 185,
    "start_time": "2022-07-22T07:00:27.740Z"
   },
   {
    "duration": 333,
    "start_time": "2022-07-22T07:00:53.595Z"
   },
   {
    "duration": 6,
    "start_time": "2022-07-22T07:03:31.192Z"
   },
   {
    "duration": 5,
    "start_time": "2022-07-22T07:04:13.803Z"
   },
   {
    "duration": 169,
    "start_time": "2022-07-22T07:11:24.146Z"
   },
   {
    "duration": 12,
    "start_time": "2022-07-22T07:12:04.341Z"
   },
   {
    "duration": 5,
    "start_time": "2022-07-22T07:12:15.264Z"
   },
   {
    "duration": 12,
    "start_time": "2022-07-22T07:13:09.679Z"
   },
   {
    "duration": 13,
    "start_time": "2022-07-22T10:03:10.971Z"
   },
   {
    "duration": 275,
    "start_time": "2022-07-22T10:03:38.493Z"
   },
   {
    "duration": 7,
    "start_time": "2022-07-22T10:05:13.870Z"
   },
   {
    "duration": 111,
    "start_time": "2022-07-22T10:05:20.840Z"
   },
   {
    "duration": 11,
    "start_time": "2022-07-22T10:05:25.246Z"
   },
   {
    "duration": 12,
    "start_time": "2022-07-22T10:05:29.595Z"
   },
   {
    "duration": 9,
    "start_time": "2022-07-22T10:05:40.223Z"
   },
   {
    "duration": 372,
    "start_time": "2022-07-22T10:06:02.731Z"
   },
   {
    "duration": 268,
    "start_time": "2022-07-22T10:06:40.318Z"
   },
   {
    "duration": 13,
    "start_time": "2022-07-22T10:12:28.967Z"
   },
   {
    "duration": 6,
    "start_time": "2022-07-22T10:13:43.557Z"
   },
   {
    "duration": 14,
    "start_time": "2022-07-22T10:13:50.553Z"
   },
   {
    "duration": 297,
    "start_time": "2022-07-22T10:14:24.067Z"
   },
   {
    "duration": 521,
    "start_time": "2022-07-22T10:14:30.869Z"
   },
   {
    "duration": 877,
    "start_time": "2022-07-24T06:10:30.094Z"
   },
   {
    "duration": 342,
    "start_time": "2022-07-24T06:10:30.974Z"
   },
   {
    "duration": 17,
    "start_time": "2022-07-24T06:10:31.317Z"
   },
   {
    "duration": 2018,
    "start_time": "2022-07-24T06:10:31.337Z"
   },
   {
    "duration": 6,
    "start_time": "2022-07-24T06:10:33.356Z"
   },
   {
    "duration": 13,
    "start_time": "2022-07-24T06:10:33.363Z"
   },
   {
    "duration": 29,
    "start_time": "2022-07-24T06:10:33.378Z"
   },
   {
    "duration": 17,
    "start_time": "2022-07-24T06:10:33.410Z"
   },
   {
    "duration": 21,
    "start_time": "2022-07-24T06:10:33.429Z"
   },
   {
    "duration": 12,
    "start_time": "2022-07-24T06:10:33.453Z"
   },
   {
    "duration": 26,
    "start_time": "2022-07-24T06:10:33.468Z"
   },
   {
    "duration": 31,
    "start_time": "2022-07-24T06:10:33.496Z"
   },
   {
    "duration": 26,
    "start_time": "2022-07-24T06:10:33.530Z"
   },
   {
    "duration": 27,
    "start_time": "2022-07-24T06:10:33.558Z"
   },
   {
    "duration": 17,
    "start_time": "2022-07-24T06:10:33.587Z"
   },
   {
    "duration": 20,
    "start_time": "2022-07-24T06:10:33.605Z"
   },
   {
    "duration": 31,
    "start_time": "2022-07-24T06:10:33.627Z"
   },
   {
    "duration": 65,
    "start_time": "2022-07-24T06:10:33.659Z"
   },
   {
    "duration": 20,
    "start_time": "2022-07-24T06:10:33.726Z"
   },
   {
    "duration": 117,
    "start_time": "2022-07-24T06:10:33.748Z"
   },
   {
    "duration": 12,
    "start_time": "2022-07-24T06:10:33.868Z"
   },
   {
    "duration": 26,
    "start_time": "2022-07-24T06:10:33.882Z"
   },
   {
    "duration": 24,
    "start_time": "2022-07-24T06:10:33.910Z"
   },
   {
    "duration": 26,
    "start_time": "2022-07-24T06:10:33.936Z"
   },
   {
    "duration": 197,
    "start_time": "2022-07-24T06:10:33.965Z"
   },
   {
    "duration": 474,
    "start_time": "2022-07-24T06:10:34.164Z"
   },
   {
    "duration": 7,
    "start_time": "2022-07-24T06:10:34.640Z"
   },
   {
    "duration": 24,
    "start_time": "2022-07-24T06:10:34.661Z"
   },
   {
    "duration": 33,
    "start_time": "2022-07-24T06:10:34.687Z"
   },
   {
    "duration": 22,
    "start_time": "2022-07-24T06:10:34.722Z"
   },
   {
    "duration": 24,
    "start_time": "2022-07-24T06:10:34.747Z"
   },
   {
    "duration": 64,
    "start_time": "2022-07-24T06:10:34.774Z"
   },
   {
    "duration": 21,
    "start_time": "2022-07-24T06:10:34.841Z"
   },
   {
    "duration": 26,
    "start_time": "2022-07-24T06:10:34.864Z"
   },
   {
    "duration": 33,
    "start_time": "2022-07-24T06:10:34.892Z"
   },
   {
    "duration": 43,
    "start_time": "2022-07-24T06:10:34.926Z"
   },
   {
    "duration": 16,
    "start_time": "2022-07-24T06:10:34.971Z"
   },
   {
    "duration": 32,
    "start_time": "2022-07-24T06:10:34.989Z"
   },
   {
    "duration": 413,
    "start_time": "2022-07-24T06:10:35.023Z"
   },
   {
    "duration": 7,
    "start_time": "2022-07-24T06:10:35.437Z"
   },
   {
    "duration": 26,
    "start_time": "2022-07-24T06:10:35.446Z"
   },
   {
    "duration": 356,
    "start_time": "2022-07-24T06:10:35.474Z"
   },
   {
    "duration": 9,
    "start_time": "2022-07-24T06:10:35.832Z"
   },
   {
    "duration": 368,
    "start_time": "2022-07-24T06:10:35.843Z"
   },
   {
    "duration": 429,
    "start_time": "2022-07-24T06:10:36.213Z"
   },
   {
    "duration": 521,
    "start_time": "2022-07-24T06:10:36.644Z"
   },
   {
    "duration": 8,
    "start_time": "2022-07-24T06:10:37.167Z"
   },
   {
    "duration": 33,
    "start_time": "2022-07-24T06:10:37.177Z"
   },
   {
    "duration": 325,
    "start_time": "2022-07-24T06:10:37.213Z"
   },
   {
    "duration": 423,
    "start_time": "2022-07-24T06:10:37.540Z"
   },
   {
    "duration": 315,
    "start_time": "2022-07-24T06:10:37.965Z"
   },
   {
    "duration": 7,
    "start_time": "2022-07-24T06:10:38.283Z"
   },
   {
    "duration": 20,
    "start_time": "2022-07-24T06:10:38.292Z"
   },
   {
    "duration": 361,
    "start_time": "2022-07-24T06:10:38.315Z"
   },
   {
    "duration": 248,
    "start_time": "2022-07-24T06:10:38.679Z"
   },
   {
    "duration": 316,
    "start_time": "2022-07-24T06:10:38.929Z"
   },
   {
    "duration": 188,
    "start_time": "2022-07-24T06:10:39.247Z"
   },
   {
    "duration": 11,
    "start_time": "2022-07-24T06:10:39.437Z"
   },
   {
    "duration": 429,
    "start_time": "2022-07-24T06:10:39.461Z"
   },
   {
    "duration": 5,
    "start_time": "2022-07-24T06:10:39.892Z"
   },
   {
    "duration": 15,
    "start_time": "2022-07-24T06:10:39.898Z"
   },
   {
    "duration": 271,
    "start_time": "2022-07-24T06:10:39.915Z"
   },
   {
    "duration": 14,
    "start_time": "2022-07-24T06:11:24.625Z"
   },
   {
    "duration": 13,
    "start_time": "2022-07-24T06:12:15.523Z"
   },
   {
    "duration": 5,
    "start_time": "2022-07-24T06:12:53.642Z"
   },
   {
    "duration": 14,
    "start_time": "2022-07-24T06:13:04.548Z"
   },
   {
    "duration": 738,
    "start_time": "2022-07-24T06:13:50.897Z"
   },
   {
    "duration": 202,
    "start_time": "2022-07-24T06:13:51.637Z"
   },
   {
    "duration": 49,
    "start_time": "2022-07-24T06:13:51.842Z"
   },
   {
    "duration": 2553,
    "start_time": "2022-07-24T06:13:51.895Z"
   },
   {
    "duration": 7,
    "start_time": "2022-07-24T06:13:54.452Z"
   },
   {
    "duration": 18,
    "start_time": "2022-07-24T06:13:54.469Z"
   },
   {
    "duration": 8,
    "start_time": "2022-07-24T06:13:54.490Z"
   },
   {
    "duration": 19,
    "start_time": "2022-07-24T06:13:54.501Z"
   },
   {
    "duration": 6,
    "start_time": "2022-07-24T06:13:54.523Z"
   },
   {
    "duration": 7,
    "start_time": "2022-07-24T06:13:54.531Z"
   },
   {
    "duration": 7,
    "start_time": "2022-07-24T06:13:54.539Z"
   },
   {
    "duration": 17,
    "start_time": "2022-07-24T06:13:54.548Z"
   },
   {
    "duration": 41,
    "start_time": "2022-07-24T06:13:54.567Z"
   },
   {
    "duration": 15,
    "start_time": "2022-07-24T06:13:54.614Z"
   },
   {
    "duration": 10,
    "start_time": "2022-07-24T06:13:54.632Z"
   },
   {
    "duration": 11,
    "start_time": "2022-07-24T06:13:54.645Z"
   },
   {
    "duration": 37,
    "start_time": "2022-07-24T06:13:54.659Z"
   },
   {
    "duration": 47,
    "start_time": "2022-07-24T06:13:54.698Z"
   },
   {
    "duration": 11,
    "start_time": "2022-07-24T06:13:54.748Z"
   },
   {
    "duration": 100,
    "start_time": "2022-07-24T06:13:54.763Z"
   },
   {
    "duration": 10,
    "start_time": "2022-07-24T06:13:54.871Z"
   },
   {
    "duration": 10,
    "start_time": "2022-07-24T06:13:54.885Z"
   },
   {
    "duration": 9,
    "start_time": "2022-07-24T06:13:54.897Z"
   },
   {
    "duration": 14,
    "start_time": "2022-07-24T06:13:54.907Z"
   },
   {
    "duration": 282,
    "start_time": "2022-07-24T06:13:54.923Z"
   },
   {
    "duration": 524,
    "start_time": "2022-07-24T06:13:55.208Z"
   },
   {
    "duration": 7,
    "start_time": "2022-07-24T06:13:55.735Z"
   },
   {
    "duration": 23,
    "start_time": "2022-07-24T06:13:55.744Z"
   },
   {
    "duration": 18,
    "start_time": "2022-07-24T06:13:55.769Z"
   },
   {
    "duration": 10,
    "start_time": "2022-07-24T06:13:55.789Z"
   },
   {
    "duration": 17,
    "start_time": "2022-07-24T06:13:55.801Z"
   },
   {
    "duration": 74,
    "start_time": "2022-07-24T06:13:55.821Z"
   },
   {
    "duration": 10,
    "start_time": "2022-07-24T06:13:55.897Z"
   },
   {
    "duration": 6,
    "start_time": "2022-07-24T06:13:55.909Z"
   },
   {
    "duration": 8,
    "start_time": "2022-07-24T06:13:55.917Z"
   },
   {
    "duration": 64,
    "start_time": "2022-07-24T06:13:55.927Z"
   },
   {
    "duration": 18,
    "start_time": "2022-07-24T06:13:55.993Z"
   },
   {
    "duration": 15,
    "start_time": "2022-07-24T06:13:56.013Z"
   },
   {
    "duration": 503,
    "start_time": "2022-07-24T06:13:56.030Z"
   },
   {
    "duration": 7,
    "start_time": "2022-07-24T06:13:56.536Z"
   },
   {
    "duration": 39,
    "start_time": "2022-07-24T06:13:56.563Z"
   },
   {
    "duration": 398,
    "start_time": "2022-07-24T06:13:56.605Z"
   },
   {
    "duration": 10,
    "start_time": "2022-07-24T06:13:57.004Z"
   },
   {
    "duration": 331,
    "start_time": "2022-07-24T06:13:57.017Z"
   },
   {
    "duration": 337,
    "start_time": "2022-07-24T06:13:57.350Z"
   },
   {
    "duration": 475,
    "start_time": "2022-07-24T06:13:57.689Z"
   },
   {
    "duration": 11,
    "start_time": "2022-07-24T06:13:58.166Z"
   },
   {
    "duration": 22,
    "start_time": "2022-07-24T06:13:58.179Z"
   },
   {
    "duration": 347,
    "start_time": "2022-07-24T06:13:58.203Z"
   },
   {
    "duration": 470,
    "start_time": "2022-07-24T06:13:58.552Z"
   },
   {
    "duration": 303,
    "start_time": "2022-07-24T06:13:59.024Z"
   },
   {
    "duration": 8,
    "start_time": "2022-07-24T06:13:59.330Z"
   },
   {
    "duration": 30,
    "start_time": "2022-07-24T06:13:59.341Z"
   },
   {
    "duration": 310,
    "start_time": "2022-07-24T06:13:59.376Z"
   },
   {
    "duration": 260,
    "start_time": "2022-07-24T06:13:59.689Z"
   },
   {
    "duration": 362,
    "start_time": "2022-07-24T06:13:59.952Z"
   },
   {
    "duration": 176,
    "start_time": "2022-07-24T06:14:00.316Z"
   },
   {
    "duration": 14,
    "start_time": "2022-07-24T06:14:00.494Z"
   },
   {
    "duration": 502,
    "start_time": "2022-07-24T06:14:00.510Z"
   },
   {
    "duration": 14,
    "start_time": "2022-07-24T06:14:01.014Z"
   },
   {
    "duration": 294,
    "start_time": "2022-07-24T06:14:01.030Z"
   },
   {
    "duration": 14,
    "start_time": "2022-07-24T06:14:01.326Z"
   },
   {
    "duration": 235,
    "start_time": "2022-07-24T06:14:55.650Z"
   },
   {
    "duration": 247,
    "start_time": "2022-07-24T06:15:07.602Z"
   },
   {
    "duration": 50,
    "start_time": "2022-07-24T06:15:47.388Z"
   },
   {
    "duration": 268,
    "start_time": "2022-07-24T06:15:54.448Z"
   },
   {
    "duration": 138,
    "start_time": "2022-07-24T06:27:42.933Z"
   },
   {
    "duration": 178,
    "start_time": "2022-07-24T06:28:22.076Z"
   },
   {
    "duration": 1099,
    "start_time": "2022-07-24T06:54:33.783Z"
   },
   {
    "duration": 6,
    "start_time": "2022-07-24T06:55:13.159Z"
   },
   {
    "duration": 5,
    "start_time": "2022-07-24T06:55:52.236Z"
   },
   {
    "duration": 5,
    "start_time": "2022-07-24T07:01:51.439Z"
   },
   {
    "duration": 8,
    "start_time": "2022-07-24T07:02:00.396Z"
   },
   {
    "duration": 151,
    "start_time": "2022-07-24T07:02:08.338Z"
   },
   {
    "duration": 147,
    "start_time": "2022-07-24T07:02:16.474Z"
   },
   {
    "duration": 168,
    "start_time": "2022-07-24T07:02:39.087Z"
   },
   {
    "duration": 817,
    "start_time": "2022-07-24T09:48:39.940Z"
   },
   {
    "duration": 346,
    "start_time": "2022-07-24T09:48:40.759Z"
   },
   {
    "duration": 15,
    "start_time": "2022-07-24T09:48:41.107Z"
   },
   {
    "duration": 1840,
    "start_time": "2022-07-24T09:48:41.123Z"
   },
   {
    "duration": 5,
    "start_time": "2022-07-24T09:48:42.965Z"
   },
   {
    "duration": 9,
    "start_time": "2022-07-24T09:48:42.972Z"
   },
   {
    "duration": 11,
    "start_time": "2022-07-24T09:48:42.982Z"
   },
   {
    "duration": 7,
    "start_time": "2022-07-24T09:48:42.995Z"
   },
   {
    "duration": 7,
    "start_time": "2022-07-24T09:48:43.003Z"
   },
   {
    "duration": 8,
    "start_time": "2022-07-24T09:48:43.011Z"
   },
   {
    "duration": 7,
    "start_time": "2022-07-24T09:48:43.020Z"
   },
   {
    "duration": 10,
    "start_time": "2022-07-24T09:48:43.028Z"
   },
   {
    "duration": 27,
    "start_time": "2022-07-24T09:48:43.040Z"
   },
   {
    "duration": 10,
    "start_time": "2022-07-24T09:48:43.070Z"
   },
   {
    "duration": 7,
    "start_time": "2022-07-24T09:48:43.081Z"
   },
   {
    "duration": 6,
    "start_time": "2022-07-24T09:48:43.089Z"
   },
   {
    "duration": 7,
    "start_time": "2022-07-24T09:48:43.096Z"
   },
   {
    "duration": 27,
    "start_time": "2022-07-24T09:48:43.104Z"
   },
   {
    "duration": 5,
    "start_time": "2022-07-24T09:48:43.133Z"
   },
   {
    "duration": 73,
    "start_time": "2022-07-24T09:48:43.164Z"
   },
   {
    "duration": 7,
    "start_time": "2022-07-24T09:48:43.238Z"
   },
   {
    "duration": 23,
    "start_time": "2022-07-24T09:48:43.246Z"
   },
   {
    "duration": 13,
    "start_time": "2022-07-24T09:48:43.271Z"
   },
   {
    "duration": 10,
    "start_time": "2022-07-24T09:48:43.285Z"
   },
   {
    "duration": 192,
    "start_time": "2022-07-24T09:48:43.297Z"
   },
   {
    "duration": 424,
    "start_time": "2022-07-24T09:48:43.491Z"
   },
   {
    "duration": 6,
    "start_time": "2022-07-24T09:48:43.917Z"
   },
   {
    "duration": 8,
    "start_time": "2022-07-24T09:48:43.924Z"
   },
   {
    "duration": 8,
    "start_time": "2022-07-24T09:48:43.934Z"
   },
   {
    "duration": 21,
    "start_time": "2022-07-24T09:48:43.943Z"
   },
   {
    "duration": 15,
    "start_time": "2022-07-24T09:48:43.966Z"
   },
   {
    "duration": 41,
    "start_time": "2022-07-24T09:48:43.983Z"
   },
   {
    "duration": 14,
    "start_time": "2022-07-24T09:48:44.026Z"
   },
   {
    "duration": 23,
    "start_time": "2022-07-24T09:48:44.041Z"
   },
   {
    "duration": 4,
    "start_time": "2022-07-24T09:48:44.065Z"
   },
   {
    "duration": 38,
    "start_time": "2022-07-24T09:48:44.070Z"
   },
   {
    "duration": 14,
    "start_time": "2022-07-24T09:48:44.109Z"
   },
   {
    "duration": 13,
    "start_time": "2022-07-24T09:48:44.125Z"
   },
   {
    "duration": 358,
    "start_time": "2022-07-24T09:48:44.140Z"
   },
   {
    "duration": 5,
    "start_time": "2022-07-24T09:48:44.500Z"
   },
   {
    "duration": 8,
    "start_time": "2022-07-24T09:48:44.510Z"
   },
   {
    "duration": 329,
    "start_time": "2022-07-24T09:48:44.520Z"
   },
   {
    "duration": 13,
    "start_time": "2022-07-24T09:48:44.851Z"
   },
   {
    "duration": 233,
    "start_time": "2022-07-24T09:48:44.865Z"
   },
   {
    "duration": 240,
    "start_time": "2022-07-24T09:48:45.099Z"
   },
   {
    "duration": 378,
    "start_time": "2022-07-24T09:48:45.340Z"
   },
   {
    "duration": 7,
    "start_time": "2022-07-24T09:48:45.720Z"
   },
   {
    "duration": 8,
    "start_time": "2022-07-24T09:48:45.728Z"
   },
   {
    "duration": 281,
    "start_time": "2022-07-24T09:48:45.737Z"
   },
   {
    "duration": 373,
    "start_time": "2022-07-24T09:48:46.020Z"
   },
   {
    "duration": 198,
    "start_time": "2022-07-24T09:48:46.395Z"
   },
   {
    "duration": 5,
    "start_time": "2022-07-24T09:48:46.595Z"
   },
   {
    "duration": 12,
    "start_time": "2022-07-24T09:48:46.601Z"
   },
   {
    "duration": 251,
    "start_time": "2022-07-24T09:48:46.614Z"
   },
   {
    "duration": 184,
    "start_time": "2022-07-24T09:48:46.867Z"
   },
   {
    "duration": 281,
    "start_time": "2022-07-24T09:48:47.053Z"
   },
   {
    "duration": 151,
    "start_time": "2022-07-24T09:48:47.335Z"
   },
   {
    "duration": 9,
    "start_time": "2022-07-24T09:48:47.488Z"
   },
   {
    "duration": 336,
    "start_time": "2022-07-24T09:48:47.498Z"
   },
   {
    "duration": 9,
    "start_time": "2022-07-24T09:48:47.836Z"
   },
   {
    "duration": 274,
    "start_time": "2022-07-24T09:48:47.847Z"
   },
   {
    "duration": 9,
    "start_time": "2022-07-24T09:48:48.123Z"
   },
   {
    "duration": 246,
    "start_time": "2022-07-24T09:48:48.134Z"
   },
   {
    "duration": 145,
    "start_time": "2022-07-24T09:48:48.382Z"
   },
   {
    "duration": 5,
    "start_time": "2022-07-24T09:48:48.529Z"
   },
   {
    "duration": 9,
    "start_time": "2022-07-24T09:48:48.536Z"
   },
   {
    "duration": 170,
    "start_time": "2022-07-24T09:48:48.547Z"
   },
   {
    "duration": 10,
    "start_time": "2022-07-24T09:54:28.164Z"
   },
   {
    "duration": 396,
    "start_time": "2022-07-24T09:55:17.658Z"
   },
   {
    "duration": 372,
    "start_time": "2022-07-24T09:55:40.498Z"
   },
   {
    "duration": 230,
    "start_time": "2022-07-24T09:56:13.097Z"
   },
   {
    "duration": 332,
    "start_time": "2022-07-24T09:56:21.210Z"
   },
   {
    "duration": 500,
    "start_time": "2022-07-24T09:56:58.546Z"
   },
   {
    "duration": 316,
    "start_time": "2022-07-24T09:57:11.000Z"
   },
   {
    "duration": 432,
    "start_time": "2022-07-24T09:57:40.889Z"
   },
   {
    "duration": 417,
    "start_time": "2022-07-24T09:58:47.400Z"
   },
   {
    "duration": 259,
    "start_time": "2022-07-24T09:58:57.141Z"
   },
   {
    "duration": 210,
    "start_time": "2022-07-24T09:59:03.901Z"
   },
   {
    "duration": 380,
    "start_time": "2022-07-24T09:59:18.614Z"
   },
   {
    "duration": 4,
    "start_time": "2022-07-24T10:00:20.035Z"
   },
   {
    "duration": 348,
    "start_time": "2022-07-24T10:02:34.005Z"
   },
   {
    "duration": 484,
    "start_time": "2022-07-24T10:02:53.172Z"
   },
   {
    "duration": 37,
    "start_time": "2022-07-24T10:05:55.294Z"
   },
   {
    "duration": 245,
    "start_time": "2022-07-24T10:11:35.455Z"
   },
   {
    "duration": 647,
    "start_time": "2022-07-24T10:11:45.754Z"
   },
   {
    "duration": 180,
    "start_time": "2022-07-24T10:12:05.069Z"
   },
   {
    "duration": 8,
    "start_time": "2022-07-24T10:12:58.783Z"
   },
   {
    "duration": 549,
    "start_time": "2022-07-24T10:13:19.305Z"
   },
   {
    "duration": 7,
    "start_time": "2022-07-24T10:13:50.657Z"
   },
   {
    "duration": 6,
    "start_time": "2022-07-24T10:13:56.993Z"
   },
   {
    "duration": 801,
    "start_time": "2022-07-24T10:19:22.243Z"
   },
   {
    "duration": 7,
    "start_time": "2022-07-24T10:19:46.783Z"
   },
   {
    "duration": 552,
    "start_time": "2022-07-24T10:20:20.058Z"
   },
   {
    "duration": 571,
    "start_time": "2022-07-24T10:20:27.351Z"
   },
   {
    "duration": 236,
    "start_time": "2022-07-24T10:20:44.047Z"
   },
   {
    "duration": 264,
    "start_time": "2022-07-24T10:21:04.354Z"
   },
   {
    "duration": 4,
    "start_time": "2022-07-24T10:21:44.160Z"
   },
   {
    "duration": 243,
    "start_time": "2022-07-24T10:21:54.291Z"
   },
   {
    "duration": 228,
    "start_time": "2022-07-24T10:22:03.666Z"
   },
   {
    "duration": 221,
    "start_time": "2022-07-24T10:22:09.095Z"
   },
   {
    "duration": 7,
    "start_time": "2022-07-24T10:22:29.719Z"
   },
   {
    "duration": 811,
    "start_time": "2022-07-24T10:22:38.818Z"
   },
   {
    "duration": 8,
    "start_time": "2022-07-24T10:22:59.634Z"
   },
   {
    "duration": 10,
    "start_time": "2022-07-24T10:23:15.317Z"
   },
   {
    "duration": 8,
    "start_time": "2022-07-24T10:23:23.985Z"
   },
   {
    "duration": 646,
    "start_time": "2022-07-24T10:24:45.553Z"
   },
   {
    "duration": 124,
    "start_time": "2022-07-24T10:24:46.200Z"
   },
   {
    "duration": 16,
    "start_time": "2022-07-24T10:24:46.325Z"
   },
   {
    "duration": 1905,
    "start_time": "2022-07-24T10:24:46.343Z"
   },
   {
    "duration": 6,
    "start_time": "2022-07-24T10:24:48.251Z"
   },
   {
    "duration": 7,
    "start_time": "2022-07-24T10:24:48.259Z"
   },
   {
    "duration": 14,
    "start_time": "2022-07-24T10:24:48.268Z"
   },
   {
    "duration": 6,
    "start_time": "2022-07-24T10:24:48.284Z"
   },
   {
    "duration": 7,
    "start_time": "2022-07-24T10:24:48.291Z"
   },
   {
    "duration": 6,
    "start_time": "2022-07-24T10:24:48.299Z"
   },
   {
    "duration": 5,
    "start_time": "2022-07-24T10:24:48.307Z"
   },
   {
    "duration": 13,
    "start_time": "2022-07-24T10:24:48.314Z"
   },
   {
    "duration": 45,
    "start_time": "2022-07-24T10:24:48.329Z"
   },
   {
    "duration": 13,
    "start_time": "2022-07-24T10:24:48.378Z"
   },
   {
    "duration": 7,
    "start_time": "2022-07-24T10:24:48.393Z"
   },
   {
    "duration": 7,
    "start_time": "2022-07-24T10:24:48.402Z"
   },
   {
    "duration": 7,
    "start_time": "2022-07-24T10:24:48.411Z"
   },
   {
    "duration": 67,
    "start_time": "2022-07-24T10:24:48.420Z"
   },
   {
    "duration": 6,
    "start_time": "2022-07-24T10:24:48.489Z"
   },
   {
    "duration": 102,
    "start_time": "2022-07-24T10:24:48.497Z"
   },
   {
    "duration": 5,
    "start_time": "2022-07-24T10:24:48.601Z"
   },
   {
    "duration": 12,
    "start_time": "2022-07-24T10:24:48.608Z"
   },
   {
    "duration": 8,
    "start_time": "2022-07-24T10:24:48.623Z"
   },
   {
    "duration": 20,
    "start_time": "2022-07-24T10:24:48.633Z"
   },
   {
    "duration": 239,
    "start_time": "2022-07-24T10:24:48.654Z"
   },
   {
    "duration": 450,
    "start_time": "2022-07-24T10:24:48.894Z"
   },
   {
    "duration": 6,
    "start_time": "2022-07-24T10:24:49.345Z"
   },
   {
    "duration": 13,
    "start_time": "2022-07-24T10:24:49.352Z"
   },
   {
    "duration": 14,
    "start_time": "2022-07-24T10:24:49.367Z"
   },
   {
    "duration": 6,
    "start_time": "2022-07-24T10:24:49.383Z"
   },
   {
    "duration": 17,
    "start_time": "2022-07-24T10:24:49.391Z"
   },
   {
    "duration": 53,
    "start_time": "2022-07-24T10:24:49.410Z"
   },
   {
    "duration": 9,
    "start_time": "2022-07-24T10:24:49.465Z"
   },
   {
    "duration": 18,
    "start_time": "2022-07-24T10:24:49.475Z"
   },
   {
    "duration": 4,
    "start_time": "2022-07-24T10:24:49.495Z"
   },
   {
    "duration": 29,
    "start_time": "2022-07-24T10:24:49.501Z"
   },
   {
    "duration": 32,
    "start_time": "2022-07-24T10:24:49.532Z"
   },
   {
    "duration": 15,
    "start_time": "2022-07-24T10:24:49.565Z"
   },
   {
    "duration": 368,
    "start_time": "2022-07-24T10:24:49.585Z"
   },
   {
    "duration": 11,
    "start_time": "2022-07-24T10:24:49.954Z"
   },
   {
    "duration": 11,
    "start_time": "2022-07-24T10:24:49.968Z"
   },
   {
    "duration": 381,
    "start_time": "2022-07-24T10:24:49.980Z"
   },
   {
    "duration": 11,
    "start_time": "2022-07-24T10:24:50.364Z"
   },
   {
    "duration": 295,
    "start_time": "2022-07-24T10:24:50.378Z"
   },
   {
    "duration": 298,
    "start_time": "2022-07-24T10:24:50.675Z"
   },
   {
    "duration": 395,
    "start_time": "2022-07-24T10:24:50.975Z"
   },
   {
    "duration": 9,
    "start_time": "2022-07-24T10:24:51.371Z"
   },
   {
    "duration": 10,
    "start_time": "2022-07-24T10:24:51.383Z"
   },
   {
    "duration": 339,
    "start_time": "2022-07-24T10:24:51.396Z"
   },
   {
    "duration": 408,
    "start_time": "2022-07-24T10:24:51.737Z"
   },
   {
    "duration": 225,
    "start_time": "2022-07-24T10:24:52.147Z"
   },
   {
    "duration": 6,
    "start_time": "2022-07-24T10:24:52.373Z"
   },
   {
    "duration": 16,
    "start_time": "2022-07-24T10:24:52.380Z"
   },
   {
    "duration": 336,
    "start_time": "2022-07-24T10:24:52.398Z"
   },
   {
    "duration": 221,
    "start_time": "2022-07-24T10:24:52.737Z"
   },
   {
    "duration": 294,
    "start_time": "2022-07-24T10:24:52.959Z"
   },
   {
    "duration": 152,
    "start_time": "2022-07-24T10:24:53.254Z"
   },
   {
    "duration": 10,
    "start_time": "2022-07-24T10:24:53.409Z"
   },
   {
    "duration": 398,
    "start_time": "2022-07-24T10:24:53.421Z"
   },
   {
    "duration": 11,
    "start_time": "2022-07-24T10:24:53.821Z"
   },
   {
    "duration": 240,
    "start_time": "2022-07-24T10:24:53.833Z"
   },
   {
    "duration": 9,
    "start_time": "2022-07-24T10:24:54.075Z"
   },
   {
    "duration": 257,
    "start_time": "2022-07-24T10:24:54.086Z"
   },
   {
    "duration": 151,
    "start_time": "2022-07-24T10:24:54.345Z"
   },
   {
    "duration": 6,
    "start_time": "2022-07-24T10:24:54.497Z"
   },
   {
    "duration": 11,
    "start_time": "2022-07-24T10:24:54.504Z"
   },
   {
    "duration": 172,
    "start_time": "2022-07-24T10:24:54.517Z"
   },
   {
    "duration": 12,
    "start_time": "2022-07-24T10:24:54.690Z"
   },
   {
    "duration": 239,
    "start_time": "2022-07-24T10:24:54.704Z"
   },
   {
    "duration": 672,
    "start_time": "2022-07-24T10:24:54.945Z"
   },
   {
    "duration": 6,
    "start_time": "2022-07-24T10:24:55.619Z"
   },
   {
    "duration": 538,
    "start_time": "2022-07-24T10:24:55.627Z"
   },
   {
    "duration": 8,
    "start_time": "2022-07-24T10:24:56.167Z"
   },
   {
    "duration": 12,
    "start_time": "2022-07-24T10:26:18.974Z"
   },
   {
    "duration": 72,
    "start_time": "2022-07-24T10:26:31.248Z"
   },
   {
    "duration": 797,
    "start_time": "2022-07-24T10:26:33.807Z"
   },
   {
    "duration": 110,
    "start_time": "2022-07-24T10:27:05.073Z"
   },
   {
    "duration": 18,
    "start_time": "2022-07-24T10:27:15.498Z"
   },
   {
    "duration": 665,
    "start_time": "2022-07-24T10:30:54.723Z"
   },
   {
    "duration": 130,
    "start_time": "2022-07-24T10:30:55.391Z"
   },
   {
    "duration": 21,
    "start_time": "2022-07-24T10:30:55.523Z"
   },
   {
    "duration": 2022,
    "start_time": "2022-07-24T10:30:55.546Z"
   },
   {
    "duration": 5,
    "start_time": "2022-07-24T10:30:57.570Z"
   },
   {
    "duration": 14,
    "start_time": "2022-07-24T10:30:57.576Z"
   },
   {
    "duration": 7,
    "start_time": "2022-07-24T10:30:57.591Z"
   },
   {
    "duration": 10,
    "start_time": "2022-07-24T10:30:57.600Z"
   },
   {
    "duration": 13,
    "start_time": "2022-07-24T10:30:57.611Z"
   },
   {
    "duration": 12,
    "start_time": "2022-07-24T10:30:57.626Z"
   },
   {
    "duration": 10,
    "start_time": "2022-07-24T10:30:57.640Z"
   },
   {
    "duration": 27,
    "start_time": "2022-07-24T10:30:57.664Z"
   },
   {
    "duration": 21,
    "start_time": "2022-07-24T10:30:57.693Z"
   },
   {
    "duration": 11,
    "start_time": "2022-07-24T10:30:57.718Z"
   },
   {
    "duration": 6,
    "start_time": "2022-07-24T10:30:57.731Z"
   },
   {
    "duration": 16,
    "start_time": "2022-07-24T10:30:57.739Z"
   },
   {
    "duration": 10,
    "start_time": "2022-07-24T10:30:57.757Z"
   },
   {
    "duration": 29,
    "start_time": "2022-07-24T10:30:57.768Z"
   },
   {
    "duration": 6,
    "start_time": "2022-07-24T10:30:57.799Z"
   },
   {
    "duration": 134,
    "start_time": "2022-07-24T10:30:57.807Z"
   },
   {
    "duration": 7,
    "start_time": "2022-07-24T10:30:57.943Z"
   },
   {
    "duration": 16,
    "start_time": "2022-07-24T10:30:57.951Z"
   },
   {
    "duration": 7,
    "start_time": "2022-07-24T10:30:57.970Z"
   },
   {
    "duration": 10,
    "start_time": "2022-07-24T10:30:57.979Z"
   },
   {
    "duration": 203,
    "start_time": "2022-07-24T10:30:57.990Z"
   },
   {
    "duration": 444,
    "start_time": "2022-07-24T10:30:58.195Z"
   },
   {
    "duration": 8,
    "start_time": "2022-07-24T10:30:58.642Z"
   },
   {
    "duration": 19,
    "start_time": "2022-07-24T10:30:58.651Z"
   },
   {
    "duration": 9,
    "start_time": "2022-07-24T10:30:58.672Z"
   },
   {
    "duration": 13,
    "start_time": "2022-07-24T10:30:58.683Z"
   },
   {
    "duration": 34,
    "start_time": "2022-07-24T10:30:58.698Z"
   },
   {
    "duration": 69,
    "start_time": "2022-07-24T10:30:58.734Z"
   },
   {
    "duration": 12,
    "start_time": "2022-07-24T10:30:58.806Z"
   },
   {
    "duration": 124,
    "start_time": "2022-07-24T10:30:58.820Z"
   },
   {
    "duration": 0,
    "start_time": "2022-07-24T10:30:58.948Z"
   },
   {
    "duration": 0,
    "start_time": "2022-07-24T10:30:58.949Z"
   },
   {
    "duration": 0,
    "start_time": "2022-07-24T10:30:58.951Z"
   },
   {
    "duration": 0,
    "start_time": "2022-07-24T10:30:58.952Z"
   },
   {
    "duration": 0,
    "start_time": "2022-07-24T10:30:58.952Z"
   },
   {
    "duration": 1,
    "start_time": "2022-07-24T10:30:58.953Z"
   },
   {
    "duration": 0,
    "start_time": "2022-07-24T10:30:58.954Z"
   },
   {
    "duration": 0,
    "start_time": "2022-07-24T10:30:58.964Z"
   },
   {
    "duration": 0,
    "start_time": "2022-07-24T10:30:58.965Z"
   },
   {
    "duration": 0,
    "start_time": "2022-07-24T10:30:58.966Z"
   },
   {
    "duration": 0,
    "start_time": "2022-07-24T10:30:58.968Z"
   },
   {
    "duration": 0,
    "start_time": "2022-07-24T10:30:58.969Z"
   },
   {
    "duration": 0,
    "start_time": "2022-07-24T10:30:58.971Z"
   },
   {
    "duration": 0,
    "start_time": "2022-07-24T10:30:58.972Z"
   },
   {
    "duration": 0,
    "start_time": "2022-07-24T10:30:58.973Z"
   },
   {
    "duration": 0,
    "start_time": "2022-07-24T10:30:58.974Z"
   },
   {
    "duration": 0,
    "start_time": "2022-07-24T10:30:58.976Z"
   },
   {
    "duration": 0,
    "start_time": "2022-07-24T10:30:58.977Z"
   },
   {
    "duration": 0,
    "start_time": "2022-07-24T10:30:58.978Z"
   },
   {
    "duration": 0,
    "start_time": "2022-07-24T10:30:58.980Z"
   },
   {
    "duration": 0,
    "start_time": "2022-07-24T10:30:58.981Z"
   },
   {
    "duration": 0,
    "start_time": "2022-07-24T10:30:58.983Z"
   },
   {
    "duration": 0,
    "start_time": "2022-07-24T10:30:58.984Z"
   },
   {
    "duration": 0,
    "start_time": "2022-07-24T10:30:58.986Z"
   },
   {
    "duration": 0,
    "start_time": "2022-07-24T10:30:58.987Z"
   },
   {
    "duration": 0,
    "start_time": "2022-07-24T10:30:58.988Z"
   },
   {
    "duration": 0,
    "start_time": "2022-07-24T10:30:58.989Z"
   },
   {
    "duration": 0,
    "start_time": "2022-07-24T10:30:58.990Z"
   },
   {
    "duration": 0,
    "start_time": "2022-07-24T10:30:58.992Z"
   },
   {
    "duration": 0,
    "start_time": "2022-07-24T10:30:58.993Z"
   },
   {
    "duration": 0,
    "start_time": "2022-07-24T10:30:58.994Z"
   },
   {
    "duration": 0,
    "start_time": "2022-07-24T10:30:58.995Z"
   },
   {
    "duration": 0,
    "start_time": "2022-07-24T10:30:58.996Z"
   },
   {
    "duration": 0,
    "start_time": "2022-07-24T10:30:58.997Z"
   },
   {
    "duration": 0,
    "start_time": "2022-07-24T10:30:58.998Z"
   },
   {
    "duration": 0,
    "start_time": "2022-07-24T10:30:58.999Z"
   },
   {
    "duration": 0,
    "start_time": "2022-07-24T10:30:59.064Z"
   },
   {
    "duration": 0,
    "start_time": "2022-07-24T10:30:59.065Z"
   },
   {
    "duration": 0,
    "start_time": "2022-07-24T10:30:59.067Z"
   },
   {
    "duration": 0,
    "start_time": "2022-07-24T10:30:59.069Z"
   },
   {
    "duration": 0,
    "start_time": "2022-07-24T10:30:59.070Z"
   },
   {
    "duration": 16,
    "start_time": "2022-07-24T10:31:45.807Z"
   },
   {
    "duration": 6,
    "start_time": "2022-07-24T10:32:10.844Z"
   },
   {
    "duration": 4,
    "start_time": "2022-07-24T10:32:17.960Z"
   },
   {
    "duration": 707,
    "start_time": "2022-07-24T10:34:04.144Z"
   },
   {
    "duration": 140,
    "start_time": "2022-07-24T10:34:04.853Z"
   },
   {
    "duration": 15,
    "start_time": "2022-07-24T10:34:04.995Z"
   },
   {
    "duration": 2068,
    "start_time": "2022-07-24T10:34:05.012Z"
   },
   {
    "duration": 5,
    "start_time": "2022-07-24T10:34:07.082Z"
   },
   {
    "duration": 13,
    "start_time": "2022-07-24T10:34:07.089Z"
   },
   {
    "duration": 19,
    "start_time": "2022-07-24T10:34:07.103Z"
   },
   {
    "duration": 13,
    "start_time": "2022-07-24T10:34:07.124Z"
   },
   {
    "duration": 16,
    "start_time": "2022-07-24T10:34:07.139Z"
   },
   {
    "duration": 29,
    "start_time": "2022-07-24T10:34:07.156Z"
   },
   {
    "duration": 5,
    "start_time": "2022-07-24T10:34:07.187Z"
   },
   {
    "duration": 19,
    "start_time": "2022-07-24T10:34:07.193Z"
   },
   {
    "duration": 28,
    "start_time": "2022-07-24T10:34:07.213Z"
   },
   {
    "duration": 9,
    "start_time": "2022-07-24T10:34:07.244Z"
   },
   {
    "duration": 25,
    "start_time": "2022-07-24T10:34:07.254Z"
   },
   {
    "duration": 14,
    "start_time": "2022-07-24T10:34:07.280Z"
   },
   {
    "duration": 16,
    "start_time": "2022-07-24T10:34:07.295Z"
   },
   {
    "duration": 27,
    "start_time": "2022-07-24T10:34:07.312Z"
   },
   {
    "duration": 4,
    "start_time": "2022-07-24T10:34:07.341Z"
   },
   {
    "duration": 87,
    "start_time": "2022-07-24T10:34:07.347Z"
   },
   {
    "duration": 6,
    "start_time": "2022-07-24T10:34:07.436Z"
   },
   {
    "duration": 13,
    "start_time": "2022-07-24T10:34:07.444Z"
   },
   {
    "duration": 39,
    "start_time": "2022-07-24T10:34:07.459Z"
   },
   {
    "duration": 19,
    "start_time": "2022-07-24T10:34:07.500Z"
   },
   {
    "duration": 183,
    "start_time": "2022-07-24T10:34:07.521Z"
   },
   {
    "duration": 487,
    "start_time": "2022-07-24T10:34:07.706Z"
   },
   {
    "duration": 5,
    "start_time": "2022-07-24T10:34:08.195Z"
   },
   {
    "duration": 22,
    "start_time": "2022-07-24T10:34:08.202Z"
   },
   {
    "duration": 10,
    "start_time": "2022-07-24T10:34:08.226Z"
   },
   {
    "duration": 17,
    "start_time": "2022-07-24T10:34:08.238Z"
   },
   {
    "duration": 17,
    "start_time": "2022-07-24T10:34:08.257Z"
   },
   {
    "duration": 61,
    "start_time": "2022-07-24T10:34:08.276Z"
   },
   {
    "duration": 8,
    "start_time": "2022-07-24T10:34:08.339Z"
   },
   {
    "duration": 16,
    "start_time": "2022-07-24T10:34:08.349Z"
   },
   {
    "duration": 28,
    "start_time": "2022-07-24T10:34:08.367Z"
   },
   {
    "duration": 30,
    "start_time": "2022-07-24T10:34:08.397Z"
   },
   {
    "duration": 28,
    "start_time": "2022-07-24T10:34:08.428Z"
   },
   {
    "duration": 18,
    "start_time": "2022-07-24T10:34:08.457Z"
   },
   {
    "duration": 415,
    "start_time": "2022-07-24T10:34:08.478Z"
   },
   {
    "duration": 6,
    "start_time": "2022-07-24T10:34:08.895Z"
   },
   {
    "duration": 11,
    "start_time": "2022-07-24T10:34:08.905Z"
   },
   {
    "duration": 361,
    "start_time": "2022-07-24T10:34:08.917Z"
   },
   {
    "duration": 10,
    "start_time": "2022-07-24T10:34:09.280Z"
   },
   {
    "duration": 267,
    "start_time": "2022-07-24T10:34:09.291Z"
   },
   {
    "duration": 274,
    "start_time": "2022-07-24T10:34:09.563Z"
   },
   {
    "duration": 418,
    "start_time": "2022-07-24T10:34:09.839Z"
   },
   {
    "duration": 11,
    "start_time": "2022-07-24T10:34:10.263Z"
   },
   {
    "duration": 17,
    "start_time": "2022-07-24T10:34:10.276Z"
   },
   {
    "duration": 337,
    "start_time": "2022-07-24T10:34:10.295Z"
   },
   {
    "duration": 442,
    "start_time": "2022-07-24T10:34:10.634Z"
   },
   {
    "duration": 230,
    "start_time": "2022-07-24T10:34:11.078Z"
   },
   {
    "duration": 6,
    "start_time": "2022-07-24T10:34:11.310Z"
   },
   {
    "duration": 17,
    "start_time": "2022-07-24T10:34:11.319Z"
   },
   {
    "duration": 295,
    "start_time": "2022-07-24T10:34:11.338Z"
   },
   {
    "duration": 219,
    "start_time": "2022-07-24T10:34:11.635Z"
   },
   {
    "duration": 321,
    "start_time": "2022-07-24T10:34:11.856Z"
   },
   {
    "duration": 151,
    "start_time": "2022-07-24T10:34:12.179Z"
   },
   {
    "duration": 10,
    "start_time": "2022-07-24T10:34:12.332Z"
   },
   {
    "duration": 422,
    "start_time": "2022-07-24T10:34:12.344Z"
   },
   {
    "duration": 14,
    "start_time": "2022-07-24T10:34:12.768Z"
   },
   {
    "duration": 259,
    "start_time": "2022-07-24T10:34:12.783Z"
   },
   {
    "duration": 10,
    "start_time": "2022-07-24T10:34:13.044Z"
   },
   {
    "duration": 282,
    "start_time": "2022-07-24T10:34:13.064Z"
   },
   {
    "duration": 166,
    "start_time": "2022-07-24T10:34:13.348Z"
   },
   {
    "duration": 6,
    "start_time": "2022-07-24T10:34:13.516Z"
   },
   {
    "duration": 12,
    "start_time": "2022-07-24T10:34:13.523Z"
   },
   {
    "duration": 190,
    "start_time": "2022-07-24T10:34:13.537Z"
   },
   {
    "duration": 10,
    "start_time": "2022-07-24T10:34:13.728Z"
   },
   {
    "duration": 310,
    "start_time": "2022-07-24T10:34:13.739Z"
   },
   {
    "duration": 790,
    "start_time": "2022-07-24T10:34:14.050Z"
   },
   {
    "duration": 7,
    "start_time": "2022-07-24T10:34:14.841Z"
   },
   {
    "duration": 47,
    "start_time": "2022-07-24T10:34:14.849Z"
   },
   {
    "duration": 40,
    "start_time": "2022-07-24T10:34:14.898Z"
   },
   {
    "duration": 622,
    "start_time": "2022-07-24T10:34:14.939Z"
   },
   {
    "duration": 23,
    "start_time": "2022-07-24T10:34:15.567Z"
   },
   {
    "duration": 8,
    "start_time": "2022-07-24T10:35:01.914Z"
   },
   {
    "duration": 8,
    "start_time": "2022-07-24T10:35:06.999Z"
   },
   {
    "duration": 695,
    "start_time": "2022-07-24T10:35:46.742Z"
   },
   {
    "duration": 171,
    "start_time": "2022-07-24T10:35:47.439Z"
   },
   {
    "duration": 14,
    "start_time": "2022-07-24T10:35:47.611Z"
   },
   {
    "duration": 2205,
    "start_time": "2022-07-24T10:35:47.627Z"
   },
   {
    "duration": 5,
    "start_time": "2022-07-24T10:35:49.834Z"
   },
   {
    "duration": 8,
    "start_time": "2022-07-24T10:35:49.840Z"
   },
   {
    "duration": 6,
    "start_time": "2022-07-24T10:35:49.849Z"
   },
   {
    "duration": 4,
    "start_time": "2022-07-24T10:35:49.857Z"
   },
   {
    "duration": 32,
    "start_time": "2022-07-24T10:35:49.863Z"
   },
   {
    "duration": 9,
    "start_time": "2022-07-24T10:35:49.897Z"
   },
   {
    "duration": 5,
    "start_time": "2022-07-24T10:35:49.908Z"
   },
   {
    "duration": 10,
    "start_time": "2022-07-24T10:35:49.914Z"
   },
   {
    "duration": 11,
    "start_time": "2022-07-24T10:35:49.926Z"
   },
   {
    "duration": 8,
    "start_time": "2022-07-24T10:35:49.940Z"
   },
   {
    "duration": 5,
    "start_time": "2022-07-24T10:35:49.950Z"
   },
   {
    "duration": 12,
    "start_time": "2022-07-24T10:35:49.956Z"
   },
   {
    "duration": 38,
    "start_time": "2022-07-24T10:35:49.970Z"
   },
   {
    "duration": 28,
    "start_time": "2022-07-24T10:35:50.010Z"
   },
   {
    "duration": 4,
    "start_time": "2022-07-24T10:35:50.040Z"
   },
   {
    "duration": 101,
    "start_time": "2022-07-24T10:35:50.045Z"
   },
   {
    "duration": 6,
    "start_time": "2022-07-24T10:35:50.147Z"
   },
   {
    "duration": 12,
    "start_time": "2022-07-24T10:35:50.155Z"
   },
   {
    "duration": 30,
    "start_time": "2022-07-24T10:35:50.169Z"
   },
   {
    "duration": 11,
    "start_time": "2022-07-24T10:35:50.200Z"
   },
   {
    "duration": 221,
    "start_time": "2022-07-24T10:35:50.213Z"
   },
   {
    "duration": 538,
    "start_time": "2022-07-24T10:35:50.436Z"
   },
   {
    "duration": 11,
    "start_time": "2022-07-24T10:35:50.982Z"
   },
   {
    "duration": 4,
    "start_time": "2022-07-24T10:35:50.996Z"
   },
   {
    "duration": 7,
    "start_time": "2022-07-24T10:35:51.002Z"
   },
   {
    "duration": 12,
    "start_time": "2022-07-24T10:35:51.011Z"
   },
   {
    "duration": 12,
    "start_time": "2022-07-24T10:35:51.024Z"
   },
   {
    "duration": 69,
    "start_time": "2022-07-24T10:35:51.037Z"
   },
   {
    "duration": 9,
    "start_time": "2022-07-24T10:35:51.108Z"
   },
   {
    "duration": 4,
    "start_time": "2022-07-24T10:35:51.118Z"
   },
   {
    "duration": 7,
    "start_time": "2022-07-24T10:35:51.123Z"
   },
   {
    "duration": 47,
    "start_time": "2022-07-24T10:35:51.131Z"
   },
   {
    "duration": 24,
    "start_time": "2022-07-24T10:35:51.180Z"
   },
   {
    "duration": 13,
    "start_time": "2022-07-24T10:35:51.205Z"
   },
   {
    "duration": 491,
    "start_time": "2022-07-24T10:35:51.220Z"
   },
   {
    "duration": 4,
    "start_time": "2022-07-24T10:35:51.713Z"
   },
   {
    "duration": 8,
    "start_time": "2022-07-24T10:35:51.721Z"
   },
   {
    "duration": 412,
    "start_time": "2022-07-24T10:35:51.731Z"
   },
   {
    "duration": 9,
    "start_time": "2022-07-24T10:35:52.145Z"
   },
   {
    "duration": 292,
    "start_time": "2022-07-24T10:35:52.163Z"
   },
   {
    "duration": 397,
    "start_time": "2022-07-24T10:35:52.457Z"
   },
   {
    "duration": 448,
    "start_time": "2022-07-24T10:35:52.856Z"
   },
   {
    "duration": 8,
    "start_time": "2022-07-24T10:35:53.306Z"
   },
   {
    "duration": 12,
    "start_time": "2022-07-24T10:35:53.316Z"
   },
   {
    "duration": 358,
    "start_time": "2022-07-24T10:35:53.330Z"
   },
   {
    "duration": 471,
    "start_time": "2022-07-24T10:35:53.691Z"
   },
   {
    "duration": 258,
    "start_time": "2022-07-24T10:35:54.165Z"
   },
   {
    "duration": 5,
    "start_time": "2022-07-24T10:35:54.425Z"
   },
   {
    "duration": 14,
    "start_time": "2022-07-24T10:35:54.432Z"
   },
   {
    "duration": 306,
    "start_time": "2022-07-24T10:35:54.447Z"
   },
   {
    "duration": 228,
    "start_time": "2022-07-24T10:35:54.755Z"
   },
   {
    "duration": 332,
    "start_time": "2022-07-24T10:35:54.986Z"
   },
   {
    "duration": 156,
    "start_time": "2022-07-24T10:35:55.320Z"
   },
   {
    "duration": 13,
    "start_time": "2022-07-24T10:35:55.477Z"
   },
   {
    "duration": 427,
    "start_time": "2022-07-24T10:35:55.492Z"
   },
   {
    "duration": 11,
    "start_time": "2022-07-24T10:35:55.921Z"
   },
   {
    "duration": 271,
    "start_time": "2022-07-24T10:35:55.934Z"
   },
   {
    "duration": 10,
    "start_time": "2022-07-24T10:35:56.206Z"
   },
   {
    "duration": 307,
    "start_time": "2022-07-24T10:35:56.217Z"
   },
   {
    "duration": 165,
    "start_time": "2022-07-24T10:35:56.526Z"
   },
   {
    "duration": 6,
    "start_time": "2022-07-24T10:35:56.693Z"
   },
   {
    "duration": 17,
    "start_time": "2022-07-24T10:35:56.701Z"
   },
   {
    "duration": 209,
    "start_time": "2022-07-24T10:35:56.720Z"
   },
   {
    "duration": 9,
    "start_time": "2022-07-24T10:35:56.931Z"
   },
   {
    "duration": 302,
    "start_time": "2022-07-24T10:35:56.942Z"
   },
   {
    "duration": 798,
    "start_time": "2022-07-24T10:35:57.245Z"
   },
   {
    "duration": 6,
    "start_time": "2022-07-24T10:35:58.045Z"
   },
   {
    "duration": 15,
    "start_time": "2022-07-24T10:35:58.052Z"
   },
   {
    "duration": 61,
    "start_time": "2022-07-24T10:35:58.069Z"
   },
   {
    "duration": 640,
    "start_time": "2022-07-24T10:35:58.131Z"
   },
   {
    "duration": 13,
    "start_time": "2022-07-24T10:35:58.774Z"
   },
   {
    "duration": 10,
    "start_time": "2022-07-24T10:36:43.546Z"
   },
   {
    "duration": 829,
    "start_time": "2022-07-24T10:36:45.789Z"
   },
   {
    "duration": 8,
    "start_time": "2022-07-24T10:39:21.709Z"
   },
   {
    "duration": 574,
    "start_time": "2022-07-24T10:39:25.732Z"
   },
   {
    "duration": 9,
    "start_time": "2022-07-24T10:39:36.344Z"
   },
   {
    "duration": 7,
    "start_time": "2022-07-24T10:40:13.504Z"
   },
   {
    "duration": 11,
    "start_time": "2022-07-24T10:40:57.731Z"
   },
   {
    "duration": 572,
    "start_time": "2022-07-24T10:40:59.236Z"
   },
   {
    "duration": 17,
    "start_time": "2022-07-24T10:41:11.579Z"
   },
   {
    "duration": 13,
    "start_time": "2022-07-24T10:41:27.283Z"
   },
   {
    "duration": 102,
    "start_time": "2022-07-24T10:43:02.287Z"
   },
   {
    "duration": 6,
    "start_time": "2022-07-24T10:43:08.556Z"
   },
   {
    "duration": 6,
    "start_time": "2022-07-24T10:43:14.305Z"
   },
   {
    "duration": 8,
    "start_time": "2022-07-24T10:43:17.560Z"
   },
   {
    "duration": 6,
    "start_time": "2022-07-24T10:44:40.038Z"
   },
   {
    "duration": 10,
    "start_time": "2022-07-24T10:44:48.344Z"
   },
   {
    "duration": 871,
    "start_time": "2022-07-24T10:44:49.545Z"
   },
   {
    "duration": 264,
    "start_time": "2022-07-24T10:45:15.791Z"
   },
   {
    "duration": 56,
    "start_time": "2022-07-25T04:04:27.964Z"
   },
   {
    "duration": 892,
    "start_time": "2022-07-25T04:04:39.268Z"
   },
   {
    "duration": 211,
    "start_time": "2022-07-25T04:04:40.163Z"
   },
   {
    "duration": 22,
    "start_time": "2022-07-25T04:04:40.376Z"
   },
   {
    "duration": 2502,
    "start_time": "2022-07-25T04:04:40.400Z"
   },
   {
    "duration": 5,
    "start_time": "2022-07-25T04:04:42.904Z"
   },
   {
    "duration": 16,
    "start_time": "2022-07-25T04:04:42.914Z"
   },
   {
    "duration": 8,
    "start_time": "2022-07-25T04:04:42.932Z"
   },
   {
    "duration": 7,
    "start_time": "2022-07-25T04:04:42.942Z"
   },
   {
    "duration": 4,
    "start_time": "2022-07-25T04:04:42.951Z"
   },
   {
    "duration": 5,
    "start_time": "2022-07-25T04:04:42.958Z"
   },
   {
    "duration": 6,
    "start_time": "2022-07-25T04:04:42.964Z"
   },
   {
    "duration": 10,
    "start_time": "2022-07-25T04:04:42.971Z"
   },
   {
    "duration": 37,
    "start_time": "2022-07-25T04:04:42.983Z"
   },
   {
    "duration": 12,
    "start_time": "2022-07-25T04:04:43.022Z"
   },
   {
    "duration": 13,
    "start_time": "2022-07-25T04:04:43.036Z"
   },
   {
    "duration": 17,
    "start_time": "2022-07-25T04:04:43.051Z"
   },
   {
    "duration": 34,
    "start_time": "2022-07-25T04:04:43.070Z"
   },
   {
    "duration": 49,
    "start_time": "2022-07-25T04:04:43.106Z"
   },
   {
    "duration": 12,
    "start_time": "2022-07-25T04:04:43.156Z"
   },
   {
    "duration": 93,
    "start_time": "2022-07-25T04:04:43.170Z"
   },
   {
    "duration": 5,
    "start_time": "2022-07-25T04:04:43.265Z"
   },
   {
    "duration": 10,
    "start_time": "2022-07-25T04:04:43.271Z"
   },
   {
    "duration": 7,
    "start_time": "2022-07-25T04:04:43.283Z"
   },
   {
    "duration": 32,
    "start_time": "2022-07-25T04:04:43.292Z"
   },
   {
    "duration": 205,
    "start_time": "2022-07-25T04:04:43.326Z"
   },
   {
    "duration": 494,
    "start_time": "2022-07-25T04:04:43.533Z"
   },
   {
    "duration": 5,
    "start_time": "2022-07-25T04:04:44.029Z"
   },
   {
    "duration": 18,
    "start_time": "2022-07-25T04:04:44.039Z"
   },
   {
    "duration": 15,
    "start_time": "2022-07-25T04:04:44.059Z"
   },
   {
    "duration": 14,
    "start_time": "2022-07-25T04:04:44.076Z"
   },
   {
    "duration": 13,
    "start_time": "2022-07-25T04:04:44.092Z"
   },
   {
    "duration": 56,
    "start_time": "2022-07-25T04:04:44.107Z"
   },
   {
    "duration": 11,
    "start_time": "2022-07-25T04:04:44.165Z"
   },
   {
    "duration": 6,
    "start_time": "2022-07-25T04:04:44.177Z"
   },
   {
    "duration": 13,
    "start_time": "2022-07-25T04:04:44.185Z"
   },
   {
    "duration": 38,
    "start_time": "2022-07-25T04:04:44.200Z"
   },
   {
    "duration": 15,
    "start_time": "2022-07-25T04:04:44.240Z"
   },
   {
    "duration": 16,
    "start_time": "2022-07-25T04:04:44.257Z"
   },
   {
    "duration": 425,
    "start_time": "2022-07-25T04:04:44.275Z"
   },
   {
    "duration": 6,
    "start_time": "2022-07-25T04:04:44.702Z"
   },
   {
    "duration": 23,
    "start_time": "2022-07-25T04:04:44.709Z"
   },
   {
    "duration": 391,
    "start_time": "2022-07-25T04:04:44.734Z"
   },
   {
    "duration": 10,
    "start_time": "2022-07-25T04:04:45.127Z"
   },
   {
    "duration": 306,
    "start_time": "2022-07-25T04:04:45.139Z"
   },
   {
    "duration": 314,
    "start_time": "2022-07-25T04:04:45.447Z"
   },
   {
    "duration": 443,
    "start_time": "2022-07-25T04:04:45.763Z"
   },
   {
    "duration": 18,
    "start_time": "2022-07-25T04:04:46.207Z"
   },
   {
    "duration": 13,
    "start_time": "2022-07-25T04:04:46.227Z"
   },
   {
    "duration": 319,
    "start_time": "2022-07-25T04:04:46.241Z"
   },
   {
    "duration": 442,
    "start_time": "2022-07-25T04:04:46.562Z"
   },
   {
    "duration": 246,
    "start_time": "2022-07-25T04:04:47.005Z"
   },
   {
    "duration": 6,
    "start_time": "2022-07-25T04:04:47.253Z"
   },
   {
    "duration": 16,
    "start_time": "2022-07-25T04:04:47.260Z"
   },
   {
    "duration": 308,
    "start_time": "2022-07-25T04:04:47.278Z"
   },
   {
    "duration": 250,
    "start_time": "2022-07-25T04:04:47.588Z"
   },
   {
    "duration": 335,
    "start_time": "2022-07-25T04:04:47.840Z"
   },
   {
    "duration": 164,
    "start_time": "2022-07-25T04:04:48.177Z"
   },
   {
    "duration": 10,
    "start_time": "2022-07-25T04:04:48.344Z"
   },
   {
    "duration": 395,
    "start_time": "2022-07-25T04:04:48.357Z"
   },
   {
    "duration": 11,
    "start_time": "2022-07-25T04:04:48.753Z"
   },
   {
    "duration": 274,
    "start_time": "2022-07-25T04:04:48.766Z"
   },
   {
    "duration": 10,
    "start_time": "2022-07-25T04:04:49.042Z"
   },
   {
    "duration": 295,
    "start_time": "2022-07-25T04:04:49.053Z"
   },
   {
    "duration": 172,
    "start_time": "2022-07-25T04:04:49.349Z"
   },
   {
    "duration": 6,
    "start_time": "2022-07-25T04:04:49.523Z"
   },
   {
    "duration": 11,
    "start_time": "2022-07-25T04:04:49.530Z"
   },
   {
    "duration": 195,
    "start_time": "2022-07-25T04:04:49.543Z"
   },
   {
    "duration": 9,
    "start_time": "2022-07-25T04:04:49.740Z"
   },
   {
    "duration": 281,
    "start_time": "2022-07-25T04:04:49.751Z"
   },
   {
    "duration": 756,
    "start_time": "2022-07-25T04:04:50.034Z"
   },
   {
    "duration": 7,
    "start_time": "2022-07-25T04:04:50.792Z"
   },
   {
    "duration": 12,
    "start_time": "2022-07-25T04:04:50.822Z"
   },
   {
    "duration": 296,
    "start_time": "2022-07-25T04:04:50.836Z"
   },
   {
    "duration": 92,
    "start_time": "2022-07-25T04:04:51.134Z"
   },
   {
    "duration": 0,
    "start_time": "2022-07-25T04:04:51.228Z"
   },
   {
    "duration": 11,
    "start_time": "2022-07-25T04:05:15.822Z"
   },
   {
    "duration": 11,
    "start_time": "2022-07-25T04:05:56.930Z"
   },
   {
    "duration": 8,
    "start_time": "2022-07-25T04:06:26.823Z"
   },
   {
    "duration": 213,
    "start_time": "2022-07-25T04:06:30.050Z"
   },
   {
    "duration": 199,
    "start_time": "2022-07-25T04:06:39.346Z"
   },
   {
    "duration": 233,
    "start_time": "2022-07-25T04:07:39.243Z"
   },
   {
    "duration": 269,
    "start_time": "2022-07-25T04:08:08.433Z"
   },
   {
    "duration": 10,
    "start_time": "2022-07-25T04:09:47.930Z"
   },
   {
    "duration": 1952,
    "start_time": "2022-07-25T04:10:00.873Z"
   },
   {
    "duration": 27,
    "start_time": "2022-07-25T04:10:12.421Z"
   },
   {
    "duration": 1411,
    "start_time": "2022-07-25T04:10:38.331Z"
   },
   {
    "duration": 1427,
    "start_time": "2022-07-25T04:11:08.751Z"
   },
   {
    "duration": 356,
    "start_time": "2022-07-25T04:11:16.569Z"
   },
   {
    "duration": 81,
    "start_time": "2022-07-25T04:11:26.180Z"
   },
   {
    "duration": 1443,
    "start_time": "2022-07-25T04:11:31.177Z"
   },
   {
    "duration": 19,
    "start_time": "2022-07-25T04:11:50.732Z"
   },
   {
    "duration": 181,
    "start_time": "2022-07-25T04:12:02.994Z"
   },
   {
    "duration": 81,
    "start_time": "2022-07-25T04:12:54.365Z"
   },
   {
    "duration": 83,
    "start_time": "2022-07-25T04:13:01.467Z"
   },
   {
    "duration": 164,
    "start_time": "2022-07-25T04:13:08.101Z"
   },
   {
    "duration": 189,
    "start_time": "2022-07-25T04:13:36.891Z"
   },
   {
    "duration": 177,
    "start_time": "2022-07-25T04:14:13.106Z"
   },
   {
    "duration": 174,
    "start_time": "2022-07-25T04:15:19.702Z"
   },
   {
    "duration": 208,
    "start_time": "2022-07-25T04:15:59.235Z"
   },
   {
    "duration": 1482,
    "start_time": "2022-07-25T04:16:46.876Z"
   },
   {
    "duration": 1329,
    "start_time": "2022-07-25T04:16:49.223Z"
   },
   {
    "duration": 195,
    "start_time": "2022-07-25T04:17:05.160Z"
   },
   {
    "duration": 1373,
    "start_time": "2022-07-25T04:17:23.828Z"
   },
   {
    "duration": 233,
    "start_time": "2022-07-25T04:17:43.123Z"
   },
   {
    "duration": 183,
    "start_time": "2022-07-25T04:18:04.475Z"
   },
   {
    "duration": 189,
    "start_time": "2022-07-25T04:18:13.459Z"
   },
   {
    "duration": 197,
    "start_time": "2022-07-25T04:18:18.668Z"
   },
   {
    "duration": 317,
    "start_time": "2022-07-25T04:19:51.192Z"
   },
   {
    "duration": 182,
    "start_time": "2022-07-25T04:19:56.893Z"
   },
   {
    "duration": 175,
    "start_time": "2022-07-25T04:20:03.123Z"
   },
   {
    "duration": 185,
    "start_time": "2022-07-25T04:20:15.393Z"
   },
   {
    "duration": 176,
    "start_time": "2022-07-25T04:20:33.655Z"
   },
   {
    "duration": 200,
    "start_time": "2022-07-25T04:20:38.955Z"
   },
   {
    "duration": 214,
    "start_time": "2022-07-25T04:20:47.623Z"
   },
   {
    "duration": 193,
    "start_time": "2022-07-25T04:20:52.447Z"
   },
   {
    "duration": 201,
    "start_time": "2022-07-25T04:21:21.494Z"
   },
   {
    "duration": 197,
    "start_time": "2022-07-25T04:21:26.252Z"
   },
   {
    "duration": 192,
    "start_time": "2022-07-25T04:22:34.579Z"
   },
   {
    "duration": 185,
    "start_time": "2022-07-25T04:25:02.322Z"
   },
   {
    "duration": 7,
    "start_time": "2022-07-25T04:25:16.036Z"
   },
   {
    "duration": 35,
    "start_time": "2022-07-25T04:25:19.392Z"
   },
   {
    "duration": 175,
    "start_time": "2022-07-25T04:25:35.979Z"
   },
   {
    "duration": 1079,
    "start_time": "2022-07-25T04:28:27.202Z"
   },
   {
    "duration": 386,
    "start_time": "2022-07-25T04:28:37.349Z"
   },
   {
    "duration": 107,
    "start_time": "2022-07-25T04:29:04.685Z"
   },
   {
    "duration": 418,
    "start_time": "2022-07-25T04:29:07.666Z"
   },
   {
    "duration": 205,
    "start_time": "2022-07-25T04:29:43.880Z"
   },
   {
    "duration": 201,
    "start_time": "2022-07-25T04:29:49.687Z"
   },
   {
    "duration": 200,
    "start_time": "2022-07-25T04:30:14.479Z"
   },
   {
    "duration": 104,
    "start_time": "2022-07-25T04:31:17.465Z"
   },
   {
    "duration": 107,
    "start_time": "2022-07-25T04:31:22.152Z"
   },
   {
    "duration": 205,
    "start_time": "2022-07-25T04:31:25.647Z"
   },
   {
    "duration": 201,
    "start_time": "2022-07-25T04:31:33.827Z"
   },
   {
    "duration": 205,
    "start_time": "2022-07-25T04:31:45.774Z"
   },
   {
    "duration": 136,
    "start_time": "2022-07-25T04:32:02.323Z"
   },
   {
    "duration": 132,
    "start_time": "2022-07-25T04:32:10.140Z"
   },
   {
    "duration": 207,
    "start_time": "2022-07-25T04:32:22.262Z"
   },
   {
    "duration": 301,
    "start_time": "2022-07-25T04:32:49.779Z"
   },
   {
    "duration": 118,
    "start_time": "2022-07-25T04:33:02.673Z"
   },
   {
    "duration": 80,
    "start_time": "2022-07-25T04:33:08.082Z"
   },
   {
    "duration": 314,
    "start_time": "2022-07-25T04:33:11.490Z"
   },
   {
    "duration": 12,
    "start_time": "2022-07-25T04:33:48.435Z"
   },
   {
    "duration": 937,
    "start_time": "2022-07-25T04:35:05.701Z"
   },
   {
    "duration": 746,
    "start_time": "2022-07-25T04:35:15.461Z"
   },
   {
    "duration": 720,
    "start_time": "2022-07-25T04:35:34.403Z"
   },
   {
    "duration": 981,
    "start_time": "2022-07-25T04:35:57.389Z"
   },
   {
    "duration": 363,
    "start_time": "2022-07-25T04:36:29.485Z"
   },
   {
    "duration": 458,
    "start_time": "2022-07-25T04:36:34.943Z"
   },
   {
    "duration": 428,
    "start_time": "2022-07-25T04:36:45.677Z"
   },
   {
    "duration": 432,
    "start_time": "2022-07-25T04:37:04.473Z"
   },
   {
    "duration": 25,
    "start_time": "2022-07-25T04:39:01.433Z"
   },
   {
    "duration": 183,
    "start_time": "2022-07-25T04:39:16.242Z"
   },
   {
    "duration": 188,
    "start_time": "2022-07-25T04:39:24.993Z"
   },
   {
    "duration": 174,
    "start_time": "2022-07-25T04:39:48.928Z"
   },
   {
    "duration": 347,
    "start_time": "2022-07-25T04:40:11.909Z"
   },
   {
    "duration": 490,
    "start_time": "2022-07-25T04:40:26.973Z"
   },
   {
    "duration": 283,
    "start_time": "2022-07-25T04:40:31.998Z"
   },
   {
    "duration": 255,
    "start_time": "2022-07-25T04:42:52.630Z"
   },
   {
    "duration": 38,
    "start_time": "2022-07-25T04:43:13.005Z"
   },
   {
    "duration": 231,
    "start_time": "2022-07-25T04:43:22.731Z"
   },
   {
    "duration": 179,
    "start_time": "2022-07-25T04:43:38.278Z"
   },
   {
    "duration": 177,
    "start_time": "2022-07-25T04:44:33.959Z"
   },
   {
    "duration": 180,
    "start_time": "2022-07-25T04:48:10.716Z"
   },
   {
    "duration": 183,
    "start_time": "2022-07-25T04:48:27.476Z"
   },
   {
    "duration": 183,
    "start_time": "2022-07-25T04:50:38.151Z"
   },
   {
    "duration": 175,
    "start_time": "2022-07-25T04:51:02.074Z"
   },
   {
    "duration": 201,
    "start_time": "2022-07-25T04:51:11.611Z"
   },
   {
    "duration": 191,
    "start_time": "2022-07-25T04:51:21.159Z"
   },
   {
    "duration": 12,
    "start_time": "2022-07-25T04:51:56.010Z"
   },
   {
    "duration": 7,
    "start_time": "2022-07-25T04:52:09.651Z"
   },
   {
    "duration": 217,
    "start_time": "2022-07-25T04:52:40.873Z"
   },
   {
    "duration": 197,
    "start_time": "2022-07-25T04:52:48.116Z"
   },
   {
    "duration": 14,
    "start_time": "2022-07-25T04:56:51.767Z"
   },
   {
    "duration": 7,
    "start_time": "2022-07-25T04:57:28.620Z"
   },
   {
    "duration": 8,
    "start_time": "2022-07-25T04:57:33.719Z"
   },
   {
    "duration": 12,
    "start_time": "2022-07-25T04:57:51.372Z"
   },
   {
    "duration": 21,
    "start_time": "2022-07-25T04:58:03.838Z"
   },
   {
    "duration": 12,
    "start_time": "2022-07-25T04:58:07.636Z"
   },
   {
    "duration": 216,
    "start_time": "2022-07-25T04:58:55.969Z"
   },
   {
    "duration": 197,
    "start_time": "2022-07-25T04:59:13.523Z"
   },
   {
    "duration": 182,
    "start_time": "2022-07-25T04:59:32.914Z"
   },
   {
    "duration": 22,
    "start_time": "2022-07-25T04:59:55.122Z"
   },
   {
    "duration": 24,
    "start_time": "2022-07-25T05:00:29.165Z"
   },
   {
    "duration": 18,
    "start_time": "2022-07-25T05:00:46.023Z"
   },
   {
    "duration": 78,
    "start_time": "2022-07-25T05:01:02.345Z"
   },
   {
    "duration": 98,
    "start_time": "2022-07-25T05:01:12.436Z"
   },
   {
    "duration": 17,
    "start_time": "2022-07-25T05:02:03.387Z"
   },
   {
    "duration": 88,
    "start_time": "2022-07-25T05:02:21.883Z"
   },
   {
    "duration": 25,
    "start_time": "2022-07-25T05:02:25.449Z"
   },
   {
    "duration": 24,
    "start_time": "2022-07-25T05:02:35.003Z"
   },
   {
    "duration": 515,
    "start_time": "2022-07-25T05:05:06.554Z"
   },
   {
    "duration": 6,
    "start_time": "2022-07-25T05:05:55.377Z"
   },
   {
    "duration": 712,
    "start_time": "2022-07-25T05:06:06.452Z"
   },
   {
    "duration": 145,
    "start_time": "2022-07-25T05:06:07.166Z"
   },
   {
    "duration": 25,
    "start_time": "2022-07-25T05:06:07.313Z"
   },
   {
    "duration": 2301,
    "start_time": "2022-07-25T05:06:07.341Z"
   },
   {
    "duration": 5,
    "start_time": "2022-07-25T05:06:09.644Z"
   },
   {
    "duration": 10,
    "start_time": "2022-07-25T05:06:09.651Z"
   },
   {
    "duration": 10,
    "start_time": "2022-07-25T05:06:09.662Z"
   },
   {
    "duration": 12,
    "start_time": "2022-07-25T05:06:09.675Z"
   },
   {
    "duration": 9,
    "start_time": "2022-07-25T05:06:09.689Z"
   },
   {
    "duration": 6,
    "start_time": "2022-07-25T05:06:09.700Z"
   },
   {
    "duration": 16,
    "start_time": "2022-07-25T05:06:09.708Z"
   },
   {
    "duration": 29,
    "start_time": "2022-07-25T05:06:09.725Z"
   },
   {
    "duration": 52,
    "start_time": "2022-07-25T05:06:09.756Z"
   },
   {
    "duration": 12,
    "start_time": "2022-07-25T05:06:09.810Z"
   },
   {
    "duration": 6,
    "start_time": "2022-07-25T05:06:09.824Z"
   },
   {
    "duration": 8,
    "start_time": "2022-07-25T05:06:09.831Z"
   },
   {
    "duration": 19,
    "start_time": "2022-07-25T05:06:09.841Z"
   },
   {
    "duration": 49,
    "start_time": "2022-07-25T05:06:09.862Z"
   },
   {
    "duration": 5,
    "start_time": "2022-07-25T05:06:09.913Z"
   },
   {
    "duration": 113,
    "start_time": "2022-07-25T05:06:09.920Z"
   },
   {
    "duration": 6,
    "start_time": "2022-07-25T05:06:10.035Z"
   },
   {
    "duration": 10,
    "start_time": "2022-07-25T05:06:10.042Z"
   },
   {
    "duration": 8,
    "start_time": "2022-07-25T05:06:10.054Z"
   },
   {
    "duration": 15,
    "start_time": "2022-07-25T05:06:10.064Z"
   },
   {
    "duration": 236,
    "start_time": "2022-07-25T05:06:10.081Z"
   },
   {
    "duration": 456,
    "start_time": "2022-07-25T05:06:10.319Z"
   },
   {
    "duration": 5,
    "start_time": "2022-07-25T05:06:10.777Z"
   },
   {
    "duration": 23,
    "start_time": "2022-07-25T05:06:10.787Z"
   },
   {
    "duration": 9,
    "start_time": "2022-07-25T05:06:10.812Z"
   },
   {
    "duration": 11,
    "start_time": "2022-07-25T05:06:10.823Z"
   },
   {
    "duration": 27,
    "start_time": "2022-07-25T05:06:10.836Z"
   },
   {
    "duration": 49,
    "start_time": "2022-07-25T05:06:10.865Z"
   },
   {
    "duration": 12,
    "start_time": "2022-07-25T05:06:10.915Z"
   },
   {
    "duration": 5,
    "start_time": "2022-07-25T05:06:10.929Z"
   },
   {
    "duration": 10,
    "start_time": "2022-07-25T05:06:10.935Z"
   },
   {
    "duration": 35,
    "start_time": "2022-07-25T05:06:10.947Z"
   },
   {
    "duration": 42,
    "start_time": "2022-07-25T05:06:10.983Z"
   },
   {
    "duration": 30,
    "start_time": "2022-07-25T05:06:11.027Z"
   },
   {
    "duration": 405,
    "start_time": "2022-07-25T05:06:11.059Z"
   },
   {
    "duration": 6,
    "start_time": "2022-07-25T05:06:11.466Z"
   },
   {
    "duration": 15,
    "start_time": "2022-07-25T05:06:11.474Z"
   },
   {
    "duration": 420,
    "start_time": "2022-07-25T05:06:11.491Z"
   },
   {
    "duration": 12,
    "start_time": "2022-07-25T05:06:11.914Z"
   },
   {
    "duration": 338,
    "start_time": "2022-07-25T05:06:11.928Z"
   },
   {
    "duration": 354,
    "start_time": "2022-07-25T05:06:12.268Z"
   },
   {
    "duration": 443,
    "start_time": "2022-07-25T05:06:12.624Z"
   },
   {
    "duration": 9,
    "start_time": "2022-07-25T05:06:13.069Z"
   },
   {
    "duration": 24,
    "start_time": "2022-07-25T05:06:13.080Z"
   },
   {
    "duration": 331,
    "start_time": "2022-07-25T05:06:13.106Z"
   },
   {
    "duration": 458,
    "start_time": "2022-07-25T05:06:13.439Z"
   },
   {
    "duration": 251,
    "start_time": "2022-07-25T05:06:13.899Z"
   },
   {
    "duration": 7,
    "start_time": "2022-07-25T05:06:14.152Z"
   },
   {
    "duration": 16,
    "start_time": "2022-07-25T05:06:14.160Z"
   },
   {
    "duration": 333,
    "start_time": "2022-07-25T05:06:14.178Z"
   },
   {
    "duration": 226,
    "start_time": "2022-07-25T05:06:14.513Z"
   },
   {
    "duration": 358,
    "start_time": "2022-07-25T05:06:14.741Z"
   },
   {
    "duration": 174,
    "start_time": "2022-07-25T05:06:15.101Z"
   },
   {
    "duration": 12,
    "start_time": "2022-07-25T05:06:15.276Z"
   },
   {
    "duration": 419,
    "start_time": "2022-07-25T05:06:15.289Z"
   },
   {
    "duration": 11,
    "start_time": "2022-07-25T05:06:15.711Z"
   },
   {
    "duration": 304,
    "start_time": "2022-07-25T05:06:15.724Z"
   },
   {
    "duration": 10,
    "start_time": "2022-07-25T05:06:16.030Z"
   },
   {
    "duration": 314,
    "start_time": "2022-07-25T05:06:16.041Z"
   },
   {
    "duration": 183,
    "start_time": "2022-07-25T05:06:16.357Z"
   },
   {
    "duration": 6,
    "start_time": "2022-07-25T05:06:16.542Z"
   },
   {
    "duration": 16,
    "start_time": "2022-07-25T05:06:16.549Z"
   },
   {
    "duration": 208,
    "start_time": "2022-07-25T05:06:16.567Z"
   },
   {
    "duration": 10,
    "start_time": "2022-07-25T05:06:16.777Z"
   },
   {
    "duration": 285,
    "start_time": "2022-07-25T05:06:16.789Z"
   },
   {
    "duration": 809,
    "start_time": "2022-07-25T05:06:17.076Z"
   },
   {
    "duration": 9,
    "start_time": "2022-07-25T05:06:17.887Z"
   },
   {
    "duration": 31,
    "start_time": "2022-07-25T05:06:17.898Z"
   },
   {
    "duration": 300,
    "start_time": "2022-07-25T05:06:17.931Z"
   },
   {
    "duration": 188,
    "start_time": "2022-07-25T05:06:18.232Z"
   },
   {
    "duration": 208,
    "start_time": "2022-07-25T05:06:18.422Z"
   },
   {
    "duration": 460,
    "start_time": "2022-07-25T05:06:18.632Z"
   },
   {
    "duration": 471,
    "start_time": "2022-07-25T05:06:19.094Z"
   },
   {
    "duration": 202,
    "start_time": "2022-07-25T05:06:19.568Z"
   },
   {
    "duration": 199,
    "start_time": "2022-07-25T05:06:19.772Z"
   },
   {
    "duration": 355,
    "start_time": "2022-07-25T05:06:19.973Z"
   },
   {
    "duration": 215,
    "start_time": "2022-07-25T05:06:20.330Z"
   },
   {
    "duration": 8,
    "start_time": "2022-07-25T05:06:20.551Z"
   },
   {
    "duration": 18,
    "start_time": "2022-07-25T05:06:20.561Z"
   },
   {
    "duration": 21,
    "start_time": "2022-07-25T05:06:20.581Z"
   },
   {
    "duration": 19,
    "start_time": "2022-07-25T05:06:20.605Z"
   },
   {
    "duration": 216,
    "start_time": "2022-07-25T05:06:20.626Z"
   },
   {
    "duration": 27,
    "start_time": "2022-07-25T05:06:20.844Z"
   },
   {
    "duration": 321,
    "start_time": "2022-07-25T05:07:25.872Z"
   },
   {
    "duration": 274,
    "start_time": "2022-07-25T05:08:11.603Z"
   },
   {
    "duration": 266,
    "start_time": "2022-07-25T05:08:37.271Z"
   },
   {
    "duration": 293,
    "start_time": "2022-07-25T05:08:51.870Z"
   },
   {
    "duration": 197,
    "start_time": "2022-07-25T05:09:06.529Z"
   },
   {
    "duration": 11,
    "start_time": "2022-07-25T05:09:59.955Z"
   },
   {
    "duration": 35,
    "start_time": "2022-07-25T05:10:35.569Z"
   },
   {
    "duration": 229,
    "start_time": "2022-07-25T05:11:31.178Z"
   },
   {
    "duration": 207,
    "start_time": "2022-07-25T05:11:44.158Z"
   },
   {
    "duration": 2049,
    "start_time": "2022-07-25T06:04:17.540Z"
   },
   {
    "duration": 486,
    "start_time": "2022-07-25T06:04:22.540Z"
   },
   {
    "duration": 425,
    "start_time": "2022-07-25T06:04:30.854Z"
   },
   {
    "duration": 200,
    "start_time": "2022-07-25T07:20:27.502Z"
   },
   {
    "duration": 11,
    "start_time": "2022-07-25T07:22:07.366Z"
   },
   {
    "duration": 199,
    "start_time": "2022-07-25T07:26:53.010Z"
   },
   {
    "duration": 8,
    "start_time": "2022-07-25T07:34:37.986Z"
   },
   {
    "duration": 193,
    "start_time": "2022-07-25T07:34:51.546Z"
   },
   {
    "duration": 285,
    "start_time": "2022-07-25T07:35:16.284Z"
   },
   {
    "duration": 210,
    "start_time": "2022-07-25T07:35:20.323Z"
   },
   {
    "duration": 192,
    "start_time": "2022-07-25T07:35:39.563Z"
   },
   {
    "duration": 176,
    "start_time": "2022-07-25T07:35:50.568Z"
   },
   {
    "duration": 183,
    "start_time": "2022-07-25T07:35:56.955Z"
   },
   {
    "duration": 198,
    "start_time": "2022-07-25T07:36:24.571Z"
   },
   {
    "duration": 11,
    "start_time": "2022-07-25T07:36:58.256Z"
   },
   {
    "duration": 10,
    "start_time": "2022-07-25T07:37:01.329Z"
   },
   {
    "duration": 196,
    "start_time": "2022-07-25T07:37:59.688Z"
   },
   {
    "duration": 181,
    "start_time": "2022-07-25T07:42:34.954Z"
   },
   {
    "duration": 206,
    "start_time": "2022-07-25T07:44:55.780Z"
   },
   {
    "duration": 27,
    "start_time": "2022-07-25T07:58:54.123Z"
   },
   {
    "duration": 199,
    "start_time": "2022-07-25T07:59:28.568Z"
   },
   {
    "duration": 14,
    "start_time": "2022-07-25T08:00:01.153Z"
   },
   {
    "duration": 5,
    "start_time": "2022-07-25T08:00:08.167Z"
   },
   {
    "duration": 47,
    "start_time": "2022-07-25T09:22:17.774Z"
   },
   {
    "duration": 751,
    "start_time": "2022-07-25T09:22:24.985Z"
   },
   {
    "duration": 337,
    "start_time": "2022-07-25T09:22:25.738Z"
   },
   {
    "duration": 14,
    "start_time": "2022-07-25T09:22:26.077Z"
   },
   {
    "duration": 1832,
    "start_time": "2022-07-25T09:22:26.092Z"
   },
   {
    "duration": 4,
    "start_time": "2022-07-25T09:22:27.927Z"
   },
   {
    "duration": 25,
    "start_time": "2022-07-25T09:22:27.932Z"
   },
   {
    "duration": 16,
    "start_time": "2022-07-25T09:22:27.958Z"
   },
   {
    "duration": 24,
    "start_time": "2022-07-25T09:22:27.975Z"
   },
   {
    "duration": 23,
    "start_time": "2022-07-25T09:22:28.000Z"
   },
   {
    "duration": 31,
    "start_time": "2022-07-25T09:22:28.024Z"
   },
   {
    "duration": 7,
    "start_time": "2022-07-25T09:22:28.057Z"
   },
   {
    "duration": 10,
    "start_time": "2022-07-25T09:22:28.066Z"
   },
   {
    "duration": 14,
    "start_time": "2022-07-25T09:22:28.078Z"
   },
   {
    "duration": 11,
    "start_time": "2022-07-25T09:22:28.095Z"
   },
   {
    "duration": 7,
    "start_time": "2022-07-25T09:22:28.107Z"
   },
   {
    "duration": 7,
    "start_time": "2022-07-25T09:22:28.115Z"
   },
   {
    "duration": 8,
    "start_time": "2022-07-25T09:22:28.124Z"
   },
   {
    "duration": 34,
    "start_time": "2022-07-25T09:22:28.134Z"
   },
   {
    "duration": 5,
    "start_time": "2022-07-25T09:22:28.169Z"
   },
   {
    "duration": 88,
    "start_time": "2022-07-25T09:22:28.175Z"
   },
   {
    "duration": 5,
    "start_time": "2022-07-25T09:22:28.265Z"
   },
   {
    "duration": 10,
    "start_time": "2022-07-25T09:22:28.272Z"
   },
   {
    "duration": 10,
    "start_time": "2022-07-25T09:22:28.284Z"
   },
   {
    "duration": 10,
    "start_time": "2022-07-25T09:22:28.295Z"
   },
   {
    "duration": 180,
    "start_time": "2022-07-25T09:22:28.307Z"
   },
   {
    "duration": 304,
    "start_time": "2022-07-25T09:22:28.489Z"
   },
   {
    "duration": 4,
    "start_time": "2022-07-25T09:22:28.795Z"
   },
   {
    "duration": 6,
    "start_time": "2022-07-25T09:22:28.801Z"
   },
   {
    "duration": 10,
    "start_time": "2022-07-25T09:22:28.808Z"
   },
   {
    "duration": 7,
    "start_time": "2022-07-25T09:22:28.819Z"
   },
   {
    "duration": 18,
    "start_time": "2022-07-25T09:22:28.828Z"
   },
   {
    "duration": 58,
    "start_time": "2022-07-25T09:22:28.848Z"
   },
   {
    "duration": 10,
    "start_time": "2022-07-25T09:22:28.908Z"
   },
   {
    "duration": 29,
    "start_time": "2022-07-25T09:22:28.920Z"
   },
   {
    "duration": 15,
    "start_time": "2022-07-25T09:22:28.951Z"
   },
   {
    "duration": 49,
    "start_time": "2022-07-25T09:22:28.968Z"
   },
   {
    "duration": 42,
    "start_time": "2022-07-25T09:22:29.019Z"
   },
   {
    "duration": 27,
    "start_time": "2022-07-25T09:22:29.063Z"
   },
   {
    "duration": 280,
    "start_time": "2022-07-25T09:22:29.092Z"
   },
   {
    "duration": 5,
    "start_time": "2022-07-25T09:22:29.374Z"
   },
   {
    "duration": 32,
    "start_time": "2022-07-25T09:22:29.383Z"
   },
   {
    "duration": 410,
    "start_time": "2022-07-25T09:22:29.416Z"
   },
   {
    "duration": 20,
    "start_time": "2022-07-25T09:22:29.828Z"
   },
   {
    "duration": 224,
    "start_time": "2022-07-25T09:22:29.849Z"
   },
   {
    "duration": 251,
    "start_time": "2022-07-25T09:22:30.075Z"
   },
   {
    "duration": 369,
    "start_time": "2022-07-25T09:22:30.327Z"
   },
   {
    "duration": 7,
    "start_time": "2022-07-25T09:22:30.698Z"
   },
   {
    "duration": 49,
    "start_time": "2022-07-25T09:22:30.707Z"
   },
   {
    "duration": 183,
    "start_time": "2022-07-25T09:22:30.758Z"
   },
   {
    "duration": 489,
    "start_time": "2022-07-25T09:22:30.942Z"
   },
   {
    "duration": 208,
    "start_time": "2022-07-25T09:22:31.433Z"
   },
   {
    "duration": 10,
    "start_time": "2022-07-25T09:22:31.646Z"
   },
   {
    "duration": 255,
    "start_time": "2022-07-25T09:22:31.657Z"
   },
   {
    "duration": 193,
    "start_time": "2022-07-25T09:22:31.913Z"
   },
   {
    "duration": 276,
    "start_time": "2022-07-25T09:22:32.108Z"
   },
   {
    "duration": 142,
    "start_time": "2022-07-25T09:22:32.386Z"
   },
   {
    "duration": 9,
    "start_time": "2022-07-25T09:22:32.530Z"
   },
   {
    "duration": 355,
    "start_time": "2022-07-25T09:22:32.545Z"
   },
   {
    "duration": 10,
    "start_time": "2022-07-25T09:22:32.901Z"
   },
   {
    "duration": 233,
    "start_time": "2022-07-25T09:22:32.912Z"
   },
   {
    "duration": 10,
    "start_time": "2022-07-25T09:22:33.147Z"
   },
   {
    "duration": 255,
    "start_time": "2022-07-25T09:22:33.159Z"
   },
   {
    "duration": 151,
    "start_time": "2022-07-25T09:22:33.415Z"
   },
   {
    "duration": 6,
    "start_time": "2022-07-25T09:22:33.567Z"
   },
   {
    "duration": 17,
    "start_time": "2022-07-25T09:22:33.575Z"
   },
   {
    "duration": 187,
    "start_time": "2022-07-25T09:22:33.594Z"
   },
   {
    "duration": 10,
    "start_time": "2022-07-25T09:22:33.783Z"
   },
   {
    "duration": 256,
    "start_time": "2022-07-25T09:22:33.794Z"
   },
   {
    "duration": 704,
    "start_time": "2022-07-25T09:22:34.052Z"
   },
   {
    "duration": 5,
    "start_time": "2022-07-25T09:22:34.758Z"
   },
   {
    "duration": 24,
    "start_time": "2022-07-25T09:22:34.765Z"
   },
   {
    "duration": 244,
    "start_time": "2022-07-25T09:22:34.791Z"
   },
   {
    "duration": 13,
    "start_time": "2022-07-25T09:22:35.036Z"
   },
   {
    "duration": 177,
    "start_time": "2022-07-25T09:22:35.051Z"
   },
   {
    "duration": 164,
    "start_time": "2022-07-25T09:22:35.230Z"
   },
   {
    "duration": 175,
    "start_time": "2022-07-25T09:22:35.396Z"
   },
   {
    "duration": 168,
    "start_time": "2022-07-25T09:22:35.573Z"
   },
   {
    "duration": 156,
    "start_time": "2022-07-25T09:22:35.742Z"
   },
   {
    "duration": 195,
    "start_time": "2022-07-25T09:22:35.899Z"
   },
   {
    "duration": 10,
    "start_time": "2022-07-25T09:22:36.096Z"
   },
   {
    "duration": 53,
    "start_time": "2022-07-25T09:22:36.108Z"
   },
   {
    "duration": 166,
    "start_time": "2022-07-25T09:22:36.163Z"
   },
   {
    "duration": 4,
    "start_time": "2022-07-25T09:22:36.330Z"
   },
   {
    "duration": 9,
    "start_time": "2022-07-25T09:23:32.500Z"
   },
   {
    "duration": 27,
    "start_time": "2022-07-25T09:24:55.369Z"
   },
   {
    "duration": 162,
    "start_time": "2022-07-25T09:25:44.667Z"
   },
   {
    "duration": 173,
    "start_time": "2022-07-25T09:25:48.416Z"
   },
   {
    "duration": 169,
    "start_time": "2022-07-25T09:25:55.187Z"
   },
   {
    "duration": 188,
    "start_time": "2022-07-25T09:26:03.242Z"
   },
   {
    "duration": 198,
    "start_time": "2022-07-25T09:26:09.144Z"
   },
   {
    "duration": 170,
    "start_time": "2022-07-25T09:26:16.056Z"
   },
   {
    "duration": 174,
    "start_time": "2022-07-25T09:26:19.680Z"
   },
   {
    "duration": 161,
    "start_time": "2022-07-25T09:26:36.288Z"
   },
   {
    "duration": 174,
    "start_time": "2022-07-25T09:27:21.781Z"
   },
   {
    "duration": 190,
    "start_time": "2022-07-25T09:30:18.692Z"
   },
   {
    "duration": 2,
    "start_time": "2022-07-25T10:03:49.462Z"
   },
   {
    "duration": 102,
    "start_time": "2022-07-25T10:05:42.011Z"
   },
   {
    "duration": 169,
    "start_time": "2022-07-25T10:06:04.391Z"
   },
   {
    "duration": 726,
    "start_time": "2022-07-25T10:06:39.756Z"
   },
   {
    "duration": 131,
    "start_time": "2022-07-25T10:06:40.484Z"
   },
   {
    "duration": 14,
    "start_time": "2022-07-25T10:06:40.616Z"
   },
   {
    "duration": 2008,
    "start_time": "2022-07-25T10:06:40.632Z"
   },
   {
    "duration": 4,
    "start_time": "2022-07-25T10:06:42.642Z"
   },
   {
    "duration": 9,
    "start_time": "2022-07-25T10:06:42.648Z"
   },
   {
    "duration": 7,
    "start_time": "2022-07-25T10:06:42.659Z"
   },
   {
    "duration": 9,
    "start_time": "2022-07-25T10:06:42.667Z"
   },
   {
    "duration": 7,
    "start_time": "2022-07-25T10:06:42.678Z"
   },
   {
    "duration": 7,
    "start_time": "2022-07-25T10:06:42.688Z"
   },
   {
    "duration": 8,
    "start_time": "2022-07-25T10:06:42.696Z"
   },
   {
    "duration": 11,
    "start_time": "2022-07-25T10:06:42.706Z"
   },
   {
    "duration": 31,
    "start_time": "2022-07-25T10:06:42.719Z"
   },
   {
    "duration": 10,
    "start_time": "2022-07-25T10:06:42.752Z"
   },
   {
    "duration": 9,
    "start_time": "2022-07-25T10:06:42.763Z"
   },
   {
    "duration": 9,
    "start_time": "2022-07-25T10:06:42.773Z"
   },
   {
    "duration": 9,
    "start_time": "2022-07-25T10:06:42.783Z"
   },
   {
    "duration": 30,
    "start_time": "2022-07-25T10:06:42.794Z"
   },
   {
    "duration": 24,
    "start_time": "2022-07-25T10:06:42.825Z"
   },
   {
    "duration": 86,
    "start_time": "2022-07-25T10:06:42.851Z"
   },
   {
    "duration": 8,
    "start_time": "2022-07-25T10:06:42.939Z"
   },
   {
    "duration": 19,
    "start_time": "2022-07-25T10:06:42.949Z"
   },
   {
    "duration": 14,
    "start_time": "2022-07-25T10:06:42.970Z"
   },
   {
    "duration": 13,
    "start_time": "2022-07-25T10:06:42.985Z"
   },
   {
    "duration": 188,
    "start_time": "2022-07-25T10:06:43.000Z"
   },
   {
    "duration": 306,
    "start_time": "2022-07-25T10:06:43.189Z"
   },
   {
    "duration": 6,
    "start_time": "2022-07-25T10:06:43.497Z"
   },
   {
    "duration": 9,
    "start_time": "2022-07-25T10:06:43.507Z"
   },
   {
    "duration": 11,
    "start_time": "2022-07-25T10:06:43.518Z"
   },
   {
    "duration": 15,
    "start_time": "2022-07-25T10:06:43.531Z"
   },
   {
    "duration": 21,
    "start_time": "2022-07-25T10:06:43.547Z"
   },
   {
    "duration": 40,
    "start_time": "2022-07-25T10:06:43.570Z"
   },
   {
    "duration": 8,
    "start_time": "2022-07-25T10:06:43.612Z"
   },
   {
    "duration": 7,
    "start_time": "2022-07-25T10:06:43.622Z"
   },
   {
    "duration": 4,
    "start_time": "2022-07-25T10:06:43.646Z"
   },
   {
    "duration": 31,
    "start_time": "2022-07-25T10:06:43.651Z"
   },
   {
    "duration": 14,
    "start_time": "2022-07-25T10:06:43.683Z"
   },
   {
    "duration": 13,
    "start_time": "2022-07-25T10:06:43.699Z"
   },
   {
    "duration": 322,
    "start_time": "2022-07-25T10:06:43.714Z"
   },
   {
    "duration": 7,
    "start_time": "2022-07-25T10:06:44.038Z"
   },
   {
    "duration": 29,
    "start_time": "2022-07-25T10:06:44.047Z"
   },
   {
    "duration": 446,
    "start_time": "2022-07-25T10:06:44.078Z"
   },
   {
    "duration": 9,
    "start_time": "2022-07-25T10:06:44.525Z"
   },
   {
    "duration": 248,
    "start_time": "2022-07-25T10:06:44.545Z"
   },
   {
    "duration": 251,
    "start_time": "2022-07-25T10:06:44.795Z"
   },
   {
    "duration": 377,
    "start_time": "2022-07-25T10:06:45.047Z"
   },
   {
    "duration": 8,
    "start_time": "2022-07-25T10:06:45.426Z"
   },
   {
    "duration": 19,
    "start_time": "2022-07-25T10:06:45.445Z"
   },
   {
    "duration": 199,
    "start_time": "2022-07-25T10:06:45.466Z"
   },
   {
    "duration": 472,
    "start_time": "2022-07-25T10:06:45.666Z"
   },
   {
    "duration": 208,
    "start_time": "2022-07-25T10:06:46.140Z"
   },
   {
    "duration": 9,
    "start_time": "2022-07-25T10:06:46.350Z"
   },
   {
    "duration": 269,
    "start_time": "2022-07-25T10:06:46.361Z"
   },
   {
    "duration": 209,
    "start_time": "2022-07-25T10:06:46.632Z"
   },
   {
    "duration": 277,
    "start_time": "2022-07-25T10:06:46.845Z"
   },
   {
    "duration": 137,
    "start_time": "2022-07-25T10:06:47.124Z"
   },
   {
    "duration": 9,
    "start_time": "2022-07-25T10:06:47.263Z"
   },
   {
    "duration": 369,
    "start_time": "2022-07-25T10:06:47.273Z"
   },
   {
    "duration": 11,
    "start_time": "2022-07-25T10:06:47.645Z"
   },
   {
    "duration": 249,
    "start_time": "2022-07-25T10:06:47.658Z"
   },
   {
    "duration": 10,
    "start_time": "2022-07-25T10:06:47.908Z"
   },
   {
    "duration": 247,
    "start_time": "2022-07-25T10:06:47.919Z"
   },
   {
    "duration": 147,
    "start_time": "2022-07-25T10:06:48.168Z"
   },
   {
    "duration": 6,
    "start_time": "2022-07-25T10:06:48.317Z"
   },
   {
    "duration": 26,
    "start_time": "2022-07-25T10:06:48.325Z"
   },
   {
    "duration": 162,
    "start_time": "2022-07-25T10:06:48.352Z"
   },
   {
    "duration": 9,
    "start_time": "2022-07-25T10:06:48.516Z"
   },
   {
    "duration": 258,
    "start_time": "2022-07-25T10:06:48.527Z"
   },
   {
    "duration": 820,
    "start_time": "2022-07-25T10:06:48.786Z"
   },
   {
    "duration": 7,
    "start_time": "2022-07-25T10:06:49.608Z"
   },
   {
    "duration": 20,
    "start_time": "2022-07-25T10:06:49.617Z"
   },
   {
    "duration": 272,
    "start_time": "2022-07-25T10:06:49.639Z"
   },
   {
    "duration": 8,
    "start_time": "2022-07-25T10:06:49.913Z"
   },
   {
    "duration": 191,
    "start_time": "2022-07-25T10:06:49.923Z"
   },
   {
    "duration": 174,
    "start_time": "2022-07-25T10:06:50.115Z"
   },
   {
    "duration": 74,
    "start_time": "2022-07-25T10:06:50.290Z"
   },
   {
    "duration": 0,
    "start_time": "2022-07-25T10:06:50.366Z"
   },
   {
    "duration": 0,
    "start_time": "2022-07-25T10:06:50.367Z"
   },
   {
    "duration": 0,
    "start_time": "2022-07-25T10:06:50.368Z"
   },
   {
    "duration": 0,
    "start_time": "2022-07-25T10:06:50.369Z"
   },
   {
    "duration": 0,
    "start_time": "2022-07-25T10:06:50.370Z"
   },
   {
    "duration": 0,
    "start_time": "2022-07-25T10:06:50.370Z"
   },
   {
    "duration": 0,
    "start_time": "2022-07-25T10:06:50.371Z"
   },
   {
    "duration": 0,
    "start_time": "2022-07-25T10:06:50.372Z"
   },
   {
    "duration": 179,
    "start_time": "2022-07-25T10:11:13.055Z"
   },
   {
    "duration": 153,
    "start_time": "2022-07-25T10:11:23.165Z"
   },
   {
    "duration": 156,
    "start_time": "2022-07-25T10:11:37.234Z"
   },
   {
    "duration": 186,
    "start_time": "2022-07-25T10:11:45.484Z"
   },
   {
    "duration": 645,
    "start_time": "2022-07-25T10:18:54.185Z"
   },
   {
    "duration": 132,
    "start_time": "2022-07-25T10:18:54.832Z"
   },
   {
    "duration": 14,
    "start_time": "2022-07-25T10:18:54.965Z"
   },
   {
    "duration": 1931,
    "start_time": "2022-07-25T10:18:54.981Z"
   },
   {
    "duration": 5,
    "start_time": "2022-07-25T10:18:56.915Z"
   },
   {
    "duration": 9,
    "start_time": "2022-07-25T10:18:56.922Z"
   },
   {
    "duration": 9,
    "start_time": "2022-07-25T10:18:56.933Z"
   },
   {
    "duration": 28,
    "start_time": "2022-07-25T10:18:56.944Z"
   },
   {
    "duration": 10,
    "start_time": "2022-07-25T10:18:56.974Z"
   },
   {
    "duration": 10,
    "start_time": "2022-07-25T10:18:56.986Z"
   },
   {
    "duration": 11,
    "start_time": "2022-07-25T10:18:56.998Z"
   },
   {
    "duration": 12,
    "start_time": "2022-07-25T10:18:57.011Z"
   },
   {
    "duration": 15,
    "start_time": "2022-07-25T10:18:57.024Z"
   },
   {
    "duration": 16,
    "start_time": "2022-07-25T10:18:57.043Z"
   },
   {
    "duration": 10,
    "start_time": "2022-07-25T10:18:57.060Z"
   },
   {
    "duration": 6,
    "start_time": "2022-07-25T10:18:57.071Z"
   },
   {
    "duration": 8,
    "start_time": "2022-07-25T10:18:57.078Z"
   },
   {
    "duration": 27,
    "start_time": "2022-07-25T10:18:57.088Z"
   },
   {
    "duration": 7,
    "start_time": "2022-07-25T10:18:57.117Z"
   },
   {
    "duration": 108,
    "start_time": "2022-07-25T10:18:57.126Z"
   },
   {
    "duration": 6,
    "start_time": "2022-07-25T10:18:57.236Z"
   },
   {
    "duration": 22,
    "start_time": "2022-07-25T10:18:57.243Z"
   },
   {
    "duration": 9,
    "start_time": "2022-07-25T10:18:57.267Z"
   },
   {
    "duration": 11,
    "start_time": "2022-07-25T10:18:57.278Z"
   },
   {
    "duration": 176,
    "start_time": "2022-07-25T10:18:57.291Z"
   },
   {
    "duration": 323,
    "start_time": "2022-07-25T10:18:57.468Z"
   },
   {
    "duration": 6,
    "start_time": "2022-07-25T10:18:57.793Z"
   },
   {
    "duration": 5,
    "start_time": "2022-07-25T10:18:57.801Z"
   },
   {
    "duration": 8,
    "start_time": "2022-07-25T10:18:57.808Z"
   },
   {
    "duration": 9,
    "start_time": "2022-07-25T10:18:57.818Z"
   },
   {
    "duration": 19,
    "start_time": "2022-07-25T10:18:57.828Z"
   },
   {
    "duration": 43,
    "start_time": "2022-07-25T10:18:57.859Z"
   },
   {
    "duration": 15,
    "start_time": "2022-07-25T10:18:57.904Z"
   },
   {
    "duration": 5,
    "start_time": "2022-07-25T10:18:57.920Z"
   },
   {
    "duration": 9,
    "start_time": "2022-07-25T10:18:57.927Z"
   },
   {
    "duration": 51,
    "start_time": "2022-07-25T10:18:57.937Z"
   },
   {
    "duration": 19,
    "start_time": "2022-07-25T10:18:57.989Z"
   },
   {
    "duration": 12,
    "start_time": "2022-07-25T10:18:58.009Z"
   },
   {
    "duration": 284,
    "start_time": "2022-07-25T10:18:58.022Z"
   },
   {
    "duration": 5,
    "start_time": "2022-07-25T10:18:58.308Z"
   },
   {
    "duration": 9,
    "start_time": "2022-07-25T10:18:58.318Z"
   },
   {
    "duration": 467,
    "start_time": "2022-07-25T10:18:58.329Z"
   },
   {
    "duration": 10,
    "start_time": "2022-07-25T10:18:58.798Z"
   },
   {
    "duration": 353,
    "start_time": "2022-07-25T10:18:58.810Z"
   },
   {
    "duration": 322,
    "start_time": "2022-07-25T10:18:59.165Z"
   },
   {
    "duration": 399,
    "start_time": "2022-07-25T10:18:59.489Z"
   },
   {
    "duration": 8,
    "start_time": "2022-07-25T10:18:59.889Z"
   },
   {
    "duration": 14,
    "start_time": "2022-07-25T10:18:59.899Z"
   },
   {
    "duration": 203,
    "start_time": "2022-07-25T10:18:59.914Z"
   },
   {
    "duration": 534,
    "start_time": "2022-07-25T10:19:00.118Z"
   },
   {
    "duration": 215,
    "start_time": "2022-07-25T10:19:00.654Z"
   },
   {
    "duration": 10,
    "start_time": "2022-07-25T10:19:00.870Z"
   },
   {
    "duration": 276,
    "start_time": "2022-07-25T10:19:00.881Z"
   },
   {
    "duration": 195,
    "start_time": "2022-07-25T10:19:01.161Z"
   },
   {
    "duration": 304,
    "start_time": "2022-07-25T10:19:01.360Z"
   },
   {
    "duration": 137,
    "start_time": "2022-07-25T10:19:01.666Z"
   },
   {
    "duration": 9,
    "start_time": "2022-07-25T10:19:01.805Z"
   },
   {
    "duration": 383,
    "start_time": "2022-07-25T10:19:01.815Z"
   },
   {
    "duration": 10,
    "start_time": "2022-07-25T10:19:02.199Z"
   },
   {
    "duration": 283,
    "start_time": "2022-07-25T10:19:02.211Z"
   },
   {
    "duration": 9,
    "start_time": "2022-07-25T10:19:02.496Z"
   },
   {
    "duration": 278,
    "start_time": "2022-07-25T10:19:02.506Z"
   },
   {
    "duration": 146,
    "start_time": "2022-07-25T10:19:02.786Z"
   },
   {
    "duration": 22,
    "start_time": "2022-07-25T10:19:02.934Z"
   },
   {
    "duration": 9,
    "start_time": "2022-07-25T10:19:02.961Z"
   },
   {
    "duration": 161,
    "start_time": "2022-07-25T10:19:02.971Z"
   },
   {
    "duration": 18,
    "start_time": "2022-07-25T10:19:03.134Z"
   },
   {
    "duration": 239,
    "start_time": "2022-07-25T10:19:03.161Z"
   },
   {
    "duration": 728,
    "start_time": "2022-07-25T10:19:03.402Z"
   },
   {
    "duration": 20,
    "start_time": "2022-07-25T10:19:04.132Z"
   },
   {
    "duration": 14,
    "start_time": "2022-07-25T10:19:04.154Z"
   },
   {
    "duration": 242,
    "start_time": "2022-07-25T10:19:04.170Z"
   },
   {
    "duration": 9,
    "start_time": "2022-07-25T10:19:04.414Z"
   },
   {
    "duration": 202,
    "start_time": "2022-07-25T10:19:04.424Z"
   },
   {
    "duration": 187,
    "start_time": "2022-07-25T10:19:04.629Z"
   },
   {
    "duration": 178,
    "start_time": "2022-07-25T10:19:04.819Z"
   },
   {
    "duration": 176,
    "start_time": "2022-07-25T10:19:04.999Z"
   },
   {
    "duration": 166,
    "start_time": "2022-07-25T10:19:05.177Z"
   },
   {
    "duration": 167,
    "start_time": "2022-07-25T10:19:05.345Z"
   },
   {
    "duration": 190,
    "start_time": "2022-07-25T10:19:05.514Z"
   },
   {
    "duration": 185,
    "start_time": "2022-07-25T10:19:05.706Z"
   },
   {
    "duration": 9,
    "start_time": "2022-07-25T10:19:05.892Z"
   },
   {
    "duration": 30,
    "start_time": "2022-07-25T10:19:05.902Z"
   },
   {
    "duration": 199,
    "start_time": "2022-07-25T10:19:05.934Z"
   },
   {
    "duration": 648,
    "start_time": "2022-07-25T19:31:24.565Z"
   },
   {
    "duration": 143,
    "start_time": "2022-07-25T19:31:25.215Z"
   },
   {
    "duration": 16,
    "start_time": "2022-07-25T19:31:25.359Z"
   },
   {
    "duration": 2038,
    "start_time": "2022-07-25T19:31:25.377Z"
   },
   {
    "duration": 2164,
    "start_time": "2022-07-25T19:31:27.418Z"
   },
   {
    "duration": 5,
    "start_time": "2022-07-25T19:31:29.584Z"
   },
   {
    "duration": 18,
    "start_time": "2022-07-25T19:31:29.590Z"
   },
   {
    "duration": 7,
    "start_time": "2022-07-25T19:31:29.610Z"
   },
   {
    "duration": 23,
    "start_time": "2022-07-25T19:31:29.619Z"
   },
   {
    "duration": 20,
    "start_time": "2022-07-25T19:31:29.646Z"
   },
   {
    "duration": 9,
    "start_time": "2022-07-25T19:31:29.668Z"
   },
   {
    "duration": 6,
    "start_time": "2022-07-25T19:31:29.679Z"
   },
   {
    "duration": 12,
    "start_time": "2022-07-25T19:31:29.687Z"
   },
   {
    "duration": 15,
    "start_time": "2022-07-25T19:31:29.701Z"
   },
   {
    "duration": 9,
    "start_time": "2022-07-25T19:31:29.717Z"
   },
   {
    "duration": 14,
    "start_time": "2022-07-25T19:31:29.727Z"
   },
   {
    "duration": 22,
    "start_time": "2022-07-25T19:31:29.743Z"
   },
   {
    "duration": 16,
    "start_time": "2022-07-25T19:31:29.767Z"
   },
   {
    "duration": 28,
    "start_time": "2022-07-25T19:31:29.785Z"
   },
   {
    "duration": 11,
    "start_time": "2022-07-25T19:31:29.814Z"
   },
   {
    "duration": 79,
    "start_time": "2022-07-25T19:31:29.826Z"
   },
   {
    "duration": 5,
    "start_time": "2022-07-25T19:31:29.907Z"
   },
   {
    "duration": 10,
    "start_time": "2022-07-25T19:31:29.913Z"
   },
   {
    "duration": 7,
    "start_time": "2022-07-25T19:31:29.925Z"
   },
   {
    "duration": 13,
    "start_time": "2022-07-25T19:31:29.936Z"
   },
   {
    "duration": 200,
    "start_time": "2022-07-25T19:31:29.951Z"
   },
   {
    "duration": 323,
    "start_time": "2022-07-25T19:31:30.153Z"
   },
   {
    "duration": 5,
    "start_time": "2022-07-25T19:31:30.481Z"
   },
   {
    "duration": 12,
    "start_time": "2022-07-25T19:31:30.488Z"
   },
   {
    "duration": 20,
    "start_time": "2022-07-25T19:31:30.502Z"
   },
   {
    "duration": 12,
    "start_time": "2022-07-25T19:31:30.524Z"
   },
   {
    "duration": 33,
    "start_time": "2022-07-25T19:31:30.541Z"
   },
   {
    "duration": 80,
    "start_time": "2022-07-25T19:31:30.576Z"
   },
   {
    "duration": 8,
    "start_time": "2022-07-25T19:31:30.659Z"
   },
   {
    "duration": 11,
    "start_time": "2022-07-25T19:31:30.669Z"
   },
   {
    "duration": 6,
    "start_time": "2022-07-25T19:31:30.681Z"
   },
   {
    "duration": 81,
    "start_time": "2022-07-25T19:31:30.689Z"
   },
   {
    "duration": 12,
    "start_time": "2022-07-25T19:31:30.772Z"
   },
   {
    "duration": 18,
    "start_time": "2022-07-25T19:31:30.838Z"
   },
   {
    "duration": 682,
    "start_time": "2022-07-25T19:31:30.858Z"
   },
   {
    "duration": 8,
    "start_time": "2022-07-25T19:31:31.541Z"
   },
   {
    "duration": 13,
    "start_time": "2022-07-25T19:31:31.551Z"
   },
   {
    "duration": 991,
    "start_time": "2022-07-25T19:31:31.565Z"
   },
   {
    "duration": 8,
    "start_time": "2022-07-25T19:31:32.558Z"
   },
   {
    "duration": 265,
    "start_time": "2022-07-25T19:31:32.567Z"
   },
   {
    "duration": 284,
    "start_time": "2022-07-25T19:31:32.836Z"
   },
   {
    "duration": 398,
    "start_time": "2022-07-25T19:31:33.122Z"
   },
   {
    "duration": 7,
    "start_time": "2022-07-25T19:31:33.521Z"
   },
   {
    "duration": 12,
    "start_time": "2022-07-25T19:31:33.538Z"
   },
   {
    "duration": 213,
    "start_time": "2022-07-25T19:31:33.552Z"
   },
   {
    "duration": 499,
    "start_time": "2022-07-25T19:31:33.767Z"
   },
   {
    "duration": 218,
    "start_time": "2022-07-25T19:31:34.268Z"
   },
   {
    "duration": 9,
    "start_time": "2022-07-25T19:31:34.488Z"
   },
   {
    "duration": 294,
    "start_time": "2022-07-25T19:31:34.498Z"
   },
   {
    "duration": 207,
    "start_time": "2022-07-25T19:31:34.794Z"
   },
   {
    "duration": 337,
    "start_time": "2022-07-25T19:31:35.002Z"
   },
   {
    "duration": 320,
    "start_time": "2022-07-25T19:31:35.341Z"
   },
   {
    "duration": 9,
    "start_time": "2022-07-25T19:31:35.663Z"
   },
   {
    "duration": 564,
    "start_time": "2022-07-25T19:31:35.673Z"
   },
   {
    "duration": 12,
    "start_time": "2022-07-25T19:31:36.239Z"
   },
   {
    "duration": 515,
    "start_time": "2022-07-25T19:31:36.253Z"
   },
   {
    "duration": 9,
    "start_time": "2022-07-25T19:31:36.770Z"
   },
   {
    "duration": 697,
    "start_time": "2022-07-25T19:31:36.780Z"
   },
   {
    "duration": 159,
    "start_time": "2022-07-25T19:31:37.480Z"
   },
   {
    "duration": 11,
    "start_time": "2022-07-25T19:31:37.642Z"
   },
   {
    "duration": 13,
    "start_time": "2022-07-25T19:31:37.655Z"
   },
   {
    "duration": 392,
    "start_time": "2022-07-25T19:31:37.670Z"
   },
   {
    "duration": 9,
    "start_time": "2022-07-25T19:31:38.064Z"
   },
   {
    "duration": 603,
    "start_time": "2022-07-25T19:31:38.075Z"
   },
   {
    "duration": 1292,
    "start_time": "2022-07-25T19:31:38.686Z"
   },
   {
    "duration": 6,
    "start_time": "2022-07-25T19:31:39.980Z"
   },
   {
    "duration": 12,
    "start_time": "2022-07-25T19:31:39.987Z"
   },
   {
    "duration": 288,
    "start_time": "2022-07-25T19:31:40.000Z"
   },
   {
    "duration": 8,
    "start_time": "2022-07-25T19:31:40.289Z"
   },
   {
    "duration": 197,
    "start_time": "2022-07-25T19:31:40.298Z"
   },
   {
    "duration": 4,
    "start_time": "2022-07-25T19:31:40.497Z"
   },
   {
    "duration": 670,
    "start_time": "2022-07-25T19:31:40.503Z"
   },
   {
    "duration": 396,
    "start_time": "2022-07-25T19:31:41.175Z"
   },
   {
    "duration": 389,
    "start_time": "2022-07-25T19:31:41.573Z"
   },
   {
    "duration": 382,
    "start_time": "2022-07-25T19:31:41.964Z"
   },
   {
    "duration": 267,
    "start_time": "2022-07-25T19:31:42.348Z"
   },
   {
    "duration": 176,
    "start_time": "2022-07-25T19:31:42.620Z"
   },
   {
    "duration": 206,
    "start_time": "2022-07-25T19:31:42.797Z"
   },
   {
    "duration": 8,
    "start_time": "2022-07-25T19:31:43.005Z"
   },
   {
    "duration": 42,
    "start_time": "2022-07-25T19:31:43.014Z"
   },
   {
    "duration": 198,
    "start_time": "2022-07-25T19:31:43.058Z"
   },
   {
    "duration": 62,
    "start_time": "2022-07-26T05:44:47.981Z"
   },
   {
    "duration": 923,
    "start_time": "2022-07-26T05:44:57.772Z"
   },
   {
    "duration": 219,
    "start_time": "2022-07-26T05:44:58.698Z"
   },
   {
    "duration": 23,
    "start_time": "2022-07-26T05:44:58.919Z"
   },
   {
    "duration": 2357,
    "start_time": "2022-07-26T05:44:58.945Z"
   },
   {
    "duration": 2226,
    "start_time": "2022-07-26T05:45:01.305Z"
   },
   {
    "duration": 6,
    "start_time": "2022-07-26T05:45:03.533Z"
   },
   {
    "duration": 17,
    "start_time": "2022-07-26T05:45:03.541Z"
   },
   {
    "duration": 21,
    "start_time": "2022-07-26T05:45:03.561Z"
   },
   {
    "duration": 10,
    "start_time": "2022-07-26T05:45:03.584Z"
   },
   {
    "duration": 15,
    "start_time": "2022-07-26T05:45:03.596Z"
   },
   {
    "duration": 20,
    "start_time": "2022-07-26T05:45:03.613Z"
   },
   {
    "duration": 18,
    "start_time": "2022-07-26T05:45:03.635Z"
   },
   {
    "duration": 19,
    "start_time": "2022-07-26T05:45:03.654Z"
   },
   {
    "duration": 10,
    "start_time": "2022-07-26T05:45:03.675Z"
   },
   {
    "duration": 9,
    "start_time": "2022-07-26T05:45:03.687Z"
   },
   {
    "duration": 12,
    "start_time": "2022-07-26T05:45:03.697Z"
   },
   {
    "duration": 10,
    "start_time": "2022-07-26T05:45:03.711Z"
   },
   {
    "duration": 28,
    "start_time": "2022-07-26T05:45:03.723Z"
   },
   {
    "duration": 7,
    "start_time": "2022-07-26T05:45:03.753Z"
   },
   {
    "duration": 106,
    "start_time": "2022-07-26T05:45:03.762Z"
   },
   {
    "duration": 5,
    "start_time": "2022-07-26T05:45:03.870Z"
   },
   {
    "duration": 6,
    "start_time": "2022-07-26T05:45:03.877Z"
   },
   {
    "duration": 11,
    "start_time": "2022-07-26T05:45:03.885Z"
   },
   {
    "duration": 20,
    "start_time": "2022-07-26T05:45:03.898Z"
   },
   {
    "duration": 209,
    "start_time": "2022-07-26T05:45:03.919Z"
   },
   {
    "duration": 364,
    "start_time": "2022-07-26T05:45:04.130Z"
   },
   {
    "duration": 6,
    "start_time": "2022-07-26T05:45:04.495Z"
   },
   {
    "duration": 10,
    "start_time": "2022-07-26T05:45:04.510Z"
   },
   {
    "duration": 16,
    "start_time": "2022-07-26T05:45:04.522Z"
   },
   {
    "duration": 26,
    "start_time": "2022-07-26T05:45:04.540Z"
   },
   {
    "duration": 55,
    "start_time": "2022-07-26T05:45:04.568Z"
   },
   {
    "duration": 11,
    "start_time": "2022-07-26T05:45:04.624Z"
   },
   {
    "duration": 17,
    "start_time": "2022-07-26T05:45:04.636Z"
   },
   {
    "duration": 18,
    "start_time": "2022-07-26T05:45:04.655Z"
   },
   {
    "duration": 19,
    "start_time": "2022-07-26T05:45:04.674Z"
   },
   {
    "duration": 16,
    "start_time": "2022-07-26T05:45:04.695Z"
   },
   {
    "duration": 33,
    "start_time": "2022-07-26T05:45:04.713Z"
   },
   {
    "duration": 15,
    "start_time": "2022-07-26T05:45:04.748Z"
   },
   {
    "duration": 15,
    "start_time": "2022-07-26T05:45:04.765Z"
   },
   {
    "duration": 336,
    "start_time": "2022-07-26T05:45:04.782Z"
   },
   {
    "duration": 6,
    "start_time": "2022-07-26T05:45:05.120Z"
   },
   {
    "duration": 18,
    "start_time": "2022-07-26T05:45:05.128Z"
   },
   {
    "duration": 528,
    "start_time": "2022-07-26T05:45:05.148Z"
   },
   {
    "duration": 9,
    "start_time": "2022-07-26T05:45:05.678Z"
   },
   {
    "duration": 275,
    "start_time": "2022-07-26T05:45:05.689Z"
   },
   {
    "duration": 305,
    "start_time": "2022-07-26T05:45:05.966Z"
   },
   {
    "duration": 419,
    "start_time": "2022-07-26T05:45:06.273Z"
   },
   {
    "duration": 16,
    "start_time": "2022-07-26T05:45:06.694Z"
   },
   {
    "duration": 10,
    "start_time": "2022-07-26T05:45:06.712Z"
   },
   {
    "duration": 216,
    "start_time": "2022-07-26T05:45:06.723Z"
   },
   {
    "duration": 538,
    "start_time": "2022-07-26T05:45:06.941Z"
   },
   {
    "duration": 232,
    "start_time": "2022-07-26T05:45:07.481Z"
   },
   {
    "duration": 10,
    "start_time": "2022-07-26T05:45:07.714Z"
   },
   {
    "duration": 310,
    "start_time": "2022-07-26T05:45:07.726Z"
   },
   {
    "duration": 222,
    "start_time": "2022-07-26T05:45:08.038Z"
   },
   {
    "duration": 326,
    "start_time": "2022-07-26T05:45:08.262Z"
   },
   {
    "duration": 160,
    "start_time": "2022-07-26T05:45:08.590Z"
   },
   {
    "duration": 11,
    "start_time": "2022-07-26T05:45:08.752Z"
   },
   {
    "duration": 280,
    "start_time": "2022-07-26T05:45:08.765Z"
   },
   {
    "duration": 12,
    "start_time": "2022-07-26T05:45:09.046Z"
   },
   {
    "duration": 284,
    "start_time": "2022-07-26T05:45:09.060Z"
   },
   {
    "duration": 11,
    "start_time": "2022-07-26T05:45:09.346Z"
   },
   {
    "duration": 410,
    "start_time": "2022-07-26T05:45:09.358Z"
   },
   {
    "duration": 158,
    "start_time": "2022-07-26T05:45:09.770Z"
   },
   {
    "duration": 5,
    "start_time": "2022-07-26T05:45:09.930Z"
   },
   {
    "duration": 9,
    "start_time": "2022-07-26T05:45:09.937Z"
   },
   {
    "duration": 202,
    "start_time": "2022-07-26T05:45:09.948Z"
   },
   {
    "duration": 10,
    "start_time": "2022-07-26T05:45:10.151Z"
   },
   {
    "duration": 283,
    "start_time": "2022-07-26T05:45:10.163Z"
   },
   {
    "duration": 609,
    "start_time": "2022-07-26T05:45:10.448Z"
   },
   {
    "duration": 6,
    "start_time": "2022-07-26T05:45:11.059Z"
   },
   {
    "duration": 14,
    "start_time": "2022-07-26T05:45:11.067Z"
   },
   {
    "duration": 287,
    "start_time": "2022-07-26T05:45:11.083Z"
   },
   {
    "duration": 8,
    "start_time": "2022-07-26T05:45:11.372Z"
   },
   {
    "duration": 200,
    "start_time": "2022-07-26T05:45:11.381Z"
   },
   {
    "duration": 5,
    "start_time": "2022-07-26T05:45:11.583Z"
   },
   {
    "duration": 362,
    "start_time": "2022-07-26T05:45:11.589Z"
   },
   {
    "duration": 231,
    "start_time": "2022-07-26T05:45:11.953Z"
   },
   {
    "duration": 178,
    "start_time": "2022-07-26T05:45:12.186Z"
   },
   {
    "duration": 183,
    "start_time": "2022-07-26T05:45:12.365Z"
   },
   {
    "duration": 180,
    "start_time": "2022-07-26T05:45:12.549Z"
   },
   {
    "duration": 183,
    "start_time": "2022-07-26T05:45:12.735Z"
   },
   {
    "duration": 206,
    "start_time": "2022-07-26T05:45:12.919Z"
   },
   {
    "duration": 8,
    "start_time": "2022-07-26T05:45:13.128Z"
   },
   {
    "duration": 27,
    "start_time": "2022-07-26T05:45:13.138Z"
   },
   {
    "duration": 216,
    "start_time": "2022-07-26T05:45:13.167Z"
   },
   {
    "duration": 337,
    "start_time": "2022-07-26T05:45:31.249Z"
   },
   {
    "duration": 328,
    "start_time": "2022-07-26T05:45:39.480Z"
   },
   {
    "duration": 339,
    "start_time": "2022-07-26T05:45:45.448Z"
   },
   {
    "duration": 342,
    "start_time": "2022-07-26T05:45:52.013Z"
   },
   {
    "duration": 91,
    "start_time": "2022-07-26T05:46:01.147Z"
   },
   {
    "duration": 343,
    "start_time": "2022-07-26T05:46:07.002Z"
   },
   {
    "duration": 351,
    "start_time": "2022-07-26T05:46:11.174Z"
   },
   {
    "duration": 82,
    "start_time": "2022-07-26T05:47:56.365Z"
   },
   {
    "duration": 5,
    "start_time": "2022-07-26T05:48:03.321Z"
   },
   {
    "duration": 11,
    "start_time": "2022-07-26T05:48:09.859Z"
   },
   {
    "duration": 5,
    "start_time": "2022-07-26T05:48:11.522Z"
   },
   {
    "duration": 7,
    "start_time": "2022-07-26T05:48:19.253Z"
   },
   {
    "duration": 5,
    "start_time": "2022-07-26T05:48:21.409Z"
   },
   {
    "duration": 8,
    "start_time": "2022-07-26T05:48:24.717Z"
   },
   {
    "duration": 5,
    "start_time": "2022-07-26T05:48:25.994Z"
   },
   {
    "duration": 13,
    "start_time": "2022-07-26T05:49:20.535Z"
   },
   {
    "duration": 174,
    "start_time": "2022-07-26T05:49:23.883Z"
   },
   {
    "duration": 10,
    "start_time": "2022-07-26T05:49:45.493Z"
   },
   {
    "duration": 4,
    "start_time": "2022-07-26T05:49:46.302Z"
   },
   {
    "duration": 4,
    "start_time": "2022-07-26T05:50:01.180Z"
   },
   {
    "duration": 11,
    "start_time": "2022-07-26T05:50:30.653Z"
   },
   {
    "duration": 3,
    "start_time": "2022-07-26T05:50:32.504Z"
   },
   {
    "duration": 4,
    "start_time": "2022-07-26T05:50:52.856Z"
   },
   {
    "duration": 5,
    "start_time": "2022-07-26T05:52:57.226Z"
   },
   {
    "duration": 201,
    "start_time": "2022-07-26T05:53:06.437Z"
   },
   {
    "duration": 171,
    "start_time": "2022-07-26T05:53:10.714Z"
   },
   {
    "duration": 7,
    "start_time": "2022-07-26T05:54:37.409Z"
   },
   {
    "duration": 5,
    "start_time": "2022-07-26T05:54:45.446Z"
   },
   {
    "duration": 6,
    "start_time": "2022-07-26T05:57:10.695Z"
   },
   {
    "duration": 5,
    "start_time": "2022-07-26T05:58:49.366Z"
   },
   {
    "duration": 6,
    "start_time": "2022-07-26T05:59:00.871Z"
   },
   {
    "duration": 5910,
    "start_time": "2022-07-26T06:56:12.509Z"
   },
   {
    "duration": 21,
    "start_time": "2022-07-26T06:56:51.548Z"
   },
   {
    "duration": 237,
    "start_time": "2022-07-26T06:57:10.273Z"
   },
   {
    "duration": 27,
    "start_time": "2022-07-26T06:57:19.665Z"
   },
   {
    "duration": 78,
    "start_time": "2022-07-26T07:02:42.762Z"
   },
   {
    "duration": 91,
    "start_time": "2022-07-26T07:03:06.386Z"
   },
   {
    "duration": 81,
    "start_time": "2022-07-26T07:03:11.316Z"
   },
   {
    "duration": 79,
    "start_time": "2022-07-26T07:03:31.782Z"
   },
   {
    "duration": 85,
    "start_time": "2022-07-26T07:03:35.130Z"
   },
   {
    "duration": 75,
    "start_time": "2022-07-26T07:03:42.268Z"
   },
   {
    "duration": 74,
    "start_time": "2022-07-26T07:31:04.885Z"
   },
   {
    "duration": 945,
    "start_time": "2022-07-27T06:59:05.879Z"
   },
   {
    "duration": 331,
    "start_time": "2022-07-27T06:59:06.827Z"
   },
   {
    "duration": 27,
    "start_time": "2022-07-27T06:59:07.160Z"
   },
   {
    "duration": 2120,
    "start_time": "2022-07-27T06:59:07.190Z"
   },
   {
    "duration": 1932,
    "start_time": "2022-07-27T06:59:09.312Z"
   },
   {
    "duration": 4,
    "start_time": "2022-07-27T06:59:11.245Z"
   },
   {
    "duration": 14,
    "start_time": "2022-07-27T06:59:11.250Z"
   },
   {
    "duration": 18,
    "start_time": "2022-07-27T06:59:11.266Z"
   },
   {
    "duration": 6,
    "start_time": "2022-07-27T06:59:11.285Z"
   },
   {
    "duration": 6,
    "start_time": "2022-07-27T06:59:11.294Z"
   },
   {
    "duration": 7,
    "start_time": "2022-07-27T06:59:11.301Z"
   },
   {
    "duration": 7,
    "start_time": "2022-07-27T06:59:11.309Z"
   },
   {
    "duration": 10,
    "start_time": "2022-07-27T06:59:11.317Z"
   },
   {
    "duration": 15,
    "start_time": "2022-07-27T06:59:11.328Z"
   },
   {
    "duration": 24,
    "start_time": "2022-07-27T06:59:11.344Z"
   },
   {
    "duration": 9,
    "start_time": "2022-07-27T06:59:11.370Z"
   },
   {
    "duration": 4,
    "start_time": "2022-07-27T06:59:11.380Z"
   },
   {
    "duration": 6,
    "start_time": "2022-07-27T06:59:11.385Z"
   },
   {
    "duration": 31,
    "start_time": "2022-07-27T06:59:11.393Z"
   },
   {
    "duration": 4,
    "start_time": "2022-07-27T06:59:11.425Z"
   },
   {
    "duration": 108,
    "start_time": "2022-07-27T06:59:11.431Z"
   },
   {
    "duration": 6,
    "start_time": "2022-07-27T06:59:11.541Z"
   },
   {
    "duration": 9,
    "start_time": "2022-07-27T06:59:11.561Z"
   },
   {
    "duration": 13,
    "start_time": "2022-07-27T06:59:11.572Z"
   },
   {
    "duration": 11,
    "start_time": "2022-07-27T06:59:11.587Z"
   },
   {
    "duration": 193,
    "start_time": "2022-07-27T06:59:11.600Z"
   },
   {
    "duration": 305,
    "start_time": "2022-07-27T06:59:11.795Z"
   },
   {
    "duration": 4,
    "start_time": "2022-07-27T06:59:12.105Z"
   },
   {
    "duration": 6,
    "start_time": "2022-07-27T06:59:12.111Z"
   },
   {
    "duration": 10,
    "start_time": "2022-07-27T06:59:12.118Z"
   },
   {
    "duration": 9,
    "start_time": "2022-07-27T06:59:12.129Z"
   },
   {
    "duration": 21,
    "start_time": "2022-07-27T06:59:12.140Z"
   },
   {
    "duration": 39,
    "start_time": "2022-07-27T06:59:12.163Z"
   },
   {
    "duration": 8,
    "start_time": "2022-07-27T06:59:12.204Z"
   },
   {
    "duration": 6,
    "start_time": "2022-07-27T06:59:12.213Z"
   },
   {
    "duration": 9,
    "start_time": "2022-07-27T06:59:12.221Z"
   },
   {
    "duration": 52,
    "start_time": "2022-07-27T06:59:12.231Z"
   },
   {
    "duration": 11,
    "start_time": "2022-07-27T06:59:12.284Z"
   },
   {
    "duration": 11,
    "start_time": "2022-07-27T06:59:12.297Z"
   },
   {
    "duration": 305,
    "start_time": "2022-07-27T06:59:12.310Z"
   },
   {
    "duration": 5,
    "start_time": "2022-07-27T06:59:12.617Z"
   },
   {
    "duration": 14,
    "start_time": "2022-07-27T06:59:12.624Z"
   },
   {
    "duration": 469,
    "start_time": "2022-07-27T06:59:12.639Z"
   },
   {
    "duration": 8,
    "start_time": "2022-07-27T06:59:13.110Z"
   },
   {
    "duration": 263,
    "start_time": "2022-07-27T06:59:13.120Z"
   },
   {
    "duration": 264,
    "start_time": "2022-07-27T06:59:13.385Z"
   },
   {
    "duration": 388,
    "start_time": "2022-07-27T06:59:13.651Z"
   },
   {
    "duration": 7,
    "start_time": "2022-07-27T06:59:14.041Z"
   },
   {
    "duration": 23,
    "start_time": "2022-07-27T06:59:14.060Z"
   },
   {
    "duration": 182,
    "start_time": "2022-07-27T06:59:14.085Z"
   },
   {
    "duration": 528,
    "start_time": "2022-07-27T06:59:14.269Z"
   },
   {
    "duration": 207,
    "start_time": "2022-07-27T06:59:14.798Z"
   },
   {
    "duration": 9,
    "start_time": "2022-07-27T06:59:15.007Z"
   },
   {
    "duration": 282,
    "start_time": "2022-07-27T06:59:15.017Z"
   },
   {
    "duration": 197,
    "start_time": "2022-07-27T06:59:15.301Z"
   },
   {
    "duration": 300,
    "start_time": "2022-07-27T06:59:15.500Z"
   },
   {
    "duration": 143,
    "start_time": "2022-07-27T06:59:15.801Z"
   },
   {
    "duration": 16,
    "start_time": "2022-07-27T06:59:15.945Z"
   },
   {
    "duration": 236,
    "start_time": "2022-07-27T06:59:15.962Z"
   },
   {
    "duration": 13,
    "start_time": "2022-07-27T06:59:16.200Z"
   },
   {
    "duration": 323,
    "start_time": "2022-07-27T06:59:16.215Z"
   },
   {
    "duration": 14,
    "start_time": "2022-07-27T06:59:16.540Z"
   },
   {
    "duration": 387,
    "start_time": "2022-07-27T06:59:16.561Z"
   },
   {
    "duration": 165,
    "start_time": "2022-07-27T06:59:16.950Z"
   },
   {
    "duration": 5,
    "start_time": "2022-07-27T06:59:17.116Z"
   },
   {
    "duration": 12,
    "start_time": "2022-07-27T06:59:17.122Z"
   },
   {
    "duration": 181,
    "start_time": "2022-07-27T06:59:17.136Z"
   },
   {
    "duration": 10,
    "start_time": "2022-07-27T06:59:17.318Z"
   },
   {
    "duration": 252,
    "start_time": "2022-07-27T06:59:17.330Z"
   },
   {
    "duration": 551,
    "start_time": "2022-07-27T06:59:17.584Z"
   },
   {
    "duration": 7,
    "start_time": "2022-07-27T06:59:18.137Z"
   },
   {
    "duration": 19,
    "start_time": "2022-07-27T06:59:18.146Z"
   },
   {
    "duration": 274,
    "start_time": "2022-07-27T06:59:18.167Z"
   },
   {
    "duration": 11,
    "start_time": "2022-07-27T06:59:18.443Z"
   },
   {
    "duration": 23,
    "start_time": "2022-07-27T06:59:18.460Z"
   },
   {
    "duration": 168,
    "start_time": "2022-07-27T06:59:18.485Z"
   },
   {
    "duration": 8,
    "start_time": "2022-07-27T06:59:18.655Z"
   },
   {
    "duration": 22,
    "start_time": "2022-07-27T06:59:18.664Z"
   },
   {
    "duration": 333,
    "start_time": "2022-07-27T06:59:18.688Z"
   },
   {
    "duration": 5,
    "start_time": "2022-07-27T06:59:19.022Z"
   },
   {
    "duration": 172,
    "start_time": "2022-07-27T06:59:19.029Z"
   },
   {
    "duration": 5,
    "start_time": "2022-07-27T06:59:19.206Z"
   },
   {
    "duration": 183,
    "start_time": "2022-07-27T06:59:19.212Z"
   },
   {
    "duration": 157,
    "start_time": "2022-07-27T06:59:19.396Z"
   },
   {
    "duration": 169,
    "start_time": "2022-07-27T06:59:19.554Z"
   },
   {
    "duration": 169,
    "start_time": "2022-07-27T06:59:19.724Z"
   },
   {
    "duration": 183,
    "start_time": "2022-07-27T06:59:19.895Z"
   },
   {
    "duration": 8,
    "start_time": "2022-07-27T06:59:20.080Z"
   },
   {
    "duration": 31,
    "start_time": "2022-07-27T06:59:20.090Z"
   },
   {
    "duration": 213,
    "start_time": "2022-07-27T06:59:20.123Z"
   },
   {
    "duration": 199,
    "start_time": "2022-07-27T06:59:20.338Z"
   },
   {
    "duration": 4,
    "start_time": "2022-07-27T06:59:50.270Z"
   },
   {
    "duration": 5,
    "start_time": "2022-07-27T07:00:24.474Z"
   },
   {
    "duration": 7,
    "start_time": "2022-07-27T07:08:48.777Z"
   },
   {
    "duration": 15,
    "start_time": "2022-07-27T07:12:32.861Z"
   },
   {
    "duration": 191,
    "start_time": "2022-07-27T07:12:50.746Z"
   },
   {
    "duration": 12,
    "start_time": "2022-07-27T07:12:53.084Z"
   },
   {
    "duration": 4,
    "start_time": "2022-07-27T07:13:35.386Z"
   },
   {
    "duration": 144,
    "start_time": "2022-07-27T07:13:35.393Z"
   },
   {
    "duration": 23,
    "start_time": "2022-07-27T07:13:35.539Z"
   },
   {
    "duration": 2229,
    "start_time": "2022-07-27T07:13:35.564Z"
   },
   {
    "duration": 2253,
    "start_time": "2022-07-27T07:13:37.795Z"
   },
   {
    "duration": 5,
    "start_time": "2022-07-27T07:13:40.049Z"
   },
   {
    "duration": 54,
    "start_time": "2022-07-27T07:13:40.061Z"
   },
   {
    "duration": 41,
    "start_time": "2022-07-27T07:13:40.117Z"
   },
   {
    "duration": 33,
    "start_time": "2022-07-27T07:13:40.160Z"
   },
   {
    "duration": 11,
    "start_time": "2022-07-27T07:13:40.195Z"
   },
   {
    "duration": 8,
    "start_time": "2022-07-27T07:13:40.208Z"
   },
   {
    "duration": 5,
    "start_time": "2022-07-27T07:13:40.218Z"
   },
   {
    "duration": 11,
    "start_time": "2022-07-27T07:13:40.225Z"
   },
   {
    "duration": 14,
    "start_time": "2022-07-27T07:13:40.238Z"
   },
   {
    "duration": 15,
    "start_time": "2022-07-27T07:13:40.261Z"
   },
   {
    "duration": 21,
    "start_time": "2022-07-27T07:13:40.278Z"
   },
   {
    "duration": 7,
    "start_time": "2022-07-27T07:13:40.302Z"
   },
   {
    "duration": 10,
    "start_time": "2022-07-27T07:13:40.310Z"
   },
   {
    "duration": 52,
    "start_time": "2022-07-27T07:13:40.322Z"
   },
   {
    "duration": 20,
    "start_time": "2022-07-27T07:13:40.377Z"
   },
   {
    "duration": 94,
    "start_time": "2022-07-27T07:13:40.399Z"
   },
   {
    "duration": 10,
    "start_time": "2022-07-27T07:13:40.496Z"
   },
   {
    "duration": 17,
    "start_time": "2022-07-27T07:13:40.508Z"
   },
   {
    "duration": 9,
    "start_time": "2022-07-27T07:13:40.527Z"
   },
   {
    "duration": 12,
    "start_time": "2022-07-27T07:13:40.539Z"
   },
   {
    "duration": 251,
    "start_time": "2022-07-27T07:13:40.553Z"
   },
   {
    "duration": 343,
    "start_time": "2022-07-27T07:13:40.806Z"
   },
   {
    "duration": 12,
    "start_time": "2022-07-27T07:13:41.151Z"
   },
   {
    "duration": 22,
    "start_time": "2022-07-27T07:13:41.168Z"
   },
   {
    "duration": 6,
    "start_time": "2022-07-27T07:13:41.203Z"
   },
   {
    "duration": 11,
    "start_time": "2022-07-27T07:13:41.211Z"
   },
   {
    "duration": 20,
    "start_time": "2022-07-27T07:13:41.224Z"
   },
   {
    "duration": 61,
    "start_time": "2022-07-27T07:13:41.246Z"
   },
   {
    "duration": 9,
    "start_time": "2022-07-27T07:13:41.309Z"
   },
   {
    "duration": 6,
    "start_time": "2022-07-27T07:13:41.319Z"
   },
   {
    "duration": 5,
    "start_time": "2022-07-27T07:13:41.328Z"
   },
   {
    "duration": 68,
    "start_time": "2022-07-27T07:13:41.335Z"
   },
   {
    "duration": 20,
    "start_time": "2022-07-27T07:13:41.406Z"
   },
   {
    "duration": 39,
    "start_time": "2022-07-27T07:13:41.428Z"
   },
   {
    "duration": 379,
    "start_time": "2022-07-27T07:13:41.470Z"
   },
   {
    "duration": 11,
    "start_time": "2022-07-27T07:13:41.851Z"
   },
   {
    "duration": 33,
    "start_time": "2022-07-27T07:13:41.863Z"
   },
   {
    "duration": 698,
    "start_time": "2022-07-27T07:13:41.898Z"
   },
   {
    "duration": 13,
    "start_time": "2022-07-27T07:13:42.598Z"
   },
   {
    "duration": 414,
    "start_time": "2022-07-27T07:13:42.614Z"
   },
   {
    "duration": 388,
    "start_time": "2022-07-27T07:13:43.030Z"
   },
   {
    "duration": 741,
    "start_time": "2022-07-27T07:13:43.420Z"
   },
   {
    "duration": 11,
    "start_time": "2022-07-27T07:13:44.164Z"
   },
   {
    "duration": 48,
    "start_time": "2022-07-27T07:13:44.178Z"
   },
   {
    "duration": 266,
    "start_time": "2022-07-27T07:13:44.228Z"
   },
   {
    "duration": 454,
    "start_time": "2022-07-27T07:13:44.496Z"
   },
   {
    "duration": 250,
    "start_time": "2022-07-27T07:13:44.951Z"
   },
   {
    "duration": 14,
    "start_time": "2022-07-27T07:13:45.203Z"
   },
   {
    "duration": 381,
    "start_time": "2022-07-27T07:13:45.219Z"
   },
   {
    "duration": 222,
    "start_time": "2022-07-27T07:13:45.602Z"
   },
   {
    "duration": 338,
    "start_time": "2022-07-27T07:13:45.826Z"
   },
   {
    "duration": 199,
    "start_time": "2022-07-27T07:13:46.166Z"
   },
   {
    "duration": 17,
    "start_time": "2022-07-27T07:13:46.369Z"
   },
   {
    "duration": 700,
    "start_time": "2022-07-27T07:13:46.388Z"
   },
   {
    "duration": 15,
    "start_time": "2022-07-27T07:13:47.090Z"
   },
   {
    "duration": 315,
    "start_time": "2022-07-27T07:13:47.108Z"
   },
   {
    "duration": 10,
    "start_time": "2022-07-27T07:13:47.425Z"
   },
   {
    "duration": 342,
    "start_time": "2022-07-27T07:13:47.437Z"
   },
   {
    "duration": 219,
    "start_time": "2022-07-27T07:13:47.782Z"
   },
   {
    "duration": 7,
    "start_time": "2022-07-27T07:13:48.003Z"
   },
   {
    "duration": 16,
    "start_time": "2022-07-27T07:13:48.013Z"
   },
   {
    "duration": 285,
    "start_time": "2022-07-27T07:13:48.032Z"
   },
   {
    "duration": 14,
    "start_time": "2022-07-27T07:13:48.319Z"
   },
   {
    "duration": 405,
    "start_time": "2022-07-27T07:13:48.336Z"
   },
   {
    "duration": 934,
    "start_time": "2022-07-27T07:13:48.744Z"
   },
   {
    "duration": 9,
    "start_time": "2022-07-27T07:13:49.681Z"
   },
   {
    "duration": 15,
    "start_time": "2022-07-27T07:13:49.692Z"
   },
   {
    "duration": 459,
    "start_time": "2022-07-27T07:13:49.710Z"
   },
   {
    "duration": 16,
    "start_time": "2022-07-27T07:13:50.172Z"
   },
   {
    "duration": 8,
    "start_time": "2022-07-27T07:13:50.190Z"
   },
   {
    "duration": 270,
    "start_time": "2022-07-27T07:13:50.201Z"
   },
   {
    "duration": 7,
    "start_time": "2022-07-27T07:13:50.473Z"
   },
   {
    "duration": 18,
    "start_time": "2022-07-27T07:13:50.481Z"
   },
   {
    "duration": 292,
    "start_time": "2022-07-27T07:13:50.501Z"
   },
   {
    "duration": 6,
    "start_time": "2022-07-27T07:13:50.796Z"
   },
   {
    "duration": 267,
    "start_time": "2022-07-27T07:13:50.805Z"
   },
   {
    "duration": 8,
    "start_time": "2022-07-27T07:13:51.074Z"
   },
   {
    "duration": 291,
    "start_time": "2022-07-27T07:13:51.085Z"
   },
   {
    "duration": 247,
    "start_time": "2022-07-27T07:13:51.379Z"
   },
   {
    "duration": 10,
    "start_time": "2022-07-27T07:13:51.628Z"
   },
   {
    "duration": 285,
    "start_time": "2022-07-27T07:13:51.641Z"
   },
   {
    "duration": 268,
    "start_time": "2022-07-27T07:13:51.928Z"
   },
   {
    "duration": 284,
    "start_time": "2022-07-27T07:13:52.199Z"
   },
   {
    "duration": 12,
    "start_time": "2022-07-27T07:13:52.485Z"
   },
   {
    "duration": 42,
    "start_time": "2022-07-27T07:13:52.499Z"
   },
   {
    "duration": 286,
    "start_time": "2022-07-27T07:13:52.543Z"
   },
   {
    "duration": 254,
    "start_time": "2022-07-27T07:13:52.832Z"
   },
   {
    "duration": 811,
    "start_time": "2022-07-27T09:00:43.331Z"
   },
   {
    "duration": 164,
    "start_time": "2022-07-27T09:00:44.145Z"
   },
   {
    "duration": 20,
    "start_time": "2022-07-27T09:00:44.311Z"
   },
   {
    "duration": 2435,
    "start_time": "2022-07-27T09:00:44.334Z"
   },
   {
    "duration": 2294,
    "start_time": "2022-07-27T09:00:46.774Z"
   },
   {
    "duration": 7,
    "start_time": "2022-07-27T09:00:49.074Z"
   },
   {
    "duration": 28,
    "start_time": "2022-07-27T09:00:49.083Z"
   },
   {
    "duration": 12,
    "start_time": "2022-07-27T09:00:49.113Z"
   },
   {
    "duration": 14,
    "start_time": "2022-07-27T09:00:49.127Z"
   },
   {
    "duration": 10,
    "start_time": "2022-07-27T09:00:49.143Z"
   },
   {
    "duration": 34,
    "start_time": "2022-07-27T09:00:49.155Z"
   },
   {
    "duration": 28,
    "start_time": "2022-07-27T09:00:49.191Z"
   },
   {
    "duration": 26,
    "start_time": "2022-07-27T09:00:49.220Z"
   },
   {
    "duration": 26,
    "start_time": "2022-07-27T09:00:49.250Z"
   },
   {
    "duration": 47,
    "start_time": "2022-07-27T09:00:49.277Z"
   },
   {
    "duration": 13,
    "start_time": "2022-07-27T09:00:49.325Z"
   },
   {
    "duration": 13,
    "start_time": "2022-07-27T09:00:49.340Z"
   },
   {
    "duration": 53,
    "start_time": "2022-07-27T09:00:49.355Z"
   },
   {
    "duration": 38,
    "start_time": "2022-07-27T09:00:49.410Z"
   },
   {
    "duration": 13,
    "start_time": "2022-07-27T09:00:49.450Z"
   },
   {
    "duration": 144,
    "start_time": "2022-07-27T09:00:49.465Z"
   },
   {
    "duration": 5,
    "start_time": "2022-07-27T09:00:49.611Z"
   },
   {
    "duration": 8,
    "start_time": "2022-07-27T09:00:49.619Z"
   },
   {
    "duration": 22,
    "start_time": "2022-07-27T09:00:49.629Z"
   },
   {
    "duration": 53,
    "start_time": "2022-07-27T09:00:49.653Z"
   },
   {
    "duration": 229,
    "start_time": "2022-07-27T09:00:49.709Z"
   },
   {
    "duration": 397,
    "start_time": "2022-07-27T09:00:49.939Z"
   },
   {
    "duration": 5,
    "start_time": "2022-07-27T09:00:50.338Z"
   },
   {
    "duration": 20,
    "start_time": "2022-07-27T09:00:50.345Z"
   },
   {
    "duration": 38,
    "start_time": "2022-07-27T09:00:50.369Z"
   },
   {
    "duration": 14,
    "start_time": "2022-07-27T09:00:50.409Z"
   },
   {
    "duration": 14,
    "start_time": "2022-07-27T09:00:50.425Z"
   },
   {
    "duration": 70,
    "start_time": "2022-07-27T09:00:50.441Z"
   },
   {
    "duration": 26,
    "start_time": "2022-07-27T09:00:50.513Z"
   },
   {
    "duration": 4,
    "start_time": "2022-07-27T09:00:50.541Z"
   },
   {
    "duration": 10,
    "start_time": "2022-07-27T09:00:50.547Z"
   },
   {
    "duration": 68,
    "start_time": "2022-07-27T09:00:50.559Z"
   },
   {
    "duration": 19,
    "start_time": "2022-07-27T09:00:50.629Z"
   },
   {
    "duration": 20,
    "start_time": "2022-07-27T09:00:50.650Z"
   },
   {
    "duration": 368,
    "start_time": "2022-07-27T09:00:50.672Z"
   },
   {
    "duration": 6,
    "start_time": "2022-07-27T09:00:51.045Z"
   },
   {
    "duration": 10,
    "start_time": "2022-07-27T09:00:51.063Z"
   },
   {
    "duration": 573,
    "start_time": "2022-07-27T09:00:51.074Z"
   },
   {
    "duration": 18,
    "start_time": "2022-07-27T09:00:51.649Z"
   },
   {
    "duration": 319,
    "start_time": "2022-07-27T09:00:51.671Z"
   },
   {
    "duration": 334,
    "start_time": "2022-07-27T09:00:51.992Z"
   },
   {
    "duration": 471,
    "start_time": "2022-07-27T09:00:52.328Z"
   },
   {
    "duration": 10,
    "start_time": "2022-07-27T09:00:52.801Z"
   },
   {
    "duration": 12,
    "start_time": "2022-07-27T09:00:52.813Z"
   },
   {
    "duration": 285,
    "start_time": "2022-07-27T09:00:52.827Z"
   },
   {
    "duration": 608,
    "start_time": "2022-07-27T09:00:53.114Z"
   },
   {
    "duration": 258,
    "start_time": "2022-07-27T09:00:53.723Z"
   },
   {
    "duration": 15,
    "start_time": "2022-07-27T09:00:53.983Z"
   },
   {
    "duration": 327,
    "start_time": "2022-07-27T09:00:54.000Z"
   },
   {
    "duration": 242,
    "start_time": "2022-07-27T09:00:54.329Z"
   },
   {
    "duration": 370,
    "start_time": "2022-07-27T09:00:54.574Z"
   },
   {
    "duration": 195,
    "start_time": "2022-07-27T09:00:54.946Z"
   },
   {
    "duration": 10,
    "start_time": "2022-07-27T09:00:55.143Z"
   },
   {
    "duration": 322,
    "start_time": "2022-07-27T09:00:55.163Z"
   },
   {
    "duration": 16,
    "start_time": "2022-07-27T09:00:55.488Z"
   },
   {
    "duration": 281,
    "start_time": "2022-07-27T09:00:55.507Z"
   },
   {
    "duration": 13,
    "start_time": "2022-07-27T09:00:55.792Z"
   },
   {
    "duration": 473,
    "start_time": "2022-07-27T09:00:55.807Z"
   },
   {
    "duration": 246,
    "start_time": "2022-07-27T09:00:56.282Z"
   },
   {
    "duration": 6,
    "start_time": "2022-07-27T09:00:56.530Z"
   },
   {
    "duration": 56,
    "start_time": "2022-07-27T09:00:56.538Z"
   },
   {
    "duration": 311,
    "start_time": "2022-07-27T09:00:56.597Z"
   },
   {
    "duration": 14,
    "start_time": "2022-07-27T09:00:56.910Z"
   },
   {
    "duration": 364,
    "start_time": "2022-07-27T09:00:56.927Z"
   },
   {
    "duration": 642,
    "start_time": "2022-07-27T09:00:57.295Z"
   },
   {
    "duration": 9,
    "start_time": "2022-07-27T09:00:57.938Z"
   },
   {
    "duration": 14,
    "start_time": "2022-07-27T09:00:57.964Z"
   },
   {
    "duration": 315,
    "start_time": "2022-07-27T09:00:57.980Z"
   },
   {
    "duration": 13,
    "start_time": "2022-07-27T09:00:58.298Z"
   },
   {
    "duration": 4,
    "start_time": "2022-07-27T09:00:58.313Z"
   },
   {
    "duration": 201,
    "start_time": "2022-07-27T09:00:58.319Z"
   },
   {
    "duration": 5,
    "start_time": "2022-07-27T09:00:58.522Z"
   },
   {
    "duration": 11,
    "start_time": "2022-07-27T09:00:58.529Z"
   },
   {
    "duration": 412,
    "start_time": "2022-07-27T09:00:58.542Z"
   },
   {
    "duration": 15,
    "start_time": "2022-07-27T09:00:58.956Z"
   },
   {
    "duration": 211,
    "start_time": "2022-07-27T09:00:58.973Z"
   },
   {
    "duration": 10,
    "start_time": "2022-07-27T09:00:59.186Z"
   },
   {
    "duration": 201,
    "start_time": "2022-07-27T09:00:59.198Z"
   },
   {
    "duration": 198,
    "start_time": "2022-07-27T09:00:59.401Z"
   },
   {
    "duration": 7,
    "start_time": "2022-07-27T09:00:59.601Z"
   },
   {
    "duration": 212,
    "start_time": "2022-07-27T09:00:59.610Z"
   },
   {
    "duration": 195,
    "start_time": "2022-07-27T09:00:59.824Z"
   },
   {
    "duration": 209,
    "start_time": "2022-07-27T09:01:00.021Z"
   },
   {
    "duration": 9,
    "start_time": "2022-07-27T09:01:00.231Z"
   },
   {
    "duration": 59,
    "start_time": "2022-07-27T09:01:00.242Z"
   },
   {
    "duration": 245,
    "start_time": "2022-07-27T09:01:00.303Z"
   },
   {
    "duration": 238,
    "start_time": "2022-07-27T09:01:00.549Z"
   }
  ],
  "celltoolbar": "Отсутствует",
  "kernelspec": {
   "display_name": "Python 3 (ipykernel)",
   "language": "python",
   "name": "python3"
  },
  "language_info": {
   "codemirror_mode": {
    "name": "ipython",
    "version": 3
   },
   "file_extension": ".py",
   "mimetype": "text/x-python",
   "name": "python",
   "nbconvert_exporter": "python",
   "pygments_lexer": "ipython3",
   "version": "3.9.12"
  },
  "toc": {
   "base_numbering": 1,
   "nav_menu": {},
   "number_sections": true,
   "sideBar": true,
   "skip_h1_title": true,
   "title_cell": "Table of Contents",
   "title_sidebar": "Contents",
   "toc_cell": false,
   "toc_position": {
    "height": "439.2px",
    "left": "26px",
    "top": "111.125px",
    "width": "286.219px"
   },
   "toc_section_display": true,
   "toc_window_display": true
  }
 },
 "nbformat": 4,
 "nbformat_minor": 2
}
